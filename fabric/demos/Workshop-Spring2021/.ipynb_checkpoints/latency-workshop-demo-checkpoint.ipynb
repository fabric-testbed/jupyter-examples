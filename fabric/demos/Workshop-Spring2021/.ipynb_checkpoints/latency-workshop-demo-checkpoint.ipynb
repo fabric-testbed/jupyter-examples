{
 "cells": [
  {
   "cell_type": "markdown",
   "metadata": {},
   "source": [
    "# FABRIC Experimenters Workshop: One-Way Delay\n",
    "\n",
    "## Experiment Description\n",
    "\n",
    "<img src=\"./figs/OneWayDelay.png\" width=\"50%\"><br>\n",
    "\n",
    "\n",
    "\n",
    "## Configure the Environment\n",
    "\n",
    "### Set the Refresh Token"
   ]
  },
  {
   "cell_type": "code",
   "execution_count": null,
   "metadata": {},
   "outputs": [],
   "source": [
    "import os\n",
    "#Retrieve or set the refresh token (exprires 24 hours after login)\n",
    "fabric_refresh_token=None\n",
    "%store -r fabric_refresh_token\n",
    "if fabric_refresh_token is None:\n",
    "    fabric_refresh_token=os.environ['CILOGON_REFRESH_TOKEN']\n",
    "    %store fabric_refresh_token\n",
    "\n",
    "print(\"Refresh Token: {}\".format(fabric_refresh_token))"
   ]
  },
  {
   "cell_type": "markdown",
   "metadata": {},
   "source": [
    "### Create Slice Manager"
   ]
  },
  {
   "cell_type": "code",
   "execution_count": null,
   "metadata": {},
   "outputs": [],
   "source": [
    "from fabrictestbed.slice_manager import SliceManager, Status\n",
    "\n",
    "credmgr_host = os.environ['FABRIC_CREDMGR_HOST']\n",
    "orchestrator_host = os.environ['FABRIC_ORCHESTRATOR_HOST']\n",
    "print(f\"CM Host: {credmgr_host} Orchestrator Host: {orchestrator_host}\")\n",
    "\n",
    "# Create Slice Manager\n",
    "slice_manager = SliceManager(oc_host=orchestrator_host, cm_host=credmgr_host, \n",
    "                             refresh_token=fabric_refresh_token, project_name='all', scope='all')\n",
    "\n",
    "#Cofigure SSH Key\n",
    "ssh_key = None\n",
    "with open (\"/home/fabric/.ssh/id_rsa.pub\", \"r\") as myfile:\n",
    "    ssh_key=myfile.read().strip()"
   ]
  },
  {
   "cell_type": "markdown",
   "metadata": {},
   "source": [
    "### Refresh the ID Token\n",
    "\n",
    "ID Tokens exprire one hour after refresh. "
   ]
  },
  {
   "cell_type": "code",
   "execution_count": null,
   "metadata": {},
   "outputs": [],
   "source": [
    "try:\n",
    "    id_token, refresh_token = slice_manager.refresh_tokens()\n",
    "except Exception as e:\n",
    "    print(\"Exception occurred while getting tokens:{}\".format(e))\n",
    "\n",
    "fabric_refresh_token=slice_manager.get_refresh_token()\n",
    "print()\n",
    "print(\"New Refresh Token: {}\".format(fabric_refresh_token))\n",
    "print()\n",
    "print(\"Stored new Refresh Token\")\n",
    "%store fabric_refresh_token\n",
    "print()\n",
    "print()\n",
    "    \n"
   ]
  },
  {
   "cell_type": "markdown",
   "metadata": {},
   "source": [
    "## Build Slice Request\n",
    "\n",
    "\n",
    "<img src=\"./figs/OneWayDelayTopo.png\" width=\"70%\"><br>\n",
    "\n"
   ]
  },
  {
   "cell_type": "code",
   "execution_count": null,
   "metadata": {},
   "outputs": [],
   "source": [
    "from fabrictestbed.slice_editor import ExperimentTopology, Capacities, ComponentType, LinkType, Layer\n",
    "\n",
    "# Create Experiment Topology\n",
    "experiemnt = ExperimentTopology()\n",
    "\n",
    "slice_name=\"OneWayDelayDemo\""
   ]
  },
  {
   "cell_type": "code",
   "execution_count": null,
   "metadata": {},
   "outputs": [],
   "source": [
    "uky1_demo1 = experiemnt.add_node(name='uky1-demo1', site='UKY')\n",
    "\n",
    "uky1_demo1_capacity = Capacities()\n",
    "uky1_demo1_capacity.set_fields(core=4, ram=32, disk=500)\n",
    "uky1_demo1.set_properties(capacities=uky1_demo1_capacity, image_type='qcow2', image_ref='default_ubuntu_20')\n",
    "\n",
    "uky1_demo1_nic1 = uky1_demo1.add_component(ctype=ComponentType.SharedNIC, model='ConnectX-6', name='uky1_demo1_nic1')\n",
    "uky1_demo1_nic2 = uky1_demo1.add_component(ctype=ComponentType.SharedNIC, model='ConnectX-6', name='uky1_demo1_nic2')"
   ]
  },
  {
   "cell_type": "code",
   "execution_count": null,
   "metadata": {},
   "outputs": [],
   "source": [
    "renc1_demo1 = experiemnt.add_node(name='renc1-demo1', site='RENC')\n",
    "\n",
    "renc1_demo1_capacity = Capacities()\n",
    "renc1_demo1_capacity.set_fields(core=4, ram=32, disk=500)\n",
    "renc1_demo1.set_properties(capacities=renc1_demo1_capacity, image_type='qcow2', image_ref='default_ubuntu_20')\n",
    "\n",
    "renc1_demo1_nic1  = renc1_demo1.add_component(ctype=ComponentType.SharedNIC, model='ConnectX-6', name='renc1_demo1_nic1')\n",
    "renc1_demo1_nic2  = renc1_demo1.add_component(ctype=ComponentType.SharedNIC, model='ConnectX-6', name='renc1_demo1_nic2')"
   ]
  },
  {
   "cell_type": "code",
   "execution_count": null,
   "metadata": {},
   "outputs": [],
   "source": [
    "uky2_demo1 = experiemnt.add_node(name='uky2-demo1', site='UKY')\n",
    "\n",
    "uky2_demo1_capacity = Capacities()\n",
    "uky2_demo1_capacity.set_fields(core=4, ram=32, disk=500)\n",
    "uky2_demo1.set_properties(capacities=uky2_demo1_capacity, image_type='qcow2', image_ref='default_ubuntu_20')\n",
    "\n",
    "uky2_demo1_nic  = uky2_demo1.add_component(ctype=ComponentType.SharedNIC, model='ConnectX-6', name='uky2_demo1_nic1')\n",
    "uky2_demo1_nic  = uky2_demo1.add_component(ctype=ComponentType.SharedNIC, model='ConnectX-6', name='uky2_demo1_nic2')"
   ]
  },
  {
   "cell_type": "code",
   "execution_count": null,
   "metadata": {},
   "outputs": [],
   "source": [
    "# Add a links\n",
    "ping_link = experiemnt.add_link(name='ping_link', ltype=LinkType.DAC, layer=Layer.L2,\n",
    "                         interfaces=[list(filter(lambda iff: (iff.name == 'renc1_demo1_nic1'+'-p1'), experiemnt.interface_list))[0],\n",
    "                                     list(filter(lambda iff: (iff.name == 'uky1_demo1_nic1'+'-p1'), experiemnt.interface_list))[0]]\n",
    "                         )\n",
    "\n",
    "monitor_link1 = experiemnt.add_link(name='MonitorLink1', ltype=LinkType.DAC, layer=Layer.L2,\n",
    "                         interfaces=[list(filter(lambda iff: (iff.name == 'uky2_demo1_nic1'+'-p1'), experiemnt.interface_list))[0],\n",
    "                                     list(filter(lambda iff: (iff.name == 'uky1_demo1_nic2'+'-p1'), experiemnt.interface_list))[0]]\n",
    "                         )\n",
    "\n",
    "monitor_link2 = experiemnt.add_link(name='MonitorLink2', ltype=LinkType.DAC, layer=Layer.L2,\n",
    "                         interfaces=[list(filter(lambda iff: (iff.name == 'uky2_demo1_nic2'+'-p1'), experiemnt.interface_list))[0],\n",
    "                                     list(filter(lambda iff: (iff.name == 'renc1_demo1_nic2'+'-p1'), experiemnt.interface_list))[0]]\n",
    "                         )"
   ]
  },
  {
   "cell_type": "code",
   "execution_count": null,
   "metadata": {},
   "outputs": [],
   "source": [
    "# Generate Slice Graph\n",
    "#slice_graph = t.serialize()\n",
    "experiemnt.draw()"
   ]
  },
  {
   "cell_type": "markdown",
   "metadata": {},
   "source": [
    "## Submit the Request"
   ]
  },
  {
   "cell_type": "code",
   "execution_count": null,
   "metadata": {},
   "outputs": [],
   "source": [
    "slice_graph = experiemnt.serialize()\n",
    "\n",
    "# Request slice from Orchestrator\n",
    "status, reservations = slice_manager.create(slice_name=slice_name, slice_graph=slice_graph, ssh_key=ssh_key)\n",
    "\n",
    "\n",
    "print(\"Response Status {}\".format(status))\n",
    "if status == Status.OK:\n",
    "    print(\"Reservations created {}\".format(reservations))\n",
    "    slice_id=reservations[0].slice_id\n",
    "else:\n",
    "    print(\"Error Occurred: {}\".format(reservations))"
   ]
  },
  {
   "cell_type": "markdown",
   "metadata": {},
   "source": [
    "## Query Slices"
   ]
  },
  {
   "cell_type": "code",
   "execution_count": null,
   "metadata": {},
   "outputs": [],
   "source": [
    "status, slices = slice_manager.slices()\n",
    "\n",
    "print(\"Response Status {}\".format(status))\n",
    "print(\"Slices {}\".format(slices))"
   ]
  },
  {
   "cell_type": "markdown",
   "metadata": {},
   "source": [
    "## Slice Status"
   ]
  },
  {
   "cell_type": "code",
   "execution_count": null,
   "metadata": {},
   "outputs": [],
   "source": [
    "import time\n",
    "\n",
    "slice_state=None\n",
    "while slice_state != 'StableOK':\n",
    "    status, slice_status = slice_manager.slice_status(slice_id=slice_id)\n",
    "    slice_state = slice_status.slice_state\n",
    "    print(\"Slice State: {}\".format(slices[0].slice_state))\n",
    "    time.sleep(20)\n",
    "\n",
    "print(\"Response Status {}\".format(status))\n",
    "print(\"Slice Status {}\".format(slice_status))"
   ]
  },
  {
   "cell_type": "markdown",
   "metadata": {},
   "source": [
    "## Query Slivers"
   ]
  },
  {
   "cell_type": "code",
   "execution_count": null,
   "metadata": {},
   "outputs": [],
   "source": [
    "status, slivers = slice_manager.slivers(slice_id=slice_id)\n",
    "\n",
    "print(\"Response Status {}\".format(status))\n",
    "print(\"Slivers {}\".format(reservations))"
   ]
  },
  {
   "cell_type": "markdown",
   "metadata": {},
   "source": [
    "## Sliver Status"
   ]
  },
  {
   "cell_type": "code",
   "execution_count": null,
   "metadata": {},
   "outputs": [],
   "source": [
    "for sliver in slivers:\n",
    "    sliver_id=sliver.reservation_id\n",
    "    status, reservation_status = slice_manager.sliver_status(slice_id=slice_id, sliver_id=sliver_id)\n",
    "\n",
    "    print(\"Response Status {}\".format(status))\n",
    "    print(\"Reservation Status {}\".format(reservation_status))"
   ]
  },
  {
   "cell_type": "markdown",
   "metadata": {},
   "source": [
    "## Configure the Experiment Nodes"
   ]
  },
  {
   "cell_type": "code",
   "execution_count": null,
   "metadata": {},
   "outputs": [],
   "source": [
    "script= '#!/bin/bash  \\n' \\\n",
    "        'lspci  \\n'"
   ]
  },
  {
   "cell_type": "code",
   "execution_count": null,
   "metadata": {},
   "outputs": [],
   "source": [
    "import paramiko \n",
    "#from scp import SCPClient, SCPException\n",
    "\n",
    "key = paramiko.RSAKey.from_private_key_file(\"/home/fabric/.ssh/id_rsa\")\n",
    "client = paramiko.SSHClient()\n",
    "client.load_system_host_keys()\n",
    "client.set_missing_host_key_policy(paramiko.MissingHostKeyPolicy())\n",
    "\n",
    "client.set_missing_host_key_policy(paramiko.AutoAddPolicy())\n",
    "\n",
    "for sliver in slivers:\n",
    "    sliver_id=sliver.reservation_id\n",
    "    node_name = sliver.name\n",
    "    management_ip = sliver.management_ip\n",
    "    \n",
    "    print(\"Node {0} IP {1}\".format(node_name, management_ip))\n",
    "    \n",
    "    client.connect(management_ip,username='ubuntu',pkey = key)\n",
    "\n",
    "    stdin, stdout, stderr = client.exec_command('curl -s http://protocols.netlab.uky.edu/~nasir/demo_setup.sh -o demo_setup.sh; chmod +x demo_setup.sh; sudo ./demo_setup.sh')\n",
    "    print ('')\n",
    "    print (str(stdout.read(),'utf-8').replace('\\\\n','\\n'))\n",
    "\n",
    "    client.close()"
   ]
  },
  {
   "cell_type": "markdown",
   "metadata": {},
   "source": [
    "## Delete Slice"
   ]
  },
  {
   "cell_type": "code",
   "execution_count": null,
   "metadata": {},
   "outputs": [],
   "source": [
    "status, result = slice_manager.delete(slice_id=slice_id)\n",
    "\n",
    "print(\"Response Status {}\".format(status))\n",
    "print(\"Response received {}\".format(result))"
   ]
  }
 ],
 "metadata": {
  "kernelspec": {
   "display_name": "Python 3",
   "language": "python",
   "name": "python3"
  },
  "language_info": {
   "codemirror_mode": {
    "name": "ipython",
    "version": 3
   },
   "file_extension": ".py",
   "mimetype": "text/x-python",
   "name": "python",
   "nbconvert_exporter": "python",
   "pygments_lexer": "ipython3",
   "version": "3.8.8"
  }
 },
 "nbformat": 4,
 "nbformat_minor": 4
}

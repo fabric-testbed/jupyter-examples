{
 "cells": [
  {
   "cell_type": "markdown",
   "metadata": {},
   "source": [
    "# FABRIC Experimenters Workshop: Jupyter/API Demo\n",
    "\n",
    "\n",
    "## Configure the Environment\n",
    "\n",
    "### Create the FABRIC Slice Manager\n",
    "\n",
    "The FABRIC API is used via Slice Manager that manage APIs to the control framework. \n",
    "\n",
    "Fabric uses two kinds of tokens:\n",
    "\n",
    "- Refresh Token: When user logins to Jupyterhub after authenticating against CILogon, an initial refresh token is derived. This token is available as the environment variable `CILOGON_REFRESH_TOKEN` and is used to generate the initial Identity Token. On every refresh, Fabric Refresh Token is changed and updated. Each Refresh Token is valid for 24 hours.\n",
    "\n",
    "- Identity Token: The control/measurement framework APIs require an Identity Token. Identity tokens can be generated from a valid Refresh Token at any time. Each Identity Token is valid upto an hour.\n",
    "\n"
   ]
  },
  {
   "cell_type": "markdown",
   "metadata": {},
   "source": [
    "# Save the Initial Refresh Token"
   ]
  },
  {
   "cell_type": "code",
   "execution_count": 1,
   "metadata": {},
   "outputs": [
    {
     "name": "stdout",
     "output_type": "stream",
     "text": [
      "no stored variable or alias fabric_refresh_token\n",
      "Stored 'fabric_refresh_token' (str)\n",
      "Refresh Token: NB2HI4DTHIXS6Y3JNRXWO33OFZXXEZZPN5QXK5DIGIXTINDEG44GCMDEMFQTQMRYGI4WKZTGHE3TSNLDGJQWEODBMUYTGNR7OR4XAZJ5OJSWM4TFONUFI33LMVXCM5DTHUYTMMRSGEZTKMBRGY3TKMJGOZSXE43JN5XD25RSFYYCM3DJMZSXI2LNMU6TQNRUGAYDAMBQ\n"
     ]
    }
   ],
   "source": [
    "import os\n",
    "#Retrieve or set the refresh token (exprires 24 hours after login)\n",
    "fabric_refresh_token=None\n",
    "%store -r fabric_refresh_token\n",
    "if fabric_refresh_token is None:\n",
    "    fabric_refresh_token=os.environ['CILOGON_REFRESH_TOKEN']\n",
    "    %store fabric_refresh_token\n",
    "\n",
    "print(\"Refresh Token: {}\".format(fabric_refresh_token))"
   ]
  },
  {
   "cell_type": "markdown",
   "metadata": {},
   "source": [
    "# Create Slice Manager"
   ]
  },
  {
   "cell_type": "code",
   "execution_count": 2,
   "metadata": {},
   "outputs": [
    {
     "name": "stdout",
     "output_type": "stream",
     "text": [
      "CM Host: beta-2.fabric-testbed.net Orchestrator Host: beta-7.fabric-testbed.net\n"
     ]
    }
   ],
   "source": [
    "import os\n",
    "import json\n",
    "\n",
    "from fabrictestbed.slice_manager import SliceManager, Status\n",
    "\n",
    "credmgr_host = os.environ['FABRIC_CREDMGR_HOST']\n",
    "orchestrator_host = os.environ['FABRIC_ORCHESTRATOR_HOST']\n",
    "print(f\"CM Host: {credmgr_host} Orchestrator Host: {orchestrator_host}\")\n",
    "\n",
    "# Create Slice Manager\n",
    "slice_manager = SliceManager(oc_host=orchestrator_host, cm_host=credmgr_host, \n",
    "                             refresh_token=fabric_refresh_token, project_name='all', scope='all')\n",
    "\n",
    "#Cofigure SSH Key\n",
    "ssh_key = None\n",
    "with open (\"/home/fabric/.ssh/id_rsa.pub\", \"r\") as myfile:\n",
    "    ssh_key=myfile.read().strip()"
   ]
  },
  {
   "cell_type": "markdown",
   "metadata": {},
   "source": [
    "### Refresh the ID Token\n",
    "\n",
    "ID Tokens expire one hour after refresh. "
   ]
  },
  {
   "cell_type": "code",
   "execution_count": 3,
   "metadata": {},
   "outputs": [
    {
     "name": "stdout",
     "output_type": "stream",
     "text": [
      "\n",
      "New Refresh Token: NB2HI4DTHIXS6Y3JNRXWO33OFZXXEZZPN5QXK5DIGIXTCNTBGZQTCZRVMU2WENJXGE3DEMBUME3WCMTFGIYTQYRVMRSGMNB7OR4XAZJ5OJSWM4TFONUFI33LMVXCM5DTHUYTMMRSGEZTKNZRGMZTSMBGOZSXE43JN5XD25RSFYYCM3DJMZSXI2LNMU6TQNRUGAYDAMBQ\n",
      "\n",
      "Stored new Refresh Token\n",
      "Stored 'fabric_refresh_token' (str)\n",
      "\n",
      "\n"
     ]
    }
   ],
   "source": [
    "try:\n",
    "    id_token, refresh_token = slice_manager.refresh_tokens()\n",
    "except Exception as e:\n",
    "    print(\"Exception occurred while getting tokens:{}\".format(e))\n",
    "\n",
    "fabric_refresh_token=slice_manager.get_refresh_token()\n",
    "print()\n",
    "print(\"New Refresh Token: {}\".format(fabric_refresh_token))\n",
    "print()\n",
    "print(\"Stored new Refresh Token\")\n",
    "%store fabric_refresh_token\n",
    "print()\n",
    "print()\n",
    "    "
   ]
  },
  {
   "cell_type": "markdown",
   "metadata": {},
   "source": [
    "## Getting Help"
   ]
  },
  {
   "cell_type": "code",
   "execution_count": 4,
   "metadata": {},
   "outputs": [
    {
     "name": "stdout",
     "output_type": "stream",
     "text": [
      "Help on class SliceManager in module fabrictestbed.slice_manager.slice_manager:\n",
      "\n",
      "class SliceManager(builtins.object)\n",
      " |  SliceManager(*, cm_host: str, oc_host: str, refresh_token: str, project_name: str = 'all', scope: str = 'all')\n",
      " |  \n",
      " |  Implements User facing Control Framework API interface\n",
      " |  \n",
      " |  Methods defined here:\n",
      " |  \n",
      " |  __init__(self, *, cm_host: str, oc_host: str, refresh_token: str, project_name: str = 'all', scope: str = 'all')\n",
      " |      Initialize self.  See help(type(self)) for accurate signature.\n",
      " |  \n",
      " |  create(self, *, slice_name: str, ssh_key: str, topology: fim.user.topology.ExperimentTopology = None, slice_graph: str = None, lease_end_time: str = None) -> Tuple[fabric_cf.orchestrator.orchestrator_proxy.Status, Union[Exception, List[fabric_cf.orchestrator.elements.reservation.Reservation]]]\n",
      " |      Create a slice\n",
      " |      @param slice_name slice name\n",
      " |      @param ssh_key SSH Key\n",
      " |      @param topology Experiment topology\n",
      " |      @param slice_graph Slice Graph string\n",
      " |      @param lease_end_time Lease End Time\n",
      " |      @return Tuple containing Status and Exception/Json containing slivers created\n",
      " |  \n",
      " |  delete(self, *, slice_id: str) -> Tuple[fabric_cf.orchestrator.orchestrator_proxy.Status, Union[Exception, NoneType]]\n",
      " |      Delete a slice\n",
      " |      @param slice_id slice id\n",
      " |      @return Tuple containing Status and Exception/Json containing deletion status\n",
      " |  \n",
      " |  get_id_token(self) -> str\n",
      " |  \n",
      " |  get_refresh_token(self) -> str\n",
      " |  \n",
      " |  get_slice(self, *, slice_id: str) -> Tuple[fabric_cf.orchestrator.orchestrator_proxy.Status, Union[Exception, fim.user.topology.ExperimentTopology]]\n",
      " |      Get slice\n",
      " |      @param slice_id slice id\n",
      " |      @return Tuple containing Status and Exception/Json containing slice\n",
      " |  \n",
      " |  refresh_tokens(self) -> Tuple[str, str]\n",
      " |      Refresh tokens\n",
      " |      User is expected to invoke refresh token API before invoking any other APIs to ensure the token is not expired.\n",
      " |      User is also expected to update the returned refresh token in the JupyterHub environment.\n",
      " |  \n",
      " |  renew(self, *, slice_id: str, new_lease_end_time: str) -> Tuple[fabric_cf.orchestrator.orchestrator_proxy.Status, Union[Exception, List, NoneType]]\n",
      " |      Renew a slice\n",
      " |      @param slice_id slice_id\n",
      " |      @param new_lease_end_time new_lease_end_time\n",
      " |      @return Tuple containing Status and List of Reservation Id failed to extend\n",
      " |  \n",
      " |  resources(self, *, level: int = 1) -> Tuple[fabric_cf.orchestrator.orchestrator_proxy.Status, Union[Exception, fim.user.topology.AdvertizedTopology]]\n",
      " |      Get resources\n",
      " |      @param level level\n",
      " |      @return Tuple containing Status and Exception/Json containing Resources\n",
      " |  \n",
      " |  revoke_token(self, refresh_token: str = None) -> Tuple[fabric_cf.orchestrator.orchestrator_proxy.Status, Any]\n",
      " |  \n",
      " |  set_id_token(self, id_token: str)\n",
      " |  \n",
      " |  slice_status(self, *, slice_id: str) -> Tuple[fabric_cf.orchestrator.orchestrator_proxy.Status, Union[Exception, fabric_cf.orchestrator.elements.slice.Slice]]\n",
      " |      Get slice status\n",
      " |      @param slice_id slice id\n",
      " |      @return Tuple containing Status and Exception/Json containing slice status\n",
      " |  \n",
      " |  slices(self) -> Tuple[fabric_cf.orchestrator.orchestrator_proxy.Status, Union[Exception, List[fabric_cf.orchestrator.elements.slice.Slice]]]\n",
      " |      Get slices\n",
      " |      @return Tuple containing Status and Exception/Json containing slices\n",
      " |  \n",
      " |  sliver_status(self, *, slice_id: str, sliver_id: str) -> Tuple[fabric_cf.orchestrator.orchestrator_proxy.Status, Union[Exception, fabric_cf.orchestrator.elements.reservation.Reservation]]\n",
      " |      Get slivers\n",
      " |      @param slice_id slice id\n",
      " |      @param sliver_id slice sliver_id\n",
      " |      @return Tuple containing Status and Exception/Json containing Sliver status\n",
      " |  \n",
      " |  slivers(self, *, slice_id: str, sliver_id: str = None) -> Tuple[fabric_cf.orchestrator.orchestrator_proxy.Status, Union[Exception, List[fabric_cf.orchestrator.elements.reservation.Reservation]]]\n",
      " |      Get slivers\n",
      " |      @param slice_id slice id\n",
      " |      @param sliver_id slice sliver_id\n",
      " |      @return Tuple containing Status and Exception/Json containing Sliver(s)\n",
      " |  \n",
      " |  ----------------------------------------------------------------------\n",
      " |  Data descriptors defined here:\n",
      " |  \n",
      " |  __dict__\n",
      " |      dictionary for instance variables (if defined)\n",
      " |  \n",
      " |  __weakref__\n",
      " |      list of weak references to the object (if defined)\n",
      "\n"
     ]
    }
   ],
   "source": [
    "help(SliceManager)"
   ]
  },
  {
   "cell_type": "markdown",
   "metadata": {},
   "source": [
    "## Query Resource Availability \n",
    "\n",
    "### Get Advertisement from Proxy"
   ]
  },
  {
   "cell_type": "code",
   "execution_count": 5,
   "metadata": {},
   "outputs": [
    {
     "name": "stdout",
     "output_type": "stream",
     "text": [
      "Status: Status.OK\n",
      "Toplogy: RENC: { cpu: 6/6, core: 92/96, ram: 1472/1536G, disk: 109100/109600G, unit: 3/3, }\n",
      "\tComponents:\n",
      "\t\tNVME-P4510:  NVME P4510 { disk: 10000/10000G, unit: 10/10, }\n",
      "\t\tGPU-RTX6000:  GPU RTX6000 { unit: 2/2, }\n",
      "\t\tGPU-Tesla T4:  GPU Tesla T4 { unit: 4/4, }\n",
      "\t\tSharedNIC-ConnectX-6:  SharedNIC ConnectX-6 { unit: 3/3, }\n",
      "\t\tSmartNIC-ConnectX-6:  SmartNIC ConnectX-6 { unit: 2/2, }\n",
      "\t\tSmartNIC-ConnectX-5:  SmartNIC ConnectX-5 { unit: 1/2, }\n",
      "\tSite Interfaces:\n",
      "UKY: { cpu: 6/6, core: 92/96, ram: 1472/1536G, disk: 109100/109600G, unit: 3/3, }\n",
      "\tComponents:\n",
      "\t\tSmartNIC-ConnectX-5:  SmartNIC ConnectX-5 { unit: 2/2, }\n",
      "\t\tNVME-P4510:  NVME P4510 { disk: 10000/10000G, unit: 10/10, }\n",
      "\t\tGPU-RTX6000:  GPU RTX6000 { unit: 2/2, }\n",
      "\t\tGPU-Tesla T4:  GPU Tesla T4 { unit: 3/4, }\n",
      "\t\tSharedNIC-ConnectX-6:  SharedNIC ConnectX-6 { unit: 3/3, }\n",
      "\t\tSmartNIC-ConnectX-6:  SmartNIC ConnectX-6 { unit: 2/2, }\n",
      "\tSite Interfaces:\n",
      "LBNL: { cpu: 6/6, core: 88/96, ram: 1408/1536G, disk: 108600/109600G, unit: 3/3, }\n",
      "\tComponents:\n",
      "\t\tNVME-P4510:  NVME P4510 { disk: 10000/10000G, unit: 10/10, }\n",
      "\t\tGPU-RTX6000:  GPU RTX6000 { unit: 2/2, }\n",
      "\t\tGPU-Tesla T4:  GPU Tesla T4 { unit: 3/4, }\n",
      "\t\tSharedNIC-ConnectX-6:  SharedNIC ConnectX-6 { unit: 3/3, }\n",
      "\t\tSmartNIC-ConnectX-6:  SmartNIC ConnectX-6 { unit: 2/2, }\n",
      "\t\tSmartNIC-ConnectX-5:  SmartNIC ConnectX-5 { unit: 2/2, }\n",
      "\tSite Interfaces:\n",
      "Links:\n"
     ]
    }
   ],
   "source": [
    "status, advertised_topology = slice_manager.resources()\n",
    "\n",
    "print(f\"Status: {status}\")\n",
    "print(f\"Toplogy: {advertised_topology}\")"
   ]
  },
  {
   "cell_type": "markdown",
   "metadata": {},
   "source": [
    "### Display Resource Topology"
   ]
  },
  {
   "cell_type": "code",
   "execution_count": 6,
   "metadata": {},
   "outputs": [
    {
     "data": {
      "image/png": "[encoded data removed]",
      "text/plain": [
       "<Figure size 432x288 with 1 Axes>"
      ]
     },
     "metadata": {},
     "output_type": "display_data"
    }
   ],
   "source": [
    "advertised_topology.draw()"
   ]
  },
  {
   "cell_type": "markdown",
   "metadata": {},
   "source": [
    "## Build Slice Request\n",
    "\n",
    "<!---\n",
    "<img src=\"./figs/AllNodes.png\" width=\"90%\"><br>\n",
    "-->\n"
   ]
  },
  {
   "cell_type": "code",
   "execution_count": 7,
   "metadata": {},
   "outputs": [],
   "source": [
    "from fabrictestbed.slice_editor import ExperimentTopology, Capacities, ComponentType, LinkType, Layer\n",
    "\n",
    "# Create Experiment Topology\n",
    "experiemnt = ExperimentTopology()\n",
    "\n",
    "slice_name=\"DemoSlice\""
   ]
  },
  {
   "cell_type": "code",
   "execution_count": 8,
   "metadata": {},
   "outputs": [
    {
     "name": "stdout",
     "output_type": "stream",
     "text": [
      "Help on class ExperimentTopology in module fim.user.topology:\n",
      "\n",
      "class ExperimentTopology(Topology)\n",
      " |  ExperimentTopology(graph_file: str = None, graph_string: str = None, logger=None)\n",
      " |  \n",
      " |  Define an user topology model, inheriting behavior from Topology class.\n",
      " |  In addition to publicly visible methods the following calls can be made:\n",
      " |  topology.nodes - a read-only dictionary of nodes in the topology\n",
      " |  topology.links - a read-only dictionary of links in the topology\n",
      " |  topology.interface_list - a read-only list of all interfaces of all nodes\n",
      " |  If you want to operate on top of a Neo4j graph, use the cast() method.\n",
      " |  \n",
      " |  Method resolution order:\n",
      " |      ExperimentTopology\n",
      " |      Topology\n",
      " |      abc.ABC\n",
      " |      builtins.object\n",
      " |  \n",
      " |  Methods defined here:\n",
      " |  \n",
      " |  __init__(self, graph_file: str = None, graph_string: str = None, logger=None)\n",
      " |      Initialize self.  See help(type(self)) for accurate signature.\n",
      " |  \n",
      " |  cast(self, *, asm_graph: fim.graph.slices.abc_asm.ABCASMPropertyGraph)\n",
      " |      'Cast' an existing instance of ASM graph into a topology. This can create Neo4j or NetworkX-based\n",
      " |      topology classes\n",
      " |      :param asm_graph:\n",
      " |      :return:\n",
      " |  \n",
      " |  ----------------------------------------------------------------------\n",
      " |  Data and other attributes defined here:\n",
      " |  \n",
      " |  __abstractmethods__ = frozenset()\n",
      " |  \n",
      " |  ----------------------------------------------------------------------\n",
      " |  Methods inherited from Topology:\n",
      " |  \n",
      " |  __getattr__(self, item)\n",
      " |      Special handling for attributes like 'nodes' and 'links' -\n",
      " |      which query into the model. They return dicts and list\n",
      " |      containers. Modifying containers does not affect the underlying\n",
      " |      graph mode, but modifying elements of lists or values of dicts does.\n",
      " |      :param item:\n",
      " |      :return:\n",
      " |  \n",
      " |  __str__(self)\n",
      " |      Print topology in tabulated form - network nodes, their components, interfaces, then print links\n",
      " |      and their interfaces\n",
      " |      :return:\n",
      " |  \n",
      " |  add_link(self, *, name: str, node_id: str = None, ltype: fim.slivers.network_link.LinkType = None, interfaces: List[fim.user.interface.Interface], layer: fim.slivers.switch_fabric.SFLayer = None, technology: str = None, **kwargs) -> fim.user.link.Link\n",
      " |      Add link between listed interfaces with specified parameters\n",
      " |      :param name:\n",
      " |      :param node_id:\n",
      " |      :param ltype:\n",
      " |      :param interfaces:\n",
      " |      :param layer:\n",
      " |      :param technology:\n",
      " |      :param kwargs:\n",
      " |      :return:\n",
      " |  \n",
      " |  add_node(self, *, name: str, node_id: str = None, site: str, ntype: fim.slivers.network_node.NodeType = VM, **kwargs) -> fim.user.node.Node\n",
      " |      Add a network node into the substrate topology. Be sure to hardcode node_id - it should\n",
      " |      be consistent from revision to revision of the topology for the same objects.\n",
      " |      kwargs serve to add parameters to the node\n",
      " |      cpu_cores\n",
      " |      ram_size\n",
      " |      disk_size\n",
      " |      image_type\n",
      " |      image_ref\n",
      " |      :param name:\n",
      " |      :param node_id:\n",
      " |      :param site:\n",
      " |      :param ntype:\n",
      " |      :return:\n",
      " |  \n",
      " |  draw(self, *, file_name: str = None, interactive: bool = False, topo_detail: fim.user.topology.TopologyDetail = <TopologyDetail.Derived: 1>, layout=<function fruchterman_reingold_layout at 0x7f9bf40525e0>)\n",
      " |      Use pyplot to draw the topology of specified level of detail.\n",
      " |      :param file_name: save figure to a file (drawing type is determined by extension, e.g. .png)\n",
      " |      :param interactive: use interactive pyplot mode (defaults to False)\n",
      " |      :param topo_detail: level of detail to use in drawing, defaults to Derived\n",
      " |      :param layout: use one of available layout algorithms in NetworkX (defaults to spring_layout)\n",
      " |      :return:\n",
      " |  \n",
      " |  load(self, *, file_name: str = None, graph_string: str = None)\n",
      " |      Load the topology from file or string\n",
      " |      :param file_name:\n",
      " |      :param graph_string:\n",
      " |      :return:\n",
      " |  \n",
      " |  remove_link(self, name: str)\n",
      " |      Remove a link between interfaces\n",
      " |      :param name:\n",
      " |      :return:\n",
      " |  \n",
      " |  remove_node(self, name: str)\n",
      " |      Remove node and all its components, its interfaces and interfaces of components\n",
      " |      :param name:\n",
      " |      :return:\n",
      " |  \n",
      " |  serialize(self, file_name=None) -> str\n",
      " |      Serialize to string or to file, depending on whether file_name\n",
      " |      is provided.\n",
      " |      :param file_name:\n",
      " |      :return string containing GraphML if file_name is None:\n",
      " |  \n",
      " |  ----------------------------------------------------------------------\n",
      " |  Data descriptors inherited from Topology:\n",
      " |  \n",
      " |  __dict__\n",
      " |      dictionary for instance variables (if defined)\n",
      " |  \n",
      " |  __weakref__\n",
      " |      list of weak references to the object (if defined)\n",
      "\n"
     ]
    }
   ],
   "source": [
    "help(ExperimentTopology)"
   ]
  },
  {
   "cell_type": "markdown",
   "metadata": {},
   "source": [
    "### Add Node1 at RENC\n",
    "<img src=\"./figs/Node1.png\" width=\"40%\"><br>"
   ]
  },
  {
   "cell_type": "code",
   "execution_count": 9,
   "metadata": {},
   "outputs": [],
   "source": [
    "# Add Node1 with: GPU: 1xSharedConnectX-6, 1xRTX6000, 1xP4510\n",
    "node1 = experiemnt.add_node(name='node1', site='RENC')\n",
    "\n",
    "node1_capacity = Capacities()\n",
    "node1_capacity.set_fields(core=2, ram=16, disk=100)\n",
    "node1.set_properties(capacities=node1_capacity, image_type='qcow2', image_ref='default_ubuntu_20')\n",
    "\n",
    "node1_nvme = node1.add_component(ctype=ComponentType.NVME, model='P4510', name='n1_nvme')\n",
    "node1_gpu  = node1.add_component(ctype=ComponentType.GPU, model='RTX6000', name='n1_gpu')\n",
    "node1_nic = node1.add_component(ctype=ComponentType.SharedNIC, model='ConnectX-6', name='n1_nic')"
   ]
  },
  {
   "cell_type": "markdown",
   "metadata": {},
   "source": [
    "### Add Node2 at LBNL\n",
    "<img src=\"./figs/Node2.png\" width=\"40%\"><br>"
   ]
  },
  {
   "cell_type": "code",
   "execution_count": 11,
   "metadata": {},
   "outputs": [],
   "source": [
    "# Add Node2 with: FastNet: 2xConnectX-5, 2xT4\n",
    "node2 = experiemnt.add_node(name='node2', site='LBNL')\n",
    "\n",
    "node2_capacity = Capacities()\n",
    "node2_capacity.set_fields(core=4, ram=32, disk=200)\n",
    "node2.set_properties(capacities=node2_capacity, image_type='qcow2', image_ref='default_ubuntu_20')\n",
    "\n",
    "node2_gpu1  = node2.add_component(ctype=ComponentType.GPU, model='Tesla T4', name='n2_gpu1')\n",
    "node2_gpu2  = node2.add_component(ctype=ComponentType.GPU, model='Tesla T4', name='n2_gpu2')\n",
    "node2_nvme1 = node2.add_component(ctype=ComponentType.SmartNIC, model='ConnectX-5', name='n2_nic1')\n",
    "node2_nvme2 = node2.add_component(ctype=ComponentType.SmartNIC, model='ConnectX-5', name='n2_nic2')"
   ]
  },
  {
   "cell_type": "markdown",
   "metadata": {},
   "source": [
    "### Add Node3 at UKY\n",
    "<img src=\"./figs/Node3.png\" width=\"40%\"><br>"
   ]
  },
  {
   "cell_type": "code",
   "execution_count": null,
   "metadata": {},
   "outputs": [],
   "source": [
    "# Add Node with: SlowNet: 1xConnectX-6, 2xT4, 4xP4510\n",
    "node3 = experiemnt.add_node(name='node3', site='UKY')\n",
    "\n",
    "node3_capacity = Capacities()\n",
    "node3_capacity.set_fields(core=8, ram=64, disk=500)\n",
    "node3.set_properties(capacities=node3_capacity, image_type='qcow2', image_ref='default_ubuntu_20')\n",
    "\n",
    "node3_nvme1 = node3.add_component(ctype=ComponentType.NVME, model='P4510', name='n3_nvme1')\n",
    "node3_nvme2 = node3.add_component(ctype=ComponentType.NVME, model='P4510', name='n3_nvme2')\n",
    "node3_nvme3 = node3.add_component(ctype=ComponentType.NVME, model='P4510', name='n3_nvme3')\n",
    "node3_nvme4 = node3.add_component(ctype=ComponentType.NVME, model='P4510', name='n3_nvme4')\n",
    "node3_gpu1  = node3.add_component(ctype=ComponentType.GPU, model='Tesla T4', name='n3_gpu1')\n",
    "node3_gpu2  = node3.add_component(ctype=ComponentType.GPU, model='Tesla T4', name='n3_gpu2')\n",
    "#node3_nic1 = node3.add_component(ctype=ComponentType.SharedNIC, model='ConnectX-6', name='n3_nic1')"
   ]
  },
  {
   "cell_type": "code",
   "execution_count": 12,
   "metadata": {},
   "outputs": [
    {
     "data": {
      "image/png": "[encoded data removed]",
      "text/plain": [
       "<Figure size 432x288 with 1 Axes>"
      ]
     },
     "metadata": {},
     "output_type": "display_data"
    }
   ],
   "source": [
    "# Generate Slice Graph\n",
    "#slice_graph = t.serialize()\n",
    "experiemnt.draw()"
   ]
  },
  {
   "cell_type": "markdown",
   "metadata": {},
   "source": [
    "## Submit the Request"
   ]
  },
  {
   "cell_type": "code",
   "execution_count": 13,
   "metadata": {},
   "outputs": [
    {
     "name": "stdout",
     "output_type": "stream",
     "text": [
      "Request Status.OK\n",
      "Reservations: [{\n",
      "    \"graph_node_id\": \"a2982249-b992-4d94-9864-a8785fa8387e\",\n",
      "    \"join_state\": \"None_\",\n",
      "    \"lease_end\": \"2021-05-28 17:17:46\",\n",
      "    \"reservation_id\": \"16486ea2-fde0-435b-ac82-ddc933bad7e3\",\n",
      "    \"reservation_state\": \"Unknown\",\n",
      "    \"resource_type\": \"VM\",\n",
      "    \"slice_id\": \"121d5845-e1c2-4292-916e-27b5597b48da\"\n",
      "}, {\n",
      "    \"graph_node_id\": \"6a6a2536-ce8c-4fa6-bf26-78eac49be933\",\n",
      "    \"join_state\": \"None_\",\n",
      "    \"lease_end\": \"2021-05-28 17:17:46\",\n",
      "    \"reservation_id\": \"2dcb9ce0-fd27-4d4a-862f-8c83023c8c97\",\n",
      "    \"reservation_state\": \"Unknown\",\n",
      "    \"resource_type\": \"VM\",\n",
      "    \"slice_id\": \"121d5845-e1c2-4292-916e-27b5597b48da\"\n",
      "}]\n",
      "Slice ID: 121d5845-e1c2-4292-916e-27b5597b48da\n"
     ]
    }
   ],
   "source": [
    "slice_graph = experiemnt.serialize()\n",
    "\n",
    "# Request slice from Orchestrator\n",
    "status, reservations = slice_manager.create(slice_name=slice_name, slice_graph=slice_graph, ssh_key=ssh_key)\n",
    "\n",
    "\n",
    "print(\"Request {}\".format(status))\n",
    "slice_id=reservations[0].slice_id\n",
    "\n",
    "print(\"Reservations: {}\".format(reservations))\n",
    "print(\"Slice ID: {}\".format(slice_id))"
   ]
  },
  {
   "cell_type": "markdown",
   "metadata": {},
   "source": [
    "## Query Slices"
   ]
  },
  {
   "cell_type": "code",
   "execution_count": 26,
   "metadata": {},
   "outputs": [
    {
     "name": "stdout",
     "output_type": "stream",
     "text": [
      "Response Status Status.OK\n",
      "Slices []\n"
     ]
    }
   ],
   "source": [
    "status, slices = slice_manager.slices()\n",
    "\n",
    "print(\"Response Status {}\".format(status))\n",
    "print(\"Slices {}\".format(slices))"
   ]
  },
  {
   "cell_type": "markdown",
   "metadata": {},
   "source": [
    "## Slice Status"
   ]
  },
  {
   "cell_type": "code",
   "execution_count": 27,
   "metadata": {},
   "outputs": [
    {
     "name": "stdout",
     "output_type": "stream",
     "text": [
      "Response Status Status.OK\n"
     ]
    },
    {
     "ename": "IndexError",
     "evalue": "list index out of range",
     "output_type": "error",
     "traceback": [
      "\u001b[0;31m---------------------------------------------------------------------------\u001b[0m",
      "\u001b[0;31mIndexError\u001b[0m                                Traceback (most recent call last)",
      "\u001b[0;32m<ipython-input-27-da5b1cb416c4>\u001b[0m in \u001b[0;36m<module>\u001b[0;34m\u001b[0m\n\u001b[1;32m      6\u001b[0m     \u001b[0mslice_state\u001b[0m \u001b[0;34m=\u001b[0m \u001b[0mslice_status\u001b[0m\u001b[0;34m.\u001b[0m\u001b[0mslice_state\u001b[0m\u001b[0;34m\u001b[0m\u001b[0;34m\u001b[0m\u001b[0m\n\u001b[1;32m      7\u001b[0m     \u001b[0mprint\u001b[0m\u001b[0;34m(\u001b[0m\u001b[0;34m\"Response Status {}\"\u001b[0m\u001b[0;34m.\u001b[0m\u001b[0mformat\u001b[0m\u001b[0;34m(\u001b[0m\u001b[0mstatus\u001b[0m\u001b[0;34m)\u001b[0m\u001b[0;34m)\u001b[0m\u001b[0;34m\u001b[0m\u001b[0;34m\u001b[0m\u001b[0m\n\u001b[0;32m----> 8\u001b[0;31m     \u001b[0mprint\u001b[0m\u001b[0;34m(\u001b[0m\u001b[0;34m\"Slice State: {}\"\u001b[0m\u001b[0;34m.\u001b[0m\u001b[0mformat\u001b[0m\u001b[0;34m(\u001b[0m\u001b[0mslices\u001b[0m\u001b[0;34m[\u001b[0m\u001b[0;36m0\u001b[0m\u001b[0;34m]\u001b[0m\u001b[0;34m.\u001b[0m\u001b[0mslice_state\u001b[0m\u001b[0;34m)\u001b[0m\u001b[0;34m)\u001b[0m\u001b[0;34m\u001b[0m\u001b[0;34m\u001b[0m\u001b[0m\n\u001b[0m\u001b[1;32m      9\u001b[0m     \u001b[0mtime\u001b[0m\u001b[0;34m.\u001b[0m\u001b[0msleep\u001b[0m\u001b[0;34m(\u001b[0m\u001b[0;36m20\u001b[0m\u001b[0;34m)\u001b[0m\u001b[0;34m\u001b[0m\u001b[0;34m\u001b[0m\u001b[0m\n\u001b[1;32m     10\u001b[0m \u001b[0;34m\u001b[0m\u001b[0m\n",
      "\u001b[0;31mIndexError\u001b[0m: list index out of range"
     ]
    }
   ],
   "source": [
    "import time\n",
    "\n",
    "slice_state=None\n",
    "while slice_state != 'StableOK':\n",
    "    status, slice_status = slice_manager.slice_status(slice_id=slice_id)\n",
    "    slice_state = slice_status.slice_state\n",
    "    print(\"Response Status {}\".format(status))\n",
    "    print(\"Slice State: {}\".format(slices[0].slice_state))\n",
    "    time.sleep(20)\n",
    "\n",
    "#status, slice_status = orchestrator_proxy.slice_status(token=fabric_id_token, slice_id=slice_id)\n",
    "\n",
    "print(\"Response Status {}\".format(status))\n",
    "print(\"Slice Status {}\".format(slice_status))"
   ]
  },
  {
   "cell_type": "markdown",
   "metadata": {},
   "source": [
    "## Query Slivers"
   ]
  },
  {
   "cell_type": "code",
   "execution_count": 21,
   "metadata": {},
   "outputs": [
    {
     "name": "stdout",
     "output_type": "stream",
     "text": [
      "Response Status Status.OK\n",
      "Slivers [{\n",
      "    \"graph_node_id\": \"a2982249-b992-4d94-9864-a8785fa8387e\",\n",
      "    \"join_state\": \"None_\",\n",
      "    \"lease_end\": \"2021-05-28 17:17:46\",\n",
      "    \"reservation_id\": \"16486ea2-fde0-435b-ac82-ddc933bad7e3\",\n",
      "    \"reservation_state\": \"Unknown\",\n",
      "    \"resource_type\": \"VM\",\n",
      "    \"slice_id\": \"121d5845-e1c2-4292-916e-27b5597b48da\"\n",
      "}, {\n",
      "    \"graph_node_id\": \"6a6a2536-ce8c-4fa6-bf26-78eac49be933\",\n",
      "    \"join_state\": \"None_\",\n",
      "    \"lease_end\": \"2021-05-28 17:17:46\",\n",
      "    \"reservation_id\": \"2dcb9ce0-fd27-4d4a-862f-8c83023c8c97\",\n",
      "    \"reservation_state\": \"Unknown\",\n",
      "    \"resource_type\": \"VM\",\n",
      "    \"slice_id\": \"121d5845-e1c2-4292-916e-27b5597b48da\"\n",
      "}]\n"
     ]
    }
   ],
   "source": [
    "status, slivers = slice_manager.slivers(slice_id=slice_id)\n",
    "\n",
    "print(\"Response Status {}\".format(status))\n",
    "print(\"Slivers {}\".format(reservations))"
   ]
  },
  {
   "cell_type": "markdown",
   "metadata": {},
   "source": [
    "## Sliver Status"
   ]
  },
  {
   "cell_type": "code",
   "execution_count": 22,
   "metadata": {},
   "outputs": [
    {
     "name": "stdout",
     "output_type": "stream",
     "text": [
      "Response Status Status.OK\n",
      "Reservation Status {\n",
      "    \"capacities\": \"{\\\"core\\\": 2, \\\"disk\\\": 100, \\\"ram\\\": 16}\",\n",
      "    \"graph_node_id\": \"a2982249-b992-4d94-9864-a8785fa8387e\",\n",
      "    \"join_state\": \"NoJoin\",\n",
      "    \"labels\": \"\",\n",
      "    \"lease_end\": \"2021-05-28 17:17:46\",\n",
      "    \"name\": \"node1\",\n",
      "    \"notices\": \"Reservation 16486ea2-fde0-435b-ac82-ddc933bad7e3 (Slice DemoSlice(121d5845-e1c2-4292-916e-27b5597b48da) Graph Id:05bf1194-b7bf-4e5c-a6d2-a36acbaa658a ) is in state [CloseWait,None_]\\n\\nLast ticket update: \\nTicket events: \\nLast ticket update: \\nTicket events: \",\n",
      "    \"reservation_id\": \"16486ea2-fde0-435b-ac82-ddc933bad7e3\",\n",
      "    \"reservation_state\": \"CloseWait\",\n",
      "    \"resource_type\": \"VM\",\n",
      "    \"site\": \"RENC\",\n",
      "    \"slice_id\": \"121d5845-e1c2-4292-916e-27b5597b48da\"\n",
      "}\n",
      "Response Status Status.OK\n",
      "Reservation Status {\n",
      "    \"capacities\": \"{\\\"core\\\": 4, \\\"disk\\\": 200, \\\"ram\\\": 32}\",\n",
      "    \"graph_node_id\": \"6a6a2536-ce8c-4fa6-bf26-78eac49be933\",\n",
      "    \"join_state\": \"NoJoin\",\n",
      "    \"labels\": \"\",\n",
      "    \"lease_end\": \"2021-05-28 17:17:46\",\n",
      "    \"name\": \"node2\",\n",
      "    \"notices\": \"Reservation 2dcb9ce0-fd27-4d4a-862f-8c83023c8c97 (Slice DemoSlice(121d5845-e1c2-4292-916e-27b5597b48da) Graph Id:05bf1194-b7bf-4e5c-a6d2-a36acbaa658a ) is in state [CloseWait,None_]\\n\\nLast ticket update: \\nTicket events: \\nLast ticket update: \\nTicket events: \",\n",
      "    \"reservation_id\": \"2dcb9ce0-fd27-4d4a-862f-8c83023c8c97\",\n",
      "    \"reservation_state\": \"CloseWait\",\n",
      "    \"resource_type\": \"VM\",\n",
      "    \"site\": \"LBNL\",\n",
      "    \"slice_id\": \"121d5845-e1c2-4292-916e-27b5597b48da\"\n",
      "}\n"
     ]
    }
   ],
   "source": [
    "for sliver in slivers:\n",
    "    sliver_id=sliver.reservation_id\n",
    "    status, reservation_status = slice_manager.sliver_status(slice_id=slice_id, sliver_id=sliver_id)\n",
    "\n",
    "    print(\"Response Status {}\".format(status))\n",
    "    print(\"Reservation Status {}\".format(reservation_status))"
   ]
  },
  {
   "cell_type": "markdown",
   "metadata": {},
   "source": [
    "## Configure the Nodes"
   ]
  },
  {
   "cell_type": "code",
   "execution_count": 23,
   "metadata": {},
   "outputs": [],
   "source": [
    "script= '#!/bin/bash  \\n' \\\n",
    "        'lspci  \\n'"
   ]
  },
  {
   "cell_type": "code",
   "execution_count": 24,
   "metadata": {},
   "outputs": [
    {
     "name": "stdout",
     "output_type": "stream",
     "text": [
      "Node node1 IP None\n"
     ]
    },
    {
     "ename": "NoValidConnectionsError",
     "evalue": "[Errno None] Unable to connect to port 22 on 127.0.0.1 or ::1",
     "output_type": "error",
     "traceback": [
      "\u001b[0;31m---------------------------------------------------------------------------\u001b[0m",
      "\u001b[0;31mNoValidConnectionsError\u001b[0m                   Traceback (most recent call last)",
      "\u001b[0;32m<ipython-input-24-f2ddfbf27d0d>\u001b[0m in \u001b[0;36m<module>\u001b[0;34m\u001b[0m\n\u001b[1;32m     15\u001b[0m     \u001b[0mprint\u001b[0m\u001b[0;34m(\u001b[0m\u001b[0;34m\"Node {0} IP {1}\"\u001b[0m\u001b[0;34m.\u001b[0m\u001b[0mformat\u001b[0m\u001b[0;34m(\u001b[0m\u001b[0mnode_name\u001b[0m\u001b[0;34m,\u001b[0m \u001b[0mmanagement_ip\u001b[0m\u001b[0;34m)\u001b[0m\u001b[0;34m)\u001b[0m\u001b[0;34m\u001b[0m\u001b[0;34m\u001b[0m\u001b[0m\n\u001b[1;32m     16\u001b[0m \u001b[0;34m\u001b[0m\u001b[0m\n\u001b[0;32m---> 17\u001b[0;31m     \u001b[0mclient\u001b[0m\u001b[0;34m.\u001b[0m\u001b[0mconnect\u001b[0m\u001b[0;34m(\u001b[0m\u001b[0mmanagement_ip\u001b[0m\u001b[0;34m,\u001b[0m\u001b[0musername\u001b[0m\u001b[0;34m=\u001b[0m\u001b[0;34m'ubuntu'\u001b[0m\u001b[0;34m,\u001b[0m\u001b[0mpkey\u001b[0m \u001b[0;34m=\u001b[0m \u001b[0mkey\u001b[0m\u001b[0;34m)\u001b[0m\u001b[0;34m\u001b[0m\u001b[0;34m\u001b[0m\u001b[0m\n\u001b[0m\u001b[1;32m     18\u001b[0m \u001b[0;34m\u001b[0m\u001b[0m\n\u001b[1;32m     19\u001b[0m     \u001b[0mstdin\u001b[0m\u001b[0;34m,\u001b[0m \u001b[0mstdout\u001b[0m\u001b[0;34m,\u001b[0m \u001b[0mstderr\u001b[0m \u001b[0;34m=\u001b[0m \u001b[0mclient\u001b[0m\u001b[0;34m.\u001b[0m\u001b[0mexec_command\u001b[0m\u001b[0;34m(\u001b[0m\u001b[0;34m'echo \\\"'\u001b[0m \u001b[0;34m+\u001b[0m \u001b[0mscript\u001b[0m \u001b[0;34m+\u001b[0m \u001b[0;34m'\\\" > script.sh; chmod +x script.sh; sudo ./script.sh'\u001b[0m\u001b[0;34m)\u001b[0m\u001b[0;34m\u001b[0m\u001b[0;34m\u001b[0m\u001b[0m\n",
      "\u001b[0;32m/opt/conda/lib/python3.8/site-packages/paramiko/client.py\u001b[0m in \u001b[0;36mconnect\u001b[0;34m(self, hostname, port, username, password, pkey, key_filename, timeout, allow_agent, look_for_keys, compress, sock, gss_auth, gss_kex, gss_deleg_creds, gss_host, banner_timeout, auth_timeout, gss_trust_dns, passphrase, disabled_algorithms)\u001b[0m\n\u001b[1;32m    366\u001b[0m             \u001b[0;31m# (socket.error)\u001b[0m\u001b[0;34m\u001b[0m\u001b[0;34m\u001b[0m\u001b[0;34m\u001b[0m\u001b[0m\n\u001b[1;32m    367\u001b[0m             \u001b[0;32mif\u001b[0m \u001b[0mlen\u001b[0m\u001b[0;34m(\u001b[0m\u001b[0merrors\u001b[0m\u001b[0;34m)\u001b[0m \u001b[0;34m==\u001b[0m \u001b[0mlen\u001b[0m\u001b[0;34m(\u001b[0m\u001b[0mto_try\u001b[0m\u001b[0;34m)\u001b[0m\u001b[0;34m:\u001b[0m\u001b[0;34m\u001b[0m\u001b[0;34m\u001b[0m\u001b[0m\n\u001b[0;32m--> 368\u001b[0;31m                 \u001b[0;32mraise\u001b[0m \u001b[0mNoValidConnectionsError\u001b[0m\u001b[0;34m(\u001b[0m\u001b[0merrors\u001b[0m\u001b[0;34m)\u001b[0m\u001b[0;34m\u001b[0m\u001b[0;34m\u001b[0m\u001b[0m\n\u001b[0m\u001b[1;32m    369\u001b[0m \u001b[0;34m\u001b[0m\u001b[0m\n\u001b[1;32m    370\u001b[0m         t = self._transport = Transport(\n",
      "\u001b[0;31mNoValidConnectionsError\u001b[0m: [Errno None] Unable to connect to port 22 on 127.0.0.1 or ::1"
     ]
    }
   ],
   "source": [
    "import paramiko \n",
    "#from scp import SCPClient, SCPException\n",
    "\n",
    "key = paramiko.RSAKey.from_private_key_file(\"/home/fabric/.ssh/id_rsa\")\n",
    "client = paramiko.SSHClient()\n",
    "client.load_system_host_keys()\n",
    "client.set_missing_host_key_policy(paramiko.MissingHostKeyPolicy())\n",
    "\n",
    "client.set_missing_host_key_policy(paramiko.AutoAddPolicy())\n",
    "\n",
    "for sliver in slivers:\n",
    "    node_name = sliver.name\n",
    "    management_ip = sliver.management_ip\n",
    "    \n",
    "    print(\"Node {0} IP {1}\".format(node_name, management_ip))\n",
    "    \n",
    "    client.connect(management_ip,username='ubuntu',pkey = key)\n",
    "\n",
    "    stdin, stdout, stderr = client.exec_command('echo \\\"' + script + '\\\" > script.sh; chmod +x script.sh; sudo ./script.sh')\n",
    "    print ('')\n",
    "    print (str(stdout.read(),'utf-8').replace('\\\\n','\\n'))\n",
    "\n",
    "    client.close()"
   ]
  },
  {
   "cell_type": "markdown",
   "metadata": {},
   "source": [
    "## Delete Slice"
   ]
  },
  {
   "cell_type": "code",
   "execution_count": 25,
   "metadata": {},
   "outputs": [
    {
     "name": "stdout",
     "output_type": "stream",
     "text": [
      "Response Status Status.FAILURE\n",
      "Response received (400)\n",
      "Reason: BAD REQUEST\n",
      "HTTP response headers: HTTPHeaderDict({'Server': 'nginx/1.19.8', 'Date': 'Thu, 27 May 2021 17:37:02 GMT', 'Content-Type': 'application/json', 'Content-Length': '61', 'Connection': 'keep-alive'})\n",
      "HTTP response body: \"Slice# 121d5845-e1c2-4292-916e-27b5597b48da already closed\"\n",
      "\n",
      "\n"
     ]
    }
   ],
   "source": [
    "status, result = slice_manager.delete(slice_id=slice_id)\n",
    "\n",
    "print(\"Response Status {}\".format(status))\n",
    "print(\"Response received {}\".format(result))"
   ]
  },
  {
   "cell_type": "code",
   "execution_count": null,
   "metadata": {},
   "outputs": [],
   "source": []
  }
 ],
 "metadata": {
  "kernelspec": {
   "display_name": "Python 3",
   "language": "python",
   "name": "python3"
  },
  "language_info": {
   "codemirror_mode": {
    "name": "ipython",
    "version": 3
   },
   "file_extension": ".py",
   "mimetype": "text/x-python",
   "name": "python",
   "nbconvert_exporter": "python",
   "pygments_lexer": "ipython3",
   "version": "3.8.8"
  }
 },
 "nbformat": 4,
 "nbformat_minor": 4
}

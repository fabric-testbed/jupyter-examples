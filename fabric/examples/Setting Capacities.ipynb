{
 "cells": [
  {
   "cell_type": "markdown",
   "metadata": {},
   "source": [
    "### First, we set up our environment (tokens and such) in order to be able to create a slice. This is not the focus of this tutorial."
   ]
  },
  {
   "cell_type": "code",
   "execution_count": 1,
   "metadata": {},
   "outputs": [
    {
     "name": "stdout",
     "output_type": "stream",
     "text": [
      "CM Host: beta-2.fabric-testbed.net Orchestrator Host: beta-7.fabric-testbed.net\n"
     ]
    }
   ],
   "source": [
    "import os\n",
    "from fabrictestbed.slice_manager import SliceManager, Status\n",
    "import json\n",
    "\n",
    "credmgr_host = os.environ['FABRIC_CREDMGR_HOST']\n",
    "orchestrator_host = os.environ['FABRIC_ORCHESTRATOR_HOST']\n",
    "print(f\"CM Host: {credmgr_host} Orchestrator Host: {orchestrator_host}\")"
   ]
  },
  {
   "cell_type": "code",
   "execution_count": 2,
   "metadata": {},
   "outputs": [
    {
     "name": "stdout",
     "output_type": "stream",
     "text": [
      "Fabric Refresh Token NB2HI4DTHIXS6Y3JNRXWO33OFZXXEZZPN5QXK5DIGIXTIMBXMMZTQMJYHFRDGNDFMM2TCZRXGA4DQOBTHEYDAZBTGM2TQYR7OR4XAZJ5OJSWM4TFONUFI33LMVXCM5DTHUYTMMRVGE2TIMRTHA4DQOBGOZSXE43JN5XD25RSFYYCM3DJMZSXI2LNMU6TQNRUGAYDAMBQ\n",
      "CILOGON_REFRESH_TOKEN environment variable: NB2HI4DTHIXS6Y3JNRXWO33OFZXXEZZPN5QXK5DIGIXTKZTDMVRWMNLBMMZWIZBUGU4WIODEMRSTSZTCGVRTIOJUMZSDMNZ7OR4XAZJ5OJSWM4TFONUFI33LMVXCM5DTHUYTMMRVGE2DAMZTGA3DAMZGOZSXE43JN5XD25RSFYYCM3DJMZSXI2LNMU6TQNRUGAYDAMBQ\n"
     ]
    }
   ],
   "source": [
    "not_found=False\n",
    "fabric_refresh_token=None\n",
    "%store -r fabric_refresh_token\n",
    "\n",
    "if fabric_refresh_token is None:\n",
    "    fabric_refresh_token=os.environ['CILOGON_REFRESH_TOKEN']\n",
    "    %store fabric_refresh_token\n",
    "print(\"Fabric Refresh Token {}\".format(fabric_refresh_token))\n",
    "print(\"CILOGON_REFRESH_TOKEN environment variable: {}\".format(os.environ['CILOGON_REFRESH_TOKEN']))"
   ]
  },
  {
   "cell_type": "code",
   "execution_count": 3,
   "metadata": {},
   "outputs": [],
   "source": [
    "slice_manager = SliceManager(oc_host=orchestrator_host, cm_host=credmgr_host, \n",
    "                             refresh_token=fabric_refresh_token, project_name='all', scope='all')"
   ]
  },
  {
   "cell_type": "markdown",
   "metadata": {},
   "source": [
    "### Get new Fabric Identity Token and update Fabric Refresh Token"
   ]
  },
  {
   "cell_type": "code",
   "execution_count": 4,
   "metadata": {},
   "outputs": [
    {
     "name": "stdout",
     "output_type": "stream",
     "text": [
      "\n",
      "New Refresh Token: NB2HI4DTHIXS6Y3JNRXWO33OFZXXEZZPN5QXK5DIGIXTONBQMU2DCOJQMFQTMMJWGU2GIOLEG43DCZBZGJRTCYZSGVTDSYZ7OR4XAZJ5OJSWM4TFONUFI33LMVXCM5DTHUYTMMRVGE2TIMRZGM4TKNZGOZSXE43JN5XD25RSFYYCM3DJMZSXI2LNMU6TQNRUGAYDAMBQ\n",
      "\n",
      "Stored new Refresh Token\n",
      "Stored 'fabric_refresh_token' (str)\n",
      "\n",
      "\n"
     ]
    }
   ],
   "source": [
    "try:\n",
    "    id_token, refresh_token = slice_manager.refresh_tokens()\n",
    "except Exception as e:\n",
    "    print(\"Exception occurred while getting tokens:{}\".format(e))\n",
    "\n",
    "fabric_refresh_token=slice_manager.get_refresh_token()\n",
    "print()\n",
    "print(\"New Refresh Token: {}\".format(fabric_refresh_token))\n",
    "print()\n",
    "print(\"Stored new Refresh Token\")\n",
    "%store fabric_refresh_token\n",
    "print()\n",
    "print()"
   ]
  },
  {
   "cell_type": "markdown",
   "metadata": {},
   "source": [
    "# Tutorial starts here"
   ]
  },
  {
   "cell_type": "markdown",
   "metadata": {},
   "source": [
    "### We are going to be creating slices that contain one node each.\n",
    "\n",
    "### We need to specify the resources (number of cores, amount of ram and amount of disk space) that we want to allocate to our node.\n",
    "\n",
    "### We can do that in two ways:\n",
    " - Using Capacities()\n",
    " - Using capacity hints."
   ]
  },
  {
   "cell_type": "markdown",
   "metadata": {},
   "source": [
    "### Let's create our first slice that contains one node. We will use `Capacities()` to specify the resources that we want to allocate.\n",
    "\n",
    "### The line `cap.set_fields(core=2, ram=8, disk=10)` specifies that we want to reserve a node with 2 cores, 8GB of RAM and 10GB of disk."
   ]
  },
  {
   "cell_type": "code",
   "execution_count": 5,
   "metadata": {},
   "outputs": [
    {
     "name": "stdout",
     "output_type": "stream",
     "text": [
      "Response Status Status.OK\n",
      "Reservations created [{\n",
      "    \"graph_node_id\": \"758f3d51-6389-4290-824f-2384f64cecbf\",\n",
      "    \"join_state\": \"None_\",\n",
      "    \"lease_end\": \"2021-07-02 15:44:58\",\n",
      "    \"reservation_id\": \"bc35e413-9821-4709-9d98-623c86af37e0\",\n",
      "    \"reservation_state\": \"Unknown\",\n",
      "    \"resource_type\": \"VM\",\n",
      "    \"slice_id\": \"efbc0d18-c881-4bfb-ab1d-a2033325ae04\"\n",
      "}]\n"
     ]
    }
   ],
   "source": [
    "from fabrictestbed.slice_editor import ExperimentTopology, Capacities, ComponentType\n",
    "# Create topology\n",
    "t = ExperimentTopology()\n",
    "\n",
    "# Add node\n",
    "n1 = t.add_node(name='n1', site='UKY')\n",
    "\n",
    "# Set capacities\n",
    "cap = Capacities()\n",
    "cap.set_fields(core=2, ram=8, disk=10)\n",
    "\n",
    "# Set Properties\n",
    "n1.set_properties(capacities=cap, image_type='qcow2', image_ref='default_ubuntu_20')\n",
    "\n",
    "# Generate Slice Graph\n",
    "slice_graph = t.serialize()\n",
    "\n",
    "ssh_key = None\n",
    "with open (\"/home/fabric/.ssh/id_rsa.pub\", \"r\") as myfile:\n",
    "    ssh_key=myfile.read()\n",
    "    ssh_key=ssh_key.strip()\n",
    "\n",
    "# Request slice from Orchestrator\n",
    "status, reservations = slice_manager.create(slice_name='JupyterSlice1', slice_graph=slice_graph, ssh_key=ssh_key)\n",
    "\n",
    "print(\"Response Status {}\".format(status))\n",
    "print(\"Reservations created {}\".format(reservations))"
   ]
  },
  {
   "cell_type": "code",
   "execution_count": 6,
   "metadata": {},
   "outputs": [],
   "source": [
    "# Set the Slice ID from output of the above command\n",
    "slice_id=reservations[0].slice_id"
   ]
  },
  {
   "cell_type": "markdown",
   "metadata": {},
   "source": [
    "### We have issued the request to create the slice with the node. Let's query our slices."
   ]
  },
  {
   "cell_type": "code",
   "execution_count": 9,
   "metadata": {},
   "outputs": [
    {
     "name": "stdout",
     "output_type": "stream",
     "text": [
      "Response Status Status.OK\n",
      "Slices [{\n",
      "    \"graph_id\": \"5b9c7977-8d59-480f-b732-d64cd4ba110b\",\n",
      "    \"slice_id\": \"efbc0d18-c881-4bfb-ab1d-a2033325ae04\",\n",
      "    \"slice_name\": \"JupyterSlice1\",\n",
      "    \"slice_state\": \"StableOK\"\n",
      "}]\n"
     ]
    }
   ],
   "source": [
    "status, slices = slice_manager.slices()\n",
    "\n",
    "print(\"Response Status {}\".format(status))\n",
    "if status == Status.OK:\n",
    "    print(\"Slices {}\".format(slices))"
   ]
  },
  {
   "cell_type": "markdown",
   "metadata": {},
   "source": [
    "### Our slice is ready. Now we can query the slivers (nodes, etc...) that are inside the slice."
   ]
  },
  {
   "cell_type": "code",
   "execution_count": 10,
   "metadata": {},
   "outputs": [
    {
     "name": "stdout",
     "output_type": "stream",
     "text": [
      "Response Status Status.OK\n",
      "Sliver [{\n",
      "    \"allocated_capacities\": \"{\\\"core\\\": 2, \\\"disk\\\": 10, \\\"ram\\\": 8}\",\n",
      "    \"allocated_labels\": \"{\\\"instance\\\": \\\"instance-00000174\\\", \\\"instance_parent\\\": \\\"uky-w1\\\"}\",\n",
      "    \"capacities\": \"{\\\"core\\\": 2, \\\"disk\\\": 10, \\\"ram\\\": 8}\",\n",
      "    \"capacity_hints\": \"{\\\"instance_type\\\": \\\"fabric.c2.m8.d10\\\"}\",\n",
      "    \"graph_node_id\": \"758f3d51-6389-4290-824f-2384f64cecbf\",\n",
      "    \"join_state\": \"NoJoin\",\n",
      "    \"lease_end\": \"2021-07-02 15:44:58\",\n",
      "    \"management_ip\": \"128.163.179.33\",\n",
      "    \"name\": \"n1\",\n",
      "    \"reservation_id\": \"bc35e413-9821-4709-9d98-623c86af37e0\",\n",
      "    \"reservation_state\": \"Active\",\n",
      "    \"resource_type\": \"VM\",\n",
      "    \"site\": \"UKY\",\n",
      "    \"slice_id\": \"efbc0d18-c881-4bfb-ab1d-a2033325ae04\"\n",
      "}]\n"
     ]
    }
   ],
   "source": [
    "status, slivers = slice_manager.slivers(slice_id=slice_id)\n",
    "\n",
    "print(\"Response Status {}\".format(status))\n",
    "if status == Status.OK:\n",
    "    print(\"Sliver {}\".format(slivers))"
   ]
  },
  {
   "cell_type": "markdown",
   "metadata": {},
   "source": [
    "### Let's look carefully at the \"allocated_capacities\" variable."
   ]
  },
  {
   "cell_type": "code",
   "execution_count": 11,
   "metadata": {},
   "outputs": [
    {
     "name": "stdout",
     "output_type": "stream",
     "text": [
      "{ core: 2 , ram: 8 G, disk: 10 G}\n"
     ]
    }
   ],
   "source": [
    "print(slivers[0].allocated_capacities)"
   ]
  },
  {
   "cell_type": "markdown",
   "metadata": {},
   "source": [
    "### It says that our node has 2 cores, 8GB of RAM and 10GB of disk space, which is what we requested.\n",
    "\n",
    "### Now let's delete the slice.\n",
    "\n",
    "<!-- <hr> -->\n",
    "<!-- <hr> -->"
   ]
  },
  {
   "cell_type": "code",
   "execution_count": 12,
   "metadata": {},
   "outputs": [
    {
     "data": {
      "text/plain": [
       "(<Status.OK: 1>, None)"
      ]
     },
     "execution_count": 12,
     "metadata": {},
     "output_type": "execute_result"
    }
   ],
   "source": [
    "slice_manager.delete(slice_id=slice_id)"
   ]
  },
  {
   "cell_type": "markdown",
   "metadata": {},
   "source": [
    "<hr>\n",
    "<hr>"
   ]
  },
  {
   "cell_type": "markdown",
   "metadata": {},
   "source": [
    "### Now let's try something else. Let's try to request 2 cores, 8GB of RAM, and 50GB of disk space.\n",
    "\n",
    "### Again, we are going to use `cap.set_fields(core=2, ram=8, disk=50)`."
   ]
  },
  {
   "cell_type": "code",
   "execution_count": 13,
   "metadata": {},
   "outputs": [
    {
     "name": "stdout",
     "output_type": "stream",
     "text": [
      "Response Status Status.OK\n",
      "Reservations created [{\n",
      "    \"graph_node_id\": \"b1855d04-1b84-49b2-a9b4-8684ddeb15d8\",\n",
      "    \"join_state\": \"None_\",\n",
      "    \"lease_end\": \"2021-07-02 15:46:09\",\n",
      "    \"reservation_id\": \"d84b09f5-2c33-482d-baac-817d2d4cc2db\",\n",
      "    \"reservation_state\": \"Unknown\",\n",
      "    \"resource_type\": \"VM\",\n",
      "    \"slice_id\": \"29c9342c-d937-4b41-94ad-7a75efe39135\"\n",
      "}]\n"
     ]
    }
   ],
   "source": [
    "# Create topology\n",
    "t = ExperimentTopology()\n",
    "\n",
    "# Add node\n",
    "n1 = t.add_node(name='n1', site='UKY')\n",
    "\n",
    "# Set capacities\n",
    "cap = Capacities()\n",
    "cap.set_fields(core=2, ram=8, disk=50)\n",
    "\n",
    "# Set Properties\n",
    "n1.set_properties(capacities=cap, image_type='qcow2', image_ref='default_ubuntu_20')\n",
    "\n",
    "# Generate Slice Graph\n",
    "slice_graph = t.serialize()\n",
    "\n",
    "ssh_key = None\n",
    "with open (\"/home/fabric/.ssh/id_rsa.pub\", \"r\") as myfile:\n",
    "    ssh_key=myfile.read()\n",
    "    ssh_key=ssh_key.strip()\n",
    "\n",
    "# Request slice from Orchestrator\n",
    "status, reservations = slice_manager.create(slice_name='JupyterSlice2', slice_graph=slice_graph, ssh_key=ssh_key)\n",
    "\n",
    "print(\"Response Status {}\".format(status))\n",
    "print(\"Reservations created {}\".format(reservations))"
   ]
  },
  {
   "cell_type": "code",
   "execution_count": 14,
   "metadata": {},
   "outputs": [],
   "source": [
    "# Set the Slice ID from output of the above command\n",
    "slice_id=reservations[0].slice_id"
   ]
  },
  {
   "cell_type": "markdown",
   "metadata": {},
   "source": [
    "### We have issued the request. Let's check our slices again."
   ]
  },
  {
   "cell_type": "code",
   "execution_count": 17,
   "metadata": {},
   "outputs": [
    {
     "name": "stdout",
     "output_type": "stream",
     "text": [
      "Response Status Status.OK\n",
      "Slices [{\n",
      "    \"graph_id\": \"407fd181-0e07-4965-9de2-202a37e63280\",\n",
      "    \"slice_id\": \"29c9342c-d937-4b41-94ad-7a75efe39135\",\n",
      "    \"slice_name\": \"JupyterSlice2\",\n",
      "    \"slice_state\": \"StableOK\"\n",
      "}]\n"
     ]
    }
   ],
   "source": [
    "status, slices = slice_manager.slices()\n",
    "\n",
    "print(\"Response Status {}\".format(status))\n",
    "if status == Status.OK:\n",
    "    print(\"Slices {}\".format(slices))"
   ]
  },
  {
   "cell_type": "markdown",
   "metadata": {},
   "source": [
    "### And then query our slivers."
   ]
  },
  {
   "cell_type": "code",
   "execution_count": 18,
   "metadata": {},
   "outputs": [
    {
     "name": "stdout",
     "output_type": "stream",
     "text": [
      "Response Status Status.OK\n",
      "Sliver [{\n",
      "    \"allocated_capacities\": \"{\\\"core\\\": 2, \\\"disk\\\": 100, \\\"ram\\\": 8}\",\n",
      "    \"allocated_labels\": \"{\\\"instance\\\": \\\"instance-00000175\\\", \\\"instance_parent\\\": \\\"uky-w1\\\"}\",\n",
      "    \"capacities\": \"{\\\"core\\\": 2, \\\"disk\\\": 50, \\\"ram\\\": 8}\",\n",
      "    \"capacity_hints\": \"{\\\"instance_type\\\": \\\"fabric.c2.m8.d100\\\"}\",\n",
      "    \"graph_node_id\": \"b1855d04-1b84-49b2-a9b4-8684ddeb15d8\",\n",
      "    \"join_state\": \"NoJoin\",\n",
      "    \"lease_end\": \"2021-07-02 15:46:09\",\n",
      "    \"management_ip\": \"128.163.179.25\",\n",
      "    \"name\": \"n1\",\n",
      "    \"reservation_id\": \"d84b09f5-2c33-482d-baac-817d2d4cc2db\",\n",
      "    \"reservation_state\": \"Active\",\n",
      "    \"resource_type\": \"VM\",\n",
      "    \"site\": \"UKY\",\n",
      "    \"slice_id\": \"29c9342c-d937-4b41-94ad-7a75efe39135\"\n",
      "}]\n"
     ]
    }
   ],
   "source": [
    "status, slivers = slice_manager.slivers(slice_id=slice_id)\n",
    "\n",
    "print(\"Response Status {}\".format(status))\n",
    "if status == Status.OK:\n",
    "    print(\"Sliver {}\".format(slivers))"
   ]
  },
  {
   "cell_type": "markdown",
   "metadata": {},
   "source": [
    "### And then we can look at the `allocated_capacities` variable."
   ]
  },
  {
   "cell_type": "code",
   "execution_count": 19,
   "metadata": {},
   "outputs": [
    {
     "name": "stdout",
     "output_type": "stream",
     "text": [
      "{ core: 2 , ram: 8 G, disk: 100 G}\n"
     ]
    }
   ],
   "source": [
    "print(slivers[0].allocated_capacities)"
   ]
  },
  {
   "cell_type": "markdown",
   "metadata": {},
   "source": [
    "### We can see that we were allocated 2 cores, 8GB of ram, but 100GB of disk space instead of 50GB.\n",
    "\n",
    "### The reason for this is that we have discrete \"capacity hints\". The node can only be an instance of one of those capacity hints.\n",
    "\n",
    "### _See the very last cell in this notebook for the complete list of available capacity hints._\n",
    "\n",
    "### This is an exerpt of the available capacity hints.\n",
    "\n",
    "    \"fabric.c16.m64.d10\": {\"core\":16, \"ram\":64, \"disk\": 10},\n",
    "    \"fabric.c32.m128.d10\": {\"core\":32, \"ram\":128, \"disk\": 10},\n",
    "    \"fabric.c1.m4.d100\": {\"core\":1, \"ram\":4, \"disk\": 100},\n",
    "    \"fabric.c2.m8.d100\": {\"core\":2, \"ram\":8, \"disk\": 100},\n",
    "    \"fabric.c4.m16.d100\": {\"core\":4, \"ram\":16, \"disk\": 100},\n",
    "\n",
    "### We can see that the disk space can only be 10GB or 100GB. So when we requested 50GB, it was rounded up to 100GB.\n",
    "\n",
    "<!-- <hr> -->\n",
    "<!-- <hr> -->"
   ]
  },
  {
   "cell_type": "markdown",
   "metadata": {},
   "source": [
    "### Now let's delete the slice."
   ]
  },
  {
   "cell_type": "code",
   "execution_count": 21,
   "metadata": {},
   "outputs": [
    {
     "data": {
      "text/plain": [
       "(<Status.OK: 1>, None)"
      ]
     },
     "execution_count": 21,
     "metadata": {},
     "output_type": "execute_result"
    }
   ],
   "source": [
    "slice_manager.delete(slice_id=slice_id)"
   ]
  },
  {
   "cell_type": "markdown",
   "metadata": {},
   "source": [
    "<hr>\n",
    "<hr>"
   ]
  },
  {
   "cell_type": "markdown",
   "metadata": {},
   "source": [
    "### Finally, we can directly set the resources that we need using a \"capacity hint\" string. _Please see the very last cell in this notebook for the complete list of available capacity hints._\n",
    "\n",
    "### We can set the needed resources like so:\n",
    "\n",
    "### `capacity_hints=CapacityHints().set_fields(instance_type='fabric.c2.m8.d10')`.\n",
    "\n",
    "### This would reserve a node with 2 processor cores, 8GB of memory and 10GB of disk space.\n",
    " - The number next to the `c` is the number of cores.\n",
    " - The number next to the `m` is the amount of memory in GB.\n",
    " - The number next to the `d` is the amount of disk space in GB.\n",
    "\n",
    "### We can pick any capacity hint string from the list."
   ]
  },
  {
   "cell_type": "code",
   "execution_count": 22,
   "metadata": {},
   "outputs": [
    {
     "name": "stdout",
     "output_type": "stream",
     "text": [
      "Response Status Status.OK\n",
      "Reservations created [{\n",
      "    \"graph_node_id\": \"3b527901-a5fc-4682-ab95-f56fc8c0dc8a\",\n",
      "    \"join_state\": \"None_\",\n",
      "    \"lease_end\": \"2021-07-02 15:47:27\",\n",
      "    \"reservation_id\": \"23d1faf0-7961-49ac-8925-3c9e568da9f6\",\n",
      "    \"reservation_state\": \"Unknown\",\n",
      "    \"resource_type\": \"VM\",\n",
      "    \"slice_id\": \"188018cd-8684-43fa-9c0f-c7b40b5279a0\"\n",
      "}]\n"
     ]
    }
   ],
   "source": [
    "from fabrictestbed.slice_editor import ExperimentTopology, Capacities, ComponentType, CapacityHints\n",
    "# Create topology\n",
    "t = ExperimentTopology()\n",
    "\n",
    "# Add node\n",
    "n1 = t.add_node(name='n1', site='UKY')\n",
    "\n",
    "# Set Properties\n",
    "n1.set_properties(capacity_hints=CapacityHints().set_fields(instance_type='fabric.c2.m8.d10'), image_type='qcow2', image_ref='default_ubuntu_20')\n",
    "\n",
    "# Generate Slice Graph\n",
    "slice_graph = t.serialize()\n",
    "\n",
    "ssh_key = None\n",
    "with open (\"/home/fabric/.ssh/id_rsa.pub\", \"r\") as myfile:\n",
    "    ssh_key=myfile.read()\n",
    "    ssh_key=ssh_key.strip()\n",
    "\n",
    "# Request slice from Orchestrator\n",
    "status, reservations = slice_manager.create(slice_name='JupyterSlice3', slice_graph=slice_graph, ssh_key=ssh_key)\n",
    "\n",
    "print(\"Response Status {}\".format(status))\n",
    "print(\"Reservations created {}\".format(reservations))"
   ]
  },
  {
   "cell_type": "code",
   "execution_count": 23,
   "metadata": {},
   "outputs": [],
   "source": [
    "# Set the Slice ID from output of the above command\n",
    "slice_id=reservations[0].slice_id"
   ]
  },
  {
   "cell_type": "markdown",
   "metadata": {},
   "source": [
    "### Let's check our slices"
   ]
  },
  {
   "cell_type": "code",
   "execution_count": 25,
   "metadata": {},
   "outputs": [
    {
     "name": "stdout",
     "output_type": "stream",
     "text": [
      "Response Status Status.OK\n",
      "Slices [{\n",
      "    \"graph_id\": \"ca0df5e6-cb7e-4d02-a4aa-fcca57e93747\",\n",
      "    \"slice_id\": \"188018cd-8684-43fa-9c0f-c7b40b5279a0\",\n",
      "    \"slice_name\": \"JupyterSlice3\",\n",
      "    \"slice_state\": \"StableOK\"\n",
      "}]\n"
     ]
    }
   ],
   "source": [
    "status, slices = slice_manager.slices()\n",
    "\n",
    "print(\"Response Status {}\".format(status))\n",
    "if status == Status.OK:\n",
    "    print(\"Slices {}\".format(slices))"
   ]
  },
  {
   "cell_type": "markdown",
   "metadata": {},
   "source": [
    "### Now let's query the slivers in JupyterSlice3."
   ]
  },
  {
   "cell_type": "code",
   "execution_count": 26,
   "metadata": {},
   "outputs": [
    {
     "name": "stdout",
     "output_type": "stream",
     "text": [
      "Response Status Status.OK\n",
      "Sliver [{\n",
      "    \"allocated_capacities\": \"{\\\"core\\\": 2, \\\"disk\\\": 10, \\\"ram\\\": 8}\",\n",
      "    \"allocated_labels\": \"{\\\"instance\\\": \\\"instance-00000176\\\", \\\"instance_parent\\\": \\\"uky-w1\\\"}\",\n",
      "    \"capacities\": \"{\\\"core\\\": 2, \\\"disk\\\": 10, \\\"ram\\\": 8}\",\n",
      "    \"capacity_hints\": \"{\\\"instance_type\\\": \\\"fabric.c2.m8.d10\\\"}\",\n",
      "    \"graph_node_id\": \"3b527901-a5fc-4682-ab95-f56fc8c0dc8a\",\n",
      "    \"join_state\": \"NoJoin\",\n",
      "    \"lease_end\": \"2021-07-02 15:47:27\",\n",
      "    \"management_ip\": \"128.163.179.44\",\n",
      "    \"name\": \"n1\",\n",
      "    \"reservation_id\": \"23d1faf0-7961-49ac-8925-3c9e568da9f6\",\n",
      "    \"reservation_state\": \"Active\",\n",
      "    \"resource_type\": \"VM\",\n",
      "    \"site\": \"UKY\",\n",
      "    \"slice_id\": \"188018cd-8684-43fa-9c0f-c7b40b5279a0\"\n",
      "}]\n"
     ]
    }
   ],
   "source": [
    "status, slivers = slice_manager.slivers(slice_id=slice_id)\n",
    "\n",
    "print(\"Response Status {}\".format(status))\n",
    "if status == Status.OK:\n",
    "    print(\"Sliver {}\".format(slivers))"
   ]
  },
  {
   "cell_type": "markdown",
   "metadata": {},
   "source": [
    "### Let's focus on the `allocated_capacities` varible."
   ]
  },
  {
   "cell_type": "code",
   "execution_count": 27,
   "metadata": {},
   "outputs": [
    {
     "name": "stdout",
     "output_type": "stream",
     "text": [
      "{ core: 2 , ram: 8 G, disk: 10 G}\n"
     ]
    }
   ],
   "source": [
    "print(slivers[0].allocated_capacities)"
   ]
  },
  {
   "cell_type": "markdown",
   "metadata": {},
   "source": [
    "### We can see that we got the resources that we requested."
   ]
  },
  {
   "cell_type": "markdown",
   "metadata": {},
   "source": [
    "### Now let's delete the slice."
   ]
  },
  {
   "cell_type": "code",
   "execution_count": 28,
   "metadata": {},
   "outputs": [
    {
     "data": {
      "text/plain": [
       "(<Status.OK: 1>, None)"
      ]
     },
     "execution_count": 28,
     "metadata": {},
     "output_type": "execute_result"
    }
   ],
   "source": [
    "slice_manager.delete(slice_id=slice_id)"
   ]
  },
  {
   "cell_type": "markdown",
   "metadata": {},
   "source": [
    "<hr>\n",
    "<hr>"
   ]
  },
  {
   "cell_type": "markdown",
   "metadata": {},
   "source": [
    "# Available capacity hints (and their descriptions) below."
   ]
  },
  {
   "cell_type": "markdown",
   "metadata": {},
   "source": [
    "    {\n",
    "      \"fabric.c1.m4.d10\": {\"core\":1, \"ram\":4, \"disk\": 10},\n",
    "      \"fabric.c2.m8.d10\": {\"core\":2, \"ram\":8, \"disk\": 10},\n",
    "      \"fabric.c4.m16.d10\": {\"core\":4, \"ram\":16, \"disk\": 10},\n",
    "      \"fabric.c8.m32.d10\": {\"core\":8, \"ram\":32, \"disk\": 10},\n",
    "      \"fabric.c16.m64.d10\": {\"core\":16, \"ram\":64, \"disk\": 10},\n",
    "      \"fabric.c32.m128.d10\": {\"core\":32, \"ram\":128, \"disk\": 10},\n",
    "      \"fabric.c1.m4.d100\": {\"core\":1, \"ram\":4, \"disk\": 100},\n",
    "      \"fabric.c2.m8.d100\": {\"core\":2, \"ram\":8, \"disk\": 100},\n",
    "      \"fabric.c4.m16.d100\": {\"core\":4, \"ram\":16, \"disk\": 100},\n",
    "      \"fabric.c8.m32.d100\": {\"core\":8, \"ram\":32, \"disk\": 100},\n",
    "      \"fabric.c16.m64.d100\": {\"core\":16, \"ram\":64, \"disk\": 100},\n",
    "      \"fabric.c32.m128.d100\": {\"core\":32, \"ram\":128, \"disk\": 100},\n",
    "      \"fabric.c1.m4.d500\": {\"core\":1, \"ram\":4, \"disk\": 500},\n",
    "      \"fabric.c2.m8.d500\": {\"core\":2, \"ram\":8, \"disk\": 500},\n",
    "      \"fabric.c4.m16.d500\": {\"core\":4, \"ram\":16, \"disk\": 500},\n",
    "      \"fabric.c8.m32.d500\": {\"core\":8, \"ram\":32, \"disk\": 500},\n",
    "      \"fabric.c16.m64.d500\": {\"core\":16, \"ram\":64, \"disk\": 500},\n",
    "      \"fabric.c32.m128.d500\": {\"core\":32, \"ram\":128, \"disk\": 500},\n",
    "      \"fabric.c1.m4.d2000\": {\"core\":1, \"ram\":4, \"disk\": 2000},\n",
    "      \"fabric.c2.m8.d2000\": {\"core\":2, \"ram\":8, \"disk\": 2000},\n",
    "      \"fabric.c4.m16.d2000\": {\"core\":4, \"ram\":16, \"disk\": 2000},\n",
    "      \"fabric.c8.m32.d2000\": {\"core\":8, \"ram\":32, \"disk\": 2000},\n",
    "      \"fabric.c16.m64.d2000\": {\"core\":16, \"ram\":64, \"disk\": 2000},\n",
    "      \"fabric.c32.m128.d2000\": {\"core\":32, \"ram\":128, \"disk\": 2000},\n",
    "      \"fabric.c64.m384.d4000\": {\"core\":64, \"ram\":384, \"disk\": 4000}\n",
    "    }"
   ]
  }
 ],
 "metadata": {
  "kernelspec": {
   "display_name": "Python 3",
   "language": "python",
   "name": "python3"
  },
  "language_info": {
   "codemirror_mode": {
    "name": "ipython",
    "version": 3
   },
   "file_extension": ".py",
   "mimetype": "text/x-python",
   "name": "python",
   "nbconvert_exporter": "python",
   "pygments_lexer": "ipython3",
   "version": "3.9.2"
  }
 },
 "nbformat": 4,
 "nbformat_minor": 4
}

{
 "cells": [
  {
   "cell_type": "markdown",
   "metadata": {
    "tags": []
   },
   "source": [
    "# Managing your FABRIC Credentials "
   ]
  },
  {
   "cell_type": "markdown",
   "metadata": {},
   "source": [
    "#### [1. About](#about)\n",
    "#### [2. Step-by-step Setup](#setup)\n",
    "#### [3. Next Steps](#next)"
   ]
  },
  {
   "cell_type": "markdown",
   "metadata": {},
   "source": [
    "<a id='about'></a>\n",
    "# About\n",
    "\n",
    "The FABRIC API is used via proxy objects that manage connections to the control framework and allow the user to reserve and access physical resources. For any experimentation on the FABRIC testbed it is therefore required take a few steps to establish a connection gateway to the system. This is done via:\n",
    "\n",
    "- A credential manager proxy, `Slice Manager`. \n",
    "- Authentication `Tokens`.\n",
    "- `SSH Keys`. "
   ]
  },
  {
   "cell_type": "code",
   "execution_count": null,
   "metadata": {},
   "outputs": [],
   "source": [
    "help(SliceManager)"
   ]
  },
  {
   "cell_type": "markdown",
   "metadata": {},
   "source": [
    "### Tokens    \n",
    "Fabric uses two kinds of tokens:\n",
    "\n",
    "- `Refresh Token`: When a user logins to Jupyterhub after authenticating against CILogon, an initial refresh token is automatically derived. This token is available as the environment variable `CILOGON_REFRESH_TOKEN` and is used to generate the initial Identity Token. On every call to the [refresh_tokens()](#refresh) method, Fabric Refresh Token is updated. `Each Refresh Token is valid for 24 hours.`\n",
    "\n",
    "- `Identity Token`: The control/measurement framework APIs require an Identity Token. Identity tokens can be generated from a valid Refresh Token at any time. On creation/refresh The new ID token is added to the users environment variables. `Each Identity Token is valid upto an hour.`\n",
    "\n",
    "**Note:** Tokens are not used as explicit arguments to FABRIC API functions but need to be generated/refreshed and saved manually so they can do their job in the background. Without valid tokens in the environment a user cannot make slice reservation!"
   ]
  },
  {
   "cell_type": "markdown",
   "metadata": {},
   "source": [
    "### SSH \n",
    "To access the physical nodes at FABRIC, the user needs an `SSH Key`.`SSH` is used when requesting to create a slice and when configuring nodes."
   ]
  },
  {
   "cell_type": "markdown",
   "metadata": {},
   "source": [
    "<a id='setup'></a>\n",
    "# Step-by-step Setup\n",
    "\n",
    "### 1. Save the Initial Refresh Token\n",
    "\n",
    "The first step is to retrieve or set the `Refresh Token` (exprires 24 hours after login)."
   ]
  },
  {
   "cell_type": "code",
   "execution_count": null,
   "metadata": {},
   "outputs": [],
   "source": [
    "import os\n",
    "\n",
    "fabric_refresh_token=None\n",
    "%store -r fabric_refresh_token  #store OR retrieve -r\n",
    "\n",
    "if fabric_refresh_token is None:\n",
    "    fabric_refresh_token=os.environ['CILOGON_REFRESH_TOKEN']\n",
    "    %store fabric_refresh_token\n",
    "\n",
    "print(\"Refresh Token: {}\".format(fabric_refresh_token))"
   ]
  },
  {
   "cell_type": "markdown",
   "metadata": {},
   "source": [
    "### 2. Create a Slice Manager\n",
    "\n",
    "Using the `Refresh Token`, an instance of `Slice Manager` is created.\n",
    "\n",
    "Environment variables `FABRIC_CREDMGR_HOST` and `FABRIC_ORCHESTRATOR_HOST` are passed to the constructor to set the values for the Credential Manager Host and Orchestrator Client Host in `Slice Manager`.\n",
    "\n",
    "Users can request tokens with different Project and Scopes by altering `project_name` and `scope` parameters."
   ]
  },
  {
   "cell_type": "code",
   "execution_count": null,
   "metadata": {},
   "outputs": [],
   "source": [
    "import os\n",
    "import json\n",
    "from fabrictestbed.slice_manager import SliceManager, Status\n",
    "\n",
    "credmgr_host = os.environ['FABRIC_CREDMGR_HOST']\n",
    "orchestrator_host = os.environ['FABRIC_ORCHESTRATOR_HOST']\n",
    "print(f\"CM Host: {credmgr_host} Orchestrator Host: {orchestrator_host}\")\n",
    "\n",
    "# Create Slice Manager\n",
    "slice_manager = SliceManager(oc_host=orchestrator_host, cm_host=credmgr_host, \n",
    "                             refresh_token=fabric_refresh_token, project_name='all', scope='all')"
   ]
  },
  {
   "cell_type": "markdown",
   "metadata": {
    "tags": []
   },
   "source": [
    "<a id='refresh'></a>\n",
    "### 3. Generate/Refresh ID Token\n",
    "\n",
    "After `Slice Manager` has been created, the `ID Token` can be generated or refreshed. **Since ID Tokens expire after one hour, the user should rememeber to re-run this command frequently.** \n",
    "\n",
    "**Note:** the same command, `slice_manager.refresh_tokens()`, is used both to generate the initial ID Token and to refresh the ID and Refresh tokens."
   ]
  },
  {
   "cell_type": "code",
   "execution_count": 1,
   "metadata": {
    "tags": []
   },
   "outputs": [
    {
     "name": "stdout",
     "output_type": "stream",
     "text": [
      "Exception occurred while getting tokens:name 'slice_manager' is not defined\n"
     ]
    },
    {
     "ename": "NameError",
     "evalue": "name 'slice_manager' is not defined",
     "output_type": "error",
     "traceback": [
      "\u001b[0;31m---------------------------------------------------------------------------\u001b[0m",
      "\u001b[0;31mNameError\u001b[0m                                 Traceback (most recent call last)",
      "\u001b[0;32m<ipython-input-1-239c97eac0bb>\u001b[0m in \u001b[0;36m<module>\u001b[0;34m\u001b[0m\n\u001b[1;32m      4\u001b[0m     \u001b[0mprint\u001b[0m\u001b[0;34m(\u001b[0m\u001b[0;34m\"Exception occurred while getting tokens:{}\"\u001b[0m\u001b[0;34m.\u001b[0m\u001b[0mformat\u001b[0m\u001b[0;34m(\u001b[0m\u001b[0me\u001b[0m\u001b[0;34m)\u001b[0m\u001b[0;34m)\u001b[0m\u001b[0;34m\u001b[0m\u001b[0;34m\u001b[0m\u001b[0m\n\u001b[1;32m      5\u001b[0m \u001b[0;34m\u001b[0m\u001b[0m\n\u001b[0;32m----> 6\u001b[0;31m \u001b[0mfabric_refresh_token\u001b[0m\u001b[0;34m=\u001b[0m\u001b[0mslice_manager\u001b[0m\u001b[0;34m.\u001b[0m\u001b[0mget_refresh_token\u001b[0m\u001b[0;34m(\u001b[0m\u001b[0;34m)\u001b[0m\u001b[0;34m\u001b[0m\u001b[0;34m\u001b[0m\u001b[0m\n\u001b[0m\u001b[1;32m      7\u001b[0m \u001b[0mprint\u001b[0m\u001b[0;34m(\u001b[0m\u001b[0;34m)\u001b[0m\u001b[0;34m\u001b[0m\u001b[0;34m\u001b[0m\u001b[0m\n\u001b[1;32m      8\u001b[0m \u001b[0mprint\u001b[0m\u001b[0;34m(\u001b[0m\u001b[0;34m\"New Refresh Token: {}\"\u001b[0m\u001b[0;34m.\u001b[0m\u001b[0mformat\u001b[0m\u001b[0;34m(\u001b[0m\u001b[0mfabric_refresh_token\u001b[0m\u001b[0;34m)\u001b[0m\u001b[0;34m)\u001b[0m\u001b[0;34m\u001b[0m\u001b[0;34m\u001b[0m\u001b[0m\n",
      "\u001b[0;31mNameError\u001b[0m: name 'slice_manager' is not defined"
     ]
    }
   ],
   "source": [
    "try:\n",
    "    id_token, refresh_token = slice_manager.refresh_tokens()\n",
    "except Exception as e:\n",
    "    print(\"Exception occurred while getting tokens:{}\".format(e))\n",
    "\n",
    "fabric_refresh_token=slice_manager.get_refresh_token()\n",
    "print()\n",
    "print(\"New Refresh Token: {}\".format(fabric_refresh_token))\n",
    "print()\n",
    "print(\"New Id Token: {}\".format(fabric_id_token))\n",
    "print()\n",
    "print(\"Stored new Refresh and ID Tokens\")\n",
    "%store fabric_refresh_token \n",
    "%store fabric_id_token\n",
    "print()"
   ]
  },
  {
   "cell_type": "markdown",
   "metadata": {
    "tags": []
   },
   "source": [
    "### 4. Find and Save the SSH Key\n",
    "\n",
    "An `SSH Key` is needed to access the users physical nodes at FABRIC. A file with the key is already present in the environment under `/home/fabric/.ssh/id_rsa.pub` but needs to be read into a variable. The SSH Key should be passed as an argument when requesting to make a new slice."
   ]
  },
  {
   "cell_type": "code",
   "execution_count": 1,
   "metadata": {
    "tags": []
   },
   "outputs": [],
   "source": [
    "ssh_key = None\n",
    "with open (\"/home/fabric/.ssh/id_rsa.pub\", \"r\") as myfile:\n",
    "    ssh_key=myfile.read().strip()\n",
    "\n",
    "#USAGE:\n",
    "    #In requesting slice from Orchestrator\n",
    "    #status, reservations = slice_manager.create(slice_name=slice_name, slice_graph=slice_graph, ssh_key=ssh_key)"
   ]
  },
  {
   "cell_type": "markdown",
   "metadata": {},
   "source": [
    "### 5. SSH and the Paramiko library\n",
    "\n",
    "For the Configuring of nodes, a more elaborate SSH framework is needed. Using the python `paramiko library` the user creates an `SSH Client` object and retrieves the key from the .shh folder. Through this client a connection is made to the Management IP of each sliver (each node) allowing the client to execute a desired script on the slivers/nodes."
   ]
  },
  {
   "cell_type": "code",
   "execution_count": 3,
   "metadata": {},
   "outputs": [],
   "source": [
    "import paramiko \n",
    "\n",
    "key = paramiko.RSAKey.from_private_key_file(\"/home/fabric/.ssh/id_rsa\")\n",
    "client = paramiko.SSHClient()\n",
    "client.load_system_host_keys()\n",
    "client.set_missing_host_key_policy(paramiko.MissingHostKeyPolicy())\n",
    "\n",
    "#USAGE:\n",
    "    #when running scripts on nodes\n",
    "    #for sliver in slivers:\n",
    "    #    node_name = sliver.name\n",
    "    #    management_ip = sliver.management_ip\n",
    "\n",
    "    #    print(\"Node {0} IP {1}\".format(node_name, management_ip))\n",
    "\n",
    "    #    client.connect(management_ip,username='ubuntu',pkey = key)\n",
    "\n",
    "    #    stdin, stdout, stderr = client.exec_command('echo \\\"' + script + '\\\" > script.sh; chmod +x script.sh; sudo ./script.sh')\n",
    "    #    print ('')\n",
    "    #    print (str(stdout.read(),'utf-8').replace('\\\\n','\\n'))\n",
    "\n",
    "    #    client.close()"
   ]
  },
  {
   "cell_type": "markdown",
   "metadata": {
    "tags": []
   },
   "source": [
    "<a id='next'></a>\n",
    "# Next Steps\n",
    "\n",
    "Continue getting to know FABRIC!\n",
    "\n",
    "- [Get Available resources](get_available_resources.ipynb)<br>\n",
    "- [Single Node](single_node.ipynb)<br>\n",
    "- [Renew Existing Slice](renew_existing_slice.ipynb)<br>\n",
    "- [Delete Existing Slice](delete_existing_slice.ipynb)<br>"
   ]
  }
 ],
 "metadata": {
  "kernelspec": {
   "display_name": "Python 3",
   "language": "python",
   "name": "python3"
  },
  "language_info": {
   "codemirror_mode": {
    "name": "ipython",
    "version": 3
   },
   "file_extension": ".py",
   "mimetype": "text/x-python",
   "name": "python",
   "nbconvert_exporter": "python",
   "pygments_lexer": "ipython3",
   "version": "3.9.2"
  },
  "metadata": {
   "interpreter": {
    "hash": "aee8b7b246df8f9039afb4144a1f6fd8d2ca17a180786b69acc140d282b71a49"
   }
  }
 },
 "nbformat": 4,
 "nbformat_minor": 4
}
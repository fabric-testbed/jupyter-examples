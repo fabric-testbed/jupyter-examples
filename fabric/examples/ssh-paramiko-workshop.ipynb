{
 "cells": [
  {
   "cell_type": "markdown",
   "id": "82262f86-887b-4c4e-aafa-3078c49ffc8c",
   "metadata": {},
   "source": [
    "## Configure the Environment\n",
    "\n",
    "Import FABRIC and Paramiko packages, define program constants, and declare certain variables for keys and tokens"
   ]
  },
  {
   "cell_type": "code",
   "execution_count": null,
   "id": "2f719705-6f82-411b-acbe-bd5ba9c5b3a7",
   "metadata": {},
   "outputs": [],
   "source": [
    "import os\n",
    "import time\n",
    "import json\n",
    "\n",
    "from fabrictestbed.slice_manager import SliceManager, Status\n",
    "\n",
    "import paramiko\n",
    "\n",
    "slice_id=None  # Set to your slice ID if you already have a slice\n",
    "\n",
    "VERBOSE=False  # Set to true for more output\n",
    "CLEANUP=False  # Set to true to be able to delete nodes in cleanup section\n",
    "\n",
    "fabric_refresh_token=None\n",
    "ssh_key = None"
   ]
  },
  {
   "cell_type": "markdown",
   "id": "49296834-3402-4ddd-a9db-038deda1f80c",
   "metadata": {},
   "source": [
    "### Save the Initial Refresh Token"
   ]
  },
  {
   "cell_type": "code",
   "execution_count": null,
   "id": "1c647883-6a5e-4331-a6b3-12757bf71474",
   "metadata": {},
   "outputs": [],
   "source": [
    "if fabric_refresh_token is None:\n",
    "    fabric_refresh_token=os.environ['CILOGON_REFRESH_TOKEN']\n",
    "\n",
    "%store fabric_refresh_token\n",
    "\n",
    "if VERBOSE:\n",
    "    print(\"Refresh Token: {}\".format(fabric_refresh_token))"
   ]
  },
  {
   "cell_type": "markdown",
   "id": "df8b6a30-2500-484f-8639-e63c02588c58",
   "metadata": {},
   "source": [
    "### Create Slice Manager\n",
    "\n",
    "The slice manager allows for us to reserve and access physical resources from FABRIC."
   ]
  },
  {
   "cell_type": "code",
   "execution_count": null,
   "id": "70e94cd8-7d2c-401f-a04a-136fdfd9fd70",
   "metadata": {},
   "outputs": [],
   "source": [
    "credmgr_host = os.environ['FABRIC_CREDMGR_HOST']\n",
    "orchestrator_host = os.environ['FABRIC_ORCHESTRATOR_HOST']\n",
    "print(f\"CM Host: {credmgr_host} Orchestrator Host: {orchestrator_host}\")\n",
    "\n",
    "# Create Slice Manager\n",
    "slice_manager = SliceManager(oc_host=orchestrator_host, cm_host=credmgr_host, \n",
    "                             refresh_token=fabric_refresh_token, project_name='all', scope='all')"
   ]
  },
  {
   "cell_type": "markdown",
   "id": "d5d24135-e49c-4eec-aa1a-de7651bf0057",
   "metadata": {},
   "source": [
    "### Refresh the ID Token"
   ]
  },
  {
   "cell_type": "code",
   "execution_count": null,
   "id": "0d201fc0-93fe-48ba-a4df-59d9aae2dbc2",
   "metadata": {},
   "outputs": [],
   "source": [
    "try:\n",
    "    id_token, refresh_token = slice_manager.refresh_tokens()\n",
    "except Exception as e:\n",
    "    print(\"Exception occurred while getting tokens:{}\".format(e))\n",
    "\n",
    "fabric_refresh_token=slice_manager.get_refresh_token()\n",
    "if VERBOSE:\n",
    "    print(\"New Refresh Token: {}\".format(fabric_refresh_token))\n",
    "    print(\"Stored new Refresh Token\")\n",
    "    %store fabric_refresh_token"
   ]
  },
  {
   "cell_type": "markdown",
   "id": "71efaa5a-4d5e-4d97-9fdb-2769fb927617",
   "metadata": {},
   "source": [
    "### Configure SSH Key\n",
    "\n",
    "We need this key so that we can access our physical nodes at FABRIC."
   ]
  },
  {
   "cell_type": "code",
   "execution_count": null,
   "id": "60a85430-6e63-4a9c-9e37-8e69712e1f02",
   "metadata": {},
   "outputs": [],
   "source": [
    "with open (\"/home/fabric/.ssh/id_rsa.pub\", \"r\") as myfile:\n",
    "    ssh_key=myfile.read().strip()"
   ]
  },
  {
   "cell_type": "markdown",
   "id": "27026d50-8d83-4526-8e1d-d2cfffae3f45",
   "metadata": {},
   "source": [
    "## Provision Resources"
   ]
  },
  {
   "cell_type": "markdown",
   "id": "6459d77d-2b30-4ee9-99a8-822af230ac67",
   "metadata": {},
   "source": [
    "### Provision/Query Slice\n",
    "\n",
    "If no slice ID was defined by the user, this cell will create a new slice and obtain its ID. Once an ID is obtained, we will run a slice manager checking the given slice's status until it is stable for us to work with."
   ]
  },
  {
   "cell_type": "code",
   "execution_count": null,
   "id": "951e6b0c-ce1f-49d3-b222-f7a3f231e2f9",
   "metadata": {},
   "outputs": [],
   "source": [
    "if slice_id == None:\n",
    "    from fabrictestbed.slice_editor import ExperimentTopology, Capacities, ComponentType, LinkType, Layer\n",
    "    \n",
    "    # Create Experiment Topology\n",
    "    experiemnt = ExperimentTopology()\n",
    "    slice_name=\"ParamikoSlice\"\n",
    "    \n",
    "    # Add Node1 with: GPU: 1xSharedConnectX-6, 1xRTX6000, 1xP4510\n",
    "    node1 = experiemnt.add_node(name='node1', site='RENC')\n",
    "\n",
    "    node1_capacity = Capacities()\n",
    "    node1_capacity.set_fields(core=2, ram=16, disk=100)\n",
    "    node1.set_properties(capacities=node1_capacity, image_type='qcow2', image_ref='default_ubuntu_20')\n",
    "\n",
    "    node1_nvme = node1.add_component(ctype=ComponentType.NVME, model='P4510', name='n1_nvme')\n",
    "    node1_gpu  = node1.add_component(ctype=ComponentType.GPU, model='RTX6000', name='n1_gpu')\n",
    "    node1_nic = node1.add_component(ctype=ComponentType.SharedNIC, model='ConnectX-6', name='n1_nic')\n",
    "    \n",
    "    slice_graph = experiemnt.serialize()\n",
    "\n",
    "    # Request slice from Orchestrator\n",
    "    status, reservations = slice_manager.create(slice_name=slice_name, slice_graph=slice_graph, ssh_key=ssh_key)\n",
    "\n",
    "    if VERBOSE:\n",
    "        print(\"Request {}\".format(status))\n",
    "    slice_id=reservations[0].slice_id\n",
    "\n",
    "    if VERBOSE:\n",
    "        print(\"Reservations: {}\".format(reservations))\n",
    "        print(\"Slice ID: {}\".format(slice_id))\n",
    "    \n",
    "status, slices = slice_manager.slices()\n",
    "    \n",
    "status, slice_status = slice_manager.slice_status(slice_id=slice_id)\n",
    "slice_state = slice_status.slice_state\n",
    "while slice_state != 'StableOK':\n",
    "    status, slice_status = slice_manager.slice_status(slice_id=slice_id)\n",
    "    slice_state = slice_status.slice_state\n",
    "    if VERBOSE:\n",
    "        print(\"Response Status {}\".format(status))\n",
    "        print(\"Slice State: {}\".format(slices[0].slice_state))\n",
    "    time.sleep(20)\n",
    "    \n",
    "if VERBOSE:\n",
    "    print(\"Response Status {}\".format(status))\n",
    "    print(\"Slice Status {}\".format(slice_status))"
   ]
  },
  {
   "cell_type": "markdown",
   "id": "ed8ca602-9415-4e0d-affc-3dd024081b4e",
   "metadata": {},
   "source": [
    "### Query Slivers\n",
    "\n",
    "This cell accesses the slivers (our physical nodes) from the slice we have defined above."
   ]
  },
  {
   "cell_type": "code",
   "execution_count": null,
   "id": "af1782dc-8fb9-4618-ab11-413177afb161",
   "metadata": {},
   "outputs": [],
   "source": [
    "status, slivers = slice_manager.slivers(slice_id=slice_id)\n",
    "\n",
    "for sliver in slivers:\n",
    "    sliver_id=sliver.reservation_id\n",
    "    status, reservation_status = slice_manager.sliver_status(slice_id=slice_id, sliver_id=sliver_id)\n",
    "\n",
    "    if VERBOSE:\n",
    "        print(\"Response Status {}\".format(status))\n",
    "        print(\"Reservation Status {}\".format(reservation_status))"
   ]
  },
  {
   "cell_type": "markdown",
   "id": "dd8d72a5-beea-4ddd-b827-c99af2905bbf",
   "metadata": {},
   "source": [
    "## SSH to Slivers"
   ]
  },
  {
   "cell_type": "markdown",
   "id": "35f69fb5-c6c1-442a-92c7-4f5d8d272c66",
   "metadata": {},
   "source": [
    "### Configure Script\n",
    "\n",
    "This string represents a configurable bash script that we will run remotely in each of our nodes."
   ]
  },
  {
   "cell_type": "code",
   "execution_count": null,
   "id": "515f0c29-60c7-4335-996a-a55b854fd3a4",
   "metadata": {},
   "outputs": [],
   "source": [
    "script= '#!/bin/bash   \\n' \\\n",
    "        'echo \"Hello World!\"   \\n'"
   ]
  },
  {
   "cell_type": "markdown",
   "id": "9859a017-e6a6-4d45-8632-8948856009ef",
   "metadata": {},
   "source": [
    "## Access Slivers\n",
    "\n",
    "Using the Paramiko Python package, we can access and run commands through each of our physical nodes at FABRIC."
   ]
  },
  {
   "cell_type": "code",
   "execution_count": null,
   "id": "55254aa5-6f0b-4f9c-bb96-2d79040a3f1e",
   "metadata": {},
   "outputs": [],
   "source": [
    "key = paramiko.RSAKey.from_private_key_file(\"/home/fabric/.ssh/id_rsa\")\n",
    "client = paramiko.SSHClient()\n",
    "client.load_system_host_keys()\n",
    "client.set_missing_host_key_policy(paramiko.MissingHostKeyPolicy())\n",
    "\n",
    "client.set_missing_host_key_policy(paramiko.AutoAddPolicy())\n",
    "\n",
    "for sliver in slivers:\n",
    "    node_name = sliver.name\n",
    "    management_ip = sliver.management_ip\n",
    "    \n",
    "    print(\"Node {0} IP {1}\".format(node_name, management_ip))\n",
    "    \n",
    "    client.connect(management_ip,username='ubuntu',pkey = key)\n",
    "\n",
    "    stdin, stdout, stderr = client.exec_command('echo \\\"' + script + '\\\" > script.sh; chmod +x script.sh; sudo ./script.sh')\n",
    "    print ('')\n",
    "    print (str(stdout.read(),'utf-8').replace('\\\\n','\\n'))\n",
    "\n",
    "    client.close()"
   ]
  },
  {
   "cell_type": "markdown",
   "id": "c1cfde1a-702f-4f9e-95cc-9e0aacc66626",
   "metadata": {},
   "source": [
    "## Clean Up"
   ]
  },
  {
   "cell_type": "markdown",
   "id": "cd85058e-2f13-4f5c-b8f7-00e438cea5dd",
   "metadata": {},
   "source": [
    "### Delete Slice\n",
    "\n",
    "If the `CLEANUP` variable has been set to **true** at the top of this notebook, then the slice will be deleted via its IP."
   ]
  },
  {
   "cell_type": "code",
   "execution_count": null,
   "id": "6387ed7b-080a-443f-82cd-cb5aae9924c1",
   "metadata": {},
   "outputs": [],
   "source": [
    "if CLEANUP:\n",
    "    status, result = slice_manager.delete(slice_id=slice_id)\n",
    "\n",
    "    if VERBOSE:\n",
    "        print(\"Response Status {}\".format(status))\n",
    "        print(\"Response received {}\".format(result))"
   ]
  }
 ],
 "metadata": {
  "kernelspec": {
   "display_name": "Python 3",
   "language": "python",
   "name": "python3"
  },
  "language_info": {
   "codemirror_mode": {
    "name": "ipython",
    "version": 3
   },
   "file_extension": ".py",
   "mimetype": "text/x-python",
   "name": "python",
   "nbconvert_exporter": "python",
   "pygments_lexer": "ipython3",
   "version": "3.8.8"
  }
 },
 "nbformat": 4,
 "nbformat_minor": 5
}

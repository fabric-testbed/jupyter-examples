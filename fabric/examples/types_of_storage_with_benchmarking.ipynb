{
 "cells": [
  {
   "cell_type": "markdown",
   "metadata": {},
   "source": [
    "# This notebook talks about storage types\n",
    "\n",
    "### There are currently two types of storage that you can reserve on FABRIC:\n",
    " - regular local storage\n",
    " - NVME storage.\n",
    "\n",
    "### This tutorial will show you how to reserve each one of them.\n",
    "\n",
    "#### First, we need to prepare the environment. This is not the focus of this tutorial."
   ]
  },
  {
   "cell_type": "code",
   "execution_count": 1,
   "metadata": {},
   "outputs": [
    {
     "name": "stdout",
     "output_type": "stream",
     "text": [
      "CM Host: beta-2.fabric-testbed.net Orchestrator Host: beta-7.fabric-testbed.net\n",
      "Fabric Refresh Token NB2HI4DTHIXS6Y3JNRXWO33OFZXXEZZPN5QXK5DIGIXTGZDFMUZWGZJZMU2DANBZGE2TAYRYMRTDQMZXMMYTCMJZME2GEZB7OR4XAZJ5OJSWM4TFONUFI33LMVXCM5DTHUYTMMRVGQ4TQMJQGEYDSMRGOZSXE43JN5XD25RSFYYCM3DJMZSXI2LNMU6TQNRUGAYDAMBQ\n",
      "CILOGON_REFRESH_TOKEN environment variable: NB2HI4DTHIXS6Y3JNRXWO33OFZXXEZZPN5QXK5DIGIXTEMBRG44DOYZVMQ2DIN3BHA3DKNLBGZRGCNLEGE2TEOJSMIYWGOJ7OR4XAZJ5OJSWM4TFONUFI33LMVXCM5DTHUYTMMRVGQZTINZZG44TMOJGOZSXE43JN5XD25RSFYYCM3DJMZSXI2LNMU6TQNRUGAYDAMBQ\n"
     ]
    }
   ],
   "source": [
    "import os\n",
    "from fabrictestbed.slice_manager import SliceManager, Status\n",
    "import json\n",
    "\n",
    "credmgr_host = os.environ['FABRIC_CREDMGR_HOST']\n",
    "orchestrator_host = os.environ['FABRIC_ORCHESTRATOR_HOST']\n",
    "print(f\"CM Host: {credmgr_host} Orchestrator Host: {orchestrator_host}\")\n",
    "\n",
    "not_found=False\n",
    "fabric_refresh_token=None\n",
    "%store -r fabric_refresh_token\n",
    "\n",
    "if fabric_refresh_token is None:\n",
    "    fabric_refresh_token=os.environ['CILOGON_REFRESH_TOKEN']\n",
    "    %store fabric_refresh_token\n",
    "print(\"Fabric Refresh Token {}\".format(fabric_refresh_token))\n",
    "print(\"CILOGON_REFRESH_TOKEN environment variable: {}\".format(os.environ['CILOGON_REFRESH_TOKEN']))\n",
    "\n",
    "slice_manager = SliceManager(oc_host=orchestrator_host, cm_host=credmgr_host, \n",
    "                             refresh_token=fabric_refresh_token, project_name='all', scope='all')"
   ]
  },
  {
   "cell_type": "code",
   "execution_count": 2,
   "metadata": {},
   "outputs": [
    {
     "name": "stdout",
     "output_type": "stream",
     "text": [
      "\n",
      "New Refresh Token: NB2HI4DTHIXS6Y3JNRXWO33OFZXXEZZPN5QXK5DIGIXTGMJTME4TIMRXGJRGGZJYGJSWCZRRGEZTQYRTGM2TSNDDGFSWGZB7OR4XAZJ5OJSWM4TFONUFI33LMVXCM5DTHUYTMMRVGQ4TQMZYGEZTOMRGOZSXE43JN5XD25RSFYYCM3DJMZSXI2LNMU6TQNRUGAYDAMBQ\n",
      "\n",
      "Stored new Refresh Token\n",
      "Stored 'fabric_refresh_token' (str)\n",
      "\n",
      "\n"
     ]
    }
   ],
   "source": [
    "try:\n",
    "    id_token, refresh_token = slice_manager.refresh_tokens()\n",
    "except Exception as e:\n",
    "    print(\"Exception occurred while getting tokens:{}\".format(e))\n",
    "\n",
    "fabric_refresh_token=slice_manager.get_refresh_token()\n",
    "print()\n",
    "print(\"New Refresh Token: {}\".format(fabric_refresh_token))\n",
    "print()\n",
    "print(\"Stored new Refresh Token\")\n",
    "%store fabric_refresh_token\n",
    "print()\n",
    "print()"
   ]
  },
  {
   "cell_type": "markdown",
   "metadata": {},
   "source": [
    "# Tutorial starts here.\n",
    "\n",
    "#### First, we can query for available resources:"
   ]
  },
  {
   "cell_type": "code",
   "execution_count": 3,
   "metadata": {},
   "outputs": [
    {
     "name": "stdout",
     "output_type": "stream",
     "text": [
      "Status: Status.OK\n",
      "Toplogy: UKY: { cpu: 6/6 , core: 188/192 , ram: 1,528/1,536 G, disk: 14,380/14,400 G, unit: 3/3 }\n",
      "\tComponents:\n",
      "\t\tNVME-P4510:  NVME P4510 { disk: 10,000/10,000 G, unit: 10/10 }\n",
      "\t\tSharedNIC-ConnectX-6:  SharedNIC ConnectX-6 { unit: 381/381 }\n",
      "\t\tGPU-RTX6000:  GPU RTX6000 { unit: 1/2 }\n",
      "\t\tGPU-Tesla T4:  GPU Tesla T4 { unit: 3/4 }\n",
      "\t\tSmartNIC-ConnectX-6:  SmartNIC ConnectX-6 { unit: 2/2 }\n",
      "\t\tSmartNIC-ConnectX-5:  SmartNIC ConnectX-5 { unit: 2/2 }\n",
      "\tSite Interfaces:\n",
      "Links:\n"
     ]
    }
   ],
   "source": [
    "status, advertised_topology = slice_manager.resources()\n",
    "\n",
    "print(f\"Status: {status}\")\n",
    "if status == Status.OK:\n",
    "    print(f\"Toplogy: {advertised_topology}\")"
   ]
  },
  {
   "cell_type": "code",
   "execution_count": 4,
   "metadata": {},
   "outputs": [
    {
     "data": {
      "image/png": "[encoded data removed]",
      "text/plain": [
       "<Figure size 432x288 with 1 Axes>"
      ]
     },
     "metadata": {},
     "output_type": "display_data"
    }
   ],
   "source": [
    "if status == Status.OK:\n",
    "    advertised_topology.draw()"
   ]
  },
  {
   "cell_type": "markdown",
   "metadata": {},
   "source": [
    "### The cell below creates a slice that contains a node. The node has 100GB of local disk storage, and an NVMe drive attached to it.\n",
    "\n",
    " - The regular local storage is specified in the line `cap.set_fields(core=2, ram=4, disk=100)`.The parameter \"disk\" is equal to 100.\n",
    " - The NVMe storage is specified in the line `n1.add_component(ctype=ComponentType.NVME, model='P4510', name='nvme1')`. More info: \"Dell Express Flash NVMe P4510 1TB SFF\".\n",
    " \n",
    "#### Note that you need some amount of local storage when creating any node. If you specify \"disk=0\", some amount of local disk storage will still be assigned to you. However, you can omit the NVMe component."
   ]
  },
  {
   "cell_type": "code",
   "execution_count": 5,
   "metadata": {},
   "outputs": [
    {
     "name": "stdout",
     "output_type": "stream",
     "text": [
      "Response Status Status.OK\n",
      "Reservations created [{\n",
      "    \"graph_node_id\": \"7cc4189f-a1a0-4816-b7de-5353ed87b3c3\",\n",
      "    \"lease_end\": \"2021-07-06 15:20:19\",\n",
      "    \"pending_state\": \"None_\",\n",
      "    \"reservation_id\": \"cdfa4eff-1c12-49c4-98c9-527ae6440507\",\n",
      "    \"reservation_state\": \"Unknown\",\n",
      "    \"slice_id\": \"898a387f-72c7-4f90-bb80-c7785d4ff881\"\n",
      "}]\n"
     ]
    }
   ],
   "source": [
    "from fabrictestbed.slice_editor import ExperimentTopology, Capacities, ComponentType\n",
    "# Create topology\n",
    "t = ExperimentTopology()\n",
    "\n",
    "# Add node\n",
    "n1 = t.add_node(name='n1', site='UKY')\n",
    "\n",
    "# Set capacities\n",
    "cap = Capacities()\n",
    "cap.set_fields(core=2, ram=4, disk=100)\n",
    "\n",
    "# Set Properties\n",
    "n1.set_properties(capacities=cap, image_type='qcow2', image_ref='default_ubuntu_20')\n",
    "\n",
    "# Add PCI devices\n",
    "n1.add_component(ctype=ComponentType.NVME, model='P4510', name='nvme1')\n",
    "\n",
    "# # Add node\n",
    "# n2 = t.add_node(name='n2', site='UKY')\n",
    "\n",
    "# # Set Properties\n",
    "# n2.set_properties(capacities=cap, image_type='qcow2', image_ref='default_ubuntu_20')\n",
    "\n",
    "# Generate Slice Graph\n",
    "slice_graph = t.serialize()\n",
    "\n",
    "ssh_key = None\n",
    "with open (\"/home/fabric/.ssh/id_rsa.pub\", \"r\") as myfile:\n",
    "    ssh_key=myfile.read()\n",
    "    ssh_key=ssh_key.strip()\n",
    "\n",
    "# Request slice from Orchestrator\n",
    "status, reservations = slice_manager.create(slice_name='JupyterSlice1', slice_graph=slice_graph, ssh_key=ssh_key)\n",
    "\n",
    "print(\"Response Status {}\".format(status))\n",
    "print(\"Reservations created {}\".format(reservations))"
   ]
  },
  {
   "cell_type": "code",
   "execution_count": 6,
   "metadata": {},
   "outputs": [],
   "source": [
    "# Set the Slice ID from output of the above command\n",
    "slice_id=reservations[0].slice_id"
   ]
  },
  {
   "cell_type": "markdown",
   "metadata": {},
   "source": [
    "## Query Slivers"
   ]
  },
  {
   "cell_type": "code",
   "execution_count": 11,
   "metadata": {},
   "outputs": [
    {
     "name": "stdout",
     "output_type": "stream",
     "text": [
      "Response Status Status.OK\n",
      "Slivers [{\n",
      "    \"allocated_capacities\": \"{\\\"core\\\": 2, \\\"disk\\\": 100, \\\"ram\\\": 8}\",\n",
      "    \"allocated_labels\": \"{\\\"instance\\\": \\\"instance-00000194\\\", \\\"instance_parent\\\": \\\"uky-w1.fabric-testbed.net\\\"}\",\n",
      "    \"capacities\": \"{\\\"core\\\": 2, \\\"disk\\\": 100, \\\"ram\\\": 4}\",\n",
      "    \"capacity_hints\": \"{\\\"instance_type\\\": \\\"fabric.c2.m8.d100\\\"}\",\n",
      "    \"graph_node_id\": \"7cc4189f-a1a0-4816-b7de-5353ed87b3c3\",\n",
      "    \"join_state\": \"NoJoin\",\n",
      "    \"lease_end\": \"2021-07-06 15:20:19\",\n",
      "    \"management_ip\": \"128.163.179.53\",\n",
      "    \"name\": \"n1\",\n",
      "    \"pending_state\": \"None_\",\n",
      "    \"reservation_id\": \"cdfa4eff-1c12-49c4-98c9-527ae6440507\",\n",
      "    \"reservation_state\": \"Active\",\n",
      "    \"resource_type\": \"VM\",\n",
      "    \"site\": \"UKY\",\n",
      "    \"slice_id\": \"898a387f-72c7-4f90-bb80-c7785d4ff881\"\n",
      "}]\n",
      "Response Status Status.OK\n",
      "\n",
      "Sliver Status {\n",
      "    \"allocated_capacities\": \"{\\\"core\\\": 2, \\\"disk\\\": 100, \\\"ram\\\": 8}\",\n",
      "    \"allocated_labels\": \"{\\\"instance\\\": \\\"instance-00000194\\\", \\\"instance_parent\\\": \\\"uky-w1.fabric-testbed.net\\\"}\",\n",
      "    \"capacities\": \"{\\\"core\\\": 2, \\\"disk\\\": 100, \\\"ram\\\": 4}\",\n",
      "    \"capacity_hints\": \"{\\\"instance_type\\\": \\\"fabric.c2.m8.d100\\\"}\",\n",
      "    \"graph_node_id\": \"7cc4189f-a1a0-4816-b7de-5353ed87b3c3\",\n",
      "    \"join_state\": \"NoJoin\",\n",
      "    \"lease_end\": \"2021-07-06 15:20:19\",\n",
      "    \"management_ip\": \"128.163.179.53\",\n",
      "    \"name\": \"n1\",\n",
      "    \"notices\": \"Reservation cdfa4eff-1c12-49c4-98c9-527ae6440507 (Slice JupyterSlice1(898a387f-72c7-4f90-bb80-c7785d4ff881) Graph Id:08b9ee62-de0d-4c73-a7ba-da34338315ea Owner:name: orchestrator guid: orchestrator-guid email: minawm@bu.edu State:StableOK ) is in state [Active,None_]\\n\\nLast ticket update: \\nTicket events: \\nLast ticket update: \\nTicket events: \",\n",
      "    \"pending_state\": \"None_\",\n",
      "    \"reservation_id\": \"cdfa4eff-1c12-49c4-98c9-527ae6440507\",\n",
      "    \"reservation_state\": \"Active\",\n",
      "    \"resource_type\": \"VM\",\n",
      "    \"site\": \"UKY\",\n",
      "    \"slice_id\": \"898a387f-72c7-4f90-bb80-c7785d4ff881\"\n",
      "}\n",
      "\n"
     ]
    }
   ],
   "source": [
    "status, slivers = slice_manager.slivers(slice_id=slice_id)\n",
    "\n",
    "print(\"Response Status {}\".format(status))\n",
    "if status == Status.OK:\n",
    "    print(\"Slivers {}\".format(slivers))\n",
    "    \n",
    "for s in slivers:\n",
    "    status, sliver_status = slice_manager.sliver_status(slice_id=slice_id, sliver_id=s.reservation_id)\n",
    "    print(\"Response Status {}\".format(status))\n",
    "    if status == Status.OK:\n",
    "        print()\n",
    "        print(\"Sliver Status {}\".format(sliver_status))\n",
    "        print()"
   ]
  },
  {
   "cell_type": "markdown",
   "metadata": {},
   "source": [
    "### We can see that our node is up and running.\n",
    "\n",
    "### Next, we are going to use paramiko to connect to the node."
   ]
  },
  {
   "cell_type": "code",
   "execution_count": 12,
   "metadata": {},
   "outputs": [
    {
     "data": {
      "text/plain": [
       "<paramiko.client.SSHClient at 0x7f7e0857a460>"
      ]
     },
     "execution_count": 12,
     "metadata": {},
     "output_type": "execute_result"
    }
   ],
   "source": [
    "import paramiko\n",
    "\n",
    "key = paramiko.RSAKey.from_private_key_file(\"/home/fabric/.ssh/id_rsa\")\n",
    "client1 = paramiko.SSHClient()\n",
    "client1.load_system_host_keys()\n",
    "client1.set_missing_host_key_policy(paramiko.MissingHostKeyPolicy())\n",
    "\n",
    "client1.set_missing_host_key_policy(paramiko.AutoAddPolicy())\n",
    "client1.connect(slivers[0].management_ip,username='ubuntu',pkey = key)\n",
    "\n",
    "client1"
   ]
  },
  {
   "cell_type": "markdown",
   "metadata": {},
   "source": [
    "### After that, we are going to benchmark the two types of storage that we have."
   ]
  },
  {
   "cell_type": "markdown",
   "metadata": {},
   "source": [
    "#### First, let's check the available storage."
   ]
  },
  {
   "cell_type": "code",
   "execution_count": 13,
   "metadata": {},
   "outputs": [
    {
     "name": "stdout",
     "output_type": "stream",
     "text": [
      "Disk /dev/loop0: 55.48 MiB, 58159104 bytes, 113592 sectors\n",
      "Units: sectors of 1 * 512 = 512 bytes\n",
      "Sector size (logical/physical): 512 bytes / 512 bytes\n",
      "I/O size (minimum/optimal): 512 bytes / 512 bytes\n",
      "\n",
      "\n",
      "Disk /dev/loop1: 70.39 MiB, 73797632 bytes, 144136 sectors\n",
      "Units: sectors of 1 * 512 = 512 bytes\n",
      "Sector size (logical/physical): 512 bytes / 512 bytes\n",
      "I/O size (minimum/optimal): 512 bytes / 512 bytes\n",
      "\n",
      "\n",
      "Disk /dev/loop2: 32.28 MiB, 33841152 bytes, 66096 sectors\n",
      "Units: sectors of 1 * 512 = 512 bytes\n",
      "Sector size (logical/physical): 512 bytes / 512 bytes\n",
      "I/O size (minimum/optimal): 512 bytes / 512 bytes\n",
      "\n",
      "\n",
      "Disk /dev/vda: 100 GiB, 107374182400 bytes, 209715200 sectors\n",
      "Units: sectors of 1 * 512 = 512 bytes\n",
      "Sector size (logical/physical): 512 bytes / 512 bytes\n",
      "I/O size (minimum/optimal): 512 bytes / 512 bytes\n",
      "Disklabel type: gpt\n",
      "Disk identifier: 936BB3ED-F3DE-4041-BF30-1DF026973DAE\n",
      "\n",
      "Device      Start       End   Sectors  Size Type\n",
      "/dev/vda1  227328 209715166 209487839 99.9G Linux filesystem\n",
      "/dev/vda14   2048     10239      8192    4M BIOS boot\n",
      "/dev/vda15  10240    227327    217088  106M EFI System\n",
      "\n",
      "Partition table entries are not in disk order.\n",
      "\n",
      "\n",
      "Disk /dev/nvme0n1: 931.53 GiB, 1000204886016 bytes, 1953525168 sectors\n",
      "Disk model: Dell Express Flash NVMe P4510 1TB SFF   \n",
      "Units: sectors of 1 * 512 = 512 bytes\n",
      "Sector size (logical/physical): 512 bytes / 512 bytes\n",
      "I/O size (minimum/optimal): 512 bytes / 512 bytes\n",
      "\n",
      "\n"
     ]
    }
   ],
   "source": [
    "stdin, stdout, stderr = client1.exec_command('sudo fdisk -l')\n",
    "print(stdout.read().decode(\"utf-8\"))\n",
    "print(stderr.read().decode(\"utf-8\"))"
   ]
  },
  {
   "cell_type": "markdown",
   "metadata": {},
   "source": [
    "<!-- We can see that we have four sections. `/dev/loop0`, `/dev/loop1`, `/dev/loop2` and `/dev/vda`. -->\n",
    "\n",
    "### Examine the output above. Our regular storage is available at `/dev/vda`, and our NVMe storage is available at `/dev/nvme0n1`. _Ignore `/dev/loop0`, `/dev/loop1` and `/dev/loop2`._\n",
    "\n",
    "<!-- We need to focus on `/dev/vda`. It is the storage space that we requested. We can see that it is 100 gigas in size. It says `Disk /dev/vda: 100 GiB`. -->\n",
    "\n",
    "### We are going to run benchmarking tests on both storage types."
   ]
  },
  {
   "cell_type": "markdown",
   "metadata": {},
   "source": [
    "# 1. Benchmarking the regular local storage.\n",
    "\n",
    "### First, we are going to benchmark the regular storage using dd. We can let the dd command write in `/tmp`. We can verify that `/tmp` is part of `/dev/vda1` by issuing the command below."
   ]
  },
  {
   "cell_type": "code",
   "execution_count": 14,
   "metadata": {},
   "outputs": [
    {
     "name": "stdout",
     "output_type": "stream",
     "text": [
      "Filesystem     1K-blocks    Used Available Use% Mounted on\n",
      "/dev/vda1      101445540 1321384 100107772   2% /\n",
      "\n",
      "\n"
     ]
    }
   ],
   "source": [
    "stdin, stdout, stderr = client1.exec_command('df /tmp')\n",
    "print(stdout.read().decode(\"utf-8\"))\n",
    "print(stderr.read().decode(\"utf-8\"))"
   ]
  },
  {
   "cell_type": "markdown",
   "metadata": {},
   "source": [
    "### Now we issue the dd command."
   ]
  },
  {
   "cell_type": "code",
   "execution_count": 15,
   "metadata": {},
   "outputs": [
    {
     "name": "stdout",
     "output_type": "stream",
     "text": [
      "\n",
      "83815284736 bytes (84 GB, 78 GiB) copied, 917 s, 91.4 MB/s \n",
      "10240000+0 records in\n",
      "10240000+0 records out\n",
      "83886080000 bytes (84 GB, 78 GiB) copied, 917.759 s, 91.4 MB/s\n",
      "\n"
     ]
    }
   ],
   "source": [
    "stdin, stdout, stderr = client1.exec_command('dd if=/dev/zero of=/tmp/output bs=8k count=10000k oflag=direct status=progress; rm -f /tmp/output')\n",
    "print(stdout.read().decode(\"utf-8\"))\n",
    "print(stderr.read().decode(\"utf-8\"))"
   ]
  },
  {
   "cell_type": "markdown",
   "metadata": {},
   "source": [
    "### We can see that we get a speed of around 100 MB/s."
   ]
  },
  {
   "cell_type": "markdown",
   "metadata": {},
   "source": [
    "# 2. Benchmarking the NVMe storage.\n",
    "\n",
    "<!-- ### Now let's run benchmarking tests on the NVMe storage. -->"
   ]
  },
  {
   "cell_type": "code",
   "execution_count": 26,
   "metadata": {},
   "outputs": [
    {
     "name": "stdout",
     "output_type": "stream",
     "text": [
      "NAME    MAJ:MIN RM   SIZE RO TYPE MOUNTPOINT\n",
      "nvme0n1 259:0    0 931.5G  0 disk \n",
      "\n",
      "\n"
     ]
    }
   ],
   "source": [
    "stdin, stdout, stderr = client1.exec_command('lsblk /dev/nvme0n1')\n",
    "print(stdout.read().decode(\"utf-8\"))\n",
    "print(stderr.read().decode(\"utf-8\"))"
   ]
  },
  {
   "cell_type": "markdown",
   "metadata": {},
   "source": [
    "### If we look above, we see that the disk has no partition ready for use. So we first need to make one.\n",
    "\n",
    "### Firstly, the NVMe drive doesn't have a partition table. We need to create one."
   ]
  },
  {
   "cell_type": "code",
   "execution_count": 29,
   "metadata": {},
   "outputs": [
    {
     "name": "stdout",
     "output_type": "stream",
     "text": [
      "                                                                          \n",
      "Information: You may need to update /etc/fstab.\n",
      "\n",
      "\n"
     ]
    }
   ],
   "source": [
    "stdin, stdout, stderr = client1.exec_command('sudo parted /dev/nvme0n1 mklabel gpt')\n",
    "print(stdout.read().decode(\"utf-8\"))\n",
    "print(stderr.read().decode(\"utf-8\"))"
   ]
  },
  {
   "cell_type": "markdown",
   "metadata": {},
   "source": [
    "### We can check that it has been created using the command below."
   ]
  },
  {
   "cell_type": "code",
   "execution_count": 31,
   "metadata": {},
   "outputs": [
    {
     "name": "stdout",
     "output_type": "stream",
     "text": [
      "Model: Dell Express Flash NVMe P4510 1TB SFF (nvme)\n",
      "Disk /dev/nvme0n1: 1000GB\n",
      "Sector size (logical/physical): 512B/512B\n",
      "Partition Table: gpt\n",
      "Disk Flags: \n",
      "\n",
      "Number  Start  End  Size  File system  Name  Flags\n",
      "\n",
      "\n",
      "\n"
     ]
    }
   ],
   "source": [
    "stdin, stdout, stderr = client1.exec_command('sudo parted /dev/nvme0n1 print')\n",
    "print(stdout.read().decode(\"utf-8\"))\n",
    "print(stderr.read().decode(\"utf-8\"))"
   ]
  },
  {
   "cell_type": "markdown",
   "metadata": {},
   "source": [
    "### Next, let's print the free space in the NVMe drive in megabytes."
   ]
  },
  {
   "cell_type": "code",
   "execution_count": 32,
   "metadata": {},
   "outputs": [
    {
     "name": "stdout",
     "output_type": "stream",
     "text": [
      "Model: Dell Express Flash NVMe P4510 1TB SFF (nvme)\n",
      "Disk /dev/nvme0n1: 1000GB\n",
      "Sector size (logical/physical): 512B/512B\n",
      "Partition Table: gpt\n",
      "Disk Flags: \n",
      "\n",
      "Number  Start  End  Size  File system  Name  Flags\n",
      "\n",
      "Model: Dell Express Flash NVMe P4510 1TB SFF (nvme)\n",
      "Disk /dev/nvme0n1: 1000205MB\n",
      "Sector size (logical/physical): 512B/512B\n",
      "Partition Table: gpt\n",
      "Disk Flags: \n",
      "\n",
      "Number  Start   End        Size       File system  Name  Flags\n",
      "        0.02MB  1000205MB  1000205MB  Free Space\n",
      "\n",
      "\n",
      "\n"
     ]
    }
   ],
   "source": [
    "stdin, stdout, stderr = client1.exec_command('sudo parted /dev/nvme0n1 print unit MB print free')\n",
    "print(stdout.read().decode(\"utf-8\"))\n",
    "print(stderr.read().decode(\"utf-8\"))"
   ]
  },
  {
   "cell_type": "markdown",
   "metadata": {},
   "source": [
    "### We can see that it says `Disk /dev/nvme0n1: 1000205MB`. Next, let's create a partition that uses up this entire space."
   ]
  },
  {
   "cell_type": "code",
   "execution_count": 33,
   "metadata": {},
   "outputs": [
    {
     "name": "stdout",
     "output_type": "stream",
     "text": [
      "                                                                          \n",
      "Warning: The resulting partition is not properly aligned for best performance:\n",
      "34s % 2048s != 0s\n",
      "Information: You may need to update /etc/fstab.\n",
      "\n",
      "\n"
     ]
    }
   ],
   "source": [
    "stdin, stdout, stderr = client1.exec_command('sudo parted --align optimal /dev/nvme0n1 mkpart primary ext4 0% 1000205MB')\n",
    "print(stdout.read().decode(\"utf-8\"))\n",
    "print(stderr.read().decode(\"utf-8\"))"
   ]
  },
  {
   "cell_type": "code",
   "execution_count": 43,
   "metadata": {},
   "outputs": [
    {
     "name": "stdout",
     "output_type": "stream",
     "text": [
      "Discarding device blocks:      4096/24419063 66588672/24419063145231872/24419063227545088/24419063                  done                            \n",
      "Creating filesystem with 244190637 4k blocks and 61054976 inodes\n",
      "Filesystem UUID: 5c5c94cd-1053-41d2-aed7-41bb20dfc58f\n",
      "Superblock backups stored on blocks: \n",
      "\t32768, 98304, 163840, 229376, 294912, 819200, 884736, 1605632, 2654208, \n",
      "\t4096000, 7962624, 11239424, 20480000, 23887872, 71663616, 78675968, \n",
      "\t102400000, 214990848\n",
      "\n",
      "Allocating group tables:    0/745        done                            \n",
      "Writing inode tables:    0/745        done                            \n",
      "Creating journal (262144 blocks): done\n",
      "Writing superblocks and filesystem accounting information:    0/745        done\n",
      "\n",
      "\n",
      "mke2fs 1.45.5 (07-Jan-2020)\n",
      "\n"
     ]
    }
   ],
   "source": [
    "stdin, stdout, stderr = client1.exec_command('sudo mkfs.ext4 /dev/nvme0n1p1')\n",
    "print(stdout.read().decode(\"utf-8\"))\n",
    "print(stderr.read().decode(\"utf-8\"))"
   ]
  },
  {
   "cell_type": "markdown",
   "metadata": {},
   "source": [
    "### Let's examine the partitions one more time."
   ]
  },
  {
   "cell_type": "code",
   "execution_count": 44,
   "metadata": {},
   "outputs": [
    {
     "name": "stdout",
     "output_type": "stream",
     "text": [
      "NAME        MAJ:MIN RM   SIZE RO TYPE MOUNTPOINT\n",
      "nvme0n1     259:0    0 931.5G  0 disk \n",
      "└─nvme0n1p1 259:2    0 931.5G  0 part \n",
      "\n",
      "\n"
     ]
    }
   ],
   "source": [
    "stdin, stdout, stderr = client1.exec_command('lsblk /dev/nvme0n1')\n",
    "print(stdout.read().decode(\"utf-8\"))\n",
    "print(stderr.read().decode(\"utf-8\"))"
   ]
  },
  {
   "cell_type": "markdown",
   "metadata": {},
   "source": [
    "### Now we see that we have a parition that we can use.\n",
    "\n",
    "### The next thing we need to do is to mount it."
   ]
  },
  {
   "cell_type": "code",
   "execution_count": 46,
   "metadata": {},
   "outputs": [
    {
     "name": "stdout",
     "output_type": "stream",
     "text": [
      "\n",
      "\n"
     ]
    }
   ],
   "source": [
    "stdin, stdout, stderr = client1.exec_command('mkdir /home/ubuntu/nvme_mount && sudo mount /dev/nvme0n1p1 /home/ubuntu/nvme_mount')\n",
    "print(stdout.read().decode(\"utf-8\"))\n",
    "print(stderr.read().decode(\"utf-8\"))"
   ]
  },
  {
   "cell_type": "code",
   "execution_count": 47,
   "metadata": {},
   "outputs": [
    {
     "name": "stdout",
     "output_type": "stream",
     "text": [
      "Filesystem     1K-blocks  Used Available Use% Mounted on\n",
      "/dev/nvme0n1p1 960381636 77852 911449276   1% /home/ubuntu/nvme_mount\n",
      "\n",
      "\n"
     ]
    }
   ],
   "source": [
    "stdin, stdout, stderr = client1.exec_command('df /home/ubuntu/nvme_mount')\n",
    "print(stdout.read().decode(\"utf-8\"))\n",
    "print(stderr.read().decode(\"utf-8\"))"
   ]
  },
  {
   "cell_type": "markdown",
   "metadata": {},
   "source": [
    "### The NVMe drive is now mounted at `/home/ubuntu/nvme_mount`.\n",
    "\n",
    "### So now, we can issue the same `dd` command to benchmark the NVMe drive."
   ]
  },
  {
   "cell_type": "code",
   "execution_count": 49,
   "metadata": {},
   "outputs": [
    {
     "name": "stdout",
     "output_type": "stream",
     "text": [
      "\n",
      "83865182208 bytes (84 GB, 78 GiB) copied, 211 s, 397 MB/s\n",
      "10240000+0 records in\n",
      "10240000+0 records out\n",
      "83886080000 bytes (84 GB, 78 GiB) copied, 211.055 s, 397 MB/s\n",
      "\n"
     ]
    }
   ],
   "source": [
    "stdin, stdout, stderr = client1.exec_command('sudo dd if=/dev/zero of=/home/ubuntu/nvme_mount/output bs=8k count=10000k oflag=direct status=progress; sudo rm -f /home/ubuntu/nvme_mount/output')\n",
    "print(stdout.read().decode(\"utf-8\"))\n",
    "print(stderr.read().decode(\"utf-8\"))"
   ]
  },
  {
   "cell_type": "markdown",
   "metadata": {},
   "source": [
    "### We can see that we have a speed of around 400MB/s."
   ]
  }
 ],
 "metadata": {
  "kernelspec": {
   "display_name": "Python 3",
   "language": "python",
   "name": "python3"
  },
  "language_info": {
   "codemirror_mode": {
    "name": "ipython",
    "version": 3
   },
   "file_extension": ".py",
   "mimetype": "text/x-python",
   "name": "python",
   "nbconvert_exporter": "python",
   "pygments_lexer": "ipython3",
   "version": "3.9.2"
  }
 },
 "nbformat": 4,
 "nbformat_minor": 4
}

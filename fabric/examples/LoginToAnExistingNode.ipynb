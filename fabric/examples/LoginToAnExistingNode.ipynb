{
 "cells": [
  {
   "cell_type": "markdown",
   "metadata": {},
   "source": [
    "# This notebook will teach you how to login to an existing node.\n",
    "#### We will show you how to get an existing slice, get a node from the slice, get the IP and make the ssh command that you can use to access the node"
   ]
  },
  {
   "cell_type": "markdown",
   "metadata": {},
   "source": [
    "#### Before we start the tutorial, we will first create a slice. Note that this is not the focus of this tutorial. There are other tutorials that show you the details of creating a slice."
   ]
  },
  {
   "cell_type": "code",
   "execution_count": 22,
   "metadata": {},
   "outputs": [
    {
     "name": "stdout",
     "output_type": "stream",
     "text": [
      "CM Host: beta-2.fabric-testbed.net Orchestrator Host: beta-7.fabric-testbed.net\n",
      "beta-2.fabric-testbed.net\n"
     ]
    }
   ],
   "source": [
    "import os\n",
    "from fabrictestbed.slice_manager import SliceManager, Status\n",
    "import json\n",
    "\n",
    "credmgr_host = os.environ['FABRIC_CREDMGR_HOST']\n",
    "orchestrator_host = os.environ['FABRIC_ORCHESTRATOR_HOST']\n",
    "print(f\"CM Host: {credmgr_host} Orchestrator Host: {orchestrator_host}\")\n",
    "print(os.environ['FABRIC_CREDMGR_HOST'])"
   ]
  },
  {
   "cell_type": "code",
   "execution_count": 23,
   "metadata": {},
   "outputs": [
    {
     "name": "stdout",
     "output_type": "stream",
     "text": [
      "Fabric Refresh Token NB2HI4DTHIXS6Y3JNRXWO33OFZXXEZZPN5QXK5DIGIXTCNBRGEZWMOLCGYYGMNBQME4WMYJTGIZGEOBQGJQWCNJXGE2DGZB7OR4XAZJ5OJSWM4TFONUFI33LMVXCM5DTHUYTMMRTGQ2TMMBVHAYTANBGOZSXE43JN5XD25RSFYYCM3DJMZSXI2LNMU6TQNRUGAYDAMBQ\n",
      "CILOGON_REFRESH_TOKEN environment variable: NB2HI4DTHIXS6Y3JNRXWO33OFZXXEZZPN5QXK5DIGIXTEZJWGZRWENBRMU4GENJTGQ4DIMRYMI2WCODFMIYDQOLBGI2TCZR7OR4XAZJ5OJSWM4TFONUFI33LMVXCM5DTHUYTMMRTGQ2TKOBYHE2TIOBGOZSXE43JN5XD25RSFYYCM3DJMZSXI2LNMU6TQNRUGAYDAMBQ\n"
     ]
    }
   ],
   "source": [
    "not_found=False\n",
    "fabric_refresh_token=None\n",
    "%store -r fabric_refresh_token\n",
    "\n",
    "if fabric_refresh_token is None:\n",
    "    fabric_refresh_token=os.environ['CILOGON_REFRESH_TOKEN']\n",
    "    %store fabric_refresh_token\n",
    "print(\"Fabric Refresh Token {}\".format(fabric_refresh_token))\n",
    "print(\"CILOGON_REFRESH_TOKEN environment variable: {}\".format(os.environ['CILOGON_REFRESH_TOKEN']))"
   ]
  },
  {
   "cell_type": "code",
   "execution_count": 24,
   "metadata": {},
   "outputs": [],
   "source": [
    "slice_manager = SliceManager(oc_host=orchestrator_host, cm_host=credmgr_host, \n",
    "                             refresh_token=fabric_refresh_token, project_name='all', scope='all')"
   ]
  },
  {
   "cell_type": "markdown",
   "metadata": {},
   "source": [
    "### Get new Fabric Identity Token and update Fabric Refresh Token"
   ]
  },
  {
   "cell_type": "code",
   "execution_count": 25,
   "metadata": {},
   "outputs": [
    {
     "name": "stdout",
     "output_type": "stream",
     "text": [
      "\n",
      "New Refresh Token: NB2HI4DTHIXS6Y3JNRXWO33OFZXXEZZPN5QXK5DIGIXTGMJWMYZTGMZQMU3DINJXHFSDMZLDHAYTIYRVGZTDSNRVMVSWMZB7OR4XAZJ5OJSWM4TFONUFI33LMVXCM5DTHUYTMMRTGUZTAOJYHEZDQMRGOZSXE43JN5XD25RSFYYCM3DJMZSXI2LNMU6TQNRUGAYDAMBQ\n",
      "\n",
      "Stored new Refresh Token\n",
      "Stored 'fabric_refresh_token' (str)\n",
      "\n",
      "\n"
     ]
    }
   ],
   "source": [
    "try:\n",
    "    id_token, refresh_token = slice_manager.refresh_tokens()\n",
    "except Exception as e:\n",
    "    print(\"Exception occurred while getting tokens:{}\".format(e))\n",
    "\n",
    "fabric_refresh_token=slice_manager.get_refresh_token()\n",
    "print()\n",
    "print(\"New Refresh Token: {}\".format(fabric_refresh_token))\n",
    "print()\n",
    "print(\"Stored new Refresh Token\")\n",
    "%store fabric_refresh_token\n",
    "print()\n",
    "print()"
   ]
  },
  {
   "cell_type": "markdown",
   "metadata": {},
   "source": [
    "Note that we need to specify a key file that we can later use to access the VM that we are reserving. We are going to store the path to that key file in the variable below."
   ]
  },
  {
   "cell_type": "markdown",
   "metadata": {},
   "source": [
    "_Also note that we assume that the private key is in a file called id_rsa, and that the public key is in a file (in the same directory) called id_rsa.pub_"
   ]
  },
  {
   "cell_type": "code",
   "execution_count": 26,
   "metadata": {},
   "outputs": [],
   "source": [
    "key_path = \"/home/fabric/.ssh/id_rsa\""
   ]
  },
  {
   "cell_type": "markdown",
   "metadata": {},
   "source": [
    "## Create Slice"
   ]
  },
  {
   "cell_type": "code",
   "execution_count": 27,
   "metadata": {},
   "outputs": [
    {
     "name": "stdout",
     "output_type": "stream",
     "text": [
      "Status: Status.OK\n",
      "Toplogy: UKY: { cpu: 6/6 , core: 96/96 , ram: 1,536/1,536 G, disk: 109,600/109,600 G, unit: 3/3 }\n",
      "\tComponents:\n",
      "\t\tGPU-Tesla T4:  GPU Tesla T4 { unit: 4/4 }\n",
      "\t\tSmartNIC-ConnectX-6:  SmartNIC ConnectX-6 { unit: 2/2 }\n",
      "\t\tSmartNIC-ConnectX-5:  SmartNIC ConnectX-5 { unit: 2/2 }\n",
      "\t\tNVME-P4510:  NVME P4510 { disk: 10,000/10,000 G, unit: 10/10 }\n",
      "\t\tSharedNIC-ConnectX-6:  SharedNIC ConnectX-6 { unit: 12/12 }\n",
      "\t\tGPU-RTX6000:  GPU RTX6000 { unit: 2/2 }\n",
      "\tSite Interfaces:\n",
      "Links:\n"
     ]
    }
   ],
   "source": [
    "status, advertised_topology = slice_manager.resources()\n",
    "\n",
    "print(f\"Status: {status}\")\n",
    "print(f\"Toplogy: {advertised_topology}\")"
   ]
  },
  {
   "cell_type": "code",
   "execution_count": 28,
   "metadata": {},
   "outputs": [
    {
     "name": "stdout",
     "output_type": "stream",
     "text": [
      "Response Status Status.OK\n",
      "Reservations created [{\n",
      "    \"graph_node_id\": \"79bc3274-12fe-4ff7-bf63-0d2d338f4c5f\",\n",
      "    \"join_state\": \"None_\",\n",
      "    \"lease_end\": \"2021-06-13 20:50:04\",\n",
      "    \"reservation_id\": \"4fda2b58-60f3-4c52-a50d-e37afdead731\",\n",
      "    \"reservation_state\": \"Unknown\",\n",
      "    \"resource_type\": \"VM\",\n",
      "    \"slice_id\": \"8e372ebd-94f0-46c6-abb6-0a0be155ddac\"\n",
      "}]\n"
     ]
    }
   ],
   "source": [
    "from fabrictestbed.slice_editor import ExperimentTopology, Capacities, ComponentType\n",
    "\n",
    "t = ExperimentTopology()\n",
    "\n",
    "cap = Capacities()\n",
    "cap.set_fields(core=4, ram=4, disk=500)\n",
    "# Add node\n",
    "n1 = t.add_node(name='n2', site='UKY')\n",
    "# Set properties\n",
    "n1.set_properties(capacities=cap, image_type='qcow2', image_ref='default_ubuntu_20')\n",
    "# Add PCI devices\n",
    "n1.add_component(ctype=ComponentType.GPU, model='Tesla T4', name='component1')\n",
    "\n",
    "# Generate Slice Graph\n",
    "slice_graph = t.serialize()\n",
    "\n",
    "ssh_key = None\n",
    "with open (key_path + \".pub\", \"r\") as myfile:\n",
    "    ssh_key=myfile.read()\n",
    "    ssh_key=ssh_key.strip()\n",
    "\n",
    "# Request slice from Orchestrator\n",
    "status, reservations = slice_manager.create(slice_name='JupyterSlice1', slice_graph=slice_graph, ssh_key=ssh_key)\n",
    "\n",
    "print(\"Response Status {}\".format(status))\n",
    "print(\"Reservations created {}\".format(reservations))"
   ]
  },
  {
   "cell_type": "markdown",
   "metadata": {},
   "source": [
    "# Tutorial starts here."
   ]
  },
  {
   "cell_type": "markdown",
   "metadata": {},
   "source": [
    "#### The first thing that we need to do is to get our existing slices."
   ]
  },
  {
   "cell_type": "code",
   "execution_count": 53,
   "metadata": {},
   "outputs": [
    {
     "name": "stdout",
     "output_type": "stream",
     "text": [
      "Response Status Status.OK\n",
      "Slices []\n"
     ]
    }
   ],
   "source": [
    "status, slices = slice_manager.slices()\n",
    "\n",
    "print(\"Response Status {}\".format(status))\n",
    "print(\"Slices {}\".format(slices))\n"
   ]
  },
  {
   "cell_type": "markdown",
   "metadata": {},
   "source": [
    "#### We can see that we only have one slice.\n",
    "\n",
    "#### The next thing to do is that we want to query the contents of this slice.\n",
    "\n",
    "#### So we grab the slice ID of the slice, and query its slivers."
   ]
  },
  {
   "cell_type": "code",
   "execution_count": 9,
   "metadata": {},
   "outputs": [],
   "source": [
    "slice_id = slices[0].slice_id"
   ]
  },
  {
   "cell_type": "markdown",
   "metadata": {},
   "source": [
    "#### We have the slice ID. Now let's query the slivers."
   ]
  },
  {
   "cell_type": "code",
   "execution_count": 10,
   "metadata": {},
   "outputs": [
    {
     "name": "stdout",
     "output_type": "stream",
     "text": [
      "Response Status Status.OK\n",
      "Slivers [{\n",
      "    \"allocated_capacities\": \"{\\\"core\\\": 16, \\\"disk\\\": 500, \\\"ram\\\": 64}\",\n",
      "    \"allocated_labels\": \"{\\\"instance\\\": \\\"instance-00000100\\\", \\\"instance_parent\\\": \\\"uky-w2\\\"}\",\n",
      "    \"capacities\": \"{\\\"core\\\": 4, \\\"disk\\\": 500, \\\"ram\\\": 64}\",\n",
      "    \"capacity_hints\": \"{\\\"instance_type\\\": \\\"fabric.c16.m64.d500\\\"}\",\n",
      "    \"graph_node_id\": \"438ea273-b771-4629-a6b5-bcf5efa63b71\",\n",
      "    \"join_state\": \"NoJoin\",\n",
      "    \"lease_end\": \"2021-06-11 22:59:18\",\n",
      "    \"management_ip\": \"128.163.179.56\",\n",
      "    \"name\": \"n2\",\n",
      "    \"reservation_id\": \"baa7b43a-cb34-402f-95b5-10697c9b7358\",\n",
      "    \"reservation_state\": \"Active\",\n",
      "    \"resource_type\": \"VM\",\n",
      "    \"site\": \"UKY\",\n",
      "    \"slice_id\": \"f322554b-3ff4-4510-989b-d05d9ddc06a1\"\n",
      "}]\n"
     ]
    }
   ],
   "source": [
    "status, slivers = slice_manager.slivers(slice_id=slice_id)\n",
    "\n",
    "print(\"Response Status {}\".format(status))\n",
    "if status == Status.OK:\n",
    "    print(\"Slivers {}\".format(slivers))"
   ]
  },
  {
   "cell_type": "markdown",
   "metadata": {},
   "source": [
    "The IP that we can use to access our virtual machine is in the `management_ip` variable. So this is how we can obtain it."
   ]
  },
  {
   "cell_type": "code",
   "execution_count": 11,
   "metadata": {},
   "outputs": [],
   "source": [
    "IPaddress = slivers[0].management_ip"
   ]
  },
  {
   "cell_type": "markdown",
   "metadata": {},
   "source": [
    "We have the IP. Now we print the SSH command that we can use to access the machine. We need to use the key path variable that we've defined at the time of slice creation. We have the path to our key stored in the \"key_path\" variable."
   ]
  },
  {
   "cell_type": "code",
   "execution_count": 12,
   "metadata": {},
   "outputs": [
    {
     "name": "stdout",
     "output_type": "stream",
     "text": [
      "ssh -i /home/fabric/.ssh/id_rsa ubuntu@128.163.179.56\n"
     ]
    }
   ],
   "source": [
    "print(\"ssh -i \" + key_path + \" ubuntu@\" + IPaddress)"
   ]
  },
  {
   "cell_type": "markdown",
   "metadata": {},
   "source": [
    "You can use the command above in a terminal to access the VM."
   ]
  }
 ],
 "metadata": {
  "kernelspec": {
   "display_name": "Python 3",
   "language": "python",
   "name": "python3"
  },
  "language_info": {
   "codemirror_mode": {
    "name": "ipython",
    "version": 3
   },
   "file_extension": ".py",
   "mimetype": "text/x-python",
   "name": "python",
   "nbconvert_exporter": "python",
   "pygments_lexer": "ipython3",
   "version": "3.9.2"
  }
 },
 "nbformat": 4,
 "nbformat_minor": 4
}

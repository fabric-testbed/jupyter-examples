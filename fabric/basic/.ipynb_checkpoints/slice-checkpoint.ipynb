{
 "cells": [
  {
   "cell_type": "markdown",
   "id": "simple-julian",
   "metadata": {},
   "source": [
    "# This notebook depicts how to construct a slice using Fabric Information Model"
   ]
  },
  {
   "cell_type": "code",
   "execution_count": null,
   "id": "prepared-moore",
   "metadata": {},
   "outputs": [],
   "source": [
    "%matplotlib widget\n",
    "from fabrictestbed.slice_editor import ExperimentTopology, Capacities, ComponentType\n",
    "t = ExperimentTopology()\n",
    "n1 = t.add_node(name='n1', site='RENC')\n",
    "# Attach Capacities\n",
    "cap = Capacities()\n",
    "cap.set_fields(core=1, ram=128, disk=1000)\n",
    "# Specify the Image to use \n",
    "n1.set_properties(capacities=cap, image_type='qcow2', image_ref='default_centos_8')\n",
    "n2 = t.add_node(name='n2', site='RENC')\n",
    "n2.set_properties(capacities=cap, image_type='qcow2', image_ref='default_centos_8')\n",
    "\n",
    "# Add NIC\n",
    "n1.add_component(ctype=ComponentType.SharedNIC, model='ConnectX-6', name='nic1')\n",
    "n2.add_component(ctype=ComponentType.SharedNIC, model='ConnectX-6', name='nic2')\n",
    "\n",
    "\n",
    "# Draw the slice graph\n",
    "t.draw()\n",
    "\n",
    "# Serialize to a file\n",
    "t.serialize(file_name='test_slice.graphml')"
   ]
  },
  {
   "cell_type": "code",
   "execution_count": null,
   "id": "thick-weekend",
   "metadata": {},
   "outputs": [],
   "source": []
  }
 ],
 "metadata": {
  "kernelspec": {
   "display_name": "Python 3",
   "language": "python",
   "name": "python3"
  },
  "language_info": {
   "codemirror_mode": {
    "name": "ipython",
    "version": 3
   },
   "file_extension": ".py",
   "mimetype": "text/x-python",
   "name": "python",
   "nbconvert_exporter": "python",
   "pygments_lexer": "ipython3",
   "version": "3.8.8"
  }
 },
 "nbformat": 4,
 "nbformat_minor": 5
}

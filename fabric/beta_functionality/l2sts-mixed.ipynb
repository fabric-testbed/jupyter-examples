{
 "cells": [
  {
   "cell_type": "markdown",
   "metadata": {},
   "source": [
    "## This notebook shows how to use Orchestrator APIs for user experiments"
   ]
  },
  {
   "cell_type": "code",
   "execution_count": null,
   "metadata": {},
   "outputs": [],
   "source": [
    "import os\n",
    "from fabrictestbed.slice_manager import SliceManager, Status\n",
    "import json"
   ]
  },
  {
   "cell_type": "code",
   "execution_count": null,
   "metadata": {},
   "outputs": [],
   "source": [
    "credmgr_host = os.environ['FABRIC_CREDMGR_HOST']\n",
    "orchestrator_host = os.environ['FABRIC_ORCHESTRATOR_HOST']\n",
    "print(f\"CM Host: {credmgr_host} Orchestrator Host: {orchestrator_host}\")"
   ]
  },
  {
   "cell_type": "markdown",
   "metadata": {},
   "source": [
    "## Create Slice Manager Object\n",
    "Users can request tokens with different Project and Scopes by altering `project_name` and `scope` parameters in the refresh call below."
   ]
  },
  {
   "cell_type": "code",
   "execution_count": null,
   "metadata": {},
   "outputs": [],
   "source": [
    "slice_manager = SliceManager(oc_host=orchestrator_host, cm_host=credmgr_host, project_name='all', scope='all')\n",
    "\n",
    "# Initialize the slice manager\n",
    "slice_manager.initialize()"
   ]
  },
  {
   "cell_type": "markdown",
   "metadata": {},
   "source": [
    "### Orchestrator API example to query for available resources"
   ]
  },
  {
   "cell_type": "code",
   "execution_count": null,
   "metadata": {},
   "outputs": [],
   "source": [
    "status, advertised_topology = slice_manager.resources()\n",
    "\n",
    "print(f\"Status: {status}\")\n",
    "if status == Status.OK:\n",
    "    print(f\"Toplogy: {advertised_topology}\")\n",
    "else:\n",
    "    print(f\"Error: {advertised_topology}\")"
   ]
  },
  {
   "cell_type": "code",
   "execution_count": null,
   "metadata": {},
   "outputs": [],
   "source": [
    "if status == Status.OK:\n",
    "    advertised_topology.draw()"
   ]
  },
  {
   "cell_type": "markdown",
   "metadata": {},
   "source": [
    "## Create Slice\n",
    "In Release 1.0, user is expected to assign the IP addresses manually. Please use the example comands indicated below:\n",
    "\n",
    "### Run on Node N1\n",
    "```\n",
    "ip addr add 192.168.10.51/24 dev eth1\n",
    "```\n",
    "### Run on Node N2\n",
    "```\n",
    "ip addr add 192.168.10.52/24 dev eth1\n",
    "```\n",
    "### Run on Node N3\n",
    "```\n",
    "ip addr add 192.168.10.53/24 dev eth1"
   ]
  },
  {
   "cell_type": "code",
   "execution_count": null,
   "metadata": {},
   "outputs": [],
   "source": [
    "from fabrictestbed.slice_editor import ExperimentTopology, Capacities, ComponentType, ComponentModelType, ServiceType\n",
    "# Create topology\n",
    "t = ExperimentTopology()\n",
    "\n",
    "# Add node\n",
    "n1 = t.add_node(name='n1', site='UKY')\n",
    "\n",
    "# Set capacities\n",
    "cap = Capacities()\n",
    "cap.set_fields(core=2, ram=6, disk=10)\n",
    "\n",
    "# Set Properties\n",
    "n1.set_properties(capacities=cap, image_type='qcow2', image_ref='default_centos_8')\n",
    "\n",
    "# Add PCI devices\n",
    "n1.add_component(ctype=ComponentType.NVME, model='P4510', name='c1')\n",
    "\n",
    "# Add node\n",
    "n2 = t.add_node(name='n2', site='LBNL')\n",
    "\n",
    "# Set properties\n",
    "n2.set_properties(capacities=cap, image_type='qcow2', image_ref='default_centos_8')\n",
    "\n",
    "\n",
    "# Add node\n",
    "n3 = t.add_node(name='n3', site='LBNL')\n",
    "\n",
    "# Set properties\n",
    "n3.set_properties(capacities=cap, image_type='qcow2', image_ref='default_centos_8')\n",
    "\n",
    "# Shared Cards\n",
    "n1.add_component(model_type=ComponentModelType.SharedNIC_ConnectX_6, name='n1-nic1')\n",
    "n2.add_component(model_type=ComponentModelType.SmartNIC_ConnectX_6, name='n2-nic1')\n",
    "n3.add_component(model_type=ComponentModelType.SmartNIC_ConnectX_6, name='n3-nic1')\n",
    "\n",
    "# L2STS Service\n",
    "t.add_network_service(name='sts1', nstype=ServiceType.L2STS,\n",
    "                      interfaces=[n1.interface_list[0], n2.interface_list[0], n3.interface_list[0]])\n",
    "\n",
    "\n",
    "# Generate Slice Graph\n",
    "slice_graph = t.serialize()\n",
    "\n",
    "ssh_key = None\n",
    "with open (\"/home/fabric/.ssh/id_rsa.pub\", \"r\") as myfile:\n",
    "    ssh_key=myfile.read()\n",
    "    ssh_key=ssh_key.strip()\n",
    "\n",
    "# Request slice from Orchestrator\n",
    "status, reservations = slice_manager.create(slice_name='Slice-sts-mixed', slice_graph=slice_graph, ssh_key=ssh_key)\n",
    "\n",
    "print(\"Response Status {}\".format(status))\n",
    "if status == Status.OK:\n",
    "    print(\"Reservations created {}\".format(reservations))\n",
    "else:\n",
    "    print(f\"Failure: {reservations}\")"
   ]
  },
  {
   "cell_type": "code",
   "execution_count": null,
   "metadata": {},
   "outputs": [],
   "source": [
    "# Set the Slice ID from output of the above command\n",
    "slice_id=reservations[0].slice_id"
   ]
  },
  {
   "cell_type": "markdown",
   "metadata": {},
   "source": [
    "## Query Slices"
   ]
  },
  {
   "cell_type": "code",
   "execution_count": null,
   "metadata": {},
   "outputs": [],
   "source": [
    "status, slices = slice_manager.slices()\n",
    "\n",
    "print(\"Response Status {}\".format(status))\n",
    "if status == Status.OK:\n",
    "    print(\"Slices {}\".format(slices))\n",
    "else:\n",
    "    print(f\"Failure: {slices}\")"
   ]
  },
  {
   "cell_type": "markdown",
   "metadata": {},
   "source": [
    "## Query Slivers"
   ]
  },
  {
   "cell_type": "code",
   "execution_count": null,
   "metadata": {},
   "outputs": [],
   "source": [
    "status, slivers = slice_manager.slivers(slice_id=slice_id)\n",
    "\n",
    "print(\"Response Status {}\".format(status))\n",
    "if status == Status.OK:\n",
    "    print(\"Slivers {}\".format(slivers))\n",
    "else:\n",
    "    print(f\"Failure: {slivers}\")"
   ]
  },
  {
   "cell_type": "markdown",
   "metadata": {},
   "source": [
    "## Sliver Status"
   ]
  },
  {
   "cell_type": "code",
   "execution_count": null,
   "metadata": {},
   "outputs": [],
   "source": [
    "for s in slivers:\n",
    "    status, sliver_status = slice_manager.sliver_status(slice_id=slice_id, sliver_id=s.reservation_id)\n",
    "\n",
    "    print(\"Response Status {}\".format(status))\n",
    "    if status == Status.OK:\n",
    "        print()\n",
    "        print(\"Sliver Status {}\".format(sliver_status))\n",
    "        print()"
   ]
  },
  {
   "cell_type": "markdown",
   "metadata": {},
   "source": [
    "## Delete Slice"
   ]
  },
  {
   "cell_type": "code",
   "execution_count": null,
   "metadata": {},
   "outputs": [],
   "source": [
    "status, result = slice_manager.delete(slice_id=slice_id)\n",
    "\n",
    "print(\"Response Status {}\".format(status))\n",
    "print(\"Response received {}\".format(result))"
   ]
  },
  {
   "cell_type": "code",
   "execution_count": null,
   "metadata": {},
   "outputs": [],
   "source": []
  }
 ],
 "metadata": {
  "kernelspec": {
   "display_name": "Python 3",
   "language": "python",
   "name": "python3"
  },
  "language_info": {
   "codemirror_mode": {
    "name": "ipython",
    "version": 3
   },
   "file_extension": ".py",
   "mimetype": "text/x-python",
   "name": "python",
   "nbconvert_exporter": "python",
   "pygments_lexer": "ipython3",
   "version": "3.9.2"
  }
 },
 "nbformat": 4,
 "nbformat_minor": 4
}

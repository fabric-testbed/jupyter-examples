{
 "cells": [
  {
   "cell_type": "markdown",
   "id": "545cfe7e-fdcf-4a82-a47f-09a5d2c8c31d",
   "metadata": {},
   "source": [
    "# Jupyter Examples: Table of Contents\n",
    "\n",
    "a list of existing notebooks and a short discription of their purpose. \n",
    "\n",
    "## Getting Stared Tutorials\n",
    "\n",
    "- Intro to FABRIC Tutorial (TODO) \n",
    "\n",
    "## Basic Examples\n",
    "\n",
    "### Managing Tokens\n",
    "\n",
    "- [Token Management](./fabric_examples/basic_examples/manage_tokens.ipynb): Creation and mangement of tokens\n",
    "\n",
    "\n",
    "### Testbed Sites and Resources\n",
    "\n",
    "- [Available Resources](./fabric_examples/basic_examples/get_available_resources.ipynb): Identifying Available resources. \n",
    "\n",
    "### Managing Slices and Slivers\n",
    "\n",
    "- [Orchestator APIs](./fabric_examples/basic_examples/orchestrator.ipynb): A demonstration of the Orchestrator APIs \n",
    "- [Slice construstion](./fabric_examples/basic_examples/slice.ipynb): Slice construction using Fabric Information model\n",
    "- [Get an Existing Slice](./fabric_examples/basic_examples/get_slice.ipynb): Get an existing slice.\n",
    "- [Get Slivers from an Existing Slice](./fabric_examples/basic_examples/get_slivers.ipynb): Get slivers from an existing slice.\n",
    "- [Delete Slice](./fabric_examples/basic_examples/delete_existing_slice.ipynb): Identifying a specific slice ID and deleting a slice \n",
    "- [Renew a Slice Reservation](./fabric_examples/basic_examples/update_slice_renew.ipynb): Renew a slice reservation\n",
    "\n",
    "### Nodes and Components\n",
    "\n",
    "- [Create a Node](./fabric_examples/basic_examples/create_slice_single_node.ipynb): Create a Single Node \n",
    "\n",
    "### Networking\n",
    "\n",
    "- [Create a simple Layer 2 Bridge](./fabric_examples/basic_examples/create_network_l2bridge.ipynb): \n",
    "- [Create Layer 2 Bridge with Smart NICs](./fabric_examples/basic_examples/create_network_l2bridge_smart_nic.ipynb): \n",
    "- [Create Layer 2 Bridge with Smart NICs and VLAN Tagged Interfaces](./fabric_examples/basic_examples/create_network_l2bridge_smart_nic_tagged.ipynb): \n",
    "- [Create Layer 2 Point-to-point Circuit](./fabric_examples/basic_examples/create_network_l2ptp): \n",
    "- [Create Layer 2 Site-to-site Network](./fabric_examples/basic_examples/create_network_l2sts.ipynb ): \n",
    "- [Create Layer 2 Site-to-site Network with VLAN Tagged Interfaces](./fabric_examples/basic_examples/create_network_l2sts_tagged.ipynb): \n",
    "\n",
    "## Complex Recipes\n",
    "\n",
    "- [Kubernetes](./fabric_examples/complex_recipes/kubernetes_basic.ipynb): Basic Creating and managing a Kubernetes cluster.\n",
    "\n",
    "\n",
    "## Workshop Demos\n",
    "\n",
    "### FABRIC Workshop (Spring 2021)\n",
    "\n",
    "- [Simple Demo](./fabric_examples/workshop_demos/Workshop-Spring2021/simple-workshop-demo.ipynb). A basic demos that walks through the essential steps of running Slices, including token creation/usage, resource availibility, and the basics of builing, creating, managing and deleting Slices. \n",
    "- [Latency Demo](./fabric_examples/workshop_demos/Workshop-Spring2021/latency-workshop-demo.ipynb). An example of how to create links between nodes and monitor latency"
   ]
  },
  {
   "cell_type": "code",
   "execution_count": null,
   "id": "bad3125c-d752-4964-ae12-6ba403725646",
   "metadata": {},
   "outputs": [],
   "source": []
  }
 ],
 "metadata": {
  "kernelspec": {
   "display_name": "Python 3",
   "language": "python",
   "name": "python3"
  },
  "language_info": {
   "codemirror_mode": {
    "name": "ipython",
    "version": 3
   },
   "file_extension": ".py",
   "mimetype": "text/x-python",
   "name": "python",
   "nbconvert_exporter": "python",
   "pygments_lexer": "ipython3",
   "version": "3.9.2"
  }
 },
 "nbformat": 4,
 "nbformat_minor": 5
}

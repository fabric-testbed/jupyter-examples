{
 "cells": [
  {
   "cell_type": "markdown",
   "id": "0c2da6f1",
   "metadata": {
    "tags": []
   },
   "source": [
    "# Fablib FABRIC API Examples: Jupyter Notebooks\n",
    "\n",
    "Your FABRIC JupyterHub environment comes with a set of example notebooks. Below is a list of many of the examples. Click the links to open the example notebooks.\n",
    "\n",
    "### Update the Example Notebooks\n",
    "\n",
    "Occasionally, we will add example notebooks and update existing examples. The examples are stored in this [github repo](https://github.com/fabric-testbed/jupyter-examples)."
   ]
  },
  {
   "cell_type": "markdown",
   "id": "40bcc917",
   "metadata": {
    "tags": []
   },
   "source": [
    "## FABRIC Account Setup\n",
    "\n",
    "- [Bastion Keypair](./fabric_examples/fablib_api/bastion_setup.ipynb): Setup a Bastion Keypair\n",
    "\n",
    "## Getting Started Tutorials\n",
    "\n",
    "- [Hello, FABRIC](./fabric_examples/fablib_api/hello_fabric.ipynb): Simple First Slice Example\n",
    "\n",
    "## Basic Examples\n",
    "\n",
    "\n",
    "### Testbed Sites and Resources\n",
    "\n",
    "- [Find Available Resources](./fabric_examples/fablib_api/get_available_resources.ipynb): Query for a list of currently available resources. \n",
    "\n",
    "### Managing Slices\n",
    "\n",
    "- [Create Slice](./fabric_examples/fablib_api/create_slice.ipynb): Create and submit a slice\n",
    "- [Delete Slice(s)](./fabric_examples/fablib_api/delete_slice.ipynb): Delete a slice or slices\n",
    "- [Get Slice(s)](./fabric_examples/fablib_api/get_slice.ipynb): Get existing slices.\n",
    "- [Renew a Slice Reservation](./fabric_examples/fablib_api/update_slice_renew.ipynb): Renew a slice reservation\n",
    "\n",
    "\n",
    "### Compute Nodes\n",
    "\n",
    "- [Create Node](./fabric_examples/fablib_api/create_node.ipynb): Create a node.\n",
    "- [Get Nodes](./fabric_examples/fablib_api/get_nodes.ipynb): Get the nodes from an existing slice.\n",
    "- [Log into a Node with SSH](./fabric_examples/fablib_api/log_into_node_with_ssh.ipynb): Show how to remotely log into a running FABRIC node.\n",
    "- [Setting Node Capacities](./fabric_examples/fablib_api/setting_node_capaciites.ipynb): Discusses several options for setting node capacities.\n",
    "\n",
    "### Storage Components\n",
    "\n",
    "- [Basic NVMe Devices](./fabric_examples/fablib_api/basic_nvme_devices.ipynb): Create a node with a NVMe block device.\n",
    "- [Benchmarking FABRIC Storage: Local disk and NVMe](./fabric_examples/fablib_api/benchmarking_storage.ipynb): Create and benchmark a node with local disk and NVMe device.\n",
    "\n",
    "### GPU Components\n",
    "\n",
    "- [Basic GPUs Devices](./fabric_examples/fablib_api/basic_gpu_devices.ipynb): Create a node with a GPU\n",
    "\n",
    "### Networking\n",
    "\n",
    "- [Create a Local Ethernet (Layer 2)](./fabric_examples/fablib_api/create_l2network_basic.ipynb): \n",
    "- [Create a Wide Area Ethernet (Layer 2)](./fabric_examples/fablib_api/create_l2network_wide_area.ipynb): \n",
    "- [Create FABNet IPv4 Networks (Layer 3)](./fabric_examples/fablib_api/create_l3network_fabnet_ipv4.ipynb): \n",
    "- [Create FABNet IPv6 Networks (Layer 3)](./fabric_examples/fablib_api/create_l3network_fabnet_ipv6.ipynb): \n",
    "\n",
    "\n",
    "\n",
    "## Complex Recipes\n",
    "\n",
    "Coming Soon!\n"
   ]
  },
  {
   "cell_type": "code",
   "execution_count": null,
   "id": "76146b01",
   "metadata": {},
   "outputs": [],
   "source": []
  }
 ],
 "metadata": {
  "kernelspec": {
   "display_name": "Bash",
   "language": "bash",
   "name": "bash"
  },
  "language_info": {
   "codemirror_mode": "shell",
   "file_extension": ".sh",
   "mimetype": "text/x-sh",
   "name": "bash"
  }
 },
 "nbformat": 4,
 "nbformat_minor": 5
}

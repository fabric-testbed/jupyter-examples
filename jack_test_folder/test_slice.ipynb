{
 "cells": [
  {
   "cell_type": "markdown",
   "id": "cc4488c2-e9d4-46ad-8e31-6d481cbdbe7e",
   "metadata": {},
   "source": [
    "# Test Notebook to play with and learn the API"
   ]
  },
  {
   "cell_type": "code",
   "execution_count": 8,
   "id": "ffa5192b-b745-477b-8656-d7da6c734058",
   "metadata": {},
   "outputs": [
    {
     "name": "stdout",
     "output_type": "stream",
     "text": [
      "Refresh Token: NB2HI4DTHIXS6Y3JNRXWO33OFZXXEZZPN5QXK5DIGIXTIYLDGA4DMNJYMMZWIMJYMI3TSNTBGI3DOMZQGIYDSYTBMRSDAYZ7OR4XAZJ5OJSWM4TFONUFI33LMVXCM5DTHUYTMMRSHA4TMMZTGA2DQNJGOZSXE43JN5XD25RSFYYCM3DJMZSXI2LNMU6TQNRUGAYDAMBQ\n",
      "Refresh Token Issued at 2021-06-05 13:17:50.334367\n",
      "NB2HI4DTHIXS6Y3JNRXWO33OFZXXEZZPN5QXK5DIGIXTKNDCGE4DCNDGMY4GMOBVMNRGMMDGMZSDQYRQGFQWIZLEHFSDQMZ7OR4XAZJ5OJSWM4TFONUFI33LMVXCM5DTHUYTMMRSHAZDQMZXGMZTINZGOZSXE43JN5XD25RSFYYCM3DJMZSXI2LNMU6TQNRUGAYDAMBQ\n"
     ]
    }
   ],
   "source": [
    "import os\n",
    "from datetime import datetime\n",
    "\n",
    "fabric_refresh_token = None\n",
    "%store -r fabric_refresh_token\n",
    "if fabric_refresh_token is None:\n",
    "    fabric_refresh_token=os.environ['CILOGON_REFRESH_TOKEN']\n",
    "    %store fabric_refresh_token\n",
    "    \n",
    "print(\"Refresh Token: {}\".format(fabric_refresh_token))\n",
    "now = datetime.now()\n",
    "print(\"Refresh Token Issued at {}\".format(now))\n",
    "print(os.environ['CILOGON_REFRESH_TOKEN'])"
   ]
  },
  {
   "cell_type": "code",
   "execution_count": 9,
   "id": "29af251e-42ca-418d-9858-a9ca8935cb05",
   "metadata": {},
   "outputs": [
    {
     "name": "stdout",
     "output_type": "stream",
     "text": [
      "CM Host: beta-2.fabric-testbed.net Orchestrator Host: beta-7.fabric-testbed.net\n"
     ]
    }
   ],
   "source": [
    "import os\n",
    "import json\n",
    "\n",
    "from fabrictestbed.slice_manager import SliceManager, Status\n",
    "\n",
    "credmgr_host = os.environ['FABRIC_CREDMGR_HOST']\n",
    "orchestrator_host = os.environ['FABRIC_ORCHESTRATOR_HOST']\n",
    "print(f\"CM Host: {credmgr_host} Orchestrator Host: {orchestrator_host}\")\n",
    "      \n",
    "# Create Slice Manager\n",
    "slice_manager = SliceManager(oc_host=orchestrator_host, cm_host=credmgr_host, \n",
    "                             refresh_token=fabric_refresh_token, project_name='all', scope='all')\n",
    "\n",
    "#Configure SSH Key\n",
    "ssh_key = None\n",
    "with open (\"/home/fabric/.ssh/id_rsa.pub\", \"r\") as myfile:\n",
    "    ssh_key=myfile.read().strip()\n",
    "    \n",
    "#print(ssh_key)"
   ]
  },
  {
   "cell_type": "code",
   "execution_count": 10,
   "id": "b0b8d197-7cdc-4f27-91dc-9368e80fb3a0",
   "metadata": {},
   "outputs": [
    {
     "name": "stdout",
     "output_type": "stream",
     "text": [
      "\n",
      "New Refresh Token: NB2HI4DTHIXS6Y3JNRXWO33OFZXXEZZPN5QXK5DIGIXTMZLEME4GIODFMI2GMNLGGU4TOM3BMI4TINZRGQ2TSMTFGE4TKZR7OR4XAZJ5OJSWM4TFONUFI33LMVXCM5DTHUYTMMRSHA4TSMBXGI3TGMBGOZSXE43JN5XD25RSFYYCM3DJMZSXI2LNMU6TQNRUGAYDAMBQ\n",
      "New ID Token: eyJ0eXAiOiJKV1QiLCJhbGciOiJSUzI1NiIsImtpZCI6ImI0MTUxNjcyMTExOTFlMmUwNWIyMmI1NGIxZDNiNzY2N2U3NjRhNzQ3NzIyMTg1ZTcyMmU1MmUxNDZmZTQzYWEifQ.eyJlbWFpbCI6ImxvY2tlakBidS5lZHUiLCJjZXJ0X3N1YmplY3RfZG4iOiIvREM9b3JnL0RDPWNpbG9nb24vQz1VUy9PPUJvc3RvbiBVbml2ZXJzaXR5L0NOPUpvc2VwaCBSeWFuIExvY2tlIEI0NjEzMTg5NyIsImlkcCI6Imh0dHBzOi8vc2hpYi5idS5lZHUvaWRwL3NoaWJib2xldGgiLCJpZHBfbmFtZSI6IkJvc3RvbiBVbml2ZXJzaXR5IiwiZXBwbiI6ImxvY2tlakBidS5lZHUiLCJlcHRpZCI6Imh0dHBzOi8vc2hpYi5idS5lZHUvaWRwL3NoaWJib2xldGghaHR0cHM6Ly9jaWxvZ29uLm9yZy9zaGliYm9sZXRoITh0QSszdTRNYitoMGNMbEV0a1JIVXNUOHBYQT0iLCJhZmZpbGlhdGlvbiI6InN0dWRlbnRAYnUuZWR1O21lbWJlckBidS5lZHUiLCJuYW1lIjoiSm9zZXBoIFJ5YW4gTG9ja2UiLCJhY3IiOiJodHRwczovL3NoaWIuYnUuZWR1L3NpbmdsZSIsImVudGl0bGVtZW50IjoiaHR0cDovL2lhbS5idS5lZHUvcmVnL2NvbGxlZ2UvcGRwO2h0dHA6Ly9pYW0uYnUuZWR1L3JlZy9jb2xsZWdlL2VuZztodHRwOi8vaWFtLmJ1LmVkdS9pZGluZm8vNTAiLCJpc3MiOiJodHRwczovL2NpbG9nb24ub3JnIiwic3ViIjoiaHR0cDovL2NpbG9nb24ub3JnL3NlcnZlckIvdXNlcnMvNDYxMzE4OTciLCJhdWQiOiJjaWxvZ29uOi9jbGllbnRfaWQvNGQ3ZWE1ODNkZDA2MTljMjkwZWRhN2FiNjZmMmNlZmEiLCJ0b2tlbl9pZCI6Imh0dHBzOi8vY2lsb2dvbi5vcmcvb2F1dGgyL2lkVG9rZW4vMzc0ZTIwODM4Y2FhZDM5MTA3ZGM3ODE2MzZmZGExNjIvMTYyMjgyODM3MzEwNCIsImF1dGhfdGltZSI6MTYyMjgyODM3MiwiZXhwIjoxNjIyOTAyNjczLCJpYXQiOjE2MjI4OTkwNzMsInByb2plY3RzIjp7IkZBQlJJQyBTdHVkZW50cyI6W119LCJyb2xlcyI6WyJmYWJyaWMtYWN0aXZlLXVzZXJzIiwiYWRlM2E3ZGQtOTQ4OC00MGY5LThmYzYtOTY3ZGUwZWVhNzM1LXBtIl0sInNjb3BlIjoiYWxsIn0.NPRUnNjfS3fz9SaUce3vLTr4uK1aQbkLnERQDNSdRt_Dm1DaYJJvabzb1BhVyAozGLofglWEjF089o9LdPP7kVVDltN6ZGDFLBw6dBfmlKsfz9dG6ocQyP1HNEP-DGMR30U8Yrk5PCfBFI7Bajus87kUNE0ef_HpYOhycHikjqLRrgA99OJ0WMyWEdGREkJ6QD266Cf_bfiKLgugajoUc_k_VUo0J5H6Oyg6uMv4zhIWsQEqt0fqHQa5hJG4JT0QtYwzycmJxIKdBJHF3r_2F8U0bWoPnLmcaGoHMZlz35j-MQzNVVJULQ8QB7oXG7dW--vWIDQdn6lnxRRdjFXgt4doHffoZEgnUguI5m4IUhiHS74RJ8R2opBIfauIuaUn1R7CFmdq4BGrl0_-cJOGtjJ1dLrBkbfe5HuNWIaeWc8mr-hfqEAIHOQOsvYLNfLZnqod0sS0bk4ENFgWOCNJZ-njTHG5DeIlsdkCFhHxFght9cSvRFzQ04KYltPjm9oRztF2C7qQQEFQaUMExlUBRcJPledTW1Le0OF1WbB9uTCh31wsWmuIru7SFX5gMZneI6EY2OfTE9QUk46kNQPU9DWw6CwR-TuJRFy5U37c8rBLX37Hn_OD3_tdzD4psQTS7hVTQ5cInwObGMlF6CLpyQyOdm12waDzlG13kF-L1RI\n",
      "\n",
      "Stored new Refresh Token\n",
      "Stored 'fabric_refresh_token' (str)\n",
      "\n"
     ]
    }
   ],
   "source": [
    "try:\n",
    "    id_token, refresh_token = slice_manager.refresh_tokens()\n",
    "except Exception as e:\n",
    "    print(\"Exception occured while getting tokens:{}\".format(e))\n",
    "    \n",
    "fabric_refresh_token=slice_manager.get_refresh_token()\n",
    "fabric_id_token=slice_manager.get_id_token()\n",
    "\n",
    "print()\n",
    "print(\"New Refresh Token: {}\".format(fabric_refresh_token))\n",
    "print(\"New ID Token: {}\".format(fabric_id_token))\n",
    "print()\n",
    "print(\"Stored new Refresh Token\")\n",
    "%store fabric_refresh_token\n",
    "print()\n"
   ]
  },
  {
   "cell_type": "code",
   "execution_count": 13,
   "id": "602e4400-6f44-4f63-aa94-1480bf13acb5",
   "metadata": {},
   "outputs": [
    {
     "name": "stdout",
     "output_type": "stream",
     "text": [
      "Status: Status.OK\n",
      "Topology: RENC: { cpu: 6/6, core: 92/96, ram: 1472/1536G, disk: 109100/109600G, unit: 3/3, }\n",
      "\tComponents:\n",
      "\t\tNVME-P4510:  NVME P4510 { disk: 10000/10000G, unit: 10/10, }\n",
      "\t\tGPU-RTX6000:  GPU RTX6000 { unit: 2/2, }\n",
      "\t\tGPU-Tesla T4:  GPU Tesla T4 { unit: 4/4, }\n",
      "\t\tSharedNIC-ConnectX-6:  SharedNIC ConnectX-6 { unit: 3/3, }\n",
      "\t\tSmartNIC-ConnectX-6:  SmartNIC ConnectX-6 { unit: 2/2, }\n",
      "\t\tSmartNIC-ConnectX-5:  SmartNIC ConnectX-5 { unit: 1/2, }\n",
      "\tSite Interfaces:\n",
      "UKY: { cpu: 6/6, core: 92/96, ram: 1472/1536G, disk: 109100/109600G, unit: 3/3, }\n",
      "\tComponents:\n",
      "\t\tGPU-RTX6000:  GPU RTX6000 { unit: 2/2, }\n",
      "\t\tGPU-Tesla T4:  GPU Tesla T4 { unit: 3/4, }\n",
      "\t\tSharedNIC-ConnectX-6:  SharedNIC ConnectX-6 { unit: 3/3, }\n",
      "\t\tSmartNIC-ConnectX-6:  SmartNIC ConnectX-6 { unit: 2/2, }\n",
      "\t\tSmartNIC-ConnectX-5:  SmartNIC ConnectX-5 { unit: 2/2, }\n",
      "\t\tNVME-P4510:  NVME P4510 { disk: 10000/10000G, unit: 10/10, }\n",
      "\tSite Interfaces:\n",
      "LBNL: { cpu: 6/6, core: 88/96, ram: 1440/1536G, disk: 108900/109600G, unit: 3/3, }\n",
      "\tComponents:\n",
      "\t\tNVME-P4510:  NVME P4510 { disk: 10000/10000G, unit: 10/10, }\n",
      "\t\tGPU-RTX6000:  GPU RTX6000 { unit: 2/2, }\n",
      "\t\tGPU-Tesla T4:  GPU Tesla T4 { unit: 1/4, }\n",
      "\t\tSharedNIC-ConnectX-6:  SharedNIC ConnectX-6 { unit: 3/3, }\n",
      "\t\tSmartNIC-ConnectX-6:  SmartNIC ConnectX-6 { unit: 2/2, }\n",
      "\t\tSmartNIC-ConnectX-5:  SmartNIC ConnectX-5 { unit: 0/2, }\n",
      "\tSite Interfaces:\n",
      "Links:\n"
     ]
    }
   ],
   "source": [
    "status, advertised_topology = slice_manager.resources()\n",
    "\n",
    "print(f\"Status: {status}\")\n",
    "print(f\"Topology: {advertised_topology}\")\n",
    "#advertised_topology.draw()"
   ]
  },
  {
   "cell_type": "markdown",
   "id": "225fa8cd-2a1b-4127-9298-094c094b8803",
   "metadata": {},
   "source": [
    "### Slice Request"
   ]
  },
  {
   "cell_type": "code",
   "execution_count": 15,
   "id": "abfbb25d-2f9f-4bc9-8010-70b41250dd99",
   "metadata": {},
   "outputs": [
    {
     "data": {
      "image/png": "[encoded data removed]",
      "text/plain": [
       "<Figure size 432x288 with 1 Axes>"
      ]
     },
     "metadata": {},
     "output_type": "display_data"
    }
   ],
   "source": [
    "from fabrictestbed.slice_editor import ExperimentTopology, Capacities, ComponentType, LinkType, Layer\n",
    "\n",
    "experiment = ExperimentTopology()\n",
    "\n",
    "slice_name=\"JacksTestSlice2\"\n",
    "\n",
    "node1 = experiment.add_node(name='node1', site='RENC')\n",
    "\n",
    "node1_capacity = Capacities()\n",
    "node1_capacity.set_fields(core=2, ram=32, disk=256)\n",
    "node1.set_properties(capacities=node1_capacity, image_type='qcow2', image_ref='default_ubuntu_20')\n",
    "\n",
    "node1_nvme = node1.add_component(ctype=ComponentType.NVME, model='P4510', name='n1_nvme')\n",
    "node1_gpu = node1.add_component(ctype=ComponentType.GPU, model='RTX6000', name='n1_gpu')\n",
    "node1_nic = node1.add_component(ctype=ComponentType.SharedNIC, model='ConnectX-6', name='n1_nic')\n",
    "\n",
    "node2 = experiment.add_node(name='node2', site='LBNL')\n",
    "\n",
    "node2_capacity = Capacities()\n",
    "node2_capacity.set_fields(core=2, ram=16, disk=256)\n",
    "node2.set_properties(capacities=node2_capacity, image_type='qcow2', image_ref='default_ubuntu_20')\n",
    "\n",
    "#node2_nvme = node2.add_component(ctype=ComponentType.NVME, model='P4510', name='n2_nvme')\n",
    "node2_gpu = node2.add_component(ctype=ComponentType.GPU, model='Tesla T4', name='n2_gpu')\n",
    "node2_nic1 = node2.add_component(ctype=ComponentType.SharedNIC, model='ConnectX-6', name='n2_nic1')\n",
    "node2_nic2 = node2.add_component(ctype=ComponentType.SharedNIC, model='ConnectX-6', name='n2_nic2')\n",
    "\n",
    "experiment.draw()"
   ]
  },
  {
   "cell_type": "code",
   "execution_count": 22,
   "id": "b41b3056-8193-422f-8f31-4d6c60b27daf",
   "metadata": {},
   "outputs": [
    {
     "name": "stdout",
     "output_type": "stream",
     "text": [
      "Request Status.OK\n",
      "Reservations: [{\n",
      "    \"graph_node_id\": \"bf858948-f1ea-47e3-911f-00d0c2358c9a\",\n",
      "    \"join_state\": \"None_\",\n",
      "    \"lease_end\": \"2021-06-06 13:21:37\",\n",
      "    \"reservation_id\": \"b94d2c4f-7a52-480d-adc4-e66f835055ca\",\n",
      "    \"reservation_state\": \"Unknown\",\n",
      "    \"resource_type\": \"VM\",\n",
      "    \"slice_id\": \"890d90d1-59af-490b-8049-b0c4049c0fa8\"\n",
      "}, {\n",
      "    \"graph_node_id\": \"c289fe7d-33e7-4cfe-9f57-8e7c0fefb2e4\",\n",
      "    \"join_state\": \"None_\",\n",
      "    \"lease_end\": \"2021-06-06 13:21:37\",\n",
      "    \"reservation_id\": \"5e4f1b86-e6b1-4330-9449-53d786b12729\",\n",
      "    \"reservation_state\": \"Unknown\",\n",
      "    \"resource_type\": \"VM\",\n",
      "    \"slice_id\": \"890d90d1-59af-490b-8049-b0c4049c0fa8\"\n",
      "}]\n",
      "Slice ID: 890d90d1-59af-490b-8049-b0c4049c0fa8\n"
     ]
    }
   ],
   "source": [
    "slice_graph = experiment.serialize()\n",
    "\n",
    "status, reservations = slice_manager.create(slice_name=slice_name, slice_graph=slice_graph, ssh_key=ssh_key)\n",
    "#print(status)\n",
    "#print(reservations)\n",
    "print(\"Request {}\".format(status))\n",
    "slice_id=reservations[0].slice_id\n",
    "\n",
    "print(\"Reservations: {}\".format(reservations))\n",
    "print(\"Slice ID: {}\".format(slice_id))"
   ]
  },
  {
   "cell_type": "code",
   "execution_count": 25,
   "id": "2730f1be-f719-4950-9616-e8ddd71d2407",
   "metadata": {},
   "outputs": [
    {
     "name": "stdout",
     "output_type": "stream",
     "text": [
      "Response Status Status.OK\n",
      "Slices []\n"
     ]
    }
   ],
   "source": [
    "status, slices = slice_manager.slices()\n",
    "\n",
    "print(\"Response Status {}\".format(status))\n",
    "print(\"Slices {}\".format(slices))"
   ]
  },
  {
   "cell_type": "code",
   "execution_count": 24,
   "id": "64f18612-4242-43a1-aefc-2159a62ef20d",
   "metadata": {},
   "outputs": [
    {
     "name": "stdout",
     "output_type": "stream",
     "text": [
      "Response Status Status.OK\n",
      "Slice State: Closing\n"
     ]
    },
    {
     "ename": "KeyboardInterrupt",
     "evalue": "",
     "output_type": "error",
     "traceback": [
      "\u001b[0;31m---------------------------------------------------------------------------\u001b[0m",
      "\u001b[0;31mKeyboardInterrupt\u001b[0m                         Traceback (most recent call last)",
      "\u001b[0;32m<ipython-input-24-3a2a17494080>\u001b[0m in \u001b[0;36m<module>\u001b[0;34m\u001b[0m\n\u001b[1;32m      7\u001b[0m     \u001b[0mprint\u001b[0m\u001b[0;34m(\u001b[0m\u001b[0;34m\"Response Status {}\"\u001b[0m\u001b[0;34m.\u001b[0m\u001b[0mformat\u001b[0m\u001b[0;34m(\u001b[0m\u001b[0mstatus\u001b[0m\u001b[0;34m)\u001b[0m\u001b[0;34m)\u001b[0m\u001b[0;34m\u001b[0m\u001b[0;34m\u001b[0m\u001b[0m\n\u001b[1;32m      8\u001b[0m     \u001b[0mprint\u001b[0m\u001b[0;34m(\u001b[0m\u001b[0;34m\"Slice State: {}\"\u001b[0m\u001b[0;34m.\u001b[0m\u001b[0mformat\u001b[0m\u001b[0;34m(\u001b[0m\u001b[0mslice_state\u001b[0m\u001b[0;34m)\u001b[0m\u001b[0;34m)\u001b[0m \u001b[0;31m# updated slice[0].slice_state to just slice_state\u001b[0m\u001b[0;34m\u001b[0m\u001b[0;34m\u001b[0m\u001b[0m\n\u001b[0;32m----> 9\u001b[0;31m     \u001b[0mtime\u001b[0m\u001b[0;34m.\u001b[0m\u001b[0msleep\u001b[0m\u001b[0;34m(\u001b[0m\u001b[0;36m20\u001b[0m\u001b[0;34m)\u001b[0m\u001b[0;34m\u001b[0m\u001b[0;34m\u001b[0m\u001b[0m\n\u001b[0m\u001b[1;32m     10\u001b[0m \u001b[0;34m\u001b[0m\u001b[0m\n\u001b[1;32m     11\u001b[0m \u001b[0mprint\u001b[0m\u001b[0;34m(\u001b[0m\u001b[0;34m\"Response Status {}\"\u001b[0m\u001b[0;34m.\u001b[0m\u001b[0mformat\u001b[0m\u001b[0;34m(\u001b[0m\u001b[0mstatus\u001b[0m\u001b[0;34m)\u001b[0m\u001b[0;34m)\u001b[0m\u001b[0;34m\u001b[0m\u001b[0;34m\u001b[0m\u001b[0m\n",
      "\u001b[0;31mKeyboardInterrupt\u001b[0m: "
     ]
    }
   ],
   "source": [
    "import time\n",
    "\n",
    "slice_state=None\n",
    "while slice_state != 'StableOK':\n",
    "    status, slice_status = slice_manager.slice_status(slice_id=slice_id)\n",
    "    slice_state = slice_status.slice_state\n",
    "    print(\"Response Status {}\".format(status))\n",
    "    print(\"Slice State: {}\".format(slice_state)) # updated slice[0].slice_state to just slice_state\n",
    "    time.sleep(20)\n",
    "    \n",
    "print(\"Response Status {}\".format(status))\n",
    "print(\"Slice Status {}\".format(slice_status))"
   ]
  },
  {
   "cell_type": "code",
   "execution_count": 26,
   "id": "514db269-8ce1-485f-b7a9-b82c59d99b97",
   "metadata": {},
   "outputs": [
    {
     "name": "stdout",
     "output_type": "stream",
     "text": [
      "Response Status Status.OK\n",
      "Slivers [{\n",
      "    \"graph_node_id\": \"bf858948-f1ea-47e3-911f-00d0c2358c9a\",\n",
      "    \"join_state\": \"None_\",\n",
      "    \"lease_end\": \"2021-06-06 13:21:37\",\n",
      "    \"reservation_id\": \"b94d2c4f-7a52-480d-adc4-e66f835055ca\",\n",
      "    \"reservation_state\": \"Unknown\",\n",
      "    \"resource_type\": \"VM\",\n",
      "    \"slice_id\": \"890d90d1-59af-490b-8049-b0c4049c0fa8\"\n",
      "}, {\n",
      "    \"graph_node_id\": \"c289fe7d-33e7-4cfe-9f57-8e7c0fefb2e4\",\n",
      "    \"join_state\": \"None_\",\n",
      "    \"lease_end\": \"2021-06-06 13:21:37\",\n",
      "    \"reservation_id\": \"5e4f1b86-e6b1-4330-9449-53d786b12729\",\n",
      "    \"reservation_state\": \"Unknown\",\n",
      "    \"resource_type\": \"VM\",\n",
      "    \"slice_id\": \"890d90d1-59af-490b-8049-b0c4049c0fa8\"\n",
      "}]\n"
     ]
    }
   ],
   "source": [
    "status, slivers = slice_manager.slivers(slice_id=slice_id)\n",
    "\n",
    "print(\"Response Status {}\".format(status))\n",
    "print(\"Slivers {}\".format(reservations))"
   ]
  },
  {
   "cell_type": "code",
   "execution_count": 27,
   "id": "e249c9f2-774d-4c90-a993-ab41b2933368",
   "metadata": {},
   "outputs": [],
   "source": [
    "script= '#!/bin/bash  \\n' \\\n",
    "        'lspci  \\n'"
   ]
  },
  {
   "cell_type": "code",
   "execution_count": 28,
   "id": "c8470ad8-ee9e-4329-91e3-5c8612f1cc6b",
   "metadata": {},
   "outputs": [
    {
     "name": "stdout",
     "output_type": "stream",
     "text": [
      "Node node1 IP None\n"
     ]
    },
    {
     "ename": "NoValidConnectionsError",
     "evalue": "[Errno None] Unable to connect to port 22 on 127.0.0.1 or ::1",
     "output_type": "error",
     "traceback": [
      "\u001b[0;31m---------------------------------------------------------------------------\u001b[0m",
      "\u001b[0;31mNoValidConnectionsError\u001b[0m                   Traceback (most recent call last)",
      "\u001b[0;32m<ipython-input-28-f2ddfbf27d0d>\u001b[0m in \u001b[0;36m<module>\u001b[0;34m\u001b[0m\n\u001b[1;32m     15\u001b[0m     \u001b[0mprint\u001b[0m\u001b[0;34m(\u001b[0m\u001b[0;34m\"Node {0} IP {1}\"\u001b[0m\u001b[0;34m.\u001b[0m\u001b[0mformat\u001b[0m\u001b[0;34m(\u001b[0m\u001b[0mnode_name\u001b[0m\u001b[0;34m,\u001b[0m \u001b[0mmanagement_ip\u001b[0m\u001b[0;34m)\u001b[0m\u001b[0;34m)\u001b[0m\u001b[0;34m\u001b[0m\u001b[0;34m\u001b[0m\u001b[0m\n\u001b[1;32m     16\u001b[0m \u001b[0;34m\u001b[0m\u001b[0m\n\u001b[0;32m---> 17\u001b[0;31m     \u001b[0mclient\u001b[0m\u001b[0;34m.\u001b[0m\u001b[0mconnect\u001b[0m\u001b[0;34m(\u001b[0m\u001b[0mmanagement_ip\u001b[0m\u001b[0;34m,\u001b[0m\u001b[0musername\u001b[0m\u001b[0;34m=\u001b[0m\u001b[0;34m'ubuntu'\u001b[0m\u001b[0;34m,\u001b[0m\u001b[0mpkey\u001b[0m \u001b[0;34m=\u001b[0m \u001b[0mkey\u001b[0m\u001b[0;34m)\u001b[0m\u001b[0;34m\u001b[0m\u001b[0;34m\u001b[0m\u001b[0m\n\u001b[0m\u001b[1;32m     18\u001b[0m \u001b[0;34m\u001b[0m\u001b[0m\n\u001b[1;32m     19\u001b[0m     \u001b[0mstdin\u001b[0m\u001b[0;34m,\u001b[0m \u001b[0mstdout\u001b[0m\u001b[0;34m,\u001b[0m \u001b[0mstderr\u001b[0m \u001b[0;34m=\u001b[0m \u001b[0mclient\u001b[0m\u001b[0;34m.\u001b[0m\u001b[0mexec_command\u001b[0m\u001b[0;34m(\u001b[0m\u001b[0;34m'echo \\\"'\u001b[0m \u001b[0;34m+\u001b[0m \u001b[0mscript\u001b[0m \u001b[0;34m+\u001b[0m \u001b[0;34m'\\\" > script.sh; chmod +x script.sh; sudo ./script.sh'\u001b[0m\u001b[0;34m)\u001b[0m\u001b[0;34m\u001b[0m\u001b[0;34m\u001b[0m\u001b[0m\n",
      "\u001b[0;32m/opt/conda/lib/python3.8/site-packages/paramiko/client.py\u001b[0m in \u001b[0;36mconnect\u001b[0;34m(self, hostname, port, username, password, pkey, key_filename, timeout, allow_agent, look_for_keys, compress, sock, gss_auth, gss_kex, gss_deleg_creds, gss_host, banner_timeout, auth_timeout, gss_trust_dns, passphrase, disabled_algorithms)\u001b[0m\n\u001b[1;32m    366\u001b[0m             \u001b[0;31m# (socket.error)\u001b[0m\u001b[0;34m\u001b[0m\u001b[0;34m\u001b[0m\u001b[0;34m\u001b[0m\u001b[0m\n\u001b[1;32m    367\u001b[0m             \u001b[0;32mif\u001b[0m \u001b[0mlen\u001b[0m\u001b[0;34m(\u001b[0m\u001b[0merrors\u001b[0m\u001b[0;34m)\u001b[0m \u001b[0;34m==\u001b[0m \u001b[0mlen\u001b[0m\u001b[0;34m(\u001b[0m\u001b[0mto_try\u001b[0m\u001b[0;34m)\u001b[0m\u001b[0;34m:\u001b[0m\u001b[0;34m\u001b[0m\u001b[0;34m\u001b[0m\u001b[0m\n\u001b[0;32m--> 368\u001b[0;31m                 \u001b[0;32mraise\u001b[0m \u001b[0mNoValidConnectionsError\u001b[0m\u001b[0;34m(\u001b[0m\u001b[0merrors\u001b[0m\u001b[0;34m)\u001b[0m\u001b[0;34m\u001b[0m\u001b[0;34m\u001b[0m\u001b[0m\n\u001b[0m\u001b[1;32m    369\u001b[0m \u001b[0;34m\u001b[0m\u001b[0m\n\u001b[1;32m    370\u001b[0m         t = self._transport = Transport(\n",
      "\u001b[0;31mNoValidConnectionsError\u001b[0m: [Errno None] Unable to connect to port 22 on 127.0.0.1 or ::1"
     ]
    }
   ],
   "source": [
    "import paramiko \n",
    "#from scp import SCPClient, SCPException\n",
    "\n",
    "key = paramiko.RSAKey.from_private_key_file(\"/home/fabric/.ssh/id_rsa\")\n",
    "client = paramiko.SSHClient()\n",
    "client.load_system_host_keys()\n",
    "client.set_missing_host_key_policy(paramiko.MissingHostKeyPolicy())\n",
    "\n",
    "client.set_missing_host_key_policy(paramiko.AutoAddPolicy())\n",
    "\n",
    "for sliver in slivers:\n",
    "    node_name = sliver.name\n",
    "    management_ip = sliver.management_ip\n",
    "    \n",
    "    print(\"Node {0} IP {1}\".format(node_name, management_ip))\n",
    "    \n",
    "    client.connect(management_ip,username='ubuntu',pkey = key)\n",
    "\n",
    "    stdin, stdout, stderr = client.exec_command('echo \\\"' + script + '\\\" > script.sh; chmod +x script.sh; sudo ./script.sh')\n",
    "    print ('')\n",
    "    print (str(stdout.read(),'utf-8').replace('\\\\n','\\n'))\n",
    "\n",
    "    client.close()"
   ]
  },
  {
   "cell_type": "code",
   "execution_count": 29,
   "id": "a38c11da-51cb-4a40-b3a8-0d9d7220af3c",
   "metadata": {},
   "outputs": [
    {
     "name": "stdout",
     "output_type": "stream",
     "text": [
      "Response Status Status.FAILURE\n",
      "Response received (400)\n",
      "Reason: BAD REQUEST\n",
      "HTTP response headers: HTTPHeaderDict({'Server': 'nginx/1.19.8', 'Date': 'Sat, 05 Jun 2021 13:23:36 GMT', 'Content-Type': 'application/json', 'Content-Length': '61', 'Connection': 'keep-alive'})\n",
      "HTTP response body: \"Slice# 890d90d1-59af-490b-8049-b0c4049c0fa8 already closed\"\n",
      "\n",
      "\n"
     ]
    }
   ],
   "source": [
    "status, result = slice_manager.delete(slice_id=slice_id)\n",
    "\n",
    "print(\"Response Status {}\".format(status))\n",
    "print(\"Response received {}\".format(result))"
   ]
  },
  {
   "cell_type": "code",
   "execution_count": null,
   "id": "f5c9b71f-d856-48df-9e65-fa78217e73e9",
   "metadata": {},
   "outputs": [],
   "source": []
  }
 ],
 "metadata": {
  "kernelspec": {
   "display_name": "Python 3",
   "language": "python",
   "name": "python3"
  },
  "language_info": {
   "codemirror_mode": {
    "name": "ipython",
    "version": 3
   },
   "file_extension": ".py",
   "mimetype": "text/x-python",
   "name": "python",
   "nbconvert_exporter": "python",
   "pygments_lexer": "ipython3",
   "version": "3.8.8"
  }
 },
 "nbformat": 4,
 "nbformat_minor": 5
}

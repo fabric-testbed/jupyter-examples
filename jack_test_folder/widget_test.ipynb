{
 "cells": [
  {
   "cell_type": "markdown",
   "id": "fbc1e85d-32b4-4ed4-9990-041519bc8bb7",
   "metadata": {},
   "source": [
    "# Widget test"
   ]
  },
  {
   "cell_type": "code",
   "execution_count": 1,
   "id": "6e4d7e98-e951-4ae9-b13d-0cafc85f6669",
   "metadata": {},
   "outputs": [
    {
     "name": "stdout",
     "output_type": "stream",
     "text": [
      "Collecting package metadata (current_repodata.json): done\n",
      "Solving environment: done\n",
      "\n",
      "# All requested packages already installed.\n",
      "\n",
      "\n",
      "Note: you may need to restart the kernel to use updated packages.\n"
     ]
    }
   ],
   "source": [
    "conda install -c conda-forge ipywidgets"
   ]
  },
  {
   "cell_type": "code",
   "execution_count": 2,
   "id": "1fba888c-3374-40d9-a4e3-6842f38afa32",
   "metadata": {},
   "outputs": [
    {
     "name": "stdout",
     "output_type": "stream",
     "text": [
      "Collecting package metadata (current_repodata.json): done\n",
      "Solving environment: done\n",
      "\n",
      "# All requested packages already installed.\n",
      "\n",
      "\n",
      "Note: you may need to restart the kernel to use updated packages.\n"
     ]
    }
   ],
   "source": [
    "conda install -c conda-forge nodejs"
   ]
  },
  {
   "cell_type": "code",
   "execution_count": 28,
   "id": "5caab761-fdfa-40b6-98ca-e020970df0b6",
   "metadata": {},
   "outputs": [
    {
     "data": {
      "application/vnd.jupyter.widget-view+json": {
       "model_id": "51d8c7a76072433eb9ec38be3dd96979",
       "version_major": 2,
       "version_minor": 0
      },
      "text/plain": [
       "IntSlider(value=50)"
      ]
     },
     "metadata": {},
     "output_type": "display_data"
    },
    {
     "data": {
      "application/vnd.jupyter.widget-view+json": {
       "model_id": "10a774c3eeb44508979ffe2b2e84f154",
       "version_major": 2,
       "version_minor": 0
      },
      "text/plain": [
       "IntSlider(value=50)"
      ]
     },
     "metadata": {},
     "output_type": "display_data"
    }
   ],
   "source": [
    "import ipywidgets as widgets\n",
    "from IPython.display import display\n",
    "\n",
    "w = widgets.IntSlider()\n",
    "x = widgets.IntSlider()\n",
    "w.value = 50\n",
    "x.value = 100 - w.value\n",
    "\n",
    "mylink = widgets.jslink((w, 'value'),(x, 'value'))\n",
    "\n",
    "display(w)\n",
    "display(x)\n"
   ]
  },
  {
   "cell_type": "code",
   "execution_count": 29,
   "id": "e947ca9c-7093-4cc3-9c82-c21b8f69579d",
   "metadata": {},
   "outputs": [],
   "source": [
    "mylink.unlink()"
   ]
  },
  {
   "cell_type": "code",
   "execution_count": 30,
   "id": "4a6485f0-a20d-4142-9761-1f4d8d3ddfa8",
   "metadata": {},
   "outputs": [],
   "source": [
    "mylink = widgets.jslink((w, 'value'),(x, 'value'))"
   ]
  },
  {
   "cell_type": "code",
   "execution_count": 51,
   "id": "1e1d4696-dd0b-4e96-87ea-a10bee987d98",
   "metadata": {},
   "outputs": [
    {
     "data": {
      "application/vnd.jupyter.widget-view+json": {
       "model_id": "2e579064cc3d4b1ba5bbd82fdd5a45be",
       "version_major": 2,
       "version_minor": 0
      },
      "text/plain": [
       "Output(layout=Layout(border='1px solid black'))"
      ]
     },
     "metadata": {},
     "output_type": "display_data"
    }
   ],
   "source": [
    "out = widgets.Output(layout={'border': '1px solid black'})\n",
    "out"
   ]
  },
  {
   "cell_type": "code",
   "execution_count": 50,
   "id": "ce7bc7ab-8e9d-4d9c-8361-be63f347b1b4",
   "metadata": {},
   "outputs": [],
   "source": [
    "with out:\n",
    "    for i in range(10):\n",
    "        print(i, 'Hello world!')\n",
    "out.clear_output()"
   ]
  },
  {
   "cell_type": "code",
   "execution_count": 45,
   "id": "c1d380d0-462d-42ab-8fab-d65f755cb1eb",
   "metadata": {},
   "outputs": [],
   "source": [
    "from IPython.display import YouTubeVideo\n",
    "with out:\n",
    "    display(YouTubeVideo('eWzY2nGfkXk'))"
   ]
  },
  {
   "cell_type": "code",
   "execution_count": 46,
   "id": "b1dc081b-8ad2-4192-8ca7-814c78c00b68",
   "metadata": {},
   "outputs": [],
   "source": [
    "with out:\n",
    "    display(widgets.IntSlider())"
   ]
  },
  {
   "cell_type": "code",
   "execution_count": 47,
   "id": "2e95b958-96c2-4239-be73-4f312613dd02",
   "metadata": {},
   "outputs": [
    {
     "data": {
      "application/vnd.jupyter.widget-view+json": {
       "model_id": "ca34b757d5be45aebea44283b136ed05",
       "version_major": 2,
       "version_minor": 0
      },
      "text/plain": [
       "Output(layout=Layout(border='1px solid black'), outputs=({'output_type': 'stream', 'name': 'stdout', 'text': '…"
      ]
     },
     "metadata": {},
     "output_type": "display_data"
    }
   ],
   "source": [
    "out = widgets.Output(layout={'border': '1px solid black'})\n",
    "out.append_stdout('Output appended with append_stdout')\n",
    "out.append_display_data(YouTubeVideo('eWzY2nGfkXk'))\n",
    "out"
   ]
  },
  {
   "cell_type": "code",
   "execution_count": 48,
   "id": "3a05800f-c0b0-4eab-ae19-aadb2a9b39f0",
   "metadata": {},
   "outputs": [],
   "source": [
    "out.clear_output()"
   ]
  },
  {
   "cell_type": "code",
   "execution_count": 38,
   "id": "2f6dd6fa-8486-4300-a284-1fccb6e7caa4",
   "metadata": {},
   "outputs": [],
   "source": [
    "@out.capture()\n",
    "def function_with_captured_output():\n",
    "    print('This goes into the output widget')\n",
    "    raise Exception('As does this')\n",
    "\n",
    "function_with_captured_output()"
   ]
  },
  {
   "cell_type": "code",
   "execution_count": 39,
   "id": "c2a1cbcf-7ed4-4ca0-afdc-c25d5e363b78",
   "metadata": {},
   "outputs": [],
   "source": [
    "out.clear_output()"
   ]
  },
  {
   "cell_type": "code",
   "execution_count": null,
   "id": "9d73ef7e-c75e-43f2-add7-c4401c811578",
   "metadata": {},
   "outputs": [],
   "source": []
  }
 ],
 "metadata": {
  "kernelspec": {
   "display_name": "Python 3",
   "language": "python",
   "name": "python3"
  },
  "language_info": {
   "codemirror_mode": {
    "name": "ipython",
    "version": 3
   },
   "file_extension": ".py",
   "mimetype": "text/x-python",
   "name": "python",
   "nbconvert_exporter": "python",
   "pygments_lexer": "ipython3",
   "version": "3.9.2"
  }
 },
 "nbformat": 4,
 "nbformat_minor": 5
}

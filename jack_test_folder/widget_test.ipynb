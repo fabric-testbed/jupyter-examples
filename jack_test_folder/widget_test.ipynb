{
 "cells": [
  {
   "cell_type": "markdown",
   "id": "fbc1e85d-32b4-4ed4-9990-041519bc8bb7",
   "metadata": {},
   "source": [
    "# Widget test"
   ]
  },
  {
   "cell_type": "markdown",
   "id": "90dfbfac-b71c-427c-9e79-04950433400e",
   "metadata": {},
   "source": [
    "#### Run the next two Cells to instal apropriate packages for widgets. "
   ]
  },
  {
   "cell_type": "code",
   "execution_count": 9,
   "id": "6e4d7e98-e951-4ae9-b13d-0cafc85f6669",
   "metadata": {},
   "outputs": [
    {
     "name": "stdout",
     "output_type": "stream",
     "text": [
      "Collecting package metadata (current_repodata.json): done\n",
      "Solving environment: done\n",
      "\n",
      "# All requested packages already installed.\n",
      "\n",
      "\n",
      "Note: you may need to restart the kernel to use updated packages.\n"
     ]
    }
   ],
   "source": [
    "conda install -c conda-forge ipywidgets"
   ]
  },
  {
   "cell_type": "code",
   "execution_count": 6,
   "id": "1fba888c-3374-40d9-a4e3-6842f38afa32",
   "metadata": {},
   "outputs": [
    {
     "name": "stdout",
     "output_type": "stream",
     "text": [
      "Collecting package metadata (current_repodata.json): done\n",
      "Solving environment: done\n",
      "\n",
      "# All requested packages already installed.\n",
      "\n",
      "\n",
      "Note: you may need to restart the kernel to use updated packages.\n"
     ]
    }
   ],
   "source": [
    "conda install -c conda-forge nodejs"
   ]
  },
  {
   "cell_type": "markdown",
   "id": "e5e3b85e-b00e-4a16-8ceb-4e7674db8eb5",
   "metadata": {},
   "source": [
    "### Select Node Parameters"
   ]
  },
  {
   "cell_type": "code",
   "execution_count": 77,
   "id": "5caab761-fdfa-40b6-98ca-e020970df0b6",
   "metadata": {},
   "outputs": [
    {
     "data": {
      "application/vnd.jupyter.widget-view+json": {
       "model_id": "d9ff4597e97f4204a182bce91a11be3d",
       "version_major": 2,
       "version_minor": 0
      },
      "text/plain": [
       "Text(value='', description='Node Name:', placeholder='enter name')"
      ]
     },
     "metadata": {},
     "output_type": "display_data"
    },
    {
     "data": {
      "application/vnd.jupyter.widget-view+json": {
       "model_id": "d014de08b68443ce8570f5ef80ed944a",
       "version_major": 2,
       "version_minor": 0
      },
      "text/plain": [
       "Select(description='Image Reference:', options=('RENC', 'UKY', 'LBNL'), value='RENC')"
      ]
     },
     "metadata": {},
     "output_type": "display_data"
    },
    {
     "data": {
      "application/vnd.jupyter.widget-view+json": {
       "model_id": "c0103b1a021b44f38d919d1b70f806de",
       "version_major": 2,
       "version_minor": 0
      },
      "text/plain": [
       "IntSlider(value=4, description='Cores', max=32, min=2, step=2)"
      ]
     },
     "metadata": {},
     "output_type": "display_data"
    },
    {
     "data": {
      "application/vnd.jupyter.widget-view+json": {
       "model_id": "7d56f0a4347b4e348b98984a50264146",
       "version_major": 2,
       "version_minor": 0
      },
      "text/plain": [
       "IntSlider(value=16, description='RAM', max=64, min=2, step=2)"
      ]
     },
     "metadata": {},
     "output_type": "display_data"
    },
    {
     "data": {
      "application/vnd.jupyter.widget-view+json": {
       "model_id": "f9042f07bb3845968ff505dc4180ee6b",
       "version_major": 2,
       "version_minor": 0
      },
      "text/plain": [
       "FloatLogSlider(value=128.0, base=2.0, description='Disk', max=17.0, min=5.0, step=1.0)"
      ]
     },
     "metadata": {},
     "output_type": "display_data"
    },
    {
     "data": {
      "application/vnd.jupyter.widget-view+json": {
       "model_id": "60407824e770485b840928661b33b6ec",
       "version_major": 2,
       "version_minor": 0
      },
      "text/plain": [
       "Select(description='Image Type:', options=('qcow2', 'qchicken2', 'qpig2'), value='qcow2')"
      ]
     },
     "metadata": {},
     "output_type": "display_data"
    },
    {
     "data": {
      "application/vnd.jupyter.widget-view+json": {
       "model_id": "f40b67cc41fe49dba8dc20728251cba2",
       "version_major": 2,
       "version_minor": 0
      },
      "text/plain": [
       "Select(description='Image Reference:', options=('default_ubuntu_20', 'default_arch_20', 'default_kali_21'), va…"
      ]
     },
     "metadata": {},
     "output_type": "display_data"
    }
   ],
   "source": [
    "import ipywidgets as widgets  # imports widgets library\n",
    "from IPython.display import display # imports library to display widgets\n",
    "\n",
    "node_name = widgets.Text(\n",
    "    placeholder='enter name',\n",
    "    description='Node Name:',\n",
    "    disabled=False\n",
    ")\n",
    "\n",
    "site_select = widgets.Select(\n",
    "    options=['RENC', 'UKY', 'LBNL'],\n",
    "    value='RENC',\n",
    "    # rows=10,\n",
    "    description='Image Reference:',\n",
    "    disabled=False\n",
    ")\n",
    "\n",
    "core_slider = widgets.IntSlider(min=2, max=32, step=2, value=4, description='Cores')\n",
    "ram_slider = widgets.IntSlider(min=2, max=64, step=2, value=16, description='RAM')\n",
    "disk_slider = widgets.FloatLogSlider(base=2, min=5, max=17, step=1, value=128,description='Disk')\n",
    "\n",
    "#core_slider.value = 16\n",
    "#ram_slider.value = 8 \n",
    "#disk_slider.value = 100\n",
    "\n",
    "img_ref_select = widgets.Select(\n",
    "    options=['qcow2', 'qchicken2', 'qpig2'],\n",
    "    value='qcow2',\n",
    "    # rows=10,\n",
    "    description='Image Type:',\n",
    "    disabled=False\n",
    ")\n",
    "\n",
    "img_type_select = widgets.Select(\n",
    "    options=['default_ubuntu_20', 'default_arch_20', 'default_kali_21'],\n",
    "    value='default_ubuntu_20',\n",
    "    # rows=10,\n",
    "    description='Image Reference:',\n",
    "    disabled=False\n",
    ")\n",
    "\n",
    "display(node_name)\n",
    "display(site_select)\n",
    "display(core_slider)\n",
    "display(ram_slider)\n",
    "display(disk_slider)\n",
    "display(img_ref_select)\n",
    "display(img_type_select)"
   ]
  },
  {
   "cell_type": "code",
   "execution_count": 130,
   "id": "4a6485f0-a20d-4142-9761-1f4d8d3ddfa8",
   "metadata": {},
   "outputs": [
    {
     "data": {
      "application/vnd.jupyter.widget-view+json": {
       "model_id": "607245e5f83c4f008144706238069d94",
       "version_major": 2,
       "version_minor": 0
      },
      "text/plain": [
       "Button(description='Build Node', icon='server', style=ButtonStyle(), tooltip='click to build node')"
      ]
     },
     "metadata": {},
     "output_type": "display_data"
    },
    {
     "data": {
      "application/vnd.jupyter.widget-view+json": {
       "model_id": "cc9fdea1104a418e8f50f2833977fae8",
       "version_major": 2,
       "version_minor": 0
      },
      "text/plain": [
       "Output(layout=Layout(border='1px solid black'), outputs=({'output_type': 'stream', 'name': 'stdout', 'text': \"…"
      ]
     },
     "metadata": {},
     "output_type": "display_data"
    }
   ],
   "source": [
    "def foo():\n",
    "    out.append_stdout('Building Node')\n",
    "\n",
    "button = widgets.Button(\n",
    "    description='Build Node',\n",
    "    disabled=False,\n",
    "    button_style='', # 'success', 'info', 'warning', 'danger' or ''\n",
    "    tooltip='click to build node',\n",
    "    icon='server' # (FontAwesome names without the `fa-` prefix)\n",
    ")\n",
    "button.on_click(foo)\n",
    "\n",
    "out = widgets.Output(layout={'border': '1px solid black'})\n",
    "out.append_stdout('Node Parameters: {} - {}\\n'.format(node_name.value, site_select.value))\n",
    "out.append_stdout('Cores: {}\\n RAM: {}\\n Disk Size(G): {}\\n'.format(core_slider.value, ram_slider.value, disk_slider.value))\n",
    "out.append_stdout('Image type: {}\\n Image Ref: {}'.format(img_ref_select.value, img_type_select.value))\n",
    "out.append_display_data(button) \n",
    "out\n"
   ]
  },
  {
   "cell_type": "code",
   "execution_count": 103,
   "id": "b1dc081b-8ad2-4192-8ca7-814c78c00b68",
   "metadata": {},
   "outputs": [],
   "source": [
    "with out:\n",
    "    display(widgets.IntSlider())"
   ]
  },
  {
   "cell_type": "code",
   "execution_count": null,
   "id": "2e95b958-96c2-4239-be73-4f312613dd02",
   "metadata": {},
   "outputs": [],
   "source": []
  },
  {
   "cell_type": "code",
   "execution_count": 126,
   "id": "3a05800f-c0b0-4eab-ae19-aadb2a9b39f0",
   "metadata": {},
   "outputs": [],
   "source": [
    "out.clear_output()"
   ]
  },
  {
   "cell_type": "code",
   "execution_count": 38,
   "id": "2f6dd6fa-8486-4300-a284-1fccb6e7caa4",
   "metadata": {},
   "outputs": [],
   "source": [
    "@out.capture()\n",
    "def function_with_captured_output():\n",
    "    print('This goes into the output widget')\n",
    "    raise Exception('As does this')\n",
    "\n",
    "function_with_captured_output()"
   ]
  },
  {
   "cell_type": "code",
   "execution_count": 39,
   "id": "c2a1cbcf-7ed4-4ca0-afdc-c25d5e363b78",
   "metadata": {},
   "outputs": [],
   "source": [
    "out.clear_output()"
   ]
  },
  {
   "cell_type": "code",
   "execution_count": null,
   "id": "9d73ef7e-c75e-43f2-add7-c4401c811578",
   "metadata": {},
   "outputs": [],
   "source": []
  }
 ],
 "metadata": {
  "kernelspec": {
   "display_name": "Python 3",
   "language": "python",
   "name": "python3"
  },
  "language_info": {
   "codemirror_mode": {
    "name": "ipython",
    "version": 3
   },
   "file_extension": ".py",
   "mimetype": "text/x-python",
   "name": "python",
   "nbconvert_exporter": "python",
   "pygments_lexer": "ipython3",
   "version": "3.9.2"
  }
 },
 "nbformat": 4,
 "nbformat_minor": 5
}

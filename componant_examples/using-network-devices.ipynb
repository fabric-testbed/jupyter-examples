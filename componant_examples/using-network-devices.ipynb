{
 "cells": [
  {
   "cell_type": "markdown",
   "id": "a2f90cf5-aeca-4546-9db4-bcc0934ab799",
   "metadata": {},
   "source": [
    "# Using Network Devices"
   ]
  },
  {
   "cell_type": "code",
   "execution_count": null,
   "id": "1ff64ac4-4059-45a2-a3c8-8e456051ee0e",
   "metadata": {},
   "outputs": [],
   "source": []
  }
 ],
 "metadata": {
  "kernelspec": {
   "display_name": "Python 3",
   "language": "python",
   "name": "python3"
  },
  "language_info": {
   "codemirror_mode": {
    "name": "ipython",
    "version": 3
   },
   "file_extension": ".py",
   "mimetype": "text/x-python",
   "name": "python",
   "nbconvert_exporter": "python",
   "pygments_lexer": "ipython3",
   "version": "3.8.8"
  }
 },
 "nbformat": 4,
 "nbformat_minor": 5
}

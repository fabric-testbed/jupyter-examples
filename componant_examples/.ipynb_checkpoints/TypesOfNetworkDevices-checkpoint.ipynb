{
 "cells": [
  {
   "cell_type": "markdown",
   "metadata": {},
   "source": [
    "# This notebook talks about storage types\n",
    "\n",
    "This tutorial will show you how to add network devides to your nodes, and will show you how to connect them with links.\n",
    "\n",
    "First, we need to prepare the environment. This is not the focus of this tutorial."
   ]
  },
  {
   "cell_type": "code",
   "execution_count": 1,
   "metadata": {},
   "outputs": [
    {
     "name": "stdout",
     "output_type": "stream",
     "text": [
      "CM Host: beta-2.fabric-testbed.net Orchestrator Host: beta-7.fabric-testbed.net\n",
      "no stored variable or alias fabric_refresh_token\n",
      "Stored 'fabric_refresh_token' (str)\n",
      "Fabric Refresh Token NB2HI4DTHIXS6Y3JNRXWO33OFZXXEZZPN5QXK5DIGIXTEYZYGUZGMZBYHFSWIYTCMNRWENLBHAZTKOBWG4YTINDDG42TKOB7OR4XAZJ5OJSWM4TFONUFI33LMVXCM5DTHUYTMMRTGU2DENZWGMZTMMJGOZSXE43JN5XD25RSFYYCM3DJMZSXI2LNMU6TQNRUGAYDAMBQ\n",
      "CILOGON_REFRESH_TOKEN environment variable: NB2HI4DTHIXS6Y3JNRXWO33OFZXXEZZPN5QXK5DIGIXTEYZYGUZGMZBYHFSWIYTCMNRWENLBHAZTKOBWG4YTINDDG42TKOB7OR4XAZJ5OJSWM4TFONUFI33LMVXCM5DTHUYTMMRTGU2DENZWGMZTMMJGOZSXE43JN5XD25RSFYYCM3DJMZSXI2LNMU6TQNRUGAYDAMBQ\n"
     ]
    }
   ],
   "source": [
    "import os\n",
    "from fabrictestbed.slice_manager import SliceManager, Status\n",
    "import json\n",
    "\n",
    "credmgr_host = os.environ['FABRIC_CREDMGR_HOST']\n",
    "orchestrator_host = os.environ['FABRIC_ORCHESTRATOR_HOST']\n",
    "print(f\"CM Host: {credmgr_host} Orchestrator Host: {orchestrator_host}\")\n",
    "\n",
    "not_found=False\n",
    "fabric_refresh_token=None\n",
    "%store -r fabric_refresh_token\n",
    "\n",
    "if fabric_refresh_token is None:\n",
    "    fabric_refresh_token=os.environ['CILOGON_REFRESH_TOKEN']\n",
    "    %store fabric_refresh_token\n",
    "print(\"Fabric Refresh Token {}\".format(fabric_refresh_token))\n",
    "print(\"CILOGON_REFRESH_TOKEN environment variable: {}\".format(os.environ['CILOGON_REFRESH_TOKEN']))\n",
    "\n",
    "slice_manager = SliceManager(oc_host=orchestrator_host, cm_host=credmgr_host, \n",
    "                             refresh_token=fabric_refresh_token, project_name='all', scope='all')"
   ]
  },
  {
   "cell_type": "code",
   "execution_count": 2,
   "metadata": {},
   "outputs": [
    {
     "name": "stdout",
     "output_type": "stream",
     "text": [
      "\n",
      "New Refresh Token: NB2HI4DTHIXS6Y3JNRXWO33OFZXXEZZPN5QXK5DIGIXTKNDCMZSDQYRXMMYTOZBVMQZTINJSGVSWMMRQMJRTEZLBHAZTGYZ7OR4XAZJ5OJSWM4TFONUFI33LMVXCM5DTHUYTMMRTGU2DINZWHAYTCNRGOZSXE43JN5XD25RSFYYCM3DJMZSXI2LNMU6TQNRUGAYDAMBQ\n",
      "\n",
      "Stored new Refresh Token\n",
      "Stored 'fabric_refresh_token' (str)\n",
      "\n",
      "\n"
     ]
    }
   ],
   "source": [
    "try:\n",
    "    id_token, refresh_token = slice_manager.refresh_tokens()\n",
    "except Exception as e:\n",
    "    print(\"Exception occurred while getting tokens:{}\".format(e))\n",
    "\n",
    "fabric_refresh_token=slice_manager.get_refresh_token()\n",
    "print()\n",
    "print(\"New Refresh Token: {}\".format(fabric_refresh_token))\n",
    "print()\n",
    "print(\"Stored new Refresh Token\")\n",
    "%store fabric_refresh_token\n",
    "print()\n",
    "print()"
   ]
  },
  {
   "cell_type": "markdown",
   "metadata": {},
   "source": [
    "### Tutorial starts here.\n",
    "\n",
    "First, we can query for available resources:"
   ]
  },
  {
   "cell_type": "code",
   "execution_count": 3,
   "metadata": {},
   "outputs": [
    {
     "name": "stdout",
     "output_type": "stream",
     "text": [
      "Status: Status.OK\n",
      "Toplogy: UKY: { cpu: 6/6 , core: 96/96 , ram: 1,536/1,536 G, disk: 109,600/109,600 G, unit: 3/3 }\n",
      "\tComponents:\n",
      "\t\tNVME-P4510:  NVME P4510 { disk: 10,000/10,000 G, unit: 10/10 }\n",
      "\t\tSharedNIC-ConnectX-6:  SharedNIC ConnectX-6 { unit: 12/12 }\n",
      "\t\tGPU-RTX6000:  GPU RTX6000 { unit: 2/2 }\n",
      "\t\tGPU-Tesla T4:  GPU Tesla T4 { unit: 4/4 }\n",
      "\t\tSmartNIC-ConnectX-6:  SmartNIC ConnectX-6 { unit: 2/2 }\n",
      "\t\tSmartNIC-ConnectX-5:  SmartNIC ConnectX-5 { unit: 2/2 }\n",
      "\tSite Interfaces:\n",
      "Links:\n"
     ]
    }
   ],
   "source": [
    "status, advertised_topology = slice_manager.resources()\n",
    "\n",
    "print(f\"Status: {status}\")\n",
    "if status == Status.OK:\n",
    "    print(f\"Toplogy: {advertised_topology}\")"
   ]
  },
  {
   "cell_type": "code",
   "execution_count": 4,
   "metadata": {},
   "outputs": [
    {
     "data": {
      "image/png": "[encoded data removed]",
      "text/plain": [
       "<Figure size 432x288 with 1 Axes>"
      ]
     },
     "metadata": {},
     "output_type": "display_data"
    }
   ],
   "source": [
    "if status == Status.OK:\n",
    "    advertised_topology.draw()"
   ]
  },
  {
   "cell_type": "markdown",
   "metadata": {},
   "source": [
    "The cell below creates a slice that contains three nodes.\n",
    "\n",
    "There are currently three different types of network cards available that you can add to your nodes.\n",
    "\n",
    "Each node has a one of the three different network card types attached to it.\n",
    "\n",
    "Node n1 has a SharedNIC of type ConnectX-6 attached to it, using this line of code:\n",
    "\n",
    "`n1.add_component(ctype=ComponentType.SharedNIC, model='ConnectX-6', name='nic1')`\n",
    "\n",
    "Node n2 has a SmartNIC of type ConnectX-6 attached to it, using this line of code:\n",
    "\n",
    "`n2.add_component(ctype=ComponentType.SmartNIC, model='ConnectX-6', name='nic2')`\n",
    "\n",
    "Node n3 has a SmartNIC of type ConnectX-5 attached to it, using this line of code:\n",
    "\n",
    "`n3.add_component(ctype=ComponentType.SmartNIC, model='ConnectX-5', name='nic3')`\n",
    "\n",
    "You can use these lines of code to add NICs to your nodes.\n",
    "\n",
    "More details about the SharedNIC of model ConnectX-6: \"Mellanox ConnectX-6 VPI MCX653 dual port 100Gbps\". A SharedNIC gives less performance than a SmartNIC.\n",
    "\n",
    "More details about the SmartNIC of model ConnectX-6: \"Mellanox ConnectX-6 VPI MCX653 dual port 100Gbps\".\n",
    "\n",
    "More details about the SmartNIC of model ConnectX-5: \"Mellanox ConnectX-5 Dual Port 10/25GbE\".\n",
    "\n",
    "<hr/>\n",
    "\n",
    "After we add nodes with NICs, we connect them with links. But links are not the focus of this tutorial."
   ]
  },
  {
   "cell_type": "code",
   "execution_count": 5,
   "metadata": {},
   "outputs": [
    {
     "name": "stdout",
     "output_type": "stream",
     "text": [
      "Response Status Status.OK\n",
      "Reservations created [{\n",
      "    \"graph_node_id\": \"278705ee-c63d-4ea6-9d66-b90cd9175752\",\n",
      "    \"join_state\": \"None_\",\n",
      "    \"lease_end\": \"2021-06-14 00:40:01\",\n",
      "    \"reservation_id\": \"b24b14ff-a6cb-40a8-b875-190148f3fd09\",\n",
      "    \"reservation_state\": \"Unknown\",\n",
      "    \"resource_type\": \"VM\",\n",
      "    \"slice_id\": \"eed4119c-1e94-4429-93dd-8eda1f3c3b01\"\n",
      "}, {\n",
      "    \"graph_node_id\": \"a63ddfa8-2e6a-4a66-b47e-5163401af21f\",\n",
      "    \"join_state\": \"None_\",\n",
      "    \"lease_end\": \"2021-06-14 00:40:01\",\n",
      "    \"reservation_id\": \"6c80a031-52fe-4f02-8a93-42db2647ae0c\",\n",
      "    \"reservation_state\": \"Unknown\",\n",
      "    \"resource_type\": \"VM\",\n",
      "    \"slice_id\": \"eed4119c-1e94-4429-93dd-8eda1f3c3b01\"\n",
      "}, {\n",
      "    \"graph_node_id\": \"7388cc7b-4ada-400a-9c14-51261e2ddd88\",\n",
      "    \"join_state\": \"None_\",\n",
      "    \"lease_end\": \"2021-06-14 00:40:01\",\n",
      "    \"reservation_id\": \"6ce5175e-6cdb-4eca-a182-a5d4f256bbf4\",\n",
      "    \"reservation_state\": \"Unknown\",\n",
      "    \"resource_type\": \"VM\",\n",
      "    \"slice_id\": \"eed4119c-1e94-4429-93dd-8eda1f3c3b01\"\n",
      "}]\n"
     ]
    }
   ],
   "source": [
    "from fabrictestbed.slice_editor import ExperimentTopology, Capacities, ComponentType, LinkType, Layer\n",
    "# Create topology\n",
    "t = ExperimentTopology()\n",
    "\n",
    "# Add node\n",
    "n1 = t.add_node(name='n1', site='UKY')\n",
    "\n",
    "# Set capacities\n",
    "cap = Capacities()\n",
    "cap.set_fields(core=4, ram=4, disk=500)\n",
    "\n",
    "# Set Properties\n",
    "n1.set_properties(capacities=cap, image_type='qcow2', image_ref='default_ubuntu_20')\n",
    "\n",
    "# Add SharedNIC of type ConnectX-6 to the node.\n",
    "n1.add_component(ctype=ComponentType.SharedNIC, model='ConnectX-6', name='nic1')\n",
    "\n",
    "# Add node\n",
    "n2 = t.add_node(name='n2', site='UKY')\n",
    "\n",
    "# Set Properties\n",
    "n2.set_properties(capacities=cap, image_type='qcow2', image_ref='default_ubuntu_20')\n",
    "\n",
    "# Add SmartNIC of type ConnectX-6 to the node.\n",
    "n2.add_component(ctype=ComponentType.SmartNIC, model='ConnectX-6', name='nic2')\n",
    "\n",
    "# Add node\n",
    "n3 = t.add_node(name='n3', site='UKY')\n",
    "\n",
    "# Set Properties\n",
    "n3.set_properties(capacities=cap, image_type='qcow2', image_ref='default_ubuntu_20')\n",
    "\n",
    "# Add SmartNIC of type ConnectX-5 to the node.\n",
    "n3.add_component(ctype=ComponentType.SmartNIC, model='ConnectX-5', name='nic3')\n",
    "\n",
    "# We have added the three nodes, and each one has one of the three different types of network cards.\n",
    "# Now, we connect them with links.\n",
    "\n",
    "link1 = t.add_link(name='link1', ltype=LinkType.Patch, layer=Layer.L2,\n",
    "                         interfaces=[list(filter(lambda iff: (iff.name == 'nic1'+'-p1'), t.interface_list))[0],\n",
    "                                     list(filter(lambda iff: (iff.name == 'nic2'+'-p1'), t.interface_list))[0]])\n",
    "\n",
    "link2 = t.add_link(name='link2', ltype=LinkType.Patch, layer=Layer.L2,\n",
    "                         interfaces=[list(filter(lambda iff: (iff.name == 'nic2'+'-p1'), t.interface_list))[0],\n",
    "                                     list(filter(lambda iff: (iff.name == 'nic3'+'-p1'), t.interface_list))[0]])\n",
    "\n",
    "link3 = t.add_link(name='link3', ltype=LinkType.Patch, layer=Layer.L2,\n",
    "                         interfaces=[list(filter(lambda iff: (iff.name == 'nic3'+'-p1'), t.interface_list))[0],\n",
    "                                     list(filter(lambda iff: (iff.name == 'nic1'+'-p1'), t.interface_list))[0]])\n",
    "\n",
    "# Generate Slice Graph\n",
    "slice_graph = t.serialize()\n",
    "\n",
    "ssh_key = None\n",
    "with open (\"/home/fabric/.ssh/id_rsa.pub\", \"r\") as myfile:\n",
    "    ssh_key=myfile.read()\n",
    "    ssh_key=ssh_key.strip()\n",
    "\n",
    "# Request slice from Orchestrator\n",
    "status, reservations = slice_manager.create(slice_name='JupyterSlice1', slice_graph=slice_graph, ssh_key=ssh_key)\n",
    "\n",
    "print(\"Response Status {}\".format(status))\n",
    "print(\"Reservations created {}\".format(reservations))"
   ]
  },
  {
   "cell_type": "markdown",
   "metadata": {},
   "source": [
    "## Below are some status commands. This is not the focus of this tutorial."
   ]
  },
  {
   "cell_type": "code",
   "execution_count": 6,
   "metadata": {},
   "outputs": [],
   "source": [
    "# Set the Slice ID from output of the above command\n",
    "slice_id=reservations[0].slice_id"
   ]
  },
  {
   "cell_type": "markdown",
   "metadata": {},
   "source": [
    "## Query Slices"
   ]
  },
  {
   "cell_type": "code",
   "execution_count": 7,
   "metadata": {},
   "outputs": [
    {
     "name": "stdout",
     "output_type": "stream",
     "text": [
      "Response Status Status.OK\n",
      "Slices [{\n",
      "    \"graph_id\": \"79962286-9a85-4db1-a30e-987a2963dadd\",\n",
      "    \"slice_id\": \"eed4119c-1e94-4429-93dd-8eda1f3c3b01\",\n",
      "    \"slice_name\": \"JupyterSlice1\",\n",
      "    \"slice_state\": \"Configuring\"\n",
      "}]\n"
     ]
    }
   ],
   "source": [
    "status, slices = slice_manager.slices()\n",
    "\n",
    "print(\"Response Status {}\".format(status))\n",
    "if status == Status.OK:\n",
    "    print(\"Slices {}\".format(slices))"
   ]
  },
  {
   "cell_type": "markdown",
   "metadata": {},
   "source": [
    "## Query Slice"
   ]
  },
  {
   "cell_type": "code",
   "execution_count": 8,
   "metadata": {},
   "outputs": [
    {
     "name": "stdout",
     "output_type": "stream",
     "text": [
      "Response Status Status.OK\n",
      "Response received n1[VM]:  { core: 4 , ram: 4 G, disk: 500 G}\n",
      "n2[VM]:  { core: 4 , ram: 4 G, disk: 500 G}\n",
      "n3[VM]:  { core: 4 , ram: 4 G, disk: 500 G}\n",
      "Links:\n",
      "\tlink1[Patch]: []\n",
      "\tlink2[Patch]: []\n",
      "\tlink3[Patch]: []\n"
     ]
    }
   ],
   "source": [
    "status, slice_obj = slice_manager.get_slice(slice_id=slice_id)\n",
    "\n",
    "print(\"Response Status {}\".format(status))\n",
    "if status == Status.OK:\n",
    "    print(\"Response received {}\".format(slice_obj))"
   ]
  },
  {
   "cell_type": "code",
   "execution_count": 9,
   "metadata": {},
   "outputs": [
    {
     "data": {
      "image/png": "[encoded data removed]",
      "text/plain": [
       "<Figure size 432x288 with 1 Axes>"
      ]
     },
     "metadata": {},
     "output_type": "display_data"
    }
   ],
   "source": [
    "slice_obj.draw()"
   ]
  },
  {
   "cell_type": "markdown",
   "metadata": {},
   "source": [
    "## Query Slivers"
   ]
  },
  {
   "cell_type": "code",
   "execution_count": 10,
   "metadata": {},
   "outputs": [
    {
     "name": "stdout",
     "output_type": "stream",
     "text": [
      "Response Status Status.OK\n",
      "Slivers [{\n",
      "    \"allocated_capacities\": \"{\\\"core\\\": 4, \\\"disk\\\": 500, \\\"ram\\\": 16}\",\n",
      "    \"allocated_labels\": \"{\\\"instance_parent\\\": \\\"uky-w1\\\"}\",\n",
      "    \"capacities\": \"{\\\"core\\\": 4, \\\"disk\\\": 500, \\\"ram\\\": 4}\",\n",
      "    \"capacity_hints\": \"{\\\"instance_type\\\": \\\"fabric.c4.m16.d500\\\"}\",\n",
      "    \"graph_node_id\": \"278705ee-c63d-4ea6-9d66-b90cd9175752\",\n",
      "    \"join_state\": \"NoJoin\",\n",
      "    \"lease_end\": \"2021-06-14 00:40:01\",\n",
      "    \"name\": \"n1\",\n",
      "    \"reservation_id\": \"b24b14ff-a6cb-40a8-b875-190148f3fd09\",\n",
      "    \"reservation_state\": \"Ticketed\",\n",
      "    \"resource_type\": \"VM\",\n",
      "    \"site\": \"UKY\",\n",
      "    \"slice_id\": \"eed4119c-1e94-4429-93dd-8eda1f3c3b01\"\n",
      "}, {\n",
      "    \"allocated_capacities\": \"{\\\"core\\\": 4, \\\"disk\\\": 500, \\\"ram\\\": 16}\",\n",
      "    \"allocated_labels\": \"{\\\"instance_parent\\\": \\\"uky-w2\\\"}\",\n",
      "    \"capacities\": \"{\\\"core\\\": 4, \\\"disk\\\": 500, \\\"ram\\\": 4}\",\n",
      "    \"capacity_hints\": \"{\\\"instance_type\\\": \\\"fabric.c4.m16.d500\\\"}\",\n",
      "    \"graph_node_id\": \"a63ddfa8-2e6a-4a66-b47e-5163401af21f\",\n",
      "    \"join_state\": \"NoJoin\",\n",
      "    \"lease_end\": \"2021-06-14 00:40:01\",\n",
      "    \"name\": \"n2\",\n",
      "    \"reservation_id\": \"6c80a031-52fe-4f02-8a93-42db2647ae0c\",\n",
      "    \"reservation_state\": \"Ticketed\",\n",
      "    \"resource_type\": \"VM\",\n",
      "    \"site\": \"UKY\",\n",
      "    \"slice_id\": \"eed4119c-1e94-4429-93dd-8eda1f3c3b01\"\n",
      "}, {\n",
      "    \"allocated_capacities\": \"{\\\"core\\\": 4, \\\"disk\\\": 500, \\\"ram\\\": 16}\",\n",
      "    \"allocated_labels\": \"{\\\"instance_parent\\\": \\\"uky-w3\\\"}\",\n",
      "    \"capacities\": \"{\\\"core\\\": 4, \\\"disk\\\": 500, \\\"ram\\\": 4}\",\n",
      "    \"capacity_hints\": \"{\\\"instance_type\\\": \\\"fabric.c4.m16.d500\\\"}\",\n",
      "    \"graph_node_id\": \"7388cc7b-4ada-400a-9c14-51261e2ddd88\",\n",
      "    \"join_state\": \"NoJoin\",\n",
      "    \"lease_end\": \"2021-06-14 00:40:01\",\n",
      "    \"name\": \"n3\",\n",
      "    \"reservation_id\": \"6ce5175e-6cdb-4eca-a182-a5d4f256bbf4\",\n",
      "    \"reservation_state\": \"Ticketed\",\n",
      "    \"resource_type\": \"VM\",\n",
      "    \"site\": \"UKY\",\n",
      "    \"slice_id\": \"eed4119c-1e94-4429-93dd-8eda1f3c3b01\"\n",
      "}]\n"
     ]
    }
   ],
   "source": [
    "status, slivers = slice_manager.slivers(slice_id=slice_id)\n",
    "\n",
    "print(\"Response Status {}\".format(status))\n",
    "if status == Status.OK:\n",
    "    print(\"Slivers {}\".format(slivers))"
   ]
  }
 ],
 "metadata": {
  "kernelspec": {
   "display_name": "Python 3",
   "language": "python",
   "name": "python3"
  },
  "language_info": {
   "codemirror_mode": {
    "name": "ipython",
    "version": 3
   },
   "file_extension": ".py",
   "mimetype": "text/x-python",
   "name": "python",
   "nbconvert_exporter": "python",
   "pygments_lexer": "ipython3",
   "version": "3.9.2"
  }
 },
 "nbformat": 4,
 "nbformat_minor": 4
}

{
 "cells": [
  {
   "cell_type": "markdown",
   "id": "276d041a-c84b-44b8-9ed7-664ee289e59c",
   "metadata": {},
   "source": [
    "# START HERE\n",
    "\n",
    "## Table of Contents\n",
    "\n",
    "a list of existing notebooks and a short discription of their purpose. \n",
    "\n",
    "### Demos\n",
    "\n",
    "- [Simple Demo](./fabric/demos/Workshop-Spring2021/simple-workshop-demo.ipynb)\n",
    "\n",
    "> A basic demos that walks through the essential steps of running Slices, including token creation/usage, resource availibility, and the basics of builing, creating, managing and deleting Slices. \n",
    "\n",
    "- [Latency Demo](./fabric/demos/Workshop-Spring2021/latency-workshop-demo.ipynb)\n",
    "\n",
    "> an example of how to create links between nodes and monitor latency\n",
    "\n",
    "\n",
    "### Basic Functions\n",
    "\n",
    "- [Orchestator APIs](./fabric/basic/orchestrator.ipynb)\n",
    "\n",
    " > a demonstration of the Orchestrator APIs \n",
    "\n",
    "- [Token Mangement](./fabric/basic/tokens.ipynb)\n",
    "\n",
    "> creation and mangement of tokens\n",
    "\n",
    "- [Slice construstion](./fabric/basic/slice.ipynb)\n",
    "\n",
    "> Slice construction using Fabric Information model\n",
    "\n",
    "### Examples\n",
    "\n",
    "- [Delete Slice](./fabric/examples/delete_existing_slice.ipynb)\n",
    "\n",
    "> Identifying a specific slice ID and deleting a slice \n",
    "\n",
    "\n",
    "- [Avilible Resources](./fabric/examples/get_availavble_resources.ipynb)\n",
    "\n",
    "> Identifying Availible resources. \n",
    "\n",
    "\n",
    "- [Kubernetes](./fabric/examples/KubernetesHelloWorld.ipynb)\n",
    "\n",
    "> Basic Creating and managing a Kubernetes cluster.\n",
    "\n",
    "\n",
    "- [Token Management](./fabric/examples/manage_tokens.ipynb)\n",
    "\n",
    "> creation and mangement of tokens\n",
    "\n",
    "- [Single Node Creation](./fabric/examples/single_node.ipybn)\n",
    "\n",
    "> Create a Single Node \n",
    "\n"
   ]
  },
  {
   "cell_type": "code",
   "execution_count": null,
   "id": "bad3125c-d752-4964-ae12-6ba403725646",
   "metadata": {},
   "outputs": [],
   "source": []
  }
 ],
 "metadata": {
  "kernelspec": {
   "display_name": "Python 3",
   "language": "python",
   "name": "python3"
  },
  "language_info": {
   "codemirror_mode": {
    "name": "ipython",
    "version": 3
   },
   "file_extension": ".py",
   "mimetype": "text/x-python",
   "name": "python",
   "nbconvert_exporter": "python",
   "pygments_lexer": "ipython3",
   "version": "3.8.8"
  }
 },
 "nbformat": 4,
 "nbformat_minor": 5
}

{
 "cells": [
  {
   "cell_type": "markdown",
   "metadata": {},
   "source": [
    "# Programming a P4 Switches\n",
    "Programming a P4 switch, whether targeting hardware or software, requires a dedicated software development environment equipped with a compiler. \n",
    "\n",
    "**Figure 1: Generic workflow design**\n",
    "\n",
    "![Workflow](./figs/p4-workflow.png)\n",
    "\n",
    "The workflow consists of the following components:\n",
    "\n",
    "1. **Vendor-Provided Components**:\n",
    "   - **Compiler**: Responsible for translating the target-independent P4 source code into platform-specific implementations.\n",
    "   - **Architecture Model**: Defines the capabilities and constraints of the target device.\n",
    "   - **Target Switch**: The hardware or software environment where the data plane logic is deployed.\n",
    "\n",
    "2. **User-Provided Component**:\n",
    "   - **P4 Source Code**: Customized by the user to specify the desired forwarding logic and behavior.\n",
    "\n",
    "### Compilation Process\n",
    "\n",
    "The compiler translates the user-defined P4 source code into two essential artifacts:\n",
    "\n",
    "1. **Data Plane Runtime Configuration**:  \n",
    "   - Implements the forwarding logic defined in the P4 program.\n",
    "   - Contains instructions and resource mappings tailored to the specific target switch.\n",
    "\n",
    "2. **Runtime Application Programming Interfaces (APIs)**:  \n",
    "   - Enable the control plane or user to interact with the data plane during runtime.\n",
    "   - Support operations such as adding/removing entries in match-action tables and reading/writing the state of external objects (e.g., counters, meters, registers).\n",
    "   - Provide the necessary information for the control plane to manipulate data plane components, including:\n",
    "     - Table identifiers\n",
    "     - Match fields\n",
    "     - Keys\n",
    "     - Action parameters"
   ]
  },
  {
   "cell_type": "markdown",
   "metadata": {
    "editable": true,
    "id": "-tjEL9EBnk6e",
    "slideshow": {
     "slide_type": ""
    },
    "tags": []
   },
   "source": [
    "## Set Up a Network Slice with a P4 Tofino Switch and a Basic P4 Program\n",
    "\n",
    "In this notebook, we will configure a network slice that utilizes a P4 Tofino switch to run a basic P4 program. The setup will establish connectivity between two nodes via the P4 switch, allowing them to communicate and test connectivity using `ping`.\n",
    "\n",
    "This example is inspired by the **University of South Carolina CyberTraining program** for P4 programmable devices, which provides hands-on training on using P4 to build and manage network slices effectively.\n",
    "\n",
    "## Prerequisites\n",
    "\n",
    "1. **Access to a P4 Tofino switch**: A programmable hardware device equipped with an Intel Tofino ASIC.\n",
    "2. **Two nodes for connectivity**: Ensure two nodes are physically or virtually connected to the P4 switch.\n",
    "3. **Basic knowledge of P4 programming**: Familiarity with writing, compiling, and deploying P4 programs is necessary.\n",
    "4. **Installed Tofino Software Development Environment (SDE)**: Required tools and libraries for P4 development and deployment.\n",
    "\n",
    "## Example Workflow Overview\n",
    "\n",
    "1. **Compile the P4 Program**:\n",
    "   - Use the **bf-p4c compiler** with the **Tofino Native Architecture (TNA)** to compile the program into a binary file.\n",
    "   - This binary will serve as the data plane runtime configuration for the P4 switch.\n",
    "\n",
    "2. **Load the Data Plane Program**:\n",
    "   - Load the compiled binary into the P4 switch daemon, ensuring the forwarding logic is active.\n",
    "\n",
    "3. **Configure the Control Plane**:\n",
    "   - Use the **bfrt-python API** to populate the match-action tables, specifying forwarding rules for the nodes.\n",
    "\n",
    "4. **Test Connectivity**:\n",
    "   - Use `ping` to test connectivity between the two nodes and validate that the network slice is functioning as intended.\n",
    "\n",
    "**Figure 2: P4 example workflow**\n",
    "\n",
    "![Lab Workflow](./figs/p4-lab-workflow.png)\n",
    "\n",
    "\n",
    "**Figure 3: Slice Topology**\n",
    "\n",
    "![Topology](./figs/p4-slice.png)\n",
    "\n",
    "The topology depicts two nodes connected through the P4 switch. The P4 program running on the switch enables forwarding, allowing the nodes to communicate.\n"
   ]
  },
  {
   "cell_type": "markdown",
   "metadata": {
    "id": "CPhslE-unk6g"
   },
   "source": [
    "## Import the FABlib Library\n"
   ]
  },
  {
   "cell_type": "code",
   "execution_count": null,
   "metadata": {
    "id": "LmiM5Husnk6h"
   },
   "outputs": [],
   "source": [
    "from ipaddress import ip_address, IPv4Address, IPv6Address, IPv4Network, IPv6Network\n",
    "import ipaddress\n",
    "\n",
    "from fabrictestbed_extensions.fablib.fablib import FablibManager as fablib_manager\n",
    "\n",
    "fablib = fablib_manager()\n",
    "\n",
    "fablib.show_config();"
   ]
  },
  {
   "cell_type": "markdown",
   "metadata": {
    "id": "c0oBE6mYnk6i"
   },
   "source": [
    "## Create the Experiment Slice\n",
    "\n",
    "The following script sets up two nodes, each with Shared NICs connected to two ports on a P4 tofino switch.\n",
    "\n",
    "NIC component model options include:\n",
    "- NIC_Basic: 100 Gbps Mellanox ConnectX-6 SR-IOV VF (1 Port)\n",
    "- NIC_ConnectX_5: 25 Gbps Dedicated Mellanox ConnectX-5 PCI Device (2 Ports)\n",
    "- NIC_ConnectX_6: 100 Gbps Dedicated Mellanox ConnectX-6 PCI Device (2 Ports)"
   ]
  },
  {
   "cell_type": "markdown",
   "metadata": {},
   "source": [
    "### Identify the Sites\n",
    "\n",
    "List available sites with `P4 Switch`. Chooose one site at random from the available sites."
   ]
  },
  {
   "cell_type": "code",
   "execution_count": null,
   "metadata": {},
   "outputs": [],
   "source": [
    "p4_column_name = 'p4-switch_available'\n",
    "\n",
    "'''\n",
    "# Find a site which has a P4 Switch available\n",
    "[site2] = fablib.get_random_sites(count=1, filter_function=lambda x: x[p4_column_name] > 0)\n",
    "\n",
    "# Choose another random site other than P4 site to host the VMs\n",
    "site1 = fablib.get_random_site(avoid=[site2])\n",
    "'''\n",
    "site2=\"STAR\"\n",
    "site1=\"SALT\"\n",
    "\n",
    "print(f\"Sites chosen for hosting VMs: {site1} P4: {site2}\")"
   ]
  },
  {
   "cell_type": "markdown",
   "metadata": {},
   "source": [
    "### Define variables"
   ]
  },
  {
   "cell_type": "code",
   "execution_count": null,
   "metadata": {
    "id": "imUjQXMXnk6i"
   },
   "outputs": [],
   "source": [
    "slice_name = 'P4-Lab-Slice2'\n",
    "p4_column_name = \"p4-switch_available\"\n",
    "\n",
    "node1_name = 'Node1'\n",
    "node2_name = 'Node2'\n",
    "p4_name = 'P4'\n",
    "network1_name = 'net1'\n",
    "network2_name = 'net2'\n",
    "\n",
    "print(f\"VM Site: {site1}\")\n",
    "print(f\"P4 Site: {site2}\")\n",
    "\n",
    "#model='NIC_ConnectX_6'\n",
    "model='NIC_Basic'"
   ]
  },
  {
   "cell_type": "code",
   "execution_count": null,
   "metadata": {},
   "outputs": [],
   "source": [
    "#Create Slice\n",
    "slice = fablib.new_slice(name=slice_name)\n",
    "\n",
    "# Create Network\n",
    "net1 = slice.add_l2network(name=network1_name, subnet=IPv4Network(\"192.168.0.0/24\"))\n",
    "net2 = slice.add_l2network(name=network2_name, subnet=IPv4Network(\"192.168.0.0/24\"))\n",
    "\n",
    "# Create Node 1 and its links\n",
    "node1 = slice.add_node(name=node1_name, site=site1)\n",
    "iface1 = node1.add_component(model=model, name='nic1').get_interfaces()[0]\n",
    "iface1.set_mode('config')\n",
    "net1.add_interface(iface1)\n",
    "iface1.set_ip_addr(IPv4Address(\"192.168.0.1\"))\n",
    "\n",
    "# Create P4 switch and its links \n",
    "p4 = slice.add_switch(name=p4_name, site=site2)\n",
    "iface2 = p4.get_interfaces()[0]\n",
    "iface3 = p4.get_interfaces()[1]\n",
    "\n",
    "net1.add_interface(iface2)\n",
    "net2.add_interface(iface3)\n",
    "\n",
    "# Create Node 2 and its links\n",
    "node2 = slice.add_node(name=node2_name, site=site1)\n",
    "iface4 = node2.add_component(model=model, name='nic1').get_interfaces()[0]\n",
    "iface4.set_mode('config')\n",
    "net2.add_interface(iface4)\n",
    "iface4.set_ip_addr(IPv4Address(\"192.168.0.2\"))\n",
    "\n",
    "# Submit Slice Request\n",
    "slice.submit()"
   ]
  },
  {
   "cell_type": "markdown",
   "metadata": {},
   "source": [
    "## Compilling the basic P4 program\n",
    "P4 program file `basic.p4` is available inside a docker conatiner `p4_container` running on the switch and can be edited by the user via `vim`\n",
    "\n",
    "**Use the SSH command provided above to connect to the P4 switch. Once connected, execute the commands below to access the SDE environment. The SDE is set up within the `p4_container` Docker container, so you will need to enter the container's bash shell.**\n",
    "\n",
    "```\n",
    "docker exec -ti p4_container /bin/bash\n",
    "```"
   ]
  },
  {
   "cell_type": "markdown",
   "metadata": {},
   "source": [
    "### Configure the environment variables\n",
    "\n",
    "Go to Lab1 and source config environment\n",
    "```\n",
    "cd ~/P4_labs/lab1/\n",
    "source config_env.sh\n",
    "```\n"
   ]
  },
  {
   "cell_type": "markdown",
   "metadata": {},
   "source": [
    "### Compile the code\n",
    "\n",
    "In this example we will not modify the P4 code. Instead, we will just compile it and run it on the switch. \n",
    "\n",
    "The script `p4_build.sh` is provided by Intel’s support portal. It invokes the compiler to generate the output files. It automatically detects the P4 version (i.e., P416), and generates\n",
    "the output files under `$SDE/build/p4-build/<program_name>`, where `<program_name>` is the file `basic.p4`. It also generates the log files under `$SDE/logs/p4-build/<program_name>` and other files (e.g., graphs).\n",
    "\n",
    "Use the command below to compile the code:\n",
    "\n",
    "```\n",
    "~/tools/p4_build.sh --with-p4c=bf-p4c p4src/basic.p4\n",
    "```\n",
    "\n",
    "After executing the command, if there are no error messages displayed in the terminal, then the P4 program was compiled successfully."
   ]
  },
  {
   "cell_type": "markdown",
   "metadata": {},
   "source": [
    "### Verify the compilation output files\n",
    "Verify the output files for the program basic.p4 are generated in the `$SDE/build/p4-build` directory by issuing the following command.\n",
    "\n",
    "```\n",
    "ls $SDE/build/p4-build/tofino/basic/\n",
    "```\n",
    "\n",
    "The binary file that corresponds to the compiled data plane is located under `ls $SDE/build/p4-build/tofino/<program_name>/<program_name>/tofino/pipe/`. Use the command below to display the contents of this directory.\n",
    "\n",
    "```\n",
    "ls $SDE/build/p4-build/tofino/basic/basic/tofino/pipe/\n",
    "```"
   ]
  },
  {
   "cell_type": "markdown",
   "metadata": {},
   "source": [
    "## Start the switch daemon\n",
    "Now that we have compiled our P4 program and generated the output files, we can start the switch daemon with the compiled output using the command below.\n",
    "\n",
    "```\n",
    "cd ~/bf-sde-9.13.3\n",
    "./run_switchd.sh -p basic\n",
    "```\n",
    "\n",
    "NOTE: If you see error regarding kernel module, please run the following command:\n",
    "```\n",
    "sudo $SDE_INSTALL/bin/./bf_kdrv_mod_load $SDE_INSTALL\n",
    "```"
   ]
  },
  {
   "cell_type": "markdown",
   "metadata": {},
   "source": [
    "## Configuring the switch ports\n",
    "\n",
    "Once the daemon is running, you can issue commands in the bfshell.  \n",
    "\n",
    "1. Issue the following command in the switch CLI to manage the ports of the switch.\n",
    "\n",
    "```\n",
    "ucli\n",
    "```\n",
    "\n",
    "NOTE: The ucli is the bfshell instance used to manage the switch ports. With the ucli, you can enable or disable ports, set the port speed (e.g., 100 Gbps, 40 Gbps, and 10 Gbps), and\n",
    "select the FEC type. Additionally, the user can monitor the status of the ports, the number of sent and received frames, and other variables.\n",
    "\n",
    "2. Now we will add the ports for the switch. Recall from the topology that Server1 is connected to port 1 on the switch, and Server2 is connected to port 2 on the switch. Issue the\n",
    "commands below to add ports 1 and 2 in the Tofino switch.\n",
    "\n",
    "```\n",
    "pm port-add 1/- 100G NONE\n",
    "pm port-add 2/- 100G NONE\n",
    "```\n",
    "\n",
    "3. Enable the ports by issuing the following commands.\n",
    "```\n",
    "pm port-enb 1/-\n",
    "pm port-enb 2/-\n",
    "```\n",
    "\n",
    "4. Verify that the ports are up by issuing the following command.\n",
    "```\n",
    "pm show\n",
    "```\n",
    "\n",
    "\n",
    "**Expected output:**\n",
    "```\n",
    "bf-shell> ucli\n",
    "bf-sde> pm port-add 1/- 100G NONE\n",
    "bf-sde> pm port-add 2/- 100G NONE\n",
    "bf-sde> pm show\n",
    "-----+----+---+----+-------+----+--+--+---+---+---+--------+----------------+----------------+-\n",
    "PORT |MAC |D_P|P/PT|SPEED  |FEC |AN|KR|RDY|ADM|OPR|LPBK    |FRAMES RX       |FRAMES TX       |E\n",
    "-----+----+---+----+-------+----+--+--+---+---+---+--------+----------------+----------------+-\n",
    "1/0  |23/0|132|3/ 4|100G   |NONE|Au|Au|YES|ENB|DWN|  NONE  |               0|               0|\n",
    "2/0  |22/0|140|3/12|100G   |NONE|Au|Au|YES|ENB|DWN|  NONE  |               0|               0|\n",
    "bf-sde> pm port-enb 1/-\n",
    "bf-sde> pm port-enb 2/-\n",
    "bf-sde> pm show\n",
    "-----+----+---+----+-------+----+--+--+---+---+---+--------+----------------+----------------+-\n",
    "PORT |MAC |D_P|P/PT|SPEED  |FEC |AN|KR|RDY|ADM|OPR|LPBK    |FRAMES RX       |FRAMES TX       |E\n",
    "-----+----+---+----+-------+----+--+--+---+---+---+--------+----------------+----------------+-\n",
    "1/0  |23/0|132|3/ 4|100G   |NONE|Au|Au|YES|ENB|UP |  NONE  |              29|              14|\n",
    "2/0  |22/0|140|3/12|100G   |NONE|Au|Au|YES|ENB|UP |  NONE  |              29|              14|\n",
    "```\n",
    "\n",
    "The ouput above shows that ports 1 and 2 are up. The speed for the ports is 100G. The columns `FRAMES TX` indicate how many frames are received and `FRAMES RX` transmitted in each port respectively."
   ]
  },
  {
   "cell_type": "markdown",
   "metadata": {},
   "source": [
    "## Populating the switch’s forwarding table\n",
    "\n",
    "**Use the SSH command provided above to connect to the P4 switch. Once connected, execute the commands below to access the SDE environment. The SDE is set up within the `p4_container` Docker container, so you will need to enter the container's bash shell.**\n",
    "\n",
    "```\n",
    "docker exec -ti p4_container /bin/bash\n",
    "```\n",
    "\n",
    "**1. Update the port numbers highligted in red box in `~/P4_labs/lab1/bfrt_python/setup.py`. Port numbers should match the `D_P` column as observed in the output of `pm show` above.**\n",
    "\n",
    "<img src=\"./figs/p4-brft-setup.png\" alt=\"brft\" style=\"width:40%;\">\n",
    "\n",
    "\n",
    "\n",
    "\n",
    "\n",
    "**2. Populate the table entries to the switch by typing the following command in the embedded terminal.**\n",
    "\n",
    "```\n",
    "cd ~/bf-sde-9.13.3; . ~/tools/set_sde.bash\n",
    "$SDE/./run_bfshell.sh --no-status-srv -b ~/P4_labs/lab1/bfrt_python/setup.py\n",
    "```\n",
    "\n",
    "The forwarding table contains the information that the P4 program will use to forward packets to the right destination. "
   ]
  },
  {
   "cell_type": "markdown",
   "metadata": {
    "id": "A8fEpDTqnk6k"
   },
   "source": [
    "## Verifying Reachability through Ping Tests\n",
    "\n",
    "Inititate ping between the VMs."
   ]
  },
  {
   "cell_type": "code",
   "execution_count": null,
   "metadata": {
    "id": "rldR_eV1nk6k"
   },
   "outputs": [],
   "source": [
    "slice=fablib.get_slice(slice_name)\n",
    "node1=slice.get_node(node1_name)\n",
    "node2=slice.get_node(node2_name)\n",
    "\n",
    "node1_addr = node1.get_interface(network_name=network1_name).get_ip_addr()\n",
    "node2_addr = node2.get_interface(network_name=network2_name).get_ip_addr()\n",
    "\n",
    "stdout, stderr = node1.execute(f'ping -c 5 {node2_addr}')\n",
    "stdout, stderr = node2.execute(f'ping -c 5 {node1_addr}')"
   ]
  },
  {
   "cell_type": "markdown",
   "metadata": {},
   "source": [
    "### Verify frame counters on the switch\n",
    "\n",
    "Now, verify the counters for the ports on the switch.\n",
    "Both RX and TX frame counts should be incremented.\n",
    "\n",
    "```\n",
    "bf-sde> pm show\n",
    "-----+----+---+----+-------+----+--+--+---+---+---+--------+----------------+----------------+-\n",
    "PORT |MAC |D_P|P/PT|SPEED  |FEC |AN|KR|RDY|ADM|OPR|LPBK    |FRAMES RX       |FRAMES TX       |E\n",
    "-----+----+---+----+-------+----+--+--+---+---+---+--------+----------------+----------------+-\n",
    "1/0  |23/0|128|2/ 0|100G   |NONE|Au|Au|YES|ENB|UP |  NONE  |              61|              13|\n",
    "2/0  |22/0|136|2/ 8|100G   |NONE|Au|Au|YES|ENB|UP |  NONE  |              29|              17|\n",
    "```"
   ]
  },
  {
   "cell_type": "markdown",
   "metadata": {
    "id": "jr40raKGnk6k"
   },
   "source": [
    "## Delete the Slice\n",
    "\n",
    "Please delete your slice when you are done with your experiment."
   ]
  },
  {
   "cell_type": "code",
   "execution_count": null,
   "metadata": {
    "id": "Z5v7ECIjnk6k"
   },
   "outputs": [],
   "source": [
    "slice=fablib.get_slice(slice_name)\n",
    "slice.delete()"
   ]
  },
  {
   "cell_type": "code",
   "execution_count": null,
   "metadata": {},
   "outputs": [],
   "source": []
  }
 ],
 "metadata": {
  "colab": {
   "provenance": []
  },
  "kernelspec": {
   "display_name": "Python 3 (ipykernel)",
   "language": "python",
   "name": "python3"
  },
  "language_info": {
   "codemirror_mode": {
    "name": "ipython",
    "version": 3
   },
   "file_extension": ".py",
   "mimetype": "text/x-python",
   "name": "python",
   "nbconvert_exporter": "python",
   "pygments_lexer": "ipython3",
   "version": "3.11.9"
  }
 },
 "nbformat": 4,
 "nbformat_minor": 4
}

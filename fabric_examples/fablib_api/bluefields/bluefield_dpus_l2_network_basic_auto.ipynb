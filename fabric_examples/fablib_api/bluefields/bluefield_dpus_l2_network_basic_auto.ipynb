{
 "cells": [
  {
   "cell_type": "markdown",
   "metadata": {},
   "source": [
    "# BlueField DPUs\n",
    "BlueField is a next-generation Data Processing Unit (DPU) developed by NVIDIA (formerly Mellanox Technologies). It integrates powerful computing, networking, and storage acceleration capabilities into a single device. Designed for modern data centers, BlueField DPUs offer hardware-accelerated data processing, efficient resource management, and enhanced security features.\n",
    "\n",
    "## Key Features of BlueFields\n",
    "- Integrated Compute and Networking:\n",
    "  - Combines an ARM-based SoC (System-on-Chip) with a ConnectX-6 Dx network interface controller (NIC).\n",
    "  - Offers hardware acceleration for networking and storage operations.\n",
    "\n",
    "- Advanced Networking:\n",
    "  - Supports up to 200Gb/s Ethernet or InfiniBand networking.\n",
    "  - Equipped with SR-IOV, RDMA, and GPUDirect Storage capabilities.\n",
    "    \n",
    "- Storage Acceleration:\n",
    "  - Enables offloading for NVMe over Fabrics (NVMe-oF).\n",
    "  - Provides support for RAID and data mirroring.\n",
    "\n",
    "- Security Capabilities:\n",
    "  - Includes a hardware root of trust and secure boot features.\n",
    "  -  Offers real-time encryption, data isolation, and zero-trust security models.\n",
    "\n",
    "## Create a slice using BlueField SmartNICs \n",
    "\n",
    "This notebook shows how to create an isolated local Ethernet using BlueField Smart NICs and connect compute nodes to it and use FABlib's automatic configuration functionality.\n"
   ]
  },
  {
   "cell_type": "markdown",
   "metadata": {},
   "source": [
    "## Import the FABlib Library\n"
   ]
  },
  {
   "cell_type": "code",
   "execution_count": null,
   "metadata": {},
   "outputs": [],
   "source": [
    "from ipaddress import ip_address, IPv4Address, IPv6Address, IPv4Network, IPv6Network\n",
    "import ipaddress\n",
    "\n",
    "from fabrictestbed_extensions.fablib.fablib import FablibManager as fablib_manager\n",
    "\n",
    "fablib = fablib_manager()\n",
    "                     \n",
    "fablib.show_config();"
   ]
  },
  {
   "cell_type": "markdown",
   "metadata": {
    "tags": []
   },
   "source": [
    "## Create the Experiment Slice\n",
    "\n",
    "This example sets up two nodes, each equipped with a BlueField NIC, connected to an isolated local Ethernet. \n",
    "\n",
    "Each node is created with a single NIC component, utilizing the `NIC_ConnectX_7_400` and `NIC_Basic` models. These components are attached to the node via PCI passthrough. A list of other available NIC models is provided below. To retrieve the interfaces associated with a NIC component, use the `get_interfaces()` method. Many dedicated NICs feature multiple ports, either of which can be connected to the network.\n",
    "\n",
    "The node connected to the BlueField SmartNIC runs the `dpu_ubuntu_24` image, which includes DOCA version `2.9.1` by default. Alternatively, users can deploy VMs with the `default_ubuntu_24` image and manually install a different DOCA version as needed.\n",
    "\n",
    "For automatic configuration, specify a subnet for the network and set the interface mode to `auto` using `iface1.set_mode('auto')` before submitting the request. With this setup, FABlib assigns an IP address from the subnet and configures the device during post-boot setup. Additionally, routes can be pre-configured before submitting the request.\n",
    "\n",
    "### Available NIC Component Models:\n",
    "- **NIC_Basic**: 100 Gbps Mellanox ConnectX-6 SR-IOV VF (1 Port)\n",
    "- **NIC_ConnectX_5**: 25 Gbps Dedicated Mellanox ConnectX-5 PCI Device (2 Ports)\n",
    "- **NIC_ConnectX_6**: 100 Gbps Dedicated Mellanox ConnectX-6 PCI Device (2 Ports)\n",
    "- **NIC_ConnectX_7_100**: 100 Gbps Dedicated Mellanox BlueField-3 ConnectX-7 PCI Device (2 Ports)\n",
    "- **NIC_ConnectX_7_400**: 400 Gbps Dedicated Mellanox BlueField-3 ConnectX-7 PCI Device (2 Ports)\n",
    "- **NIC_BlueField2_ConnectX_6**: 100 Gbps Dedicated Mellanox BlueField-2 ConnectX-6 PCI Device (2 Ports)"
   ]
  },
  {
   "cell_type": "code",
   "execution_count": null,
   "metadata": {},
   "outputs": [],
   "source": [
    "slice_name = 'MySlice-bluefields'\n",
    "#site = fablib.get_random_site()\n",
    "site=\"FIU\"\n",
    "print(f\"Site: {site}\")\n",
    "\n",
    "node1_name = 'Node1'\n",
    "node2_name = 'Node2'\n",
    "\n",
    "network_name='net1'\n",
    "\n",
    "node1_image = \"dpu_ubuntu_24\"\n",
    "node2_image = \"default_ubuntu_24\""
   ]
  },
  {
   "cell_type": "code",
   "execution_count": null,
   "metadata": {
    "tags": []
   },
   "outputs": [],
   "source": [
    "#Create Slice\n",
    "slice = fablib.new_slice(name=slice_name)\n",
    "\n",
    "# Network\n",
    "#net1 = slice.add_l2network(name=network_name, subnet=IPv4Network(\"192.168.1.0/24\"))\n",
    "net1 = slice.add_l3network(name=network_name)\n",
    "\n",
    "# Node1\n",
    "node1 = slice.add_node(name=node1_name, site=site, image=node1_image)\n",
    "dpu = node1.add_component(model='NIC_ConnectX_7_100', name='nic1')\n",
    "iface1 =  dpu.get_interfaces()[0]\n",
    "iface1.set_mode('auto')\n",
    "net1.add_interface(iface1)\n",
    "\n",
    "iface2 =  dpu.get_interfaces()[1]\n",
    "iface2.set_mode('auto')\n",
    "net1.add_interface(iface2)\n",
    "\n",
    "# Node2\n",
    "node2 = slice.add_node(name=node2_name, site=site, image=node2_image)\n",
    "iface3 = node2.add_component(model='NIC_Basic', name='nic1').get_interfaces()[0]\n",
    "iface3.set_mode('auto')\n",
    "net1.add_interface(iface3)\n",
    "\n",
    "\n",
    "#Submit Slice Request\n",
    "slice.submit();"
   ]
  },
  {
   "cell_type": "markdown",
   "metadata": {},
   "source": [
    "## Configure the Bluefield Smart NIC\n",
    "\n",
    "The BlueField SmartNIC is configured by assigning the private IP address `192.168.100.1` to the `tmfifo_net0` device, enabling communication and management of the BlueField DPU. Additionally, the BlueField bundle (BFB) is installed on the DPU via the designated RShim interface, ensuring firmware updates and configuration optimizations for enhanced data center performance.\n",
    "\n",
    "When using the `dpu_ubuntu_24` image for a node (e.g., `Node1`) connected to the BlueField SmartNIC, the BFB image is available by default at:  \n",
    "`/opt/bf-bundle/bf-bundle-2.9.1-40_24.11_ubuntu-22.04_prod.bfb`.  \n",
    "The installation process is initiated when `bluefield.configure()` is executed.\n",
    "\n",
    "To run custom commands, provide a list of command strings as an argument to `bluefield.configure(commands)`.\n",
    "\n",
    "### Accessing DPU:\n",
    "#### SSH Access:\n",
    "To SSH into DPU from the VM, use:\n",
    "```\n",
    "ssh ubuntu@192.168.100.2\n",
    "```\n",
    "After pushing the BFB image to DPU, the default credentials are:  \n",
    "- **Username:** `ubuntu`  \n",
    "- **Password:** `ubuntu` (you will be prompted to change it upon first login)\n",
    "\n",
    "#### Console Access:\n",
    "If SSH access is unavailable, you can connect to DPU via the console interface:\n",
    "```\n",
    "screen /dev/rshim0/console\n",
    "```\n",
    "This method provides an alternative way to manage the SmartNIC if SSH connectivity is lost.\n"
   ]
  },
  {
   "cell_type": "code",
   "execution_count": null,
   "metadata": {},
   "outputs": [],
   "source": [
    "slice = fablib.get_slice(slice_name)\n",
    "\n",
    "node1 = slice.get_node(name=node1_name) \n",
    "bluefield = node1.get_component(name='nic1')\n",
    "output = bluefield.configure()"
   ]
  },
  {
   "cell_type": "markdown",
   "metadata": {},
   "source": [
    "### Re-apply the network config post re-imaging\n",
    "\n",
    "Reapply the network configuration on the node connected to the BlueField. This step is only effective when automatic configuration is in use, i.e., when interfaces are set with `iface1.set_mode('auto')` or `iface1.set_mode('config')`.\n",
    "\n",
    "After applying the configuration, reboot the VM connected to the DPU, since the VM OS may not always detect the interfaces automatically.\n"
   ]
  },
  {
   "cell_type": "code",
   "execution_count": null,
   "metadata": {},
   "outputs": [],
   "source": [
    "node1.execute(\"sudo reboot\")\n",
    "slice.wait_ssh()"
   ]
  },
  {
   "cell_type": "code",
   "execution_count": null,
   "metadata": {},
   "outputs": [],
   "source": [
    "node1.config()\n",
    "slice.list_interfaces();"
   ]
  },
  {
   "cell_type": "code",
   "execution_count": null,
   "metadata": {},
   "outputs": [],
   "source": [
    "for iface in node1.get_interfaces():\n",
    "    print(f\"Setting IP on {iface.get_name()}\")\n",
    "    stdout, stderr = node1.execute(f\"sudo ifconfig {iface.get_physical_os_interface_name()} up\")\n",
    "    stdout, stderr = node1.execute(f\"sudo ip addr add {iface.get_ip_addr()}/24 dev {iface.get_physical_os_interface_name()}\")"
   ]
  },
  {
   "cell_type": "code",
   "execution_count": null,
   "metadata": {},
   "outputs": [],
   "source": [
    "for n in slice.get_nodes():\n",
    "    print(f\"Listing IPs on {n.get_name()}\")\n",
    "    stdout, stderr = n.execute(\"ip addr\")\n",
    "    print(\"===============================================================================================================\")\n",
    "    print()"
   ]
  },
  {
   "cell_type": "markdown",
   "metadata": {},
   "source": [
    "## Run the Experiment\n",
    "\n",
    "With automatic configuration the slice is ready for experimentation after it becomes active.  Note that automatic configuration works well when saving slices to a file and reinstantiating the slice.  Configuration tasks can be stored in the saved slice, reducing the complexity of notebooks and other runtime steps.\n",
    "\n",
    "We will find the ping round trip time for this pair of sites.  Your experiment should be more interesting!\n",
    "\n",
    "**Note:** If the ping fails, try rerunning the cell above to ensure the IP address is properly configured, then attempt the ping again."
   ]
  },
  {
   "cell_type": "code",
   "execution_count": null,
   "metadata": {},
   "outputs": [],
   "source": [
    "slice = fablib.get_slice(slice_name)\n",
    "\n",
    "node1 = slice.get_node(name=node1_name)        \n",
    "node2 = slice.get_node(name=node2_name)           \n",
    "\n",
    "node2_addr = node2.get_interface(network_name=network_name).get_ip_addr()\n",
    "\n",
    "stdout, stderr = node1.execute(f'ping -c 5 {node2_addr}')"
   ]
  },
  {
   "cell_type": "markdown",
   "metadata": {},
   "source": [
    "## Delete the Slice\n",
    "\n",
    "Please delete your slice when you are done with your experiment."
   ]
  },
  {
   "cell_type": "code",
   "execution_count": null,
   "metadata": {},
   "outputs": [],
   "source": [
    "slice = fablib.get_slice(slice_name)\n",
    "slice.delete()"
   ]
  },
  {
   "cell_type": "code",
   "execution_count": null,
   "metadata": {},
   "outputs": [],
   "source": []
  }
 ],
 "metadata": {
  "kernelspec": {
   "display_name": "Python 3 (ipykernel)",
   "language": "python",
   "name": "python3"
  },
  "language_info": {
   "codemirror_mode": {
    "name": "ipython",
    "version": 3
   },
   "file_extension": ".py",
   "mimetype": "text/x-python",
   "name": "python",
   "nbconvert_exporter": "python",
   "pygments_lexer": "ipython3",
   "version": "3.11.9"
  }
 },
 "nbformat": 4,
 "nbformat_minor": 4
}

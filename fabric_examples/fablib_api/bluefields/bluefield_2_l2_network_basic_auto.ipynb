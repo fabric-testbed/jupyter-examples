{
 "cells": [
  {
   "cell_type": "markdown",
   "metadata": {},
   "source": [
    "# BlueField-2 SmartNICs\n",
    "BlueField-2 is a next-generation Data Processing Unit (DPU) developed by NVIDIA (formerly Mellanox Technologies). It integrates powerful computing, networking, and storage acceleration capabilities into a single device. Designed for modern data centers, BlueField-2 DPUs offer hardware-accelerated data processing, efficient resource management, and enhanced security features.\n",
    "\n",
    "## Key Features of BlueField-2\n",
    "- Integrated Compute and Networking:\n",
    "  - Combines an ARM-based SoC (System-on-Chip) with a ConnectX-6 Dx network interface controller (NIC).\n",
    "  - Offers hardware acceleration for networking and storage operations.\n",
    "\n",
    "- Advanced Networking:\n",
    "  - Supports up to 200Gb/s Ethernet or InfiniBand networking.\n",
    "  - Equipped with SR-IOV, RDMA, and GPUDirect Storage capabilities.\n",
    "    \n",
    "- Storage Acceleration:\n",
    "  - Enables offloading for NVMe over Fabrics (NVMe-oF).\n",
    "  - Provides support for RAID and data mirroring.\n",
    "\n",
    "- Security Capabilities:\n",
    "  - Includes a hardware root of trust and secure boot features.\n",
    "  -  Offers real-time encryption, data isolation, and zero-trust security models.\n",
    "\n",
    "## Create a slice using BlueField-2 SmartNICs \n",
    "\n",
    "This notebook shows how to create an isolated local Ethernet using BlueField2 Smart NICs and connect compute nodes to it and use FABlib's automatic configuration functionality.\n"
   ]
  },
  {
   "cell_type": "markdown",
   "metadata": {},
   "source": [
    "## Import the FABlib Library\n"
   ]
  },
  {
   "cell_type": "code",
   "execution_count": null,
   "metadata": {},
   "outputs": [],
   "source": [
    "from ipaddress import ip_address, IPv4Address, IPv6Address, IPv4Network, IPv6Network\n",
    "import ipaddress\n",
    "\n",
    "from fabrictestbed_extensions.fablib.fablib import FablibManager as fablib_manager\n",
    "\n",
    "fablib = fablib_manager()\n",
    "                     \n",
    "fablib.show_config();"
   ]
  },
  {
   "cell_type": "markdown",
   "metadata": {
    "tags": []
   },
   "source": [
    "## Create the Experiment Slice\n",
    "\n",
    "The following creates two nodes with BlueField-2 NICs connected to an isolated local Ethernet.  \n",
    "\n",
    "Two nodes are created and one NIC component is added to each node.  \n",
    "\n",
    "This example uses components of model `NIC_BlueField2_ConnectX_6` and `NIC_Basic`. The components are passed to the node via PCI passthrough. Other NIC models are listed below. Calling the `get_interfaces()` method on a component will return a list of interfaces. Many dedicated NIC components may have more than one port. Either port can be connected to the network.\n",
    "\n",
    "Automatic configuration requires specify a subnet for the network and setting the interface's mode to `auto` using the `iface1.set_mode('auto')` function before submitting the request. With automatic configuration, FABlib will allocate an IP from the network's subnet and configure the device during the post boot configuration stage.  Optionally, you can add routes to the node before submitting the request.\n",
    "\n",
    "\n",
    "NIC component models options:\n",
    "- NIC_Basic: 100 Gbps Mellanox ConnectX-6 SR-IOV VF (1 Port)\n",
    "- NIC_ConnectX_5: 25 Gbps Dedicated Mellanox ConnectX-5 PCI Device (2 Ports) \n",
    "- NIC_ConnectX_6: 100 Gbps Dedicated Mellanox ConnectX-6 PCI Device (2 Ports)\n",
    "- NIC_BlueField2_ConnectX_6: 100 Gbps Dedicated Mellanox BlueField-2 ConnectX-6 PCI Device (2 Ports) "
   ]
  },
  {
   "cell_type": "code",
   "execution_count": null,
   "metadata": {},
   "outputs": [],
   "source": [
    "slice_name = 'MySlice-bluefields'\n",
    "#site = fablib.get_random_site()\n",
    "site=\"RENC\"\n",
    "print(f\"Site: {site}\")\n",
    "\n",
    "node1_name = 'Node1'\n",
    "node2_name = 'Node2'\n",
    "\n",
    "network_name='net1'\n",
    "node1_image = \"default_bluefield2_ubuntu_24\"\n",
    "node2_image = \"default_ubuntu_24\""
   ]
  },
  {
   "cell_type": "code",
   "execution_count": null,
   "metadata": {
    "tags": []
   },
   "outputs": [],
   "source": [
    "#Create Slice\n",
    "slice = fablib.new_slice(name=slice_name)\n",
    "\n",
    "# Network\n",
    "net1 = slice.add_l2network(name=network_name, subnet=IPv4Network(\"192.168.1.0/24\"))\n",
    "\n",
    "# Node1\n",
    "node1 = slice.add_node(name=node1_name, site=site, image=node1_image)\n",
    "iface1 = node1.add_component(model='NIC_BlueField2_ConnectX_6', name='nic1').get_interfaces()[0]\n",
    "iface1.set_mode('auto')\n",
    "net1.add_interface(iface1)\n",
    "\n",
    "# Node2\n",
    "node2 = slice.add_node(name=node2_name, site=site, image=node2_image)\n",
    "iface2 = node2.add_component(model='NIC_Basic', name='nic1').get_interfaces()[0]\n",
    "iface2.set_mode('auto')\n",
    "net1.add_interface(iface2)\n",
    "\n",
    "\n",
    "#Submit Slice Request\n",
    "slice.submit();"
   ]
  },
  {
   "cell_type": "markdown",
   "metadata": {},
   "source": [
    "## Configure the Bluefield Smart NIC\n",
    "\n",
    "We configure the BlueField SmartNIC by assigning the private IP address `10.100.100.1` to the `tmfifo_net0` device, enabling communication and management of the BlueField-2 DPU. Additionally, we install the BlueField bundle (BFB) on the DPU via the specified RShim interface, updating its firmware and configuration to ensure optimal performance in data center environments.\n",
    "\n",
    "You can force to configure using custom commands by passing list of commands string to `configure` function.\n",
    "\n",
    "NOTE: When using `default_bluefield2_ubuntu_24` image for the Node i.e. `Node1` connected to BlueField-2 Smart NIC, the BFB image is available at the location: `/opt/bf-bundle/bf-bundle-2.9.1-40_24.11_ubuntu-22.04_prod.bfb`"
   ]
  },
  {
   "cell_type": "code",
   "execution_count": null,
   "metadata": {},
   "outputs": [],
   "source": [
    "slice = fablib.get_slice(slice_name)\n",
    "\n",
    "node1 = slice.get_node(name=node1_name) \n",
    "bluefield = node1.get_component(name='nic1')\n",
    "output = bluefield.configure()"
   ]
  },
  {
   "cell_type": "markdown",
   "metadata": {},
   "source": [
    "### Re-apply the network config post re-imaging\n",
    "\n",
    "Reapply the network configuration on the Node connected to the BlueField. This is only effective when using automatic configuration, where interfaces are set up via `iface1.set_mode('auto')` or `iface1.set_mode('config')`."
   ]
  },
  {
   "cell_type": "code",
   "execution_count": null,
   "metadata": {},
   "outputs": [],
   "source": [
    "node1.config()\n",
    "slice.list_interfaces();"
   ]
  },
  {
   "cell_type": "markdown",
   "metadata": {},
   "source": [
    "## Run the Experiment\n",
    "\n",
    "With automatic configuration the slice is ready for experimentation after it becomes active.  Note that automatic configuration works well when saving slices to a file and reinstantiating the slice.  Configuration tasks can be stored in the saved slice, reducing the complexity of notebooks and other runtime steps.\n",
    "\n",
    "We will find the ping round trip time for this pair of sites.  Your experiment should be more interesting!\n",
    "\n",
    "**Note:** If the ping fails, try rerunning the cell above to ensure the IP address is properly configured, then attempt the ping again."
   ]
  },
  {
   "cell_type": "code",
   "execution_count": null,
   "metadata": {},
   "outputs": [],
   "source": [
    "slice = fablib.get_slice(slice_name)\n",
    "\n",
    "node1 = slice.get_node(name=node1_name)        \n",
    "node2 = slice.get_node(name=node2_name)           \n",
    "\n",
    "node2_addr = node2.get_interface(network_name=network_name).get_ip_addr()\n",
    "\n",
    "stdout, stderr = node1.execute(f'ping -c 5 {node2_addr}')"
   ]
  },
  {
   "cell_type": "markdown",
   "metadata": {},
   "source": [
    "## Delete the Slice\n",
    "\n",
    "Please delete your slice when you are done with your experiment."
   ]
  },
  {
   "cell_type": "code",
   "execution_count": null,
   "metadata": {},
   "outputs": [],
   "source": [
    "slice = fablib.get_slice(slice_name)\n",
    "slice.delete()"
   ]
  },
  {
   "cell_type": "code",
   "execution_count": null,
   "metadata": {},
   "outputs": [],
   "source": []
  }
 ],
 "metadata": {
  "kernelspec": {
   "display_name": "Python 3 (ipykernel)",
   "language": "python",
   "name": "python3"
  },
  "language_info": {
   "codemirror_mode": {
    "name": "ipython",
    "version": 3
   },
   "file_extension": ".py",
   "mimetype": "text/x-python",
   "name": "python",
   "nbconvert_exporter": "python",
   "pygments_lexer": "ipython3",
   "version": "3.11.9"
  }
 },
 "nbformat": 4,
 "nbformat_minor": 4
}

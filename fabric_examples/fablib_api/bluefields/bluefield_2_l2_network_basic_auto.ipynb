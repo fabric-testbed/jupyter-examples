{
 "cells": [
  {
   "cell_type": "markdown",
   "metadata": {},
   "source": [
    "# BlueField DPUs\n",
    "BlueField is a next-generation Data Processing Unit (DPU) developed by NVIDIA (formerly Mellanox Technologies). It integrates powerful computing, networking, and storage acceleration capabilities into a single device. Designed for modern data centers, BlueField DPUs offer hardware-accelerated data processing, efficient resource management, and enhanced security features.\n",
    "\n",
    "## Key Features of BlueFields\n",
    "- Integrated Compute and Networking:\n",
    "  - Combines an ARM-based SoC (System-on-Chip) with a ConnectX-6 Dx network interface controller (NIC).\n",
    "  - Offers hardware acceleration for networking and storage operations.\n",
    "\n",
    "- Advanced Networking:\n",
    "  - Supports up to 200Gb/s Ethernet or InfiniBand networking.\n",
    "  - Equipped with SR-IOV, RDMA, and GPUDirect Storage capabilities.\n",
    "    \n",
    "- Storage Acceleration:\n",
    "  - Enables offloading for NVMe over Fabrics (NVMe-oF).\n",
    "  - Provides support for RAID and data mirroring.\n",
    "\n",
    "- Security Capabilities:\n",
    "  - Includes a hardware root of trust and secure boot features.\n",
    "  -  Offers real-time encryption, data isolation, and zero-trust security models.\n",
    "\n",
    "## Create a slice using BlueField SmartNICs \n",
    "\n",
    "This notebook shows how to create an isolated local Ethernet using BlueField Smart NICs and connect compute nodes to it and use FABlib's automatic configuration functionality.\n"
   ]
  },
  {
   "cell_type": "markdown",
   "metadata": {},
   "source": [
    "## Import the FABlib Library\n"
   ]
  },
  {
   "cell_type": "code",
   "execution_count": 9,
   "metadata": {},
   "outputs": [
    {
     "name": "stdout",
     "output_type": "stream",
     "text": [
      "User: kthare10@email.unc.edu bastion key is valid!\n",
      "Configuration is valid and please save the config!\n"
     ]
    },
    {
     "data": {
      "text/html": [
       "<style type=\"text/css\">\n",
       "#T_8e005 tr:nth-child(even) {\n",
       "  background: #dbf3ff;\n",
       "  color: #231f20;\n",
       "}\n",
       "#T_8e005 tr:nth-child(odd) {\n",
       "  background: #ffffff;\n",
       "  color: #231f20;\n",
       "}\n",
       "#T_8e005 caption {\n",
       "  text-align: center;\n",
       "  font-size: 150%;\n",
       "}\n",
       "#T_8e005_row0_col0, #T_8e005_row0_col1, #T_8e005_row1_col0, #T_8e005_row1_col1, #T_8e005_row2_col0, #T_8e005_row2_col1, #T_8e005_row3_col0, #T_8e005_row3_col1, #T_8e005_row4_col0, #T_8e005_row4_col1, #T_8e005_row5_col0, #T_8e005_row5_col1, #T_8e005_row6_col0, #T_8e005_row6_col1, #T_8e005_row7_col0, #T_8e005_row7_col1, #T_8e005_row8_col0, #T_8e005_row8_col1, #T_8e005_row9_col0, #T_8e005_row9_col1, #T_8e005_row10_col0, #T_8e005_row10_col1, #T_8e005_row11_col0, #T_8e005_row11_col1, #T_8e005_row12_col0, #T_8e005_row12_col1, #T_8e005_row13_col0, #T_8e005_row13_col1, #T_8e005_row14_col0, #T_8e005_row14_col1, #T_8e005_row15_col0, #T_8e005_row15_col1, #T_8e005_row16_col0, #T_8e005_row16_col1, #T_8e005_row17_col0, #T_8e005_row17_col1, #T_8e005_row18_col0, #T_8e005_row18_col1, #T_8e005_row19_col0, #T_8e005_row19_col1, #T_8e005_row20_col0, #T_8e005_row20_col1 {\n",
       "  text-align: left;\n",
       "  border: 1px #231f20 solid !important;\n",
       "  overwrite: False;\n",
       "}\n",
       "</style>\n",
       "<table id=\"T_8e005\">\n",
       "  <caption>FABlib Config</caption>\n",
       "  <thead>\n",
       "  </thead>\n",
       "  <tbody>\n",
       "    <tr>\n",
       "      <td id=\"T_8e005_row0_col0\" class=\"data row0 col0\" >Orchestrator</td>\n",
       "      <td id=\"T_8e005_row0_col1\" class=\"data row0 col1\" >beta-7.fabric-testbed.net</td>\n",
       "    </tr>\n",
       "    <tr>\n",
       "      <td id=\"T_8e005_row1_col0\" class=\"data row1 col0\" >Credential Manager</td>\n",
       "      <td id=\"T_8e005_row1_col1\" class=\"data row1 col1\" >beta-2.fabric-testbed.net</td>\n",
       "    </tr>\n",
       "    <tr>\n",
       "      <td id=\"T_8e005_row2_col0\" class=\"data row2 col0\" >Core API</td>\n",
       "      <td id=\"T_8e005_row2_col1\" class=\"data row2 col1\" >beta-3.fabric-testbed.net</td>\n",
       "    </tr>\n",
       "    <tr>\n",
       "      <td id=\"T_8e005_row3_col0\" class=\"data row3 col0\" >Artifact Manager</td>\n",
       "      <td id=\"T_8e005_row3_col1\" class=\"data row3 col1\" >artifacts.fabric-testbed.net</td>\n",
       "    </tr>\n",
       "    <tr>\n",
       "      <td id=\"T_8e005_row4_col0\" class=\"data row4 col0\" >Token File</td>\n",
       "      <td id=\"T_8e005_row4_col1\" class=\"data row4 col1\" >/home/fabric/.tokens.json</td>\n",
       "    </tr>\n",
       "    <tr>\n",
       "      <td id=\"T_8e005_row5_col0\" class=\"data row5 col0\" >Project ID</td>\n",
       "      <td id=\"T_8e005_row5_col1\" class=\"data row5 col1\" >b9847fa1-13ef-49f9-9e07-ae6ad06cda3f</td>\n",
       "    </tr>\n",
       "    <tr>\n",
       "      <td id=\"T_8e005_row6_col0\" class=\"data row6 col0\" >Bastion Host</td>\n",
       "      <td id=\"T_8e005_row6_col1\" class=\"data row6 col1\" >bastion-renc-1.fabric-testbed.net</td>\n",
       "    </tr>\n",
       "    <tr>\n",
       "      <td id=\"T_8e005_row7_col0\" class=\"data row7 col0\" >Bastion Username</td>\n",
       "      <td id=\"T_8e005_row7_col1\" class=\"data row7 col1\" >kthare10_0011904101</td>\n",
       "    </tr>\n",
       "    <tr>\n",
       "      <td id=\"T_8e005_row8_col0\" class=\"data row8 col0\" >Bastion Private Key File</td>\n",
       "      <td id=\"T_8e005_row8_col1\" class=\"data row8 col1\" >/home/fabric/work/fabric_config/bastion-prod-2</td>\n",
       "    </tr>\n",
       "    <tr>\n",
       "      <td id=\"T_8e005_row9_col0\" class=\"data row9 col0\" >Slice Public Key File</td>\n",
       "      <td id=\"T_8e005_row9_col1\" class=\"data row9 col1\" >/home/fabric/work/fabric_config/id_rsa.pub</td>\n",
       "    </tr>\n",
       "    <tr>\n",
       "      <td id=\"T_8e005_row10_col0\" class=\"data row10 col0\" >Slice Private Key File</td>\n",
       "      <td id=\"T_8e005_row10_col1\" class=\"data row10 col1\" >/home/fabric/work/fabric_config/id_rsa</td>\n",
       "    </tr>\n",
       "    <tr>\n",
       "      <td id=\"T_8e005_row11_col0\" class=\"data row11 col0\" >Sites to avoid</td>\n",
       "      <td id=\"T_8e005_row11_col1\" class=\"data row11 col1\" ></td>\n",
       "    </tr>\n",
       "    <tr>\n",
       "      <td id=\"T_8e005_row12_col0\" class=\"data row12 col0\" >SSH Command Line</td>\n",
       "      <td id=\"T_8e005_row12_col1\" class=\"data row12 col1\" >ssh -i {{ _self_.private_ssh_key_file }} -F /home/fabric/work/fabric_config/ssh_config {{ _self_.username }}@{{ _self_.management_ip }}</td>\n",
       "    </tr>\n",
       "    <tr>\n",
       "      <td id=\"T_8e005_row13_col0\" class=\"data row13 col0\" >Log Level</td>\n",
       "      <td id=\"T_8e005_row13_col1\" class=\"data row13 col1\" >INFO</td>\n",
       "    </tr>\n",
       "    <tr>\n",
       "      <td id=\"T_8e005_row14_col0\" class=\"data row14 col0\" >Log File</td>\n",
       "      <td id=\"T_8e005_row14_col1\" class=\"data row14 col1\" >/tmp/fablib/fablib.log</td>\n",
       "    </tr>\n",
       "    <tr>\n",
       "      <td id=\"T_8e005_row15_col0\" class=\"data row15 col0\" >Bastion SSH Config File</td>\n",
       "      <td id=\"T_8e005_row15_col1\" class=\"data row15 col1\" >/home/fabric/work/fabric_config/ssh_config</td>\n",
       "    </tr>\n",
       "    <tr>\n",
       "      <td id=\"T_8e005_row16_col0\" class=\"data row16 col0\" >metadata_tag</td>\n",
       "      <td id=\"T_8e005_row16_col1\" class=\"data row16 col1\" >main</td>\n",
       "    </tr>\n",
       "    <tr>\n",
       "      <td id=\"T_8e005_row17_col0\" class=\"data row17 col0\" >Version</td>\n",
       "      <td id=\"T_8e005_row17_col1\" class=\"data row17 col1\" >1.9.0b2</td>\n",
       "    </tr>\n",
       "    <tr>\n",
       "      <td id=\"T_8e005_row18_col0\" class=\"data row18 col0\" >Data directory</td>\n",
       "      <td id=\"T_8e005_row18_col1\" class=\"data row18 col1\" >/tmp/fablib</td>\n",
       "    </tr>\n",
       "    <tr>\n",
       "      <td id=\"T_8e005_row19_col0\" class=\"data row19 col0\" >FABRIC_METADATA_TAG</td>\n",
       "      <td id=\"T_8e005_row19_col1\" class=\"data row19 col1\" >main</td>\n",
       "    </tr>\n",
       "    <tr>\n",
       "      <td id=\"T_8e005_row20_col0\" class=\"data row20 col0\" >Project Name</td>\n",
       "      <td id=\"T_8e005_row20_col1\" class=\"data row20 col1\" >FABRIC Staff</td>\n",
       "    </tr>\n",
       "  </tbody>\n",
       "</table>\n"
      ],
      "text/plain": [
       "<pandas.io.formats.style.Styler at 0x7fac44595b10>"
      ]
     },
     "metadata": {},
     "output_type": "display_data"
    }
   ],
   "source": [
    "from ipaddress import ip_address, IPv4Address, IPv6Address, IPv4Network, IPv6Network\n",
    "import ipaddress\n",
    "\n",
    "from fabrictestbed_extensions.fablib.fablib import FablibManager as fablib_manager\n",
    "\n",
    "fablib = fablib_manager()\n",
    "                     \n",
    "fablib.show_config();"
   ]
  },
  {
   "cell_type": "markdown",
   "metadata": {
    "tags": []
   },
   "source": [
    "## Create the Experiment Slice\n",
    "\n",
    "This example sets up two nodes, each equipped with a BlueField NIC, connected to an isolated local Ethernet. \n",
    "\n",
    "Each node is created with a single NIC component, utilizing the `NIC_ConnectX_7_400` and `NIC_Basic` models. These components are attached to the node via PCI passthrough. A list of other available NIC models is provided below. To retrieve the interfaces associated with a NIC component, use the `get_interfaces()` method. Many dedicated NICs feature multiple ports, either of which can be connected to the network.\n",
    "\n",
    "The node connected to the BlueField SmartNIC runs the `dpu_ubuntu_24` image, which includes DOCA version `2.9.1` by default. Alternatively, users can deploy VMs with the `default_ubuntu_24` image and manually install a different DOCA version as needed.\n",
    "\n",
    "For automatic configuration, specify a subnet for the network and set the interface mode to `auto` using `iface1.set_mode('auto')` before submitting the request. With this setup, FABlib assigns an IP address from the subnet and configures the device during post-boot setup. Additionally, routes can be pre-configured before submitting the request.\n",
    "\n",
    "### Available NIC Component Models:\n",
    "- **NIC_Basic**: 100 Gbps Mellanox ConnectX-6 SR-IOV VF (1 Port)\n",
    "- **NIC_ConnectX_5**: 25 Gbps Dedicated Mellanox ConnectX-5 PCI Device (2 Ports)\n",
    "- **NIC_ConnectX_6**: 100 Gbps Dedicated Mellanox ConnectX-6 PCI Device (2 Ports)\n",
    "- **NIC_ConnectX_7_100**: 100 Gbps Dedicated Mellanox BlueField-3 ConnectX-7 PCI Device (2 Ports)\n",
    "- **NIC_ConnectX_7_400**: 400 Gbps Dedicated Mellanox BlueField-3 ConnectX-7 PCI Device (2 Ports)\n",
    "- **NIC_BlueField2_ConnectX_6**: 100 Gbps Dedicated Mellanox BlueField-2 ConnectX-6 PCI Device (2 Ports)"
   ]
  },
  {
   "cell_type": "code",
   "execution_count": 10,
   "metadata": {},
   "outputs": [
    {
     "name": "stdout",
     "output_type": "stream",
     "text": [
      "Site: RENC\n"
     ]
    }
   ],
   "source": [
    "slice_name = 'MySlice-bluefields'\n",
    "#site = fablib.get_random_site()\n",
    "site=\"RENC\"\n",
    "print(f\"Site: {site}\")\n",
    "\n",
    "node1_name = 'Node1'\n",
    "node2_name = 'Node2'\n",
    "\n",
    "network_name='net1'\n",
    "\n",
    "node1_image = \"dpu_ubuntu_24\"\n",
    "node2_image = \"default_ubuntu_24\""
   ]
  },
  {
   "cell_type": "code",
   "execution_count": null,
   "metadata": {
    "tags": []
   },
   "outputs": [
    {
     "name": "stdout",
     "output_type": "stream",
     "text": [
      "\n",
      "Retry: 2, Time: 60 sec\n"
     ]
    },
    {
     "data": {
      "text/html": [
       "<style type=\"text/css\">\n",
       "#T_df738 tr:nth-child(even) {\n",
       "  background: #dbf3ff;\n",
       "  color: #231f20;\n",
       "}\n",
       "#T_df738 tr:nth-child(odd) {\n",
       "  background: #ffffff;\n",
       "  color: #231f20;\n",
       "}\n",
       "#T_df738 caption {\n",
       "  text-align: center;\n",
       "  font-size: 150%;\n",
       "}\n",
       "#T_df738_row0_col0, #T_df738_row0_col1, #T_df738_row1_col0, #T_df738_row1_col1, #T_df738_row2_col0, #T_df738_row2_col1, #T_df738_row3_col0, #T_df738_row3_col1, #T_df738_row4_col0, #T_df738_row4_col1, #T_df738_row5_col0, #T_df738_row6_col0, #T_df738_row6_col1, #T_df738_row7_col0, #T_df738_row7_col1 {\n",
       "  text-align: left;\n",
       "  border: 1px #231f20 solid !important;\n",
       "  overwrite: False;\n",
       "  background-color: ;\n",
       "}\n",
       "#T_df738_row5_col1 {\n",
       "  text-align: left;\n",
       "  border: 1px #231f20 solid !important;\n",
       "  overwrite: False;\n",
       "  background-color: #ffffbe;\n",
       "}\n",
       "</style>\n",
       "<table id=\"T_df738\">\n",
       "  <caption>Slice</caption>\n",
       "  <thead>\n",
       "  </thead>\n",
       "  <tbody>\n",
       "    <tr>\n",
       "      <td id=\"T_df738_row0_col0\" class=\"data row0 col0\" >ID</td>\n",
       "      <td id=\"T_df738_row0_col1\" class=\"data row0 col1\" >a18f95c0-4eeb-4f7b-88b6-649e4ed1f04e</td>\n",
       "    </tr>\n",
       "    <tr>\n",
       "      <td id=\"T_df738_row1_col0\" class=\"data row1 col0\" >Name</td>\n",
       "      <td id=\"T_df738_row1_col1\" class=\"data row1 col1\" >MySlice-bluefields</td>\n",
       "    </tr>\n",
       "    <tr>\n",
       "      <td id=\"T_df738_row2_col0\" class=\"data row2 col0\" >Lease Expiration (UTC)</td>\n",
       "      <td id=\"T_df738_row2_col1\" class=\"data row2 col1\" >2025-07-15 14:09:17 +0000</td>\n",
       "    </tr>\n",
       "    <tr>\n",
       "      <td id=\"T_df738_row3_col0\" class=\"data row3 col0\" >Lease Start (UTC)</td>\n",
       "      <td id=\"T_df738_row3_col1\" class=\"data row3 col1\" >2025-07-14 14:09:17 +0000</td>\n",
       "    </tr>\n",
       "    <tr>\n",
       "      <td id=\"T_df738_row4_col0\" class=\"data row4 col0\" >Project ID</td>\n",
       "      <td id=\"T_df738_row4_col1\" class=\"data row4 col1\" >b9847fa1-13ef-49f9-9e07-ae6ad06cda3f</td>\n",
       "    </tr>\n",
       "    <tr>\n",
       "      <td id=\"T_df738_row5_col0\" class=\"data row5 col0\" >State</td>\n",
       "      <td id=\"T_df738_row5_col1\" class=\"data row5 col1\" >Configuring</td>\n",
       "    </tr>\n",
       "    <tr>\n",
       "      <td id=\"T_df738_row6_col0\" class=\"data row6 col0\" >Email</td>\n",
       "      <td id=\"T_df738_row6_col1\" class=\"data row6 col1\" >kthare10@email.unc.edu</td>\n",
       "    </tr>\n",
       "    <tr>\n",
       "      <td id=\"T_df738_row7_col0\" class=\"data row7 col0\" >UserId</td>\n",
       "      <td id=\"T_df738_row7_col1\" class=\"data row7 col1\" >ddb5f374-7e82-45af-82d0-330d0b961eaa</td>\n",
       "    </tr>\n",
       "  </tbody>\n",
       "</table>\n"
      ],
      "text/plain": [
       "<pandas.io.formats.style.Styler at 0x7fac144b2390>"
      ]
     },
     "metadata": {},
     "output_type": "display_data"
    },
    {
     "data": {
      "text/html": [
       "<style type=\"text/css\">\n",
       "#T_e4c7e caption {\n",
       "  text-align: center;\n",
       "  font-size: 150%;\n",
       "  caption-side: top;\n",
       "}\n",
       "#T_e4c7e th {\n",
       "  text-align: left;\n",
       "}\n",
       "#T_e4c7e tr:nth-child(even) {\n",
       "  background: #ffffff;\n",
       "  color: #231f20;\n",
       "}\n",
       "#T_e4c7e tr:nth-child(odd) {\n",
       "  background: #dbf3ff;\n",
       "  color: #231f20;\n",
       "}\n",
       "#T_e4c7e .level0 {\n",
       "  border: 1px black solid !important;\n",
       "  background: #ffffff;\n",
       "  color: #231f20;\n",
       "}\n",
       "#T_e4c7e_row0_col0, #T_e4c7e_row0_col1, #T_e4c7e_row0_col2, #T_e4c7e_row0_col3, #T_e4c7e_row1_col0, #T_e4c7e_row1_col1, #T_e4c7e_row1_col2, #T_e4c7e_row1_col3, #T_e4c7e_row2_col0, #T_e4c7e_row2_col1, #T_e4c7e_row2_col2, #T_e4c7e_row2_col3 {\n",
       "  text-align: left;\n",
       "  border: 1px #231f20 solid !important;\n",
       "  overwrite: False;\n",
       "}\n",
       "#T_e4c7e_row0_col4, #T_e4c7e_row1_col4, #T_e4c7e_row2_col4 {\n",
       "  text-align: left;\n",
       "  border: 1px #231f20 solid !important;\n",
       "  overwrite: False;\n",
       "  background-color: #ffffbe;\n",
       "}\n",
       "#T_e4c7e_row0_col5, #T_e4c7e_row1_col5, #T_e4c7e_row2_col5 {\n",
       "  text-align: left;\n",
       "  border: 1px #231f20 solid !important;\n",
       "  overwrite: False;\n",
       "  background-color: ;\n",
       "}\n",
       "</style>\n",
       "<table id=\"T_e4c7e\">\n",
       "  <caption>Slivers</caption>\n",
       "  <thead>\n",
       "    <tr>\n",
       "      <th id=\"T_e4c7e_level0_col0\" class=\"col_heading level0 col0\" >ID</th>\n",
       "      <th id=\"T_e4c7e_level0_col1\" class=\"col_heading level0 col1\" >Name</th>\n",
       "      <th id=\"T_e4c7e_level0_col2\" class=\"col_heading level0 col2\" >Site</th>\n",
       "      <th id=\"T_e4c7e_level0_col3\" class=\"col_heading level0 col3\" >Type</th>\n",
       "      <th id=\"T_e4c7e_level0_col4\" class=\"col_heading level0 col4\" >State</th>\n",
       "      <th id=\"T_e4c7e_level0_col5\" class=\"col_heading level0 col5\" >Error</th>\n",
       "    </tr>\n",
       "  </thead>\n",
       "  <tbody>\n",
       "    <tr>\n",
       "      <td id=\"T_e4c7e_row0_col0\" class=\"data row0 col0\" >777f3629-fe9c-479c-9be4-9d6aad84c436</td>\n",
       "      <td id=\"T_e4c7e_row0_col1\" class=\"data row0 col1\" >Node1</td>\n",
       "      <td id=\"T_e4c7e_row0_col2\" class=\"data row0 col2\" >RENC</td>\n",
       "      <td id=\"T_e4c7e_row0_col3\" class=\"data row0 col3\" >node</td>\n",
       "      <td id=\"T_e4c7e_row0_col4\" class=\"data row0 col4\" >Ticketed</td>\n",
       "      <td id=\"T_e4c7e_row0_col5\" class=\"data row0 col5\" ></td>\n",
       "    </tr>\n",
       "    <tr>\n",
       "      <td id=\"T_e4c7e_row1_col0\" class=\"data row1 col0\" >be1a7aaa-c2b1-4ded-8c20-33ddcbc55ee4</td>\n",
       "      <td id=\"T_e4c7e_row1_col1\" class=\"data row1 col1\" >Node2</td>\n",
       "      <td id=\"T_e4c7e_row1_col2\" class=\"data row1 col2\" >RENC</td>\n",
       "      <td id=\"T_e4c7e_row1_col3\" class=\"data row1 col3\" >node</td>\n",
       "      <td id=\"T_e4c7e_row1_col4\" class=\"data row1 col4\" >Ticketed</td>\n",
       "      <td id=\"T_e4c7e_row1_col5\" class=\"data row1 col5\" ></td>\n",
       "    </tr>\n",
       "    <tr>\n",
       "      <td id=\"T_e4c7e_row2_col0\" class=\"data row2 col0\" >5c66dbf9-7774-4699-a546-bf0a3d4bc66e</td>\n",
       "      <td id=\"T_e4c7e_row2_col1\" class=\"data row2 col1\" >net1</td>\n",
       "      <td id=\"T_e4c7e_row2_col2\" class=\"data row2 col2\" >RENC</td>\n",
       "      <td id=\"T_e4c7e_row2_col3\" class=\"data row2 col3\" >network</td>\n",
       "      <td id=\"T_e4c7e_row2_col4\" class=\"data row2 col4\" >Ticketed</td>\n",
       "      <td id=\"T_e4c7e_row2_col5\" class=\"data row2 col5\" ></td>\n",
       "    </tr>\n",
       "  </tbody>\n",
       "</table>\n"
      ],
      "text/plain": [
       "<pandas.io.formats.style.Styler at 0x7fac145f5110>"
      ]
     },
     "metadata": {},
     "output_type": "display_data"
    }
   ],
   "source": [
    "#Create Slice\n",
    "slice = fablib.new_slice(name=slice_name)\n",
    "\n",
    "# Network\n",
    "#net1 = slice.add_l2network(name=network_name, subnet=IPv4Network(\"192.168.1.0/24\"))\n",
    "net1 = slice.add_l3network(name=network_name)\n",
    "\n",
    "# Node1\n",
    "node1 = slice.add_node(name=node1_name, site=site, image=node1_image)\n",
    "iface1 = node1.add_component(model='NIC_ConnectX_7_400', name='nic1').get_interfaces()[0]\n",
    "iface1.set_mode('auto')\n",
    "net1.add_interface(iface1)\n",
    "\n",
    "# Node2\n",
    "node2 = slice.add_node(name=node2_name, site=site, image=node2_image)\n",
    "iface2 = node2.add_component(model='NIC_Basic', name='nic1').get_interfaces()[0]\n",
    "iface2.set_mode('auto')\n",
    "net1.add_interface(iface2)\n",
    "\n",
    "\n",
    "#Submit Slice Request\n",
    "slice.submit();"
   ]
  },
  {
   "cell_type": "markdown",
   "metadata": {},
   "source": [
    "## Configure the Bluefield Smart NIC\n",
    "\n",
    "The BlueField SmartNIC is configured by assigning the private IP address `192.168.100.1` to the `tmfifo_net0` device, enabling communication and management of the BlueField DPU. Additionally, the BlueField bundle (BFB) is installed on the DPU via the designated RShim interface, ensuring firmware updates and configuration optimizations for enhanced data center performance.\n",
    "\n",
    "When using the `dpu_ubuntu_24` image for a node (e.g., `Node1`) connected to the BlueField SmartNIC, the BFB image is available by default at:  \n",
    "`/opt/bf-bundle/bf-bundle-2.9.1-40_24.11_ubuntu-22.04_prod.bfb`.  \n",
    "The installation process is initiated when `bluefield.configure()` is executed.\n",
    "\n",
    "To run custom commands, provide a list of command strings as an argument to `bluefield.configure(commands)`.\n",
    "\n",
    "### Accessing DPU:\n",
    "#### SSH Access:\n",
    "To SSH into DPU from the VM, use:\n",
    "```\n",
    "ssh ubuntu@192.168.100.2\n",
    "```\n",
    "After pushing the BFB image to DPU, the default credentials are:  \n",
    "- **Username:** `ubuntu`  \n",
    "- **Password:** `ubuntu` (you will be prompted to change it upon first login)\n",
    "\n",
    "#### Console Access:\n",
    "If SSH access is unavailable, you can connect to DPU via the console interface:\n",
    "```\n",
    "screen /dev/rshim0/console\n",
    "```\n",
    "This method provides an alternative way to manage the SmartNIC if SSH connectivity is lost.\n"
   ]
  },
  {
   "cell_type": "code",
   "execution_count": null,
   "metadata": {},
   "outputs": [],
   "source": [
    "slice = fablib.get_slice(slice_name)\n",
    "\n",
    "node1 = slice.get_node(name=node1_name) \n",
    "bluefield = node1.get_component(name='nic1')\n",
    "output = bluefield.configure()"
   ]
  },
  {
   "cell_type": "markdown",
   "metadata": {},
   "source": [
    "### Re-apply the network config post re-imaging\n",
    "\n",
    "Reapply the network configuration on the Node connected to the BlueField. This is only effective when using automatic configuration, where interfaces are set up via `iface1.set_mode('auto')` or `iface1.set_mode('config')`."
   ]
  },
  {
   "cell_type": "code",
   "execution_count": null,
   "metadata": {},
   "outputs": [],
   "source": [
    "node1.config()\n",
    "slice.list_interfaces();"
   ]
  },
  {
   "cell_type": "markdown",
   "metadata": {},
   "source": [
    "## Run the Experiment\n",
    "\n",
    "With automatic configuration the slice is ready for experimentation after it becomes active.  Note that automatic configuration works well when saving slices to a file and reinstantiating the slice.  Configuration tasks can be stored in the saved slice, reducing the complexity of notebooks and other runtime steps.\n",
    "\n",
    "We will find the ping round trip time for this pair of sites.  Your experiment should be more interesting!\n",
    "\n",
    "**Note:** If the ping fails, try rerunning the cell above to ensure the IP address is properly configured, then attempt the ping again."
   ]
  },
  {
   "cell_type": "code",
   "execution_count": null,
   "metadata": {},
   "outputs": [],
   "source": [
    "slice = fablib.get_slice(slice_name)\n",
    "\n",
    "node1 = slice.get_node(name=node1_name)        \n",
    "node2 = slice.get_node(name=node2_name)           \n",
    "\n",
    "node2_addr = node2.get_interface(network_name=network_name).get_ip_addr()\n",
    "\n",
    "stdout, stderr = node1.execute(f'ping -c 5 {node2_addr}')"
   ]
  },
  {
   "cell_type": "markdown",
   "metadata": {},
   "source": [
    "## Delete the Slice\n",
    "\n",
    "Please delete your slice when you are done with your experiment."
   ]
  },
  {
   "cell_type": "code",
   "execution_count": null,
   "metadata": {},
   "outputs": [],
   "source": [
    "slice = fablib.get_slice(slice_name)\n",
    "slice.delete()"
   ]
  },
  {
   "cell_type": "code",
   "execution_count": null,
   "metadata": {},
   "outputs": [],
   "source": []
  }
 ],
 "metadata": {
  "kernelspec": {
   "display_name": "Python 3 (ipykernel)",
   "language": "python",
   "name": "python3"
  },
  "language_info": {
   "codemirror_mode": {
    "name": "ipython",
    "version": 3
   },
   "file_extension": ".py",
   "mimetype": "text/x-python",
   "name": "python",
   "nbconvert_exporter": "python",
   "pygments_lexer": "ipython3",
   "version": "3.11.9"
  }
 },
 "nbformat": 4,
 "nbformat_minor": 4
}

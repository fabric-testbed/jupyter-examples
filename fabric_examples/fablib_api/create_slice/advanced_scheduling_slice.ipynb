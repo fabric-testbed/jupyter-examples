{
 "cells": [
  {
   "cell_type": "markdown",
   "id": "19b92f4b",
   "metadata": {},
   "source": [
    "\n",
    "# Advanced Scheduling of Slices\n",
    "\n",
    "This notebook demonstrates how to schedule slices in advance by specifying a future time range for resource reservation. \n",
    "Advanced scheduling allows you to request resources for a specific interval in the future and ensures that the requested resources are \n",
    "available for the required duration within that window.\n",
    "\n",
    "The notebook covers how to:\n",
    "- Specify a time range for the slice reservation.\n",
    "- Set a lease duration (in hours) to indicate how long the resources should be available.\n",
    "- Submit the slice.\n"
   ]
  },
  {
   "cell_type": "markdown",
   "id": "7355725f-b782-42c8-ade3-c0774d363eae",
   "metadata": {},
   "source": [
    "## Import the FABlib Library"
   ]
  },
  {
   "cell_type": "code",
   "execution_count": null,
   "id": "a4b7f55f-ecf3-4c31-869c-ebf01d8a1db2",
   "metadata": {},
   "outputs": [],
   "source": [
    "from fabrictestbed_extensions.fablib.fablib import FablibManager as fablib_manager\n",
    "\n",
    "fablib = fablib_manager()\n",
    "\n",
    "fablib.show_config();\n"
   ]
  },
  {
   "cell_type": "markdown",
   "id": "bd74b8bd-e47a-4807-aec8-19e9bae22531",
   "metadata": {},
   "source": [
    "## List the available resources by time\n",
    "\n",
    "By default, `list_sites` displays the current availability of resources. Additionally, you can check resource availability for a specific time duration.\n",
    "\n",
    "NOTE: Users do not need to specify an end date and can check resource availability starting from a specific start date."
   ]
  },
  {
   "cell_type": "code",
   "execution_count": null,
   "id": "b52f8376-24d4-4d68-9877-f6c669e0c228",
   "metadata": {},
   "outputs": [],
   "source": [
    "from datetime import datetime\n",
    "from datetime import timezone\n",
    "from datetime import timedelta\n",
    "\n",
    "start = (datetime.now(timezone.utc) + timedelta(days=1))\n",
    "end = start + timedelta(days=1)"
   ]
  },
  {
   "cell_type": "code",
   "execution_count": null,
   "id": "d78d6b15-32bf-47a9-8f46-f95075079805",
   "metadata": {},
   "outputs": [],
   "source": [
    "output_table = fablib.list_sites(start=start, end=end)"
   ]
  },
  {
   "cell_type": "markdown",
   "id": "57e338c4-aac8-48b9-91a4-ddde4429ea67",
   "metadata": {},
   "source": [
    "## Advanced Resource Scheduling"
   ]
  },
  {
   "cell_type": "markdown",
   "id": "a0759e59-4420-4612-89df-3147751878fe",
   "metadata": {},
   "source": [
    "### Set the parameters"
   ]
  },
  {
   "cell_type": "code",
   "execution_count": null,
   "id": "e3c853e4",
   "metadata": {},
   "outputs": [],
   "source": [
    "# Define parameters (modify these as needed)\n",
    "slice_name = \"AdvancedSchedulingSlice-1\"  # Name for the new slice\n",
    "\n",
    "node1_name = 'Node1'\n",
    "node2_name = 'Node2'\n",
    "\n",
    "network1_name='net1'\n",
    "\n",
    "model = \"NIC_ConnectX_6\"\n",
    "\n",
    "site1 = \"SALT\"\n",
    "site2 = \"ATLA\""
   ]
  },
  {
   "cell_type": "markdown",
   "id": "9c988ec9-50c8-4d59-b852-0209a3163d75",
   "metadata": {},
   "source": [
    "### Define the Time Duration\n",
    "Define the duration over which resource availability will be evaluated. This duration represents the continuous period of time for which resources must be available to meet the reservation requirements. For example, in the following code snippet, a 6-hour reservation window is specified, meaning the system will search within the given `start` and `end` time range to identify a contiguous 6-hour block where resources are available for the requested slice."
   ]
  },
  {
   "cell_type": "code",
   "execution_count": null,
   "id": "227c0f43-5f39-4647-85b4-50bbda12e972",
   "metadata": {},
   "outputs": [],
   "source": [
    "from datetime import datetime\n",
    "from datetime import timezone\n",
    "from datetime import timedelta\n",
    "\n",
    "start = (datetime.now(timezone.utc) + timedelta(days=10))\n",
    "end = start + timedelta(days=3)\n",
    "lease_in_hours = 6"
   ]
  },
  {
   "cell_type": "markdown",
   "id": "320c2507-b61f-4b0e-9ed4-fad138e668d0",
   "metadata": {},
   "source": [
    "## Create the Experiment Slice\n",
    "\n",
    "In this example, we will create a slice with nodes configured with `NIC_ConnectX_6` NICs and establish network connections between them.\n",
    "\n",
    "Dedicated NICs may not always be available at the desired sites, so we are requesting a slice within a specified future time interval for a set duration.\n",
    "\n",
    "Once a future slice is allocated, it will enter the `AllocatedOK` state. The resources in the slice will then be provisioned and become active at the designated lease start time."
   ]
  },
  {
   "cell_type": "code",
   "execution_count": null,
   "id": "b47cde1b-31dc-4ec2-9190-63b75aed597d",
   "metadata": {},
   "outputs": [],
   "source": [
    "#Create Slice\n",
    "slice = fablib.new_slice(name=slice_name)\n",
    "\n",
    "# Network\n",
    "net1 = slice.add_l2network(name=network1_name, subnet=\"192.168.1.0/24\")\n",
    "\n",
    "node1 = slice.add_node(name=node1_name, site=site1)\n",
    "node1_iface1 = node1.add_component(model=model, name='nic1').get_interfaces()[0]\n",
    "\n",
    "node1_iface1.set_mode('auto')\n",
    "net1.add_interface(node1_iface1)\n",
    "\n",
    "node2 = slice.add_node(name=node2_name, site=site2)\n",
    "node2_iface1 = node2.add_component(model=model, name='nic1').get_interfaces()[0]\n",
    "\n",
    "node2_iface1.set_mode('auto')\n",
    "net1.add_interface(node2_iface1)\n",
    "\n",
    "slice.submit(lease_start_time=start, lease_end_time=end, lease_in_hours=lease_in_hours)"
   ]
  },
  {
   "cell_type": "code",
   "execution_count": null,
   "id": "42704918-b6aa-4b13-b495-79351af5c55d",
   "metadata": {},
   "outputs": [],
   "source": [
    "slice = fablib.get_slice(slice_name)\n",
    "slice.list_nodes();"
   ]
  },
  {
   "cell_type": "markdown",
   "id": "8452044f-3f52-46f8-9f74-c4122f935091",
   "metadata": {},
   "source": [
    "## Run the Experiment\n",
    "\n",
    "The experiment can begin once the lease start time arrives, and the resources are fully provisioned and reach an active state.\n",
    "\n",
    "At that point, verify connectivity across the Layer 2 Wide Area Network."
   ]
  },
  {
   "cell_type": "code",
   "execution_count": null,
   "id": "b1fccd8e-b418-488d-a85b-5aa12f68f38b",
   "metadata": {},
   "outputs": [],
   "source": [
    "slice = fablib.get_slice(slice_name)\n",
    "\n",
    "node1 = slice.get_node(name=node1_name)        \n",
    "node2 = slice.get_node(name=node2_name)           \n",
    "\n",
    "node2_addr = node2.get_interface(network_name=network1_name).get_ip_addr()\n",
    "\n",
    "stdout, stderr = node1.execute(f'ping -c 5 {node2_addr}')"
   ]
  },
  {
   "cell_type": "markdown",
   "id": "7c6c5705-2094-4054-98a8-16f695f111b9",
   "metadata": {},
   "source": [
    "## Delete the Slice\n",
    "\n",
    "Please delete your slice when you are done with your experiment."
   ]
  },
  {
   "cell_type": "code",
   "execution_count": null,
   "id": "00f10efb-0782-48a3-809d-babaa9e45ae7",
   "metadata": {},
   "outputs": [],
   "source": [
    "slice.delete()"
   ]
  },
  {
   "cell_type": "code",
   "execution_count": null,
   "id": "fdb22a43-e1b1-4bf4-89f4-b808a4837592",
   "metadata": {},
   "outputs": [],
   "source": []
  }
 ],
 "metadata": {
  "kernelspec": {
   "display_name": "Python 3 (ipykernel)",
   "language": "python",
   "name": "python3"
  },
  "language_info": {
   "codemirror_mode": {
    "name": "ipython",
    "version": 3
   },
   "file_extension": ".py",
   "mimetype": "text/x-python",
   "name": "python",
   "nbconvert_exporter": "python",
   "pygments_lexer": "ipython3",
   "version": "3.11.9"
  }
 },
 "nbformat": 4,
 "nbformat_minor": 5
}

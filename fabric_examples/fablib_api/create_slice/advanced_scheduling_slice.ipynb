{
 "cells": [
  {
   "cell_type": "markdown",
   "id": "19b92f4b",
   "metadata": {},
   "source": [
    "\n",
    "# Advanced Scheduling of Slices\n",
    "\n",
    "This notebook demonstrates how to schedule slices in advance by specifying a future time range for resource reservation. \n",
    "Advanced scheduling allows you to request resources for a specific interval in the future and ensures that the requested resources are \n",
    "available for the required duration within that window.\n",
    "\n",
    "The notebook covers how to:\n",
    "- Specify a time range for the slice reservation.\n",
    "- Set a lease duration (in hours) to indicate how long the resources should be available.\n",
    "- Submit the slice.\n"
   ]
  },
  {
   "cell_type": "markdown",
   "id": "7355725f-b782-42c8-ade3-c0774d363eae",
   "metadata": {},
   "source": [
    "## 1: Import the FABlib Library\n",
    "\n",
    "This section imports the FABlib library to interact with the FABRIC testbed."
   ]
  },
  {
   "cell_type": "code",
   "execution_count": null,
   "id": "a4b7f55f-ecf3-4c31-869c-ebf01d8a1db2",
   "metadata": {},
   "outputs": [],
   "source": [
    "from fabrictestbed_extensions.fablib.fablib import FablibManager as fablib_manager\n",
    "from fabrictestbed_extensions.fablib.constants import Constants\n",
    "from ipaddress import ip_address, IPv4Address, IPv6Address, IPv4Network, IPv6Network\n",
    "import ipaddress\n",
    "\n",
    "fablib = fablib_manager()\n",
    "\n",
    "fablib.show_config();\n"
   ]
  },
  {
   "cell_type": "markdown",
   "id": "bd74b8bd-e47a-4807-aec8-19e9bae22531",
   "metadata": {},
   "source": [
    "## 2: List the available resources by time\n",
    "\n",
    "By default, `list_sites` displays the current availability of resources. Additionally, you can check resource availability for a specific time duration.\n",
    "\n",
    "NOTE: Users do not need to specify an end date and can check resource availability starting from a specific start date.\n",
    "\n",
    "To query resource availability over a specific time window and focus on particular resources, you can define the relevant fields in the `list_sites` method using the `fields` parameter. In this slice, since we are requesting SmartNICs, we specifically include `nic_connectx_6_available` and `nic_connectx_5_available` in the filter."
   ]
  },
  {
   "cell_type": "code",
   "execution_count": null,
   "id": "28041336-1b7f-477f-9b25-1ab78ff462a0",
   "metadata": {},
   "outputs": [],
   "source": [
    "fields=['name','cores_available','ram_available','disk_available','nic_connectx_6_available', 'nic_connectx_5_available']"
   ]
  },
  {
   "cell_type": "code",
   "execution_count": null,
   "id": "b52f8376-24d4-4d68-9877-f6c669e0c228",
   "metadata": {},
   "outputs": [],
   "source": [
    "from datetime import datetime\n",
    "from datetime import timezone\n",
    "from datetime import timedelta\n",
    "\n",
    "start = (datetime.now(timezone.utc) + timedelta(days=1))\n",
    "end = start + timedelta(days=1)\n",
    "\n",
    "print(f\"Start Time: {start}\")\n",
    "print(f\"End Time: {start}\")"
   ]
  },
  {
   "cell_type": "code",
   "execution_count": null,
   "id": "d78d6b15-32bf-47a9-8f46-f95075079805",
   "metadata": {},
   "outputs": [],
   "source": [
    "output_table = fablib.list_sites(start=start, end=end, fields=fields)"
   ]
  },
  {
   "cell_type": "markdown",
   "id": "57e338c4-aac8-48b9-91a4-ddde4429ea67",
   "metadata": {},
   "source": [
    "## Advanced Resource Scheduling"
   ]
  },
  {
   "cell_type": "markdown",
   "id": "a0759e59-4420-4612-89df-3147751878fe",
   "metadata": {},
   "source": [
    "### 3: Set the parameters\n",
    "Define the name of the slice to be created or loaded."
   ]
  },
  {
   "cell_type": "code",
   "execution_count": null,
   "id": "e3c853e4",
   "metadata": {},
   "outputs": [],
   "source": [
    "# Define parameters (modify these as needed)\n",
    "slice_name = \"AdvancedSchedulingSlice\"  # Name for the new slice\n",
    "\n",
    "node1_name = 'Node1'\n",
    "node2_name = 'Node2'\n",
    "\n",
    "network1_name='net1'\n",
    "\n",
    "model = \"NIC_ConnectX_5\"\n",
    "\n",
    "site1 = \"LOSA\"\n",
    "site2 = \"ATLA\""
   ]
  },
  {
   "cell_type": "markdown",
   "id": "9c988ec9-50c8-4d59-b852-0209a3163d75",
   "metadata": {},
   "source": [
    "### 4: Define the Time Duration\n",
    "Define the duration over which resource availability will be evaluated. This duration represents the continuous period of time for which resources must be available to meet the reservation requirements. For example, in the following code snippet, a 6-hour reservation window is specified, meaning the system will search within the given `start` and `end` time range to identify a contiguous 6-hour block where resources are available for the requested slice.\n",
    "\n",
    "**Use the `start` time identified in Step 2, based on resource availability, to define the `start` and `end` times here.**"
   ]
  },
  {
   "cell_type": "code",
   "execution_count": null,
   "id": "227c0f43-5f39-4647-85b4-50bbda12e972",
   "metadata": {},
   "outputs": [],
   "source": [
    "from datetime import datetime\n",
    "from datetime import timezone\n",
    "from datetime import timedelta\n",
    "\n",
    "start = (datetime.now(timezone.utc) + timedelta(days=1))\n",
    "end = start + timedelta(days=3)\n",
    "lease_in_hours = 6"
   ]
  },
  {
   "cell_type": "markdown",
   "id": "320c2507-b61f-4b0e-9ed4-fad138e668d0",
   "metadata": {},
   "source": [
    "## 5. Create the Experiment Slice\n",
    "\n",
    "In this example, we will create a slice with nodes configured with `NIC_ConnectX_6` NICs and establish network connections between them.\n",
    "\n",
    "Dedicated NICs may not always be available at the desired sites, so we are requesting a slice within a specified future time interval for a set duration.\n",
    "\n",
    "Once a future slice is allocated, it will enter the `AllocatedOK` state. The resources in the slice will then be provisioned and become active at the designated lease start time."
   ]
  },
  {
   "cell_type": "code",
   "execution_count": null,
   "id": "b47cde1b-31dc-4ec2-9190-63b75aed597d",
   "metadata": {},
   "outputs": [],
   "source": [
    "#Create Slice\n",
    "slice = fablib.new_slice(name=slice_name)\n",
    "\n",
    "# Network\n",
    "net1 = slice.add_l2network(name=network1_name, subnet=\"192.168.1.0/24\")\n",
    "\n",
    "node1 = slice.add_node(name=node1_name, site=site1)\n",
    "node1_iface1 = node1.add_component(model=model, name='nic1').get_interfaces()[0]\n",
    "\n",
    "node1_iface1.set_mode('config')\n",
    "net1.add_interface(node1_iface1)\n",
    "node1_iface1.set_ip_addr(IPv4Address(\"192.168.1.1\"))\n",
    "\n",
    "node2 = slice.add_node(name=node2_name, site=site2)\n",
    "node2_iface1 = node2.add_component(model=model, name='nic1').get_interfaces()[0]\n",
    "\n",
    "node2_iface1.set_mode('config')\n",
    "net1.add_interface(node2_iface1)\n",
    "node2_iface1.set_ip_addr(IPv4Address(\"192.168.1.2\"))\n",
    "\n",
    "\n",
    "# Add Post Boot Tasks to the Nodes to execute once Lease Start becomes current\n",
    "node1.add_post_boot_execute('sudo dnf install -y git')\n",
    "node1.add_post_boot_execute('git clone https://github.com/kthare10/fabric-recipes.git')\n",
    "node1.add_post_boot_execute('sudo fabric-recipes/node_tools/host_tune.sh')\n",
    "node1.add_post_boot_execute('fabric-recipes/node_tools/enable_docker.sh')\n",
    "node1.add_post_boot_execute('docker pull fabrictestbed/slice-vm-rocky8-multitool:0.0.2 ')\n",
    "\n",
    "\n",
    "node2.add_post_boot_execute('sudo dnf install -y git')\n",
    "node2.add_post_boot_execute('git clone https://github.com/kthare10/fabric-recipes.git')\n",
    "node2.add_post_boot_execute('sudo fabric-recipes/node_tools/host_tune.sh')\n",
    "node2.add_post_boot_execute('fabric-recipes/node_tools/enable_docker.sh')\n",
    "node2.add_post_boot_execute('docker pull fabrictestbed/slice-vm-rocky8-multitool:0.0.2 ')\n",
    "\n",
    "\n",
    "node1.add_post_boot_execute(\"docker run -d --rm \"\n",
    "                            \"--network host \"\n",
    "                            \"fabrictestbed/slice-vm-rocky8-multitool:0.0.2 \"\n",
    "                            f\"iperf3 -s -1 > {node1.get_name()}.log 2>&1\");\n",
    "\n",
    "\n",
    "node2.add_post_boot_execute(\"docker run --rm \"\n",
    "                            \"--network host \"\n",
    "                            \"fabrictestbed/slice-vm-rocky8-multitool:0.0.2 \"\n",
    "                            f\"iperf3 -c 192.168.1.1 -P 4 -t 30 -i 10 -O 10 > {node2.get_name()}.log 2>&1\");\n",
    "\n",
    "slice.submit(lease_start_time=start, lease_end_time=end, lease_in_hours=lease_in_hours)"
   ]
  },
  {
   "cell_type": "markdown",
   "id": "3a9b649e-fdb4-4d1c-a802-d375da23227c",
   "metadata": {},
   "source": [
    "## 6. Wait for Slice to become stable (Optional, Blocking)\n",
    "\n",
    "For slices scheduled in advance, the nodes transition to an active state only once the **Lease Start Time** is reached. Instead of manually waiting for an email notification about the slice status changing from `AllocatedOK` to `StableOK`, users can automate this process.\n",
    "\n",
    "By using `slice.wait_ssh()`, a script can wait for SSH access to become available—indicating that the nodes are fully booted and ready. At that point, **post-boot tasks**, such as launching an experiment (assuming it has been pre-scripted), can be automatically executed on the nodes.\n",
    "\n",
    "This allows users to **schedule the slice and experiment in advance**, walk away, and simply return later to collect the results—enabling fully unattended, time-synchronized experimentation.\n",
    "\n",
    "Note: This is a blocking operation and serves as an example of how it can be executed programmatically when run via a script or a notebook through [Local Jupyter Container](https://learn.fabric-testbed.net/knowledge-base/advanced-jupyter-hub/#why-run-jupyterhub-locally)."
   ]
  },
  {
   "cell_type": "code",
   "execution_count": null,
   "id": "495b4068-5478-4cb6-886a-59fdf212750a",
   "metadata": {},
   "outputs": [],
   "source": [
    "slice = fablib.get_slice(slice_name)\n",
    "\n",
    "# Determine the wait timeout\n",
    "timeout = (datetime.strptime(slice.get_lease_start(), Constants.LEASE_TIME_FORMAT) - datetime.now(timezone.utc)).total_seconds() + 1500\n",
    "\n",
    "print(f\"Waiting for timeout: {timeout} seconds\")\n",
    "\n",
    "slice.wait_ssh(timeout=timeout)\n",
    "\n",
    "slice.post_boot_config()"
   ]
  },
  {
   "cell_type": "markdown",
   "id": "8452044f-3f52-46f8-9f74-c4122f935091",
   "metadata": {},
   "source": [
    "## 7. Check the experiment results\n",
    "Once the experiment has completed, you can return at any time to review the results, analyze output files, or inspect logs generated by your post-boot tasks. This enables a fully automated workflow where the experiment runs unattended, and results are available for analysis later."
   ]
  },
  {
   "cell_type": "code",
   "execution_count": null,
   "id": "447ce973-5ea9-4859-98f8-98e688993dc0",
   "metadata": {},
   "outputs": [],
   "source": [
    "stdout, stderr = node1.execute(f\"cat {node1.get_name()}.log\")\n",
    "stdout, stderr = node2.execute(f\"cat {node2.get_name()}.log\")"
   ]
  },
  {
   "cell_type": "markdown",
   "id": "7c6c5705-2094-4054-98a8-16f695f111b9",
   "metadata": {},
   "source": [
    "## 8. Delete the Slice\n",
    "\n",
    "Please delete your slice when you are done with your experiment."
   ]
  },
  {
   "cell_type": "code",
   "execution_count": null,
   "id": "00f10efb-0782-48a3-809d-babaa9e45ae7",
   "metadata": {},
   "outputs": [],
   "source": [
    "slice.delete()"
   ]
  },
  {
   "cell_type": "code",
   "execution_count": null,
   "id": "fdb22a43-e1b1-4bf4-89f4-b808a4837592",
   "metadata": {},
   "outputs": [],
   "source": []
  }
 ],
 "metadata": {
  "kernelspec": {
   "display_name": "Python 3 (ipykernel)",
   "language": "python",
   "name": "python3"
  },
  "language_info": {
   "codemirror_mode": {
    "name": "ipython",
    "version": 3
   },
   "file_extension": ".py",
   "mimetype": "text/x-python",
   "name": "python",
   "nbconvert_exporter": "python",
   "pygments_lexer": "ipython3",
   "version": "3.11.9"
  }
 },
 "nbformat": 4,
 "nbformat_minor": 5
}

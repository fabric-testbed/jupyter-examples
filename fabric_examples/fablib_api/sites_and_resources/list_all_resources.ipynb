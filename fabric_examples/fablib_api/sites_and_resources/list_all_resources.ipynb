{
 "cells": [
  {
   "cell_type": "markdown",
   "metadata": {
    "tags": []
   },
   "source": [
    "# List All Resources\n",
    "\n",
    "Before running this notebook, you will need to configure your environment using the [Configure Environment](./configure_environment.ipynb) notebook. Please stop here, open and run that notebook, then return to this notebook.\n",
    "\n",
    "\n",
    "The list of fields will limit the display to only the fields specified.  The default prints all fields.\n",
    "\n",
    "Please checkout our documentation here for more details:\n",
    "\n",
    "- [Resources](https://fabric-fablib.readthedocs.io/en/latest/resources.html)\n",
    "- [Site](https://fabric-fablib.readthedocs.io/en/latest/site.html)\n",
    "- [Host](https://fabric-fablib.readthedocs.io/en/latest/site.html#fabrictestbed_extensions.fablib.site.Host)"
   ]
  },
  {
   "cell_type": "markdown",
   "metadata": {},
   "source": [
    "### Import FABlib"
   ]
  },
  {
   "cell_type": "code",
   "execution_count": null,
   "metadata": {
    "tags": []
   },
   "outputs": [],
   "source": [
    "from fabrictestbed_extensions.fablib.fablib import FablibManager as fablib_manager\n",
    "\n",
    "fablib = fablib_manager()\n",
    "                     \n",
    "fablib.show_config();"
   ]
  },
  {
   "cell_type": "markdown",
   "metadata": {},
   "source": [
    "## List the available resources by site\n",
    "\n",
    "By default, `list_sites` will print a table.  If you are using Jupyter, the table will be created as a Pandas dataframe.  If you are not using Juypyter, it will default to printing a tabular text string.\n",
    "\n",
    "Note that the table headers are nice looking names with spaces."
   ]
  },
  {
   "cell_type": "code",
   "execution_count": null,
   "metadata": {
    "tags": []
   },
   "outputs": [],
   "source": [
    "output_table = fablib.list_sites()"
   ]
  },
  {
   "cell_type": "markdown",
   "metadata": {},
   "source": [
    "Many of the following examples will selectively display columns of data. The columns are referenced by names that do not look very nice.  You can get the reference names by passing `pretty_names=False` to the list method."
   ]
  },
  {
   "cell_type": "code",
   "execution_count": null,
   "metadata": {},
   "outputs": [],
   "source": [
    "output_table = fablib.list_sites(pretty_names=False)"
   ]
  },
  {
   "cell_type": "markdown",
   "metadata": {},
   "source": [
    "## Select Fields"
   ]
  },
  {
   "cell_type": "code",
   "execution_count": null,
   "metadata": {},
   "outputs": [],
   "source": [
    "# Optional list of fields to display.\n",
    "# fields=None desplays all fields.\n",
    "fields=['name','cores_available','ram_available','disk_available','nic_basic_available']"
   ]
  },
  {
   "cell_type": "code",
   "execution_count": null,
   "metadata": {
    "tags": []
   },
   "outputs": [],
   "source": [
    "output_table = fablib.list_sites(fields=fields)"
   ]
  },
  {
   "cell_type": "markdown",
   "metadata": {
    "tags": []
   },
   "source": [
    "## Output as Pandas DataFrame\n",
    "\n",
    "Prints the same as the default when using Jupyter. The table that is returned is a Pandas dataframe.\n"
   ]
  },
  {
   "cell_type": "code",
   "execution_count": null,
   "metadata": {},
   "outputs": [],
   "source": [
    "output_table = fablib.list_sites(output='pandas',fields=fields)"
   ]
  },
  {
   "cell_type": "markdown",
   "metadata": {},
   "source": [
    "## Output as Tabular Text\n",
    "\n",
    "By default, `list_sites` will print a table.  If you are using Jupyter, the table will be created as a Pandas dataframe.  If you are not using Juypyter, it will default to printing a tabular text string.\n",
    "\n"
   ]
  },
  {
   "cell_type": "code",
   "execution_count": null,
   "metadata": {},
   "outputs": [],
   "source": [
    "output_table = fablib.list_sites(output='text',fields=fields)"
   ]
  },
  {
   "cell_type": "markdown",
   "metadata": {
    "tags": []
   },
   "source": [
    "## Output as JSON String\n",
    "\n",
    "Prints JSON. The return value is a JSON string representation of all sites. JSON strings always contain all fields.\n"
   ]
  },
  {
   "cell_type": "code",
   "execution_count": null,
   "metadata": {},
   "outputs": [],
   "source": [
    "output_json = fablib.list_sites(output='json')"
   ]
  },
  {
   "cell_type": "markdown",
   "metadata": {
    "tags": []
   },
   "source": [
    "## Output as Python List[Dict]\n",
    "\n",
    "The return value is a Python list of dictionaries representing each site. Python lists always contain all fields.\n"
   ]
  },
  {
   "cell_type": "code",
   "execution_count": null,
   "metadata": {},
   "outputs": [],
   "source": [
    "output_list = fablib.list_sites(output='list')"
   ]
  },
  {
   "cell_type": "markdown",
   "metadata": {},
   "source": [
    "Use the ouput list"
   ]
  },
  {
   "cell_type": "code",
   "execution_count": null,
   "metadata": {},
   "outputs": [],
   "source": [
    "output_list = fablib.list_sites(output='list', quiet=True)\n",
    "\n",
    "for site in output_list:\n",
    "    print(f\"Site: {site['name']}, {site['cores_available']}, {site['ram_available']}, {site['disk_available']}, {site['nic_basic_available']}\")"
   ]
  },
  {
   "cell_type": "markdown",
   "metadata": {},
   "source": [
    "## List the available resources by time\n",
    "\n",
    "By default, `list_sites` displays the current availability of resources. Additionally, you can check resource availability for a specific time duration.\n",
    "\n",
    "NOTE: Users do not need to specify an end date and can check resource availability starting from a specific start date."
   ]
  },
  {
   "cell_type": "code",
   "execution_count": null,
   "metadata": {},
   "outputs": [],
   "source": [
    "from datetime import datetime\n",
    "from datetime import timezone\n",
    "from datetime import timedelta\n",
    "\n",
    "start = (datetime.now(timezone.utc) + timedelta(days=1))\n",
    "end = start + timedelta(days=1)"
   ]
  },
  {
   "cell_type": "code",
   "execution_count": null,
   "metadata": {},
   "outputs": [],
   "source": [
    "output_table = fablib.list_sites(start=start, end=end)"
   ]
  },
  {
   "cell_type": "markdown",
   "metadata": {},
   "source": [
    "To filter time-based resource availability and target specific resources, you can specify the desired resource fields using the `fields` parameter in the `list_sites` method."
   ]
  },
  {
   "cell_type": "code",
   "execution_count": null,
   "metadata": {
    "scrolled": true
   },
   "outputs": [],
   "source": [
    "fields=['name','cores_available','ram_available','disk_available','nic_connectx_6_available', 'nic_connectx_5_available']\n",
    "output_table = fablib.list_sites(start=start, end=end, fields=fields)"
   ]
  },
  {
   "cell_type": "code",
   "execution_count": null,
   "metadata": {},
   "outputs": [],
   "source": [
    "# Add an example for filtered output"
   ]
  },
  {
   "cell_type": "markdown",
   "metadata": {},
   "source": [
    "## List the available resources by host\n",
    "\n",
    "`list_hosts` can be used to display resource availability on specific hosts.\n",
    "\n",
    "You can check host availability for a specific duration by passing the `start` and `end` times as indicated in the snippet below.\n",
    "\n",
    "```\n",
    "from datetime import datetime\n",
    "from datetime import timezone\n",
    "from datetime import timedelta\n",
    "\n",
    "start = (datetime.now(timezone.utc) + timedelta(days=1))\n",
    "end = start + timedelta(days=1)\n",
    "output_table = fablib.list_hosts(start=start, end=end)\n",
    "```\n"
   ]
  },
  {
   "cell_type": "code",
   "execution_count": null,
   "metadata": {},
   "outputs": [],
   "source": [
    "output_table = fablib.list_hosts()"
   ]
  },
  {
   "cell_type": "markdown",
   "metadata": {},
   "source": [
    "## List the available facilities\n",
    "\n",
    "By default, `list_facility_ports` will print a table.  If you are using Jupyter, the table will be created as a Pandas dataframe.  If you are not using Juypyter, it will default to printing a tabular text string.\n",
    "\n",
    "Note that the table headers are nice looking names with spaces. All the methods indicated above for filtering or displaying in different formats also apply to facility ports.\n",
    "\n",
    "You can check facility port availability for a specific duration by passing the `start` and `end` times, as indicated in the snippet below.\n",
    "\n",
    "```\n",
    "from datetime import datetime\n",
    "from datetime import timezone\n",
    "from datetime import timedelta\n",
    "\n",
    "start = (datetime.now(timezone.utc) + timedelta(days=1))\n",
    "end = start + timedelta(days=1)\n",
    "output_table = fablib.list_facility_ports(start=start, end=end)\n",
    "```"
   ]
  },
  {
   "cell_type": "code",
   "execution_count": null,
   "metadata": {},
   "outputs": [],
   "source": [
    "output_table = fablib.list_facility_ports()"
   ]
  },
  {
   "cell_type": "code",
   "execution_count": null,
   "metadata": {},
   "outputs": [],
   "source": []
  }
 ],
 "metadata": {
  "kernelspec": {
   "display_name": "Python 3 (ipykernel)",
   "language": "python",
   "name": "python3"
  },
  "language_info": {
   "codemirror_mode": {
    "name": "ipython",
    "version": 3
   },
   "file_extension": ".py",
   "mimetype": "text/x-python",
   "name": "python",
   "nbconvert_exporter": "python",
   "pygments_lexer": "ipython3",
   "version": "3.11.9"
  }
 },
 "nbformat": 4,
 "nbformat_minor": 4
}

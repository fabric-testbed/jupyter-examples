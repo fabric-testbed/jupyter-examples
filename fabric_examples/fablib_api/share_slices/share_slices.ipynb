{
 "cells": [
  {
   "cell_type": "markdown",
   "id": "3f706d80",
   "metadata": {},
   "source": [
    "\n",
    "# **Collaborating and Sharing Slices Within a Project**\n",
    "\n",
    "This notebook provides a guide on how to collaborate with team members in a FABRIC project.  \n",
    "It outlines the steps to:  \n",
    "\n",
    "- **Grant access to a collaborator** by [managing SSH keys](./manage_ssh_keys.ipynb).\n",
    "- **Access a collaborator’s slice** by [listing and retrieving shared slices](./list_project_slices.ipynb).\n",
    "\n",
    "This notebook does not contain executable code but serves as a reference for using the other notebooks.\n"
   ]
  },
  {
   "cell_type": "markdown",
   "id": "08948621",
   "metadata": {},
   "source": [
    "## Accessing a Collaborator’s Slice  \n",
    "\n",
    "If you have been granted access to a slice, you can retrieve its details.  \n",
    "\n",
    "Refer to [notebook](./list_project_slices.ipynb) for step-by-step guidance on:  \n",
    "- Listing all available slices in a project.  \n",
    "- Retrieving details of a slice you have access to.  \n",
    "\n",
    "Run the [notebook](./list_project_slices.ipynb) notebook to check available slices and retrieve details.\n"
   ]
  },
  {
   "cell_type": "markdown",
   "id": "7f1d2863",
   "metadata": {},
   "source": [
    "\n",
    "## Granting Access to a Collaborator\n",
    "\n",
    "To allow a team member to access your slice’s VMs, you need to add their SSH key.  \n",
    "\n",
    "Refer to [notebook](./manage_ssh_keys.ipynb) for detailed instructions on:  \n",
    "- Adding a collaborator’s SSH key using their **sliver_key_name** (recommended).  \n",
    "- Adding an SSH key using a public key string.  \n",
    "- Removing SSH keys when access is no longer needed.  \n",
    "\n",
    "Run the  [notebook](./manage_ssh_keys.ipynb) notebook to modify SSH key access for your slice.\n"
   ]
  },
  {
   "cell_type": "code",
   "execution_count": null,
   "id": "8112a08b-1fd0-4314-a41c-460fbb4b0f05",
   "metadata": {},
   "outputs": [],
   "source": []
  }
 ],
 "metadata": {
  "kernelspec": {
   "display_name": "Python 3 (ipykernel)",
   "language": "python",
   "name": "python3"
  },
  "language_info": {
   "codemirror_mode": {
    "name": "ipython",
    "version": 3
   },
   "file_extension": ".py",
   "mimetype": "text/x-python",
   "name": "python",
   "nbconvert_exporter": "python",
   "pygments_lexer": "ipython3",
   "version": "3.11.9"
  }
 },
 "nbformat": 4,
 "nbformat_minor": 5
}

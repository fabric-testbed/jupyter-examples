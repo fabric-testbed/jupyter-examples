{
 "cells": [
  {
   "cell_type": "markdown",
   "id": "60e3fd3a-d102-4626-9849-755cfdd24948",
   "metadata": {},
   "source": [
    "# Sharing slices within a Project\n",
    "\n",
    "This guide outlines the procedure for a user to view or access a project slice owned by another user. In collaborative projects, situations often arise where it is necessary to access Virtual Machines (VMs) owned by a collaborator.\n",
    "\n",
    "To obtain access to the VMs associated with a collaborator's slice on FABRIC, it is necessary to request the slice owner to add your SSH keys to the slice VMs. The detailed steps for this process can be found in the slice owner's guide [here](../ssh_keys/ssh_keys.ipynb).\n",
    "\n",
    "Please note that in the current version, as a collaborator, you can view the slice and access the VMs. However, functionalities such as modifying the slice to add/remove resources, extending the slice, and deleting the slice are not yet supported."
   ]
  },
  {
   "cell_type": "markdown",
   "id": "bebf9e49-d901-46ec-94e6-62d4be407a4e",
   "metadata": {},
   "source": [
    "## Import FABlib"
   ]
  },
  {
   "cell_type": "code",
   "execution_count": null,
   "id": "7e2a3475",
   "metadata": {
    "tags": []
   },
   "outputs": [],
   "source": [
    "from fabrictestbed_extensions.fablib.fablib import FablibManager as fablib_manager\n",
    "\n",
    "fablib = fablib_manager()\n",
    "                     \n",
    "fablib.show_config();"
   ]
  },
  {
   "cell_type": "markdown",
   "id": "f65b0dfe-f435-442b-bec8-cc5f5f4e35c0",
   "metadata": {},
   "source": [
    "## List All Project Slices"
   ]
  },
  {
   "cell_type": "markdown",
   "id": "2ff0ef2c-6e31-48a1-88df-656bfb7f1e9f",
   "metadata": {
    "tags": []
   },
   "source": [
    "You can list all slices in a project by passing `user_only=False`.  \n"
   ]
  },
  {
   "cell_type": "code",
   "execution_count": null,
   "id": "e73a0c8a-8c56-4f06-ab2a-5a661963cc38",
   "metadata": {
    "tags": []
   },
   "outputs": [],
   "source": [
    "fablib.list_slices(user_only=False);"
   ]
  },
  {
   "cell_type": "markdown",
   "id": "912a98c8-3850-44b4-9763-d048687828bb",
   "metadata": {},
   "source": [
    "## List Your  Slices\n",
    "You can list your slices in a project.  "
   ]
  },
  {
   "cell_type": "code",
   "execution_count": null,
   "id": "d1207cb8-f09a-444e-bb44-743bcc52993b",
   "metadata": {},
   "outputs": [],
   "source": [
    "fablib.list_slices();"
   ]
  },
  {
   "cell_type": "markdown",
   "id": "34f88a13-b151-4c1f-a837-f16a8cb2d733",
   "metadata": {
    "tags": []
   },
   "source": [
    "## View collaborators slice details"
   ]
  },
  {
   "cell_type": "code",
   "execution_count": null,
   "id": "3062999c-bfd1-45fb-a744-bd63ee3449d1",
   "metadata": {},
   "outputs": [],
   "source": [
    "project_slices = fablib.get_slices(user_only=False)\n",
    "\n",
    "my_email = fablib.get_user_info().get('email')\n",
    "\n",
    "slice_name = None\n",
    "# Select a slice owned by a project member\n",
    "for s in project_slices:\n",
    "    if s.get_email() != my_email:\n",
    "        slice_name = s.get_name()\n",
    "        break\n",
    "\n",
    "if not slice_name:\n",
    "    print(\"No slices owned by other project members found!\")\n",
    "else:    \n",
    "    if not len(project_slices):\n",
    "        print(\"There are no Active Slices in the Project\")\n",
    "    else:\n",
    "        slice = fablib.get_slice(name=slice_name, user_only=False)\n",
    "        slice.show();"
   ]
  },
  {
   "cell_type": "markdown",
   "id": "86e31110-6073-44ec-aa17-252d4f3d3323",
   "metadata": {},
   "source": [
    "## View slice VMs"
   ]
  },
  {
   "cell_type": "code",
   "execution_count": null,
   "id": "99a4f7c2-4255-456b-be0f-e2ca22524318",
   "metadata": {},
   "outputs": [],
   "source": [
    "slice.list_nodes();"
   ]
  },
  {
   "cell_type": "markdown",
   "id": "e0c3ecfa-c138-469e-a7cc-0ad264f9b3db",
   "metadata": {},
   "source": [
    "## View slice Networks"
   ]
  },
  {
   "cell_type": "code",
   "execution_count": null,
   "id": "850eaf3b-45d9-4adb-825a-81256e47d3f3",
   "metadata": {},
   "outputs": [],
   "source": [
    "slice.list_networks();"
   ]
  },
  {
   "cell_type": "markdown",
   "id": "6c4c6fdb-577b-47ae-b44c-e2ab9d2f7cbf",
   "metadata": {},
   "source": [
    "## Run commands"
   ]
  },
  {
   "cell_type": "code",
   "execution_count": null,
   "id": "ba2dd812-5bad-4574-8e67-1c35d6ead7a4",
   "metadata": {},
   "outputs": [],
   "source": [
    "for node in slice.get_nodes():\n",
    "    stdout, stderr = node.execute('echo Hello, FABRIC from node `hostname -s`')"
   ]
  },
  {
   "cell_type": "markdown",
   "id": "6a86e109-3735-4544-8bd3-b49c437807ee",
   "metadata": {},
   "source": [
    "## View Network Interfaces\n",
    "\n",
    "Please note that this API requires, user to have SSH access to the VMs, without which it would keep on retrying and eventually timeout. Check logs at `/tmp/fablib/fablib.log` for debugging. Ensure that Slice owner has added your public key to the VMs and you are using the same public key in `~/work/fabric_config/fabric_rc`"
   ]
  },
  {
   "cell_type": "code",
   "execution_count": null,
   "id": "cf110bd2-6622-461e-99b1-22992afaad9e",
   "metadata": {},
   "outputs": [],
   "source": [
    "slice.list_interfaces();"
   ]
  },
  {
   "cell_type": "code",
   "execution_count": null,
   "id": "3b7a7bad-272c-4c2f-8e16-d2b08931fc95",
   "metadata": {},
   "outputs": [],
   "source": []
  }
 ],
 "metadata": {
  "kernelspec": {
   "display_name": "Python 3 (ipykernel)",
   "language": "python",
   "name": "python3"
  },
  "language_info": {
   "codemirror_mode": {
    "name": "ipython",
    "version": 3
   },
   "file_extension": ".py",
   "mimetype": "text/x-python",
   "name": "python",
   "nbconvert_exporter": "python",
   "pygments_lexer": "ipython3",
   "version": "3.11.9"
  }
 },
 "nbformat": 4,
 "nbformat_minor": 5
}

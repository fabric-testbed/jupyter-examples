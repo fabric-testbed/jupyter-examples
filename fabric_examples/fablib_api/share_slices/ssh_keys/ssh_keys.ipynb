{
 "cells": [
  {
   "cell_type": "markdown",
   "metadata": {
    "tags": []
   },
   "source": [
    "# Add/Remove SSH Keys\n",
    "\n",
    "This guide outlines the process of granting access to virtual machines (VMs) within your slice to other users. When collaborating with others, it's common to encounter situations where you need to enable them to access the VMs running in your slice. Access to these VMs on FABRIC is managed through SSH keys. This notebook offers methods to incorporate the SSH keys of your collaborators into the VMs within your slice, ensuring they have the necessary access to your VMs.\n"
   ]
  },
  {
   "cell_type": "markdown",
   "metadata": {},
   "source": [
    "## Import the FABlib Library\n"
   ]
  },
  {
   "cell_type": "code",
   "execution_count": null,
   "metadata": {
    "tags": []
   },
   "outputs": [],
   "source": [
    "from fabrictestbed_extensions.fablib.fablib import FablibManager as fablib_manager\n",
    "\n",
    "fablib = fablib_manager()\n",
    "\n",
    "fablib.show_config();"
   ]
  },
  {
   "cell_type": "markdown",
   "metadata": {},
   "source": [
    "### **Use a Collaborator's Slice**  \n",
    "\n",
    "Access an existing slice where you have been granted permission and add SSH keys."
   ]
  },
  {
   "cell_type": "code",
   "execution_count": null,
   "metadata": {},
   "outputs": [],
   "source": [
    "my_existing_slice = True\n",
    "slice_name = 'MySlice-lan'"
   ]
  },
  {
   "cell_type": "markdown",
   "metadata": {
    "tags": []
   },
   "source": [
    "## Create the Experiment Slice\n",
    "\n",
    "The following creates two nodes with basic NICs connected to an isolated local Ethernet.  \n",
    "\n",
    "**NOTE**: Skip the following cells if you choose to use and existing slice as indicated above."
   ]
  },
  {
   "cell_type": "code",
   "execution_count": null,
   "metadata": {
    "tags": []
   },
   "outputs": [],
   "source": [
    "if not my_existing_slice:\n",
    "    slice_name = 'SSH-Keys'\n",
    "    site = fablib.get_random_site()\n",
    "    print(f\"Sites: {site}\")\n",
    "    \n",
    "    node1_name='Node1'\n",
    "    node2_name='Node2'\n",
    "    \n",
    "    network_name='net1'\n",
    "    \n",
    "    from ipaddress import IPv4Network\n",
    "    \n",
    "    subnet = IPv4Network(\"192.168.1.0/24\")\n",
    "    \n",
    "    #Create Slice\n",
    "    slice = fablib.new_slice(name=slice_name)\n",
    "    \n",
    "    net1 = slice.add_l2network(name=network_name, subnet=subnet)\n",
    "    \n",
    "    # Node1\n",
    "    node1 = slice.add_node(name=node1_name, site=site)\n",
    "    iface1 = node1.add_component(model='NIC_Basic', name='nic1').get_interfaces()[0]\n",
    "    iface1.set_mode('auto')\n",
    "    net1.add_interface(iface1)\n",
    "    \n",
    "    # Node2\n",
    "    node2 = slice.add_node(name=node2_name, site=site)\n",
    "    iface2 = node2.add_component(model='NIC_Basic', name='nic1').get_interfaces()[0]\n",
    "    iface2.set_mode('auto')\n",
    "    net1.add_interface(iface2)\n",
    "    \n",
    "    \n",
    "    #Submit Slice Request\n",
    "    slice.submit();"
   ]
  },
  {
   "cell_type": "markdown",
   "metadata": {},
   "source": [
    "### **Get Slice Information**  \n",
    "\n",
    "You can retrieve information about a slice using the following command:  \n",
    "\n",
    "```python\n",
    "slice = fablib.get_slice(slice_name)\n",
    "```"
   ]
  },
  {
   "cell_type": "code",
   "execution_count": null,
   "metadata": {},
   "outputs": [],
   "source": [
    "slice = fablib.get_slice(slice_name)"
   ]
  },
  {
   "cell_type": "markdown",
   "metadata": {},
   "source": [
    "## Adding SSH Keys "
   ]
  },
  {
   "cell_type": "markdown",
   "metadata": {},
   "source": [
    "### **Option 1: Grant a User Access to Your Slice by Adding Their SSH Keys**\n",
    "\n",
    "Allow a user to access nodes in your slice by adding their SSH keys. The recommended approach is to use the **sliver_key_name** from the [FABRIC Portal](https://portal.fabric-testbed.net/experiments#sshKeys) for seamless authentication.  \n",
    "\n",
    "#### Adding Your Own SSH Key  \n",
    "If you are adding your own key, specify only the `sliver_key_name`:  \n",
    "```python\n",
    "node.add_public_key(sliver_key_name=sliver_key_name)\n",
    "```\n",
    "\n",
    "#### Adding Another User's SSH Key  \n",
    "If you are adding another user's SSH key, you must also provide their email address:  \n",
    "```python\n",
    "node.add_public_key(sliver_key_name=sliver_key_name, email=email)\n",
    "```"
   ]
  },
  {
   "cell_type": "code",
   "execution_count": null,
   "metadata": {},
   "outputs": [],
   "source": [
    "sliver_key_name = \"REPLACE_WITH_COLLABORATOR_SLIVER_KEY_NAME\"\n",
    "email = \"REPLACE_WITH_COLLABORATOR_EMAIL\"\n",
    "\n",
    "sliver_key_name = \"slice_key\"\n",
    "email = \"ktharej@ncsu.edu\""
   ]
  },
  {
   "cell_type": "code",
   "execution_count": null,
   "metadata": {},
   "outputs": [],
   "source": [
    "for node in slice.get_nodes():\n",
    "    node.add_public_key(sliver_key_name=sliver_key_name, email=email)"
   ]
  },
  {
   "cell_type": "markdown",
   "metadata": {},
   "source": [
    "### **Option 2: Add an SSH Key Using a Public Key String**\n",
    "\n",
    "If you have the public key string that needs to be added manually, you can pass it directly to the node. This method allows you to add any valid SSH public key without relying on the **sliver_key_name** from the FABRIC portal.  \n",
    "\n",
    "```python\n",
    "node.add_public_key(sliver_public_key=public_key_string)\n",
    "```\n",
    "\n",
    "This approach is useful when:  \n",
    "- The SSH key is not registered in the FABRIC portal.  \n",
    "- You have received a collaborator’s public key in text format.  \n",
    "- You need to add a temporary or externally generated key.  \n",
    "\n",
    "Make sure the provided `public_key_string` is correctly formatted and corresponds to the private key the user will use for SSH access."
   ]
  },
  {
   "cell_type": "code",
   "execution_count": null,
   "metadata": {},
   "outputs": [],
   "source": [
    "public_key_string = \"REPLACE_WITH_PUBLIC_KEY_STRING\"\n",
    "\n",
    "# Comment it when using the public key string, set to None to ensure the next cell is skipped\n",
    "public_key_string = None"
   ]
  },
  {
   "cell_type": "code",
   "execution_count": null,
   "metadata": {},
   "outputs": [],
   "source": [
    "if public_key_string:\n",
    "    for node in slice.get_nodes():\n",
    "        node.add_public_key(public_key_string=public_key_string)"
   ]
  },
  {
   "cell_type": "markdown",
   "metadata": {},
   "source": [
    "### **Verify That the User's SSH Key Has Been Added**\n",
    "\n",
    "After adding the SSH key, confirm that it has been successfully integrated into the node by checking the authorized keys:  \n",
    "\n",
    "```python\n",
    "node.execute(\"cat ~/.ssh/authorized_keys\")\n",
    "```\n",
    "\n",
    "If the key was added correctly, you should see the corresponding public key entry in the output.\n",
    "\n",
    "At this point, ask the user to verify if they can access your VMs by attempting to SSH into the node using their credentials:  \n",
    "```\n",
    "ssh -i <Path to Private Sliver Key> -F <Path to SSH Config> <username>@<MgmtIP>\n",
    "```\n",
    "If the SSH key was added correctly, they should be able to log in without a password."
   ]
  },
  {
   "cell_type": "code",
   "execution_count": null,
   "metadata": {},
   "outputs": [],
   "source": [
    "for node in slice.get_nodes():\n",
    "    node.execute(\"cat ~/.ssh/authorized_keys\")\n",
    "    print(\"XXXXXXXXXXXXXXXXXXXXXXXXXXXXXXXXXXXXXXXXXXXXXXXXXXXXXXXXXXXXXXXXXXXXXXXXXXXXXXXXXXXXXXXXXXXXXXXXXXXXXXXXX\")"
   ]
  },
  {
   "cell_type": "markdown",
   "metadata": {},
   "source": [
    "## **Removing SSH Keys**\n",
    "If you need to revoke access for a user, you can remove their SSH key from the node. There are two ways to do this, depending on how the key was added.\n"
   ]
  },
  {
   "cell_type": "markdown",
   "metadata": {},
   "source": [
    "## **Option 1: Remove an SSH Key Using `sliver_key_name`**  \n",
    "\n",
    "If the SSH key was added using the **sliver_key_name** from the [FABRIC Portal](https://portal.fabric-testbed.net/experiments#sshKeys), you can remove it using the same identifier.  \n",
    "\n",
    "### Removing Your Own SSH Key  \n",
    "If you are removing your own key, specify only the `sliver_key_name`:  \n",
    "```python\n",
    "node.remove_public_key(sliver_key_name=sliver_key_name)\n",
    "```\n",
    "\n",
    "### Removing Another User’s SSH Key  \n",
    "If you are removing another user's key, provide their **email address** along with the `sliver_key_name`:  \n",
    "```python\n",
    "node.remove_public_key(sliver_key_name=sliver_key_name, email=email)\n",
    "```\n",
    "\n",
    "This ensures that only the specified user’s key is removed while keeping others intact."
   ]
  },
  {
   "cell_type": "code",
   "execution_count": null,
   "metadata": {},
   "outputs": [],
   "source": [
    "sliver_key_name = \"REPLACE_WITH_COLLABORATOR_SLIVER_KEY_NAME\"\n",
    "email = \"REPLACE_WITH_COLLABORATOR_EMAIL\"\n",
    "\n",
    "sliver_key_name = \"slice_key\"\n",
    "email = \"ktharej@ncsu.edu\""
   ]
  },
  {
   "cell_type": "code",
   "execution_count": null,
   "metadata": {},
   "outputs": [],
   "source": [
    "for node in slice.get_nodes():\n",
    "    # Add Collaborator's Portal Public Key to the Node by passing the sliver key name and email\n",
    "    node.remove_public_key(sliver_key_name=sliver_key_name, email=email) "
   ]
  },
  {
   "cell_type": "markdown",
   "metadata": {},
   "source": [
    "### **Option 2: Remove an SSH Key Using a Public Key String**  \n",
    "\n",
    "If the SSH key was added manually as a string, you can remove it by passing the same public key string.  \n",
    "\n",
    "#### Removing a Public Key String from the Node  \n",
    "```python\n",
    "node.remove_public_key(sliver_public_key=public_key_string)\n",
    "```\n",
    "\n",
    "This method is useful when:  \n",
    "- The key was not registered with a **sliver_key_name** in the FABRIC portal.  \n",
    "- You manually added the key and now need to remove it using the exact string.  \n",
    "- You want to ensure a specific key is removed without affecting others.  "
   ]
  },
  {
   "cell_type": "code",
   "execution_count": null,
   "metadata": {},
   "outputs": [],
   "source": [
    "public_key_string = \"REPLACE_WITH_PUBLIC_KEY_STRING\"\n",
    "\n",
    "# Comment it when using the public key string, set to None to ensure the next cell is skipped\n",
    "public_key_string = None"
   ]
  },
  {
   "cell_type": "code",
   "execution_count": null,
   "metadata": {},
   "outputs": [],
   "source": [
    "if public_key_string:\n",
    "    for node in slice.get_nodes():\n",
    "        \n",
    "        # Add Public Key to the Node by passing the public key string\n",
    "        node.remove_public_key(sliver_public_key=public_key_string)"
   ]
  },
  {
   "cell_type": "markdown",
   "metadata": {},
   "source": [
    "### **Verifying Key Removal**  \n",
    "\n",
    "After removing a key, confirm that it is no longer present in the node’s `authorized_keys` file:  \n",
    "\n",
    "```python\n",
    "node.execute(\"cat ~/.ssh/authorized_keys\")\n",
    "```\n",
    "\n",
    "If the key was removed successfully, it should no longer appear in the output."
   ]
  },
  {
   "cell_type": "code",
   "execution_count": null,
   "metadata": {},
   "outputs": [],
   "source": [
    "for node in slice.get_nodes():\n",
    "    node.execute(\"cat ~/.ssh/authorized_keys\")\n",
    "    print(\"XXXXXXXXXXXXXXXXXXXXXXXXXXXXXXXXXXXXXXXXXXXXXXXXXXXXXXXXXXXXXXXXXXXXXXXXXXXXXXXXXXXXXXXXXXXXXXXXXXXXXXXXX\")"
   ]
  },
  {
   "cell_type": "markdown",
   "metadata": {},
   "source": [
    "## Delete the Slice\n",
    "\n",
    "Please delete your slice when you are done with your experiment."
   ]
  },
  {
   "cell_type": "code",
   "execution_count": null,
   "metadata": {
    "tags": []
   },
   "outputs": [],
   "source": [
    "if not my_existing_slice:\n",
    "    slice = fablib.get_slice(slice_name)\n",
    "    slice.delete()"
   ]
  },
  {
   "cell_type": "code",
   "execution_count": null,
   "metadata": {},
   "outputs": [],
   "source": []
  }
 ],
 "metadata": {
  "kernelspec": {
   "display_name": "Python 3 (ipykernel)",
   "language": "python",
   "name": "python3"
  },
  "language_info": {
   "codemirror_mode": {
    "name": "ipython",
    "version": 3
   },
   "file_extension": ".py",
   "mimetype": "text/x-python",
   "name": "python",
   "nbconvert_exporter": "python",
   "pygments_lexer": "ipython3",
   "version": "3.11.9"
  }
 },
 "nbformat": 4,
 "nbformat_minor": 4
}

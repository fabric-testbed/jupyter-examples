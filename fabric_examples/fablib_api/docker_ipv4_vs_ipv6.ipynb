{
 "cells": [
  {
   "cell_type": "markdown",
   "metadata": {},
   "source": [
    "# P4Lang Tutorials of FABRIC\n",
    "\n",
    "This notebook walks the user through setting up a FABRIC eperiment that is suitiable for completing the P4 tutorials created by [P4Lang](https://github.com/p4lang/tutorials). The tutorials were origianlly designed to use a mininet topology. This example replaces the mininet topology with a FABRIC experiemnt topology that may span multiple sites across the FABRIC testbed.\n",
    "\n",
    "Additional resources:\n",
    "- [FABRIC Knowledge Base](https://learn.fabric-testbed.net/)\n",
    "- [FABRIC Forums](https://learn.fabric-testbed.net/forums/)\n",
    "- [P4Lang Tutorials](https://github.com/p4lang/tutorials)\n",
    "- [P4Lang YouTube Presentations](https://www.youtube.com/channel/UCOQAFkDKucJWr-KafdJsdIQ)"
   ]
  },
  {
   "cell_type": "code",
   "execution_count": 2,
   "metadata": {},
   "outputs": [],
   "source": [
    " import os\n",
    "\n",
    "# If you are using the FABRIC JupyterHub, the following three evnrionment vars\n",
    "# were automatically provided when you logged in.\n",
    "#os.environ['FABRIC_CREDMGR_HOST']='cm.fabric-testbed.net'\n",
    "#os.environ['FABRIC_ORCHESTRATOR_HOST']='orchestrator.fabric-testbed.net'\n",
    "#os.environ['FABRIC_TOKEN_LOCATION']=os.environ['HOME']+'/work/fabric_token.json'\n",
    "\n",
    "# Bastion IPs\n",
    "os.environ['FABRIC_BASTION_HOST'] = 'bastion-1.fabric-testbed.net'\n",
    "\n",
    "# Set your Bastion username and private key\n",
    "os.environ['FABRIC_BASTION_USERNAME']='minawm_0041350787'\n",
    "os.environ['FABRIC_BASTION_KEY_LOCATION']=os.environ['HOME']+'/work/Mina_Bastion_Key2' #'id_rsa_fabric'\n",
    "\n",
    "# Set the keypair FABRIC will install in your slice. \n",
    "os.environ['FABRIC_SLICE_PRIVATE_KEY_FILE']=os.environ['HOME']+'/.ssh/id_rsa'\n",
    "os.environ['FABRIC_SLICE_PUBLIC_KEY_FILE']=os.environ['HOME']+'/.ssh/id_rsa.pub'\n",
    "\n",
    "# If your slice private key uses a passphrase, set the passphrase\n",
    "#from getpass import getpass\n",
    "#print('Please input private key passphrase. Press enter for no passphrase.')\n",
    "#os.environ['FABRIC_SLICE_PRIVATE_KEY_PASSPHRASE']=getpass()"
   ]
  },
  {
   "cell_type": "markdown",
   "metadata": {},
   "source": [
    "## Basic FABRIC Slice Configuration"
   ]
  },
  {
   "cell_type": "code",
   "execution_count": 3,
   "metadata": {},
   "outputs": [],
   "source": [
    "import json\n",
    "import traceback\n",
    "from fabrictestbed_extensions.fablib.fablib import fablib"
   ]
  },
  {
   "cell_type": "code",
   "execution_count": 4,
   "metadata": {},
   "outputs": [
    {
     "name": "stdout",
     "output_type": "stream",
     "text": [
      "Available Resources: Name      CPUs  Cores    RAM (G)    Disk (G)       Basic (100 Gbps NIC)    ConnectX-6 (100 Gbps x2 NIC)    ConnectX-5 (25 Gbps x2 NIC)    P4510 (NVMe 1TB)    Tesla T4 (GPU)    RTX6000 (GPU)\n",
      "------  ------  -------  ---------  -------------  ----------------------  ------------------------------  -----------------------------  ------------------  ----------------  ---------------\n",
      "TACC        10  318/320  2552/2560  116390/116400  635/635                 2/2                             4/4                            16/16               4/4               6/6\n",
      "UTAH        10  318/320  2552/2560  116390/116400  634/635                 2/2                             4/4                            16/16               4/4               5/5\n",
      "WASH         6  188/192  1520/1536  60558/60600    380/381                 2/2                             2/2                            10/10               2/2               3/3\n",
      "MICH         6  188/192  1520/1536  60580/60600    379/381                 2/2                             2/2                            10/10               2/2               3/3\n",
      "SALT         6  192/192  1536/1536  60600/60600    381/381                 2/2                             2/2                            10/10               2/2               3/3\n",
      "STAR        12  352/384  3000/3072  121086/121200  755/762                 2/2                             5/6                            20/20               6/6               6/6\n",
      "NCSA         6  184/192  1504/1536  60560/60600    376/381                 2/2                             1/2                            10/10               2/2               3/3\n",
      "MAX         10  300/320  2456/2560  115950/116400  626/635                 2/2                             3/4                            16/16               4/4               6/6\n",
      "DALL         6  184/192  1528/1536  60590/60600    381/381                 2/2                             1/2                            10/10               2/2               3/3\n",
      "MASS         4  128/128  1024/1024  55800/55800    254/254                 2/2                             0/0                            6/6                 0/0               3/3\n",
      "Error: 'Resources' object has no attribute 'draw'\n"
     ]
    }
   ],
   "source": [
    "try:\n",
    "    available_resources = fablib.get_available_resources()\n",
    "    print(f\"Available Resources: {available_resources}\")\n",
    "    available_resources.draw()\n",
    "except Exception as e:\n",
    "    print(f\"Error: {e}\")"
   ]
  },
  {
   "cell_type": "markdown",
   "metadata": {
    "tags": []
   },
   "source": [
    "## Configure Slice Parameters\n",
    "\n",
    "This section builds the experiment slice \n",
    "\n",
    "<img src=\"figs/fabric_slice.png\" width=\"800\"/>\n",
    "\n"
   ]
  },
  {
   "cell_type": "code",
   "execution_count": 5,
   "metadata": {},
   "outputs": [],
   "source": [
    "# Slice \n",
    "slice_name = 'docker_tutorial_1'\n",
    "\n",
    "node1_name = \"n1\"\n",
    "\n",
    "switch_cores = 2\n",
    "switch_ram = 8\n",
    "switch_disk = 40\n",
    "\n",
    "# Sites\n",
    "site_1 = 'MAX'\n",
    "\n",
    "image = 'default_ubuntu_20'\n",
    "vlan = '1000'"
   ]
  },
  {
   "cell_type": "markdown",
   "metadata": {},
   "source": [
    "### Create the Slice"
   ]
  },
  {
   "cell_type": "code",
   "execution_count": 8,
   "metadata": {
    "scrolled": true
   },
   "outputs": [
    {
     "name": "stdout",
     "output_type": "stream",
     "text": [
      "\n",
      "-----------  ------------------------------------\n",
      "Slice Name   docker_tutorial_1\n",
      "Slice ID     ed19ad01-9da4-409a-b6bf-2840c6ea054f\n",
      "Slice State  StableOK\n",
      "Lease End    2022-04-02 13:32:39\n",
      "-----------  ------------------------------------\n",
      "\n",
      "Retry: 8, Time: 91 sec\n",
      "\n",
      "ID                                    Name    Site    Host                         Cores    RAM    Disk  Image              Management IP    State    Error\n",
      "------------------------------------  ------  ------  -------------------------  -------  -----  ------  -----------------  ---------------  -------  -------\n",
      "ef5ecec3-29a3-462a-84b6-04e68856a23d  n1      MAX     max-w4.fabric-testbed.net        2      8     100  default_ubuntu_20  63.239.135.72    Active\n",
      "\n",
      "Time to stable 91 seconds\n",
      "Running wait_ssh ... Time to ssh 93 seconds\n",
      "Running post_boot_config ... Time to post boot config 95 seconds\n"
     ]
    }
   ],
   "source": [
    "try:\n",
    "    #Create Slice\n",
    "    slice1 = fablib.new_slice(name=slice_name)\n",
    "    \n",
    "    # Add switch node n1\n",
    "    n1 = slice1.add_node(name=node1_name, site=site_1)\n",
    "    n1.set_capacities(cores=switch_cores, ram=switch_ram, disk=switch_disk)\n",
    "    n1.set_image(image)\n",
    "\n",
    "    slice1.submit()\n",
    "except Exception as e:\n",
    "    print(f\"Error: {e}\")\n",
    "    traceback.print_exc()\n",
    "    "
   ]
  },
  {
   "cell_type": "markdown",
   "metadata": {},
   "source": [
    "# timeout needs to be extended"
   ]
  },
  {
   "cell_type": "markdown",
   "metadata": {
    "tags": []
   },
   "source": [
    "## Get the Slice"
   ]
  },
  {
   "cell_type": "code",
   "execution_count": 10,
   "metadata": {
    "tags": []
   },
   "outputs": [
    {
     "name": "stdout",
     "output_type": "stream",
     "text": [
      "Node:\n",
      "   Name              : n1\n",
      "   Cores             : 2\n",
      "   RAM               : 8\n",
      "   Disk              : 100\n",
      "   Image             : default_ubuntu_20\n",
      "   Image Type        : qcow2\n",
      "   Host              : max-w4.fabric-testbed.net\n",
      "   Site              : MAX\n",
      "   Management IP     : 63.239.135.72\n",
      "   Reservation ID    : ef5ecec3-29a3-462a-84b6-04e68856a23d\n",
      "   Reservation State : Active\n",
      "   SSH Command       : ssh -i /home/fabric/.ssh/id_rsa -J minawm_0041350787@bastion-1.fabric-testbed.net ubuntu@63.239.135.72\n",
      "   Components        :  \n",
      "   Interfaces        :  \n",
      "Interface Map: {}\n"
     ]
    }
   ],
   "source": [
    "try:\n",
    "    slice1 = fablib.get_slice(name=slice_name)\n",
    "    for node in slice1.get_nodes():\n",
    "        print(\"Node:\")\n",
    "        print(f\"   Name              : {node.get_name()}\")\n",
    "        print(f\"   Cores             : {node.get_cores()}\")\n",
    "        print(f\"   RAM               : {node.get_ram()}\")\n",
    "        print(f\"   Disk              : {node.get_disk()}\")\n",
    "        print(f\"   Image             : {node.get_image()}\")\n",
    "        print(f\"   Image Type        : {node.get_image_type()}\")\n",
    "        print(f\"   Host              : {node.get_host()}\")\n",
    "        print(f\"   Site              : {node.get_site()}\")\n",
    "        print(f\"   Management IP     : {node.get_management_ip()}\")\n",
    "        print(f\"   Reservation ID    : {node.get_reservation_id()}\")\n",
    "        print(f\"   Reservation State : {node.get_reservation_state()}\")\n",
    "        print(f\"   SSH Command       : {node.get_ssh_command()}\")\n",
    "        print(f\"   Components        :  \")\n",
    "        for component in node.get_components():\n",
    "            print(f\"      Name             : {component.get_name()}\")\n",
    "            print(f\"      Details          : {component.get_details()}\")\n",
    "            print(f\"      Disk (G)         : {component.get_disk()}\")\n",
    "            print(f\"      Units            : {component.get_unit()}\")\n",
    "            print(f\"      PCI Address      : {component.get_pci_addr()}\")\n",
    "            print(f\"      Model            : {component.get_model()}\")\n",
    "            print(f\"      Type             : {component.get_type()}\") \n",
    "        print(f\"   Interfaces        :  \")\n",
    "        for interface in node.get_interfaces():\n",
    "            print(f\"       Name                : {interface.get_name()}\")\n",
    "            print(f\"           Bandwidth           : {interface.get_bandwidth()}\")\n",
    "            print(f\"           VLAN                : {interface.get_vlan()}\")  \n",
    "            print(f\"           MAC                 : {interface.get_mac()}\") \n",
    "            print(f\"           OS iface name       : {interface.get_os_interface()}\")\n",
    "    for network in slice1.get_l2networks():\n",
    "        print(\"Network:\")\n",
    "        print(f\"    Name:            {network.get_name()}\")\n",
    "    print(f\"Interface Map: {slice1.get_interface_map()}\")\n",
    "except Exception as e:\n",
    "    print(f\"Fail: {e}\")\n",
    "    traceback.print_exc()"
   ]
  },
  {
   "cell_type": "code",
   "execution_count": 11,
   "metadata": {},
   "outputs": [
    {
     "name": "stdout",
     "output_type": "stream",
     "text": [
      "IPv4\n"
     ]
    }
   ],
   "source": [
    "from ipaddress import ip_address, IPv4Address, IPv6Address, IPv4Network, IPv6Network\n",
    "\n",
    "node_ip_type = \"\"\n",
    "\n",
    "try:\n",
    "    slice1 = fablib.get_slice(name=slice_name)\n",
    "    for node in slice1.get_nodes():\n",
    "        if(node.get_name() == \"n1\"):\n",
    "            if type(ip_address(node.get_management_ip())) is IPv4Address:\n",
    "                node_ip_type = \"IPv4\"\n",
    "            elif type(ip_address(node.get_management_ip())) is IPv6Address:\n",
    "                node_ip_type = \"IPv6\"\n",
    "            else:\n",
    "                node_ip_type = \"Unknown\"\n",
    "except Exception as e:\n",
    "    print(f\"Exception: {e}\")\n",
    "print(node_ip_type)"
   ]
  },
  {
   "cell_type": "markdown",
   "metadata": {},
   "source": [
    "## Node configuration."
   ]
  },
  {
   "cell_type": "code",
   "execution_count": 13,
   "metadata": {},
   "outputs": [],
   "source": [
    "n1 = slice1.get_node(name=node1_name) "
   ]
  },
  {
   "cell_type": "code",
   "execution_count": 14,
   "metadata": {},
   "outputs": [
    {
     "name": "stdout",
     "output_type": "stream",
     "text": [
      "Hit:1 http://nova.clouds.archive.ubuntu.com/ubuntu focal InRelease\n",
      "Get:2 http://security.ubuntu.com/ubuntu focal-security InRelease [114 kB]\n",
      "Get:3 http://nova.clouds.archive.ubuntu.com/ubuntu focal-updates InRelease [114 kB]\n",
      "Get:4 http://nova.clouds.archive.ubuntu.com/ubuntu focal-backports InRelease [108 kB]\n",
      "Get:5 http://security.ubuntu.com/ubuntu focal-security/main amd64 Packages [1377 kB]\n",
      "Get:6 http://nova.clouds.archive.ubuntu.com/ubuntu focal/universe amd64 Packages [8628 kB]\n",
      "Get:7 http://security.ubuntu.com/ubuntu focal-security/main Translation-en [238 kB]\n",
      "Get:8 http://security.ubuntu.com/ubuntu focal-security/main amd64 c-n-f Metadata [9876 B]\n",
      "Get:9 http://security.ubuntu.com/ubuntu focal-security/restricted amd64 Packages [853 kB]\n",
      "Get:10 http://security.ubuntu.com/ubuntu focal-security/restricted Translation-en [122 kB]\n",
      "Get:11 http://security.ubuntu.com/ubuntu focal-security/restricted amd64 c-n-f Metadata [532 B]\n",
      "Get:12 http://security.ubuntu.com/ubuntu focal-security/universe amd64 Packages [695 kB]\n",
      "Get:13 http://security.ubuntu.com/ubuntu focal-security/universe Translation-en [122 kB]\n",
      "Get:14 http://security.ubuntu.com/ubuntu focal-security/universe amd64 c-n-f Metadata [14.1 kB]\n",
      "Get:15 http://security.ubuntu.com/ubuntu focal-security/multiverse amd64 Packages [20.7 kB]\n",
      "Get:16 http://security.ubuntu.com/ubuntu focal-security/multiverse Translation-en [5196 B]\n",
      "Get:17 http://security.ubuntu.com/ubuntu focal-security/multiverse amd64 c-n-f Metadata [500 B]\n",
      "Get:18 http://nova.clouds.archive.ubuntu.com/ubuntu focal/universe Translation-en [5124 kB]\n",
      "Get:19 http://nova.clouds.archive.ubuntu.com/ubuntu focal/universe amd64 c-n-f Metadata [265 kB]\n",
      "Get:20 http://nova.clouds.archive.ubuntu.com/ubuntu focal/multiverse amd64 Packages [144 kB]\n",
      "Get:21 http://nova.clouds.archive.ubuntu.com/ubuntu focal/multiverse Translation-en [104 kB]\n",
      "Get:22 http://nova.clouds.archive.ubuntu.com/ubuntu focal/multiverse amd64 c-n-f Metadata [9136 B]\n",
      "Get:23 http://nova.clouds.archive.ubuntu.com/ubuntu focal-updates/main amd64 Packages [1703 kB]\n",
      "Get:24 http://nova.clouds.archive.ubuntu.com/ubuntu focal-updates/main Translation-en [319 kB]\n",
      "Get:25 http://nova.clouds.archive.ubuntu.com/ubuntu focal-updates/main amd64 c-n-f Metadata [14.8 kB]\n",
      "Get:26 http://nova.clouds.archive.ubuntu.com/ubuntu focal-updates/restricted amd64 Packages [910 kB]\n",
      "Get:27 http://nova.clouds.archive.ubuntu.com/ubuntu focal-updates/restricted Translation-en [130 kB]\n",
      "Get:28 http://nova.clouds.archive.ubuntu.com/ubuntu focal-updates/restricted amd64 c-n-f Metadata [528 B]\n",
      "Get:29 http://nova.clouds.archive.ubuntu.com/ubuntu focal-updates/universe amd64 Packages [915 kB]\n",
      "Get:30 http://nova.clouds.archive.ubuntu.com/ubuntu focal-updates/universe Translation-en [204 kB]\n",
      "Get:31 http://nova.clouds.archive.ubuntu.com/ubuntu focal-updates/universe amd64 c-n-f Metadata [20.4 kB]\n",
      "Get:32 http://nova.clouds.archive.ubuntu.com/ubuntu focal-updates/multiverse amd64 Packages [24.4 kB]\n",
      "Get:33 http://nova.clouds.archive.ubuntu.com/ubuntu focal-updates/multiverse Translation-en [7336 B]\n",
      "Get:34 http://nova.clouds.archive.ubuntu.com/ubuntu focal-updates/multiverse amd64 c-n-f Metadata [592 B]\n",
      "Get:35 http://nova.clouds.archive.ubuntu.com/ubuntu focal-backports/main amd64 Packages [42.2 kB]\n",
      "Get:36 http://nova.clouds.archive.ubuntu.com/ubuntu focal-backports/main Translation-en [10.1 kB]\n",
      "Get:37 http://nova.clouds.archive.ubuntu.com/ubuntu focal-backports/main amd64 c-n-f Metadata [864 B]\n",
      "Get:38 http://nova.clouds.archive.ubuntu.com/ubuntu focal-backports/restricted amd64 c-n-f Metadata [116 B]\n",
      "Get:39 http://nova.clouds.archive.ubuntu.com/ubuntu focal-backports/universe amd64 Packages [22.7 kB]\n",
      "Get:40 http://nova.clouds.archive.ubuntu.com/ubuntu focal-backports/universe Translation-en [15.5 kB]\n",
      "Get:41 http://nova.clouds.archive.ubuntu.com/ubuntu focal-backports/universe amd64 c-n-f Metadata [808 B]\n",
      "Get:42 http://nova.clouds.archive.ubuntu.com/ubuntu focal-backports/multiverse amd64 c-n-f Metadata [116 B]\n",
      "Fetched 22.4 MB in 4s (5941 kB/s)\n",
      "Reading package lists...\n",
      "Reading package lists...\n",
      "Building dependency tree...\n",
      "Reading state information...\n",
      "The following additional packages will be installed:\n",
      "  bridge-utils containerd dns-root-data dnsmasq-base libidn11 pigz runc\n",
      "  ubuntu-fan\n",
      "Suggested packages:\n",
      "  ifupdown aufs-tools cgroupfs-mount | cgroup-lite debootstrap docker-doc\n",
      "  rinse zfs-fuse | zfsutils\n",
      "The following NEW packages will be installed:\n",
      "  bridge-utils containerd dns-root-data dnsmasq-base docker.io libidn11 pigz\n",
      "  runc ubuntu-fan\n",
      "0 upgraded, 9 newly installed, 0 to remove and 73 not upgraded.\n",
      "Need to get 74.5 MB of archives.\n",
      "After this operation, 361 MB of additional disk space will be used.\n",
      "Get:1 http://nova.clouds.archive.ubuntu.com/ubuntu focal/universe amd64 pigz amd64 2.4-1 [57.4 kB]\n",
      "Get:2 http://nova.clouds.archive.ubuntu.com/ubuntu focal/main amd64 bridge-utils amd64 1.6-2ubuntu1 [30.5 kB]\n",
      "Get:3 http://nova.clouds.archive.ubuntu.com/ubuntu focal-updates/main amd64 runc amd64 1.0.1-0ubuntu2~20.04.1 [4155 kB]\n",
      "Get:4 http://nova.clouds.archive.ubuntu.com/ubuntu focal-updates/main amd64 containerd amd64 1.5.5-0ubuntu3~20.04.2 [33.0 MB]\n",
      "Get:5 http://nova.clouds.archive.ubuntu.com/ubuntu focal/main amd64 dns-root-data all 2019052802 [5300 B]\n",
      "Get:6 http://nova.clouds.archive.ubuntu.com/ubuntu focal/main amd64 libidn11 amd64 1.33-2.2ubuntu2 [46.2 kB]\n",
      "Get:7 http://nova.clouds.archive.ubuntu.com/ubuntu focal-updates/main amd64 dnsmasq-base amd64 2.80-1.1ubuntu1.4 [315 kB]\n",
      "Get:8 http://nova.clouds.archive.ubuntu.com/ubuntu focal-updates/universe amd64 docker.io amd64 20.10.7-0ubuntu5~20.04.2 [36.9 MB]\n",
      "Get:9 http://nova.clouds.archive.ubuntu.com/ubuntu focal/main amd64 ubuntu-fan all 0.12.13 [34.5 kB]\n",
      "Fetched 74.5 MB in 3s (27.2 MB/s)\n",
      "Selecting previously unselected package pigz.\n",
      "(Reading database ... 63577 files and directories currently installed.)\n",
      "Preparing to unpack .../0-pigz_2.4-1_amd64.deb ...\n",
      "Unpacking pigz (2.4-1) ...\n",
      "Selecting previously unselected package bridge-utils.\n",
      "Preparing to unpack .../1-bridge-utils_1.6-2ubuntu1_amd64.deb ...\n",
      "Unpacking bridge-utils (1.6-2ubuntu1) ...\n",
      "Selecting previously unselected package runc.\n",
      "Preparing to unpack .../2-runc_1.0.1-0ubuntu2~20.04.1_amd64.deb ...\n",
      "Unpacking runc (1.0.1-0ubuntu2~20.04.1) ...\n",
      "Selecting previously unselected package containerd.\n",
      "Preparing to unpack .../3-containerd_1.5.5-0ubuntu3~20.04.2_amd64.deb ...\n",
      "Unpacking containerd (1.5.5-0ubuntu3~20.04.2) ...\n",
      "Selecting previously unselected package dns-root-data.\n",
      "Preparing to unpack .../4-dns-root-data_2019052802_all.deb ...\n",
      "Unpacking dns-root-data (2019052802) ...\n",
      "Selecting previously unselected package libidn11:amd64.\n",
      "Preparing to unpack .../5-libidn11_1.33-2.2ubuntu2_amd64.deb ...\n",
      "Unpacking libidn11:amd64 (1.33-2.2ubuntu2) ...\n",
      "Selecting previously unselected package dnsmasq-base.\n",
      "Preparing to unpack .../6-dnsmasq-base_2.80-1.1ubuntu1.4_amd64.deb ...\n",
      "Unpacking dnsmasq-base (2.80-1.1ubuntu1.4) ...\n",
      "Selecting previously unselected package docker.io.\n",
      "Preparing to unpack .../7-docker.io_20.10.7-0ubuntu5~20.04.2_amd64.deb ...\n",
      "Unpacking docker.io (20.10.7-0ubuntu5~20.04.2) ...\n",
      "Selecting previously unselected package ubuntu-fan.\n",
      "Preparing to unpack .../8-ubuntu-fan_0.12.13_all.deb ...\n",
      "Unpacking ubuntu-fan (0.12.13) ...\n",
      "Setting up runc (1.0.1-0ubuntu2~20.04.1) ...\n",
      "Setting up dns-root-data (2019052802) ...\n",
      "Setting up libidn11:amd64 (1.33-2.2ubuntu2) ...\n",
      "Setting up bridge-utils (1.6-2ubuntu1) ...\n",
      "debconf: unable to initialize frontend: Dialog\n",
      "debconf: (Dialog frontend will not work on a dumb terminal, an emacs shell buffer, or without a controlling terminal.)\n",
      "debconf: falling back to frontend: Readline\n",
      "Setting up pigz (2.4-1) ...\n",
      "Setting up containerd (1.5.5-0ubuntu3~20.04.2) ...\n",
      "Created symlink /etc/systemd/system/multi-user.target.wants/containerd.service → /lib/systemd/system/containerd.service.\n",
      "Setting up docker.io (20.10.7-0ubuntu5~20.04.2) ...\n",
      "debconf: unable to initialize frontend: Dialog\n",
      "debconf: (Dialog frontend will not work on a dumb terminal, an emacs shell buffer, or without a controlling terminal.)\n",
      "debconf: falling back to frontend: Readline\n",
      "Adding group `docker' (GID 119) ...\n",
      "Done.\n",
      "Created symlink /etc/systemd/system/multi-user.target.wants/docker.service → /lib/systemd/system/docker.service.\n",
      "Created symlink /etc/systemd/system/sockets.target.wants/docker.socket → /lib/systemd/system/docker.socket.\n",
      "Setting up dnsmasq-base (2.80-1.1ubuntu1.4) ...\n",
      "Setting up ubuntu-fan (0.12.13) ...\n",
      "Created symlink /etc/systemd/system/multi-user.target.wants/ubuntu-fan.service → /lib/systemd/system/ubuntu-fan.service.\n",
      "Processing triggers for systemd (245.4-4ubuntu3.15) ...\n",
      "Processing triggers for man-db (2.9.1-1) ...\n",
      "Processing triggers for dbus (1.12.16-2ubuntu2.1) ...\n",
      "Processing triggers for libc-bin (2.31-0ubuntu9.2) ...\n",
      "\n"
     ]
    }
   ],
   "source": [
    "print(n1.execute(\"sudo apt-get update && sudo apt-get install -y docker.io\")[0])"
   ]
  },
  {
   "cell_type": "markdown",
   "metadata": {},
   "source": [
    "## If we pick a site that uses IPv4, we need to use the 'registry.ipv4.docker.com' prefix. If IPv6, we need to use the 'registry.ipv6.docker.com' prefix."
   ]
  },
  {
   "cell_type": "code",
   "execution_count": 18,
   "metadata": {},
   "outputs": [],
   "source": [
    "command = \"\"\n",
    "if(node_ip_type == \"IPv4\"):\n",
    "    command = \"sudo docker run -d -it --cap-add=NET_ADMIN --privileged --name fabric_p4 registry.ipv4.docker.com/pruth/fabric-images:0.0.2j\"\n",
    "else:\n",
    "    command = \"sudo docker run -d -it --cap-add=NET_ADMIN --privileged --name fabric_p4 registry.ipv6.docker.com/pruth/fabric-images:0.0.2j\""
   ]
  },
  {
   "cell_type": "code",
   "execution_count": 19,
   "metadata": {},
   "outputs": [
    {
     "name": "stdout",
     "output_type": "stream",
     "text": [
      "162ffa1bc7f826d66a1e44a2590e34467036d784efd5d3457455fd63ba5c52f7\n",
      "\n"
     ]
    }
   ],
   "source": [
    "print(n1.execute(command)[0])"
   ]
  },
  {
   "cell_type": "code",
   "execution_count": 20,
   "metadata": {},
   "outputs": [
    {
     "name": "stdout",
     "output_type": "stream",
     "text": [
      "CONTAINER ID   IMAGE                                                 COMMAND   CREATED         STATUS        PORTS     NAMES\n",
      "162ffa1bc7f8   registry.ipv4.docker.com/pruth/fabric-images:0.0.2j   \"bash\"    6 seconds ago   Up 1 second             fabric_p4\n",
      "\n"
     ]
    }
   ],
   "source": [
    "print(n1.execute(\"sudo docker container ls\")[0])"
   ]
  },
  {
   "cell_type": "markdown",
   "metadata": {},
   "source": [
    "## Delete Slice"
   ]
  },
  {
   "cell_type": "code",
   "execution_count": 21,
   "metadata": {},
   "outputs": [],
   "source": [
    "try:\n",
    "    slice1 = fablib.get_slice(name=slice_name)\n",
    "    slice1.delete()\n",
    "except Exception as e:\n",
    "    print(f\"Fail: {e}\")\n",
    "    traceback.print_exc()"
   ]
  }
 ],
 "metadata": {
  "kernelspec": {
   "display_name": "Python 3 (ipykernel)",
   "language": "python",
   "name": "python3"
  },
  "language_info": {
   "codemirror_mode": {
    "name": "ipython",
    "version": 3
   },
   "file_extension": ".py",
   "mimetype": "text/x-python",
   "name": "python",
   "nbconvert_exporter": "python",
   "pygments_lexer": "ipython3",
   "version": "3.9.2"
  }
 },
 "nbformat": 4,
 "nbformat_minor": 4
}

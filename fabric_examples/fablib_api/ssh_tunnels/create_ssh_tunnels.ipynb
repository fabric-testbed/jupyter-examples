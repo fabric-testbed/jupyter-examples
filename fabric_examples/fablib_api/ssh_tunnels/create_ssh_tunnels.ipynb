{
 "cells": [
  {
   "cell_type": "markdown",
   "metadata": {
    "tags": []
   },
   "source": [
    "# Accessing Services/Applications via SSH Tunnels\n",
    "\n",
    "This section explains how to securely access services (e.g., FileBrowser) running on internal FABRIC VMs using SSH port forwarding.\n",
    "\n",
    "---\n",
    "\n",
    "## Why Use SSH Tunnels?\n",
    "\n",
    "Many FABRIC VMs are not directly reachable from the public Internet. Instead, access is typically provided through a **bastion host**. SSH tunnels allow you to forward ports securely through the bastion to reach internal services running on private VMs."
   ]
  },
  {
   "cell_type": "markdown",
   "metadata": {
    "tags": []
   },
   "source": [
    "## Import the FABlib Library"
   ]
  },
  {
   "cell_type": "code",
   "execution_count": null,
   "metadata": {
    "tags": []
   },
   "outputs": [],
   "source": [
    "from fabrictestbed_extensions.fablib.fablib import FablibManager as fablib_manager\n",
    "\n",
    "fablib = fablib_manager()"
   ]
  },
  {
   "cell_type": "markdown",
   "metadata": {
    "tags": []
   },
   "source": [
    "## Create the Experiment Slice\n",
    "\n"
   ]
  },
  {
   "cell_type": "code",
   "execution_count": null,
   "metadata": {},
   "outputs": [],
   "source": [
    "slice_name = \"MySlice-tunnels\""
   ]
  },
  {
   "cell_type": "code",
   "execution_count": null,
   "metadata": {
    "tags": []
   },
   "outputs": [],
   "source": [
    "# Create a slice\n",
    "slice = fablib.new_slice(name=slice_name)\n",
    "\n",
    "# Add a node\n",
    "node = slice.add_node(name=\"Node1\", disk=100, image='docker_rocky_8')\n",
    "\n",
    "node.add_post_boot_upload_directory('node_tools','.')\n",
    "node.add_post_boot_execute('node_tools/enable_docker.sh {{ _self_.image }}')\n",
    "\n",
    "\n",
    "# Submit the slice\n",
    "slice.submit();"
   ]
  },
  {
   "cell_type": "markdown",
   "metadata": {
    "tags": []
   },
   "source": [
    "## Run a Web Service on the Node \n",
    "\n",
    "Many FABRIC users want an easy way to transfer files to/from their FABRIC nodes.  [File Browser](https://filebrowser.org/) is a self-hosted webservice for transfering files.\n",
    "\n",
    "The following cell will start a Docker container on you node that serves the File Browser webservice on port 5555.  \n",
    "\n",
    "After running this cell, you can use a browser to connect the File Brower and transfer files to/from the node. However, the node is securely protected by the FABRIC's bastion host.  "
   ]
  },
  {
   "cell_type": "code",
   "execution_count": null,
   "metadata": {
    "tags": []
   },
   "outputs": [],
   "source": [
    "slice = fablib.get_slice(slice_name)\n",
    "node = slice.get_node('Node1')\n",
    "\n",
    "node.execute(\"docker run -d \"\n",
    "                \"--name filebrowser \"\n",
    "                \"-p 127.0.0.1:5555:5555 \"\n",
    "                f\"-v /home/{node.get_username()}/data:/data \"\n",
    "                \"-e FB_BASEURL=/filebrowser \"\n",
    "                \"-e FB_ROOT=/data \"\n",
    "                \"-e FB_PORT=5555 \"\n",
    "                \"-e FB_NOAUTH=noauth \"\n",
    "                \"filebrowser/filebrowser \"\n",
    "                , quiet=True, output_file=f\"{node.get_name()}.log\");\n"
   ]
  },
  {
   "cell_type": "markdown",
   "metadata": {},
   "source": [
    "## Start the SSH Tunnel\n",
    "\n",
    "- Create SSH Tunnel Configuration `fabric_ssh_tunnel_tools.zip`\n",
    "- Download your custom `fabric_ssh_tunnel_tools.zip` tarball from the `fabric_config` folder.  \n",
    "- Untar the tarball and put the resulting folder (`fabric_ssh_tunnel_tools`) somewhere you can access it from the command line.\n",
    "- Open a terminal window. (Windows: use `powershell`) \n",
    "- Use `cd` to navigate to the `fabric_ssh_tunnel_tools` folder.\n",
    "- In your terminal, run the command that results from running the following cell (leave the terminal window open)."
   ]
  },
  {
   "cell_type": "code",
   "execution_count": null,
   "metadata": {},
   "outputs": [],
   "source": [
    "fablib.create_ssh_tunnel_config(overwrite=True)"
   ]
  },
  {
   "cell_type": "markdown",
   "metadata": {},
   "source": [
    "#### Port Forwarding Example\n",
    "\n",
    "FileBrowser is running on the VM at port `5555`, use the following SSH command from your laptop:"
   ]
  },
  {
   "cell_type": "code",
   "execution_count": null,
   "metadata": {
    "tags": []
   },
   "outputs": [],
   "source": [
    "import os\n",
    "# Port on your local machine that you want to map the File Browser to.\n",
    "local_port='5555'\n",
    "# Local interface to map the File Browser to (can be `localhost`)\n",
    "local_host='127.0.0.1'\n",
    "\n",
    "# Port on the node used by the File Browser Service\n",
    "target_port='5555'\n",
    "\n",
    "# Username/node on FABRIC\n",
    "target_host=f'{node.get_username()}@{node.get_management_ip()}'\n",
    "\n",
    "print(f'ssh  -L {local_host}:{local_port}:127.0.0.1:{target_port} -i {os.path.basename(fablib.get_default_slice_public_key_file())[:-4]} -F ssh_config {target_host}')"
   ]
  },
  {
   "cell_type": "markdown",
   "metadata": {},
   "source": [
    "## Connect to the File Browser\n",
    "\n",
    "The File Browser service on the node is now mapped to 127.0.0.1:5555 on your local machine. You can open a browser and navigate to the following address (or just click the link): \n",
    "\n",
    "[http://127.0.0.1:5555](http://127.0.0.1:5555)\n",
    "\n",
    "The default login/password is admin/admin. If you want to use File Browser in your FABRIC experiments, please pick better passwords.\n",
    "\n",
    "You can now drag/drop files from your laptop to the FABRIC node. By default, the files will be stored in `~/data`.  \n",
    "\n",
    "SSH to the node and observe the files you put there."
   ]
  },
  {
   "cell_type": "markdown",
   "metadata": {
    "tags": []
   },
   "source": [
    "## Delete the Slice\n",
    "\n",
    "Please delete your slice when you are done with your experiment."
   ]
  },
  {
   "cell_type": "code",
   "execution_count": null,
   "metadata": {
    "tags": []
   },
   "outputs": [],
   "source": [
    "slice.delete()"
   ]
  },
  {
   "cell_type": "code",
   "execution_count": null,
   "metadata": {},
   "outputs": [],
   "source": []
  }
 ],
 "metadata": {
  "kernelspec": {
   "display_name": "Python 3 (ipykernel)",
   "language": "python",
   "name": "python3"
  },
  "language_info": {
   "codemirror_mode": {
    "name": "ipython",
    "version": 3
   },
   "file_extension": ".py",
   "mimetype": "text/x-python",
   "name": "python",
   "nbconvert_exporter": "python",
   "pygments_lexer": "ipython3",
   "version": "3.11.9"
  }
 },
 "nbformat": 4,
 "nbformat_minor": 4
}

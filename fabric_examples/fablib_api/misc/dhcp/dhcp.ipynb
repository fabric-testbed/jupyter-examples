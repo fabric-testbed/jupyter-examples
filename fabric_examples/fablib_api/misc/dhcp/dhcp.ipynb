{
 "cells": [
  {
   "cell_type": "markdown",
   "id": "bda130ef",
   "metadata": {},
   "source": [
    "<img src=\"./include/img/fabric_logo.png\" width=\"500\"/>\n",
    "\n",
    "# DHCP\n",
    "```\n",
    "Created: 2023-02-01\n",
    "Last Modified: April 10, 2023\n",
    "Devin Lane\n",
    "Clemson University\n",
    "ddlane@clemson.edu\n",
    "```\n",
    "\n",
    "<div style=\"page-break-after: always; visibility: hidden\"> \n",
    "\\pagebreak \n",
    "</div>"
   ]
  },
  {
   "cell_type": "code",
   "execution_count": 1,
   "id": "f2d56ec2",
   "metadata": {},
   "outputs": [
    {
     "data": {
      "text/html": [
       "<style type=\"text/css\">\n",
       "#T_a8a47 tr:nth-child(even) {\n",
       "  background: #dbf3ff;\n",
       "  color: #231f20;\n",
       "}\n",
       "#T_a8a47 tr:nth-child(odd) {\n",
       "  background: #ffffff;\n",
       "  color: #231f20;\n",
       "}\n",
       "#T_a8a47 caption {\n",
       "  text-align: center;\n",
       "  font-size: 150%;\n",
       "}\n",
       "#T_a8a47_row0_col0, #T_a8a47_row0_col1, #T_a8a47_row1_col0, #T_a8a47_row1_col1, #T_a8a47_row2_col0, #T_a8a47_row2_col1, #T_a8a47_row3_col0, #T_a8a47_row3_col1, #T_a8a47_row4_col0, #T_a8a47_row4_col1, #T_a8a47_row5_col0, #T_a8a47_row5_col1, #T_a8a47_row6_col0, #T_a8a47_row6_col1, #T_a8a47_row7_col0, #T_a8a47_row7_col1, #T_a8a47_row8_col0, #T_a8a47_row8_col1, #T_a8a47_row9_col0, #T_a8a47_row9_col1, #T_a8a47_row10_col0, #T_a8a47_row10_col1, #T_a8a47_row11_col0, #T_a8a47_row11_col1, #T_a8a47_row12_col0, #T_a8a47_row12_col1 {\n",
       "  text-align: left;\n",
       "  border: 1px #231f20 solid !important;\n",
       "  overwrite: False;\n",
       "}\n",
       "</style>\n",
       "<table id=\"T_a8a47\">\n",
       "  <caption>FABlib Config</caption>\n",
       "  <thead>\n",
       "  </thead>\n",
       "  <tbody>\n",
       "    <tr>\n",
       "      <td id=\"T_a8a47_row0_col0\" class=\"data row0 col0\" >Credential Manager</td>\n",
       "      <td id=\"T_a8a47_row0_col1\" class=\"data row0 col1\" >cm.fabric-testbed.net</td>\n",
       "    </tr>\n",
       "    <tr>\n",
       "      <td id=\"T_a8a47_row1_col0\" class=\"data row1 col0\" >Orchestrator</td>\n",
       "      <td id=\"T_a8a47_row1_col1\" class=\"data row1 col1\" >orchestrator.fabric-testbed.net</td>\n",
       "    </tr>\n",
       "    <tr>\n",
       "      <td id=\"T_a8a47_row2_col0\" class=\"data row2 col0\" >Token File</td>\n",
       "      <td id=\"T_a8a47_row2_col1\" class=\"data row2 col1\" >/Users/devinlane/Documents/fabric/src/fabric_config/id_token.json</td>\n",
       "    </tr>\n",
       "    <tr>\n",
       "      <td id=\"T_a8a47_row3_col0\" class=\"data row3 col0\" >Project ID</td>\n",
       "      <td id=\"T_a8a47_row3_col1\" class=\"data row3 col1\" >7bc05490-ba40-45ba-99dc-b011680825d2</td>\n",
       "    </tr>\n",
       "    <tr>\n",
       "      <td id=\"T_a8a47_row4_col0\" class=\"data row4 col0\" >Bastion Username</td>\n",
       "      <td id=\"T_a8a47_row4_col1\" class=\"data row4 col1\" >ddlane_0000006976</td>\n",
       "    </tr>\n",
       "    <tr>\n",
       "      <td id=\"T_a8a47_row5_col0\" class=\"data row5 col0\" >Bastion Private Key File</td>\n",
       "      <td id=\"T_a8a47_row5_col1\" class=\"data row5 col1\" >/Users/devinlane/Documents/fabric/src/fabric_config/bastion</td>\n",
       "    </tr>\n",
       "    <tr>\n",
       "      <td id=\"T_a8a47_row6_col0\" class=\"data row6 col0\" >Bastion Host</td>\n",
       "      <td id=\"T_a8a47_row6_col1\" class=\"data row6 col1\" >bastion.fabric-testbed.net</td>\n",
       "    </tr>\n",
       "    <tr>\n",
       "      <td id=\"T_a8a47_row7_col0\" class=\"data row7 col0\" >Bastion Private Key Passphrase</td>\n",
       "      <td id=\"T_a8a47_row7_col1\" class=\"data row7 col1\" >None</td>\n",
       "    </tr>\n",
       "    <tr>\n",
       "      <td id=\"T_a8a47_row8_col0\" class=\"data row8 col0\" >Slice Public Key File</td>\n",
       "      <td id=\"T_a8a47_row8_col1\" class=\"data row8 col1\" >/Users/devinlane/Documents/fabric/src/fabric_config/slice_key.pub</td>\n",
       "    </tr>\n",
       "    <tr>\n",
       "      <td id=\"T_a8a47_row9_col0\" class=\"data row9 col0\" >Slice Private Key File</td>\n",
       "      <td id=\"T_a8a47_row9_col1\" class=\"data row9 col1\" >/Users/devinlane/Documents/fabric/src/fabric_config/slice_key</td>\n",
       "    </tr>\n",
       "    <tr>\n",
       "      <td id=\"T_a8a47_row10_col0\" class=\"data row10 col0\" >Slice Private Key Passphrase</td>\n",
       "      <td id=\"T_a8a47_row10_col1\" class=\"data row10 col1\" >None</td>\n",
       "    </tr>\n",
       "    <tr>\n",
       "      <td id=\"T_a8a47_row11_col0\" class=\"data row11 col0\" >Log File</td>\n",
       "      <td id=\"T_a8a47_row11_col1\" class=\"data row11 col1\" >/tmp/fablib/fablib.log</td>\n",
       "    </tr>\n",
       "    <tr>\n",
       "      <td id=\"T_a8a47_row12_col0\" class=\"data row12 col0\" >Log Level</td>\n",
       "      <td id=\"T_a8a47_row12_col1\" class=\"data row12 col1\" >DEBUG</td>\n",
       "    </tr>\n",
       "  </tbody>\n",
       "</table>\n"
      ],
      "text/plain": [
       "<pandas.io.formats.style.Styler at 0x13118d450>"
      ]
     },
     "metadata": {},
     "output_type": "display_data"
    }
   ],
   "source": [
    "from fabrictestbed_extensions.fablib.fablib import FablibManager as fablib_manager\n",
    "\n",
    "try:\n",
    "    fablib = fablib_manager()\n",
    "                     \n",
    "    fablib.show_config()\n",
    "except Exception as e:\n",
    "    print(f\"Exception: {e}\")"
   ]
  },
  {
   "cell_type": "code",
   "execution_count": 2,
   "id": "025c3917",
   "metadata": {},
   "outputs": [],
   "source": [
    "# Clean up log directory to avoid large files\n",
    "import os\n",
    "for item in os.scandir(os.path.join(os.getcwd(), 'logs')):\n",
    "    if '.' != item.name[0]:\n",
    "        os.remove(item.path)"
   ]
  },
  {
   "cell_type": "markdown",
   "id": "8a847142-3a85-4019-a9b3-5fa5d9691692",
   "metadata": {},
   "source": [
    "# Submit the Slice"
   ]
  },
  {
   "cell_type": "code",
   "execution_count": 3,
   "id": "c543c8f9-598f-4329-9894-94810c53cbfb",
   "metadata": {},
   "outputs": [
    {
     "name": "stdout",
     "output_type": "stream",
     "text": [
      "Site: CLEM\n"
     ]
    }
   ],
   "source": [
    "slice_name = 'DHCPSlice'\n",
    "\n",
    "site = 'CLEM'\n",
    "print(f\"Site: {site}\")\n",
    "\n",
    "node1_name = 'Server'\n",
    "node2_name = 'Client1'\n",
    "node3_name = 'Client2'\n",
    "network_name='DHCP-demo-net'\n",
    "node1_nic_name = 'nic1'\n",
    "node2_nic_name = 'nic2'\n",
    "node3_nic_name = 'nic3'\n",
    "image = 'default_ubuntu_22'"
   ]
  },
  {
   "cell_type": "markdown",
   "id": "3599f0a6-6a57-4af4-9c14-f17e85ca4905",
   "metadata": {},
   "source": [
    "Here we will add three nodes to an L2 network with a subnet of 10.0.0.0/24. We don't care which IP address the nodes get so we will set the mode for each interface to 'auto'."
   ]
  },
  {
   "cell_type": "code",
   "execution_count": 4,
   "id": "ba1bf38b-1b59-4c08-b782-e2271bb8cd63",
   "metadata": {
    "tags": []
   },
   "outputs": [
    {
     "name": "stdout",
     "output_type": "stream",
     "text": [
      "\n",
      "Retry: 8, Time: 263 sec\n"
     ]
    },
    {
     "data": {
      "text/html": [
       "<style type=\"text/css\">\n",
       "#T_dd792 tr:nth-child(even) {\n",
       "  background: #dbf3ff;\n",
       "  color: #231f20;\n",
       "}\n",
       "#T_dd792 tr:nth-child(odd) {\n",
       "  background: #ffffff;\n",
       "  color: #231f20;\n",
       "}\n",
       "#T_dd792 caption {\n",
       "  text-align: center;\n",
       "  font-size: 150%;\n",
       "}\n",
       "#T_dd792_row0_col0, #T_dd792_row0_col1, #T_dd792_row1_col0, #T_dd792_row1_col1, #T_dd792_row2_col0, #T_dd792_row2_col1, #T_dd792_row3_col0, #T_dd792_row3_col1, #T_dd792_row4_col0, #T_dd792_row4_col1, #T_dd792_row5_col0 {\n",
       "  text-align: left;\n",
       "  border: 1px #231f20 solid !important;\n",
       "  overwrite: False;\n",
       "  background-color: ;\n",
       "}\n",
       "#T_dd792_row5_col1 {\n",
       "  text-align: left;\n",
       "  border: 1px #231f20 solid !important;\n",
       "  overwrite: False;\n",
       "  background-color: #c3ffc4;\n",
       "}\n",
       "</style>\n",
       "<table id=\"T_dd792\">\n",
       "  <caption>Slice</caption>\n",
       "  <thead>\n",
       "  </thead>\n",
       "  <tbody>\n",
       "    <tr>\n",
       "      <td id=\"T_dd792_row0_col0\" class=\"data row0 col0\" >ID</td>\n",
       "      <td id=\"T_dd792_row0_col1\" class=\"data row0 col1\" >cc940914-adb8-4cb8-9730-7d7ad5e6bc20</td>\n",
       "    </tr>\n",
       "    <tr>\n",
       "      <td id=\"T_dd792_row1_col0\" class=\"data row1 col0\" >Name</td>\n",
       "      <td id=\"T_dd792_row1_col1\" class=\"data row1 col1\" >DHCPSlice</td>\n",
       "    </tr>\n",
       "    <tr>\n",
       "      <td id=\"T_dd792_row2_col0\" class=\"data row2 col0\" >Lease Expiration (UTC)</td>\n",
       "      <td id=\"T_dd792_row2_col1\" class=\"data row2 col1\" >2023-04-12 04:14:25 +0000</td>\n",
       "    </tr>\n",
       "    <tr>\n",
       "      <td id=\"T_dd792_row3_col0\" class=\"data row3 col0\" >Lease Start (UTC)</td>\n",
       "      <td id=\"T_dd792_row3_col1\" class=\"data row3 col1\" >2023-04-11 04:14:26 +0000</td>\n",
       "    </tr>\n",
       "    <tr>\n",
       "      <td id=\"T_dd792_row4_col0\" class=\"data row4 col0\" >Project ID</td>\n",
       "      <td id=\"T_dd792_row4_col1\" class=\"data row4 col1\" >7bc05490-ba40-45ba-99dc-b011680825d2</td>\n",
       "    </tr>\n",
       "    <tr>\n",
       "      <td id=\"T_dd792_row5_col0\" class=\"data row5 col0\" >State</td>\n",
       "      <td id=\"T_dd792_row5_col1\" class=\"data row5 col1\" >StableOK</td>\n",
       "    </tr>\n",
       "  </tbody>\n",
       "</table>\n"
      ],
      "text/plain": [
       "<pandas.io.formats.style.Styler at 0x1313c1510>"
      ]
     },
     "metadata": {},
     "output_type": "display_data"
    },
    {
     "data": {
      "text/html": [
       "<style type=\"text/css\">\n",
       "#T_f7c9a caption {\n",
       "  text-align: center;\n",
       "  font-size: 150%;\n",
       "  caption-side: top;\n",
       "}\n",
       "#T_f7c9a th {\n",
       "  text-align: left;\n",
       "}\n",
       "#T_f7c9a tr:nth-child(even) {\n",
       "  background: #ffffff;\n",
       "  color: #231f20;\n",
       "}\n",
       "#T_f7c9a tr:nth-child(odd) {\n",
       "  background: #dbf3ff;\n",
       "  color: #231f20;\n",
       "}\n",
       "#T_f7c9a .level0 {\n",
       "  border: 1px black solid !important;\n",
       "  background: #ffffff;\n",
       "  color: #231f20;\n",
       "}\n",
       "#T_f7c9a_row0_col0, #T_f7c9a_row0_col1, #T_f7c9a_row0_col2, #T_f7c9a_row0_col3, #T_f7c9a_row0_col4, #T_f7c9a_row0_col5, #T_f7c9a_row0_col6, #T_f7c9a_row0_col7, #T_f7c9a_row0_col8, #T_f7c9a_row0_col9, #T_f7c9a_row0_col10, #T_f7c9a_row0_col13, #T_f7c9a_row0_col14, #T_f7c9a_row0_col15, #T_f7c9a_row1_col0, #T_f7c9a_row1_col1, #T_f7c9a_row1_col2, #T_f7c9a_row1_col3, #T_f7c9a_row1_col4, #T_f7c9a_row1_col5, #T_f7c9a_row1_col6, #T_f7c9a_row1_col7, #T_f7c9a_row1_col8, #T_f7c9a_row1_col9, #T_f7c9a_row1_col10, #T_f7c9a_row1_col13, #T_f7c9a_row1_col14, #T_f7c9a_row1_col15, #T_f7c9a_row2_col0, #T_f7c9a_row2_col1, #T_f7c9a_row2_col2, #T_f7c9a_row2_col3, #T_f7c9a_row2_col4, #T_f7c9a_row2_col5, #T_f7c9a_row2_col6, #T_f7c9a_row2_col7, #T_f7c9a_row2_col8, #T_f7c9a_row2_col9, #T_f7c9a_row2_col10, #T_f7c9a_row2_col13, #T_f7c9a_row2_col14, #T_f7c9a_row2_col15 {\n",
       "  text-align: left;\n",
       "  border: 1px #231f20 solid !important;\n",
       "  overwrite: False;\n",
       "}\n",
       "#T_f7c9a_row0_col11, #T_f7c9a_row1_col11, #T_f7c9a_row2_col11 {\n",
       "  text-align: left;\n",
       "  border: 1px #231f20 solid !important;\n",
       "  overwrite: False;\n",
       "  background-color: #c3ffc4;\n",
       "}\n",
       "#T_f7c9a_row0_col12, #T_f7c9a_row1_col12, #T_f7c9a_row2_col12 {\n",
       "  text-align: left;\n",
       "  border: 1px #231f20 solid !important;\n",
       "  overwrite: False;\n",
       "  background-color: ;\n",
       "}\n",
       "</style>\n",
       "<table id=\"T_f7c9a\">\n",
       "  <caption>Nodes</caption>\n",
       "  <thead>\n",
       "    <tr>\n",
       "      <th id=\"T_f7c9a_level0_col0\" class=\"col_heading level0 col0\" >ID</th>\n",
       "      <th id=\"T_f7c9a_level0_col1\" class=\"col_heading level0 col1\" >Name</th>\n",
       "      <th id=\"T_f7c9a_level0_col2\" class=\"col_heading level0 col2\" >Cores</th>\n",
       "      <th id=\"T_f7c9a_level0_col3\" class=\"col_heading level0 col3\" >RAM</th>\n",
       "      <th id=\"T_f7c9a_level0_col4\" class=\"col_heading level0 col4\" >Disk</th>\n",
       "      <th id=\"T_f7c9a_level0_col5\" class=\"col_heading level0 col5\" >Image</th>\n",
       "      <th id=\"T_f7c9a_level0_col6\" class=\"col_heading level0 col6\" >Image Type</th>\n",
       "      <th id=\"T_f7c9a_level0_col7\" class=\"col_heading level0 col7\" >Host</th>\n",
       "      <th id=\"T_f7c9a_level0_col8\" class=\"col_heading level0 col8\" >Site</th>\n",
       "      <th id=\"T_f7c9a_level0_col9\" class=\"col_heading level0 col9\" >Username</th>\n",
       "      <th id=\"T_f7c9a_level0_col10\" class=\"col_heading level0 col10\" >Management IP</th>\n",
       "      <th id=\"T_f7c9a_level0_col11\" class=\"col_heading level0 col11\" >State</th>\n",
       "      <th id=\"T_f7c9a_level0_col12\" class=\"col_heading level0 col12\" >Error</th>\n",
       "      <th id=\"T_f7c9a_level0_col13\" class=\"col_heading level0 col13\" >SSH Command</th>\n",
       "      <th id=\"T_f7c9a_level0_col14\" class=\"col_heading level0 col14\" >Public SSH Key File</th>\n",
       "      <th id=\"T_f7c9a_level0_col15\" class=\"col_heading level0 col15\" >Private SSH Key File</th>\n",
       "    </tr>\n",
       "  </thead>\n",
       "  <tbody>\n",
       "    <tr>\n",
       "      <td id=\"T_f7c9a_row0_col0\" class=\"data row0 col0\" >4ae1fdcd-7d97-42ef-9f44-62bb9031d88b</td>\n",
       "      <td id=\"T_f7c9a_row0_col1\" class=\"data row0 col1\" >Server</td>\n",
       "      <td id=\"T_f7c9a_row0_col2\" class=\"data row0 col2\" >2</td>\n",
       "      <td id=\"T_f7c9a_row0_col3\" class=\"data row0 col3\" >8</td>\n",
       "      <td id=\"T_f7c9a_row0_col4\" class=\"data row0 col4\" >10</td>\n",
       "      <td id=\"T_f7c9a_row0_col5\" class=\"data row0 col5\" >default_ubuntu_22</td>\n",
       "      <td id=\"T_f7c9a_row0_col6\" class=\"data row0 col6\" >qcow2</td>\n",
       "      <td id=\"T_f7c9a_row0_col7\" class=\"data row0 col7\" >clem-w3.fabric-testbed.net</td>\n",
       "      <td id=\"T_f7c9a_row0_col8\" class=\"data row0 col8\" >CLEM</td>\n",
       "      <td id=\"T_f7c9a_row0_col9\" class=\"data row0 col9\" >ubuntu</td>\n",
       "      <td id=\"T_f7c9a_row0_col10\" class=\"data row0 col10\" >2620:103:a006:12:f816:3eff:fea1:9718</td>\n",
       "      <td id=\"T_f7c9a_row0_col11\" class=\"data row0 col11\" >Active</td>\n",
       "      <td id=\"T_f7c9a_row0_col12\" class=\"data row0 col12\" ></td>\n",
       "      <td id=\"T_f7c9a_row0_col13\" class=\"data row0 col13\" >ssh ${Username}@${Management IP}</td>\n",
       "      <td id=\"T_f7c9a_row0_col14\" class=\"data row0 col14\" >/Users/devinlane/Documents/fabric/src/fabric_config/slice_key.pub</td>\n",
       "      <td id=\"T_f7c9a_row0_col15\" class=\"data row0 col15\" >/Users/devinlane/Documents/fabric/src/fabric_config/slice_key</td>\n",
       "    </tr>\n",
       "    <tr>\n",
       "      <td id=\"T_f7c9a_row1_col0\" class=\"data row1 col0\" >efb1a501-5573-4a75-a544-b4d4348c986d</td>\n",
       "      <td id=\"T_f7c9a_row1_col1\" class=\"data row1 col1\" >Client1</td>\n",
       "      <td id=\"T_f7c9a_row1_col2\" class=\"data row1 col2\" >2</td>\n",
       "      <td id=\"T_f7c9a_row1_col3\" class=\"data row1 col3\" >8</td>\n",
       "      <td id=\"T_f7c9a_row1_col4\" class=\"data row1 col4\" >10</td>\n",
       "      <td id=\"T_f7c9a_row1_col5\" class=\"data row1 col5\" >default_ubuntu_22</td>\n",
       "      <td id=\"T_f7c9a_row1_col6\" class=\"data row1 col6\" >qcow2</td>\n",
       "      <td id=\"T_f7c9a_row1_col7\" class=\"data row1 col7\" >clem-w3.fabric-testbed.net</td>\n",
       "      <td id=\"T_f7c9a_row1_col8\" class=\"data row1 col8\" >CLEM</td>\n",
       "      <td id=\"T_f7c9a_row1_col9\" class=\"data row1 col9\" >ubuntu</td>\n",
       "      <td id=\"T_f7c9a_row1_col10\" class=\"data row1 col10\" >2620:103:a006:12:f816:3eff:fe98:50aa</td>\n",
       "      <td id=\"T_f7c9a_row1_col11\" class=\"data row1 col11\" >Active</td>\n",
       "      <td id=\"T_f7c9a_row1_col12\" class=\"data row1 col12\" ></td>\n",
       "      <td id=\"T_f7c9a_row1_col13\" class=\"data row1 col13\" >ssh ${Username}@${Management IP}</td>\n",
       "      <td id=\"T_f7c9a_row1_col14\" class=\"data row1 col14\" >/Users/devinlane/Documents/fabric/src/fabric_config/slice_key.pub</td>\n",
       "      <td id=\"T_f7c9a_row1_col15\" class=\"data row1 col15\" >/Users/devinlane/Documents/fabric/src/fabric_config/slice_key</td>\n",
       "    </tr>\n",
       "    <tr>\n",
       "      <td id=\"T_f7c9a_row2_col0\" class=\"data row2 col0\" >823cd95e-4dbb-4bc2-97bb-70f6b0b35758</td>\n",
       "      <td id=\"T_f7c9a_row2_col1\" class=\"data row2 col1\" >Client2</td>\n",
       "      <td id=\"T_f7c9a_row2_col2\" class=\"data row2 col2\" >2</td>\n",
       "      <td id=\"T_f7c9a_row2_col3\" class=\"data row2 col3\" >8</td>\n",
       "      <td id=\"T_f7c9a_row2_col4\" class=\"data row2 col4\" >10</td>\n",
       "      <td id=\"T_f7c9a_row2_col5\" class=\"data row2 col5\" >default_ubuntu_22</td>\n",
       "      <td id=\"T_f7c9a_row2_col6\" class=\"data row2 col6\" >qcow2</td>\n",
       "      <td id=\"T_f7c9a_row2_col7\" class=\"data row2 col7\" >clem-w3.fabric-testbed.net</td>\n",
       "      <td id=\"T_f7c9a_row2_col8\" class=\"data row2 col8\" >CLEM</td>\n",
       "      <td id=\"T_f7c9a_row2_col9\" class=\"data row2 col9\" >ubuntu</td>\n",
       "      <td id=\"T_f7c9a_row2_col10\" class=\"data row2 col10\" >2620:103:a006:12:f816:3eff:fef5:1a2b</td>\n",
       "      <td id=\"T_f7c9a_row2_col11\" class=\"data row2 col11\" >Active</td>\n",
       "      <td id=\"T_f7c9a_row2_col12\" class=\"data row2 col12\" ></td>\n",
       "      <td id=\"T_f7c9a_row2_col13\" class=\"data row2 col13\" >ssh ${Username}@${Management IP}</td>\n",
       "      <td id=\"T_f7c9a_row2_col14\" class=\"data row2 col14\" >/Users/devinlane/Documents/fabric/src/fabric_config/slice_key.pub</td>\n",
       "      <td id=\"T_f7c9a_row2_col15\" class=\"data row2 col15\" >/Users/devinlane/Documents/fabric/src/fabric_config/slice_key</td>\n",
       "    </tr>\n",
       "  </tbody>\n",
       "</table>\n"
      ],
      "text/plain": [
       "<pandas.io.formats.style.Styler at 0x13142a7d0>"
      ]
     },
     "metadata": {},
     "output_type": "display_data"
    },
    {
     "data": {
      "text/html": [
       "<style type=\"text/css\">\n",
       "#T_12893 caption {\n",
       "  text-align: center;\n",
       "  font-size: 150%;\n",
       "  caption-side: top;\n",
       "}\n",
       "#T_12893 th {\n",
       "  text-align: left;\n",
       "}\n",
       "#T_12893 tr:nth-child(even) {\n",
       "  background: #ffffff;\n",
       "  color: #231f20;\n",
       "}\n",
       "#T_12893 tr:nth-child(odd) {\n",
       "  background: #dbf3ff;\n",
       "  color: #231f20;\n",
       "}\n",
       "#T_12893 .level0 {\n",
       "  border: 1px black solid !important;\n",
       "  background: #ffffff;\n",
       "  color: #231f20;\n",
       "}\n",
       "#T_12893_row0_col0, #T_12893_row0_col1, #T_12893_row0_col2, #T_12893_row0_col3, #T_12893_row0_col4, #T_12893_row0_col5, #T_12893_row0_col6 {\n",
       "  text-align: left;\n",
       "  border: 1px #231f20 solid !important;\n",
       "  overwrite: False;\n",
       "}\n",
       "#T_12893_row0_col7 {\n",
       "  text-align: left;\n",
       "  border: 1px #231f20 solid !important;\n",
       "  overwrite: False;\n",
       "  background-color: #c3ffc4;\n",
       "}\n",
       "#T_12893_row0_col8 {\n",
       "  text-align: left;\n",
       "  border: 1px #231f20 solid !important;\n",
       "  overwrite: False;\n",
       "  background-color: ;\n",
       "}\n",
       "</style>\n",
       "<table id=\"T_12893\">\n",
       "  <caption>Networks</caption>\n",
       "  <thead>\n",
       "    <tr>\n",
       "      <th id=\"T_12893_level0_col0\" class=\"col_heading level0 col0\" >ID</th>\n",
       "      <th id=\"T_12893_level0_col1\" class=\"col_heading level0 col1\" >Name</th>\n",
       "      <th id=\"T_12893_level0_col2\" class=\"col_heading level0 col2\" >Layer</th>\n",
       "      <th id=\"T_12893_level0_col3\" class=\"col_heading level0 col3\" >Type</th>\n",
       "      <th id=\"T_12893_level0_col4\" class=\"col_heading level0 col4\" >Site</th>\n",
       "      <th id=\"T_12893_level0_col5\" class=\"col_heading level0 col5\" >Subnet</th>\n",
       "      <th id=\"T_12893_level0_col6\" class=\"col_heading level0 col6\" >Gateway</th>\n",
       "      <th id=\"T_12893_level0_col7\" class=\"col_heading level0 col7\" >State</th>\n",
       "      <th id=\"T_12893_level0_col8\" class=\"col_heading level0 col8\" >Error</th>\n",
       "    </tr>\n",
       "  </thead>\n",
       "  <tbody>\n",
       "    <tr>\n",
       "      <td id=\"T_12893_row0_col0\" class=\"data row0 col0\" >b17ab83d-830a-4a9e-94d7-e651d8acc4b5</td>\n",
       "      <td id=\"T_12893_row0_col1\" class=\"data row0 col1\" >DHCP-demo-net</td>\n",
       "      <td id=\"T_12893_row0_col2\" class=\"data row0 col2\" >L2</td>\n",
       "      <td id=\"T_12893_row0_col3\" class=\"data row0 col3\" >L2Bridge</td>\n",
       "      <td id=\"T_12893_row0_col4\" class=\"data row0 col4\" >CLEM</td>\n",
       "      <td id=\"T_12893_row0_col5\" class=\"data row0 col5\" >10.0.0.0/24</td>\n",
       "      <td id=\"T_12893_row0_col6\" class=\"data row0 col6\" >None</td>\n",
       "      <td id=\"T_12893_row0_col7\" class=\"data row0 col7\" >Active</td>\n",
       "      <td id=\"T_12893_row0_col8\" class=\"data row0 col8\" ></td>\n",
       "    </tr>\n",
       "  </tbody>\n",
       "</table>\n"
      ],
      "text/plain": [
       "<pandas.io.formats.style.Styler at 0x1313df450>"
      ]
     },
     "metadata": {},
     "output_type": "display_data"
    },
    {
     "data": {
      "text/html": [
       "<style type=\"text/css\">\n",
       "#T_f15a8 caption {\n",
       "  text-align: center;\n",
       "  font-size: 150%;\n",
       "  caption-side: top;\n",
       "}\n",
       "#T_f15a8 th {\n",
       "  text-align: left;\n",
       "}\n",
       "#T_f15a8 tr:nth-child(even) {\n",
       "  background: #ffffff;\n",
       "  color: #231f20;\n",
       "}\n",
       "#T_f15a8 tr:nth-child(odd) {\n",
       "  background: #dbf3ff;\n",
       "  color: #231f20;\n",
       "}\n",
       "#T_f15a8 .level0 {\n",
       "  border: 1px black solid !important;\n",
       "  background: #ffffff;\n",
       "  color: #231f20;\n",
       "}\n",
       "#T_f15a8_row0_col0, #T_f15a8_row0_col1, #T_f15a8_row0_col2, #T_f15a8_row0_col3, #T_f15a8_row0_col4, #T_f15a8_row0_col5, #T_f15a8_row0_col6, #T_f15a8_row0_col7, #T_f15a8_row0_col8, #T_f15a8_row0_col9, #T_f15a8_row0_col10, #T_f15a8_row1_col0, #T_f15a8_row1_col1, #T_f15a8_row1_col2, #T_f15a8_row1_col3, #T_f15a8_row1_col4, #T_f15a8_row1_col5, #T_f15a8_row1_col6, #T_f15a8_row1_col7, #T_f15a8_row1_col8, #T_f15a8_row1_col9, #T_f15a8_row1_col10, #T_f15a8_row2_col0, #T_f15a8_row2_col1, #T_f15a8_row2_col2, #T_f15a8_row2_col3, #T_f15a8_row2_col4, #T_f15a8_row2_col5, #T_f15a8_row2_col6, #T_f15a8_row2_col7, #T_f15a8_row2_col8, #T_f15a8_row2_col9, #T_f15a8_row2_col10 {\n",
       "  text-align: left;\n",
       "  border: 1px #231f20 solid !important;\n",
       "  overwrite: False;\n",
       "}\n",
       "</style>\n",
       "<table id=\"T_f15a8\">\n",
       "  <caption>Interfaces</caption>\n",
       "  <thead>\n",
       "    <tr>\n",
       "      <th id=\"T_f15a8_level0_col0\" class=\"col_heading level0 col0\" >Name</th>\n",
       "      <th id=\"T_f15a8_level0_col1\" class=\"col_heading level0 col1\" >Short Name</th>\n",
       "      <th id=\"T_f15a8_level0_col2\" class=\"col_heading level0 col2\" >Node</th>\n",
       "      <th id=\"T_f15a8_level0_col3\" class=\"col_heading level0 col3\" >Network</th>\n",
       "      <th id=\"T_f15a8_level0_col4\" class=\"col_heading level0 col4\" >Bandwidth</th>\n",
       "      <th id=\"T_f15a8_level0_col5\" class=\"col_heading level0 col5\" >Mode</th>\n",
       "      <th id=\"T_f15a8_level0_col6\" class=\"col_heading level0 col6\" >VLAN</th>\n",
       "      <th id=\"T_f15a8_level0_col7\" class=\"col_heading level0 col7\" >MAC</th>\n",
       "      <th id=\"T_f15a8_level0_col8\" class=\"col_heading level0 col8\" >Physical Device</th>\n",
       "      <th id=\"T_f15a8_level0_col9\" class=\"col_heading level0 col9\" >Device</th>\n",
       "      <th id=\"T_f15a8_level0_col10\" class=\"col_heading level0 col10\" >IP Address</th>\n",
       "    </tr>\n",
       "  </thead>\n",
       "  <tbody>\n",
       "    <tr>\n",
       "      <td id=\"T_f15a8_row0_col0\" class=\"data row0 col0\" >Server-nic1-p1</td>\n",
       "      <td id=\"T_f15a8_row0_col1\" class=\"data row0 col1\" >p1</td>\n",
       "      <td id=\"T_f15a8_row0_col2\" class=\"data row0 col2\" >Server</td>\n",
       "      <td id=\"T_f15a8_row0_col3\" class=\"data row0 col3\" >DHCP-demo-net</td>\n",
       "      <td id=\"T_f15a8_row0_col4\" class=\"data row0 col4\" >100</td>\n",
       "      <td id=\"T_f15a8_row0_col5\" class=\"data row0 col5\" >auto</td>\n",
       "      <td id=\"T_f15a8_row0_col6\" class=\"data row0 col6\" ></td>\n",
       "      <td id=\"T_f15a8_row0_col7\" class=\"data row0 col7\" >06:49:81:02:94:C9</td>\n",
       "      <td id=\"T_f15a8_row0_col8\" class=\"data row0 col8\" >ens7</td>\n",
       "      <td id=\"T_f15a8_row0_col9\" class=\"data row0 col9\" >ens7</td>\n",
       "      <td id=\"T_f15a8_row0_col10\" class=\"data row0 col10\" >10.0.0.3</td>\n",
       "    </tr>\n",
       "    <tr>\n",
       "      <td id=\"T_f15a8_row1_col0\" class=\"data row1 col0\" >Client1-nic2-p1</td>\n",
       "      <td id=\"T_f15a8_row1_col1\" class=\"data row1 col1\" >p1</td>\n",
       "      <td id=\"T_f15a8_row1_col2\" class=\"data row1 col2\" >Client1</td>\n",
       "      <td id=\"T_f15a8_row1_col3\" class=\"data row1 col3\" >DHCP-demo-net</td>\n",
       "      <td id=\"T_f15a8_row1_col4\" class=\"data row1 col4\" >100</td>\n",
       "      <td id=\"T_f15a8_row1_col5\" class=\"data row1 col5\" >auto</td>\n",
       "      <td id=\"T_f15a8_row1_col6\" class=\"data row1 col6\" ></td>\n",
       "      <td id=\"T_f15a8_row1_col7\" class=\"data row1 col7\" >06:A4:81:4A:F5:D3</td>\n",
       "      <td id=\"T_f15a8_row1_col8\" class=\"data row1 col8\" >ens7</td>\n",
       "      <td id=\"T_f15a8_row1_col9\" class=\"data row1 col9\" >ens7</td>\n",
       "      <td id=\"T_f15a8_row1_col10\" class=\"data row1 col10\" >10.0.0.2</td>\n",
       "    </tr>\n",
       "    <tr>\n",
       "      <td id=\"T_f15a8_row2_col0\" class=\"data row2 col0\" >Client2-nic3-p1</td>\n",
       "      <td id=\"T_f15a8_row2_col1\" class=\"data row2 col1\" >p1</td>\n",
       "      <td id=\"T_f15a8_row2_col2\" class=\"data row2 col2\" >Client2</td>\n",
       "      <td id=\"T_f15a8_row2_col3\" class=\"data row2 col3\" >DHCP-demo-net</td>\n",
       "      <td id=\"T_f15a8_row2_col4\" class=\"data row2 col4\" >100</td>\n",
       "      <td id=\"T_f15a8_row2_col5\" class=\"data row2 col5\" >auto</td>\n",
       "      <td id=\"T_f15a8_row2_col6\" class=\"data row2 col6\" ></td>\n",
       "      <td id=\"T_f15a8_row2_col7\" class=\"data row2 col7\" >0A:B0:19:DF:54:85</td>\n",
       "      <td id=\"T_f15a8_row2_col8\" class=\"data row2 col8\" >ens7</td>\n",
       "      <td id=\"T_f15a8_row2_col9\" class=\"data row2 col9\" >ens7</td>\n",
       "      <td id=\"T_f15a8_row2_col10\" class=\"data row2 col10\" >10.0.0.1</td>\n",
       "    </tr>\n",
       "  </tbody>\n",
       "</table>\n"
      ],
      "text/plain": [
       "<pandas.io.formats.style.Styler at 0x131468b50>"
      ]
     },
     "metadata": {},
     "output_type": "display_data"
    },
    {
     "name": "stdout",
     "output_type": "stream",
     "text": [
      "\n",
      "Time to print interfaces 270 seconds\n"
     ]
    }
   ],
   "source": [
    "from ipaddress import ip_address, IPv4Address, IPv6Address, IPv4Network, IPv6Network\n",
    "subnet = IPv4Network(\"10.0.0.0/24\")\n",
    "available_ips = list(subnet)[1:]\n",
    "\n",
    "try:\n",
    "    #Create Slice\n",
    "    slice = fablib.new_slice(name=slice_name)\n",
    "    net = slice.add_l2network(name=network_name, subnet=subnet)\n",
    "    # Node1\n",
    "    node1 = slice.add_node(name=node1_name, site=site, image=image)\n",
    "    iface1 = node1.add_component(model='NIC_Basic', name=node1_nic_name).get_interfaces()[0]\n",
    "    iface1.set_mode('auto')\n",
    "    net.add_interface(iface1)\n",
    "    \n",
    "    # Node2\n",
    "    node2 = slice.add_node(name=node2_name, site=site, image=image)\n",
    "    iface2 = node2.add_component(model='NIC_Basic', name=node2_nic_name).get_interfaces()[0]\n",
    "    iface2.set_mode('auto')\n",
    "    net.add_interface(iface2)\n",
    "    \n",
    "    # Node3\n",
    "    node3 = slice.add_node(name=node3_name, site=site, image=image)\n",
    "    iface3 = node3.add_component(model='NIC_Basic', name=node3_nic_name).get_interfaces()[0]\n",
    "    iface3.set_mode('auto')\n",
    "    net.add_interface(iface3)\n",
    "\n",
    "    #Submit Slice Request\n",
    "    slice.submit()\n",
    "except Exception as e:\n",
    "    print(f\"Exception: {e}\")"
   ]
  },
  {
   "cell_type": "markdown",
   "id": "56aad0a9-2f7d-40ad-813d-0b07282bf265",
   "metadata": {},
   "source": [
    "### Threading Function to Speed up Multi-Node Actions:"
   ]
  },
  {
   "cell_type": "code",
   "execution_count": 5,
   "id": "075a5000-5ecb-48cf-ae01-aaa980a6f894",
   "metadata": {},
   "outputs": [],
   "source": [
    "def thread_ripper(command):\n",
    "    nodes = slice.get_nodes()\n",
    "    threads = {}\n",
    "    for node in nodes:\n",
    "        print(f'Create thread for node: {node.get_name()}')\n",
    "        threads[node] = node.execute_thread(command, output_file=f'logs/{node.get_name()}.log')\n",
    "\n",
    "    print('Done creating threads!')\n",
    "\n",
    "    for node, thread in threads.items():\n",
    "        print(f'node: {node.get_name()}... ', end='')\n",
    "        stdout, stderr = thread.result()\n",
    "        print('done!')"
   ]
  },
  {
   "cell_type": "markdown",
   "id": "e9f3d8ce-9f54-4101-bb2a-b37b383658f9",
   "metadata": {},
   "source": [
    "## Install DHCP Server to the Server Node"
   ]
  },
  {
   "cell_type": "markdown",
   "id": "a5531572-37ef-4666-9e39-d432d6f9a4e8",
   "metadata": {},
   "source": [
    "You can tail the log files for each machine with the following command:\n",
    "```bash\n",
    "tail -f logs/{node name}.log\n",
    "```"
   ]
  },
  {
   "cell_type": "code",
   "execution_count": 6,
   "id": "57acdd43-0760-4065-974d-3efd28323ae9",
   "metadata": {},
   "outputs": [
    {
     "name": "stdout",
     "output_type": "stream",
     "text": [
      "Create thread for node: Server\n",
      "Create thread for node: Client1\n",
      "Create thread for node: Client2\n",
      "Done creating threads!\n",
      "node: Server... done!\n",
      "node: Client1... done!\n",
      "node: Client2... done!\n",
      "Create thread for node: Server\n",
      "Create thread for node: Client1\n",
      "Create thread for node: Client2\n",
      "Done creating threads!\n",
      "node: Server... done!\n",
      "node: Client1... done!\n",
      "node: Client2... done!\n"
     ]
    }
   ],
   "source": [
    "# Get nodes\n",
    "# What we will place the DHCP server on\n",
    "server = slice.get_node(name=node1_name)\n",
    "# Our DHCP Clients\n",
    "client1 = slice.get_node(name=node2_name)\n",
    "client2 = slice.get_node(name=node3_name)\n",
    "\n",
    "# Step 1: Update packages:\n",
    "thread_ripper('sudo apt-get update && sudo apt-get upgrade -y')\n",
    "thread_ripper('sudo apt-get install -y net-tools network-manager')"
   ]
  },
  {
   "cell_type": "markdown",
   "id": "6cf753fc-b4c3-463b-95e5-bc6914eaced0",
   "metadata": {},
   "source": [
    "### Configure our DHCP network:"
   ]
  },
  {
   "cell_type": "code",
   "execution_count": 7,
   "id": "1b0c885e-f48a-400f-bc1e-f84b81822195",
   "metadata": {},
   "outputs": [],
   "source": [
    "from ipaddress import ip_address, IPv4Address, IPv6Address, IPv4Network, IPv6Network\n",
    "\n",
    "try:\n",
    "    subnet = IPv4Network(\"192.168.1.0/24\")\n",
    "    available_ips = list(subnet)[1:]\n",
    "except Exception as e:\n",
    "    print(f\"Exception: {e}\")"
   ]
  },
  {
   "cell_type": "code",
   "execution_count": 8,
   "id": "0751a318-9c8d-43d2-8c08-0d2b04a7fe3d",
   "metadata": {},
   "outputs": [
    {
     "name": "stdout",
     "output_type": "stream",
     "text": [
      "3: ens7: <BROADCAST,MULTICAST,UP,LOWER_UP> mtu 1500 qdisc mq state UP group default qlen 1000\n",
      "    link/ether 06:49:81:02:94:c9 brd ff:ff:ff:ff:ff:ff\n",
      "    altname enp0s7\n",
      "    inet 10.0.0.3/24 scope global ens7\n",
      "       valid_lft forever preferred_lft forever\n",
      "    inet 192.168.1.1/24 scope global ens7\n",
      "       valid_lft forever preferred_lft forever\n",
      "    inet6 fe80::449:81ff:fe02:94c9/64 scope link tentative \n",
      "       valid_lft forever preferred_lft forever\n"
     ]
    }
   ],
   "source": [
    "# Step 1: Give the DHCP server an address on the same DHCP subnet we want\n",
    "try:\n",
    "    server_iface = server.get_interface(network_name=network_name) \n",
    "    server_addr = available_ips.pop(0)\n",
    "    server_iface.ip_addr_add(addr=server_addr, subnet=subnet)\n",
    "\n",
    "    stdout, stderr = server.execute(f'sudo ifconfig {server_iface.get_os_interface()} up')\n",
    "    stdout, stderr = server.execute(f'ip addr show {server_iface.get_os_interface()}')\n",
    "except Exception as e:\n",
    "    print(f\"Exception: {e}\")"
   ]
  },
  {
   "cell_type": "code",
   "execution_count": 9,
   "id": "1cfb60b5-48cf-4f74-ad6b-815f95e7a866",
   "metadata": {},
   "outputs": [],
   "source": [
    "# Step 2: Install DHCP Server\n",
    "stdout, stderr = server.execute('sudo apt-get install -y isc-dhcp-server', quiet=True, output_file=f'logs/server.log')\n",
    "# server.execute('sudo rm /etc/dhcp/dhcpd.conf && sudo dpkg --configure -a') # Run this if the above fails"
   ]
  },
  {
   "cell_type": "code",
   "execution_count": 10,
   "id": "02fadea3-55fc-41d3-bddf-e8d95eb80c97",
   "metadata": {},
   "outputs": [],
   "source": [
    "# Step 3: Configure server\n",
    "stdout, stderr = server.execute('''sudo bash -c 'echo \"default-lease-time 600;\n",
    "max-lease-time 7200;\n",
    "authoritative;\n",
    " \n",
    "subnet 192.168.1.0 netmask 255.255.255.0 {\n",
    " range 192.168.1.100 192.168.1.200;\n",
    " option subnet-mask 255.255.255.0;\n",
    "}\n",
    "\" >> /etc/dhcp/dhcpd.conf'\n",
    "''')\n",
    "server.execute(r'''sudo sed -i 's/INTERFACESv4=\"\"/INTERFACESv4=\"ens7\"/' /etc/default/isc-dhcp-server''', quiet=True, output_file='logs/server.log');"
   ]
  },
  {
   "cell_type": "code",
   "execution_count": 11,
   "id": "982dbde0-9841-4324-8ffb-03fb06e6b320",
   "metadata": {},
   "outputs": [
    {
     "name": "stdout",
     "output_type": "stream",
     "text": [
      "● isc-dhcp-server.service - ISC DHCP IPv4 server\n",
      "     Loaded: loaded (/lib/systemd/system/isc-dhcp-server.service; enabled; vendor preset: enabled)\n",
      "     Active: active (running) since Tue 2023-04-11 04:24:01 UTC; 1s ago\n",
      "       Docs: man:dhcpd(8)\n",
      "   Main PID: 18747 (dhcpd)\n",
      "      Tasks: 4 (limit: 9493)\n",
      "     Memory: 4.5M\n",
      "        CPU: 8ms\n",
      "     CGroup: /system.slice/isc-dhcp-server.service\n",
      "             └─18747 dhcpd -user dhcpd -group dhcpd -f -4 -pf /run/dhcp-server/dhcpd.pid -cf /etc/dhcp/dhcpd.conf ens7\n",
      "\n",
      "Apr 11 04:24:01 Server dhcpd[18747]: PID file: /run/dhcp-server/dhcpd.pid\n",
      "Apr 11 04:24:01 Server dhcpd[18747]: Wrote 0 leases to leases file.\n",
      "Apr 11 04:24:01 Server sh[18747]: Wrote 0 leases to leases file.\n",
      "Apr 11 04:24:01 Server dhcpd[18747]: Listening on LPF/ens7/06:49:81:02:94:c9/192.168.1.0/24\n",
      "Apr 11 04:24:01 Server sh[18747]: Listening on LPF/ens7/06:49:81:02:94:c9/192.168.1.0/24\n",
      "Apr 11 04:24:01 Server sh[18747]: Sending on   LPF/ens7/06:49:81:02:94:c9/192.168.1.0/24\n",
      "Apr 11 04:24:01 Server sh[18747]: Sending on   Socket/fallback/fallback-net\n",
      "Apr 11 04:24:01 Server dhcpd[18747]: Sending on   LPF/ens7/06:49:81:02:94:c9/192.168.1.0/24\n",
      "Apr 11 04:24:01 Server dhcpd[18747]: Sending on   Socket/fallback/fallback-net\n",
      "Apr 11 04:24:01 Server dhcpd[18747]: Server starting service.\n"
     ]
    }
   ],
   "source": [
    "# Step 4: Restart the server\n",
    "server.execute('sudo systemctl restart isc-dhcp-server.service');\n",
    "server.execute('sudo systemctl status isc-dhcp-server.service');"
   ]
  },
  {
   "cell_type": "markdown",
   "id": "a60965a7-4b8f-4392-bf48-cb0cb2e8f079",
   "metadata": {},
   "source": [
    "## Request IP Addresses (Client-Side)"
   ]
  },
  {
   "cell_type": "code",
   "execution_count": 12,
   "id": "d6584f35-b43e-4155-8d70-ac100dd435e9",
   "metadata": {},
   "outputs": [
    {
     "data": {
      "text/plain": [
       "{'Client1_address': '192.168.1.100', 'Client2_address': '192.168.1.101'}"
      ]
     },
     "execution_count": 12,
     "metadata": {},
     "output_type": "execute_result"
    }
   ],
   "source": [
    "clients = {}\n",
    "for client in (client1, client2,):\n",
    "    # Request DHCP Address\n",
    "    client.execute('sudo dhclient ens7');\n",
    "    # Extract new IP addresses for later use (ping)\n",
    "    stdout, stderr = client.execute('''ip addr show ens7 | grep \"inet \" | awk '{print $2}' | cut -d/ -f1''', quiet=True);\n",
    "    clients[client.get_name() + '_address'] = stdout[:-1].split('\\n')[1] # remove newline\n",
    "    \n",
    "clients"
   ]
  },
  {
   "cell_type": "markdown",
   "id": "d10a8e27-64a6-4c1c-a6a2-669068f7db70",
   "metadata": {},
   "source": [
    "## Run the Experiment\n",
    "\n",
    "We will ping client 2 using its newly allocated DHCP address.\n"
   ]
  },
  {
   "cell_type": "code",
   "execution_count": 13,
   "id": "9f7984fa-96cf-4e6a-9888-de51347818c7",
   "metadata": {},
   "outputs": [
    {
     "name": "stdout",
     "output_type": "stream",
     "text": [
      "PING 192.168.1.101 (192.168.1.101) 56(84) bytes of data.\n",
      "64 bytes from 192.168.1.101: icmp_seq=1 ttl=64 time=0.212 ms\n",
      "64 bytes from 192.168.1.101: icmp_seq=2 ttl=64 time=0.134 ms\n",
      "64 bytes from 192.168.1.101: icmp_seq=3 ttl=64 time=0.135 ms\n",
      "64 bytes from 192.168.1.101: icmp_seq=4 ttl=64 time=0.156 ms\n",
      "64 bytes from 192.168.1.101: icmp_seq=5 ttl=64 time=0.122 ms\n",
      "\n",
      "--- 192.168.1.101 ping statistics ---\n",
      "5 packets transmitted, 5 received, 0% packet loss, time 4084ms\n",
      "rtt min/avg/max/mdev = 0.122/0.151/0.212/0.032 ms\n"
     ]
    }
   ],
   "source": [
    "try:        \n",
    "    stdout, stderr = client1.execute(f\"ping -c 5 {clients['Client2_address']}\")\n",
    "    \n",
    "except Exception as e:\n",
    "    print(f\"Exception: {e}\")"
   ]
  },
  {
   "cell_type": "markdown",
   "id": "cf934607-4970-4532-a56b-3c480883b994",
   "metadata": {},
   "source": [
    "## Delete the Slice\n",
    "\n",
    "Please delete your slice when you are done with your experiment."
   ]
  },
  {
   "cell_type": "code",
   "execution_count": 14,
   "id": "a40d1e55-04ba-406c-ab7b-d0d6a4f1a2a9",
   "metadata": {},
   "outputs": [],
   "source": [
    "try:\n",
    "    slice = fablib.get_slice(name=slice_name)\n",
    "    slice.delete()\n",
    "except Exception as e:\n",
    "    print(f\"Exception: {e}\")"
   ]
  }
 ],
 "metadata": {
  "kernelspec": {
   "display_name": "Python 3 (ipykernel)",
   "language": "python",
   "name": "python3"
  },
  "language_info": {
   "codemirror_mode": {
    "name": "ipython",
    "version": 3
   },
   "file_extension": ".py",
   "mimetype": "text/x-python",
   "name": "python",
   "nbconvert_exporter": "python",
   "pygments_lexer": "ipython3",
   "version": "3.11.2"
  }
 },
 "nbformat": 4,
 "nbformat_minor": 5
}

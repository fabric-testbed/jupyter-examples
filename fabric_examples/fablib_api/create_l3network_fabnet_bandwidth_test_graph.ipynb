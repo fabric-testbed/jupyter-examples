{
 "cells": [
  {
   "cell_type": "markdown",
   "metadata": {},
   "source": [
    "# Creating FABnet IPv4 Network\n",
    "\n",
    "FABRIC provides a pair of layer 3 IP networking services across every FABRIC site (FABnetv4 and FABnetv6). You can think of this service as a private internet that connects experiments across the testbed using FABRIC's high-performance network links. \n",
    "\n",
    "This notebook describes how to use the FABnetv4 service which is FABRIC's private IPv4 internet.   \n",
    "\n",
    "## Step 1:  Configure the Environment\n"
   ]
  },
  {
   "cell_type": "code",
   "execution_count": 153,
   "metadata": {},
   "outputs": [],
   "source": [
    "import os\n",
    "\n",
    "# If you are using the FABRIC JupyterHub, the following three evnrionment vars\n",
    "# were automatically provided when you logged in.\n",
    "#os.environ['FABRIC_CREDMGR_HOST']='cm.fabric-testbed.net'\n",
    "#os.environ['FABRIC_ORCHESTRATOR_HOST']='orchestrator.fabric-testbed.net'\n",
    "#os.environ['FABRIC_TOKEN_LOCATION']=os.environ['HOME']+'/work/fabric_token.json'\n",
    "\n",
    "os.environ['FABRIC_PROJECT_ID'] = '1630021f-0a0c-4792-a241-997f410d36e1'\n",
    "\n",
    "# Bastion IPs\n",
    "os.environ['FABRIC_BASTION_HOST'] = 'bastion-1.fabric-testbed.net'\n",
    "\n",
    "# Set your Bastion username and private key\n",
    "os.environ['FABRIC_BASTION_USERNAME']=\"minawm_0041350787\"\n",
    "os.environ['FABRIC_BASTION_KEY_LOCATION']=os.environ['HOME']+'/work/Mina_Bastion_Key2'\n",
    "\n",
    "# Set the keypair FABRIC will install in your slice. \n",
    "os.environ['FABRIC_SLICE_PRIVATE_KEY_FILE']=os.environ['HOME']+'/.ssh/id_rsa'\n",
    "os.environ['FABRIC_SLICE_PUBLIC_KEY_FILE']=os.environ['HOME']+'/.ssh/id_rsa.pub'\n",
    "\n",
    "# If your slice private key uses a passphrase, set the passphrase\n",
    "#from getpass import getpass\n",
    "#print('Please input private key passphrase. Press enter for no passphrase.')\n",
    "#os.environ['FABRIC_SLICE_PRIVATE_KEY_PASSPHRASE']=getpass()"
   ]
  },
  {
   "cell_type": "markdown",
   "metadata": {},
   "source": [
    "## Step 2: Import the FABLlib Library\n"
   ]
  },
  {
   "cell_type": "code",
   "execution_count": 154,
   "metadata": {},
   "outputs": [],
   "source": [
    "import json\n",
    "import traceback\n",
    "\n",
    "from fabrictestbed_extensions.fablib.fablib import fablib\n"
   ]
  },
  {
   "cell_type": "markdown",
   "metadata": {},
   "source": [
    "## Step 3 (Optional): Query for Available Tesbed Resources and Settings\n",
    "\n",
    "This optional command queries the FABRIC services to find the available resources. It may be useful for finding a site with available capacity."
   ]
  },
  {
   "cell_type": "code",
   "execution_count": 155,
   "metadata": {},
   "outputs": [
    {
     "name": "stdout",
     "output_type": "stream",
     "text": [
      "Name      CPUs  Cores    RAM (G)    Disk (G)       Basic (100 Gbps NIC)    ConnectX-6 (100 Gbps x2 NIC)    ConnectX-5 (25 Gbps x2 NIC)    P4510 (NVMe 1TB)    Tesla T4 (GPU)    RTX6000 (GPU)\n",
      "------  ------  -------  ---------  -------------  ----------------------  ------------------------------  -----------------------------  ------------------  ----------------  ---------------\n",
      "DALL         6  192/192  1536/1536  60600/60600    381/381                 2/2                             2/2                            10/10               2/2               3/3\n",
      "WASH         6  192/192  1536/1536  60600/60600    381/381                 2/2                             2/2                            10/10               2/2               3/3\n",
      "MASS         4  128/128  1024/1024  55800/55800    254/254                 2/2                             0/0                            6/6                 0/0               3/3\n",
      "MAX         10  302/320  2494/2560  116280/116400  624/635                 0/2                             4/4                            16/16               4/4               6/6\n",
      "SALT         6  190/192  1530/1536  60590/60600    381/381                 2/2                             2/2                            10/10               2/2               3/3\n",
      "TACC        10  314/320  2536/2560  116370/116400  634/635                 2/2                             1/4                            16/16               4/4               6/6\n",
      "MICH         6  192/192  1536/1536  60600/60600    381/381                 2/2                             2/2                            10/10               2/2               3/3\n",
      "STAR        12  380/384  3056/3072  121160/121200  754/762                 2/2                             6/6                            20/20               6/6               6/6\n",
      "UTAH        10  314/320  2536/2560  116340/116400  623/635                 2/2                             4/4                            16/16               4/4               5/5\n",
      "NCSA         6  192/192  1536/1536  60600/60600    381/381                 2/2                             2/2                            10/10               2/2               3/3\n"
     ]
    }
   ],
   "source": [
    "try:\n",
    "    print(f\"{fablib.list_sites()}\")\n",
    "except Exception as e:\n",
    "    print(f\"Exception: {e}\")"
   ]
  },
  {
   "cell_type": "markdown",
   "metadata": {
    "tags": []
   },
   "source": [
    "## Step 4: Create the Experiment Slice\n",
    "\n",
    "The following creates two nodes, on different sites, with basic NICs connected to FABRIC's FABnetv4 internet.  \n",
    "\n",
    "Two nodes are created and one NIC component is added to each node.  This example uses components of model `NIC_Basic` which are SR-IOV Virtual Function on a 100 Gpbs Mellanox ConnectX-6 PCI device. The VF is accessed by the node via PCI passthrough. Other NIC models are listed below. When using dedicated PCI devices the whole physical device is allocated to one node and the device is accessed by the node using PCI passthrough. Calling the `get_interfaces()` method on a component will return a list of interfaces. Many dedicated NIC components may have more than one port.  Either port can be connected to the network.\n",
    "\n",
    "Next, add a separate `l3network` for each site and pass the list of interfaces on that site that you want to connect to FABnetv4. All interfaces passed to `l3network` must be on the same site and each network will be placed on that site.  By default, a node is put on a random site.  If you want to ensure that your nodes are all on different sites you can specify the name of the sites in the `add_node` methode.  You can use the `fablib.get_random_site()` method to get a set of random site names that guarantee that the sites are different. \n",
    "\n",
    "\n",
    "NIC component models options:\n",
    "- NIC_Basic: 100 Gbps Mellanox ConnectX-6 SR-IOV VF (1 Port)\n",
    "- NIC_ConnectX_5: 25 Gbps Dedicated Mellanox ConnectX-5 PCI Device (2 Ports) \n",
    "- NIC_ConnectX_6: 100 Gbps Dedicated Mellanox ConnectX-6 PCI Device (2 Ports) "
   ]
  },
  {
   "cell_type": "code",
   "execution_count": 156,
   "metadata": {},
   "outputs": [],
   "source": [
    "slice_name = 'MySlice1'\n",
    "# [site1,site2] = fablib.get_random_sites(count=2)\n",
    "# print(f\"Sites: {site1}, {site2}\")\n",
    "site1 = 'MAX'\n",
    "site2 = 'WASH'\n",
    "\n",
    "node1_name = 'Node1'\n",
    "node2_name = 'Node2'\n",
    "\n",
    "network1_name='net1'\n",
    "network2_name='net2'\n",
    "\n",
    "node1_nic_name = 'nic1'\n",
    "node2_nic_name = 'nic2'"
   ]
  },
  {
   "cell_type": "code",
   "execution_count": 157,
   "metadata": {},
   "outputs": [
    {
     "name": "stdout",
     "output_type": "stream",
     "text": [
      "\n",
      "-----------  ------------------------------------\n",
      "Slice Name   MySlice1\n",
      "Slice ID     a0d39ce3-9b79-4e20-bdc5-ffeba6904f4f\n",
      "Slice State  StableOK\n",
      "Lease End    2022-06-25 15:56:07 +0000\n",
      "-----------  ------------------------------------\n",
      "\n",
      "Retry: 14, Time: 158 sec\n",
      "\n",
      "ID                                    Name    Site    Host                          Cores    RAM    Disk  Image              Management IP                           State    Error\n",
      "------------------------------------  ------  ------  --------------------------  -------  -----  ------  -----------------  --------------------------------------  -------  -------\n",
      "75624438-0056-4f2d-b98a-66ff3c0bf1ac  Node1   MAX     max-w5.fabric-testbed.net        32    128      10  default_ubuntu_20  63.239.135.120                          Active\n",
      "5f1d73ed-f9db-4b84-9390-2acc8f45fe0e  Node2   WASH    wash-w3.fabric-testbed.net       32    128      10  default_ubuntu_20  2001:400:a100:3020:f816:3eff:fe48:5a2c  Active\n",
      "\n",
      "Time to stable 158 seconds\n",
      "Running post_boot_config ... Exception: 'NoneType' object has no attribute 'get_layer'\n"
     ]
    }
   ],
   "source": [
    "try:\n",
    "    #Create Slice\n",
    "    slice = fablib.new_slice(name=slice_name)\n",
    "    \n",
    "    # Node1\n",
    "    node1 = slice.add_node(name=node1_name, site=site1, cores=32, # cores=64,\n",
    "                           image='default_ubuntu_20')\n",
    "    iface1 = node1.add_component(model='NIC_ConnectX_5', name=node1_nic_name).get_interfaces()[0]\n",
    "    \n",
    "    # Node2\n",
    "    node2 = slice.add_node(name=node2_name, site=site2, cores=32,# cores=64,\n",
    "                           image='default_ubuntu_20')\n",
    "    iface2  = node2.add_component(model='NIC_ConnectX_5', name=node2_nic_name).get_interfaces()[0]\n",
    "    \n",
    "    # NetworkS\n",
    "    net1 = slice.add_l3network(name=network1_name, interfaces=[iface1], type='IPv4')\n",
    "    net2 = slice.add_l3network(name=network2_name, interfaces=[iface2], type='IPv4')\n",
    "    \n",
    "    #Submit Slice Request\n",
    "    slice.submit()\n",
    "except Exception as e:\n",
    "    print(f\"Exception: {e}\")"
   ]
  },
  {
   "cell_type": "markdown",
   "metadata": {
    "tags": []
   },
   "source": [
    "## Step 5: Observe the Slice's Attributes\n",
    "\n",
    "### Print the slice"
   ]
  },
  {
   "cell_type": "code",
   "execution_count": 158,
   "metadata": {
    "tags": []
   },
   "outputs": [
    {
     "name": "stdout",
     "output_type": "stream",
     "text": [
      "-----------  ------------------------------------\n",
      "Slice Name   MySlice1\n",
      "Slice ID     a0d39ce3-9b79-4e20-bdc5-ffeba6904f4f\n",
      "Slice State  StableOK\n",
      "Lease End    2022-06-25 15:56:07 +0000\n",
      "-----------  ------------------------------------\n"
     ]
    }
   ],
   "source": [
    "try:\n",
    "    slice = fablib.get_slice(name=slice_name)\n",
    "    print(f\"{slice}\")\n",
    "except Exception as e:\n",
    "    print(f\"Exception: {e}\")"
   ]
  },
  {
   "cell_type": "markdown",
   "metadata": {
    "tags": []
   },
   "source": [
    "## Print the Node List"
   ]
  },
  {
   "cell_type": "code",
   "execution_count": 159,
   "metadata": {},
   "outputs": [
    {
     "name": "stdout",
     "output_type": "stream",
     "text": [
      "ID                                    Name    Site    Host                          Cores    RAM    Disk  Image              Management IP                           State    Error\n",
      "------------------------------------  ------  ------  --------------------------  -------  -----  ------  -----------------  --------------------------------------  -------  -------\n",
      "75624438-0056-4f2d-b98a-66ff3c0bf1ac  Node1   MAX     max-w5.fabric-testbed.net        32    128      10  default_ubuntu_20  63.239.135.120                          Active\n",
      "5f1d73ed-f9db-4b84-9390-2acc8f45fe0e  Node2   WASH    wash-w3.fabric-testbed.net       32    128      10  default_ubuntu_20  2001:400:a100:3020:f816:3eff:fe48:5a2c  Active\n"
     ]
    }
   ],
   "source": [
    "try:\n",
    "    slice = fablib.get_slice(name=slice_name)\n",
    "    print(f\"{slice.list_nodes()}\")\n",
    "except Exception as e:\n",
    "    print(f\"Exception: {e}\")"
   ]
  },
  {
   "cell_type": "markdown",
   "metadata": {},
   "source": [
    "## Print the Node Details"
   ]
  },
  {
   "cell_type": "code",
   "execution_count": 160,
   "metadata": {},
   "outputs": [
    {
     "name": "stdout",
     "output_type": "stream",
     "text": [
      "-----------------  -------------------------------------------------------------------------------------------------------\n",
      "ID                 75624438-0056-4f2d-b98a-66ff3c0bf1ac\n",
      "Name               Node1\n",
      "Cores              32\n",
      "RAM                128\n",
      "Disk               10\n",
      "Image              default_ubuntu_20\n",
      "Image Type         qcow2\n",
      "Host               max-w5.fabric-testbed.net\n",
      "Site               MAX\n",
      "Management IP      63.239.135.120\n",
      "Reservation State  Active\n",
      "Error Message\n",
      "SSH Command        ssh -i /home/fabric/.ssh/id_rsa -J minawm_0041350787@bastion-1.fabric-testbed.net ubuntu@63.239.135.120\n",
      "-----------------  -------------------------------------------------------------------------------------------------------\n",
      "-----------------  -------------------------------------------------------------------------------------------------------------------------------\n",
      "ID                 5f1d73ed-f9db-4b84-9390-2acc8f45fe0e\n",
      "Name               Node2\n",
      "Cores              32\n",
      "RAM                128\n",
      "Disk               10\n",
      "Image              default_ubuntu_20\n",
      "Image Type         qcow2\n",
      "Host               wash-w3.fabric-testbed.net\n",
      "Site               WASH\n",
      "Management IP      2001:400:a100:3020:f816:3eff:fe48:5a2c\n",
      "Reservation State  Active\n",
      "Error Message\n",
      "SSH Command        ssh -i /home/fabric/.ssh/id_rsa -J minawm_0041350787@bastion-1.fabric-testbed.net ubuntu@2001:400:a100:3020:f816:3eff:fe48:5a2c\n",
      "-----------------  -------------------------------------------------------------------------------------------------------------------------------\n"
     ]
    }
   ],
   "source": [
    "try:\n",
    "    slice = fablib.get_slice(name=slice_name)\n",
    "    for node in slice.get_nodes():\n",
    "        print(f\"{node}\")\n",
    "except Exception as e:\n",
    "    print(f\"Exception: {e}\")"
   ]
  },
  {
   "cell_type": "markdown",
   "metadata": {},
   "source": [
    "## Print the Interfaces"
   ]
  },
  {
   "cell_type": "code",
   "execution_count": 161,
   "metadata": {},
   "outputs": [
    {
     "name": "stdout",
     "output_type": "stream",
     "text": [
      "Name           Node    Network      Bandwidth  VLAN    MAC                Physical OS Interface    OS Interface\n",
      "-------------  ------  ---------  -----------  ------  -----------------  -----------------------  --------------\n",
      "Node1-nic1-p1  Node1   net1                25          04:3F:72:FA:77:FC  ens7                     ens7\n",
      "Node1-nic1-p2  Node1                       25          04:3F:72:FA:77:FD  ens8                     ens8\n",
      "Node2-nic2-p1  Node2   net2                25          B8:CE:F6:3A:63:12  ens7                     ens7\n",
      "Node2-nic2-p2  Node2                       25          B8:CE:F6:3A:63:13  ens8                     ens8\n"
     ]
    }
   ],
   "source": [
    "try:\n",
    "    slice = fablib.get_slice(name=slice_name)\n",
    "    print(f\"{slice.list_interfaces()}\")\n",
    "except Exception as e:\n",
    "    print(f\"Exception: {e}\")"
   ]
  },
  {
   "cell_type": "markdown",
   "metadata": {
    "tags": []
   },
   "source": [
    "## Step 6: Configure IP Addresses\n",
    "\n",
    "Some experiments use FABRIC layer 2 networks to enable deploying non-IP layer 3 networks.  If this describes your experiment, your nodes and network are ready. You can now login to the nodes and deploy your experiment.\n",
    "\n",
    "Most users will want to configure IP addresses on there new nodes.  FABlib provides some useful methods to help you configure basic IP addresses. \n",
    "\n",
    "### Get the Assigned Subnet\n",
    "\n",
    "FABnetv4 networks are assigned a subnet and gateway by FABRIC.  You can get the subnet and available IPs from the FABlib objects. "
   ]
  },
  {
   "cell_type": "code",
   "execution_count": 162,
   "metadata": {},
   "outputs": [
    {
     "name": "stdout",
     "output_type": "stream",
     "text": [
      "-----------------  ------------------------------------\n",
      "ID                 7dd894dc-8e17-40a6-9c7c-9fc33f6a5cfe\n",
      "Name               net1\n",
      "Layer              L3\n",
      "Type               FABNetv4\n",
      "Site               MAX\n",
      "Gateway            10.130.1.1\n",
      "L3 Subnet          10.130.1.0/24\n",
      "Reservation State  Active\n",
      "Error Message\n",
      "-----------------  ------------------------------------\n",
      "-----------------  ------------------------------------\n",
      "ID                 f8c26ea4-ba34-4881-871e-db0c9a0da4ab\n",
      "Name               net2\n",
      "Layer              L3\n",
      "Type               FABNetv4\n",
      "Site               WASH\n",
      "Gateway            10.133.1.1\n",
      "L3 Subnet          10.133.1.0/24\n",
      "Reservation State  Active\n",
      "Error Message\n",
      "-----------------  ------------------------------------\n"
     ]
    }
   ],
   "source": [
    "try:\n",
    "    network1 = slice.get_network(name=network1_name)\n",
    "    network1_available_ips = network1.get_available_ips()\n",
    "    print(f\"{network1}\")\n",
    "    \n",
    "    network2 = slice.get_network(name=network2_name)\n",
    "    network2_available_ips =  network2.get_available_ips()\n",
    "    print(f\"{network2}\")\n",
    "except Exception as e:\n",
    "    print(f\"Exception: {e}\")"
   ]
  },
  {
   "cell_type": "markdown",
   "metadata": {},
   "source": [
    "### Configure Node1\n",
    "\n",
    "Get the node and the interface you wish to configure.  You can use `node.get_interface` to get the interface that is connected to the specified network.  Then `pop` an IP address from the list of available IPs and call `iface.ip_addr_add` to set the IP and subnet.  \n",
    "\n",
    "Then set a route from *this network* to the *other network* through the specified gateway.\n",
    "\n",
    "\n",
    "Optionally, use the `node.execute()` method to show the results of adding the IP address and route.\n",
    "\n"
   ]
  },
  {
   "cell_type": "code",
   "execution_count": 163,
   "metadata": {},
   "outputs": [
    {
     "name": "stdout",
     "output_type": "stream",
     "text": [
      "3: ens7: <BROADCAST,MULTICAST,UP,LOWER_UP> mtu 1500 qdisc mq state UP group default qlen 1000\n",
      "    link/ether 04:3f:72:fa:77:fc brd ff:ff:ff:ff:ff:ff\n",
      "    inet 10.130.1.2/24 scope global ens7\n",
      "       valid_lft forever preferred_lft forever\n",
      "    inet6 fe80::63f:72ff:fefa:77fc/64 scope link \n",
      "       valid_lft forever preferred_lft forever\n",
      "\n",
      "default via 10.20.4.1 dev ens3 proto dhcp src 10.20.4.203 metric 100 \n",
      "10.20.4.0/23 dev ens3 proto kernel scope link src 10.20.4.203 \n",
      "10.130.1.0/24 dev ens7 proto kernel scope link src 10.130.1.2 \n",
      "10.133.1.0/24 via 10.130.1.1 dev ens7 \n",
      "169.254.169.254 via 10.20.4.1 dev ens3 proto dhcp src 10.20.4.203 metric 100 \n",
      "\n"
     ]
    }
   ],
   "source": [
    "try:\n",
    "    target_ip = network1_available_ips.pop(0)\n",
    "    node1 = slice.get_node(name=node1_name)        \n",
    "    node1_iface = node1.get_interface(network_name=network1_name)  \n",
    "    node1_iface.ip_addr_add(addr=target_ip, subnet=network1.get_subnet())\n",
    "    \n",
    "    node1.ip_route_add(subnet=network2.get_subnet(), gateway=network1.get_gateway())\n",
    "    \n",
    "    stdout, stderr = node1.execute(f'ip addr show {node1_iface.get_os_interface()}')\n",
    "    print (stdout)\n",
    "    \n",
    "    stdout, stderr = node1.execute(f'ip route list')\n",
    "    print (stdout)\n",
    "except Exception as e:\n",
    "    print(f\"Exception: {e}\")"
   ]
  },
  {
   "cell_type": "markdown",
   "metadata": {},
   "source": [
    "### Configure Node2\n",
    "\n",
    "Repeat the steps to add the next available IP to the second node and a route to the first network."
   ]
  },
  {
   "cell_type": "code",
   "execution_count": 164,
   "metadata": {},
   "outputs": [
    {
     "name": "stdout",
     "output_type": "stream",
     "text": [
      "3: ens7: <BROADCAST,MULTICAST,UP,LOWER_UP> mtu 1500 qdisc mq state UP group default qlen 1000\n",
      "    link/ether b8:ce:f6:3a:63:12 brd ff:ff:ff:ff:ff:ff\n",
      "    inet 10.133.1.2/24 scope global ens7\n",
      "       valid_lft forever preferred_lft forever\n",
      "    inet6 fe80::bace:f6ff:fe3a:6312/64 scope link \n",
      "       valid_lft forever preferred_lft forever\n",
      "\n",
      "default via 10.20.4.1 dev ens3 proto dhcp src 10.20.4.181 metric 100 \n",
      "10.20.4.0/23 dev ens3 proto kernel scope link src 10.20.4.181 \n",
      "10.130.1.0/24 via 10.133.1.1 dev ens7 \n",
      "10.133.1.0/24 dev ens7 proto kernel scope link src 10.133.1.2 \n",
      "169.254.169.254 via 10.20.4.11 dev ens3 proto dhcp src 10.20.4.181 metric 100 \n",
      "\n"
     ]
    }
   ],
   "source": [
    "try:\n",
    "    node2 = slice.get_node(name=node2_name)        \n",
    "    node2_iface = node2.get_interface(network_name=network2_name)  \n",
    "    node2_iface.ip_addr_add(addr=network2_available_ips.pop(0), subnet=network2.get_subnet())\n",
    "    \n",
    "    node2.ip_route_add(subnet=network1.get_subnet(), gateway=network2.get_gateway())\n",
    "    \n",
    "    stdout, stderr = node2.execute(f'ip addr show {node2_iface.get_os_interface()}')\n",
    "    print (stdout)\n",
    "    \n",
    "    stdout, stderr = node2.execute(f'ip route list')\n",
    "    print (stdout)\n",
    "except Exception as e:\n",
    "    print(f\"Exception: {e}\")"
   ]
  },
  {
   "cell_type": "code",
   "execution_count": 165,
   "metadata": {},
   "outputs": [
    {
     "name": "stdout",
     "output_type": "stream",
     "text": [
      "(\"Hit:1 http://nova.clouds.archive.ubuntu.com/ubuntu focal InRelease\\nGet:2 http://nova.clouds.archive.ubuntu.com/ubuntu focal-updates InRelease [114 kB]\\nGet:3 http://security.ubuntu.com/ubuntu focal-security InRelease [114 kB]\\nGet:4 http://nova.clouds.archive.ubuntu.com/ubuntu focal-backports InRelease [108 kB]\\nGet:5 http://security.ubuntu.com/ubuntu focal-security/main amd64 Packages [1583 kB]\\nGet:6 http://nova.clouds.archive.ubuntu.com/ubuntu focal/universe amd64 Packages [8628 kB]\\nGet:7 http://nova.clouds.archive.ubuntu.com/ubuntu focal/universe Translation-en [5124 kB]\\nGet:8 http://security.ubuntu.com/ubuntu focal-security/main Translation-en [268 kB]\\nGet:9 http://security.ubuntu.com/ubuntu focal-security/main amd64 c-n-f Metadata [10.6 kB]\\nGet:10 http://security.ubuntu.com/ubuntu focal-security/restricted amd64 Packages [1036 kB]\\nGet:11 http://security.ubuntu.com/ubuntu focal-security/restricted Translation-en [147 kB]\\nGet:12 http://security.ubuntu.com/ubuntu focal-security/restricted amd64 c-n-f Metadata [524 B]\\nGet:13 http://security.ubuntu.com/ubuntu focal-security/universe amd64 Packages [708 kB]\\nGet:14 http://security.ubuntu.com/ubuntu focal-security/universe Translation-en [127 kB]\\nGet:15 http://nova.clouds.archive.ubuntu.com/ubuntu focal/universe amd64 c-n-f Metadata [265 kB]\\nGet:16 http://nova.clouds.archive.ubuntu.com/ubuntu focal/multiverse amd64 Packages [144 kB]\\nGet:17 http://security.ubuntu.com/ubuntu focal-security/universe amd64 c-n-f Metadata [14.6 kB]\\nGet:18 http://security.ubuntu.com/ubuntu focal-security/multiverse amd64 Packages [22.2 kB]\\nGet:19 http://security.ubuntu.com/ubuntu focal-security/multiverse Translation-en [5376 B]\\nGet:20 http://nova.clouds.archive.ubuntu.com/ubuntu focal/multiverse Translation-en [104 kB]\\nGet:21 http://security.ubuntu.com/ubuntu focal-security/multiverse amd64 c-n-f Metadata [512 B]\\nGet:22 http://nova.clouds.archive.ubuntu.com/ubuntu focal/multiverse amd64 c-n-f Metadata [9136 B]\\nGet:23 http://nova.clouds.archive.ubuntu.com/ubuntu focal-updates/main amd64 Packages [1935 kB]\\nGet:24 http://nova.clouds.archive.ubuntu.com/ubuntu focal-updates/main Translation-en [350 kB]\\nGet:25 http://nova.clouds.archive.ubuntu.com/ubuntu focal-updates/main amd64 c-n-f Metadata [15.6 kB]\\nGet:26 http://nova.clouds.archive.ubuntu.com/ubuntu focal-updates/restricted amd64 Packages [1099 kB]\\nGet:27 http://nova.clouds.archive.ubuntu.com/ubuntu focal-updates/restricted Translation-en [156 kB]\\nGet:28 http://nova.clouds.archive.ubuntu.com/ubuntu focal-updates/restricted amd64 c-n-f Metadata [524 B]\\nGet:29 http://nova.clouds.archive.ubuntu.com/ubuntu focal-updates/universe amd64 Packages [924 kB]\\nGet:30 http://nova.clouds.archive.ubuntu.com/ubuntu focal-updates/universe Translation-en [208 kB]\\nGet:31 http://nova.clouds.archive.ubuntu.com/ubuntu focal-updates/universe amd64 c-n-f Metadata [20.9 kB]\\nGet:32 http://nova.clouds.archive.ubuntu.com/ubuntu focal-updates/multiverse amd64 Packages [24.4 kB]\\nGet:33 http://nova.clouds.archive.ubuntu.com/ubuntu focal-updates/multiverse Translation-en [7336 B]\\nGet:34 http://nova.clouds.archive.ubuntu.com/ubuntu focal-updates/multiverse amd64 c-n-f Metadata [596 B]\\nGet:35 http://nova.clouds.archive.ubuntu.com/ubuntu focal-backports/main amd64 Packages [44.8 kB]\\nGet:36 http://nova.clouds.archive.ubuntu.com/ubuntu focal-backports/main Translation-en [11.3 kB]\\nGet:37 http://nova.clouds.archive.ubuntu.com/ubuntu focal-backports/main amd64 c-n-f Metadata [976 B]\\nGet:38 http://nova.clouds.archive.ubuntu.com/ubuntu focal-backports/restricted amd64 c-n-f Metadata [116 B]\\nGet:39 http://nova.clouds.archive.ubuntu.com/ubuntu focal-backports/universe amd64 Packages [23.7 kB]\\nGet:40 http://nova.clouds.archive.ubuntu.com/ubuntu focal-backports/universe Translation-en [15.9 kB]\\nGet:41 http://nova.clouds.archive.ubuntu.com/ubuntu focal-backports/universe amd64 c-n-f Metadata [860 B]\\nGet:42 http://nova.clouds.archive.ubuntu.com/ubuntu focal-backports/multiverse amd64 c-n-f Metadata [116 B]\\nFetched 23.4 MB in 4s (5754 kB/s)\\nReading package lists...\\nBuilding dependency tree...\\nReading state information...\\n135 packages can be upgraded. Run 'apt list --upgradable' to see them.\\nReading package lists...\\nBuilding dependency tree...\\nReading state information...\\nThe following additional packages will be installed:\\n  libiperf0 libsctp1\\nSuggested packages:\\n  lksctp-tools\\nThe following NEW packages will be installed:\\n  iperf iperf3 libiperf0 libsctp1\\n0 upgraded, 4 newly installed, 0 to remove and 135 not upgraded.\\nNeed to get 171 kB of archives.\\nAfter this operation, 544 kB of additional disk space will be used.\\nGet:1 http://nova.clouds.archive.ubuntu.com/ubuntu focal/universe amd64 iperf amd64 2.0.13+dfsg1-1build1 [76.5 kB]\\nGet:2 http://nova.clouds.archive.ubuntu.com/ubuntu focal/main amd64 libsctp1 amd64 1.0.18+dfsg-1 [7876 B]\\nGet:3 http://nova.clouds.archive.ubuntu.com/ubuntu focal/universe amd64 libiperf0 amd64 3.7-3 [72.0 kB]\\nGet:4 http://nova.clouds.archive.ubuntu.com/ubuntu focal/universe amd64 iperf3 amd64 3.7-3 [14.2 kB]\\nFetched 171 kB in 1s (322 kB/s)\\nSelecting previously unselected package iperf.\\r\\n(Reading database ... \\r(Reading database ... 5%\\r(Reading database ... 10%\\r(Reading database ... 15%\\r(Reading database ... 20%\\r(Reading database ... 25%\\r(Reading database ... 30%\\r(Reading database ... 35%\\r(Reading database ... 40%\\r(Reading database ... 45%\\r(Reading database ... 50%\\r(Reading database ... 55%\\r(Reading database ... 60%\\r(Reading database ... 65%\\r(Reading database ... 70%\\r(Reading database ... 75%\\r(Reading database ... 80%\\r(Reading database ... 85%\\r(Reading database ... 90%\\r(Reading database ... 95%\\r(Reading database ... 100%\\r(Reading database ... 63577 files and directories currently installed.)\\r\\nPreparing to unpack .../iperf_2.0.13+dfsg1-1build1_amd64.deb ...\\r\\nUnpacking iperf (2.0.13+dfsg1-1build1) ...\\r\\nSelecting previously unselected package libsctp1:amd64.\\r\\nPreparing to unpack .../libsctp1_1.0.18+dfsg-1_amd64.deb ...\\r\\nUnpacking libsctp1:amd64 (1.0.18+dfsg-1) ...\\r\\nSelecting previously unselected package libiperf0:amd64.\\r\\nPreparing to unpack .../libiperf0_3.7-3_amd64.deb ...\\r\\nUnpacking libiperf0:amd64 (3.7-3) ...\\r\\nSelecting previously unselected package iperf3.\\r\\nPreparing to unpack .../iperf3_3.7-3_amd64.deb ...\\r\\nUnpacking iperf3 (3.7-3) ...\\r\\nSetting up iperf (2.0.13+dfsg1-1build1) ...\\r\\nSetting up libsctp1:amd64 (1.0.18+dfsg-1) ...\\r\\nSetting up libiperf0:amd64 (3.7-3) ...\\r\\nSetting up iperf3 (3.7-3) ...\\r\\nProcessing triggers for man-db (2.9.1-1) ...\\r\\nProcessing triggers for libc-bin (2.31-0ubuntu9.2) ...\\r\\n\", '\\nWARNING: apt does not have a stable CLI interface. Use with caution in scripts.\\n\\n\\nWARNING: apt does not have a stable CLI interface. Use with caution in scripts.\\n\\ndebconf: unable to initialize frontend: Dialog\\ndebconf: (Dialog frontend will not work on a dumb terminal, an emacs shell buffer, or without a controlling terminal.)\\ndebconf: falling back to frontend: Readline\\ndebconf: unable to initialize frontend: Readline\\ndebconf: (This frontend requires a controlling tty.)\\ndebconf: falling back to frontend: Teletype\\ndpkg-preconfigure: unable to re-open stdin: \\n')\n"
     ]
    }
   ],
   "source": [
    "print(node1.execute('sudo apt update && sudo apt install -y iperf iperf3'))"
   ]
  },
  {
   "cell_type": "code",
   "execution_count": 166,
   "metadata": {},
   "outputs": [
    {
     "name": "stdout",
     "output_type": "stream",
     "text": [
      "(\"Hit:1 http://nova.clouds.archive.ubuntu.com/ubuntu focal InRelease\\nGet:2 http://nova.clouds.archive.ubuntu.com/ubuntu focal-updates InRelease [114 kB]\\nGet:3 http://security.ubuntu.com/ubuntu focal-security InRelease [114 kB]\\nGet:4 http://nova.clouds.archive.ubuntu.com/ubuntu focal-backports InRelease [108 kB]\\nGet:5 http://nova.clouds.archive.ubuntu.com/ubuntu focal/universe amd64 Packages [8628 kB]\\nGet:6 http://nova.clouds.archive.ubuntu.com/ubuntu focal/universe Translation-en [5124 kB]\\nGet:7 http://nova.clouds.archive.ubuntu.com/ubuntu focal/universe amd64 c-n-f Metadata [265 kB]\\nGet:8 http://nova.clouds.archive.ubuntu.com/ubuntu focal/multiverse amd64 Packages [144 kB]\\nGet:9 http://nova.clouds.archive.ubuntu.com/ubuntu focal/multiverse Translation-en [104 kB]\\nGet:10 http://nova.clouds.archive.ubuntu.com/ubuntu focal/multiverse amd64 c-n-f Metadata [9136 B]\\nGet:11 http://nova.clouds.archive.ubuntu.com/ubuntu focal-updates/main amd64 Packages [1935 kB]\\nGet:12 http://security.ubuntu.com/ubuntu focal-security/main amd64 Packages [1583 kB]\\nGet:13 http://nova.clouds.archive.ubuntu.com/ubuntu focal-updates/main Translation-en [350 kB]\\nGet:14 http://nova.clouds.archive.ubuntu.com/ubuntu focal-updates/main amd64 c-n-f Metadata [15.6 kB]\\nGet:15 http://nova.clouds.archive.ubuntu.com/ubuntu focal-updates/restricted amd64 Packages [1099 kB]\\nGet:16 http://nova.clouds.archive.ubuntu.com/ubuntu focal-updates/restricted Translation-en [156 kB]\\nGet:17 http://nova.clouds.archive.ubuntu.com/ubuntu focal-updates/restricted amd64 c-n-f Metadata [524 B]\\nGet:18 http://nova.clouds.archive.ubuntu.com/ubuntu focal-updates/universe amd64 Packages [924 kB]\\nGet:19 http://nova.clouds.archive.ubuntu.com/ubuntu focal-updates/universe Translation-en [208 kB]\\nGet:20 http://nova.clouds.archive.ubuntu.com/ubuntu focal-updates/universe amd64 c-n-f Metadata [20.9 kB]\\nGet:21 http://nova.clouds.archive.ubuntu.com/ubuntu focal-updates/multiverse amd64 Packages [24.4 kB]\\nGet:22 http://nova.clouds.archive.ubuntu.com/ubuntu focal-updates/multiverse Translation-en [7336 B]\\nGet:23 http://nova.clouds.archive.ubuntu.com/ubuntu focal-updates/multiverse amd64 c-n-f Metadata [596 B]\\nGet:24 http://nova.clouds.archive.ubuntu.com/ubuntu focal-backports/main amd64 Packages [44.8 kB]\\nGet:25 http://security.ubuntu.com/ubuntu focal-security/main Translation-en [268 kB]\\nGet:26 http://security.ubuntu.com/ubuntu focal-security/main amd64 c-n-f Metadata [10.6 kB]\\nGet:27 http://security.ubuntu.com/ubuntu focal-security/restricted amd64 Packages [1036 kB]\\nGet:28 http://security.ubuntu.com/ubuntu focal-security/restricted Translation-en [147 kB]\\nGet:29 http://security.ubuntu.com/ubuntu focal-security/restricted amd64 c-n-f Metadata [524 B]\\nGet:30 http://security.ubuntu.com/ubuntu focal-security/universe amd64 Packages [708 kB]\\nGet:31 http://nova.clouds.archive.ubuntu.com/ubuntu focal-backports/main Translation-en [11.3 kB]\\nGet:32 http://nova.clouds.archive.ubuntu.com/ubuntu focal-backports/main amd64 c-n-f Metadata [976 B]\\nGet:33 http://nova.clouds.archive.ubuntu.com/ubuntu focal-backports/restricted amd64 c-n-f Metadata [116 B]\\nGet:34 http://nova.clouds.archive.ubuntu.com/ubuntu focal-backports/universe amd64 Packages [23.7 kB]\\nGet:35 http://nova.clouds.archive.ubuntu.com/ubuntu focal-backports/universe Translation-en [15.9 kB]\\nGet:36 http://nova.clouds.archive.ubuntu.com/ubuntu focal-backports/universe amd64 c-n-f Metadata [860 B]\\nGet:37 http://nova.clouds.archive.ubuntu.com/ubuntu focal-backports/multiverse amd64 c-n-f Metadata [116 B]\\nGet:38 http://security.ubuntu.com/ubuntu focal-security/universe Translation-en [127 kB]\\nGet:39 http://security.ubuntu.com/ubuntu focal-security/universe amd64 c-n-f Metadata [14.6 kB]\\nGet:40 http://security.ubuntu.com/ubuntu focal-security/multiverse amd64 Packages [22.2 kB]\\nGet:41 http://security.ubuntu.com/ubuntu focal-security/multiverse Translation-en [5376 B]\\nGet:42 http://security.ubuntu.com/ubuntu focal-security/multiverse amd64 c-n-f Metadata [512 B]\\nFetched 23.4 MB in 3s (7385 kB/s)\\nReading package lists...\\nBuilding dependency tree...\\nReading state information...\\n135 packages can be upgraded. Run 'apt list --upgradable' to see them.\\nReading package lists...\\nBuilding dependency tree...\\nReading state information...\\nThe following additional packages will be installed:\\n  libiperf0 libsctp1\\nSuggested packages:\\n  lksctp-tools\\nThe following NEW packages will be installed:\\n  iperf iperf3 libiperf0 libsctp1\\n0 upgraded, 4 newly installed, 0 to remove and 135 not upgraded.\\nNeed to get 171 kB of archives.\\nAfter this operation, 544 kB of additional disk space will be used.\\nGet:1 http://nova.clouds.archive.ubuntu.com/ubuntu focal/universe amd64 iperf amd64 2.0.13+dfsg1-1build1 [76.5 kB]\\nGet:2 http://nova.clouds.archive.ubuntu.com/ubuntu focal/main amd64 libsctp1 amd64 1.0.18+dfsg-1 [7876 B]\\nGet:3 http://nova.clouds.archive.ubuntu.com/ubuntu focal/universe amd64 libiperf0 amd64 3.7-3 [72.0 kB]\\nGet:4 http://nova.clouds.archive.ubuntu.com/ubuntu focal/universe amd64 iperf3 amd64 3.7-3 [14.2 kB]\\nFetched 171 kB in 0s (1725 kB/s)\\nSelecting previously unselected package iperf.\\r\\n(Reading database ... \\r(Reading database ... 5%\\r(Reading database ... 10%\\r(Reading database ... 15%\\r(Reading database ... 20%\\r(Reading database ... 25%\\r(Reading database ... 30%\\r(Reading database ... 35%\\r(Reading database ... 40%\\r(Reading database ... 45%\\r(Reading database ... 50%\\r(Reading database ... 55%\\r(Reading database ... 60%\\r(Reading database ... 65%\\r(Reading database ... 70%\\r(Reading database ... 75%\\r(Reading database ... 80%\\r(Reading database ... 85%\\r(Reading database ... 90%\\r(Reading database ... 95%\\r(Reading database ... 100%\\r(Reading database ... 63577 files and directories currently installed.)\\r\\nPreparing to unpack .../iperf_2.0.13+dfsg1-1build1_amd64.deb ...\\r\\nUnpacking iperf (2.0.13+dfsg1-1build1) ...\\r\\nSelecting previously unselected package libsctp1:amd64.\\r\\nPreparing to unpack .../libsctp1_1.0.18+dfsg-1_amd64.deb ...\\r\\nUnpacking libsctp1:amd64 (1.0.18+dfsg-1) ...\\r\\nSelecting previously unselected package libiperf0:amd64.\\r\\nPreparing to unpack .../libiperf0_3.7-3_amd64.deb ...\\r\\nUnpacking libiperf0:amd64 (3.7-3) ...\\r\\nSelecting previously unselected package iperf3.\\r\\nPreparing to unpack .../iperf3_3.7-3_amd64.deb ...\\r\\nUnpacking iperf3 (3.7-3) ...\\r\\nSetting up iperf (2.0.13+dfsg1-1build1) ...\\r\\nSetting up libsctp1:amd64 (1.0.18+dfsg-1) ...\\r\\nSetting up libiperf0:amd64 (3.7-3) ...\\r\\nSetting up iperf3 (3.7-3) ...\\r\\nProcessing triggers for man-db (2.9.1-1) ...\\r\\nProcessing triggers for libc-bin (2.31-0ubuntu9.2) ...\\r\\n\", '\\nWARNING: apt does not have a stable CLI interface. Use with caution in scripts.\\n\\n\\nWARNING: apt does not have a stable CLI interface. Use with caution in scripts.\\n\\ndebconf: unable to initialize frontend: Dialog\\ndebconf: (Dialog frontend will not work on a dumb terminal, an emacs shell buffer, or without a controlling terminal.)\\ndebconf: falling back to frontend: Readline\\ndebconf: unable to initialize frontend: Readline\\ndebconf: (This frontend requires a controlling tty.)\\ndebconf: falling back to frontend: Teletype\\ndpkg-preconfigure: unable to re-open stdin: \\n')\n"
     ]
    }
   ],
   "source": [
    "print(node2.execute('sudo apt update && sudo apt install -y iperf iperf3'))"
   ]
  },
  {
   "cell_type": "markdown",
   "metadata": {},
   "source": [
    "---"
   ]
  },
  {
   "cell_type": "code",
   "execution_count": 207,
   "metadata": {},
   "outputs": [
    {
     "name": "stdout",
     "output_type": "stream",
     "text": [
      "-rw-rw-r--   1 1000     1000          974 24 Jun 16:52 ?\n"
     ]
    }
   ],
   "source": [
    "print(node1.upload_file('command1.sh', 'command1.sh'))"
   ]
  },
  {
   "cell_type": "code",
   "execution_count": 208,
   "metadata": {},
   "outputs": [
    {
     "name": "stdout",
     "output_type": "stream",
     "text": [
      "-rw-rw-r--   1 1000     1000          974 24 Jun 16:52 ?\n"
     ]
    }
   ],
   "source": [
    "print(node2.upload_file('command1.sh', 'command1.sh'))"
   ]
  },
  {
   "cell_type": "code",
   "execution_count": 209,
   "metadata": {},
   "outputs": [
    {
     "name": "stdout",
     "output_type": "stream",
     "text": [
      "('', '')\n"
     ]
    }
   ],
   "source": [
    "print(node1.execute('chmod +x command1.sh'))"
   ]
  },
  {
   "cell_type": "code",
   "execution_count": 210,
   "metadata": {},
   "outputs": [
    {
     "name": "stdout",
     "output_type": "stream",
     "text": [
      "('', '')\n"
     ]
    }
   ],
   "source": [
    "print(node2.execute('chmod +x command1.sh'))"
   ]
  },
  {
   "cell_type": "code",
   "execution_count": 211,
   "metadata": {},
   "outputs": [
    {
     "name": "stdout",
     "output_type": "stream",
     "text": [
      "('net.ipv4.tcp_congestion_control = cubic\\nnet.core.rmem_max = 2147483647\\nnet.core.wmem_max = 2147483647\\n', 'sysctl: setting key \"net.ipv4.tcp_allowed_congestion_control\": No such file or directory\\nsysctl: setting key \"net.ipv4.tcp_available_congestion_control\"\\n')\n"
     ]
    }
   ],
   "source": [
    "print(node1.execute('./command1.sh'))"
   ]
  },
  {
   "cell_type": "code",
   "execution_count": 212,
   "metadata": {},
   "outputs": [
    {
     "name": "stdout",
     "output_type": "stream",
     "text": [
      "('net.ipv4.tcp_congestion_control = cubic\\nnet.core.rmem_max = 2147483647\\nnet.core.wmem_max = 2147483647\\n', 'sysctl: setting key \"net.ipv4.tcp_allowed_congestion_control\": No such file or directory\\nsysctl: setting key \"net.ipv4.tcp_available_congestion_control\"\\n')\n"
     ]
    }
   ],
   "source": [
    "print(node2.execute('./command1.sh'))"
   ]
  },
  {
   "cell_type": "markdown",
   "metadata": {},
   "source": [
    "---"
   ]
  },
  {
   "cell_type": "code",
   "execution_count": 192,
   "metadata": {},
   "outputs": [
    {
     "name": "stdout",
     "output_type": "stream",
     "text": [
      "('', '')\n"
     ]
    }
   ],
   "source": [
    "print(node1.execute('iperf3 -s > /dev/null 2>&1 &'))"
   ]
  },
  {
   "cell_type": "code",
   "execution_count": 219,
   "metadata": {},
   "outputs": [
    {
     "data": {
      "application/vnd.jupyter.widget-view+json": {
       "model_id": "044efbdb384940a9b710593e2143919b",
       "version_major": 2,
       "version_minor": 0
      },
      "text/plain": [
       "VBox(children=(IntSlider(value=1, max=64, min=1), IntSlider(value=32, max=1024, min=32, step=32), RadioButtons…"
      ]
     },
     "metadata": {},
     "output_type": "display_data"
    },
    {
     "data": {
      "application/vnd.jupyter.widget-view+json": {
       "model_id": "1261983794184e30965b84a76fab6f78",
       "version_major": 2,
       "version_minor": 0
      },
      "text/plain": [
       "Output()"
      ]
     },
     "metadata": {},
     "output_type": "display_data"
    }
   ],
   "source": [
    "import ipywidgets, IPython\n",
    "\n",
    "import matplotlib.pyplot as plt\n",
    "\n",
    "p_widget = ipywidgets.IntSlider(min=1, max=64, step=1)\n",
    "w_widget = ipywidgets.IntSlider(min=32, max=1024, step=32)\n",
    "r_widget = ipywidgets.Checkbox(description=\"reverse\")\n",
    "u_widget = ipywidgets.RadioButtons(options=['k', 'M'], description='unit for \"-w\"')\n",
    "button = ipywidgets.Button(description=\"Run and plot!\")\n",
    "reset_graph = ipywidgets.Button(description=\"Reset Graph!\")\n",
    "ui = ipywidgets.VBox([p_widget, w_widget, u_widget, r_widget, button, reset_graph])\n",
    "\n",
    "IPython.display.display(ui)\n",
    "\n",
    "output = ipywidgets.Output()\n",
    "\n",
    "\n",
    "xdata_for = []\n",
    "ydata_for = []\n",
    "zdata_for = []\n",
    "xdata_back = []\n",
    "ydata_back = []\n",
    "zdata_back = []\n",
    "\n",
    "xdata_for_reverse = []\n",
    "ydata_for_reverse = []\n",
    "zdata_for_reverse = []\n",
    "xdata_back_reverse = []\n",
    "ydata_back_reverse = []\n",
    "zdata_back_reverse = []\n",
    "\n",
    "@output.capture()\n",
    "def on_reset_clicked(b):\n",
    "#     print(xdata_for)\n",
    "    xdata_for.clear()\n",
    "    ydata_for.clear()\n",
    "    zdata_for.clear()\n",
    "    xdata_back.clear()\n",
    "    ydata_back.clear()\n",
    "    zdata_back.clear()\n",
    "\n",
    "    xdata_for_reverse.clear()\n",
    "    ydata_for_reverse.clear()\n",
    "    zdata_for_reverse.clear()\n",
    "    xdata_back_reverse.clear()\n",
    "    ydata_back_reverse.clear()\n",
    "    zdata_back_reverse.clear()\n",
    "    \n",
    "    plt.figure(figsize=(15, 15))\n",
    "    \n",
    "    ax = plt.axes(projection='3d')\n",
    "    \n",
    "    ax.axes.set_xlim3d(left=0, right=max([10, max(xdata_for, default=0), max(xdata_back, default=0), max(xdata_for_reverse, default=0), max(xdata_back_reverse, default=0)]))\n",
    "    ax.axes.set_ylim3d(bottom=0, top=max([1, max(ydata_for, default=0), max(ydata_back, default=0), max(ydata_for_reverse, default=0), max(ydata_back_reverse, default=0)]))\n",
    "    ax.axes.set_zlim3d(bottom=0, top=max([10, max(zdata_for, default=0), max(zdata_back, default=0), max(zdata_for_reverse, default=0), max(zdata_back_reverse, default=0)]))\n",
    "    \n",
    "    ax.plot3D(xdata_for_reverse, ydata_for_reverse, zdata_for_reverse, marker='P', markersize=12)\n",
    "    ax.plot3D(xdata_back_reverse, ydata_back_reverse, zdata_back_reverse, marker='+', markersize=12)\n",
    "    ax.plot3D(xdata_for, ydata_for, zdata_for, marker='x', markersize=12)\n",
    "    ax.plot3D(xdata_back, ydata_back, zdata_back, marker='X', markersize=12)\n",
    "    \n",
    "    IPython.display.clear_output(wait=True)\n",
    "    plt.show()\n",
    "\n",
    "@output.capture()\n",
    "def on_button_clicked(b):\n",
    "    \n",
    "    p_widget.disabled = True\n",
    "    w_widget.disabled = True\n",
    "    r_widget.disabled = True\n",
    "    button.disabled = True\n",
    "    reset_graph.disabled = True\n",
    "\n",
    "    plt.figure(figsize=(15, 15))\n",
    "    \n",
    "    ax = plt.axes(projection='3d')\n",
    "    \n",
    "    reverse = ''\n",
    "    if(ui.children[2].value):\n",
    "        reverse = ' -R'\n",
    "    \n",
    "    command_string = 'iperf3 -c ' + str(target_ip) + ' -P ' + str(ui.children[0].value) + ' -w ' + str(ui.children[1].value) + ui.children[2].value + reverse\n",
    "    \n",
    "    iperf_string, err = node2.execute(command_string)\n",
    "    \n",
    "    IPython.display.clear_output(wait=True)\n",
    "    \n",
    "    p_widget.disabled = False\n",
    "    w_widget.disabled = False\n",
    "    r_widget.disabled = False\n",
    "    button.disabled = False\n",
    "    reset_graph.disabled = False\n",
    "\n",
    "    print(command_string)\n",
    "    \n",
    "    if(err != ''):\n",
    "        print(err)\n",
    "    else:\n",
    "        iperf_strings = iperf_string.splitlines()\n",
    "        if(len(iperf_strings) > 3):\n",
    "            output1 = iperf_string.splitlines()[-4]\n",
    "            index = output1.index('bits/sec') - 6\n",
    "            unit = output1[output1.index('bits/sec') - 1: output1.index('bits/sec')]\n",
    "            output1 = float(output1[index:index+4])\n",
    "            if(unit == 'M'):\n",
    "                output1 /= 1000\n",
    "            print(\"sender: \" + str(output1))\n",
    "    #         output1 = output1[:1]\n",
    "            output2 = iperf_string.splitlines()[-3]\n",
    "            index = output2.index('bits/sec') - 6\n",
    "            unit = output2[output2.index('bits/sec') - 1: output2.index('bits/sec')]\n",
    "            output2 = float(output2[index:index+4])\n",
    "            if(unit == 'M'):\n",
    "                output2 /= 1000\n",
    "            print(\"receiver: \" + str(output2))\n",
    "    #         output2 = output2[:1]\n",
    "\n",
    "        y_value = ui.children[1].value\n",
    "        if(ui.children[2].value == 'k'):\n",
    "            y_value /= 1000\n",
    "        if(reverse):\n",
    "            xdata_for_reverse.append(ui.children[0].value)\n",
    "            ydata_for_reverse.append(y_value)\n",
    "            zdata_for_reverse.append(output1)\n",
    "            xdata_back_reverse.append(ui.children[0].value)\n",
    "            ydata_back_reverse.append(y_value)\n",
    "            zdata_back_reverse.append(output2)\n",
    "        else:\n",
    "            xdata_for.append(ui.children[0].value)\n",
    "            ydata_for.append(y_value)\n",
    "            zdata_for.append(output1)\n",
    "            xdata_back.append(ui.children[0].value)\n",
    "            ydata_back.append(y_value)\n",
    "            zdata_back.append(output2)\n",
    "        \n",
    "    ax.axes.set_xlim3d(left=0, right=max([10, max(xdata_for, default=0), max(xdata_back, default=0), max(xdata_for_reverse, default=0), max(xdata_back_reverse, default=0)]))\n",
    "    ax.axes.set_ylim3d(bottom=0, top=max([1, max(ydata_for, default=0), max(ydata_back, default=0), max(ydata_for_reverse, default=0), max(ydata_back_reverse, default=0)]))\n",
    "    ax.axes.set_zlim3d(bottom=0, top=max([10, max(zdata_for, default=0), max(zdata_back, default=0), max(zdata_for_reverse, default=0), max(zdata_back_reverse, default=0)]))\n",
    "        \n",
    "    ax.plot3D(xdata_for_reverse, ydata_for_reverse, zdata_for_reverse, marker='P', markersize=12)\n",
    "    ax.plot3D(xdata_back_reverse, ydata_back_reverse, zdata_back_reverse, marker='+', markersize=12)\n",
    "    ax.plot3D(xdata_for, ydata_for, zdata_for, marker='x', markersize=12)\n",
    "    ax.plot3D(xdata_back, ydata_back, zdata_back, marker='X', markersize=12)\n",
    "    \n",
    "    \n",
    "    plt.show()\n",
    "\n",
    "button.on_click(on_button_clicked)\n",
    "reset_graph.on_click(on_reset_clicked)\n",
    "display(output)"
   ]
  },
  {
   "cell_type": "markdown",
   "metadata": {},
   "source": [
    "## Step 7: Delete the Slice\n",
    "\n",
    "Please delete your slice when you are done with your experiment."
   ]
  },
  {
   "cell_type": "code",
   "execution_count": 152,
   "metadata": {},
   "outputs": [],
   "source": [
    "try:\n",
    "    slice = fablib.get_slice(name=slice_name)\n",
    "    slice.delete()\n",
    "except Exception as e:\n",
    "    print(f\"Exception: {e}\")"
   ]
  },
  {
   "cell_type": "code",
   "execution_count": null,
   "metadata": {},
   "outputs": [],
   "source": []
  }
 ],
 "metadata": {
  "kernelspec": {
   "display_name": "Python 3 (ipykernel)",
   "language": "python",
   "name": "python3"
  },
  "language_info": {
   "codemirror_mode": {
    "name": "ipython",
    "version": 3
   },
   "file_extension": ".py",
   "mimetype": "text/x-python",
   "name": "python",
   "nbconvert_exporter": "python",
   "pygments_lexer": "ipython3",
   "version": "3.9.2"
  }
 },
 "nbformat": 4,
 "nbformat_minor": 4
}

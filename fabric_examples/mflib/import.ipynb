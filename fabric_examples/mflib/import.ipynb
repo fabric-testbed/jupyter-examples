{
 "cells": [
  {
   "cell_type": "markdown",
   "id": "db7900bf-ab7c-4565-a279-15c3792d9df4",
   "metadata": {
    "tags": []
   },
   "source": [
    "# Import elk snapshot"
   ]
  },
  {
   "cell_type": "markdown",
   "id": "4de6c2ad-b20f-4f35-aa9f-0131260b1518",
   "metadata": {
    "tags": []
   },
   "source": [
    "## Import dependencies"
   ]
  },
  {
   "cell_type": "code",
   "execution_count": null,
   "id": "da7f0024-ca29-458b-b16e-49349c62fd37",
   "metadata": {},
   "outputs": [],
   "source": [
    "import os\n",
    "import json\n",
    "import traceback\n",
    "from fabrictestbed_extensions.fablib.fablib import FablibManager as fablib_manager\n",
    "try:\n",
    "    fablib = fablib_manager()                \n",
    "    #fablib.show_config()\n",
    "except Exception as e:\n",
    "    print(f\"Exception: {e}\")\n",
    "import mflib\n",
    "print(f\"MFLib version  {mflib.__version__} \" )\n",
    "from mflib.mflib import MFLib"
   ]
  },
  {
   "cell_type": "markdown",
   "id": "38d1b5de-ba37-46fb-b925-5891a749fc55",
   "metadata": {},
   "source": [
    "## Set slice info and get slice"
   ]
  },
  {
   "cell_type": "code",
   "execution_count": null,
   "id": "6b6d4096-983a-4505-af00-611d09612543",
   "metadata": {},
   "outputs": [],
   "source": [
    "# Change your slice name and node name\n",
    "slice_name = \"MyMonitoredSlice3\"\n",
    "node1_name = 'Node1'\n",
    "node2_name = 'Node2'\n",
    "node3_name = 'Node3'"
   ]
  },
  {
   "cell_type": "code",
   "execution_count": null,
   "id": "8da7b9d1-0296-4bf1-8b0a-cbc1788a9642",
   "metadata": {},
   "outputs": [],
   "source": [
    "mf = MFLib(slice_name)"
   ]
  },
  {
   "cell_type": "code",
   "execution_count": null,
   "id": "c1bf2f9b-fcd8-44ca-a313-358124160b76",
   "metadata": {},
   "outputs": [],
   "source": [
    "meas_node_name = mf.measurement_node_name\n",
    "try:\n",
    "    slice = fablib.get_slice(name=slice_name)\n",
    "except Exception as e:\n",
    "    print(f\"Fail: {e}\")\n",
    "print (slice)\n",
    "\n",
    "try:\n",
    "    meas_node = slice.get_node(name=meas_node_name)\n",
    "except Exception as e:\n",
    "    print(f\"Fail: {e}\")   \n",
    "#print (meas_node)"
   ]
  },
  {
   "cell_type": "markdown",
   "id": "245f0677-f425-4b64-81e7-0e1aa8acc98c",
   "metadata": {},
   "source": [
    "### Get a list of repositories"
   ]
  },
  {
   "cell_type": "code",
   "execution_count": null,
   "id": "4aa16ae6-557a-4d79-92aa-5921acae1de2",
   "metadata": {},
   "outputs": [],
   "source": [
    "cmd = f\"curl -X GET 'http://localhost:9200/_snapshot/_all'\"\n",
    "stdout, stderr= meas_node.execute(cmd)"
   ]
  },
  {
   "cell_type": "markdown",
   "id": "164f78a6-8151-4eed-999b-c68896070618",
   "metadata": {},
   "source": [
    "### upload snapshot tar file onto meas node"
   ]
  },
  {
   "cell_type": "code",
   "execution_count": null,
   "id": "48977185-24a0-4f1c-85de-b65d204b0a6f",
   "metadata": {},
   "outputs": [],
   "source": [
    "# EDIT THIS - choose a list of index files from your local storage to import\n",
    "local_files = [\"./snapshots/snapshot_test.tar\"]\n",
    "\n",
    "output = mf.upload_service_files(\"elk\", local_files)"
   ]
  },
  {
   "cell_type": "markdown",
   "id": "a5ee8af9-2f7c-4ea8-8106-a08ddfed526d",
   "metadata": {
    "tags": []
   },
   "source": [
    "### Change directory permission"
   ]
  },
  {
   "cell_type": "code",
   "execution_count": null,
   "id": "a3710cc6-3dd9-477c-b617-c26bf0cbb5a8",
   "metadata": {},
   "outputs": [],
   "source": [
    "meas_node_name = mf.measurement_node_name\n",
    "import importlib\n",
    "from mflib.mf_data_transfer import mf_data_export\n",
    "mde = mf_data_export(slice_name=slice_name, meas_node_name=meas_node_name)"
   ]
  },
  {
   "cell_type": "code",
   "execution_count": null,
   "id": "bcc5c9fb-3d73-4c02-a86e-0a6392dafadd",
   "metadata": {},
   "outputs": [],
   "source": [
    "# This will change the permission of /var/lib/docker/volumes/elk_snapshotbackup/_data for elk to write snapshot to\n",
    "mde.change_elk_dir_permission(node=mf.measurement_node_name)"
   ]
  },
  {
   "cell_type": "code",
   "execution_count": null,
   "id": "a57c3e60-822f-4044-8827-09c30339f596",
   "metadata": {},
   "outputs": [],
   "source": [
    "mde.create_snapshot_repo(repo_name=\"backup_repository\")"
   ]
  },
  {
   "cell_type": "code",
   "execution_count": null,
   "id": "aed6f547-5bc4-49c7-98cb-1355c90f3eef",
   "metadata": {},
   "outputs": [],
   "source": [
    "repo_name = \"backup_repository\"\n",
    "default_dir = \"/usr/share/elasticsearch/backup\"\n",
    "cmd = f'curl -X PUT \"http://localhost:9200/_snapshot/{repo_name}?pretty\" -H \"Content-Type: application/json\" -d \\'{{ \"type\": \"fs\", \"settings\": {{ \"location\": \"{default_dir}\" }} }}\\''\n",
    "stdout, stderr=meas_node.execute(cmd)"
   ]
  },
  {
   "cell_type": "markdown",
   "id": "2cff9976-e630-429a-99cb-f998217151b1",
   "metadata": {},
   "source": [
    "### Register your snapshot into the new repository"
   ]
  },
  {
   "cell_type": "code",
   "execution_count": null,
   "id": "1f4e7060-d998-44fb-9e0a-252374f33c8f",
   "metadata": {},
   "outputs": [],
   "source": [
    "# Need to specify indice names to restore, find in above cell and change below\n",
    "indice_str= f'\"indices\": \"filebeat-7.13.2-2023.05.29-000001,metricbeat-7.13.2-2023.05.29-000001,packetbeat-7.13.2-2023.05.29-000001\",'\n",
    "repo_name=\"backup_repository\"\n",
    "snapshot_name = \"snapshot_test\"\n",
    "cmd = f'curl -X POST \"http://localhost:9200/_snapshot/{repo_name}/{snapshot_name}/_restore?pretty\" -H \"Content-Type: application/json\" -d \\'{{{indice_str} \"rename_pattern\": \"(.+)\", \"rename_replacement\": \"restored-$1\", \"include_aliases\": false}}\\''\n",
    "#print (cmd)\n",
    "stdout, stderr= meas_node.execute(cmd)"
   ]
  },
  {
   "cell_type": "markdown",
   "id": "04f500ca-9eff-47aa-8cc4-fe0fcc29a058",
   "metadata": {},
   "source": [
    "### Create a snapshot"
   ]
  },
  {
   "cell_type": "code",
   "execution_count": null,
   "id": "e104daf9-6eff-4f53-b818-b0d821d18c77",
   "metadata": {},
   "outputs": [],
   "source": [
    "snapshot_name = \"snapshot_test\"\n",
    "json_str = '\"ignore_unavailable\": true, \"include_global_state\": false'\n",
    "cmd = f'curl -X PUT \"http://localhost:9200/_snapshot/{repo_name}/{snapshot_name}?wait_for_completion=true&pretty\" -H \"Content-Type: application/json\" -d \\'{json_str}\\''\n",
    "stdout, stderr= meas_node.execute(cmd)"
   ]
  },
  {
   "cell_type": "markdown",
   "id": "2a08cd66-04f8-49ea-8836-08c9e6423862",
   "metadata": {},
   "source": [
    "### Delete a repository"
   ]
  },
  {
   "cell_type": "code",
   "execution_count": null,
   "id": "c8317fde-1f7e-4819-b84b-a55a8080c3f1",
   "metadata": {},
   "outputs": [],
   "source": [
    "repo_name=\"backup_repository\"\n",
    "cmd = f\"curl -X DELETE 'http://localhost:9200/_snapshot/{repo_name}'\"\n",
    "stdout, stderr= meas_node.execute(cmd)"
   ]
  },
  {
   "cell_type": "markdown",
   "id": "be32f552-d717-41dc-8646-366809c98781",
   "metadata": {},
   "source": [
    "### View a repository"
   ]
  },
  {
   "cell_type": "code",
   "execution_count": null,
   "id": "259664ef-2b11-418e-907c-e56c5b7fad37",
   "metadata": {},
   "outputs": [],
   "source": [
    "repo_name=\"backup_repository\"\n",
    "cmd = f\"curl -X GET 'http://localhost:9200/_cat/snapshots/{repo_name}?v'\"\n",
    "stdout, stderr= meas_node.execute(cmd)"
   ]
  },
  {
   "cell_type": "markdown",
   "id": "24c4ba4d-364e-476e-a5d1-e2809c5c990f",
   "metadata": {},
   "source": [
    "### View a snapshots info"
   ]
  },
  {
   "cell_type": "markdown",
   "id": "c491887d-a8b5-4be4-8357-c2f87e0d80b9",
   "metadata": {},
   "source": [
    "### Check the snapshot"
   ]
  },
  {
   "cell_type": "code",
   "execution_count": null,
   "id": "551e0272-5c08-4104-87ac-d0290fc2fe89",
   "metadata": {},
   "outputs": [],
   "source": [
    "repo_name=\"backup_repository\"\n",
    "snapshot_name=\"elk_backup_2023-06-02_18:23:33\"\n",
    "cmd = f\"curl -X GET 'http://localhost:9200/_snapshot/{repo_name}/{snapshot_name}?v'\"\n",
    "stdout, stderr= meas_node.execute(cmd)\n",
    "\n"
   ]
  },
  {
   "cell_type": "code",
   "execution_count": null,
   "id": "5dcefbda-a886-4117-be98-2c0b4e531419",
   "metadata": {},
   "outputs": [],
   "source": [
    "snapshot_name=\"snapshot_test\"\n",
    "cmd = f'curl -X GET \"http://localhost:9200/_snapshot/{repo_name}/{snapshot_name}?pretty\"'\n",
    "stdout, stderr= meas_node.execute(cmd)"
   ]
  }
 ],
 "metadata": {
  "kernelspec": {
   "display_name": "Python 3 (ipykernel)",
   "language": "python",
   "name": "python3"
  },
  "language_info": {
   "codemirror_mode": {
    "name": "ipython",
    "version": 3
   },
   "file_extension": ".py",
   "mimetype": "text/x-python",
   "name": "python",
   "nbconvert_exporter": "python",
   "pygments_lexer": "ipython3",
   "version": "3.9.7"
  }
 },
 "nbformat": 4,
 "nbformat_minor": 5
}

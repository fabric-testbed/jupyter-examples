{
 "cells": [
  {
   "attachments": {},
   "cell_type": "markdown",
   "metadata": {},
   "source": [
    "# Install MFLib via Source\n",
    "  \n",
    "If you need to get the a specific version or want to be able to view/edit the source code use the [fabric-testbed/mflib GitHub repository](https://github.com/fabric-testbed/mflib). Otherwise it is recommended to use the simpler [PyPi PIP install](./mflib_install_via_pip.ipynb)."
   ]
  },
  {
   "attachments": {},
   "cell_type": "markdown",
   "metadata": {},
   "source": [
    "### Set Branch and Cloned Repo Location\n",
    "Clone the mflib repo into the given directory and switch to the needed branch."
   ]
  },
  {
   "cell_type": "code",
   "execution_count": null,
   "metadata": {},
   "outputs": [],
   "source": [
    "# Which Branch to use\n",
    "mflib_branch = \"main\"\n",
    "# Directory where git repo clone is located\n",
    "mflib_repo_dir = \"/home/fabric/work/mflib_repo\""
   ]
  },
  {
   "cell_type": "code",
   "execution_count": null,
   "metadata": {},
   "outputs": [],
   "source": [
    "import os\n",
    "from git import Repo\n",
    "\n",
    "if not os.path.exists(mflib_repo_dir):\n",
    "    try: \n",
    "        print(f\"Cloning mflib to {mflib_repo_dir}\")\n",
    "        Repo.clone_from(\"https://github.com/fabric-testbed/mflib.git\", mflib_repo_dir)\n",
    "    except Exception as e:\n",
    "        if \"already exists and is not an empty directory\" in f\"{e}\":\n",
    "            print (\"Repo is already cloned or non-empty directory already exists\")\n",
    "else:\n",
    "    print(f\"Clone repo directory already exists at {mflib_repo_dir}\")\n",
    "print(\"Done\")"
   ]
  },
  {
   "attachments": {},
   "cell_type": "markdown",
   "metadata": {},
   "source": [
    "### Update Repo & Install\n",
    "If the repo already has been cloned we can switch to the needed branch and pull to ensure it is up to date.\n",
    "Then install using pip."
   ]
  },
  {
   "cell_type": "code",
   "execution_count": null,
   "metadata": {},
   "outputs": [],
   "source": [
    "%%bash -s \"$mflib_repo_dir\" \"$mflib_branch\" \n",
    "# change to dir where repo will be cloned\n",
    "cd $1\n",
    "pwd\n",
    "\n",
    "echo \"Checking out $2\"\n",
    "# checkout to the chosen branch\n",
    "git switch $2\n",
    "\n",
    "# optionally pull if needed\n",
    "git pull\n",
    "\n",
    "echo \"******************Branch*********************\"\n",
    "git branch --show-current\n",
    "echo \"******************Install********************\"\n",
    "\n",
    "# install mflib from repo\n",
    "pip install --user ."
   ]
  },
  {
   "attachments": {},
   "cell_type": "markdown",
   "metadata": {},
   "source": [
    "Now run the [mflib_version_check](./mflib_version_check.ipynb) notebook to ensure the install was sucessfull."
   ]
  }
 ],
 "metadata": {
  "kernelspec": {
   "display_name": "Python 3.8.10 64-bit",
   "language": "python",
   "name": "python3"
  },
  "language_info": {
   "name": "python",
   "version": "3.8.10 (default, Nov 14 2022, 12:59:47) \n[GCC 9.4.0]"
  },
  "orig_nbformat": 4,
  "vscode": {
   "interpreter": {
    "hash": "916dbcbb3f70747c44a77c7bcd40155683ae19c65e1c03b4aa3499c5328201f1"
   }
  }
 },
 "nbformat": 4,
 "nbformat_minor": 2
}

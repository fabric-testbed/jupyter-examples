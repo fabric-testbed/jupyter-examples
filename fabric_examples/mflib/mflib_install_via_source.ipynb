{
 "cells": [
  {
   "cell_type": "markdown",
   "metadata": {
    "tags": []
   },
   "source": [
    "# Install MFLib via Source\n",
    "  \n",
    "If you need to get the a specific version or want to be able to view/edit the source code use the [fabric-testbed/mflib GitHub repository](https://github.com/fabric-testbed/mflib). Otherwise it is recommended to use the simpler [PyPi PIP install](./mflib_install_via_pip.ipynb)."
   ]
  },
  {
   "cell_type": "markdown",
   "metadata": {},
   "source": [
    "### Set Branch and Cloned Repo Location\n",
    "Clone the mflib repo into the given directory and switch to the needed branch."
   ]
  },
  {
   "cell_type": "code",
   "execution_count": 1,
   "metadata": {},
   "outputs": [],
   "source": [
    "# Which Branch to use\n",
    "mflib_branch = \"data_transfer\"\n",
    "# Directory where git repo clone is located\n",
    "mflib_repo_dir = \"/home/fabric/work/mflib_repo\""
   ]
  },
  {
   "cell_type": "code",
   "execution_count": 2,
   "metadata": {},
   "outputs": [
    {
     "name": "stdout",
     "output_type": "stream",
     "text": [
      "Clone repo directory already exists at /home/fabric/work/mflib_repo\n",
      "Done\n"
     ]
    }
   ],
   "source": [
    "import os\n",
    "from git import Repo\n",
    "\n",
    "if not os.path.exists(mflib_repo_dir):\n",
    "    try: \n",
    "        print(f\"Cloning mflib to {mflib_repo_dir}\")\n",
    "        Repo.clone_from(\"https://github.com/fabric-testbed/mflib.git\", mflib_repo_dir)\n",
    "    except Exception as e:\n",
    "        if \"already exists and is not an empty directory\" in f\"{e}\":\n",
    "            print (\"Repo is already cloned or non-empty directory already exists\")\n",
    "else:\n",
    "    print(f\"Clone repo directory already exists at {mflib_repo_dir}\")\n",
    "print(\"Done\")"
   ]
  },
  {
   "cell_type": "markdown",
   "metadata": {},
   "source": [
    "### Update Repo & Install\n",
    "If the repo already has been cloned we can switch to the needed branch and pull to ensure it is up to date.\n",
    "Then install using pip."
   ]
  },
  {
   "cell_type": "code",
   "execution_count": 3,
   "metadata": {},
   "outputs": [
    {
     "name": "stdout",
     "output_type": "stream",
     "text": [
      "/home/fabric/work/mflib_repo\n",
      "Checking out data_transfer\n"
     ]
    },
    {
     "name": "stderr",
     "output_type": "stream",
     "text": [
      "Already on 'data_transfer'\n"
     ]
    },
    {
     "name": "stdout",
     "output_type": "stream",
     "text": [
      "Your branch is up to date with 'origin/data_transfer'.\n",
      "Already up to date.\n",
      "******************Branch*********************\n",
      "data_transfer\n",
      "******************Install********************\n",
      "Processing /home/fabric/work/mflib_repo\n",
      "  Installing build dependencies: started\n",
      "  Installing build dependencies: finished with status 'done'\n",
      "  Getting requirements to build wheel: started\n",
      "  Getting requirements to build wheel: finished with status 'done'\n",
      "  Preparing metadata (pyproject.toml): started\n",
      "  Preparing metadata (pyproject.toml): finished with status 'done'\n",
      "Building wheels for collected packages: fabrictestbed-mflib\n",
      "  Building wheel for fabrictestbed-mflib (pyproject.toml): started\n",
      "  Building wheel for fabrictestbed-mflib (pyproject.toml): finished with status 'done'\n",
      "  Created wheel for fabrictestbed-mflib: filename=fabrictestbed_mflib-1.0.0-py3-none-any.whl size=45827 sha256=d118a1bb70b6af96013f78cf7c4b261957db4362e637a5b7a90ef71f4209ccba\n",
      "  Stored in directory: /tmp/pip-ephem-wheel-cache-bojyu1qj/wheels/3d/b5/58/d2ec7559ec7adde100b51cd1a525df92d8504e656418b15b3a\n",
      "Successfully built fabrictestbed-mflib\n",
      "Installing collected packages: fabrictestbed-mflib\n",
      "  Attempting uninstall: fabrictestbed-mflib\n",
      "    Found existing installation: fabrictestbed-mflib 1.0.0\n",
      "    Uninstalling fabrictestbed-mflib-1.0.0:\n",
      "      Successfully uninstalled fabrictestbed-mflib-1.0.0\n",
      "Successfully installed fabrictestbed-mflib-1.0.0\n"
     ]
    }
   ],
   "source": [
    "%%bash -s \"$mflib_repo_dir\" \"$mflib_branch\" \n",
    "# change to dir where repo will be cloned\n",
    "cd $1\n",
    "pwd\n",
    "\n",
    "echo \"Checking out $2\"\n",
    "# checkout to the chosen branch\n",
    "git switch $2\n",
    "\n",
    "# optionally pull if needed\n",
    "git pull\n",
    "\n",
    "echo \"******************Branch*********************\"\n",
    "git branch --show-current\n",
    "echo \"******************Install********************\"\n",
    "\n",
    "# install mflib from repo\n",
    "pip install --user ."
   ]
  },
  {
   "cell_type": "markdown",
   "metadata": {},
   "source": [
    "Now run the [mflib_version_check](./mflib_version_check.ipynb) notebook to ensure the install was sucessfull."
   ]
  }
 ],
 "metadata": {
  "kernelspec": {
   "display_name": "Python 3 (ipykernel)",
   "language": "python",
   "name": "python3"
  },
  "language_info": {
   "codemirror_mode": {
    "name": "ipython",
    "version": 3
   },
   "file_extension": ".py",
   "mimetype": "text/x-python",
   "name": "python",
   "nbconvert_exporter": "python",
   "pygments_lexer": "ipython3",
   "version": "3.9.7"
  },
  "vscode": {
   "interpreter": {
    "hash": "916dbcbb3f70747c44a77c7bcd40155683ae19c65e1c03b4aa3499c5328201f1"
   }
  }
 },
 "nbformat": 4,
 "nbformat_minor": 4
}

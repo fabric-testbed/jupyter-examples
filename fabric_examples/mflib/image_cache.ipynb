{
 "cells": [
  {
   "cell_type": "markdown",
   "metadata": {
    "tags": []
   },
   "source": [
    "# Image Caching Service\n",
    "\n",
    "Creates vm's with a desired image across all nodes on all sites. Once the image is cached, the compute node will not need to download it next time it is used, greatly reducing boot times.\n",
    "\n",
    "More info - https://docs.openstack.org/nova/ussuri/admin/image-caching.html\n",
    "\n",
    "## Step 1:  Configure the Environment\n",
    "\n",
    "Before running this notebook, you will need to configure your environment using the [Configure Environment](../../fablib_api/configure_environment/configure_environment.ipynb) notebook. Please stop here, open and run that notebook, then return to this notebook.\n",
    "\n",
    "**This only needs to be done once.**"
   ]
  },
  {
   "cell_type": "markdown",
   "metadata": {
    "tags": []
   },
   "source": [
    "## Step 2: Import the FABlib Library"
   ]
  },
  {
   "cell_type": "code",
   "execution_count": null,
   "metadata": {
    "tags": []
   },
   "outputs": [],
   "source": [
    "from fabrictestbed_extensions.fablib.fablib import FablibManager as fablib_manager\n",
    "\n",
    "fablib = fablib_manager()\n",
    "                     \n",
    "fablib.show_config()"
   ]
  },
  {
   "cell_type": "markdown",
   "metadata": {},
   "source": [
    "## Step 3: Create a dictionary containing all sites and their host counts"
   ]
  },
  {
   "cell_type": "code",
   "execution_count": null,
   "metadata": {},
   "outputs": [],
   "source": [
    "# Get a pandas.io.formats.style.Styler object of all sites and their info\n",
    "try:\n",
    "    site_list = fablib.list_sites(quiet=True)\n",
    "except Exception as e:\n",
    "    print(f\"Exception: {e}\")"
   ]
  },
  {
   "cell_type": "code",
   "execution_count": null,
   "metadata": {},
   "outputs": [],
   "source": [
    "# Gather the list of sites and their respective host counts\n",
    "site_name_list = site_list.data[\"Name\"].tolist()\n",
    "site_host_counts = site_list.data[\"Hosts\"].tolist()\n",
    "\n",
    "# Create dictionary of {site_name: host_count} using zip function\n",
    "host_site_map = dict(zip(site_name_list, site_host_counts))\n",
    "\n",
    "# Remove sites with 0 workers\n",
    "host_site_map = {k: v for k, v in host_site_map.items() if v != 0}\n",
    "\n",
    "# Print the dictionary\n",
    "print(host_site_map)"
   ]
  },
  {
   "cell_type": "markdown",
   "metadata": {},
   "source": [
    "## Step 4: Select an image\n",
    "#### Query images to chose from"
   ]
  },
  {
   "cell_type": "code",
   "execution_count": null,
   "metadata": {},
   "outputs": [],
   "source": [
    "print(fablib.get_image_names())"
   ]
  },
  {
   "cell_type": "markdown",
   "metadata": {},
   "source": [
    "#### Set image to cache"
   ]
  },
  {
   "cell_type": "code",
   "execution_count": null,
   "metadata": {},
   "outputs": [],
   "source": [
    "# Specify which image you would like to cache on all sites and their workers\n",
    "image = \"default_rocky_8\""
   ]
  },
  {
   "cell_type": "markdown",
   "metadata": {
    "tags": []
   },
   "source": [
    "### Summary of what will be created"
   ]
  },
  {
   "cell_type": "code",
   "execution_count": null,
   "metadata": {},
   "outputs": [],
   "source": [
    "node_count = 0\n",
    "site_count = len(host_site_map)\n",
    "for site in host_site_map:\n",
    "    node_count += host_site_map[site]\n",
    "    \n",
    "print(f'Prepared to create {site_count} slices with a total of {node_count} \\\"{image}\\\" nodes spanning accross:')\n",
    "for site in host_site_map:\n",
    "    print(f'{host_site_map[site]} workers on site {site}')"
   ]
  },
  {
   "cell_type": "markdown",
   "metadata": {
    "tags": []
   },
   "source": [
    "## Step 5: Cache image on all sites and their workers\n",
    "1. Create slice for each site\n",
    "2. Add a node with given image for each worker on site\n",
    "3. Submit slice"
   ]
  },
  {
   "cell_type": "code",
   "execution_count": null,
   "metadata": {},
   "outputs": [],
   "source": [
    "# Set to false to create slices in parallel\n",
    "sequential_run = False\n",
    "\n",
    "# Create a tag for this run (Each slice will end with this tag)\n",
    "# Used for re-running without having to wait for all previous slices to finish deleting\n",
    "tag = \"1\"\n",
    "\n",
    "for site in host_site_map:\n",
    "    # Confirm site has workers\n",
    "    if host_site_map[site] == 0:\n",
    "        break\n",
    "        \n",
    "    try:\n",
    "        # Create a slice for current site\n",
    "        # print(f'Creating slice {slice_name}')\n",
    "        slice_name = f'{site}-slice-{tag}'\n",
    "        slice = fablib.new_slice(name=slice_name)\n",
    "        \n",
    "        # Create a node for each worker on the site\n",
    "        for worker_number in range (1, host_site_map[site] + 1):\n",
    "            worker = f'{site.lower()}-w{worker_number}.fabric-testbed.net'\n",
    "            node_name = f'node-{worker_number}'\n",
    "            # Add node\n",
    "            # print(f'- Adding node (name={node_name}, site={site}, host={worker}, image={image})')\n",
    "            node = slice.add_node(name=node_name, site=site, host=worker, image=image)\n",
    "\n",
    "        #Submit Slice Request\n",
    "        slice.submit(wait=sequential_run)\n",
    "    except Exception as e:\n",
    "        print(f\"Exception: {e}\")"
   ]
  },
  {
   "cell_type": "markdown",
   "metadata": {},
   "source": [
    "## Step 6: List slices to confirm everything worked\n",
    "\n",
    "Checks the entire list of slice supposed to be created above so you can see slices that didn't get created and should have."
   ]
  },
  {
   "cell_type": "code",
   "execution_count": null,
   "metadata": {},
   "outputs": [],
   "source": [
    "for site in host_site_map:\n",
    "    slice_name = f'{site}-slice-{tag}'\n",
    "    try:\n",
    "        slice = fablib.get_slice(slice_name)\n",
    "        print(f'{slice_name} - {slice.get_state()}')\n",
    "    except Exception as e:\n",
    "        print(f\"{slice_name} - Exception: {e}\")"
   ]
  },
  {
   "cell_type": "markdown",
   "metadata": {},
   "source": [
    "## Step 7: Delete all slices when finished"
   ]
  },
  {
   "cell_type": "code",
   "execution_count": null,
   "metadata": {},
   "outputs": [],
   "source": [
    "for site in host_site_map:\n",
    "    try:\n",
    "        slice = fablib.get_slice(f'{site}-slice-{tag}')\n",
    "        slice.delete()\n",
    "    except Exception as e:\n",
    "        print(f\"Exception: {e}\")"
   ]
  },
  {
   "cell_type": "code",
   "execution_count": null,
   "metadata": {},
   "outputs": [],
   "source": []
  }
 ],
 "metadata": {
  "kernelspec": {
   "display_name": "Python 3 (ipykernel)",
   "language": "python",
   "name": "python3"
  },
  "language_info": {
   "codemirror_mode": {
    "name": "ipython",
    "version": 3
   },
   "file_extension": ".py",
   "mimetype": "text/x-python",
   "name": "python",
   "nbconvert_exporter": "python",
   "pygments_lexer": "ipython3",
   "version": "3.9.7"
  }
 },
 "nbformat": 4,
 "nbformat_minor": 4
}

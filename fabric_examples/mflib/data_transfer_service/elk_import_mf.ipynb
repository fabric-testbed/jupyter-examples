{
 "cells": [
  {
   "cell_type": "markdown",
   "id": "adb561cb-1615-4267-862e-0f575b3bcfc4",
   "metadata": {
    "tags": []
   },
   "source": [
    "# Restore ELK Snapshot on Measurement Node"
   ]
  },
  {
   "cell_type": "markdown",
   "id": "fa1b9722-8b8a-44b0-810b-f18535763ebc",
   "metadata": {},
   "source": [
    "## Import"
   ]
  },
  {
   "cell_type": "code",
   "execution_count": 2,
   "id": "78cc8452-d9ec-4295-b84a-3de3d901c379",
   "metadata": {},
   "outputs": [
    {
     "name": "stdout",
     "output_type": "stream",
     "text": [
      "MFLib version  1.0.0 \n"
     ]
    }
   ],
   "source": [
    "import os\n",
    "import json\n",
    "import traceback\n",
    "from fabrictestbed_extensions.fablib.fablib import FablibManager as fablib_manager\n",
    "try:\n",
    "    fablib = fablib_manager()                \n",
    "    #fablib.show_config()\n",
    "except Exception as e:\n",
    "    print(f\"Exception: {e}\")\n",
    "import mflib\n",
    "print(f\"MFLib version  {mflib.__version__} \" )\n",
    "from mflib.mflib import MFLib"
   ]
  },
  {
   "cell_type": "markdown",
   "id": "9a60e834-8635-4f6a-b657-718a89d1640c",
   "metadata": {},
   "source": [
    "## Slice Info"
   ]
  },
  {
   "cell_type": "code",
   "execution_count": 3,
   "id": "0af3c022-508a-4d75-b7ed-f3cbc9e11273",
   "metadata": {},
   "outputs": [],
   "source": [
    "# Change your slice name and node name\n",
    "slice_name = \"MyMonitoredSlice\"\n",
    "node1_name = 'Node1'\n",
    "node2_name = 'Node2'\n",
    "node3_name = 'Node3'"
   ]
  },
  {
   "cell_type": "code",
   "execution_count": 4,
   "id": "d2230979-55c0-424f-b7fd-b55e14d7712f",
   "metadata": {},
   "outputs": [
    {
     "name": "stdout",
     "output_type": "stream",
     "text": [
      "Inititializing slice \"MyMonitoredSlice\" for MeasurementFramework.\n",
      "Found meas node as meas-node at 2620:0:c80:1001:f816:3eff:fead:27bf\n",
      "Bootstrap status not found. Will now start bootstrap process...\n",
      "Generating MFUser Keys...\n",
      "MFUser key generation Done.\n",
      "Installing mfuser account...\n",
      "Installing mfuser account done.\n",
      "Cloning Measurement Framework Repository from github.com...\n",
      "Cloning Measurement Framework Repository from github.com done.\n",
      "Configuring Measurement Network...\n",
      "Measurement Network setup complete.\n",
      "Generating Ansible Inventory for Measurement Framework Deployment...\n",
      "Ansible Inventory for Measurement Framework Deployment generated and saved.\n",
      "Bootstrapping measurement node via bash...\n",
      "Starting Bootstrap Process on Measure Node (bash script)...\n",
      "Bootstrap Process on Measure Node (bash script) done.\n",
      "Bootstrapping measurement node via ansible...\n",
      "Starting Bootstrap Process on Measure Node (Ansible Playbook)...\n",
      "Bootstrap Process on Measure Node (Ansible Playbook) done.\n",
      "Bootstrap ansible scripts done\n",
      "Inititialization Done.\n"
     ]
    }
   ],
   "source": [
    "mf = MFLib(slice_name)"
   ]
  },
  {
   "cell_type": "code",
   "execution_count": 5,
   "id": "eb214f7d-36d2-4137-8f73-4966db27b0f3",
   "metadata": {},
   "outputs": [
    {
     "name": "stdout",
     "output_type": "stream",
     "text": [
      "-----------  ------------------------------------\n",
      "Slice Name   MyMonitoredSlice\n",
      "Slice ID     b91a0c5d-c0cf-4773-a9cb-630ab1cd8d58\n",
      "Slice State  StableOK\n",
      "Lease End    2023-07-15 19:20:31 +0000\n",
      "-----------  ------------------------------------\n"
     ]
    }
   ],
   "source": [
    "meas_node_name = mf.measurement_node_name\n",
    "try:\n",
    "    slice = fablib.get_slice(name=slice_name)\n",
    "except Exception as e:\n",
    "    print(f\"Fail: {e}\")\n",
    "print (slice)\n",
    "\n",
    "try:\n",
    "    meas_node = slice.get_node(name=meas_node_name)\n",
    "except Exception as e:\n",
    "    print(f\"Fail: {e}\")   \n",
    "#print (meas_node)"
   ]
  },
  {
   "cell_type": "markdown",
   "id": "88931d53-1073-4309-96aa-570284727fb6",
   "metadata": {
    "tags": []
   },
   "source": [
    "## Restore elk data using existing snapshot"
   ]
  },
  {
   "cell_type": "markdown",
   "id": "a7fa5062-258b-4be5-b661-7b830046d8a9",
   "metadata": {
    "tags": []
   },
   "source": [
    "#### Upload your snapshot file"
   ]
  },
  {
   "cell_type": "code",
   "execution_count": 19,
   "id": "2397cfee-4d03-45d2-b996-c3a299933447",
   "metadata": {},
   "outputs": [],
   "source": [
    "# Enter your elk snapshot tar file name (must be in data_transfer_service/snapshots directory)\n",
    "snapshot_tar_name = \"elk_backup_2.tar\"\n",
    "\n",
    "\n",
    "meas_node.upload_file(f\"./snapshots/{snapshot_tar_name}\", f'/tmp/{snapshot_tar_name}')\n",
    "stdout, stderr = meas_node.execute(f'sudo mkdir /home/ubuntu/snapshots') \n",
    "stdout, stderr = meas_node.execute(f'sudo mv /tmp/{snapshot_tar_name} /home/ubuntu/snapshots/{snapshot_tar_name}') "
   ]
  },
  {
   "cell_type": "markdown",
   "id": "2b035998-3951-47c2-b23d-c5a8ebdd3fe1",
   "metadata": {},
   "source": [
    "#### View snapshots ready to be imported into ELK"
   ]
  },
  {
   "cell_type": "code",
   "execution_count": 22,
   "id": "6393312a-7161-4a08-b73d-5aecc617cc6a",
   "metadata": {},
   "outputs": [
    {
     "name": "stdout",
     "output_type": "stream",
     "text": [
      "elk_backup_2.tar\n"
     ]
    }
   ],
   "source": [
    "stdout, stderr = meas_node.execute('ls /home/ubuntu/snapshots') "
   ]
  },
  {
   "cell_type": "markdown",
   "id": "91db78bd-4bd4-4d13-9f69-99795ca4b98f",
   "metadata": {
    "tags": []
   },
   "source": [
    "#### Import a snapshot"
   ]
  },
  {
   "cell_type": "code",
   "execution_count": 23,
   "id": "637b71cf-d4dd-421e-ba2f-c5560b345b5b",
   "metadata": {},
   "outputs": [],
   "source": [
    "# Uncomment below and change name to a different file from above if you'd like to\n",
    "# snapshot_tar_name = \"elk_backup_2.tar\""
   ]
  },
  {
   "cell_type": "code",
   "execution_count": 26,
   "id": "1b74cae4-d5b2-49b5-9589-e61e22253b8f",
   "metadata": {},
   "outputs": [
    {
     "name": "stdout",
     "output_type": "stream",
     "text": [
      "_data/\n",
      "_data/snap-nx1kMYKkQNqbsfCL5iRLMg.dat\n",
      "_data/meta-nx1kMYKkQNqbsfCL5iRLMg.dat\n",
      "_data/indices/\n",
      "_data/indices/z2E3XWORRIyAbx-Dr3w8lw/\n",
      "_data/indices/z2E3XWORRIyAbx-Dr3w8lw/0/\n",
      "_data/indices/z2E3XWORRIyAbx-Dr3w8lw/0/snap-nx1kMYKkQNqbsfCL5iRLMg.dat\n",
      "_data/indices/z2E3XWORRIyAbx-Dr3w8lw/0/snap-zLt1yM6tRmmMpnqxZMjj2A.dat\n",
      "_data/indices/z2E3XWORRIyAbx-Dr3w8lw/0/index-qFWoddmvTICVl6YnJYEgWw\n",
      "_data/indices/z2E3XWORRIyAbx-Dr3w8lw/meta-Dbibi4gBMQKlzNGxJMF-.dat\n",
      "_data/indices/16fzAGeARxaEMOT80y3Xrw/\n",
      "_data/indices/16fzAGeARxaEMOT80y3Xrw/0/\n",
      "_data/indices/16fzAGeARxaEMOT80y3Xrw/0/snap-nx1kMYKkQNqbsfCL5iRLMg.dat\n",
      "_data/indices/16fzAGeARxaEMOT80y3Xrw/0/index-NLZmJaDSSty1NyT-4Agqbg\n",
      "_data/indices/16fzAGeARxaEMOT80y3Xrw/0/snap-zLt1yM6tRmmMpnqxZMjj2A.dat\n",
      "_data/indices/16fzAGeARxaEMOT80y3Xrw/meta-DLibi4gBMQKlzNGxJMF9.dat\n",
      "_data/indices/qIeeCZxXS8uiq4TicG7NOA/\n",
      "_data/indices/qIeeCZxXS8uiq4TicG7NOA/0/\n",
      "_data/indices/qIeeCZxXS8uiq4TicG7NOA/0/index-1kxLtEf4Tn6YgjdTHx1NMg\n",
      "_data/indices/qIeeCZxXS8uiq4TicG7NOA/0/snap-nx1kMYKkQNqbsfCL5iRLMg.dat\n",
      "_data/indices/qIeeCZxXS8uiq4TicG7NOA/0/__ZYuc5ZHkRnKAmzaeLrMMnA\n",
      "_data/indices/qIeeCZxXS8uiq4TicG7NOA/0/__yvG_NMneRAS6P-PWMgDsUA\n",
      "_data/indices/qIeeCZxXS8uiq4TicG7NOA/0/snap-zLt1yM6tRmmMpnqxZMjj2A.dat\n",
      "_data/indices/qIeeCZxXS8uiq4TicG7NOA/meta-Dribi4gBMQKlzNGxJMF-.dat\n",
      "_data/indices/Mxm1U_5tSYmjf66Ueh69Aw/\n",
      "_data/indices/Mxm1U_5tSYmjf66Ueh69Aw/0/\n",
      "_data/indices/Mxm1U_5tSYmjf66Ueh69Aw/0/__NQ8-bEMSTpq2B_XYHH0eWg\n",
      "_data/indices/Mxm1U_5tSYmjf66Ueh69Aw/0/___dDQH-c6RKav2tX7JaVnWQ\n",
      "_data/indices/Mxm1U_5tSYmjf66Ueh69Aw/0/snap-nx1kMYKkQNqbsfCL5iRLMg.dat\n",
      "_data/indices/Mxm1U_5tSYmjf66Ueh69Aw/0/__wFAvaAzuQba2saEB_y6r2g\n",
      "_data/indices/Mxm1U_5tSYmjf66Ueh69Aw/0/__6MYjf9ZFQx6x25OFgC6eDA\n",
      "_data/indices/Mxm1U_5tSYmjf66Ueh69Aw/0/__7X3lgHJvSW-uZhj-dWhZ2w\n",
      "_data/indices/Mxm1U_5tSYmjf66Ueh69Aw/0/__tjY5XcGfRru3Nm9fbImVMA\n",
      "_data/indices/Mxm1U_5tSYmjf66Ueh69Aw/0/__57NtXhdkT62cpTWUGhrDjQ\n",
      "_data/indices/Mxm1U_5tSYmjf66Ueh69Aw/0/__AqtXEkVITe2xkoamAOF89Q\n",
      "_data/indices/Mxm1U_5tSYmjf66Ueh69Aw/0/__OlaVbS3oR7OBNuvR0PKxwg\n",
      "_data/indices/Mxm1U_5tSYmjf66Ueh69Aw/0/__XaK-Sc_nR3y61eLi9dQlEw\n",
      "_data/indices/Mxm1U_5tSYmjf66Ueh69Aw/0/__nOtw23XDTrWXxqQMvDSnZw\n",
      "_data/indices/Mxm1U_5tSYmjf66Ueh69Aw/0/__aB5cNp1LT2-hfwS4BeVuyg\n",
      "_data/indices/Mxm1U_5tSYmjf66Ueh69Aw/0/__Un4YqRrGRpaJqpo7mSo2Ow\n",
      "_data/indices/Mxm1U_5tSYmjf66Ueh69Aw/0/__YV5N4DQWQWGGtMpsvYdfzQ\n",
      "_data/indices/Mxm1U_5tSYmjf66Ueh69Aw/0/__QmJKuARfQ-GzrYSFSgzKGA\n",
      "_data/indices/Mxm1U_5tSYmjf66Ueh69Aw/0/__aD79JHQfSzOVegEV32xkZg\n",
      "_data/indices/Mxm1U_5tSYmjf66Ueh69Aw/0/__sk3uPSC9R9e0U_P9o9J5MA\n",
      "_data/indices/Mxm1U_5tSYmjf66Ueh69Aw/0/__kSeeFjOJT6CAbLPVWySLKg\n",
      "_data/indices/Mxm1U_5tSYmjf66Ueh69Aw/0/__bxfJnEJiQBWq4CNT8cbF_Q\n",
      "_data/indices/Mxm1U_5tSYmjf66Ueh69Aw/0/__rL6elXXbT9aVxXHHroyqbg\n",
      "_data/indices/Mxm1U_5tSYmjf66Ueh69Aw/0/__RdpQ4Gi3SyacTIRfEAaejQ\n",
      "_data/indices/Mxm1U_5tSYmjf66Ueh69Aw/0/__CiA7GA9dSxCe0FTIp5Arlg\n",
      "_data/indices/Mxm1U_5tSYmjf66Ueh69Aw/0/__lkaXAS2tSBKBKr6Ep3Hdxg\n",
      "_data/indices/Mxm1U_5tSYmjf66Ueh69Aw/0/__6YL8Onq7Qwa6JSZ0Y--gpA\n",
      "_data/indices/Mxm1U_5tSYmjf66Ueh69Aw/0/__Wy0FBMh8QKadfbaEGdhqIQ\n",
      "_data/indices/Mxm1U_5tSYmjf66Ueh69Aw/0/__o4UKw6NcRZyCdLg7tvDWjw\n",
      "_data/indices/Mxm1U_5tSYmjf66Ueh69Aw/0/__zlmeUKAATZ-3wJYJaVEjjQ\n",
      "_data/indices/Mxm1U_5tSYmjf66Ueh69Aw/0/__cUsevD_tT8eOX7OL15Ov5A\n",
      "_data/indices/Mxm1U_5tSYmjf66Ueh69Aw/0/__5v1OIra-Qm-K79gavNw5UA\n",
      "_data/indices/Mxm1U_5tSYmjf66Ueh69Aw/0/__oKE4805vSziWOnl2R10dCA\n",
      "_data/indices/Mxm1U_5tSYmjf66Ueh69Aw/0/__FIBLff-wT6enCLYmzZTCsw\n",
      "_data/indices/Mxm1U_5tSYmjf66Ueh69Aw/0/__0pJS5uCwQmqj4aIbA-qimQ\n",
      "_data/indices/Mxm1U_5tSYmjf66Ueh69Aw/0/__XwcJPv-AQ3CH2avn73g6mw\n",
      "_data/indices/Mxm1U_5tSYmjf66Ueh69Aw/0/__ZNs8gjklS_anvJlRHWnaUQ\n",
      "_data/indices/Mxm1U_5tSYmjf66Ueh69Aw/0/__TQV--YFqREawAJm1HCzfiw\n",
      "_data/indices/Mxm1U_5tSYmjf66Ueh69Aw/0/__e2kiIb1CSFumGzRR1YmQCg\n",
      "_data/indices/Mxm1U_5tSYmjf66Ueh69Aw/0/___jm0KWHuQtG10WGo2OBFjw\n",
      "_data/indices/Mxm1U_5tSYmjf66Ueh69Aw/0/__UIUo0FQDRcOcFaaOx9N3IA\n",
      "_data/indices/Mxm1U_5tSYmjf66Ueh69Aw/0/__XMsc_sghQVWpaFgWQ2flCQ\n",
      "_data/indices/Mxm1U_5tSYmjf66Ueh69Aw/0/__Md-_kCbQQoyg_1tWj1FO8Q\n",
      "_data/indices/Mxm1U_5tSYmjf66Ueh69Aw/0/__yDEF1JqGSXql-aRUuYcU4A\n",
      "_data/indices/Mxm1U_5tSYmjf66Ueh69Aw/0/__LdwFiyUARRyCehbTpCCINQ\n",
      "_data/indices/Mxm1U_5tSYmjf66Ueh69Aw/0/__XRuc07wqTRu9MZ2HWr9FzA\n",
      "_data/indices/Mxm1U_5tSYmjf66Ueh69Aw/0/__L5qr6zkIQHqkwtIcnAJ8yQ\n",
      "_data/indices/Mxm1U_5tSYmjf66Ueh69Aw/0/__YzL7zs2fTkCizc2chqmKJA\n",
      "_data/indices/Mxm1U_5tSYmjf66Ueh69Aw/0/__5jGg6ZsUSJ2IPqp52Rb8Xw\n",
      "_data/indices/Mxm1U_5tSYmjf66Ueh69Aw/0/index-syslE1_VQeOeAiyEwjA7Ww\n",
      "_data/indices/Mxm1U_5tSYmjf66Ueh69Aw/0/__c-C-fYOkRPqFyr9hPTQaJA\n",
      "_data/indices/Mxm1U_5tSYmjf66Ueh69Aw/0/__VTurRXgpQ8u-ewNu75ibNQ\n",
      "_data/indices/Mxm1U_5tSYmjf66Ueh69Aw/0/__7oaqtQcZQgiF9Z4gR68Xjw\n",
      "_data/indices/Mxm1U_5tSYmjf66Ueh69Aw/0/__KwP4h_ECRWuPrE20tCuLcw\n",
      "_data/indices/Mxm1U_5tSYmjf66Ueh69Aw/0/__bS9jw0R5QmWsSPiFRwdVeg\n",
      "_data/indices/Mxm1U_5tSYmjf66Ueh69Aw/0/snap-zLt1yM6tRmmMpnqxZMjj2A.dat\n",
      "_data/indices/Mxm1U_5tSYmjf66Ueh69Aw/0/__yANXRtwkSsaxHmiTeLmoNg\n",
      "_data/indices/Mxm1U_5tSYmjf66Ueh69Aw/0/__jba24FuWSlKte7nGG6dcqw\n",
      "_data/indices/Mxm1U_5tSYmjf66Ueh69Aw/0/__Kwx1l7DeSAqg8k5qSIAS9A\n",
      "_data/indices/Mxm1U_5tSYmjf66Ueh69Aw/0/__R_Ztv7GJTNa23ET1TXTv0Q\n",
      "_data/indices/Mxm1U_5tSYmjf66Ueh69Aw/0/__I5caWca2SeaRFMNjHPg7Rw\n",
      "_data/indices/Mxm1U_5tSYmjf66Ueh69Aw/0/__yQ9LcfHLQKmqzGWT1HYzwg\n",
      "_data/indices/Mxm1U_5tSYmjf66Ueh69Aw/0/__byDtE_OKSPWZABzaV9mJ0w\n",
      "_data/indices/Mxm1U_5tSYmjf66Ueh69Aw/0/__m6AFOekvT8iS3KVkcvFj2w\n",
      "_data/indices/Mxm1U_5tSYmjf66Ueh69Aw/0/__RhPyKd3eQEKT71yGRVDesg\n",
      "_data/indices/Mxm1U_5tSYmjf66Ueh69Aw/0/__vLKyzlSdQv6Wfzk0Egf4cQ\n",
      "_data/indices/Mxm1U_5tSYmjf66Ueh69Aw/0/__ncmfKKrTQ_C-eVX2xCT1kA\n",
      "_data/indices/Mxm1U_5tSYmjf66Ueh69Aw/0/__lRGXWQvUTGOhS4oKYray7w\n",
      "_data/indices/Mxm1U_5tSYmjf66Ueh69Aw/0/__MthHUHBQSVKVl7AqaHVocQ\n",
      "_data/indices/Mxm1U_5tSYmjf66Ueh69Aw/meta-D7ibi4gBMQKlzNGxJMF_.dat\n",
      "_data/indices/zPXl5fe-RmKewigMuQfwdw/\n",
      "_data/indices/zPXl5fe-RmKewigMuQfwdw/0/\n",
      "_data/indices/zPXl5fe-RmKewigMuQfwdw/0/__mQfPlDXGQ5-eNk56I3fswg\n",
      "_data/indices/zPXl5fe-RmKewigMuQfwdw/0/snap-nx1kMYKkQNqbsfCL5iRLMg.dat\n",
      "_data/indices/zPXl5fe-RmKewigMuQfwdw/0/__K4haJUYrS-iR3fc7w7yA0A\n",
      "_data/indices/zPXl5fe-RmKewigMuQfwdw/0/__3wVTmZy6RFWNbbTnyZrNBQ\n",
      "_data/indices/zPXl5fe-RmKewigMuQfwdw/0/__lYu4ZdWSToOrFrlPaheNxA\n",
      "_data/indices/zPXl5fe-RmKewigMuQfwdw/0/__rQSyMseHT4yWnfnx12473g\n",
      "_data/indices/zPXl5fe-RmKewigMuQfwdw/0/__ENGi2XY-RMuHueoV_7V49w\n",
      "_data/indices/zPXl5fe-RmKewigMuQfwdw/0/__QqI7z6WYSgyoKIrbnz5d6g\n",
      "_data/indices/zPXl5fe-RmKewigMuQfwdw/0/__sCqUTZp-Tbe-7-2H8pz-cg\n",
      "_data/indices/zPXl5fe-RmKewigMuQfwdw/0/__LegKvdL2QReDKgIHQcjYyw\n",
      "_data/indices/zPXl5fe-RmKewigMuQfwdw/0/__IT73pDTASryMPtrsp8cSeg\n",
      "_data/indices/zPXl5fe-RmKewigMuQfwdw/0/__q3WNvOycTtmcjdiyFSQ3JA\n",
      "_data/indices/zPXl5fe-RmKewigMuQfwdw/0/__yRPyg-wmTBWDU8T1zJsmgQ\n",
      "_data/indices/zPXl5fe-RmKewigMuQfwdw/0/__O6MHZsvcTkivAr3VvRptqQ\n",
      "_data/indices/zPXl5fe-RmKewigMuQfwdw/0/__7TYfD98rSHKQzcn_lCqyzQ\n",
      "_data/indices/zPXl5fe-RmKewigMuQfwdw/0/__qTCU6Zv4TTeiOE1KmamfIg\n",
      "_data/indices/zPXl5fe-RmKewigMuQfwdw/0/__LWZ4wBDNQvymbhc33AH6vQ\n",
      "_data/indices/zPXl5fe-RmKewigMuQfwdw/0/__yZqZ6myASlCAf1lfl9TPEg\n",
      "_data/indices/zPXl5fe-RmKewigMuQfwdw/0/__KYdQ96fqSzKtMxukuFOjiw\n",
      "_data/indices/zPXl5fe-RmKewigMuQfwdw/0/__FKGeJNRXQ-y1r7M6a6B1jg\n",
      "_data/indices/zPXl5fe-RmKewigMuQfwdw/0/__uuuMwSOXTm2dxs4XgNBJ0w\n",
      "_data/indices/zPXl5fe-RmKewigMuQfwdw/0/__OVfOCroPSNyFNjAUftygjg\n",
      "_data/indices/zPXl5fe-RmKewigMuQfwdw/0/__jKW_DBWJTeKNHhxEdlonhg\n",
      "_data/indices/zPXl5fe-RmKewigMuQfwdw/0/__4yRjZByoSZSN_4xE4Fx0Jg\n",
      "_data/indices/zPXl5fe-RmKewigMuQfwdw/0/index-28ps9zroSMubWxFEy0fDaQ\n",
      "_data/indices/zPXl5fe-RmKewigMuQfwdw/0/__O3f_OoApQ1mDJh_bF-P4bA\n",
      "_data/indices/zPXl5fe-RmKewigMuQfwdw/0/__XZPSDS_ETeu2zC57gHYBog\n",
      "_data/indices/zPXl5fe-RmKewigMuQfwdw/0/__UCd4XXTHRgSIzv-v3vDAgQ\n",
      "_data/indices/zPXl5fe-RmKewigMuQfwdw/0/__aZjX05GwQ1KImfcyXNJsrg\n",
      "_data/indices/zPXl5fe-RmKewigMuQfwdw/0/__8P5efEr3TXSkvsxyr0_Dpw\n",
      "_data/indices/zPXl5fe-RmKewigMuQfwdw/0/__fifsCwlERWiRwQCKqGRWiQ\n",
      "_data/indices/zPXl5fe-RmKewigMuQfwdw/0/__Cfy1GklSR7SbluiJt61pkw\n",
      "_data/indices/zPXl5fe-RmKewigMuQfwdw/0/__C5Q_EPanQj6s-DzjzvbBrg\n",
      "_data/indices/zPXl5fe-RmKewigMuQfwdw/0/__aq28aN-hR5SrgysC0iIaYQ\n",
      "_data/indices/zPXl5fe-RmKewigMuQfwdw/0/__iKjzflyMQhC9G0yhhuxpSg\n",
      "_data/indices/zPXl5fe-RmKewigMuQfwdw/0/__O3-wvDKQQaqVS82JBGtHQw\n",
      "_data/indices/zPXl5fe-RmKewigMuQfwdw/0/__P_eBPgM9TUW0hOkTQeeJNw\n",
      "_data/indices/zPXl5fe-RmKewigMuQfwdw/0/__NvCwXO2qTfC815_7Y0RwIA\n",
      "_data/indices/zPXl5fe-RmKewigMuQfwdw/0/__0462pcH6TgWbmKjAYHy6TQ\n",
      "_data/indices/zPXl5fe-RmKewigMuQfwdw/0/__k6eoZO5GTUGmNuojSvaBmg\n",
      "_data/indices/zPXl5fe-RmKewigMuQfwdw/0/__8XdrXgfJRumeXkEp2KtAbQ\n",
      "_data/indices/zPXl5fe-RmKewigMuQfwdw/0/__PYwqltGgSaS8cyAMh8FQsg\n",
      "_data/indices/zPXl5fe-RmKewigMuQfwdw/0/snap-zLt1yM6tRmmMpnqxZMjj2A.dat\n",
      "_data/indices/zPXl5fe-RmKewigMuQfwdw/0/__9zDgtq9vQ6qB7NxpcyPhFw\n",
      "_data/indices/zPXl5fe-RmKewigMuQfwdw/0/__tMiNtYyBQzWxmluXyIQZRg\n",
      "_data/indices/zPXl5fe-RmKewigMuQfwdw/0/__fGCavIrNShqJiJwp8qe0ng\n",
      "_data/indices/zPXl5fe-RmKewigMuQfwdw/0/__UmDpVDfuQ8ukmIHd0a5oQg\n",
      "_data/indices/zPXl5fe-RmKewigMuQfwdw/0/__rNEmJoERThCurmmCYJlkhw\n",
      "_data/indices/zPXl5fe-RmKewigMuQfwdw/0/__rVLJbTz_TFSg9OTeUBnbqg\n",
      "_data/indices/zPXl5fe-RmKewigMuQfwdw/0/__Mdq0Ee6ETHa8NzGhef5BfA\n",
      "_data/indices/zPXl5fe-RmKewigMuQfwdw/0/__WPXDe9HlRfuQJUdQiH4mgw\n",
      "_data/indices/zPXl5fe-RmKewigMuQfwdw/0/__GrKb5qtsRQSJonqSdcwoLw\n",
      "_data/indices/zPXl5fe-RmKewigMuQfwdw/meta-Ebibi4gBMQKlzNGxJMGP.dat\n",
      "_data/indices/5kgFjYn3Q8--0VxRzVRQaA/\n",
      "_data/indices/5kgFjYn3Q8--0VxRzVRQaA/0/\n",
      "_data/indices/5kgFjYn3Q8--0VxRzVRQaA/0/snap-nx1kMYKkQNqbsfCL5iRLMg.dat\n",
      "_data/indices/5kgFjYn3Q8--0VxRzVRQaA/0/__N9LLg4PwTGqSDdlVQo98rQ\n",
      "_data/indices/5kgFjYn3Q8--0VxRzVRQaA/0/__4e2c9edqQraAvr5YCiAPTw\n",
      "_data/indices/5kgFjYn3Q8--0VxRzVRQaA/0/__yGqkob-MSlGDPsWRt8I6Eg\n",
      "_data/indices/5kgFjYn3Q8--0VxRzVRQaA/0/__fvpsFBsLR5GuvK7GnmwOlg\n",
      "_data/indices/5kgFjYn3Q8--0VxRzVRQaA/0/__V80h_ZygQEC36St6_vU8wQ\n",
      "_data/indices/5kgFjYn3Q8--0VxRzVRQaA/0/__h3ZOl-pNQi6520fgQvCCmg\n",
      "_data/indices/5kgFjYn3Q8--0VxRzVRQaA/0/__4GprDC_9QMmkFXPb48kmQw\n",
      "_data/indices/5kgFjYn3Q8--0VxRzVRQaA/0/__z--7fkfLSnuvbIW6a9uF7Q\n",
      "_data/indices/5kgFjYn3Q8--0VxRzVRQaA/0/__cYdYZutqSXOIuKqWIM5DKw\n",
      "_data/indices/5kgFjYn3Q8--0VxRzVRQaA/0/__rpXI92zERD-UuWV398fubA\n",
      "_data/indices/5kgFjYn3Q8--0VxRzVRQaA/0/__hzLQwVz6R8WHACYloK683g\n",
      "_data/indices/5kgFjYn3Q8--0VxRzVRQaA/0/__NRDN1cgQTjaGuu3e26MTPQ\n",
      "_data/indices/5kgFjYn3Q8--0VxRzVRQaA/0/__5Ec2u-trQBCt6InAy--4fQ\n",
      "_data/indices/5kgFjYn3Q8--0VxRzVRQaA/0/__qUBC8jj0RR-xEy70BAgPJg\n",
      "_data/indices/5kgFjYn3Q8--0VxRzVRQaA/0/__Zl_vqTI0TqO2b-zMhS0hKQ\n",
      "_data/indices/5kgFjYn3Q8--0VxRzVRQaA/0/__8jC7yTrVTIydX79OQtkLdQ\n",
      "_data/indices/5kgFjYn3Q8--0VxRzVRQaA/0/__28WKnJfLQ6uPkxjE6Upi1Q\n",
      "_data/indices/5kgFjYn3Q8--0VxRzVRQaA/0/__fG67jMKcQSymUKF0tY-SAA\n",
      "_data/indices/5kgFjYn3Q8--0VxRzVRQaA/0/__JDHbETEYT_m-AQPj_IIXjQ\n",
      "_data/indices/5kgFjYn3Q8--0VxRzVRQaA/0/__ORCEvaLTRBmqFblj1JVcSg\n",
      "_data/indices/5kgFjYn3Q8--0VxRzVRQaA/0/__75cGf4k4QYixhPt89mlwEw\n",
      "_data/indices/5kgFjYn3Q8--0VxRzVRQaA/0/__ceMy6a4PSuC5GAd_iswdLg\n",
      "_data/indices/5kgFjYn3Q8--0VxRzVRQaA/0/__Cs-h0ImlRqui3vbRjpCKiA\n",
      "_data/indices/5kgFjYn3Q8--0VxRzVRQaA/0/__03F303d6Rs-TAogvtmoO2g\n",
      "_data/indices/5kgFjYn3Q8--0VxRzVRQaA/0/__CAnYzswEQOK6-2t7a2wnBg\n",
      "_data/indices/5kgFjYn3Q8--0VxRzVRQaA/0/__KfOvOm3ETbiuhhHGBNSXcw\n",
      "_data/indices/5kgFjYn3Q8--0VxRzVRQaA/0/__tiLM4BF_QAeglF2cdg67ng\n",
      "_data/indices/5kgFjYn3Q8--0VxRzVRQaA/0/__g3Xjk0-mR8-XhuD6YN5O8A\n",
      "_data/indices/5kgFjYn3Q8--0VxRzVRQaA/0/__ZTiFxIwHRgecnsic44ZI9w\n",
      "_data/indices/5kgFjYn3Q8--0VxRzVRQaA/0/__mc8efXIKQSeBmlEwkgS-sQ\n",
      "_data/indices/5kgFjYn3Q8--0VxRzVRQaA/0/__ty_FPoEMS0mcTf388DL3hQ\n",
      "_data/indices/5kgFjYn3Q8--0VxRzVRQaA/0/__0P71TkIVSzan1KewBgm_Vw\n",
      "_data/indices/5kgFjYn3Q8--0VxRzVRQaA/0/__E37zOn00TdiGcqRh7S0qSQ\n",
      "_data/indices/5kgFjYn3Q8--0VxRzVRQaA/0/__-Cw53zXoQJ29VjqCBoUryQ\n",
      "_data/indices/5kgFjYn3Q8--0VxRzVRQaA/0/__T06bwRBFQHuySC0CnawuYA\n",
      "_data/indices/5kgFjYn3Q8--0VxRzVRQaA/0/__fY_0H_K4Q-KCSuBsjwcB2w\n",
      "_data/indices/5kgFjYn3Q8--0VxRzVRQaA/0/__Z9I2Kl5TRPOWVp08Z0PSXQ\n",
      "_data/indices/5kgFjYn3Q8--0VxRzVRQaA/0/__acj8rpZYQMiuWqy9ZdYlnQ\n",
      "_data/indices/5kgFjYn3Q8--0VxRzVRQaA/0/__ZZU7e7LXTJWLnCZlGxUOow\n",
      "_data/indices/5kgFjYn3Q8--0VxRzVRQaA/0/__X9hyz1rkRdeGYgPZ-wROQA\n",
      "_data/indices/5kgFjYn3Q8--0VxRzVRQaA/0/__yhneC731R1qXXnbVyL7ijA\n",
      "_data/indices/5kgFjYn3Q8--0VxRzVRQaA/0/__HQn-MsJCQvOdojfFgKBMWg\n",
      "_data/indices/5kgFjYn3Q8--0VxRzVRQaA/0/__U78_kBC4Rv64U3enkPEClQ\n",
      "_data/indices/5kgFjYn3Q8--0VxRzVRQaA/0/__c-pnq0FUTqO3OhuVqthcOA\n",
      "_data/indices/5kgFjYn3Q8--0VxRzVRQaA/0/__Awfj1p5BQQaL_V5EhfKbrQ\n",
      "_data/indices/5kgFjYn3Q8--0VxRzVRQaA/0/__niWZscyORL-tbxLiRAsedg\n",
      "_data/indices/5kgFjYn3Q8--0VxRzVRQaA/0/__qzZX_E26SSmRvr60dnIh-w\n",
      "_data/indices/5kgFjYn3Q8--0VxRzVRQaA/0/__SmIf6NAIRP2jLfdBP6cshQ\n",
      "_data/indices/5kgFjYn3Q8--0VxRzVRQaA/0/__f6FauqEJT967Vv_1eFfuEQ\n",
      "_data/indices/5kgFjYn3Q8--0VxRzVRQaA/0/__Lr9wKdZeSv6DiX0KlOK0nQ\n",
      "_data/indices/5kgFjYn3Q8--0VxRzVRQaA/0/__cI1nQn51SbCUMtsZIkMuUg\n",
      "_data/indices/5kgFjYn3Q8--0VxRzVRQaA/0/__N420cm6CSt6kH0KHCZwbvQ\n",
      "_data/indices/5kgFjYn3Q8--0VxRzVRQaA/0/__jJ1AtrJGSzynOV8jJo6FWQ\n",
      "_data/indices/5kgFjYn3Q8--0VxRzVRQaA/0/__a5ArEcShRY-xxVQoV99twQ\n",
      "_data/indices/5kgFjYn3Q8--0VxRzVRQaA/0/__-PC0SskCS3qk1Iw7i0svEQ\n",
      "_data/indices/5kgFjYn3Q8--0VxRzVRQaA/0/__vFeNvkyxTVi9Q_GseJqeOg\n",
      "_data/indices/5kgFjYn3Q8--0VxRzVRQaA/0/__81eR1t89T2-qHDoV9A7qcA\n",
      "_data/indices/5kgFjYn3Q8--0VxRzVRQaA/0/__rkRHk07zRT-aQcVD9s1WZw\n",
      "_data/indices/5kgFjYn3Q8--0VxRzVRQaA/0/__7jTslZtoS1Sio2rChaFVOQ\n",
      "_data/indices/5kgFjYn3Q8--0VxRzVRQaA/0/__Vbal--glTie_x4tIcVKyew\n",
      "_data/indices/5kgFjYn3Q8--0VxRzVRQaA/0/__mMiIMVooRt-qocrtpk4Qsw\n",
      "_data/indices/5kgFjYn3Q8--0VxRzVRQaA/0/__3dHqTsb5TyaB31Z5dvMjBA\n",
      "_data/indices/5kgFjYn3Q8--0VxRzVRQaA/0/__DMXykE1bQ5-43WSwpmzvvw\n",
      "_data/indices/5kgFjYn3Q8--0VxRzVRQaA/0/__X5FkwfqTRvifEX_b5FBCMg\n",
      "_data/indices/5kgFjYn3Q8--0VxRzVRQaA/0/snap-zLt1yM6tRmmMpnqxZMjj2A.dat\n",
      "_data/indices/5kgFjYn3Q8--0VxRzVRQaA/0/__RCZNJa68R72JD5OnMPdepw\n",
      "_data/indices/5kgFjYn3Q8--0VxRzVRQaA/0/__nmxvJ37aSW6JXrsh-RbSgA\n",
      "_data/indices/5kgFjYn3Q8--0VxRzVRQaA/0/__X1biMSPaTfy-gWJc8_I36g\n",
      "_data/indices/5kgFjYn3Q8--0VxRzVRQaA/0/__q687ypaySZOEOrGDHyJSbw\n",
      "_data/indices/5kgFjYn3Q8--0VxRzVRQaA/0/__p2LzhqtfStSSoR4FBwLCPA\n",
      "_data/indices/5kgFjYn3Q8--0VxRzVRQaA/0/__Qc66KVIYQPKm0SsyHXw1Mw\n",
      "_data/indices/5kgFjYn3Q8--0VxRzVRQaA/0/__Gz9KYshdSPOZfp6g9vVPpQ\n",
      "_data/indices/5kgFjYn3Q8--0VxRzVRQaA/0/__9hegP52AQh29yrzymCWkUA\n",
      "_data/indices/5kgFjYn3Q8--0VxRzVRQaA/0/__-dSULkc3Rhe6a_EfVnOVdw\n",
      "_data/indices/5kgFjYn3Q8--0VxRzVRQaA/0/__LFUJIakATuSYp_wsBfDLjA\n",
      "_data/indices/5kgFjYn3Q8--0VxRzVRQaA/0/__nW5WbLQgRP22667My2Jy5g\n",
      "_data/indices/5kgFjYn3Q8--0VxRzVRQaA/0/__fAs4e-fhQHi2cbpcrbHVvw\n",
      "_data/indices/5kgFjYn3Q8--0VxRzVRQaA/0/__psJTosUaSCyYTTFsx40Kww\n",
      "_data/indices/5kgFjYn3Q8--0VxRzVRQaA/0/__A5CgSHKHSYi47nN804VgXg\n",
      "_data/indices/5kgFjYn3Q8--0VxRzVRQaA/0/__YzYGU6enS3C2cO8qbag15A\n",
      "_data/indices/5kgFjYn3Q8--0VxRzVRQaA/0/__lXxmzLwUSaOVCBpU59rTuA\n",
      "_data/indices/5kgFjYn3Q8--0VxRzVRQaA/0/__F9QI_KLmRsu9oW8So4OCaQ\n",
      "_data/indices/5kgFjYn3Q8--0VxRzVRQaA/0/__VgsibpaUR8-hDW2yYZ9Y4w\n",
      "_data/indices/5kgFjYn3Q8--0VxRzVRQaA/0/__fjyi1anYTkeI6vLttZzqJw\n",
      "_data/indices/5kgFjYn3Q8--0VxRzVRQaA/0/__Pixm_PRzSsS6licChHF27A\n",
      "_data/indices/5kgFjYn3Q8--0VxRzVRQaA/0/__aIHIgEwpQjaEh18SHusarg\n",
      "_data/indices/5kgFjYn3Q8--0VxRzVRQaA/0/__pm99OFrTQcGxOZyhTHDQCQ\n",
      "_data/indices/5kgFjYn3Q8--0VxRzVRQaA/0/__FpSOQEx7RwCeBohVNrVw6g\n",
      "_data/indices/5kgFjYn3Q8--0VxRzVRQaA/0/__PA8IqpGtQo2BIRt8YdxfJg\n",
      "_data/indices/5kgFjYn3Q8--0VxRzVRQaA/0/__T0WtAp4sSomYDFBx-eCYvA\n",
      "_data/indices/5kgFjYn3Q8--0VxRzVRQaA/0/__IzP7_QFxRfqYPPjCkK6E3Q\n",
      "_data/indices/5kgFjYn3Q8--0VxRzVRQaA/0/__SSnnF7ytRTC-0eGBDV1RYw\n",
      "_data/indices/5kgFjYn3Q8--0VxRzVRQaA/0/__aVZPfxmERFarVPwtZtrwLg\n",
      "_data/indices/5kgFjYn3Q8--0VxRzVRQaA/0/index-duEQgt2mRkCNZcpx5Qdd4g\n",
      "_data/indices/5kgFjYn3Q8--0VxRzVRQaA/meta-C7ibi4gBMQKlzNGxJMF8.dat\n",
      "_data/indices/AH9QMLSVTraumJun1Fo5MQ/\n",
      "_data/indices/AH9QMLSVTraumJun1Fo5MQ/0/\n",
      "_data/indices/AH9QMLSVTraumJun1Fo5MQ/0/snap-nx1kMYKkQNqbsfCL5iRLMg.dat\n",
      "_data/indices/AH9QMLSVTraumJun1Fo5MQ/0/__SpCAXyn0RjKApQf9J6RN9g\n",
      "_data/indices/AH9QMLSVTraumJun1Fo5MQ/0/__DISrvSEZRJKnk0CC9t-dPQ\n",
      "_data/indices/AH9QMLSVTraumJun1Fo5MQ/0/index-eLJQdoE6R22CpO8s3BB8hg\n",
      "_data/indices/AH9QMLSVTraumJun1Fo5MQ/0/__UKwKCiVvTn63N2bAUhVu7w\n",
      "_data/indices/AH9QMLSVTraumJun1Fo5MQ/0/__Gq1hl7LCSbGbZKkB8yF83g\n",
      "_data/indices/AH9QMLSVTraumJun1Fo5MQ/0/__BSPKBAz1T2eEEEqFohraSQ\n",
      "_data/indices/AH9QMLSVTraumJun1Fo5MQ/0/snap-zLt1yM6tRmmMpnqxZMjj2A.dat\n",
      "_data/indices/AH9QMLSVTraumJun1Fo5MQ/0/__jubLuNRCSPKVrrMDXYCARA\n",
      "_data/indices/AH9QMLSVTraumJun1Fo5MQ/meta-Cribi4gBMQKlzNGxJMF3.dat\n",
      "_data/indices/NrngdFZjTmqE8GB09J5j8w/\n",
      "_data/indices/NrngdFZjTmqE8GB09J5j8w/0/\n",
      "_data/indices/NrngdFZjTmqE8GB09J5j8w/0/snap-nx1kMYKkQNqbsfCL5iRLMg.dat\n",
      "_data/indices/NrngdFZjTmqE8GB09J5j8w/0/__JhOOoBFmRcye10yITmjIqA\n",
      "_data/indices/NrngdFZjTmqE8GB09J5j8w/0/__Kg9QxvOHTPm9J1VMGOY2xg\n",
      "_data/indices/NrngdFZjTmqE8GB09J5j8w/0/__1Zbfyz_HRMOOL_DoZO2pTw\n",
      "_data/indices/NrngdFZjTmqE8GB09J5j8w/0/__LH7gVq6xSlCMb7v1AuPgXg\n",
      "_data/indices/NrngdFZjTmqE8GB09J5j8w/0/__xEqxMPy1Sr-QuDpDE_UvvQ\n",
      "_data/indices/NrngdFZjTmqE8GB09J5j8w/0/__DuU8IR7UT_CSHmloxScuHw\n",
      "_data/indices/NrngdFZjTmqE8GB09J5j8w/0/__KNZyIag9THqaSaqk3X0bnA\n",
      "_data/indices/NrngdFZjTmqE8GB09J5j8w/0/__3TNnQSAiQOG7EVp69k9YNw\n",
      "_data/indices/NrngdFZjTmqE8GB09J5j8w/0/__AG2qe7vGRt2nddQxcZzq9A\n",
      "_data/indices/NrngdFZjTmqE8GB09J5j8w/0/__l4bA2iWcQ960MSlWwaP--Q\n",
      "_data/indices/NrngdFZjTmqE8GB09J5j8w/0/__X0yCB9cCSXqfB2Nme6evCA\n",
      "_data/indices/NrngdFZjTmqE8GB09J5j8w/0/__G6pBsPUJRJiy3p4JNW4Adw\n",
      "_data/indices/NrngdFZjTmqE8GB09J5j8w/0/__6dbipDBlT3ePSoGDG3zaPg\n",
      "_data/indices/NrngdFZjTmqE8GB09J5j8w/0/__HJdF67-dQIOU1uxdVpnTKg\n",
      "_data/indices/NrngdFZjTmqE8GB09J5j8w/0/___9ZuSvuWRG6E1tuilfgjVg\n",
      "_data/indices/NrngdFZjTmqE8GB09J5j8w/0/__eCmI847uRmynsqu6nVdLLA\n",
      "_data/indices/NrngdFZjTmqE8GB09J5j8w/0/__8d-Wv-AXQCyxZPV1jxFx-g\n",
      "_data/indices/NrngdFZjTmqE8GB09J5j8w/0/__ohTm88IRT7eUEskzXhSORg\n",
      "_data/indices/NrngdFZjTmqE8GB09J5j8w/0/__JdUhpBovRfOKdKGV8R6_Hw\n",
      "_data/indices/NrngdFZjTmqE8GB09J5j8w/0/__HVQeXDbWRruSDtjxkGjLQw\n",
      "_data/indices/NrngdFZjTmqE8GB09J5j8w/0/__ZrhyT1CIQFaoliQi7msRfw\n",
      "_data/indices/NrngdFZjTmqE8GB09J5j8w/0/__iZNcOVZmQVGB84jguhIbkA\n",
      "_data/indices/NrngdFZjTmqE8GB09J5j8w/0/__ID5FhLefRY-Kj3bf8rK85g\n",
      "_data/indices/NrngdFZjTmqE8GB09J5j8w/0/__Us3PDLmsThS4kSVzKG6Isw\n",
      "_data/indices/NrngdFZjTmqE8GB09J5j8w/0/__xLuQGL90QGmKa3hzF07UAA\n",
      "_data/indices/NrngdFZjTmqE8GB09J5j8w/0/__BWVD9IamRrqJaTCeDnQK1A\n",
      "_data/indices/NrngdFZjTmqE8GB09J5j8w/0/__APgiIbm_S0a4iBBNCIFEUw\n",
      "_data/indices/NrngdFZjTmqE8GB09J5j8w/0/__ISJFmh0VSSexH4aI2OquUg\n",
      "_data/indices/NrngdFZjTmqE8GB09J5j8w/0/__OEvaN337SOW6UIqANX-n6w\n",
      "_data/indices/NrngdFZjTmqE8GB09J5j8w/0/__Fkp_9wZBTq6bl0INUVb3kQ\n",
      "_data/indices/NrngdFZjTmqE8GB09J5j8w/0/__sssKm4o4RXKqr0WlnFjzMw\n",
      "_data/indices/NrngdFZjTmqE8GB09J5j8w/0/__OpfcIF2VQbONL-fS5vagyQ\n",
      "_data/indices/NrngdFZjTmqE8GB09J5j8w/0/__qzvPKfJoS1u79YBowQTbxQ\n",
      "_data/indices/NrngdFZjTmqE8GB09J5j8w/0/__PeoKh5LzRXuZ1SkzJgtTag\n",
      "_data/indices/NrngdFZjTmqE8GB09J5j8w/0/__nn34NJh-S_2kq1LUGrKfEQ\n",
      "_data/indices/NrngdFZjTmqE8GB09J5j8w/0/__jzz6gLvhSlq2ofILxOZYFQ\n",
      "_data/indices/NrngdFZjTmqE8GB09J5j8w/0/snap-zLt1yM6tRmmMpnqxZMjj2A.dat\n",
      "_data/indices/NrngdFZjTmqE8GB09J5j8w/0/__y5SE_cVjQCKnNVuCHed3Og\n",
      "_data/indices/NrngdFZjTmqE8GB09J5j8w/0/index-orz64bXOSxyV4ekZxz7MWw\n",
      "_data/indices/NrngdFZjTmqE8GB09J5j8w/0/__Uv5z4TplSJ219S-KzwAeYg\n",
      "_data/indices/NrngdFZjTmqE8GB09J5j8w/0/__SXv1mMTBSXiQI1Bh7CGMyA\n",
      "_data/indices/NrngdFZjTmqE8GB09J5j8w/0/__c-A_UrKZSEK0YeE7GttkUQ\n",
      "_data/indices/NrngdFZjTmqE8GB09J5j8w/0/__ttq5f18nSM2GvdaD5otz9g\n",
      "_data/indices/NrngdFZjTmqE8GB09J5j8w/0/__ycJptGaOTGCAeL1vrxAbjw\n",
      "_data/indices/NrngdFZjTmqE8GB09J5j8w/0/__jZIyDKUGRz6thdAWC5ghkw\n",
      "_data/indices/NrngdFZjTmqE8GB09J5j8w/0/__DJpaYoNNRKKDcIBCz586yw\n",
      "_data/indices/NrngdFZjTmqE8GB09J5j8w/0/__C-792FwhQXOVpbZmKptdBA\n",
      "_data/indices/NrngdFZjTmqE8GB09J5j8w/0/__mjY_fS4NRt-pF6NJJl6bZA\n",
      "_data/indices/NrngdFZjTmqE8GB09J5j8w/meta-ELibi4gBMQKlzNGxJMGL.dat\n",
      "_data/indices/2oyMu23yRDGiQnMpvoE7IQ/\n",
      "_data/indices/2oyMu23yRDGiQnMpvoE7IQ/0/\n",
      "_data/indices/2oyMu23yRDGiQnMpvoE7IQ/0/__ce8vpDQ7RKaxNha4GNstQQ\n",
      "_data/indices/2oyMu23yRDGiQnMpvoE7IQ/0/snap-nx1kMYKkQNqbsfCL5iRLMg.dat\n",
      "_data/indices/2oyMu23yRDGiQnMpvoE7IQ/0/__j8t8Z2heTza0cklgmCrOnA\n",
      "_data/indices/2oyMu23yRDGiQnMpvoE7IQ/0/__NoKkD6fMTWek1y64TecxyA\n",
      "_data/indices/2oyMu23yRDGiQnMpvoE7IQ/0/__21SwyiiTTLCPaF4t3kOyjA\n",
      "_data/indices/2oyMu23yRDGiQnMpvoE7IQ/0/__mBFiSUVkTfKzp-EteHECFw\n",
      "_data/indices/2oyMu23yRDGiQnMpvoE7IQ/0/__q_gUyHPhQKC51wFsVN-ktg\n",
      "_data/indices/2oyMu23yRDGiQnMpvoE7IQ/0/index-tgG2DNLdTAWT6Mkw27nVSw\n",
      "_data/indices/2oyMu23yRDGiQnMpvoE7IQ/0/___1ssCn0RQIqzbCfNQeF3fw\n",
      "_data/indices/2oyMu23yRDGiQnMpvoE7IQ/0/__NtnlShoVR1OXAXQ4qUYfSQ\n",
      "_data/indices/2oyMu23yRDGiQnMpvoE7IQ/0/__5ma8L3pKSkeF9iYHnFXgBQ\n",
      "_data/indices/2oyMu23yRDGiQnMpvoE7IQ/0/__DhVgiGn0Tz2UJWIL5Jp6vA\n",
      "_data/indices/2oyMu23yRDGiQnMpvoE7IQ/0/__EGnRV93aQvuLIQKtZXNnWg\n",
      "_data/indices/2oyMu23yRDGiQnMpvoE7IQ/0/__CRPh6a15S4qgr6xUFRpFNA\n",
      "_data/indices/2oyMu23yRDGiQnMpvoE7IQ/0/__i33rPzuYR8eWjBJo6iTD7w\n",
      "_data/indices/2oyMu23yRDGiQnMpvoE7IQ/0/__HDQw9hueS4KYsErYrMkNjQ\n",
      "_data/indices/2oyMu23yRDGiQnMpvoE7IQ/0/__4KOeo-sOTnmOYiphCHBjww\n",
      "_data/indices/2oyMu23yRDGiQnMpvoE7IQ/0/__EgbSl1_5QROWVjWs6gdNCw\n",
      "_data/indices/2oyMu23yRDGiQnMpvoE7IQ/0/__FHadZFGKT9eioHXrf4meVg\n",
      "_data/indices/2oyMu23yRDGiQnMpvoE7IQ/0/__3jBD0ym4R5u17I52Odd_TQ\n",
      "_data/indices/2oyMu23yRDGiQnMpvoE7IQ/0/__VGFodgD6S5-wSsZULnad8g\n",
      "_data/indices/2oyMu23yRDGiQnMpvoE7IQ/0/__gMpVgrpeRy6dxL-mp-JMCA\n",
      "_data/indices/2oyMu23yRDGiQnMpvoE7IQ/0/__pRAZ88qzQ-GGrcoIPoC_nA\n",
      "_data/indices/2oyMu23yRDGiQnMpvoE7IQ/0/__oT3V4rjrSLm549WkvYsHEg\n",
      "_data/indices/2oyMu23yRDGiQnMpvoE7IQ/0/__24CN48C2S1SBG0D3AzpNFg\n",
      "_data/indices/2oyMu23yRDGiQnMpvoE7IQ/0/__98F8FjnhTM-uFjFwFs7eAA\n",
      "_data/indices/2oyMu23yRDGiQnMpvoE7IQ/0/__KWjRACD8QkCBO5rThPVVyA\n",
      "_data/indices/2oyMu23yRDGiQnMpvoE7IQ/0/__BLYYvd0FSQG7JiFrBPD_8w\n",
      "_data/indices/2oyMu23yRDGiQnMpvoE7IQ/0/__B3VmwK2rQ_2eF8JKe3Ip4Q\n",
      "_data/indices/2oyMu23yRDGiQnMpvoE7IQ/0/__NTBhPO6IRSCtRDeHvM2rHA\n",
      "_data/indices/2oyMu23yRDGiQnMpvoE7IQ/0/__UhEWlDaNSO62oBsD3wQv7g\n",
      "_data/indices/2oyMu23yRDGiQnMpvoE7IQ/0/__zLlLxwvgRj6bgbVcVO9lTw\n",
      "_data/indices/2oyMu23yRDGiQnMpvoE7IQ/0/__wLJAzBfBQ3SNVVAMwo2AIw\n",
      "_data/indices/2oyMu23yRDGiQnMpvoE7IQ/0/__xsEOTBynTlGN0wDSmS1kdA\n",
      "_data/indices/2oyMu23yRDGiQnMpvoE7IQ/0/__Aeh-QHAAT0W4DTT-mk0V1w\n",
      "_data/indices/2oyMu23yRDGiQnMpvoE7IQ/0/__Rm3Av2i_Qme_3Ch32KguJQ\n",
      "_data/indices/2oyMu23yRDGiQnMpvoE7IQ/0/__H92KAuQER7qZAP8XyKDAhg\n",
      "_data/indices/2oyMu23yRDGiQnMpvoE7IQ/0/snap-zLt1yM6tRmmMpnqxZMjj2A.dat\n",
      "_data/indices/2oyMu23yRDGiQnMpvoE7IQ/0/__EaUIk_XwQJWfrRenR6EKFw\n",
      "_data/indices/2oyMu23yRDGiQnMpvoE7IQ/0/__SU3oN_2jQCaXo7JnbMHQKw\n",
      "_data/indices/2oyMu23yRDGiQnMpvoE7IQ/0/__8KW46B4URMut3VpE0TlN8Q\n",
      "_data/indices/2oyMu23yRDGiQnMpvoE7IQ/0/__2rYSYhdKSVaiJ1aQk9ZslQ\n",
      "_data/indices/2oyMu23yRDGiQnMpvoE7IQ/0/__Zqja0gUgS46XoifVGQcYYg\n",
      "_data/indices/2oyMu23yRDGiQnMpvoE7IQ/0/__vPRpCF9IRQem-pLSvRI1jA\n",
      "_data/indices/2oyMu23yRDGiQnMpvoE7IQ/0/__LBwu5ig4QUOKbYQZtPzLtA\n",
      "_data/indices/2oyMu23yRDGiQnMpvoE7IQ/0/__De3uyajRRcyqaV0ABEknvA\n",
      "_data/indices/2oyMu23yRDGiQnMpvoE7IQ/0/__AZhc-ptSTROsZ2VhhPRDzA\n",
      "_data/indices/2oyMu23yRDGiQnMpvoE7IQ/meta-Cbibi4gBMQKlzNGxJMF1.dat\n",
      "_data/index.latest\n",
      "_data/index-1\n",
      "_data/snap-zLt1yM6tRmmMpnqxZMjj2A.dat\n",
      "_data/meta-zLt1yM6tRmmMpnqxZMjj2A.dat\n"
     ]
    }
   ],
   "source": [
    "stdout, stderr = meas_node.execute('sudo tar -xvf /home/ubuntu/snapshots/elk_backup_2.tar -C /home/ubuntu/snapshots') "
   ]
  },
  {
   "cell_type": "markdown",
   "id": "f6f0e91c-9053-4765-b072-2d4ff286ac81",
   "metadata": {},
   "source": [
    "#### Register the repository"
   ]
  },
  {
   "cell_type": "code",
   "execution_count": 30,
   "id": "bd2d9189-b25d-4f92-820b-5bfe08ebc84f",
   "metadata": {},
   "outputs": [
    {
     "name": "stdout",
     "output_type": "stream",
     "text": [
      "{\"error\":{\"root_cause\":[{\"type\":\"repository_exception\",\"reason\":\"[imported_repository] location [/var/lib/docker/volumes/elk_data01/_data] doesn't match any of the locations specified by path.repo because this setting is empty\"}],\"type\":\"repository_exception\",\"reason\":\"[imported_repository] failed to create repository\",\"caused_by\":{\"type\":\"repository_exception\",\"reason\":\"[imported_repository] location [/var/lib/docker/volumes/elk_data01/_data] doesn't match any of the locations specified by path.repo because this setting is empty\"}},\"status\":500}\u001b[31m   % Total    % Received % Xferd  Average Speed   Time    Time     Time  Current\n",
      "                                 Dload  Upload   Total   Spent    Left  Speed\n",
      "100   658  100   552  100   106  55200  10600 --:--:-- --:--:-- --:--:-- 65800\n",
      " \u001b[0m"
     ]
    }
   ],
   "source": [
    "stdout, stderr = meas_node.execute('curl -X PUT -H \"Content-Type: application/json\" -d \\'{ \"type\": \"fs\", \"settings\": { \"location\": \"/var/lib/docker/volumes/elk_data01/_data\", \"compress\": true } }\\' http://localhost:9200/_snapshot/imported_repository')"
   ]
  },
  {
   "cell_type": "markdown",
   "id": "4eceda41-7194-4f57-8111-af02a4221327",
   "metadata": {},
   "source": [
    "#### View repository after registration"
   ]
  },
  {
   "cell_type": "code",
   "execution_count": null,
   "id": "1f3eaa9a-2a48-4fdd-9226-6ca8926a2357",
   "metadata": {},
   "outputs": [],
   "source": [
    "stdout, stderr = node.execute('curl -X GET \"http://localhost:9200/_cat/snapshots/imported_repository?v\"')"
   ]
  },
  {
   "cell_type": "markdown",
   "id": "b881a628-fa9d-4a95-bfb4-bd8f1131212b",
   "metadata": {},
   "source": [
    "#### Delete all indices and restore snapshot (replace snapshot name and change index list if you want to customize)"
   ]
  },
  {
   "cell_type": "code",
   "execution_count": null,
   "id": "b6b35252-df89-44f0-bfec-42dcbc0b7fb1",
   "metadata": {},
   "outputs": [],
   "source": [
    "stdout, stderr = node.execute('curl -X DELETE \"http://localhost:9200/_all\"')\n",
    "stdout, stderr = node.execute('curl -X POST \"http://localhost:9200/_snapshot/imported_repository/snapshot_test/_restore?pretty\" -H \"Content-Type: application/json\" -d \\'{ \"indices\": \"*\", \"index_settings\": { \"index.number_of_replicas\": 1 } }\\'')"
   ]
  },
  {
   "cell_type": "markdown",
   "id": "95b1d5f7-9455-4a38-b9c7-9b3a53772b53",
   "metadata": {},
   "source": [
    "### Your data is now imported on the node."
   ]
  },
  {
   "cell_type": "markdown",
   "id": "3228b331-71b0-4894-af6d-54513d0edfe1",
   "metadata": {},
   "source": [
    "### Check existing snapshot in the repository"
   ]
  },
  {
   "cell_type": "code",
   "execution_count": 13,
   "id": "aeb1ce1c-843f-4e32-8c9a-e4c135136ddb",
   "metadata": {},
   "outputs": [
    {
     "name": "stdout",
     "output_type": "stream",
     "text": [
      "{\"error\":{\"root_cause\":[{\"type\":\"illegal_argument_exception\",\"reason\":\"request [/] contains unrecognized parameter: [v]\"}],\"type\":\"illegal_argument_exception\",\"reason\":\"request [/] contains unrecognized parameter: [v]\"},\"status\":400}\u001b[31m   % Total    % Received % Xferd  Average Speed   Time    Time     Time  Current\n",
      "                                 Dload  Upload   Total   Spent    Left  Speed\n",
      "100   233  100   233    0     0   113k      0 --:--:-- --:--:-- --:--:--  113k\n",
      " \u001b[0m"
     ]
    }
   ],
   "source": [
    "repo_name=\"backup_repository\"\n",
    "cmd = f\"curl -X GET 'http://localhost:9200?v'\"\n",
    "stdout, stderr= meas_node.execute(cmd)"
   ]
  },
  {
   "cell_type": "markdown",
   "id": "f572c885-fd38-4905-9678-30bee2da93c0",
   "metadata": {},
   "source": [
    "### Check the snapshot"
   ]
  },
  {
   "cell_type": "code",
   "execution_count": 12,
   "id": "8f79fe2b-d5f4-4782-9b36-2c7f6901d687",
   "metadata": {},
   "outputs": [
    {
     "name": "stdout",
     "output_type": "stream",
     "text": [
      "{\n",
      "  \"error\" : {\n",
      "    \"root_cause\" : [\n",
      "      {\n",
      "        \"type\" : \"repository_exception\",\n",
      "        \"reason\" : \"[backup_repository] could not read repository data from index blob\"\n",
      "      }\n",
      "    ],\n",
      "    \"type\" : \"repository_exception\",\n",
      "    \"reason\" : \"[backup_repository] Could not read repository data because the contents of the repository do not match its expected state. This is likely the result of either concurrently modifying the contents of the repository by a process other than this cluster or an issue with the repository's underlying storage. The repository has been disabled to prevent corrupting its contents. To re-enable it and continue using it please remove the repository from the cluster and add it again to make the cluster recover the known state of the repository from its physical contents. The last cluster to write to this repository was [A63ZXCiURES-wcm6MvFiSA] at generation [1].\",\n",
      "    \"caused_by\" : {\n",
      "      \"type\" : \"repository_exception\",\n",
      "      \"reason\" : \"[backup_repository] could not read repository data from index blob\",\n",
      "      \"caused_by\" : {\n",
      "        \"type\" : \"no_such_file_exception\",\n",
      "        \"reason\" : \"/usr/share/elasticsearch/backup/index-0\"\n",
      "      }\n",
      "    }\n",
      "  },\n",
      "  \"status\" : 500\n",
      "}\n",
      "\u001b[31m   % Total    % Received % Xferd  Average Speed   Time    Time     Time  Current\n",
      "                                 Dload  Upload   Total   Spent    Left  Speed\n",
      "100  1211  100  1211    0     0   5907      0 --:--:-- --:--:-- --:--:--  5907\n",
      " \u001b[0m"
     ]
    }
   ],
   "source": [
    "snapshot_name=\"snapshot_test\"\n",
    "cmd = f'curl -X GET \"http://localhost:9200/_snapshot/{repo_name}/{snapshot_name}?pretty\"'\n",
    "stdout, stderr= meas_node.execute(cmd)"
   ]
  },
  {
   "cell_type": "code",
   "execution_count": 11,
   "id": "152fa20f-ca03-4c27-822b-cfd1951a147e",
   "metadata": {},
   "outputs": [
    {
     "name": "stdout",
     "output_type": "stream",
     "text": [
      "{'success': True, 'message': 'Service file elk_backup_2023-06-02_18:23:33.tar uploaded successfully.'}\n"
     ]
    }
   ],
   "source": [
    "# EDIT THIS - choose a list of index files from your local storage to import\n",
    "local_files = [\"./snapshots/elk_backup_2023-06-02_18:23:33.tar\"]\n",
    "\n",
    "output = mf.upload_service_files(\"elk\", local_files)"
   ]
  },
  {
   "cell_type": "markdown",
   "id": "4e2fe1f5-76fd-4280-b300-ebbeccf7972e",
   "metadata": {},
   "source": [
    "### Restore the data using specific snapshot"
   ]
  },
  {
   "cell_type": "code",
   "execution_count": null,
   "id": "c4652c38-059e-4ecc-877e-5068e388ab70",
   "metadata": {},
   "outputs": [],
   "source": [
    "# Need to specify indice names to restore, find in above cell and change below\n",
    "indice_str= f'\"indices\": \"filebeat-7.13.2-2023.05.29-000001,metricbeat-7.13.2-2023.05.29-000001,packetbeat-7.13.2-2023.05.29-000001\",'\n",
    "repo_name=\"backup_repository\"\n",
    "snapshot_name = \"snapshot_test\"\n",
    "cmd = f'curl -X POST \"http://localhost:9200/_snapshot/{repo_name}/{snapshot_name}/_restore?pretty\" -H \"Content-Type: application/json\" -d \\'{{{indice_str} \"rename_pattern\": \"(.+)\", \"rename_replacement\": \"restored-$1\", \"include_aliases\": false}}\\''\n",
    "#print (cmd)\n",
    "stdout, stderr= meas_node.execute(cmd)"
   ]
  },
  {
   "cell_type": "markdown",
   "id": "b9004316-928f-4539-9d6a-b537d6efdf23",
   "metadata": {},
   "source": [
    "### Check the progress"
   ]
  },
  {
   "cell_type": "code",
   "execution_count": null,
   "id": "78ee6475-9ff7-4b54-adbe-510faca291e0",
   "metadata": {},
   "outputs": [],
   "source": [
    "cmd = f'curl -XGET \"http://localhost:9200/_cat/recovery?v\"'\n",
    "stdout, stderr= meas_node.execute(cmd)"
   ]
  },
  {
   "cell_type": "markdown",
   "id": "d279ebb2-c8e5-45a6-b586-c0c81fd159d8",
   "metadata": {},
   "source": [
    "## Once finished, check indice"
   ]
  },
  {
   "cell_type": "code",
   "execution_count": null,
   "id": "13e34f06-e3d6-4d34-9584-86bec89b5d64",
   "metadata": {},
   "outputs": [],
   "source": [
    "cmd= f'curl -XGET \"http://localhost:9200/_cat/indices?pretty\"'\n",
    "stdout, stderr= meas_node.execute(cmd)"
   ]
  },
  {
   "cell_type": "markdown",
   "id": "dbe1e7b0-bf5e-4059-93c0-1834cfedb714",
   "metadata": {},
   "source": [
    "## Remove the index life cycle policy"
   ]
  },
  {
   "cell_type": "code",
   "execution_count": null,
   "id": "d7a0ce2a-a263-4835-b4e6-e8bdb1c22445",
   "metadata": {},
   "outputs": [],
   "source": [
    "restored_filebeat_index=\"restored-filebeat-7.13.2-2023.05.29-000001\"\n",
    "restored_metricbeat_index=\"restored-metricbeat-7.13.2-2023.05.29-000001\"\n",
    "restored_packetbeat_index = \"restored-packetbeat-7.13.2-2023.05.29-000001\"\n",
    "cmd1 = f'curl -X POST \"http://localhost:9200/{restored_filebeat_index}/_ilm/remove?pretty\"'\n",
    "cmd2 = f'curl -X POST \"http://localhost:9200/{restored_metricbeat_index}/_ilm/remove?pretty\"'\n",
    "cmd3 = f'curl -X POST \"http://localhost:9200/{restored_packetbeat_index}/_ilm/remove?pretty\"'\n",
    "stdout, stderr= meas_node.execute(cmd1)\n",
    "stdout, stderr= meas_node.execute(cmd2)\n",
    "stdout, stderr= meas_node.execute(cmd3)"
   ]
  },
  {
   "cell_type": "markdown",
   "id": "82fb3cba-751a-4072-b0f1-ea225ec595b4",
   "metadata": {},
   "source": [
    "## Set up ssh tunnel to view the data"
   ]
  },
  {
   "cell_type": "code",
   "execution_count": null,
   "id": "b695003d-cf9a-484d-8416-4c07d8511abe",
   "metadata": {},
   "outputs": [],
   "source": [
    "port = \"10050\"\n",
    "cmd=f'ssh -L {port}:localhost:5601 -F ssh_config -i slice_key ubuntu@{meas_node.get_management_ip()}'\n",
    "print (f\"Use [{cmd}] to set up ssh tunnel and then go to http://localhost:{port} to view the data \")"
   ]
  },
  {
   "cell_type": "markdown",
   "id": "c661458a-38e5-4cc9-a159-ab9f4e041b6d",
   "metadata": {},
   "source": [
    "### You will see (restored) filebeat/metricbeat/packetbeat indice(6 total). The restored ones are static with no life cycle policies. The regular filebeat/metricbeat/packetbeat indice will be continuous written to by the beats.   "
   ]
  },
  {
   "cell_type": "code",
   "execution_count": null,
   "id": "b3a6e3a6-994f-4f64-9556-84505c4d2ff8",
   "metadata": {},
   "outputs": [],
   "source": []
  }
 ],
 "metadata": {
  "kernelspec": {
   "display_name": "Python 3 (ipykernel)",
   "language": "python",
   "name": "python3"
  },
  "language_info": {
   "codemirror_mode": {
    "name": "ipython",
    "version": 3
   },
   "file_extension": ".py",
   "mimetype": "text/x-python",
   "name": "python",
   "nbconvert_exporter": "python",
   "pygments_lexer": "ipython3",
   "version": "3.9.7"
  }
 },
 "nbformat": 4,
 "nbformat_minor": 5
}

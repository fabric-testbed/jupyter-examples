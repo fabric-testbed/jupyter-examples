{
 "cells": [
  {
   "cell_type": "markdown",
   "id": "adb561cb-1615-4267-862e-0f575b3bcfc4",
   "metadata": {
    "tags": []
   },
   "source": [
    "# Restore ELK Snapshot on Measurement Node"
   ]
  },
  {
   "cell_type": "markdown",
   "id": "fa1b9722-8b8a-44b0-810b-f18535763ebc",
   "metadata": {},
   "source": [
    "## Import"
   ]
  },
  {
   "cell_type": "code",
   "execution_count": null,
   "id": "78cc8452-d9ec-4295-b84a-3de3d901c379",
   "metadata": {},
   "outputs": [],
   "source": [
    "import os\n",
    "import json\n",
    "import traceback\n",
    "from fabrictestbed_extensions.fablib.fablib import FablibManager as fablib_manager\n",
    "try:\n",
    "    fablib = fablib_manager()                \n",
    "    #fablib.show_config()\n",
    "except Exception as e:\n",
    "    print(f\"Exception: {e}\")\n",
    "import mflib\n",
    "print(f\"MFLib version  {mflib.__version__} \" )\n",
    "from mflib.mflib import MFLib"
   ]
  },
  {
   "cell_type": "markdown",
   "id": "9a60e834-8635-4f6a-b657-718a89d1640c",
   "metadata": {},
   "source": [
    "## Slice Info"
   ]
  },
  {
   "cell_type": "code",
   "execution_count": null,
   "id": "0af3c022-508a-4d75-b7ed-f3cbc9e11273",
   "metadata": {},
   "outputs": [],
   "source": [
    "# Change your slice name and node name\n",
    "slice_name = \"MyMonitoredSlice\"\n",
    "node1_name = 'Node1'\n",
    "node2_name = 'Node2'\n",
    "node3_name = 'Node3'"
   ]
  },
  {
   "cell_type": "code",
   "execution_count": null,
   "id": "d2230979-55c0-424f-b7fd-b55e14d7712f",
   "metadata": {},
   "outputs": [],
   "source": [
    "mf = MFLib(slice_name)"
   ]
  },
  {
   "cell_type": "code",
   "execution_count": null,
   "id": "eb214f7d-36d2-4137-8f73-4966db27b0f3",
   "metadata": {},
   "outputs": [],
   "source": [
    "meas_node_name = mf.measurement_node_name\n",
    "try:\n",
    "    slice = fablib.get_slice(name=slice_name)\n",
    "except Exception as e:\n",
    "    print(f\"Fail: {e}\")\n",
    "print (slice)\n",
    "\n",
    "try:\n",
    "    meas_node = slice.get_node(name=meas_node_name)\n",
    "except Exception as e:\n",
    "    print(f\"Fail: {e}\")   \n",
    "#print (meas_node)"
   ]
  },
  {
   "cell_type": "markdown",
   "id": "88931d53-1073-4309-96aa-570284727fb6",
   "metadata": {
    "tags": []
   },
   "source": [
    "## Restore elk data using existing snapshot"
   ]
  },
  {
   "cell_type": "markdown",
   "id": "a7fa5062-258b-4be5-b661-7b830046d8a9",
   "metadata": {
    "tags": []
   },
   "source": [
    "#### Upload your snapshot file"
   ]
  },
  {
   "cell_type": "code",
   "execution_count": null,
   "id": "2397cfee-4d03-45d2-b996-c3a299933447",
   "metadata": {},
   "outputs": [],
   "source": [
    "# Enter your elk snapshot tar file name (must be in data_transfer_service/snapshots directory)\n",
    "snapshot_tar_name = \"elk_backup_2.tar\"\n",
    "\n",
    "\n",
    "meas_node.upload_file(f\"./snapshots/{snapshot_tar_name}\", f'/tmp/{snapshot_tar_name}')\n",
    "stdout, stderr = meas_node.execute(f'sudo mkdir /home/ubuntu/snapshots') \n",
    "stdout, stderr = meas_node.execute(f'sudo mv /tmp/{snapshot_tar_name} /home/ubuntu/snapshots/{snapshot_tar_name}') "
   ]
  },
  {
   "cell_type": "markdown",
   "id": "2b035998-3951-47c2-b23d-c5a8ebdd3fe1",
   "metadata": {},
   "source": [
    "#### View snapshots ready to be imported into ELK"
   ]
  },
  {
   "cell_type": "code",
   "execution_count": null,
   "id": "6393312a-7161-4a08-b73d-5aecc617cc6a",
   "metadata": {},
   "outputs": [],
   "source": [
    "stdout, stderr = meas_node.execute('ls /home/ubuntu/snapshots') "
   ]
  },
  {
   "cell_type": "markdown",
   "id": "91db78bd-4bd4-4d13-9f69-99795ca4b98f",
   "metadata": {
    "tags": []
   },
   "source": [
    "#### Import a snapshot"
   ]
  },
  {
   "cell_type": "code",
   "execution_count": null,
   "id": "637b71cf-d4dd-421e-ba2f-c5560b345b5b",
   "metadata": {},
   "outputs": [],
   "source": [
    "# Uncomment below and change name to a different file from above if you'd like to\n",
    "# snapshot_tar_name = \"elk_backup_2.tar\""
   ]
  },
  {
   "cell_type": "code",
   "execution_count": null,
   "id": "1b74cae4-d5b2-49b5-9589-e61e22253b8f",
   "metadata": {},
   "outputs": [],
   "source": [
    "stdout, stderr = meas_node.execute('sudo tar -xvf /home/ubuntu/snapshots/elk_backup_2.tar -C /home/ubuntu/snapshots') "
   ]
  },
  {
   "cell_type": "markdown",
   "id": "f6f0e91c-9053-4765-b072-2d4ff286ac81",
   "metadata": {},
   "source": [
    "#### Register the repository"
   ]
  },
  {
   "cell_type": "code",
   "execution_count": null,
   "id": "bd2d9189-b25d-4f92-820b-5bfe08ebc84f",
   "metadata": {},
   "outputs": [],
   "source": [
    "stdout, stderr = meas_node.execute('curl -X PUT -H \"Content-Type: application/json\" -d \\'{ \"type\": \"fs\", \"settings\": { \"location\": \"/var/lib/docker/volumes/elk_data01/_data\", \"compress\": true } }\\' http://localhost:9200/_snapshot/imported_repository')"
   ]
  },
  {
   "cell_type": "markdown",
   "id": "4eceda41-7194-4f57-8111-af02a4221327",
   "metadata": {},
   "source": [
    "#### View repository after registration"
   ]
  },
  {
   "cell_type": "code",
   "execution_count": null,
   "id": "1f3eaa9a-2a48-4fdd-9226-6ca8926a2357",
   "metadata": {},
   "outputs": [],
   "source": [
    "stdout, stderr = node.execute('curl -X GET \"http://localhost:9200/_cat/snapshots/imported_repository?v\"')"
   ]
  },
  {
   "cell_type": "markdown",
   "id": "b881a628-fa9d-4a95-bfb4-bd8f1131212b",
   "metadata": {},
   "source": [
    "#### Delete all indices and restore snapshot (replace snapshot name and change index list if you want to customize)"
   ]
  },
  {
   "cell_type": "code",
   "execution_count": null,
   "id": "b6b35252-df89-44f0-bfec-42dcbc0b7fb1",
   "metadata": {},
   "outputs": [],
   "source": [
    "stdout, stderr = node.execute('curl -X DELETE \"http://localhost:9200/_all\"')\n",
    "stdout, stderr = node.execute('curl -X POST \"http://localhost:9200/_snapshot/imported_repository/snapshot_test/_restore?pretty\" -H \"Content-Type: application/json\" -d \\'{ \"indices\": \"*\", \"index_settings\": { \"index.number_of_replicas\": 1 } }\\'')"
   ]
  },
  {
   "cell_type": "markdown",
   "id": "95b1d5f7-9455-4a38-b9c7-9b3a53772b53",
   "metadata": {},
   "source": [
    "### Your data is now imported on the node."
   ]
  },
  {
   "cell_type": "markdown",
   "id": "3228b331-71b0-4894-af6d-54513d0edfe1",
   "metadata": {},
   "source": [
    "### Check existing snapshot in the repository"
   ]
  },
  {
   "cell_type": "code",
   "execution_count": null,
   "id": "aeb1ce1c-843f-4e32-8c9a-e4c135136ddb",
   "metadata": {},
   "outputs": [],
   "source": [
    "repo_name=\"backup_repository\"\n",
    "cmd = f\"curl -X GET 'http://localhost:9200?v'\"\n",
    "stdout, stderr= meas_node.execute(cmd)"
   ]
  },
  {
   "cell_type": "markdown",
   "id": "f572c885-fd38-4905-9678-30bee2da93c0",
   "metadata": {},
   "source": [
    "### Check the snapshot"
   ]
  },
  {
   "cell_type": "code",
   "execution_count": null,
   "id": "8f79fe2b-d5f4-4782-9b36-2c7f6901d687",
   "metadata": {},
   "outputs": [],
   "source": [
    "snapshot_name=\"snapshot_test\"\n",
    "cmd = f'curl -X GET \"http://localhost:9200/_snapshot/{repo_name}/{snapshot_name}?pretty\"'\n",
    "stdout, stderr= meas_node.execute(cmd)"
   ]
  },
  {
   "cell_type": "code",
   "execution_count": null,
   "id": "152fa20f-ca03-4c27-822b-cfd1951a147e",
   "metadata": {},
   "outputs": [],
   "source": [
    "# EDIT THIS - choose a list of index files from your local storage to import\n",
    "local_files = [\"./snapshots/elk_backup_2023-06-02_18:23:33.tar\"]\n",
    "\n",
    "output = mf.upload_service_files(\"elk\", local_files)"
   ]
  },
  {
   "cell_type": "markdown",
   "id": "4e2fe1f5-76fd-4280-b300-ebbeccf7972e",
   "metadata": {},
   "source": [
    "### Restore the data using specific snapshot"
   ]
  },
  {
   "cell_type": "code",
   "execution_count": null,
   "id": "c4652c38-059e-4ecc-877e-5068e388ab70",
   "metadata": {},
   "outputs": [],
   "source": [
    "# Need to specify indice names to restore, find in above cell and change below\n",
    "indice_str= f'\"indices\": \"filebeat-7.13.2-2023.05.29-000001,metricbeat-7.13.2-2023.05.29-000001,packetbeat-7.13.2-2023.05.29-000001\",'\n",
    "repo_name=\"backup_repository\"\n",
    "snapshot_name = \"snapshot_test\"\n",
    "cmd = f'curl -X POST \"http://localhost:9200/_snapshot/{repo_name}/{snapshot_name}/_restore?pretty\" -H \"Content-Type: application/json\" -d \\'{{{indice_str} \"rename_pattern\": \"(.+)\", \"rename_replacement\": \"restored-$1\", \"include_aliases\": false}}\\''\n",
    "#print (cmd)\n",
    "stdout, stderr= meas_node.execute(cmd)"
   ]
  },
  {
   "cell_type": "markdown",
   "id": "b9004316-928f-4539-9d6a-b537d6efdf23",
   "metadata": {},
   "source": [
    "### Check the progress"
   ]
  },
  {
   "cell_type": "code",
   "execution_count": null,
   "id": "78ee6475-9ff7-4b54-adbe-510faca291e0",
   "metadata": {},
   "outputs": [],
   "source": [
    "cmd = f'curl -XGET \"http://localhost:9200/_cat/recovery?v\"'\n",
    "stdout, stderr= meas_node.execute(cmd)"
   ]
  },
  {
   "cell_type": "markdown",
   "id": "d279ebb2-c8e5-45a6-b586-c0c81fd159d8",
   "metadata": {},
   "source": [
    "## Once finished, check indice"
   ]
  },
  {
   "cell_type": "code",
   "execution_count": null,
   "id": "13e34f06-e3d6-4d34-9584-86bec89b5d64",
   "metadata": {},
   "outputs": [],
   "source": [
    "cmd= f'curl -XGET \"http://localhost:9200/_cat/indices?pretty\"'\n",
    "stdout, stderr= meas_node.execute(cmd)"
   ]
  },
  {
   "cell_type": "markdown",
   "id": "dbe1e7b0-bf5e-4059-93c0-1834cfedb714",
   "metadata": {},
   "source": [
    "## Remove the index life cycle policy"
   ]
  },
  {
   "cell_type": "code",
   "execution_count": null,
   "id": "d7a0ce2a-a263-4835-b4e6-e8bdb1c22445",
   "metadata": {},
   "outputs": [],
   "source": [
    "restored_filebeat_index=\"restored-filebeat-7.13.2-2023.05.29-000001\"\n",
    "restored_metricbeat_index=\"restored-metricbeat-7.13.2-2023.05.29-000001\"\n",
    "restored_packetbeat_index = \"restored-packetbeat-7.13.2-2023.05.29-000001\"\n",
    "cmd1 = f'curl -X POST \"http://localhost:9200/{restored_filebeat_index}/_ilm/remove?pretty\"'\n",
    "cmd2 = f'curl -X POST \"http://localhost:9200/{restored_metricbeat_index}/_ilm/remove?pretty\"'\n",
    "cmd3 = f'curl -X POST \"http://localhost:9200/{restored_packetbeat_index}/_ilm/remove?pretty\"'\n",
    "stdout, stderr= meas_node.execute(cmd1)\n",
    "stdout, stderr= meas_node.execute(cmd2)\n",
    "stdout, stderr= meas_node.execute(cmd3)"
   ]
  },
  {
   "cell_type": "markdown",
   "id": "82fb3cba-751a-4072-b0f1-ea225ec595b4",
   "metadata": {},
   "source": [
    "## Set up ssh tunnel to view the data"
   ]
  },
  {
   "cell_type": "code",
   "execution_count": null,
   "id": "b695003d-cf9a-484d-8416-4c07d8511abe",
   "metadata": {},
   "outputs": [],
   "source": [
    "port = \"10050\"\n",
    "cmd=f'ssh -L {port}:localhost:5601 -F ssh_config -i slice_key ubuntu@{meas_node.get_management_ip()}'\n",
    "print (f\"Use [{cmd}] to set up ssh tunnel and then go to http://localhost:{port} to view the data \")"
   ]
  },
  {
   "cell_type": "markdown",
   "id": "c661458a-38e5-4cc9-a159-ab9f4e041b6d",
   "metadata": {},
   "source": [
    "### You will see (restored) filebeat/metricbeat/packetbeat indice(6 total). The restored ones are static with no life cycle policies. The regular filebeat/metricbeat/packetbeat indice will be continuous written to by the beats.   "
   ]
  },
  {
   "cell_type": "code",
   "execution_count": null,
   "id": "b3a6e3a6-994f-4f64-9556-84505c4d2ff8",
   "metadata": {},
   "outputs": [],
   "source": []
  }
 ],
 "metadata": {
  "kernelspec": {
   "display_name": "Python 3 (ipykernel)",
   "language": "python",
   "name": "python3"
  },
  "language_info": {
   "codemirror_mode": {
    "name": "ipython",
    "version": 3
   },
   "file_extension": ".py",
   "mimetype": "text/x-python",
   "name": "python",
   "nbconvert_exporter": "python",
   "pygments_lexer": "ipython3",
   "version": "3.9.7"
  }
 },
 "nbformat": 4,
 "nbformat_minor": 5
}

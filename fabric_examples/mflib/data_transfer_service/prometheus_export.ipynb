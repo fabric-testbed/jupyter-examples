{
 "cells": [
  {
   "cell_type": "markdown",
   "id": "46df9758-1777-4ca8-bfad-32996b2520a7",
   "metadata": {
    "tags": []
   },
   "source": [
    "# Generate Prometheus Snapshot on Meas Node\n",
    "### This notebook creates a Prometheus snapshot on the measurement node and helps you copy it to a backup destinaton\n",
    "\n",
    "### Prerequisites\n",
    "- Slice needs to be created: [Prepare a Slice](../prepare_a_slice.ipynb)\n",
    "- Slice needs to be instrumentized: [Instrumentize a Slice](../instrumentize_a_slice.ipynb)\n",
    "---"
   ]
  },
  {
   "cell_type": "markdown",
   "id": "45b7b039-a570-4ffd-8045-c626912fb90d",
   "metadata": {
    "tags": []
   },
   "source": [
    "## Setup"
   ]
  },
  {
   "cell_type": "markdown",
   "id": "ec773cba-0e3a-484b-987e-db992c8567da",
   "metadata": {
    "tags": []
   },
   "source": [
    "#### Set Slice Name"
   ]
  },
  {
   "cell_type": "code",
   "execution_count": null,
   "id": "e069985d-e6cd-47cf-95ee-a9459d4bb3b1",
   "metadata": {
    "tags": []
   },
   "outputs": [],
   "source": [
    "# Change your slice name and node name\n",
    "slice_name = \"MyMonitoredSlice\""
   ]
  },
  {
   "cell_type": "markdown",
   "id": "c38af514-60a3-4ad5-8fef-d76fb33635e0",
   "metadata": {
    "tags": []
   },
   "source": [
    "#### Import MF data transfer tools and create a new Prom export tools object with slice name"
   ]
  },
  {
   "cell_type": "code",
   "execution_count": null,
   "id": "e65b3ec4-0982-456d-af0e-a78b3f847c30",
   "metadata": {},
   "outputs": [],
   "source": [
    "from mflib.data_transfer import PrometheusExporter\n",
    "prom_tools = PrometheusExporter(slice_name=slice_name)"
   ]
  },
  {
   "cell_type": "markdown",
   "id": "d537bc5a-b660-41e1-aecf-ebaf8d8a5920",
   "metadata": {
    "tags": []
   },
   "source": [
    "#### Display the current Grafana tunnel"
   ]
  },
  {
   "cell_type": "code",
   "execution_count": null,
   "id": "895be641-d225-4d04-b06e-c74d9e7f81a7",
   "metadata": {},
   "outputs": [],
   "source": [
    "# Grafana SSH Tunnel Command\n",
    "# prom_tools.grafana_tunnel_local_port = 10010 # optionally change the port\n",
    "print(prom_tools.grafana_tunnel)\n",
    "\n",
    "print(f\"Browse to https://localhost:{prom_tools.grafana_tunnel_local_port}/grafana/dashboards?query=%2A\")"
   ]
  },
  {
   "cell_type": "markdown",
   "id": "fb0b8fcd-9ed0-449a-898c-a755f72d1222",
   "metadata": {
    "tags": []
   },
   "source": [
    "---\n",
    "## Create a Prometheus Snapshot"
   ]
  },
  {
   "cell_type": "markdown",
   "id": "3898ec28-9b1d-48ec-b8d6-8e5ffa5f28fe",
   "metadata": {},
   "source": [
    "#### Create a Prometheus snapshot"
   ]
  },
  {
   "cell_type": "code",
   "execution_count": null,
   "id": "823b1b84-4c72-46e8-b6c4-f1579a0271c4",
   "metadata": {},
   "outputs": [],
   "source": [
    "# Get prometheus admin credentials so we can create snapshots\n",
    "data={}\n",
    "data[\"get\"] = [\"ht_user\", \"ht_password\"]\n",
    "prom_credentials = prom_tools.info(\"prometheus\", data)"
   ]
  },
  {
   "cell_type": "code",
   "execution_count": null,
   "id": "120399bd-57e1-4bf3-8199-edfa9f594ac3",
   "metadata": {},
   "outputs": [],
   "source": [
    "snapshot_name = prom_tools.create_snapshot(prom_credentials[\"ht_user\"],prom_credentials[\"ht_password\"])\n",
    "print(f\"Snapshot name : {snapshot_name}\")"
   ]
  },
  {
   "cell_type": "markdown",
   "id": "552c1fc1-d389-45bf-8b93-1907ff872cd1",
   "metadata": {},
   "source": [
    "#### Export snapshot to Measurement node as tar file"
   ]
  },
  {
   "cell_type": "code",
   "execution_count": null,
   "id": "a43cbef5-4fdf-4ae3-b766-f616ce655c65",
   "metadata": {},
   "outputs": [],
   "source": [
    "prom_tools.export_snapshot_tar(snapshot_name)"
   ]
  },
  {
   "cell_type": "markdown",
   "id": "99a6da22-6a38-4591-a3cd-617205b8543c",
   "metadata": {},
   "source": [
    "#### Check that the snapshot file is in the directory on the Measurement Node"
   ]
  },
  {
   "cell_type": "code",
   "execution_count": null,
   "id": "6b09ae52-7640-4b4b-a86f-98032e950fb2",
   "metadata": {},
   "outputs": [],
   "source": [
    "prom_tools.view_snapshot_directory()"
   ]
  },
  {
   "cell_type": "markdown",
   "id": "309d437c-ca49-4aac-aa5d-59406e91388c",
   "metadata": {},
   "source": [
    "---\n",
    "## Copy snapshot off Measurement node"
   ]
  },
  {
   "cell_type": "markdown",
   "id": "45f3f453-1993-4cdd-86fe-73e9fe70cd41",
   "metadata": {
    "tags": []
   },
   "source": [
    "### Option 1: Copy to a local device with SCP"
   ]
  },
  {
   "cell_type": "markdown",
   "id": "9bbdb132-3029-41d1-ad94-f3dddb063af2",
   "metadata": {
    "jp-MarkdownHeadingCollapsed": true,
    "tags": []
   },
   "source": [
    "##### Prerequisite\n",
    "- For this step, you need your local ssh environment configured ([Configure Environment](./configure.ipynb))\n",
    "\n",
    "##### Example SCP (Secure Copy) command to download snapshot file from VM\n",
    "\n",
    "scp -F ~/.ssh/fabric/ssh_config -i ~/.ssh/fabric/slice_key ubuntu@\\[2620:0:c80:1001:f816:3eff:fe81:80cc]:/home/mfuser/services/elk/files/snapshots/snapshot.tar ."
   ]
  },
  {
   "cell_type": "markdown",
   "id": "8f5ba361-c0cf-49ab-a744-7074e4266fef",
   "metadata": {
    "tags": []
   },
   "source": [
    "##### Fill in the variables below then run to generate your custom SCP command"
   ]
  },
  {
   "cell_type": "code",
   "execution_count": null,
   "id": "0f621158-9396-4fcb-80a3-9247bbe55113",
   "metadata": {},
   "outputs": [],
   "source": [
    "# The ssh config file location on your local device\n",
    "ssh_config = \"~/.ssh/fabric/ssh_config\"\n",
    "\n",
    "# The fabric slice private key file on your local device\n",
    "private_key = \"~/.ssh/fabric/slice_key\"\n",
    "\n",
    "# The Measurement Node username\n",
    "username = prom_tools.slice_username\n",
    "\n",
    "# The Measurement Node IP Address\n",
    "ip = prom_tools.meas_node_ip\n",
    "\n",
    "# Destination to store snapshot file on your local device\n",
    "local_file_destination = \".\"\n",
    "\n",
    "# Snapshot file name (Keep commented out to use the last used in this notebook)\n",
    "#snapshot_name = \"snapshot\"\n",
    "\n",
    "# Create and print command\n",
    "scp_command = f\"scp -F {ssh_config} -i {private_key} {username}@\\[{ip}]:/home/mfuser/services/prometheus/files/snapshots/{snapshot_name}.tar {local_file_destination}\"\n",
    "print(scp_command)"
   ]
  },
  {
   "cell_type": "markdown",
   "id": "01e6f59c-7453-467e-8741-321715c779ac",
   "metadata": {
    "tags": []
   },
   "source": [
    "##### More info\n",
    "Fabric guide for transferring data directly from VM to local machine:\n",
    "https://learn.fabric-testbed.net/knowledge-base/transferring-data-to-and-from-your-vms/"
   ]
  },
  {
   "cell_type": "markdown",
   "id": "51f100b2-50c0-4925-8940-22e697c5d67a",
   "metadata": {
    "tags": []
   },
   "source": [
    "### Option 2: Copy to Jupyter Hub server"
   ]
  },
  {
   "cell_type": "markdown",
   "id": "98317e4d-ce87-4e80-aa61-d156f5a3b64a",
   "metadata": {},
   "source": [
    "##### **CAUTION** The JH servers have very limited storage. If you are doing this method, make sure you do not download large or multiple snapshot files.\n",
    "##### Fill in the variables below then run to download file to JH server"
   ]
  },
  {
   "cell_type": "code",
   "execution_count": null,
   "id": "6fec7b92-10c1-43ef-97af-4a997f68f187",
   "metadata": {},
   "outputs": [],
   "source": [
    "# Snapshot file name (Keep commented out to use the last used in this notebook)\n",
    "#snapshot_name = \"\"\n",
    "\n",
    "# Destination to store snapshot file on your local device\n",
    "local_file_destination = f\"./snapshots/{snapshot_name}.tar\"\n",
    "\n",
    "\n",
    "prom_tools.meas_node.download_file(local_file_destination, f\"/home/mfuser/services/prometheus/files/snapshots/{snapshot_name}.tar\")"
   ]
  },
  {
   "cell_type": "markdown",
   "id": "d4ee7c4f-2bc9-4244-83b5-eb6c720d20e2",
   "metadata": {},
   "source": [
    "---\n",
    "\n",
    "# Export complete\n",
    "\n",
    "For import instructions, refer back to [Start Here](./start_here.ipynb)"
   ]
  },
  {
   "cell_type": "code",
   "execution_count": null,
   "id": "321cb107-8398-4d27-b329-02b3ada48733",
   "metadata": {},
   "outputs": [],
   "source": []
  }
 ],
 "metadata": {
  "kernelspec": {
   "display_name": "Python 3 (ipykernel)",
   "language": "python",
   "name": "python3"
  },
  "language_info": {
   "codemirror_mode": {
    "name": "ipython",
    "version": 3
   },
   "file_extension": ".py",
   "mimetype": "text/x-python",
   "name": "python",
   "nbconvert_exporter": "python",
   "pygments_lexer": "ipython3",
   "version": "3.10.6"
  }
 },
 "nbformat": 4,
 "nbformat_minor": 5
}

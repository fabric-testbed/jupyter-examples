{
 "cells": [
  {
   "cell_type": "markdown",
   "id": "db7900bf-ab7c-4565-a279-15c3792d9df4",
   "metadata": {},
   "source": [
    "# Import elk snapshot in another fabric slice"
   ]
  },
  {
   "cell_type": "markdown",
   "id": "c3c8d125-bc4d-494c-8fb8-8945749254b7",
   "metadata": {},
   "source": [
    "## Import"
   ]
  },
  {
   "cell_type": "code",
   "execution_count": 1,
   "id": "4c228a00-c126-4c51-a792-405122c87158",
   "metadata": {},
   "outputs": [
    {
     "name": "stdout",
     "output_type": "stream",
     "text": [
      "MFLib version  1.0.0 \n"
     ]
    }
   ],
   "source": [
    "import os\n",
    "import json\n",
    "import traceback\n",
    "from fabrictestbed_extensions.fablib.fablib import FablibManager as fablib_manager\n",
    "try:\n",
    "    fablib = fablib_manager()                \n",
    "    #fablib.show_config()\n",
    "except Exception as e:\n",
    "    print(f\"Exception: {e}\")\n",
    "import mflib\n",
    "print(f\"MFLib version  {mflib.__version__} \" )\n",
    "from mflib.mflib import MFLib"
   ]
  },
  {
   "cell_type": "code",
   "execution_count": 2,
   "id": "99426b52-de41-4877-8c5a-21a1c949ee60",
   "metadata": {},
   "outputs": [],
   "source": [
    "import importlib\n",
    "import mf_data_transfer\n",
    "importlib.reload(mf_data_transfer)\n",
    "from mf_data_transfer import mf_data_import"
   ]
  },
  {
   "cell_type": "markdown",
   "id": "76e29941-7239-4e5e-b106-93b854b3fe32",
   "metadata": {},
   "source": [
    "## Slice Info"
   ]
  },
  {
   "cell_type": "code",
   "execution_count": 3,
   "id": "9e7f0f47-a59b-4451-bed1-772c5adad033",
   "metadata": {},
   "outputs": [],
   "source": [
    "slice_name = \"backup-testing\"\n",
    "node1_name = 'data-backup'"
   ]
  },
  {
   "cell_type": "code",
   "execution_count": 4,
   "id": "c8b7ce25-2365-498c-a758-39acde2b6385",
   "metadata": {},
   "outputs": [
    {
     "name": "stdout",
     "output_type": "stream",
     "text": [
      "-----------  ------------------------------------\n",
      "Slice Name   backup-testing\n",
      "Slice ID     a51c0f31-82a8-46b1-b19d-5e9216016dbf\n",
      "Slice State  StableOK\n",
      "Lease End    2023-06-13 00:02:12 +0000\n",
      "-----------  ------------------------------------\n"
     ]
    }
   ],
   "source": [
    "try:\n",
    "    slice = fablib.get_slice(name=slice_name)\n",
    "except Exception as e:\n",
    "    print(f\"Fail: {e}\")\n",
    "print (slice)\n",
    "\n",
    "try:\n",
    "    node = slice.get_node(name=node1_name)\n",
    "except Exception as e:\n",
    "    print(f\"Fail: {e}\")"
   ]
  },
  {
   "cell_type": "markdown",
   "id": "551fa2bc-48a7-4ac7-85c2-bf1d8af2df51",
   "metadata": {},
   "source": [
    "## Start elk container to use the snapshot"
   ]
  },
  {
   "cell_type": "markdown",
   "id": "ae6d1f7f-d51e-48fa-9eb4-40de608baa34",
   "metadata": {},
   "source": [
    "### upload elasticsearch.yml to the node"
   ]
  },
  {
   "cell_type": "code",
   "execution_count": 5,
   "id": "c74fe516-dec8-48be-af9c-5a40526b5b0b",
   "metadata": {},
   "outputs": [
    {
     "name": "stdout",
     "output_type": "stream",
     "text": [
      "\u001b[31m sudo: unable to resolve host data-backup: Name or service not known\n",
      " \u001b[0m"
     ]
    }
   ],
   "source": [
    "# Upload an example elasticsearch.yml file\n",
    "node.upload_file(local_file_path=\"/home/fabric/work/data_transfer/elk_docker/elasticsearch.yml\", \n",
    "                 remote_file_path='/home/ubuntu/elasticsearch.yml')\n",
    "cmd = \"sudo chown root:root /home/ubuntu/elasticsearch.yml\"\n",
    "stdout, stderr=node.execute(cmd)"
   ]
  },
  {
   "cell_type": "markdown",
   "id": "1ce60350-b467-4c27-a721-b7cede9992c0",
   "metadata": {},
   "source": [
    "### create docker volumes"
   ]
  },
  {
   "cell_type": "code",
   "execution_count": 6,
   "id": "0d28b1b2-ea08-4d85-af31-e7343b1f79f8",
   "metadata": {},
   "outputs": [
    {
     "name": "stdout",
     "output_type": "stream",
     "text": [
      "elk_snapshotbackup\n",
      "\u001b[31m sudo: unable to resolve host data-backup: Name or service not known\n",
      " \u001b[0melk_data01\n",
      "\u001b[31m sudo: unable to resolve host data-backup: Name or service not known\n",
      " \u001b[0m"
     ]
    }
   ],
   "source": [
    "cmd = \"sudo docker volume create elk_snapshotbackup\"\n",
    "stdout, stderr=node.execute(cmd)\n",
    "cmd = \"sudo docker volume create elk_data01\"\n",
    "stdout, stderr=node.execute(cmd)"
   ]
  },
  {
   "cell_type": "markdown",
   "id": "a97e3e0c-6f47-4c81-85fc-9bdae346153d",
   "metadata": {},
   "source": [
    "### Start the container"
   ]
  },
  {
   "cell_type": "code",
   "execution_count": 7,
   "id": "d0549017-312b-4bdc-81be-a5c33421955a",
   "metadata": {
    "scrolled": true,
    "tags": []
   },
   "outputs": [
    {
     "name": "stdout",
     "output_type": "stream",
     "text": [
      "f1d11bee74183760255c9e20116da0f77eccc1f924dc915b36994dd624ad8e16\n",
      "\u001b[31m sudo: unable to resolve host data-backup: Name or service not known\n",
      "Unable to find image 'elasticsearch:7.13.0' locally\n",
      "7.13.0: Pulling from library/elasticsearch\n",
      "7a0437f04f83: Pulling fs layer\n",
      "dea920879f70: Pulling fs layer\n",
      "45def7f6c6b6: Pulling fs layer\n",
      "ff173f2d6e01: Pulling fs layer\n",
      "96cca0727b1d: Pulling fs layer\n",
      "67c1b86afe55: Pulling fs layer\n",
      "007b3c569f35: Pulling fs layer\n",
      "ff173f2d6e01: Waiting\n",
      "96cca0727b1d: Waiting\n",
      "67c1b86afe55: Waiting\n",
      "007b3c569f35: Waiting\n",
      "45def7f6c6b6: Verifying Checksum\n",
      "45def7f6c6b6: Download complete\n",
      "dea920879f70: Verifying Checksum\n",
      "dea920879f70: Download complete\n",
      "96cca0727b1d: Verifying Checksum\n",
      "96cca0727b1d: Download complete\n",
      "7a0437f04f83: Verifying Checksum\n",
      "7a0437f04f83: Download complete\n",
      "67c1b86afe55: Verifying Checksum\n",
      "67c1b86afe55: Download complete\n",
      "007b3c569f35: Verifying Checksum\n",
      "007b3c569f35: Download complete\n",
      "7a0437f04f83: Pull complete\n",
      "ff173f2d6e01: Verifying Checksum\n",
      "ff173f2d6e01: Download complete\n",
      "dea920879f70: Pull complete\n",
      "45def7f6c6b6: Pull complete\n",
      "ff173f2d6e01: Pull complete\n",
      "96cca0727b1d: Pull complete\n",
      "67c1b86afe55: Pull complete\n",
      "007b3c569f35: Pull complete\n",
      "Digest: sha256:5928ef72ed4be974b6e41fba6599ed12806200e8710c48815c7fb0cbdf2283ca\n",
      "Status: Downloaded newer image for elasticsearch:7.13.0\n",
      " \u001b[0m"
     ]
    }
   ],
   "source": [
    "cmd = f'''\n",
    "        sudo docker run -dit --name elasticsearch \\\n",
    "        --user 0:0 \\\n",
    "        -p 9200:9200 \\\n",
    "        -e \"discovery.type=single-node\" \\\n",
    "        -e \"path.repo=/usr/share/elasticsearch/backup\" \\\n",
    "        -v /home/ubuntu/elasticsearch.yml:/usr/share/elasticsearch/config/elasticsearch.yml \\\n",
    "        -v elk_data01:/usr/share/elasticsearch/data \\\n",
    "        -v elk_snapshotbackup:/usr/share/elasticsearch/backup \\\n",
    "        --ulimit memlock=-1:-1 \\\n",
    "        --log-driver json-file \\\n",
    "        elasticsearch:7.13.0\n",
    "      '''\n",
    "stdout, stderr=node.execute(cmd)"
   ]
  },
  {
   "cell_type": "code",
   "execution_count": 8,
   "id": "65cf42c7-7971-4022-8815-e8d6e3747f8a",
   "metadata": {},
   "outputs": [
    {
     "name": "stdout",
     "output_type": "stream",
     "text": [
      "CONTAINER ID   IMAGE                     COMMAND                  CREATED          STATUS          PORTS                                                 NAMES\n",
      "f1d11bee7418   elasticsearch:7.13.0      \"/bin/tini -- /usr/l…\"   19 seconds ago   Up 18 seconds   0.0.0.0:9200->9200/tcp, :::9200->9200/tcp, 9300/tcp   elasticsearch\n",
      "f207407bdae2   prom/prometheus:v2.33.4   \"/bin/prometheus --c…\"   9 minutes ago    Up 9 minutes    0.0.0.0:9090->9090/tcp, :::9090->9090/tcp             prometheus\n",
      "43ca34ee7daf   data_transfer:1.0         \"python3\"                16 minutes ago   Up 16 minutes                                                         data_transfer\n",
      "\u001b[31m sudo: unable to resolve host data-backup: Name or service not known\n",
      " \u001b[0m"
     ]
    },
    {
     "data": {
      "text/plain": [
       "('CONTAINER ID   IMAGE                     COMMAND                  CREATED          STATUS          PORTS                                                 NAMES\\nf1d11bee7418   elasticsearch:7.13.0      \"/bin/tini -- /usr/l…\"   19 seconds ago   Up 18 seconds   0.0.0.0:9200->9200/tcp, :::9200->9200/tcp, 9300/tcp   elasticsearch\\nf207407bdae2   prom/prometheus:v2.33.4   \"/bin/prometheus --c…\"   9 minutes ago    Up 9 minutes    0.0.0.0:9090->9090/tcp, :::9090->9090/tcp             prometheus\\n43ca34ee7daf   data_transfer:1.0         \"python3\"                16 minutes ago   Up 16 minutes                                                         data_transfer\\n',\n",
       " 'sudo: unable to resolve host data-backup: Name or service not known\\n')"
      ]
     },
     "execution_count": 8,
     "metadata": {},
     "output_type": "execute_result"
    }
   ],
   "source": [
    "node.execute(\"sudo docker ps\")"
   ]
  },
  {
   "cell_type": "markdown",
   "id": "babd8ef1-59ab-4eb3-8c1f-d09ac0fd3d3b",
   "metadata": {},
   "source": [
    "### Change snapshot dir permission"
   ]
  },
  {
   "cell_type": "code",
   "execution_count": 9,
   "id": "1d8701db-f0f4-4675-b202-0716139ea067",
   "metadata": {},
   "outputs": [
    {
     "name": "stdout",
     "output_type": "stream",
     "text": [
      "\u001b[31m sudo: unable to resolve host data-backup: Name or service not known\n",
      " \u001b[0m"
     ]
    }
   ],
   "source": [
    "cmd = f\"sudo chown -R 1000:1000 /var/lib/docker/volumes/elk_snapshotbackup/_data\"\n",
    "stdout, stderr=node.execute(cmd)"
   ]
  },
  {
   "cell_type": "markdown",
   "id": "96dad681-7bd1-4746-9788-af83f726e041",
   "metadata": {},
   "source": [
    "### Register a backup repository"
   ]
  },
  {
   "cell_type": "code",
   "execution_count": 10,
   "id": "5f6fe0ba-2eb9-4dd1-ba3b-d421e9057885",
   "metadata": {},
   "outputs": [
    {
     "name": "stdout",
     "output_type": "stream",
     "text": [
      "{\n",
      "  \"acknowledged\" : true\n",
      "}\n",
      "\u001b[31m   % Total    % Received % Xferd  Average Speed   Time    Time     Time  Current\n",
      "                                 Dload  Upload   Total   Spent    Left  Speed\n",
      "100   107  100    28  100    79    166    470 --:--:-- --:--:-- --:--:--   636\n",
      " \u001b[0m"
     ]
    }
   ],
   "source": [
    "repo_name = \"backup_repository\"\n",
    "default_dir = \"/usr/share/elasticsearch/backup\"\n",
    "cmd = f'curl -X PUT \"http://localhost:9200/_snapshot/{repo_name}?pretty\" -H \"Content-Type: application/json\" -d \\'{{ \"type\": \"fs\", \"settings\": {{ \"location\": \"{default_dir}\" }} }}\\''\n",
    "stdout, stderr=node.execute(cmd)"
   ]
  },
  {
   "cell_type": "markdown",
   "id": "9d11087d-13a7-41a1-a817-d9e36494bb6c",
   "metadata": {},
   "source": [
    "### Create a snapshot"
   ]
  },
  {
   "cell_type": "code",
   "execution_count": 11,
   "id": "15c6eb46-fa07-4388-96e1-c887da050e7c",
   "metadata": {},
   "outputs": [
    {
     "name": "stdout",
     "output_type": "stream",
     "text": [
      "{\n",
      "  \"snapshot\" : {\n",
      "    \"snapshot\" : \"snapshot_test\",\n",
      "    \"uuid\" : \"7J0aqwEERLW99AfyRPRjgw\",\n",
      "    \"version_id\" : 7130099,\n",
      "    \"version\" : \"7.13.0\",\n",
      "    \"indices\" : [ ],\n",
      "    \"data_streams\" : [ ],\n",
      "    \"include_global_state\" : true,\n",
      "    \"state\" : \"SUCCESS\",\n",
      "    \"start_time\" : \"2023-05-30T00:33:27.585Z\",\n",
      "    \"start_time_in_millis\" : 1685406807585,\n",
      "    \"end_time\" : \"2023-05-30T00:33:27.585Z\",\n",
      "    \"end_time_in_millis\" : 1685406807585,\n",
      "    \"duration_in_millis\" : 0,\n",
      "    \"failures\" : [ ],\n",
      "    \"shards\" : {\n",
      "      \"total\" : 0,\n",
      "      \"failed\" : 0,\n",
      "      \"successful\" : 0\n",
      "    },\n",
      "    \"feature_states\" : [ ]\n",
      "  }\n",
      "}\n",
      "\u001b[31m   % Total    % Received % Xferd  Average Speed   Time    Time     Time  Current\n",
      "                                 Dload  Upload   Total   Spent    Left  Speed\n",
      "100   659  100   602  100    57   5234    495 --:--:-- --:--:-- --:--:--  5730\n",
      " \u001b[0m"
     ]
    }
   ],
   "source": [
    "snapshot_name = \"snapshot_test\"\n",
    "json_str = '\"ignore_unavailable\": true, \"include_global_state\": false'\n",
    "cmd = f'curl -X PUT \"http://localhost:9200/_snapshot/{repo_name}/{snapshot_name}?wait_for_completion=true&pretty\" -H \"Content-Type: application/json\" -d \\'{json_str}\\''\n",
    "stdout, stderr= node.execute(cmd)"
   ]
  },
  {
   "cell_type": "markdown",
   "id": "675111a6-6df5-410a-9aa2-811c88f6b583",
   "metadata": {},
   "source": [
    "### Replace the file with the tar file"
   ]
  },
  {
   "cell_type": "code",
   "execution_count": 12,
   "id": "f2de909f-f042-489f-a09d-1e78bd7abd2f",
   "metadata": {},
   "outputs": [
    {
     "name": "stdout",
     "output_type": "stream",
     "text": [
      "\u001b[31m sudo: unable to resolve host data-backup: Name or service not known\n",
      " \u001b[0m"
     ]
    }
   ],
   "source": [
    "snapshot_dir = \"/var/lib/docker/volumes/elk_snapshotbackup/_data\"\n",
    "cmd = f\"sudo rm -rf {snapshot_dir}\"\n",
    "stdout, stderr= node.execute(cmd)"
   ]
  },
  {
   "cell_type": "code",
   "execution_count": 13,
   "id": "bcf8688a-387d-4c5c-a7b8-9d84c63288db",
   "metadata": {
    "scrolled": true,
    "tags": []
   },
   "outputs": [
    {
     "data": {
      "text/plain": [
       "('_data/\\n_data/meta-QzNC8U7WTG-hSSuajanuJQ.dat\\n_data/snap-QzNC8U7WTG-hSSuajanuJQ.dat\\n_data/indices/\\n_data/indices/w2asDBdJRU-kq93pQsIDOA/\\n_data/indices/w2asDBdJRU-kq93pQsIDOA/0/\\n_data/indices/w2asDBdJRU-kq93pQsIDOA/0/__94aROeo0Sjm62PjidM3VTw\\n_data/indices/w2asDBdJRU-kq93pQsIDOA/0/__QmWIzGKUTXirzDoxkpS9Pw\\n_data/indices/w2asDBdJRU-kq93pQsIDOA/0/__wdGCTzkfSgulirLO83DefQ\\n_data/indices/w2asDBdJRU-kq93pQsIDOA/0/__2wCu4DuERCC2Ih9m_N0wCg\\n_data/indices/w2asDBdJRU-kq93pQsIDOA/0/__vNbia6ooQU63DhAvBMeNTA\\n_data/indices/w2asDBdJRU-kq93pQsIDOA/0/__3Zkv-jkCSxGVCFM4N6Oi7Q\\n_data/indices/w2asDBdJRU-kq93pQsIDOA/0/__11VRQyf2QlecgGy4nB9FRw\\n_data/indices/w2asDBdJRU-kq93pQsIDOA/0/snap-QzNC8U7WTG-hSSuajanuJQ.dat\\n_data/indices/w2asDBdJRU-kq93pQsIDOA/0/__09hQxcm6SkmNb6H0nJmSLQ\\n_data/indices/w2asDBdJRU-kq93pQsIDOA/0/__POfpX22SR1musJMJtYKxWw\\n_data/indices/w2asDBdJRU-kq93pQsIDOA/0/__8iKrb6GpRyq26-lbe3YnoQ\\n_data/indices/w2asDBdJRU-kq93pQsIDOA/0/__RXBIgGcHT8eNi3HWs5a6XQ\\n_data/indices/w2asDBdJRU-kq93pQsIDOA/0/__BY33k4qyRfSBfoQ1mSLcOA\\n_data/indices/w2asDBdJRU-kq93pQsIDOA/0/__KkdSTWfQTwy4I1WDGNul2Q\\n_data/indices/w2asDBdJRU-kq93pQsIDOA/0/__HMRvOqOyQTiDJLxN4b9Wcw\\n_data/indices/w2asDBdJRU-kq93pQsIDOA/0/__wi9nPDF6Rly_Xz9DNFCo2g\\n_data/indices/w2asDBdJRU-kq93pQsIDOA/0/__Md_mfUd1R_qKN92IVdHyIw\\n_data/indices/w2asDBdJRU-kq93pQsIDOA/0/__wN0fUImMSUCH9bDGiCYGkA\\n_data/indices/w2asDBdJRU-kq93pQsIDOA/0/__8iWEzrUdS-SKL1CI0WCJew\\n_data/indices/w2asDBdJRU-kq93pQsIDOA/0/__Jc3uvIdnRAS-JzweFHMQ0A\\n_data/indices/w2asDBdJRU-kq93pQsIDOA/0/__nd8397QnS0OpVEZbLN_nhA\\n_data/indices/w2asDBdJRU-kq93pQsIDOA/0/__nxy-G-drSAOEvxrhiO2xsQ\\n_data/indices/w2asDBdJRU-kq93pQsIDOA/0/__sPn6SJ4ORWW4nC-bM-BIjQ\\n_data/indices/w2asDBdJRU-kq93pQsIDOA/0/__8oa3Og7tRlKIqG1HLOKcIg\\n_data/indices/w2asDBdJRU-kq93pQsIDOA/0/__IhtjYa6-QA-QQ53b04xgWA\\n_data/indices/w2asDBdJRU-kq93pQsIDOA/0/__FPQZkUZASbyNW_q7mLcLTA\\n_data/indices/w2asDBdJRU-kq93pQsIDOA/0/__Xgp_qGk5Rkuor4Yor2Finw\\n_data/indices/w2asDBdJRU-kq93pQsIDOA/0/__e8lFKgb-R2Ss1lmww1TsYQ\\n_data/indices/w2asDBdJRU-kq93pQsIDOA/0/__8r7LIDMqQ1K6AgyO5HsNsQ\\n_data/indices/w2asDBdJRU-kq93pQsIDOA/0/__4wHIhwBzRmaWzvDmgPwVrg\\n_data/indices/w2asDBdJRU-kq93pQsIDOA/0/__7k5inbeQSjuWOr3xkttxXg\\n_data/indices/w2asDBdJRU-kq93pQsIDOA/0/__Rjzqn3CvSZOjawbzMO27SA\\n_data/indices/w2asDBdJRU-kq93pQsIDOA/0/__6XB_8h5-Q_ezpXMCCwxMAg\\n_data/indices/w2asDBdJRU-kq93pQsIDOA/0/__fRAlYceRTcaftYeLjAy4OA\\n_data/indices/w2asDBdJRU-kq93pQsIDOA/0/__g7gJwkRaSbW8g77ifqI76g\\n_data/indices/w2asDBdJRU-kq93pQsIDOA/0/__sZm9qXqLTi6J2zcWP9E6lg\\n_data/indices/w2asDBdJRU-kq93pQsIDOA/0/__WqpSKq_OTDmAZ6NTOhGp6Q\\n_data/indices/w2asDBdJRU-kq93pQsIDOA/0/__RDRBrSuqTuiFqk3odhFkWQ\\n_data/indices/w2asDBdJRU-kq93pQsIDOA/0/___hKQ1RmJSay8l4l6lCQwGA\\n_data/indices/w2asDBdJRU-kq93pQsIDOA/0/index-cIZ0WX7iRZSSIfL-nGTDjw\\n_data/indices/w2asDBdJRU-kq93pQsIDOA/0/__c8fYx79eQrO7naSTiDlpLA\\n_data/indices/w2asDBdJRU-kq93pQsIDOA/0/__72EkMddrQZONCytEaY4NNw\\n_data/indices/w2asDBdJRU-kq93pQsIDOA/meta-f0_waYgBXYKBiLoWDVb2.dat\\n_data/indices/UosDDEsKTKe7QUEK85Wz7Q/\\n_data/indices/UosDDEsKTKe7QUEK85Wz7Q/0/\\n_data/indices/UosDDEsKTKe7QUEK85Wz7Q/0/__3cetY6eJQZedHMW185m5pg\\n_data/indices/UosDDEsKTKe7QUEK85Wz7Q/0/__KdcyrzuLRgG8GrOhwpKw8g\\n_data/indices/UosDDEsKTKe7QUEK85Wz7Q/0/__7ysXmhccT-WGH1Ri-fF4-w\\n_data/indices/UosDDEsKTKe7QUEK85Wz7Q/0/__jegxBIVFQSaV-39M934-hw\\n_data/indices/UosDDEsKTKe7QUEK85Wz7Q/0/__1FyoChzKRIqM6hsYxCvBZA\\n_data/indices/UosDDEsKTKe7QUEK85Wz7Q/0/__wn22nMIeRKi_MXWtLkt4zw\\n_data/indices/UosDDEsKTKe7QUEK85Wz7Q/0/__4pHf2vzoRiuTW_rc1XuXEw\\n_data/indices/UosDDEsKTKe7QUEK85Wz7Q/0/__aGQbiVzTQKOtx3fPLU7XIw\\n_data/indices/UosDDEsKTKe7QUEK85Wz7Q/0/__IZqDp6umSCGRZ9Norl25Cw\\n_data/indices/UosDDEsKTKe7QUEK85Wz7Q/0/__ZcBNZvsJQiKOCikUwXVEUQ\\n_data/indices/UosDDEsKTKe7QUEK85Wz7Q/0/__jdnsI9VRRvSQBQ7sH8q9xA\\n_data/indices/UosDDEsKTKe7QUEK85Wz7Q/0/__ZUFwY6BYR9ySP1F3Mf3S_A\\n_data/indices/UosDDEsKTKe7QUEK85Wz7Q/0/__t51j3LCaQ7K85WVPw9SrHA\\n_data/indices/UosDDEsKTKe7QUEK85Wz7Q/0/__sMQz0uerTG-vUDMztiD-iQ\\n_data/indices/UosDDEsKTKe7QUEK85Wz7Q/0/__7Mw3ARz8TW-KuvMvVBB9ug\\n_data/indices/UosDDEsKTKe7QUEK85Wz7Q/0/snap-QzNC8U7WTG-hSSuajanuJQ.dat\\n_data/indices/UosDDEsKTKe7QUEK85Wz7Q/0/__0dsjad8ISmSJASLWO7ZzTw\\n_data/indices/UosDDEsKTKe7QUEK85Wz7Q/0/__Rjrt0XrPSHOCXaT0UgQJpw\\n_data/indices/UosDDEsKTKe7QUEK85Wz7Q/0/__GcFza1YIQO6sYOmCDO08Dg\\n_data/indices/UosDDEsKTKe7QUEK85Wz7Q/0/__bTrXGD5iTGys8SYsxV_XLg\\n_data/indices/UosDDEsKTKe7QUEK85Wz7Q/0/__Oq20_kUuQpezVYD40JZ8hg\\n_data/indices/UosDDEsKTKe7QUEK85Wz7Q/0/__KfHMfdk2RMG8WhS2Xq6cmQ\\n_data/indices/UosDDEsKTKe7QUEK85Wz7Q/0/__paovjzIoRrCYDMdoBKLXjQ\\n_data/indices/UosDDEsKTKe7QUEK85Wz7Q/0/__R9iQ3D8TS_WPXwqDpREzAw\\n_data/indices/UosDDEsKTKe7QUEK85Wz7Q/0/__bCGPbcMKQbOT7udmvm8SDg\\n_data/indices/UosDDEsKTKe7QUEK85Wz7Q/0/__WoKnpe8nTD-qmCpD2j-0dg\\n_data/indices/UosDDEsKTKe7QUEK85Wz7Q/0/__zY5WBozyRpi6eMaKRrXKuQ\\n_data/indices/UosDDEsKTKe7QUEK85Wz7Q/0/__ghRouV4RSs6LfVEyaDZKHQ\\n_data/indices/UosDDEsKTKe7QUEK85Wz7Q/0/__A62KtdpzRFuwRuJ7-5pAmg\\n_data/indices/UosDDEsKTKe7QUEK85Wz7Q/0/__fYUXGRWURMy-mforHyauow\\n_data/indices/UosDDEsKTKe7QUEK85Wz7Q/0/__O7i9WmVYSdKIIaYlWo8Q0g\\n_data/indices/UosDDEsKTKe7QUEK85Wz7Q/0/__s8x9ptlmRYScLzMmeRNPVw\\n_data/indices/UosDDEsKTKe7QUEK85Wz7Q/0/__nEO9wuGaSCibJsb75D8PRQ\\n_data/indices/UosDDEsKTKe7QUEK85Wz7Q/0/__zG5xYZJwS_SW1QMQOkqazQ\\n_data/indices/UosDDEsKTKe7QUEK85Wz7Q/0/__GlSoHGDZSwKk6UbQVK58BA\\n_data/indices/UosDDEsKTKe7QUEK85Wz7Q/0/__LZnH9dgGS9yWsRlznMq_xw\\n_data/indices/UosDDEsKTKe7QUEK85Wz7Q/0/__LrTfVFLRQYSmXxuf8dEORw\\n_data/indices/UosDDEsKTKe7QUEK85Wz7Q/0/__cFzU4-VeRG2ZaOP8byA65A\\n_data/indices/UosDDEsKTKe7QUEK85Wz7Q/0/__cBpHMw_0SbmWBXdwpRW1IQ\\n_data/indices/UosDDEsKTKe7QUEK85Wz7Q/0/__uqvKrxPUT6aBXLQf0-V7CA\\n_data/indices/UosDDEsKTKe7QUEK85Wz7Q/0/__5DrhypgVRMqysF7xa5m8AA\\n_data/indices/UosDDEsKTKe7QUEK85Wz7Q/0/__ZXi_RNg8SJKrekvph6OC3Q\\n_data/indices/UosDDEsKTKe7QUEK85Wz7Q/0/__S0dvRfWJSOeUPof0J-o8mQ\\n_data/indices/UosDDEsKTKe7QUEK85Wz7Q/0/__7zBbcFL4S2qx85rdzhaszw\\n_data/indices/UosDDEsKTKe7QUEK85Wz7Q/0/__l5iGBVc6StmiT2VkBYoPUQ\\n_data/indices/UosDDEsKTKe7QUEK85Wz7Q/0/__iSpKjzuMTjyBB2_wMD_Mlw\\n_data/indices/UosDDEsKTKe7QUEK85Wz7Q/0/__mcPm-GDFTGS8wI60BCZyBQ\\n_data/indices/UosDDEsKTKe7QUEK85Wz7Q/0/index-f4Uui3RgQ0u--qb6L-ERmg\\n_data/indices/UosDDEsKTKe7QUEK85Wz7Q/0/__YuWOG6CwTAi02pJGgonw6A\\n_data/indices/UosDDEsKTKe7QUEK85Wz7Q/0/__zQBnkF5wQNOI3K5dFtXM_w\\n_data/indices/UosDDEsKTKe7QUEK85Wz7Q/0/__qznVpar-SkqWflOteAVYhw\\n_data/indices/UosDDEsKTKe7QUEK85Wz7Q/0/__NfvcR8SzSrq0iVVkF25o0A\\n_data/indices/UosDDEsKTKe7QUEK85Wz7Q/0/__RU3bNE6MRGCcXndtpuGTbw\\n_data/indices/UosDDEsKTKe7QUEK85Wz7Q/0/__o_SlFR67R9aT3fuiYhOVNg\\n_data/indices/UosDDEsKTKe7QUEK85Wz7Q/0/__o5VI59gkQVaUUJkif4odZw\\n_data/indices/UosDDEsKTKe7QUEK85Wz7Q/0/__YYnFmOchRb-h-b2wAKkSQg\\n_data/indices/UosDDEsKTKe7QUEK85Wz7Q/0/__vlWkuRTQT5-iNMpxfEOipw\\n_data/indices/UosDDEsKTKe7QUEK85Wz7Q/0/__iTK07LHsT3a3IpsfKLD_Fw\\n_data/indices/UosDDEsKTKe7QUEK85Wz7Q/0/__fdUg9_yTSeaLK-wTtEUtqQ\\n_data/indices/UosDDEsKTKe7QUEK85Wz7Q/0/__A5pcTbuhTzuyVBnC47CZPw\\n_data/indices/UosDDEsKTKe7QUEK85Wz7Q/meta-hk_waYgBXYKBiLoWDlYJ.dat\\n_data/indices/0L8hsIDySlujypjCb_fDWQ/\\n_data/indices/0L8hsIDySlujypjCb_fDWQ/0/\\n_data/indices/0L8hsIDySlujypjCb_fDWQ/0/__j5L8U8tfRp-BPNAiqGR7Lw\\n_data/indices/0L8hsIDySlujypjCb_fDWQ/0/__CPRQpH1yTxql6MjQTWUjrw\\n_data/indices/0L8hsIDySlujypjCb_fDWQ/0/__c53BWJi-QreVkhhkT1CP9Q\\n_data/indices/0L8hsIDySlujypjCb_fDWQ/0/__DUBDpdb0TNiIUGpezhcmiw\\n_data/indices/0L8hsIDySlujypjCb_fDWQ/0/__qJkGjy7XTjuUNAW4i01aIg\\n_data/indices/0L8hsIDySlujypjCb_fDWQ/0/__dU0uzyAiSZybuiAB3I5t1A\\n_data/indices/0L8hsIDySlujypjCb_fDWQ/0/__SaEZqPU4T3K4j02PcS44qQ\\n_data/indices/0L8hsIDySlujypjCb_fDWQ/0/__r6UniJuASbyo04VOweYq1g\\n_data/indices/0L8hsIDySlujypjCb_fDWQ/0/__6MYjhgqpQCGMzEuE23b1RA\\n_data/indices/0L8hsIDySlujypjCb_fDWQ/0/__L4Ko2RJyR9W-eHVtIZyX7g\\n_data/indices/0L8hsIDySlujypjCb_fDWQ/0/__VRz4IklpQiGnreBdEXfVvw\\n_data/indices/0L8hsIDySlujypjCb_fDWQ/0/__4R5rKNdDRmK0r3Ay0COOxA\\n_data/indices/0L8hsIDySlujypjCb_fDWQ/0/__2072qWeQRGKSYl9kXaAwGg\\n_data/indices/0L8hsIDySlujypjCb_fDWQ/0/__h-sLlAfZQMuFPUmCABfMfQ\\n_data/indices/0L8hsIDySlujypjCb_fDWQ/0/__-mCVATV2SJmth0hX2DWGsQ\\n_data/indices/0L8hsIDySlujypjCb_fDWQ/0/__1We4k2fdRgGck4Dzete2gg\\n_data/indices/0L8hsIDySlujypjCb_fDWQ/0/__DxL0MFDZTuu3EKbE84gc9Q\\n_data/indices/0L8hsIDySlujypjCb_fDWQ/0/__KyIguKWrRTeru4WEPpcGDg\\n_data/indices/0L8hsIDySlujypjCb_fDWQ/0/__ljCgedYBTqWZg7F4wO-zNA\\n_data/indices/0L8hsIDySlujypjCb_fDWQ/0/__ILtXP8uJSBKLbMiN6c386A\\n_data/indices/0L8hsIDySlujypjCb_fDWQ/0/snap-QzNC8U7WTG-hSSuajanuJQ.dat\\n_data/indices/0L8hsIDySlujypjCb_fDWQ/0/__XljtV2wnRWuLXKQe8mfm5A\\n_data/indices/0L8hsIDySlujypjCb_fDWQ/0/__ncTQ7VmKSV-W26C2PI0Csw\\n_data/indices/0L8hsIDySlujypjCb_fDWQ/0/__vCq62uDSTx2LaZ8rJ4ZTIQ\\n_data/indices/0L8hsIDySlujypjCb_fDWQ/0/__vtATJw74TNuNdJ2lAbHEmA\\n_data/indices/0L8hsIDySlujypjCb_fDWQ/0/__ZOHORG7nT4mUYqEHk37f_A\\n_data/indices/0L8hsIDySlujypjCb_fDWQ/0/__uhVmD_49T_CPzebSulSETQ\\n_data/indices/0L8hsIDySlujypjCb_fDWQ/0/__66A0HF6rRtqPlgckjDwEPw\\n_data/indices/0L8hsIDySlujypjCb_fDWQ/0/__nkSM89RIT6q1vmxGA_hajw\\n_data/indices/0L8hsIDySlujypjCb_fDWQ/0/__OncElLg-Tz-OVRA0ecyQzA\\n_data/indices/0L8hsIDySlujypjCb_fDWQ/0/__P4L16RORSCKU7dc2x0UZYw\\n_data/indices/0L8hsIDySlujypjCb_fDWQ/0/__9pP7fsz_SOSAjakZXh2n5A\\n_data/indices/0L8hsIDySlujypjCb_fDWQ/0/__w8XjN1lkTBC67ITqW3BEDQ\\n_data/indices/0L8hsIDySlujypjCb_fDWQ/0/__PyMmC2mVQYuc8ePhblgWOQ\\n_data/indices/0L8hsIDySlujypjCb_fDWQ/0/__wCJNdzVpThmeBUnwzf0VoQ\\n_data/indices/0L8hsIDySlujypjCb_fDWQ/0/__MvJE6zjBTEWrL1kIerVftA\\n_data/indices/0L8hsIDySlujypjCb_fDWQ/0/__R_-4bxdNQHWqg4q7b2t37A\\n_data/indices/0L8hsIDySlujypjCb_fDWQ/0/__yN4wHZpeQZmFJKkha1uLbQ\\n_data/indices/0L8hsIDySlujypjCb_fDWQ/0/__1m6zeUijSJy9cKIH67kyKg\\n_data/indices/0L8hsIDySlujypjCb_fDWQ/0/__HuW3FZB9Q-2QIC1DeaItww\\n_data/indices/0L8hsIDySlujypjCb_fDWQ/0/__qZWZN_sEQuGeGtrZDy4z5A\\n_data/indices/0L8hsIDySlujypjCb_fDWQ/0/__kLUsZbdPTdOZnnisrTNNCw\\n_data/indices/0L8hsIDySlujypjCb_fDWQ/0/__9x9j6zFoQ-G8ieXY6KjJcg\\n_data/indices/0L8hsIDySlujypjCb_fDWQ/0/__rJUAjZhoQTyW55Gik11PkQ\\n_data/indices/0L8hsIDySlujypjCb_fDWQ/0/__FEF8u9WVTaO1xqKSsRktLw\\n_data/indices/0L8hsIDySlujypjCb_fDWQ/0/__ANWZ34MDTUmLACP7v5GENQ\\n_data/indices/0L8hsIDySlujypjCb_fDWQ/0/__PT691OGWQLO6GGNEVDt1HA\\n_data/indices/0L8hsIDySlujypjCb_fDWQ/0/__mmupP3eeR9CIxseqoxteQQ\\n_data/indices/0L8hsIDySlujypjCb_fDWQ/0/__ItnvQiSMSNWLDUMT7GXIKQ\\n_data/indices/0L8hsIDySlujypjCb_fDWQ/0/__GrG0d-YsTzCcM1-VVVYp0g\\n_data/indices/0L8hsIDySlujypjCb_fDWQ/0/__MJ7WqSnXTC6d4RqxQ4tiHA\\n_data/indices/0L8hsIDySlujypjCb_fDWQ/0/__-fzt1ZHbTrWRsiJqZSd32g\\n_data/indices/0L8hsIDySlujypjCb_fDWQ/0/__QLDcqBqKSs-KBmVozaVFDg\\n_data/indices/0L8hsIDySlujypjCb_fDWQ/0/__0doBQDuTR5GD98BywrB4aA\\n_data/indices/0L8hsIDySlujypjCb_fDWQ/0/__aWjSd_7USdqu2s-HtS6ZKw\\n_data/indices/0L8hsIDySlujypjCb_fDWQ/0/__Omrn66QRR3Oc2lPJaZz7KQ\\n_data/indices/0L8hsIDySlujypjCb_fDWQ/0/___X_LvdJ6SPOHggtSXpZFoQ\\n_data/indices/0L8hsIDySlujypjCb_fDWQ/0/__49j32_XMQPiPBUQzUAgORw\\n_data/indices/0L8hsIDySlujypjCb_fDWQ/0/__OuY4tTr6Rdqy6q3ZMnaINg\\n_data/indices/0L8hsIDySlujypjCb_fDWQ/0/__twb4-C2QRl2CcF3FZs2-nA\\n_data/indices/0L8hsIDySlujypjCb_fDWQ/0/__ixC-LTx4RHir2UgSuU9pBQ\\n_data/indices/0L8hsIDySlujypjCb_fDWQ/0/__7LIIqRs0RVqwxyGvPf_65A\\n_data/indices/0L8hsIDySlujypjCb_fDWQ/0/__copXP6t3QciERi5JDw6oCQ\\n_data/indices/0L8hsIDySlujypjCb_fDWQ/0/__Vi-CH_KRTeKrOKM1cC3pBA\\n_data/indices/0L8hsIDySlujypjCb_fDWQ/0/__sm1Hp3JvQPaEbrIsBIoYHA\\n_data/indices/0L8hsIDySlujypjCb_fDWQ/0/__5_ZUzf2WQaKGZK-V2c_vcQ\\n_data/indices/0L8hsIDySlujypjCb_fDWQ/0/__Fwj26PNfQXW37hvgYAuCeA\\n_data/indices/0L8hsIDySlujypjCb_fDWQ/0/index-1flxNwJoRqaXrv2QQi48vg\\n_data/indices/0L8hsIDySlujypjCb_fDWQ/meta-hU_waYgBXYKBiLoWDlYH.dat\\n_data/indices/T6KPtU9-TmuYx6flcu7DQw/\\n_data/indices/T6KPtU9-TmuYx6flcu7DQw/0/\\n_data/indices/T6KPtU9-TmuYx6flcu7DQw/0/index-XiNi8uUzT3GYWtZR_9_BCg\\n_data/indices/T6KPtU9-TmuYx6flcu7DQw/0/__WvMqZYP6QhuQEF19n2482Q\\n_data/indices/T6KPtU9-TmuYx6flcu7DQw/0/__aP_1Wa1aRhii3Biq134GRQ\\n_data/indices/T6KPtU9-TmuYx6flcu7DQw/0/snap-QzNC8U7WTG-hSSuajanuJQ.dat\\n_data/indices/T6KPtU9-TmuYx6flcu7DQw/0/__PzHonaelR3e5_ufxUoMSTA\\n_data/indices/T6KPtU9-TmuYx6flcu7DQw/0/__1MAcYXFpTluFghUg9PHY_w\\n_data/indices/T6KPtU9-TmuYx6flcu7DQw/0/__VIpL6OuBSLq7YWzd-mcOAA\\n_data/indices/T6KPtU9-TmuYx6flcu7DQw/0/__KXR5cVGlSRKJtz2OeoVdQQ\\n_data/indices/T6KPtU9-TmuYx6flcu7DQw/meta-gk_waYgBXYKBiLoWDVb5.dat\\n_data/indices/KEjf-zIVTr2PBn6wLNQ77A/\\n_data/indices/KEjf-zIVTr2PBn6wLNQ77A/0/\\n_data/indices/KEjf-zIVTr2PBn6wLNQ77A/0/snap-QzNC8U7WTG-hSSuajanuJQ.dat\\n_data/indices/KEjf-zIVTr2PBn6wLNQ77A/0/index-Nd_swlr2Q4apjOHeXBhz6A\\n_data/indices/KEjf-zIVTr2PBn6wLNQ77A/0/__KTc-FTuFStyij_r67JfvXg\\n_data/indices/KEjf-zIVTr2PBn6wLNQ77A/0/__Ir2BCeruT_Oz-dWNFaXYoA\\n_data/indices/KEjf-zIVTr2PBn6wLNQ77A/meta-gE_waYgBXYKBiLoWDVb3.dat\\n_data/indices/mQCdC8zRSNaC84ZZzjqxVw/\\n_data/indices/mQCdC8zRSNaC84ZZzjqxVw/0/\\n_data/indices/mQCdC8zRSNaC84ZZzjqxVw/0/snap-QzNC8U7WTG-hSSuajanuJQ.dat\\n_data/indices/mQCdC8zRSNaC84ZZzjqxVw/0/index-40WHXnfsRSCsmgFKjbJ8VQ\\n_data/indices/mQCdC8zRSNaC84ZZzjqxVw/meta-g0_waYgBXYKBiLoWDVb6.dat\\n_data/indices/NfzzQBaeSPqm0MDV3Itsdg/\\n_data/indices/NfzzQBaeSPqm0MDV3Itsdg/0/\\n_data/indices/NfzzQBaeSPqm0MDV3Itsdg/0/__Czl7gjEbSN2ItV-Tq9ckGw\\n_data/indices/NfzzQBaeSPqm0MDV3Itsdg/0/__rvk-e0FmTPq_SK8ytSvrpQ\\n_data/indices/NfzzQBaeSPqm0MDV3Itsdg/0/__dU1s9LzHTdyw91LxO8Ps9Q\\n_data/indices/NfzzQBaeSPqm0MDV3Itsdg/0/__asjO59kNSG6dwEvNlqaaTg\\n_data/indices/NfzzQBaeSPqm0MDV3Itsdg/0/__12nAWmcwRG2xTD9cnZqCxA\\n_data/indices/NfzzQBaeSPqm0MDV3Itsdg/0/__DCa_o85XRl2ibZu4e4XjLQ\\n_data/indices/NfzzQBaeSPqm0MDV3Itsdg/0/__XD88r3TRRga0Qx_Wd3gzfg\\n_data/indices/NfzzQBaeSPqm0MDV3Itsdg/0/index-2ynUs3C-TVuQjyNb92BWwQ\\n_data/indices/NfzzQBaeSPqm0MDV3Itsdg/0/__QUkXli0lQ5-6QuUgjvgtLA\\n_data/indices/NfzzQBaeSPqm0MDV3Itsdg/0/__KeM8BD_fTsCPfUIxYNYGsA\\n_data/indices/NfzzQBaeSPqm0MDV3Itsdg/0/__GnRJ0_SVTPa5DNR8rvMZpg\\n_data/indices/NfzzQBaeSPqm0MDV3Itsdg/0/__TvcveUQWSRGKitpfglIiww\\n_data/indices/NfzzQBaeSPqm0MDV3Itsdg/0/__Nti5Q2guSZ6vyaFQ-VSCLw\\n_data/indices/NfzzQBaeSPqm0MDV3Itsdg/0/snap-QzNC8U7WTG-hSSuajanuJQ.dat\\n_data/indices/NfzzQBaeSPqm0MDV3Itsdg/0/__CQR-kak5Sa-PFftj65K4VA\\n_data/indices/NfzzQBaeSPqm0MDV3Itsdg/0/__km2WKRNkQlu3Hkuhsv3t9Q\\n_data/indices/NfzzQBaeSPqm0MDV3Itsdg/0/__QQI_jnGPRXG9h59XW93Orw\\n_data/indices/NfzzQBaeSPqm0MDV3Itsdg/0/__NYGTs6VOT0SEiJQxhBVPLw\\n_data/indices/NfzzQBaeSPqm0MDV3Itsdg/0/__CXUROIDdTC-1pdFi-U9lZg\\n_data/indices/NfzzQBaeSPqm0MDV3Itsdg/0/__45T9yk0FRJCTNQyis_m3Uw\\n_data/indices/NfzzQBaeSPqm0MDV3Itsdg/0/__o65w0mOZSRK_cwN4hEJ2Uw\\n_data/indices/NfzzQBaeSPqm0MDV3Itsdg/0/__On64dbYlSqSY_XgNIX6UGw\\n_data/indices/NfzzQBaeSPqm0MDV3Itsdg/0/__MrW_IuqPROqbIuXwpFHqMA\\n_data/indices/NfzzQBaeSPqm0MDV3Itsdg/0/__MungetKhRS-5DuQU81uIkA\\n_data/indices/NfzzQBaeSPqm0MDV3Itsdg/0/__1kGR7fPUQ0OAaXL4qu8oUw\\n_data/indices/NfzzQBaeSPqm0MDV3Itsdg/0/__gAdvbqp0RteUxgmEATvqzQ\\n_data/indices/NfzzQBaeSPqm0MDV3Itsdg/0/__ob73MOBwR2K-VGJVLf4kMg\\n_data/indices/NfzzQBaeSPqm0MDV3Itsdg/0/__0ScIgj1pReOwljzMLyTXtA\\n_data/indices/NfzzQBaeSPqm0MDV3Itsdg/0/__HdlrJZgyRgOzBZ7lUOYHWg\\n_data/indices/NfzzQBaeSPqm0MDV3Itsdg/0/__piuV7-sOTOWrISoJUAXjhg\\n_data/indices/NfzzQBaeSPqm0MDV3Itsdg/0/__q9eTFW6mRgylIgedHBQrjg\\n_data/indices/NfzzQBaeSPqm0MDV3Itsdg/0/__II4iWobpTcSno9BdZOwvmw\\n_data/indices/NfzzQBaeSPqm0MDV3Itsdg/0/__7qF33-MhQCusScZOaD9RbQ\\n_data/indices/NfzzQBaeSPqm0MDV3Itsdg/0/__zYXQgCTlQqK5ioiM0-1Bjw\\n_data/indices/NfzzQBaeSPqm0MDV3Itsdg/0/__4XS5NN1zSYCKs1HRzU46_Q\\n_data/indices/NfzzQBaeSPqm0MDV3Itsdg/0/__TOypum9rSJWsab9WdHMJoA\\n_data/indices/NfzzQBaeSPqm0MDV3Itsdg/0/__0kSYNM4vRli9HjGRqdokqg\\n_data/indices/NfzzQBaeSPqm0MDV3Itsdg/0/__4vPXEuVuQbSHe-IfjbSV8A\\n_data/indices/NfzzQBaeSPqm0MDV3Itsdg/0/__ybG2TqKnR8Sxi7ZVAobNPg\\n_data/indices/NfzzQBaeSPqm0MDV3Itsdg/0/__E_hXSe_LRtWEoYgMmG16Ng\\n_data/indices/NfzzQBaeSPqm0MDV3Itsdg/0/__1-SAjSUFSPy4OO0eV6K-Rw\\n_data/indices/NfzzQBaeSPqm0MDV3Itsdg/0/__qrIGkP0mTny5zgnIlwm11w\\n_data/indices/NfzzQBaeSPqm0MDV3Itsdg/0/__2XRRG8DpRFKTx3eegS3NBA\\n_data/indices/NfzzQBaeSPqm0MDV3Itsdg/0/__pS0-JTL3RRaiN0LHwhOf3Q\\n_data/indices/NfzzQBaeSPqm0MDV3Itsdg/0/__jVkjzWD9TPSydaK_MpMNvQ\\n_data/indices/NfzzQBaeSPqm0MDV3Itsdg/meta-h0_waYgBXYKBiLoWDlYT.dat\\n_data/indices/Pca0kRvFQiW8Nk9eNLVN-A/\\n_data/indices/Pca0kRvFQiW8Nk9eNLVN-A/0/\\n_data/indices/Pca0kRvFQiW8Nk9eNLVN-A/0/__Xhr_W7GbSdS9l-032oVTtA\\n_data/indices/Pca0kRvFQiW8Nk9eNLVN-A/0/__N-Vwfni2R9KA8cRebxZ-zw\\n_data/indices/Pca0kRvFQiW8Nk9eNLVN-A/0/__PZlToAfXQFCtOSK4khGOhA\\n_data/indices/Pca0kRvFQiW8Nk9eNLVN-A/0/__x_Oc4uQfQritJqHItzuSqA\\n_data/indices/Pca0kRvFQiW8Nk9eNLVN-A/0/__3Uz61NQqReyVT3bOITIOnQ\\n_data/indices/Pca0kRvFQiW8Nk9eNLVN-A/0/__AqDPaFQrQz2fWr1z8J0UXw\\n_data/indices/Pca0kRvFQiW8Nk9eNLVN-A/0/__BiKzyDu2SNCpQZ6Ja9hUSQ\\n_data/indices/Pca0kRvFQiW8Nk9eNLVN-A/0/index--GknZbhPQX-Zn81nIjuWBA\\n_data/indices/Pca0kRvFQiW8Nk9eNLVN-A/0/__xYjkca4MTM-w5zw3me-7hA\\n_data/indices/Pca0kRvFQiW8Nk9eNLVN-A/0/__YYFYiz_ZSbi_V9BDuFR0NQ\\n_data/indices/Pca0kRvFQiW8Nk9eNLVN-A/0/snap-QzNC8U7WTG-hSSuajanuJQ.dat\\n_data/indices/Pca0kRvFQiW8Nk9eNLVN-A/0/__Xc5h8ft_Sr2ykVNoubA2yg\\n_data/indices/Pca0kRvFQiW8Nk9eNLVN-A/0/__L3tNXwcITQWVO3sWxD6Lfg\\n_data/indices/Pca0kRvFQiW8Nk9eNLVN-A/0/__8J6ckTfeS2mIoDXygSuJgA\\n_data/indices/Pca0kRvFQiW8Nk9eNLVN-A/0/__aNOtCzYJT-yRzoSXbpGSnA\\n_data/indices/Pca0kRvFQiW8Nk9eNLVN-A/0/__KOr0rIz3QlmZfLyXsyCdNw\\n_data/indices/Pca0kRvFQiW8Nk9eNLVN-A/0/__wZCl997nQruv1T_K6PA0mw\\n_data/indices/Pca0kRvFQiW8Nk9eNLVN-A/0/__rNvknKyyREi3FVGjUjVHNQ\\n_data/indices/Pca0kRvFQiW8Nk9eNLVN-A/0/__nPl_UcbBQriVDcr86WO-Rg\\n_data/indices/Pca0kRvFQiW8Nk9eNLVN-A/0/__9mJB7dyDQnqogF3h7V5JEA\\n_data/indices/Pca0kRvFQiW8Nk9eNLVN-A/0/__6M45ioS_S1uzk3G8r49rIw\\n_data/indices/Pca0kRvFQiW8Nk9eNLVN-A/0/__87ERJIWDTQyXcNV-b7nxHw\\n_data/indices/Pca0kRvFQiW8Nk9eNLVN-A/0/__BX4VSUIRR3-iQuF38NDKiw\\n_data/indices/Pca0kRvFQiW8Nk9eNLVN-A/0/__VyKUQ0LSTbO44C206m2Rww\\n_data/indices/Pca0kRvFQiW8Nk9eNLVN-A/0/__4Y8hD_lnSiyHPjh1-cdx0A\\n_data/indices/Pca0kRvFQiW8Nk9eNLVN-A/0/__m253P97GSzyRRAw3mrUdkw\\n_data/indices/Pca0kRvFQiW8Nk9eNLVN-A/0/__QL9rxCFARx6Qn8LqJ737MQ\\n_data/indices/Pca0kRvFQiW8Nk9eNLVN-A/0/__9_TFnxgFTHWSeQxklVfXlw\\n_data/indices/Pca0kRvFQiW8Nk9eNLVN-A/0/__vlrc8pYeTJyjkjF1NSuESQ\\n_data/indices/Pca0kRvFQiW8Nk9eNLVN-A/0/__OASyoWe7TZGRwrCUcGpcqQ\\n_data/indices/Pca0kRvFQiW8Nk9eNLVN-A/0/__gV-dufxoRaeu8v9LI4a-kg\\n_data/indices/Pca0kRvFQiW8Nk9eNLVN-A/0/__10RywhJOQieMOHr6TytztQ\\n_data/indices/Pca0kRvFQiW8Nk9eNLVN-A/0/__IJn2JFnvRxG0MG4IaHjA0w\\n_data/indices/Pca0kRvFQiW8Nk9eNLVN-A/0/__j1j0GKMmTu2XrNFQ9dWhLQ\\n_data/indices/Pca0kRvFQiW8Nk9eNLVN-A/0/__B-g_5gquS4W7YWVL4q7dCQ\\n_data/indices/Pca0kRvFQiW8Nk9eNLVN-A/0/__OZLZmaofRry4dAcmakGjQQ\\n_data/indices/Pca0kRvFQiW8Nk9eNLVN-A/meta-hE_waYgBXYKBiLoWDVb6.dat\\n_data/indices/y-Z5lvC0QTytm16EiZgYiA/\\n_data/indices/y-Z5lvC0QTytm16EiZgYiA/0/\\n_data/indices/y-Z5lvC0QTytm16EiZgYiA/0/snap-QzNC8U7WTG-hSSuajanuJQ.dat\\n_data/indices/y-Z5lvC0QTytm16EiZgYiA/0/index-U4lE3iDGSP-Va63NVDE9fg\\n_data/indices/y-Z5lvC0QTytm16EiZgYiA/meta-gU_waYgBXYKBiLoWDVb4.dat\\n_data/index-0\\n_data/index.latest\\n',\n",
       " 'sudo: unable to resolve host data-backup: Name or service not known\\n')"
      ]
     },
     "execution_count": 13,
     "metadata": {},
     "output_type": "execute_result"
    }
   ],
   "source": [
    "# untar backup snapshot files to snapshot dir\n",
    "snapshot_parent_dir = \"/var/lib/docker/volumes/elk_snapshotbackup/\"\n",
    "elk_tar_file_name = \"elk_backup_0529.tar\"\n",
    "elk_tar_path = \"/home/ubuntu/elk/download\"\n",
    "cmd = f'sudo tar -xvf {elk_tar_path}/{elk_tar_file_name} -C {snapshot_parent_dir}'\n",
    "node.execute(cmd, quiet=True)"
   ]
  },
  {
   "cell_type": "code",
   "execution_count": 16,
   "id": "ae31d056-93e8-4341-a028-490b34fee981",
   "metadata": {},
   "outputs": [
    {
     "name": "stdout",
     "output_type": "stream",
     "text": [
      "\u001b[31m sudo: unable to resolve host data-backup: Name or service not known\n",
      " \u001b[0m"
     ]
    },
    {
     "data": {
      "text/plain": [
       "('index-0\\nindex.latest\\nindices\\nmeta-QzNC8U7WTG-hSSuajanuJQ.dat\\nsnap-QzNC8U7WTG-hSSuajanuJQ.dat\\n',\n",
       " 'sudo: unable to resolve host data-backup: Name or service not known\\n')"
      ]
     },
     "execution_count": 16,
     "metadata": {},
     "output_type": "execute_result"
    }
   ],
   "source": [
    "cmd = f\"sudo chown -R 1000:1000 /var/lib/docker/volumes/elk_snapshotbackup/_data\"\n",
    "stdout, stderr=node.execute(cmd)\n",
    "cmd = f\"sudo ls {snapshot_parent_dir}/_data\"\n",
    "node.execute(cmd, quiet=True)"
   ]
  },
  {
   "cell_type": "markdown",
   "id": "775f5b27-4589-43a2-a3b9-ab9a63a1953a",
   "metadata": {},
   "source": [
    "### Restart the container"
   ]
  },
  {
   "cell_type": "code",
   "execution_count": 17,
   "id": "8d24d28b-2e73-4856-8a81-7edd0dbe61cc",
   "metadata": {},
   "outputs": [
    {
     "name": "stdout",
     "output_type": "stream",
     "text": [
      "elasticsearch\n",
      "\u001b[31m sudo: unable to resolve host data-backup: Name or service not known\n",
      " \u001b[0m"
     ]
    }
   ],
   "source": [
    "cmd = \"sudo docker restart elasticsearch\"\n",
    "stdout, stderr= node.execute(cmd)"
   ]
  },
  {
   "cell_type": "markdown",
   "id": "539255ba-ddb0-4fd0-9d43-e4b0687122e6",
   "metadata": {},
   "source": [
    "### Check snapshot"
   ]
  },
  {
   "cell_type": "code",
   "execution_count": 19,
   "id": "f94379f1-fde0-4dae-8731-2561d4150648",
   "metadata": {},
   "outputs": [
    {
     "name": "stdout",
     "output_type": "stream",
     "text": [
      "id             status start_epoch start_time end_epoch  end_time duration indices successful_shards failed_shards total_shards\n",
      "snapshot_test SUCCESS 1685404519  23:55:19   1685404519 23:55:19    801ms       9                 9             0            9\n",
      "\u001b[31m   % Total    % Received % Xferd  Average Speed   Time    Time     Time  Current\n",
      "                                 Dload  Upload   Total   Spent    Left  Speed\n",
      "100   254  100   254    0     0   1788      0 --:--:-- --:--:-- --:--:--  1788\n",
      " \u001b[0m"
     ]
    }
   ],
   "source": [
    "# If you dont see the snapshot, you need to restart the container again(above step)\n",
    "repo_name=\"backup_repository\"\n",
    "snapshot_name = \"snapshot_test\"\n",
    "cmd = f\"curl -X GET 'http://localhost:9200/_cat/snapshots/{repo_name}?v'\"\n",
    "stdout, stderr= node.execute(cmd)"
   ]
  },
  {
   "cell_type": "code",
   "execution_count": 20,
   "id": "b9723e70-e3d2-48e3-bb94-448d191553d0",
   "metadata": {},
   "outputs": [
    {
     "name": "stdout",
     "output_type": "stream",
     "text": [
      "{\n",
      "  \"snapshots\" : [\n",
      "    {\n",
      "      \"snapshot\" : \"snapshot_test\",\n",
      "      \"uuid\" : \"QzNC8U7WTG-hSSuajanuJQ\",\n",
      "      \"version_id\" : 7130099,\n",
      "      \"version\" : \"7.13.0\",\n",
      "      \"indices\" : [\n",
      "        \"packetbeat-7.13.2-2023.05.29-000001\",\n",
      "        \".kibana-event-log-7.13.0-000001\",\n",
      "        \".apm-custom-link\",\n",
      "        \".ds-ilm-history-5-2023.05.29-000001\",\n",
      "        \".apm-agent-configuration\",\n",
      "        \"filebeat-7.13.2-2023.05.29-000001\",\n",
      "        \".kibana_7.13.0_001\",\n",
      "        \"metricbeat-7.13.2-2023.05.29-000001\",\n",
      "        \".kibana_task_manager_7.13.0_001\"\n",
      "      ],\n",
      "      \"data_streams\" : [\n",
      "        \"ilm-history-5\"\n",
      "      ],\n",
      "      \"include_global_state\" : false,\n",
      "      \"state\" : \"SUCCESS\",\n",
      "      \"start_time\" : \"2023-05-29T23:55:19.031Z\",\n",
      "      \"start_time_in_millis\" : 1685404519031,\n",
      "      \"end_time\" : \"2023-05-29T23:55:19.832Z\",\n",
      "      \"end_time_in_millis\" : 1685404519832,\n",
      "      \"duration_in_millis\" : 801,\n",
      "      \"failures\" : [ ],\n",
      "      \"shards\" : {\n",
      "        \"total\" : 9,\n",
      "        \"failed\" : 0,\n",
      "        \"successful\" : 9\n",
      "      },\n",
      "      \"feature_states\" : [ ]\n",
      "    }\n",
      "  ]\n",
      "}\n",
      "\u001b[31m   % Total    % Received % Xferd  Average Speed   Time    Time     Time  Current\n",
      "                                 Dload  Upload   Total   Spent    Left  Speed\n",
      "100  1059  100  1059    0     0   114k      0 --:--:-- --:--:-- --:--:--  114k\n",
      " \u001b[0m"
     ]
    }
   ],
   "source": [
    "cmd = f'curl -X GET \"http://localhost:9200/_snapshot/{repo_name}/{snapshot_name}?pretty\"'\n",
    "stdout, stderr= node.execute(cmd)"
   ]
  },
  {
   "cell_type": "markdown",
   "id": "90a38369-392b-43ca-80ff-b9af6ffd93c7",
   "metadata": {},
   "source": [
    "### Delete indice if any"
   ]
  },
  {
   "cell_type": "code",
   "execution_count": 21,
   "id": "83e0c0af-d4cd-421e-9810-e61e48d93a5b",
   "metadata": {},
   "outputs": [
    {
     "name": "stdout",
     "output_type": "stream",
     "text": [
      "{\"acknowledged\":true}\u001b[31m   % Total    % Received % Xferd  Average Speed   Time    Time     Time  Current\n",
      "                                 Dload  Upload   Total   Spent    Left  Speed\n",
      "100    21  100    21    0     0   2333      0 --:--:-- --:--:-- --:--:--  2625\n",
      " \u001b[0m"
     ]
    }
   ],
   "source": [
    "cmd = f'curl -X DELETE \"http://localhost:9200/_all\"'\n",
    "stdout, stderr= node.execute(cmd)"
   ]
  },
  {
   "cell_type": "markdown",
   "id": "82cae1bc-7053-44f2-ba1f-2a557974e291",
   "metadata": {},
   "source": [
    "### Check indice"
   ]
  },
  {
   "cell_type": "code",
   "execution_count": 22,
   "id": "50bfd5ba-67a9-47ba-a397-87125dac6445",
   "metadata": {},
   "outputs": [
    {
     "name": "stdout",
     "output_type": "stream",
     "text": [
      "\u001b[31m   % Total    % Received % Xferd  Average Speed   Time    Time     Time  Current\n",
      "                                 Dload  Upload   Total   Spent    Left  Speed\n",
      "  0     0    0     0    0     0      0      0 --:--:-- --:--:-- --:--:--     0\n",
      " \u001b[0m"
     ]
    }
   ],
   "source": [
    "cmd= f'curl -XGET \"http://localhost:9200/_cat/indices?pretty\"'\n",
    "stdout, stderr= node.execute(cmd)"
   ]
  },
  {
   "cell_type": "markdown",
   "id": "d9ec02c7-d86c-40a6-86a7-1f585c2d8e3d",
   "metadata": {},
   "source": [
    "### Restore using the snapshot"
   ]
  },
  {
   "cell_type": "code",
   "execution_count": 23,
   "id": "6bd9c5ec-2089-4d5b-8728-6897f14abf0f",
   "metadata": {},
   "outputs": [
    {
     "name": "stdout",
     "output_type": "stream",
     "text": [
      "{\n",
      "  \"accepted\" : true\n",
      "}\n",
      "\u001b[31m   % Total    % Received % Xferd  Average Speed   Time    Time     Time  Current\n",
      "                                 Dload  Upload   Total   Spent    Left  Speed\n",
      "100   198  100    24  100   174     39    282 --:--:-- --:--:-- --:--:--   321\n",
      " \u001b[0m"
     ]
    }
   ],
   "source": [
    "# Need to specify indice names to restore\n",
    "indice_str= f'\"indices\": \"filebeat-7.13.2-2023.05.29-000001,metricbeat-7.13.2-2023.05.29-000001,packetbeat-7.13.2-2023.05.29-000001\",'\n",
    "repo_name=\"backup_repository\"\n",
    "snapshot_name = \"snapshot_test\"\n",
    "cmd = f'curl -X POST \"http://localhost:9200/_snapshot/{repo_name}/{snapshot_name}/_restore?pretty\" -H \"Content-Type: application/json\" -d \\'{{{indice_str} \"index_settings\": {{ \"index.number_of_replicas\": 1 }} }}\\''\n",
    "#print (cmd)\n",
    "stdout, stderr= node.execute(cmd)"
   ]
  },
  {
   "cell_type": "markdown",
   "id": "6dd06acd-8eb5-4488-8023-c206cd07d71a",
   "metadata": {},
   "source": [
    "### Check progress"
   ]
  },
  {
   "cell_type": "code",
   "execution_count": 25,
   "id": "1b923b46-3ffe-4c8b-845e-0ded81571938",
   "metadata": {},
   "outputs": [
    {
     "name": "stdout",
     "output_type": "stream",
     "text": [
      "index                               shard time  type     stage source_host source_node target_host target_node  repository        snapshot      files files_recovered files_percent files_total bytes    bytes_recovered bytes_percent bytes_total translog_ops translog_ops_recovered translog_ops_percent\n",
      "metricbeat-7.13.2-2023.05.29-000001 0     906ms snapshot done  n/a         n/a         172.17.0.3  f1d11bee7418 backup_repository snapshot_test 70    70              100.0%        70          26603074 26603074        100.0%        26603074    0            0                      100.0%\n",
      "packetbeat-7.13.2-2023.05.29-000001 0     580ms snapshot done  n/a         n/a         172.17.0.3  f1d11bee7418 backup_repository snapshot_test 49    49              100.0%        49          3025386  3025386         100.0%        3025386     0            0                      100.0%\n",
      "filebeat-7.13.2-2023.05.29-000001   0     632ms snapshot done  n/a         n/a         172.17.0.3  f1d11bee7418 backup_repository snapshot_test 40    40              100.0%        40          2478223  2478223         100.0%        2478223     0            0                      100.0%\n",
      "\u001b[31m   % Total    % Received % Xferd  Average Speed   Time    Time     Time  Current\n",
      "                                 Dload  Upload   Total   Spent    Left  Speed\n",
      "100  1158  100  1158    0     0   125k      0 --:--:-- --:--:-- --:--:--  125k\n",
      " \u001b[0m"
     ]
    }
   ],
   "source": [
    "cmd = f'curl -XGET \"http://localhost:9200/_cat/recovery?v\"'\n",
    "stdout, stderr= node.execute(cmd)"
   ]
  },
  {
   "cell_type": "markdown",
   "id": "9cd868d4-7d1f-47f0-a3b6-c14381e4728c",
   "metadata": {},
   "source": [
    "### After the process finishes, check the indice"
   ]
  },
  {
   "cell_type": "code",
   "execution_count": 26,
   "id": "cc3a64df-c979-4784-84cd-cdf07c9da619",
   "metadata": {},
   "outputs": [
    {
     "name": "stdout",
     "output_type": "stream",
     "text": [
      "yellow open metricbeat-7.13.2-2023.05.29-000001 sJdL4EPMQy2yM-ZIvOZAdQ 1 1 61948 18 31.6mb 31.6mb\n",
      "yellow open packetbeat-7.13.2-2023.05.29-000001 h1BjjPHGTumyO-Bkc_MKag 1 1  5946  0  2.8mb  2.8mb\n",
      "yellow open filebeat-7.13.2-2023.05.29-000001   FiCGkrphRY-2pxfqc2cn1g 1 1  8865  0  2.3mb  2.3mb\n",
      "\u001b[31m   % Total    % Received % Xferd  Average Speed   Time    Time     Time  Current\n",
      "                                 Dload  Upload   Total   Spent    Left  Speed\n",
      "100   294  100   294    0     0  12250      0 --:--:-- --:--:-- --:--:-- 12250\n",
      " \u001b[0m"
     ]
    }
   ],
   "source": [
    "# You should see the same indice as what you exported \n",
    "cmd= f'curl -XGET \"http://localhost:9200/_cat/indices?pretty\"'\n",
    "stdout, stderr= node.execute(cmd)"
   ]
  },
  {
   "cell_type": "markdown",
   "id": "f5b37a6c-fc01-44a1-a3ae-16ae9f9f4d06",
   "metadata": {},
   "source": [
    "## Set up kibana"
   ]
  },
  {
   "cell_type": "code",
   "execution_count": 27,
   "id": "fac1f80e-a87d-4f7f-b805-b70e685f9e06",
   "metadata": {},
   "outputs": [
    {
     "name": "stdout",
     "output_type": "stream",
     "text": [
      "254ddec1abbd2b42a90f0b6566ace1aa16f4657af4cbfc1c30725d904c942c19\n",
      "\u001b[31m sudo: unable to resolve host data-backup: Name or service not known\n",
      "Unable to find image 'docker.elastic.co/kibana/kibana:7.13.0' locally\n",
      "7.13.0: Pulling from kibana/kibana\n",
      "ddf49b9115d7: Pulling fs layer\n",
      "f928d0217aa0: Pulling fs layer\n",
      "7e03d650d77f: Pulling fs layer\n",
      "1fee982cad48: Pulling fs layer\n",
      "54b96c78839b: Pulling fs layer\n",
      "1bdf6e4a0acd: Pulling fs layer\n",
      "4f8d16de5081: Pulling fs layer\n",
      "efddbc97b11f: Pulling fs layer\n",
      "9fc7be64eb60: Pulling fs layer\n",
      "fa97b9dbafef: Pulling fs layer\n",
      "0b097a63c483: Pulling fs layer\n",
      "dabb3421c1f8: Pulling fs layer\n",
      "1535b8865a03: Pulling fs layer\n",
      "1fee982cad48: Waiting\n",
      "54b96c78839b: Waiting\n",
      "1bdf6e4a0acd: Waiting\n",
      "4f8d16de5081: Waiting\n",
      "efddbc97b11f: Waiting\n",
      "9fc7be64eb60: Waiting\n",
      "fa97b9dbafef: Waiting\n",
      "0b097a63c483: Waiting\n",
      "dabb3421c1f8: Waiting\n",
      "1535b8865a03: Waiting\n",
      "7e03d650d77f: Verifying Checksum\n",
      "7e03d650d77f: Download complete\n",
      "1fee982cad48: Verifying Checksum\n",
      "1fee982cad48: Download complete\n",
      "f928d0217aa0: Verifying Checksum\n",
      "f928d0217aa0: Download complete\n",
      "1bdf6e4a0acd: Download complete\n",
      "54b96c78839b: Verifying Checksum\n",
      "54b96c78839b: Download complete\n",
      "efddbc97b11f: Verifying Checksum\n",
      "efddbc97b11f: Download complete\n",
      "9fc7be64eb60: Verifying Checksum\n",
      "9fc7be64eb60: Download complete\n",
      "fa97b9dbafef: Verifying Checksum\n",
      "fa97b9dbafef: Download complete\n",
      "0b097a63c483: Verifying Checksum\n",
      "0b097a63c483: Download complete\n",
      "dabb3421c1f8: Verifying Checksum\n",
      "dabb3421c1f8: Download complete\n",
      "1535b8865a03: Verifying Checksum\n",
      "1535b8865a03: Download complete\n",
      "ddf49b9115d7: Verifying Checksum\n",
      "ddf49b9115d7: Download complete\n",
      "ddf49b9115d7: Pull complete\n",
      "f928d0217aa0: Pull complete\n",
      "7e03d650d77f: Pull complete\n",
      "1fee982cad48: Pull complete\n",
      "54b96c78839b: Pull complete\n",
      "1bdf6e4a0acd: Pull complete\n",
      "4f8d16de5081: Verifying Checksum\n",
      "4f8d16de5081: Download complete\n",
      "4f8d16de5081: Pull complete\n",
      "efddbc97b11f: Pull complete\n",
      "9fc7be64eb60: Pull complete\n",
      "fa97b9dbafef: Pull complete\n",
      "0b097a63c483: Pull complete\n",
      "dabb3421c1f8: Pull complete\n",
      "1535b8865a03: Pull complete\n",
      "Digest: sha256:2075b0a1c4881bda1536cd58fc5b240d37871419c9487fd6300c85ae5062f27c\n",
      "Status: Downloaded newer image for docker.elastic.co/kibana/kibana:7.13.0\n",
      " \u001b[0m"
     ]
    }
   ],
   "source": [
    "cmd = f'sudo docker run -d --name kibana --link elasticsearch:elasticsearch -p 5601:5601 docker.elastic.co/kibana/kibana:7.13.0'\n",
    "stdout, stderr= node.execute(cmd)"
   ]
  },
  {
   "cell_type": "markdown",
   "id": "b94eb24b-07eb-481c-9bfb-5672abb34c75",
   "metadata": {},
   "source": [
    "## View data in the web ui"
   ]
  },
  {
   "cell_type": "markdown",
   "id": "da0dad5b-ce06-4218-9587-f545780d91e0",
   "metadata": {},
   "source": [
    "##### Run 'ssh -L 10030:localhost:5601 -F ssh_config -i slice_key ubuntu@{node_ip}' ; Then go to http://localhost:10030"
   ]
  }
 ],
 "metadata": {
  "kernelspec": {
   "display_name": "Python 3 (ipykernel)",
   "language": "python",
   "name": "python3"
  },
  "language_info": {
   "codemirror_mode": {
    "name": "ipython",
    "version": 3
   },
   "file_extension": ".py",
   "mimetype": "text/x-python",
   "name": "python",
   "nbconvert_exporter": "python",
   "pygments_lexer": "ipython3",
   "version": "3.9.7"
  }
 },
 "nbformat": 4,
 "nbformat_minor": 5
}

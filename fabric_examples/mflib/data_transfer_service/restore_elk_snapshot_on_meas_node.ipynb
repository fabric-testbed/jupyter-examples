{
 "cells": [
  {
   "cell_type": "markdown",
   "id": "adb561cb-1615-4267-862e-0f575b3bcfc4",
   "metadata": {
    "tags": []
   },
   "source": [
    "# Restore ELK Snapshot on Measurement Node"
   ]
  },
  {
   "cell_type": "markdown",
   "id": "fa1b9722-8b8a-44b0-810b-f18535763ebc",
   "metadata": {},
   "source": [
    "## Import"
   ]
  },
  {
   "cell_type": "code",
   "execution_count": 1,
   "id": "78cc8452-d9ec-4295-b84a-3de3d901c379",
   "metadata": {},
   "outputs": [
    {
     "name": "stdout",
     "output_type": "stream",
     "text": [
      "MFLib version  1.0.0 \n"
     ]
    }
   ],
   "source": [
    "import os\n",
    "import json\n",
    "import traceback\n",
    "from fabrictestbed_extensions.fablib.fablib import FablibManager as fablib_manager\n",
    "try:\n",
    "    fablib = fablib_manager()                \n",
    "    #fablib.show_config()\n",
    "except Exception as e:\n",
    "    print(f\"Exception: {e}\")\n",
    "import mflib\n",
    "print(f\"MFLib version  {mflib.__version__} \" )\n",
    "from mflib.mflib import MFLib"
   ]
  },
  {
   "cell_type": "markdown",
   "id": "9a60e834-8635-4f6a-b657-718a89d1640c",
   "metadata": {},
   "source": [
    "## Slice Info"
   ]
  },
  {
   "cell_type": "code",
   "execution_count": 2,
   "id": "0af3c022-508a-4d75-b7ed-f3cbc9e11273",
   "metadata": {},
   "outputs": [],
   "source": [
    "# Change your slice name and node name\n",
    "slice_name = \"MyMonitoredSlice3\"\n",
    "node1_name = 'Node1'\n",
    "node2_name = 'Node2'\n",
    "node3_name = 'Node3'"
   ]
  },
  {
   "cell_type": "code",
   "execution_count": 3,
   "id": "d2230979-55c0-424f-b7fd-b55e14d7712f",
   "metadata": {},
   "outputs": [
    {
     "name": "stdout",
     "output_type": "stream",
     "text": [
      "Inititializing slice \"MyMonitoredSlice2\" for MeasurementFramework.\n",
      "Found meas node as meas-node at 2620:0:c80:1001:f816:3eff:fe84:2107\n",
      "Bootstrap status indicates Slice Measurement Framework is ready.\n"
     ]
    }
   ],
   "source": [
    "mf = MFLib(slice_name)"
   ]
  },
  {
   "cell_type": "code",
   "execution_count": 4,
   "id": "eb214f7d-36d2-4137-8f73-4966db27b0f3",
   "metadata": {},
   "outputs": [
    {
     "name": "stdout",
     "output_type": "stream",
     "text": [
      "-----------  ------------------------------------\n",
      "Slice Name   MyMonitoredSlice2\n",
      "Slice ID     0318a65c-1000-4da4-9230-961298c83f59\n",
      "Slice State  StableOK\n",
      "Lease End    2023-06-09 18:14:34 +0000\n",
      "-----------  ------------------------------------\n"
     ]
    }
   ],
   "source": [
    "meas_node_name = mf.measurement_node_name\n",
    "try:\n",
    "    slice = fablib.get_slice(name=slice_name)\n",
    "except Exception as e:\n",
    "    print(f\"Fail: {e}\")\n",
    "print (slice)\n",
    "\n",
    "try:\n",
    "    meas_node = slice.get_node(name=meas_node_name)\n",
    "except Exception as e:\n",
    "    print(f\"Fail: {e}\")   \n",
    "#print (meas_node)"
   ]
  },
  {
   "cell_type": "markdown",
   "id": "88931d53-1073-4309-96aa-570284727fb6",
   "metadata": {},
   "source": [
    "## Restore elk data using existing snapshot"
   ]
  },
  {
   "cell_type": "markdown",
   "id": "3228b331-71b0-4894-af6d-54513d0edfe1",
   "metadata": {},
   "source": [
    "### Check existing snapshot in the repository"
   ]
  },
  {
   "cell_type": "code",
   "execution_count": 6,
   "id": "aeb1ce1c-843f-4e32-8c9a-e4c135136ddb",
   "metadata": {},
   "outputs": [
    {
     "name": "stdout",
     "output_type": "stream",
     "text": [
      "id status start_epoch start_time end_epoch end_time duration indices successful_shards failed_shards total_shards\n",
      "\u001b[31m   % Total    % Received % Xferd  Average Speed   Time    Time     Time  Current\n",
      "                                 Dload  Upload   Total   Spent    Left  Speed\n",
      "100   114  100   114    0     0  14250      0 --:--:-- --:--:-- --:--:-- 14250\n",
      " \u001b[0m"
     ]
    }
   ],
   "source": [
    "repo_name=\"backup_repository\"\n",
    "cmd = f\"curl -X GET 'http://localhost:9200/_cat/snapshots/{repo_name}?v'\"\n",
    "stdout, stderr= meas_node.execute(cmd)"
   ]
  },
  {
   "cell_type": "markdown",
   "id": "f572c885-fd38-4905-9678-30bee2da93c0",
   "metadata": {},
   "source": [
    "### Check the snapshot"
   ]
  },
  {
   "cell_type": "code",
   "execution_count": 12,
   "id": "8f79fe2b-d5f4-4782-9b36-2c7f6901d687",
   "metadata": {},
   "outputs": [
    {
     "name": "stdout",
     "output_type": "stream",
     "text": [
      "{\n",
      "  \"error\" : {\n",
      "    \"root_cause\" : [\n",
      "      {\n",
      "        \"type\" : \"repository_exception\",\n",
      "        \"reason\" : \"[backup_repository] could not read repository data from index blob\"\n",
      "      }\n",
      "    ],\n",
      "    \"type\" : \"repository_exception\",\n",
      "    \"reason\" : \"[backup_repository] Could not read repository data because the contents of the repository do not match its expected state. This is likely the result of either concurrently modifying the contents of the repository by a process other than this cluster or an issue with the repository's underlying storage. The repository has been disabled to prevent corrupting its contents. To re-enable it and continue using it please remove the repository from the cluster and add it again to make the cluster recover the known state of the repository from its physical contents. The last cluster to write to this repository was [A63ZXCiURES-wcm6MvFiSA] at generation [1].\",\n",
      "    \"caused_by\" : {\n",
      "      \"type\" : \"repository_exception\",\n",
      "      \"reason\" : \"[backup_repository] could not read repository data from index blob\",\n",
      "      \"caused_by\" : {\n",
      "        \"type\" : \"no_such_file_exception\",\n",
      "        \"reason\" : \"/usr/share/elasticsearch/backup/index-0\"\n",
      "      }\n",
      "    }\n",
      "  },\n",
      "  \"status\" : 500\n",
      "}\n",
      "\u001b[31m   % Total    % Received % Xferd  Average Speed   Time    Time     Time  Current\n",
      "                                 Dload  Upload   Total   Spent    Left  Speed\n",
      "100  1211  100  1211    0     0   5907      0 --:--:-- --:--:-- --:--:--  5907\n",
      " \u001b[0m"
     ]
    }
   ],
   "source": [
    "snapshot_name=\"snapshot_test\"\n",
    "cmd = f'curl -X GET \"http://localhost:9200/_snapshot/{repo_name}/{snapshot_name}?pretty\"'\n",
    "stdout, stderr= meas_node.execute(cmd)"
   ]
  },
  {
   "cell_type": "code",
   "execution_count": 11,
   "id": "152fa20f-ca03-4c27-822b-cfd1951a147e",
   "metadata": {},
   "outputs": [
    {
     "name": "stdout",
     "output_type": "stream",
     "text": [
      "{'success': True, 'message': 'Service file elk_backup_2023-06-02_18:23:33.tar uploaded successfully.'}\n"
     ]
    }
   ],
   "source": [
    "# EDIT THIS - choose a list of index files from your local storage to import\n",
    "local_files = [\"./snapshots/elk_backup_2023-06-02_18:23:33.tar\"]\n",
    "\n",
    "output = mf.upload_service_files(\"elk\", local_files)"
   ]
  },
  {
   "cell_type": "markdown",
   "id": "4e2fe1f5-76fd-4280-b300-ebbeccf7972e",
   "metadata": {},
   "source": [
    "### Restore the data using specific snapshot"
   ]
  },
  {
   "cell_type": "code",
   "execution_count": null,
   "id": "c4652c38-059e-4ecc-877e-5068e388ab70",
   "metadata": {},
   "outputs": [],
   "source": [
    "# Need to specify indice names to restore, find in above cell and change below\n",
    "indice_str= f'\"indices\": \"filebeat-7.13.2-2023.05.29-000001,metricbeat-7.13.2-2023.05.29-000001,packetbeat-7.13.2-2023.05.29-000001\",'\n",
    "repo_name=\"backup_repository\"\n",
    "snapshot_name = \"snapshot_test\"\n",
    "cmd = f'curl -X POST \"http://localhost:9200/_snapshot/{repo_name}/{snapshot_name}/_restore?pretty\" -H \"Content-Type: application/json\" -d \\'{{{indice_str} \"rename_pattern\": \"(.+)\", \"rename_replacement\": \"restored-$1\", \"include_aliases\": false}}\\''\n",
    "#print (cmd)\n",
    "stdout, stderr= meas_node.execute(cmd)"
   ]
  },
  {
   "cell_type": "markdown",
   "id": "b9004316-928f-4539-9d6a-b537d6efdf23",
   "metadata": {},
   "source": [
    "### Check the progress"
   ]
  },
  {
   "cell_type": "code",
   "execution_count": null,
   "id": "78ee6475-9ff7-4b54-adbe-510faca291e0",
   "metadata": {},
   "outputs": [],
   "source": [
    "cmd = f'curl -XGET \"http://localhost:9200/_cat/recovery?v\"'\n",
    "stdout, stderr= meas_node.execute(cmd)"
   ]
  },
  {
   "cell_type": "markdown",
   "id": "d279ebb2-c8e5-45a6-b586-c0c81fd159d8",
   "metadata": {},
   "source": [
    "## Once finished, check indice"
   ]
  },
  {
   "cell_type": "code",
   "execution_count": null,
   "id": "13e34f06-e3d6-4d34-9584-86bec89b5d64",
   "metadata": {},
   "outputs": [],
   "source": [
    "cmd= f'curl -XGET \"http://localhost:9200/_cat/indices?pretty\"'\n",
    "stdout, stderr= meas_node.execute(cmd)"
   ]
  },
  {
   "cell_type": "markdown",
   "id": "dbe1e7b0-bf5e-4059-93c0-1834cfedb714",
   "metadata": {},
   "source": [
    "## Remove the index life cycle policy"
   ]
  },
  {
   "cell_type": "code",
   "execution_count": null,
   "id": "d7a0ce2a-a263-4835-b4e6-e8bdb1c22445",
   "metadata": {},
   "outputs": [],
   "source": [
    "restored_filebeat_index=\"restored-filebeat-7.13.2-2023.05.29-000001\"\n",
    "restored_metricbeat_index=\"restored-metricbeat-7.13.2-2023.05.29-000001\"\n",
    "restored_packetbeat_index = \"restored-packetbeat-7.13.2-2023.05.29-000001\"\n",
    "cmd1 = f'curl -X POST \"http://localhost:9200/{restored_filebeat_index}/_ilm/remove?pretty\"'\n",
    "cmd2 = f'curl -X POST \"http://localhost:9200/{restored_metricbeat_index}/_ilm/remove?pretty\"'\n",
    "cmd3 = f'curl -X POST \"http://localhost:9200/{restored_packetbeat_index}/_ilm/remove?pretty\"'\n",
    "stdout, stderr= meas_node.execute(cmd1)\n",
    "stdout, stderr= meas_node.execute(cmd2)\n",
    "stdout, stderr= meas_node.execute(cmd3)"
   ]
  },
  {
   "cell_type": "markdown",
   "id": "82fb3cba-751a-4072-b0f1-ea225ec595b4",
   "metadata": {},
   "source": [
    "## Set up ssh tunnel to view the data"
   ]
  },
  {
   "cell_type": "code",
   "execution_count": null,
   "id": "b695003d-cf9a-484d-8416-4c07d8511abe",
   "metadata": {},
   "outputs": [],
   "source": [
    "port = \"10050\"\n",
    "cmd=f'ssh -L {port}:localhost:5601 -F ssh_config -i slice_key ubuntu@{meas_node.get_management_ip()}'\n",
    "print (f\"Use [{cmd}] to set up ssh tunnel and then go to http://localhost:{port} to view the data \")"
   ]
  },
  {
   "cell_type": "markdown",
   "id": "c661458a-38e5-4cc9-a159-ab9f4e041b6d",
   "metadata": {},
   "source": [
    "### You will see (restored) filebeat/metricbeat/packetbeat indice(6 total). The restored ones are static with no life cycle policies. The regular filebeat/metricbeat/packetbeat indice will be continuous written to by the beats.   "
   ]
  },
  {
   "cell_type": "code",
   "execution_count": null,
   "id": "b3a6e3a6-994f-4f64-9556-84505c4d2ff8",
   "metadata": {},
   "outputs": [],
   "source": []
  }
 ],
 "metadata": {
  "kernelspec": {
   "display_name": "Python 3 (ipykernel)",
   "language": "python",
   "name": "python3"
  },
  "language_info": {
   "codemirror_mode": {
    "name": "ipython",
    "version": 3
   },
   "file_extension": ".py",
   "mimetype": "text/x-python",
   "name": "python",
   "nbconvert_exporter": "python",
   "pygments_lexer": "ipython3",
   "version": "3.9.7"
  }
 },
 "nbformat": 4,
 "nbformat_minor": 5
}

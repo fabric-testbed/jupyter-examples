{
 "cells": [
  {
   "cell_type": "markdown",
   "id": "db7900bf-ab7c-4565-a279-15c3792d9df4",
   "metadata": {},
   "source": [
    "# Import elk snapshot in another fabric slice"
   ]
  },
  {
   "cell_type": "markdown",
   "id": "c3c8d125-bc4d-494c-8fb8-8945749254b7",
   "metadata": {},
   "source": [
    "## Import"
   ]
  },
  {
   "cell_type": "code",
   "execution_count": null,
   "id": "4c228a00-c126-4c51-a792-405122c87158",
   "metadata": {},
   "outputs": [],
   "source": [
    "import os\n",
    "import json\n",
    "import traceback\n",
    "from fabrictestbed_extensions.fablib.fablib import FablibManager as fablib_manager\n",
    "try:\n",
    "    fablib = fablib_manager()                \n",
    "    #fablib.show_config()\n",
    "except Exception as e:\n",
    "    print(f\"Exception: {e}\")\n",
    "import mflib\n",
    "print(f\"MFLib version  {mflib.__version__} \" )\n",
    "from mflib.mflib import MFLib"
   ]
  },
  {
   "cell_type": "code",
   "execution_count": null,
   "id": "99426b52-de41-4877-8c5a-21a1c949ee60",
   "metadata": {},
   "outputs": [],
   "source": [
    "import importlib\n",
    "import importlib\n",
    "from mflib.mf_data_transfer import mf_data_export"
   ]
  },
  {
   "cell_type": "markdown",
   "id": "76e29941-7239-4e5e-b106-93b854b3fe32",
   "metadata": {},
   "source": [
    "## Slice Info"
   ]
  },
  {
   "cell_type": "code",
   "execution_count": null,
   "id": "9e7f0f47-a59b-4451-bed1-772c5adad033",
   "metadata": {},
   "outputs": [],
   "source": [
    "slice_name = \"backup-testing\"\n",
    "node1_name = 'data-backup'"
   ]
  },
  {
   "cell_type": "code",
   "execution_count": null,
   "id": "c8b7ce25-2365-498c-a758-39acde2b6385",
   "metadata": {},
   "outputs": [],
   "source": [
    "try:\n",
    "    slice = fablib.get_slice(name=slice_name)\n",
    "except Exception as e:\n",
    "    print(f\"Fail: {e}\")\n",
    "print (slice)\n",
    "\n",
    "try:\n",
    "    node = slice.get_node(name=node1_name)\n",
    "except Exception as e:\n",
    "    print(f\"Fail: {e}\")"
   ]
  },
  {
   "cell_type": "markdown",
   "id": "551fa2bc-48a7-4ac7-85c2-bf1d8af2df51",
   "metadata": {},
   "source": [
    "## Start elk container to use the snapshot"
   ]
  },
  {
   "cell_type": "markdown",
   "id": "ae6d1f7f-d51e-48fa-9eb4-40de608baa34",
   "metadata": {},
   "source": [
    "### upload elasticsearch.yml to the node"
   ]
  },
  {
   "cell_type": "code",
   "execution_count": null,
   "id": "c74fe516-dec8-48be-af9c-5a40526b5b0b",
   "metadata": {},
   "outputs": [],
   "source": [
    "# Upload an example elasticsearch.yml file\n",
    "node.upload_file(local_file_path=\"/home/fabric/work/jupyter-examples/fabric_examples/mflib/Pinyi/data_transfer/elk_docker/elasticsearch.yml\", \n",
    "                 remote_file_path='/home/ubuntu/elasticsearch.yml')\n",
    "cmd = \"sudo chown root:root /home/ubuntu/elasticsearch.yml\"\n",
    "stdout, stderr=node.execute(cmd)"
   ]
  },
  {
   "cell_type": "markdown",
   "id": "1ce60350-b467-4c27-a721-b7cede9992c0",
   "metadata": {},
   "source": [
    "### create docker volumes"
   ]
  },
  {
   "cell_type": "code",
   "execution_count": null,
   "id": "0d28b1b2-ea08-4d85-af31-e7343b1f79f8",
   "metadata": {},
   "outputs": [],
   "source": [
    "cmd = \"sudo docker volume create elk_snapshotbackup\"\n",
    "stdout, stderr=node.execute(cmd)\n",
    "cmd = \"sudo docker volume create elk_data01\"\n",
    "stdout, stderr=node.execute(cmd)"
   ]
  },
  {
   "cell_type": "markdown",
   "id": "a97e3e0c-6f47-4c81-85fc-9bdae346153d",
   "metadata": {},
   "source": [
    "### Start the container"
   ]
  },
  {
   "cell_type": "code",
   "execution_count": null,
   "id": "d0549017-312b-4bdc-81be-a5c33421955a",
   "metadata": {
    "scrolled": true,
    "tags": []
   },
   "outputs": [],
   "source": [
    "cmd = f'''\n",
    "        sudo docker run -dit --name elasticsearch \\\n",
    "        --user 0:0 \\\n",
    "        -p 9200:9200 \\\n",
    "        -e \"discovery.type=single-node\" \\\n",
    "        -e \"path.repo=/usr/share/elasticsearch/backup\" \\\n",
    "        -v /home/ubuntu/elasticsearch.yml:/usr/share/elasticsearch/config/elasticsearch.yml \\\n",
    "        -v elk_data01:/usr/share/elasticsearch/data \\\n",
    "        -v elk_snapshotbackup:/usr/share/elasticsearch/backup \\\n",
    "        --ulimit memlock=-1:-1 \\\n",
    "        --log-driver json-file \\\n",
    "        elasticsearch:7.13.0\n",
    "      '''\n",
    "stdout, stderr=node.execute(cmd)"
   ]
  },
  {
   "cell_type": "code",
   "execution_count": null,
   "id": "65cf42c7-7971-4022-8815-e8d6e3747f8a",
   "metadata": {},
   "outputs": [],
   "source": [
    "node.execute(\"sudo docker ps\")"
   ]
  },
  {
   "cell_type": "markdown",
   "id": "babd8ef1-59ab-4eb3-8c1f-d09ac0fd3d3b",
   "metadata": {},
   "source": [
    "### Change snapshot dir permission"
   ]
  },
  {
   "cell_type": "code",
   "execution_count": null,
   "id": "1d8701db-f0f4-4675-b202-0716139ea067",
   "metadata": {},
   "outputs": [],
   "source": [
    "cmd = f\"sudo chown -R 1000:1000 /var/lib/docker/volumes/elk_snapshotbackup/_data\"\n",
    "stdout, stderr=node.execute(cmd)"
   ]
  },
  {
   "cell_type": "markdown",
   "id": "96dad681-7bd1-4746-9788-af83f726e041",
   "metadata": {},
   "source": [
    "### Register a backup repository"
   ]
  },
  {
   "cell_type": "code",
   "execution_count": null,
   "id": "5f6fe0ba-2eb9-4dd1-ba3b-d421e9057885",
   "metadata": {},
   "outputs": [],
   "source": [
    "repo_name = \"backup_repository\"\n",
    "default_dir = \"/usr/share/elasticsearch/backup\"\n",
    "cmd = f'curl -X PUT \"http://localhost:9200/_snapshot/{repo_name}?pretty\" -H \"Content-Type: application/json\" -d \\'{{ \"type\": \"fs\", \"settings\": {{ \"location\": \"{default_dir}\" }} }}\\''\n",
    "stdout, stderr=node.execute(cmd)"
   ]
  },
  {
   "cell_type": "markdown",
   "id": "9d11087d-13a7-41a1-a817-d9e36494bb6c",
   "metadata": {},
   "source": [
    "### Create a snapshot"
   ]
  },
  {
   "cell_type": "code",
   "execution_count": null,
   "id": "15c6eb46-fa07-4388-96e1-c887da050e7c",
   "metadata": {},
   "outputs": [],
   "source": [
    "snapshot_name = \"snapshot_test\"\n",
    "json_str = '\"ignore_unavailable\": true, \"include_global_state\": false'\n",
    "cmd = f'curl -X PUT \"http://localhost:9200/_snapshot/{repo_name}/{snapshot_name}?wait_for_completion=true&pretty\" -H \"Content-Type: application/json\" -d \\'{json_str}\\''\n",
    "stdout, stderr= node.execute(cmd)"
   ]
  },
  {
   "cell_type": "code",
   "execution_count": null,
   "id": "06fb5ab5-84aa-4c7c-a7a7-300169de5004",
   "metadata": {},
   "outputs": [],
   "source": [
    "# Upload an example elasticsearch.yml file\n",
    "node.upload_file(local_file_path=\"/home/fabric/work/data-transfer-jupyter/jupyter-examples/fabric_examples/mflib/data_transfer_service/snapshots/elk_backup_0529.tar\", \n",
    "                 remote_file_path='/home/ubuntu/elk_backup_0529.tar')"
   ]
  },
  {
   "cell_type": "markdown",
   "id": "675111a6-6df5-410a-9aa2-811c88f6b583",
   "metadata": {
    "tags": []
   },
   "source": [
    "### Replace the file with the tar file"
   ]
  },
  {
   "cell_type": "code",
   "execution_count": null,
   "id": "f2de909f-f042-489f-a09d-1e78bd7abd2f",
   "metadata": {},
   "outputs": [],
   "source": [
    "snapshot_dir = \"/var/lib/docker/volumes/elk_snapshotbackup/_data\"\n",
    "cmd = f\"sudo rm -rf {snapshot_dir}\"\n",
    "stdout, stderr= node.execute(cmd)"
   ]
  },
  {
   "cell_type": "code",
   "execution_count": null,
   "id": "bcf8688a-387d-4c5c-a7b8-9d84c63288db",
   "metadata": {
    "scrolled": true,
    "tags": []
   },
   "outputs": [],
   "source": [
    "# untar backup snapshot files to snapshot dir\n",
    "snapshot_parent_dir = \"/var/lib/docker/volumes/elk_snapshotbackup/\"\n",
    "elk_tar_file_name = \"elk_backup_0529.tar\"\n",
    "elk_tar_path = \"/home/ubuntu/elk/download\"\n",
    "cmd = f'sudo tar -xvf {elk_tar_path}/{elk_tar_file_name} -C {snapshot_parent_dir}'\n",
    "node.execute(cmd, quiet=True)"
   ]
  },
  {
   "cell_type": "code",
   "execution_count": null,
   "id": "ae31d056-93e8-4341-a028-490b34fee981",
   "metadata": {},
   "outputs": [],
   "source": [
    "cmd = f\"sudo chown -R 1000:1000 /var/lib/docker/volumes/elk_snapshotbackup/_data\"\n",
    "stdout, stderr=node.execute(cmd)\n",
    "cmd = f\"sudo ls {snapshot_parent_dir}/_data\"\n",
    "node.execute(cmd, quiet=True)"
   ]
  },
  {
   "cell_type": "markdown",
   "id": "775f5b27-4589-43a2-a3b9-ab9a63a1953a",
   "metadata": {},
   "source": [
    "### Restart the container"
   ]
  },
  {
   "cell_type": "code",
   "execution_count": null,
   "id": "8d24d28b-2e73-4856-8a81-7edd0dbe61cc",
   "metadata": {},
   "outputs": [],
   "source": [
    "cmd = \"sudo docker restart elasticsearch\"\n",
    "stdout, stderr= node.execute(cmd)"
   ]
  },
  {
   "cell_type": "markdown",
   "id": "539255ba-ddb0-4fd0-9d43-e4b0687122e6",
   "metadata": {},
   "source": [
    "### Check snapshot"
   ]
  },
  {
   "cell_type": "code",
   "execution_count": null,
   "id": "f94379f1-fde0-4dae-8731-2561d4150648",
   "metadata": {},
   "outputs": [],
   "source": [
    "# If you dont see the snapshot, you need to restart the container again(above step)\n",
    "repo_name=\"backup_repository\"\n",
    "snapshot_name = \"snapshot_test\"\n",
    "cmd = f\"curl -X GET 'http://localhost:9200/_cat/snapshots/{repo_name}?v'\"\n",
    "stdout, stderr= node.execute(cmd)"
   ]
  },
  {
   "cell_type": "code",
   "execution_count": null,
   "id": "b9723e70-e3d2-48e3-bb94-448d191553d0",
   "metadata": {},
   "outputs": [],
   "source": [
    "cmd = f'curl -X GET \"http://localhost:9200/_snapshot/{repo_name}/{snapshot_name}?pretty\"'\n",
    "stdout, stderr= node.execute(cmd)"
   ]
  },
  {
   "cell_type": "markdown",
   "id": "90a38369-392b-43ca-80ff-b9af6ffd93c7",
   "metadata": {},
   "source": [
    "### Delete indice if any"
   ]
  },
  {
   "cell_type": "code",
   "execution_count": null,
   "id": "83e0c0af-d4cd-421e-9810-e61e48d93a5b",
   "metadata": {},
   "outputs": [],
   "source": [
    "cmd = f'curl -X DELETE \"http://localhost:9200/_all\"'\n",
    "stdout, stderr= node.execute(cmd)"
   ]
  },
  {
   "cell_type": "markdown",
   "id": "82cae1bc-7053-44f2-ba1f-2a557974e291",
   "metadata": {},
   "source": [
    "### Check indice"
   ]
  },
  {
   "cell_type": "code",
   "execution_count": null,
   "id": "50bfd5ba-67a9-47ba-a397-87125dac6445",
   "metadata": {},
   "outputs": [],
   "source": [
    "cmd= f'curl -XGET \"http://localhost:9200/_cat/indices?pretty\"'\n",
    "stdout, stderr= node.execute(cmd)"
   ]
  },
  {
   "cell_type": "markdown",
   "id": "d9ec02c7-d86c-40a6-86a7-1f585c2d8e3d",
   "metadata": {},
   "source": [
    "### Restore using the snapshot"
   ]
  },
  {
   "cell_type": "code",
   "execution_count": null,
   "id": "6bd9c5ec-2089-4d5b-8728-6897f14abf0f",
   "metadata": {},
   "outputs": [],
   "source": [
    "# Need to specify indice names to restore\n",
    "indice_str= f'\"indices\": \"filebeat-7.13.2-2023.05.29-000001,metricbeat-7.13.2-2023.05.29-000001,packetbeat-7.13.2-2023.05.29-000001\",'\n",
    "repo_name=\"backup_repository\"\n",
    "snapshot_name = \"snapshot_test\"\n",
    "cmd = f'curl -X POST \"http://localhost:9200/_snapshot/{repo_name}/{snapshot_name}/_restore?pretty\" -H \"Content-Type: application/json\" -d \\'{{{indice_str} \"index_settings\": {{ \"index.number_of_replicas\": 1 }} }}\\''\n",
    "#print (cmd)\n",
    "stdout, stderr= node.execute(cmd)"
   ]
  },
  {
   "cell_type": "markdown",
   "id": "6dd06acd-8eb5-4488-8023-c206cd07d71a",
   "metadata": {},
   "source": [
    "### Check progress"
   ]
  },
  {
   "cell_type": "code",
   "execution_count": null,
   "id": "1b923b46-3ffe-4c8b-845e-0ded81571938",
   "metadata": {},
   "outputs": [],
   "source": [
    "cmd = f'curl -XGET \"http://localhost:9200/_cat/recovery?v\"'\n",
    "stdout, stderr= node.execute(cmd)"
   ]
  },
  {
   "cell_type": "markdown",
   "id": "9cd868d4-7d1f-47f0-a3b6-c14381e4728c",
   "metadata": {},
   "source": [
    "### After the process finishes, check the indice"
   ]
  },
  {
   "cell_type": "code",
   "execution_count": null,
   "id": "cc3a64df-c979-4784-84cd-cdf07c9da619",
   "metadata": {},
   "outputs": [],
   "source": [
    "# You should see the same indice as what you exported \n",
    "cmd= f'curl -XGET \"http://localhost:9200/_cat/indices?pretty\"'\n",
    "stdout, stderr= node.execute(cmd)"
   ]
  },
  {
   "cell_type": "markdown",
   "id": "f5b37a6c-fc01-44a1-a3ae-16ae9f9f4d06",
   "metadata": {},
   "source": [
    "## Set up kibana"
   ]
  },
  {
   "cell_type": "code",
   "execution_count": null,
   "id": "fac1f80e-a87d-4f7f-b805-b70e685f9e06",
   "metadata": {},
   "outputs": [],
   "source": [
    "cmd = f'sudo docker run -d --name kibana --link elasticsearch:elasticsearch -p 5601:5601 docker.elastic.co/kibana/kibana:7.13.0'\n",
    "stdout, stderr= node.execute(cmd)"
   ]
  },
  {
   "cell_type": "markdown",
   "id": "b94eb24b-07eb-481c-9bfb-5672abb34c75",
   "metadata": {},
   "source": [
    "## View data in the web ui"
   ]
  },
  {
   "cell_type": "markdown",
   "id": "da0dad5b-ce06-4218-9587-f545780d91e0",
   "metadata": {},
   "source": [
    "##### Run 'ssh -L 10030:localhost:5601 -F ssh_config -i slice_key ubuntu@{node_ip}' ; Then go to http://localhost:10030"
   ]
  }
 ],
 "metadata": {
  "kernelspec": {
   "display_name": "Python 3 (ipykernel)",
   "language": "python",
   "name": "python3"
  },
  "language_info": {
   "codemirror_mode": {
    "name": "ipython",
    "version": 3
   },
   "file_extension": ".py",
   "mimetype": "text/x-python",
   "name": "python",
   "nbconvert_exporter": "python",
   "pygments_lexer": "ipython3",
   "version": "3.9.7"
  }
 },
 "nbformat": 4,
 "nbformat_minor": 5
}

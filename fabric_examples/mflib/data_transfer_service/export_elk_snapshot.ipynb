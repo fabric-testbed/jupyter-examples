{
 "cells": [
  {
   "cell_type": "markdown",
   "id": "f56b74ca-dcb6-4ae2-a50f-2b810ab087fe",
   "metadata": {},
   "source": [
    "# Generate ELK Snapshot on Meas Node"
   ]
  },
  {
   "cell_type": "markdown",
   "id": "46df9758-1777-4ca8-bfad-32996b2520a7",
   "metadata": {},
   "source": [
    "### This notebook creates an ELK snapshot dir on the measurement node and prepares a .tar file to be exported"
   ]
  },
  {
   "cell_type": "markdown",
   "id": "45b7b039-a570-4ffd-8045-c626912fb90d",
   "metadata": {},
   "source": [
    "## Import"
   ]
  },
  {
   "cell_type": "code",
   "execution_count": 1,
   "id": "2e57cc1d-b1c9-48fb-985d-54eed44c6e27",
   "metadata": {},
   "outputs": [
    {
     "name": "stdout",
     "output_type": "stream",
     "text": [
      "MFLib version  1.0.0 \n"
     ]
    }
   ],
   "source": [
    "import os\n",
    "import json\n",
    "import traceback\n",
    "from fabrictestbed_extensions.fablib.fablib import FablibManager as fablib_manager\n",
    "try:\n",
    "    fablib = fablib_manager()                \n",
    "    #fablib.show_config()\n",
    "except Exception as e:\n",
    "    print(f\"Exception: {e}\")\n",
    "import mflib\n",
    "print(f\"MFLib version  {mflib.__version__} \" )\n",
    "from mflib.mflib import MFLib"
   ]
  },
  {
   "cell_type": "code",
   "execution_count": 2,
   "id": "15612892-fc2d-43e6-b778-9b6242302da9",
   "metadata": {},
   "outputs": [],
   "source": [
    "import importlib\n",
    "import mf_data_transfer\n",
    "importlib.reload(mf_data_transfer)\n",
    "from mf_data_transfer import mf_data_export"
   ]
  },
  {
   "cell_type": "markdown",
   "id": "ec773cba-0e3a-484b-987e-db992c8567da",
   "metadata": {},
   "source": [
    "## Slice Info"
   ]
  },
  {
   "cell_type": "code",
   "execution_count": 3,
   "id": "e069985d-e6cd-47cf-95ee-a9459d4bb3b1",
   "metadata": {},
   "outputs": [],
   "source": [
    "# Change your slice name and node name\n",
    "slice_name = \"MyMonitoredSlice\"\n",
    "node1_name = 'Node1'\n",
    "node2_name = 'Node2'\n",
    "node3_name = 'Node3'"
   ]
  },
  {
   "cell_type": "code",
   "execution_count": 4,
   "id": "3bd44de0-e0c6-4c45-b464-239d83120a77",
   "metadata": {},
   "outputs": [
    {
     "name": "stdout",
     "output_type": "stream",
     "text": [
      "Inititializing slice \"MyMonitoredSlice\" for MeasurementFramework.\n",
      "Found meas node as meas-node at 2620:0:c80:1001:f816:3eff:fe94:a4d7\n",
      "Bootstrap status indicates Slice Measurement Framework is ready.\n"
     ]
    }
   ],
   "source": [
    "mf = MFLib(slice_name)"
   ]
  },
  {
   "cell_type": "code",
   "execution_count": 5,
   "id": "8d1d2957-048d-452e-b5b3-a9d694d25acd",
   "metadata": {},
   "outputs": [
    {
     "name": "stdout",
     "output_type": "stream",
     "text": [
      "-----------  ------------------------------------\n",
      "Slice Name   MyMonitoredSlice\n",
      "Slice ID     5dd2162f-26d1-460f-b06d-6833dc870378\n",
      "Slice State  StableOK\n",
      "Lease End    2023-06-01 20:16:29 +0000\n",
      "-----------  ------------------------------------\n"
     ]
    }
   ],
   "source": [
    "meas_node_name = mf.measurement_node_name\n",
    "try:\n",
    "    slice = fablib.get_slice(name=slice_name)\n",
    "except Exception as e:\n",
    "    print(f\"Fail: {e}\")\n",
    "print (slice)\n",
    "\n",
    "try:\n",
    "    meas_node = slice.get_node(name=meas_node_name)\n",
    "except Exception as e:\n",
    "    print(f\"Fail: {e}\")   \n",
    "#print (meas_node)"
   ]
  },
  {
   "cell_type": "markdown",
   "id": "f0ad009d-6981-49c4-8609-4721aa7dacd8",
   "metadata": {},
   "source": [
    "## Create the data export object"
   ]
  },
  {
   "cell_type": "code",
   "execution_count": 6,
   "id": "895be641-d225-4d04-b06e-c74d9e7f81a7",
   "metadata": {},
   "outputs": [],
   "source": [
    "mde = mf_data_export(slice_name=slice_name, meas_node_name=meas_node_name)"
   ]
  },
  {
   "cell_type": "markdown",
   "id": "fb0b8fcd-9ed0-449a-898c-a755f72d1222",
   "metadata": {},
   "source": [
    "## Create ELK Snapshot"
   ]
  },
  {
   "cell_type": "markdown",
   "id": "566b54a1-7f8c-456f-8adb-a734a88d1ae3",
   "metadata": {},
   "source": [
    "### Change directory permission"
   ]
  },
  {
   "cell_type": "code",
   "execution_count": 7,
   "id": "7ef7a5a9-44d7-4a89-8af0-ad69596de1bd",
   "metadata": {},
   "outputs": [],
   "source": [
    "# This will change the permission of /var/lib/docker/volumes/elk_snapshotbackup/_data for elk to write snapshot to\n",
    "mde.change_elk_dir_permission(node=mf.measurement_node_name)"
   ]
  },
  {
   "cell_type": "markdown",
   "id": "3898ec28-9b1d-48ec-b8d6-8e5ffa5f28fe",
   "metadata": {},
   "source": [
    "### Create a snapshot repository"
   ]
  },
  {
   "cell_type": "code",
   "execution_count": 8,
   "id": "823b1b84-4c72-46e8-b6c4-f1579a0271c4",
   "metadata": {},
   "outputs": [
    {
     "name": "stdout",
     "output_type": "stream",
     "text": [
      "{\n",
      "  \"acknowledged\" : true\n",
      "}\n",
      "\u001b[31m   % Total    % Received % Xferd  Average Speed   Time    Time     Time  Current\n",
      "                                 Dload  Upload   Total   Spent    Left  Speed\n",
      "100   107  100    28  100    79    145    411 --:--:-- --:--:-- --:--:--   557\n",
      " \u001b[0m"
     ]
    }
   ],
   "source": [
    "mde.create_snapshot_repo(repo_name=\"backup_repository\")"
   ]
  },
  {
   "cell_type": "markdown",
   "id": "99a6da22-6a38-4591-a3cd-617205b8543c",
   "metadata": {},
   "source": [
    "### Check the created repo"
   ]
  },
  {
   "cell_type": "code",
   "execution_count": 9,
   "id": "cf67f044-92a4-4e6d-a2f7-4db8a9aa4337",
   "metadata": {},
   "outputs": [
    {
     "name": "stdout",
     "output_type": "stream",
     "text": [
      "{\n",
      "  \"backup_repository\" : {\n",
      "    \"type\" : \"fs\",\n",
      "    \"settings\" : {\n",
      "      \"location\" : \"/usr/share/elasticsearch/backup\"\n",
      "    }\n",
      "  }\n",
      "}\n",
      "\u001b[31m   % Total    % Received % Xferd  Average Speed   Time    Time     Time  Current\n",
      "                                 Dload  Upload   Total   Spent    Left  Speed\n",
      "100   131  100   131    0     0  32750      0 --:--:-- --:--:-- --:--:-- 32750\n",
      " \u001b[0m"
     ]
    }
   ],
   "source": [
    "mde.verify_repo(repo_name=\"backup_repository\")"
   ]
  },
  {
   "cell_type": "markdown",
   "id": "ebdaf537-cb7f-40e6-90d3-cbfbfe544a4e",
   "metadata": {},
   "source": [
    "### List indice"
   ]
  },
  {
   "cell_type": "code",
   "execution_count": 10,
   "id": "3d143a65-1d81-4d1c-a3d9-ce34dccfae95",
   "metadata": {},
   "outputs": [
    {
     "name": "stdout",
     "output_type": "stream",
     "text": [
      "health status index                               uuid                   pri rep docs.count docs.deleted store.size pri.store.size\n",
      "green  open   packetbeat-7.13.2-2023.05.31-000001 eG4a7pYZR5-aollsdxPofw   1   1       8213            0      7.5mb          3.6mb\n",
      "green  open   .kibana_task_manager_7.13.0_001     _fnx9eXFTA-mnPvoUgnkVw   1   1         10          550    335.3kb        138.6kb\n",
      "green  open   .apm-custom-link                    3Jc-EZltT3mTva-mmU89KA   1   1          0            0       416b           208b\n",
      "green  open   .kibana-event-log-7.13.0-000001     t88RkrUuRO2iKb4OWw_zqA   1   1          1            0     11.2kb          5.6kb\n",
      "green  open   metricbeat-7.13.2-2023.05.31-000001 OGb7GCOrR5uXivN3vUaCwA   1   1      60209            0     48.1mb           24mb\n",
      "green  open   .apm-agent-configuration            ttpzBvquRG2Dyznx1AE1mw   1   1          0            0       416b           208b\n",
      "green  open   .kibana_7.13.0_001                  Qpow41qHRL2Uik7Rf6EbQg   1   1       4578            9     18.1mb          9.1mb\n",
      "green  open   kibana_sample_data_flights          _Lrr2ATNRw-7hl2JAFot9w   1   1      13059            0     10.8mb          5.4mb\n",
      "green  open   filebeat-7.13.2-2023.05.31-000001   pnnbikUtQymt0vRxGftKrw   1   1       8904            0        6mb          2.4mb\n",
      "\u001b[31m   % Total    % Received % Xferd  Average Speed   Time    Time     Time  Current\n",
      "                                 Dload  Upload   Total   Spent    Left  Speed\n",
      "100  1310  100  1310    0     0  65500      0 --:--:-- --:--:-- --:--:-- 65500\n",
      " \u001b[0m"
     ]
    }
   ],
   "source": [
    "mde.list_indices()"
   ]
  },
  {
   "cell_type": "markdown",
   "id": "abc05de9-0533-43c1-9e6d-e4ee7a253f58",
   "metadata": {},
   "source": [
    "### Create snapshot"
   ]
  },
  {
   "cell_type": "code",
   "execution_count": 11,
   "id": "6a85183b-8dcb-4a56-8dcb-3976ddd9b9a1",
   "metadata": {},
   "outputs": [
    {
     "name": "stdout",
     "output_type": "stream",
     "text": [
      "{\n",
      "  \"snapshot\" : {\n",
      "    \"snapshot\" : \"snapshot_test\",\n",
      "    \"uuid\" : \"lHKG7MEDSliDw_U7Zrxv9w\",\n",
      "    \"version_id\" : 7130099,\n",
      "    \"version\" : \"7.13.0\",\n",
      "    \"indices\" : [\n",
      "      \".apm-agent-configuration\",\n",
      "      \".kibana-event-log-7.13.0-000001\",\n",
      "      \".apm-custom-link\",\n",
      "      \".kibana_task_manager_7.13.0_001\",\n",
      "      \"metricbeat-7.13.2-2023.05.31-000001\",\n",
      "      \"filebeat-7.13.2-2023.05.31-000001\",\n",
      "      \"packetbeat-7.13.2-2023.05.31-000001\",\n",
      "      \".ds-ilm-history-5-2023.05.31-000001\",\n",
      "      \".kibana_7.13.0_001\",\n",
      "      \"kibana_sample_data_flights\"\n",
      "    ],\n",
      "    \"data_streams\" : [\n",
      "      \"ilm-history-5\"\n",
      "    ],\n",
      "    \"include_global_state\" : false,\n",
      "    \"state\" : \"SUCCESS\",\n",
      "    \"start_time\" : \"2023-05-31T22:50:40.082Z\",\n",
      "    \"start_time_in_millis\" : 1685573440082,\n",
      "    \"end_time\" : \"2023-05-31T22:50:40.883Z\",\n",
      "    \"end_time_in_millis\" : 1685573440883,\n",
      "    \"duration_in_millis\" : 801,\n",
      "    \"failures\" : [ ],\n",
      "    \"shards\" : {\n",
      "      \"total\" : 10,\n",
      "      \"failed\" : 0,\n",
      "      \"successful\" : 10\n",
      "    },\n",
      "    \"feature_states\" : [ ]\n",
      "  }\n",
      "}\n",
      "\u001b[31m   % Total    % Received % Xferd  Average Speed   Time    Time     Time  Current\n",
      "                                 Dload  Upload   Total   Spent    Left  Speed\n",
      "100  1079  100  1020  100    59    944     54  0:00:01  0:00:01 --:--:--   999\n",
      " \u001b[0m"
     ]
    }
   ],
   "source": [
    "# Default will include all indice. add arg (list) indice=[index1, index2] to specify indice\n",
    "# May take a while\n",
    "mde.create_elk_snapshot(repo_name=\"backup_repository\", snapshot_name=\"snapshot_test\")"
   ]
  },
  {
   "cell_type": "markdown",
   "id": "c4a82d22-cd02-441e-bdaa-f876a6b0699e",
   "metadata": {},
   "source": [
    "## Create dir for the elk tar file"
   ]
  },
  {
   "cell_type": "code",
   "execution_count": 12,
   "id": "8f5c7205-6169-4402-bc8f-090ad720dbd9",
   "metadata": {},
   "outputs": [],
   "source": [
    "elk_tar_dir = \"/tmp/elk/tar\"\n",
    "mde.create_dir_for_elk_tar(dir_name=elk_tar_dir)"
   ]
  },
  {
   "cell_type": "markdown",
   "id": "afe9349e-e2a1-4e51-b1a0-84c304bb14f5",
   "metadata": {},
   "source": [
    "## Make the snapshot tar file"
   ]
  },
  {
   "cell_type": "code",
   "execution_count": 13,
   "id": "83cec109-57d9-4813-b66d-e1fc92780fc5",
   "metadata": {
    "scrolled": true,
    "tags": []
   },
   "outputs": [
    {
     "name": "stdout",
     "output_type": "stream",
     "text": [
      "_data/\n",
      "_data/meta-lHKG7MEDSliDw_U7Zrxv9w.dat\n",
      "_data/snap-lHKG7MEDSliDw_U7Zrxv9w.dat\n",
      "_data/indices/\n",
      "_data/indices/DSc-RTN6SUWVErJk2ZOVcA/\n",
      "_data/indices/DSc-RTN6SUWVErJk2ZOVcA/meta-tvEBdIgB_jvqOm06lkos.dat\n",
      "_data/indices/DSc-RTN6SUWVErJk2ZOVcA/0/\n",
      "_data/indices/DSc-RTN6SUWVErJk2ZOVcA/0/__D_jHXFQAQ7S8kPPyhgHdhQ\n",
      "_data/indices/DSc-RTN6SUWVErJk2ZOVcA/0/__GA6k8eS4QlWPlj3CWWfZwQ\n",
      "_data/indices/DSc-RTN6SUWVErJk2ZOVcA/0/__TvfRBhiFRo-oOCApkcmmRQ\n",
      "_data/indices/DSc-RTN6SUWVErJk2ZOVcA/0/__h39tRcDGQ2SQvUpNKiJEfw\n",
      "_data/indices/DSc-RTN6SUWVErJk2ZOVcA/0/__GPU9-5-mTtOZSKzZtNlwvA\n",
      "_data/indices/DSc-RTN6SUWVErJk2ZOVcA/0/__DCdY01umTXu14LyjqOnNTA\n",
      "_data/indices/DSc-RTN6SUWVErJk2ZOVcA/0/__lr1VS5dkQ9KVPAhaYCwwnw\n",
      "_data/indices/DSc-RTN6SUWVErJk2ZOVcA/0/__9sNgz2nSRoCd7SYhWjaCFA\n",
      "_data/indices/DSc-RTN6SUWVErJk2ZOVcA/0/__osxb5RWdS0KvMYCsWjedRA\n",
      "_data/indices/DSc-RTN6SUWVErJk2ZOVcA/0/__4tWLY9ZTQ3KzGGy7einfuA\n",
      "_data/indices/DSc-RTN6SUWVErJk2ZOVcA/0/__5RQ7S3g0R0qLhGkY4xhsJA\n",
      "_data/indices/DSc-RTN6SUWVErJk2ZOVcA/0/__MFg1hesoSsSe1RV-kzm7LQ\n",
      "_data/indices/DSc-RTN6SUWVErJk2ZOVcA/0/__9S1uD_PRSIiGLAyXRzIKBQ\n",
      "_data/indices/DSc-RTN6SUWVErJk2ZOVcA/0/snap-lHKG7MEDSliDw_U7Zrxv9w.dat\n",
      "_data/indices/DSc-RTN6SUWVErJk2ZOVcA/0/__AHLbgx1zQla3LyyubDaJXA\n",
      "_data/indices/DSc-RTN6SUWVErJk2ZOVcA/0/__g573_uiwQw-B2_vv8VHNqw\n",
      "_data/indices/DSc-RTN6SUWVErJk2ZOVcA/0/__qUVZqo8RQ4-wdRUB-D3aMw\n",
      "_data/indices/DSc-RTN6SUWVErJk2ZOVcA/0/__YUZoCmA-QJK9KBXDmK5Jjg\n",
      "_data/indices/DSc-RTN6SUWVErJk2ZOVcA/0/__lGBgRfHCRpeq1YxuFoiqtw\n",
      "_data/indices/DSc-RTN6SUWVErJk2ZOVcA/0/__W3MKfvC6QaqJRmI97VfLiQ\n",
      "_data/indices/DSc-RTN6SUWVErJk2ZOVcA/0/index-XRMFtXGLTCyKVbioi6MA7A\n",
      "_data/indices/DSc-RTN6SUWVErJk2ZOVcA/0/__P8wmUJpISRuyfGFoBAS_Og\n",
      "_data/indices/DSc-RTN6SUWVErJk2ZOVcA/0/__O8UwEUGZSZOJM7V-FWxA-Q\n",
      "_data/indices/DSc-RTN6SUWVErJk2ZOVcA/0/__d6TiWhKnSFeXtUr_jcnWFw\n",
      "_data/indices/DSc-RTN6SUWVErJk2ZOVcA/0/___p1hRdFnToKSaTMppzsJnQ\n",
      "_data/indices/DSc-RTN6SUWVErJk2ZOVcA/0/__BaefK8JyTo-Puojzu_HTgw\n",
      "_data/indices/DSc-RTN6SUWVErJk2ZOVcA/0/__OHxs6Ve_RkKSesriV2rUAA\n",
      "_data/indices/DSc-RTN6SUWVErJk2ZOVcA/0/__Zo6Uq-t5Q7yMSiGG8C6QTA\n",
      "_data/indices/DSc-RTN6SUWVErJk2ZOVcA/0/__ecTI32vyRP2CXC1xBzm4Xw\n",
      "_data/indices/DSc-RTN6SUWVErJk2ZOVcA/0/__JIjwOVtRRwmdZ8mThrjNlQ\n",
      "_data/indices/DSc-RTN6SUWVErJk2ZOVcA/0/__px3yVe8dTROFBMGjt-jk2A\n",
      "_data/indices/DSc-RTN6SUWVErJk2ZOVcA/0/__m6C85ecOSUGvDadr8cq8tQ\n",
      "_data/indices/DSc-RTN6SUWVErJk2ZOVcA/0/__Hxe5YzsCQTq4YjcAX7BoTA\n",
      "_data/indices/DSc-RTN6SUWVErJk2ZOVcA/0/__tW0CMH8UQVmdxIMgJIRksg\n",
      "_data/indices/04yYdwmlSySu2exSP7Gd1Q/\n",
      "_data/indices/04yYdwmlSySu2exSP7Gd1Q/0/\n",
      "_data/indices/04yYdwmlSySu2exSP7Gd1Q/0/__5vA6uOzIRVej3gr23_k76Q\n",
      "_data/indices/04yYdwmlSySu2exSP7Gd1Q/0/__7L_-qb9DQT-w1PZBcCeaKQ\n",
      "_data/indices/04yYdwmlSySu2exSP7Gd1Q/0/__tSPGZGdOTL-UBSMviVb_5g\n",
      "_data/indices/04yYdwmlSySu2exSP7Gd1Q/0/__iXp35BzdR8ydk7cycoZrSg\n",
      "_data/indices/04yYdwmlSySu2exSP7Gd1Q/0/__JPNS6ZymR8atdO9-1J9KdA\n",
      "_data/indices/04yYdwmlSySu2exSP7Gd1Q/0/__jbKPGCtZTI2eIDcuhwBQuA\n",
      "_data/indices/04yYdwmlSySu2exSP7Gd1Q/0/__07E7-E98ROq9qdFrc1UG3A\n",
      "_data/indices/04yYdwmlSySu2exSP7Gd1Q/0/__hlGx-SkBTQyx6BkLXNdD7Q\n",
      "_data/indices/04yYdwmlSySu2exSP7Gd1Q/0/__GU1teWTSTN6CesXWZDwUpw\n",
      "_data/indices/04yYdwmlSySu2exSP7Gd1Q/0/__X859BdbGQGm6VRPaSN2YXQ\n",
      "_data/indices/04yYdwmlSySu2exSP7Gd1Q/0/__J4mNSR4kRsCsyULgXeEOPw\n",
      "_data/indices/04yYdwmlSySu2exSP7Gd1Q/0/__JxaAJ_RkSWqWy9tN3OWIIA\n",
      "_data/indices/04yYdwmlSySu2exSP7Gd1Q/0/__7aaxXrlwSEu-GAI2lKMS2Q\n",
      "_data/indices/04yYdwmlSySu2exSP7Gd1Q/0/__HuH3iU-bQqGdq-JDAzGjbQ\n",
      "_data/indices/04yYdwmlSySu2exSP7Gd1Q/0/__3kiULIN_SgOLAIR1KeQa9A\n",
      "_data/indices/04yYdwmlSySu2exSP7Gd1Q/0/__mmoS3ZwsTDeWacHKNFFujA\n",
      "_data/indices/04yYdwmlSySu2exSP7Gd1Q/0/__soQVpY98SAmF5am5pNU41w\n",
      "_data/indices/04yYdwmlSySu2exSP7Gd1Q/0/__Qc8b7a7iS9yR1Ty5Tp7pag\n",
      "_data/indices/04yYdwmlSySu2exSP7Gd1Q/0/__kgFLQiBrTsuAphiqsfPWpg\n",
      "_data/indices/04yYdwmlSySu2exSP7Gd1Q/0/__Em0G6OWfRgu1_n5OMo-jnQ\n",
      "_data/indices/04yYdwmlSySu2exSP7Gd1Q/0/__4xwkuNlTQ86KL6BYvgboCg\n",
      "_data/indices/04yYdwmlSySu2exSP7Gd1Q/0/__vsaOXwgKQiCEkWryQmjJ1Q\n",
      "_data/indices/04yYdwmlSySu2exSP7Gd1Q/0/__Njud-J3ASTidgrwijrMIfA\n",
      "_data/indices/04yYdwmlSySu2exSP7Gd1Q/0/__5jC9utb4S2i7HbujgAHGig\n",
      "_data/indices/04yYdwmlSySu2exSP7Gd1Q/0/__Lm93iy2rRJ2xbet5kwi6Sw\n",
      "_data/indices/04yYdwmlSySu2exSP7Gd1Q/0/__0KhNZSVtS3SkFEK09qwwhQ\n",
      "_data/indices/04yYdwmlSySu2exSP7Gd1Q/0/__mJpEnmBiQTqsry-ZQQvuoQ\n",
      "_data/indices/04yYdwmlSySu2exSP7Gd1Q/0/__YrKnd-PmSPWhsX0I5hLUNA\n",
      "_data/indices/04yYdwmlSySu2exSP7Gd1Q/0/__esno4ATBTJGtLMK6XBDm3Q\n",
      "_data/indices/04yYdwmlSySu2exSP7Gd1Q/0/__r-yvT0ENQVKqP7dhGHA-Aw\n",
      "_data/indices/04yYdwmlSySu2exSP7Gd1Q/0/snap-lHKG7MEDSliDw_U7Zrxv9w.dat\n",
      "_data/indices/04yYdwmlSySu2exSP7Gd1Q/0/__MPy4UgGDS_OaUErDDUouKQ\n",
      "_data/indices/04yYdwmlSySu2exSP7Gd1Q/0/__dvJA-SciRFCViv7C4Qmz3g\n",
      "_data/indices/04yYdwmlSySu2exSP7Gd1Q/0/__8WBpSs-qSRi6317Oz2saKw\n",
      "_data/indices/04yYdwmlSySu2exSP7Gd1Q/0/__ttVd3pH1TT2mJj7DQ4EwLw\n",
      "_data/indices/04yYdwmlSySu2exSP7Gd1Q/0/__EnJMzsetSZmXyu2PsBmZAg\n",
      "_data/indices/04yYdwmlSySu2exSP7Gd1Q/0/__LCVUrGUXS5a6hbB3DSxdfg\n",
      "_data/indices/04yYdwmlSySu2exSP7Gd1Q/0/__XcW8jAq1QPGy3RbdemTyaA\n",
      "_data/indices/04yYdwmlSySu2exSP7Gd1Q/0/__a3La7gvDRcWMi5wkNQR31w\n",
      "_data/indices/04yYdwmlSySu2exSP7Gd1Q/0/__OV9ukytCRJG4D3xDFy0VJA\n",
      "_data/indices/04yYdwmlSySu2exSP7Gd1Q/0/__G4kqRq90Txeri5sdjvELbw\n",
      "_data/indices/04yYdwmlSySu2exSP7Gd1Q/0/__0kfZMKpDT8OCUMgehhna-w\n",
      "_data/indices/04yYdwmlSySu2exSP7Gd1Q/0/__7CRsE6XSRrOzNmcT-2qgJQ\n",
      "_data/indices/04yYdwmlSySu2exSP7Gd1Q/0/__Dbu7YQpqQ7SzHm8uzbYuww\n",
      "_data/indices/04yYdwmlSySu2exSP7Gd1Q/0/__UcLQH1XVSlKmmp4_hec2zg\n",
      "_data/indices/04yYdwmlSySu2exSP7Gd1Q/0/__3bboIB1-RJWVbT-sE12zjw\n",
      "_data/indices/04yYdwmlSySu2exSP7Gd1Q/0/index-lLex5u1qRC2x7AHXE0V8lw\n",
      "_data/indices/04yYdwmlSySu2exSP7Gd1Q/0/__ITvGM8jnQvaGfEwFdrTiOw\n",
      "_data/indices/04yYdwmlSySu2exSP7Gd1Q/0/__cv8qDvamSumJlvJv1osN0g\n",
      "_data/indices/04yYdwmlSySu2exSP7Gd1Q/0/__dGx61PSWQze0BITCmQTaqg\n",
      "_data/indices/04yYdwmlSySu2exSP7Gd1Q/0/__gIbfNoKsQ5ifrsxl-Y4PDA\n",
      "_data/indices/04yYdwmlSySu2exSP7Gd1Q/0/__XiOdskn8TRaKF26cTkjO3A\n",
      "_data/indices/04yYdwmlSySu2exSP7Gd1Q/0/__gx1OwXGPRlK50NLmTtbSZQ\n",
      "_data/indices/04yYdwmlSySu2exSP7Gd1Q/0/__2j5JFkn9SIuTlaYf3G0Y1w\n",
      "_data/indices/04yYdwmlSySu2exSP7Gd1Q/0/__4tw6eCF7S4STbU7tYhkvOg\n",
      "_data/indices/04yYdwmlSySu2exSP7Gd1Q/0/__D3T8jnznQd6pjEBTAyPp7g\n",
      "_data/indices/04yYdwmlSySu2exSP7Gd1Q/0/__CmfdlArVRZ6O2tkUf9CEOg\n",
      "_data/indices/04yYdwmlSySu2exSP7Gd1Q/0/__zuVKH98jRS2OuWviJOWFcw\n",
      "_data/indices/04yYdwmlSySu2exSP7Gd1Q/0/__BRYEfdfRT1meediELl83nQ\n",
      "_data/indices/04yYdwmlSySu2exSP7Gd1Q/0/___qS0RiiPSH-I_ft0G-s3HA\n",
      "_data/indices/04yYdwmlSySu2exSP7Gd1Q/0/__QdwxQ-VPQN239TaYwEWcgA\n",
      "_data/indices/04yYdwmlSySu2exSP7Gd1Q/0/__jocLaGymQiaZvqMPk9rG8w\n",
      "_data/indices/04yYdwmlSySu2exSP7Gd1Q/0/__Mur-2VdFSWKpDv8NpUpMkg\n",
      "_data/indices/04yYdwmlSySu2exSP7Gd1Q/0/__oBKDdWlFSRmO5tGTJ-JP5A\n",
      "_data/indices/04yYdwmlSySu2exSP7Gd1Q/0/__ctpNxa17TCW1WD101ZoGag\n",
      "_data/indices/04yYdwmlSySu2exSP7Gd1Q/meta-tPEBdIgB_jvqOm06lkoh.dat\n",
      "_data/indices/UQBJeI9zTAaDRBEyyF0RNA/\n",
      "_data/indices/UQBJeI9zTAaDRBEyyF0RNA/0/\n",
      "_data/indices/UQBJeI9zTAaDRBEyyF0RNA/0/snap-lHKG7MEDSliDw_U7Zrxv9w.dat\n",
      "_data/indices/UQBJeI9zTAaDRBEyyF0RNA/0/index-Uyjk7h8iTwK31iOWpoh8cw\n",
      "_data/indices/UQBJeI9zTAaDRBEyyF0RNA/meta-sfEBdIgB_jvqOm06lkof.dat\n",
      "_data/indices/KNIgqbw8SDO3GTSl4-j_ZA/\n",
      "_data/indices/KNIgqbw8SDO3GTSl4-j_ZA/0/\n",
      "_data/indices/KNIgqbw8SDO3GTSl4-j_ZA/0/__AHKPDKmWQCODkTNnG4uVqw\n",
      "_data/indices/KNIgqbw8SDO3GTSl4-j_ZA/0/__MUoC7JRBSjew6feM_lkYsA\n",
      "_data/indices/KNIgqbw8SDO3GTSl4-j_ZA/0/__Ux7jheghRZ2KMGbarogs9g\n",
      "_data/indices/KNIgqbw8SDO3GTSl4-j_ZA/0/__d7-gKSxvTjiH1N9UwXC5UQ\n",
      "_data/indices/KNIgqbw8SDO3GTSl4-j_ZA/0/__7zl63L1SRzu6OSVaSmGTrQ\n",
      "_data/indices/KNIgqbw8SDO3GTSl4-j_ZA/0/index-11bbbUD2S9iJ45MxuJMtKg\n",
      "_data/indices/KNIgqbw8SDO3GTSl4-j_ZA/0/__NxiT0a68TYOhIfcaAl6w6g\n",
      "_data/indices/KNIgqbw8SDO3GTSl4-j_ZA/0/__9d-6VSiWQbawHMYlREZZkg\n",
      "_data/indices/KNIgqbw8SDO3GTSl4-j_ZA/0/__3nyx_VIaRhW3ZSgZpblcsA\n",
      "_data/indices/KNIgqbw8SDO3GTSl4-j_ZA/0/__38TDMaCSRRe98c428cT5mQ\n",
      "_data/indices/KNIgqbw8SDO3GTSl4-j_ZA/0/__Kd3Q4dV2R5CVFLtZERscMQ\n",
      "_data/indices/KNIgqbw8SDO3GTSl4-j_ZA/0/__RS87i1QHT2-qHzMrD5ef8w\n",
      "_data/indices/KNIgqbw8SDO3GTSl4-j_ZA/0/__PgyYO1t0Q_OdbFrWNx5FFg\n",
      "_data/indices/KNIgqbw8SDO3GTSl4-j_ZA/0/__vqk21R-TQLOYnJWTPdP8JQ\n",
      "_data/indices/KNIgqbw8SDO3GTSl4-j_ZA/0/__bldauoliTMq1mB0UaPvk-Q\n",
      "_data/indices/KNIgqbw8SDO3GTSl4-j_ZA/0/__yPahcUFWSSyzujObAcIEdg\n",
      "_data/indices/KNIgqbw8SDO3GTSl4-j_ZA/0/___IZWsk8CR4y0rdyQ5Om-5w\n",
      "_data/indices/KNIgqbw8SDO3GTSl4-j_ZA/0/__ac9YxuDQQiCY9c-f3VrNag\n",
      "_data/indices/KNIgqbw8SDO3GTSl4-j_ZA/0/snap-lHKG7MEDSliDw_U7Zrxv9w.dat\n",
      "_data/indices/KNIgqbw8SDO3GTSl4-j_ZA/0/__pkNGlw26S4GAQohXGrVXLw\n",
      "_data/indices/KNIgqbw8SDO3GTSl4-j_ZA/0/__JjQTPsTwT46YSLg6J9zd_w\n",
      "_data/indices/KNIgqbw8SDO3GTSl4-j_ZA/0/___zRGsvjWTaeL2GArnWsxuA\n",
      "_data/indices/KNIgqbw8SDO3GTSl4-j_ZA/0/__OU0qBT0sR7iSwUNyMV7k6w\n",
      "_data/indices/KNIgqbw8SDO3GTSl4-j_ZA/0/__vlJS6Lh4Tz2_lpvHMQo7mA\n",
      "_data/indices/KNIgqbw8SDO3GTSl4-j_ZA/0/__o7gu9FH7RZu_zL-lBAwEeg\n",
      "_data/indices/KNIgqbw8SDO3GTSl4-j_ZA/0/__ys4gHvoDSmOPiItKzrmS3A\n",
      "_data/indices/KNIgqbw8SDO3GTSl4-j_ZA/0/__MfMTHzyOSPO_KhtDzmDQ9w\n",
      "_data/indices/KNIgqbw8SDO3GTSl4-j_ZA/0/__JRPUyoSKQz64FBvW2AyY0A\n",
      "_data/indices/KNIgqbw8SDO3GTSl4-j_ZA/0/__YfE-xlRGR-2nUtKYaSMuWw\n",
      "_data/indices/KNIgqbw8SDO3GTSl4-j_ZA/0/__xTmxFrVSR6ans5agroNCzQ\n",
      "_data/indices/KNIgqbw8SDO3GTSl4-j_ZA/0/__wDJuBIkSTTSh0aPbr1ihUQ\n",
      "_data/indices/KNIgqbw8SDO3GTSl4-j_ZA/0/__Ywn_LEUpSIKKReiWSYICTQ\n",
      "_data/indices/KNIgqbw8SDO3GTSl4-j_ZA/0/__zqsU-sJlTguFDT9FqhDq9A\n",
      "_data/indices/KNIgqbw8SDO3GTSl4-j_ZA/0/__W4iY1EQSSZyKHNeNnv2ibQ\n",
      "_data/indices/KNIgqbw8SDO3GTSl4-j_ZA/0/__oFi94s2hSwuR4cMYWpZvTA\n",
      "_data/indices/KNIgqbw8SDO3GTSl4-j_ZA/0/__lZyeqtv8Qri6VU7YzKeY5Q\n",
      "_data/indices/KNIgqbw8SDO3GTSl4-j_ZA/0/__j2CH8M09TnioFpfqeAOzOQ\n",
      "_data/indices/KNIgqbw8SDO3GTSl4-j_ZA/0/__-ybBSHD9RGyQnJQAv2bUGw\n",
      "_data/indices/KNIgqbw8SDO3GTSl4-j_ZA/0/__Ud62xvZ2Re2B_sU_-WtdRw\n",
      "_data/indices/KNIgqbw8SDO3GTSl4-j_ZA/0/__cHavPFtlQKaunoeuR-npaQ\n",
      "_data/indices/KNIgqbw8SDO3GTSl4-j_ZA/0/__JIuuQuTJR0ayJjKVG2doZA\n",
      "_data/indices/KNIgqbw8SDO3GTSl4-j_ZA/0/__XVFSmTZpRu6CxifkE7w-Yg\n",
      "_data/indices/KNIgqbw8SDO3GTSl4-j_ZA/meta-t_EBdIgB_jvqOm06lko4.dat\n",
      "_data/indices/bUxtBN7hT5uQYtIjRHz2sA/\n",
      "_data/indices/bUxtBN7hT5uQYtIjRHz2sA/0/\n",
      "_data/indices/bUxtBN7hT5uQYtIjRHz2sA/0/index-XELHvcpqRyiJY_XSpFIsxg\n",
      "_data/indices/bUxtBN7hT5uQYtIjRHz2sA/0/snap-lHKG7MEDSliDw_U7Zrxv9w.dat\n",
      "_data/indices/bUxtBN7hT5uQYtIjRHz2sA/meta-s_EBdIgB_jvqOm06lkog.dat\n",
      "_data/indices/hWQa-GYqS62C-SSb4OvD4g/\n",
      "_data/indices/hWQa-GYqS62C-SSb4OvD4g/0/\n",
      "_data/indices/hWQa-GYqS62C-SSb4OvD4g/0/__gP-OzvmOSJKzKIh3w0lXww\n",
      "_data/indices/hWQa-GYqS62C-SSb4OvD4g/0/__pZylAm-3S7mjjfAB8kjheg\n",
      "_data/indices/hWQa-GYqS62C-SSb4OvD4g/0/__WqPJXGy_TCeReU1PaTVwSA\n",
      "_data/indices/hWQa-GYqS62C-SSb4OvD4g/0/__0ukloAlYRmKMpDpixa1I3Q\n",
      "_data/indices/hWQa-GYqS62C-SSb4OvD4g/0/__3gxQSBo7QU-2txyPxRdvow\n",
      "_data/indices/hWQa-GYqS62C-SSb4OvD4g/0/__FSSju9LoR0-TcQrlVJt9lQ\n",
      "_data/indices/hWQa-GYqS62C-SSb4OvD4g/0/__JN6kCNO-S0-6LzsutXhx8A\n",
      "_data/indices/hWQa-GYqS62C-SSb4OvD4g/0/__ItFIWRUGQVeaxsJjPdNESA\n",
      "_data/indices/hWQa-GYqS62C-SSb4OvD4g/0/__iboRKfsfSUat7aRkWlLLxA\n",
      "_data/indices/hWQa-GYqS62C-SSb4OvD4g/0/__tUcOF7cOTWCEonG719BEJw\n",
      "_data/indices/hWQa-GYqS62C-SSb4OvD4g/0/index-D1FCDhCHRu6X6hoTZ62uuA\n",
      "_data/indices/hWQa-GYqS62C-SSb4OvD4g/0/__EfDYhv6ISkSzYyYk9vVmRQ\n",
      "_data/indices/hWQa-GYqS62C-SSb4OvD4g/0/__bqKug7JVR0a6u7ZXQQyUSA\n",
      "_data/indices/hWQa-GYqS62C-SSb4OvD4g/0/__zdql1OgRS_q_D9uKnJVptQ\n",
      "_data/indices/hWQa-GYqS62C-SSb4OvD4g/0/__eCv28uqERKeCPxP2yGTWrg\n",
      "_data/indices/hWQa-GYqS62C-SSb4OvD4g/0/__n1TBCj3CT8CvaFX6LATlvg\n",
      "_data/indices/hWQa-GYqS62C-SSb4OvD4g/0/__ao8vDvzXSxmWnCF9DNxUVg\n",
      "_data/indices/hWQa-GYqS62C-SSb4OvD4g/0/__uX7bINKRSZeR7iVGuan1Kg\n",
      "_data/indices/hWQa-GYqS62C-SSb4OvD4g/0/__kl7nabOBSTS5k2SS9S2SmQ\n",
      "_data/indices/hWQa-GYqS62C-SSb4OvD4g/0/__sJm9Jt9VRjqI4GZZyHCgVA\n",
      "_data/indices/hWQa-GYqS62C-SSb4OvD4g/0/__no54-HcMQMm8gyRs38e_EA\n",
      "_data/indices/hWQa-GYqS62C-SSb4OvD4g/0/__HMchr98sQG6io-v39dRlXw\n",
      "_data/indices/hWQa-GYqS62C-SSb4OvD4g/0/__Ii9WAA2UToSG-tCtPVMf6g\n",
      "_data/indices/hWQa-GYqS62C-SSb4OvD4g/0/snap-lHKG7MEDSliDw_U7Zrxv9w.dat\n",
      "_data/indices/hWQa-GYqS62C-SSb4OvD4g/0/__ZtcRYQzITwS6nN2g7JQ9fg\n",
      "_data/indices/hWQa-GYqS62C-SSb4OvD4g/0/__6fdjTsVFRluThBwhxcJUtA\n",
      "_data/indices/hWQa-GYqS62C-SSb4OvD4g/0/__nPws4klLT6OYYLuBHVvO0Q\n",
      "_data/indices/hWQa-GYqS62C-SSb4OvD4g/0/__Zdb9vsvATRGmRMYQvHycTA\n",
      "_data/indices/hWQa-GYqS62C-SSb4OvD4g/0/__3L2LHbr-RvKAO5QTvpmmPQ\n",
      "_data/indices/hWQa-GYqS62C-SSb4OvD4g/0/__avz88fEdQtGQHbzY-GksoQ\n",
      "_data/indices/hWQa-GYqS62C-SSb4OvD4g/0/__3jYUiBVAR1G9M_qz9i9eNw\n",
      "_data/indices/hWQa-GYqS62C-SSb4OvD4g/0/__pz5ZQW2NQX-F1kMJfv1b1Q\n",
      "_data/indices/hWQa-GYqS62C-SSb4OvD4g/0/__dbuM4X2NRlG6KRoRkarqKQ\n",
      "_data/indices/hWQa-GYqS62C-SSb4OvD4g/0/__3iujY1PjRJmiGP6EN2P6EQ\n",
      "_data/indices/hWQa-GYqS62C-SSb4OvD4g/0/__ANDR5HZrTx2Re6m7Ql6BWQ\n",
      "_data/indices/hWQa-GYqS62C-SSb4OvD4g/0/__UCLxjvQvTGCZWbJ4DRgvdQ\n",
      "_data/indices/hWQa-GYqS62C-SSb4OvD4g/0/__8HEeCVaDRYWZcerNBYlIsw\n",
      "_data/indices/hWQa-GYqS62C-SSb4OvD4g/0/__Uy_fJEkpQAy78j7TPmzMXA\n",
      "_data/indices/hWQa-GYqS62C-SSb4OvD4g/0/__kreerCAfQ8GF7PEq07P16w\n",
      "_data/indices/hWQa-GYqS62C-SSb4OvD4g/0/__lXrSMjp1Qf6rfnU83aew2Q\n",
      "_data/indices/hWQa-GYqS62C-SSb4OvD4g/0/__99RQ7wXLTb6Od8PMENRm2w\n",
      "_data/indices/hWQa-GYqS62C-SSb4OvD4g/0/__hXjpJsf1Qi2Pm-tp_TEcIA\n",
      "_data/indices/hWQa-GYqS62C-SSb4OvD4g/0/__iuN7NdXCTU2MDarjEoP7XQ\n",
      "_data/indices/hWQa-GYqS62C-SSb4OvD4g/0/__m9EFjOmUQ26oETkb361k9g\n",
      "_data/indices/hWQa-GYqS62C-SSb4OvD4g/0/__k25p95SCSWeLx0EWeRpIdA\n",
      "_data/indices/hWQa-GYqS62C-SSb4OvD4g/0/___c_wZ_QLSoWy-k7Vh1sTyw\n",
      "_data/indices/hWQa-GYqS62C-SSb4OvD4g/0/__fNP8dt7KQuKMCtbL2qwk4A\n",
      "_data/indices/hWQa-GYqS62C-SSb4OvD4g/0/__I0CRvGY4R66PDQc1zgKkGA\n",
      "_data/indices/hWQa-GYqS62C-SSb4OvD4g/0/__gTgkHpncRqy4f1Egr7Y76g\n",
      "_data/indices/hWQa-GYqS62C-SSb4OvD4g/0/__OWhy1ly3Rpilk-V_EKBM_Q\n",
      "_data/indices/hWQa-GYqS62C-SSb4OvD4g/0/__oOSdW88GTqWjsdH3wMN93g\n",
      "_data/indices/hWQa-GYqS62C-SSb4OvD4g/0/__jyrbqqe3Q5iVdK0oJfzfzA\n",
      "_data/indices/hWQa-GYqS62C-SSb4OvD4g/0/__T1lKX9lXQFidjiLPMq_Fsw\n",
      "_data/indices/hWQa-GYqS62C-SSb4OvD4g/0/__3A7vfBGvT7e9LSKbMlM0sA\n",
      "_data/indices/hWQa-GYqS62C-SSb4OvD4g/0/__bJg5mC0gRIiBM8bg_SpgzQ\n",
      "_data/indices/hWQa-GYqS62C-SSb4OvD4g/meta-ufEBdIgB_jvqOm06lko8.dat\n",
      "_data/indices/c--us8xrQf-s3BFuBn_XaQ/\n",
      "_data/indices/c--us8xrQf-s3BFuBn_XaQ/0/\n",
      "_data/indices/c--us8xrQf-s3BFuBn_XaQ/0/__I3IUhozrQCqN_LplkdPtoQ\n",
      "_data/indices/c--us8xrQf-s3BFuBn_XaQ/0/__pKTdmNcbT8WEWUhBlX15LA\n",
      "_data/indices/c--us8xrQf-s3BFuBn_XaQ/0/__nzVZ6vkASMyUOm5QeHh7RA\n",
      "_data/indices/c--us8xrQf-s3BFuBn_XaQ/0/__ZXDbAx5cS26p-zpuhz3udA\n",
      "_data/indices/c--us8xrQf-s3BFuBn_XaQ/0/__Fz0UggP-TVGL6FmzAQQBGw\n",
      "_data/indices/c--us8xrQf-s3BFuBn_XaQ/0/__rmuAeJG4TW6kI69F5e8KHA\n",
      "_data/indices/c--us8xrQf-s3BFuBn_XaQ/0/__vqtJ5ipqRES2egxY6xDITw\n",
      "_data/indices/c--us8xrQf-s3BFuBn_XaQ/0/__GSpXaOvPRxmVf9d3gKRLEw\n",
      "_data/indices/c--us8xrQf-s3BFuBn_XaQ/0/__dHN3sN38RU67rcAZ6wZbJw\n",
      "_data/indices/c--us8xrQf-s3BFuBn_XaQ/0/__l2rO2Sq1QD6dd4fq8wR9lQ\n",
      "_data/indices/c--us8xrQf-s3BFuBn_XaQ/0/__yUSPTTyLSPGpQ9RmfzPv7w\n",
      "_data/indices/c--us8xrQf-s3BFuBn_XaQ/0/__5p8l08DiTJ2K_yawc-sHpQ\n",
      "_data/indices/c--us8xrQf-s3BFuBn_XaQ/0/__2HK82TVQQeu2bhsPiySCXw\n",
      "_data/indices/c--us8xrQf-s3BFuBn_XaQ/0/__o6lXaY1iR1-8UyBMPN3cPA\n",
      "_data/indices/c--us8xrQf-s3BFuBn_XaQ/0/__oywxqKXtS1GapIOIQslnnQ\n",
      "_data/indices/c--us8xrQf-s3BFuBn_XaQ/0/__B5DtsPt4SyicJ-iuBSVUdw\n",
      "_data/indices/c--us8xrQf-s3BFuBn_XaQ/0/__d08MaIBKSIqm5XoDTZA_dA\n",
      "_data/indices/c--us8xrQf-s3BFuBn_XaQ/0/index-GR-gUZhQT5-FEOIESvqPKg\n",
      "_data/indices/c--us8xrQf-s3BFuBn_XaQ/0/__5qhupFTlSqGy7M4rR3kwRw\n",
      "_data/indices/c--us8xrQf-s3BFuBn_XaQ/0/snap-lHKG7MEDSliDw_U7Zrxv9w.dat\n",
      "_data/indices/c--us8xrQf-s3BFuBn_XaQ/0/__dioys6CsQwmfeiUGwAu7cA\n",
      "_data/indices/c--us8xrQf-s3BFuBn_XaQ/0/__Bj-sg90RRVqVaeHTqQCy2A\n",
      "_data/indices/c--us8xrQf-s3BFuBn_XaQ/0/__CyIVbeCkQMi9kWE5DkEmSg\n",
      "_data/indices/c--us8xrQf-s3BFuBn_XaQ/0/__Vkl1ZO9uSJ-T0mVNpogmRw\n",
      "_data/indices/c--us8xrQf-s3BFuBn_XaQ/0/__juCAAtyISfSWNrILvw2p_w\n",
      "_data/indices/c--us8xrQf-s3BFuBn_XaQ/0/__pGiiBo9eTVC0H2onxj8hqA\n",
      "_data/indices/c--us8xrQf-s3BFuBn_XaQ/0/__gZM0RIRIT5-J0F8XwI1sew\n",
      "_data/indices/c--us8xrQf-s3BFuBn_XaQ/0/__iIw_dXReRUyz0uhJoQ-WWA\n",
      "_data/indices/c--us8xrQf-s3BFuBn_XaQ/0/__HRHAba2xSHaYLa1cjrRzVg\n",
      "_data/indices/c--us8xrQf-s3BFuBn_XaQ/0/__MQocqMMdQF6I5p5frtBhww\n",
      "_data/indices/c--us8xrQf-s3BFuBn_XaQ/0/__QjBfOFh8Ry2dtRlDpE3L7Q\n",
      "_data/indices/c--us8xrQf-s3BFuBn_XaQ/0/__YuEYRyohRfKFDk-zHq08oQ\n",
      "_data/indices/c--us8xrQf-s3BFuBn_XaQ/0/__HDFnm9wzREqtePefuKTw6w\n",
      "_data/indices/c--us8xrQf-s3BFuBn_XaQ/0/__Yw2eOScZT1mxNJhYjXkXww\n",
      "_data/indices/c--us8xrQf-s3BFuBn_XaQ/0/__beu2tmTSS8a2Ln8UQfBEdg\n",
      "_data/indices/c--us8xrQf-s3BFuBn_XaQ/0/__YGVVOiLTR6mowE6L4hD1kQ\n",
      "_data/indices/c--us8xrQf-s3BFuBn_XaQ/0/__-lcWzmLvRY2PtRoCXAxZIg\n",
      "_data/indices/c--us8xrQf-s3BFuBn_XaQ/0/__4ZkNUQyuROieYskpncqJsA\n",
      "_data/indices/c--us8xrQf-s3BFuBn_XaQ/0/__KBUrZ_AfSxSHoeIp_m-9zQ\n",
      "_data/indices/c--us8xrQf-s3BFuBn_XaQ/0/__h-s8W5wHQa6k3ORUoXDK_g\n",
      "_data/indices/c--us8xrQf-s3BFuBn_XaQ/0/__qCIjQq65SxGzOi3r7HlkgA\n",
      "_data/indices/c--us8xrQf-s3BFuBn_XaQ/0/__F4BvEkfATdqNHYTsAteG1Q\n",
      "_data/indices/c--us8xrQf-s3BFuBn_XaQ/0/__GpTIkrkcT9mPRAAg8YxGpA\n",
      "_data/indices/c--us8xrQf-s3BFuBn_XaQ/0/__MbbYas6NRSmLxNMnPEKAmA\n",
      "_data/indices/c--us8xrQf-s3BFuBn_XaQ/0/__uWkZKOqwSDCxCMiqFjjHxg\n",
      "_data/indices/c--us8xrQf-s3BFuBn_XaQ/0/__dHWCE_jsRSizaq9IbY_8eQ\n",
      "_data/indices/c--us8xrQf-s3BFuBn_XaQ/0/__aPM1UMV3S3y1FDIsQdo9rQ\n",
      "_data/indices/c--us8xrQf-s3BFuBn_XaQ/0/__YaUZ-8eGTl-Zm1Yh-mhGRw\n",
      "_data/indices/c--us8xrQf-s3BFuBn_XaQ/0/__VboNYwtDQxWt_y9wq9W2JQ\n",
      "_data/indices/c--us8xrQf-s3BFuBn_XaQ/0/__wiroZ_igTcu-mDCicH_I6w\n",
      "_data/indices/c--us8xrQf-s3BFuBn_XaQ/0/__zWVKReKOSPGoincJR1f5Yw\n",
      "_data/indices/c--us8xrQf-s3BFuBn_XaQ/0/__y2DozbA_Ram4Oa_Pmd0SjA\n",
      "_data/indices/c--us8xrQf-s3BFuBn_XaQ/0/__sK6ifrh0RKS6XvxpQbm0OQ\n",
      "_data/indices/c--us8xrQf-s3BFuBn_XaQ/0/__pR_CCANkRRmPUVlRJRmkTg\n",
      "_data/indices/c--us8xrQf-s3BFuBn_XaQ/0/__8ZzgFYAIR_6A7izyJpceUg\n",
      "_data/indices/c--us8xrQf-s3BFuBn_XaQ/0/__RI-eUfjMTSmF4L6Rgi5vwg\n",
      "_data/indices/c--us8xrQf-s3BFuBn_XaQ/0/__DdEiMKwtSC2U3Fdu8Y5tvA\n",
      "_data/indices/c--us8xrQf-s3BFuBn_XaQ/0/__KR0N5Tc9TDWux4sz6VWI8A\n",
      "_data/indices/c--us8xrQf-s3BFuBn_XaQ/0/__TvVLIrzdT3GMhPoMg8xg6w\n",
      "_data/indices/c--us8xrQf-s3BFuBn_XaQ/0/__NPVZ8mkcQYOnoRGMTUPTHg\n",
      "_data/indices/c--us8xrQf-s3BFuBn_XaQ/0/__JnKjWSI5RX6PVfMGozxAlQ\n",
      "_data/indices/c--us8xrQf-s3BFuBn_XaQ/0/__76ImC3YDQAiPhQKY8WJKHQ\n",
      "_data/indices/c--us8xrQf-s3BFuBn_XaQ/meta-tfEBdIgB_jvqOm06lkoi.dat\n",
      "_data/indices/aHrxbXKTR5-L277rRkBZ6Q/\n",
      "_data/indices/aHrxbXKTR5-L277rRkBZ6Q/0/\n",
      "_data/indices/aHrxbXKTR5-L277rRkBZ6Q/0/snap-lHKG7MEDSliDw_U7Zrxv9w.dat\n",
      "_data/indices/aHrxbXKTR5-L277rRkBZ6Q/0/index-fiV70bPCSfGetP760aVyoQ\n",
      "_data/indices/aHrxbXKTR5-L277rRkBZ6Q/0/__NqQECzUgRpCqFenrgfZ-cg\n",
      "_data/indices/aHrxbXKTR5-L277rRkBZ6Q/0/__MsWOPzM7RSGDUOPd8LKw5Q\n",
      "_data/indices/aHrxbXKTR5-L277rRkBZ6Q/meta-svEBdIgB_jvqOm06lkog.dat\n",
      "_data/indices/V7dOp_CzRly6CXm4A4gqBQ/\n",
      "_data/indices/V7dOp_CzRly6CXm4A4gqBQ/0/\n",
      "_data/indices/V7dOp_CzRly6CXm4A4gqBQ/0/__wXCsCZtTSDWnAauk7ScH6Q\n",
      "_data/indices/V7dOp_CzRly6CXm4A4gqBQ/0/__TR2ujmsoQzeB0CfE_ahuXw\n",
      "_data/indices/V7dOp_CzRly6CXm4A4gqBQ/0/__8qcTVvk8TQu-kkQO-szqrA\n",
      "_data/indices/V7dOp_CzRly6CXm4A4gqBQ/0/__ZeZziOp7Th-_XtErRYMCfQ\n",
      "_data/indices/V7dOp_CzRly6CXm4A4gqBQ/0/snap-lHKG7MEDSliDw_U7Zrxv9w.dat\n",
      "_data/indices/V7dOp_CzRly6CXm4A4gqBQ/0/index-qR41ZB4pSGCiXHqm9Ops4Q\n",
      "_data/indices/V7dOp_CzRly6CXm4A4gqBQ/0/__XGt4PN_fQPKjQjMJYe1SeQ\n",
      "_data/indices/V7dOp_CzRly6CXm4A4gqBQ/0/__agF8mhtRQQSVhybDngGLLA\n",
      "_data/indices/V7dOp_CzRly6CXm4A4gqBQ/meta-uPEBdIgB_jvqOm06lko7.dat\n",
      "_data/indices/QCJjyx9GSVyEtLv9L7EauA/\n",
      "_data/indices/QCJjyx9GSVyEtLv9L7EauA/0/\n",
      "_data/indices/QCJjyx9GSVyEtLv9L7EauA/0/__VAh7EcW5TSCQ1j8wYLcabA\n",
      "_data/indices/QCJjyx9GSVyEtLv9L7EauA/0/__yYOXqGawSAy1FVmErKzhfg\n",
      "_data/indices/QCJjyx9GSVyEtLv9L7EauA/0/__DprrVWwBR5yp6ucWiAA3jA\n",
      "_data/indices/QCJjyx9GSVyEtLv9L7EauA/0/__13032amxT6aMV1dsH0Ru3Q\n",
      "_data/indices/QCJjyx9GSVyEtLv9L7EauA/0/__MNVH2oZwRrWgU2rHg7fu5A\n",
      "_data/indices/QCJjyx9GSVyEtLv9L7EauA/0/__TQoWoJ77Q-un2ybLdvNllw\n",
      "_data/indices/QCJjyx9GSVyEtLv9L7EauA/0/__ZMfSDy6uQt6jJJlJhmRTaQ\n",
      "_data/indices/QCJjyx9GSVyEtLv9L7EauA/0/snap-lHKG7MEDSliDw_U7Zrxv9w.dat\n",
      "_data/indices/QCJjyx9GSVyEtLv9L7EauA/0/__s8au460jTimekVv5oi-j1g\n",
      "_data/indices/QCJjyx9GSVyEtLv9L7EauA/0/__EYPTzkDbQm-nby9Rf3pgVw\n",
      "_data/indices/QCJjyx9GSVyEtLv9L7EauA/0/__RL7FqqUeTwylg-Rm8L2ijA\n",
      "_data/indices/QCJjyx9GSVyEtLv9L7EauA/0/__lCC8IgXBR3-tD7Z_5uBzNg\n",
      "_data/indices/QCJjyx9GSVyEtLv9L7EauA/0/index-X7sXADwESS-Yi9kWK5yLwg\n",
      "_data/indices/QCJjyx9GSVyEtLv9L7EauA/0/__SYKLJ_IbQo-n5oodeihNcA\n",
      "_data/indices/QCJjyx9GSVyEtLv9L7EauA/meta-uvEBdIgB_jvqOm06lko-.dat\n",
      "_data/index-0\n",
      "_data/index.latest\n"
     ]
    }
   ],
   "source": [
    "elk_tar_file_name = \"elk_backup_0529\"\n",
    "mde.tar_elk_snapshot(dir_name=elk_tar_dir, file_name=elk_tar_file_name)"
   ]
  },
  {
   "cell_type": "markdown",
   "id": "d36b717a-2bf0-419c-80c2-1d24418f94a3",
   "metadata": {},
   "source": [
    "## Check the tar file"
   ]
  },
  {
   "cell_type": "code",
   "execution_count": 14,
   "id": "2cbb238f-0bb3-4cb5-b8ab-5287c129cdc4",
   "metadata": {},
   "outputs": [
    {
     "name": "stdout",
     "output_type": "stream",
     "text": [
      "total 41M\n",
      "-rw-r--r-- 1 root root 41M May 31 22:50 elk_backup_0529.tar\n"
     ]
    }
   ],
   "source": [
    "stdout, stderr= meas_node.execute(\"sudo ls -l --block-size=M /tmp/elk/tar\")"
   ]
  },
  {
   "cell_type": "markdown",
   "id": "0917a12b-b124-4209-a7d1-0c3802527427",
   "metadata": {},
   "source": [
    "### Now you have the elk snapshot .tar file you can use to restore data on another machine"
   ]
  },
  {
   "cell_type": "code",
   "execution_count": 15,
   "id": "18ab23ae-3f72-46bf-b89e-987f5ebad978",
   "metadata": {},
   "outputs": [],
   "source": [
    "# TODO: (MANUALLY DO FOR NOW)\n",
    "# Move the tar file into the elk/files folder (or create new folder to place in this directory)\n"
   ]
  },
  {
   "cell_type": "markdown",
   "id": "99883984-2428-4337-9dcb-badeb989562f",
   "metadata": {
    "tags": []
   },
   "source": [
    "### Download index to local storage\n",
    "\n",
    "Once the file is ready to be downloaded you can edit the code below to use the mf library."
   ]
  },
  {
   "cell_type": "code",
   "execution_count": 16,
   "id": "3e11567e-054f-41d8-a2f6-49e8167227cb",
   "metadata": {},
   "outputs": [
    {
     "name": "stdout",
     "output_type": "stream",
     "text": [
      "{'success': True, 'filename': './elk_backup_0529.tar', 'message': 'uploaded files/elk_backup_0529.tar successfully.'}\n"
     ]
    }
   ],
   "source": [
    "# EDIT THIS - choose from \"Files finished exporting above\"\n",
    "files = [\"elk_backup_0529.tar\"]\n",
    "\n",
    "# Specify output location (Default is current directory)\n",
    "outputDirectory = \"./\"\n",
    "stdout = []\n",
    "for file in files:\n",
    "    stdout.append(mf.download_service_file(\"elk\", \"files/\" + file , outputDirectory + file))"
   ]
  },
  {
   "cell_type": "code",
   "execution_count": null,
   "id": "c2376acd-8f9c-43ef-ab7c-f09a3d45d684",
   "metadata": {},
   "outputs": [],
   "source": []
  },
  {
   "cell_type": "markdown",
   "id": "8b242dff-5f5b-48bb-995d-eb4f4e89214c",
   "metadata": {},
   "source": [
    "## Do **NOT** run the following if you want to restore the snapshot on measurement node since it can be achieved using a single curl command"
   ]
  },
  {
   "cell_type": "markdown",
   "id": "d2e4ef3b-9b45-4cdd-8319-775301db3391",
   "metadata": {},
   "source": [
    "### Optional: Delete the snapshot"
   ]
  },
  {
   "cell_type": "code",
   "execution_count": null,
   "id": "a06965fe-388c-48a1-99e8-f0370917c3af",
   "metadata": {},
   "outputs": [],
   "source": [
    "#mde.delete_snapshot(repo_name=\"backup_repository\", snapshot_name=\"snapshot_test\")"
   ]
  },
  {
   "cell_type": "markdown",
   "id": "111d2016-f8b6-4b8d-bedf-b3e026e5d402",
   "metadata": {},
   "source": [
    "### Optional: Delete the repository"
   ]
  },
  {
   "cell_type": "code",
   "execution_count": null,
   "id": "47cb5fc9-0241-4d1c-b7a7-c834eda70bc7",
   "metadata": {},
   "outputs": [],
   "source": [
    "#mde.delete_repo(repo_name=\"backup_repository\")"
   ]
  }
 ],
 "metadata": {
  "kernelspec": {
   "display_name": "Python 3 (ipykernel)",
   "language": "python",
   "name": "python3"
  },
  "language_info": {
   "codemirror_mode": {
    "name": "ipython",
    "version": 3
   },
   "file_extension": ".py",
   "mimetype": "text/x-python",
   "name": "python",
   "nbconvert_exporter": "python",
   "pygments_lexer": "ipython3",
   "version": "3.9.7"
  }
 },
 "nbformat": 4,
 "nbformat_minor": 5
}

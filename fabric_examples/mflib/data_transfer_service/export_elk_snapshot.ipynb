{
 "cells": [
  {
   "cell_type": "markdown",
   "id": "f56b74ca-dcb6-4ae2-a50f-2b810ab087fe",
   "metadata": {
    "tags": []
   },
   "source": [
    "# Generate ELK Snapshot on Meas Node"
   ]
  },
  {
   "cell_type": "markdown",
   "id": "46df9758-1777-4ca8-bfad-32996b2520a7",
   "metadata": {},
   "source": [
    "### This notebook creates an ELK snapshot dir on the measurement node and prepares a .tar file to be exported"
   ]
  },
  {
   "cell_type": "markdown",
   "id": "45b7b039-a570-4ffd-8045-c626912fb90d",
   "metadata": {},
   "source": [
    "## Import"
   ]
  },
  {
   "cell_type": "code",
   "execution_count": null,
   "id": "2e57cc1d-b1c9-48fb-985d-54eed44c6e27",
   "metadata": {},
   "outputs": [],
   "source": [
    "import os\n",
    "import json\n",
    "import traceback\n",
    "import datetime\n",
    "from fabrictestbed_extensions.fablib.fablib import FablibManager as fablib_manager\n",
    "try:\n",
    "    fablib = fablib_manager()                \n",
    "    #fablib.show_config()\n",
    "except Exception as e:\n",
    "    print(f\"Exception: {e}\")\n",
    "import mflib\n",
    "print(f\"MFLib version  {mflib.__version__} \" )\n",
    "from mflib.mflib import MFLib"
   ]
  },
  {
   "cell_type": "code",
   "execution_count": null,
   "id": "15612892-fc2d-43e6-b778-9b6242302da9",
   "metadata": {},
   "outputs": [],
   "source": [
    "import importlib\n",
    "from mflib.mf_data_transfer import mf_data_export"
   ]
  },
  {
   "cell_type": "markdown",
   "id": "ec773cba-0e3a-484b-987e-db992c8567da",
   "metadata": {},
   "source": [
    "## Slice Info"
   ]
  },
  {
   "cell_type": "code",
   "execution_count": null,
   "id": "e069985d-e6cd-47cf-95ee-a9459d4bb3b1",
   "metadata": {},
   "outputs": [],
   "source": [
    "# Change your slice name and node name\n",
    "slice_name = \"MyMonitoredSlice\"\n",
    "node1_name = 'Node1'\n",
    "node2_name = 'Node2'\n",
    "node3_name = 'Node3'"
   ]
  },
  {
   "cell_type": "code",
   "execution_count": null,
   "id": "3bd44de0-e0c6-4c45-b464-239d83120a77",
   "metadata": {},
   "outputs": [],
   "source": [
    "mf = MFLib(slice_name)"
   ]
  },
  {
   "cell_type": "code",
   "execution_count": null,
   "id": "8d1d2957-048d-452e-b5b3-a9d694d25acd",
   "metadata": {},
   "outputs": [],
   "source": [
    "meas_node_name = mf.measurement_node_name\n",
    "try:\n",
    "    slice = fablib.get_slice(name=slice_name)\n",
    "except Exception as e:\n",
    "    print(f\"Fail: {e}\")\n",
    "print (slice)\n",
    "\n",
    "try:\n",
    "    meas_node = slice.get_node(name=meas_node_name)\n",
    "except Exception as e:\n",
    "    print(f\"Fail: {e}\")   \n",
    "#print (meas_node)"
   ]
  },
  {
   "cell_type": "markdown",
   "id": "f0ad009d-6981-49c4-8609-4721aa7dacd8",
   "metadata": {},
   "source": [
    "## Create the data export object"
   ]
  },
  {
   "cell_type": "code",
   "execution_count": null,
   "id": "895be641-d225-4d04-b06e-c74d9e7f81a7",
   "metadata": {},
   "outputs": [],
   "source": [
    "mde = mf_data_export(slice_name=slice_name, meas_node_name=meas_node_name)"
   ]
  },
  {
   "cell_type": "markdown",
   "id": "fb0b8fcd-9ed0-449a-898c-a755f72d1222",
   "metadata": {},
   "source": [
    "## Create ELK Snapshot"
   ]
  },
  {
   "cell_type": "markdown",
   "id": "566b54a1-7f8c-456f-8adb-a734a88d1ae3",
   "metadata": {},
   "source": [
    "### Change directory permission"
   ]
  },
  {
   "cell_type": "code",
   "execution_count": null,
   "id": "7ef7a5a9-44d7-4a89-8af0-ad69596de1bd",
   "metadata": {},
   "outputs": [],
   "source": [
    "# This will change the permission of /var/lib/docker/volumes/elk_snapshotbackup/_data for elk to write snapshot to\n",
    "mde.change_elk_dir_permission(node=mf.measurement_node_name)"
   ]
  },
  {
   "cell_type": "markdown",
   "id": "3898ec28-9b1d-48ec-b8d6-8e5ffa5f28fe",
   "metadata": {},
   "source": [
    "### Create a snapshot repository"
   ]
  },
  {
   "cell_type": "code",
   "execution_count": null,
   "id": "823b1b84-4c72-46e8-b6c4-f1579a0271c4",
   "metadata": {},
   "outputs": [],
   "source": [
    "mde.create_snapshot_repo(repo_name=\"backup_repository\")"
   ]
  },
  {
   "cell_type": "markdown",
   "id": "99a6da22-6a38-4591-a3cd-617205b8543c",
   "metadata": {},
   "source": [
    "### Check the created repo"
   ]
  },
  {
   "cell_type": "code",
   "execution_count": null,
   "id": "cf67f044-92a4-4e6d-a2f7-4db8a9aa4337",
   "metadata": {},
   "outputs": [],
   "source": [
    "mde.verify_repo(repo_name=\"backup_repository\")"
   ]
  },
  {
   "cell_type": "markdown",
   "id": "ebdaf537-cb7f-40e6-90d3-cbfbfe544a4e",
   "metadata": {},
   "source": [
    "### List indice"
   ]
  },
  {
   "cell_type": "code",
   "execution_count": null,
   "id": "3d143a65-1d81-4d1c-a3d9-ce34dccfae95",
   "metadata": {},
   "outputs": [],
   "source": [
    "mde.list_indices()"
   ]
  },
  {
   "cell_type": "markdown",
   "id": "abc05de9-0533-43c1-9e6d-e4ee7a253f58",
   "metadata": {},
   "source": [
    "### Create snapshot"
   ]
  },
  {
   "cell_type": "code",
   "execution_count": null,
   "id": "6a85183b-8dcb-4a56-8dcb-3976ddd9b9a1",
   "metadata": {},
   "outputs": [],
   "source": [
    "# Default will include all indices. add arg (list) indice=[index1, index2] to specify indice\n",
    "# May take a while\n",
    "mde.create_elk_snapshot(repo_name=\"backup_repository\", snapshot_name=\"snapshot_test\")"
   ]
  },
  {
   "cell_type": "markdown",
   "id": "c4a82d22-cd02-441e-bdaa-f876a6b0699e",
   "metadata": {},
   "source": [
    "## Create dir for the elk tar file"
   ]
  },
  {
   "cell_type": "code",
   "execution_count": null,
   "id": "8f5c7205-6169-4402-bc8f-090ad720dbd9",
   "metadata": {},
   "outputs": [],
   "source": [
    "elk_tar_dir = \"/home/mfuser/services/elk/files/snapshots\"\n",
    "mde.create_dir_for_elk_tar(dir_name=elk_tar_dir)"
   ]
  },
  {
   "cell_type": "markdown",
   "id": "afe9349e-e2a1-4e51-b1a0-84c304bb14f5",
   "metadata": {
    "tags": []
   },
   "source": [
    "## Make the snapshot tar file"
   ]
  },
  {
   "cell_type": "code",
   "execution_count": null,
   "id": "83cec109-57d9-4813-b66d-e1fc92780fc5",
   "metadata": {
    "scrolled": true,
    "tags": []
   },
   "outputs": [],
   "source": [
    "#snapshot_name = \"elk_backup_\" + datetime.datetime.now().strftime('%Y-%m-%d_%H:%M:%S')\n",
    "snapshot_name=\"snapshot_test\"\n",
    "mde.tar_elk_snapshot(dir_name=elk_tar_dir, file_name=snapshot_name)"
   ]
  },
  {
   "cell_type": "markdown",
   "id": "99883984-2428-4337-9dcb-badeb989562f",
   "metadata": {
    "tags": []
   },
   "source": [
    "### Download index from elk directory to local storage"
   ]
  },
  {
   "cell_type": "code",
   "execution_count": null,
   "id": "3e11567e-054f-41d8-a2f6-49e8167227cb",
   "metadata": {},
   "outputs": [],
   "source": [
    "# files = [snapshot_name + \".tar\"]\n",
    "files = [\"snapshot_test.tar\"]\n",
    "\n",
    "# Specify output location (Default is current directory)\n",
    "outputDirectory = \"./snapshots/\"\n",
    "stdout = []\n",
    "for file in files:\n",
    "    stdout.append(mf.download_service_file(\"elk\", \"files/snapshots/\" + file , outputDirectory + file))"
   ]
  },
  {
   "cell_type": "markdown",
   "id": "d4ee7c4f-2bc9-4244-83b5-eb6c720d20e2",
   "metadata": {},
   "source": [
    "## Export complete\n",
    "The file is located in your current directories snapshots directory.\n",
    "\n",
    "You can now download this file to import into another elk stack.\n",
    "\n",
    "For import instructions, refer back to [Start here](.start_here.ipynb)"
   ]
  },
  {
   "cell_type": "markdown",
   "id": "8b242dff-5f5b-48bb-995d-eb4f4e89214c",
   "metadata": {},
   "source": [
    "## OPTIONAL\n",
    "Delete the snapshot and repository if you are done\n",
    "\n",
    "Do **NOT** run the following if you want to restore the snapshot on measurement node since it can be achieved using a single curl command"
   ]
  },
  {
   "cell_type": "markdown",
   "id": "d2e4ef3b-9b45-4cdd-8319-775301db3391",
   "metadata": {},
   "source": [
    "### Delete the snapshot"
   ]
  },
  {
   "cell_type": "code",
   "execution_count": null,
   "id": "a06965fe-388c-48a1-99e8-f0370917c3af",
   "metadata": {},
   "outputs": [],
   "source": [
    "#mde.delete_snapshot(repo_name=\"backup_repository\", snapshot_name=\"snapshot_test\")"
   ]
  },
  {
   "cell_type": "markdown",
   "id": "111d2016-f8b6-4b8d-bedf-b3e026e5d402",
   "metadata": {},
   "source": [
    "### Delete the repository"
   ]
  },
  {
   "cell_type": "code",
   "execution_count": null,
   "id": "47cb5fc9-0241-4d1c-b7a7-c834eda70bc7",
   "metadata": {},
   "outputs": [],
   "source": [
    "#mde.delete_repo(repo_name=\"backup_repository\")"
   ]
  }
 ],
 "metadata": {
  "kernelspec": {
   "display_name": "Python 3 (ipykernel)",
   "language": "python",
   "name": "python3"
  },
  "language_info": {
   "codemirror_mode": {
    "name": "ipython",
    "version": 3
   },
   "file_extension": ".py",
   "mimetype": "text/x-python",
   "name": "python",
   "nbconvert_exporter": "python",
   "pygments_lexer": "ipython3",
   "version": "3.9.7"
  }
 },
 "nbformat": 4,
 "nbformat_minor": 5
}

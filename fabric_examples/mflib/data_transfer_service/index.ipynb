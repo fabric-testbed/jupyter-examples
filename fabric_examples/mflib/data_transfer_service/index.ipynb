{
 "cells": [
  {
   "cell_type": "markdown",
   "id": "efab7298-5fb8-4104-9ca7-bd2b23068d1e",
   "metadata": {},
   "source": [
    "# Index for snapshot notebooks\n",
    "\n",
    "- Prepare a slice notebook [Prepare a Slice](./KNIT6_prepare_a_slice_via_images.ipynb)\n",
    "- Instruction for running the instrumentize notebook [Instruction](./instructions.txt)\n",
    "- Instrumentize a slice [Instrumentize a Slice](./KNIT6_instrumentize_a_slice.ipynb)\n",
    "- Generate prometheus snapshot tar file [Prometheus snapshot](./generate_prometheus_snapshot.ipynb)\n",
    "- Generate elk snapshot tar file [ELK snapshot](./generate_elk_snapshot.ipynb)\n",
    "\n",
    "Now you have both the prometheus and elk snapshot tar file on measurement node.\n",
    "If you want to import the data on the original measurement node\n",
    "- Import prometheus snapshot on Meas node [Prometheus snapshot import on meas node](./restore_prometheus_snapshot_on_meas_node.ipynb)\n",
    "- Import elk snapshot on Meas node [ELK snapshot import on meas node](./restore_elk_snapshot_on_meas_node.ipynb)\n",
    "\n",
    "You can also import the snapshot in another fabric slice\n",
    "- Create a backup slice(single node)[Create backup slice](./create_single_node_backup_slice.ipynb)\n",
    "- Upload snapshot tar files to cloud [Upload snapshot](./snapshot_upload_to_cloud.ipynb)\n",
    "- Download snapshot tar files to backup slice [Download snapshot](./snapshot_download_from_cloud.ipynb)\n",
    "- Import prometheus snapshot [Prometheus snapshot import in another slice](./import_prometheus_snapshot_on_other_node.ipynb)\n",
    "- Import elk snapshot [ELK snapshot import in another slice](./import_elk_snapshot_on_other_node.ipynb)"
   ]
  },
  {
   "cell_type": "code",
   "execution_count": null,
   "id": "628f1178-1933-42e5-a207-feb683815160",
   "metadata": {},
   "outputs": [],
   "source": []
  }
 ],
 "metadata": {
  "kernelspec": {
   "display_name": "Python 3 (ipykernel)",
   "language": "python",
   "name": "python3"
  },
  "language_info": {
   "codemirror_mode": {
    "name": "ipython",
    "version": 3
   },
   "file_extension": ".py",
   "mimetype": "text/x-python",
   "name": "python",
   "nbconvert_exporter": "python",
   "pygments_lexer": "ipython3",
   "version": "3.9.7"
  }
 },
 "nbformat": 4,
 "nbformat_minor": 5
}

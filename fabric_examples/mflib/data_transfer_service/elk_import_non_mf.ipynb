{
 "cells": [
  {
   "cell_type": "markdown",
   "id": "c839a13a-e892-46d2-8ab7-03ea8d7108c9",
   "metadata": {
    "tags": []
   },
   "source": [
    "# Import ELK Snapshots onto a Fabric slice without the Measurement Framework"
   ]
  },
  {
   "cell_type": "markdown",
   "id": "ca35221e-efa2-4fce-8e99-34c0c8f3e21b",
   "metadata": {},
   "source": [
    "### Prerequisite\n",
    "- A running fabric slice (For example: [Create single node backup Slice](./create_single_node_backup.ipynb))\n",
    "- An ELK snapshot tar file to import"
   ]
  },
  {
   "cell_type": "markdown",
   "id": "55b9b0a3-b21c-45e5-a0dc-e3d8a38707cd",
   "metadata": {
    "tags": []
   },
   "source": [
    "#### General Imports"
   ]
  },
  {
   "cell_type": "code",
   "execution_count": null,
   "id": "83b00f77-9c48-4ca9-bfb6-95acd58c4d2e",
   "metadata": {},
   "outputs": [],
   "source": [
    "import os\n",
    "import json\n",
    "import traceback\n",
    "from fabrictestbed_extensions.fablib.fablib import FablibManager as fablib_manager\n",
    "try:\n",
    "    fablib = fablib_manager()                \n",
    "    #fablib.show_config()\n",
    "except Exception as e:\n",
    "    print(f\"Exception: {e}\")"
   ]
  },
  {
   "cell_type": "markdown",
   "id": "8dfeece6-a41a-400f-a77c-58430630a080",
   "metadata": {
    "tags": []
   },
   "source": [
    "#### Get your slice information\n",
    "*Set slice_name and node_name below before running*"
   ]
  },
  {
   "cell_type": "code",
   "execution_count": null,
   "id": "2a319e4d-cd46-4fe2-95b4-1def438dfb65",
   "metadata": {},
   "outputs": [],
   "source": [
    "slice_name='backup-testing'\n",
    "node_name='data-backup'\n",
    "\n",
    "\n",
    "slice = fablib.get_slice(name=slice_name)\n",
    "slice.show();\n",
    "node = slice.get_node(name=node_name)\n",
    "node.show();"
   ]
  },
  {
   "cell_type": "markdown",
   "id": "f55a8556-8f63-4df2-bfb0-4fef4bf07245",
   "metadata": {
    "tags": []
   },
   "source": [
    "# Instructions to start ELK and import your snapshot data\n",
    "\n",
    "#### Ensure Docker and Docker-Compose are installed on the node"
   ]
  },
  {
   "cell_type": "code",
   "execution_count": null,
   "id": "0e3da0f8-e84e-4f22-8124-2b725af20cfc",
   "metadata": {},
   "outputs": [],
   "source": [
    "commands = [\n",
    "    'sudo apt-get update',\n",
    "    'sudo apt-get install docker -y',\n",
    "    'sudo apt-get install docker-compose -y',\n",
    "]\n",
    "try:\n",
    "    for command in commands:\n",
    "        stdout, stderr = node.execute(command)\n",
    "except Exception as e:\n",
    "    print(f\"Fail: {e}\")"
   ]
  },
  {
   "cell_type": "markdown",
   "id": "e7b07a14-510b-47da-adf0-368fc20d199b",
   "metadata": {
    "tags": []
   },
   "source": [
    "#### Print Docker/Docker-Compose versions"
   ]
  },
  {
   "cell_type": "code",
   "execution_count": null,
   "id": "0aa20234-1385-4a7f-9eeb-9456c051a2b1",
   "metadata": {},
   "outputs": [],
   "source": [
    "stdout, stderr = node.execute('sudo docker -v')\n",
    "stdout, stderr = node.execute('sudo docker-compose -v') "
   ]
  },
  {
   "cell_type": "markdown",
   "id": "bafd1ae0-5bbe-417d-9c5e-473ef27f98c4",
   "metadata": {
    "tags": []
   },
   "source": [
    "#### Set up NAT64 Server\n",
    "We need to do this step so that we can clone the Github repo with our docker app."
   ]
  },
  {
   "cell_type": "code",
   "execution_count": null,
   "id": "8bba344a-62d1-47e8-b6a3-48357e564eec",
   "metadata": {},
   "outputs": [],
   "source": [
    "commands = [\n",
    "    # TODO: This line shouldn't need to be done.. temporary fix?\n",
    "    f\"sudo sed -i '1s/^/0.0.0.0 {node_name}\\\\n/' /etc/hosts\",\n",
    "    \"sudo sed -i '/nameserver/d' /etc/resolv.conf\",\n",
    "    \"sudo sh -c 'echo nameserver 2a00:1098:2c::1 >> /etc/resolv.conf'\",\n",
    "    \"sudo sh -c 'echo nameserver 2a01:4f8:c2c:123f::1 >> /etc/resolv.conf'\",\n",
    "    \"sudo sh -c 'echo nameserver 2a00:1098:2b::1 >> /etc/resolv.conf'\"\n",
    "]\n",
    "try:\n",
    "    for command in commands:\n",
    "        stdout, stderr = node.execute(command)\n",
    "except Exception as e:\n",
    "    print(f\"Fail: {e}\")"
   ]
  },
  {
   "cell_type": "markdown",
   "id": "0fa3a4c3-611c-492c-9654-b03da34cc9a6",
   "metadata": {
    "tags": []
   },
   "source": [
    "#### Create docker container and import your data"
   ]
  },
  {
   "cell_type": "code",
   "execution_count": null,
   "id": "9e5c36ef-4d22-4948-ac8b-85c415d06795",
   "metadata": {},
   "outputs": [],
   "source": [
    "commands = [\n",
    "    'sudo git clone https://github.com/jackhancockuky/elk-docker-container.git'\n",
    "]\n",
    "try:\n",
    "    for command in commands:\n",
    "        stdout, stderr = node.execute(command)\n",
    "except Exception as e:\n",
    "    print(f\"Fail: {e}\")"
   ]
  },
  {
   "cell_type": "markdown",
   "id": "09a80b2e-e4ae-4304-bf51-e260e038988e",
   "metadata": {
    "tags": []
   },
   "source": [
    "#### Upload a snapshot file into ELK"
   ]
  },
  {
   "cell_type": "code",
   "execution_count": null,
   "id": "a4810193-3dbf-446a-8c52-69dff1910cf5",
   "metadata": {},
   "outputs": [],
   "source": [
    "# Enter your elk snapshot tar file name (must be in data_transfer_service/snapshots directory)\n",
    "snapshot_tar_name = \"elk_backup_2.tar\"\n",
    "\n",
    "\n",
    "node.upload_file(f\"./snapshots/{snapshot_tar_name}\", f'/tmp/{snapshot_tar_name}')\n",
    "stdout, stderr = node.execute(f'sudo mv /tmp/{snapshot_tar_name} /home/ubuntu/elk-docker-container/snapshots/{snapshot_tar_name}') "
   ]
  },
  {
   "cell_type": "markdown",
   "id": "0b82f5f1-92a0-41d8-830c-24a32881372a",
   "metadata": {},
   "source": [
    "#### View snapshots ready to be imported into ELK"
   ]
  },
  {
   "cell_type": "code",
   "execution_count": null,
   "id": "61467eec-2e87-42c0-8136-e8f8dc30ee19",
   "metadata": {},
   "outputs": [],
   "source": [
    "stdout, stderr = node.execute('ls elk-docker-container/snapshots') "
   ]
  },
  {
   "cell_type": "markdown",
   "id": "619e4ad2-ba7e-43f8-8bc1-dbfc9fb7cbc4",
   "metadata": {
    "tags": []
   },
   "source": [
    "#### Import a snapshot"
   ]
  },
  {
   "cell_type": "code",
   "execution_count": null,
   "id": "9fd71167-14e2-4c9c-a2bc-8c2a4a30d7b0",
   "metadata": {},
   "outputs": [],
   "source": [
    "# Uncomment below and change name to a different file from above if you'd like to\n",
    "# snapshot_tar_name = \"elk_backup_2.tar\""
   ]
  },
  {
   "cell_type": "code",
   "execution_count": null,
   "id": "ebb8b470-f45b-4b49-afa8-a916c2a25163",
   "metadata": {},
   "outputs": [],
   "source": [
    "stdout, stderr = node.execute('sudo tar -xvf elk-docker-container/snapshots/elk_backup_2.tar -C elk-docker-container/imported_data') "
   ]
  },
  {
   "cell_type": "markdown",
   "id": "3a78a1da-14ea-47fc-adc3-4aff40cab44d",
   "metadata": {},
   "source": [
    "#### Start the docker compose app"
   ]
  },
  {
   "cell_type": "code",
   "execution_count": null,
   "id": "f5474159-69cd-4ee1-adb2-0e3a124d9f12",
   "metadata": {},
   "outputs": [],
   "source": [
    "stdout, stderr = node.execute('sudo docker-compose -f elk-docker-container/docker-compose.yml up -d') "
   ]
  },
  {
   "cell_type": "markdown",
   "id": "7c3ee960-56a9-495f-8a29-f5cb8bf94c06",
   "metadata": {},
   "source": [
    "#### Register the repository"
   ]
  },
  {
   "cell_type": "code",
   "execution_count": null,
   "id": "0c7d1c3e-35fe-46c6-a275-b19ca6ace306",
   "metadata": {},
   "outputs": [],
   "source": [
    "stdout, stderr = node.execute('curl -X PUT -H \"Content-Type: application/json\" -d \\'{ \"type\": \"fs\", \"settings\": { \"location\": \"/usr/share/elasticsearch/imported_data/_data\", \"compress\": true } }\\' http://localhost:9200/_snapshot/imported_repository')"
   ]
  },
  {
   "cell_type": "markdown",
   "id": "eaaab143-e8a3-4ac0-8e00-a6846f53deda",
   "metadata": {},
   "source": [
    "#### View repository after registration"
   ]
  },
  {
   "cell_type": "code",
   "execution_count": null,
   "id": "0ef1d074-691d-4638-b1ed-11ee33091ee8",
   "metadata": {},
   "outputs": [],
   "source": [
    "stdout, stderr = node.execute('curl -X GET \"http://localhost:9200/_cat/snapshots/imported_repository?v\"')"
   ]
  },
  {
   "cell_type": "markdown",
   "id": "0ecf14b8-a09c-411a-b128-9d50e0912b20",
   "metadata": {},
   "source": [
    "#### Delete all indices and restore snapshot (replace snapshot name and change index list if you want to customize)"
   ]
  },
  {
   "cell_type": "code",
   "execution_count": null,
   "id": "4870a1ac-adcc-44ed-8eef-1632f4d73523",
   "metadata": {},
   "outputs": [],
   "source": [
    "stdout, stderr = node.execute('curl -X DELETE \"http://localhost:9200/_all\"')\n",
    "stdout, stderr = node.execute('curl -X POST \"http://localhost:9200/_snapshot/imported_repository/snapshot_test/_restore?pretty\" -H \"Content-Type: application/json\" -d \\'{ \"indices\": \"*\", \"index_settings\": { \"index.number_of_replicas\": 1 } }\\'')"
   ]
  },
  {
   "cell_type": "markdown",
   "id": "fc98430d-01d7-4e24-ab14-43609a717951",
   "metadata": {},
   "source": [
    "### Your data is now imported on the node."
   ]
  },
  {
   "cell_type": "markdown",
   "id": "152ed58e-4442-48e2-8f4e-a5e26a12f251",
   "metadata": {},
   "source": [
    "----\n",
    "### View the index list"
   ]
  },
  {
   "cell_type": "code",
   "execution_count": null,
   "id": "724ca7bf-fabe-48dd-b664-9f53f1adafd9",
   "metadata": {},
   "outputs": [],
   "source": [
    "stdout, stderr = node.execute('curl -X GET \"http://localhost:9200/_cat/indices?pretty\"')"
   ]
  },
  {
   "cell_type": "markdown",
   "id": "bbe76cd6-18bd-4d7a-b7eb-a6ced9e424d3",
   "metadata": {
    "tags": []
   },
   "source": [
    "----\n",
    "### View data from Kibana"
   ]
  },
  {
   "cell_type": "markdown",
   "id": "31338427-bd19-4ce8-a287-ada885fc88ad",
   "metadata": {},
   "source": [
    "#### On your local terminal create a tunnel with:\n",
    "\n",
    "'ssh -L 10030:localhost:5601 -F ssh_config -i slice_key ubuntu@{node_ip}'\n",
    "\n",
    "#### Then go to http://localhost:10030\n",
    "----"
   ]
  },
  {
   "cell_type": "markdown",
   "id": "4f132c40-bcfb-4978-bff0-17358e1d756f",
   "metadata": {
    "tags": []
   },
   "source": [
    "### To reuse slice with new data (if you are done then just delete slice)\n",
    "#### Take down and reset container to original state:"
   ]
  },
  {
   "cell_type": "code",
   "execution_count": null,
   "id": "8ef9bc67-8437-4d89-99bc-8a578daffd63",
   "metadata": {},
   "outputs": [],
   "source": [
    "#stdout, stderr = node.execute('docker-compose down')\n",
    "#stdout, stderr = node.execute('docker volume rm elk-docker-container_es-data')"
   ]
  },
  {
   "cell_type": "markdown",
   "id": "c29766be-9fc2-4a3e-bb03-86306db805c5",
   "metadata": {
    "tags": []
   },
   "source": [
    "#### Remove backup data"
   ]
  },
  {
   "cell_type": "code",
   "execution_count": null,
   "id": "4a1ec8a4-d3b7-4a62-a0a5-3dcbe2740166",
   "metadata": {},
   "outputs": [],
   "source": [
    "#stdout, stderr = node.execute('rm -rf elk-docker-container/imported_data/*')"
   ]
  },
  {
   "cell_type": "markdown",
   "id": "357ec5a8-b253-4369-a1cc-4d1be8691ca1",
   "metadata": {},
   "source": [
    "#### Start with steps again"
   ]
  }
 ],
 "metadata": {
  "kernelspec": {
   "display_name": "Python 3 (ipykernel)",
   "language": "python",
   "name": "python3"
  },
  "language_info": {
   "codemirror_mode": {
    "name": "ipython",
    "version": 3
   },
   "file_extension": ".py",
   "mimetype": "text/x-python",
   "name": "python",
   "nbconvert_exporter": "python",
   "pygments_lexer": "ipython3",
   "version": "3.9.7"
  }
 },
 "nbformat": 4,
 "nbformat_minor": 5
}

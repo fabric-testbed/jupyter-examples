{
 "cells": [
  {
   "cell_type": "markdown",
   "id": "0c2da6f1",
   "metadata": {},
   "source": [
    "#### Measurement Framework Library\n",
    "# MFLib: Data Transfer Service\n",
    "\n",
    "## Prerequisites\n",
    "- Slice needs to be created: [Prepare a Slice](./KNIT6_prepare_a_slice_via_images.ipynb)\n",
    "- Slice needs to be instrumentized: [Instrumentize a Slice](./KNIT6_instrumentize_a_slice.ipynb)"
   ]
  },
  {
   "cell_type": "markdown",
   "id": "4455c1c9-f785-4dc7-89d2-d53824f80e7b",
   "metadata": {},
   "source": [
    "### (optional ways to view data after export)\n",
    "- [Create a data restore node](.start_here.ipynb): Create a single node fabric slice to quickly import your data\n",
    "- [Create a local ELK stack](.start_here.ipynb): Create a single node docker container to view ELK data on your own device\n",
    "- [Create a local Prometheus stack](.start_here.ipynb): Create a single node docker container to view Prometheus data on your own device"
   ]
  },
  {
   "cell_type": "markdown",
   "id": "19651fde-76e0-4e82-ada1-29e3b8d0541a",
   "metadata": {
    "tags": []
   },
   "source": [
    "## ELK Data Transfer\n",
    "\n",
    "- ### Export\n",
    "    - [To file](.start_here.ipynb): Export an ELK snapshot to a tar file\n",
    "    - [To cloud](.start_here.ipynb): Export an ELK snapshot to your favorite cloud service\n",
    "\n",
    "- ### Import\n",
    "    - [To a local container](.start_here.ipynb): Import an ELK snapshot into a quick setup docker container on your own device\n",
    "    - [To a new slice](.start_here.ipynb): Import an ELK snapshot to a new Fabric slice"
   ]
  },
  {
   "cell_type": "markdown",
   "id": "51308df1-5885-4b5e-9f41-f96e93dc59bb",
   "metadata": {},
   "source": [
    "## Prometheus Data Transfer\n",
    "\n",
    "- ### Export\n",
    "    - [To file](.start_here.ipynb): Export a Prometheus snapshot to a tar file\n",
    "    - [To cloud](.start_here.ipynb): Export a Prometheus snapshot to your favorite cloud service\n",
    "\n",
    "- ### Import\n",
    "    - [To a local container](.start_here.ipynb): Import a Prometheus snapshot into a quick setup docker container on your own device\n",
    "    - [To a new slice](.start_here.ipynb): Import a Prometheus snapshot to a new Fabric slice"
   ]
  },
  {
   "cell_type": "code",
   "execution_count": null,
   "id": "e3d61f9d-707a-47f0-b4b9-d8e86b3a9729",
   "metadata": {},
   "outputs": [],
   "source": []
  },
  {
   "cell_type": "code",
   "execution_count": null,
   "id": "3cda80b0-d682-42ee-9e2c-bc05bd21b489",
   "metadata": {},
   "outputs": [],
   "source": []
  }
 ],
 "metadata": {
  "kernelspec": {
   "display_name": "Bash",
   "language": "bash",
   "name": "bash"
  },
  "language_info": {
   "codemirror_mode": "shell",
   "file_extension": ".sh",
   "mimetype": "text/x-sh",
   "name": "bash"
  }
 },
 "nbformat": 4,
 "nbformat_minor": 5
}

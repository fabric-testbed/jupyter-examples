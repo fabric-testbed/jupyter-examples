{
 "cells": [
  {
   "cell_type": "markdown",
   "id": "0c2da6f1",
   "metadata": {
    "jp-MarkdownHeadingCollapsed": true,
    "tags": []
   },
   "source": [
    "#### Measurement Framework Library\n",
    "# MFLib: Data Transfer Service"
   ]
  },
  {
   "cell_type": "markdown",
   "id": "914e9bfc-5e32-4d2c-9ca4-e15bad9bcaf1",
   "metadata": {},
   "source": [
    "## Prerequisites\n",
    "- Slice needs to be created: [Prepare a Slice](./KNIT6_prepare_a_slice_via_images.ipynb)\n",
    "- Slice needs to be instrumentized: [Instrumentize a Slice](./KNIT6_instrumentize_a_slice.ipynb)"
   ]
  },
  {
   "cell_type": "markdown",
   "id": "19651fde-76e0-4e82-ada1-29e3b8d0541a",
   "metadata": {
    "tags": []
   },
   "source": [
    "----\n",
    "## ELK Data Transfer\n",
    "\n",
    "- ### Export\n",
    "    - [To file](./elk_export.ipynb): Export an ELK snapshot to a tar file\n",
    "    - *TODO* [To cloud](.start_here.ipynb): Export an ELK snapshot to your favorite cloud service\n",
    "\n",
    "- ### Import\n",
    "#### Choose from the 3 ways to view your exported ELK snapshot\n",
    "    - [Your own machine](https://github.com/jackhancockuky/elk-docker-container): Import an ELK snapshot into a quick setup docker container on your own device\n",
    "    - [Non-MF slice](./elk_import_non_mf.ipynb): Easily setup ELK on a single node and import your data\n",
    "        - Prerequisite: [Create slice](./create_single_node_backup.ipynb): Create a 1 node backup slice (if you don't already have a slice)\n",
    "    - *NOT USING FOR NOW* [MF slice](./elk_import_mf.ipynb): Import an ELK snapshot to an existing slice with the Measurement Framework"
   ]
  },
  {
   "cell_type": "markdown",
   "id": "51308df1-5885-4b5e-9f41-f96e93dc59bb",
   "metadata": {
    "tags": []
   },
   "source": [
    "-----\n",
    "## Prometheus Data Transfer\n",
    "\n",
    "- ### Export\n",
    "    - [To file](.start_here.ipynb): Export a Prometheus snapshot to a tar file\n",
    "    - [To cloud](.start_here.ipynb): Export a Prometheus snapshot to your favorite cloud service\n",
    "\n",
    "- ### Import\n",
    "    - [To a local container](.start_here.ipynb): Import a Prometheus snapshot into a quick setup docker container on your own device\n",
    "    - [To a new slice](.start_here.ipynb): Import a Prometheus snapshot to a new Fabric slice"
   ]
  },
  {
   "cell_type": "markdown",
   "id": "27409cf7-f1c7-4851-a2a1-0d4bbcfafc0e",
   "metadata": {},
   "source": [
    "----"
   ]
  }
 ],
 "metadata": {
  "kernelspec": {
   "display_name": "Bash",
   "language": "bash",
   "name": "bash"
  },
  "language_info": {
   "codemirror_mode": "shell",
   "file_extension": ".sh",
   "mimetype": "text/x-sh",
   "name": "bash"
  }
 },
 "nbformat": 4,
 "nbformat_minor": 5
}

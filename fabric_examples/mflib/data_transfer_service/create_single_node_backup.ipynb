{
 "cells": [
  {
   "cell_type": "markdown",
   "id": "c839a13a-e892-46d2-8ab7-03ea8d7108c9",
   "metadata": {},
   "source": [
    "# Create a single node slice as the backup node"
   ]
  },
  {
   "cell_type": "markdown",
   "id": "55b9b0a3-b21c-45e5-a0dc-e3d8a38707cd",
   "metadata": {},
   "source": [
    "## Import"
   ]
  },
  {
   "cell_type": "code",
   "execution_count": 1,
   "id": "83b00f77-9c48-4ca9-bfb6-95acd58c4d2e",
   "metadata": {},
   "outputs": [],
   "source": [
    "import os\n",
    "import json\n",
    "import traceback\n",
    "from fabrictestbed_extensions.fablib.fablib import FablibManager as fablib_manager\n",
    "try:\n",
    "    fablib = fablib_manager()                \n",
    "    #fablib.show_config()\n",
    "except Exception as e:\n",
    "    print(f\"Exception: {e}\")"
   ]
  },
  {
   "cell_type": "code",
   "execution_count": 2,
   "id": "960f49b9-d489-4870-ae8f-a119ae0c0b44",
   "metadata": {},
   "outputs": [
    {
     "name": "stdout",
     "output_type": "stream",
     "text": [
      "Setting up slice backup-testing\n",
      "CPU times: user 0 ns, sys: 103 µs, total: 103 µs\n",
      "Wall time: 110 µs\n"
     ]
    }
   ],
   "source": [
    "%%time\n",
    "slice_name = 'backup-testing'\n",
    "site1 = \"UTAH\"\n",
    "node1_name = 'data-backup'\n",
    "network1_name='net1'\n",
    "node1_nic_name = 'nic1'\n",
    "print(f\"Setting up slice {slice_name}\")"
   ]
  },
  {
   "cell_type": "code",
   "execution_count": 3,
   "id": "c9677f66-4b77-4447-81de-be07ec8b1480",
   "metadata": {},
   "outputs": [
    {
     "name": "stdout",
     "output_type": "stream",
     "text": [
      "Slice Topology Done.\n"
     ]
    }
   ],
   "source": [
    "try:\n",
    "    #Create Slice\n",
    "    slice = fablib.new_slice(name=slice_name)\n",
    "    # Node1\n",
    "    node1 = slice.add_node(name=node1_name, site=site1, image='docker_ubuntu_20', disk=100)\n",
    "    node1_nic_name = 'nic1'\n",
    "    iface1 = node1.add_component(model='NIC_Basic', name=node1_nic_name).get_interfaces()[0]\n",
    "    # Networks\n",
    "    net1 = slice.add_l3network(name=network1_name, interfaces=[iface1], type='IPv4')\n",
    "    print(f\"Slice Topology Done.\")\n",
    "except Exception as e:\n",
    "    print(f\"Exception: {e}\")"
   ]
  },
  {
   "cell_type": "code",
   "execution_count": null,
   "id": "53995151-fd95-4df0-b6cc-27830c08d49c",
   "metadata": {},
   "outputs": [
    {
     "name": "stdout",
     "output_type": "stream",
     "text": [
      "\n",
      "Retry: 2, Time: 181 sec\n"
     ]
    },
    {
     "data": {
      "text/html": [
       "<style type=\"text/css\">\n",
       "#T_e46c1 tr:nth-child(even) {\n",
       "  background: #dbf3ff;\n",
       "  color: #231f20;\n",
       "}\n",
       "#T_e46c1 tr:nth-child(odd) {\n",
       "  background: #ffffff;\n",
       "  color: #231f20;\n",
       "}\n",
       "#T_e46c1 caption {\n",
       "  text-align: center;\n",
       "  font-size: 150%;\n",
       "}\n",
       "#T_e46c1_row0_col0, #T_e46c1_row0_col1, #T_e46c1_row1_col0, #T_e46c1_row1_col1, #T_e46c1_row2_col0, #T_e46c1_row2_col1, #T_e46c1_row3_col0, #T_e46c1_row3_col1, #T_e46c1_row4_col0, #T_e46c1_row4_col1, #T_e46c1_row5_col0 {\n",
       "  text-align: left;\n",
       "  border: 1px #231f20 solid !important;\n",
       "  overwrite: False;\n",
       "  background-color: ;\n",
       "}\n",
       "#T_e46c1_row5_col1 {\n",
       "  text-align: left;\n",
       "  border: 1px #231f20 solid !important;\n",
       "  overwrite: False;\n",
       "  background-color: #ffffbe;\n",
       "}\n",
       "</style>\n",
       "<table id=\"T_e46c1\">\n",
       "  <caption>Slice</caption>\n",
       "  <thead>\n",
       "  </thead>\n",
       "  <tbody>\n",
       "    <tr>\n",
       "      <td id=\"T_e46c1_row0_col0\" class=\"data row0 col0\" >ID</td>\n",
       "      <td id=\"T_e46c1_row0_col1\" class=\"data row0 col1\" >a51c0f31-82a8-46b1-b19d-5e9216016dbf</td>\n",
       "    </tr>\n",
       "    <tr>\n",
       "      <td id=\"T_e46c1_row1_col0\" class=\"data row1 col0\" >Name</td>\n",
       "      <td id=\"T_e46c1_row1_col1\" class=\"data row1 col1\" >backup-testing</td>\n",
       "    </tr>\n",
       "    <tr>\n",
       "      <td id=\"T_e46c1_row2_col0\" class=\"data row2 col0\" >Lease Expiration (UTC)</td>\n",
       "      <td id=\"T_e46c1_row2_col1\" class=\"data row2 col1\" >2023-05-30 23:56:23 +0000</td>\n",
       "    </tr>\n",
       "    <tr>\n",
       "      <td id=\"T_e46c1_row3_col0\" class=\"data row3 col0\" >Lease Start (UTC)</td>\n",
       "      <td id=\"T_e46c1_row3_col1\" class=\"data row3 col1\" >2023-05-29 23:56:24 +0000</td>\n",
       "    </tr>\n",
       "    <tr>\n",
       "      <td id=\"T_e46c1_row4_col0\" class=\"data row4 col0\" >Project ID</td>\n",
       "      <td id=\"T_e46c1_row4_col1\" class=\"data row4 col1\" >1630021f-0a0c-4792-a241-997f410d36e1</td>\n",
       "    </tr>\n",
       "    <tr>\n",
       "      <td id=\"T_e46c1_row5_col0\" class=\"data row5 col0\" >State</td>\n",
       "      <td id=\"T_e46c1_row5_col1\" class=\"data row5 col1\" >Configuring</td>\n",
       "    </tr>\n",
       "  </tbody>\n",
       "</table>\n"
      ],
      "text/plain": [
       "<pandas.io.formats.style.Styler at 0x7f48bc190160>"
      ]
     },
     "metadata": {},
     "output_type": "display_data"
    },
    {
     "data": {
      "text/html": [
       "<style type=\"text/css\">\n",
       "#T_9fdde caption {\n",
       "  text-align: center;\n",
       "  font-size: 150%;\n",
       "  caption-side: top;\n",
       "}\n",
       "#T_9fdde th {\n",
       "  text-align: left;\n",
       "}\n",
       "#T_9fdde tr:nth-child(even) {\n",
       "  background: #ffffff;\n",
       "  color: #231f20;\n",
       "}\n",
       "#T_9fdde tr:nth-child(odd) {\n",
       "  background: #dbf3ff;\n",
       "  color: #231f20;\n",
       "}\n",
       "#T_9fdde .level0 {\n",
       "  border: 1px black solid !important;\n",
       "  background: #ffffff;\n",
       "  color: #231f20;\n",
       "}\n",
       "#T_9fdde_row0_col0, #T_9fdde_row0_col1, #T_9fdde_row0_col2, #T_9fdde_row0_col3, #T_9fdde_row1_col0, #T_9fdde_row1_col1, #T_9fdde_row1_col2, #T_9fdde_row1_col3 {\n",
       "  text-align: left;\n",
       "  border: 1px #231f20 solid !important;\n",
       "  overwrite: False;\n",
       "}\n",
       "#T_9fdde_row0_col4 {\n",
       "  text-align: left;\n",
       "  border: 1px #231f20 solid !important;\n",
       "  overwrite: False;\n",
       "  background-color: #c3ffc4;\n",
       "}\n",
       "#T_9fdde_row0_col5, #T_9fdde_row1_col5 {\n",
       "  text-align: left;\n",
       "  border: 1px #231f20 solid !important;\n",
       "  overwrite: False;\n",
       "  background-color: ;\n",
       "}\n",
       "#T_9fdde_row1_col4 {\n",
       "  text-align: left;\n",
       "  border: 1px #231f20 solid !important;\n",
       "  overwrite: False;\n",
       "  background-color: #ffffbe;\n",
       "}\n",
       "</style>\n",
       "<table id=\"T_9fdde\">\n",
       "  <caption>Slivers</caption>\n",
       "  <thead>\n",
       "    <tr>\n",
       "      <th id=\"T_9fdde_level0_col0\" class=\"col_heading level0 col0\" >ID</th>\n",
       "      <th id=\"T_9fdde_level0_col1\" class=\"col_heading level0 col1\" >Name</th>\n",
       "      <th id=\"T_9fdde_level0_col2\" class=\"col_heading level0 col2\" >Site</th>\n",
       "      <th id=\"T_9fdde_level0_col3\" class=\"col_heading level0 col3\" >Type</th>\n",
       "      <th id=\"T_9fdde_level0_col4\" class=\"col_heading level0 col4\" >State</th>\n",
       "      <th id=\"T_9fdde_level0_col5\" class=\"col_heading level0 col5\" >Error</th>\n",
       "    </tr>\n",
       "  </thead>\n",
       "  <tbody>\n",
       "    <tr>\n",
       "      <td id=\"T_9fdde_row0_col0\" class=\"data row0 col0\" >89b66048-753f-4696-9ca0-0e5c7ec44e92</td>\n",
       "      <td id=\"T_9fdde_row0_col1\" class=\"data row0 col1\" >data-backup</td>\n",
       "      <td id=\"T_9fdde_row0_col2\" class=\"data row0 col2\" >UTAH</td>\n",
       "      <td id=\"T_9fdde_row0_col3\" class=\"data row0 col3\" >node</td>\n",
       "      <td id=\"T_9fdde_row0_col4\" class=\"data row0 col4\" >Active</td>\n",
       "      <td id=\"T_9fdde_row0_col5\" class=\"data row0 col5\" ></td>\n",
       "    </tr>\n",
       "    <tr>\n",
       "      <td id=\"T_9fdde_row1_col0\" class=\"data row1 col0\" >1d96dbb2-8bed-411c-89b2-e87b47b7840c</td>\n",
       "      <td id=\"T_9fdde_row1_col1\" class=\"data row1 col1\" >net1</td>\n",
       "      <td id=\"T_9fdde_row1_col2\" class=\"data row1 col2\" >UTAH</td>\n",
       "      <td id=\"T_9fdde_row1_col3\" class=\"data row1 col3\" >network</td>\n",
       "      <td id=\"T_9fdde_row1_col4\" class=\"data row1 col4\" >Ticketed</td>\n",
       "      <td id=\"T_9fdde_row1_col5\" class=\"data row1 col5\" ></td>\n",
       "    </tr>\n",
       "  </tbody>\n",
       "</table>\n"
      ],
      "text/plain": [
       "<pandas.io.formats.style.Styler at 0x7f48f86e1eb0>"
      ]
     },
     "metadata": {},
     "output_type": "display_data"
    }
   ],
   "source": [
    "%%time\n",
    "try:\n",
    "    # Submit Slice Request\n",
    "    print(f'Submitting the new slice, \"{slice_name}\"...')\n",
    "    slice.submit(wait_interval=60)\n",
    "    print(f'{slice_name} creation done.')\n",
    "\n",
    "except Exception as e:\n",
    "    print(f\"Slice Fail: {e}\")\n",
    "    traceback.print_exc()"
   ]
  },
  {
   "cell_type": "code",
   "execution_count": 5,
   "id": "d5e6aea2-8c0f-4c2b-8794-0a89bd49d51c",
   "metadata": {},
   "outputs": [],
   "source": [
    "import datetime\n",
    "\n",
    "#Extend slice\n",
    "end_date = (datetime.datetime.now().astimezone() + datetime.timedelta(days=14)).strftime(\"%Y-%m-%d %H:%M:%S %z\")\n",
    "\n",
    "try:\n",
    "    slice = fablib.get_slice(name=slice_name)\n",
    "    slice.renew(end_date)\n",
    "except Exception as e:\n",
    "    print(f\"Exception: {e}\")"
   ]
  },
  {
   "cell_type": "code",
   "execution_count": null,
   "id": "7d011c82-f479-4486-a9ab-fa6cc8bb3f79",
   "metadata": {},
   "outputs": [],
   "source": []
  }
 ],
 "metadata": {
  "kernelspec": {
   "display_name": "Python 3 (ipykernel)",
   "language": "python",
   "name": "python3"
  },
  "language_info": {
   "codemirror_mode": {
    "name": "ipython",
    "version": 3
   },
   "file_extension": ".py",
   "mimetype": "text/x-python",
   "name": "python",
   "nbconvert_exporter": "python",
   "pygments_lexer": "ipython3",
   "version": "3.9.7"
  }
 },
 "nbformat": 4,
 "nbformat_minor": 5
}

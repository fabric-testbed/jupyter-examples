{
 "cells": [
  {
   "cell_type": "markdown",
   "id": "c839a13a-e892-46d2-8ab7-03ea8d7108c9",
   "metadata": {
    "tags": []
   },
   "source": [
    "# Create a basic slice with a single node\n",
    "#### Creates an empty slice allowing you to easily import and view your measurement data\n",
    "----"
   ]
  },
  {
   "cell_type": "markdown",
   "id": "55b9b0a3-b21c-45e5-a0dc-e3d8a38707cd",
   "metadata": {},
   "source": [
    "#### Required Imports"
   ]
  },
  {
   "cell_type": "code",
   "execution_count": null,
   "id": "83b00f77-9c48-4ca9-bfb6-95acd58c4d2e",
   "metadata": {},
   "outputs": [],
   "source": [
    "import os\n",
    "import json\n",
    "import traceback\n",
    "from fabrictestbed_extensions.fablib.fablib import FablibManager as fablib_manager\n",
    "try:\n",
    "    fablib = fablib_manager()                \n",
    "    #fablib.show_config()\n",
    "except Exception as e:\n",
    "    print(f\"Exception: {e}\")"
   ]
  },
  {
   "cell_type": "markdown",
   "id": "56260a4d-c6ba-4827-8332-e4cfe6ce044e",
   "metadata": {},
   "source": [
    "#### Set slice and node information or keep defaults"
   ]
  },
  {
   "cell_type": "code",
   "execution_count": null,
   "id": "960f49b9-d489-4870-ae8f-a119ae0c0b44",
   "metadata": {},
   "outputs": [],
   "source": [
    "%%time\n",
    "slice_name = 'backup-testing'\n",
    "site1 = \"CERN\"\n",
    "node1_name = 'data-backup'\n",
    "network1_name='net1'\n",
    "node1_nic_name = 'nic1'\n",
    "print(f\"Setting up slice {slice_name}\")"
   ]
  },
  {
   "cell_type": "code",
   "execution_count": null,
   "id": "c9677f66-4b77-4447-81de-be07ec8b1480",
   "metadata": {},
   "outputs": [],
   "source": [
    "try:\n",
    "    #Create Slice\n",
    "    slice = fablib.new_slice(name=slice_name)\n",
    "    # Node1\n",
    "    node1 = slice.add_node(name=node1_name, site=site1, image='docker_ubuntu_20', disk=100)\n",
    "    node1_nic_name = 'nic1'\n",
    "    iface1 = node1.add_component(model='NIC_Basic', name=node1_nic_name).get_interfaces()[0]\n",
    "    # Networks\n",
    "    net1 = slice.add_l3network(name=network1_name, interfaces=[iface1], type='IPv4')\n",
    "    print(f\"Slice Topology Done.\")\n",
    "except Exception as e:\n",
    "    print(f\"Exception: {e}\")"
   ]
  },
  {
   "cell_type": "markdown",
   "id": "96eb0082-1bfb-45c3-a274-ac4530c69ccc",
   "metadata": {},
   "source": [
    "#### Submit slice"
   ]
  },
  {
   "cell_type": "code",
   "execution_count": null,
   "id": "53995151-fd95-4df0-b6cc-27830c08d49c",
   "metadata": {},
   "outputs": [],
   "source": [
    "%%time\n",
    "try:\n",
    "    # Submit Slice Request\n",
    "    print(f'Submitting the new slice, \"{slice_name}\"...')\n",
    "    slice.submit(wait_interval=60)\n",
    "    print(f'{slice_name} creation done.')\n",
    "\n",
    "except Exception as e:\n",
    "    print(f\"Slice Fail: {e}\")\n",
    "    traceback.print_exc()"
   ]
  },
  {
   "cell_type": "markdown",
   "id": "89204c27-cb5c-4676-b73f-7d15063a5920",
   "metadata": {
    "tags": []
   },
   "source": [
    "#### View node information"
   ]
  },
  {
   "cell_type": "code",
   "execution_count": null,
   "id": "b27fbb4a-7550-40ba-b31d-8e2e90b191ae",
   "metadata": {},
   "outputs": [],
   "source": [
    "try:\n",
    "    node = slice.get_node(node1_name) \n",
    "    print(f\"{node}\")\n",
    "    \n",
    "except Exception as e:\n",
    "    print(f\"Exception: {e}\")"
   ]
  },
  {
   "cell_type": "markdown",
   "id": "a25e2796-994a-49c3-bda1-1a51f8c82541",
   "metadata": {
    "tags": []
   },
   "source": [
    "-----\n",
    "# Slice Setup Is Complete   \n",
    "\n",
    "#### Choose a collection software to setup on your slice and import your data\n",
    "- [ELK Stack](./elk_import.ipynb)  \n",
    "- [Prometheus and Grafana](./import_elk_to_non_mf_slice.ipynb)  \n",
    "-----"
   ]
  },
  {
   "cell_type": "markdown",
   "id": "1f801c1f-7635-4eaa-8872-686d07b3f214",
   "metadata": {},
   "source": [
    "#### Optionally, extend slice duration"
   ]
  },
  {
   "cell_type": "code",
   "execution_count": null,
   "id": "d5e6aea2-8c0f-4c2b-8794-0a89bd49d51c",
   "metadata": {},
   "outputs": [],
   "source": [
    "import datetime\n",
    "\n",
    "\n",
    "#Extend slice\n",
    "end_date = (datetime.datetime.now().astimezone() + datetime.timedelta(days=7)).strftime(\"%Y-%m-%d %H:%M:%S %z\")\n",
    "\n",
    "try:\n",
    "    slice = fablib.get_slice(name=slice_name)\n",
    "    slice.renew(end_date)\n",
    "except Exception as e:\n",
    "    print(f\"Exception: {e}\")"
   ]
  }
 ],
 "metadata": {
  "kernelspec": {
   "display_name": "Python 3 (ipykernel)",
   "language": "python",
   "name": "python3"
  },
  "language_info": {
   "codemirror_mode": {
    "name": "ipython",
    "version": 3
   },
   "file_extension": ".py",
   "mimetype": "text/x-python",
   "name": "python",
   "nbconvert_exporter": "python",
   "pygments_lexer": "ipython3",
   "version": "3.10.6"
  }
 },
 "nbformat": 4,
 "nbformat_minor": 5
}

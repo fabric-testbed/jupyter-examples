{
 "cells": [
  {
   "cell_type": "markdown",
   "id": "c839a13a-e892-46d2-8ab7-03ea8d7108c9",
   "metadata": {
    "tags": []
   },
   "source": [
    "# Create a basic slice with a single node\n",
    "#### Creates an empty slice allowing you to easily import and view your measurement data\n",
    "----"
   ]
  },
  {
   "cell_type": "markdown",
   "id": "55b9b0a3-b21c-45e5-a0dc-e3d8a38707cd",
   "metadata": {},
   "source": [
    "#### Required Imports"
   ]
  },
  {
   "cell_type": "code",
   "execution_count": 1,
   "id": "83b00f77-9c48-4ca9-bfb6-95acd58c4d2e",
   "metadata": {},
   "outputs": [],
   "source": [
    "import os\n",
    "import json\n",
    "import traceback\n",
    "from fabrictestbed_extensions.fablib.fablib import FablibManager as fablib_manager\n",
    "try:\n",
    "    fablib = fablib_manager()                \n",
    "    #fablib.show_config()\n",
    "except Exception as e:\n",
    "    print(f\"Exception: {e}\")"
   ]
  },
  {
   "cell_type": "markdown",
   "id": "56260a4d-c6ba-4827-8332-e4cfe6ce044e",
   "metadata": {},
   "source": [
    "#### Set slice and node information or keep defaults"
   ]
  },
  {
   "cell_type": "code",
   "execution_count": 2,
   "id": "960f49b9-d489-4870-ae8f-a119ae0c0b44",
   "metadata": {},
   "outputs": [
    {
     "name": "stdout",
     "output_type": "stream",
     "text": [
      "Setting up slice backup-testing\n",
      "CPU times: user 62 µs, sys: 14 µs, total: 76 µs\n",
      "Wall time: 81.1 µs\n"
     ]
    }
   ],
   "source": [
    "%%time\n",
    "slice_name = 'backup-testing'\n",
    "site1 = \"UTAH\"\n",
    "node1_name = 'data-backup'\n",
    "network1_name='net1'\n",
    "node1_nic_name = 'nic1'\n",
    "print(f\"Setting up slice {slice_name}\")"
   ]
  },
  {
   "cell_type": "code",
   "execution_count": 3,
   "id": "c9677f66-4b77-4447-81de-be07ec8b1480",
   "metadata": {},
   "outputs": [
    {
     "name": "stdout",
     "output_type": "stream",
     "text": [
      "Slice Topology Done.\n"
     ]
    }
   ],
   "source": [
    "try:\n",
    "    #Create Slice\n",
    "    slice = fablib.new_slice(name=slice_name)\n",
    "    # Node1\n",
    "    node1 = slice.add_node(name=node1_name, site=site1, image='docker_ubuntu_20', disk=100)\n",
    "    node1_nic_name = 'nic1'\n",
    "    iface1 = node1.add_component(model='NIC_Basic', name=node1_nic_name).get_interfaces()[0]\n",
    "    # Networks\n",
    "    net1 = slice.add_l3network(name=network1_name, interfaces=[iface1], type='IPv4')\n",
    "    print(f\"Slice Topology Done.\")\n",
    "except Exception as e:\n",
    "    print(f\"Exception: {e}\")"
   ]
  },
  {
   "cell_type": "markdown",
   "id": "96eb0082-1bfb-45c3-a274-ac4530c69ccc",
   "metadata": {},
   "source": [
    "#### Submit slice"
   ]
  },
  {
   "cell_type": "code",
   "execution_count": 4,
   "id": "53995151-fd95-4df0-b6cc-27830c08d49c",
   "metadata": {},
   "outputs": [
    {
     "name": "stdout",
     "output_type": "stream",
     "text": [
      "\n",
      "Retry: 3, Time: 265 sec\n"
     ]
    },
    {
     "data": {
      "text/html": [
       "<style type=\"text/css\">\n",
       "#T_47160 tr:nth-child(even) {\n",
       "  background: #dbf3ff;\n",
       "  color: #231f20;\n",
       "}\n",
       "#T_47160 tr:nth-child(odd) {\n",
       "  background: #ffffff;\n",
       "  color: #231f20;\n",
       "}\n",
       "#T_47160 caption {\n",
       "  text-align: center;\n",
       "  font-size: 150%;\n",
       "}\n",
       "#T_47160_row0_col0, #T_47160_row0_col1, #T_47160_row1_col0, #T_47160_row1_col1, #T_47160_row2_col0, #T_47160_row2_col1, #T_47160_row3_col0, #T_47160_row3_col1, #T_47160_row4_col0, #T_47160_row4_col1, #T_47160_row5_col0 {\n",
       "  text-align: left;\n",
       "  border: 1px #231f20 solid !important;\n",
       "  overwrite: False;\n",
       "  background-color: ;\n",
       "}\n",
       "#T_47160_row5_col1 {\n",
       "  text-align: left;\n",
       "  border: 1px #231f20 solid !important;\n",
       "  overwrite: False;\n",
       "  background-color: #c3ffc4;\n",
       "}\n",
       "</style>\n",
       "<table id=\"T_47160\">\n",
       "  <caption>Slice</caption>\n",
       "  <thead>\n",
       "  </thead>\n",
       "  <tbody>\n",
       "    <tr>\n",
       "      <td id=\"T_47160_row0_col0\" class=\"data row0 col0\" >ID</td>\n",
       "      <td id=\"T_47160_row0_col1\" class=\"data row0 col1\" >e37f135b-e7d5-45eb-bffd-68e5a53e1288</td>\n",
       "    </tr>\n",
       "    <tr>\n",
       "      <td id=\"T_47160_row1_col0\" class=\"data row1 col0\" >Name</td>\n",
       "      <td id=\"T_47160_row1_col1\" class=\"data row1 col1\" >backup-testing</td>\n",
       "    </tr>\n",
       "    <tr>\n",
       "      <td id=\"T_47160_row2_col0\" class=\"data row2 col0\" >Lease Expiration (UTC)</td>\n",
       "      <td id=\"T_47160_row2_col1\" class=\"data row2 col1\" >2023-07-12 16:28:14 +0000</td>\n",
       "    </tr>\n",
       "    <tr>\n",
       "      <td id=\"T_47160_row3_col0\" class=\"data row3 col0\" >Lease Start (UTC)</td>\n",
       "      <td id=\"T_47160_row3_col1\" class=\"data row3 col1\" >2023-07-11 16:28:15 +0000</td>\n",
       "    </tr>\n",
       "    <tr>\n",
       "      <td id=\"T_47160_row4_col0\" class=\"data row4 col0\" >Project ID</td>\n",
       "      <td id=\"T_47160_row4_col1\" class=\"data row4 col1\" >6b76128d-c73f-431f-a245-0397586a7d40</td>\n",
       "    </tr>\n",
       "    <tr>\n",
       "      <td id=\"T_47160_row5_col0\" class=\"data row5 col0\" >State</td>\n",
       "      <td id=\"T_47160_row5_col1\" class=\"data row5 col1\" >StableOK</td>\n",
       "    </tr>\n",
       "  </tbody>\n",
       "</table>\n"
      ],
      "text/plain": [
       "<pandas.io.formats.style.Styler at 0x7f280c3ae5e0>"
      ]
     },
     "metadata": {},
     "output_type": "display_data"
    },
    {
     "data": {
      "text/html": [
       "<style type=\"text/css\">\n",
       "#T_3fc36 caption {\n",
       "  text-align: center;\n",
       "  font-size: 150%;\n",
       "  caption-side: top;\n",
       "}\n",
       "#T_3fc36 th {\n",
       "  text-align: left;\n",
       "}\n",
       "#T_3fc36 tr:nth-child(even) {\n",
       "  background: #ffffff;\n",
       "  color: #231f20;\n",
       "}\n",
       "#T_3fc36 tr:nth-child(odd) {\n",
       "  background: #dbf3ff;\n",
       "  color: #231f20;\n",
       "}\n",
       "#T_3fc36 .level0 {\n",
       "  border: 1px black solid !important;\n",
       "  background: #ffffff;\n",
       "  color: #231f20;\n",
       "}\n",
       "#T_3fc36_row0_col0, #T_3fc36_row0_col1, #T_3fc36_row0_col2, #T_3fc36_row0_col3, #T_3fc36_row0_col4, #T_3fc36_row0_col5, #T_3fc36_row0_col6, #T_3fc36_row0_col7, #T_3fc36_row0_col8, #T_3fc36_row0_col9, #T_3fc36_row0_col10, #T_3fc36_row0_col13, #T_3fc36_row0_col14, #T_3fc36_row0_col15 {\n",
       "  text-align: left;\n",
       "  border: 1px #231f20 solid !important;\n",
       "  overwrite: False;\n",
       "}\n",
       "#T_3fc36_row0_col11 {\n",
       "  text-align: left;\n",
       "  border: 1px #231f20 solid !important;\n",
       "  overwrite: False;\n",
       "  background-color: #c3ffc4;\n",
       "}\n",
       "#T_3fc36_row0_col12 {\n",
       "  text-align: left;\n",
       "  border: 1px #231f20 solid !important;\n",
       "  overwrite: False;\n",
       "  background-color: ;\n",
       "}\n",
       "</style>\n",
       "<table id=\"T_3fc36\">\n",
       "  <caption>Nodes</caption>\n",
       "  <thead>\n",
       "    <tr>\n",
       "      <th id=\"T_3fc36_level0_col0\" class=\"col_heading level0 col0\" >ID</th>\n",
       "      <th id=\"T_3fc36_level0_col1\" class=\"col_heading level0 col1\" >Name</th>\n",
       "      <th id=\"T_3fc36_level0_col2\" class=\"col_heading level0 col2\" >Cores</th>\n",
       "      <th id=\"T_3fc36_level0_col3\" class=\"col_heading level0 col3\" >RAM</th>\n",
       "      <th id=\"T_3fc36_level0_col4\" class=\"col_heading level0 col4\" >Disk</th>\n",
       "      <th id=\"T_3fc36_level0_col5\" class=\"col_heading level0 col5\" >Image</th>\n",
       "      <th id=\"T_3fc36_level0_col6\" class=\"col_heading level0 col6\" >Image Type</th>\n",
       "      <th id=\"T_3fc36_level0_col7\" class=\"col_heading level0 col7\" >Host</th>\n",
       "      <th id=\"T_3fc36_level0_col8\" class=\"col_heading level0 col8\" >Site</th>\n",
       "      <th id=\"T_3fc36_level0_col9\" class=\"col_heading level0 col9\" >Username</th>\n",
       "      <th id=\"T_3fc36_level0_col10\" class=\"col_heading level0 col10\" >Management IP</th>\n",
       "      <th id=\"T_3fc36_level0_col11\" class=\"col_heading level0 col11\" >State</th>\n",
       "      <th id=\"T_3fc36_level0_col12\" class=\"col_heading level0 col12\" >Error</th>\n",
       "      <th id=\"T_3fc36_level0_col13\" class=\"col_heading level0 col13\" >SSH Command</th>\n",
       "      <th id=\"T_3fc36_level0_col14\" class=\"col_heading level0 col14\" >Public SSH Key File</th>\n",
       "      <th id=\"T_3fc36_level0_col15\" class=\"col_heading level0 col15\" >Private SSH Key File</th>\n",
       "    </tr>\n",
       "  </thead>\n",
       "  <tbody>\n",
       "    <tr>\n",
       "      <td id=\"T_3fc36_row0_col0\" class=\"data row0 col0\" >6f371463-1934-49d8-a4f3-6148566bca96</td>\n",
       "      <td id=\"T_3fc36_row0_col1\" class=\"data row0 col1\" >data-backup</td>\n",
       "      <td id=\"T_3fc36_row0_col2\" class=\"data row0 col2\" >2</td>\n",
       "      <td id=\"T_3fc36_row0_col3\" class=\"data row0 col3\" >8</td>\n",
       "      <td id=\"T_3fc36_row0_col4\" class=\"data row0 col4\" >100</td>\n",
       "      <td id=\"T_3fc36_row0_col5\" class=\"data row0 col5\" >docker_ubuntu_20</td>\n",
       "      <td id=\"T_3fc36_row0_col6\" class=\"data row0 col6\" >qcow2</td>\n",
       "      <td id=\"T_3fc36_row0_col7\" class=\"data row0 col7\" >utah-w5.fabric-testbed.net</td>\n",
       "      <td id=\"T_3fc36_row0_col8\" class=\"data row0 col8\" >UTAH</td>\n",
       "      <td id=\"T_3fc36_row0_col9\" class=\"data row0 col9\" >ubuntu</td>\n",
       "      <td id=\"T_3fc36_row0_col10\" class=\"data row0 col10\" >2001:1948:417:7:f816:3eff:fe68:ddec</td>\n",
       "      <td id=\"T_3fc36_row0_col11\" class=\"data row0 col11\" >Active</td>\n",
       "      <td id=\"T_3fc36_row0_col12\" class=\"data row0 col12\" ></td>\n",
       "      <td id=\"T_3fc36_row0_col13\" class=\"data row0 col13\" >ssh -i /home/fabric/work/fabric_config/slice_key -F /home/fabric/work/fabric_config/ssh_config ubuntu@2001:1948:417:7:f816:3eff:fe68:ddec</td>\n",
       "      <td id=\"T_3fc36_row0_col14\" class=\"data row0 col14\" >/home/fabric/work/fabric_config/slice_key.pub</td>\n",
       "      <td id=\"T_3fc36_row0_col15\" class=\"data row0 col15\" >/home/fabric/work/fabric_config/slice_key</td>\n",
       "    </tr>\n",
       "  </tbody>\n",
       "</table>\n"
      ],
      "text/plain": [
       "<pandas.io.formats.style.Styler at 0x7f280c2c2850>"
      ]
     },
     "metadata": {},
     "output_type": "display_data"
    },
    {
     "data": {
      "text/html": [
       "<style type=\"text/css\">\n",
       "#T_6ffd9 caption {\n",
       "  text-align: center;\n",
       "  font-size: 150%;\n",
       "  caption-side: top;\n",
       "}\n",
       "#T_6ffd9 th {\n",
       "  text-align: left;\n",
       "}\n",
       "#T_6ffd9 tr:nth-child(even) {\n",
       "  background: #ffffff;\n",
       "  color: #231f20;\n",
       "}\n",
       "#T_6ffd9 tr:nth-child(odd) {\n",
       "  background: #dbf3ff;\n",
       "  color: #231f20;\n",
       "}\n",
       "#T_6ffd9 .level0 {\n",
       "  border: 1px black solid !important;\n",
       "  background: #ffffff;\n",
       "  color: #231f20;\n",
       "}\n",
       "#T_6ffd9_row0_col0, #T_6ffd9_row0_col1, #T_6ffd9_row0_col2, #T_6ffd9_row0_col3, #T_6ffd9_row0_col4, #T_6ffd9_row0_col5, #T_6ffd9_row0_col6 {\n",
       "  text-align: left;\n",
       "  border: 1px #231f20 solid !important;\n",
       "  overwrite: False;\n",
       "}\n",
       "#T_6ffd9_row0_col7 {\n",
       "  text-align: left;\n",
       "  border: 1px #231f20 solid !important;\n",
       "  overwrite: False;\n",
       "  background-color: #c3ffc4;\n",
       "}\n",
       "#T_6ffd9_row0_col8 {\n",
       "  text-align: left;\n",
       "  border: 1px #231f20 solid !important;\n",
       "  overwrite: False;\n",
       "  background-color: ;\n",
       "}\n",
       "</style>\n",
       "<table id=\"T_6ffd9\">\n",
       "  <caption>Networks</caption>\n",
       "  <thead>\n",
       "    <tr>\n",
       "      <th id=\"T_6ffd9_level0_col0\" class=\"col_heading level0 col0\" >ID</th>\n",
       "      <th id=\"T_6ffd9_level0_col1\" class=\"col_heading level0 col1\" >Name</th>\n",
       "      <th id=\"T_6ffd9_level0_col2\" class=\"col_heading level0 col2\" >Layer</th>\n",
       "      <th id=\"T_6ffd9_level0_col3\" class=\"col_heading level0 col3\" >Type</th>\n",
       "      <th id=\"T_6ffd9_level0_col4\" class=\"col_heading level0 col4\" >Site</th>\n",
       "      <th id=\"T_6ffd9_level0_col5\" class=\"col_heading level0 col5\" >Subnet</th>\n",
       "      <th id=\"T_6ffd9_level0_col6\" class=\"col_heading level0 col6\" >Gateway</th>\n",
       "      <th id=\"T_6ffd9_level0_col7\" class=\"col_heading level0 col7\" >State</th>\n",
       "      <th id=\"T_6ffd9_level0_col8\" class=\"col_heading level0 col8\" >Error</th>\n",
       "    </tr>\n",
       "  </thead>\n",
       "  <tbody>\n",
       "    <tr>\n",
       "      <td id=\"T_6ffd9_row0_col0\" class=\"data row0 col0\" >8c9c598b-0e41-4e59-8d51-964af58b8427</td>\n",
       "      <td id=\"T_6ffd9_row0_col1\" class=\"data row0 col1\" >net1</td>\n",
       "      <td id=\"T_6ffd9_row0_col2\" class=\"data row0 col2\" >L3</td>\n",
       "      <td id=\"T_6ffd9_row0_col3\" class=\"data row0 col3\" >FABNetv4</td>\n",
       "      <td id=\"T_6ffd9_row0_col4\" class=\"data row0 col4\" >UTAH</td>\n",
       "      <td id=\"T_6ffd9_row0_col5\" class=\"data row0 col5\" >10.132.1.0/24</td>\n",
       "      <td id=\"T_6ffd9_row0_col6\" class=\"data row0 col6\" >10.132.1.1</td>\n",
       "      <td id=\"T_6ffd9_row0_col7\" class=\"data row0 col7\" >Active</td>\n",
       "      <td id=\"T_6ffd9_row0_col8\" class=\"data row0 col8\" ></td>\n",
       "    </tr>\n",
       "  </tbody>\n",
       "</table>\n"
      ],
      "text/plain": [
       "<pandas.io.formats.style.Styler at 0x7f280c300f40>"
      ]
     },
     "metadata": {},
     "output_type": "display_data"
    },
    {
     "data": {
      "text/html": [
       "<style type=\"text/css\">\n",
       "#T_97203 caption {\n",
       "  text-align: center;\n",
       "  font-size: 150%;\n",
       "  caption-side: top;\n",
       "}\n",
       "#T_97203 th {\n",
       "  text-align: left;\n",
       "}\n",
       "#T_97203 tr:nth-child(even) {\n",
       "  background: #ffffff;\n",
       "  color: #231f20;\n",
       "}\n",
       "#T_97203 tr:nth-child(odd) {\n",
       "  background: #dbf3ff;\n",
       "  color: #231f20;\n",
       "}\n",
       "#T_97203 .level0 {\n",
       "  border: 1px black solid !important;\n",
       "  background: #ffffff;\n",
       "  color: #231f20;\n",
       "}\n",
       "#T_97203_row0_col0, #T_97203_row0_col1, #T_97203_row0_col2, #T_97203_row0_col3, #T_97203_row0_col4, #T_97203_row0_col5, #T_97203_row0_col6, #T_97203_row0_col7, #T_97203_row0_col8, #T_97203_row0_col9, #T_97203_row0_col10, #T_97203_row0_col11 {\n",
       "  text-align: left;\n",
       "  border: 1px #231f20 solid !important;\n",
       "  overwrite: False;\n",
       "}\n",
       "</style>\n",
       "<table id=\"T_97203\">\n",
       "  <caption>Interfaces</caption>\n",
       "  <thead>\n",
       "    <tr>\n",
       "      <th id=\"T_97203_level0_col0\" class=\"col_heading level0 col0\" >Name</th>\n",
       "      <th id=\"T_97203_level0_col1\" class=\"col_heading level0 col1\" >Short Name</th>\n",
       "      <th id=\"T_97203_level0_col2\" class=\"col_heading level0 col2\" >Node</th>\n",
       "      <th id=\"T_97203_level0_col3\" class=\"col_heading level0 col3\" >Network</th>\n",
       "      <th id=\"T_97203_level0_col4\" class=\"col_heading level0 col4\" >Bandwidth</th>\n",
       "      <th id=\"T_97203_level0_col5\" class=\"col_heading level0 col5\" >Mode</th>\n",
       "      <th id=\"T_97203_level0_col6\" class=\"col_heading level0 col6\" >VLAN</th>\n",
       "      <th id=\"T_97203_level0_col7\" class=\"col_heading level0 col7\" >MAC</th>\n",
       "      <th id=\"T_97203_level0_col8\" class=\"col_heading level0 col8\" >Physical Device</th>\n",
       "      <th id=\"T_97203_level0_col9\" class=\"col_heading level0 col9\" >Device</th>\n",
       "      <th id=\"T_97203_level0_col10\" class=\"col_heading level0 col10\" >IP Address</th>\n",
       "      <th id=\"T_97203_level0_col11\" class=\"col_heading level0 col11\" >Numa Node</th>\n",
       "    </tr>\n",
       "  </thead>\n",
       "  <tbody>\n",
       "    <tr>\n",
       "      <td id=\"T_97203_row0_col0\" class=\"data row0 col0\" >data-backup-nic1-p1</td>\n",
       "      <td id=\"T_97203_row0_col1\" class=\"data row0 col1\" >p1</td>\n",
       "      <td id=\"T_97203_row0_col2\" class=\"data row0 col2\" >data-backup</td>\n",
       "      <td id=\"T_97203_row0_col3\" class=\"data row0 col3\" >net1</td>\n",
       "      <td id=\"T_97203_row0_col4\" class=\"data row0 col4\" >100</td>\n",
       "      <td id=\"T_97203_row0_col5\" class=\"data row0 col5\" >config</td>\n",
       "      <td id=\"T_97203_row0_col6\" class=\"data row0 col6\" ></td>\n",
       "      <td id=\"T_97203_row0_col7\" class=\"data row0 col7\" >02:AE:BD:22:D3:D3</td>\n",
       "      <td id=\"T_97203_row0_col8\" class=\"data row0 col8\" >ens7</td>\n",
       "      <td id=\"T_97203_row0_col9\" class=\"data row0 col9\" >ens7</td>\n",
       "      <td id=\"T_97203_row0_col10\" class=\"data row0 col10\" >None</td>\n",
       "      <td id=\"T_97203_row0_col11\" class=\"data row0 col11\" >4</td>\n",
       "    </tr>\n",
       "  </tbody>\n",
       "</table>\n"
      ],
      "text/plain": [
       "<pandas.io.formats.style.Styler at 0x7f280c3c1cd0>"
      ]
     },
     "metadata": {},
     "output_type": "display_data"
    },
    {
     "name": "stdout",
     "output_type": "stream",
     "text": [
      "\n",
      "Time to print interfaces 267 seconds\n",
      "backup-testing creation done.\n",
      "CPU times: user 2.62 s, sys: 61.5 ms, total: 2.68 s\n",
      "Wall time: 4min 26s\n"
     ]
    }
   ],
   "source": [
    "%%time\n",
    "try:\n",
    "    # Submit Slice Request\n",
    "    print(f'Submitting the new slice, \"{slice_name}\"...')\n",
    "    slice.submit(wait_interval=60)\n",
    "    print(f'{slice_name} creation done.')\n",
    "\n",
    "except Exception as e:\n",
    "    print(f\"Slice Fail: {e}\")\n",
    "    traceback.print_exc()"
   ]
  },
  {
   "cell_type": "markdown",
   "id": "89204c27-cb5c-4676-b73f-7d15063a5920",
   "metadata": {
    "tags": []
   },
   "source": [
    "#### View node information"
   ]
  },
  {
   "cell_type": "code",
   "execution_count": 5,
   "id": "b27fbb4a-7550-40ba-b31d-8e2e90b191ae",
   "metadata": {},
   "outputs": [
    {
     "name": "stdout",
     "output_type": "stream",
     "text": [
      "-----------------  -----------------------------------------------------------------------------------------------------------------------------------------\n",
      "ID                 6f371463-1934-49d8-a4f3-6148566bca96\n",
      "Name               data-backup\n",
      "Cores              2\n",
      "RAM                8\n",
      "Disk               100\n",
      "Image              docker_ubuntu_20\n",
      "Image Type         qcow2\n",
      "Host               utah-w5.fabric-testbed.net\n",
      "Site               UTAH\n",
      "Management IP      2001:1948:417:7:f816:3eff:fe68:ddec\n",
      "Reservation State  Active\n",
      "Error Message\n",
      "SSH Command        ssh -i /home/fabric/work/fabric_config/slice_key -F /home/fabric/work/fabric_config/ssh_config ubuntu@2001:1948:417:7:f816:3eff:fe68:ddec\n",
      "-----------------  -----------------------------------------------------------------------------------------------------------------------------------------\n"
     ]
    }
   ],
   "source": [
    "try:\n",
    "    node = slice.get_node(node1_name) \n",
    "    print(f\"{node}\")\n",
    "    \n",
    "except Exception as e:\n",
    "    print(f\"Exception: {e}\")"
   ]
  },
  {
   "cell_type": "markdown",
   "id": "a25e2796-994a-49c3-bda1-1a51f8c82541",
   "metadata": {
    "tags": []
   },
   "source": [
    "-----\n",
    "# Slice Setup Is Complete   \n",
    "\n",
    "#### Choose a collection software to setup on your slice and import your data\n",
    "- [ELK Stack](./elk_import_non_mf.ipynb)  \n",
    "- [Prometheus and Grafana](./import_elk_to_non_mf_slice.ipynb)  \n",
    "-----"
   ]
  },
  {
   "cell_type": "markdown",
   "id": "1f801c1f-7635-4eaa-8872-686d07b3f214",
   "metadata": {},
   "source": [
    "#### Optionally, extend slice duration"
   ]
  },
  {
   "cell_type": "code",
   "execution_count": null,
   "id": "d5e6aea2-8c0f-4c2b-8794-0a89bd49d51c",
   "metadata": {},
   "outputs": [],
   "source": [
    "import datetime\n",
    "\n",
    "\n",
    "#Extend slice\n",
    "end_date = (datetime.datetime.now().astimezone() + datetime.timedelta(days=7)).strftime(\"%Y-%m-%d %H:%M:%S %z\")\n",
    "\n",
    "try:\n",
    "    slice = fablib.get_slice(name=slice_name)\n",
    "    slice.renew(end_date)\n",
    "except Exception as e:\n",
    "    print(f\"Exception: {e}\")"
   ]
  },
  {
   "cell_type": "code",
   "execution_count": null,
   "id": "cf2f70cf-b04e-427c-940b-951d3ba41ec4",
   "metadata": {},
   "outputs": [],
   "source": []
  }
 ],
 "metadata": {
  "kernelspec": {
   "display_name": "Python 3 (ipykernel)",
   "language": "python",
   "name": "python3"
  },
  "language_info": {
   "codemirror_mode": {
    "name": "ipython",
    "version": 3
   },
   "file_extension": ".py",
   "mimetype": "text/x-python",
   "name": "python",
   "nbconvert_exporter": "python",
   "pygments_lexer": "ipython3",
   "version": "3.9.7"
  }
 },
 "nbformat": 4,
 "nbformat_minor": 5
}

{
 "cells": [
  {
   "cell_type": "markdown",
   "id": "c839a13a-e892-46d2-8ab7-03ea8d7108c9",
   "metadata": {
    "tags": []
   },
   "source": [
    "# Import ELK Snapshots onto a Fabric slice"
   ]
  },
  {
   "cell_type": "markdown",
   "id": "ca35221e-efa2-4fce-8e99-34c0c8f3e21b",
   "metadata": {
    "tags": []
   },
   "source": [
    "### Prerequisite\n",
    "- A running fabric slice (For example: [Create single node backup Slice](./create_single_node_backup.ipynb))\n",
    "- An ELK snapshot tar file to import"
   ]
  },
  {
   "cell_type": "markdown",
   "id": "55b9b0a3-b21c-45e5-a0dc-e3d8a38707cd",
   "metadata": {
    "tags": []
   },
   "source": [
    "#### General Imports"
   ]
  },
  {
   "cell_type": "code",
   "execution_count": null,
   "id": "83b00f77-9c48-4ca9-bfb6-95acd58c4d2e",
   "metadata": {},
   "outputs": [],
   "source": [
    "from fabrictestbed_extensions.fablib.fablib import FablibManager as fablib_manager\n",
    "try:\n",
    "    fablib = fablib_manager()                \n",
    "except Exception as e:\n",
    "    print(f\"Exception: {e}\")"
   ]
  },
  {
   "cell_type": "markdown",
   "id": "8dfeece6-a41a-400f-a77c-58430630a080",
   "metadata": {
    "tags": []
   },
   "source": [
    "#### Get your slice information\n",
    "*Set slice_name and node_name below before running*"
   ]
  },
  {
   "cell_type": "code",
   "execution_count": null,
   "id": "2a319e4d-cd46-4fe2-95b4-1def438dfb65",
   "metadata": {},
   "outputs": [],
   "source": [
    "slice_name='backup-testing'\n",
    "node_name='data-backup'\n",
    "\n",
    "\n",
    "slice = fablib.get_slice(name=slice_name)\n",
    "slice.show();\n",
    "node = slice.get_node(name=node_name)\n",
    "node.show();"
   ]
  },
  {
   "cell_type": "markdown",
   "id": "c66d53b9-8fdd-4362-8163-896f75c7bfbf",
   "metadata": {},
   "source": [
    "#### Import ELK import/export service tools"
   ]
  },
  {
   "cell_type": "code",
   "execution_count": null,
   "id": "5dc9e15e-632f-45c0-a8a1-2d50abc728c4",
   "metadata": {},
   "outputs": [],
   "source": [
    "from mflib.data_transfer import elk_service\n",
    "elk_tools = elk_import_service(slice_name=slice_name, node_name=node_name)"
   ]
  },
  {
   "cell_type": "markdown",
   "id": "f55a8556-8f63-4df2-bfb0-4fef4bf07245",
   "metadata": {
    "tags": []
   },
   "source": [
    "# Instructions to start ELK and import your snapshot data\n",
    "\n",
    "#### Ensure Docker and Docker-Compose are installed on the node"
   ]
  },
  {
   "cell_type": "code",
   "execution_count": null,
   "id": "0e3da0f8-e84e-4f22-8124-2b725af20cfc",
   "metadata": {},
   "outputs": [],
   "source": [
    "elk_tools.install_docker()"
   ]
  },
  {
   "cell_type": "markdown",
   "id": "bafd1ae0-5bbe-417d-9c5e-473ef27f98c4",
   "metadata": {
    "tags": []
   },
   "source": [
    "#### Set up NAT64 Server\n",
    "We need to do this step so that we can clone the Github repo with our docker app."
   ]
  },
  {
   "cell_type": "code",
   "execution_count": null,
   "id": "8bba344a-62d1-47e8-b6a3-48357e564eec",
   "metadata": {},
   "outputs": [],
   "source": [
    "elk_tools.setup_nat64(node_name)"
   ]
  },
  {
   "cell_type": "markdown",
   "id": "0fa3a4c3-611c-492c-9654-b03da34cc9a6",
   "metadata": {
    "tags": []
   },
   "source": [
    "### Create docker container and import your data"
   ]
  },
  {
   "cell_type": "markdown",
   "id": "dc9c9fc4-dcd9-436b-9f83-537539e1d8b3",
   "metadata": {},
   "source": [
    "#### Clone Docker App Repository\n",
    "Clones https://github.com/jackhancockuky/elk-docker-container.git to your docker container.\n",
    "This repository contains a docker-compose app which will allow you to automatically set up Elastic Search and Kibana on your node."
   ]
  },
  {
   "cell_type": "code",
   "execution_count": null,
   "id": "9e5c36ef-4d22-4948-ac8b-85c415d06795",
   "metadata": {},
   "outputs": [],
   "source": [
    "elk_tools.clone_repository()"
   ]
  },
  {
   "cell_type": "markdown",
   "id": "09a80b2e-e4ae-4304-bf51-e260e038988e",
   "metadata": {
    "tags": []
   },
   "source": [
    "#### Upload a snapshot file into ELK"
   ]
  },
  {
   "cell_type": "code",
   "execution_count": null,
   "id": "a4810193-3dbf-446a-8c52-69dff1910cf5",
   "metadata": {},
   "outputs": [],
   "source": [
    "# Enter your elk snapshot tar file name (must be in data_transfer_service/snapshots directory)\n",
    "snapshot_tar_name = \"elk_backup_2.tar\"\n",
    "\n",
    "# 1. Uploads TAR file to your node\n",
    "# 2. Untars data and places inside ELK's shared docker volume\n",
    "elk_tools.import_snapshot(snapshot_tar_name)"
   ]
  },
  {
   "cell_type": "markdown",
   "id": "3a78a1da-14ea-47fc-adc3-4aff40cab44d",
   "metadata": {},
   "source": [
    "#### Start the docker compose app"
   ]
  },
  {
   "cell_type": "code",
   "execution_count": null,
   "id": "f5474159-69cd-4ee1-adb2-0e3a124d9f12",
   "metadata": {},
   "outputs": [],
   "source": [
    "elk_tools.start_docker()"
   ]
  },
  {
   "cell_type": "markdown",
   "id": "7c3ee960-56a9-495f-8a29-f5cb8bf94c06",
   "metadata": {},
   "source": [
    "#### Register the repository"
   ]
  },
  {
   "cell_type": "code",
   "execution_count": null,
   "id": "0c7d1c3e-35fe-46c6-a275-b19ca6ace306",
   "metadata": {},
   "outputs": [],
   "source": [
    "# Choose a name for the repository your snapshot will be imported into or keep as default\n",
    "repository_name = \"imported_repository\"\n",
    "\n",
    "elk_tools.register_repository(repository_name)"
   ]
  },
  {
   "cell_type": "markdown",
   "id": "eaaab143-e8a3-4ac0-8e00-a6846f53deda",
   "metadata": {},
   "source": [
    "#### View repository after registration"
   ]
  },
  {
   "cell_type": "code",
   "execution_count": null,
   "id": "0ef1d074-691d-4638-b1ed-11ee33091ee8",
   "metadata": {},
   "outputs": [],
   "source": [
    "elk_tools.view_repository(\"imported_repository\")"
   ]
  },
  {
   "cell_type": "markdown",
   "id": "0ecf14b8-a09c-411a-b128-9d50e0912b20",
   "metadata": {},
   "source": [
    "#### Delete all indices and restore snapshot (replace snapshot name and change index list if you want to customize)"
   ]
  },
  {
   "cell_type": "code",
   "execution_count": null,
   "id": "4870a1ac-adcc-44ed-8eef-1632f4d73523",
   "metadata": {},
   "outputs": [],
   "source": [
    "repository_name = \"imported_repository\"\n",
    "snapshot_name = \"snapshot_test\"\n",
    "\n",
    "elk_tools.restore_snapshot(repository_name, snapshot_name)"
   ]
  },
  {
   "cell_type": "markdown",
   "id": "fc98430d-01d7-4e24-ab14-43609a717951",
   "metadata": {},
   "source": [
    "### Your data is now imported on the node."
   ]
  },
  {
   "cell_type": "markdown",
   "id": "152ed58e-4442-48e2-8f4e-a5e26a12f251",
   "metadata": {},
   "source": [
    "----\n",
    "### View the index list"
   ]
  },
  {
   "cell_type": "code",
   "execution_count": null,
   "id": "724ca7bf-fabe-48dd-b664-9f53f1adafd9",
   "metadata": {},
   "outputs": [],
   "source": [
    "elk_tools.view_indices()"
   ]
  },
  {
   "cell_type": "markdown",
   "id": "bbe76cd6-18bd-4d7a-b7eb-a6ced9e424d3",
   "metadata": {
    "tags": []
   },
   "source": [
    "----\n",
    "### View data from Kibana"
   ]
  },
  {
   "cell_type": "markdown",
   "id": "31338427-bd19-4ce8-a287-ada885fc88ad",
   "metadata": {},
   "source": [
    "#### On your local terminal create a tunnel with:\n",
    "\n",
    "'ssh -L 10030:localhost:5601 -F ssh_config -i slice_key ubuntu@{node_ip}'\n",
    "\n",
    "#### Then go to http://localhost:10030\n",
    "----"
   ]
  },
  {
   "cell_type": "markdown",
   "id": "4f132c40-bcfb-4978-bff0-17358e1d756f",
   "metadata": {
    "tags": []
   },
   "source": [
    "### To reuse slice with new data (if you are done then just delete the slice)\n",
    "#### Take down container and remove data"
   ]
  },
  {
   "cell_type": "code",
   "execution_count": null,
   "id": "8ef9bc67-8437-4d89-99bc-8a578daffd63",
   "metadata": {},
   "outputs": [],
   "source": [
    "#elk_tools.stop_docker()\n",
    "#elk_tools.remove_data()"
   ]
  },
  {
   "cell_type": "markdown",
   "id": "357ec5a8-b253-4369-a1cc-4d1be8691ca1",
   "metadata": {},
   "source": [
    "#### Rerun steps starting from *Create Docker container and import your data*"
   ]
  }
 ],
 "metadata": {
  "kernelspec": {
   "display_name": "Python 3 (ipykernel)",
   "language": "python",
   "name": "python3"
  },
  "language_info": {
   "codemirror_mode": {
    "name": "ipython",
    "version": 3
   },
   "file_extension": ".py",
   "mimetype": "text/x-python",
   "name": "python",
   "nbconvert_exporter": "python",
   "pygments_lexer": "ipython3",
   "version": "3.9.7"
  }
 },
 "nbformat": 4,
 "nbformat_minor": 5
}

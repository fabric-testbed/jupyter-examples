{
 "cells": [
  {
   "cell_type": "markdown",
   "id": "c839a13a-e892-46d2-8ab7-03ea8d7108c9",
   "metadata": {
    "tags": []
   },
   "source": [
    "# Import ELK Snapshots onto a Fabric slice"
   ]
  },
  {
   "cell_type": "markdown",
   "id": "ca35221e-efa2-4fce-8e99-34c0c8f3e21b",
   "metadata": {
    "tags": []
   },
   "source": [
    "### Prerequisite\n",
    "- A running fabric slice (For example: [Create single node backup Slice](./create_single_node_backup.ipynb))\n",
    "- An ELK snapshot tar file to import"
   ]
  },
  {
   "cell_type": "markdown",
   "id": "55b9b0a3-b21c-45e5-a0dc-e3d8a38707cd",
   "metadata": {
    "tags": []
   },
   "source": [
    "#### General Imports"
   ]
  },
  {
   "cell_type": "code",
   "execution_count": 2,
   "id": "83b00f77-9c48-4ca9-bfb6-95acd58c4d2e",
   "metadata": {},
   "outputs": [],
   "source": [
    "from fabrictestbed_extensions.fablib.fablib import FablibManager as fablib_manager\n",
    "try:\n",
    "    fablib = fablib_manager()                \n",
    "except Exception as e:\n",
    "    print(f\"Exception: {e}\")"
   ]
  },
  {
   "cell_type": "markdown",
   "id": "8dfeece6-a41a-400f-a77c-58430630a080",
   "metadata": {
    "tags": []
   },
   "source": [
    "#### Get your slice information\n",
    "*Set slice_name and node_name below before running*"
   ]
  },
  {
   "cell_type": "code",
   "execution_count": 3,
   "id": "2a319e4d-cd46-4fe2-95b4-1def438dfb65",
   "metadata": {},
   "outputs": [
    {
     "data": {
      "text/html": [
       "<style type=\"text/css\">\n",
       "#T_ce44e tr:nth-child(even) {\n",
       "  background: #dbf3ff;\n",
       "  color: #231f20;\n",
       "}\n",
       "#T_ce44e tr:nth-child(odd) {\n",
       "  background: #ffffff;\n",
       "  color: #231f20;\n",
       "}\n",
       "#T_ce44e caption {\n",
       "  text-align: center;\n",
       "  font-size: 150%;\n",
       "}\n",
       "#T_ce44e_row0_col0, #T_ce44e_row0_col1, #T_ce44e_row1_col0, #T_ce44e_row1_col1, #T_ce44e_row2_col0, #T_ce44e_row2_col1, #T_ce44e_row3_col0, #T_ce44e_row3_col1, #T_ce44e_row4_col0, #T_ce44e_row4_col1, #T_ce44e_row5_col0, #T_ce44e_row5_col1 {\n",
       "  text-align: left;\n",
       "  border: 1px #231f20 solid !important;\n",
       "  overwrite: False;\n",
       "}\n",
       "</style>\n",
       "<table id=\"T_ce44e\">\n",
       "  <caption>Slice</caption>\n",
       "  <thead>\n",
       "  </thead>\n",
       "  <tbody>\n",
       "    <tr>\n",
       "      <td id=\"T_ce44e_row0_col0\" class=\"data row0 col0\" >ID</td>\n",
       "      <td id=\"T_ce44e_row0_col1\" class=\"data row0 col1\" >1858a90f-7dd1-4616-95f6-7752a5272da3</td>\n",
       "    </tr>\n",
       "    <tr>\n",
       "      <td id=\"T_ce44e_row1_col0\" class=\"data row1 col0\" >Name</td>\n",
       "      <td id=\"T_ce44e_row1_col1\" class=\"data row1 col1\" >backup-testing</td>\n",
       "    </tr>\n",
       "    <tr>\n",
       "      <td id=\"T_ce44e_row2_col0\" class=\"data row2 col0\" >Lease Expiration (UTC)</td>\n",
       "      <td id=\"T_ce44e_row2_col1\" class=\"data row2 col1\" >2023-07-25 00:04:09 +0000</td>\n",
       "    </tr>\n",
       "    <tr>\n",
       "      <td id=\"T_ce44e_row3_col0\" class=\"data row3 col0\" >Lease Start (UTC)</td>\n",
       "      <td id=\"T_ce44e_row3_col1\" class=\"data row3 col1\" >2023-07-17 23:59:34 +0000</td>\n",
       "    </tr>\n",
       "    <tr>\n",
       "      <td id=\"T_ce44e_row4_col0\" class=\"data row4 col0\" >Project ID</td>\n",
       "      <td id=\"T_ce44e_row4_col1\" class=\"data row4 col1\" >6b76128d-c73f-431f-a245-0397586a7d40</td>\n",
       "    </tr>\n",
       "    <tr>\n",
       "      <td id=\"T_ce44e_row5_col0\" class=\"data row5 col0\" >State</td>\n",
       "      <td id=\"T_ce44e_row5_col1\" class=\"data row5 col1\" >StableOK</td>\n",
       "    </tr>\n",
       "  </tbody>\n",
       "</table>\n"
      ],
      "text/plain": [
       "<pandas.io.formats.style.Styler at 0x7f11b48bea30>"
      ]
     },
     "metadata": {},
     "output_type": "display_data"
    },
    {
     "data": {
      "text/html": [
       "<style type=\"text/css\">\n",
       "#T_6db5b tr:nth-child(even) {\n",
       "  background: #dbf3ff;\n",
       "  color: #231f20;\n",
       "}\n",
       "#T_6db5b tr:nth-child(odd) {\n",
       "  background: #ffffff;\n",
       "  color: #231f20;\n",
       "}\n",
       "#T_6db5b caption {\n",
       "  text-align: center;\n",
       "  font-size: 150%;\n",
       "}\n",
       "#T_6db5b_row0_col0, #T_6db5b_row0_col1, #T_6db5b_row1_col0, #T_6db5b_row1_col1, #T_6db5b_row2_col0, #T_6db5b_row2_col1, #T_6db5b_row3_col0, #T_6db5b_row3_col1, #T_6db5b_row4_col0, #T_6db5b_row4_col1, #T_6db5b_row5_col0, #T_6db5b_row5_col1, #T_6db5b_row6_col0, #T_6db5b_row6_col1, #T_6db5b_row7_col0, #T_6db5b_row7_col1, #T_6db5b_row8_col0, #T_6db5b_row8_col1, #T_6db5b_row9_col0, #T_6db5b_row9_col1, #T_6db5b_row10_col0, #T_6db5b_row10_col1, #T_6db5b_row11_col0, #T_6db5b_row11_col1, #T_6db5b_row12_col0, #T_6db5b_row12_col1, #T_6db5b_row13_col0, #T_6db5b_row13_col1, #T_6db5b_row14_col0, #T_6db5b_row14_col1, #T_6db5b_row15_col0, #T_6db5b_row15_col1 {\n",
       "  text-align: left;\n",
       "  border: 1px #231f20 solid !important;\n",
       "  overwrite: False;\n",
       "}\n",
       "</style>\n",
       "<table id=\"T_6db5b\">\n",
       "  <caption>Node</caption>\n",
       "  <thead>\n",
       "  </thead>\n",
       "  <tbody>\n",
       "    <tr>\n",
       "      <td id=\"T_6db5b_row0_col0\" class=\"data row0 col0\" >ID</td>\n",
       "      <td id=\"T_6db5b_row0_col1\" class=\"data row0 col1\" >45245312-911c-47ad-8002-99a8a3356173</td>\n",
       "    </tr>\n",
       "    <tr>\n",
       "      <td id=\"T_6db5b_row1_col0\" class=\"data row1 col0\" >Name</td>\n",
       "      <td id=\"T_6db5b_row1_col1\" class=\"data row1 col1\" >data-backup</td>\n",
       "    </tr>\n",
       "    <tr>\n",
       "      <td id=\"T_6db5b_row2_col0\" class=\"data row2 col0\" >Cores</td>\n",
       "      <td id=\"T_6db5b_row2_col1\" class=\"data row2 col1\" >2</td>\n",
       "    </tr>\n",
       "    <tr>\n",
       "      <td id=\"T_6db5b_row3_col0\" class=\"data row3 col0\" >RAM</td>\n",
       "      <td id=\"T_6db5b_row3_col1\" class=\"data row3 col1\" >8</td>\n",
       "    </tr>\n",
       "    <tr>\n",
       "      <td id=\"T_6db5b_row4_col0\" class=\"data row4 col0\" >Disk</td>\n",
       "      <td id=\"T_6db5b_row4_col1\" class=\"data row4 col1\" >100</td>\n",
       "    </tr>\n",
       "    <tr>\n",
       "      <td id=\"T_6db5b_row5_col0\" class=\"data row5 col0\" >Image</td>\n",
       "      <td id=\"T_6db5b_row5_col1\" class=\"data row5 col1\" >docker_ubuntu_20</td>\n",
       "    </tr>\n",
       "    <tr>\n",
       "      <td id=\"T_6db5b_row6_col0\" class=\"data row6 col0\" >Image Type</td>\n",
       "      <td id=\"T_6db5b_row6_col1\" class=\"data row6 col1\" >qcow2</td>\n",
       "    </tr>\n",
       "    <tr>\n",
       "      <td id=\"T_6db5b_row7_col0\" class=\"data row7 col0\" >Host</td>\n",
       "      <td id=\"T_6db5b_row7_col1\" class=\"data row7 col1\" >cern-w5.fabric-testbed.net</td>\n",
       "    </tr>\n",
       "    <tr>\n",
       "      <td id=\"T_6db5b_row8_col0\" class=\"data row8 col0\" >Site</td>\n",
       "      <td id=\"T_6db5b_row8_col1\" class=\"data row8 col1\" >CERN</td>\n",
       "    </tr>\n",
       "    <tr>\n",
       "      <td id=\"T_6db5b_row9_col0\" class=\"data row9 col0\" >Username</td>\n",
       "      <td id=\"T_6db5b_row9_col1\" class=\"data row9 col1\" >ubuntu</td>\n",
       "    </tr>\n",
       "    <tr>\n",
       "      <td id=\"T_6db5b_row10_col0\" class=\"data row10 col0\" >Management IP</td>\n",
       "      <td id=\"T_6db5b_row10_col1\" class=\"data row10 col1\" >2001:400:a100:3090:f816:3eff:fe14:5ed8</td>\n",
       "    </tr>\n",
       "    <tr>\n",
       "      <td id=\"T_6db5b_row11_col0\" class=\"data row11 col0\" >State</td>\n",
       "      <td id=\"T_6db5b_row11_col1\" class=\"data row11 col1\" >Active</td>\n",
       "    </tr>\n",
       "    <tr>\n",
       "      <td id=\"T_6db5b_row12_col0\" class=\"data row12 col0\" >Error</td>\n",
       "      <td id=\"T_6db5b_row12_col1\" class=\"data row12 col1\" ></td>\n",
       "    </tr>\n",
       "    <tr>\n",
       "      <td id=\"T_6db5b_row13_col0\" class=\"data row13 col0\" >SSH Command</td>\n",
       "      <td id=\"T_6db5b_row13_col1\" class=\"data row13 col1\" >ssh -i /home/fabric/work/fabric_config/slice_key -F /home/fabric/work/fabric_config/ssh_config ubuntu@2001:400:a100:3090:f816:3eff:fe14:5ed8</td>\n",
       "    </tr>\n",
       "    <tr>\n",
       "      <td id=\"T_6db5b_row14_col0\" class=\"data row14 col0\" >Public SSH Key File</td>\n",
       "      <td id=\"T_6db5b_row14_col1\" class=\"data row14 col1\" >/home/fabric/work/fabric_config/slice_key.pub</td>\n",
       "    </tr>\n",
       "    <tr>\n",
       "      <td id=\"T_6db5b_row15_col0\" class=\"data row15 col0\" >Private SSH Key File</td>\n",
       "      <td id=\"T_6db5b_row15_col1\" class=\"data row15 col1\" >/home/fabric/work/fabric_config/slice_key</td>\n",
       "    </tr>\n",
       "  </tbody>\n",
       "</table>\n"
      ],
      "text/plain": [
       "<pandas.io.formats.style.Styler at 0x7f11ac790c40>"
      ]
     },
     "metadata": {},
     "output_type": "display_data"
    }
   ],
   "source": [
    "slice_name='backup-testing'\n",
    "node_name='data-backup'\n",
    "\n",
    "\n",
    "slice = fablib.get_slice(name=slice_name)\n",
    "slice.show();\n",
    "node = slice.get_node(name=node_name)\n",
    "node.show();"
   ]
  },
  {
   "cell_type": "markdown",
   "id": "c66d53b9-8fdd-4362-8163-896f75c7bfbf",
   "metadata": {},
   "source": [
    "#### Import ELK import/export service tools"
   ]
  },
  {
   "cell_type": "code",
   "execution_count": 4,
   "id": "5dc9e15e-632f-45c0-a8a1-2d50abc728c4",
   "metadata": {},
   "outputs": [],
   "source": [
    "from mflib.data_transfer import elk_service\n",
    "elk_tools = elk_import_service(slice_name=slice_name, node_name=node_name)"
   ]
  },
  {
   "cell_type": "markdown",
   "id": "f55a8556-8f63-4df2-bfb0-4fef4bf07245",
   "metadata": {
    "tags": []
   },
   "source": [
    "# Instructions to start ELK and import your snapshot data\n",
    "\n",
    "#### Ensure Docker and Docker-Compose are installed on the node"
   ]
  },
  {
   "cell_type": "code",
   "execution_count": 9,
   "id": "0e3da0f8-e84e-4f22-8124-2b725af20cfc",
   "metadata": {},
   "outputs": [
    {
     "name": "stdout",
     "output_type": "stream",
     "text": [
      "Hit:1 http://nova.clouds.archive.ubuntu.com/ubuntu focal InRelease\n",
      "Get:2 http://security.ubuntu.com/ubuntu focal-security InRelease [114 kB]\n",
      "Get:3 http://nova.clouds.archive.ubuntu.com/ubuntu focal-updates InRelease [114 kB]\n",
      "Get:4 http://nova.clouds.archive.ubuntu.com/ubuntu focal-backports InRelease [108 kB]\n",
      "Fetched 336 kB in 1s (312 kB/s)\n",
      "Reading package lists...\n",
      "Reading package lists...\n",
      "Building dependency tree...\n",
      "Reading state information...\n",
      "docker is already the newest version (1.5-2).\n",
      "0 upgraded, 0 newly installed, 0 to remove and 126 not upgraded.\n",
      "Reading package lists...\n",
      "Building dependency tree...\n",
      "Reading state information...\n",
      "docker-compose is already the newest version (1.25.0-1).\n",
      "0 upgraded, 0 newly installed, 0 to remove and 126 not upgraded.\n",
      "Docker version 23.0.4, build f480fb1\n",
      "docker-compose version 1.25.0, build unknown\n"
     ]
    }
   ],
   "source": [
    "elk_tools.install_docker()"
   ]
  },
  {
   "cell_type": "markdown",
   "id": "bafd1ae0-5bbe-417d-9c5e-473ef27f98c4",
   "metadata": {
    "tags": []
   },
   "source": [
    "#### Set up NAT64 Server\n",
    "We need to do this step so that we can clone the Github repo with our docker app."
   ]
  },
  {
   "cell_type": "code",
   "execution_count": 10,
   "id": "8bba344a-62d1-47e8-b6a3-48357e564eec",
   "metadata": {},
   "outputs": [],
   "source": [
    "elk_tools.setup_nat64(node_name)"
   ]
  },
  {
   "cell_type": "markdown",
   "id": "0fa3a4c3-611c-492c-9654-b03da34cc9a6",
   "metadata": {
    "tags": []
   },
   "source": [
    "### Create docker container and import your data"
   ]
  },
  {
   "cell_type": "markdown",
   "id": "dc9c9fc4-dcd9-436b-9f83-537539e1d8b3",
   "metadata": {},
   "source": [
    "#### Clone Docker App Repository\n",
    "Clones https://github.com/jackhancockuky/elk-docker-container.git to your docker container.\n",
    "This repository contains a docker-compose app which will allow you to automatically set up Elastic Search and Kibana on your node."
   ]
  },
  {
   "cell_type": "code",
   "execution_count": null,
   "id": "9e5c36ef-4d22-4948-ac8b-85c415d06795",
   "metadata": {},
   "outputs": [],
   "source": [
    "elk_tools.clone_repository()"
   ]
  },
  {
   "cell_type": "markdown",
   "id": "09a80b2e-e4ae-4304-bf51-e260e038988e",
   "metadata": {
    "tags": []
   },
   "source": [
    "#### Upload a snapshot file into ELK"
   ]
  },
  {
   "cell_type": "code",
   "execution_count": 4,
   "id": "a4810193-3dbf-446a-8c52-69dff1910cf5",
   "metadata": {},
   "outputs": [
    {
     "name": "stdout",
     "output_type": "stream",
     "text": [
      "Creating imported_data directory..\n",
      "Moving snapshot file..\n",
      "Untarring snapshot data into shared docker volume..\n",
      "_data/\n",
      "_data/snap-nx1kMYKkQNqbsfCL5iRLMg.dat\n",
      "_data/meta-nx1kMYKkQNqbsfCL5iRLMg.dat\n",
      "_data/indices/\n",
      "_data/indices/z2E3XWORRIyAbx-Dr3w8lw/\n",
      "_data/indices/z2E3XWORRIyAbx-Dr3w8lw/0/\n",
      "_data/indices/z2E3XWORRIyAbx-Dr3w8lw/0/snap-nx1kMYKkQNqbsfCL5iRLMg.dat\n",
      "_data/indices/z2E3XWORRIyAbx-Dr3w8lw/0/snap-zLt1yM6tRmmMpnqxZMjj2A.dat\n",
      "_data/indices/z2E3XWORRIyAbx-Dr3w8lw/0/index-qFWoddmvTICVl6YnJYEgWw\n",
      "_data/indices/z2E3XWORRIyAbx-Dr3w8lw/meta-Dbibi4gBMQKlzNGxJMF-.dat\n",
      "_data/indices/16fzAGeARxaEMOT80y3Xrw/\n",
      "_data/indices/16fzAGeARxaEMOT80y3Xrw/0/\n",
      "_data/indices/16fzAGeARxaEMOT80y3Xrw/0/snap-nx1kMYKkQNqbsfCL5iRLMg.dat\n",
      "_data/indices/16fzAGeARxaEMOT80y3Xrw/0/index-NLZmJaDSSty1NyT-4Agqbg\n",
      "_data/indices/16fzAGeARxaEMOT80y3Xrw/0/snap-zLt1yM6tRmmMpnqxZMjj2A.dat\n",
      "_data/indices/16fzAGeARxaEMOT80y3Xrw/meta-DLibi4gBMQKlzNGxJMF9.dat\n",
      "_data/indices/qIeeCZxXS8uiq4TicG7NOA/\n",
      "_data/indices/qIeeCZxXS8uiq4TicG7NOA/0/\n",
      "_data/indices/qIeeCZxXS8uiq4TicG7NOA/0/index-1kxLtEf4Tn6YgjdTHx1NMg\n",
      "_data/indices/qIeeCZxXS8uiq4TicG7NOA/0/snap-nx1kMYKkQNqbsfCL5iRLMg.dat\n",
      "_data/indices/qIeeCZxXS8uiq4TicG7NOA/0/__ZYuc5ZHkRnKAmzaeLrMMnA\n",
      "_data/indices/qIeeCZxXS8uiq4TicG7NOA/0/__yvG_NMneRAS6P-PWMgDsUA\n",
      "_data/indices/qIeeCZxXS8uiq4TicG7NOA/0/snap-zLt1yM6tRmmMpnqxZMjj2A.dat\n",
      "_data/indices/qIeeCZxXS8uiq4TicG7NOA/meta-Dribi4gBMQKlzNGxJMF-.dat\n",
      "_data/indices/Mxm1U_5tSYmjf66Ueh69Aw/\n",
      "_data/indices/Mxm1U_5tSYmjf66Ueh69Aw/0/\n",
      "_data/indices/Mxm1U_5tSYmjf66Ueh69Aw/0/__NQ8-bEMSTpq2B_XYHH0eWg\n",
      "_data/indices/Mxm1U_5tSYmjf66Ueh69Aw/0/___dDQH-c6RKav2tX7JaVnWQ\n",
      "_data/indices/Mxm1U_5tSYmjf66Ueh69Aw/0/snap-nx1kMYKkQNqbsfCL5iRLMg.dat\n",
      "_data/indices/Mxm1U_5tSYmjf66Ueh69Aw/0/__wFAvaAzuQba2saEB_y6r2g\n",
      "_data/indices/Mxm1U_5tSYmjf66Ueh69Aw/0/__6MYjf9ZFQx6x25OFgC6eDA\n",
      "_data/indices/Mxm1U_5tSYmjf66Ueh69Aw/0/__7X3lgHJvSW-uZhj-dWhZ2w\n",
      "_data/indices/Mxm1U_5tSYmjf66Ueh69Aw/0/__tjY5XcGfRru3Nm9fbImVMA\n",
      "_data/indices/Mxm1U_5tSYmjf66Ueh69Aw/0/__57NtXhdkT62cpTWUGhrDjQ\n",
      "_data/indices/Mxm1U_5tSYmjf66Ueh69Aw/0/__AqtXEkVITe2xkoamAOF89Q\n",
      "_data/indices/Mxm1U_5tSYmjf66Ueh69Aw/0/__OlaVbS3oR7OBNuvR0PKxwg\n",
      "_data/indices/Mxm1U_5tSYmjf66Ueh69Aw/0/__XaK-Sc_nR3y61eLi9dQlEw\n",
      "_data/indices/Mxm1U_5tSYmjf66Ueh69Aw/0/__nOtw23XDTrWXxqQMvDSnZw\n",
      "_data/indices/Mxm1U_5tSYmjf66Ueh69Aw/0/__aB5cNp1LT2-hfwS4BeVuyg\n",
      "_data/indices/Mxm1U_5tSYmjf66Ueh69Aw/0/__Un4YqRrGRpaJqpo7mSo2Ow\n",
      "_data/indices/Mxm1U_5tSYmjf66Ueh69Aw/0/__YV5N4DQWQWGGtMpsvYdfzQ\n",
      "_data/indices/Mxm1U_5tSYmjf66Ueh69Aw/0/__QmJKuARfQ-GzrYSFSgzKGA\n",
      "_data/indices/Mxm1U_5tSYmjf66Ueh69Aw/0/__aD79JHQfSzOVegEV32xkZg\n",
      "_data/indices/Mxm1U_5tSYmjf66Ueh69Aw/0/__sk3uPSC9R9e0U_P9o9J5MA\n",
      "_data/indices/Mxm1U_5tSYmjf66Ueh69Aw/0/__kSeeFjOJT6CAbLPVWySLKg\n",
      "_data/indices/Mxm1U_5tSYmjf66Ueh69Aw/0/__bxfJnEJiQBWq4CNT8cbF_Q\n",
      "_data/indices/Mxm1U_5tSYmjf66Ueh69Aw/0/__rL6elXXbT9aVxXHHroyqbg\n",
      "_data/indices/Mxm1U_5tSYmjf66Ueh69Aw/0/__RdpQ4Gi3SyacTIRfEAaejQ\n",
      "_data/indices/Mxm1U_5tSYmjf66Ueh69Aw/0/__CiA7GA9dSxCe0FTIp5Arlg\n",
      "_data/indices/Mxm1U_5tSYmjf66Ueh69Aw/0/__lkaXAS2tSBKBKr6Ep3Hdxg\n",
      "_data/indices/Mxm1U_5tSYmjf66Ueh69Aw/0/__6YL8Onq7Qwa6JSZ0Y--gpA\n",
      "_data/indices/Mxm1U_5tSYmjf66Ueh69Aw/0/__Wy0FBMh8QKadfbaEGdhqIQ\n",
      "_data/indices/Mxm1U_5tSYmjf66Ueh69Aw/0/__o4UKw6NcRZyCdLg7tvDWjw\n",
      "_data/indices/Mxm1U_5tSYmjf66Ueh69Aw/0/__zlmeUKAATZ-3wJYJaVEjjQ\n",
      "_data/indices/Mxm1U_5tSYmjf66Ueh69Aw/0/__cUsevD_tT8eOX7OL15Ov5A\n",
      "_data/indices/Mxm1U_5tSYmjf66Ueh69Aw/0/__5v1OIra-Qm-K79gavNw5UA\n",
      "_data/indices/Mxm1U_5tSYmjf66Ueh69Aw/0/__oKE4805vSziWOnl2R10dCA\n",
      "_data/indices/Mxm1U_5tSYmjf66Ueh69Aw/0/__FIBLff-wT6enCLYmzZTCsw\n",
      "_data/indices/Mxm1U_5tSYmjf66Ueh69Aw/0/__0pJS5uCwQmqj4aIbA-qimQ\n",
      "_data/indices/Mxm1U_5tSYmjf66Ueh69Aw/0/__XwcJPv-AQ3CH2avn73g6mw\n",
      "_data/indices/Mxm1U_5tSYmjf66Ueh69Aw/0/__ZNs8gjklS_anvJlRHWnaUQ\n",
      "_data/indices/Mxm1U_5tSYmjf66Ueh69Aw/0/__TQV--YFqREawAJm1HCzfiw\n",
      "_data/indices/Mxm1U_5tSYmjf66Ueh69Aw/0/__e2kiIb1CSFumGzRR1YmQCg\n",
      "_data/indices/Mxm1U_5tSYmjf66Ueh69Aw/0/___jm0KWHuQtG10WGo2OBFjw\n",
      "_data/indices/Mxm1U_5tSYmjf66Ueh69Aw/0/__UIUo0FQDRcOcFaaOx9N3IA\n",
      "_data/indices/Mxm1U_5tSYmjf66Ueh69Aw/0/__XMsc_sghQVWpaFgWQ2flCQ\n",
      "_data/indices/Mxm1U_5tSYmjf66Ueh69Aw/0/__Md-_kCbQQoyg_1tWj1FO8Q\n",
      "_data/indices/Mxm1U_5tSYmjf66Ueh69Aw/0/__yDEF1JqGSXql-aRUuYcU4A\n",
      "_data/indices/Mxm1U_5tSYmjf66Ueh69Aw/0/__LdwFiyUARRyCehbTpCCINQ\n",
      "_data/indices/Mxm1U_5tSYmjf66Ueh69Aw/0/__XRuc07wqTRu9MZ2HWr9FzA\n",
      "_data/indices/Mxm1U_5tSYmjf66Ueh69Aw/0/__L5qr6zkIQHqkwtIcnAJ8yQ\n",
      "_data/indices/Mxm1U_5tSYmjf66Ueh69Aw/0/__YzL7zs2fTkCizc2chqmKJA\n",
      "_data/indices/Mxm1U_5tSYmjf66Ueh69Aw/0/__5jGg6ZsUSJ2IPqp52Rb8Xw\n",
      "_data/indices/Mxm1U_5tSYmjf66Ueh69Aw/0/index-syslE1_VQeOeAiyEwjA7Ww\n",
      "_data/indices/Mxm1U_5tSYmjf66Ueh69Aw/0/__c-C-fYOkRPqFyr9hPTQaJA\n",
      "_data/indices/Mxm1U_5tSYmjf66Ueh69Aw/0/__VTurRXgpQ8u-ewNu75ibNQ\n",
      "_data/indices/Mxm1U_5tSYmjf66Ueh69Aw/0/__7oaqtQcZQgiF9Z4gR68Xjw\n",
      "_data/indices/Mxm1U_5tSYmjf66Ueh69Aw/0/__KwP4h_ECRWuPrE20tCuLcw\n",
      "_data/indices/Mxm1U_5tSYmjf66Ueh69Aw/0/__bS9jw0R5QmWsSPiFRwdVeg\n",
      "_data/indices/Mxm1U_5tSYmjf66Ueh69Aw/0/snap-zLt1yM6tRmmMpnqxZMjj2A.dat\n",
      "_data/indices/Mxm1U_5tSYmjf66Ueh69Aw/0/__yANXRtwkSsaxHmiTeLmoNg\n",
      "_data/indices/Mxm1U_5tSYmjf66Ueh69Aw/0/__jba24FuWSlKte7nGG6dcqw\n",
      "_data/indices/Mxm1U_5tSYmjf66Ueh69Aw/0/__Kwx1l7DeSAqg8k5qSIAS9A\n",
      "_data/indices/Mxm1U_5tSYmjf66Ueh69Aw/0/__R_Ztv7GJTNa23ET1TXTv0Q\n",
      "_data/indices/Mxm1U_5tSYmjf66Ueh69Aw/0/__I5caWca2SeaRFMNjHPg7Rw\n",
      "_data/indices/Mxm1U_5tSYmjf66Ueh69Aw/0/__yQ9LcfHLQKmqzGWT1HYzwg\n",
      "_data/indices/Mxm1U_5tSYmjf66Ueh69Aw/0/__byDtE_OKSPWZABzaV9mJ0w\n",
      "_data/indices/Mxm1U_5tSYmjf66Ueh69Aw/0/__m6AFOekvT8iS3KVkcvFj2w\n",
      "_data/indices/Mxm1U_5tSYmjf66Ueh69Aw/0/__RhPyKd3eQEKT71yGRVDesg\n",
      "_data/indices/Mxm1U_5tSYmjf66Ueh69Aw/0/__vLKyzlSdQv6Wfzk0Egf4cQ\n",
      "_data/indices/Mxm1U_5tSYmjf66Ueh69Aw/0/__ncmfKKrTQ_C-eVX2xCT1kA\n",
      "_data/indices/Mxm1U_5tSYmjf66Ueh69Aw/0/__lRGXWQvUTGOhS4oKYray7w\n",
      "_data/indices/Mxm1U_5tSYmjf66Ueh69Aw/0/__MthHUHBQSVKVl7AqaHVocQ\n",
      "_data/indices/Mxm1U_5tSYmjf66Ueh69Aw/meta-D7ibi4gBMQKlzNGxJMF_.dat\n",
      "_data/indices/zPXl5fe-RmKewigMuQfwdw/\n",
      "_data/indices/zPXl5fe-RmKewigMuQfwdw/0/\n",
      "_data/indices/zPXl5fe-RmKewigMuQfwdw/0/__mQfPlDXGQ5-eNk56I3fswg\n",
      "_data/indices/zPXl5fe-RmKewigMuQfwdw/0/snap-nx1kMYKkQNqbsfCL5iRLMg.dat\n",
      "_data/indices/zPXl5fe-RmKewigMuQfwdw/0/__K4haJUYrS-iR3fc7w7yA0A\n",
      "_data/indices/zPXl5fe-RmKewigMuQfwdw/0/__3wVTmZy6RFWNbbTnyZrNBQ\n",
      "_data/indices/zPXl5fe-RmKewigMuQfwdw/0/__lYu4ZdWSToOrFrlPaheNxA\n",
      "_data/indices/zPXl5fe-RmKewigMuQfwdw/0/__rQSyMseHT4yWnfnx12473g\n",
      "_data/indices/zPXl5fe-RmKewigMuQfwdw/0/__ENGi2XY-RMuHueoV_7V49w\n",
      "_data/indices/zPXl5fe-RmKewigMuQfwdw/0/__QqI7z6WYSgyoKIrbnz5d6g\n",
      "_data/indices/zPXl5fe-RmKewigMuQfwdw/0/__sCqUTZp-Tbe-7-2H8pz-cg\n",
      "_data/indices/zPXl5fe-RmKewigMuQfwdw/0/__LegKvdL2QReDKgIHQcjYyw\n",
      "_data/indices/zPXl5fe-RmKewigMuQfwdw/0/__IT73pDTASryMPtrsp8cSeg\n",
      "_data/indices/zPXl5fe-RmKewigMuQfwdw/0/__q3WNvOycTtmcjdiyFSQ3JA\n",
      "_data/indices/zPXl5fe-RmKewigMuQfwdw/0/__yRPyg-wmTBWDU8T1zJsmgQ\n",
      "_data/indices/zPXl5fe-RmKewigMuQfwdw/0/__O6MHZsvcTkivAr3VvRptqQ\n",
      "_data/indices/zPXl5fe-RmKewigMuQfwdw/0/__7TYfD98rSHKQzcn_lCqyzQ\n",
      "_data/indices/zPXl5fe-RmKewigMuQfwdw/0/__qTCU6Zv4TTeiOE1KmamfIg\n",
      "_data/indices/zPXl5fe-RmKewigMuQfwdw/0/__LWZ4wBDNQvymbhc33AH6vQ\n",
      "_data/indices/zPXl5fe-RmKewigMuQfwdw/0/__yZqZ6myASlCAf1lfl9TPEg\n",
      "_data/indices/zPXl5fe-RmKewigMuQfwdw/0/__KYdQ96fqSzKtMxukuFOjiw\n",
      "_data/indices/zPXl5fe-RmKewigMuQfwdw/0/__FKGeJNRXQ-y1r7M6a6B1jg\n",
      "_data/indices/zPXl5fe-RmKewigMuQfwdw/0/__uuuMwSOXTm2dxs4XgNBJ0w\n",
      "_data/indices/zPXl5fe-RmKewigMuQfwdw/0/__OVfOCroPSNyFNjAUftygjg\n",
      "_data/indices/zPXl5fe-RmKewigMuQfwdw/0/__jKW_DBWJTeKNHhxEdlonhg\n",
      "_data/indices/zPXl5fe-RmKewigMuQfwdw/0/__4yRjZByoSZSN_4xE4Fx0Jg\n",
      "_data/indices/zPXl5fe-RmKewigMuQfwdw/0/index-28ps9zroSMubWxFEy0fDaQ\n",
      "_data/indices/zPXl5fe-RmKewigMuQfwdw/0/__O3f_OoApQ1mDJh_bF-P4bA\n",
      "_data/indices/zPXl5fe-RmKewigMuQfwdw/0/__XZPSDS_ETeu2zC57gHYBog\n",
      "_data/indices/zPXl5fe-RmKewigMuQfwdw/0/__UCd4XXTHRgSIzv-v3vDAgQ\n",
      "_data/indices/zPXl5fe-RmKewigMuQfwdw/0/__aZjX05GwQ1KImfcyXNJsrg\n",
      "_data/indices/zPXl5fe-RmKewigMuQfwdw/0/__8P5efEr3TXSkvsxyr0_Dpw\n",
      "_data/indices/zPXl5fe-RmKewigMuQfwdw/0/__fifsCwlERWiRwQCKqGRWiQ\n",
      "_data/indices/zPXl5fe-RmKewigMuQfwdw/0/__Cfy1GklSR7SbluiJt61pkw\n",
      "_data/indices/zPXl5fe-RmKewigMuQfwdw/0/__C5Q_EPanQj6s-DzjzvbBrg\n",
      "_data/indices/zPXl5fe-RmKewigMuQfwdw/0/__aq28aN-hR5SrgysC0iIaYQ\n",
      "_data/indices/zPXl5fe-RmKewigMuQfwdw/0/__iKjzflyMQhC9G0yhhuxpSg\n",
      "_data/indices/zPXl5fe-RmKewigMuQfwdw/0/__O3-wvDKQQaqVS82JBGtHQw\n",
      "_data/indices/zPXl5fe-RmKewigMuQfwdw/0/__P_eBPgM9TUW0hOkTQeeJNw\n",
      "_data/indices/zPXl5fe-RmKewigMuQfwdw/0/__NvCwXO2qTfC815_7Y0RwIA\n",
      "_data/indices/zPXl5fe-RmKewigMuQfwdw/0/__0462pcH6TgWbmKjAYHy6TQ\n",
      "_data/indices/zPXl5fe-RmKewigMuQfwdw/0/__k6eoZO5GTUGmNuojSvaBmg\n",
      "_data/indices/zPXl5fe-RmKewigMuQfwdw/0/__8XdrXgfJRumeXkEp2KtAbQ\n",
      "_data/indices/zPXl5fe-RmKewigMuQfwdw/0/__PYwqltGgSaS8cyAMh8FQsg\n",
      "_data/indices/zPXl5fe-RmKewigMuQfwdw/0/snap-zLt1yM6tRmmMpnqxZMjj2A.dat\n",
      "_data/indices/zPXl5fe-RmKewigMuQfwdw/0/__9zDgtq9vQ6qB7NxpcyPhFw\n",
      "_data/indices/zPXl5fe-RmKewigMuQfwdw/0/__tMiNtYyBQzWxmluXyIQZRg\n",
      "_data/indices/zPXl5fe-RmKewigMuQfwdw/0/__fGCavIrNShqJiJwp8qe0ng\n",
      "_data/indices/zPXl5fe-RmKewigMuQfwdw/0/__UmDpVDfuQ8ukmIHd0a5oQg\n",
      "_data/indices/zPXl5fe-RmKewigMuQfwdw/0/__rNEmJoERThCurmmCYJlkhw\n",
      "_data/indices/zPXl5fe-RmKewigMuQfwdw/0/__rVLJbTz_TFSg9OTeUBnbqg\n",
      "_data/indices/zPXl5fe-RmKewigMuQfwdw/0/__Mdq0Ee6ETHa8NzGhef5BfA\n",
      "_data/indices/zPXl5fe-RmKewigMuQfwdw/0/__WPXDe9HlRfuQJUdQiH4mgw\n",
      "_data/indices/zPXl5fe-RmKewigMuQfwdw/0/__GrKb5qtsRQSJonqSdcwoLw\n",
      "_data/indices/zPXl5fe-RmKewigMuQfwdw/meta-Ebibi4gBMQKlzNGxJMGP.dat\n",
      "_data/indices/5kgFjYn3Q8--0VxRzVRQaA/\n",
      "_data/indices/5kgFjYn3Q8--0VxRzVRQaA/0/\n",
      "_data/indices/5kgFjYn3Q8--0VxRzVRQaA/0/snap-nx1kMYKkQNqbsfCL5iRLMg.dat\n",
      "_data/indices/5kgFjYn3Q8--0VxRzVRQaA/0/__N9LLg4PwTGqSDdlVQo98rQ\n",
      "_data/indices/5kgFjYn3Q8--0VxRzVRQaA/0/__4e2c9edqQraAvr5YCiAPTw\n",
      "_data/indices/5kgFjYn3Q8--0VxRzVRQaA/0/__yGqkob-MSlGDPsWRt8I6Eg\n",
      "_data/indices/5kgFjYn3Q8--0VxRzVRQaA/0/__fvpsFBsLR5GuvK7GnmwOlg\n",
      "_data/indices/5kgFjYn3Q8--0VxRzVRQaA/0/__V80h_ZygQEC36St6_vU8wQ\n",
      "_data/indices/5kgFjYn3Q8--0VxRzVRQaA/0/__h3ZOl-pNQi6520fgQvCCmg\n",
      "_data/indices/5kgFjYn3Q8--0VxRzVRQaA/0/__4GprDC_9QMmkFXPb48kmQw\n",
      "_data/indices/5kgFjYn3Q8--0VxRzVRQaA/0/__z--7fkfLSnuvbIW6a9uF7Q\n",
      "_data/indices/5kgFjYn3Q8--0VxRzVRQaA/0/__cYdYZutqSXOIuKqWIM5DKw\n",
      "_data/indices/5kgFjYn3Q8--0VxRzVRQaA/0/__rpXI92zERD-UuWV398fubA\n",
      "_data/indices/5kgFjYn3Q8--0VxRzVRQaA/0/__hzLQwVz6R8WHACYloK683g\n",
      "_data/indices/5kgFjYn3Q8--0VxRzVRQaA/0/__NRDN1cgQTjaGuu3e26MTPQ\n",
      "_data/indices/5kgFjYn3Q8--0VxRzVRQaA/0/__5Ec2u-trQBCt6InAy--4fQ\n",
      "_data/indices/5kgFjYn3Q8--0VxRzVRQaA/0/__qUBC8jj0RR-xEy70BAgPJg\n",
      "_data/indices/5kgFjYn3Q8--0VxRzVRQaA/0/__Zl_vqTI0TqO2b-zMhS0hKQ\n",
      "_data/indices/5kgFjYn3Q8--0VxRzVRQaA/0/__8jC7yTrVTIydX79OQtkLdQ\n",
      "_data/indices/5kgFjYn3Q8--0VxRzVRQaA/0/__28WKnJfLQ6uPkxjE6Upi1Q\n",
      "_data/indices/5kgFjYn3Q8--0VxRzVRQaA/0/__fG67jMKcQSymUKF0tY-SAA\n",
      "_data/indices/5kgFjYn3Q8--0VxRzVRQaA/0/__JDHbETEYT_m-AQPj_IIXjQ\n",
      "_data/indices/5kgFjYn3Q8--0VxRzVRQaA/0/__ORCEvaLTRBmqFblj1JVcSg\n",
      "_data/indices/5kgFjYn3Q8--0VxRzVRQaA/0/__75cGf4k4QYixhPt89mlwEw\n",
      "_data/indices/5kgFjYn3Q8--0VxRzVRQaA/0/__ceMy6a4PSuC5GAd_iswdLg\n",
      "_data/indices/5kgFjYn3Q8--0VxRzVRQaA/0/__Cs-h0ImlRqui3vbRjpCKiA\n",
      "_data/indices/5kgFjYn3Q8--0VxRzVRQaA/0/__03F303d6Rs-TAogvtmoO2g\n",
      "_data/indices/5kgFjYn3Q8--0VxRzVRQaA/0/__CAnYzswEQOK6-2t7a2wnBg\n",
      "_data/indices/5kgFjYn3Q8--0VxRzVRQaA/0/__KfOvOm3ETbiuhhHGBNSXcw\n",
      "_data/indices/5kgFjYn3Q8--0VxRzVRQaA/0/__tiLM4BF_QAeglF2cdg67ng\n",
      "_data/indices/5kgFjYn3Q8--0VxRzVRQaA/0/__g3Xjk0-mR8-XhuD6YN5O8A\n",
      "_data/indices/5kgFjYn3Q8--0VxRzVRQaA/0/__ZTiFxIwHRgecnsic44ZI9w\n",
      "_data/indices/5kgFjYn3Q8--0VxRzVRQaA/0/__mc8efXIKQSeBmlEwkgS-sQ\n",
      "_data/indices/5kgFjYn3Q8--0VxRzVRQaA/0/__ty_FPoEMS0mcTf388DL3hQ\n",
      "_data/indices/5kgFjYn3Q8--0VxRzVRQaA/0/__0P71TkIVSzan1KewBgm_Vw\n",
      "_data/indices/5kgFjYn3Q8--0VxRzVRQaA/0/__E37zOn00TdiGcqRh7S0qSQ\n",
      "_data/indices/5kgFjYn3Q8--0VxRzVRQaA/0/__-Cw53zXoQJ29VjqCBoUryQ\n",
      "_data/indices/5kgFjYn3Q8--0VxRzVRQaA/0/__T06bwRBFQHuySC0CnawuYA\n",
      "_data/indices/5kgFjYn3Q8--0VxRzVRQaA/0/__fY_0H_K4Q-KCSuBsjwcB2w\n",
      "_data/indices/5kgFjYn3Q8--0VxRzVRQaA/0/__Z9I2Kl5TRPOWVp08Z0PSXQ\n",
      "_data/indices/5kgFjYn3Q8--0VxRzVRQaA/0/__acj8rpZYQMiuWqy9ZdYlnQ\n",
      "_data/indices/5kgFjYn3Q8--0VxRzVRQaA/0/__ZZU7e7LXTJWLnCZlGxUOow\n",
      "_data/indices/5kgFjYn3Q8--0VxRzVRQaA/0/__X9hyz1rkRdeGYgPZ-wROQA\n",
      "_data/indices/5kgFjYn3Q8--0VxRzVRQaA/0/__yhneC731R1qXXnbVyL7ijA\n",
      "_data/indices/5kgFjYn3Q8--0VxRzVRQaA/0/__HQn-MsJCQvOdojfFgKBMWg\n",
      "_data/indices/5kgFjYn3Q8--0VxRzVRQaA/0/__U78_kBC4Rv64U3enkPEClQ\n",
      "_data/indices/5kgFjYn3Q8--0VxRzVRQaA/0/__c-pnq0FUTqO3OhuVqthcOA\n",
      "_data/indices/5kgFjYn3Q8--0VxRzVRQaA/0/__Awfj1p5BQQaL_V5EhfKbrQ\n",
      "_data/indices/5kgFjYn3Q8--0VxRzVRQaA/0/__niWZscyORL-tbxLiRAsedg\n",
      "_data/indices/5kgFjYn3Q8--0VxRzVRQaA/0/__qzZX_E26SSmRvr60dnIh-w\n",
      "_data/indices/5kgFjYn3Q8--0VxRzVRQaA/0/__SmIf6NAIRP2jLfdBP6cshQ\n",
      "_data/indices/5kgFjYn3Q8--0VxRzVRQaA/0/__f6FauqEJT967Vv_1eFfuEQ\n",
      "_data/indices/5kgFjYn3Q8--0VxRzVRQaA/0/__Lr9wKdZeSv6DiX0KlOK0nQ\n",
      "_data/indices/5kgFjYn3Q8--0VxRzVRQaA/0/__cI1nQn51SbCUMtsZIkMuUg\n",
      "_data/indices/5kgFjYn3Q8--0VxRzVRQaA/0/__N420cm6CSt6kH0KHCZwbvQ\n",
      "_data/indices/5kgFjYn3Q8--0VxRzVRQaA/0/__jJ1AtrJGSzynOV8jJo6FWQ\n",
      "_data/indices/5kgFjYn3Q8--0VxRzVRQaA/0/__a5ArEcShRY-xxVQoV99twQ\n",
      "_data/indices/5kgFjYn3Q8--0VxRzVRQaA/0/__-PC0SskCS3qk1Iw7i0svEQ\n",
      "_data/indices/5kgFjYn3Q8--0VxRzVRQaA/0/__vFeNvkyxTVi9Q_GseJqeOg\n",
      "_data/indices/5kgFjYn3Q8--0VxRzVRQaA/0/__81eR1t89T2-qHDoV9A7qcA\n",
      "_data/indices/5kgFjYn3Q8--0VxRzVRQaA/0/__rkRHk07zRT-aQcVD9s1WZw\n",
      "_data/indices/5kgFjYn3Q8--0VxRzVRQaA/0/__7jTslZtoS1Sio2rChaFVOQ\n",
      "_data/indices/5kgFjYn3Q8--0VxRzVRQaA/0/__Vbal--glTie_x4tIcVKyew\n",
      "_data/indices/5kgFjYn3Q8--0VxRzVRQaA/0/__mMiIMVooRt-qocrtpk4Qsw\n",
      "_data/indices/5kgFjYn3Q8--0VxRzVRQaA/0/__3dHqTsb5TyaB31Z5dvMjBA\n",
      "_data/indices/5kgFjYn3Q8--0VxRzVRQaA/0/__DMXykE1bQ5-43WSwpmzvvw\n",
      "_data/indices/5kgFjYn3Q8--0VxRzVRQaA/0/__X5FkwfqTRvifEX_b5FBCMg\n",
      "_data/indices/5kgFjYn3Q8--0VxRzVRQaA/0/snap-zLt1yM6tRmmMpnqxZMjj2A.dat\n",
      "_data/indices/5kgFjYn3Q8--0VxRzVRQaA/0/__RCZNJa68R72JD5OnMPdepw\n",
      "_data/indices/5kgFjYn3Q8--0VxRzVRQaA/0/__nmxvJ37aSW6JXrsh-RbSgA\n",
      "_data/indices/5kgFjYn3Q8--0VxRzVRQaA/0/__X1biMSPaTfy-gWJc8_I36g\n",
      "_data/indices/5kgFjYn3Q8--0VxRzVRQaA/0/__q687ypaySZOEOrGDHyJSbw\n",
      "_data/indices/5kgFjYn3Q8--0VxRzVRQaA/0/__p2LzhqtfStSSoR4FBwLCPA\n",
      "_data/indices/5kgFjYn3Q8--0VxRzVRQaA/0/__Qc66KVIYQPKm0SsyHXw1Mw\n",
      "_data/indices/5kgFjYn3Q8--0VxRzVRQaA/0/__Gz9KYshdSPOZfp6g9vVPpQ\n",
      "_data/indices/5kgFjYn3Q8--0VxRzVRQaA/0/__9hegP52AQh29yrzymCWkUA\n",
      "_data/indices/5kgFjYn3Q8--0VxRzVRQaA/0/__-dSULkc3Rhe6a_EfVnOVdw\n",
      "_data/indices/5kgFjYn3Q8--0VxRzVRQaA/0/__LFUJIakATuSYp_wsBfDLjA\n",
      "_data/indices/5kgFjYn3Q8--0VxRzVRQaA/0/__nW5WbLQgRP22667My2Jy5g\n",
      "_data/indices/5kgFjYn3Q8--0VxRzVRQaA/0/__fAs4e-fhQHi2cbpcrbHVvw\n",
      "_data/indices/5kgFjYn3Q8--0VxRzVRQaA/0/__psJTosUaSCyYTTFsx40Kww\n",
      "_data/indices/5kgFjYn3Q8--0VxRzVRQaA/0/__A5CgSHKHSYi47nN804VgXg\n",
      "_data/indices/5kgFjYn3Q8--0VxRzVRQaA/0/__YzYGU6enS3C2cO8qbag15A\n",
      "_data/indices/5kgFjYn3Q8--0VxRzVRQaA/0/__lXxmzLwUSaOVCBpU59rTuA\n",
      "_data/indices/5kgFjYn3Q8--0VxRzVRQaA/0/__F9QI_KLmRsu9oW8So4OCaQ\n",
      "_data/indices/5kgFjYn3Q8--0VxRzVRQaA/0/__VgsibpaUR8-hDW2yYZ9Y4w\n",
      "_data/indices/5kgFjYn3Q8--0VxRzVRQaA/0/__fjyi1anYTkeI6vLttZzqJw\n",
      "_data/indices/5kgFjYn3Q8--0VxRzVRQaA/0/__Pixm_PRzSsS6licChHF27A\n",
      "_data/indices/5kgFjYn3Q8--0VxRzVRQaA/0/__aIHIgEwpQjaEh18SHusarg\n",
      "_data/indices/5kgFjYn3Q8--0VxRzVRQaA/0/__pm99OFrTQcGxOZyhTHDQCQ\n",
      "_data/indices/5kgFjYn3Q8--0VxRzVRQaA/0/__FpSOQEx7RwCeBohVNrVw6g\n",
      "_data/indices/5kgFjYn3Q8--0VxRzVRQaA/0/__PA8IqpGtQo2BIRt8YdxfJg\n",
      "_data/indices/5kgFjYn3Q8--0VxRzVRQaA/0/__T0WtAp4sSomYDFBx-eCYvA\n",
      "_data/indices/5kgFjYn3Q8--0VxRzVRQaA/0/__IzP7_QFxRfqYPPjCkK6E3Q\n",
      "_data/indices/5kgFjYn3Q8--0VxRzVRQaA/0/__SSnnF7ytRTC-0eGBDV1RYw\n",
      "_data/indices/5kgFjYn3Q8--0VxRzVRQaA/0/__aVZPfxmERFarVPwtZtrwLg\n",
      "_data/indices/5kgFjYn3Q8--0VxRzVRQaA/0/index-duEQgt2mRkCNZcpx5Qdd4g\n",
      "_data/indices/5kgFjYn3Q8--0VxRzVRQaA/meta-C7ibi4gBMQKlzNGxJMF8.dat\n",
      "_data/indices/AH9QMLSVTraumJun1Fo5MQ/\n",
      "_data/indices/AH9QMLSVTraumJun1Fo5MQ/0/\n",
      "_data/indices/AH9QMLSVTraumJun1Fo5MQ/0/snap-nx1kMYKkQNqbsfCL5iRLMg.dat\n",
      "_data/indices/AH9QMLSVTraumJun1Fo5MQ/0/__SpCAXyn0RjKApQf9J6RN9g\n",
      "_data/indices/AH9QMLSVTraumJun1Fo5MQ/0/__DISrvSEZRJKnk0CC9t-dPQ\n",
      "_data/indices/AH9QMLSVTraumJun1Fo5MQ/0/index-eLJQdoE6R22CpO8s3BB8hg\n",
      "_data/indices/AH9QMLSVTraumJun1Fo5MQ/0/__UKwKCiVvTn63N2bAUhVu7w\n",
      "_data/indices/AH9QMLSVTraumJun1Fo5MQ/0/__Gq1hl7LCSbGbZKkB8yF83g\n",
      "_data/indices/AH9QMLSVTraumJun1Fo5MQ/0/__BSPKBAz1T2eEEEqFohraSQ\n",
      "_data/indices/AH9QMLSVTraumJun1Fo5MQ/0/snap-zLt1yM6tRmmMpnqxZMjj2A.dat\n",
      "_data/indices/AH9QMLSVTraumJun1Fo5MQ/0/__jubLuNRCSPKVrrMDXYCARA\n",
      "_data/indices/AH9QMLSVTraumJun1Fo5MQ/meta-Cribi4gBMQKlzNGxJMF3.dat\n",
      "_data/indices/NrngdFZjTmqE8GB09J5j8w/\n",
      "_data/indices/NrngdFZjTmqE8GB09J5j8w/0/\n",
      "_data/indices/NrngdFZjTmqE8GB09J5j8w/0/snap-nx1kMYKkQNqbsfCL5iRLMg.dat\n",
      "_data/indices/NrngdFZjTmqE8GB09J5j8w/0/__JhOOoBFmRcye10yITmjIqA\n",
      "_data/indices/NrngdFZjTmqE8GB09J5j8w/0/__Kg9QxvOHTPm9J1VMGOY2xg\n",
      "_data/indices/NrngdFZjTmqE8GB09J5j8w/0/__1Zbfyz_HRMOOL_DoZO2pTw\n",
      "_data/indices/NrngdFZjTmqE8GB09J5j8w/0/__LH7gVq6xSlCMb7v1AuPgXg\n",
      "_data/indices/NrngdFZjTmqE8GB09J5j8w/0/__xEqxMPy1Sr-QuDpDE_UvvQ\n",
      "_data/indices/NrngdFZjTmqE8GB09J5j8w/0/__DuU8IR7UT_CSHmloxScuHw\n",
      "_data/indices/NrngdFZjTmqE8GB09J5j8w/0/__KNZyIag9THqaSaqk3X0bnA\n",
      "_data/indices/NrngdFZjTmqE8GB09J5j8w/0/__3TNnQSAiQOG7EVp69k9YNw\n",
      "_data/indices/NrngdFZjTmqE8GB09J5j8w/0/__AG2qe7vGRt2nddQxcZzq9A\n",
      "_data/indices/NrngdFZjTmqE8GB09J5j8w/0/__l4bA2iWcQ960MSlWwaP--Q\n",
      "_data/indices/NrngdFZjTmqE8GB09J5j8w/0/__X0yCB9cCSXqfB2Nme6evCA\n",
      "_data/indices/NrngdFZjTmqE8GB09J5j8w/0/__G6pBsPUJRJiy3p4JNW4Adw\n",
      "_data/indices/NrngdFZjTmqE8GB09J5j8w/0/__6dbipDBlT3ePSoGDG3zaPg\n",
      "_data/indices/NrngdFZjTmqE8GB09J5j8w/0/__HJdF67-dQIOU1uxdVpnTKg\n",
      "_data/indices/NrngdFZjTmqE8GB09J5j8w/0/___9ZuSvuWRG6E1tuilfgjVg\n",
      "_data/indices/NrngdFZjTmqE8GB09J5j8w/0/__eCmI847uRmynsqu6nVdLLA\n",
      "_data/indices/NrngdFZjTmqE8GB09J5j8w/0/__8d-Wv-AXQCyxZPV1jxFx-g\n",
      "_data/indices/NrngdFZjTmqE8GB09J5j8w/0/__ohTm88IRT7eUEskzXhSORg\n",
      "_data/indices/NrngdFZjTmqE8GB09J5j8w/0/__JdUhpBovRfOKdKGV8R6_Hw\n",
      "_data/indices/NrngdFZjTmqE8GB09J5j8w/0/__HVQeXDbWRruSDtjxkGjLQw\n",
      "_data/indices/NrngdFZjTmqE8GB09J5j8w/0/__ZrhyT1CIQFaoliQi7msRfw\n",
      "_data/indices/NrngdFZjTmqE8GB09J5j8w/0/__iZNcOVZmQVGB84jguhIbkA\n",
      "_data/indices/NrngdFZjTmqE8GB09J5j8w/0/__ID5FhLefRY-Kj3bf8rK85g\n",
      "_data/indices/NrngdFZjTmqE8GB09J5j8w/0/__Us3PDLmsThS4kSVzKG6Isw\n",
      "_data/indices/NrngdFZjTmqE8GB09J5j8w/0/__xLuQGL90QGmKa3hzF07UAA\n",
      "_data/indices/NrngdFZjTmqE8GB09J5j8w/0/__BWVD9IamRrqJaTCeDnQK1A\n",
      "_data/indices/NrngdFZjTmqE8GB09J5j8w/0/__APgiIbm_S0a4iBBNCIFEUw\n",
      "_data/indices/NrngdFZjTmqE8GB09J5j8w/0/__ISJFmh0VSSexH4aI2OquUg\n",
      "_data/indices/NrngdFZjTmqE8GB09J5j8w/0/__OEvaN337SOW6UIqANX-n6w\n",
      "_data/indices/NrngdFZjTmqE8GB09J5j8w/0/__Fkp_9wZBTq6bl0INUVb3kQ\n",
      "_data/indices/NrngdFZjTmqE8GB09J5j8w/0/__sssKm4o4RXKqr0WlnFjzMw\n",
      "_data/indices/NrngdFZjTmqE8GB09J5j8w/0/__OpfcIF2VQbONL-fS5vagyQ\n",
      "_data/indices/NrngdFZjTmqE8GB09J5j8w/0/__qzvPKfJoS1u79YBowQTbxQ\n",
      "_data/indices/NrngdFZjTmqE8GB09J5j8w/0/__PeoKh5LzRXuZ1SkzJgtTag\n",
      "_data/indices/NrngdFZjTmqE8GB09J5j8w/0/__nn34NJh-S_2kq1LUGrKfEQ\n",
      "_data/indices/NrngdFZjTmqE8GB09J5j8w/0/__jzz6gLvhSlq2ofILxOZYFQ\n",
      "_data/indices/NrngdFZjTmqE8GB09J5j8w/0/snap-zLt1yM6tRmmMpnqxZMjj2A.dat\n",
      "_data/indices/NrngdFZjTmqE8GB09J5j8w/0/__y5SE_cVjQCKnNVuCHed3Og\n",
      "_data/indices/NrngdFZjTmqE8GB09J5j8w/0/index-orz64bXOSxyV4ekZxz7MWw\n",
      "_data/indices/NrngdFZjTmqE8GB09J5j8w/0/__Uv5z4TplSJ219S-KzwAeYg\n",
      "_data/indices/NrngdFZjTmqE8GB09J5j8w/0/__SXv1mMTBSXiQI1Bh7CGMyA\n",
      "_data/indices/NrngdFZjTmqE8GB09J5j8w/0/__c-A_UrKZSEK0YeE7GttkUQ\n",
      "_data/indices/NrngdFZjTmqE8GB09J5j8w/0/__ttq5f18nSM2GvdaD5otz9g\n",
      "_data/indices/NrngdFZjTmqE8GB09J5j8w/0/__ycJptGaOTGCAeL1vrxAbjw\n",
      "_data/indices/NrngdFZjTmqE8GB09J5j8w/0/__jZIyDKUGRz6thdAWC5ghkw\n",
      "_data/indices/NrngdFZjTmqE8GB09J5j8w/0/__DJpaYoNNRKKDcIBCz586yw\n",
      "_data/indices/NrngdFZjTmqE8GB09J5j8w/0/__C-792FwhQXOVpbZmKptdBA\n",
      "_data/indices/NrngdFZjTmqE8GB09J5j8w/0/__mjY_fS4NRt-pF6NJJl6bZA\n",
      "_data/indices/NrngdFZjTmqE8GB09J5j8w/meta-ELibi4gBMQKlzNGxJMGL.dat\n",
      "_data/indices/2oyMu23yRDGiQnMpvoE7IQ/\n",
      "_data/indices/2oyMu23yRDGiQnMpvoE7IQ/0/\n",
      "_data/indices/2oyMu23yRDGiQnMpvoE7IQ/0/__ce8vpDQ7RKaxNha4GNstQQ\n",
      "_data/indices/2oyMu23yRDGiQnMpvoE7IQ/0/snap-nx1kMYKkQNqbsfCL5iRLMg.dat\n",
      "_data/indices/2oyMu23yRDGiQnMpvoE7IQ/0/__j8t8Z2heTza0cklgmCrOnA\n",
      "_data/indices/2oyMu23yRDGiQnMpvoE7IQ/0/__NoKkD6fMTWek1y64TecxyA\n",
      "_data/indices/2oyMu23yRDGiQnMpvoE7IQ/0/__21SwyiiTTLCPaF4t3kOyjA\n",
      "_data/indices/2oyMu23yRDGiQnMpvoE7IQ/0/__mBFiSUVkTfKzp-EteHECFw\n",
      "_data/indices/2oyMu23yRDGiQnMpvoE7IQ/0/__q_gUyHPhQKC51wFsVN-ktg\n",
      "_data/indices/2oyMu23yRDGiQnMpvoE7IQ/0/index-tgG2DNLdTAWT6Mkw27nVSw\n",
      "_data/indices/2oyMu23yRDGiQnMpvoE7IQ/0/___1ssCn0RQIqzbCfNQeF3fw\n",
      "_data/indices/2oyMu23yRDGiQnMpvoE7IQ/0/__NtnlShoVR1OXAXQ4qUYfSQ\n",
      "_data/indices/2oyMu23yRDGiQnMpvoE7IQ/0/__5ma8L3pKSkeF9iYHnFXgBQ\n",
      "_data/indices/2oyMu23yRDGiQnMpvoE7IQ/0/__DhVgiGn0Tz2UJWIL5Jp6vA\n",
      "_data/indices/2oyMu23yRDGiQnMpvoE7IQ/0/__EGnRV93aQvuLIQKtZXNnWg\n",
      "_data/indices/2oyMu23yRDGiQnMpvoE7IQ/0/__CRPh6a15S4qgr6xUFRpFNA\n",
      "_data/indices/2oyMu23yRDGiQnMpvoE7IQ/0/__i33rPzuYR8eWjBJo6iTD7w\n",
      "_data/indices/2oyMu23yRDGiQnMpvoE7IQ/0/__HDQw9hueS4KYsErYrMkNjQ\n",
      "_data/indices/2oyMu23yRDGiQnMpvoE7IQ/0/__4KOeo-sOTnmOYiphCHBjww\n",
      "_data/indices/2oyMu23yRDGiQnMpvoE7IQ/0/__EgbSl1_5QROWVjWs6gdNCw\n",
      "_data/indices/2oyMu23yRDGiQnMpvoE7IQ/0/__FHadZFGKT9eioHXrf4meVg\n",
      "_data/indices/2oyMu23yRDGiQnMpvoE7IQ/0/__3jBD0ym4R5u17I52Odd_TQ\n",
      "_data/indices/2oyMu23yRDGiQnMpvoE7IQ/0/__VGFodgD6S5-wSsZULnad8g\n",
      "_data/indices/2oyMu23yRDGiQnMpvoE7IQ/0/__gMpVgrpeRy6dxL-mp-JMCA\n",
      "_data/indices/2oyMu23yRDGiQnMpvoE7IQ/0/__pRAZ88qzQ-GGrcoIPoC_nA\n",
      "_data/indices/2oyMu23yRDGiQnMpvoE7IQ/0/__oT3V4rjrSLm549WkvYsHEg\n",
      "_data/indices/2oyMu23yRDGiQnMpvoE7IQ/0/__24CN48C2S1SBG0D3AzpNFg\n",
      "_data/indices/2oyMu23yRDGiQnMpvoE7IQ/0/__98F8FjnhTM-uFjFwFs7eAA\n",
      "_data/indices/2oyMu23yRDGiQnMpvoE7IQ/0/__KWjRACD8QkCBO5rThPVVyA\n",
      "_data/indices/2oyMu23yRDGiQnMpvoE7IQ/0/__BLYYvd0FSQG7JiFrBPD_8w\n",
      "_data/indices/2oyMu23yRDGiQnMpvoE7IQ/0/__B3VmwK2rQ_2eF8JKe3Ip4Q\n",
      "_data/indices/2oyMu23yRDGiQnMpvoE7IQ/0/__NTBhPO6IRSCtRDeHvM2rHA\n",
      "_data/indices/2oyMu23yRDGiQnMpvoE7IQ/0/__UhEWlDaNSO62oBsD3wQv7g\n",
      "_data/indices/2oyMu23yRDGiQnMpvoE7IQ/0/__zLlLxwvgRj6bgbVcVO9lTw\n",
      "_data/indices/2oyMu23yRDGiQnMpvoE7IQ/0/__wLJAzBfBQ3SNVVAMwo2AIw\n",
      "_data/indices/2oyMu23yRDGiQnMpvoE7IQ/0/__xsEOTBynTlGN0wDSmS1kdA\n",
      "_data/indices/2oyMu23yRDGiQnMpvoE7IQ/0/__Aeh-QHAAT0W4DTT-mk0V1w\n",
      "_data/indices/2oyMu23yRDGiQnMpvoE7IQ/0/__Rm3Av2i_Qme_3Ch32KguJQ\n",
      "_data/indices/2oyMu23yRDGiQnMpvoE7IQ/0/__H92KAuQER7qZAP8XyKDAhg\n",
      "_data/indices/2oyMu23yRDGiQnMpvoE7IQ/0/snap-zLt1yM6tRmmMpnqxZMjj2A.dat\n",
      "_data/indices/2oyMu23yRDGiQnMpvoE7IQ/0/__EaUIk_XwQJWfrRenR6EKFw\n",
      "_data/indices/2oyMu23yRDGiQnMpvoE7IQ/0/__SU3oN_2jQCaXo7JnbMHQKw\n",
      "_data/indices/2oyMu23yRDGiQnMpvoE7IQ/0/__8KW46B4URMut3VpE0TlN8Q\n",
      "_data/indices/2oyMu23yRDGiQnMpvoE7IQ/0/__2rYSYhdKSVaiJ1aQk9ZslQ\n",
      "_data/indices/2oyMu23yRDGiQnMpvoE7IQ/0/__Zqja0gUgS46XoifVGQcYYg\n",
      "_data/indices/2oyMu23yRDGiQnMpvoE7IQ/0/__vPRpCF9IRQem-pLSvRI1jA\n",
      "_data/indices/2oyMu23yRDGiQnMpvoE7IQ/0/__LBwu5ig4QUOKbYQZtPzLtA\n",
      "_data/indices/2oyMu23yRDGiQnMpvoE7IQ/0/__De3uyajRRcyqaV0ABEknvA\n",
      "_data/indices/2oyMu23yRDGiQnMpvoE7IQ/0/__AZhc-ptSTROsZ2VhhPRDzA\n",
      "_data/indices/2oyMu23yRDGiQnMpvoE7IQ/meta-Cbibi4gBMQKlzNGxJMF1.dat\n",
      "_data/index.latest\n",
      "_data/index-1\n",
      "_data/snap-zLt1yM6tRmmMpnqxZMjj2A.dat\n",
      "_data/meta-zLt1yM6tRmmMpnqxZMjj2A.dat\n"
     ]
    }
   ],
   "source": [
    "# Enter your elk snapshot tar file name (must be in data_transfer_service/snapshots directory)\n",
    "snapshot_tar_name = \"elk_backup_2.tar\"\n",
    "\n",
    "# 1. Uploads TAR file to your node\n",
    "# 2. Untars data and places inside ELK's shared docker volume\n",
    "elk_tools.import_snapshot(snapshot_tar_name)"
   ]
  },
  {
   "cell_type": "markdown",
   "id": "3a78a1da-14ea-47fc-adc3-4aff40cab44d",
   "metadata": {},
   "source": [
    "#### Start the docker compose app"
   ]
  },
  {
   "cell_type": "code",
   "execution_count": 5,
   "id": "f5474159-69cd-4ee1-adb2-0e3a124d9f12",
   "metadata": {},
   "outputs": [
    {
     "name": "stdout",
     "output_type": "stream",
     "text": [
      "7.13.0: Pulling from elasticsearch/elasticsearch\n",
      "\u001b[31m Creating network \"elk-docker-container_elastic\" with driver \"bridge\"\n",
      "Creating volume \"elk-docker-container_es-data\" with local driver\n",
      "Pulling elasticsearch (docker.elastic.co/elasticsearch/elasticsearch:7.13.0)...\n",
      " \u001b[0mDigest: sha256:c7efa0260b40ebe8332c38b113b628bc33f78ab33feb97494a56d1338dc88c12\n",
      "Status: Downloaded newer image for docker.elastic.co/elasticsearch/elasticsearch:7.13.0\n",
      "\u001b[31m Pulling kibana (docker.elastic.co/kibana/kibana:7.13.0)...\n",
      " \u001b[0m7.13.0: Pulling from kibana/kibana\n",
      "Digest: sha256:2075b0a1c4881bda1536cd58fc5b240d37871419c9487fd6300c85ae5062f27c\n",
      "Status: Downloaded newer image for docker.elastic.co/kibana/kibana:7.13.0\n",
      "\u001b[31m Creating elasticsearch ... \n",
      "\u001b[1B \u001b[0m\u001b[31m Creating kibana        ... \n",
      "\u001b[1B \u001b[0mkibana        ... \u001b[32mdone\u001b[0m"
     ]
    }
   ],
   "source": [
    "elk_tools.start_docker()"
   ]
  },
  {
   "cell_type": "markdown",
   "id": "7c3ee960-56a9-495f-8a29-f5cb8bf94c06",
   "metadata": {},
   "source": [
    "#### Register the repository"
   ]
  },
  {
   "cell_type": "code",
   "execution_count": 4,
   "id": "0c7d1c3e-35fe-46c6-a275-b19ca6ace306",
   "metadata": {},
   "outputs": [
    {
     "name": "stdout",
     "output_type": "stream",
     "text": [
      "{\"acknowledged\":true}\u001b[31m   % Total    % Received % Xferd  Average Speed   Time    Time     Time  Current\n",
      "                                 Dload  Upload   Total   Spent    Left  Speed\n",
      "100   129  100    21  100   108    253   1301 --:--:-- --:--:-- --:--:--  1554\n",
      " \u001b[0m"
     ]
    }
   ],
   "source": [
    "# Choose a name for the repository your snapshot will be imported into or keep as default\n",
    "repository_name = \"imported_repository\"\n",
    "\n",
    "elk_tools.register_repository(repository_name)"
   ]
  },
  {
   "cell_type": "markdown",
   "id": "eaaab143-e8a3-4ac0-8e00-a6846f53deda",
   "metadata": {},
   "source": [
    "#### View repository after registration"
   ]
  },
  {
   "cell_type": "code",
   "execution_count": 7,
   "id": "0ef1d074-691d-4638-b1ed-11ee33091ee8",
   "metadata": {},
   "outputs": [
    {
     "name": "stdout",
     "output_type": "stream",
     "text": [
      "id              status start_epoch start_time end_epoch  end_time duration indices successful_shards failed_shards total_shards\n",
      "snapshot_test  SUCCESS 1685969379  12:49:39   1685969380 12:49:40    405ms       9                 9             0            9\n",
      "snapshot_test1 SUCCESS 1685969393  12:49:53   1685969393 12:49:53    201ms       9                 9             0            9\n",
      "\u001b[31m   % Total    % Received % Xferd  Average Speed   Time    Time     Time  Current\n",
      "                                 Dload  Upload   Total   Spent    Left  Speed\n",
      "100   384  100   384    0     0  29538      0 --:--:-- --:--:-- --:--:-- 29538\n",
      " \u001b[0m"
     ]
    }
   ],
   "source": [
    "elk_tools.view_repository(\"imported_repository\")"
   ]
  },
  {
   "cell_type": "markdown",
   "id": "0ecf14b8-a09c-411a-b128-9d50e0912b20",
   "metadata": {},
   "source": [
    "#### Delete all indices and restore snapshot (replace snapshot name and change index list if you want to customize)"
   ]
  },
  {
   "cell_type": "code",
   "execution_count": 7,
   "id": "4870a1ac-adcc-44ed-8eef-1632f4d73523",
   "metadata": {},
   "outputs": [
    {
     "name": "stdout",
     "output_type": "stream",
     "text": [
      "{\"acknowledged\":true}\u001b[31m   % Total    % Received % Xferd  Average Speed   Time    Time     Time  Current\n",
      "                                 Dload  Upload   Total   Spent    Left  Speed\n",
      "100    21  100    21    0     0  10500      0 --:--:-- --:--:-- --:--:-- 10500\n",
      " \u001b[0m{\n",
      "  \"accepted\" : true\n",
      "}\n",
      "\u001b[31m   % Total    % Received % Xferd  Average Speed   Time    Time     Time  Current\n",
      "                                 Dload  Upload   Total   Spent    Left  Speed\n",
      "100    93  100    24  100    69     58    169 --:--:-- --:--:-- --:--:--   227\n",
      " \u001b[0m"
     ]
    }
   ],
   "source": [
    "repository_name = \"imported_repository\"\n",
    "snapshot_name = \"snapshot_test\"\n",
    "\n",
    "elk_tools.restore_snapshot(repository_name, snapshot_name)"
   ]
  },
  {
   "cell_type": "markdown",
   "id": "fc98430d-01d7-4e24-ab14-43609a717951",
   "metadata": {},
   "source": [
    "### Your data is now imported on the node."
   ]
  },
  {
   "cell_type": "markdown",
   "id": "152ed58e-4442-48e2-8f4e-a5e26a12f251",
   "metadata": {},
   "source": [
    "----\n",
    "### View the index list"
   ]
  },
  {
   "cell_type": "code",
   "execution_count": 8,
   "id": "724ca7bf-fabe-48dd-b664-9f53f1adafd9",
   "metadata": {},
   "outputs": [
    {
     "name": "stdout",
     "output_type": "stream",
     "text": [
      "health status index                               uuid                   pri rep docs.count docs.deleted store.size pri.store.size\n",
      "yellow open   metricbeat-7.13.2-2023.06.05-000001 o4Kk8cflSOO5YXN-Pub4pg   1   1      12690            0        1mb            1mb\n",
      "yellow open   filebeat-7.13.2-2023.06.05-000001   qx-8oNhdSGi1jhcrt8EOZQ   1   1       8477            0      2.2mb          2.2mb\n",
      "green  open   .kibana_task_manager_7.13.0_001     WWsLfflwRTerBgESpyC5KA   1   0         10           20    102.4kb        102.4kb\n",
      "green  open   .apm-custom-link                    7uY_PoY1TfWpknbbeyC2-w   1   0          0            0       208b           208b\n",
      "green  open   .kibana-event-log-7.13.0-000001     sIv63RT_SBeLQKfl0KseRA   1   0          1            0      5.6kb          5.6kb\n",
      "green  open   .apm-agent-configuration            ofB2mABpSlOdjQqpOEYMJg   1   0          0            0       208b           208b\n",
      "green  open   .kibana_7.13.0_001                  TzCiKxT6R5WhWmMEtTuB7Q   1   0       4510         9690      5.3mb          5.3mb\n",
      "yellow open   packetbeat-7.13.2-2023.06.05-000001 9RZ6-S-KRUejRNV0jDY9sg   1   1       1143            0    836.4kb        836.4kb\n",
      "\u001b[31m   % Total    % Received % Xferd  Average Speed   Time    Time     Time  Current\n",
      "                                 Dload  Upload   Total   Spent    Left  Speed\n",
      "100  1179  100  1179    0     0  90692      0 --:--:-- --:--:-- --:--:-- 90692\n",
      " \u001b[0m"
     ]
    }
   ],
   "source": [
    "elk_tools.view_indices()"
   ]
  },
  {
   "cell_type": "markdown",
   "id": "bbe76cd6-18bd-4d7a-b7eb-a6ced9e424d3",
   "metadata": {
    "tags": []
   },
   "source": [
    "----\n",
    "### View data from Kibana"
   ]
  },
  {
   "cell_type": "markdown",
   "id": "31338427-bd19-4ce8-a287-ada885fc88ad",
   "metadata": {},
   "source": [
    "#### On your local terminal create a tunnel with:\n",
    "\n",
    "'ssh -L 10030:localhost:5601 -F ssh_config -i slice_key ubuntu@{node_ip}'\n",
    "\n",
    "#### Then go to http://localhost:10030\n",
    "----"
   ]
  },
  {
   "cell_type": "markdown",
   "id": "4f132c40-bcfb-4978-bff0-17358e1d756f",
   "metadata": {
    "tags": []
   },
   "source": [
    "### To reuse slice with new data (if you are done then just delete the slice)\n",
    "#### Take down container and remove data"
   ]
  },
  {
   "cell_type": "code",
   "execution_count": null,
   "id": "8ef9bc67-8437-4d89-99bc-8a578daffd63",
   "metadata": {},
   "outputs": [],
   "source": [
    "#elk_tools.stop_docker()\n",
    "#elk_tools.remove_data()"
   ]
  },
  {
   "cell_type": "markdown",
   "id": "357ec5a8-b253-4369-a1cc-4d1be8691ca1",
   "metadata": {},
   "source": [
    "#### Rerun steps starting from *Create Docker container and import your data*"
   ]
  }
 ],
 "metadata": {
  "kernelspec": {
   "display_name": "Python 3 (ipykernel)",
   "language": "python",
   "name": "python3"
  },
  "language_info": {
   "codemirror_mode": {
    "name": "ipython",
    "version": 3
   },
   "file_extension": ".py",
   "mimetype": "text/x-python",
   "name": "python",
   "nbconvert_exporter": "python",
   "pygments_lexer": "ipython3",
   "version": "3.9.7"
  }
 },
 "nbformat": 4,
 "nbformat_minor": 5
}

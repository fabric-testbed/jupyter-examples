{
 "cells": [
  {
   "cell_type": "markdown",
   "id": "db7900bf-ab7c-4565-a279-15c3792d9df4",
   "metadata": {},
   "source": [
    "# Import prometheus snapshot to another fabric slice"
   ]
  },
  {
   "cell_type": "markdown",
   "id": "c3c8d125-bc4d-494c-8fb8-8945749254b7",
   "metadata": {},
   "source": [
    "## Import"
   ]
  },
  {
   "cell_type": "code",
   "execution_count": 1,
   "id": "4c228a00-c126-4c51-a792-405122c87158",
   "metadata": {},
   "outputs": [
    {
     "name": "stdout",
     "output_type": "stream",
     "text": [
      "MFLib version  1.0.0 \n"
     ]
    }
   ],
   "source": [
    "import os\n",
    "import json\n",
    "import traceback\n",
    "from fabrictestbed_extensions.fablib.fablib import FablibManager as fablib_manager\n",
    "try:\n",
    "    fablib = fablib_manager()                \n",
    "    #fablib.show_config()\n",
    "except Exception as e:\n",
    "    print(f\"Exception: {e}\")\n",
    "import mflib\n",
    "print(f\"MFLib version  {mflib.__version__} \" )\n",
    "from mflib.mflib import MFLib"
   ]
  },
  {
   "cell_type": "code",
   "execution_count": 2,
   "id": "99426b52-de41-4877-8c5a-21a1c949ee60",
   "metadata": {},
   "outputs": [],
   "source": [
    "import importlib\n",
    "import mf_data_transfer\n",
    "importlib.reload(mf_data_transfer)\n",
    "from mf_data_transfer import mf_data_import"
   ]
  },
  {
   "cell_type": "markdown",
   "id": "76e29941-7239-4e5e-b106-93b854b3fe32",
   "metadata": {},
   "source": [
    "## Slice Info"
   ]
  },
  {
   "cell_type": "code",
   "execution_count": 3,
   "id": "9e7f0f47-a59b-4451-bed1-772c5adad033",
   "metadata": {},
   "outputs": [],
   "source": [
    "slice_name = \"backup-testing\"\n",
    "node1_name = 'data-backup'"
   ]
  },
  {
   "cell_type": "code",
   "execution_count": 4,
   "id": "c8b7ce25-2365-498c-a758-39acde2b6385",
   "metadata": {},
   "outputs": [
    {
     "name": "stdout",
     "output_type": "stream",
     "text": [
      "-----------  ------------------------------------\n",
      "Slice Name   backup-testing\n",
      "Slice ID     a51c0f31-82a8-46b1-b19d-5e9216016dbf\n",
      "Slice State  StableOK\n",
      "Lease End    2023-06-13 00:02:12 +0000\n",
      "-----------  ------------------------------------\n"
     ]
    }
   ],
   "source": [
    "try:\n",
    "    slice = fablib.get_slice(name=slice_name)\n",
    "except Exception as e:\n",
    "    print(f\"Fail: {e}\")\n",
    "print (slice)\n",
    "\n",
    "try:\n",
    "    node = slice.get_node(name=node1_name)\n",
    "except Exception as e:\n",
    "    print(f\"Fail: {e}\")"
   ]
  },
  {
   "cell_type": "markdown",
   "id": "cb72b446-97b5-42b2-bfc2-6fed9d55f213",
   "metadata": {},
   "source": [
    "## Untar the snapshot tar file"
   ]
  },
  {
   "cell_type": "code",
   "execution_count": 5,
   "id": "5e0c82d8-3ab0-4126-be02-43910f2d0c4f",
   "metadata": {},
   "outputs": [
    {
     "name": "stdout",
     "output_type": "stream",
     "text": [
      "\u001b[31m sudo: unable to resolve host data-backup: Name or service not known\n",
      " \u001b[0m"
     ]
    },
    {
     "data": {
      "text/plain": [
       "('', 'sudo: unable to resolve host data-backup: Name or service not known\\n')"
      ]
     },
     "execution_count": 5,
     "metadata": {},
     "output_type": "execute_result"
    }
   ],
   "source": [
    "# Create the snapshot folder\n",
    "prometheus_snapshot_path = \"/home/ubuntu/prom_data\"\n",
    "node.execute(f\"sudo mkdir -p {prometheus_snapshot_path}/snapshots\")"
   ]
  },
  {
   "cell_type": "code",
   "execution_count": 6,
   "id": "ede9146b-e47c-4bfa-8df1-142af05a1afe",
   "metadata": {},
   "outputs": [
    {
     "data": {
      "text/plain": [
       "('20230529T234802Z-4be04af16c86e4ea/\\n20230529T234802Z-4be04af16c86e4ea/01H1MYJR5DEY9FCNRD15HZSVNN/\\n20230529T234802Z-4be04af16c86e4ea/01H1MYJR5DEY9FCNRD15HZSVNN/tombstones\\n20230529T234802Z-4be04af16c86e4ea/01H1MYJR5DEY9FCNRD15HZSVNN/index\\n20230529T234802Z-4be04af16c86e4ea/01H1MYJR5DEY9FCNRD15HZSVNN/meta.json\\n20230529T234802Z-4be04af16c86e4ea/01H1MYJR5DEY9FCNRD15HZSVNN/chunks/\\n20230529T234802Z-4be04af16c86e4ea/01H1MYJR5DEY9FCNRD15HZSVNN/chunks/000001\\n',\n",
       " 'sudo: unable to resolve host data-backup: Name or service not known\\n')"
      ]
     },
     "execution_count": 6,
     "metadata": {},
     "output_type": "execute_result"
    }
   ],
   "source": [
    "# Untar the prometheus tar file, change the file name\n",
    "prometheus_tar_file_name = \"20230529T234802Z-4be04af16c86e4ea.tar\"\n",
    "prometheus_tar_path = \"/home/ubuntu/prometheus/download\"\n",
    "\n",
    "cmd = f'sudo tar -xvf {prometheus_tar_path}/{prometheus_tar_file_name} -C {prometheus_snapshot_path}/snapshots'\n",
    "node.execute(cmd, quiet=True)"
   ]
  },
  {
   "cell_type": "code",
   "execution_count": 7,
   "id": "2b7c0839-e871-4f3e-9434-62124d028448",
   "metadata": {},
   "outputs": [
    {
     "data": {
      "text/plain": [
       "('20230529T234802Z-4be04af16c86e4ea\\n',\n",
       " 'sudo: unable to resolve host data-backup: Name or service not known\\n')"
      ]
     },
     "execution_count": 7,
     "metadata": {},
     "output_type": "execute_result"
    }
   ],
   "source": [
    "node.execute(f\"sudo ls {prometheus_snapshot_path}/snapshots\", quiet=True)"
   ]
  },
  {
   "cell_type": "markdown",
   "id": "551fa2bc-48a7-4ac7-85c2-bf1d8af2df51",
   "metadata": {},
   "source": [
    "## Start prometheus container"
   ]
  },
  {
   "cell_type": "code",
   "execution_count": 8,
   "id": "c74fe516-dec8-48be-af9c-5a40526b5b0b",
   "metadata": {},
   "outputs": [
    {
     "data": {
      "text/plain": [
       "<SFTPAttributes: [ size=287 uid=1000 gid=1000 mode=0o100664 atime=1685406198 mtime=1685406198 ]>"
      ]
     },
     "execution_count": 8,
     "metadata": {},
     "output_type": "execute_result"
    }
   ],
   "source": [
    "# Upload an example prometheus.yml file\n",
    "node.upload_file(local_file_path=\"/home/fabric/work/data_transfer/prometheus_docker/prometheus.yml\", \n",
    "                 remote_file_path='/home/ubuntu/prometheus.yml')"
   ]
  },
  {
   "cell_type": "code",
   "execution_count": 9,
   "id": "d0549017-312b-4bdc-81be-a5c33421955a",
   "metadata": {
    "scrolled": true,
    "tags": []
   },
   "outputs": [
    {
     "name": "stdout",
     "output_type": "stream",
     "text": [
      "f207407bdae221c54f5d9666276abe091d2e0b2b1868d83a315a76a1330a24a6\n",
      "\u001b[31m sudo: unable to resolve host data-backup: Name or service not known\n",
      "Unable to find image 'prom/prometheus:v2.33.4' locally\n",
      "v2.33.4: Pulling from prom/prometheus\n",
      "009932687766: Pulling fs layer\n",
      "ff9264fbb6f4: Pulling fs layer\n",
      "1ad6d9643fdd: Pulling fs layer\n",
      "e6f7fea04459: Pulling fs layer\n",
      "63fc05a36a59: Pulling fs layer\n",
      "604ad6adddc4: Pulling fs layer\n",
      "54b552d4bfbc: Pulling fs layer\n",
      "a23b2328402c: Pulling fs layer\n",
      "9ec38b0764ed: Pulling fs layer\n",
      "cf8aa72409ac: Pulling fs layer\n",
      "7104c0fa6750: Pulling fs layer\n",
      "b782297611dd: Pulling fs layer\n",
      "54b552d4bfbc: Waiting\n",
      "a23b2328402c: Waiting\n",
      "9ec38b0764ed: Waiting\n",
      "cf8aa72409ac: Waiting\n",
      "7104c0fa6750: Waiting\n",
      "b782297611dd: Waiting\n",
      "e6f7fea04459: Waiting\n",
      "604ad6adddc4: Waiting\n",
      "63fc05a36a59: Waiting\n",
      "ff9264fbb6f4: Verifying Checksum\n",
      "ff9264fbb6f4: Download complete\n",
      "009932687766: Verifying Checksum\n",
      "009932687766: Download complete\n",
      "009932687766: Pull complete\n",
      "ff9264fbb6f4: Pull complete\n",
      "1ad6d9643fdd: Verifying Checksum\n",
      "1ad6d9643fdd: Download complete\n",
      "63fc05a36a59: Verifying Checksum\n",
      "63fc05a36a59: Download complete\n",
      "604ad6adddc4: Verifying Checksum\n",
      "604ad6adddc4: Download complete\n",
      "54b552d4bfbc: Verifying Checksum\n",
      "54b552d4bfbc: Download complete\n",
      "e6f7fea04459: Verifying Checksum\n",
      "e6f7fea04459: Download complete\n",
      "9ec38b0764ed: Verifying Checksum\n",
      "a23b2328402c: Verifying Checksum\n",
      "a23b2328402c: Download complete\n",
      "9ec38b0764ed: Download complete\n",
      "1ad6d9643fdd: Pull complete\n",
      "cf8aa72409ac: Verifying Checksum\n",
      "cf8aa72409ac: Download complete\n",
      "7104c0fa6750: Verifying Checksum\n",
      "7104c0fa6750: Download complete\n",
      "b782297611dd: Verifying Checksum\n",
      "b782297611dd: Download complete\n",
      "e6f7fea04459: Pull complete\n",
      "63fc05a36a59: Pull complete\n",
      "604ad6adddc4: Pull complete\n",
      "54b552d4bfbc: Pull complete\n",
      "a23b2328402c: Pull complete\n",
      "9ec38b0764ed: Pull complete\n",
      "cf8aa72409ac: Pull complete\n",
      "7104c0fa6750: Pull complete\n",
      "b782297611dd: Pull complete\n",
      "Digest: sha256:fb7e3a27469dd7e15f3b181cf510954db04b855722be94448dc23494005c433c\n",
      "Status: Downloaded newer image for prom/prometheus:v2.33.4\n",
      " \u001b[0m"
     ]
    },
    {
     "data": {
      "text/plain": [
       "('f207407bdae221c54f5d9666276abe091d2e0b2b1868d83a315a76a1330a24a6\\n',\n",
       " \"sudo: unable to resolve host data-backup: Name or service not known\\nUnable to find image 'prom/prometheus:v2.33.4' locally\\nv2.33.4: Pulling from prom/prometheus\\n009932687766: Pulling fs layer\\nff9264fbb6f4: Pulling fs layer\\n1ad6d9643fdd: Pulling fs layer\\ne6f7fea04459: Pulling fs layer\\n63fc05a36a59: Pulling fs layer\\n604ad6adddc4: Pulling fs layer\\n54b552d4bfbc: Pulling fs layer\\na23b2328402c: Pulling fs layer\\n9ec38b0764ed: Pulling fs layer\\ncf8aa72409ac: Pulling fs layer\\n7104c0fa6750: Pulling fs layer\\nb782297611dd: Pulling fs layer\\n54b552d4bfbc: Waiting\\na23b2328402c: Waiting\\n9ec38b0764ed: Waiting\\ncf8aa72409ac: Waiting\\n7104c0fa6750: Waiting\\nb782297611dd: Waiting\\ne6f7fea04459: Waiting\\n604ad6adddc4: Waiting\\n63fc05a36a59: Waiting\\nff9264fbb6f4: Verifying Checksum\\nff9264fbb6f4: Download complete\\n009932687766: Verifying Checksum\\n009932687766: Download complete\\n009932687766: Pull complete\\nff9264fbb6f4: Pull complete\\n1ad6d9643fdd: Verifying Checksum\\n1ad6d9643fdd: Download complete\\n63fc05a36a59: Verifying Checksum\\n63fc05a36a59: Download complete\\n604ad6adddc4: Verifying Checksum\\n604ad6adddc4: Download complete\\n54b552d4bfbc: Verifying Checksum\\n54b552d4bfbc: Download complete\\ne6f7fea04459: Verifying Checksum\\ne6f7fea04459: Download complete\\n9ec38b0764ed: Verifying Checksum\\na23b2328402c: Verifying Checksum\\na23b2328402c: Download complete\\n9ec38b0764ed: Download complete\\n1ad6d9643fdd: Pull complete\\ncf8aa72409ac: Verifying Checksum\\ncf8aa72409ac: Download complete\\n7104c0fa6750: Verifying Checksum\\n7104c0fa6750: Download complete\\nb782297611dd: Verifying Checksum\\nb782297611dd: Download complete\\ne6f7fea04459: Pull complete\\n63fc05a36a59: Pull complete\\n604ad6adddc4: Pull complete\\n54b552d4bfbc: Pull complete\\na23b2328402c: Pull complete\\n9ec38b0764ed: Pull complete\\ncf8aa72409ac: Pull complete\\n7104c0fa6750: Pull complete\\nb782297611dd: Pull complete\\nDigest: sha256:fb7e3a27469dd7e15f3b181cf510954db04b855722be94448dc23494005c433c\\nStatus: Downloaded newer image for prom/prometheus:v2.33.4\\n\")"
      ]
     },
     "execution_count": 9,
     "metadata": {},
     "output_type": "execute_result"
    }
   ],
   "source": [
    "# start the prometheus docker container\n",
    "prom_snapshot_name= \"20230529T234802Z-4be04af16c86e4ea\"\n",
    "prom_yml_path = \"/home/ubuntu/prometheus.yml\"\n",
    "prometheus_snapshot_path = \"/home/ubuntu/prom_data/snapshots\"\n",
    "\n",
    "cmd = f'''\n",
    "          sudo docker run --rm -dit --name prometheus \\\n",
    "          --user 0:0 \\\n",
    "          -p 9090:9090 \\\n",
    "          -v {prometheus_snapshot_path}/{prom_snapshot_name}:/prometheus:rw \\\n",
    "          -v {prom_yml_path}:/etc/prometheus/prometheus.yml \\\n",
    "          prom/prometheus:v2.33.4 \\\n",
    "          --config.file=/etc/prometheus/prometheus.yml \\\n",
    "          --web.enable-admin-api \\\n",
    "          --web.enable-lifecycle \\\n",
    "          --storage.tsdb.path=/prometheus\n",
    "      '''\n",
    "node.execute(cmd)"
   ]
  },
  {
   "cell_type": "code",
   "execution_count": 10,
   "id": "65cf42c7-7971-4022-8815-e8d6e3747f8a",
   "metadata": {},
   "outputs": [
    {
     "name": "stdout",
     "output_type": "stream",
     "text": [
      "CONTAINER ID   IMAGE                     COMMAND                  CREATED          STATUS          PORTS                                       NAMES\n",
      "f207407bdae2   prom/prometheus:v2.33.4   \"/bin/prometheus --c…\"   17 seconds ago   Up 14 seconds   0.0.0.0:9090->9090/tcp, :::9090->9090/tcp   prometheus\n",
      "43ca34ee7daf   data_transfer:1.0         \"python3\"                7 minutes ago    Up 7 minutes                                                data_transfer\n",
      "\u001b[31m sudo: unable to resolve host data-backup: Name or service not known\n",
      " \u001b[0m"
     ]
    },
    {
     "data": {
      "text/plain": [
       "('CONTAINER ID   IMAGE                     COMMAND                  CREATED          STATUS          PORTS                                       NAMES\\nf207407bdae2   prom/prometheus:v2.33.4   \"/bin/prometheus --c…\"   17 seconds ago   Up 14 seconds   0.0.0.0:9090->9090/tcp, :::9090->9090/tcp   prometheus\\n43ca34ee7daf   data_transfer:1.0         \"python3\"                7 minutes ago    Up 7 minutes                                                data_transfer\\n',\n",
       " 'sudo: unable to resolve host data-backup: Name or service not known\\n')"
      ]
     },
     "execution_count": 10,
     "metadata": {},
     "output_type": "execute_result"
    }
   ],
   "source": [
    "node.execute(\"sudo docker ps\")"
   ]
  },
  {
   "cell_type": "markdown",
   "id": "f5b37a6c-fc01-44a1-a3ae-16ae9f9f4d06",
   "metadata": {},
   "source": [
    "## Query the metrics"
   ]
  },
  {
   "cell_type": "code",
   "execution_count": 11,
   "id": "fac1f80e-a87d-4f7f-b805-b70e685f9e06",
   "metadata": {
    "scrolled": true,
    "tags": []
   },
   "outputs": [
    {
     "name": "stdout",
     "output_type": "stream",
     "text": [
      "{\"status\":\"success\",\"data\":[\"docker_containers\",\"docker_probe_duration_seconds_bucket\",\"docker_probe_duration_seconds_count\",\"docker_probe_duration_seconds_sum\",\"docker_probe_list_containers_duration_seconds_bucket\",\"docker_probe_list_containers_duration_seconds_count\",\"docker_probe_list_containers_duration_seconds_sum\",\"docker_probe_list_containers_failed_total\",\"dotnet_collection_count_total\",\"dotnet_total_memory_bytes\",\"go_gc_cycles_automatic_gc_cycles_total\",\"go_gc_cycles_forced_gc_cycles_total\",\"go_gc_cycles_total_gc_cycles_total\",\"go_gc_duration_seconds\",\"go_gc_duration_seconds_count\",\"go_gc_duration_seconds_sum\",\"go_gc_heap_allocs_by_size_bytes_total_bucket\",\"go_gc_heap_allocs_by_size_bytes_total_count\",\"go_gc_heap_allocs_by_size_bytes_total_sum\",\"go_gc_heap_allocs_bytes_total\",\"go_gc_heap_allocs_objects_total\",\"go_gc_heap_frees_by_size_bytes_total_bucket\",\"go_gc_heap_frees_by_size_bytes_total_count\",\"go_gc_heap_frees_by_size_bytes_total_sum\",\"go_gc_heap_frees_bytes_total\",\"go_gc_heap_frees_objects_total\",\"go_gc_heap_goal_bytes\",\"go_gc_heap_objects_objects\",\"go_gc_heap_tiny_allocs_objects_total\",\"go_gc_pauses_seconds_total_bucket\",\"go_gc_pauses_seconds_total_count\",\"go_gc_pauses_seconds_total_sum\",\"go_goroutines\",\"go_info\",\"go_memory_classes_heap_free_bytes\",\"go_memory_classes_heap_objects_bytes\",\"go_memory_classes_heap_released_bytes\",\"go_memory_classes_heap_stacks_bytes\",\"go_memory_classes_heap_unused_bytes\",\"go_memory_classes_metadata_mcache_free_bytes\",\"go_memory_classes_metadata_mcache_inuse_bytes\",\"go_memory_classes_metadata_mspan_free_bytes\",\"go_memory_classes_metadata_mspan_inuse_bytes\",\"go_memory_classes_metadata_other_bytes\",\"go_memory_classes_os_stacks_bytes\",\"go_memory_classes_other_bytes\",\"go_memory_classes_profiling_buckets_bytes\",\"go_memory_classes_total_bytes\",\"go_memstats_alloc_bytes\",\"go_memstats_alloc_bytes_total\",\"go_memstats_buck_hash_sys_bytes\",\"go_memstats_frees_total\",\"go_memstats_gc_cpu_fraction\",\"go_memstats_gc_sys_bytes\",\"go_memstats_heap_alloc_bytes\",\"go_memstats_heap_idle_bytes\",\"go_memstats_heap_inuse_bytes\",\"go_memstats_heap_objects\",\"go_memstats_heap_released_bytes\",\"go_memstats_heap_sys_bytes\",\"go_memstats_last_gc_time_seconds\",\"go_memstats_lookups_total\",\"go_memstats_mallocs_total\",\"go_memstats_mcache_inuse_bytes\",\"go_memstats_mcache_sys_bytes\",\"go_memstats_mspan_inuse_bytes\",\"go_memstats_mspan_sys_bytes\",\"go_memstats_next_gc_bytes\",\"go_memstats_other_sys_bytes\",\"go_memstats_stack_inuse_bytes\",\"go_memstats_stack_sys_bytes\",\"go_memstats_sys_bytes\",\"go_sched_goroutines_goroutines\",\"go_sched_latencies_seconds_bucket\",\"go_sched_latencies_seconds_count\",\"go_sched_latencies_seconds_sum\",\"go_threads\",\"net_conntrack_dialer_conn_attempted_total\",\"net_conntrack_dialer_conn_closed_total\",\"net_conntrack_dialer_conn_established_total\",\"net_conntrack_dialer_conn_failed_total\",\"net_conntrack_listener_conn_accepted_total\",\"net_conntrack_listener_conn_closed_total\",\"node_arp_entries\",\"node_boot_time_seconds\",\"node_context_switches_total\",\"node_cooling_device_cur_state\",\"node_cooling_device_max_state\",\"node_cpu_guest_seconds_total\",\"node_cpu_seconds_total\",\"node_disk_discard_time_seconds_total\",\"node_disk_discarded_sectors_total\",\"node_disk_discards_completed_total\",\"node_disk_discards_merged_total\",\"node_disk_io_now\",\"node_disk_io_time_seconds_total\",\"node_disk_io_time_weighted_seconds_total\",\"node_disk_read_bytes_total\",\"node_disk_read_time_seconds_total\",\"node_disk_reads_completed_total\",\"node_disk_reads_merged_total\",\"node_disk_write_time_seconds_total\",\"node_disk_writes_completed_total\",\"node_disk_writes_merged_total\",\"node_disk_written_bytes_total\",\"node_entropy_available_bits\",\"node_entropy_pool_size_bits\",\"node_exporter_build_info\",\"node_filefd_allocated\",\"node_filefd_maximum\",\"node_filesystem_avail_bytes\",\"node_filesystem_device_error\",\"node_filesystem_files\",\"node_filesystem_files_free\",\"node_filesystem_free_bytes\",\"node_filesystem_readonly\",\"node_filesystem_size_bytes\",\"node_forks_total\",\"node_hwmon_chip_names\",\"node_infiniband_info\",\"node_infiniband_link_downed_total\",\"node_infiniband_link_error_recovery_total\",\"node_infiniband_multicast_packets_received_total\",\"node_infiniband_multicast_packets_transmitted_total\",\"node_infiniband_physical_state_id\",\"node_infiniband_port_constraint_errors_received_total\",\"node_infiniband_port_constraint_errors_transmitted_total\",\"node_infiniband_port_data_received_bytes_total\",\"node_infiniband_port_data_transmitted_bytes_total\",\"node_infiniband_port_discards_transmitted_total\",\"node_infiniband_port_errors_received_total\",\"node_infiniband_port_packets_received_total\",\"node_infiniband_port_packets_transmitted_total\",\"node_infiniband_port_receive_remote_physical_errors_total\",\"node_infiniband_port_receive_switch_relay_errors_total\",\"node_infiniband_port_transmit_wait_total\",\"node_infiniband_rate_bytes_per_second\",\"node_infiniband_state_id\",\"node_infiniband_symbol_error_total\",\"node_infiniband_unicast_packets_received_total\",\"node_infiniband_unicast_packets_transmitted_total\",\"node_infiniband_vl15_dropped_total\",\"node_intr_total\",\"node_load1\",\"node_load15\",\"node_load5\",\"node_memory_Active_anon_bytes\",\"node_memory_Active_bytes\",\"node_memory_Active_file_bytes\",\"node_memory_AnonHugePages_bytes\",\"node_memory_AnonPages_bytes\",\"node_memory_Bounce_bytes\",\"node_memory_Buffers_bytes\",\"node_memory_Cached_bytes\",\"node_memory_CommitLimit_bytes\",\"node_memory_Committed_AS_bytes\",\"node_memory_DirectMap1G_bytes\",\"node_memory_DirectMap2M_bytes\",\"node_memory_DirectMap4k_bytes\",\"node_memory_Dirty_bytes\",\"node_memory_FileHugePages_bytes\",\"node_memory_FilePmdMapped_bytes\",\"node_memory_HardwareCorrupted_bytes\",\"node_memory_HugePages_Free\",\"node_memory_HugePages_Rsvd\",\"node_memory_HugePages_Surp\",\"node_memory_HugePages_Total\",\"node_memory_Hugepagesize_bytes\",\"node_memory_Hugetlb_bytes\",\"node_memory_Inactive_anon_bytes\",\"node_memory_Inactive_bytes\",\"node_memory_Inactive_file_bytes\",\"node_memory_KReclaimable_bytes\",\"node_memory_KernelStack_bytes\",\"node_memory_Mapped_bytes\",\"node_memory_MemAvailable_bytes\",\"node_memory_MemFree_bytes\",\"node_memory_MemTotal_bytes\",\"node_memory_Mlocked_bytes\",\"node_memory_NFS_Unstable_bytes\",\"node_memory_PageTables_bytes\",\"node_memory_Percpu_bytes\",\"node_memory_SReclaimable_bytes\",\"node_memory_SUnreclaim_bytes\",\"node_memory_ShmemHugePages_bytes\",\"node_memory_ShmemPmdMapped_bytes\",\"node_memory_Shmem_bytes\",\"node_memory_Slab_bytes\",\"node_memory_SwapCached_bytes\",\"node_memory_SwapFree_bytes\",\"node_memory_SwapTotal_bytes\",\"node_memory_Unevictable_bytes\",\"node_memory_VmallocChunk_bytes\",\"node_memory_VmallocTotal_bytes\",\"node_memory_VmallocUsed_bytes\",\"node_memory_WritebackTmp_bytes\",\"node_memory_Writeback_bytes\",\"node_netstat_Icmp6_InErrors\",\"node_netstat_Icmp6_InMsgs\",\"node_netstat_Icmp6_OutMsgs\",\"node_netstat_Icmp_InErrors\",\"node_netstat_Icmp_InMsgs\",\"node_netstat_Icmp_OutMsgs\",\"node_netstat_Ip6_InOctets\",\"node_netstat_Ip6_OutOctets\",\"node_netstat_IpExt_InOctets\",\"node_netstat_IpExt_OutOctets\",\"node_netstat_Ip_Forwarding\",\"node_netstat_TcpExt_ListenDrops\",\"node_netstat_TcpExt_ListenOverflows\",\"node_netstat_TcpExt_SyncookiesFailed\",\"node_netstat_TcpExt_SyncookiesRecv\",\"node_netstat_TcpExt_SyncookiesSent\",\"node_netstat_TcpExt_TCPSynRetrans\",\"node_netstat_Tcp_ActiveOpens\",\"node_netstat_Tcp_CurrEstab\",\"node_netstat_Tcp_InErrs\",\"node_netstat_Tcp_InSegs\",\"node_netstat_Tcp_OutRsts\",\"node_netstat_Tcp_OutSegs\",\"node_netstat_Tcp_PassiveOpens\",\"node_netstat_Tcp_RetransSegs\",\"node_netstat_Udp6_InDatagrams\",\"node_netstat_Udp6_InErrors\",\"node_netstat_Udp6_NoPorts\",\"node_netstat_Udp6_OutDatagrams\",\"node_netstat_Udp6_RcvbufErrors\",\"node_netstat_Udp6_SndbufErrors\",\"node_netstat_UdpLite6_InErrors\",\"node_netstat_UdpLite_InErrors\",\"node_netstat_Udp_InDatagrams\",\"node_netstat_Udp_InErrors\",\"node_netstat_Udp_NoPorts\",\"node_netstat_Udp_OutDatagrams\",\"node_netstat_Udp_RcvbufErrors\",\"node_netstat_Udp_SndbufErrors\",\"node_network_address_assign_type\",\"node_network_carrier\",\"node_network_carrier_changes_total\",\"node_network_carrier_down_changes_total\",\"node_network_carrier_up_changes_total\",\"node_network_device_id\",\"node_network_dormant\",\"node_network_flags\",\"node_network_iface_id\",\"node_network_iface_link\",\"node_network_iface_link_mode\",\"node_network_info\",\"node_network_mtu_bytes\",\"node_network_name_assign_type\",\"node_network_net_dev_group\",\"node_network_protocol_type\",\"node_network_receive_bytes_total\",\"node_network_receive_compressed_total\",\"node_network_receive_drop_total\",\"node_network_receive_errs_total\",\"node_network_receive_fifo_total\",\"node_network_receive_frame_total\",\"node_network_receive_multicast_total\",\"node_network_receive_packets_total\",\"node_network_speed_bytes\",\"node_network_transmit_bytes_total\",\"node_network_transmit_carrier_total\",\"node_network_transmit_colls_total\",\"node_network_transmit_compressed_total\",\"node_network_transmit_drop_total\",\"node_network_transmit_errs_total\",\"node_network_transmit_fifo_total\",\"node_network_transmit_packets_total\",\"node_network_transmit_queue_length\",\"node_network_up\",\"node_nf_conntrack_entries\",\"node_nf_conntrack_entries_limit\",\"node_procs_blocked\",\"node_procs_running\",\"node_schedstat_running_seconds_total\",\"node_schedstat_timeslices_total\",\"node_schedstat_waiting_seconds_total\",\"node_scrape_collector_duration_seconds\",\"node_scrape_collector_success\",\"node_sockstat_FRAG6_inuse\",\"node_sockstat_FRAG6_memory\",\"node_sockstat_FRAG_inuse\",\"node_sockstat_FRAG_memory\",\"node_sockstat_RAW6_inuse\",\"node_sockstat_RAW_inuse\",\"node_sockstat_TCP6_inuse\",\"node_sockstat_TCP_alloc\",\"node_sockstat_TCP_inuse\",\"node_sockstat_TCP_mem\",\"node_sockstat_TCP_mem_bytes\",\"node_sockstat_TCP_orphan\",\"node_sockstat_TCP_tw\",\"node_sockstat_UDP6_inuse\",\"node_sockstat_UDPLITE6_inuse\",\"node_sockstat_UDPLITE_inuse\",\"node_sockstat_UDP_inuse\",\"node_sockstat_UDP_mem\",\"node_sockstat_UDP_mem_bytes\",\"node_sockstat_sockets_used\",\"node_softnet_dropped_total\",\"node_softnet_processed_total\",\"node_softnet_times_squeezed_total\",\"node_systemd_socket_accepted_connections_total\",\"node_systemd_socket_current_connections\",\"node_systemd_socket_refused_connections_total\",\"node_systemd_system_running\",\"node_systemd_timer_last_trigger_seconds\",\"node_systemd_unit_state\",\"node_systemd_units\",\"node_systemd_version\",\"node_textfile_scrape_error\",\"node_time_seconds\",\"node_timex_estimated_error_seconds\",\"node_timex_frequency_adjustment_ratio\",\"node_timex_loop_time_constant\",\"node_timex_maxerror_seconds\",\"node_timex_offset_seconds\",\"node_timex_pps_calibration_total\",\"node_timex_pps_error_total\",\"node_timex_pps_frequency_hertz\",\"node_timex_pps_jitter_seconds\",\"node_timex_pps_jitter_total\",\"node_timex_pps_shift_seconds\",\"node_timex_pps_stability_exceeded_total\",\"node_timex_pps_stability_hertz\",\"node_timex_status\",\"node_timex_sync_status\",\"node_timex_tai_offset_seconds\",\"node_timex_tick_seconds\",\"node_udp_queues\",\"node_uname_info\",\"node_vmstat_oom_kill\",\"node_vmstat_pgfault\",\"node_vmstat_pgmajfault\",\"node_vmstat_pgpgin\",\"node_vmstat_pgpgout\",\"node_vmstat_pswpin\",\"node_vmstat_pswpout\",\"probe_dns_lookup_time_seconds\",\"probe_duration_seconds\",\"probe_icmp_duration_seconds\",\"probe_icmp_reply_hop_limit\",\"probe_ip_addr_hash\",\"probe_ip_protocol\",\"probe_success\",\"process_cpu_seconds_total\",\"process_max_fds\",\"process_num_threads\",\"process_open_fds\",\"process_open_handles\",\"process_private_memory_bytes\",\"process_resident_memory_bytes\",\"process_start_time_seconds\",\"process_virtual_memory_bytes\",\"process_virtual_memory_max_bytes\",\"process_working_set_bytes\",\"prometheus_api_remote_read_queries\",\"prometheus_build_info\",\"prometheus_config_last_reload_success_timestamp_seconds\",\"prometheus_config_last_reload_successful\",\"prometheus_engine_queries\",\"prometheus_engine_queries_concurrent_max\",\"prometheus_engine_query_duration_seconds\",\"prometheus_engine_query_duration_seconds_count\",\"prometheus_engine_query_duration_seconds_sum\",\"prometheus_engine_query_log_enabled\",\"prometheus_engine_query_log_failures_total\",\"prometheus_http_request_duration_seconds_bucket\",\"prometheus_http_request_duration_seconds_count\",\"prometheus_http_request_duration_seconds_sum\",\"prometheus_http_requests_total\",\"prometheus_http_response_size_bytes_bucket\",\"prometheus_http_response_size_bytes_count\",\"prometheus_http_response_size_bytes_sum\",\"prometheus_notifications_alertmanagers_discovered\",\"prometheus_notifications_dropped_total\",\"prometheus_notifications_errors_total\",\"prometheus_notifications_queue_capacity\",\"prometheus_notifications_queue_length\",\"prometheus_notifications_sent_total\",\"prometheus_remote_storage_exemplars_in_total\",\"prometheus_remote_storage_highest_timestamp_in_seconds\",\"prometheus_remote_storage_samples_in_total\",\"prometheus_remote_storage_string_interner_zero_reference_releases_total\",\"prometheus_rule_evaluation_duration_seconds\",\"prometheus_rule_evaluation_duration_seconds_count\",\"prometheus_rule_evaluation_duration_seconds_sum\",\"prometheus_rule_group_duration_seconds\",\"prometheus_rule_group_duration_seconds_count\",\"prometheus_rule_group_duration_seconds_sum\",\"prometheus_sd_consul_rpc_duration_seconds\",\"prometheus_sd_consul_rpc_duration_seconds_count\",\"prometheus_sd_consul_rpc_duration_seconds_sum\",\"prometheus_sd_consul_rpc_failures_total\",\"prometheus_sd_discovered_targets\",\"prometheus_sd_dns_lookup_failures_total\",\"prometheus_sd_dns_lookups_total\",\"prometheus_sd_failed_configs\",\"prometheus_sd_file_mtime_seconds\",\"prometheus_sd_file_read_errors_total\",\"prometheus_sd_file_scan_duration_seconds\",\"prometheus_sd_file_scan_duration_seconds_count\",\"prometheus_sd_file_scan_duration_seconds_sum\",\"prometheus_sd_kubernetes_events_total\",\"prometheus_sd_kuma_fetch_duration_seconds\",\"prometheus_sd_kuma_fetch_duration_seconds_count\",\"prometheus_sd_kuma_fetch_duration_seconds_sum\",\"prometheus_sd_kuma_fetch_failures_total\",\"prometheus_sd_kuma_fetch_skipped_updates_total\",\"prometheus_sd_received_updates_total\",\"prometheus_sd_updates_total\",\"prometheus_target_interval_length_seconds\",\"prometheus_target_interval_length_seconds_count\",\"prometheus_target_interval_length_seconds_sum\",\"prometheus_target_metadata_cache_bytes\",\"prometheus_target_metadata_cache_entries\",\"prometheus_target_scrape_pool_exceeded_label_limits_total\",\"prometheus_target_scrape_pool_exceeded_target_limit_total\",\"prometheus_target_scrape_pool_reloads_failed_total\",\"prometheus_target_scrape_pool_reloads_total\",\"prometheus_target_scrape_pool_sync_total\",\"prometheus_target_scrape_pool_targets\",\"prometheus_target_scrape_pools_failed_total\",\"prometheus_target_scrape_pools_total\",\"prometheus_target_scrapes_cache_flush_forced_total\",\"prometheus_target_scrapes_exceeded_body_size_limit_total\",\"prometheus_target_scrapes_exceeded_sample_limit_total\",\"prometheus_target_scrapes_exemplar_out_of_order_total\",\"prometheus_target_scrapes_sample_duplicate_timestamp_total\",\"prometheus_target_scrapes_sample_out_of_bounds_total\",\"prometheus_target_scrapes_sample_out_of_order_total\",\"prometheus_target_sync_failed_total\",\"prometheus_target_sync_length_seconds\",\"prometheus_target_sync_length_seconds_count\",\"prometheus_target_sync_length_seconds_sum\",\"prometheus_template_text_expansion_failures_total\",\"prometheus_template_text_expansions_total\",\"prometheus_treecache_watcher_goroutines\",\"prometheus_treecache_zookeeper_failures_total\",\"prometheus_tsdb_blocks_loaded\",\"prometheus_tsdb_checkpoint_creations_failed_total\",\"prometheus_tsdb_checkpoint_creations_total\",\"prometheus_tsdb_checkpoint_deletions_failed_total\",\"prometheus_tsdb_checkpoint_deletions_total\",\"prometheus_tsdb_chunk_write_queue_operations_total\",\"prometheus_tsdb_clean_start\",\"prometheus_tsdb_compaction_chunk_range_seconds_bucket\",\"prometheus_tsdb_compaction_chunk_range_seconds_count\",\"prometheus_tsdb_compaction_chunk_range_seconds_sum\",\"prometheus_tsdb_compaction_chunk_samples_bucket\",\"prometheus_tsdb_compaction_chunk_samples_count\",\"prometheus_tsdb_compaction_chunk_samples_sum\",\"prometheus_tsdb_compaction_chunk_size_bytes_bucket\",\"prometheus_tsdb_compaction_chunk_size_bytes_count\",\"prometheus_tsdb_compaction_chunk_size_bytes_sum\",\"prometheus_tsdb_compaction_duration_seconds_bucket\",\"prometheus_tsdb_compaction_duration_seconds_count\",\"prometheus_tsdb_compaction_duration_seconds_sum\",\"prometheus_tsdb_compaction_populating_block\",\"prometheus_tsdb_compactions_failed_total\",\"prometheus_tsdb_compactions_skipped_total\",\"prometheus_tsdb_compactions_total\",\"prometheus_tsdb_compactions_trigg\u001b[31m sudo: unable to resolve host data-backup: Name or service not known\n",
      "  % Total    % Received % Xferd  Average Speed   Time    Time     Time  Current\n",
      "                                 Dload  Upload   Total   Spent    Left  Speed\n",
      "100 19142    0 19142    0     0  6231k      0 --:--:-- --:--:-- --:--:-- 6231k\n",
      " \u001b[0mered_total\",\"prometheus_tsdb_data_replay_duration_seconds\",\"prometheus_tsdb_exemplar_exemplars_appended_total\",\"prometheus_tsdb_exemplar_exemplars_in_storage\",\"prometheus_tsdb_exemplar_last_exemplars_timestamp_seconds\",\"prometheus_tsdb_exemplar_max_exemplars\",\"prometheus_tsdb_exemplar_out_of_order_exemplars_total\",\"prometheus_tsdb_exemplar_series_with_exemplars_in_storage\",\"prometheus_tsdb_head_active_appenders\",\"prometheus_tsdb_head_chunks\",\"prometheus_tsdb_head_chunks_created_total\",\"prometheus_tsdb_head_chunks_removed_total\",\"prometheus_tsdb_head_gc_duration_seconds_count\",\"prometheus_tsdb_head_gc_duration_seconds_sum\",\"prometheus_tsdb_head_max_time\",\"prometheus_tsdb_head_max_time_seconds\",\"prometheus_tsdb_head_min_time\",\"prometheus_tsdb_head_min_time_seconds\",\"prometheus_tsdb_head_samples_appended_total\",\"prometheus_tsdb_head_series\",\"prometheus_tsdb_head_series_created_total\",\"prometheus_tsdb_head_series_not_found_total\",\"prometheus_tsdb_head_series_removed_total\",\"prometheus_tsdb_head_truncations_failed_total\",\"prometheus_tsdb_head_truncations_total\",\"prometheus_tsdb_isolation_high_watermark\",\"prometheus_tsdb_isolation_low_watermark\",\"prometheus_tsdb_lowest_timestamp\",\"prometheus_tsdb_lowest_timestamp_seconds\",\"prometheus_tsdb_mmap_chunk_corruptions_total\",\"prometheus_tsdb_out_of_bound_samples_total\",\"prometheus_tsdb_out_of_order_samples_total\",\"prometheus_tsdb_reloads_failures_total\",\"prometheus_tsdb_reloads_total\",\"prometheus_tsdb_retention_limit_bytes\",\"prometheus_tsdb_size_retentions_total\",\"prometheus_tsdb_snapshot_replay_error_total\",\"prometheus_tsdb_storage_blocks_bytes\",\"prometheus_tsdb_symbol_table_size_bytes\",\"prometheus_tsdb_time_retentions_total\",\"prometheus_tsdb_tombstone_cleanup_seconds_bucket\",\"prometheus_tsdb_tombstone_cleanup_seconds_count\",\"prometheus_tsdb_tombstone_cleanup_seconds_sum\",\"prometheus_tsdb_vertical_compactions_total\",\"prometheus_tsdb_wal_completed_pages_total\",\"prometheus_tsdb_wal_corruptions_total\",\"prometheus_tsdb_wal_fsync_duration_seconds\",\"prometheus_tsdb_wal_fsync_duration_seconds_count\",\"prometheus_tsdb_wal_fsync_duration_seconds_sum\",\"prometheus_tsdb_wal_page_flushes_total\",\"prometheus_tsdb_wal_segment_current\",\"prometheus_tsdb_wal_truncate_duration_seconds_count\",\"prometheus_tsdb_wal_truncate_duration_seconds_sum\",\"prometheus_tsdb_wal_truncations_failed_total\",\"prometheus_tsdb_wal_truncations_total\",\"prometheus_tsdb_wal_writes_failed_total\",\"prometheus_web_federation_errors_total\",\"prometheus_web_federation_warnings_total\",\"promhttp_metric_handler_errors_total\",\"promhttp_metric_handler_requests_in_flight\",\"promhttp_metric_handler_requests_total\",\"scrape_duration_seconds\",\"scrape_samples_post_metric_relabeling\",\"scrape_samples_scraped\",\"scrape_series_added\",\"up\"]}"
     ]
    },
    {
     "data": {
      "text/plain": [
       "('{\"status\":\"success\",\"data\":[\"docker_containers\",\"docker_probe_duration_seconds_bucket\",\"docker_probe_duration_seconds_count\",\"docker_probe_duration_seconds_sum\",\"docker_probe_list_containers_duration_seconds_bucket\",\"docker_probe_list_containers_duration_seconds_count\",\"docker_probe_list_containers_duration_seconds_sum\",\"docker_probe_list_containers_failed_total\",\"dotnet_collection_count_total\",\"dotnet_total_memory_bytes\",\"go_gc_cycles_automatic_gc_cycles_total\",\"go_gc_cycles_forced_gc_cycles_total\",\"go_gc_cycles_total_gc_cycles_total\",\"go_gc_duration_seconds\",\"go_gc_duration_seconds_count\",\"go_gc_duration_seconds_sum\",\"go_gc_heap_allocs_by_size_bytes_total_bucket\",\"go_gc_heap_allocs_by_size_bytes_total_count\",\"go_gc_heap_allocs_by_size_bytes_total_sum\",\"go_gc_heap_allocs_bytes_total\",\"go_gc_heap_allocs_objects_total\",\"go_gc_heap_frees_by_size_bytes_total_bucket\",\"go_gc_heap_frees_by_size_bytes_total_count\",\"go_gc_heap_frees_by_size_bytes_total_sum\",\"go_gc_heap_frees_bytes_total\",\"go_gc_heap_frees_objects_total\",\"go_gc_heap_goal_bytes\",\"go_gc_heap_objects_objects\",\"go_gc_heap_tiny_allocs_objects_total\",\"go_gc_pauses_seconds_total_bucket\",\"go_gc_pauses_seconds_total_count\",\"go_gc_pauses_seconds_total_sum\",\"go_goroutines\",\"go_info\",\"go_memory_classes_heap_free_bytes\",\"go_memory_classes_heap_objects_bytes\",\"go_memory_classes_heap_released_bytes\",\"go_memory_classes_heap_stacks_bytes\",\"go_memory_classes_heap_unused_bytes\",\"go_memory_classes_metadata_mcache_free_bytes\",\"go_memory_classes_metadata_mcache_inuse_bytes\",\"go_memory_classes_metadata_mspan_free_bytes\",\"go_memory_classes_metadata_mspan_inuse_bytes\",\"go_memory_classes_metadata_other_bytes\",\"go_memory_classes_os_stacks_bytes\",\"go_memory_classes_other_bytes\",\"go_memory_classes_profiling_buckets_bytes\",\"go_memory_classes_total_bytes\",\"go_memstats_alloc_bytes\",\"go_memstats_alloc_bytes_total\",\"go_memstats_buck_hash_sys_bytes\",\"go_memstats_frees_total\",\"go_memstats_gc_cpu_fraction\",\"go_memstats_gc_sys_bytes\",\"go_memstats_heap_alloc_bytes\",\"go_memstats_heap_idle_bytes\",\"go_memstats_heap_inuse_bytes\",\"go_memstats_heap_objects\",\"go_memstats_heap_released_bytes\",\"go_memstats_heap_sys_bytes\",\"go_memstats_last_gc_time_seconds\",\"go_memstats_lookups_total\",\"go_memstats_mallocs_total\",\"go_memstats_mcache_inuse_bytes\",\"go_memstats_mcache_sys_bytes\",\"go_memstats_mspan_inuse_bytes\",\"go_memstats_mspan_sys_bytes\",\"go_memstats_next_gc_bytes\",\"go_memstats_other_sys_bytes\",\"go_memstats_stack_inuse_bytes\",\"go_memstats_stack_sys_bytes\",\"go_memstats_sys_bytes\",\"go_sched_goroutines_goroutines\",\"go_sched_latencies_seconds_bucket\",\"go_sched_latencies_seconds_count\",\"go_sched_latencies_seconds_sum\",\"go_threads\",\"net_conntrack_dialer_conn_attempted_total\",\"net_conntrack_dialer_conn_closed_total\",\"net_conntrack_dialer_conn_established_total\",\"net_conntrack_dialer_conn_failed_total\",\"net_conntrack_listener_conn_accepted_total\",\"net_conntrack_listener_conn_closed_total\",\"node_arp_entries\",\"node_boot_time_seconds\",\"node_context_switches_total\",\"node_cooling_device_cur_state\",\"node_cooling_device_max_state\",\"node_cpu_guest_seconds_total\",\"node_cpu_seconds_total\",\"node_disk_discard_time_seconds_total\",\"node_disk_discarded_sectors_total\",\"node_disk_discards_completed_total\",\"node_disk_discards_merged_total\",\"node_disk_io_now\",\"node_disk_io_time_seconds_total\",\"node_disk_io_time_weighted_seconds_total\",\"node_disk_read_bytes_total\",\"node_disk_read_time_seconds_total\",\"node_disk_reads_completed_total\",\"node_disk_reads_merged_total\",\"node_disk_write_time_seconds_total\",\"node_disk_writes_completed_total\",\"node_disk_writes_merged_total\",\"node_disk_written_bytes_total\",\"node_entropy_available_bits\",\"node_entropy_pool_size_bits\",\"node_exporter_build_info\",\"node_filefd_allocated\",\"node_filefd_maximum\",\"node_filesystem_avail_bytes\",\"node_filesystem_device_error\",\"node_filesystem_files\",\"node_filesystem_files_free\",\"node_filesystem_free_bytes\",\"node_filesystem_readonly\",\"node_filesystem_size_bytes\",\"node_forks_total\",\"node_hwmon_chip_names\",\"node_infiniband_info\",\"node_infiniband_link_downed_total\",\"node_infiniband_link_error_recovery_total\",\"node_infiniband_multicast_packets_received_total\",\"node_infiniband_multicast_packets_transmitted_total\",\"node_infiniband_physical_state_id\",\"node_infiniband_port_constraint_errors_received_total\",\"node_infiniband_port_constraint_errors_transmitted_total\",\"node_infiniband_port_data_received_bytes_total\",\"node_infiniband_port_data_transmitted_bytes_total\",\"node_infiniband_port_discards_transmitted_total\",\"node_infiniband_port_errors_received_total\",\"node_infiniband_port_packets_received_total\",\"node_infiniband_port_packets_transmitted_total\",\"node_infiniband_port_receive_remote_physical_errors_total\",\"node_infiniband_port_receive_switch_relay_errors_total\",\"node_infiniband_port_transmit_wait_total\",\"node_infiniband_rate_bytes_per_second\",\"node_infiniband_state_id\",\"node_infiniband_symbol_error_total\",\"node_infiniband_unicast_packets_received_total\",\"node_infiniband_unicast_packets_transmitted_total\",\"node_infiniband_vl15_dropped_total\",\"node_intr_total\",\"node_load1\",\"node_load15\",\"node_load5\",\"node_memory_Active_anon_bytes\",\"node_memory_Active_bytes\",\"node_memory_Active_file_bytes\",\"node_memory_AnonHugePages_bytes\",\"node_memory_AnonPages_bytes\",\"node_memory_Bounce_bytes\",\"node_memory_Buffers_bytes\",\"node_memory_Cached_bytes\",\"node_memory_CommitLimit_bytes\",\"node_memory_Committed_AS_bytes\",\"node_memory_DirectMap1G_bytes\",\"node_memory_DirectMap2M_bytes\",\"node_memory_DirectMap4k_bytes\",\"node_memory_Dirty_bytes\",\"node_memory_FileHugePages_bytes\",\"node_memory_FilePmdMapped_bytes\",\"node_memory_HardwareCorrupted_bytes\",\"node_memory_HugePages_Free\",\"node_memory_HugePages_Rsvd\",\"node_memory_HugePages_Surp\",\"node_memory_HugePages_Total\",\"node_memory_Hugepagesize_bytes\",\"node_memory_Hugetlb_bytes\",\"node_memory_Inactive_anon_bytes\",\"node_memory_Inactive_bytes\",\"node_memory_Inactive_file_bytes\",\"node_memory_KReclaimable_bytes\",\"node_memory_KernelStack_bytes\",\"node_memory_Mapped_bytes\",\"node_memory_MemAvailable_bytes\",\"node_memory_MemFree_bytes\",\"node_memory_MemTotal_bytes\",\"node_memory_Mlocked_bytes\",\"node_memory_NFS_Unstable_bytes\",\"node_memory_PageTables_bytes\",\"node_memory_Percpu_bytes\",\"node_memory_SReclaimable_bytes\",\"node_memory_SUnreclaim_bytes\",\"node_memory_ShmemHugePages_bytes\",\"node_memory_ShmemPmdMapped_bytes\",\"node_memory_Shmem_bytes\",\"node_memory_Slab_bytes\",\"node_memory_SwapCached_bytes\",\"node_memory_SwapFree_bytes\",\"node_memory_SwapTotal_bytes\",\"node_memory_Unevictable_bytes\",\"node_memory_VmallocChunk_bytes\",\"node_memory_VmallocTotal_bytes\",\"node_memory_VmallocUsed_bytes\",\"node_memory_WritebackTmp_bytes\",\"node_memory_Writeback_bytes\",\"node_netstat_Icmp6_InErrors\",\"node_netstat_Icmp6_InMsgs\",\"node_netstat_Icmp6_OutMsgs\",\"node_netstat_Icmp_InErrors\",\"node_netstat_Icmp_InMsgs\",\"node_netstat_Icmp_OutMsgs\",\"node_netstat_Ip6_InOctets\",\"node_netstat_Ip6_OutOctets\",\"node_netstat_IpExt_InOctets\",\"node_netstat_IpExt_OutOctets\",\"node_netstat_Ip_Forwarding\",\"node_netstat_TcpExt_ListenDrops\",\"node_netstat_TcpExt_ListenOverflows\",\"node_netstat_TcpExt_SyncookiesFailed\",\"node_netstat_TcpExt_SyncookiesRecv\",\"node_netstat_TcpExt_SyncookiesSent\",\"node_netstat_TcpExt_TCPSynRetrans\",\"node_netstat_Tcp_ActiveOpens\",\"node_netstat_Tcp_CurrEstab\",\"node_netstat_Tcp_InErrs\",\"node_netstat_Tcp_InSegs\",\"node_netstat_Tcp_OutRsts\",\"node_netstat_Tcp_OutSegs\",\"node_netstat_Tcp_PassiveOpens\",\"node_netstat_Tcp_RetransSegs\",\"node_netstat_Udp6_InDatagrams\",\"node_netstat_Udp6_InErrors\",\"node_netstat_Udp6_NoPorts\",\"node_netstat_Udp6_OutDatagrams\",\"node_netstat_Udp6_RcvbufErrors\",\"node_netstat_Udp6_SndbufErrors\",\"node_netstat_UdpLite6_InErrors\",\"node_netstat_UdpLite_InErrors\",\"node_netstat_Udp_InDatagrams\",\"node_netstat_Udp_InErrors\",\"node_netstat_Udp_NoPorts\",\"node_netstat_Udp_OutDatagrams\",\"node_netstat_Udp_RcvbufErrors\",\"node_netstat_Udp_SndbufErrors\",\"node_network_address_assign_type\",\"node_network_carrier\",\"node_network_carrier_changes_total\",\"node_network_carrier_down_changes_total\",\"node_network_carrier_up_changes_total\",\"node_network_device_id\",\"node_network_dormant\",\"node_network_flags\",\"node_network_iface_id\",\"node_network_iface_link\",\"node_network_iface_link_mode\",\"node_network_info\",\"node_network_mtu_bytes\",\"node_network_name_assign_type\",\"node_network_net_dev_group\",\"node_network_protocol_type\",\"node_network_receive_bytes_total\",\"node_network_receive_compressed_total\",\"node_network_receive_drop_total\",\"node_network_receive_errs_total\",\"node_network_receive_fifo_total\",\"node_network_receive_frame_total\",\"node_network_receive_multicast_total\",\"node_network_receive_packets_total\",\"node_network_speed_bytes\",\"node_network_transmit_bytes_total\",\"node_network_transmit_carrier_total\",\"node_network_transmit_colls_total\",\"node_network_transmit_compressed_total\",\"node_network_transmit_drop_total\",\"node_network_transmit_errs_total\",\"node_network_transmit_fifo_total\",\"node_network_transmit_packets_total\",\"node_network_transmit_queue_length\",\"node_network_up\",\"node_nf_conntrack_entries\",\"node_nf_conntrack_entries_limit\",\"node_procs_blocked\",\"node_procs_running\",\"node_schedstat_running_seconds_total\",\"node_schedstat_timeslices_total\",\"node_schedstat_waiting_seconds_total\",\"node_scrape_collector_duration_seconds\",\"node_scrape_collector_success\",\"node_sockstat_FRAG6_inuse\",\"node_sockstat_FRAG6_memory\",\"node_sockstat_FRAG_inuse\",\"node_sockstat_FRAG_memory\",\"node_sockstat_RAW6_inuse\",\"node_sockstat_RAW_inuse\",\"node_sockstat_TCP6_inuse\",\"node_sockstat_TCP_alloc\",\"node_sockstat_TCP_inuse\",\"node_sockstat_TCP_mem\",\"node_sockstat_TCP_mem_bytes\",\"node_sockstat_TCP_orphan\",\"node_sockstat_TCP_tw\",\"node_sockstat_UDP6_inuse\",\"node_sockstat_UDPLITE6_inuse\",\"node_sockstat_UDPLITE_inuse\",\"node_sockstat_UDP_inuse\",\"node_sockstat_UDP_mem\",\"node_sockstat_UDP_mem_bytes\",\"node_sockstat_sockets_used\",\"node_softnet_dropped_total\",\"node_softnet_processed_total\",\"node_softnet_times_squeezed_total\",\"node_systemd_socket_accepted_connections_total\",\"node_systemd_socket_current_connections\",\"node_systemd_socket_refused_connections_total\",\"node_systemd_system_running\",\"node_systemd_timer_last_trigger_seconds\",\"node_systemd_unit_state\",\"node_systemd_units\",\"node_systemd_version\",\"node_textfile_scrape_error\",\"node_time_seconds\",\"node_timex_estimated_error_seconds\",\"node_timex_frequency_adjustment_ratio\",\"node_timex_loop_time_constant\",\"node_timex_maxerror_seconds\",\"node_timex_offset_seconds\",\"node_timex_pps_calibration_total\",\"node_timex_pps_error_total\",\"node_timex_pps_frequency_hertz\",\"node_timex_pps_jitter_seconds\",\"node_timex_pps_jitter_total\",\"node_timex_pps_shift_seconds\",\"node_timex_pps_stability_exceeded_total\",\"node_timex_pps_stability_hertz\",\"node_timex_status\",\"node_timex_sync_status\",\"node_timex_tai_offset_seconds\",\"node_timex_tick_seconds\",\"node_udp_queues\",\"node_uname_info\",\"node_vmstat_oom_kill\",\"node_vmstat_pgfault\",\"node_vmstat_pgmajfault\",\"node_vmstat_pgpgin\",\"node_vmstat_pgpgout\",\"node_vmstat_pswpin\",\"node_vmstat_pswpout\",\"probe_dns_lookup_time_seconds\",\"probe_duration_seconds\",\"probe_icmp_duration_seconds\",\"probe_icmp_reply_hop_limit\",\"probe_ip_addr_hash\",\"probe_ip_protocol\",\"probe_success\",\"process_cpu_seconds_total\",\"process_max_fds\",\"process_num_threads\",\"process_open_fds\",\"process_open_handles\",\"process_private_memory_bytes\",\"process_resident_memory_bytes\",\"process_start_time_seconds\",\"process_virtual_memory_bytes\",\"process_virtual_memory_max_bytes\",\"process_working_set_bytes\",\"prometheus_api_remote_read_queries\",\"prometheus_build_info\",\"prometheus_config_last_reload_success_timestamp_seconds\",\"prometheus_config_last_reload_successful\",\"prometheus_engine_queries\",\"prometheus_engine_queries_concurrent_max\",\"prometheus_engine_query_duration_seconds\",\"prometheus_engine_query_duration_seconds_count\",\"prometheus_engine_query_duration_seconds_sum\",\"prometheus_engine_query_log_enabled\",\"prometheus_engine_query_log_failures_total\",\"prometheus_http_request_duration_seconds_bucket\",\"prometheus_http_request_duration_seconds_count\",\"prometheus_http_request_duration_seconds_sum\",\"prometheus_http_requests_total\",\"prometheus_http_response_size_bytes_bucket\",\"prometheus_http_response_size_bytes_count\",\"prometheus_http_response_size_bytes_sum\",\"prometheus_notifications_alertmanagers_discovered\",\"prometheus_notifications_dropped_total\",\"prometheus_notifications_errors_total\",\"prometheus_notifications_queue_capacity\",\"prometheus_notifications_queue_length\",\"prometheus_notifications_sent_total\",\"prometheus_remote_storage_exemplars_in_total\",\"prometheus_remote_storage_highest_timestamp_in_seconds\",\"prometheus_remote_storage_samples_in_total\",\"prometheus_remote_storage_string_interner_zero_reference_releases_total\",\"prometheus_rule_evaluation_duration_seconds\",\"prometheus_rule_evaluation_duration_seconds_count\",\"prometheus_rule_evaluation_duration_seconds_sum\",\"prometheus_rule_group_duration_seconds\",\"prometheus_rule_group_duration_seconds_count\",\"prometheus_rule_group_duration_seconds_sum\",\"prometheus_sd_consul_rpc_duration_seconds\",\"prometheus_sd_consul_rpc_duration_seconds_count\",\"prometheus_sd_consul_rpc_duration_seconds_sum\",\"prometheus_sd_consul_rpc_failures_total\",\"prometheus_sd_discovered_targets\",\"prometheus_sd_dns_lookup_failures_total\",\"prometheus_sd_dns_lookups_total\",\"prometheus_sd_failed_configs\",\"prometheus_sd_file_mtime_seconds\",\"prometheus_sd_file_read_errors_total\",\"prometheus_sd_file_scan_duration_seconds\",\"prometheus_sd_file_scan_duration_seconds_count\",\"prometheus_sd_file_scan_duration_seconds_sum\",\"prometheus_sd_kubernetes_events_total\",\"prometheus_sd_kuma_fetch_duration_seconds\",\"prometheus_sd_kuma_fetch_duration_seconds_count\",\"prometheus_sd_kuma_fetch_duration_seconds_sum\",\"prometheus_sd_kuma_fetch_failures_total\",\"prometheus_sd_kuma_fetch_skipped_updates_total\",\"prometheus_sd_received_updates_total\",\"prometheus_sd_updates_total\",\"prometheus_target_interval_length_seconds\",\"prometheus_target_interval_length_seconds_count\",\"prometheus_target_interval_length_seconds_sum\",\"prometheus_target_metadata_cache_bytes\",\"prometheus_target_metadata_cache_entries\",\"prometheus_target_scrape_pool_exceeded_label_limits_total\",\"prometheus_target_scrape_pool_exceeded_target_limit_total\",\"prometheus_target_scrape_pool_reloads_failed_total\",\"prometheus_target_scrape_pool_reloads_total\",\"prometheus_target_scrape_pool_sync_total\",\"prometheus_target_scrape_pool_targets\",\"prometheus_target_scrape_pools_failed_total\",\"prometheus_target_scrape_pools_total\",\"prometheus_target_scrapes_cache_flush_forced_total\",\"prometheus_target_scrapes_exceeded_body_size_limit_total\",\"prometheus_target_scrapes_exceeded_sample_limit_total\",\"prometheus_target_scrapes_exemplar_out_of_order_total\",\"prometheus_target_scrapes_sample_duplicate_timestamp_total\",\"prometheus_target_scrapes_sample_out_of_bounds_total\",\"prometheus_target_scrapes_sample_out_of_order_total\",\"prometheus_target_sync_failed_total\",\"prometheus_target_sync_length_seconds\",\"prometheus_target_sync_length_seconds_count\",\"prometheus_target_sync_length_seconds_sum\",\"prometheus_template_text_expansion_failures_total\",\"prometheus_template_text_expansions_total\",\"prometheus_treecache_watcher_goroutines\",\"prometheus_treecache_zookeeper_failures_total\",\"prometheus_tsdb_blocks_loaded\",\"prometheus_tsdb_checkpoint_creations_failed_total\",\"prometheus_tsdb_checkpoint_creations_total\",\"prometheus_tsdb_checkpoint_deletions_failed_total\",\"prometheus_tsdb_checkpoint_deletions_total\",\"prometheus_tsdb_chunk_write_queue_operations_total\",\"prometheus_tsdb_clean_start\",\"prometheus_tsdb_compaction_chunk_range_seconds_bucket\",\"prometheus_tsdb_compaction_chunk_range_seconds_count\",\"prometheus_tsdb_compaction_chunk_range_seconds_sum\",\"prometheus_tsdb_compaction_chunk_samples_bucket\",\"prometheus_tsdb_compaction_chunk_samples_count\",\"prometheus_tsdb_compaction_chunk_samples_sum\",\"prometheus_tsdb_compaction_chunk_size_bytes_bucket\",\"prometheus_tsdb_compaction_chunk_size_bytes_count\",\"prometheus_tsdb_compaction_chunk_size_bytes_sum\",\"prometheus_tsdb_compaction_duration_seconds_bucket\",\"prometheus_tsdb_compaction_duration_seconds_count\",\"prometheus_tsdb_compaction_duration_seconds_sum\",\"prometheus_tsdb_compaction_populating_block\",\"prometheus_tsdb_compactions_failed_total\",\"prometheus_tsdb_compactions_skipped_total\",\"prometheus_tsdb_compactions_total\",\"prometheus_tsdb_compactions_triggered_total\",\"prometheus_tsdb_data_replay_duration_seconds\",\"prometheus_tsdb_exemplar_exemplars_appended_total\",\"prometheus_tsdb_exemplar_exemplars_in_storage\",\"prometheus_tsdb_exemplar_last_exemplars_timestamp_seconds\",\"prometheus_tsdb_exemplar_max_exemplars\",\"prometheus_tsdb_exemplar_out_of_order_exemplars_total\",\"prometheus_tsdb_exemplar_series_with_exemplars_in_storage\",\"prometheus_tsdb_head_active_appenders\",\"prometheus_tsdb_head_chunks\",\"prometheus_tsdb_head_chunks_created_total\",\"prometheus_tsdb_head_chunks_removed_total\",\"prometheus_tsdb_head_gc_duration_seconds_count\",\"prometheus_tsdb_head_gc_duration_seconds_sum\",\"prometheus_tsdb_head_max_time\",\"prometheus_tsdb_head_max_time_seconds\",\"prometheus_tsdb_head_min_time\",\"prometheus_tsdb_head_min_time_seconds\",\"prometheus_tsdb_head_samples_appended_total\",\"prometheus_tsdb_head_series\",\"prometheus_tsdb_head_series_created_total\",\"prometheus_tsdb_head_series_not_found_total\",\"prometheus_tsdb_head_series_removed_total\",\"prometheus_tsdb_head_truncations_failed_total\",\"prometheus_tsdb_head_truncations_total\",\"prometheus_tsdb_isolation_high_watermark\",\"prometheus_tsdb_isolation_low_watermark\",\"prometheus_tsdb_lowest_timestamp\",\"prometheus_tsdb_lowest_timestamp_seconds\",\"prometheus_tsdb_mmap_chunk_corruptions_total\",\"prometheus_tsdb_out_of_bound_samples_total\",\"prometheus_tsdb_out_of_order_samples_total\",\"prometheus_tsdb_reloads_failures_total\",\"prometheus_tsdb_reloads_total\",\"prometheus_tsdb_retention_limit_bytes\",\"prometheus_tsdb_size_retentions_total\",\"prometheus_tsdb_snapshot_replay_error_total\",\"prometheus_tsdb_storage_blocks_bytes\",\"prometheus_tsdb_symbol_table_size_bytes\",\"prometheus_tsdb_time_retentions_total\",\"prometheus_tsdb_tombstone_cleanup_seconds_bucket\",\"prometheus_tsdb_tombstone_cleanup_seconds_count\",\"prometheus_tsdb_tombstone_cleanup_seconds_sum\",\"prometheus_tsdb_vertical_compactions_total\",\"prometheus_tsdb_wal_completed_pages_total\",\"prometheus_tsdb_wal_corruptions_total\",\"prometheus_tsdb_wal_fsync_duration_seconds\",\"prometheus_tsdb_wal_fsync_duration_seconds_count\",\"prometheus_tsdb_wal_fsync_duration_seconds_sum\",\"prometheus_tsdb_wal_page_flushes_total\",\"prometheus_tsdb_wal_segment_current\",\"prometheus_tsdb_wal_truncate_duration_seconds_count\",\"prometheus_tsdb_wal_truncate_duration_seconds_sum\",\"prometheus_tsdb_wal_truncations_failed_total\",\"prometheus_tsdb_wal_truncations_total\",\"prometheus_tsdb_wal_writes_failed_total\",\"prometheus_web_federation_errors_total\",\"prometheus_web_federation_warnings_total\",\"promhttp_metric_handler_errors_total\",\"promhttp_metric_handler_requests_in_flight\",\"promhttp_metric_handler_requests_total\",\"scrape_duration_seconds\",\"scrape_samples_post_metric_relabeling\",\"scrape_samples_scraped\",\"scrape_series_added\",\"up\"]}',\n",
       " 'sudo: unable to resolve host data-backup: Name or service not known\\n  % Total    % Received % Xferd  Average Speed   Time    Time     Time  Current\\n                                 Dload  Upload   Total   Spent    Left  Speed\\n\\r  0     0    0     0    0     0      0      0 --:--:-- --:--:-- --:--:--     0\\r100 19142    0 19142    0     0  6231k      0 --:--:-- --:--:-- --:--:-- 6231k\\n')"
      ]
     },
     "execution_count": 11,
     "metadata": {},
     "output_type": "execute_result"
    }
   ],
   "source": [
    "node.execute(\"sudo curl http://localhost:9090/api/v1/label/__name__/values\")"
   ]
  },
  {
   "cell_type": "code",
   "execution_count": 12,
   "id": "0b4fb5a6-e656-4208-a2f5-a02956f755c9",
   "metadata": {
    "scrolled": true,
    "tags": []
   },
   "outputs": [
    {
     "data": {
      "text/plain": [
       "('{\"status\":\"success\",\"data\":{\"resultType\":\"matrix\",\"result\":[{\"metric\":{\"__name__\":\"node_network_receive_packets_total\",\"device\":\"docker0\",\"instance\":\"Node1\",\"job\":\"node\",\"node_name\":\"Node1\"},\"values\":[[1685402740.480,\"0\"],[1685402770.480,\"0\"],[1685402800.480,\"0\"],[1685402830.483,\"0\"],[1685402860.480,\"0\"],[1685402890.480,\"0\"],[1685402920.480,\"0\"],[1685402950.480,\"0\"],[1685402980.480,\"0\"],[1685403010.480,\"0\"],[1685403040.480,\"0\"],[1685403070.480,\"0\"],[1685403100.480,\"0\"],[1685403130.480,\"0\"],[1685403160.480,\"0\"],[1685403190.480,\"0\"],[1685403220.480,\"0\"],[1685403250.480,\"0\"],[1685403280.480,\"0\"],[1685403310.480,\"0\"],[1685403340.480,\"0\"],[1685403370.480,\"0\"],[1685403400.480,\"0\"],[1685403430.480,\"0\"],[1685403460.480,\"0\"],[1685403490.480,\"0\"],[1685403520.480,\"0\"],[1685403550.480,\"0\"],[1685403580.480,\"0\"],[1685403610.480,\"0\"],[1685403640.480,\"0\"],[1685403670.480,\"0\"],[1685403700.480,\"0\"],[1685403730.480,\"0\"],[1685403760.480,\"0\"],[1685403790.480,\"0\"],[1685403820.480,\"0\"],[1685403850.480,\"0\"],[1685403880.480,\"0\"],[1685403910.480,\"0\"],[1685403940.480,\"0\"],[1685403970.480,\"0\"],[1685404000.480,\"0\"],[1685404030.480,\"0\"],[1685404060.480,\"0\"]]},{\"metric\":{\"__name__\":\"node_network_receive_packets_total\",\"device\":\"docker0\",\"instance\":\"Node2\",\"job\":\"node\",\"node_name\":\"Node2\"},\"values\":[[1685402747.012,\"0\"],[1685402777.012,\"0\"],[1685402807.012,\"0\"],[1685402837.012,\"0\"],[1685402867.012,\"0\"],[1685402897.014,\"0\"],[1685402927.012,\"0\"],[1685402957.012,\"0\"],[1685402987.012,\"0\"],[1685403017.012,\"0\"],[1685403047.012,\"0\"],[1685403077.012,\"0\"],[1685403107.012,\"0\"],[1685403137.012,\"0\"],[1685403167.012,\"0\"],[1685403197.012,\"0\"],[1685403227.012,\"0\"],[1685403257.012,\"0\"],[1685403287.012,\"0\"],[1685403317.012,\"0\"],[1685403347.012,\"0\"],[1685403377.012,\"0\"],[1685403407.012,\"0\"],[1685403437.012,\"0\"],[1685403467.012,\"0\"],[1685403497.012,\"0\"],[1685403527.012,\"0\"],[1685403557.012,\"0\"],[1685403587.012,\"0\"],[1685403617.012,\"0\"],[1685403647.014,\"0\"],[1685403677.012,\"0\"],[1685403707.012,\"0\"],[1685403737.012,\"0\"],[1685403767.012,\"0\"],[1685403797.012,\"0\"],[1685403827.012,\"0\"],[1685403857.012,\"0\"],[1685403887.012,\"0\"],[1685403917.012,\"0\"],[1685403947.012,\"0\"],[1685403977.012,\"0\"],[1685404007.012,\"0\"],[1685404037.012,\"0\"],[1685404067.014,\"0\"]]},{\"metric\":{\"__name__\":\"node_network_receive_packets_total\",\"device\":\"docker0\",\"instance\":\"Node3\",\"job\":\"node\",\"node_name\":\"Node3\"},\"values\":[[1685402734.729,\"0\"],[1685402764.729,\"0\"],[1685402794.729,\"0\"],[1685402824.729,\"0\"],[1685402854.729,\"0\"],[1685402884.729,\"0\"],[1685402914.729,\"0\"],[1685402944.729,\"0\"],[1685402974.729,\"0\"],[1685403004.729,\"0\"],[1685403034.729,\"0\"],[1685403064.729,\"0\"],[1685403094.729,\"0\"],[1685403124.729,\"0\"],[1685403154.729,\"0\"],[1685403184.729,\"0\"],[1685403214.729,\"0\"],[1685403244.729,\"0\"],[1685403274.729,\"0\"],[1685403304.729,\"0\"],[1685403334.729,\"0\"],[1685403364.729,\"0\"],[1685403394.729,\"0\"],[1685403424.729,\"0\"],[1685403454.729,\"0\"],[1685403484.729,\"0\"],[1685403514.729,\"0\"],[1685403544.729,\"0\"],[1685403574.729,\"0\"],[1685403604.729,\"0\"],[1685403634.729,\"0\"],[1685403664.729,\"0\"],[1685403694.729,\"0\"],[1685403724.729,\"0\"],[1685403754.729,\"0\"],[1685403784.729,\"0\"],[1685403814.729,\"0\"],[1685403844.729,\"0\"],[1685403874.729,\"0\"],[1685403904.729,\"0\"],[1685403934.729,\"0\"],[1685403964.729,\"0\"],[1685403994.729,\"0\"],[1685404024.729,\"0\"],[1685404054.729,\"0\"]]},{\"metric\":{\"__name__\":\"node_network_receive_packets_total\",\"device\":\"ens3\",\"instance\":\"Node1\",\"job\":\"node\",\"node_name\":\"Node1\"},\"values\":[[1685402740.480,\"5742\"],[1685402770.480,\"5746\"],[1685402800.480,\"5756\"],[1685402830.483,\"5760\"],[1685402860.480,\"5802\"],[1685402890.480,\"5807\"],[1685402920.480,\"5817\"],[1685402950.480,\"5875\"],[1685402980.480,\"5877\"],[1685403010.480,\"5887\"],[1685403040.480,\"5907\"],[1685403070.480,\"5992\"],[1685403100.480,\"6016\"],[1685403130.480,\"6017\"],[1685403160.480,\"6037\"],[1685403190.480,\"6038\"],[1685403220.480,\"6048\"],[1685403250.480,\"6059\"],[1685403280.480,\"6068\"],[1685403310.480,\"6070\"],[1685403340.480,\"6083\"],[1685403370.480,\"6094\"],[1685403400.480,\"6095\"],[1685403430.480,\"6105\"],[1685403460.480,\"6116\"],[1685403490.480,\"6117\"],[1685403520.480,\"6127\"],[1685403550.480,\"6138\"],[1685403580.480,\"6148\"],[1685403610.480,\"6152\"],[1685403640.480,\"6160\"],[1685403670.480,\"6170\"],[1685403700.480,\"6181\"],[1685403730.480,\"6191\"],[1685403760.480,\"6197\"],[1685403790.480,\"6212\"],[1685403820.480,\"6213\"],[1685403850.480,\"6214\"],[1685403880.480,\"6224\"],[1685403910.480,\"6234\"],[1685403940.480,\"6243\"],[1685403970.480,\"6246\"],[1685404000.480,\"6256\"],[1685404030.480,\"6257\"],[1685404060.480,\"6277\"]]},{\"metric\":{\"__name__\":\"node_network_receive_packets_total\",\"device\":\"ens3\",\"instance\":\"Node2\",\"job\":\"node\",\"node_name\":\"Node2\"},\"values\":[[1685402747.012,\"6233\"],[1685402777.012,\"6242\"],[1685402807.012,\"6244\"],[1685402837.012,\"6250\"],[1685402867.012,\"6283\"],[1685402897.014,\"6286\"],[1685402927.012,\"6292\"],[1685402957.012,\"6365\"],[1685402987.012,\"6366\"],[1685403017.012,\"6372\"],[1685403047.012,\"6384\"],[1685403077.012,\"6483\"],[1685403107.012,\"6484\"],[1685403137.012,\"6490\"],[1685403167.012,\"6499\"],[1685403197.012,\"6505\"],[1685403227.012,\"6512\"],[1685403257.012,\"6518\"],[1685403287.012,\"6520\"],[1685403317.012,\"6526\"],[1685403347.012,\"6532\"],[1685403377.012,\"6542\"],[1685403407.012,\"6543\"],[1685403437.012,\"6549\"],[1685403467.012,\"6555\"],[1685403497.012,\"6565\"],[1685403527.012,\"6567\"],[1685403557.012,\"6576\"],[1685403587.012,\"6582\"],[1685403617.012,\"6590\"],[1685403647.014,\"6593\"],[1685403677.012,\"6599\"],[1685403707.012,\"6609\"],[1685403737.012,\"6617\"],[1685403767.012,\"6631\"],[1685403797.012,\"6654\"],[1685403827.012,\"6678\"],[1685403857.012,\"6695\"],[1685403887.012,\"6714\"],[1685403917.012,\"6732\"],[1685403947.012,\"6749\"],[1685403977.012,\"6768\"],[1685404007.012,\"6782\"],[1685404037.012,\"6800\"],[1685404067.014,\"6814\"]]},{\"metric\":{\"__name__\":\"node_network_receive_packets_total\",\"device\":\"ens3\",\"instance\":\"Node3\",\"job\":\"node\",\"node_name\":\"Node3\"},\"values\":[[1685402734.729,\"13490\"],[1685402764.729,\"13492\"],[1685402794.729,\"13493\"],[1685402824.729,\"13495\"],[1685402854.729,\"13501\"],[1685402884.729,\"13534\"],[1685402914.729,\"13536\"],[1685402944.729,\"13564\"],[1685402974.729,\"13598\"],[1685403004.729,\"13600\"],[1685403034.729,\"13602\"],[1685403064.729,\"13667\"],[1685403094.729,\"13700\"],[1685403124.729,\"13702\"],[1685403154.729,\"13703\"],[1685403184.729,\"13705\"],[1685403214.729,\"13707\"],[1685403244.729,\"13709\"],[1685403274.729,\"13711\"],[1685403304.729,\"13712\"],[1685403334.729,\"13714\"],[1685403364.729,\"13715\"],[1685403394.729,\"13717\"],[1685403424.729,\"13719\"],[1685403454.729,\"13720\"],[1685403484.729,\"13721\"],[1685403514.729,\"13723\"],[1685403544.729,\"13725\"],[1685403574.729,\"13726\"],[1685403604.729,\"13728\"],[1685403634.729,\"13730\"],[1685403664.729,\"13731\"],[1685403694.729,\"13733\"],[1685403724.729,\"13734\"],[1685403754.729,\"13736\"],[1685403784.729,\"13737\"],[1685403814.729,\"13739\"],[1685403844.729,\"13741\"],[1685403874.729,\"13742\"],[1685403904.729,\"13744\"],[1685403934.729,\"13745\"],[1685403964.729,\"13747\"],[1685403994.729,\"13749\"],[1685404024.729,\"13752\"],[1685404054.729,\"13753\"]]},{\"metric\":{\"__name__\":\"node_network_receive_packets_total\",\"device\":\"ens7\",\"instance\":\"Node1\",\"job\":\"node\",\"node_name\":\"Node1\"},\"values\":[[1685402740.480,\"22630\"],[1685402770.480,\"22641\"],[1685402800.480,\"22653\"],[1685402830.483,\"22662\"],[1685402860.480,\"23802\"],[1685402890.480,\"24010\"],[1685402920.480,\"24283\"],[1685402950.480,\"25497\"],[1685402980.480,\"25777\"],[1685403010.480,\"26020\"],[1685403040.480,\"26301\"],[1685403070.480,\"27572\"],[1685403100.480,\"27752\"],[1685403130.480,\"27915\"],[1685403160.480,\"28082\"],[1685403190.480,\"28234\"],[1685403220.480,\"28377\"],[1685403250.480,\"28518\"],[1685403280.480,\"28657\"],[1685403310.480,\"28758\"],[1685403340.480,\"28871\"],[1685403370.480,\"28986\"],[1685403400.480,\"29080\"],[1685403430.480,\"29177\"],[1685403460.480,\"29302\"],[1685403490.480,\"29411\"],[1685403520.480,\"29523\"],[1685403550.480,\"29637\"],[1685403580.480,\"29751\"],[1685403610.480,\"29846\"],[1685403640.480,\"29944\"],[1685403670.480,\"30059\"],[1685403700.480,\"30184\"],[1685403730.480,\"30310\"],[1685403760.480,\"30454\"],[1685403790.480,\"30597\"],[1685403820.480,\"30734\"],[1685403850.480,\"30857\"],[1685403880.480,\"30969\"],[1685403910.480,\"31093\"],[1685403940.480,\"31226\"],[1685403970.480,\"31352\"],[1685404000.480,\"31466\"],[1685404030.480,\"31584\"],[1685404060.480,\"31713\"]]},{\"metric\":{\"__name__\":\"node_network_receive_packets_total\",\"device\":\"ens7\",\"instance\":\"Node2\",\"job\":\"node\",\"node_name\":\"Node2\"},\"values\":[[1685402747.012,\"2\"],[1685402777.012,\"2\"],[1685402807.012,\"2\"],[1685402837.012,\"2\"],[1685402867.012,\"2\"],[1685402897.014,\"2\"],[1685402927.012,\"2\"],[1685402957.012,\"2\"],[1685402987.012,\"2\"],[1685403017.012,\"2\"],[1685403047.012,\"2\"],[1685403077.012,\"2\"],[1685403107.012,\"2\"],[1685403137.012,\"2\"],[1685403167.012,\"2\"],[1685403197.012,\"2\"],[1685403227.012,\"2\"],[1685403257.012,\"2\"],[1685403287.012,\"2\"],[1685403317.012,\"2\"],[1685403347.012,\"2\"],[1685403377.012,\"2\"],[1685403407.012,\"2\"],[1685403437.012,\"2\"],[1685403467.012,\"2\"],[1685403497.012,\"2\"],[1685403527.012,\"2\"],[1685403557.012,\"2\"],[1685403587.012,\"2\"],[1685403617.012,\"2\"],[1685403647.014,\"2\"],[1685403677.012,\"2\"],[1685403707.012,\"2\"],[1685403737.012,\"2\"],[1685403767.012,\"2\"],[1685403797.012,\"2\"],[1685403827.012,\"2\"],[1685403857.012,\"2\"],[1685403887.012,\"2\"],[1685403917.012,\"2\"],[1685403947.012,\"2\"],[1685403977.012,\"2\"],[1685404007.012,\"2\"],[1685404037.012,\"2\"],[1685404067.014,\"2\"]]},{\"metric\":{\"__name__\":\"node_network_receive_packets_total\",\"device\":\"ens7\",\"instance\":\"Node3\",\"job\":\"node\",\"node_name\":\"Node3\"},\"values\":[[1685402734.729,\"2\"],[1685402764.729,\"2\"],[1685402794.729,\"2\"],[1685402824.729,\"2\"],[1685402854.729,\"2\"],[1685402884.729,\"2\"],[1685402914.729,\"2\"],[1685402944.729,\"2\"],[1685402974.729,\"2\"],[1685403004.729,\"2\"],[1685403034.729,\"2\"],[1685403064.729,\"2\"],[1685403094.729,\"2\"],[1685403124.729,\"2\"],[1685403154.729,\"2\"],[1685403184.729,\"2\"],[1685403214.729,\"2\"],[1685403244.729,\"2\"],[1685403274.729,\"2\"],[1685403304.729,\"2\"],[1685403334.729,\"2\"],[1685403364.729,\"2\"],[1685403394.729,\"2\"],[1685403424.729,\"2\"],[1685403454.729,\"2\"],[1685403484.729,\"2\"],[1685403514.729,\"2\"],[1685403544.729,\"2\"],[1685403574.729,\"2\"],[1685403604.729,\"2\"],[1685403634.729,\"2\"],[1685403664.729,\"2\"],[1685403694.729,\"2\"],[1685403724.729,\"2\"],[1685403754.729,\"2\"],[1685403784.729,\"2\"],[1685403814.729,\"2\"],[1685403844.729,\"2\"],[1685403874.729,\"2\"],[1685403904.729,\"2\"],[1685403934.729,\"2\"],[1685403964.729,\"2\"],[1685403994.729,\"2\"],[1685404024.729,\"2\"],[1685404054.729,\"2\"]]},{\"metric\":{\"__name__\":\"node_network_receive_packets_total\",\"device\":\"ens8\",\"instance\":\"Node1\",\"job\":\"node\",\"node_name\":\"Node1\"},\"values\":[[1685402740.480,\"2\"],[1685402770.480,\"2\"],[1685402800.480,\"2\"],[1685402830.483,\"2\"],[1685402860.480,\"2\"],[1685402890.480,\"2\"],[1685402920.480,\"2\"],[1685402950.480,\"2\"],[1685402980.480,\"2\"],[1685403010.480,\"2\"],[1685403040.480,\"2\"],[1685403070.480,\"2\"],[1685403100.480,\"2\"],[1685403130.480,\"2\"],[1685403160.480,\"2\"],[1685403190.480,\"2\"],[1685403220.480,\"2\"],[1685403250.480,\"2\"],[1685403280.480,\"2\"],[1685403310.480,\"2\"],[1685403340.480,\"2\"],[1685403370.480,\"2\"],[1685403400.480,\"2\"],[1685403430.480,\"2\"],[1685403460.480,\"2\"],[1685403490.480,\"2\"],[1685403520.480,\"2\"],[1685403550.480,\"2\"],[1685403580.480,\"2\"],[1685403610.480,\"2\"],[1685403640.480,\"2\"],[1685403670.480,\"2\"],[1685403700.480,\"2\"],[1685403730.480,\"2\"],[1685403760.480,\"2\"],[1685403790.480,\"2\"],[1685403820.480,\"2\"],[1685403850.480,\"2\"],[1685403880.480,\"2\"],[1685403910.480,\"2\"],[1685403940.480,\"2\"],[1685403970.480,\"2\"],[1685404000.480,\"2\"],[1685404030.480,\"2\"],[1685404060.480,\"2\"]]},{\"metric\":{\"__name__\":\"node_network_receive_packets_total\",\"device\":\"ens8\",\"instance\":\"Node2\",\"job\":\"node\",\"node_name\":\"Node2\"},\"values\":[[1685402747.012,\"22669\"],[1685402777.012,\"22680\"],[1685402807.012,\"22694\"],[1685402837.012,\"22704\"],[1685402867.012,\"23955\"],[1685402897.014,\"24193\"],[1685402927.012,\"24496\"],[1685402957.012,\"25850\"],[1685402987.012,\"26165\"],[1685403017.012,\"26456\"],[1685403047.012,\"26760\"],[1685403077.012,\"27988\"],[1685403107.012,\"28146\"],[1685403137.012,\"28278\"],[1685403167.012,\"28414\"],[1685403197.012,\"28525\"],[1685403227.012,\"28665\"],[1685403257.012,\"28808\"],[1685403287.012,\"28939\"],[1685403317.012,\"29062\"],[1685403347.012,\"29187\"],[1685403377.012,\"29311\"],[1685403407.012,\"29441\"],[1685403437.012,\"29580\"],[1685403467.012,\"29699\"],[1685403497.012,\"29799\"],[1685403527.012,\"29919\"],[1685403557.012,\"30033\"],[1685403587.012,\"30154\"],[1685403617.012,\"30301\"],[1685403647.014,\"30436\"],[1685403677.012,\"30592\"],[1685403707.012,\"30726\"],[1685403737.012,\"30834\"],[1685403767.012,\"30974\"],[1685403797.012,\"31142\"],[1685403827.012,\"31269\"],[1685403857.012,\"31425\"],[1685403887.012,\"31577\"],[1685403917.012,\"31730\"],[1685403947.012,\"31863\"],[1685403977.012,\"32049\"],[1685404007.012,\"32204\"],[1685404037.012,\"32359\"],[1685404067.014,\"32509\"]]},{\"metric\":{\"__name__\":\"node_network_receive_packets_total\",\"device\":\"ens8\",\"instance\":\"Node3\",\"job\":\"node\",\"node_name\":\"Node3\"},\"values\":[[1685402734.729,\"22562\"],[1685402764.729,\"22572\"],[1685402794.729,\"22584\"],[1685402824.729,\"22593\"],[1685402854.729,\"23086\"],[1685402884.729,\"23830\"],[1685402914.729,\"24055\"],[1685402944.729,\"25024\"],[1685402974.729,\"25532\"],[1685403004.729,\"25820\"],[1685403034.729,\"26084\"],[1685403064.729,\"27092\"],[1685403094.729,\"27467\"],[1685403124.729,\"27568\"],[1685403154.729,\"27695\"],[1685403184.729,\"27801\"],[1685403214.729,\"27908\"],[1685403244.729,\"28016\"],[1685403274.729,\"28127\"],[1685403304.729,\"28246\"],[1685403334.729,\"28362\"],[1685403364.729,\"28495\"],[1685403394.729,\"28616\"],[1685403424.729,\"28725\"],[1685403454.729,\"28832\"],[1685403484.729,\"28951\"],[1685403514.729,\"29069\"],[1685403544.729,\"29198\"],[1685403574.729,\"29311\"],[1685403604.729,\"29429\"],[1685403634.729,\"29532\"],[1685403664.729,\"29638\"],[1685403694.729,\"29740\"],[1685403724.729,\"29832\"],[1685403754.729,\"29918\"],[1685403784.729,\"30004\"],[1685403814.729,\"30100\"],[1685403844.729,\"30191\"],[1685403874.729,\"30296\"],[1685403904.729,\"30395\"],[1685403934.729,\"30494\"],[1685403964.729,\"30580\"],[1685403994.729,\"30667\"],[1685404024.729,\"30766\"],[1685404054.729,\"30881\"]]},{\"metric\":{\"__name__\":\"node_network_receive_packets_total\",\"device\":\"lo\",\"instance\":\"Node1\",\"job\":\"node\",\"node_name\":\"Node1\"},\"values\":[[1685402740.480,\"698\"],[1685402770.480,\"698\"],[1685402800.480,\"698\"],[1685402830.483,\"698\"],[1685402860.480,\"698\"],[1685402890.480,\"698\"],[1685402920.480,\"698\"],[1685402950.480,\"698\"],[1685402980.480,\"698\"],[1685403010.480,\"698\"],[1685403040.480,\"698\"],[1685403070.480,\"698\"],[1685403100.480,\"698\"],[1685403130.480,\"698\"],[1685403160.480,\"698\"],[1685403190.480,\"698\"],[1685403220.480,\"698\"],[1685403250.480,\"698\"],[1685403280.480,\"698\"],[1685403310.480,\"698\"],[1685403340.480,\"698\"],[1685403370.480,\"698\"],[1685403400.480,\"698\"],[1685403430.480,\"698\"],[1685403460.480,\"698\"],[1685403490.480,\"698\"],[1685403520.480,\"698\"],[1685403550.480,\"698\"],[1685403580.480,\"698\"],[1685403610.480,\"698\"],[1685403640.480,\"698\"],[1685403670.480,\"698\"],[1685403700.480,\"698\"],[1685403730.480,\"698\"],[1685403760.480,\"698\"],[1685403790.480,\"698\"],[1685403820.480,\"698\"],[1685403850.480,\"698\"],[1685403880.480,\"698\"],[1685403910.480,\"698\"],[1685403940.480,\"698\"],[1685403970.480,\"698\"],[1685404000.480,\"698\"],[1685404030.480,\"698\"],[1685404060.480,\"698\"]]},{\"metric\":{\"__name__\":\"node_network_receive_packets_total\",\"device\":\"lo\",\"instance\":\"Node2\",\"job\":\"node\",\"node_name\":\"Node2\"},\"values\":[[1685402747.012,\"874\"],[1685402777.012,\"874\"],[1685402807.012,\"874\"],[1685402837.012,\"874\"],[1685402867.012,\"874\"],[1685402897.014,\"874\"],[1685402927.012,\"874\"],[1685402957.012,\"874\"],[1685402987.012,\"874\"],[1685403017.012,\"874\"],[1685403047.012,\"874\"],[1685403077.012,\"874\"],[1685403107.012,\"874\"],[1685403137.012,\"874\"],[1685403167.012,\"874\"],[1685403197.012,\"874\"],[1685403227.012,\"874\"],[1685403257.012,\"874\"],[1685403287.012,\"874\"],[1685403317.012,\"874\"],[1685403347.012,\"874\"],[1685403377.012,\"874\"],[1685403407.012,\"874\"],[1685403437.012,\"874\"],[1685403467.012,\"874\"],[1685403497.012,\"874\"],[1685403527.012,\"874\"],[1685403557.012,\"874\"],[1685403587.012,\"874\"],[1685403617.012,\"874\"],[1685403647.014,\"874\"],[1685403677.012,\"874\"],[1685403707.012,\"874\"],[1685403737.012,\"874\"],[1685403767.012,\"874\"],[1685403797.012,\"874\"],[1685403827.012,\"874\"],[1685403857.012,\"874\"],[1685403887.012,\"874\"],[1685403917.012,\"874\"],[1685403947.012,\"874\"],[1685403977.012,\"874\"],[1685404007.012,\"874\"],[1685404037.012,\"874\"],[1685404067.014,\"874\"]]},{\"metric\":{\"__name__\":\"node_network_receive_packets_total\",\"device\":\"lo\",\"instance\":\"Node3\",\"job\":\"node\",\"node_name\":\"Node3\"},\"values\":[[1685402734.729,\"12\"],[1685402764.729,\"12\"],[1685402794.729,\"12\"],[1685402824.729,\"12\"],[1685402854.729,\"12\"],[1685402884.729,\"12\"],[1685402914.729,\"12\"],[1685402944.729,\"12\"],[1685402974.729,\"12\"],[1685403004.729,\"12\"],[1685403034.729,\"12\"],[1685403064.729,\"12\"],[1685403094.729,\"12\"],[1685403124.729,\"12\"],[1685403154.729,\"12\"],[1685403184.729,\"12\"],[1685403214.729,\"12\"],[1685403244.729,\"12\"],[1685403274.729,\"12\"],[1685403304.729,\"12\"],[1685403334.729,\"12\"],[1685403364.729,\"12\"],[1685403394.729,\"12\"],[1685403424.729,\"12\"],[1685403454.729,\"12\"],[1685403484.729,\"12\"],[1685403514.729,\"12\"],[1685403544.729,\"12\"],[1685403574.729,\"12\"],[1685403604.729,\"12\"],[1685403634.729,\"12\"],[1685403664.729,\"12\"],[1685403694.729,\"12\"],[1685403724.729,\"12\"],[1685403754.729,\"12\"],[1685403784.729,\"12\"],[1685403814.729,\"12\"],[1685403844.729,\"12\"],[1685403874.729,\"12\"],[1685403904.729,\"12\"],[1685403934.729,\"12\"],[1685403964.729,\"12\"],[1685403994.729,\"12\"],[1685404024.729,\"12\"],[1685404054.729,\"12\"]]}]}}',\n",
       " 'sudo: unable to resolve host data-backup: Name or service not known\\n  % Total    % Received % Xferd  Average Speed   Time    Time     Time  Current\\n                                 Dload  Upload   Total   Spent    Left  Speed\\n\\r  0     0    0     0    0     0      0      0 --:--:-- --:--:-- --:--:--     0\\r100 17555    0 17555    0     0  4285k      0 --:--:-- --:--:-- --:--:-- 4285k\\n')"
      ]
     },
     "execution_count": 12,
     "metadata": {},
     "output_type": "execute_result"
    }
   ],
   "source": [
    "metric_name = \"node_network_receive_packets_total\"\n",
    "time_range=\"3h\"\n",
    "node.execute(f\"sudo curl -G 'http://localhost:9090/api/v1/query?query={metric_name}[{time_range}]'\", quiet=True)"
   ]
  },
  {
   "cell_type": "code",
   "execution_count": 13,
   "id": "ae8eeef6-3cdd-42d6-bcde-4130bf7a5f6d",
   "metadata": {
    "scrolled": true,
    "tags": []
   },
   "outputs": [
    {
     "data": {
      "text/plain": [
       "('{\"status\":\"success\",\"data\":{\"resultType\":\"matrix\",\"result\":[{\"metric\":{\"__name__\":\"node_network_receive_packets_total\",\"device\":\"docker0\",\"instance\":\"Node1\",\"job\":\"node\",\"node_name\":\"Node1\"},\"values\":[[1685404080,\"0\"],[1685404095,\"0\"],[1685404110,\"0\"],[1685404125,\"0\"],[1685404140,\"0\"],[1685404155,\"0\"],[1685404170,\"0\"],[1685404185,\"0\"],[1685404200,\"0\"],[1685404215,\"0\"],[1685404230,\"0\"],[1685404245,\"0\"],[1685404260,\"0\"],[1685404275,\"0\"],[1685404290,\"0\"],[1685404305,\"0\"],[1685404320,\"0\"],[1685404335,\"0\"],[1685404350,\"0\"]]},{\"metric\":{\"__name__\":\"node_network_receive_packets_total\",\"device\":\"docker0\",\"instance\":\"Node2\",\"job\":\"node\",\"node_name\":\"Node2\"},\"values\":[[1685404080,\"0\"],[1685404095,\"0\"],[1685404110,\"0\"],[1685404125,\"0\"],[1685404140,\"0\"],[1685404155,\"0\"],[1685404170,\"0\"],[1685404185,\"0\"],[1685404200,\"0\"],[1685404215,\"0\"],[1685404230,\"0\"],[1685404245,\"0\"],[1685404260,\"0\"],[1685404275,\"0\"],[1685404290,\"0\"],[1685404305,\"0\"],[1685404320,\"0\"],[1685404335,\"0\"],[1685404350,\"0\"],[1685404365,\"0\"]]},{\"metric\":{\"__name__\":\"node_network_receive_packets_total\",\"device\":\"docker0\",\"instance\":\"Node3\",\"job\":\"node\",\"node_name\":\"Node3\"},\"values\":[[1685404080,\"0\"],[1685404095,\"0\"],[1685404110,\"0\"],[1685404125,\"0\"],[1685404140,\"0\"],[1685404155,\"0\"],[1685404170,\"0\"],[1685404185,\"0\"],[1685404200,\"0\"],[1685404215,\"0\"],[1685404230,\"0\"],[1685404245,\"0\"],[1685404260,\"0\"],[1685404275,\"0\"],[1685404290,\"0\"],[1685404305,\"0\"],[1685404320,\"0\"],[1685404335,\"0\"],[1685404350,\"0\"]]},{\"metric\":{\"__name__\":\"node_network_receive_packets_total\",\"device\":\"ens3\",\"instance\":\"Node1\",\"job\":\"node\",\"node_name\":\"Node1\"},\"values\":[[1685404080,\"6277\"],[1685404095,\"6277\"],[1685404110,\"6277\"],[1685404125,\"6277\"],[1685404140,\"6277\"],[1685404155,\"6277\"],[1685404170,\"6277\"],[1685404185,\"6277\"],[1685404200,\"6277\"],[1685404215,\"6277\"],[1685404230,\"6277\"],[1685404245,\"6277\"],[1685404260,\"6277\"],[1685404275,\"6277\"],[1685404290,\"6277\"],[1685404305,\"6277\"],[1685404320,\"6277\"],[1685404335,\"6277\"],[1685404350,\"6277\"]]},{\"metric\":{\"__name__\":\"node_network_receive_packets_total\",\"device\":\"ens3\",\"instance\":\"Node2\",\"job\":\"node\",\"node_name\":\"Node2\"},\"values\":[[1685404080,\"6814\"],[1685404095,\"6814\"],[1685404110,\"6814\"],[1685404125,\"6814\"],[1685404140,\"6814\"],[1685404155,\"6814\"],[1685404170,\"6814\"],[1685404185,\"6814\"],[1685404200,\"6814\"],[1685404215,\"6814\"],[1685404230,\"6814\"],[1685404245,\"6814\"],[1685404260,\"6814\"],[1685404275,\"6814\"],[1685404290,\"6814\"],[1685404305,\"6814\"],[1685404320,\"6814\"],[1685404335,\"6814\"],[1685404350,\"6814\"],[1685404365,\"6814\"]]},{\"metric\":{\"__name__\":\"node_network_receive_packets_total\",\"device\":\"ens3\",\"instance\":\"Node3\",\"job\":\"node\",\"node_name\":\"Node3\"},\"values\":[[1685404080,\"13753\"],[1685404095,\"13753\"],[1685404110,\"13753\"],[1685404125,\"13753\"],[1685404140,\"13753\"],[1685404155,\"13753\"],[1685404170,\"13753\"],[1685404185,\"13753\"],[1685404200,\"13753\"],[1685404215,\"13753\"],[1685404230,\"13753\"],[1685404245,\"13753\"],[1685404260,\"13753\"],[1685404275,\"13753\"],[1685404290,\"13753\"],[1685404305,\"13753\"],[1685404320,\"13753\"],[1685404335,\"13753\"],[1685404350,\"13753\"]]},{\"metric\":{\"__name__\":\"node_network_receive_packets_total\",\"device\":\"ens7\",\"instance\":\"Node1\",\"job\":\"node\",\"node_name\":\"Node1\"},\"values\":[[1685404080,\"31713\"],[1685404095,\"31713\"],[1685404110,\"31713\"],[1685404125,\"31713\"],[1685404140,\"31713\"],[1685404155,\"31713\"],[1685404170,\"31713\"],[1685404185,\"31713\"],[1685404200,\"31713\"],[1685404215,\"31713\"],[1685404230,\"31713\"],[1685404245,\"31713\"],[1685404260,\"31713\"],[1685404275,\"31713\"],[1685404290,\"31713\"],[1685404305,\"31713\"],[1685404320,\"31713\"],[1685404335,\"31713\"],[1685404350,\"31713\"]]},{\"metric\":{\"__name__\":\"node_network_receive_packets_total\",\"device\":\"ens7\",\"instance\":\"Node2\",\"job\":\"node\",\"node_name\":\"Node2\"},\"values\":[[1685404080,\"2\"],[1685404095,\"2\"],[1685404110,\"2\"],[1685404125,\"2\"],[1685404140,\"2\"],[1685404155,\"2\"],[1685404170,\"2\"],[1685404185,\"2\"],[1685404200,\"2\"],[1685404215,\"2\"],[1685404230,\"2\"],[1685404245,\"2\"],[1685404260,\"2\"],[1685404275,\"2\"],[1685404290,\"2\"],[1685404305,\"2\"],[1685404320,\"2\"],[1685404335,\"2\"],[1685404350,\"2\"],[1685404365,\"2\"]]},{\"metric\":{\"__name__\":\"node_network_receive_packets_total\",\"device\":\"ens7\",\"instance\":\"Node3\",\"job\":\"node\",\"node_name\":\"Node3\"},\"values\":[[1685404080,\"2\"],[1685404095,\"2\"],[1685404110,\"2\"],[1685404125,\"2\"],[1685404140,\"2\"],[1685404155,\"2\"],[1685404170,\"2\"],[1685404185,\"2\"],[1685404200,\"2\"],[1685404215,\"2\"],[1685404230,\"2\"],[1685404245,\"2\"],[1685404260,\"2\"],[1685404275,\"2\"],[1685404290,\"2\"],[1685404305,\"2\"],[1685404320,\"2\"],[1685404335,\"2\"],[1685404350,\"2\"]]},{\"metric\":{\"__name__\":\"node_network_receive_packets_total\",\"device\":\"ens8\",\"instance\":\"Node1\",\"job\":\"node\",\"node_name\":\"Node1\"},\"values\":[[1685404080,\"2\"],[1685404095,\"2\"],[1685404110,\"2\"],[1685404125,\"2\"],[1685404140,\"2\"],[1685404155,\"2\"],[1685404170,\"2\"],[1685404185,\"2\"],[1685404200,\"2\"],[1685404215,\"2\"],[1685404230,\"2\"],[1685404245,\"2\"],[1685404260,\"2\"],[1685404275,\"2\"],[1685404290,\"2\"],[1685404305,\"2\"],[1685404320,\"2\"],[1685404335,\"2\"],[1685404350,\"2\"]]},{\"metric\":{\"__name__\":\"node_network_receive_packets_total\",\"device\":\"ens8\",\"instance\":\"Node2\",\"job\":\"node\",\"node_name\":\"Node2\"},\"values\":[[1685404080,\"32509\"],[1685404095,\"32509\"],[1685404110,\"32509\"],[1685404125,\"32509\"],[1685404140,\"32509\"],[1685404155,\"32509\"],[1685404170,\"32509\"],[1685404185,\"32509\"],[1685404200,\"32509\"],[1685404215,\"32509\"],[1685404230,\"32509\"],[1685404245,\"32509\"],[1685404260,\"32509\"],[1685404275,\"32509\"],[1685404290,\"32509\"],[1685404305,\"32509\"],[1685404320,\"32509\"],[1685404335,\"32509\"],[1685404350,\"32509\"],[1685404365,\"32509\"]]},{\"metric\":{\"__name__\":\"node_network_receive_packets_total\",\"device\":\"ens8\",\"instance\":\"Node3\",\"job\":\"node\",\"node_name\":\"Node3\"},\"values\":[[1685404080,\"30881\"],[1685404095,\"30881\"],[1685404110,\"30881\"],[1685404125,\"30881\"],[1685404140,\"30881\"],[1685404155,\"30881\"],[1685404170,\"30881\"],[1685404185,\"30881\"],[1685404200,\"30881\"],[1685404215,\"30881\"],[1685404230,\"30881\"],[1685404245,\"30881\"],[1685404260,\"30881\"],[1685404275,\"30881\"],[1685404290,\"30881\"],[1685404305,\"30881\"],[1685404320,\"30881\"],[1685404335,\"30881\"],[1685404350,\"30881\"]]},{\"metric\":{\"__name__\":\"node_network_receive_packets_total\",\"device\":\"lo\",\"instance\":\"Node1\",\"job\":\"node\",\"node_name\":\"Node1\"},\"values\":[[1685404080,\"698\"],[1685404095,\"698\"],[1685404110,\"698\"],[1685404125,\"698\"],[1685404140,\"698\"],[1685404155,\"698\"],[1685404170,\"698\"],[1685404185,\"698\"],[1685404200,\"698\"],[1685404215,\"698\"],[1685404230,\"698\"],[1685404245,\"698\"],[1685404260,\"698\"],[1685404275,\"698\"],[1685404290,\"698\"],[1685404305,\"698\"],[1685404320,\"698\"],[1685404335,\"698\"],[1685404350,\"698\"]]},{\"metric\":{\"__name__\":\"node_network_receive_packets_total\",\"device\":\"lo\",\"instance\":\"Node2\",\"job\":\"node\",\"node_name\":\"Node2\"},\"values\":[[1685404080,\"874\"],[1685404095,\"874\"],[1685404110,\"874\"],[1685404125,\"874\"],[1685404140,\"874\"],[1685404155,\"874\"],[1685404170,\"874\"],[1685404185,\"874\"],[1685404200,\"874\"],[1685404215,\"874\"],[1685404230,\"874\"],[1685404245,\"874\"],[1685404260,\"874\"],[1685404275,\"874\"],[1685404290,\"874\"],[1685404305,\"874\"],[1685404320,\"874\"],[1685404335,\"874\"],[1685404350,\"874\"],[1685404365,\"874\"]]},{\"metric\":{\"__name__\":\"node_network_receive_packets_total\",\"device\":\"lo\",\"instance\":\"Node3\",\"job\":\"node\",\"node_name\":\"Node3\"},\"values\":[[1685404080,\"12\"],[1685404095,\"12\"],[1685404110,\"12\"],[1685404125,\"12\"],[1685404140,\"12\"],[1685404155,\"12\"],[1685404170,\"12\"],[1685404185,\"12\"],[1685404200,\"12\"],[1685404215,\"12\"],[1685404230,\"12\"],[1685404245,\"12\"],[1685404260,\"12\"],[1685404275,\"12\"],[1685404290,\"12\"],[1685404305,\"12\"],[1685404320,\"12\"],[1685404335,\"12\"],[1685404350,\"12\"]]}]}}',\n",
       " 'sudo: unable to resolve host data-backup: Name or service not known\\n  % Total    % Received % Xferd  Average Speed   Time    Time     Time  Current\\n                                 Dload  Upload   Total   Spent    Left  Speed\\n\\r  0     0    0     0    0     0      0      0 --:--:-- --:--:-- --:--:--     0\\r100  7617    0  7617    0     0  3719k      0 --:--:-- --:--:-- --:--:-- 3719k\\n')"
      ]
     },
     "execution_count": 13,
     "metadata": {},
     "output_type": "execute_result"
    }
   ],
   "source": [
    "metric_name = \"node_network_receive_packets_total\"\n",
    "start = \"2023-05-29T23:48:00.000Z\"\n",
    "end = \"2023-05-30T01:00:00.000Z\"\n",
    "cmd = f'''\n",
    "       sudo curl -G \"http://localhost:9090/api/v1/query_range?query={metric_name}&start={start}&end={end}&step=15s\"\n",
    "       '''\n",
    "node.execute(cmd, quiet=True)"
   ]
  },
  {
   "cell_type": "markdown",
   "id": "b94eb24b-07eb-481c-9bfb-5672abb34c75",
   "metadata": {},
   "source": [
    "## View data in the web ui"
   ]
  },
  {
   "cell_type": "markdown",
   "id": "da0dad5b-ce06-4218-9587-f545780d91e0",
   "metadata": {},
   "source": [
    "##### RUN 'ssh -L 10030:localhost:9090 -F ssh_config -i slice_key ubuntu@node_ip'\n",
    "##### Then go to http://localhost:10030"
   ]
  },
  {
   "cell_type": "code",
   "execution_count": null,
   "id": "94945995-b43a-4116-ae6c-c8d0d8eec95d",
   "metadata": {},
   "outputs": [],
   "source": []
  }
 ],
 "metadata": {
  "kernelspec": {
   "display_name": "Python 3 (ipykernel)",
   "language": "python",
   "name": "python3"
  },
  "language_info": {
   "codemirror_mode": {
    "name": "ipython",
    "version": 3
   },
   "file_extension": ".py",
   "mimetype": "text/x-python",
   "name": "python",
   "nbconvert_exporter": "python",
   "pygments_lexer": "ipython3",
   "version": "3.9.7"
  }
 },
 "nbformat": 4,
 "nbformat_minor": 5
}

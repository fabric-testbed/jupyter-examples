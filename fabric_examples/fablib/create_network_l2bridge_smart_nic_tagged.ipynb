{
 "cells": [
  {
   "cell_type": "markdown",
   "metadata": {},
   "source": [
    "# This notebook shows how to use Orchestrator APIs for user experiments\n",
    "\n",
    "## Configure the Environment"
   ]
  },
  {
   "cell_type": "code",
   "execution_count": null,
   "metadata": {},
   "outputs": [],
   "source": [
    "import os\n",
    "from getpass import getpass\n",
    "\n",
    "os.environ['FABRIC_CREDMGR_HOST']='cm.fabric-testbed.net'\n",
    "os.environ['FABRIC_ORCHESTRATOR_HOST']='orchestrator.fabric-testbed.net'\n",
    "os.environ['FABRIC_TOKEN_LOCATION']=os.environ['HOME']+'/work/fabric_token.json'\n",
    "\n",
    "os.environ['FABRIC_BASTION_USERNAME']='pruth'\n",
    "os.environ['FABRIC_BASTION_KEY_LOCATION']=os.environ['HOME']+'/work/.ssh/id_rsa_fabric'\n",
    "\n",
    "os.environ['FABRIC_SLICE_PRIVATE_KEY_FILE']=os.environ['HOME']+'/.ssh/id_rsa'\n",
    "os.environ['FABRIC_SLICE_PUBLIC_KEY_FILE']=os.environ['HOME']+'/.ssh/id_rsa.pub'\n",
    "print('Please input private key passphrase. Press enter for no passphrase.')\n",
    "os.environ['FABRIC_SLICE_PRIVATE_KEY_PASSPHRASE']=getpass()\n",
    "\n",
    "os.environ['FABRIC_BASTION_HOST'] = 'bastion-1.fabric-testbed.net'\n",
    "os.environ['FABRIC_BASTION_HOST_PRIVATE_IPV4'] = '192.168.11.226'\n",
    "os.environ['FABRIC_BASTION_HOST_PRIVATE_IPV6'] = '2600:2701:5000:a902::c'"
   ]
  },
  {
   "cell_type": "markdown",
   "metadata": {},
   "source": [
    "## Setup the Experiment\n",
    "\n",
    "#### Import FABRIC API"
   ]
  },
  {
   "cell_type": "code",
   "execution_count": null,
   "metadata": {},
   "outputs": [],
   "source": [
    "import json\n",
    "import traceback\n",
    "\n",
    "from fabrictestbed_extensions.fablib.fablib import fablib"
   ]
  },
  {
   "cell_type": "markdown",
   "metadata": {
    "tags": []
   },
   "source": [
    "## Create Slice\n",
    "In Release 1.0, user is expected to assign the IP addresses manually. Please use the example comands indicated below:"
   ]
  },
  {
   "cell_type": "markdown",
   "metadata": {
    "tags": []
   },
   "source": [
    "## Configure Slice Parameters\n",
    "\n"
   ]
  },
  {
   "cell_type": "code",
   "execution_count": null,
   "metadata": {},
   "outputs": [],
   "source": [
    "slice_name = 'MySliceL2Bridge2'\n",
    "site = 'TACC'\n",
    "node1_name = 'Node1'\n",
    "node2_name = 'Node2'\n",
    "network_name='net1'\n",
    "node1_nic_name = 'nic1'\n",
    "node2_nic_name = 'nic2'\n",
    "username = 'centos'\n",
    "image = 'default_centos_8'\n",
    "image_type = 'qcow2'\n",
    "cores = 2\n",
    "ram = 8\n",
    "disk = 10"
   ]
  },
  {
   "cell_type": "code",
   "execution_count": null,
   "metadata": {
    "tags": []
   },
   "outputs": [],
   "source": [
    "try:\n",
    "    #Create Slice\n",
    "    slice = fablib.new_slice(name=slice_name)\n",
    "\n",
    "    # Node1\n",
    "    node1 = slice.add_node(name=node1_name, site=site)\n",
    "    node1.set_capacities(cores=cores, ram=ram, disk=disk)\n",
    "    node1.set_image(image)\n",
    "    iface1 = node1.add_component(model='NIC_ConnectX_5', name=node1_nic_name).get_interfaces()[0]\n",
    "    iface1.set_vlan(vlan='200')\n",
    "    \n",
    "    # Node2\n",
    "    node2 = slice.add_node(name=node2_name, site=site)\n",
    "    node2.set_capacities(cores=cores, ram=ram, disk=disk)\n",
    "    node2.set_image(image)\n",
    "    iface2 = node2.add_component(model='NIC_ConnectX_5', name=node2_nic_name).get_interfaces()[0]\n",
    "    iface2.set_vlan(vlan='200')\n",
    "    \n",
    "    # Network\n",
    "    net1 = slice.add_l2network(name=network_name, interfaces=[iface1, iface2])\n",
    "\n",
    "    #Submit Slice Request\n",
    "    slice.submit(wait_progress=True)\n",
    "except Exception as e:\n",
    "    print(f\"Slice Fail: {e}\")\n",
    "    traceback.print_exc()"
   ]
  },
  {
   "cell_type": "markdown",
   "metadata": {
    "tags": []
   },
   "source": [
    "## Get the Slice"
   ]
  },
  {
   "cell_type": "code",
   "execution_count": null,
   "metadata": {},
   "outputs": [],
   "source": [
    "try:\n",
    "    slice = fablib.get_slice(name=slice_name)\n",
    "    for node in slice.get_nodes():\n",
    "        print(\"Node:\")\n",
    "        print(f\"   Name              : {node.get_name()}\")\n",
    "        print(f\"   Cores             : {node.get_cores()}\")\n",
    "        print(f\"   RAM               : {node.get_ram()}\")\n",
    "        print(f\"   Disk              : {node.get_disk()}\")\n",
    "        print(f\"   Image             : {node.get_image()}\")\n",
    "        print(f\"   Image Type        : {node.get_image_type()}\")\n",
    "        print(f\"   Host              : {node.get_host()}\")\n",
    "        print(f\"   Site              : {node.get_site()}\")\n",
    "        print(f\"   Management IP     : {node.get_management_ip()}\")\n",
    "        print(f\"   Reservation ID    : {node.get_reservation_id()}\")\n",
    "        print(f\"   Reservation State : {node.get_reservation_state()}\")\n",
    "        print(f\"   SSH Command       : {node.get_ssh_command()}\")\n",
    "        print(f\"   Components        :  \")\n",
    "        for component in node.get_components():\n",
    "            print(f\"      Name             : {component.get_name()}\")\n",
    "            print(f\"      Details          : {component.get_details()}\")\n",
    "            print(f\"      Disk (G)         : {component.get_disk()}\")\n",
    "            print(f\"      Units            : {component.get_unit()}\")\n",
    "            print(f\"      PCI Address      : {component.get_pci_addr()}\")\n",
    "            print(f\"      Model            : {component.get_model()}\")\n",
    "            print(f\"      Type             : {component.get_type()}\") \n",
    "        print(f\"   Interfaces        :  \")\n",
    "        for interface in node.get_interfaces():\n",
    "            print(f\"       Name                : {interface.get_name()}\")\n",
    "            print(f\"           Bandwidth           : {interface.get_bandwidth()}\")\n",
    "            print(f\"           VLAN                : {interface.get_vlan()}\")            \n",
    "    \n",
    "except Exception as e:\n",
    "    print(f\"Fail: {e}\")\n",
    "    traceback.print_exc()"
   ]
  },
  {
   "cell_type": "markdown",
   "metadata": {
    "tags": []
   },
   "source": [
    "## Get the Nodes\n",
    "\n",
    "Retrieve the node information and save the management IP address.\n"
   ]
  },
  {
   "cell_type": "markdown",
   "metadata": {},
   "source": [
    "### Configure Node1\n",
    "\n",
    "Use ssh to configure eth1 on  node 1.  \n",
    "\n",
    "```\n",
    "ip link add link eth1 name eth1.200 type vlan id 200\n",
    "ip link set dev eth1.200 up\n",
    "ip addr add 192.168.1.10/24 dev eth1.200\n",
    "\n",
    "```"
   ]
  },
  {
   "cell_type": "code",
   "execution_count": null,
   "metadata": {},
   "outputs": [],
   "source": [
    "ip=\"192.168.1.10\"\n",
    "cidr=\"24\"\n",
    "os_iface='eth1'\n",
    "\n",
    "\n",
    "try:\n",
    "    node1 = slice.get_node(node1_name)\n",
    "    vlan = node1.get_component(name=node1_nic_name).get_interfaces()[0].get_vlan()\n",
    "    \n",
    "    stdout, stderr = node1.execute(f'sudo ip link add link {os_iface} name {os_iface}.{vlan} type vlan id {vlan}')    \n",
    "    stdout, stderr = node1.execute(f'sudo ip link set dev {os_iface}.{vlan} up')\n",
    "    stdout, stderr = node1.execute(f'sudo ip addr add {ip}/{cidr} dev {os_iface}.{vlan}')\n",
    "    stdout, stderr = node1.execute(f'sudo ip addr list {os_iface}.{vlan}')\n",
    "    print (stdout)\n",
    "    \n",
    "except Exception as e:\n",
    "    print(f\"Fail: {e}\")\n",
    "    traceback.print_exc()\n"
   ]
  },
  {
   "cell_type": "markdown",
   "metadata": {},
   "source": [
    "### Configure Node2\n",
    "\n",
    "Use ssh to configure eth1 on each Node 2.  \n",
    "\n",
    "```\n",
    "ip link add link eth1 name eth1.200 type vlan id 200\n",
    "ip link set dev eth1.200 up\n",
    "ip addr add 192.168.1.11/24 dev eth1.200\n",
    "```"
   ]
  },
  {
   "cell_type": "code",
   "execution_count": null,
   "metadata": {},
   "outputs": [],
   "source": [
    "ip=\"192.168.1.11\"\n",
    "cidr=\"24\"\n",
    "os_iface='eth1'\n",
    "\n",
    "try:\n",
    "    node2 = slice.get_node(node2_name)\n",
    "    vlan = node2.get_component(name=node2_nic_name).get_interfaces()[0].get_vlan()\n",
    "    \n",
    "    stdout, stderr = node2.execute(f'sudo ip link add link {os_iface} name {os_iface}.{vlan} type vlan id {vlan}')\n",
    "    stdout, stderr = node2.execute(f'sudo ip link set dev {os_iface}.{vlan} up')\n",
    "    stdout, stderr = node2.execute(f'sudo ip addr add {ip}/{cidr} dev {os_iface}.{vlan}')\n",
    "    stdout, stderr = node2.execute(f'sudo ip addr list {os_iface}.{vlan}')\n",
    "    print (stdout)\n",
    "    \n",
    "except Exception as e:\n",
    "    print(f\"Fail: {e}\")\n",
    "    traceback.print_exc()"
   ]
  },
  {
   "cell_type": "markdown",
   "metadata": {},
   "source": [
    "## Delete Slice"
   ]
  },
  {
   "cell_type": "code",
   "execution_count": null,
   "metadata": {},
   "outputs": [],
   "source": [
    "try:\n",
    "    slice = fablib.get_slice(name=slice_name)\n",
    "    slice.delete()\n",
    "except Exception as e:\n",
    "    print(f\"Fail: {e}\")\n",
    "    traceback.print_exc()"
   ]
  },
  {
   "cell_type": "code",
   "execution_count": null,
   "metadata": {},
   "outputs": [],
   "source": []
  }
 ],
 "metadata": {
  "kernelspec": {
   "display_name": "Python 3 (ipykernel)",
   "language": "python",
   "name": "python3"
  },
  "language_info": {
   "codemirror_mode": {
    "name": "ipython",
    "version": 3
   },
   "file_extension": ".py",
   "mimetype": "text/x-python",
   "name": "python",
   "nbconvert_exporter": "python",
   "pygments_lexer": "ipython3",
   "version": "3.9.9"
  }
 },
 "nbformat": 4,
 "nbformat_minor": 4
}

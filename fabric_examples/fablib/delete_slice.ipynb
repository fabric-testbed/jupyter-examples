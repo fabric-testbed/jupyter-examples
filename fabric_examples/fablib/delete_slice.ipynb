{
 "cells": [
  {
   "cell_type": "markdown",
   "id": "60e3fd3a-d102-4626-9849-755cfdd24948",
   "metadata": {},
   "source": [
    "# FABRIC API: Delete a Slice\n"
   ]
  },
  {
   "cell_type": "markdown",
   "id": "9c7b89c4-73be-4b06-91f4-cec6df6a75c7",
   "metadata": {},
   "source": [
    "## Configure the environment"
   ]
  },
  {
   "cell_type": "code",
   "execution_count": null,
   "id": "6ce91609-0b76-4943-a6a4-705c030b1eca",
   "metadata": {},
   "outputs": [],
   "source": [
    "import os\n",
    "from getpass import getpass\n",
    "\n",
    "os.environ['FABRIC_CREDMGR_HOST']='cm.fabric-testbed.net'\n",
    "os.environ['FABRIC_ORCHESTRATOR_HOST']='orchestrator.fabric-testbed.net'\n",
    "os.environ['FABRIC_TOKEN_LOCATION']=os.environ['HOME']+'/work/fabric_token.json'\n",
    "\n",
    "#os.environ['FABRIC_BASTION_USERNAME']=<INSERT_YOUR_FABRIC_USERNAME>\n",
    "os.environ['FABRIC_BASTION_KEY_LOCATION']=os.environ['HOME']+'/work/.ssh/id_rsa_fabric'\n",
    "\n",
    "os.environ['FABRIC_SLICE_PRIVATE_KEY_FILE']=os.environ['HOME']+'/.ssh/id_rsa'\n",
    "os.environ['FABRCI_SLICE_PUBLIC_KEY_FILE']=os.environ['HOME']+'/.ssh/id_rsa.pub'\n",
    "print('Please input private key passphrase. Press enter for no passphrase.')\n",
    "os.environ['FABRIC_SLICE_PRIVATE_KEY_PASSPHRASE']=getpass()\n",
    "\n",
    "os.environ['FABRIC_BASTION_HOST'] = 'bastion-1.fabric-testbed.net'\n",
    "os.environ['FABRIC_BASTION_HOST_PRIVATE_IPV4'] = '192.168.11.226'\n",
    "os.environ['FABRIC_BASTION_HOST_PRIVATE_IPV6'] = '2600:2701:5000:a902::c'\n",
    "\n",
    "from fabrictestbed_extensions.fablib.fablib import fablib"
   ]
  },
  {
   "cell_type": "markdown",
   "id": "6624e5ee-4857-4702-8dc6-b970c93d83cb",
   "metadata": {},
   "source": [
    "## Configure Slice Parameters\n",
    "\n"
   ]
  },
  {
   "cell_type": "code",
   "execution_count": null,
   "id": "1b5ec721-54a8-4d7e-bfb5-a9242c6a9ad6",
   "metadata": {},
   "outputs": [],
   "source": [
    "slice_name='MySlice'"
   ]
  },
  {
   "cell_type": "markdown",
   "id": "162b7b7d-1d91-40da-9255-4f5cc69b32f9",
   "metadata": {},
   "source": [
    "## Option 1: Get and Delete the Slice\n",
    "\n",
    "You slice is in the list of all your slices. You can loop through the list of slices to get the slice. Python has a standard tool to filter lists. Try using a lambda function to filter out your slice using its name."
   ]
  },
  {
   "cell_type": "code",
   "execution_count": null,
   "id": "ad093053-e64d-48cc-a02a-4493df8ffafa",
   "metadata": {},
   "outputs": [],
   "source": [
    "try:\n",
    "    slice = fablib.get_slice(name=slice_name)\n",
    "    print(f\"Slice: {slice.get_name()}\")\n",
    "    \n",
    "    slice.delete()\n",
    "except Exception as e:\n",
    "    print(f\"Get Slices Fail: {e}\")\n",
    "    traceback.print_exc()"
   ]
  },
  {
   "cell_type": "markdown",
   "id": "1c27601e-9d65-476f-8be3-4126fb8d6408",
   "metadata": {
    "tags": []
   },
   "source": [
    "## Option 2: Delete Slice by Name"
   ]
  },
  {
   "cell_type": "code",
   "execution_count": null,
   "id": "01d5b365-b2a9-439a-ac36-8b925d46c219",
   "metadata": {},
   "outputs": [],
   "source": [
    "try:\n",
    "    slice = fablib.delete_slice(name=slice_name)\n",
    "except Exception as e:\n",
    "    print(f\"Fail: {e}\")\n",
    "    traceback.print_exc()"
   ]
  },
  {
   "cell_type": "markdown",
   "id": "31cd7d0c-7312-4c1b-be0b-42f2564948c1",
   "metadata": {},
   "source": [
    "## Option 3: Delete Slice by ID \n",
    "\n",
    "Slice_id must be known."
   ]
  },
  {
   "cell_type": "code",
   "execution_count": null,
   "id": "eafd9778-aafe-470a-bd52-da273e3ee3e7",
   "metadata": {},
   "outputs": [],
   "source": [
    "slice_id=<insert_known_slice_id>\n",
    "try:\n",
    "    slice = fablib.delete_slice(slice_id=slice_id)\n",
    "except Exception as e:\n",
    "    print(f\"Fail: {e}\")\n",
    "    traceback.print_exc()"
   ]
  },
  {
   "cell_type": "markdown",
   "id": "eeb62d7e-d1ba-4ba3-9e2c-a4bfe8843d34",
   "metadata": {},
   "source": [
    "## Option 4: Delete ALL Slices\n",
    "\n",
    "Deletes all slices owned by user"
   ]
  },
  {
   "cell_type": "code",
   "execution_count": null,
   "id": "117055f8-dca3-44af-b130-affc9557775c",
   "metadata": {},
   "outputs": [],
   "source": [
    "try:\n",
    "    slice = fablib.delete_all()\n",
    "except Exception as e:\n",
    "    print(f\"Fail: {e}\")\n",
    "    traceback.print_exc()"
   ]
  }
 ],
 "metadata": {
  "kernelspec": {
   "display_name": "Python 3 (ipykernel)",
   "language": "python",
   "name": "python3"
  },
  "language_info": {
   "codemirror_mode": {
    "name": "ipython",
    "version": 3
   },
   "file_extension": ".py",
   "mimetype": "text/x-python",
   "name": "python",
   "nbconvert_exporter": "python",
   "pygments_lexer": "ipython3",
   "version": "3.9.9"
  }
 },
 "nbformat": 4,
 "nbformat_minor": 5
}

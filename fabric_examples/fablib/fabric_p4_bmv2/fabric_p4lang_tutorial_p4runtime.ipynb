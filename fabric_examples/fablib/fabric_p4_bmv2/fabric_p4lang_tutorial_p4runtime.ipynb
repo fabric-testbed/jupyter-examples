{
 "cells": [
  {
   "cell_type": "markdown",
   "metadata": {},
   "source": [
    "# P4Lang Tutorials of FABRIC\n",
    "\n",
    "This notebook walks the user through setting up a FABRIC eperiment that is suitiable for completing the P4 tutorials created by [P4Lang](https://github.com/p4lang/tutorials). The tutorials were origianlly designed to use a mininet topology. This example replaces the mininet topology with a FABRIC experiemnt topology that may span multiple sites across the FABRIC testbed.\n",
    "\n",
    "Additional resources:\n",
    "- [FABRIC Knowledge Base](https://learn.fabric-testbed.net/)\n",
    "- [FABRIC Forums](https://learn.fabric-testbed.net/forums/)\n",
    "- [P4Lang Tutorials](https://github.com/p4lang/tutorials)\n",
    "- [P4Lang YouTube Presentations](https://www.youtube.com/channel/UCOQAFkDKucJWr-KafdJsdIQ)"
   ]
  },
  {
   "cell_type": "code",
   "execution_count": 2,
   "metadata": {},
   "outputs": [],
   "source": [
    "import os\n",
    "\n",
    "os.environ['FABRIC_CREDMGR_HOST']='cm.fabric-testbed.net'\n",
    "os.environ['FABRIC_ORCHESTRATOR_HOST']='orchestrator.fabric-testbed.net'\n",
    "os.environ['FABRIC_TOKEN_LOCATION']=os.environ['HOME']+'/work/fabric_token.json'\n",
    "\n",
    "os.environ['FABRIC_BASTION_USERNAME']='pruth'\n",
    "os.environ['FABRIC_BASTION_KEY_LOCATION']=os.environ['HOME']+'/work/.ssh/id_rsa_fabric'\n",
    "\n",
    "os.environ['FABRIC_SLICE_PRIVATE_KEY_FILE']=os.environ['HOME']+'/.ssh/id_rsa'\n",
    "os.environ['FABRIC_SLICE_PUBLIC_KEY_FILE']=os.environ['HOME']+'/.ssh/id_rsa.pub'\n",
    "\n",
    "os.environ['FABRIC_BASTION_HOST'] = 'bastion-1.fabric-testbed.net'\n",
    "os.environ['FABRIC_BASTION_HOST_PRIVATE_IPV4'] = '192.168.11.226'\n",
    "os.environ['FABRIC_BASTION_HOST_PRIVATE_IPV6'] = '2600:2701:5000:a902::c'"
   ]
  },
  {
   "cell_type": "code",
   "execution_count": 15,
   "metadata": {},
   "outputs": [
    {
     "name": "stdout",
     "output_type": "stream",
     "text": [
      "Please input private key passphrase. Press enter for no passphrase.\n",
      "········\n"
     ]
    }
   ],
   "source": [
    "import os\n",
    "import json\n",
    "import traceback\n",
    "from getpass import getpass\n",
    "\n",
    "os.environ['FABRIC_CREDMGR_HOST']='cm.fabric-testbed.net'\n",
    "os.environ['FABRIC_ORCHESTRATOR_HOST']='orchestrator.fabric-testbed.net'\n",
    "os.environ['FABRIC_TOKEN_LOCATION']='/home/mono/Sachen/Work/FABRIC/fabric_python_api_locally/tokens.json'\n",
    "\n",
    "os.environ['FABRIC_BASTION_USERNAME']='minawm_0041350787'\n",
    "os.environ['FABRIC_BASTION_KEY_LOCATION']='/home/mono/Sachen/Work/FABRIC/mina_bastion_key'\n",
    "\n",
    "os.environ['FABRIC_SLICE_PRIVATE_KEY_FILE']=\"/home/mono/.ssh/id_rsa\" #'/home/mono/Sachen/Work/FABRIC/mina_bastion_key' #os.environ['HOME']+'/.ssh/id_rsa'\n",
    "os.environ['FABRIC_SLICE_PUBLIC_KEY_FILE']=\"/home/mono/.ssh/id_rsa.pub\" #'/home/mono/Sachen/Work/FABRIC/mina_bastion_key.pub' #os.environ['HOME']+'/.ssh/id_rsa.pub'\n",
    "print('Please input private key passphrase. Press enter for no passphrase.')\n",
    "os.environ['FABRIC_SLICE_PRIVATE_KEY_PASSPHRASE']=getpass()\n",
    "\n",
    "os.environ['FABRIC_BASTION_HOST'] = 'bastion-1.fabric-testbed.net'\n",
    "os.environ['FABRIC_BASTION_HOST_PRIVATE_IPV4'] = '192.168.11.226'\n",
    "os.environ['FABRIC_BASTION_HOST_PRIVATE_IPV6'] = '2600:2701:5000:a902::c'"
   ]
  },
  {
   "cell_type": "markdown",
   "metadata": {},
   "source": [
    "## Basic FABRIC Slice Configuration"
   ]
  },
  {
   "cell_type": "code",
   "execution_count": 16,
   "metadata": {},
   "outputs": [],
   "source": [
    "import json\n",
    "import traceback\n",
    "from fabrictestbed_extensions.fablib.fablib import fablib"
   ]
  },
  {
   "cell_type": "markdown",
   "metadata": {
    "tags": []
   },
   "source": [
    "## Configure Slice Parameters\n",
    "\n",
    "This section builds the experiment slice \n",
    "\n",
    "<img src=\"figs/fabric_slice.png\" width=\"800\"/>\n",
    "\n"
   ]
  },
  {
   "cell_type": "code",
   "execution_count": 124,
   "metadata": {},
   "outputs": [],
   "source": [
    "# Slice \n",
    "slice_name = 'P4Lang_Tutorial'\n",
    "\n",
    "# Switches\n",
    "s1_name = \"s1\"\n",
    "s2_name = \"s2\"\n",
    "s3_name = \"s3\"\n",
    "\n",
    "switch_cores = 2\n",
    "switch_ram = 8\n",
    "switch_disk = 40\n",
    "\n",
    "# Hosts\n",
    "h1_name = \"h1\"\n",
    "h2_name = \"h2\"\n",
    "h3_name = \"h3\"\n",
    "\n",
    "h1_ip=\"10.0.1.1\"\n",
    "h2_ip=\"10.0.2.2\"\n",
    "h3_ip=\"10.0.3.3\"\n",
    "\n",
    "host_cores = 2\n",
    "host_ram = 8\n",
    "host_disk = 10\n",
    "# Sites\n",
    "site_1 = 'MAX'\n",
    "site_2 = 'MAX'\n",
    "site_3 = 'MAX' #'NCSA' #'STAR' #'TACC' #'STAR' #'NCSA' #'UTAH'\n",
    "\n",
    "net_h1_name = 'net_h1'\n",
    "net_h2_name = 'net_h2'\n",
    "net_h3_name = 'net_h3'\n",
    "\n",
    "net_s1_s2_name = 'net_s1_s2'\n",
    "net_s2_s3_name = 'net_s2_s3'\n",
    "net_s1_s3_name = 'net_s1_s3'\n",
    "\n",
    "# All node properties\n",
    "#username = 'ubuntu'\n",
    "image = 'default_ubuntu_20'\n",
    "vlan = '1000'\n",
    "#image_type = 'qcow2'\n",
    "\n"
   ]
  },
  {
   "cell_type": "markdown",
   "metadata": {},
   "source": [
    "### Create the Slice"
   ]
  },
  {
   "cell_type": "code",
   "execution_count": 125,
   "metadata": {
    "scrolled": true
   },
   "outputs": [
    {
     "name": "stdout",
     "output_type": "stream",
     "text": [
      "Waiting for slice ................... Slice state: StableOK\n",
      "Running post boot config ...Done!\n"
     ]
    }
   ],
   "source": [
    "try:\n",
    "    #Create Slice\n",
    "    slice = fablib.new_slice(name=slice_name)\n",
    "    \n",
    "    # Add switch node s1\n",
    "    s1 = slice.add_node(name=s1_name, site=site_1)\n",
    "    s1.set_capacities(cores=switch_cores, ram=switch_ram, disk=switch_disk)\n",
    "    s1.set_image(image)\n",
    "    [s1_iface_local] = s1.add_component(model='NIC_Basic', name=\"s1_local_nic\").get_interfaces()\n",
    "    [s1_iface_to_s2, s1_iface_to_s3] = s1.add_component(model='NIC_ConnectX_5', name=\"s1_switch_nic\").get_interfaces()\n",
    "    s1_iface_to_s2.set_vlan(vlan=vlan)\n",
    "    s1_iface_to_s3.set_vlan(vlan=vlan)\n",
    "\n",
    "    # Add switch node s2\n",
    "    s2 = slice.add_node(name=s2_name, site=site_2)\n",
    "    s2.set_capacities(cores=switch_cores, ram=switch_ram, disk=switch_disk)\n",
    "    s2.set_image(image)\n",
    "    [s2_iface_local] = s2.add_component(model='NIC_Basic', name=\"s2_local_nic\").get_interfaces()\n",
    "    [s2_iface_to_s1, s2_iface_to_s3] = s2.add_component(model='NIC_ConnectX_5', name=\"s2_switch_nic\").get_interfaces()\n",
    "    s2_iface_to_s1.set_vlan(vlan=vlan)\n",
    "    s2_iface_to_s3.set_vlan(vlan=vlan)\n",
    "   \n",
    "    # Add switch node s3\n",
    "    s3 = slice.add_node(name=s3_name, site=site_3)\n",
    "    s3.set_capacities(cores=switch_cores, ram=switch_ram, disk=switch_disk)\n",
    "    s3.set_image(image)\n",
    "    [s3_iface_local] = s3.add_component(model='NIC_Basic', name=\"s3_local_nic\").get_interfaces()\n",
    "    [s3_iface_to_s1, s3_iface_to_s2] = s3.add_component(model='NIC_ConnectX_5', name=\"s3_switch_nic\").get_interfaces()\n",
    "    s3_iface_to_s1.set_vlan(vlan=vlan)\n",
    "    s3_iface_to_s2.set_vlan(vlan=vlan)\n",
    "    \n",
    "    # Add host node h1\n",
    "    h1 = slice.add_node(name=h1_name, site=site_1)\n",
    "    h1.set_capacities(cores=host_cores, ram=host_ram, disk=host_disk)\n",
    "    h1.set_image(image)\n",
    "    [h1_iface] = h1.add_component(model='NIC_Basic', name=\"h1_nic\").get_interfaces()\n",
    "    \n",
    "    # Add host node h2\n",
    "    h2 = slice.add_node(name=h2_name, site=site_2)\n",
    "    h2.set_capacities(cores=host_cores, ram=host_ram, disk=host_disk)\n",
    "    h2.set_image(image)\n",
    "    [h2_iface] = h2.add_component(model='NIC_Basic', name=\"h2_nic\").get_interfaces()\n",
    " \n",
    "    # Add host node h3\n",
    "    h3 = slice.add_node(name=h3_name, site=site_3)\n",
    "    h3.set_capacities(cores=host_cores, ram=host_ram, disk=host_disk)\n",
    "    h3.set_image(image)\n",
    "    [h3_iface] = h3.add_component(model='NIC_Basic', name=\"h3_nic\").get_interfaces()\n",
    "    \n",
    "    #Add swtich networks\n",
    "    switch_net1 = slice.add_l2network(name=net_s1_s2_name, interfaces=[s1_iface_to_s2, s2_iface_to_s1])\n",
    "    swtich_net2 = slice.add_l2network(name=net_s2_s3_name, interfaces=[s2_iface_to_s3, s3_iface_to_s2])\n",
    "    swtich_net3 = slice.add_l2network(name=net_s1_s3_name, interfaces=[s3_iface_to_s1, s1_iface_to_s3])\n",
    "\n",
    "    #Add host networks \n",
    "    host_net1 = slice.add_l2network(name=net_h1_name, interfaces=[s1_iface_local, h1_iface])\n",
    "    host_net2 = slice.add_l2network(name=net_h2_name, interfaces=[s2_iface_local, h2_iface])\n",
    "    host_net3 = slice.add_l2network(name=net_h3_name, interfaces=[s3_iface_local, h3_iface])    \n",
    "    \n",
    "    #Submit Slice Request\n",
    "    slice.submit(wait_progress=True)\n",
    "except Exception as e:\n",
    "    print(f\"Error: {e}\")\n",
    "    traceback.print_exc()\n",
    "    "
   ]
  },
  {
   "cell_type": "markdown",
   "metadata": {},
   "source": [
    "# timeout needs to be extended"
   ]
  },
  {
   "cell_type": "markdown",
   "metadata": {
    "tags": []
   },
   "source": [
    "## Get the Slice"
   ]
  },
  {
   "cell_type": "code",
   "execution_count": 126,
   "metadata": {
    "scrolled": false,
    "tags": []
   },
   "outputs": [
    {
     "name": "stdout",
     "output_type": "stream",
     "text": [
      "Node:\n",
      "   Name              : s1\n",
      "   Cores             : 2\n",
      "   RAM               : 8\n",
      "   Disk              : 100\n",
      "   Image             : default_ubuntu_20\n",
      "   Image Type        : qcow2\n",
      "   Host              : max-w4.fabric-testbed.net\n",
      "   Site              : MAX\n",
      "   Management IP     : 63.239.135.76\n",
      "   Reservation ID    : 76a9a7cc-710a-43f1-816e-b9d0862e3087\n",
      "   Reservation State : Active\n",
      "   SSH Command       : ssh -i /home/mono/.ssh/id_rsa -J minawm_0041350787@bastion-1.fabric-testbed.net ubuntu@63.239.135.76\n",
      "   Components        :  \n",
      "      Name             : s1-s1_local_nic\n",
      "      Details          : Mellanox ConnectX-6 VPI MCX653 dual port 100Gbps\n",
      "      Disk (G)         : 0\n",
      "      Units            : 1\n",
      "      PCI Address      : 0000:e2:09.4\n",
      "      Model            : ConnectX-6\n",
      "      Type             : SharedNIC\n",
      "      Name             : s1-s1_switch_nic\n",
      "      Details          : Mellanox ConnectX-5 Dual Port 10/25GbE\n",
      "      Disk (G)         : 0\n",
      "      Units            : 1\n",
      "      PCI Address      : ['0000:41:00.0', '0000:41:00.1']\n",
      "      Model            : ConnectX-5\n",
      "      Type             : SmartNIC\n",
      "   Interfaces        :  \n",
      "       Name                : s1-s1_local_nic-p1\n",
      "           Bandwidth           : 0\n",
      "           VLAN                : None\n",
      "           MAC                 : 0a:6f:b0:40:4b:14\n",
      "           OS iface name       : ens9\n",
      "       Name                : s1-s1_switch_nic-p1\n",
      "           Bandwidth           : 25\n",
      "           VLAN                : 1000\n",
      "           MAC                 : 04:3f:72:fa:78:00\n",
      "           OS iface name       : ens7.1000\n",
      "       Name                : s1-s1_switch_nic-p2\n",
      "           Bandwidth           : 25\n",
      "           VLAN                : 1000\n",
      "           MAC                 : 04:3f:72:fa:78:01\n",
      "           OS iface name       : ens8.1000\n",
      "Node:\n",
      "   Name              : s2\n",
      "   Cores             : 2\n",
      "   RAM               : 8\n",
      "   Disk              : 100\n",
      "   Image             : default_ubuntu_20\n",
      "   Image Type        : qcow2\n",
      "   Host              : max-w4.fabric-testbed.net\n",
      "   Site              : MAX\n",
      "   Management IP     : 63.239.135.70\n",
      "   Reservation ID    : c2d4ec2d-b1f1-471c-9200-7aabe3f8ece4\n",
      "   Reservation State : Active\n",
      "   SSH Command       : ssh -i /home/mono/.ssh/id_rsa -J minawm_0041350787@bastion-1.fabric-testbed.net ubuntu@63.239.135.70\n",
      "   Components        :  \n",
      "      Name             : s2-s2_local_nic\n",
      "      Details          : Mellanox ConnectX-6 VPI MCX653 dual port 100Gbps\n",
      "      Disk (G)         : 0\n",
      "      Units            : 1\n",
      "      PCI Address      : 0000:e2:0b.1\n",
      "      Model            : ConnectX-6\n",
      "      Type             : SharedNIC\n",
      "      Name             : s2-s2_switch_nic\n",
      "      Details          : Mellanox ConnectX-5 Dual Port 10/25GbE\n",
      "      Disk (G)         : 0\n",
      "      Units            : 1\n",
      "      PCI Address      : ['0000:a1:00.0', '0000:a1:00.1']\n",
      "      Model            : ConnectX-5\n",
      "      Type             : SmartNIC\n",
      "   Interfaces        :  \n",
      "       Name                : s2-s2_local_nic-p1\n",
      "           Bandwidth           : 0\n",
      "           VLAN                : None\n",
      "           MAC                 : 0e:b8:1e:41:bb:2e\n",
      "           OS iface name       : ens9\n",
      "       Name                : s2-s2_switch_nic-p1\n",
      "           Bandwidth           : 25\n",
      "           VLAN                : 1000\n",
      "           MAC                 : 04:3f:72:fa:75:60\n",
      "           OS iface name       : ens7.1000\n",
      "       Name                : s2-s2_switch_nic-p2\n",
      "           Bandwidth           : 25\n",
      "           VLAN                : 1000\n",
      "           MAC                 : 04:3f:72:fa:75:61\n",
      "           OS iface name       : ens8.1000\n",
      "Node:\n",
      "   Name              : s3\n",
      "   Cores             : 2\n",
      "   RAM               : 8\n",
      "   Disk              : 100\n",
      "   Image             : default_ubuntu_20\n",
      "   Image Type        : qcow2\n",
      "   Host              : max-w5.fabric-testbed.net\n",
      "   Site              : MAX\n",
      "   Management IP     : 63.239.135.124\n",
      "   Reservation ID    : 47bc508d-2b92-4101-b068-2226a57c65a8\n",
      "   Reservation State : Active\n",
      "   SSH Command       : ssh -i /home/mono/.ssh/id_rsa -J minawm_0041350787@bastion-1.fabric-testbed.net ubuntu@63.239.135.124\n",
      "   Components        :  \n",
      "      Name             : s3-s3_local_nic\n",
      "      Details          : Mellanox ConnectX-6 VPI MCX653 dual port 100Gbps\n",
      "      Disk (G)         : 0\n",
      "      Units            : 1\n",
      "      PCI Address      : 0000:e2:0e.4\n",
      "      Model            : ConnectX-6\n",
      "      Type             : SharedNIC\n",
      "      Name             : s3-s3_switch_nic\n",
      "      Details          : Mellanox ConnectX-5 Dual Port 10/25GbE\n",
      "      Disk (G)         : 0\n",
      "      Units            : 1\n",
      "      PCI Address      : ['0000:41:00.0', '0000:41:00.1']\n",
      "      Model            : ConnectX-5\n",
      "      Type             : SmartNIC\n",
      "   Interfaces        :  \n",
      "       Name                : s3-s3_local_nic-p1\n",
      "           Bandwidth           : 0\n",
      "           VLAN                : None\n",
      "           MAC                 : 02:1a:9d:93:82:a9\n",
      "           OS iface name       : ens9\n",
      "       Name                : s3-s3_switch_nic-p1\n",
      "           Bandwidth           : 25\n",
      "           VLAN                : 1000\n",
      "           MAC                 : 04:3f:72:fa:75:5c\n",
      "           OS iface name       : ens7.1000\n",
      "       Name                : s3-s3_switch_nic-p2\n",
      "           Bandwidth           : 25\n",
      "           VLAN                : 1000\n",
      "           MAC                 : 04:3f:72:fa:75:5d\n",
      "           OS iface name       : ens8.1000\n",
      "Node:\n",
      "   Name              : h1\n",
      "   Cores             : 2\n",
      "   RAM               : 8\n",
      "   Disk              : 10\n",
      "   Image             : default_ubuntu_20\n",
      "   Image Type        : qcow2\n",
      "   Host              : max-w4.fabric-testbed.net\n",
      "   Site              : MAX\n",
      "   Management IP     : 63.239.135.86\n",
      "   Reservation ID    : a710bb4c-d946-4214-b1cf-572774ae82d7\n",
      "   Reservation State : Active\n",
      "   SSH Command       : ssh -i /home/mono/.ssh/id_rsa -J minawm_0041350787@bastion-1.fabric-testbed.net ubuntu@63.239.135.86\n",
      "   Components        :  \n",
      "      Name             : h1-h1_nic\n",
      "      Details          : Mellanox ConnectX-6 VPI MCX653 dual port 100Gbps\n",
      "      Disk (G)         : 0\n",
      "      Units            : 1\n",
      "      PCI Address      : 0000:e2:08.6\n",
      "      Model            : ConnectX-6\n",
      "      Type             : SharedNIC\n",
      "   Interfaces        :  \n",
      "       Name                : h1-h1_nic-p1\n",
      "           Bandwidth           : 0\n",
      "           VLAN                : None\n",
      "           MAC                 : 16:55:bb:75:01:1a\n",
      "           OS iface name       : ens7\n",
      "Node:\n",
      "   Name              : h2\n",
      "   Cores             : 2\n",
      "   RAM               : 8\n",
      "   Disk              : 10\n",
      "   Image             : default_ubuntu_20\n",
      "   Image Type        : qcow2\n",
      "   Host              : max-w4.fabric-testbed.net\n",
      "   Site              : MAX\n",
      "   Management IP     : 63.239.135.122\n",
      "   Reservation ID    : 836ce1d4-9708-43ea-ac52-334c46f0b2a9\n",
      "   Reservation State : Active\n",
      "   SSH Command       : ssh -i /home/mono/.ssh/id_rsa -J minawm_0041350787@bastion-1.fabric-testbed.net ubuntu@63.239.135.122\n",
      "   Components        :  \n",
      "      Name             : h2-h2_nic\n",
      "      Details          : Mellanox ConnectX-6 VPI MCX653 dual port 100Gbps\n",
      "      Disk (G)         : 0\n",
      "      Units            : 1\n",
      "      PCI Address      : 0000:e2:0b.7\n",
      "      Model            : ConnectX-6\n",
      "      Type             : SharedNIC\n",
      "   Interfaces        :  \n",
      "       Name                : h2-h2_nic-p1\n",
      "           Bandwidth           : 0\n",
      "           VLAN                : None\n",
      "           MAC                 : 16:8c:37:7e:fa:3d\n",
      "           OS iface name       : ens7\n",
      "Node:\n",
      "   Name              : h3\n",
      "   Cores             : 2\n",
      "   RAM               : 8\n",
      "   Disk              : 10\n",
      "   Image             : default_ubuntu_20\n",
      "   Image Type        : qcow2\n",
      "   Host              : max-w4.fabric-testbed.net\n",
      "   Site              : MAX\n",
      "   Management IP     : 63.239.135.92\n",
      "   Reservation ID    : 3c0778f2-c35c-4631-adba-2e4de2217697\n",
      "   Reservation State : Active\n",
      "   SSH Command       : ssh -i /home/mono/.ssh/id_rsa -J minawm_0041350787@bastion-1.fabric-testbed.net ubuntu@63.239.135.92\n",
      "   Components        :  \n",
      "      Name             : h3-h3_nic\n",
      "      Details          : Mellanox ConnectX-6 VPI MCX653 dual port 100Gbps\n",
      "      Disk (G)         : 0\n",
      "      Units            : 1\n",
      "      PCI Address      : 0000:e2:02.2\n",
      "      Model            : ConnectX-6\n",
      "      Type             : SharedNIC\n",
      "   Interfaces        :  \n",
      "       Name                : h3-h3_nic-p1\n",
      "           Bandwidth           : 0\n",
      "           VLAN                : None\n"
     ]
    },
    {
     "name": "stdout",
     "output_type": "stream",
     "text": [
      "           MAC                 : 16:d3:e9:1f:62:72\n",
      "           OS iface name       : ens7\n",
      "Network:\n",
      "    Name:            net_s1_s2\n",
      "Network:\n",
      "    Name:            net_s2_s3\n",
      "Network:\n",
      "    Name:            net_s1_s3\n",
      "Network:\n",
      "    Name:            net_h1\n",
      "Network:\n",
      "    Name:            net_h2\n",
      "Network:\n",
      "    Name:            net_h3\n",
      "Interface Map: {'net_s1_s2': {'s1': {'ifname': 'ens7', 'mac': '04:3f:72:fa:78:00'}, 's2': {'ifname': 'ens7', 'mac': '04:3f:72:fa:75:60'}}, 'net_s2_s3': {'s2': {'ifname': 'ens8', 'mac': '04:3f:72:fa:75:61'}, 's3': {'ifname': 'ens8', 'mac': '04:3f:72:fa:75:5d'}}, 'net_s1_s3': {'s1': {'ifname': 'ens8', 'mac': '04:3f:72:fa:78:01'}, 's3': {'ifname': 'ens7', 'mac': '04:3f:72:fa:75:5c'}}, 'net_h1': {'s1': {'ifname': 'ens9', 'mac': '0a:6f:b0:40:4b:14'}, 'h1': {'ifname': 'ens7', 'mac': '16:55:bb:75:01:1a'}}, 'net_h2': {'s2': {'ifname': 'ens9', 'mac': '0e:b8:1e:41:bb:2e'}, 'h2': {'ifname': 'ens7', 'mac': '16:8c:37:7e:fa:3d'}}, 'net_h3': {'s3': {'ifname': 'ens9', 'mac': '02:1a:9d:93:82:a9'}, 'h3': {'ifname': 'ens7', 'mac': '16:d3:e9:1f:62:72'}}}\n"
     ]
    }
   ],
   "source": [
    "try:\n",
    "    slice = fablib.get_slice(name=slice_name)\n",
    "    for node in slice.get_nodes():\n",
    "        print(\"Node:\")\n",
    "        print(f\"   Name              : {node.get_name()}\")\n",
    "        print(f\"   Cores             : {node.get_cores()}\")\n",
    "        print(f\"   RAM               : {node.get_ram()}\")\n",
    "        print(f\"   Disk              : {node.get_disk()}\")\n",
    "        print(f\"   Image             : {node.get_image()}\")\n",
    "        print(f\"   Image Type        : {node.get_image_type()}\")\n",
    "        print(f\"   Host              : {node.get_host()}\")\n",
    "        print(f\"   Site              : {node.get_site()}\")\n",
    "        print(f\"   Management IP     : {node.get_management_ip()}\")\n",
    "        print(f\"   Reservation ID    : {node.get_reservation_id()}\")\n",
    "        print(f\"   Reservation State : {node.get_reservation_state()}\")\n",
    "        print(f\"   SSH Command       : {node.get_ssh_command()}\")\n",
    "        print(f\"   Components        :  \")\n",
    "        for component in node.get_components():\n",
    "            print(f\"      Name             : {component.get_name()}\")\n",
    "            print(f\"      Details          : {component.get_details()}\")\n",
    "            print(f\"      Disk (G)         : {component.get_disk()}\")\n",
    "            print(f\"      Units            : {component.get_unit()}\")\n",
    "            print(f\"      PCI Address      : {component.get_pci_addr()}\")\n",
    "            print(f\"      Model            : {component.get_model()}\")\n",
    "            print(f\"      Type             : {component.get_type()}\") \n",
    "        print(f\"   Interfaces        :  \")\n",
    "        for interface in node.get_interfaces():\n",
    "            print(f\"       Name                : {interface.get_name()}\")\n",
    "            print(f\"           Bandwidth           : {interface.get_bandwidth()}\")\n",
    "            print(f\"           VLAN                : {interface.get_vlan()}\")  \n",
    "            print(f\"           MAC                 : {interface.get_mac()}\") \n",
    "            print(f\"           OS iface name       : {interface.get_os_interface()}\")\n",
    "    for network in slice.get_l2networks():\n",
    "        print(\"Network:\")\n",
    "        print(f\"    Name:            {network.get_name()}\")\n",
    "    print(f\"Interface Map: {slice.get_interface_map()}\")\n",
    "except Exception as e:\n",
    "    print(f\"Fail: {e}\")\n",
    "    traceback.print_exc()"
   ]
  },
  {
   "cell_type": "markdown",
   "metadata": {},
   "source": [
    "## Configure Nodes\n"
   ]
  },
  {
   "cell_type": "code",
   "execution_count": 127,
   "metadata": {},
   "outputs": [
    {
     "name": "stdout",
     "output_type": "stream",
     "text": [
      "stdout: Selecting previously unselected package python3-backcall.\n",
      "(Reading database ... 63512 files and directories currently installed.)\n",
      "Preparing to unpack .../00-python3-backcall_0.1.0-2_all.deb ...\n",
      "Unpacking python3-backcall (0.1.0-2) ...\n",
      "Selecting previously unselected package python3-decorator.\n",
      "Preparing to unpack .../01-python3-decorator_4.4.2-0ubuntu1_all.deb ...\n",
      "Unpacking python3-decorator (4.4.2-0ubuntu1) ...\n",
      "Selecting previously unselected package python3-parso.\n",
      "Preparing to unpack .../02-python3-parso_0.5.2-1ubuntu1_all.deb ...\n",
      "Unpacking python3-parso (0.5.2-1ubuntu1) ...\n",
      "Selecting previously unselected package python3-jedi.\n",
      "Preparing to unpack .../03-python3-jedi_0.15.2-1_all.deb ...\n",
      "Unpacking python3-jedi (0.15.2-1) ...\n",
      "Selecting previously unselected package python3-pickleshare.\n",
      "Preparing to unpack .../04-python3-pickleshare_0.7.5-2_all.deb ...\n",
      "Unpacking python3-pickleshare (0.7.5-2) ...\n",
      "Selecting previously unselected package python3-wcwidth.\n",
      "Preparing to unpack .../05-python3-wcwidth_0.1.8+dfsg1-3_all.deb ...\n",
      "Unpacking python3-wcwidth (0.1.8+dfsg1-3) ...\n",
      "Selecting previously unselected package python3-prompt-toolkit.\n",
      "Preparing to unpack .../06-python3-prompt-toolkit_2.0.10-2_all.deb ...\n",
      "Unpacking python3-prompt-toolkit (2.0.10-2) ...\n",
      "Selecting previously unselected package python3-pygments.\n",
      "Preparing to unpack .../07-python3-pygments_2.3.1+dfsg-1ubuntu2.2_all.deb ...\n",
      "Unpacking python3-pygments (2.3.1+dfsg-1ubuntu2.2) ...\n",
      "Selecting previously unselected package python3-ipython-genutils.\n",
      "Preparing to unpack .../08-python3-ipython-genutils_0.2.0-1ubuntu1_all.deb ...\n",
      "Unpacking python3-ipython-genutils (0.2.0-1ubuntu1) ...\n",
      "Selecting previously unselected package python3-traitlets.\n",
      "Preparing to unpack .../09-python3-traitlets_4.3.3-3_all.deb ...\n",
      "Unpacking python3-traitlets (4.3.3-3) ...\n",
      "Selecting previously unselected package python3-ipython.\n",
      "Preparing to unpack .../10-python3-ipython_7.13.0-1_all.deb ...\n",
      "Unpacking python3-ipython (7.13.0-1) ...\n",
      "Selecting previously unselected package ipython3.\n",
      "Preparing to unpack .../11-ipython3_7.13.0-1_all.deb ...\n",
      "Unpacking ipython3 (7.13.0-1) ...\n",
      "Selecting previously unselected package python3-scapy.\n",
      "Preparing to unpack .../12-python3-scapy_2.4.3-4_all.deb ...\n",
      "Unpacking python3-scapy (2.4.3-4) ...\n",
      "Setting up python3-backcall (0.1.0-2) ...\n",
      "Setting up python3-parso (0.5.2-1ubuntu1) ...\n",
      "Setting up python3-ipython-genutils (0.2.0-1ubuntu1) ...\n",
      "Setting up python3-decorator (4.4.2-0ubuntu1) ...\n",
      "Setting up python3-pygments (2.3.1+dfsg-1ubuntu2.2) ...\n",
      "Setting up python3-wcwidth (0.1.8+dfsg1-3) ...\n",
      "Setting up python3-pickleshare (0.7.5-2) ...\n",
      "Setting up python3-scapy (2.4.3-4) ...\n",
      "Setting up python3-traitlets (4.3.3-3) ...\n",
      "Setting up python3-prompt-toolkit (2.0.10-2) ...\n",
      "Setting up python3-jedi (0.15.2-1) ...\n",
      "Setting up python3-ipython (7.13.0-1) ...\n",
      "Setting up ipython3 (7.13.0-1) ...\n",
      "Processing triggers for man-db (2.9.1-1) ...\n",
      "\n",
      "stdout: Selecting previously unselected package python3-backcall.\n",
      "(Reading database ... 63512 files and directories currently installed.)\n",
      "Preparing to unpack .../00-python3-backcall_0.1.0-2_all.deb ...\n",
      "Unpacking python3-backcall (0.1.0-2) ...\n",
      "Selecting previously unselected package python3-decorator.\n",
      "Preparing to unpack .../01-python3-decorator_4.4.2-0ubuntu1_all.deb ...\n",
      "Unpacking python3-decorator (4.4.2-0ubuntu1) ...\n",
      "Selecting previously unselected package python3-parso.\n",
      "Preparing to unpack .../02-python3-parso_0.5.2-1ubuntu1_all.deb ...\n",
      "Unpacking python3-parso (0.5.2-1ubuntu1) ...\n",
      "Selecting previously unselected package python3-jedi.\n",
      "Preparing to unpack .../03-python3-jedi_0.15.2-1_all.deb ...\n",
      "Unpacking python3-jedi (0.15.2-1) ...\n",
      "Selecting previously unselected package python3-pickleshare.\n",
      "Preparing to unpack .../04-python3-pickleshare_0.7.5-2_all.deb ...\n",
      "Unpacking python3-pickleshare (0.7.5-2) ...\n",
      "Selecting previously unselected package python3-wcwidth.\n",
      "Preparing to unpack .../05-python3-wcwidth_0.1.8+dfsg1-3_all.deb ...\n",
      "Unpacking python3-wcwidth (0.1.8+dfsg1-3) ...\n",
      "Selecting previously unselected package python3-prompt-toolkit.\n",
      "Preparing to unpack .../06-python3-prompt-toolkit_2.0.10-2_all.deb ...\n",
      "Unpacking python3-prompt-toolkit (2.0.10-2) ...\n",
      "Selecting previously unselected package python3-pygments.\n",
      "Preparing to unpack .../07-python3-pygments_2.3.1+dfsg-1ubuntu2.2_all.deb ...\n",
      "Unpacking python3-pygments (2.3.1+dfsg-1ubuntu2.2) ...\n",
      "Selecting previously unselected package python3-ipython-genutils.\n",
      "Preparing to unpack .../08-python3-ipython-genutils_0.2.0-1ubuntu1_all.deb ...\n",
      "Unpacking python3-ipython-genutils (0.2.0-1ubuntu1) ...\n",
      "Selecting previously unselected package python3-traitlets.\n",
      "Preparing to unpack .../09-python3-traitlets_4.3.3-3_all.deb ...\n",
      "Unpacking python3-traitlets (4.3.3-3) ...\n",
      "Selecting previously unselected package python3-ipython.\n",
      "Preparing to unpack .../10-python3-ipython_7.13.0-1_all.deb ...\n",
      "Unpacking python3-ipython (7.13.0-1) ...\n",
      "Selecting previously unselected package ipython3.\n",
      "Preparing to unpack .../11-ipython3_7.13.0-1_all.deb ...\n",
      "Unpacking ipython3 (7.13.0-1) ...\n",
      "Selecting previously unselected package python3-scapy.\n",
      "Preparing to unpack .../12-python3-scapy_2.4.3-4_all.deb ...\n",
      "Unpacking python3-scapy (2.4.3-4) ...\n",
      "Setting up python3-backcall (0.1.0-2) ...\n",
      "Setting up python3-parso (0.5.2-1ubuntu1) ...\n",
      "Setting up python3-ipython-genutils (0.2.0-1ubuntu1) ...\n",
      "Setting up python3-decorator (4.4.2-0ubuntu1) ...\n",
      "Setting up python3-pygments (2.3.1+dfsg-1ubuntu2.2) ...\n",
      "Setting up python3-wcwidth (0.1.8+dfsg1-3) ...\n",
      "Setting up python3-pickleshare (0.7.5-2) ...\n",
      "Setting up python3-scapy (2.4.3-4) ...\n",
      "Setting up python3-traitlets (4.3.3-3) ...\n",
      "Setting up python3-prompt-toolkit (2.0.10-2) ...\n",
      "Setting up python3-jedi (0.15.2-1) ...\n",
      "Setting up python3-ipython (7.13.0-1) ...\n",
      "Setting up ipython3 (7.13.0-1) ...\n",
      "Processing triggers for man-db (2.9.1-1) ...\n",
      "\n",
      "stdout: Selecting previously unselected package python3-backcall.\n",
      "(Reading database ... 63512 files and directories currently installed.)\n",
      "Preparing to unpack .../00-python3-backcall_0.1.0-2_all.deb ...\n",
      "Unpacking python3-backcall (0.1.0-2) ...\n",
      "Selecting previously unselected package python3-decorator.\n",
      "Preparing to unpack .../01-python3-decorator_4.4.2-0ubuntu1_all.deb ...\n",
      "Unpacking python3-decorator (4.4.2-0ubuntu1) ...\n",
      "Selecting previously unselected package python3-parso.\n",
      "Preparing to unpack .../02-python3-parso_0.5.2-1ubuntu1_all.deb ...\n",
      "Unpacking python3-parso (0.5.2-1ubuntu1) ...\n",
      "Selecting previously unselected package python3-jedi.\n",
      "Preparing to unpack .../03-python3-jedi_0.15.2-1_all.deb ...\n",
      "Unpacking python3-jedi (0.15.2-1) ...\n",
      "Selecting previously unselected package python3-pickleshare.\n",
      "Preparing to unpack .../04-python3-pickleshare_0.7.5-2_all.deb ...\n",
      "Unpacking python3-pickleshare (0.7.5-2) ...\n",
      "Selecting previously unselected package python3-wcwidth.\n",
      "Preparing to unpack .../05-python3-wcwidth_0.1.8+dfsg1-3_all.deb ...\n",
      "Unpacking python3-wcwidth (0.1.8+dfsg1-3) ...\n",
      "Selecting previously unselected package python3-prompt-toolkit.\n",
      "Preparing to unpack .../06-python3-prompt-toolkit_2.0.10-2_all.deb ...\n",
      "Unpacking python3-prompt-toolkit (2.0.10-2) ...\n",
      "Selecting previously unselected package python3-pygments.\n",
      "Preparing to unpack .../07-python3-pygments_2.3.1+dfsg-1ubuntu2.2_all.deb ...\n",
      "Unpacking python3-pygments (2.3.1+dfsg-1ubuntu2.2) ...\n",
      "Selecting previously unselected package python3-ipython-genutils.\n",
      "Preparing to unpack .../08-python3-ipython-genutils_0.2.0-1ubuntu1_all.deb ...\n",
      "Unpacking python3-ipython-genutils (0.2.0-1ubuntu1) ...\n",
      "Selecting previously unselected package python3-traitlets.\n",
      "Preparing to unpack .../09-python3-traitlets_4.3.3-3_all.deb ...\n",
      "Unpacking python3-traitlets (4.3.3-3) ...\n",
      "Selecting previously unselected package python3-ipython.\n",
      "Preparing to unpack .../10-python3-ipython_7.13.0-1_all.deb ...\n",
      "Unpacking python3-ipython (7.13.0-1) ...\n",
      "Selecting previously unselected package ipython3.\n",
      "Preparing to unpack .../11-ipython3_7.13.0-1_all.deb ...\n",
      "Unpacking ipython3 (7.13.0-1) ...\n",
      "Selecting previously unselected package python3-scapy.\n",
      "Preparing to unpack .../12-python3-scapy_2.4.3-4_all.deb ...\n",
      "Unpacking python3-scapy (2.4.3-4) ...\n",
      "Setting up python3-backcall (0.1.0-2) ...\n",
      "Setting up python3-parso (0.5.2-1ubuntu1) ...\n",
      "Setting up python3-ipython-genutils (0.2.0-1ubuntu1) ...\n",
      "Setting up python3-decorator (4.4.2-0ubuntu1) ...\n",
      "Setting up python3-pygments (2.3.1+dfsg-1ubuntu2.2) ...\n",
      "Setting up python3-wcwidth (0.1.8+dfsg1-3) ...\n",
      "Setting up python3-pickleshare (0.7.5-2) ...\n",
      "Setting up python3-scapy (2.4.3-4) ...\n",
      "Setting up python3-traitlets (4.3.3-3) ...\n",
      "Setting up python3-prompt-toolkit (2.0.10-2) ...\n",
      "Setting up python3-jedi (0.15.2-1) ...\n",
      "Setting up python3-ipython (7.13.0-1) ...\n",
      "Setting up ipython3 (7.13.0-1) ...\n",
      "Processing triggers for man-db (2.9.1-1) ...\n",
      "\n"
     ]
    }
   ],
   "source": [
    "host_config_script='sudo apt-get update -qq && sudo apt-get install -qq -y python3-scapy && git clone https://github.com/p4lang/tutorials.git'\n",
    "\n",
    "try:\n",
    "    h1 = slice.get_node(name=h1_name)        \n",
    "    h1_os_iface = h1.get_interface(network_name=net_h1_name)  \n",
    "#     iface1.set_ip(ip=h1_ip, cidr=\"24\")\n",
    "    h1_os_iface.set_ip(ip=h1_ip, cidr=\"24\")\n",
    "    \n",
    "    stdout, stderr = h1.execute(host_config_script)\n",
    "    print(\"stdout: {}\".format(stdout))\n",
    "except Exception as e:\n",
    "    print(f\"Error: {e}\")\n",
    "    traceback.print_exc() \n",
    "    \n",
    "try:\n",
    "    h2 = slice.get_node(name=h2_name)\n",
    "    h2_os_iface = h2.get_interface(network_name=net_h2_name)\n",
    "    h2_os_iface.set_ip(ip=h2_ip, cidr=\"24\")\n",
    "    \n",
    "    \n",
    "    stdout, stderr = h2.execute(host_config_script)\n",
    "    print(\"stdout: {}\".format(stdout))\n",
    "except Exception as e:\n",
    "    print(f\"Error: {e}\")\n",
    "    traceback.print_exc() \n",
    "    \n",
    "try:\n",
    "    h3 = slice.get_node(name=h3_name)\n",
    "    h3_os_iface = h3.get_interface(network_name=net_h3_name)\n",
    "    h3_os_iface.set_ip(ip=h3_ip, cidr=\"24\")\n",
    "    \n",
    "    stdout, stderr = h3.execute(host_config_script)\n",
    "    print(\"stdout: {}\".format(stdout))\n",
    "except Exception as e:\n",
    "    print(f\"Error: {e}\")\n",
    "    traceback.print_exc() \n",
    "    \n"
   ]
  },
  {
   "cell_type": "markdown",
   "metadata": {},
   "source": [
    "## Configure Switches\n",
    "\n",
    "Use ssh to configure the ifaces on the switches. This step requires testing the interfaces to figure out which interface is connected to which network.\n"
   ]
  },
  {
   "cell_type": "markdown",
   "metadata": {},
   "source": [
    "#### Setup P4 Docker\n",
    "\n"
   ]
  },
  {
   "cell_type": "code",
   "execution_count": 128,
   "metadata": {},
   "outputs": [
    {
     "name": "stdout",
     "output_type": "stream",
     "text": [
      "stdout: ('', '')\n"
     ]
    }
   ],
   "source": [
    "try:\n",
    "    s1 = slice.get_node(name=s1_name)\n",
    "    s1_h1_os_iface = s1.get_interface(network_name=net_h1_name)\n",
    "    s1_s2_os_iface = s1.get_interface(network_name=net_s1_s2_name)\n",
    "    s1_s3_os_iface = s1.get_interface(network_name=net_s1_s3_name)\n",
    "    \n",
    "    file_attributes = s1.upload_file('scripts/router_setup_p4_bmv2_container.sh','router_setup_p4_bmv2_container.sh')\n",
    "    #print(\"file_attributes: {}\".format(file_attributes))\n",
    "\n",
    "    stdout = s1.execute(f\"chmod +x router_setup_p4_bmv2_container.sh && sudo sh -c './router_setup_p4_bmv2_container.sh {s1_h1_os_iface.get_os_interface()} {s1_s2_os_iface.get_os_interface()} {s1_s3_os_iface.get_os_interface()}  > /tmp/script.log 2>&1'\")\n",
    "    print(\"stdout: {}\".format(stdout))\n",
    "\n",
    "except Exception as e:\n",
    "    print(f\"Error: {e}\")\n",
    "    traceback.print_exc() "
   ]
  },
  {
   "cell_type": "code",
   "execution_count": 129,
   "metadata": {},
   "outputs": [
    {
     "name": "stdout",
     "output_type": "stream",
     "text": [
      "stdout: ('', '')\n"
     ]
    }
   ],
   "source": [
    "try:\n",
    "    s2 = slice.get_node(name=s2_name)\n",
    "    s2_h2_os_iface = s2.get_interface(network_name=net_h2_name)\n",
    "    s2_s1_os_iface = s2.get_interface(network_name=net_s1_s2_name)\n",
    "    s2_s3_os_iface = s2.get_interface(network_name=net_s2_s3_name)\n",
    "    \n",
    "    file_attributes = s2.upload_file('scripts/router_setup_p4_bmv2_container.sh','router_setup_p4_bmv2_container.sh')\n",
    "    #print(\"file_attributes: {}\".format(file_attributes))\n",
    "\n",
    "    stdout = s2.execute(f\"chmod +x router_setup_p4_bmv2_container.sh && sudo sh -c './router_setup_p4_bmv2_container.sh {s2_h2_os_iface.get_os_interface()} {s2_s1_os_iface.get_os_interface()} {s2_s3_os_iface.get_os_interface()}  > /tmp/script.log 2>&1'\")\n",
    "    print(\"stdout: {}\".format(stdout))\n",
    "    \n",
    "except Exception as e:\n",
    "    print(f\"Error: {e}\")\n",
    "    traceback.print_exc() "
   ]
  },
  {
   "cell_type": "code",
   "execution_count": 130,
   "metadata": {},
   "outputs": [
    {
     "name": "stdout",
     "output_type": "stream",
     "text": [
      "stdout: ('', '')\n"
     ]
    }
   ],
   "source": [
    "try:\n",
    "    s3 = slice.get_node(name=s3_name)\n",
    "    s3_h3_os_iface = s3.get_interface(network_name=net_h3_name)\n",
    "    s3_s1_os_iface = s3.get_interface(network_name=net_s1_s3_name)\n",
    "    s3_s2_os_iface = s3.get_interface(network_name=net_s2_s3_name)\n",
    "     \n",
    "    file_attributes = s3.upload_file('scripts/router_setup_p4_bmv2_container.sh','router_setup_p4_bmv2_container.sh')\n",
    "    #print(\"file_attributes: {}\".format(file_attributes))\n",
    "\n",
    "    stdout = s3.execute(f\"chmod +x router_setup_p4_bmv2_container.sh && sudo sh -c './router_setup_p4_bmv2_container.sh {s3_h3_os_iface.get_os_interface()} {s3_s1_os_iface.get_os_interface()} {s3_s2_os_iface.get_os_interface()}  > /tmp/script.log 2>&1'\")\n",
    "    print(\"stdout: {}\".format(stdout))\n",
    "    \n",
    "except Exception as e:\n",
    "    print(f\"Error: {e}\")\n",
    "    traceback.print_exc() "
   ]
  },
  {
   "cell_type": "markdown",
   "metadata": {},
   "source": [
    "### Confgure P4 Switch Tables\n",
    "\n",
    "Edit sX_commands.txt to change the values"
   ]
  },
  {
   "cell_type": "code",
   "execution_count": 131,
   "metadata": {},
   "outputs": [
    {
     "name": "stdout",
     "output_type": "stream",
     "text": [
      "Swtitch Name        : s1\n",
      "Management IP    : 63.239.135.76\n",
      "s1_commands.txt\n",
      "file_attributes: -rw-rw-r--   1 1000     1000          185 20 Jan 12:30 ?\n",
      "stdout: ('Obtaining JSON from switch...\\nDone\\nControl utility for runtime P4 table manipulation\\nRuntimeCmd: Setting default action of myTunnel_exact\\naction:              drop\\nruntime data:        \\nRuntimeCmd: Adding entry to exact match table myTunnel_exact\\nmatch key:           EXACT-00:01\\naction:              myTunnel_forward\\nruntime data:        00:01\\nEntry has been added with handle 0\\nRuntimeCmd: Adding entry to exact match table myTunnel_exact\\nmatch key:           EXACT-00:02\\naction:              myTunnel_forward\\nruntime data:        00:02\\nEntry has been added with handle 1\\nRuntimeCmd: Adding entry to exact match table myTunnel_exact\\nmatch key:           EXACT-00:03\\naction:              myTunnel_forward\\nruntime data:        00:03\\nEntry has been added with handle 2\\nRuntimeCmd: \\n', '')\n",
      "Swtitch Name        : s2\n",
      "Management IP    : 63.239.135.70\n",
      "s2_commands.txt\n",
      "file_attributes: -rw-rw-r--   1 1000     1000          185 20 Jan 12:30 ?\n",
      "stdout: ('Obtaining JSON from switch...\\nDone\\nControl utility for runtime P4 table manipulation\\nRuntimeCmd: Setting default action of myTunnel_exact\\naction:              drop\\nruntime data:        \\nRuntimeCmd: Adding entry to exact match table myTunnel_exact\\nmatch key:           EXACT-00:01\\naction:              myTunnel_forward\\nruntime data:        00:02\\nEntry has been added with handle 0\\nRuntimeCmd: Adding entry to exact match table myTunnel_exact\\nmatch key:           EXACT-00:02\\naction:              myTunnel_forward\\nruntime data:        00:01\\nEntry has been added with handle 1\\nRuntimeCmd: Adding entry to exact match table myTunnel_exact\\nmatch key:           EXACT-00:03\\naction:              myTunnel_forward\\nruntime data:        00:03\\nEntry has been added with handle 2\\nRuntimeCmd: \\n', '')\n",
      "Swtitch Name        : s3\n",
      "Management IP    : 63.239.135.124\n",
      "s3_commands.txt\n",
      "file_attributes: -rw-rw-r--   1 1000     1000          185 20 Jan 12:30 ?\n",
      "stdout: ('Obtaining JSON from switch...\\nDone\\nControl utility for runtime P4 table manipulation\\nRuntimeCmd: Setting default action of myTunnel_exact\\naction:              drop\\nruntime data:        \\nRuntimeCmd: Adding entry to exact match table myTunnel_exact\\nmatch key:           EXACT-00:01\\naction:              myTunnel_forward\\nruntime data:        00:02\\nEntry has been added with handle 0\\nRuntimeCmd: Adding entry to exact match table myTunnel_exact\\nmatch key:           EXACT-00:02\\naction:              myTunnel_forward\\nruntime data:        00:03\\nEntry has been added with handle 1\\nRuntimeCmd: Adding entry to exact match table myTunnel_exact\\nmatch key:           EXACT-00:03\\naction:              myTunnel_forward\\nruntime data:        00:01\\nEntry has been added with handle 2\\nRuntimeCmd: \\n', '')\n"
     ]
    }
   ],
   "source": [
    "for switch_name in [s1_name, s2_name, s3_name]:\n",
    "    switch_node = slice.get_node(name=switch_name)\n",
    "    management_ip_switch = str(switch_node.get_management_ip())\n",
    "    print(\"Swtitch Name        : {}\".format(switch_node.get_name()))\n",
    "    print(\"Management IP    : {}\".format(management_ip_switch))\n",
    "    \n",
    "    \n",
    "    #Configure P4 Tables\n",
    "    cmd_file=f'{switch_name}_commands.txt'\n",
    "    print(cmd_file)\n",
    "    file_attributes = switch_node.upload_file(f'scripts/{cmd_file}',cmd_file)\n",
    "    print(\"file_attributes: {}\".format(file_attributes))\n",
    "\n",
    "    #stdout = execute_script(username, switch_node, f\"sudo sh -c 'cat {cmd_file} | docker exec -it fabric_p4 simple_switch_CLI  > /tmp/script.log 2>&1'\")\n",
    "    stdout = switch_node.execute(f\"sudo sh -c 'cat {cmd_file} | docker exec -i fabric_p4 simple_switch_CLI'\")\n",
    "    print(\"stdout: {}\".format(stdout))"
   ]
  },
  {
   "cell_type": "markdown",
   "metadata": {},
   "source": [
    "## The switches are now configured and running. Now we are going to send packets over the switches."
   ]
  },
  {
   "cell_type": "markdown",
   "metadata": {},
   "source": [
    "We are going to use `send.py` and `receive.py`. We are going to re-upload them to the servers and use them. Make sure to modify the interface names in the script accordingly."
   ]
  },
  {
   "cell_type": "code",
   "execution_count": 136,
   "metadata": {},
   "outputs": [
    {
     "data": {
      "text/plain": [
       "<SFTPAttributes: [ size=1744 uid=1000 gid=1000 mode=0o100664 atime=1642750892 mtime=1642751212 ]>"
      ]
     },
     "execution_count": 136,
     "metadata": {},
     "output_type": "execute_result"
    }
   ],
   "source": [
    "h1.upload_file('scripts/send.py', 'send.py')"
   ]
  },
  {
   "cell_type": "code",
   "execution_count": 133,
   "metadata": {},
   "outputs": [
    {
     "data": {
      "text/plain": [
       "<SFTPAttributes: [ size=1137 uid=1000 gid=1000 mode=0o100664 atime=1642750933 mtime=1642750933 ]>"
      ]
     },
     "execution_count": 133,
     "metadata": {},
     "output_type": "execute_result"
    }
   ],
   "source": [
    "h2.upload_file('scripts/receive.py', 'receive.py')"
   ]
  },
  {
   "cell_type": "code",
   "execution_count": 137,
   "metadata": {},
   "outputs": [
    {
     "data": {
      "text/plain": [
       "('', '')"
      ]
     },
     "execution_count": 137,
     "metadata": {},
     "output_type": "execute_result"
    }
   ],
   "source": [
    "h1.execute('sudo mv send.py tutorials/exercises/basic_tunnel/send_modified.py')"
   ]
  },
  {
   "cell_type": "code",
   "execution_count": 138,
   "metadata": {},
   "outputs": [
    {
     "data": {
      "text/plain": [
       "('', '')"
      ]
     },
     "execution_count": 138,
     "metadata": {},
     "output_type": "execute_result"
    }
   ],
   "source": [
    "h2.execute('sudo mv receive.py tutorials/exercises/basic_tunnel/receive_modified.py')"
   ]
  },
  {
   "cell_type": "markdown",
   "metadata": {},
   "source": [
    "## Below, we send a few packets."
   ]
  },
  {
   "cell_type": "code",
   "execution_count": 146,
   "metadata": {},
   "outputs": [
    {
     "data": {
      "text/plain": [
       "('', '')"
      ]
     },
     "execution_count": 146,
     "metadata": {},
     "output_type": "execute_result"
    }
   ],
   "source": [
    "h1.execute('tmux new -d \\'timeout 30 watch -n 5 sudo python3 tutorials/exercises/basic_tunnel/send_modified.py --dst_id 2 10.10.2.2 \"message100\"\\'')"
   ]
  },
  {
   "cell_type": "markdown",
   "metadata": {},
   "source": [
    "## And below we receive them."
   ]
  },
  {
   "cell_type": "code",
   "execution_count": 147,
   "metadata": {},
   "outputs": [
    {
     "data": {
      "text/plain": [
       "(\"sniffing on ens7\\ngot a packet\\n###[ Ethernet ]### \\n  dst       = ff:ff:ff:ff:ff:ff\\n  src       = 16:55:bb:75:01:1a\\n  type      = 0x1212\\n###[ MyTunnel ]### \\n     pid       = 2048\\n     dst_id    = 2\\n###[ IP ]### \\n        version   = 4\\n        ihl       = 5\\n        tos       = 0x0\\n        len       = 30\\n        id        = 1\\n        flags     = \\n        frag      = 0\\n        ttl       = 64\\n        proto     = hopopt\\n        chksum    = 0x6091\\n        src       = 10.20.4.47\\n        dst       = 10.10.2.2\\n        \\\\options   \\\\\\n###[ Raw ]### \\n           load      = 'message100'\\n###[ Padding ]### \\n              load      = '\\\\x00\\\\x00\\\\x00\\\\x00\\\\x00\\\\x00\\\\x00\\\\x00'\\n\\ngot a packet\\n###[ Ethernet ]### \\n  dst       = ff:ff:ff:ff:ff:ff\\n  src       = 16:55:bb:75:01:1a\\n  type      = 0x1212\\n###[ MyTunnel ]### \\n     pid       = 2048\\n     dst_id    = 2\\n###[ IP ]### \\n        version   = 4\\n        ihl       = 5\\n        tos       = 0x0\\n        len       = 30\\n        id        = 1\\n        flags     = \\n        frag      = 0\\n        ttl       = 64\\n        proto     = hopopt\\n        chksum    = 0x6091\\n        src       = 10.20.4.47\\n        dst       = 10.10.2.2\\n        \\\\options   \\\\\\n###[ Raw ]### \\n           load      = 'message100'\\n###[ Padding ]### \\n              load      = '\\\\x00\\\\x00\\\\x00\\\\x00\\\\x00\\\\x00\\\\x00\\\\x00'\\n\\ngot a packet\\n###[ Ethernet ]### \\n  dst       = ff:ff:ff:ff:ff:ff\\n  src       = 16:55:bb:75:01:1a\\n  type      = 0x1212\\n###[ MyTunnel ]### \\n     pid       = 2048\\n     dst_id    = 2\\n###[ IP ]### \\n        version   = 4\\n        ihl       = 5\\n        tos       = 0x0\\n        len       = 30\\n        id        = 1\\n        flags     = \\n        frag      = 0\\n        ttl       = 64\\n        proto     = hopopt\\n        chksum    = 0x6091\\n        src       = 10.20.4.47\\n        dst       = 10.10.2.2\\n        \\\\options   \\\\\\n###[ Raw ]### \\n           load      = 'message100'\\n###[ Padding ]### \\n              load      = '\\\\x00\\\\x00\\\\x00\\\\x00\\\\x00\\\\x00\\\\x00\\\\x00'\\n\\ngot a packet\\n###[ Ethernet ]### \\n  dst       = ff:ff:ff:ff:ff:ff\\n  src       = 16:55:bb:75:01:1a\\n  type      = 0x1212\\n###[ MyTunnel ]### \\n     pid       = 2048\\n     dst_id    = 2\\n###[ IP ]### \\n        version   = 4\\n        ihl       = 5\\n        tos       = 0x0\\n        len       = 30\\n        id        = 1\\n        flags     = \\n        frag      = 0\\n        ttl       = 64\\n        proto     = hopopt\\n        chksum    = 0x6091\\n        src       = 10.20.4.47\\n        dst       = 10.10.2.2\\n        \\\\options   \\\\\\n###[ Raw ]### \\n           load      = 'message100'\\n###[ Padding ]### \\n              load      = '\\\\x00\\\\x00\\\\x00\\\\x00\\\\x00\\\\x00\\\\x00\\\\x00'\\n\\ngot a packet\\n###[ Ethernet ]### \\n  dst       = ff:ff:ff:ff:ff:ff\\n  src       = 16:55:bb:75:01:1a\\n  type      = 0x1212\\n###[ MyTunnel ]### \\n     pid       = 2048\\n     dst_id    = 2\\n###[ IP ]### \\n        version   = 4\\n        ihl       = 5\\n        tos       = 0x0\\n        len       = 30\\n        id        = 1\\n        flags     = \\n        frag      = 0\\n        ttl       = 64\\n        proto     = hopopt\\n        chksum    = 0x6091\\n        src       = 10.20.4.47\\n        dst       = 10.10.2.2\\n        \\\\options   \\\\\\n###[ Raw ]### \\n           load      = 'message100'\\n###[ Padding ]### \\n              load      = '\\\\x00\\\\x00\\\\x00\\\\x00\\\\x00\\\\x00\\\\x00\\\\x00'\\n\\n\",\n",
       " '')"
      ]
     },
     "execution_count": 147,
     "metadata": {},
     "output_type": "execute_result"
    }
   ],
   "source": [
    "h2.execute('timeout 30 sudo python3 tutorials/exercises/basic_tunnel/receive_modified.py')"
   ]
  },
  {
   "cell_type": "markdown",
   "metadata": {},
   "source": [
    "## Delete Slice"
   ]
  },
  {
   "cell_type": "code",
   "execution_count": 96,
   "metadata": {},
   "outputs": [],
   "source": [
    "try:\n",
    "    slice = fablib.get_slice(name=slice_name)\n",
    "    slice.delete()\n",
    "except Exception as e:\n",
    "    print(f\"Fail: {e}\")\n",
    "    traceback.print_exc()"
   ]
  }
 ],
 "metadata": {
  "kernelspec": {
   "display_name": "Python 3 (ipykernel)",
   "language": "python",
   "name": "python3"
  },
  "language_info": {
   "codemirror_mode": {
    "name": "ipython",
    "version": 3
   },
   "file_extension": ".py",
   "mimetype": "text/x-python",
   "name": "python",
   "nbconvert_exporter": "python",
   "pygments_lexer": "ipython3",
   "version": "3.9.10"
  }
 },
 "nbformat": 4,
 "nbformat_minor": 4
}

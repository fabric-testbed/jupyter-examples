{
 "cells": [
  {
   "cell_type": "markdown",
   "metadata": {},
   "source": [
    "# Setting Node Capacities\n",
    "\n",
    "Capacities of a FABRIC node are basic characteristics of the virtual machine including number of compute core, amount of memory, and amount of local disk.  This notebook will demonstrate the options for setting these node capciites.\n",
    "\n",
    "## Configure the Environment"
   ]
  },
  {
   "cell_type": "code",
   "execution_count": null,
   "metadata": {},
   "outputs": [],
   "source": [
    "import os\n",
    "import json\n",
    "import traceback\n",
    "from getpass import getpass\n",
    "\n",
    "os.environ['FABRIC_CREDMGR_HOST']='cm.fabric-testbed.net'\n",
    "os.environ['FABRIC_ORCHESTRATOR_HOST']='orchestrator.fabric-testbed.net'\n",
    "os.environ['FABRIC_TOKEN_LOCATION']=os.environ['HOME']+'/work/fabric_token.json'\n",
    "\n",
    "os.environ['FABRIC_BASTION_USERNAME']='pruth'\n",
    "os.environ['FABRIC_BASTION_KEY_LOCATION']=os.environ['HOME']+'/work/.ssh/id_rsa_fabric'\n",
    "\n",
    "os.environ['FABRIC_SLICE_PRIVATE_KEY_FILE']=os.environ['HOME']+'/.ssh/id_rsa'\n",
    "os.environ['FABRIC_SLICE_PUBLIC_KEY_FILE']=os.environ['HOME']+'/.ssh/id_rsa.pub'\n",
    "print('Please input private key passphrase. Press enter for no passphrase.')\n",
    "os.environ['FABRIC_SLICE_PRIVATE_KEY_PASSPHRASE']=getpass()\n",
    "\n",
    "os.environ['FABRIC_BASTION_HOST'] = 'bastion-1.fabric-testbed.net'\n",
    "os.environ['FABRIC_BASTION_HOST_PRIVATE_IPV4'] = '192.168.11.226'\n",
    "os.environ['FABRIC_BASTION_HOST_PRIVATE_IPV6'] = '2600:2701:5000:a902::c'\n",
    "\n",
    "from fabrictestbed_extensions.fablib.fablib import fablib"
   ]
  },
  {
   "cell_type": "markdown",
   "metadata": {},
   "source": [
    "## Setup the Experiment\n",
    "\n",
    "#### Import FABRIC API"
   ]
  },
  {
   "cell_type": "code",
   "execution_count": null,
   "metadata": {},
   "outputs": [],
   "source": [
    "from fabrictestbed_extensions.fablib.fablib import fablib"
   ]
  },
  {
   "cell_type": "markdown",
   "metadata": {
    "tags": []
   },
   "source": [
    "## Configure Slice Parameters\n",
    "\n"
   ]
  },
  {
   "cell_type": "code",
   "execution_count": null,
   "metadata": {},
   "outputs": [],
   "source": [
    "slice_name='MySlice'\n",
    "node_name='node1'\n",
    "site='MAX'\n",
    "image='default_centos_8'\n",
    "username='centos'"
   ]
  },
  {
   "cell_type": "markdown",
   "metadata": {},
   "source": [
    "## Setting Capacities\n",
    "\n",
    "We are going to be creating slices that contain one node each.\n",
    "\n",
    "We need to specify the resources (number of cores, amount of ram and amount of disk space) that we want to allocate to our node.\n",
    "\n",
    "We can do that in two ways:\n",
    " - Using Capacities()\n",
    " - Using capacity hints."
   ]
  },
  {
   "cell_type": "markdown",
   "metadata": {},
   "source": [
    "## Example 1: Exact Capacities\n",
    "\n",
    "Let's create our first slice that contains one node. We will use `Capacities()` to specify the resources that we want to allocate.\n",
    "\n",
    "The line `cap.set_fields(core=2, ram=8, disk=10)` specifies that we want to reserve a node with 2 cores, 8GB of RAM and 10GB of disk."
   ]
  },
  {
   "cell_type": "code",
   "execution_count": null,
   "metadata": {},
   "outputs": [],
   "source": [
    "try:\n",
    "    #Create Slice\n",
    "    slice = fablib.new_slice(name=slice_name)\n",
    "\n",
    "    # Add node\n",
    "    node = slice.add_node(name=node_name, site=site)\n",
    "    node.set_capacities(cores=2, ram=8, disk=10)\n",
    "    node.set_image(image, username)\n",
    "\n",
    "    #Submit Slice Request\n",
    "    slice.submit(wait_progress=True)\n",
    "except Exception as e:\n",
    "    print(f\"Slice Fail: {e}\")\n",
    "    traceback.print_exc()"
   ]
  },
  {
   "cell_type": "markdown",
   "metadata": {},
   "source": [
    "Get the slice and topology"
   ]
  },
  {
   "cell_type": "code",
   "execution_count": null,
   "metadata": {},
   "outputs": [],
   "source": [
    "try:\n",
    "    slice = fablib.get_slice(name=slice_name)\n",
    "    for node in slice.get_nodes():\n",
    "        print(\"Node:\")\n",
    "        print(f\"   Name              : {node.get_name()}\")\n",
    "        print(f\"   Cores             : {node.get_cores()}\")\n",
    "        print(f\"   RAM               : {node.get_ram()}\")\n",
    "        print(f\"   Disk              : {node.get_disk()}\")\n",
    "        print(f\"   Image             : {node.get_image()}\")\n",
    "        print(f\"   Image Type        : {node.get_image_type()}\")\n",
    "        print(f\"   Host              : {node.get_host()}\")\n",
    "        print(f\"   Site              : {node.get_site()}\")\n",
    "        print(f\"   Management IP     : {node.get_management_ip()}\")\n",
    "        print(f\"   Reservation ID    : {node.get_reservation_id()}\")\n",
    "        print(f\"   Reservation State : {node.get_reservation_state()}\")\n",
    "        print(f\"   Components        : {node.get_components()}\")\n",
    "        print(f\"   Interfaces        : {node.get_interfaces()}\")\n",
    "        print(f\"   SSH Command       : {node.get_ssh_command()}\")\n",
    "        print()    \n",
    "except Exception as e:\n",
    "    print(f\"Fail: {e}\")\n",
    "    traceback.print_exc()"
   ]
  },
  {
   "cell_type": "code",
   "execution_count": null,
   "metadata": {},
   "outputs": [],
   "source": [
    "try:\n",
    "    slice = fablib.get_slice(name=slice_name)\n",
    "    slice.delete()\n",
    "except Exception as e:\n",
    "    print(f\"Fail: {e}\")\n",
    "    traceback.print_exc() "
   ]
  },
  {
   "cell_type": "markdown",
   "metadata": {},
   "source": [
    "It says that our node has 2 cores, 8GB of RAM and 10GB of disk space, which is what we requested.\n",
    "\n",
    "Now let's delete the slice."
   ]
  },
  {
   "cell_type": "code",
   "execution_count": null,
   "metadata": {},
   "outputs": [],
   "source": [
    "return_status, result = slice_manager.delete(slice_object=slice)\n",
    "print(\"Response Status {}\".format(return_status))"
   ]
  },
  {
   "cell_type": "markdown",
   "metadata": {},
   "source": [
    "## Example 2: Rounded Capacities\n",
    "\n",
    "Now let's try something else. Let's try to request 2 cores, 8GB of RAM, and 50GB of disk space.\n",
    "\n",
    "Again, we are going to use `cap.set_fields(core=2, ram=8, disk=50)`."
   ]
  },
  {
   "cell_type": "code",
   "execution_count": null,
   "metadata": {},
   "outputs": [],
   "source": [
    "try:\n",
    "    #Create Slice\n",
    "    slice = fablib.new_slice(name=slice_name)\n",
    "\n",
    "    # Add node\n",
    "    node = slice.add_node(name=node_name, site=site)\n",
    "    node.set_capacities(cores=2, ram=8, disk=50)\n",
    "    node.set_image(image, username)\n",
    "\n",
    "    #Submit Slice Request\n",
    "    slice.submit(wait_progress=True)\n",
    "except Exception as e:\n",
    "    print(f\"Slice Fail: {e}\")\n",
    "    traceback.print_exc()"
   ]
  },
  {
   "cell_type": "markdown",
   "metadata": {},
   "source": [
    "Get the slice and topology"
   ]
  },
  {
   "cell_type": "code",
   "execution_count": null,
   "metadata": {},
   "outputs": [],
   "source": [
    "try:\n",
    "    slice = fablib.get_slice(name=slice_name)\n",
    "    for node in slice.get_nodes():\n",
    "        print(\"Node:\")\n",
    "        print(f\"   Name              : {node.get_name()}\")\n",
    "        print(f\"   Cores             : {node.get_cores()}\")\n",
    "        print(f\"   RAM               : {node.get_ram()}\")\n",
    "        print(f\"   Disk              : {node.get_disk()}\")\n",
    "        print(f\"   Image             : {node.get_image()}\")\n",
    "        print(f\"   Image Type        : {node.get_image_type()}\")\n",
    "        print(f\"   Host              : {node.get_host()}\")\n",
    "        print(f\"   Site              : {node.get_site()}\")\n",
    "        print(f\"   Management IP     : {node.get_management_ip()}\")\n",
    "        print(f\"   Reservation ID    : {node.get_reservation_id()}\")\n",
    "        print(f\"   Reservation State : {node.get_reservation_state()}\")\n",
    "        print(f\"   Components        : {node.get_components()}\")\n",
    "        print(f\"   Interfaces        : {node.get_interfaces()}\")\n",
    "        print(f\"   SSH Command       : {node.get_ssh_command()}\")\n",
    "        print()    \n",
    "except Exception as e:\n",
    "    print(f\"Fail: {e}\")\n",
    "    traceback.print_exc()"
   ]
  },
  {
   "cell_type": "markdown",
   "metadata": {},
   "source": [
    "We can see that we were allocated 2 cores, 8GB of ram, but 100GB of disk space instead of 50GB.\n",
    "\n",
    "The reason for this is that we have discrete \"capacity hints\". The node can only be an instance of one of those capacity hints.\n",
    "\n",
    "See the very last cell in this notebook for the complete list of available capacity hints.\n",
    "\n",
    "This is an exerpt of the available capacity hints. Full list available [here](https://github.com/fabric-testbed/InformationModel/blob/master/fim/slivers/data/instance_sizes.json).\n",
    "\n",
    "    \"fabric.c16.m64.d10\": {\"core\":16, \"ram\":64, \"disk\": 10},\n",
    "    \"fabric.c32.m128.d10\": {\"core\":32, \"ram\":128, \"disk\": 10},\n",
    "    \"fabric.c1.m4.d100\": {\"core\":1, \"ram\":4, \"disk\": 100},\n",
    "    \"fabric.c2.m8.d100\": {\"core\":2, \"ram\":8, \"disk\": 100},\n",
    "    \"fabric.c4.m16.d100\": {\"core\":4, \"ram\":16, \"disk\": 100},\n",
    "\n",
    "We can see that the disk space can only be 10GB or 100GB. So when we requested 50GB, it was rounded up to 100GB."
   ]
  },
  {
   "cell_type": "markdown",
   "metadata": {},
   "source": [
    "### Now let's delete the slice."
   ]
  },
  {
   "cell_type": "code",
   "execution_count": null,
   "metadata": {},
   "outputs": [],
   "source": [
    "try:\n",
    "    slice = fablib.get_slice(name=slice_name)\n",
    "    slice.delete()\n",
    "except Exception as e:\n",
    "    print(f\"Error: {e}\")"
   ]
  },
  {
   "cell_type": "markdown",
   "metadata": {},
   "source": [
    "## Example 3: Capacity Hints\n",
    "\n",
    "Finally, we can directly set the resources that we need using a \"capacity hint\" string. _Please see the very last cell in this notebook for the complete list of available capacity hints._\n",
    "\n",
    "We can set the needed resources like so:\n",
    "\n",
    "`capacity_hints=CapacityHints().set_fields(instance_type='fabric.c2.m8.d10')`.\n",
    "\n",
    "This would reserve a node with 2 processor cores, 8GB of memory and 10GB of disk space.\n",
    " - The number next to the `c` is the number of cores.\n",
    " - The number next to the `m` is the amount of memory in GB.\n",
    " - The number next to the `d` is the amount of disk space in GB.\n",
    "\n",
    "We can pick any capacity hint string from the list."
   ]
  },
  {
   "cell_type": "code",
   "execution_count": null,
   "metadata": {},
   "outputs": [],
   "source": [
    "try:\n",
    "    #Create Slice\n",
    "    slice = fablib.new_slice(name=slice_name)\n",
    "\n",
    "    # Add node\n",
    "    node = slice.add_node(name=node_name, site=site)\n",
    "    node.set_instance_type('fabric.c2.m8.d10')\n",
    "    node.set_image(image, username)\n",
    "\n",
    "    #Submit Slice Request\n",
    "    slice.submit(wait_progress=True)\n",
    "except Exception as e:\n",
    "    print(f\"Slice Fail: {e}\")\n",
    "    traceback.print_exc()\n",
    "    \n"
   ]
  },
  {
   "cell_type": "markdown",
   "metadata": {},
   "source": [
    "Get the slice and topology"
   ]
  },
  {
   "cell_type": "code",
   "execution_count": null,
   "metadata": {},
   "outputs": [],
   "source": [
    "try:\n",
    "    slice = fablib.get_slice(name=slice_name)\n",
    "    print(f\"Slice: {slice.get_name()}\")\n",
    "except Exception as e:\n",
    "    print(f\"Get Slices Fail: {e}\")\n",
    "    traceback.print_exc()"
   ]
  },
  {
   "cell_type": "markdown",
   "metadata": {},
   "source": [
    "Print the allocated capacities"
   ]
  },
  {
   "cell_type": "code",
   "execution_count": null,
   "metadata": {},
   "outputs": [],
   "source": [
    "try:\n",
    "    slice = fablib.get_slice(name=slice_name)\n",
    "    for node in slice.get_nodes():\n",
    "        print(\"Node:\")\n",
    "        print(f\"   Name              : {node.get_name()}\")\n",
    "        print(f\"   Cores             : {node.get_cores()}\")\n",
    "        print(f\"   RAM               : {node.get_ram()}\")\n",
    "        print(f\"   Disk              : {node.get_disk()}\")\n",
    "        print(f\"   Image             : {node.get_image()}\")\n",
    "        print(f\"   Image Type        : {node.get_image_type()}\")\n",
    "        print(f\"   Host              : {node.get_host()}\")\n",
    "        print(f\"   Site              : {node.get_site()}\")\n",
    "        print(f\"   Management IP     : {node.get_management_ip()}\")\n",
    "        print(f\"   Reservation ID    : {node.get_reservation_id()}\")\n",
    "        print(f\"   Reservation State : {node.get_reservation_state()}\")\n",
    "        print(f\"   Components        : {node.get_components()}\")\n",
    "        print(f\"   Interfaces        : {node.get_interfaces()}\")\n",
    "        print(f\"   SSH Command       : {node.get_ssh_command()}\")\n",
    "        print()    \n",
    "except Exception as e:\n",
    "    print(f\"Fail: {e}\")\n",
    "    traceback.print_exc()"
   ]
  },
  {
   "cell_type": "markdown",
   "metadata": {},
   "source": [
    "We can see that we got the resources that we requested."
   ]
  },
  {
   "cell_type": "markdown",
   "metadata": {},
   "source": [
    "Now let's delete the slice."
   ]
  },
  {
   "cell_type": "code",
   "execution_count": null,
   "metadata": {},
   "outputs": [],
   "source": [
    "try:\n",
    "    slice = fablib.get_slice(name=slice_name)\n",
    "    slice.delete()\n",
    "except Exception as e:\n",
    "    print(f\"Fail: {e}\")\n",
    "    traceback.print_exc()"
   ]
  },
  {
   "cell_type": "markdown",
   "metadata": {},
   "source": [
    "## Capacity hints (and their descriptions) below. \n",
    "\n",
    "Full list available [here](https://github.com/fabric-testbed/InformationModel/blob/master/fim/slivers/data/instance_sizes.json)."
   ]
  },
  {
   "cell_type": "markdown",
   "metadata": {},
   "source": [
    "    {\n",
    "      \"fabric.c1.m4.d10\": {\"core\":1, \"ram\":4, \"disk\": 10},\n",
    "      \"fabric.c2.m8.d10\": {\"core\":2, \"ram\":8, \"disk\": 10},\n",
    "      \"fabric.c4.m16.d10\": {\"core\":4, \"ram\":16, \"disk\": 10},\n",
    "      \"fabric.c8.m32.d10\": {\"core\":8, \"ram\":32, \"disk\": 10},\n",
    "      \"fabric.c16.m64.d10\": {\"core\":16, \"ram\":64, \"disk\": 10},\n",
    "      \"fabric.c32.m128.d10\": {\"core\":32, \"ram\":128, \"disk\": 10},\n",
    "      \"fabric.c1.m4.d100\": {\"core\":1, \"ram\":4, \"disk\": 100},\n",
    "      \"fabric.c2.m8.d100\": {\"core\":2, \"ram\":8, \"disk\": 100},\n",
    "      \"fabric.c4.m16.d100\": {\"core\":4, \"ram\":16, \"disk\": 100},\n",
    "      \"fabric.c8.m32.d100\": {\"core\":8, \"ram\":32, \"disk\": 100},\n",
    "      \"fabric.c16.m64.d100\": {\"core\":16, \"ram\":64, \"disk\": 100},\n",
    "      \"fabric.c32.m128.d100\": {\"core\":32, \"ram\":128, \"disk\": 100},\n",
    "      \"fabric.c1.m4.d500\": {\"core\":1, \"ram\":4, \"disk\": 500},\n",
    "      \"fabric.c2.m8.d500\": {\"core\":2, \"ram\":8, \"disk\": 500},\n",
    "      \"fabric.c4.m16.d500\": {\"core\":4, \"ram\":16, \"disk\": 500},\n",
    "      \"fabric.c8.m32.d500\": {\"core\":8, \"ram\":32, \"disk\": 500},\n",
    "      \"fabric.c16.m64.d500\": {\"core\":16, \"ram\":64, \"disk\": 500},\n",
    "      \"fabric.c32.m128.d500\": {\"core\":32, \"ram\":128, \"disk\": 500},\n",
    "      \"fabric.c1.m4.d2000\": {\"core\":1, \"ram\":4, \"disk\": 2000},\n",
    "      \"fabric.c2.m8.d2000\": {\"core\":2, \"ram\":8, \"disk\": 2000},\n",
    "      \"fabric.c4.m16.d2000\": {\"core\":4, \"ram\":16, \"disk\": 2000},\n",
    "      \"fabric.c8.m32.d2000\": {\"core\":8, \"ram\":32, \"disk\": 2000},\n",
    "      \"fabric.c16.m64.d2000\": {\"core\":16, \"ram\":64, \"disk\": 2000},\n",
    "      \"fabric.c32.m128.d2000\": {\"core\":32, \"ram\":128, \"disk\": 2000},\n",
    "      \"fabric.c64.m384.d4000\": {\"core\":64, \"ram\":384, \"disk\": 4000}\n",
    "    }"
   ]
  },
  {
   "cell_type": "code",
   "execution_count": null,
   "metadata": {},
   "outputs": [],
   "source": []
  }
 ],
 "metadata": {
  "kernelspec": {
   "display_name": "Python 3 (ipykernel)",
   "language": "python",
   "name": "python3"
  },
  "language_info": {
   "codemirror_mode": {
    "name": "ipython",
    "version": 3
   },
   "file_extension": ".py",
   "mimetype": "text/x-python",
   "name": "python",
   "nbconvert_exporter": "python",
   "pygments_lexer": "ipython3",
   "version": "3.9.9"
  }
 },
 "nbformat": 4,
 "nbformat_minor": 4
}

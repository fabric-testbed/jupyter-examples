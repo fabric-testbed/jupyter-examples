{
 "cells": [
  {
   "cell_type": "markdown",
   "metadata": {},
   "source": [
    "### This notebook shows how to "
   ]
  },
  {
   "cell_type": "code",
   "execution_count": 295,
   "metadata": {},
   "outputs": [],
   "source": [
    "import os\n",
    "from fabrictestbed.slice_manager import SliceManager, Status\n",
    "import json"
   ]
  },
  {
   "cell_type": "code",
   "execution_count": 296,
   "metadata": {},
   "outputs": [
    {
     "name": "stdout",
     "output_type": "stream",
     "text": [
      "CM Host: cm.fabric-testbed.net Orchestrator Host: orchestrator.fabric-testbed.net\n"
     ]
    }
   ],
   "source": [
    "credmgr_host = os.environ['FABRIC_CREDMGR_HOST']\n",
    "orchestrator_host = os.environ['FABRIC_ORCHESTRATOR_HOST']\n",
    "print(f\"CM Host: {credmgr_host} Orchestrator Host: {orchestrator_host}\")"
   ]
  },
  {
   "cell_type": "markdown",
   "metadata": {},
   "source": [
    "## Create Slice Manager Object\n",
    "Users can request tokens with different Project and Scopes by altering `project_name` and `scope` parameters in the refresh call below."
   ]
  },
  {
   "cell_type": "code",
   "execution_count": 297,
   "metadata": {},
   "outputs": [],
   "source": [
    "slice_manager = SliceManager(oc_host=orchestrator_host, cm_host=credmgr_host, project_name='all', scope='all')\n",
    "\n",
    "# Initialize the slice manager\n",
    "slice_manager.initialize()"
   ]
  },
  {
   "cell_type": "markdown",
   "metadata": {},
   "source": [
    "### Orchestrator API example to query for available resources"
   ]
  },
  {
   "cell_type": "code",
   "execution_count": 336,
   "metadata": {},
   "outputs": [
    {
     "name": "stdout",
     "output_type": "stream",
     "text": [
      "Status: Status.OK\n",
      "Toplogy: NCSA: { cpu: 6/6 , core: 160/192 , ram: 1,416/1,536 G, disk: 60,188/60,600 G, unit: 3/3 }\n",
      "\tComponents:\n",
      "\t\tGPU-RTX6000:  GPU RTX6000 { unit: 3/3 }\n",
      "\t\tSmartNIC-ConnectX-5:  SmartNIC ConnectX-5 { unit: 1/2 }\n",
      "\t\tSmartNIC-ConnectX-6:  SmartNIC ConnectX-6 { unit: 1/2 }\n",
      "\t\tSharedNIC-ConnectX-6:  SharedNIC ConnectX-6 { unit: 376/381 }\n",
      "\t\tNVME-P4510:  NVME P4510 { disk: 8,640/9,600 G, unit: 9/10 }\n",
      "\t\tGPU-Tesla T4:  GPU Tesla T4 { unit: 2/2 }\n",
      "\tSite Interfaces:\n",
      "\t\tNCSA_STAR: TrunkPort { bw: 100/100 Gbps}\n",
      "TACC: { cpu: 10/10 , core: 266/320 , ram: 2,248/2,560 G, disk: 114,620/116,400 G, unit: 5/5 }\n",
      "\tComponents:\n",
      "\t\tGPU-RTX6000:  GPU RTX6000 { unit: 6/6 }\n",
      "\t\tGPU-Tesla T4:  GPU Tesla T4 { unit: 4/4 }\n",
      "\t\tNVME-P4510:  NVME P4510 { disk: 15,360/15,360 G, unit: 16/16 }\n",
      "\t\tSharedNIC-ConnectX-6:  SharedNIC ConnectX-6 { unit: 614/635 }\n",
      "\t\tSmartNIC-ConnectX-6:  SmartNIC ConnectX-6 { unit: 2/2 }\n",
      "\t\tSmartNIC-ConnectX-5:  SmartNIC ConnectX-5 { unit: 3/4 }\n",
      "\tSite Interfaces:\n",
      "\t\tTACC_UTAH: TrunkPort { bw: 100/100 Gbps}\n",
      "\t\tTACC_MAX: TrunkPort { bw: 100/100 Gbps}\n",
      "UTAH: { cpu: 10/10 , core: 316/320 , ram: 2,535/2,560 G, disk: 116,398/116,400 G, unit: 5/5 }\n",
      "\tComponents:\n",
      "\t\tNVME-P4510:  NVME P4510 { disk: 15,360/15,360 G, unit: 16/16 }\n",
      "\t\tSharedNIC-ConnectX-6:  SharedNIC ConnectX-6 { unit: 635/635 }\n",
      "\t\tSmartNIC-ConnectX-6:  SmartNIC ConnectX-6 { unit: 2/2 }\n",
      "\t\tSmartNIC-ConnectX-5:  SmartNIC ConnectX-5 { unit: 4/4 }\n",
      "\t\tGPU-RTX6000:  GPU RTX6000 { unit: 5/5 }\n",
      "\t\tGPU-Tesla T4:  GPU Tesla T4 { unit: 4/4 }\n",
      "\tSite Interfaces:\n",
      "\t\tUTAH_STAR: TrunkPort { bw: 100/100 Gbps}\n",
      "\t\tUTAH_TACC: TrunkPort { bw: 100/100 Gbps}\n",
      "MAX: { cpu: 10/10 , core: 202/320 , ram: 1,932/2,560 G, disk: 113,332/116,400 G, unit: 5/5 }\n",
      "\tComponents:\n",
      "\t\tGPU-Tesla T4:  GPU Tesla T4 { unit: 4/4 }\n",
      "\t\tGPU-RTX6000:  GPU RTX6000 { unit: 6/6 }\n",
      "\t\tSmartNIC-ConnectX-5:  SmartNIC ConnectX-5 { unit: 0/4 }\n",
      "\t\tSmartNIC-ConnectX-6:  SmartNIC ConnectX-6 { unit: 1/2 }\n",
      "\t\tNVME-P4510:  NVME P4510 { disk: 12,480/15,360 G, unit: 13/16 }\n",
      "\t\tSharedNIC-ConnectX-6:  SharedNIC ConnectX-6 { unit: 597/635 }\n",
      "\tSite Interfaces:\n",
      "\t\tMAX_TACC: TrunkPort { bw: 100/100 Gbps}\n",
      "\t\tMAX_STAR: TrunkPort { bw: 100/100 Gbps}\n",
      "SALT\n",
      "\tComponents:\n",
      "\tSite Interfaces:\n",
      "STAR: { cpu: 12/12 , core: 354/384 , ram: 3,020/3,072 G, disk: 120,942/121,200 G, unit: 6/6 }\n",
      "\tComponents:\n",
      "\t\tNVME-P4510:  NVME P4510 { disk: 20,000/20,000 G, unit: 20/20 }\n",
      "\t\tGPU-Tesla T4:  GPU Tesla T4 { unit: 6/6 }\n",
      "\t\tGPU-RTX6000:  GPU RTX6000 { unit: 6/6 }\n",
      "\t\tSmartNIC-ConnectX-5:  SmartNIC ConnectX-5 { unit: 6/6 }\n",
      "\t\tSmartNIC-ConnectX-6:  SmartNIC ConnectX-6 { unit: 2/2 }\n",
      "\t\tSharedNIC-ConnectX-6:  SharedNIC ConnectX-6 { unit: 761/762 }\n",
      "\tSite Interfaces:\n",
      "\t\tSTAR_NCSA: TrunkPort { bw: 100/100 Gbps}\n",
      "\t\tSTAR_UTAH: TrunkPort { bw: 100/100 Gbps}\n",
      "\t\tSTAR_MAX: TrunkPort { bw: 100/100 Gbps}\n",
      "WASH\n",
      "\tComponents:\n",
      "\tSite Interfaces:\n",
      "DALL\n",
      "\tComponents:\n",
      "\tSite Interfaces:\n",
      "MICH\n",
      "\tComponents:\n",
      "\tSite Interfaces:\n",
      "Links:\n",
      "\tport+max-data-sw:HundredGigE0/0/0/22.2051 to port+tacc-data-sw:HundredGigE0/0/0/23.3160[L2Path]: ['TACC_MAX', 'MAX_TACC']\n",
      "\tport+tacc-data-sw:HundredGigE0/0/0/23.3161 to port+utah-data-sw:HundredGigE0/0/0/22.2091[L2Path]: ['TACC_UTAH', 'UTAH_TACC']\n",
      "\tport+star-data-sw:HundredGigE0/0/0/30.3722 to port+utah-data-sw:HundredGigE0/0/0/22.2090[L2Path]: ['UTAH_STAR', 'STAR_UTAH']\n",
      "\tport+max-data-sw:HundredGigE0/0/0/22.2052 to port+star-data-sw:HundredGigE0/0/0/30.3721[L2Path]: ['STAR_MAX', 'MAX_STAR']\n",
      "\tport+ncsa-data-sw:HundredGigE0/0/0/23.3710 to port+star-data-sw:HundredGigE0/0/0/30.3710[L2Path]: ['STAR_NCSA', 'NCSA_STAR']\n"
     ]
    }
   ],
   "source": [
    "status, advertised_topology = slice_manager.resources()\n",
    "\n",
    "print(f\"Status: {status}\")\n",
    "if status == Status.OK:\n",
    "    print(f\"Toplogy: {advertised_topology}\")\n",
    "else:\n",
    "    print(f\"Error: {advertised_topology}\")"
   ]
  },
  {
   "cell_type": "code",
   "execution_count": 299,
   "metadata": {},
   "outputs": [
    {
     "data": {
      "image/png": "[encoded data removed]",
      "text/plain": [
       "<Figure size 432x288 with 1 Axes>"
      ]
     },
     "metadata": {},
     "output_type": "display_data"
    }
   ],
   "source": [
    "if status == Status.OK:\n",
    "    advertised_topology.draw()"
   ]
  },
  {
   "cell_type": "markdown",
   "metadata": {},
   "source": [
    "## Create Slice"
   ]
  },
  {
   "cell_type": "markdown",
   "metadata": {},
   "source": [
    "We will request two nodes. We will attach a smart NIC to one of them, and a shared NIC to the other. Configurations for the NICs are going to be different.\n",
    "\n",
    "The setup is shown below:"
   ]
  },
  {
   "cell_type": "code",
   "execution_count": 337,
   "metadata": {},
   "outputs": [
    {
     "name": "stdout",
     "output_type": "stream",
     "text": [
      "Response Status Status.OK\n",
      "Reservations created [{\n",
      "    \"graph_node_id\": \"85c268d3-493c-4245-b383-8bd5d6640e5f\",\n",
      "    \"lease_end\": \"2021-12-09 08:48:46\",\n",
      "    \"pending_state\": \"None_\",\n",
      "    \"reservation_id\": \"b34be905-07e0-4379-88e8-34a4e3842880\",\n",
      "    \"reservation_state\": \"Unknown\",\n",
      "    \"slice_id\": \"4811d9b2-23e0-4565-b7b7-bdec768460bf\"\n",
      "}, {\n",
      "    \"graph_node_id\": \"e1a75bfd-86c8-4551-a570-b8499c0aaeba\",\n",
      "    \"lease_end\": \"2021-12-09 08:48:46\",\n",
      "    \"pending_state\": \"None_\",\n",
      "    \"reservation_id\": \"37061b4d-e85f-4bfe-b5b7-249cd54b5a7a\",\n",
      "    \"reservation_state\": \"Unknown\",\n",
      "    \"slice_id\": \"4811d9b2-23e0-4565-b7b7-bdec768460bf\"\n",
      "}, {\n",
      "    \"graph_node_id\": \"85c6cf3a-60dd-4479-8d26-9fb59db15668\",\n",
      "    \"lease_end\": \"2021-12-09 08:48:46\",\n",
      "    \"pending_state\": \"None_\",\n",
      "    \"reservation_id\": \"5d84aa04-296d-4cc1-b2fb-f56703a9be2a\",\n",
      "    \"reservation_state\": \"Unknown\",\n",
      "    \"slice_id\": \"4811d9b2-23e0-4565-b7b7-bdec768460bf\"\n",
      "}, {\n",
      "    \"graph_node_id\": \"f654cc47-8c8b-4db5-b20b-2b287ac0c06c\",\n",
      "    \"lease_end\": \"2021-12-09 08:48:46\",\n",
      "    \"pending_state\": \"None_\",\n",
      "    \"reservation_id\": \"c672ae3f-a5cf-48ba-95f1-77c9f8ae5f44\",\n",
      "    \"reservation_state\": \"Unknown\",\n",
      "    \"slice_id\": \"4811d9b2-23e0-4565-b7b7-bdec768460bf\"\n",
      "}, {\n",
      "    \"graph_node_id\": \"a4ed489c-27d2-4235-b153-f14ad13e7668\",\n",
      "    \"lease_end\": \"2021-12-09 08:48:46\",\n",
      "    \"pending_state\": \"None_\",\n",
      "    \"reservation_id\": \"d7fe902d-f787-41a5-9b64-65664a994bb8\",\n",
      "    \"reservation_state\": \"Unknown\",\n",
      "    \"slice_id\": \"4811d9b2-23e0-4565-b7b7-bdec768460bf\"\n",
      "}]\n"
     ]
    }
   ],
   "source": [
    "from fabrictestbed.slice_editor import ExperimentTopology, Capacities, ComponentType, ComponentModelType, ServiceType\n",
    "# Create topology\n",
    "t = ExperimentTopology()\n",
    "\n",
    "# Add node\n",
    "n1 = t.add_node(name='n1', site='MAX')\n",
    "\n",
    "# Set capacities\n",
    "cap = Capacities()\n",
    "cap.set_fields(core=2, ram=6, disk=10)\n",
    "\n",
    "# Set Properties\n",
    "n1.set_properties(capacities=cap, image_type='qcow2', image_ref='default_ubuntu_20')\n",
    "\n",
    "# Add PCI devices\n",
    "n1.add_component(ctype=ComponentType.NVME, model='P4510', name='c1')\n",
    "\n",
    "# Add node\n",
    "n2 = t.add_node(name='n2', site='STAR')\n",
    "\n",
    "# Set properties\n",
    "n2.set_properties(capacities=cap, image_type='qcow2', image_ref='default_ubuntu_20')\n",
    "\n",
    "# Add node\n",
    "n3 = t.add_node(name='n3', site='UTAH')\n",
    "\n",
    "# Set properties\n",
    "n3.set_properties(capacities=cap, image_type='qcow2', image_ref='default_ubuntu_20')\n",
    "\n",
    "\n",
    "n1.add_component(model_type=ComponentModelType.SmartNIC_ConnectX_6, name='n1-nic1')\n",
    "n2.add_component(model_type=ComponentModelType.SmartNIC_ConnectX_6, name='n2-nic1')\n",
    "n3.add_component(model_type=ComponentModelType.SmartNIC_ConnectX_5, name='n3-nic1')\n",
    "\n",
    "\n",
    "if_labels = n1.interface_list[0].get_property(pname=\"labels\")\n",
    "if_labels.vlan = \"200\"\n",
    "n1.interface_list[0].set_properties(labels=if_labels)\n",
    "if_labels = n2.interface_list[0].get_property(pname=\"labels\")\n",
    "if_labels.vlan = \"200\"\n",
    "n2.interface_list[0].set_properties(labels=if_labels)\n",
    "\n",
    "# L2PTP Service\n",
    "t.add_network_service(name='ptp1', nstype=ServiceType.L2PTP,\n",
    "                      interfaces=[n1.interface_list[0], n2.interface_list[0]])\n",
    "\n",
    "\n",
    "if_labels = n1.interface_list[1].get_property(pname=\"labels\")\n",
    "if_labels.vlan = \"200\"\n",
    "n2.interface_list[1].set_properties(labels=if_labels)\n",
    "if_labels = n2.interface_list[0].get_property(pname=\"labels\")\n",
    "if_labels.vlan = \"200\"\n",
    "n3.interface_list[0].set_properties(labels=if_labels)\n",
    "\n",
    "# L2PTP Service\n",
    "t.add_network_service(name='ptp2', nstype=ServiceType.L2PTP,\n",
    "                      interfaces=[n2.interface_list[1], n3.interface_list[0]])\n",
    "\n",
    "# Generate Slice Graph\n",
    "slice_graph = t.serialize()\n",
    "\n",
    "# print(interfaces_tuple)\n",
    "\n",
    "ssh_key = None\n",
    "with open (\"/home/fabric/.ssh/id_rsa.pub\", \"r\") as myfile:\n",
    "    ssh_key=myfile.read()\n",
    "    ssh_key=ssh_key.strip()\n",
    "\n",
    "# Request slice from Orchestrator\n",
    "status, reservations = slice_manager.create(slice_name='Slice-l2bridge-ded-multiple-tags', slice_graph=slice_graph, ssh_key=ssh_key)\n",
    "\n",
    "print(\"Response Status {}\".format(status))\n",
    "if status == Status.OK:\n",
    "    print(\"Reservations created {}\".format(reservations))\n",
    "else:\n",
    "    print(f\"Failure: {reservations}\")"
   ]
  },
  {
   "cell_type": "code",
   "execution_count": 338,
   "metadata": {},
   "outputs": [],
   "source": [
    "# Set the Slice ID from output of the above command\n",
    "slice_id=reservations[0].slice_id"
   ]
  },
  {
   "cell_type": "markdown",
   "metadata": {},
   "source": [
    "## Query Slices"
   ]
  },
  {
   "cell_type": "code",
   "execution_count": 344,
   "metadata": {},
   "outputs": [
    {
     "name": "stdout",
     "output_type": "stream",
     "text": [
      "Response Status Status.OK\n",
      "Slices [{\n",
      "    \"graph_id\": \"f1d68ad0-48ae-4f09-a051-369caed22446\",\n",
      "    \"lease_end\": \"2021-11-21 01:22:55\",\n",
      "    \"slice_id\": \"8ef39ae0-9ccd-40e8-992a-2497b01f5341\",\n",
      "    \"slice_name\": \"Slice-Kubernetes-Hello-World\",\n",
      "    \"slice_state\": \"Dead\"\n",
      "}, {\n",
      "    \"graph_id\": \"44625d85-ad4a-4c80-bb27-c3f810735c06\",\n",
      "    \"lease_end\": \"2021-11-17 07:00:32\",\n",
      "    \"slice_id\": \"7bb8c733-e0f8-4a0b-abaf-4b433ab66167\",\n",
      "    \"slice_name\": \"Slice-Kubernetes-Hello-World\",\n",
      "    \"slice_state\": \"Dead\"\n",
      "}, {\n",
      "    \"graph_id\": \"a161a769-0f89-43b0-bfe2-396c256baa25\",\n",
      "    \"lease_end\": \"2021-11-22 19:23:09\",\n",
      "    \"slice_id\": \"b4f605c8-6974-482d-a7fb-c0c6c3109108\",\n",
      "    \"slice_name\": \"Slice-Kubernetes-Hello-World\",\n",
      "    \"slice_state\": \"Dead\"\n",
      "}, {\n",
      "    \"graph_id\": \"df6b2c6f-e371-442b-a1f5-d18df4534e1d\",\n",
      "    \"lease_end\": \"2021-12-01 05:03:24\",\n",
      "    \"slice_id\": \"274f8cf0-976a-4d12-bf1d-44af0add4173\",\n",
      "    \"slice_name\": \"Slice-l2bridge-ded-multiple-tags\",\n",
      "    \"slice_state\": \"Closing\"\n",
      "}, {\n",
      "    \"graph_id\": \"90fa6b2a-6236-4a4b-a0b3-60bed34c97a2\",\n",
      "    \"lease_end\": \"2021-12-01 05:05:47\",\n",
      "    \"slice_id\": \"865a429f-f173-4488-a049-0125a956d970\",\n",
      "    \"slice_name\": \"Slice-l2bridge-ded-multiple-tags\",\n",
      "    \"slice_state\": \"Dead\"\n",
      "}, {\n",
      "    \"graph_id\": \"ce07afa8-aa8a-4a18-9564-82cf4c0f181b\",\n",
      "    \"lease_end\": \"2021-12-07 02:26:02\",\n",
      "    \"slice_id\": \"efb6a51f-d970-4eb1-8bb1-b9a4a66007a4\",\n",
      "    \"slice_name\": \"Slice-l2bridge-ded-multiple-tags\",\n",
      "    \"slice_state\": \"Dead\"\n",
      "}, {\n",
      "    \"graph_id\": \"43d17924-d371-4cee-8547-66e0d9ca4097\",\n",
      "    \"lease_end\": \"2021-12-08 05:47:52\",\n",
      "    \"slice_id\": \"2bc924c7-d7bc-49c5-b9ea-efa93fedbc83\",\n",
      "    \"slice_name\": \"Slice-l2bridge-ded-multiple-tags\",\n",
      "    \"slice_state\": \"Dead\"\n",
      "}, {\n",
      "    \"graph_id\": \"e5ce895b-437f-4595-9594-6cd85aeafc40\",\n",
      "    \"lease_end\": \"2021-12-09 08:07:00\",\n",
      "    \"slice_id\": \"6092e03f-2cc5-4ae3-9039-f405db91c087\",\n",
      "    \"slice_name\": \"Slice-l2bridge-ded-multiple-tags\",\n",
      "    \"slice_state\": \"Dead\"\n",
      "}, {\n",
      "    \"graph_id\": \"9757b2b5-907c-48da-914e-4cd4ed63c9c2\",\n",
      "    \"lease_end\": \"2021-12-09 07:02:57\",\n",
      "    \"slice_id\": \"126f426c-4e8d-4b98-b39d-470f58043c01\",\n",
      "    \"slice_name\": \"Slice-l2bridge-ded-multiple-tags\",\n",
      "    \"slice_state\": \"Dead\"\n",
      "}, {\n",
      "    \"graph_id\": \"3e462741-2dea-4642-b968-5cb97bd4cb10\",\n",
      "    \"lease_end\": \"2021-12-09 08:41:36\",\n",
      "    \"slice_id\": \"06332a1a-e59c-492b-9b2d-34a76444029c\",\n",
      "    \"slice_name\": \"Slice-l2bridge-ded-multiple-tags\",\n",
      "    \"slice_state\": \"Closing\"\n",
      "}, {\n",
      "    \"graph_id\": \"fcdbd6ca-b5c9-4720-800b-4dec1295eb28\",\n",
      "    \"lease_end\": \"2021-12-09 08:50:32\",\n",
      "    \"slice_id\": \"ec26e428-fe5a-4810-a00e-80333d128ba9\",\n",
      "    \"slice_name\": \"Slice1\",\n",
      "    \"slice_state\": \"Closing\"\n",
      "}, {\n",
      "    \"graph_id\": \"98d3b4b8-5177-4f2a-ae27-c9bcab647e61\",\n",
      "    \"lease_end\": \"2021-12-09 08:48:46\",\n",
      "    \"slice_id\": \"4811d9b2-23e0-4565-b7b7-bdec768460bf\",\n",
      "    \"slice_name\": \"Slice-l2bridge-ded-multiple-tags\",\n",
      "    \"slice_state\": \"StableOK\"\n",
      "}, {\n",
      "    \"graph_id\": \"530a4f5d-1ddc-4788-b026-d13cfdc78f5c\",\n",
      "    \"lease_end\": \"2021-12-09 08:52:41\",\n",
      "    \"slice_id\": \"57a80ab6-8e51-4bab-8c55-c2e756f00c37\",\n",
      "    \"slice_name\": \"Slice1\",\n",
      "    \"slice_state\": \"Closing\"\n",
      "}]\n"
     ]
    }
   ],
   "source": [
    "status, slices = slice_manager.slices() #(state=\"All\")\n",
    "\n",
    "print(\"Response Status {}\".format(status))\n",
    "if status == Status.OK:\n",
    "    print(\"Slices {}\".format(slices))\n",
    "else:\n",
    "    print(f\"Failure: {slices}\")"
   ]
  },
  {
   "cell_type": "markdown",
   "metadata": {},
   "source": [
    "## Query Slivers"
   ]
  },
  {
   "cell_type": "code",
   "execution_count": 343,
   "metadata": {},
   "outputs": [
    {
     "name": "stdout",
     "output_type": "stream",
     "text": [
      "Response Status Status.OK\n",
      "Slivers [{\n",
      "    \"graph_node_id\": \"a4ed489c-27d2-4235-b153-f14ad13e7668\",\n",
      "    \"join_state\": \"NoJoin\",\n",
      "    \"lease_end\": \"2021-12-09 08:48:46\",\n",
      "    \"name\": \"ptp2\",\n",
      "    \"notices\": \"Reservation d7fe902d-f787-41a5-9b64-65664a994bb8 (Slice Slice-l2bridge-ded-multiple-tags(4811d9b2-23e0-4565-b7b7-bdec768460bf) Graph Id:98d3b4b8-5177-4f2a-ae27-c9bcab647e61 Owner:name: orchestrator guid: orchestrator-guid email: minawm@bu.edu State:StableOK ) is in state [Active,None_]\\n\\nLast ticket update: \\nTicket events: \\nLast ticket update: \\nTicket events: \",\n",
      "    \"pending_state\": \"None_\",\n",
      "    \"reservation_id\": \"d7fe902d-f787-41a5-9b64-65664a994bb8\",\n",
      "    \"reservation_state\": \"Active\",\n",
      "    \"resource_type\": \"L2PTP\",\n",
      "    \"slice_id\": \"4811d9b2-23e0-4565-b7b7-bdec768460bf\"\n",
      "}, {\n",
      "    \"allocated_capacities\": \"{\\\"core\\\": 2, \\\"disk\\\": 10, \\\"ram\\\": 8}\",\n",
      "    \"allocated_labels\": \"{\\\"instance\\\": \\\"instance-0000086b\\\", \\\"instance_parent\\\": \\\"utah-w4.fabric-testbed.net\\\"}\",\n",
      "    \"capacities\": \"{\\\"core\\\": 2, \\\"disk\\\": 10, \\\"ram\\\": 6}\",\n",
      "    \"capacity_hints\": \"{\\\"instance_type\\\": \\\"fabric.c2.m8.d10\\\"}\",\n",
      "    \"graph_node_id\": \"85c6cf3a-60dd-4479-8d26-9fb59db15668\",\n",
      "    \"join_state\": \"NoJoin\",\n",
      "    \"lease_end\": \"2021-12-09 08:48:46\",\n",
      "    \"management_ip\": \"2001:1948:417:7:f816:3eff:fed1:fc7b\",\n",
      "    \"name\": \"n3\",\n",
      "    \"notices\": \"Reservation 5d84aa04-296d-4cc1-b2fb-f56703a9be2a (Slice Slice-l2bridge-ded-multiple-tags(4811d9b2-23e0-4565-b7b7-bdec768460bf) Graph Id:98d3b4b8-5177-4f2a-ae27-c9bcab647e61 Owner:name: orchestrator guid: orchestrator-guid email: minawm@bu.edu State:StableOK ) is in state [Active,None_]\\n\\nLast ticket update: \\nTicket events: \\nLast ticket update: \\nTicket events: \",\n",
      "    \"pending_state\": \"None_\",\n",
      "    \"reservation_id\": \"5d84aa04-296d-4cc1-b2fb-f56703a9be2a\",\n",
      "    \"reservation_state\": \"Active\",\n",
      "    \"resource_type\": \"VM\",\n",
      "    \"site\": \"UTAH\",\n",
      "    \"slice_id\": \"4811d9b2-23e0-4565-b7b7-bdec768460bf\"\n",
      "}, {\n",
      "    \"allocated_capacities\": \"{\\\"core\\\": 2, \\\"disk\\\": 10, \\\"ram\\\": 8}\",\n",
      "    \"allocated_labels\": \"{\\\"instance\\\": \\\"instance-0000080c\\\", \\\"instance_parent\\\": \\\"max-w3.fabric-testbed.net\\\"}\",\n",
      "    \"capacities\": \"{\\\"core\\\": 2, \\\"disk\\\": 10, \\\"ram\\\": 6}\",\n",
      "    \"capacity_hints\": \"{\\\"instance_type\\\": \\\"fabric.c2.m8.d10\\\"}\",\n",
      "    \"graph_node_id\": \"85c268d3-493c-4245-b383-8bd5d6640e5f\",\n",
      "    \"join_state\": \"NoJoin\",\n",
      "    \"lease_end\": \"2021-12-09 08:48:46\",\n",
      "    \"management_ip\": \"63.239.135.73\",\n",
      "    \"name\": \"n1\",\n",
      "    \"notices\": \"Reservation b34be905-07e0-4379-88e8-34a4e3842880 (Slice Slice-l2bridge-ded-multiple-tags(4811d9b2-23e0-4565-b7b7-bdec768460bf) Graph Id:98d3b4b8-5177-4f2a-ae27-c9bcab647e61 Owner:name: orchestrator guid: orchestrator-guid email: minawm@bu.edu State:StableOK ) is in state [Active,None_]\\n\\nLast ticket update: \\nTicket events: \\nLast ticket update: \\nTicket events: \",\n",
      "    \"pending_state\": \"None_\",\n",
      "    \"reservation_id\": \"b34be905-07e0-4379-88e8-34a4e3842880\",\n",
      "    \"reservation_state\": \"Active\",\n",
      "    \"resource_type\": \"VM\",\n",
      "    \"site\": \"MAX\",\n",
      "    \"slice_id\": \"4811d9b2-23e0-4565-b7b7-bdec768460bf\"\n",
      "}, {\n",
      "    \"allocated_capacities\": \"{\\\"core\\\": 2, \\\"disk\\\": 10, \\\"ram\\\": 8}\",\n",
      "    \"allocated_labels\": \"{\\\"instance\\\": \\\"instance-000006a9\\\", \\\"instance_parent\\\": \\\"star-w3.fabric-testbed.net\\\"}\",\n",
      "    \"capacities\": \"{\\\"core\\\": 2, \\\"disk\\\": 10, \\\"ram\\\": 6}\",\n",
      "    \"capacity_hints\": \"{\\\"instance_type\\\": \\\"fabric.c2.m8.d10\\\"}\",\n",
      "    \"graph_node_id\": \"e1a75bfd-86c8-4551-a570-b8499c0aaeba\",\n",
      "    \"join_state\": \"NoJoin\",\n",
      "    \"lease_end\": \"2021-12-09 08:48:46\",\n",
      "    \"management_ip\": \"2001:400:a100:3030:f816:3eff:fe99:f94b\",\n",
      "    \"name\": \"n2\",\n",
      "    \"notices\": \"Reservation 37061b4d-e85f-4bfe-b5b7-249cd54b5a7a (Slice Slice-l2bridge-ded-multiple-tags(4811d9b2-23e0-4565-b7b7-bdec768460bf) Graph Id:98d3b4b8-5177-4f2a-ae27-c9bcab647e61 Owner:name: orchestrator guid: orchestrator-guid email: minawm@bu.edu State:StableOK ) is in state [Active,None_]\\n\\nLast ticket update: \\nTicket events: \\nLast ticket update: \\nTicket events: \",\n",
      "    \"pending_state\": \"None_\",\n",
      "    \"reservation_id\": \"37061b4d-e85f-4bfe-b5b7-249cd54b5a7a\",\n",
      "    \"reservation_state\": \"Active\",\n",
      "    \"resource_type\": \"VM\",\n",
      "    \"site\": \"STAR\",\n",
      "    \"slice_id\": \"4811d9b2-23e0-4565-b7b7-bdec768460bf\"\n",
      "}, {\n",
      "    \"graph_node_id\": \"f654cc47-8c8b-4db5-b20b-2b287ac0c06c\",\n",
      "    \"join_state\": \"NoJoin\",\n",
      "    \"lease_end\": \"2021-12-09 08:48:46\",\n",
      "    \"name\": \"ptp1\",\n",
      "    \"notices\": \"Reservation c672ae3f-a5cf-48ba-95f1-77c9f8ae5f44 (Slice Slice-l2bridge-ded-multiple-tags(4811d9b2-23e0-4565-b7b7-bdec768460bf) Graph Id:98d3b4b8-5177-4f2a-ae27-c9bcab647e61 Owner:name: orchestrator guid: orchestrator-guid email: minawm@bu.edu State:StableOK ) is in state [Active,None_]\\n\\nLast ticket update: \\nTicket events: \\nLast ticket update: \\nTicket events: \",\n",
      "    \"pending_state\": \"None_\",\n",
      "    \"reservation_id\": \"c672ae3f-a5cf-48ba-95f1-77c9f8ae5f44\",\n",
      "    \"reservation_state\": \"Active\",\n",
      "    \"resource_type\": \"L2PTP\",\n",
      "    \"slice_id\": \"4811d9b2-23e0-4565-b7b7-bdec768460bf\"\n",
      "}]\n"
     ]
    }
   ],
   "source": [
    "slice_object = list(filter(lambda x: x.slice_id == slice_id, slices))[0]\n",
    "status, slivers = slice_manager.slivers(slice_object=slice_object)\n",
    "\n",
    "print(\"Response Status {}\".format(status))\n",
    "if status == Status.OK:\n",
    "    print(\"Slivers {}\".format(slivers))\n",
    "else:\n",
    "    print(f\"Failure: {slivers}\")"
   ]
  },
  {
   "cell_type": "markdown",
   "metadata": {},
   "source": [
    "### Now let's connect to the nodes with paramiko."
   ]
  },
  {
   "cell_type": "code",
   "execution_count": 322,
   "metadata": {},
   "outputs": [],
   "source": [
    "import paramiko"
   ]
  },
  {
   "cell_type": "code",
   "execution_count": 345,
   "metadata": {},
   "outputs": [
    {
     "data": {
      "text/plain": [
       "'63.239.135.73'"
      ]
     },
     "execution_count": 345,
     "metadata": {},
     "output_type": "execute_result"
    }
   ],
   "source": [
    "client1_ip = list(filter(lambda sliver : sliver.name == \"n1\",slivers))[0].management_ip\n",
    "client1_ip"
   ]
  },
  {
   "cell_type": "code",
   "execution_count": 346,
   "metadata": {},
   "outputs": [
    {
     "data": {
      "text/plain": [
       "'2001:400:a100:3030:f816:3eff:fe99:f94b'"
      ]
     },
     "execution_count": 346,
     "metadata": {},
     "output_type": "execute_result"
    }
   ],
   "source": [
    "client2_ip = list(filter(lambda sliver : sliver.name == \"n2\",slivers))[0].management_ip\n",
    "client2_ip"
   ]
  },
  {
   "cell_type": "code",
   "execution_count": 347,
   "metadata": {},
   "outputs": [
    {
     "data": {
      "text/plain": [
       "'2001:1948:417:7:f816:3eff:fed1:fc7b'"
      ]
     },
     "execution_count": 347,
     "metadata": {},
     "output_type": "execute_result"
    }
   ],
   "source": [
    "client3_ip = list(filter(lambda sliver : sliver.name == \"n3\",slivers))[0].management_ip\n",
    "client3_ip"
   ]
  },
  {
   "cell_type": "code",
   "execution_count": 348,
   "metadata": {},
   "outputs": [
    {
     "data": {
      "text/plain": [
       "<paramiko.client.SSHClient at 0x7fda6dd1de20>"
      ]
     },
     "execution_count": 348,
     "metadata": {},
     "output_type": "execute_result"
    }
   ],
   "source": [
    "key = paramiko.RSAKey.from_private_key_file(\"/home/fabric/.ssh/id_rsa\")\n",
    "client1 = paramiko.SSHClient()\n",
    "client1.load_system_host_keys()\n",
    "client1.set_missing_host_key_policy(paramiko.MissingHostKeyPolicy())\n",
    "\n",
    "client1.set_missing_host_key_policy(paramiko.AutoAddPolicy())\n",
    "client1.connect(client1_ip,username='ubuntu',pkey = key)\n",
    "\n",
    "client1"
   ]
  },
  {
   "cell_type": "code",
   "execution_count": 349,
   "metadata": {},
   "outputs": [
    {
     "name": "stdout",
     "output_type": "stream",
     "text": [
      "Distributor ID:\tUbuntu\n",
      "Description:\tUbuntu 20.04.3 LTS\n",
      "Release:\t20.04\n",
      "Codename:\tfocal\n",
      "\n",
      "No LSB modules are available.\n",
      "\n"
     ]
    }
   ],
   "source": [
    "stdin, stdout, stderr = client1.exec_command('lsb_release -a')\n",
    "print(stdout.read().decode(\"utf-8\"))\n",
    "print(stderr.read().decode(\"utf-8\"))"
   ]
  },
  {
   "cell_type": "code",
   "execution_count": 350,
   "metadata": {},
   "outputs": [
    {
     "data": {
      "text/plain": [
       "<paramiko.client.SSHClient at 0x7fda6cbf8af0>"
      ]
     },
     "execution_count": 350,
     "metadata": {},
     "output_type": "execute_result"
    }
   ],
   "source": [
    "key = paramiko.RSAKey.from_private_key_file(\"/home/fabric/.ssh/id_rsa\")\n",
    "\n",
    "bastion_public_addr = 'bastion-1.fabric-testbed.net'\n",
    "bastion_private_ipv4_addr = '192.168.11.226'\n",
    "bastion_private_ipv6_addr = '2600:2701:5000:a902::c'\n",
    "\n",
    "bastion_username = 'minawm_0041350787'\n",
    "\n",
    "bastion_key_filename = os.environ['HOME'] + \"/work/mina_bastion_key\"\n",
    "\n",
    "jump = paramiko.SSHClient()\n",
    "jump.set_missing_host_key_policy(paramiko.AutoAddPolicy())\n",
    "bastion_pkey = paramiko.RSAKey.from_private_key_file(bastion_key_filename)\n",
    "jump.connect(bastion_public_addr, username=bastion_username, pkey=bastion_pkey)\n",
    "\n",
    "jump_transport = jump.get_transport()\n",
    "src_addr = (bastion_private_ipv4_addr, 22)\n",
    "dest_addr = (client2_ip, 22)\n",
    "jump_channel = jump_transport.open_channel(\"direct-tcpip\", dest_addr, src_addr)\n",
    "\n",
    "client2=paramiko.SSHClient()\n",
    "client2.set_missing_host_key_policy(paramiko.AutoAddPolicy())\n",
    "client2.connect(client2_ip, username='ubuntu', pkey=key, sock=jump_channel) #key_filename=ssh_key_filename\n",
    "\n",
    "client2"
   ]
  },
  {
   "cell_type": "code",
   "execution_count": 351,
   "metadata": {},
   "outputs": [
    {
     "name": "stdout",
     "output_type": "stream",
     "text": [
      "Distributor ID:\tUbuntu\n",
      "Description:\tUbuntu 20.04.3 LTS\n",
      "Release:\t20.04\n",
      "Codename:\tfocal\n",
      "\n",
      "No LSB modules are available.\n",
      "\n"
     ]
    }
   ],
   "source": [
    "stdin, stdout, stderr = client2.exec_command('lsb_release -a')\n",
    "print(stdout.read().decode(\"utf-8\"))\n",
    "print(stderr.read().decode(\"utf-8\"))"
   ]
  },
  {
   "cell_type": "code",
   "execution_count": 352,
   "metadata": {},
   "outputs": [
    {
     "data": {
      "text/plain": [
       "<paramiko.client.SSHClient at 0x7fda6c2ab160>"
      ]
     },
     "execution_count": 352,
     "metadata": {},
     "output_type": "execute_result"
    }
   ],
   "source": [
    "key = paramiko.RSAKey.from_private_key_file(\"/home/fabric/.ssh/id_rsa\")\n",
    "\n",
    "bastion_public_addr = 'bastion-1.fabric-testbed.net'\n",
    "bastion_private_ipv4_addr = '192.168.11.226'\n",
    "bastion_private_ipv6_addr = '2600:2701:5000:a902::c'\n",
    "\n",
    "bastion_username = 'minawm_0041350787'\n",
    "\n",
    "bastion_key_filename = os.environ['HOME'] + \"/work/mina_bastion_key\"\n",
    "\n",
    "jump = paramiko.SSHClient()\n",
    "jump.set_missing_host_key_policy(paramiko.AutoAddPolicy())\n",
    "bastion_pkey = paramiko.RSAKey.from_private_key_file(bastion_key_filename)\n",
    "jump.connect(bastion_public_addr, username=bastion_username, pkey=bastion_pkey)\n",
    "\n",
    "jump_transport = jump.get_transport()\n",
    "src_addr = (bastion_private_ipv4_addr, 22)\n",
    "dest_addr = (client3_ip, 22)\n",
    "jump_channel = jump_transport.open_channel(\"direct-tcpip\", dest_addr, src_addr)\n",
    "\n",
    "client3=paramiko.SSHClient()\n",
    "client3.set_missing_host_key_policy(paramiko.AutoAddPolicy())\n",
    "client3.connect(client3_ip, username='ubuntu', pkey=key, sock=jump_channel) #key_filename=ssh_key_filename\n",
    "\n",
    "client3"
   ]
  },
  {
   "cell_type": "code",
   "execution_count": 353,
   "metadata": {},
   "outputs": [
    {
     "name": "stdout",
     "output_type": "stream",
     "text": [
      "Distributor ID:\tUbuntu\n",
      "Description:\tUbuntu 20.04.3 LTS\n",
      "Release:\t20.04\n",
      "Codename:\tfocal\n",
      "\n",
      "No LSB modules are available.\n",
      "\n"
     ]
    }
   ],
   "source": [
    "stdin, stdout, stderr = client3.exec_command('lsb_release -a')\n",
    "print(stdout.read().decode(\"utf-8\"))\n",
    "print(stderr.read().decode(\"utf-8\"))"
   ]
  },
  {
   "cell_type": "markdown",
   "metadata": {},
   "source": [
    "### Let's try to let the nodes ping each other through their management IPs."
   ]
  },
  {
   "cell_type": "code",
   "execution_count": 354,
   "metadata": {},
   "outputs": [
    {
     "name": "stdout",
     "output_type": "stream",
     "text": [
      "\n",
      "ping: connect: Network is unreachable\n",
      "\n"
     ]
    }
   ],
   "source": [
    "stdin, stdout, stderr = client1.exec_command('ping -c 5 ' + client2_ip)\n",
    "print(stdout.read().decode(\"utf-8\"))\n",
    "print(stderr.read().decode(\"utf-8\"))"
   ]
  },
  {
   "cell_type": "code",
   "execution_count": 355,
   "metadata": {},
   "outputs": [
    {
     "name": "stdout",
     "output_type": "stream",
     "text": [
      "\n",
      "ping: connect: Network is unreachable\n",
      "\n"
     ]
    }
   ],
   "source": [
    "stdin, stdout, stderr = client1.exec_command('ping -c 5 ' + client3_ip)\n",
    "print(stdout.read().decode(\"utf-8\"))\n",
    "print(stderr.read().decode(\"utf-8\"))"
   ]
  },
  {
   "cell_type": "code",
   "execution_count": 356,
   "metadata": {},
   "outputs": [
    {
     "name": "stdout",
     "output_type": "stream",
     "text": [
      "PING 63.239.135.73 (63.239.135.73) 56(84) bytes of data.\n",
      "From 10.20.4.189 icmp_seq=1 Destination Host Unreachable\n",
      "From 10.20.4.189 icmp_seq=2 Destination Host Unreachable\n",
      "From 10.20.4.189 icmp_seq=3 Destination Host Unreachable\n",
      "From 10.20.4.189 icmp_seq=4 Destination Host Unreachable\n",
      "From 10.20.4.189 icmp_seq=5 Destination Host Unreachable\n",
      "\n",
      "--- 63.239.135.73 ping statistics ---\n",
      "5 packets transmitted, 0 received, +5 errors, 100% packet loss, time 4083ms\n",
      "pipe 3\n",
      "\n",
      "\n"
     ]
    }
   ],
   "source": [
    "stdin, stdout, stderr = client2.exec_command('ping -c 5 ' + client1_ip)\n",
    "print(stdout.read().decode(\"utf-8\"))\n",
    "print(stderr.read().decode(\"utf-8\"))"
   ]
  },
  {
   "cell_type": "code",
   "execution_count": 357,
   "metadata": {},
   "outputs": [
    {
     "name": "stdout",
     "output_type": "stream",
     "text": [
      "PING 2001:1948:417:7:f816:3eff:fed1:fc7b(2001:1948:417:7:f816:3eff:fed1:fc7b) 56 data bytes\n",
      "\n",
      "--- 2001:1948:417:7:f816:3eff:fed1:fc7b ping statistics ---\n",
      "5 packets transmitted, 0 received, 100% packet loss, time 4095ms\n",
      "\n",
      "\n",
      "\n"
     ]
    }
   ],
   "source": [
    "stdin, stdout, stderr = client2.exec_command('ping -c 5 ' + client3_ip)\n",
    "print(stdout.read().decode(\"utf-8\"))\n",
    "print(stderr.read().decode(\"utf-8\"))"
   ]
  },
  {
   "cell_type": "code",
   "execution_count": 358,
   "metadata": {},
   "outputs": [
    {
     "name": "stdout",
     "output_type": "stream",
     "text": [
      "PING 63.239.135.73 (63.239.135.73) 56(84) bytes of data.\n",
      "From 10.20.4.236 icmp_seq=1 Destination Host Unreachable\n",
      "From 10.20.4.236 icmp_seq=2 Destination Host Unreachable\n",
      "From 10.20.4.236 icmp_seq=3 Destination Host Unreachable\n",
      "From 10.20.4.236 icmp_seq=4 Destination Host Unreachable\n",
      "From 10.20.4.236 icmp_seq=5 Destination Host Unreachable\n",
      "\n",
      "--- 63.239.135.73 ping statistics ---\n",
      "5 packets transmitted, 0 received, +5 errors, 100% packet loss, time 4076ms\n",
      "pipe 3\n",
      "\n",
      "\n"
     ]
    }
   ],
   "source": [
    "stdin, stdout, stderr = client3.exec_command('ping -c 5 ' + client1_ip)\n",
    "print(stdout.read().decode(\"utf-8\"))\n",
    "print(stderr.read().decode(\"utf-8\"))"
   ]
  },
  {
   "cell_type": "code",
   "execution_count": 359,
   "metadata": {},
   "outputs": [
    {
     "name": "stdout",
     "output_type": "stream",
     "text": [
      "PING 2001:400:a100:3030:f816:3eff:fe99:f94b(2001:400:a100:3030:f816:3eff:fe99:f94b) 56 data bytes\n",
      "64 bytes from 2001:400:a100:3030:f816:3eff:fe99:f94b: icmp_seq=1 ttl=51 time=59.7 ms\n",
      "64 bytes from 2001:400:a100:3030:f816:3eff:fe99:f94b: icmp_seq=2 ttl=51 time=59.2 ms\n",
      "64 bytes from 2001:400:a100:3030:f816:3eff:fe99:f94b: icmp_seq=3 ttl=51 time=59.2 ms\n",
      "64 bytes from 2001:400:a100:3030:f816:3eff:fe99:f94b: icmp_seq=4 ttl=51 time=59.2 ms\n",
      "64 bytes from 2001:400:a100:3030:f816:3eff:fe99:f94b: icmp_seq=5 ttl=51 time=59.2 ms\n",
      "\n",
      "--- 2001:400:a100:3030:f816:3eff:fe99:f94b ping statistics ---\n",
      "5 packets transmitted, 5 received, 0% packet loss, time 4005ms\n",
      "rtt min/avg/max/mdev = 59.217/59.322/59.733/0.205 ms\n",
      "\n",
      "\n"
     ]
    }
   ],
   "source": [
    "stdin, stdout, stderr = client3.exec_command('ping -c 5 ' + client2_ip)\n",
    "print(stdout.read().decode(\"utf-8\"))\n",
    "print(stderr.read().decode(\"utf-8\"))"
   ]
  },
  {
   "cell_type": "markdown",
   "metadata": {},
   "source": [
    "### To begin with, we will need to use the `route` command. So we need to install `net-tools`."
   ]
  },
  {
   "cell_type": "code",
   "execution_count": 360,
   "metadata": {},
   "outputs": [
    {
     "name": "stdout",
     "output_type": "stream",
     "text": [
      "Hit:1 http://nova.clouds.archive.ubuntu.com/ubuntu focal InRelease\n",
      "Get:2 http://security.ubuntu.com/ubuntu focal-security InRelease [114 kB]\n",
      "Get:3 http://nova.clouds.archive.ubuntu.com/ubuntu focal-updates InRelease [114 kB]\n",
      "Get:4 http://security.ubuntu.com/ubuntu focal-security/main amd64 Packages [1064 kB]\n",
      "Get:5 http://nova.clouds.archive.ubuntu.com/ubuntu focal-backports InRelease [108 kB]\n",
      "Get:6 http://nova.clouds.archive.ubuntu.com/ubuntu focal/universe amd64 Packages [8628 kB]\n",
      "Get:7 http://security.ubuntu.com/ubuntu focal-security/main Translation-en [196 kB]\n",
      "Get:8 http://security.ubuntu.com/ubuntu focal-security/main amd64 c-n-f Metadata [9080 B]\n",
      "Get:9 http://security.ubuntu.com/ubuntu focal-security/restricted amd64 Packages [560 kB]\n",
      "Get:10 http://security.ubuntu.com/ubuntu focal-security/restricted Translation-en [80.2 kB]\n",
      "Get:11 http://security.ubuntu.com/ubuntu focal-security/restricted amd64 c-n-f Metadata [528 B]\n",
      "Get:12 http://security.ubuntu.com/ubuntu focal-security/universe amd64 Packages [663 kB]\n",
      "Get:13 http://security.ubuntu.com/ubuntu focal-security/universe Translation-en [111 kB]\n",
      "Get:14 http://security.ubuntu.com/ubuntu focal-security/universe amd64 c-n-f Metadata [12.9 kB]\n",
      "Get:15 http://security.ubuntu.com/ubuntu focal-security/multiverse amd64 Packages [21.9 kB]\n",
      "Get:16 http://security.ubuntu.com/ubuntu focal-security/multiverse Translation-en [4948 B]\n",
      "Get:17 http://security.ubuntu.com/ubuntu focal-security/multiverse amd64 c-n-f Metadata [540 B]\n",
      "Get:18 http://nova.clouds.archive.ubuntu.com/ubuntu focal/universe Translation-en [5124 kB]\n",
      "Get:19 http://nova.clouds.archive.ubuntu.com/ubuntu focal/universe amd64 c-n-f Metadata [265 kB]\n",
      "Get:20 http://nova.clouds.archive.ubuntu.com/ubuntu focal/multiverse amd64 Packages [144 kB]\n",
      "Get:21 http://nova.clouds.archive.ubuntu.com/ubuntu focal/multiverse Translation-en [104 kB]\n",
      "Get:22 http://nova.clouds.archive.ubuntu.com/ubuntu focal/multiverse amd64 c-n-f Metadata [9136 B]\n",
      "Get:23 http://nova.clouds.archive.ubuntu.com/ubuntu focal-updates/main amd64 Packages [1389 kB]\n",
      "Get:24 http://nova.clouds.archive.ubuntu.com/ubuntu focal-updates/main Translation-en [282 kB]\n",
      "Get:25 http://nova.clouds.archive.ubuntu.com/ubuntu focal-updates/main amd64 c-n-f Metadata [14.6 kB]\n",
      "Get:26 http://nova.clouds.archive.ubuntu.com/ubuntu focal-updates/restricted amd64 Packages [606 kB]\n",
      "Get:27 http://nova.clouds.archive.ubuntu.com/ubuntu focal-updates/restricted Translation-en [86.8 kB]\n",
      "Get:28 http://nova.clouds.archive.ubuntu.com/ubuntu focal-updates/restricted amd64 c-n-f Metadata [528 B]\n",
      "Get:29 http://nova.clouds.archive.ubuntu.com/ubuntu focal-updates/universe amd64 Packages [879 kB]\n",
      "Get:30 http://nova.clouds.archive.ubuntu.com/ubuntu focal-updates/universe Translation-en [190 kB]\n",
      "Get:31 http://nova.clouds.archive.ubuntu.com/ubuntu focal-updates/universe amd64 c-n-f Metadata [19.6 kB]\n",
      "Get:32 http://nova.clouds.archive.ubuntu.com/ubuntu focal-updates/multiverse amd64 Packages [24.8 kB]\n",
      "Get:33 http://nova.clouds.archive.ubuntu.com/ubuntu focal-updates/multiverse Translation-en [6928 B]\n",
      "Get:34 http://nova.clouds.archive.ubuntu.com/ubuntu focal-updates/multiverse amd64 c-n-f Metadata [616 B]\n",
      "Get:35 http://nova.clouds.archive.ubuntu.com/ubuntu focal-backports/main amd64 Packages [41.2 kB]\n",
      "Get:36 http://nova.clouds.archive.ubuntu.com/ubuntu focal-backports/main Translation-en [9732 B]\n",
      "Get:37 http://nova.clouds.archive.ubuntu.com/ubuntu focal-backports/main amd64 c-n-f Metadata [516 B]\n",
      "Get:38 http://nova.clouds.archive.ubuntu.com/ubuntu focal-backports/restricted amd64 c-n-f Metadata [116 B]\n",
      "Get:39 http://nova.clouds.archive.ubuntu.com/ubuntu focal-backports/universe amd64 Packages [18.9 kB]\n",
      "Get:40 http://nova.clouds.archive.ubuntu.com/ubuntu focal-backports/universe Translation-en [7524 B]\n",
      "Get:41 http://nova.clouds.archive.ubuntu.com/ubuntu focal-backports/universe amd64 c-n-f Metadata [644 B]\n",
      "Get:42 http://nova.clouds.archive.ubuntu.com/ubuntu focal-backports/multiverse amd64 c-n-f Metadata [116 B]\n",
      "Fetched 20.9 MB in 4s (5709 kB/s)\n",
      "Reading package lists...\n",
      "Building dependency tree...\n",
      "Reading state information...\n",
      "78 packages can be upgraded. Run 'apt list --upgradable' to see them.\n",
      "Reading package lists...\n",
      "Building dependency tree...\n",
      "Reading state information...\n",
      "The following additional packages will be installed:\n",
      "  libiperf0 libsctp1\n",
      "Suggested packages:\n",
      "  lksctp-tools\n",
      "The following NEW packages will be installed:\n",
      "  iperf3 libiperf0 libsctp1 net-tools traceroute\n",
      "0 upgraded, 5 newly installed, 0 to remove and 78 not upgraded.\n",
      "Need to get 336 kB of archives.\n",
      "After this operation, 1347 kB of additional disk space will be used.\n",
      "Get:1 http://nova.clouds.archive.ubuntu.com/ubuntu focal/main amd64 libsctp1 amd64 1.0.18+dfsg-1 [7876 B]\n",
      "Get:2 http://nova.clouds.archive.ubuntu.com/ubuntu focal/universe amd64 libiperf0 amd64 3.7-3 [72.0 kB]\n",
      "Get:3 http://nova.clouds.archive.ubuntu.com/ubuntu focal/universe amd64 iperf3 amd64 3.7-3 [14.2 kB]\n",
      "Get:4 http://nova.clouds.archive.ubuntu.com/ubuntu focal/main amd64 net-tools amd64 1.60+git20180626.aebd88e-1ubuntu1 [196 kB]\n",
      "Get:5 http://nova.clouds.archive.ubuntu.com/ubuntu focal/universe amd64 traceroute amd64 1:2.1.0-2 [45.4 kB]\n",
      "Fetched 336 kB in 1s (554 kB/s)\n",
      "Selecting previously unselected package libsctp1:amd64.\n",
      "(Reading database ... 63512 files and directories currently installed.)\n",
      "Preparing to unpack .../libsctp1_1.0.18+dfsg-1_amd64.deb ...\n",
      "Unpacking libsctp1:amd64 (1.0.18+dfsg-1) ...\n",
      "Selecting previously unselected package libiperf0:amd64.\n",
      "Preparing to unpack .../libiperf0_3.7-3_amd64.deb ...\n",
      "Unpacking libiperf0:amd64 (3.7-3) ...\n",
      "Selecting previously unselected package iperf3.\n",
      "Preparing to unpack .../iperf3_3.7-3_amd64.deb ...\n",
      "Unpacking iperf3 (3.7-3) ...\n",
      "Selecting previously unselected package net-tools.\n",
      "Preparing to unpack .../net-tools_1.60+git20180626.aebd88e-1ubuntu1_amd64.deb ...\n",
      "Unpacking net-tools (1.60+git20180626.aebd88e-1ubuntu1) ...\n",
      "Selecting previously unselected package traceroute.\n",
      "Preparing to unpack .../traceroute_1%3a2.1.0-2_amd64.deb ...\n",
      "Unpacking traceroute (1:2.1.0-2) ...\n",
      "Setting up net-tools (1.60+git20180626.aebd88e-1ubuntu1) ...\n",
      "Setting up traceroute (1:2.1.0-2) ...\n",
      "update-alternatives: using /usr/bin/traceroute.db to provide /usr/bin/traceroute (traceroute) in auto mode\n",
      "update-alternatives: using /usr/bin/lft.db to provide /usr/bin/lft (lft) in auto mode\n",
      "update-alternatives: using /usr/bin/traceproto.db to provide /usr/bin/traceproto (traceproto) in auto mode\n",
      "update-alternatives: using /usr/sbin/tcptraceroute.db to provide /usr/sbin/tcptraceroute (tcptraceroute) in auto mode\n",
      "Setting up libsctp1:amd64 (1.0.18+dfsg-1) ...\n",
      "Setting up libiperf0:amd64 (3.7-3) ...\n",
      "Setting up iperf3 (3.7-3) ...\n",
      "Processing triggers for man-db (2.9.1-1) ...\n",
      "Processing triggers for libc-bin (2.31-0ubuntu9.2) ...\n",
      "\n",
      "\n",
      "WARNING: apt does not have a stable CLI interface. Use with caution in scripts.\n",
      "\n",
      "\n",
      "WARNING: apt does not have a stable CLI interface. Use with caution in scripts.\n",
      "\n",
      "debconf: unable to initialize frontend: Dialog\n",
      "debconf: (Dialog frontend will not work on a dumb terminal, an emacs shell buffer, or without a controlling terminal.)\n",
      "debconf: falling back to frontend: Readline\n",
      "debconf: unable to initialize frontend: Readline\n",
      "debconf: (This frontend requires a controlling tty.)\n",
      "debconf: falling back to frontend: Teletype\n",
      "dpkg-preconfigure: unable to re-open stdin: \n",
      "\n",
      "Hit:1 http://nova.clouds.archive.ubuntu.com/ubuntu focal InRelease\n",
      "Get:2 http://security.ubuntu.com/ubuntu focal-security InRelease [114 kB]\n",
      "Get:3 http://nova.clouds.archive.ubuntu.com/ubuntu focal-updates InRelease [114 kB]\n",
      "Get:4 http://security.ubuntu.com/ubuntu focal-security/main amd64 Packages [1064 kB]\n",
      "Get:5 http://nova.clouds.archive.ubuntu.com/ubuntu focal-backports InRelease [108 kB]\n",
      "Get:6 http://nova.clouds.archive.ubuntu.com/ubuntu focal/universe amd64 Packages [8628 kB]\n",
      "Get:7 http://security.ubuntu.com/ubuntu focal-security/main Translation-en [196 kB]\n",
      "Get:8 http://security.ubuntu.com/ubuntu focal-security/main amd64 c-n-f Metadata [9080 B]\n",
      "Get:9 http://security.ubuntu.com/ubuntu focal-security/restricted amd64 Packages [560 kB]\n",
      "Get:10 http://security.ubuntu.com/ubuntu focal-security/restricted Translation-en [80.2 kB]\n",
      "Get:11 http://security.ubuntu.com/ubuntu focal-security/restricted amd64 c-n-f Metadata [528 B]\n",
      "Get:12 http://security.ubuntu.com/ubuntu focal-security/universe amd64 Packages [663 kB]\n",
      "Get:13 http://security.ubuntu.com/ubuntu focal-security/universe Translation-en [111 kB]\n",
      "Get:14 http://security.ubuntu.com/ubuntu focal-security/universe amd64 c-n-f Metadata [12.9 kB]\n",
      "Get:15 http://security.ubuntu.com/ubuntu focal-security/multiverse amd64 Packages [21.9 kB]\n",
      "Get:16 http://security.ubuntu.com/ubuntu focal-security/multiverse Translation-en [4948 B]\n",
      "Get:17 http://security.ubuntu.com/ubuntu focal-security/multiverse amd64 c-n-f Metadata [540 B]\n",
      "Get:18 http://nova.clouds.archive.ubuntu.com/ubuntu focal/universe Translation-en [5124 kB]\n",
      "Get:19 http://nova.clouds.archive.ubuntu.com/ubuntu focal/universe amd64 c-n-f Metadata [265 kB]\n",
      "Get:20 http://nova.clouds.archive.ubuntu.com/ubuntu focal/multiverse amd64 Packages [144 kB]\n",
      "Get:21 http://nova.clouds.archive.ubuntu.com/ubuntu focal/multiverse Translation-en [104 kB]\n",
      "Get:22 http://nova.clouds.archive.ubuntu.com/ubuntu focal/multiverse amd64 c-n-f Metadata [9136 B]\n",
      "Get:23 http://nova.clouds.archive.ubuntu.com/ubuntu focal-updates/main amd64 Packages [1389 kB]\n",
      "Get:24 http://nova.clouds.archive.ubuntu.com/ubuntu focal-updates/main Translation-en [282 kB]\n",
      "Get:25 http://nova.clouds.archive.ubuntu.com/ubuntu focal-updates/main amd64 c-n-f Metadata [14.6 kB]\n",
      "Get:26 http://nova.clouds.archive.ubuntu.com/ubuntu focal-updates/restricted amd64 Packages [606 kB]\n",
      "Get:27 http://nova.clouds.archive.ubuntu.com/ubuntu focal-updates/restricted Translation-en [86.8 kB]\n",
      "Get:28 http://nova.clouds.archive.ubuntu.com/ubuntu focal-updates/restricted amd64 c-n-f Metadata [528 B]\n",
      "Get:29 http://nova.clouds.archive.ubuntu.com/ubuntu focal-updates/universe amd64 Packages [879 kB]\n",
      "Get:30 http://nova.clouds.archive.ubuntu.com/ubuntu focal-updates/universe Translation-en [190 kB]\n",
      "Get:31 http://nova.clouds.archive.ubuntu.com/ubuntu focal-updates/universe amd64 c-n-f Metadata [19.6 kB]\n",
      "Get:32 http://nova.clouds.archive.ubuntu.com/ubuntu focal-updates/multiverse amd64 Packages [24.8 kB]\n",
      "Get:33 http://nova.clouds.archive.ubuntu.com/ubuntu focal-updates/multiverse Translation-en [6928 B]\n",
      "Get:34 http://nova.clouds.archive.ubuntu.com/ubuntu focal-updates/multiverse amd64 c-n-f Metadata [616 B]\n",
      "Get:35 http://nova.clouds.archive.ubuntu.com/ubuntu focal-backports/main amd64 Packages [41.2 kB]\n",
      "Get:36 http://nova.clouds.archive.ubuntu.com/ubuntu focal-backports/main Translation-en [9732 B]\n",
      "Get:37 http://nova.clouds.archive.ubuntu.com/ubuntu focal-backports/main amd64 c-n-f Metadata [516 B]\n",
      "Get:38 http://nova.clouds.archive.ubuntu.com/ubuntu focal-backports/restricted amd64 c-n-f Metadata [116 B]\n",
      "Get:39 http://nova.clouds.archive.ubuntu.com/ubuntu focal-backports/universe amd64 Packages [18.9 kB]\n",
      "Get:40 http://nova.clouds.archive.ubuntu.com/ubuntu focal-backports/universe Translation-en [7524 B]\n",
      "Get:41 http://nova.clouds.archive.ubuntu.com/ubuntu focal-backports/universe amd64 c-n-f Metadata [644 B]\n",
      "Get:42 http://nova.clouds.archive.ubuntu.com/ubuntu focal-backports/multiverse amd64 c-n-f Metadata [116 B]\n",
      "Fetched 20.9 MB in 4s (5604 kB/s)\n",
      "Reading package lists...\n",
      "Building dependency tree...\n",
      "Reading state information...\n",
      "75 packages can be upgraded. Run 'apt list --upgradable' to see them.\n",
      "Reading package lists...\n",
      "Building dependency tree...\n",
      "Reading state information...\n",
      "The following additional packages will be installed:\n",
      "  libiperf0 libsctp1\n",
      "Suggested packages:\n",
      "  lksctp-tools\n",
      "The following NEW packages will be installed:\n",
      "  iperf3 libiperf0 libsctp1 net-tools traceroute\n",
      "0 upgraded, 5 newly installed, 0 to remove and 75 not upgraded.\n",
      "Need to get 336 kB of archives.\n",
      "After this operation, 1347 kB of additional disk space will be used.\n",
      "Get:1 http://nova.clouds.archive.ubuntu.com/ubuntu focal/main amd64 libsctp1 amd64 1.0.18+dfsg-1 [7876 B]\n",
      "Get:2 http://nova.clouds.archive.ubuntu.com/ubuntu focal/universe amd64 libiperf0 amd64 3.7-3 [72.0 kB]\n",
      "Get:3 http://nova.clouds.archive.ubuntu.com/ubuntu focal/universe amd64 iperf3 amd64 3.7-3 [14.2 kB]\n",
      "Get:4 http://nova.clouds.archive.ubuntu.com/ubuntu focal/main amd64 net-tools amd64 1.60+git20180626.aebd88e-1ubuntu1 [196 kB]\n",
      "Get:5 http://nova.clouds.archive.ubuntu.com/ubuntu focal/universe amd64 traceroute amd64 1:2.1.0-2 [45.4 kB]\n",
      "Fetched 336 kB in 2s (223 kB/s)\n",
      "Selecting previously unselected package libsctp1:amd64.\n",
      "(Reading database ... 63512 files and directories currently installed.)\n",
      "Preparing to unpack .../libsctp1_1.0.18+dfsg-1_amd64.deb ...\n",
      "Unpacking libsctp1:amd64 (1.0.18+dfsg-1) ...\n",
      "Selecting previously unselected package libiperf0:amd64.\n",
      "Preparing to unpack .../libiperf0_3.7-3_amd64.deb ...\n",
      "Unpacking libiperf0:amd64 (3.7-3) ...\n",
      "Selecting previously unselected package iperf3.\n",
      "Preparing to unpack .../iperf3_3.7-3_amd64.deb ...\n",
      "Unpacking iperf3 (3.7-3) ...\n",
      "Selecting previously unselected package net-tools.\n",
      "Preparing to unpack .../net-tools_1.60+git20180626.aebd88e-1ubuntu1_amd64.deb ...\n",
      "Unpacking net-tools (1.60+git20180626.aebd88e-1ubuntu1) ...\n",
      "Selecting previously unselected package traceroute.\n",
      "Preparing to unpack .../traceroute_1%3a2.1.0-2_amd64.deb ...\n",
      "Unpacking traceroute (1:2.1.0-2) ...\n",
      "Setting up net-tools (1.60+git20180626.aebd88e-1ubuntu1) ...\n",
      "Setting up traceroute (1:2.1.0-2) ...\n",
      "update-alternatives: using /usr/bin/traceroute.db to provide /usr/bin/traceroute (traceroute) in auto mode\n",
      "update-alternatives: using /usr/bin/lft.db to provide /usr/bin/lft (lft) in auto mode\n",
      "update-alternatives: using /usr/bin/traceproto.db to provide /usr/bin/traceproto (traceproto) in auto mode\n",
      "update-alternatives: using /usr/sbin/tcptraceroute.db to provide /usr/sbin/tcptraceroute (tcptraceroute) in auto mode\n",
      "Setting up libsctp1:amd64 (1.0.18+dfsg-1) ...\n",
      "Setting up libiperf0:amd64 (3.7-3) ...\n",
      "Setting up iperf3 (3.7-3) ...\n",
      "Processing triggers for man-db (2.9.1-1) ...\n",
      "Processing triggers for libc-bin (2.31-0ubuntu9.2) ...\n",
      "\n",
      "\n",
      "WARNING: apt does not have a stable CLI interface. Use with caution in scripts.\n",
      "\n",
      "\n",
      "WARNING: apt does not have a stable CLI interface. Use with caution in scripts.\n",
      "\n",
      "debconf: unable to initialize frontend: Dialog\n",
      "debconf: (Dialog frontend will not work on a dumb terminal, an emacs shell buffer, or without a controlling terminal.)\n",
      "debconf: falling back to frontend: Readline\n",
      "debconf: unable to initialize frontend: Readline\n",
      "debconf: (This frontend requires a controlling tty.)\n",
      "debconf: falling back to frontend: Teletype\n",
      "dpkg-preconfigure: unable to re-open stdin: \n",
      "\n",
      "Get:1 http://security.ubuntu.com/ubuntu focal-security InRelease [114 kB]\n",
      "Hit:2 http://nova.clouds.archive.ubuntu.com/ubuntu focal InRelease\n",
      "Get:3 http://nova.clouds.archive.ubuntu.com/ubuntu focal-updates InRelease [114 kB]\n",
      "Get:4 http://security.ubuntu.com/ubuntu focal-security/main amd64 Packages [1064 kB]\n",
      "Get:5 http://nova.clouds.archive.ubuntu.com/ubuntu focal-backports InRelease [108 kB]\n",
      "Get:6 http://nova.clouds.archive.ubuntu.com/ubuntu focal/universe amd64 Packages [8628 kB]\n",
      "Get:7 http://security.ubuntu.com/ubuntu focal-security/main Translation-en [196 kB]\n",
      "Get:8 http://security.ubuntu.com/ubuntu focal-security/main amd64 c-n-f Metadata [9080 B]\n",
      "Get:9 http://security.ubuntu.com/ubuntu focal-security/restricted amd64 Packages [560 kB]\n",
      "Get:10 http://security.ubuntu.com/ubuntu focal-security/restricted Translation-en [80.2 kB]\n",
      "Get:11 http://security.ubuntu.com/ubuntu focal-security/restricted amd64 c-n-f Metadata [528 B]\n",
      "Get:12 http://security.ubuntu.com/ubuntu focal-security/universe amd64 Packages [663 kB]\n",
      "Get:13 http://security.ubuntu.com/ubuntu focal-security/universe Translation-en [111 kB]\n",
      "Get:14 http://security.ubuntu.com/ubuntu focal-security/universe amd64 c-n-f Metadata [12.9 kB]\n",
      "Get:15 http://security.ubuntu.com/ubuntu focal-security/multiverse amd64 Packages [21.9 kB]\n",
      "Get:16 http://security.ubuntu.com/ubuntu focal-security/multiverse Translation-en [4948 B]\n",
      "Get:17 http://security.ubuntu.com/ubuntu focal-security/multiverse amd64 c-n-f Metadata [540 B]\n",
      "Get:18 http://nova.clouds.archive.ubuntu.com/ubuntu focal/universe Translation-en [5124 kB]\n",
      "Get:19 http://nova.clouds.archive.ubuntu.com/ubuntu focal/universe amd64 c-n-f Metadata [265 kB]\n",
      "Get:20 http://nova.clouds.archive.ubuntu.com/ubuntu focal/multiverse amd64 Packages [144 kB]\n",
      "Get:21 http://nova.clouds.archive.ubuntu.com/ubuntu focal/multiverse Translation-en [104 kB]\n",
      "Get:22 http://nova.clouds.archive.ubuntu.com/ubuntu focal/multiverse amd64 c-n-f Metadata [9136 B]\n",
      "Get:23 http://nova.clouds.archive.ubuntu.com/ubuntu focal-updates/main amd64 Packages [1389 kB]\n",
      "Get:24 http://nova.clouds.archive.ubuntu.com/ubuntu focal-updates/main Translation-en [282 kB]\n",
      "Get:25 http://nova.clouds.archive.ubuntu.com/ubuntu focal-updates/main amd64 c-n-f Metadata [14.6 kB]\n",
      "Get:26 http://nova.clouds.archive.ubuntu.com/ubuntu focal-updates/restricted amd64 Packages [606 kB]\n",
      "Get:27 http://nova.clouds.archive.ubuntu.com/ubuntu focal-updates/restricted Translation-en [86.8 kB]\n",
      "Get:28 http://nova.clouds.archive.ubuntu.com/ubuntu focal-updates/restricted amd64 c-n-f Metadata [528 B]\n",
      "Get:29 http://nova.clouds.archive.ubuntu.com/ubuntu focal-updates/universe amd64 Packages [879 kB]\n",
      "Get:30 http://nova.clouds.archive.ubuntu.com/ubuntu focal-updates/universe Translation-en [190 kB]\n",
      "Get:31 http://nova.clouds.archive.ubuntu.com/ubuntu focal-updates/universe amd64 c-n-f Metadata [19.6 kB]\n",
      "Get:32 http://nova.clouds.archive.ubuntu.com/ubuntu focal-updates/multiverse amd64 Packages [24.8 kB]\n",
      "Get:33 http://nova.clouds.archive.ubuntu.com/ubuntu focal-updates/multiverse Translation-en [6928 B]\n",
      "Get:34 http://nova.clouds.archive.ubuntu.com/ubuntu focal-updates/multiverse amd64 c-n-f Metadata [616 B]\n",
      "Get:35 http://nova.clouds.archive.ubuntu.com/ubuntu focal-backports/main amd64 Packages [41.2 kB]\n",
      "Get:36 http://nova.clouds.archive.ubuntu.com/ubuntu focal-backports/main Translation-en [9732 B]\n",
      "Get:37 http://nova.clouds.archive.ubuntu.com/ubuntu focal-backports/main amd64 c-n-f Metadata [516 B]\n",
      "Get:38 http://nova.clouds.archive.ubuntu.com/ubuntu focal-backports/restricted amd64 c-n-f Metadata [116 B]\n",
      "Get:39 http://nova.clouds.archive.ubuntu.com/ubuntu focal-backports/universe amd64 Packages [18.9 kB]\n",
      "Get:40 http://nova.clouds.archive.ubuntu.com/ubuntu focal-backports/universe Translation-en [7524 B]\n",
      "Get:41 http://nova.clouds.archive.ubuntu.com/ubuntu focal-backports/universe amd64 c-n-f Metadata [644 B]\n",
      "Get:42 http://nova.clouds.archive.ubuntu.com/ubuntu focal-backports/multiverse amd64 c-n-f Metadata [116 B]\n",
      "Fetched 20.9 MB in 5s (4302 kB/s)\n",
      "Reading package lists...\n",
      "Building dependency tree...\n",
      "Reading state information...\n",
      "78 packages can be upgraded. Run 'apt list --upgradable' to see them.\n",
      "Reading package lists...\n",
      "Building dependency tree...\n",
      "Reading state information...\n",
      "The following additional packages will be installed:\n",
      "  libiperf0 libsctp1\n",
      "Suggested packages:\n",
      "  lksctp-tools\n",
      "The following NEW packages will be installed:\n",
      "  iperf3 libiperf0 libsctp1 net-tools traceroute\n",
      "0 upgraded, 5 newly installed, 0 to remove and 78 not upgraded.\n",
      "Need to get 336 kB of archives.\n",
      "After this operation, 1347 kB of additional disk space will be used.\n",
      "Get:1 http://nova.clouds.archive.ubuntu.com/ubuntu focal/main amd64 libsctp1 amd64 1.0.18+dfsg-1 [7876 B]\n",
      "Get:2 http://nova.clouds.archive.ubuntu.com/ubuntu focal/universe amd64 libiperf0 amd64 3.7-3 [72.0 kB]\n",
      "Get:3 http://nova.clouds.archive.ubuntu.com/ubuntu focal/universe amd64 iperf3 amd64 3.7-3 [14.2 kB]\n",
      "Get:4 http://nova.clouds.archive.ubuntu.com/ubuntu focal/main amd64 net-tools amd64 1.60+git20180626.aebd88e-1ubuntu1 [196 kB]\n",
      "Get:5 http://nova.clouds.archive.ubuntu.com/ubuntu focal/universe amd64 traceroute amd64 1:2.1.0-2 [45.4 kB]\n",
      "Fetched 336 kB in 1s (233 kB/s)\n",
      "Selecting previously unselected package libsctp1:amd64.\n",
      "(Reading database ... 63512 files and directories currently installed.)\n",
      "Preparing to unpack .../libsctp1_1.0.18+dfsg-1_amd64.deb ...\n",
      "Unpacking libsctp1:amd64 (1.0.18+dfsg-1) ...\n",
      "Selecting previously unselected package libiperf0:amd64.\n",
      "Preparing to unpack .../libiperf0_3.7-3_amd64.deb ...\n",
      "Unpacking libiperf0:amd64 (3.7-3) ...\n",
      "Selecting previously unselected package iperf3.\n",
      "Preparing to unpack .../iperf3_3.7-3_amd64.deb ...\n",
      "Unpacking iperf3 (3.7-3) ...\n",
      "Selecting previously unselected package net-tools.\n",
      "Preparing to unpack .../net-tools_1.60+git20180626.aebd88e-1ubuntu1_amd64.deb ...\n",
      "Unpacking net-tools (1.60+git20180626.aebd88e-1ubuntu1) ...\n",
      "Selecting previously unselected package traceroute.\n",
      "Preparing to unpack .../traceroute_1%3a2.1.0-2_amd64.deb ...\n",
      "Unpacking traceroute (1:2.1.0-2) ...\n",
      "Setting up net-tools (1.60+git20180626.aebd88e-1ubuntu1) ...\n",
      "Setting up traceroute (1:2.1.0-2) ...\n",
      "update-alternatives: using /usr/bin/traceroute.db to provide /usr/bin/traceroute (traceroute) in auto mode\n",
      "update-alternatives: using /usr/bin/lft.db to provide /usr/bin/lft (lft) in auto mode\n",
      "update-alternatives: using /usr/bin/traceproto.db to provide /usr/bin/traceproto (traceproto) in auto mode\n",
      "update-alternatives: using /usr/sbin/tcptraceroute.db to provide /usr/sbin/tcptraceroute (tcptraceroute) in auto mode\n",
      "Setting up libsctp1:amd64 (1.0.18+dfsg-1) ...\n",
      "Setting up libiperf0:amd64 (3.7-3) ...\n",
      "Setting up iperf3 (3.7-3) ...\n",
      "Processing triggers for man-db (2.9.1-1) ...\n",
      "Processing triggers for libc-bin (2.31-0ubuntu9.2) ...\n",
      "\n",
      "\n",
      "WARNING: apt does not have a stable CLI interface. Use with caution in scripts.\n",
      "\n",
      "\n",
      "WARNING: apt does not have a stable CLI interface. Use with caution in scripts.\n",
      "\n",
      "debconf: unable to initialize frontend: Dialog\n",
      "debconf: (Dialog frontend will not work on a dumb terminal, an emacs shell buffer, or without a controlling terminal.)\n",
      "debconf: falling back to frontend: Readline\n",
      "debconf: unable to initialize frontend: Readline\n",
      "debconf: (This frontend requires a controlling tty.)\n",
      "debconf: falling back to frontend: Teletype\n",
      "dpkg-preconfigure: unable to re-open stdin: \n",
      "\n"
     ]
    }
   ],
   "source": [
    "stdin, stdout, stderr = client1.exec_command('sudo apt update && sudo apt install -y net-tools traceroute iperf3')\n",
    "print(stdout.read().decode(\"utf-8\"))\n",
    "print(stderr.read().decode(\"utf-8\"))\n",
    "stdin, stdout, stderr = client2.exec_command('sudo apt update && sudo apt install -y net-tools traceroute iperf3')\n",
    "print(stdout.read().decode(\"utf-8\"))\n",
    "print(stderr.read().decode(\"utf-8\"))\n",
    "stdin, stdout, stderr = client3.exec_command('sudo apt update && sudo apt install -y net-tools traceroute iperf3')\n",
    "print(stdout.read().decode(\"utf-8\"))\n",
    "print(stderr.read().decode(\"utf-8\"))"
   ]
  },
  {
   "cell_type": "markdown",
   "metadata": {},
   "source": [
    "### Let's look at the available interfaces."
   ]
  },
  {
   "cell_type": "code",
   "execution_count": 361,
   "metadata": {
    "tags": []
   },
   "outputs": [
    {
     "name": "stdout",
     "output_type": "stream",
     "text": [
      "1: lo: <LOOPBACK,UP,LOWER_UP> mtu 65536 qdisc noqueue state UNKNOWN group default qlen 1000\n",
      "    link/loopback 00:00:00:00:00:00 brd 00:00:00:00:00:00\n",
      "    inet 127.0.0.1/8 scope host lo\n",
      "       valid_lft forever preferred_lft forever\n",
      "    inet6 ::1/128 scope host \n",
      "       valid_lft forever preferred_lft forever\n",
      "2: ens3: <BROADCAST,MULTICAST,UP,LOWER_UP> mtu 9000 qdisc fq_codel state UP group default qlen 1000\n",
      "    link/ether fa:16:3e:c6:ef:18 brd ff:ff:ff:ff:ff:ff\n",
      "    inet 10.20.4.236/24 brd 10.20.4.255 scope global dynamic ens3\n",
      "       valid_lft 85977sec preferred_lft 85977sec\n",
      "    inet6 fe80::f816:3eff:fec6:ef18/64 scope link \n",
      "       valid_lft forever preferred_lft forever\n",
      "3: ens7: <BROADCAST,MULTICAST> mtu 1500 qdisc noop state DOWN group default qlen 1000\n",
      "    link/ether 04:3f:72:fe:a6:70 brd ff:ff:ff:ff:ff:ff\n",
      "4: ens8: <BROADCAST,MULTICAST> mtu 1500 qdisc noop state DOWN group default qlen 1000\n",
      "    link/ether 04:3f:72:fe:a6:71 brd ff:ff:ff:ff:ff:ff\n",
      "\n",
      "\n"
     ]
    }
   ],
   "source": [
    "stdin, stdout, stderr = client1.exec_command('ip a')\n",
    "print(stdout.read().decode(\"utf-8\"))\n",
    "print(stderr.read().decode(\"utf-8\"))"
   ]
  },
  {
   "cell_type": "code",
   "execution_count": 362,
   "metadata": {},
   "outputs": [
    {
     "name": "stdout",
     "output_type": "stream",
     "text": [
      "1: lo: <LOOPBACK,UP,LOWER_UP> mtu 65536 qdisc noqueue state UNKNOWN group default qlen 1000\n",
      "    link/loopback 00:00:00:00:00:00 brd 00:00:00:00:00:00\n",
      "    inet 127.0.0.1/8 scope host lo\n",
      "       valid_lft forever preferred_lft forever\n",
      "    inet6 ::1/128 scope host \n",
      "       valid_lft forever preferred_lft forever\n",
      "2: ens3: <BROADCAST,MULTICAST,UP,LOWER_UP> mtu 9000 qdisc fq_codel state UP group default qlen 1000\n",
      "    link/ether fa:16:3e:99:f9:4b brd ff:ff:ff:ff:ff:ff\n",
      "    inet 10.20.4.189/24 brd 10.20.4.255 scope global dynamic ens3\n",
      "       valid_lft 85987sec preferred_lft 85987sec\n",
      "    inet6 2001:400:a100:3030:f816:3eff:fe99:f94b/64 scope global dynamic mngtmpaddr noprefixroute \n",
      "       valid_lft 86368sec preferred_lft 14368sec\n",
      "    inet6 fe80::f816:3eff:fe99:f94b/64 scope link \n",
      "       valid_lft forever preferred_lft forever\n",
      "3: ens7: <BROADCAST,MULTICAST> mtu 1500 qdisc noop state DOWN group default qlen 1000\n",
      "    link/ether 04:3f:72:cb:03:8a brd ff:ff:ff:ff:ff:ff\n",
      "4: ens8: <BROADCAST,MULTICAST> mtu 1500 qdisc noop state DOWN group default qlen 1000\n",
      "    link/ether 04:3f:72:cb:03:8b brd ff:ff:ff:ff:ff:ff\n",
      "\n",
      "\n"
     ]
    }
   ],
   "source": [
    "stdin, stdout, stderr = client2.exec_command('ip a')\n",
    "print(stdout.read().decode(\"utf-8\"))\n",
    "print(stderr.read().decode(\"utf-8\"))"
   ]
  },
  {
   "cell_type": "code",
   "execution_count": 363,
   "metadata": {},
   "outputs": [
    {
     "name": "stdout",
     "output_type": "stream",
     "text": [
      "1: lo: <LOOPBACK,UP,LOWER_UP> mtu 65536 qdisc noqueue state UNKNOWN group default qlen 1000\n",
      "    link/loopback 00:00:00:00:00:00 brd 00:00:00:00:00:00\n",
      "    inet 127.0.0.1/8 scope host lo\n",
      "       valid_lft forever preferred_lft forever\n",
      "    inet6 ::1/128 scope host \n",
      "       valid_lft forever preferred_lft forever\n",
      "2: ens3: <BROADCAST,MULTICAST,UP,LOWER_UP> mtu 9000 qdisc fq_codel state UP group default qlen 1000\n",
      "    link/ether fa:16:3e:d1:fc:7b brd ff:ff:ff:ff:ff:ff\n",
      "    inet 10.20.4.236/24 brd 10.20.4.255 scope global dynamic ens3\n",
      "       valid_lft 86010sec preferred_lft 86010sec\n",
      "    inet6 2001:1948:417:7:f816:3eff:fed1:fc7b/64 scope global dynamic mngtmpaddr noprefixroute \n",
      "       valid_lft 86371sec preferred_lft 14371sec\n",
      "    inet6 fe80::f816:3eff:fed1:fc7b/64 scope link \n",
      "       valid_lft forever preferred_lft forever\n",
      "3: ens7: <BROADCAST,MULTICAST> mtu 1500 qdisc noop state DOWN group default qlen 1000\n",
      "    link/ether 04:3f:72:fa:75:88 brd ff:ff:ff:ff:ff:ff\n",
      "4: ens8: <BROADCAST,MULTICAST> mtu 1500 qdisc noop state DOWN group default qlen 1000\n",
      "    link/ether 04:3f:72:fa:75:89 brd ff:ff:ff:ff:ff:ff\n",
      "\n",
      "\n"
     ]
    }
   ],
   "source": [
    "stdin, stdout, stderr = client3.exec_command('ip a')\n",
    "print(stdout.read().decode(\"utf-8\"))\n",
    "print(stderr.read().decode(\"utf-8\"))"
   ]
  },
  {
   "cell_type": "markdown",
   "metadata": {},
   "source": [
    "### All nodes have two network interfaces."
   ]
  },
  {
   "cell_type": "markdown",
   "metadata": {},
   "source": [
    "### Now, we need to remember that we have requested that\n",
    "\n",
    "- `n1`'s first port (`ens8`) and `n2`'s first port (`ens7`) are in the same vlan which is tagged `200`\n",
    "- `n2`'s second port (`ens8`) and `n3`'s first port (`ens7`) are in the same vlan which is tagged `201`"
   ]
  },
  {
   "cell_type": "markdown",
   "metadata": {},
   "source": [
    "<hr>"
   ]
  },
  {
   "cell_type": "markdown",
   "metadata": {},
   "source": [
    "### Now let's configure our interfaces."
   ]
  },
  {
   "cell_type": "markdown",
   "metadata": {},
   "source": [
    "### Let's begin by configuring `n1`'s NIC."
   ]
  },
  {
   "cell_type": "code",
   "execution_count": 368,
   "metadata": {},
   "outputs": [
    {
     "name": "stdout",
     "output_type": "stream",
     "text": [
      "\n",
      "\n"
     ]
    }
   ],
   "source": [
    "stdin, stdout, stderr = client1.exec_command('sudo ip link add link ens7 name ens7.200 type vlan id 200')\n",
    "print(stdout.read().decode(\"utf-8\"))\n",
    "print(stderr.read().decode(\"utf-8\"))"
   ]
  },
  {
   "cell_type": "code",
   "execution_count": 369,
   "metadata": {},
   "outputs": [
    {
     "name": "stdout",
     "output_type": "stream",
     "text": [
      "\n",
      "\n"
     ]
    }
   ],
   "source": [
    "stdin, stdout, stderr = client1.exec_command('sudo ip link set dev ens7 up')\n",
    "print(stdout.read().decode(\"utf-8\"))\n",
    "print(stderr.read().decode(\"utf-8\"))"
   ]
  },
  {
   "cell_type": "code",
   "execution_count": 370,
   "metadata": {},
   "outputs": [
    {
     "name": "stdout",
     "output_type": "stream",
     "text": [
      "\n",
      "\n"
     ]
    }
   ],
   "source": [
    "stdin, stdout, stderr = client1.exec_command('sudo ip link set dev ens7.200 up')\n",
    "print(stdout.read().decode(\"utf-8\"))\n",
    "print(stderr.read().decode(\"utf-8\"))"
   ]
  },
  {
   "cell_type": "code",
   "execution_count": 372,
   "metadata": {},
   "outputs": [
    {
     "name": "stdout",
     "output_type": "stream",
     "text": [
      "\n",
      "\n"
     ]
    }
   ],
   "source": [
    "stdin, stdout, stderr = client1.exec_command('sudo ip addr add 192.168.10.51/24 dev ens7.200')\n",
    "print(stdout.read().decode(\"utf-8\"))\n",
    "print(stderr.read().decode(\"utf-8\"))"
   ]
  },
  {
   "cell_type": "code",
   "execution_count": 373,
   "metadata": {},
   "outputs": [
    {
     "name": "stdout",
     "output_type": "stream",
     "text": [
      "1: lo: <LOOPBACK,UP,LOWER_UP> mtu 65536 qdisc noqueue state UNKNOWN group default qlen 1000\n",
      "    link/loopback 00:00:00:00:00:00 brd 00:00:00:00:00:00\n",
      "    inet 127.0.0.1/8 scope host lo\n",
      "       valid_lft forever preferred_lft forever\n",
      "    inet6 ::1/128 scope host \n",
      "       valid_lft forever preferred_lft forever\n",
      "2: ens3: <BROADCAST,MULTICAST,UP,LOWER_UP> mtu 9000 qdisc fq_codel state UP group default qlen 1000\n",
      "    link/ether fa:16:3e:c6:ef:18 brd ff:ff:ff:ff:ff:ff\n",
      "    inet 10.20.4.236/24 brd 10.20.4.255 scope global dynamic ens3\n",
      "       valid_lft 85932sec preferred_lft 85932sec\n",
      "    inet6 fe80::f816:3eff:fec6:ef18/64 scope link \n",
      "       valid_lft forever preferred_lft forever\n",
      "3: ens7: <BROADCAST,MULTICAST,UP,LOWER_UP> mtu 1500 qdisc mq state UP group default qlen 1000\n",
      "    link/ether 04:3f:72:fe:a6:70 brd ff:ff:ff:ff:ff:ff\n",
      "    inet6 fe80::63f:72ff:fefe:a670/64 scope link \n",
      "       valid_lft forever preferred_lft forever\n",
      "4: ens8: <BROADCAST,MULTICAST,UP,LOWER_UP> mtu 1500 qdisc mq state UP group default qlen 1000\n",
      "    link/ether 04:3f:72:fe:a6:71 brd ff:ff:ff:ff:ff:ff\n",
      "    inet6 fe80::63f:72ff:fefe:a671/64 scope link \n",
      "       valid_lft forever preferred_lft forever\n",
      "6: ens7.200@ens7: <BROADCAST,MULTICAST,UP,LOWER_UP> mtu 1500 qdisc noqueue state UP group default qlen 1000\n",
      "    link/ether 04:3f:72:fe:a6:70 brd ff:ff:ff:ff:ff:ff\n",
      "    inet 192.168.10.51/24 scope global ens7.200\n",
      "       valid_lft forever preferred_lft forever\n",
      "    inet6 fe80::63f:72ff:fefe:a670/64 scope link \n",
      "       valid_lft forever preferred_lft forever\n",
      "\n",
      "\n"
     ]
    }
   ],
   "source": [
    "stdin, stdout, stderr = client1.exec_command('ip a')\n",
    "print(stdout.read().decode(\"utf-8\"))\n",
    "print(stderr.read().decode(\"utf-8\"))"
   ]
  },
  {
   "cell_type": "markdown",
   "metadata": {},
   "source": [
    "<hr>"
   ]
  },
  {
   "cell_type": "markdown",
   "metadata": {},
   "source": [
    "### Now let's configure `n2`'s NIC.\n",
    "\n",
    "<!-- ### We need to add a new interface that picks traffic tagged `200` (as we specified when we were creating the slice).\n",
    "\n",
    "### We are going to create two \"vlan\" interfaces called `ens7.200` and `ens8.200`. They are going to pick traffic tagged `200` from their corresponding interfaces (`ens7` and `ens8` respectively).\n",
    "\n",
    "### And then we will assign IP addresses to `ens7.200` and `ens8.200`. -->"
   ]
  },
  {
   "cell_type": "code",
   "execution_count": 374,
   "metadata": {},
   "outputs": [
    {
     "name": "stdout",
     "output_type": "stream",
     "text": [
      "\n",
      "\n"
     ]
    }
   ],
   "source": [
    "stdin, stdout, stderr = client2.exec_command('sudo ip link add link ens7 name ens7.200 type vlan id 200')\n",
    "print(stdout.read().decode(\"utf-8\"))\n",
    "print(stderr.read().decode(\"utf-8\"))"
   ]
  },
  {
   "cell_type": "code",
   "execution_count": 375,
   "metadata": {},
   "outputs": [
    {
     "name": "stdout",
     "output_type": "stream",
     "text": [
      "\n",
      "\n"
     ]
    }
   ],
   "source": [
    "stdin, stdout, stderr = client2.exec_command('sudo ip link set dev ens7 up')\n",
    "print(stdout.read().decode(\"utf-8\"))\n",
    "print(stderr.read().decode(\"utf-8\"))"
   ]
  },
  {
   "cell_type": "code",
   "execution_count": 376,
   "metadata": {},
   "outputs": [
    {
     "name": "stdout",
     "output_type": "stream",
     "text": [
      "\n",
      "\n"
     ]
    }
   ],
   "source": [
    "stdin, stdout, stderr = client2.exec_command('sudo ip link set dev ens7.200 up')\n",
    "print(stdout.read().decode(\"utf-8\"))\n",
    "print(stderr.read().decode(\"utf-8\"))"
   ]
  },
  {
   "cell_type": "code",
   "execution_count": 377,
   "metadata": {},
   "outputs": [
    {
     "name": "stdout",
     "output_type": "stream",
     "text": [
      "\n",
      "\n"
     ]
    }
   ],
   "source": [
    "stdin, stdout, stderr = client2.exec_command('sudo ip addr add 192.168.10.52/24 dev ens7.200')\n",
    "print(stdout.read().decode(\"utf-8\"))\n",
    "print(stderr.read().decode(\"utf-8\"))"
   ]
  },
  {
   "cell_type": "code",
   "execution_count": 378,
   "metadata": {},
   "outputs": [
    {
     "name": "stdout",
     "output_type": "stream",
     "text": [
      "1: lo: <LOOPBACK,UP,LOWER_UP> mtu 65536 qdisc noqueue state UNKNOWN group default qlen 1000\n",
      "    link/loopback 00:00:00:00:00:00 brd 00:00:00:00:00:00\n",
      "    inet 127.0.0.1/8 scope host lo\n",
      "       valid_lft forever preferred_lft forever\n",
      "    inet6 ::1/128 scope host \n",
      "       valid_lft forever preferred_lft forever\n",
      "2: ens3: <BROADCAST,MULTICAST,UP,LOWER_UP> mtu 9000 qdisc fq_codel state UP group default qlen 1000\n",
      "    link/ether fa:16:3e:99:f9:4b brd ff:ff:ff:ff:ff:ff\n",
      "    inet 10.20.4.189/24 brd 10.20.4.255 scope global dynamic ens3\n",
      "       valid_lft 85934sec preferred_lft 85934sec\n",
      "    inet6 2001:400:a100:3030:f816:3eff:fe99:f94b/64 scope global dynamic mngtmpaddr noprefixroute \n",
      "       valid_lft 86365sec preferred_lft 14365sec\n",
      "    inet6 fe80::f816:3eff:fe99:f94b/64 scope link \n",
      "       valid_lft forever preferred_lft forever\n",
      "3: ens7: <BROADCAST,MULTICAST,UP,LOWER_UP> mtu 1500 qdisc mq state UP group default qlen 1000\n",
      "    link/ether 04:3f:72:cb:03:8a brd ff:ff:ff:ff:ff:ff\n",
      "    inet6 fe80::63f:72ff:fecb:38a/64 scope link \n",
      "       valid_lft forever preferred_lft forever\n",
      "4: ens8: <BROADCAST,MULTICAST> mtu 1500 qdisc noop state DOWN group default qlen 1000\n",
      "    link/ether 04:3f:72:cb:03:8b brd ff:ff:ff:ff:ff:ff\n",
      "5: ens7.200@ens7: <BROADCAST,MULTICAST,UP,LOWER_UP> mtu 1500 qdisc noqueue state UP group default qlen 1000\n",
      "    link/ether 04:3f:72:cb:03:8a brd ff:ff:ff:ff:ff:ff\n",
      "    inet 192.168.10.52/24 scope global ens7.200\n",
      "       valid_lft forever preferred_lft forever\n",
      "    inet6 fe80::63f:72ff:fecb:38a/64 scope link \n",
      "       valid_lft forever preferred_lft forever\n",
      "\n",
      "\n"
     ]
    }
   ],
   "source": [
    "stdin, stdout, stderr = client2.exec_command('ip a')\n",
    "print(stdout.read().decode(\"utf-8\"))\n",
    "print(stderr.read().decode(\"utf-8\"))"
   ]
  },
  {
   "cell_type": "markdown",
   "metadata": {},
   "source": [
    "<hr>"
   ]
  },
  {
   "cell_type": "code",
   "execution_count": 379,
   "metadata": {},
   "outputs": [
    {
     "name": "stdout",
     "output_type": "stream",
     "text": [
      "\n",
      "\n"
     ]
    }
   ],
   "source": [
    "stdin, stdout, stderr = client2.exec_command('sudo ip link add link ens8 name ens8.200 type vlan id 200')\n",
    "print(stdout.read().decode(\"utf-8\"))\n",
    "print(stderr.read().decode(\"utf-8\"))"
   ]
  },
  {
   "cell_type": "code",
   "execution_count": 380,
   "metadata": {},
   "outputs": [
    {
     "name": "stdout",
     "output_type": "stream",
     "text": [
      "\n",
      "\n"
     ]
    }
   ],
   "source": [
    "stdin, stdout, stderr = client2.exec_command('sudo ip link set dev ens8 up')\n",
    "print(stdout.read().decode(\"utf-8\"))\n",
    "print(stderr.read().decode(\"utf-8\"))"
   ]
  },
  {
   "cell_type": "code",
   "execution_count": 381,
   "metadata": {},
   "outputs": [
    {
     "name": "stdout",
     "output_type": "stream",
     "text": [
      "\n",
      "\n"
     ]
    }
   ],
   "source": [
    "stdin, stdout, stderr = client2.exec_command('sudo ip link set dev ens8.200 up')\n",
    "print(stdout.read().decode(\"utf-8\"))\n",
    "print(stderr.read().decode(\"utf-8\"))"
   ]
  },
  {
   "cell_type": "code",
   "execution_count": 382,
   "metadata": {},
   "outputs": [
    {
     "name": "stdout",
     "output_type": "stream",
     "text": [
      "\n",
      "\n"
     ]
    }
   ],
   "source": [
    "stdin, stdout, stderr = client2.exec_command('sudo ip addr add 192.168.20.52/24 dev ens8.200')\n",
    "print(stdout.read().decode(\"utf-8\"))\n",
    "print(stderr.read().decode(\"utf-8\"))"
   ]
  },
  {
   "cell_type": "code",
   "execution_count": 383,
   "metadata": {},
   "outputs": [
    {
     "name": "stdout",
     "output_type": "stream",
     "text": [
      "1: lo: <LOOPBACK,UP,LOWER_UP> mtu 65536 qdisc noqueue state UNKNOWN group default qlen 1000\n",
      "    link/loopback 00:00:00:00:00:00 brd 00:00:00:00:00:00\n",
      "    inet 127.0.0.1/8 scope host lo\n",
      "       valid_lft forever preferred_lft forever\n",
      "    inet6 ::1/128 scope host \n",
      "       valid_lft forever preferred_lft forever\n",
      "2: ens3: <BROADCAST,MULTICAST,UP,LOWER_UP> mtu 9000 qdisc fq_codel state UP group default qlen 1000\n",
      "    link/ether fa:16:3e:99:f9:4b brd ff:ff:ff:ff:ff:ff\n",
      "    inet 10.20.4.189/24 brd 10.20.4.255 scope global dynamic ens3\n",
      "       valid_lft 85926sec preferred_lft 85926sec\n",
      "    inet6 2001:400:a100:3030:f816:3eff:fe99:f94b/64 scope global dynamic mngtmpaddr noprefixroute \n",
      "       valid_lft 86358sec preferred_lft 14358sec\n",
      "    inet6 fe80::f816:3eff:fe99:f94b/64 scope link \n",
      "       valid_lft forever preferred_lft forever\n",
      "3: ens7: <BROADCAST,MULTICAST,UP,LOWER_UP> mtu 1500 qdisc mq state UP group default qlen 1000\n",
      "    link/ether 04:3f:72:cb:03:8a brd ff:ff:ff:ff:ff:ff\n",
      "    inet6 fe80::63f:72ff:fecb:38a/64 scope link \n",
      "       valid_lft forever preferred_lft forever\n",
      "4: ens8: <BROADCAST,MULTICAST,UP,LOWER_UP> mtu 1500 qdisc mq state UP group default qlen 1000\n",
      "    link/ether 04:3f:72:cb:03:8b brd ff:ff:ff:ff:ff:ff\n",
      "    inet6 fe80::63f:72ff:fecb:38b/64 scope link \n",
      "       valid_lft forever preferred_lft forever\n",
      "5: ens7.200@ens7: <BROADCAST,MULTICAST,UP,LOWER_UP> mtu 1500 qdisc noqueue state UP group default qlen 1000\n",
      "    link/ether 04:3f:72:cb:03:8a brd ff:ff:ff:ff:ff:ff\n",
      "    inet 192.168.10.52/24 scope global ens7.200\n",
      "       valid_lft forever preferred_lft forever\n",
      "    inet6 fe80::63f:72ff:fecb:38a/64 scope link \n",
      "       valid_lft forever preferred_lft forever\n",
      "6: ens8.200@ens8: <BROADCAST,MULTICAST,UP,LOWER_UP> mtu 1500 qdisc noqueue state UP group default qlen 1000\n",
      "    link/ether 04:3f:72:cb:03:8b brd ff:ff:ff:ff:ff:ff\n",
      "    inet 192.168.20.52/24 scope global ens8.200\n",
      "       valid_lft forever preferred_lft forever\n",
      "    inet6 fe80::63f:72ff:fecb:38b/64 scope link \n",
      "       valid_lft forever preferred_lft forever\n",
      "\n",
      "\n"
     ]
    }
   ],
   "source": [
    "stdin, stdout, stderr = client2.exec_command('ip a')\n",
    "print(stdout.read().decode(\"utf-8\"))\n",
    "print(stderr.read().decode(\"utf-8\"))"
   ]
  },
  {
   "cell_type": "markdown",
   "metadata": {},
   "source": [
    "<hr>"
   ]
  },
  {
   "cell_type": "markdown",
   "metadata": {},
   "source": [
    "### And finally, let's configure `n3`'s NICs."
   ]
  },
  {
   "cell_type": "code",
   "execution_count": 384,
   "metadata": {},
   "outputs": [
    {
     "name": "stdout",
     "output_type": "stream",
     "text": [
      "\n",
      "\n"
     ]
    }
   ],
   "source": [
    "stdin, stdout, stderr = client3.exec_command('sudo ip link add link ens7 name ens7.200 type vlan id 200')\n",
    "print(stdout.read().decode(\"utf-8\"))\n",
    "print(stderr.read().decode(\"utf-8\"))"
   ]
  },
  {
   "cell_type": "code",
   "execution_count": 385,
   "metadata": {},
   "outputs": [
    {
     "name": "stdout",
     "output_type": "stream",
     "text": [
      "\n",
      "\n"
     ]
    }
   ],
   "source": [
    "stdin, stdout, stderr = client3.exec_command('sudo ip link set dev ens7 up')\n",
    "print(stdout.read().decode(\"utf-8\"))\n",
    "print(stderr.read().decode(\"utf-8\"))"
   ]
  },
  {
   "cell_type": "code",
   "execution_count": 386,
   "metadata": {},
   "outputs": [
    {
     "name": "stdout",
     "output_type": "stream",
     "text": [
      "\n",
      "\n"
     ]
    }
   ],
   "source": [
    "stdin, stdout, stderr = client3.exec_command('sudo ip link set dev ens7.200 up')\n",
    "print(stdout.read().decode(\"utf-8\"))\n",
    "print(stderr.read().decode(\"utf-8\"))"
   ]
  },
  {
   "cell_type": "code",
   "execution_count": 387,
   "metadata": {},
   "outputs": [
    {
     "name": "stdout",
     "output_type": "stream",
     "text": [
      "\n",
      "\n"
     ]
    }
   ],
   "source": [
    "stdin, stdout, stderr = client3.exec_command('sudo ip addr add 192.168.20.53/24 dev ens7.200')\n",
    "print(stdout.read().decode(\"utf-8\"))\n",
    "print(stderr.read().decode(\"utf-8\"))"
   ]
  },
  {
   "cell_type": "code",
   "execution_count": 388,
   "metadata": {},
   "outputs": [
    {
     "name": "stdout",
     "output_type": "stream",
     "text": [
      "1: lo: <LOOPBACK,UP,LOWER_UP> mtu 65536 qdisc noqueue state UNKNOWN group default qlen 1000\n",
      "    link/loopback 00:00:00:00:00:00 brd 00:00:00:00:00:00\n",
      "    inet 127.0.0.1/8 scope host lo\n",
      "       valid_lft forever preferred_lft forever\n",
      "    inet6 ::1/128 scope host \n",
      "       valid_lft forever preferred_lft forever\n",
      "2: ens3: <BROADCAST,MULTICAST,UP,LOWER_UP> mtu 9000 qdisc fq_codel state UP group default qlen 1000\n",
      "    link/ether fa:16:3e:d1:fc:7b brd ff:ff:ff:ff:ff:ff\n",
      "    inet 10.20.4.236/24 brd 10.20.4.255 scope global dynamic ens3\n",
      "       valid_lft 85944sec preferred_lft 85944sec\n",
      "    inet6 2001:1948:417:7:f816:3eff:fed1:fc7b/64 scope global dynamic mngtmpaddr noprefixroute \n",
      "       valid_lft 86387sec preferred_lft 14387sec\n",
      "    inet6 fe80::f816:3eff:fed1:fc7b/64 scope link \n",
      "       valid_lft forever preferred_lft forever\n",
      "3: ens7: <BROADCAST,MULTICAST,UP,LOWER_UP> mtu 1500 qdisc mq state UP group default qlen 1000\n",
      "    link/ether 04:3f:72:fa:75:88 brd ff:ff:ff:ff:ff:ff\n",
      "    inet6 fe80::63f:72ff:fefa:7588/64 scope link \n",
      "       valid_lft forever preferred_lft forever\n",
      "4: ens8: <BROADCAST,MULTICAST> mtu 1500 qdisc noop state DOWN group default qlen 1000\n",
      "    link/ether 04:3f:72:fa:75:89 brd ff:ff:ff:ff:ff:ff\n",
      "5: ens7.200@ens7: <BROADCAST,MULTICAST,UP,LOWER_UP> mtu 1500 qdisc noqueue state UP group default qlen 1000\n",
      "    link/ether 04:3f:72:fa:75:88 brd ff:ff:ff:ff:ff:ff\n",
      "    inet 192.168.20.53/24 scope global ens7.200\n",
      "       valid_lft forever preferred_lft forever\n",
      "    inet6 fe80::63f:72ff:fefa:7588/64 scope link \n",
      "       valid_lft forever preferred_lft forever\n",
      "\n",
      "\n"
     ]
    }
   ],
   "source": [
    "stdin, stdout, stderr = client3.exec_command('ip a')\n",
    "print(stdout.read().decode(\"utf-8\"))\n",
    "print(stderr.read().decode(\"utf-8\"))"
   ]
  },
  {
   "cell_type": "markdown",
   "metadata": {},
   "source": [
    "<hr>"
   ]
  },
  {
   "cell_type": "markdown",
   "metadata": {},
   "source": [
    "### Now let's ping"
   ]
  },
  {
   "cell_type": "code",
   "execution_count": 389,
   "metadata": {},
   "outputs": [
    {
     "name": "stdout",
     "output_type": "stream",
     "text": [
      "PING 192.168.10.52 (192.168.10.52) 56(84) bytes of data.\n",
      "64 bytes from 192.168.10.52: icmp_seq=1 ttl=64 time=30.4 ms\n",
      "64 bytes from 192.168.10.52: icmp_seq=2 ttl=64 time=15.2 ms\n",
      "64 bytes from 192.168.10.52: icmp_seq=3 ttl=64 time=15.1 ms\n",
      "64 bytes from 192.168.10.52: icmp_seq=4 ttl=64 time=15.3 ms\n",
      "64 bytes from 192.168.10.52: icmp_seq=5 ttl=64 time=15.1 ms\n",
      "\n",
      "--- 192.168.10.52 ping statistics ---\n",
      "5 packets transmitted, 5 received, 0% packet loss, time 4005ms\n",
      "rtt min/avg/max/mdev = 15.103/18.214/30.420/6.102 ms\n",
      "\n",
      "\n"
     ]
    }
   ],
   "source": [
    "stdin, stdout, stderr = client1.exec_command('ping -c 5 192.168.10.52')\n",
    "print(stdout.read().decode(\"utf-8\"))\n",
    "print(stderr.read().decode(\"utf-8\"))"
   ]
  },
  {
   "cell_type": "code",
   "execution_count": 390,
   "metadata": {},
   "outputs": [
    {
     "name": "stdout",
     "output_type": "stream",
     "text": [
      "PING 192.168.20.52 (192.168.20.52) 56(84) bytes of data.\n",
      "\n",
      "--- 192.168.20.52 ping statistics ---\n",
      "5 packets transmitted, 0 received, 100% packet loss, time 4075ms\n",
      "\n",
      "\n",
      "\n"
     ]
    }
   ],
   "source": [
    "stdin, stdout, stderr = client1.exec_command('ping -c 5 192.168.20.52')\n",
    "print(stdout.read().decode(\"utf-8\"))\n",
    "print(stderr.read().decode(\"utf-8\"))"
   ]
  },
  {
   "cell_type": "code",
   "execution_count": 391,
   "metadata": {},
   "outputs": [
    {
     "name": "stdout",
     "output_type": "stream",
     "text": [
      "PING 192.168.20.53 (192.168.20.53) 56(84) bytes of data.\n",
      "\n",
      "--- 192.168.20.53 ping statistics ---\n",
      "5 packets transmitted, 0 received, 100% packet loss, time 4094ms\n",
      "\n",
      "\n",
      "\n"
     ]
    }
   ],
   "source": [
    "stdin, stdout, stderr = client1.exec_command('ping -c 5 192.168.20.53')\n",
    "print(stdout.read().decode(\"utf-8\"))\n",
    "print(stderr.read().decode(\"utf-8\"))"
   ]
  },
  {
   "cell_type": "markdown",
   "metadata": {},
   "source": [
    "### We can see above that client1 is able to talk to client2's first port only."
   ]
  },
  {
   "cell_type": "code",
   "execution_count": 392,
   "metadata": {},
   "outputs": [
    {
     "name": "stdout",
     "output_type": "stream",
     "text": [
      "PING 192.168.10.51 (192.168.10.51) 56(84) bytes of data.\n",
      "64 bytes from 192.168.10.51: icmp_seq=1 ttl=64 time=15.2 ms\n",
      "64 bytes from 192.168.10.51: icmp_seq=2 ttl=64 time=15.1 ms\n",
      "64 bytes from 192.168.10.51: icmp_seq=3 ttl=64 time=15.1 ms\n",
      "64 bytes from 192.168.10.51: icmp_seq=4 ttl=64 time=15.1 ms\n",
      "64 bytes from 192.168.10.51: icmp_seq=5 ttl=64 time=15.1 ms\n",
      "\n",
      "--- 192.168.10.51 ping statistics ---\n",
      "5 packets transmitted, 5 received, 0% packet loss, time 4005ms\n",
      "rtt min/avg/max/mdev = 15.095/15.134/15.221/0.045 ms\n",
      "\n",
      "\n"
     ]
    }
   ],
   "source": [
    "stdin, stdout, stderr = client2.exec_command('ping -c 5 192.168.10.51')\n",
    "print(stdout.read().decode(\"utf-8\"))\n",
    "print(stderr.read().decode(\"utf-8\"))"
   ]
  },
  {
   "cell_type": "code",
   "execution_count": 393,
   "metadata": {},
   "outputs": [
    {
     "name": "stdout",
     "output_type": "stream",
     "text": [
      "PING 192.168.20.53 (192.168.20.53) 56(84) bytes of data.\n",
      "64 bytes from 192.168.20.53: icmp_seq=1 ttl=64 time=65.2 ms\n",
      "64 bytes from 192.168.20.53: icmp_seq=2 ttl=64 time=32.5 ms\n",
      "64 bytes from 192.168.20.53: icmp_seq=3 ttl=64 time=32.5 ms\n",
      "64 bytes from 192.168.20.53: icmp_seq=4 ttl=64 time=32.5 ms\n",
      "64 bytes from 192.168.20.53: icmp_seq=5 ttl=64 time=32.5 ms\n",
      "\n",
      "--- 192.168.20.53 ping statistics ---\n",
      "5 packets transmitted, 5 received, 0% packet loss, time 4006ms\n",
      "rtt min/avg/max/mdev = 32.459/39.009/65.168/13.079 ms\n",
      "\n",
      "\n"
     ]
    }
   ],
   "source": [
    "stdin, stdout, stderr = client2.exec_command('ping -c 5 192.168.20.53')\n",
    "print(stdout.read().decode(\"utf-8\"))\n",
    "print(stderr.read().decode(\"utf-8\"))"
   ]
  },
  {
   "cell_type": "markdown",
   "metadata": {},
   "source": [
    "### We can see above that client2 can talk to client1's port and client3's port."
   ]
  },
  {
   "cell_type": "code",
   "execution_count": 394,
   "metadata": {},
   "outputs": [
    {
     "name": "stdout",
     "output_type": "stream",
     "text": [
      "PING 192.168.20.52 (192.168.20.52) 56(84) bytes of data.\n",
      "64 bytes from 192.168.20.52: icmp_seq=1 ttl=64 time=32.5 ms\n",
      "64 bytes from 192.168.20.52: icmp_seq=2 ttl=64 time=32.5 ms\n",
      "64 bytes from 192.168.20.52: icmp_seq=3 ttl=64 time=32.5 ms\n",
      "64 bytes from 192.168.20.52: icmp_seq=4 ttl=64 time=32.5 ms\n",
      "64 bytes from 192.168.20.52: icmp_seq=5 ttl=64 time=32.5 ms\n",
      "\n",
      "--- 192.168.20.52 ping statistics ---\n",
      "5 packets transmitted, 5 received, 0% packet loss, time 4006ms\n",
      "rtt min/avg/max/mdev = 32.458/32.472/32.482/0.008 ms\n",
      "\n",
      "\n"
     ]
    }
   ],
   "source": [
    "stdin, stdout, stderr = client3.exec_command('ping -c 5 192.168.20.52')\n",
    "print(stdout.read().decode(\"utf-8\"))\n",
    "print(stderr.read().decode(\"utf-8\"))"
   ]
  },
  {
   "cell_type": "code",
   "execution_count": 395,
   "metadata": {},
   "outputs": [
    {
     "name": "stdout",
     "output_type": "stream",
     "text": [
      "PING 192.168.10.52 (192.168.10.52) 56(84) bytes of data.\n",
      "From 10.20.4.236 icmp_seq=1 Destination Host Unreachable\n",
      "From 10.20.4.236 icmp_seq=2 Destination Host Unreachable\n",
      "From 10.20.4.236 icmp_seq=3 Destination Host Unreachable\n",
      "From 10.20.4.236 icmp_seq=4 Destination Host Unreachable\n",
      "From 10.20.4.236 icmp_seq=5 Destination Host Unreachable\n",
      "\n",
      "--- 192.168.10.52 ping statistics ---\n",
      "5 packets transmitted, 0 received, +5 errors, 100% packet loss, time 4055ms\n",
      "pipe 3\n",
      "\n",
      "\n"
     ]
    }
   ],
   "source": [
    "stdin, stdout, stderr = client3.exec_command('ping -c 5 192.168.10.52')\n",
    "print(stdout.read().decode(\"utf-8\"))\n",
    "print(stderr.read().decode(\"utf-8\"))"
   ]
  },
  {
   "cell_type": "code",
   "execution_count": 396,
   "metadata": {},
   "outputs": [
    {
     "name": "stdout",
     "output_type": "stream",
     "text": [
      "PING 192.168.10.51 (192.168.10.51) 56(84) bytes of data.\n",
      "From 10.20.4.236 icmp_seq=1 Destination Host Unreachable\n",
      "From 10.20.4.236 icmp_seq=2 Destination Host Unreachable\n",
      "From 10.20.4.236 icmp_seq=3 Destination Host Unreachable\n",
      "From 10.20.4.236 icmp_seq=4 Destination Host Unreachable\n",
      "From 10.20.4.236 icmp_seq=5 Destination Host Unreachable\n",
      "\n",
      "--- 192.168.10.51 ping statistics ---\n",
      "5 packets transmitted, 0 received, +5 errors, 100% packet loss, time 4092ms\n",
      "pipe 3\n",
      "\n",
      "\n"
     ]
    }
   ],
   "source": [
    "stdin, stdout, stderr = client3.exec_command('ping -c 5 192.168.10.51')\n",
    "print(stdout.read().decode(\"utf-8\"))\n",
    "print(stderr.read().decode(\"utf-8\"))"
   ]
  },
  {
   "cell_type": "markdown",
   "metadata": {},
   "source": [
    "### We can see above that client3 can only talk to client2's second port."
   ]
  },
  {
   "cell_type": "markdown",
   "metadata": {},
   "source": [
    "<hr>"
   ]
  },
  {
   "cell_type": "markdown",
   "metadata": {},
   "source": [
    "### Next, we'll let node 2 act as a router between nodes 1 and 3. This will let nodes 1 and 3 be able to reach each other through node 2."
   ]
  },
  {
   "cell_type": "markdown",
   "metadata": {},
   "source": [
    "### We need to:\n",
    "- let nodes 1 and 3 route packets through the interfaces of the ports that we've already configured.\n",
    "- let node 2 forward packets."
   ]
  },
  {
   "cell_type": "code",
   "execution_count": 397,
   "metadata": {},
   "outputs": [
    {
     "name": "stdout",
     "output_type": "stream",
     "text": [
      "\n",
      "\n"
     ]
    }
   ],
   "source": [
    "stdin, stdout, stderr = client1.exec_command('sudo ip route add 192.168.20.0/24 via 192.168.10.52')\n",
    "print(stdout.read().decode(\"utf-8\"))\n",
    "print(stderr.read().decode(\"utf-8\"))"
   ]
  },
  {
   "cell_type": "code",
   "execution_count": 398,
   "metadata": {},
   "outputs": [
    {
     "name": "stdout",
     "output_type": "stream",
     "text": [
      "\n",
      "\n"
     ]
    }
   ],
   "source": [
    "stdin, stdout, stderr = client3.exec_command('sudo ip route add 192.168.10.0/24 via 192.168.20.52')\n",
    "print(stdout.read().decode(\"utf-8\"))\n",
    "print(stderr.read().decode(\"utf-8\"))"
   ]
  },
  {
   "cell_type": "code",
   "execution_count": 399,
   "metadata": {},
   "outputs": [
    {
     "name": "stdout",
     "output_type": "stream",
     "text": [
      "net.ipv4.ip_forward = 1\n",
      "\n",
      "\n"
     ]
    }
   ],
   "source": [
    "stdin, stdout, stderr = client2.exec_command('sudo sysctl -w net.ipv4.ip_forward=1')\n",
    "print(stdout.read().decode(\"utf-8\"))\n",
    "print(stderr.read().decode(\"utf-8\"))"
   ]
  },
  {
   "cell_type": "markdown",
   "metadata": {},
   "source": [
    "<hr>"
   ]
  },
  {
   "cell_type": "markdown",
   "metadata": {},
   "source": [
    "### Now let's ping again."
   ]
  },
  {
   "cell_type": "code",
   "execution_count": 400,
   "metadata": {},
   "outputs": [
    {
     "name": "stdout",
     "output_type": "stream",
     "text": [
      "PING 192.168.10.52 (192.168.10.52) 56(84) bytes of data.\n",
      "64 bytes from 192.168.10.52: icmp_seq=1 ttl=64 time=15.2 ms\n",
      "64 bytes from 192.168.10.52: icmp_seq=2 ttl=64 time=15.1 ms\n",
      "64 bytes from 192.168.10.52: icmp_seq=3 ttl=64 time=15.1 ms\n",
      "64 bytes from 192.168.10.52: icmp_seq=4 ttl=64 time=15.2 ms\n",
      "64 bytes from 192.168.10.52: icmp_seq=5 ttl=64 time=15.1 ms\n",
      "\n",
      "--- 192.168.10.52 ping statistics ---\n",
      "5 packets transmitted, 5 received, 0% packet loss, time 4005ms\n",
      "rtt min/avg/max/mdev = 15.091/15.144/15.214/0.048 ms\n",
      "\n",
      "\n"
     ]
    }
   ],
   "source": [
    "stdin, stdout, stderr = client1.exec_command('ping -c 5 192.168.10.52')\n",
    "print(stdout.read().decode(\"utf-8\"))\n",
    "print(stderr.read().decode(\"utf-8\"))"
   ]
  },
  {
   "cell_type": "code",
   "execution_count": 401,
   "metadata": {},
   "outputs": [
    {
     "name": "stdout",
     "output_type": "stream",
     "text": [
      "PING 192.168.20.52 (192.168.20.52) 56(84) bytes of data.\n",
      "64 bytes from 192.168.20.52: icmp_seq=1 ttl=64 time=15.1 ms\n",
      "64 bytes from 192.168.20.52: icmp_seq=2 ttl=64 time=15.1 ms\n",
      "64 bytes from 192.168.20.52: icmp_seq=3 ttl=64 time=15.1 ms\n",
      "64 bytes from 192.168.20.52: icmp_seq=4 ttl=64 time=15.1 ms\n",
      "64 bytes from 192.168.20.52: icmp_seq=5 ttl=64 time=15.1 ms\n",
      "\n",
      "--- 192.168.20.52 ping statistics ---\n",
      "5 packets transmitted, 5 received, 0% packet loss, time 4005ms\n",
      "rtt min/avg/max/mdev = 15.115/15.124/15.138/0.010 ms\n",
      "\n",
      "\n"
     ]
    }
   ],
   "source": [
    "stdin, stdout, stderr = client1.exec_command('ping -c 5 192.168.20.52')\n",
    "print(stdout.read().decode(\"utf-8\"))\n",
    "print(stderr.read().decode(\"utf-8\"))"
   ]
  },
  {
   "cell_type": "code",
   "execution_count": 402,
   "metadata": {},
   "outputs": [
    {
     "name": "stdout",
     "output_type": "stream",
     "text": [
      "PING 192.168.20.53 (192.168.20.53) 56(84) bytes of data.\n",
      "64 bytes from 192.168.20.53: icmp_seq=1 ttl=63 time=47.6 ms\n",
      "64 bytes from 192.168.20.53: icmp_seq=2 ttl=63 time=47.6 ms\n",
      "64 bytes from 192.168.20.53: icmp_seq=3 ttl=63 time=47.6 ms\n",
      "64 bytes from 192.168.20.53: icmp_seq=4 ttl=63 time=47.6 ms\n",
      "64 bytes from 192.168.20.53: icmp_seq=5 ttl=63 time=47.6 ms\n",
      "\n",
      "--- 192.168.20.53 ping statistics ---\n",
      "5 packets transmitted, 5 received, 0% packet loss, time 4007ms\n",
      "rtt min/avg/max/mdev = 47.589/47.603/47.635/0.017 ms\n",
      "\n",
      "\n"
     ]
    }
   ],
   "source": [
    "stdin, stdout, stderr = client1.exec_command('ping -c 5 192.168.20.53')\n",
    "print(stdout.read().decode(\"utf-8\"))\n",
    "print(stderr.read().decode(\"utf-8\"))"
   ]
  },
  {
   "cell_type": "markdown",
   "metadata": {},
   "source": [
    "### We can see that all network interfaces are now reachable."
   ]
  },
  {
   "cell_type": "markdown",
   "metadata": {},
   "source": [
    "### Now let's do a traceroute to see the path that the packets take."
   ]
  },
  {
   "cell_type": "code",
   "execution_count": 403,
   "metadata": {},
   "outputs": [
    {
     "name": "stdout",
     "output_type": "stream",
     "text": [
      "traceroute to 192.168.10.52 (192.168.10.52), 30 hops max, 60 byte packets\n",
      " 1  192.168.10.52 (192.168.10.52)  15.121 ms  15.113 ms  15.131 ms\n",
      "\n",
      "\n"
     ]
    }
   ],
   "source": [
    "stdin, stdout, stderr = client1.exec_command('traceroute 192.168.10.52')\n",
    "print(stdout.read().decode(\"utf-8\"))\n",
    "print(stderr.read().decode(\"utf-8\"))"
   ]
  },
  {
   "cell_type": "code",
   "execution_count": 407,
   "metadata": {},
   "outputs": [
    {
     "name": "stdout",
     "output_type": "stream",
     "text": [
      "traceroute to 192.168.20.52 (192.168.20.52), 30 hops max, 60 byte packets\n",
      " 1  192.168.20.52 (192.168.20.52)  15.119 ms  15.104 ms  15.099 ms\n",
      "\n",
      "\n"
     ]
    }
   ],
   "source": [
    "stdin, stdout, stderr = client1.exec_command('traceroute 192.168.20.52')\n",
    "print(stdout.read().decode(\"utf-8\"))\n",
    "print(stderr.read().decode(\"utf-8\"))"
   ]
  },
  {
   "cell_type": "code",
   "execution_count": 408,
   "metadata": {},
   "outputs": [
    {
     "name": "stdout",
     "output_type": "stream",
     "text": [
      "traceroute to 192.168.20.53 (192.168.20.53), 30 hops max, 60 byte packets\n",
      " 1  192.168.10.52 (192.168.10.52)  15.124 ms  15.105 ms *\n",
      " 2  192.168.20.53 (192.168.20.53)  47.573 ms  47.602 ms  47.562 ms\n",
      "\n",
      "\n"
     ]
    }
   ],
   "source": [
    "stdin, stdout, stderr = client1.exec_command('traceroute 192.168.20.53')\n",
    "print(stdout.read().decode(\"utf-8\"))\n",
    "print(stderr.read().decode(\"utf-8\"))"
   ]
  },
  {
   "cell_type": "markdown",
   "metadata": {},
   "source": [
    "### We can see that the two ports of client 2 are directly reachable, as if they are directly connected."
   ]
  },
  {
   "cell_type": "markdown",
   "metadata": {},
   "source": [
    "### And we can see that client 3 is reachable after one hop through client 2."
   ]
  },
  {
   "cell_type": "markdown",
   "metadata": {},
   "source": [
    "### Now let's look at the rest of the clients."
   ]
  },
  {
   "cell_type": "code",
   "execution_count": 409,
   "metadata": {},
   "outputs": [
    {
     "name": "stdout",
     "output_type": "stream",
     "text": [
      "PING 192.168.10.51 (192.168.10.51) 56(84) bytes of data.\n",
      "64 bytes from 192.168.10.51: icmp_seq=1 ttl=64 time=15.1 ms\n",
      "64 bytes from 192.168.10.51: icmp_seq=2 ttl=64 time=15.1 ms\n",
      "64 bytes from 192.168.10.51: icmp_seq=3 ttl=64 time=15.1 ms\n",
      "64 bytes from 192.168.10.51: icmp_seq=4 ttl=64 time=15.2 ms\n",
      "64 bytes from 192.168.10.51: icmp_seq=5 ttl=64 time=15.1 ms\n",
      "\n",
      "--- 192.168.10.51 ping statistics ---\n",
      "5 packets transmitted, 5 received, 0% packet loss, time 4005ms\n",
      "rtt min/avg/max/mdev = 15.113/15.132/15.179/0.024 ms\n",
      "\n",
      "\n"
     ]
    }
   ],
   "source": [
    "stdin, stdout, stderr = client2.exec_command('ping -c 5 192.168.10.51')\n",
    "print(stdout.read().decode(\"utf-8\"))\n",
    "print(stderr.read().decode(\"utf-8\"))"
   ]
  },
  {
   "cell_type": "code",
   "execution_count": 410,
   "metadata": {},
   "outputs": [
    {
     "name": "stdout",
     "output_type": "stream",
     "text": [
      "PING 192.168.20.53 (192.168.20.53) 56(84) bytes of data.\n",
      "64 bytes from 192.168.20.53: icmp_seq=1 ttl=64 time=32.5 ms\n",
      "64 bytes from 192.168.20.53: icmp_seq=2 ttl=64 time=32.5 ms\n",
      "64 bytes from 192.168.20.53: icmp_seq=3 ttl=64 time=32.5 ms\n",
      "64 bytes from 192.168.20.53: icmp_seq=4 ttl=64 time=32.5 ms\n",
      "64 bytes from 192.168.20.53: icmp_seq=5 ttl=64 time=32.5 ms\n",
      "\n",
      "--- 192.168.20.53 ping statistics ---\n",
      "5 packets transmitted, 5 received, 0% packet loss, time 4006ms\n",
      "rtt min/avg/max/mdev = 32.471/32.479/32.488/0.006 ms\n",
      "\n",
      "\n"
     ]
    }
   ],
   "source": [
    "stdin, stdout, stderr = client2.exec_command('ping -c 5 192.168.20.53')\n",
    "print(stdout.read().decode(\"utf-8\"))\n",
    "print(stderr.read().decode(\"utf-8\"))"
   ]
  },
  {
   "cell_type": "markdown",
   "metadata": {},
   "source": [
    "<hr>"
   ]
  },
  {
   "cell_type": "code",
   "execution_count": 411,
   "metadata": {},
   "outputs": [
    {
     "name": "stdout",
     "output_type": "stream",
     "text": [
      "traceroute to 192.168.10.51 (192.168.10.51), 30 hops max, 60 byte packets\n",
      " 1  192.168.10.51 (192.168.10.51)  15.152 ms  15.123 ms  15.140 ms\n",
      "\n",
      "\n"
     ]
    }
   ],
   "source": [
    "stdin, stdout, stderr = client2.exec_command('traceroute 192.168.10.51')\n",
    "print(stdout.read().decode(\"utf-8\"))\n",
    "print(stderr.read().decode(\"utf-8\"))"
   ]
  },
  {
   "cell_type": "code",
   "execution_count": 412,
   "metadata": {},
   "outputs": [
    {
     "name": "stdout",
     "output_type": "stream",
     "text": [
      "traceroute to 192.168.20.53 (192.168.20.53), 30 hops max, 60 byte packets\n",
      " 1  192.168.20.53 (192.168.20.53)  32.467 ms  32.493 ms  32.447 ms\n",
      "\n",
      "\n"
     ]
    }
   ],
   "source": [
    "stdin, stdout, stderr = client2.exec_command('traceroute 192.168.20.53')\n",
    "print(stdout.read().decode(\"utf-8\"))\n",
    "print(stderr.read().decode(\"utf-8\"))"
   ]
  },
  {
   "cell_type": "markdown",
   "metadata": {},
   "source": [
    "<hr>"
   ]
  },
  {
   "cell_type": "code",
   "execution_count": 413,
   "metadata": {},
   "outputs": [
    {
     "name": "stdout",
     "output_type": "stream",
     "text": [
      "PING 192.168.20.52 (192.168.20.52) 56(84) bytes of data.\n",
      "64 bytes from 192.168.20.52: icmp_seq=1 ttl=64 time=32.5 ms\n",
      "64 bytes from 192.168.20.52: icmp_seq=2 ttl=64 time=32.5 ms\n",
      "64 bytes from 192.168.20.52: icmp_seq=3 ttl=64 time=32.5 ms\n",
      "64 bytes from 192.168.20.52: icmp_seq=4 ttl=64 time=32.5 ms\n",
      "64 bytes from 192.168.20.52: icmp_seq=5 ttl=64 time=32.6 ms\n",
      "\n",
      "--- 192.168.20.52 ping statistics ---\n",
      "5 packets transmitted, 5 received, 0% packet loss, time 4006ms\n",
      "rtt min/avg/max/mdev = 32.460/32.501/32.583/0.047 ms\n",
      "\n",
      "\n"
     ]
    }
   ],
   "source": [
    "stdin, stdout, stderr = client3.exec_command('ping -c 5 192.168.20.52')\n",
    "print(stdout.read().decode(\"utf-8\"))\n",
    "print(stderr.read().decode(\"utf-8\"))"
   ]
  },
  {
   "cell_type": "code",
   "execution_count": 414,
   "metadata": {},
   "outputs": [
    {
     "name": "stdout",
     "output_type": "stream",
     "text": [
      "PING 192.168.10.52 (192.168.10.52) 56(84) bytes of data.\n",
      "64 bytes from 192.168.10.52: icmp_seq=1 ttl=64 time=32.5 ms\n",
      "64 bytes from 192.168.10.52: icmp_seq=2 ttl=64 time=32.5 ms\n",
      "64 bytes from 192.168.10.52: icmp_seq=3 ttl=64 time=32.5 ms\n",
      "64 bytes from 192.168.10.52: icmp_seq=4 ttl=64 time=32.5 ms\n",
      "64 bytes from 192.168.10.52: icmp_seq=5 ttl=64 time=32.5 ms\n",
      "\n",
      "--- 192.168.10.52 ping statistics ---\n",
      "5 packets transmitted, 5 received, 0% packet loss, time 4006ms\n",
      "rtt min/avg/max/mdev = 32.455/32.470/32.492/0.012 ms\n",
      "\n",
      "\n"
     ]
    }
   ],
   "source": [
    "stdin, stdout, stderr = client3.exec_command('ping -c 5 192.168.10.52')\n",
    "print(stdout.read().decode(\"utf-8\"))\n",
    "print(stderr.read().decode(\"utf-8\"))"
   ]
  },
  {
   "cell_type": "code",
   "execution_count": 415,
   "metadata": {},
   "outputs": [
    {
     "name": "stdout",
     "output_type": "stream",
     "text": [
      "PING 192.168.10.51 (192.168.10.51) 56(84) bytes of data.\n",
      "64 bytes from 192.168.10.51: icmp_seq=1 ttl=63 time=47.7 ms\n",
      "64 bytes from 192.168.10.51: icmp_seq=2 ttl=63 time=47.7 ms\n",
      "64 bytes from 192.168.10.51: icmp_seq=3 ttl=63 time=47.6 ms\n",
      "64 bytes from 192.168.10.51: icmp_seq=4 ttl=63 time=47.6 ms\n",
      "64 bytes from 192.168.10.51: icmp_seq=5 ttl=63 time=47.6 ms\n",
      "\n",
      "--- 192.168.10.51 ping statistics ---\n",
      "5 packets transmitted, 5 received, 0% packet loss, time 4007ms\n",
      "rtt min/avg/max/mdev = 47.577/47.626/47.697/0.048 ms\n",
      "\n",
      "\n"
     ]
    }
   ],
   "source": [
    "stdin, stdout, stderr = client3.exec_command('ping -c 5 192.168.10.51')\n",
    "print(stdout.read().decode(\"utf-8\"))\n",
    "print(stderr.read().decode(\"utf-8\"))"
   ]
  },
  {
   "cell_type": "code",
   "execution_count": 416,
   "metadata": {},
   "outputs": [
    {
     "name": "stdout",
     "output_type": "stream",
     "text": [
      "traceroute to 192.168.20.52 (192.168.20.52), 30 hops max, 60 byte packets\n",
      " 1  192.168.20.52 (192.168.20.52)  32.484 ms  32.471 ms  32.464 ms\n",
      "\n",
      "\n"
     ]
    }
   ],
   "source": [
    "stdin, stdout, stderr = client3.exec_command('traceroute 192.168.20.52')\n",
    "print(stdout.read().decode(\"utf-8\"))\n",
    "print(stderr.read().decode(\"utf-8\"))"
   ]
  },
  {
   "cell_type": "code",
   "execution_count": 419,
   "metadata": {},
   "outputs": [
    {
     "name": "stdout",
     "output_type": "stream",
     "text": [
      "traceroute to 192.168.10.52 (192.168.10.52), 30 hops max, 60 byte packets\n",
      " 1  192.168.10.52 (192.168.10.52)  32.574 ms  32.563 ms *\n",
      "\n",
      "\n"
     ]
    }
   ],
   "source": [
    "stdin, stdout, stderr = client3.exec_command('traceroute 192.168.10.52')\n",
    "print(stdout.read().decode(\"utf-8\"))\n",
    "print(stderr.read().decode(\"utf-8\"))"
   ]
  },
  {
   "cell_type": "code",
   "execution_count": 420,
   "metadata": {},
   "outputs": [
    {
     "name": "stdout",
     "output_type": "stream",
     "text": [
      "traceroute to 192.168.10.51 (192.168.10.51), 30 hops max, 60 byte packets\n",
      " 1  192.168.20.52 (192.168.20.52)  32.462 ms * *\n",
      " 2  192.168.10.51 (192.168.10.51)  47.663 ms * *\n",
      "\n",
      "\n"
     ]
    }
   ],
   "source": [
    "stdin, stdout, stderr = client3.exec_command('traceroute 192.168.10.51')\n",
    "print(stdout.read().decode(\"utf-8\"))\n",
    "print(stderr.read().decode(\"utf-8\"))"
   ]
  },
  {
   "cell_type": "markdown",
   "metadata": {},
   "source": [
    "<hr>"
   ]
  },
  {
   "cell_type": "markdown",
   "metadata": {},
   "source": [
    "### Now let's do a bandwidth test between client 1 and client 3 (through the router)."
   ]
  },
  {
   "cell_type": "markdown",
   "metadata": {},
   "source": [
    "### Then we can use the code module below."
   ]
  },
  {
   "cell_type": "code",
   "execution_count": 421,
   "metadata": {},
   "outputs": [],
   "source": [
    "import re"
   ]
  },
  {
   "cell_type": "code",
   "execution_count": 422,
   "metadata": {},
   "outputs": [],
   "source": [
    "def bandwidth_test(clientn1, clientn2, ip_of_interface_on_n1, ip_of_interface_on_n2, verbose):\n",
    "    output = \"Information about bandwidth with iperf: \\n\"\n",
    "    stdin, stdout, stderr = clientn1.exec_command('echo \"net.core.rmem_max = 2147483647\\nnet.core.wmem_max = 2147483647\\nnet.ipv4.tcp_rmem = 4096 87380 2147483647\\nnet.ipv4.tcp_wmem = 4096 65536 2147483647\\nnet.ipv4.tcp_congestion_control=htcp\\nnet.ipv4.tcp_mtu_probing=1\\nnet.core.default_qdisc = fq\\n\" | sudo tee -a /etc/sysctl.conf && sudo sysctl -p')\n",
    "    stdin, stdout, stderr = clientn2.exec_command('echo \"net.core.rmem_max = 2147483647\\nnet.core.wmem_max = 2147483647\\nnet.ipv4.tcp_rmem = 4096 87380 2147483647\\nnet.ipv4.tcp_wmem = 4096 65536 2147483647\\nnet.ipv4.tcp_congestion_control=htcp\\nnet.ipv4.tcp_mtu_probing=1\\nnet.core.default_qdisc = fq\\n\" | sudo tee -a /etc/sysctl.conf && sudo sysctl -p')\n",
    "    stdin, stdout, stderr = clientn1.exec_command('iperf3 -s > /dev/null 2>&1 &')\n",
    "    stdin, stdout, stderr = clientn2.exec_command('iperf3 -s > /dev/null 2>&1 &')\n",
    "    stdin, stdout, stderr = clientn2.exec_command('iperf3 -c ' + ip_of_interface_on_n1 + ' -P 32 -w 512M -R')\n",
    "    iperf_string = stdout.read().decode(\"utf-8\")\n",
    "    output += \"n2 to n1:\\n\"\n",
    "    iperf_strings = iperf_string.splitlines()\n",
    "    if(len(iperf_strings) > 3):\n",
    "        output += iperf_string.splitlines()[-4] + \"\\n\"\n",
    "        output += iperf_string.splitlines()[-3] + \"\\n\"\n",
    "    stdin, stdout, stderr = clientn1.exec_command('iperf3 -c ' + ip_of_interface_on_n2 + ' -P 32 -w 512M -R')\n",
    "    iperf_string = stdout.read().decode(\"utf-8\")\n",
    "    # iperf_string2 = re.findall(\"^(.*)\\n^(.*)\\n^(.*)\\n^(.*)$\\z\", iperf_string)\n",
    "    output += \"n1 to n2:\\n\"\n",
    "    iperf_strings = iperf_string.splitlines()\n",
    "    if(len(iperf_strings) > 3):\n",
    "        output += iperf_string.splitlines()[-4] + \"\\n\"\n",
    "        output += iperf_string.splitlines()[-3]\n",
    "        \n",
    "    return {\"Bandwidth\" : output}\n",
    "\n",
    "def latency_test(clientn1, clientn2, ip_of_interface_on_n1, ip_of_interface_on_n2, verbose):\n",
    "    output = \"Information about latency with ping: \\n\"\n",
    "    stdin, stdout, stderr = clientn1.exec_command('ping -c 5 ' + ip_of_interface_on_n2 + ' | grep rtt')\n",
    "    output += stdout.read().decode(\"utf-8\")\n",
    "    stdin, stdout, stderr = clientn2.exec_command('ping -c 5 ' + ip_of_interface_on_n1 + ' | grep rtt')\n",
    "    output += \"\\n\" + stdout.read().decode(\"utf-8\")\n",
    "    \n",
    "    return {\"Latency\" : output}\n",
    "\n",
    "def mtu_test(clientn1, clientn2, ip_of_interface_on_n1, ip_of_interface_on_n2, verbose):\n",
    "    output = \"Information about mtu with ping: \\n\"\n",
    "    ping_packets_count = 3\n",
    "    ping_packet_sizes = [9000, 8950, 8000, 1500, 1450, 1400, 1000, 500, 100, 50]\n",
    "    for ping_packet_size in ping_packet_sizes:\n",
    "        stdin, stdout, stderr = clientn1.exec_command('ping -M do -s ' + str(ping_packet_size) + ' -c ' + str(ping_packets_count) + ' ' + ip_of_interface_on_n2)\n",
    "        ping_string = stdout.read().decode(\"utf-8\")\n",
    "        ping_string = re.findall(\"[0-9] received\", ping_string)\n",
    "        ping_string = re.findall(\"[0-9]\", ping_string[0])\n",
    "        if(int(ping_string[0]) == ping_packets_count):\n",
    "            output += \"Packet size \" + str(ping_packet_size + 8) + \" is enabled.\"\n",
    "            break\n",
    "        else:\n",
    "            if(verbose):\n",
    "                print(\"Packet \" + str(ping_packet_size + 8) + \" too large.\")\n",
    "    for ping_packet_size in ping_packet_sizes:\n",
    "        stdin, stdout, stderr = clientn2.exec_command('ping -M do -s ' + str(ping_packet_size) + ' -c ' + str(ping_packets_count) + ' ' + ip_of_interface_on_n1)\n",
    "        ping_string = stdout.read().decode(\"utf-8\")\n",
    "        ping_string = re.findall(\"[0-9] received\", ping_string)\n",
    "        ping_string = re.findall(\"[0-9]\", ping_string[0])\n",
    "        if(int(ping_string[0]) == ping_packets_count):\n",
    "            output += \"\\n\" + \"Packet size \" + str(ping_packet_size + 8) + \" is enabled.\"\n",
    "            break\n",
    "        else:\n",
    "            if(verbose):\n",
    "                print(\"Packet \" + str(ping_packet_size + 8) + \" too large.\")\n",
    "    \n",
    "    return {\"MTU\" : output}"
   ]
  },
  {
   "cell_type": "code",
   "execution_count": 423,
   "metadata": {},
   "outputs": [
    {
     "data": {
      "text/plain": [
       "['Information about bandwidth with iperf: ',\n",
       " 'n2 to n1:',\n",
       " '[SUM]   0.00-10.05  sec  2.45 GBytes  2.09 Gbits/sec  11119             sender',\n",
       " '[SUM]   0.00-10.00  sec  1.75 GBytes  1.50 Gbits/sec                  receiver',\n",
       " 'n1 to n2:',\n",
       " '[SUM]   0.00-10.05  sec  2.36 GBytes  2.02 Gbits/sec  12236             sender',\n",
       " '[SUM]   0.00-10.00  sec  2.00 GBytes  1.72 Gbits/sec                  receiver']"
      ]
     },
     "execution_count": 423,
     "metadata": {},
     "output_type": "execute_result"
    }
   ],
   "source": [
    "bandwidth_test(client1, client3, \"192.168.10.51\", \"192.168.20.53\", False)['Bandwidth'].splitlines()"
   ]
  },
  {
   "cell_type": "code",
   "execution_count": 424,
   "metadata": {},
   "outputs": [
    {
     "data": {
      "text/plain": [
       "['Information about bandwidth with iperf: ',\n",
       " 'n2 to n1:',\n",
       " '[SUM]   0.00-10.05  sec  2.30 GBytes  1.97 Gbits/sec  6824             sender',\n",
       " '[SUM]   0.00-10.00  sec  1.60 GBytes  1.38 Gbits/sec                  receiver',\n",
       " 'n1 to n2:',\n",
       " '[SUM]   0.00-10.05  sec  2.65 GBytes  2.26 Gbits/sec  10869             sender',\n",
       " '[SUM]   0.00-10.00  sec  1.95 GBytes  1.67 Gbits/sec                  receiver']"
      ]
     },
     "execution_count": 424,
     "metadata": {},
     "output_type": "execute_result"
    }
   ],
   "source": [
    "bandwidth_test(client1, client3, \"192.168.10.51\", \"192.168.20.53\", False)['Bandwidth'].splitlines()"
   ]
  },
  {
   "cell_type": "code",
   "execution_count": 425,
   "metadata": {},
   "outputs": [
    {
     "data": {
      "text/plain": [
       "['Information about bandwidth with iperf: ',\n",
       " 'n2 to n1:',\n",
       " '[SUM]   0.00-10.05  sec  2.54 GBytes  2.17 Gbits/sec  7880             sender',\n",
       " '[SUM]   0.00-10.00  sec  1.84 GBytes  1.58 Gbits/sec                  receiver',\n",
       " 'n1 to n2:',\n",
       " '[SUM]   0.00-10.05  sec  3.40 GBytes  2.90 Gbits/sec  10913             sender',\n",
       " '[SUM]   0.00-10.00  sec  2.69 GBytes  2.31 Gbits/sec                  receiver']"
      ]
     },
     "execution_count": 425,
     "metadata": {},
     "output_type": "execute_result"
    }
   ],
   "source": [
    "bandwidth_test(client1, client3, \"192.168.10.51\", \"192.168.20.53\", False)['Bandwidth'].splitlines()"
   ]
  },
  {
   "cell_type": "code",
   "execution_count": 426,
   "metadata": {},
   "outputs": [
    {
     "data": {
      "text/plain": [
       "['Information about bandwidth with iperf: ',\n",
       " 'n2 to n1:',\n",
       " '[SUM]   0.00-10.05  sec  2.57 GBytes  2.20 Gbits/sec  4972             sender',\n",
       " '[SUM]   0.00-10.00  sec  1.87 GBytes  1.61 Gbits/sec                  receiver',\n",
       " 'n1 to n2:',\n",
       " '[SUM]   0.00-10.05  sec  2.64 GBytes  2.25 Gbits/sec  10769             sender',\n",
       " '[SUM]   0.00-10.00  sec  1.93 GBytes  1.66 Gbits/sec                  receiver']"
      ]
     },
     "execution_count": 426,
     "metadata": {},
     "output_type": "execute_result"
    }
   ],
   "source": [
    "bandwidth_test(client1, client3, \"192.168.10.51\", \"192.168.20.53\", False)['Bandwidth'].splitlines()"
   ]
  },
  {
   "cell_type": "code",
   "execution_count": 427,
   "metadata": {},
   "outputs": [
    {
     "data": {
      "text/plain": [
       "['Information about bandwidth with iperf: ',\n",
       " 'n2 to n1:',\n",
       " '[SUM]   0.00-10.05  sec  2.55 GBytes  2.18 Gbits/sec  6475             sender',\n",
       " '[SUM]   0.00-10.00  sec  1.84 GBytes  1.58 Gbits/sec                  receiver',\n",
       " 'n1 to n2:',\n",
       " '[SUM]   0.00-10.05  sec  2.80 GBytes  2.39 Gbits/sec  14913             sender',\n",
       " '[SUM]   0.00-10.00  sec  2.10 GBytes  1.80 Gbits/sec                  receiver']"
      ]
     },
     "execution_count": 427,
     "metadata": {},
     "output_type": "execute_result"
    }
   ],
   "source": [
    "bandwidth_test(client1, client3, \"192.168.10.51\", \"192.168.20.53\", False)['Bandwidth'].splitlines()"
   ]
  },
  {
   "cell_type": "code",
   "execution_count": 428,
   "metadata": {},
   "outputs": [
    {
     "data": {
      "text/plain": [
       "['Information about bandwidth with iperf: ',\n",
       " 'n2 to n1:',\n",
       " '[SUM]   0.00-10.05  sec  2.42 GBytes  2.07 Gbits/sec  9772             sender',\n",
       " '[SUM]   0.00-10.00  sec  1.72 GBytes  1.48 Gbits/sec                  receiver',\n",
       " 'n1 to n2:',\n",
       " '[SUM]   0.00-10.05  sec  2.24 GBytes  1.91 Gbits/sec  11846             sender',\n",
       " '[SUM]   0.00-10.00  sec  1.54 GBytes  1.32 Gbits/sec                  receiver']"
      ]
     },
     "execution_count": 428,
     "metadata": {},
     "output_type": "execute_result"
    }
   ],
   "source": [
    "bandwidth_test(client1, client3, \"192.168.10.51\", \"192.168.20.53\", False)['Bandwidth'].splitlines()"
   ]
  },
  {
   "cell_type": "code",
   "execution_count": 429,
   "metadata": {},
   "outputs": [
    {
     "data": {
      "text/plain": [
       "['Information about bandwidth with iperf: ',\n",
       " 'n2 to n1:',\n",
       " '[SUM]   0.00-10.05  sec  2.30 GBytes  1.96 Gbits/sec  7661             sender',\n",
       " '[SUM]   0.00-10.00  sec  1.60 GBytes  1.37 Gbits/sec                  receiver',\n",
       " 'n1 to n2:',\n",
       " '[SUM]   0.00-10.05  sec  2.72 GBytes  2.33 Gbits/sec  12917             sender',\n",
       " '[SUM]   0.00-10.00  sec  2.02 GBytes  1.74 Gbits/sec                  receiver']"
      ]
     },
     "execution_count": 429,
     "metadata": {},
     "output_type": "execute_result"
    }
   ],
   "source": [
    "bandwidth_test(client1, client3, \"192.168.10.51\", \"192.168.20.53\", False)['Bandwidth'].splitlines()"
   ]
  },
  {
   "cell_type": "code",
   "execution_count": 430,
   "metadata": {},
   "outputs": [
    {
     "data": {
      "text/plain": [
       "['Information about bandwidth with iperf: ',\n",
       " 'n2 to n1:',\n",
       " '[SUM]   0.00-10.05  sec  2.11 GBytes  1.81 Gbits/sec  7408             sender',\n",
       " '[SUM]   0.00-10.00  sec  1.41 GBytes  1.21 Gbits/sec                  receiver',\n",
       " 'n1 to n2:',\n",
       " '[SUM]   0.00-10.05  sec  2.97 GBytes  2.54 Gbits/sec  11159             sender',\n",
       " '[SUM]   0.00-10.00  sec  2.27 GBytes  1.95 Gbits/sec                  receiver']"
      ]
     },
     "execution_count": 430,
     "metadata": {},
     "output_type": "execute_result"
    }
   ],
   "source": [
    "bandwidth_test(client1, client3, \"192.168.10.51\", \"192.168.20.53\", False)['Bandwidth'].splitlines()"
   ]
  },
  {
   "cell_type": "code",
   "execution_count": 431,
   "metadata": {},
   "outputs": [
    {
     "data": {
      "text/plain": [
       "['Information about bandwidth with iperf: ',\n",
       " 'n2 to n1:',\n",
       " '[SUM]   0.00-10.05  sec  2.52 GBytes  2.16 Gbits/sec  10239             sender',\n",
       " '[SUM]   0.00-10.00  sec  1.82 GBytes  1.57 Gbits/sec                  receiver',\n",
       " 'n1 to n2:',\n",
       " '[SUM]   0.00-10.05  sec  3.05 GBytes  2.61 Gbits/sec  12963             sender',\n",
       " '[SUM]   0.00-10.00  sec  2.69 GBytes  2.31 Gbits/sec                  receiver']"
      ]
     },
     "execution_count": 431,
     "metadata": {},
     "output_type": "execute_result"
    }
   ],
   "source": [
    "bandwidth_test(client1, client3, \"192.168.10.51\", \"192.168.20.53\", False)['Bandwidth'].splitlines()"
   ]
  },
  {
   "cell_type": "code",
   "execution_count": 432,
   "metadata": {},
   "outputs": [
    {
     "data": {
      "text/plain": [
       "['Information about bandwidth with iperf: ',\n",
       " 'n2 to n1:',\n",
       " '[SUM]   0.00-10.05  sec  2.87 GBytes  2.45 Gbits/sec  5111             sender',\n",
       " '[SUM]   0.00-10.00  sec  2.17 GBytes  1.86 Gbits/sec                  receiver',\n",
       " 'n1 to n2:',\n",
       " '[SUM]   0.00-10.05  sec  2.97 GBytes  2.54 Gbits/sec  9851             sender',\n",
       " '[SUM]   0.00-10.00  sec  2.55 GBytes  2.19 Gbits/sec                  receiver']"
      ]
     },
     "execution_count": 432,
     "metadata": {},
     "output_type": "execute_result"
    }
   ],
   "source": [
    "bandwidth_test(client1, client3, \"192.168.10.51\", \"192.168.20.53\", False)['Bandwidth'].splitlines()"
   ]
  },
  {
   "cell_type": "code",
   "execution_count": 433,
   "metadata": {},
   "outputs": [
    {
     "data": {
      "text/plain": [
       "{'Latency': 'Information about latency with ping: \\nrtt min/avg/max/mdev = 47.578/47.600/47.640/0.022 ms\\n\\nrtt min/avg/max/mdev = 47.547/47.579/47.604/0.018 ms\\n'}"
      ]
     },
     "execution_count": 433,
     "metadata": {},
     "output_type": "execute_result"
    }
   ],
   "source": [
    "latency_test(client1, client3, \"192.168.10.51\", \"192.168.20.53\", False)"
   ]
  },
  {
   "cell_type": "code",
   "execution_count": 434,
   "metadata": {},
   "outputs": [
    {
     "data": {
      "text/plain": [
       "{'Latency': 'Information about latency with ping: \\nrtt min/avg/max/mdev = 47.559/47.580/47.605/0.015 ms\\n\\nrtt min/avg/max/mdev = 47.553/47.612/47.686/0.051 ms\\n'}"
      ]
     },
     "execution_count": 434,
     "metadata": {},
     "output_type": "execute_result"
    }
   ],
   "source": [
    "latency_test(client1, client3, \"192.168.10.51\", \"192.168.20.53\", False)"
   ]
  },
  {
   "cell_type": "code",
   "execution_count": 435,
   "metadata": {},
   "outputs": [
    {
     "data": {
      "text/plain": [
       "{'Latency': 'Information about latency with ping: \\nrtt min/avg/max/mdev = 47.593/47.612/47.626/0.010 ms\\n\\nrtt min/avg/max/mdev = 47.571/47.589/47.636/0.023 ms\\n'}"
      ]
     },
     "execution_count": 435,
     "metadata": {},
     "output_type": "execute_result"
    }
   ],
   "source": [
    "latency_test(client1, client3, \"192.168.10.51\", \"192.168.20.53\", False)"
   ]
  },
  {
   "cell_type": "code",
   "execution_count": 436,
   "metadata": {},
   "outputs": [
    {
     "data": {
      "text/plain": [
       "{'Latency': 'Information about latency with ping: \\nrtt min/avg/max/mdev = 47.592/47.650/47.743/0.057 ms\\n\\nrtt min/avg/max/mdev = 47.562/47.580/47.604/0.016 ms\\n'}"
      ]
     },
     "execution_count": 436,
     "metadata": {},
     "output_type": "execute_result"
    }
   ],
   "source": [
    "latency_test(client1, client3, \"192.168.10.51\", \"192.168.20.53\", False)"
   ]
  },
  {
   "cell_type": "code",
   "execution_count": 437,
   "metadata": {},
   "outputs": [
    {
     "data": {
      "text/plain": [
       "{'Latency': 'Information about latency with ping: \\nrtt min/avg/max/mdev = 47.560/47.607/47.635/0.027 ms\\n\\nrtt min/avg/max/mdev = 47.572/47.585/47.612/0.016 ms\\n'}"
      ]
     },
     "execution_count": 437,
     "metadata": {},
     "output_type": "execute_result"
    }
   ],
   "source": [
    "latency_test(client1, client3, \"192.168.10.51\", \"192.168.20.53\", False)"
   ]
  },
  {
   "cell_type": "code",
   "execution_count": 438,
   "metadata": {},
   "outputs": [
    {
     "data": {
      "text/plain": [
       "{'MTU': 'Information about mtu with ping: \\nPacket size 1458 is enabled.\\nPacket size 1458 is enabled.'}"
      ]
     },
     "execution_count": 438,
     "metadata": {},
     "output_type": "execute_result"
    }
   ],
   "source": [
    "mtu_test(client1, client3, \"192.168.10.51\", \"192.168.20.53\", False)"
   ]
  },
  {
   "cell_type": "code",
   "execution_count": 439,
   "metadata": {},
   "outputs": [
    {
     "data": {
      "text/plain": [
       "{'MTU': 'Information about mtu with ping: \\nPacket size 1458 is enabled.\\nPacket size 1458 is enabled.'}"
      ]
     },
     "execution_count": 439,
     "metadata": {},
     "output_type": "execute_result"
    }
   ],
   "source": [
    "mtu_test(client1, client3, \"192.168.10.51\", \"192.168.20.53\", False)"
   ]
  },
  {
   "cell_type": "code",
   "execution_count": 440,
   "metadata": {},
   "outputs": [
    {
     "data": {
      "text/plain": [
       "{'MTU': 'Information about mtu with ping: \\nPacket size 1458 is enabled.\\nPacket size 1458 is enabled.'}"
      ]
     },
     "execution_count": 440,
     "metadata": {},
     "output_type": "execute_result"
    }
   ],
   "source": [
    "mtu_test(client1, client3, \"192.168.10.51\", \"192.168.20.53\", False)"
   ]
  },
  {
   "cell_type": "code",
   "execution_count": 441,
   "metadata": {},
   "outputs": [
    {
     "data": {
      "text/plain": [
       "{'MTU': 'Information about mtu with ping: \\nPacket size 1458 is enabled.\\nPacket size 1458 is enabled.'}"
      ]
     },
     "execution_count": 441,
     "metadata": {},
     "output_type": "execute_result"
    }
   ],
   "source": [
    "mtu_test(client1, client3, \"192.168.10.51\", \"192.168.20.53\", False)"
   ]
  },
  {
   "cell_type": "code",
   "execution_count": 442,
   "metadata": {},
   "outputs": [
    {
     "data": {
      "text/plain": [
       "{'MTU': 'Information about mtu with ping: \\nPacket size 1458 is enabled.\\nPacket size 1458 is enabled.'}"
      ]
     },
     "execution_count": 442,
     "metadata": {},
     "output_type": "execute_result"
    }
   ],
   "source": [
    "mtu_test(client1, client3, \"192.168.10.51\", \"192.168.20.53\", False)"
   ]
  },
  {
   "cell_type": "code",
   "execution_count": 443,
   "metadata": {},
   "outputs": [
    {
     "data": {
      "text/plain": [
       "(<Status.OK: 1>, None)"
      ]
     },
     "execution_count": 443,
     "metadata": {},
     "output_type": "execute_result"
    }
   ],
   "source": [
    "slice_manager.delete(slice_object=slice_object)"
   ]
  }
 ],
 "metadata": {
  "kernelspec": {
   "display_name": "Python 3",
   "language": "python",
   "name": "python3"
  },
  "language_info": {
   "codemirror_mode": {
    "name": "ipython",
    "version": 3
   },
   "file_extension": ".py",
   "mimetype": "text/x-python",
   "name": "python",
   "nbconvert_exporter": "python",
   "pygments_lexer": "ipython3",
   "version": "3.9.2"
  }
 },
 "nbformat": 4,
 "nbformat_minor": 4
}

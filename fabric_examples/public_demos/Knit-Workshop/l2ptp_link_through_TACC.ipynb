{
 "cells": [
  {
   "cell_type": "markdown",
   "metadata": {},
   "source": [
    "### This notebook shows how to "
   ]
  },
  {
   "cell_type": "code",
   "execution_count": 24,
   "metadata": {},
   "outputs": [],
   "source": [
    "import os\n",
    "from fabrictestbed.slice_manager import SliceManager, Status\n",
    "import json"
   ]
  },
  {
   "cell_type": "code",
   "execution_count": 25,
   "metadata": {},
   "outputs": [
    {
     "name": "stdout",
     "output_type": "stream",
     "text": [
      "CM Host: cm.fabric-testbed.net Orchestrator Host: orchestrator.fabric-testbed.net\n"
     ]
    }
   ],
   "source": [
    "credmgr_host = os.environ['FABRIC_CREDMGR_HOST']\n",
    "orchestrator_host = os.environ['FABRIC_ORCHESTRATOR_HOST']\n",
    "print(f\"CM Host: {credmgr_host} Orchestrator Host: {orchestrator_host}\")"
   ]
  },
  {
   "cell_type": "markdown",
   "metadata": {},
   "source": [
    "## Create Slice Manager Object\n",
    "Users can request tokens with different Project and Scopes by altering `project_name` and `scope` parameters in the refresh call below."
   ]
  },
  {
   "cell_type": "code",
   "execution_count": 26,
   "metadata": {},
   "outputs": [],
   "source": [
    "slice_manager = SliceManager(oc_host=orchestrator_host, cm_host=credmgr_host, project_name='all', scope='all')\n",
    "\n",
    "# Initialize the slice manager\n",
    "slice_manager.initialize()"
   ]
  },
  {
   "cell_type": "markdown",
   "metadata": {},
   "source": [
    "### Orchestrator API example to query for available resources"
   ]
  },
  {
   "cell_type": "code",
   "execution_count": 27,
   "metadata": {},
   "outputs": [
    {
     "name": "stdout",
     "output_type": "stream",
     "text": [
      "Status: Status.OK\n",
      "Toplogy: NCSA: { cpu: 6/6 , core: 160/192 , ram: 1,416/1,536 G, disk: 60,188/60,600 G, unit: 3/3 }\n",
      "\tComponents:\n",
      "\t\tSmartNIC-ConnectX-5:  SmartNIC ConnectX-5 { unit: 1/2 }\n",
      "\t\tSmartNIC-ConnectX-6:  SmartNIC ConnectX-6 { unit: 1/2 }\n",
      "\t\tSharedNIC-ConnectX-6:  SharedNIC ConnectX-6 { unit: 376/381 }\n",
      "\t\tNVME-P4510:  NVME P4510 { disk: 8,640/9,600 G, unit: 9/10 }\n",
      "\t\tGPU-Tesla T4:  GPU Tesla T4 { unit: 2/2 }\n",
      "\t\tGPU-RTX6000:  GPU RTX6000 { unit: 3/3 }\n",
      "\tSite Interfaces:\n",
      "\t\tNCSA_STAR: TrunkPort { bw: 100/100 Gbps}\n",
      "TACC: { cpu: 10/10 , core: 266/320 , ram: 2,248/2,560 G, disk: 114,620/116,400 G, unit: 5/5 }\n",
      "\tComponents:\n",
      "\t\tGPU-RTX6000:  GPU RTX6000 { unit: 6/6 }\n",
      "\t\tGPU-Tesla T4:  GPU Tesla T4 { unit: 4/4 }\n",
      "\t\tNVME-P4510:  NVME P4510 { disk: 15,360/15,360 G, unit: 16/16 }\n",
      "\t\tSharedNIC-ConnectX-6:  SharedNIC ConnectX-6 { unit: 614/635 }\n",
      "\t\tSmartNIC-ConnectX-6:  SmartNIC ConnectX-6 { unit: 2/2 }\n",
      "\t\tSmartNIC-ConnectX-5:  SmartNIC ConnectX-5 { unit: 3/4 }\n",
      "\tSite Interfaces:\n",
      "\t\tTACC_MAX: TrunkPort { bw: 100/100 Gbps}\n",
      "\t\tTACC_UTAH: TrunkPort { bw: 100/100 Gbps}\n",
      "UTAH: { cpu: 10/10 , core: 316/320 , ram: 2,535/2,560 G, disk: 116,398/116,400 G, unit: 5/5 }\n",
      "\tComponents:\n",
      "\t\tSharedNIC-ConnectX-6:  SharedNIC ConnectX-6 { unit: 635/635 }\n",
      "\t\tSmartNIC-ConnectX-6:  SmartNIC ConnectX-6 { unit: 2/2 }\n",
      "\t\tSmartNIC-ConnectX-5:  SmartNIC ConnectX-5 { unit: 4/4 }\n",
      "\t\tGPU-RTX6000:  GPU RTX6000 { unit: 5/5 }\n",
      "\t\tGPU-Tesla T4:  GPU Tesla T4 { unit: 4/4 }\n",
      "\t\tNVME-P4510:  NVME P4510 { disk: 15,360/15,360 G, unit: 16/16 }\n",
      "\tSite Interfaces:\n",
      "\t\tUTAH_STAR: TrunkPort { bw: 100/100 Gbps}\n",
      "\t\tUTAH_TACC: TrunkPort { bw: 100/100 Gbps}\n",
      "MAX: { cpu: 10/10 , core: 202/320 , ram: 1,932/2,560 G, disk: 113,332/116,400 G, unit: 5/5 }\n",
      "\tComponents:\n",
      "\t\tGPU-Tesla T4:  GPU Tesla T4 { unit: 4/4 }\n",
      "\t\tGPU-RTX6000:  GPU RTX6000 { unit: 6/6 }\n",
      "\t\tSmartNIC-ConnectX-5:  SmartNIC ConnectX-5 { unit: 0/4 }\n",
      "\t\tSmartNIC-ConnectX-6:  SmartNIC ConnectX-6 { unit: 1/2 }\n",
      "\t\tNVME-P4510:  NVME P4510 { disk: 12,480/15,360 G, unit: 13/16 }\n",
      "\t\tSharedNIC-ConnectX-6:  SharedNIC ConnectX-6 { unit: 597/635 }\n",
      "\tSite Interfaces:\n",
      "\t\tMAX_TACC: TrunkPort { bw: 100/100 Gbps}\n",
      "\t\tMAX_STAR: TrunkPort { bw: 100/100 Gbps}\n",
      "SALT\n",
      "\tComponents:\n",
      "\tSite Interfaces:\n",
      "STAR: { cpu: 12/12 , core: 352/384 , ram: 3,014/3,072 G, disk: 120,932/121,200 G, unit: 6/6 }\n",
      "\tComponents:\n",
      "\t\tGPU-Tesla T4:  GPU Tesla T4 { unit: 6/6 }\n",
      "\t\tGPU-RTX6000:  GPU RTX6000 { unit: 6/6 }\n",
      "\t\tSmartNIC-ConnectX-5:  SmartNIC ConnectX-5 { unit: 6/6 }\n",
      "\t\tSmartNIC-ConnectX-6:  SmartNIC ConnectX-6 { unit: 1/2 }\n",
      "\t\tSharedNIC-ConnectX-6:  SharedNIC ConnectX-6 { unit: 761/762 }\n",
      "\t\tNVME-P4510:  NVME P4510 { disk: 20,000/20,000 G, unit: 20/20 }\n",
      "\tSite Interfaces:\n",
      "\t\tSTAR_UTAH: TrunkPort { bw: 100/100 Gbps}\n",
      "\t\tSTAR_MAX: TrunkPort { bw: 100/100 Gbps}\n",
      "\t\tSTAR_NCSA: TrunkPort { bw: 100/100 Gbps}\n",
      "WASH\n",
      "\tComponents:\n",
      "\tSite Interfaces:\n",
      "DALL\n",
      "\tComponents:\n",
      "\tSite Interfaces:\n",
      "MICH\n",
      "\tComponents:\n",
      "\tSite Interfaces:\n",
      "Links:\n",
      "\tport+max-data-sw:HundredGigE0/0/0/22.2051 to port+tacc-data-sw:HundredGigE0/0/0/23.3160[L2Path]: ['TACC_MAX', 'MAX_TACC']\n",
      "\tport+tacc-data-sw:HundredGigE0/0/0/23.3161 to port+utah-data-sw:HundredGigE0/0/0/22.2091[L2Path]: ['UTAH_TACC', 'TACC_UTAH']\n",
      "\tport+star-data-sw:HundredGigE0/0/0/30.3722 to port+utah-data-sw:HundredGigE0/0/0/22.2090[L2Path]: ['UTAH_STAR', 'STAR_UTAH']\n",
      "\tport+max-data-sw:HundredGigE0/0/0/22.2052 to port+star-data-sw:HundredGigE0/0/0/30.3721[L2Path]: ['STAR_MAX', 'MAX_STAR']\n",
      "\tport+ncsa-data-sw:HundredGigE0/0/0/23.3710 to port+star-data-sw:HundredGigE0/0/0/30.3710[L2Path]: ['NCSA_STAR', 'STAR_NCSA']\n"
     ]
    }
   ],
   "source": [
    "status, advertised_topology = slice_manager.resources()\n",
    "\n",
    "print(f\"Status: {status}\")\n",
    "if status == Status.OK:\n",
    "    print(f\"Toplogy: {advertised_topology}\")\n",
    "else:\n",
    "    print(f\"Error: {advertised_topology}\")"
   ]
  },
  {
   "cell_type": "code",
   "execution_count": 28,
   "metadata": {},
   "outputs": [
    {
     "data": {
      "image/png": "[encoded data removed]",
      "text/plain": [
       "<Figure size 432x288 with 1 Axes>"
      ]
     },
     "metadata": {},
     "output_type": "display_data"
    }
   ],
   "source": [
    "if status == Status.OK:\n",
    "    advertised_topology.draw()"
   ]
  },
  {
   "cell_type": "markdown",
   "metadata": {},
   "source": [
    "## Create Slice"
   ]
  },
  {
   "cell_type": "markdown",
   "metadata": {},
   "source": [
    "We will request two nodes. We will attach a smart NIC to one of them, and a shared NIC to the other. Configurations for the NICs are going to be different.\n",
    "\n",
    "The setup is shown below:"
   ]
  },
  {
   "cell_type": "code",
   "execution_count": 29,
   "metadata": {},
   "outputs": [
    {
     "name": "stdout",
     "output_type": "stream",
     "text": [
      "Response Status Status.OK\n",
      "Reservations created [{\n",
      "    \"graph_node_id\": \"f2aed86f-0923-45b1-81f3-ffdd27e1ab05\",\n",
      "    \"lease_end\": \"2021-12-09 09:08:41\",\n",
      "    \"pending_state\": \"None_\",\n",
      "    \"reservation_id\": \"4e30f5cc-5dd7-4a68-9fa8-b1905b1064d7\",\n",
      "    \"reservation_state\": \"Unknown\",\n",
      "    \"slice_id\": \"c38a3424-0f57-425f-89cf-e7a12bdcba56\"\n",
      "}, {\n",
      "    \"graph_node_id\": \"7297bf87-1d36-4f18-9c26-60d867d9f8b9\",\n",
      "    \"lease_end\": \"2021-12-09 09:08:41\",\n",
      "    \"pending_state\": \"None_\",\n",
      "    \"reservation_id\": \"20bd80d8-e653-4bc7-a631-027521219721\",\n",
      "    \"reservation_state\": \"Unknown\",\n",
      "    \"slice_id\": \"c38a3424-0f57-425f-89cf-e7a12bdcba56\"\n",
      "}, {\n",
      "    \"graph_node_id\": \"a5ce3cc3-18c3-46a0-8ea8-0ff57c6e3feb\",\n",
      "    \"lease_end\": \"2021-12-09 09:08:41\",\n",
      "    \"pending_state\": \"None_\",\n",
      "    \"reservation_id\": \"afc869d6-d26c-4fed-b5d1-f93ac8cdc98c\",\n",
      "    \"reservation_state\": \"Unknown\",\n",
      "    \"slice_id\": \"c38a3424-0f57-425f-89cf-e7a12bdcba56\"\n",
      "}, {\n",
      "    \"graph_node_id\": \"2fc41c76-0ca1-4b3f-adb6-416434426abb\",\n",
      "    \"lease_end\": \"2021-12-09 09:08:41\",\n",
      "    \"pending_state\": \"None_\",\n",
      "    \"reservation_id\": \"3a2f7f5e-cd95-4ffa-911d-e2d9b0af6eb8\",\n",
      "    \"reservation_state\": \"Unknown\",\n",
      "    \"slice_id\": \"c38a3424-0f57-425f-89cf-e7a12bdcba56\"\n",
      "}, {\n",
      "    \"graph_node_id\": \"b8cbaa8b-6946-4f1f-b6d1-05541ad036fc\",\n",
      "    \"lease_end\": \"2021-12-09 09:08:41\",\n",
      "    \"pending_state\": \"None_\",\n",
      "    \"reservation_id\": \"7ebc7c07-d8bf-44bf-9779-bf9dae26beb7\",\n",
      "    \"reservation_state\": \"Unknown\",\n",
      "    \"slice_id\": \"c38a3424-0f57-425f-89cf-e7a12bdcba56\"\n",
      "}]\n"
     ]
    }
   ],
   "source": [
    "from fabrictestbed.slice_editor import ExperimentTopology, Capacities, ComponentType, ComponentModelType, ServiceType\n",
    "# Create topology\n",
    "t = ExperimentTopology()\n",
    "\n",
    "# Add node\n",
    "n1 = t.add_node(name='n1', site='MAX')\n",
    "\n",
    "# Set capacities\n",
    "cap = Capacities()\n",
    "cap.set_fields(core=2, ram=6, disk=10)\n",
    "\n",
    "# Set Properties\n",
    "n1.set_properties(capacities=cap, image_type='qcow2', image_ref='default_ubuntu_20')\n",
    "\n",
    "# Add PCI devices\n",
    "n1.add_component(ctype=ComponentType.NVME, model='P4510', name='c1')\n",
    "\n",
    "# Add node\n",
    "n2 = t.add_node(name='n2', site='TACC')\n",
    "\n",
    "# Set properties\n",
    "n2.set_properties(capacities=cap, image_type='qcow2', image_ref='default_ubuntu_20')\n",
    "\n",
    "# Add node\n",
    "n3 = t.add_node(name='n3', site='UTAH')\n",
    "\n",
    "# Set properties\n",
    "n3.set_properties(capacities=cap, image_type='qcow2', image_ref='default_ubuntu_20')\n",
    "\n",
    "\n",
    "n1.add_component(model_type=ComponentModelType.SmartNIC_ConnectX_6, name='n1-nic1')\n",
    "n2.add_component(model_type=ComponentModelType.SmartNIC_ConnectX_6, name='n2-nic1')\n",
    "n3.add_component(model_type=ComponentModelType.SmartNIC_ConnectX_5, name='n3-nic1')\n",
    "\n",
    "\n",
    "if_labels = n1.interface_list[0].get_property(pname=\"labels\")\n",
    "if_labels.vlan = \"200\"\n",
    "n1.interface_list[0].set_properties(labels=if_labels)\n",
    "if_labels = n2.interface_list[0].get_property(pname=\"labels\")\n",
    "if_labels.vlan = \"200\"\n",
    "n2.interface_list[0].set_properties(labels=if_labels)\n",
    "\n",
    "# L2PTP Service\n",
    "t.add_network_service(name='ptp1', nstype=ServiceType.L2PTP,\n",
    "                      interfaces=[n1.interface_list[0], n2.interface_list[0]])\n",
    "\n",
    "\n",
    "if_labels = n1.interface_list[1].get_property(pname=\"labels\")\n",
    "if_labels.vlan = \"200\"\n",
    "n2.interface_list[1].set_properties(labels=if_labels)\n",
    "if_labels = n2.interface_list[0].get_property(pname=\"labels\")\n",
    "if_labels.vlan = \"200\"\n",
    "n3.interface_list[0].set_properties(labels=if_labels)\n",
    "\n",
    "# L2PTP Service\n",
    "t.add_network_service(name='ptp2', nstype=ServiceType.L2PTP,\n",
    "                      interfaces=[n2.interface_list[1], n3.interface_list[0]])\n",
    "\n",
    "# Generate Slice Graph\n",
    "slice_graph = t.serialize()\n",
    "\n",
    "# print(interfaces_tuple)\n",
    "\n",
    "ssh_key = None\n",
    "with open (\"/home/fabric/.ssh/id_rsa.pub\", \"r\") as myfile:\n",
    "    ssh_key=myfile.read()\n",
    "    ssh_key=ssh_key.strip()\n",
    "\n",
    "# Request slice from Orchestrator\n",
    "status, reservations = slice_manager.create(slice_name='Slice2', slice_graph=slice_graph, ssh_key=ssh_key)\n",
    "\n",
    "print(\"Response Status {}\".format(status))\n",
    "if status == Status.OK:\n",
    "    print(\"Reservations created {}\".format(reservations))\n",
    "else:\n",
    "    print(f\"Failure: {reservations}\")"
   ]
  },
  {
   "cell_type": "code",
   "execution_count": 30,
   "metadata": {},
   "outputs": [],
   "source": [
    "# Set the Slice ID from output of the above command\n",
    "slice_id=reservations[0].slice_id"
   ]
  },
  {
   "cell_type": "markdown",
   "metadata": {},
   "source": [
    "## Query Slices"
   ]
  },
  {
   "cell_type": "code",
   "execution_count": 33,
   "metadata": {},
   "outputs": [
    {
     "name": "stdout",
     "output_type": "stream",
     "text": [
      "Response Status Status.OK\n",
      "Slices [{\n",
      "    \"graph_id\": \"f1d68ad0-48ae-4f09-a051-369caed22446\",\n",
      "    \"lease_end\": \"2021-11-21 01:22:55\",\n",
      "    \"slice_id\": \"8ef39ae0-9ccd-40e8-992a-2497b01f5341\",\n",
      "    \"slice_name\": \"Slice-Kubernetes-Hello-World\",\n",
      "    \"slice_state\": \"Dead\"\n",
      "}, {\n",
      "    \"graph_id\": \"44625d85-ad4a-4c80-bb27-c3f810735c06\",\n",
      "    \"lease_end\": \"2021-11-17 07:00:32\",\n",
      "    \"slice_id\": \"7bb8c733-e0f8-4a0b-abaf-4b433ab66167\",\n",
      "    \"slice_name\": \"Slice-Kubernetes-Hello-World\",\n",
      "    \"slice_state\": \"Dead\"\n",
      "}, {\n",
      "    \"graph_id\": \"a161a769-0f89-43b0-bfe2-396c256baa25\",\n",
      "    \"lease_end\": \"2021-11-22 19:23:09\",\n",
      "    \"slice_id\": \"b4f605c8-6974-482d-a7fb-c0c6c3109108\",\n",
      "    \"slice_name\": \"Slice-Kubernetes-Hello-World\",\n",
      "    \"slice_state\": \"Dead\"\n",
      "}, {\n",
      "    \"graph_id\": \"df6b2c6f-e371-442b-a1f5-d18df4534e1d\",\n",
      "    \"lease_end\": \"2021-12-01 05:03:24\",\n",
      "    \"slice_id\": \"274f8cf0-976a-4d12-bf1d-44af0add4173\",\n",
      "    \"slice_name\": \"Slice-l2bridge-ded-multiple-tags\",\n",
      "    \"slice_state\": \"Closing\"\n",
      "}, {\n",
      "    \"graph_id\": \"90fa6b2a-6236-4a4b-a0b3-60bed34c97a2\",\n",
      "    \"lease_end\": \"2021-12-01 05:05:47\",\n",
      "    \"slice_id\": \"865a429f-f173-4488-a049-0125a956d970\",\n",
      "    \"slice_name\": \"Slice-l2bridge-ded-multiple-tags\",\n",
      "    \"slice_state\": \"Dead\"\n",
      "}, {\n",
      "    \"graph_id\": \"ce07afa8-aa8a-4a18-9564-82cf4c0f181b\",\n",
      "    \"lease_end\": \"2021-12-07 02:26:02\",\n",
      "    \"slice_id\": \"efb6a51f-d970-4eb1-8bb1-b9a4a66007a4\",\n",
      "    \"slice_name\": \"Slice-l2bridge-ded-multiple-tags\",\n",
      "    \"slice_state\": \"Dead\"\n",
      "}, {\n",
      "    \"graph_id\": \"43d17924-d371-4cee-8547-66e0d9ca4097\",\n",
      "    \"lease_end\": \"2021-12-08 05:47:52\",\n",
      "    \"slice_id\": \"2bc924c7-d7bc-49c5-b9ea-efa93fedbc83\",\n",
      "    \"slice_name\": \"Slice-l2bridge-ded-multiple-tags\",\n",
      "    \"slice_state\": \"Dead\"\n",
      "}, {\n",
      "    \"graph_id\": \"e5ce895b-437f-4595-9594-6cd85aeafc40\",\n",
      "    \"lease_end\": \"2021-12-09 08:07:00\",\n",
      "    \"slice_id\": \"6092e03f-2cc5-4ae3-9039-f405db91c087\",\n",
      "    \"slice_name\": \"Slice-l2bridge-ded-multiple-tags\",\n",
      "    \"slice_state\": \"Dead\"\n",
      "}, {\n",
      "    \"graph_id\": \"9757b2b5-907c-48da-914e-4cd4ed63c9c2\",\n",
      "    \"lease_end\": \"2021-12-09 07:02:57\",\n",
      "    \"slice_id\": \"126f426c-4e8d-4b98-b39d-470f58043c01\",\n",
      "    \"slice_name\": \"Slice-l2bridge-ded-multiple-tags\",\n",
      "    \"slice_state\": \"Dead\"\n",
      "}, {\n",
      "    \"graph_id\": \"3e462741-2dea-4642-b968-5cb97bd4cb10\",\n",
      "    \"lease_end\": \"2021-12-09 08:41:36\",\n",
      "    \"slice_id\": \"06332a1a-e59c-492b-9b2d-34a76444029c\",\n",
      "    \"slice_name\": \"Slice-l2bridge-ded-multiple-tags\",\n",
      "    \"slice_state\": \"Closing\"\n",
      "}, {\n",
      "    \"graph_id\": \"bb050a28-51a0-4194-9fd7-e4199d00a24b\",\n",
      "    \"lease_end\": \"2021-12-09 08:55:15\",\n",
      "    \"slice_id\": \"e3c8bc24-a884-49ef-82b3-349cbbe078fc\",\n",
      "    \"slice_name\": \"Slice1\",\n",
      "    \"slice_state\": \"Closing\"\n",
      "}, {\n",
      "    \"graph_id\": \"fcdbd6ca-b5c9-4720-800b-4dec1295eb28\",\n",
      "    \"lease_end\": \"2021-12-09 08:50:32\",\n",
      "    \"slice_id\": \"ec26e428-fe5a-4810-a00e-80333d128ba9\",\n",
      "    \"slice_name\": \"Slice1\",\n",
      "    \"slice_state\": \"Closing\"\n",
      "}, {\n",
      "    \"graph_id\": \"530a4f5d-1ddc-4788-b026-d13cfdc78f5c\",\n",
      "    \"lease_end\": \"2021-12-09 08:52:41\",\n",
      "    \"slice_id\": \"57a80ab6-8e51-4bab-8c55-c2e756f00c37\",\n",
      "    \"slice_name\": \"Slice1\",\n",
      "    \"slice_state\": \"Closing\"\n",
      "}, {\n",
      "    \"graph_id\": \"a5424f06-b353-4cfd-9f74-bb5b2e34ea29\",\n",
      "    \"lease_end\": \"2021-12-09 08:56:01\",\n",
      "    \"slice_id\": \"821243f4-7c43-4605-ba63-669bcbf3a92b\",\n",
      "    \"slice_name\": \"Slice2\",\n",
      "    \"slice_state\": \"Closing\"\n",
      "}, {\n",
      "    \"graph_id\": \"98d3b4b8-5177-4f2a-ae27-c9bcab647e61\",\n",
      "    \"lease_end\": \"2021-12-09 08:48:46\",\n",
      "    \"slice_id\": \"4811d9b2-23e0-4565-b7b7-bdec768460bf\",\n",
      "    \"slice_name\": \"Slice-l2bridge-ded-multiple-tags\",\n",
      "    \"slice_state\": \"Dead\"\n",
      "}, {\n",
      "    \"graph_id\": \"4a30c505-0321-4d6a-8125-74b5eb70ece7\",\n",
      "    \"lease_end\": \"2021-12-09 09:08:41\",\n",
      "    \"slice_id\": \"c38a3424-0f57-425f-89cf-e7a12bdcba56\",\n",
      "    \"slice_name\": \"Slice2\",\n",
      "    \"slice_state\": \"StableOK\"\n",
      "}]\n"
     ]
    }
   ],
   "source": [
    "status, slices = slice_manager.slices() #(state=\"All\")\n",
    "\n",
    "print(\"Response Status {}\".format(status))\n",
    "if status == Status.OK:\n",
    "    print(\"Slices {}\".format(slices))\n",
    "else:\n",
    "    print(f\"Failure: {slices}\")"
   ]
  },
  {
   "cell_type": "markdown",
   "metadata": {},
   "source": [
    "## Query Slivers"
   ]
  },
  {
   "cell_type": "code",
   "execution_count": 34,
   "metadata": {},
   "outputs": [
    {
     "name": "stdout",
     "output_type": "stream",
     "text": [
      "Response Status Status.OK\n",
      "Slivers [{\n",
      "    \"graph_node_id\": \"2fc41c76-0ca1-4b3f-adb6-416434426abb\",\n",
      "    \"join_state\": \"NoJoin\",\n",
      "    \"lease_end\": \"2021-12-09 09:08:41\",\n",
      "    \"name\": \"ptp1\",\n",
      "    \"notices\": \"Reservation 3a2f7f5e-cd95-4ffa-911d-e2d9b0af6eb8 (Slice Slice2(c38a3424-0f57-425f-89cf-e7a12bdcba56) Graph Id:4a30c505-0321-4d6a-8125-74b5eb70ece7 Owner:name: orchestrator guid: orchestrator-guid email: minawm@bu.edu State:StableOK ) is in state [Active,None_]\\n\\nLast ticket update: \\nTicket events: \\nLast ticket update: \\nTicket events: \",\n",
      "    \"pending_state\": \"None_\",\n",
      "    \"reservation_id\": \"3a2f7f5e-cd95-4ffa-911d-e2d9b0af6eb8\",\n",
      "    \"reservation_state\": \"Active\",\n",
      "    \"resource_type\": \"L2PTP\",\n",
      "    \"slice_id\": \"c38a3424-0f57-425f-89cf-e7a12bdcba56\"\n",
      "}, {\n",
      "    \"allocated_capacities\": \"{\\\"core\\\": 2, \\\"disk\\\": 10, \\\"ram\\\": 8}\",\n",
      "    \"allocated_labels\": \"{\\\"instance\\\": \\\"instance-0000086c\\\", \\\"instance_parent\\\": \\\"utah-w4.fabric-testbed.net\\\"}\",\n",
      "    \"capacities\": \"{\\\"core\\\": 2, \\\"disk\\\": 10, \\\"ram\\\": 6}\",\n",
      "    \"capacity_hints\": \"{\\\"instance_type\\\": \\\"fabric.c2.m8.d10\\\"}\",\n",
      "    \"graph_node_id\": \"a5ce3cc3-18c3-46a0-8ea8-0ff57c6e3feb\",\n",
      "    \"join_state\": \"NoJoin\",\n",
      "    \"lease_end\": \"2021-12-09 09:08:41\",\n",
      "    \"management_ip\": \"2001:1948:417:7:f816:3eff:fed1:31c5\",\n",
      "    \"name\": \"n3\",\n",
      "    \"notices\": \"Reservation afc869d6-d26c-4fed-b5d1-f93ac8cdc98c (Slice Slice2(c38a3424-0f57-425f-89cf-e7a12bdcba56) Graph Id:4a30c505-0321-4d6a-8125-74b5eb70ece7 Owner:name: orchestrator guid: orchestrator-guid email: minawm@bu.edu State:StableOK ) is in state [Active,None_]\\n\\nLast ticket update: \\nTicket events: \\nLast ticket update: \\nTicket events: \",\n",
      "    \"pending_state\": \"None_\",\n",
      "    \"reservation_id\": \"afc869d6-d26c-4fed-b5d1-f93ac8cdc98c\",\n",
      "    \"reservation_state\": \"Active\",\n",
      "    \"resource_type\": \"VM\",\n",
      "    \"site\": \"UTAH\",\n",
      "    \"slice_id\": \"c38a3424-0f57-425f-89cf-e7a12bdcba56\"\n",
      "}, {\n",
      "    \"graph_node_id\": \"b8cbaa8b-6946-4f1f-b6d1-05541ad036fc\",\n",
      "    \"join_state\": \"NoJoin\",\n",
      "    \"lease_end\": \"2021-12-09 09:08:41\",\n",
      "    \"name\": \"ptp2\",\n",
      "    \"notices\": \"Reservation 7ebc7c07-d8bf-44bf-9779-bf9dae26beb7 (Slice Slice2(c38a3424-0f57-425f-89cf-e7a12bdcba56) Graph Id:4a30c505-0321-4d6a-8125-74b5eb70ece7 Owner:name: orchestrator guid: orchestrator-guid email: minawm@bu.edu State:StableOK ) is in state [Active,None_]\\n\\nLast ticket update: \\nTicket events: \\nLast ticket update: \\nTicket events: \",\n",
      "    \"pending_state\": \"None_\",\n",
      "    \"reservation_id\": \"7ebc7c07-d8bf-44bf-9779-bf9dae26beb7\",\n",
      "    \"reservation_state\": \"Active\",\n",
      "    \"resource_type\": \"L2PTP\",\n",
      "    \"slice_id\": \"c38a3424-0f57-425f-89cf-e7a12bdcba56\"\n",
      "}, {\n",
      "    \"allocated_capacities\": \"{\\\"core\\\": 2, \\\"disk\\\": 10, \\\"ram\\\": 8}\",\n",
      "    \"allocated_labels\": \"{\\\"instance\\\": \\\"instance-00000592\\\", \\\"instance_parent\\\": \\\"tacc-w3.fabric-testbed.net\\\"}\",\n",
      "    \"capacities\": \"{\\\"core\\\": 2, \\\"disk\\\": 10, \\\"ram\\\": 6}\",\n",
      "    \"capacity_hints\": \"{\\\"instance_type\\\": \\\"fabric.c2.m8.d10\\\"}\",\n",
      "    \"graph_node_id\": \"7297bf87-1d36-4f18-9c26-60d867d9f8b9\",\n",
      "    \"join_state\": \"NoJoin\",\n",
      "    \"lease_end\": \"2021-12-09 09:08:41\",\n",
      "    \"management_ip\": \"129.114.110.77\",\n",
      "    \"name\": \"n2\",\n",
      "    \"notices\": \"Reservation 20bd80d8-e653-4bc7-a631-027521219721 (Slice Slice2(c38a3424-0f57-425f-89cf-e7a12bdcba56) Graph Id:4a30c505-0321-4d6a-8125-74b5eb70ece7 Owner:name: orchestrator guid: orchestrator-guid email: minawm@bu.edu State:StableOK ) is in state [Active,None_]\\n\\nLast ticket update: \\nTicket events: \\nLast ticket update: \\nTicket events: \",\n",
      "    \"pending_state\": \"None_\",\n",
      "    \"reservation_id\": \"20bd80d8-e653-4bc7-a631-027521219721\",\n",
      "    \"reservation_state\": \"Active\",\n",
      "    \"resource_type\": \"VM\",\n",
      "    \"site\": \"TACC\",\n",
      "    \"slice_id\": \"c38a3424-0f57-425f-89cf-e7a12bdcba56\"\n",
      "}, {\n",
      "    \"allocated_capacities\": \"{\\\"core\\\": 2, \\\"disk\\\": 10, \\\"ram\\\": 8}\",\n",
      "    \"allocated_labels\": \"{\\\"instance\\\": \\\"instance-0000080d\\\", \\\"instance_parent\\\": \\\"max-w3.fabric-testbed.net\\\"}\",\n",
      "    \"capacities\": \"{\\\"core\\\": 2, \\\"disk\\\": 10, \\\"ram\\\": 6}\",\n",
      "    \"capacity_hints\": \"{\\\"instance_type\\\": \\\"fabric.c2.m8.d10\\\"}\",\n",
      "    \"graph_node_id\": \"f2aed86f-0923-45b1-81f3-ffdd27e1ab05\",\n",
      "    \"join_state\": \"NoJoin\",\n",
      "    \"lease_end\": \"2021-12-09 09:08:41\",\n",
      "    \"management_ip\": \"63.239.135.105\",\n",
      "    \"name\": \"n1\",\n",
      "    \"notices\": \"Reservation 4e30f5cc-5dd7-4a68-9fa8-b1905b1064d7 (Slice Slice2(c38a3424-0f57-425f-89cf-e7a12bdcba56) Graph Id:4a30c505-0321-4d6a-8125-74b5eb70ece7 Owner:name: orchestrator guid: orchestrator-guid email: minawm@bu.edu State:StableOK ) is in state [Active,None_]\\n\\nLast ticket update: \\nTicket events: \\nLast ticket update: \\nTicket events: \",\n",
      "    \"pending_state\": \"None_\",\n",
      "    \"reservation_id\": \"4e30f5cc-5dd7-4a68-9fa8-b1905b1064d7\",\n",
      "    \"reservation_state\": \"Active\",\n",
      "    \"resource_type\": \"VM\",\n",
      "    \"site\": \"MAX\",\n",
      "    \"slice_id\": \"c38a3424-0f57-425f-89cf-e7a12bdcba56\"\n",
      "}]\n"
     ]
    }
   ],
   "source": [
    "slice_object = list(filter(lambda x: x.slice_id == slice_id, slices))[0]\n",
    "status, slivers = slice_manager.slivers(slice_object=slice_object)\n",
    "\n",
    "print(\"Response Status {}\".format(status))\n",
    "if status == Status.OK:\n",
    "    print(\"Slivers {}\".format(slivers))\n",
    "else:\n",
    "    print(f\"Failure: {slivers}\")"
   ]
  },
  {
   "cell_type": "markdown",
   "metadata": {},
   "source": [
    "### Now let's connect to the nodes with paramiko."
   ]
  },
  {
   "cell_type": "code",
   "execution_count": 39,
   "metadata": {},
   "outputs": [],
   "source": [
    "import paramiko"
   ]
  },
  {
   "cell_type": "code",
   "execution_count": 35,
   "metadata": {},
   "outputs": [
    {
     "data": {
      "text/plain": [
       "'63.239.135.105'"
      ]
     },
     "execution_count": 35,
     "metadata": {},
     "output_type": "execute_result"
    }
   ],
   "source": [
    "client1_ip = list(filter(lambda sliver : sliver.name == \"n1\",slivers))[0].management_ip\n",
    "client1_ip"
   ]
  },
  {
   "cell_type": "code",
   "execution_count": 36,
   "metadata": {},
   "outputs": [
    {
     "data": {
      "text/plain": [
       "'129.114.110.77'"
      ]
     },
     "execution_count": 36,
     "metadata": {},
     "output_type": "execute_result"
    }
   ],
   "source": [
    "client2_ip = list(filter(lambda sliver : sliver.name == \"n2\",slivers))[0].management_ip\n",
    "client2_ip"
   ]
  },
  {
   "cell_type": "code",
   "execution_count": 37,
   "metadata": {},
   "outputs": [
    {
     "data": {
      "text/plain": [
       "'2001:1948:417:7:f816:3eff:fed1:31c5'"
      ]
     },
     "execution_count": 37,
     "metadata": {},
     "output_type": "execute_result"
    }
   ],
   "source": [
    "client3_ip = list(filter(lambda sliver : sliver.name == \"n3\",slivers))[0].management_ip\n",
    "client3_ip"
   ]
  },
  {
   "cell_type": "code",
   "execution_count": 40,
   "metadata": {},
   "outputs": [
    {
     "data": {
      "text/plain": [
       "<paramiko.client.SSHClient at 0x7f65c4437370>"
      ]
     },
     "execution_count": 40,
     "metadata": {},
     "output_type": "execute_result"
    }
   ],
   "source": [
    "key = paramiko.RSAKey.from_private_key_file(\"/home/fabric/.ssh/id_rsa\")\n",
    "client1 = paramiko.SSHClient()\n",
    "client1.load_system_host_keys()\n",
    "client1.set_missing_host_key_policy(paramiko.MissingHostKeyPolicy())\n",
    "\n",
    "client1.set_missing_host_key_policy(paramiko.AutoAddPolicy())\n",
    "client1.connect(client1_ip,username='ubuntu',pkey = key)\n",
    "\n",
    "client1"
   ]
  },
  {
   "cell_type": "code",
   "execution_count": 41,
   "metadata": {},
   "outputs": [
    {
     "name": "stdout",
     "output_type": "stream",
     "text": [
      "Distributor ID:\tUbuntu\n",
      "Description:\tUbuntu 20.04.3 LTS\n",
      "Release:\t20.04\n",
      "Codename:\tfocal\n",
      "\n",
      "No LSB modules are available.\n",
      "\n"
     ]
    }
   ],
   "source": [
    "stdin, stdout, stderr = client1.exec_command('lsb_release -a')\n",
    "print(stdout.read().decode(\"utf-8\"))\n",
    "print(stderr.read().decode(\"utf-8\"))"
   ]
  },
  {
   "cell_type": "code",
   "execution_count": 42,
   "metadata": {},
   "outputs": [
    {
     "data": {
      "text/plain": [
       "<paramiko.client.SSHClient at 0x7f65e9796070>"
      ]
     },
     "execution_count": 42,
     "metadata": {},
     "output_type": "execute_result"
    }
   ],
   "source": [
    "key = paramiko.RSAKey.from_private_key_file(\"/home/fabric/.ssh/id_rsa\")\n",
    "client2 = paramiko.SSHClient()\n",
    "client2.load_system_host_keys()\n",
    "client2.set_missing_host_key_policy(paramiko.MissingHostKeyPolicy())\n",
    "\n",
    "client2.set_missing_host_key_policy(paramiko.AutoAddPolicy())\n",
    "client2.connect(client2_ip,username='ubuntu',pkey = key)\n",
    "\n",
    "client2"
   ]
  },
  {
   "cell_type": "code",
   "execution_count": 43,
   "metadata": {},
   "outputs": [
    {
     "name": "stdout",
     "output_type": "stream",
     "text": [
      "Distributor ID:\tUbuntu\n",
      "Description:\tUbuntu 20.04.3 LTS\n",
      "Release:\t20.04\n",
      "Codename:\tfocal\n",
      "\n",
      "No LSB modules are available.\n",
      "\n"
     ]
    }
   ],
   "source": [
    "stdin, stdout, stderr = client2.exec_command('lsb_release -a')\n",
    "print(stdout.read().decode(\"utf-8\"))\n",
    "print(stderr.read().decode(\"utf-8\"))"
   ]
  },
  {
   "cell_type": "code",
   "execution_count": 44,
   "metadata": {},
   "outputs": [
    {
     "data": {
      "text/plain": [
       "<paramiko.client.SSHClient at 0x7f65c4412be0>"
      ]
     },
     "execution_count": 44,
     "metadata": {},
     "output_type": "execute_result"
    }
   ],
   "source": [
    "key = paramiko.RSAKey.from_private_key_file(\"/home/fabric/.ssh/id_rsa\")\n",
    "\n",
    "bastion_public_addr = 'bastion-1.fabric-testbed.net'\n",
    "bastion_private_ipv4_addr = '192.168.11.226'\n",
    "bastion_private_ipv6_addr = '2600:2701:5000:a902::c'\n",
    "\n",
    "bastion_username = 'minawm_0041350787'\n",
    "\n",
    "bastion_key_filename = os.environ['HOME'] + \"/work/mina_bastion_key\"\n",
    "\n",
    "jump = paramiko.SSHClient()\n",
    "jump.set_missing_host_key_policy(paramiko.AutoAddPolicy())\n",
    "bastion_pkey = paramiko.RSAKey.from_private_key_file(bastion_key_filename)\n",
    "jump.connect(bastion_public_addr, username=bastion_username, pkey=bastion_pkey)\n",
    "\n",
    "jump_transport = jump.get_transport()\n",
    "src_addr = (bastion_private_ipv4_addr, 22)\n",
    "dest_addr = (client3_ip, 22)\n",
    "jump_channel = jump_transport.open_channel(\"direct-tcpip\", dest_addr, src_addr)\n",
    "\n",
    "client3=paramiko.SSHClient()\n",
    "client3.set_missing_host_key_policy(paramiko.AutoAddPolicy())\n",
    "client3.connect(client3_ip, username='ubuntu', pkey=key, sock=jump_channel) #key_filename=ssh_key_filename\n",
    "\n",
    "client3"
   ]
  },
  {
   "cell_type": "code",
   "execution_count": 45,
   "metadata": {},
   "outputs": [
    {
     "name": "stdout",
     "output_type": "stream",
     "text": [
      "Distributor ID:\tUbuntu\n",
      "Description:\tUbuntu 20.04.3 LTS\n",
      "Release:\t20.04\n",
      "Codename:\tfocal\n",
      "\n",
      "No LSB modules are available.\n",
      "\n"
     ]
    }
   ],
   "source": [
    "stdin, stdout, stderr = client3.exec_command('lsb_release -a')\n",
    "print(stdout.read().decode(\"utf-8\"))\n",
    "print(stderr.read().decode(\"utf-8\"))"
   ]
  },
  {
   "cell_type": "markdown",
   "metadata": {},
   "source": [
    "### Let's try to let the nodes ping each other through their management IPs."
   ]
  },
  {
   "cell_type": "code",
   "execution_count": 46,
   "metadata": {},
   "outputs": [
    {
     "name": "stdout",
     "output_type": "stream",
     "text": [
      "PING 129.114.110.77 (129.114.110.77) 56(84) bytes of data.\n",
      "64 bytes from 129.114.110.77: icmp_seq=1 ttl=48 time=45.3 ms\n",
      "64 bytes from 129.114.110.77: icmp_seq=2 ttl=48 time=45.0 ms\n",
      "64 bytes from 129.114.110.77: icmp_seq=3 ttl=48 time=45.0 ms\n",
      "64 bytes from 129.114.110.77: icmp_seq=4 ttl=48 time=44.9 ms\n",
      "64 bytes from 129.114.110.77: icmp_seq=5 ttl=48 time=44.9 ms\n",
      "\n",
      "--- 129.114.110.77 ping statistics ---\n",
      "5 packets transmitted, 5 received, 0% packet loss, time 4005ms\n",
      "rtt min/avg/max/mdev = 44.945/45.027/45.258/0.117 ms\n",
      "\n",
      "\n"
     ]
    }
   ],
   "source": [
    "stdin, stdout, stderr = client1.exec_command('ping -c 5 ' + client2_ip)\n",
    "print(stdout.read().decode(\"utf-8\"))\n",
    "print(stderr.read().decode(\"utf-8\"))"
   ]
  },
  {
   "cell_type": "code",
   "execution_count": 47,
   "metadata": {},
   "outputs": [
    {
     "name": "stdout",
     "output_type": "stream",
     "text": [
      "\n",
      "ping: connect: Network is unreachable\n",
      "\n"
     ]
    }
   ],
   "source": [
    "stdin, stdout, stderr = client1.exec_command('ping -c 5 ' + client3_ip)\n",
    "print(stdout.read().decode(\"utf-8\"))\n",
    "print(stderr.read().decode(\"utf-8\"))"
   ]
  },
  {
   "cell_type": "code",
   "execution_count": 48,
   "metadata": {},
   "outputs": [
    {
     "name": "stdout",
     "output_type": "stream",
     "text": [
      "PING 63.239.135.105 (63.239.135.105) 56(84) bytes of data.\n",
      "64 bytes from 63.239.135.105: icmp_seq=1 ttl=48 time=44.8 ms\n",
      "64 bytes from 63.239.135.105: icmp_seq=2 ttl=48 time=43.0 ms\n",
      "64 bytes from 63.239.135.105: icmp_seq=3 ttl=48 time=44.8 ms\n",
      "64 bytes from 63.239.135.105: icmp_seq=4 ttl=48 time=44.8 ms\n",
      "64 bytes from 63.239.135.105: icmp_seq=5 ttl=48 time=43.7 ms\n",
      "\n",
      "--- 63.239.135.105 ping statistics ---\n",
      "5 packets transmitted, 5 received, 0% packet loss, time 4006ms\n",
      "rtt min/avg/max/mdev = 42.981/44.223/44.838/0.766 ms\n",
      "\n",
      "\n"
     ]
    }
   ],
   "source": [
    "stdin, stdout, stderr = client2.exec_command('ping -c 5 ' + client1_ip)\n",
    "print(stdout.read().decode(\"utf-8\"))\n",
    "print(stderr.read().decode(\"utf-8\"))"
   ]
  },
  {
   "cell_type": "code",
   "execution_count": 49,
   "metadata": {},
   "outputs": [
    {
     "name": "stdout",
     "output_type": "stream",
     "text": [
      "\n",
      "ping: connect: Network is unreachable\n",
      "\n"
     ]
    }
   ],
   "source": [
    "stdin, stdout, stderr = client2.exec_command('ping -c 5 ' + client3_ip)\n",
    "print(stdout.read().decode(\"utf-8\"))\n",
    "print(stderr.read().decode(\"utf-8\"))"
   ]
  },
  {
   "cell_type": "code",
   "execution_count": 50,
   "metadata": {},
   "outputs": [
    {
     "name": "stdout",
     "output_type": "stream",
     "text": [
      "PING 63.239.135.105 (63.239.135.105) 56(84) bytes of data.\n",
      "From 10.20.4.211 icmp_seq=1 Destination Host Unreachable\n",
      "From 10.20.4.211 icmp_seq=2 Destination Host Unreachable\n",
      "From 10.20.4.211 icmp_seq=3 Destination Host Unreachable\n",
      "From 10.20.4.211 icmp_seq=4 Destination Host Unreachable\n",
      "From 10.20.4.211 icmp_seq=5 Destination Host Unreachable\n",
      "\n",
      "--- 63.239.135.105 ping statistics ---\n",
      "5 packets transmitted, 0 received, +5 errors, 100% packet loss, time 4067ms\n",
      "pipe 3\n",
      "\n",
      "\n"
     ]
    }
   ],
   "source": [
    "stdin, stdout, stderr = client3.exec_command('ping -c 5 ' + client1_ip)\n",
    "print(stdout.read().decode(\"utf-8\"))\n",
    "print(stderr.read().decode(\"utf-8\"))"
   ]
  },
  {
   "cell_type": "code",
   "execution_count": 51,
   "metadata": {},
   "outputs": [
    {
     "name": "stdout",
     "output_type": "stream",
     "text": [
      "PING 129.114.110.77 (129.114.110.77) 56(84) bytes of data.\n",
      "From 10.20.4.211 icmp_seq=1 Destination Host Unreachable\n",
      "From 10.20.4.211 icmp_seq=2 Destination Host Unreachable\n",
      "From 10.20.4.211 icmp_seq=3 Destination Host Unreachable\n",
      "From 10.20.4.211 icmp_seq=4 Destination Host Unreachable\n",
      "From 10.20.4.211 icmp_seq=5 Destination Host Unreachable\n",
      "\n",
      "--- 129.114.110.77 ping statistics ---\n",
      "5 packets transmitted, 0 received, +5 errors, 100% packet loss, time 4061ms\n",
      "pipe 3\n",
      "\n",
      "\n"
     ]
    }
   ],
   "source": [
    "stdin, stdout, stderr = client3.exec_command('ping -c 5 ' + client2_ip)\n",
    "print(stdout.read().decode(\"utf-8\"))\n",
    "print(stderr.read().decode(\"utf-8\"))"
   ]
  },
  {
   "cell_type": "markdown",
   "metadata": {},
   "source": [
    "### To begin with, we will need to use the `route` command. So we need to install `net-tools`."
   ]
  },
  {
   "cell_type": "code",
   "execution_count": 52,
   "metadata": {},
   "outputs": [
    {
     "name": "stdout",
     "output_type": "stream",
     "text": [
      "Hit:1 http://nova.clouds.archive.ubuntu.com/ubuntu focal InRelease\n",
      "Get:2 http://nova.clouds.archive.ubuntu.com/ubuntu focal-updates InRelease [114 kB]\n",
      "Get:3 http://security.ubuntu.com/ubuntu focal-security InRelease [114 kB]\n",
      "Get:4 http://nova.clouds.archive.ubuntu.com/ubuntu focal-backports InRelease [108 kB]\n",
      "Get:5 http://nova.clouds.archive.ubuntu.com/ubuntu focal/universe amd64 Packages [8628 kB]\n",
      "Get:6 http://nova.clouds.archive.ubuntu.com/ubuntu focal/universe Translation-en [5124 kB]\n",
      "Get:7 http://security.ubuntu.com/ubuntu focal-security/main amd64 Packages [1064 kB]\n",
      "Get:8 http://nova.clouds.archive.ubuntu.com/ubuntu focal/universe amd64 c-n-f Metadata [265 kB]\n",
      "Get:9 http://nova.clouds.archive.ubuntu.com/ubuntu focal/multiverse amd64 Packages [144 kB]\n",
      "Get:10 http://nova.clouds.archive.ubuntu.com/ubuntu focal/multiverse Translation-en [104 kB]\n",
      "Get:11 http://nova.clouds.archive.ubuntu.com/ubuntu focal/multiverse amd64 c-n-f Metadata [9136 B]\n",
      "Get:12 http://nova.clouds.archive.ubuntu.com/ubuntu focal-updates/main amd64 Packages [1389 kB]\n",
      "Get:13 http://nova.clouds.archive.ubuntu.com/ubuntu focal-updates/main Translation-en [282 kB]\n",
      "Get:14 http://nova.clouds.archive.ubuntu.com/ubuntu focal-updates/main amd64 c-n-f Metadata [14.6 kB]\n",
      "Get:15 http://nova.clouds.archive.ubuntu.com/ubuntu focal-updates/restricted amd64 Packages [606 kB]\n",
      "Get:16 http://nova.clouds.archive.ubuntu.com/ubuntu focal-updates/restricted Translation-en [86.8 kB]\n",
      "Get:17 http://nova.clouds.archive.ubuntu.com/ubuntu focal-updates/restricted amd64 c-n-f Metadata [528 B]\n",
      "Get:18 http://nova.clouds.archive.ubuntu.com/ubuntu focal-updates/universe amd64 Packages [879 kB]\n",
      "Get:19 http://nova.clouds.archive.ubuntu.com/ubuntu focal-updates/universe Translation-en [190 kB]\n",
      "Get:20 http://nova.clouds.archive.ubuntu.com/ubuntu focal-updates/universe amd64 c-n-f Metadata [19.6 kB]\n",
      "Get:21 http://nova.clouds.archive.ubuntu.com/ubuntu focal-updates/multiverse amd64 Packages [24.8 kB]\n",
      "Get:22 http://nova.clouds.archive.ubuntu.com/ubuntu focal-updates/multiverse Translation-en [6928 B]\n",
      "Get:23 http://nova.clouds.archive.ubuntu.com/ubuntu focal-updates/multiverse amd64 c-n-f Metadata [616 B]\n",
      "Get:24 http://security.ubuntu.com/ubuntu focal-security/main Translation-en [196 kB]\n",
      "Get:25 http://security.ubuntu.com/ubuntu focal-security/main amd64 c-n-f Metadata [9080 B]\n",
      "Get:26 http://security.ubuntu.com/ubuntu focal-security/restricted amd64 Packages [560 kB]\n",
      "Get:27 http://security.ubuntu.com/ubuntu focal-security/restricted Translation-en [80.2 kB]\n",
      "Get:28 http://security.ubuntu.com/ubuntu focal-security/restricted amd64 c-n-f Metadata [528 B]\n",
      "Get:29 http://security.ubuntu.com/ubuntu focal-security/universe amd64 Packages [663 kB]\n",
      "Get:30 http://security.ubuntu.com/ubuntu focal-security/universe Translation-en [111 kB]\n",
      "Get:31 http://security.ubuntu.com/ubuntu focal-security/universe amd64 c-n-f Metadata [12.9 kB]\n",
      "Get:32 http://security.ubuntu.com/ubuntu focal-security/multiverse amd64 Packages [21.9 kB]\n",
      "Get:33 http://security.ubuntu.com/ubuntu focal-security/multiverse Translation-en [4948 B]\n",
      "Get:34 http://security.ubuntu.com/ubuntu focal-security/multiverse amd64 c-n-f Metadata [540 B]\n",
      "Get:35 http://nova.clouds.archive.ubuntu.com/ubuntu focal-backports/main amd64 Packages [41.2 kB]\n",
      "Get:36 http://nova.clouds.archive.ubuntu.com/ubuntu focal-backports/main Translation-en [9732 B]\n",
      "Get:37 http://nova.clouds.archive.ubuntu.com/ubuntu focal-backports/main amd64 c-n-f Metadata [516 B]\n",
      "Get:38 http://nova.clouds.archive.ubuntu.com/ubuntu focal-backports/restricted amd64 c-n-f Metadata [116 B]\n",
      "Get:39 http://nova.clouds.archive.ubuntu.com/ubuntu focal-backports/universe amd64 Packages [18.9 kB]\n",
      "Get:40 http://nova.clouds.archive.ubuntu.com/ubuntu focal-backports/universe Translation-en [7524 B]\n",
      "Get:41 http://nova.clouds.archive.ubuntu.com/ubuntu focal-backports/universe amd64 c-n-f Metadata [644 B]\n",
      "Get:42 http://nova.clouds.archive.ubuntu.com/ubuntu focal-backports/multiverse amd64 c-n-f Metadata [116 B]\n",
      "Fetched 20.9 MB in 3s (7567 kB/s)\n",
      "Reading package lists...\n",
      "Building dependency tree...\n",
      "Reading state information...\n",
      "78 packages can be upgraded. Run 'apt list --upgradable' to see them.\n",
      "Reading package lists...\n",
      "Building dependency tree...\n",
      "Reading state information...\n",
      "The following additional packages will be installed:\n",
      "  libiperf0 libsctp1\n",
      "Suggested packages:\n",
      "  lksctp-tools\n",
      "The following NEW packages will be installed:\n",
      "  iperf3 libiperf0 libsctp1 net-tools traceroute\n",
      "0 upgraded, 5 newly installed, 0 to remove and 78 not upgraded.\n",
      "Need to get 336 kB of archives.\n",
      "After this operation, 1347 kB of additional disk space will be used.\n",
      "Get:1 http://nova.clouds.archive.ubuntu.com/ubuntu focal/main amd64 libsctp1 amd64 1.0.18+dfsg-1 [7876 B]\n",
      "Get:2 http://nova.clouds.archive.ubuntu.com/ubuntu focal/universe amd64 libiperf0 amd64 3.7-3 [72.0 kB]\n",
      "Get:3 http://nova.clouds.archive.ubuntu.com/ubuntu focal/universe amd64 iperf3 amd64 3.7-3 [14.2 kB]\n",
      "Get:4 http://nova.clouds.archive.ubuntu.com/ubuntu focal/main amd64 net-tools amd64 1.60+git20180626.aebd88e-1ubuntu1 [196 kB]\n",
      "Get:5 http://nova.clouds.archive.ubuntu.com/ubuntu focal/universe amd64 traceroute amd64 1:2.1.0-2 [45.4 kB]\n",
      "Fetched 336 kB in 0s (2396 kB/s)\n",
      "Selecting previously unselected package libsctp1:amd64.\n",
      "(Reading database ... 63512 files and directories currently installed.)\n",
      "Preparing to unpack .../libsctp1_1.0.18+dfsg-1_amd64.deb ...\n",
      "Unpacking libsctp1:amd64 (1.0.18+dfsg-1) ...\n",
      "Selecting previously unselected package libiperf0:amd64.\n",
      "Preparing to unpack .../libiperf0_3.7-3_amd64.deb ...\n",
      "Unpacking libiperf0:amd64 (3.7-3) ...\n",
      "Selecting previously unselected package iperf3.\n",
      "Preparing to unpack .../iperf3_3.7-3_amd64.deb ...\n",
      "Unpacking iperf3 (3.7-3) ...\n",
      "Selecting previously unselected package net-tools.\n",
      "Preparing to unpack .../net-tools_1.60+git20180626.aebd88e-1ubuntu1_amd64.deb ...\n",
      "Unpacking net-tools (1.60+git20180626.aebd88e-1ubuntu1) ...\n",
      "Selecting previously unselected package traceroute.\n",
      "Preparing to unpack .../traceroute_1%3a2.1.0-2_amd64.deb ...\n",
      "Unpacking traceroute (1:2.1.0-2) ...\n",
      "Setting up net-tools (1.60+git20180626.aebd88e-1ubuntu1) ...\n",
      "Setting up traceroute (1:2.1.0-2) ...\n",
      "update-alternatives: using /usr/bin/traceroute.db to provide /usr/bin/traceroute (traceroute) in auto mode\n",
      "update-alternatives: using /usr/bin/lft.db to provide /usr/bin/lft (lft) in auto mode\n",
      "update-alternatives: using /usr/bin/traceproto.db to provide /usr/bin/traceproto (traceproto) in auto mode\n",
      "update-alternatives: using /usr/sbin/tcptraceroute.db to provide /usr/sbin/tcptraceroute (tcptraceroute) in auto mode\n",
      "Setting up libsctp1:amd64 (1.0.18+dfsg-1) ...\n",
      "Setting up libiperf0:amd64 (3.7-3) ...\n",
      "Setting up iperf3 (3.7-3) ...\n",
      "Processing triggers for man-db (2.9.1-1) ...\n",
      "Processing triggers for libc-bin (2.31-0ubuntu9.2) ...\n",
      "\n",
      "\n",
      "WARNING: apt does not have a stable CLI interface. Use with caution in scripts.\n",
      "\n",
      "\n",
      "WARNING: apt does not have a stable CLI interface. Use with caution in scripts.\n",
      "\n",
      "debconf: unable to initialize frontend: Dialog\n",
      "debconf: (Dialog frontend will not work on a dumb terminal, an emacs shell buffer, or without a controlling terminal.)\n",
      "debconf: falling back to frontend: Readline\n",
      "debconf: unable to initialize frontend: Readline\n",
      "debconf: (This frontend requires a controlling tty.)\n",
      "debconf: falling back to frontend: Teletype\n",
      "dpkg-preconfigure: unable to re-open stdin: \n",
      "\n",
      "Hit:1 http://nova.clouds.archive.ubuntu.com/ubuntu focal InRelease\n",
      "Get:2 http://nova.clouds.archive.ubuntu.com/ubuntu focal-updates InRelease [114 kB]\n",
      "Get:3 http://security.ubuntu.com/ubuntu focal-security InRelease [114 kB]\n",
      "Get:4 http://nova.clouds.archive.ubuntu.com/ubuntu focal-backports InRelease [108 kB]\n",
      "Get:5 http://nova.clouds.archive.ubuntu.com/ubuntu focal/universe amd64 Packages [8628 kB]\n",
      "Get:6 http://security.ubuntu.com/ubuntu focal-security/main amd64 Packages [1064 kB]\n",
      "Get:7 http://security.ubuntu.com/ubuntu focal-security/main Translation-en [196 kB]\n",
      "Get:8 http://security.ubuntu.com/ubuntu focal-security/main amd64 c-n-f Metadata [9080 B]\n",
      "Get:9 http://security.ubuntu.com/ubuntu focal-security/restricted amd64 Packages [560 kB]\n",
      "Get:10 http://nova.clouds.archive.ubuntu.com/ubuntu focal/universe Translation-en [5124 kB]\n",
      "Get:11 http://security.ubuntu.com/ubuntu focal-security/restricted Translation-en [80.2 kB]\n",
      "Get:12 http://security.ubuntu.com/ubuntu focal-security/restricted amd64 c-n-f Metadata [528 B]\n",
      "Get:13 http://security.ubuntu.com/ubuntu focal-security/universe amd64 Packages [663 kB]\n",
      "Get:14 http://security.ubuntu.com/ubuntu focal-security/universe Translation-en [111 kB]\n",
      "Get:15 http://security.ubuntu.com/ubuntu focal-security/universe amd64 c-n-f Metadata [12.9 kB]\n",
      "Get:16 http://security.ubuntu.com/ubuntu focal-security/multiverse amd64 Packages [21.9 kB]\n",
      "Get:17 http://security.ubuntu.com/ubuntu focal-security/multiverse Translation-en [4948 B]\n",
      "Get:18 http://security.ubuntu.com/ubuntu focal-security/multiverse amd64 c-n-f Metadata [540 B]\n",
      "Get:19 http://nova.clouds.archive.ubuntu.com/ubuntu focal/universe amd64 c-n-f Metadata [265 kB]\n",
      "Get:20 http://nova.clouds.archive.ubuntu.com/ubuntu focal/multiverse amd64 Packages [144 kB]\n",
      "Get:21 http://nova.clouds.archive.ubuntu.com/ubuntu focal/multiverse Translation-en [104 kB]\n",
      "Get:22 http://nova.clouds.archive.ubuntu.com/ubuntu focal/multiverse amd64 c-n-f Metadata [9136 B]\n",
      "Get:23 http://nova.clouds.archive.ubuntu.com/ubuntu focal-updates/main amd64 Packages [1389 kB]\n",
      "Get:24 http://nova.clouds.archive.ubuntu.com/ubuntu focal-updates/main Translation-en [282 kB]\n",
      "Get:25 http://nova.clouds.archive.ubuntu.com/ubuntu focal-updates/main amd64 c-n-f Metadata [14.6 kB]\n",
      "Get:26 http://nova.clouds.archive.ubuntu.com/ubuntu focal-updates/restricted amd64 Packages [606 kB]\n",
      "Get:27 http://nova.clouds.archive.ubuntu.com/ubuntu focal-updates/restricted Translation-en [86.8 kB]\n",
      "Get:28 http://nova.clouds.archive.ubuntu.com/ubuntu focal-updates/restricted amd64 c-n-f Metadata [528 B]\n",
      "Get:29 http://nova.clouds.archive.ubuntu.com/ubuntu focal-updates/universe amd64 Packages [879 kB]\n",
      "Get:30 http://nova.clouds.archive.ubuntu.com/ubuntu focal-updates/universe Translation-en [190 kB]\n",
      "Get:31 http://nova.clouds.archive.ubuntu.com/ubuntu focal-updates/universe amd64 c-n-f Metadata [19.6 kB]\n",
      "Get:32 http://nova.clouds.archive.ubuntu.com/ubuntu focal-updates/multiverse amd64 Packages [24.8 kB]\n",
      "Get:33 http://nova.clouds.archive.ubuntu.com/ubuntu focal-updates/multiverse Translation-en [6928 B]\n",
      "Get:34 http://nova.clouds.archive.ubuntu.com/ubuntu focal-updates/multiverse amd64 c-n-f Metadata [616 B]\n",
      "Get:35 http://nova.clouds.archive.ubuntu.com/ubuntu focal-backports/main amd64 Packages [41.2 kB]\n",
      "Get:36 http://nova.clouds.archive.ubuntu.com/ubuntu focal-backports/main Translation-en [9732 B]\n",
      "Get:37 http://nova.clouds.archive.ubuntu.com/ubuntu focal-backports/main amd64 c-n-f Metadata [516 B]\n",
      "Get:38 http://nova.clouds.archive.ubuntu.com/ubuntu focal-backports/restricted amd64 c-n-f Metadata [116 B]\n",
      "Get:39 http://nova.clouds.archive.ubuntu.com/ubuntu focal-backports/universe amd64 Packages [18.9 kB]\n",
      "Get:40 http://nova.clouds.archive.ubuntu.com/ubuntu focal-backports/universe Translation-en [7524 B]\n",
      "Get:41 http://nova.clouds.archive.ubuntu.com/ubuntu focal-backports/universe amd64 c-n-f Metadata [644 B]\n",
      "Get:42 http://nova.clouds.archive.ubuntu.com/ubuntu focal-backports/multiverse amd64 c-n-f Metadata [116 B]\n",
      "Fetched 20.9 MB in 3s (6449 kB/s)\n",
      "Reading package lists...\n",
      "Building dependency tree...\n",
      "Reading state information...\n",
      "75 packages can be upgraded. Run 'apt list --upgradable' to see them.\n",
      "Reading package lists...\n",
      "Building dependency tree...\n",
      "Reading state information...\n",
      "The following additional packages will be installed:\n",
      "  libiperf0 libsctp1\n",
      "Suggested packages:\n",
      "  lksctp-tools\n",
      "The following NEW packages will be installed:\n",
      "  iperf3 libiperf0 libsctp1 net-tools traceroute\n",
      "0 upgraded, 5 newly installed, 0 to remove and 75 not upgraded.\n",
      "Need to get 336 kB of archives.\n",
      "After this operation, 1347 kB of additional disk space will be used.\n",
      "Get:1 http://nova.clouds.archive.ubuntu.com/ubuntu focal/main amd64 libsctp1 amd64 1.0.18+dfsg-1 [7876 B]\n",
      "Get:2 http://nova.clouds.archive.ubuntu.com/ubuntu focal/universe amd64 libiperf0 amd64 3.7-3 [72.0 kB]\n",
      "Get:3 http://nova.clouds.archive.ubuntu.com/ubuntu focal/universe amd64 iperf3 amd64 3.7-3 [14.2 kB]\n",
      "Get:4 http://nova.clouds.archive.ubuntu.com/ubuntu focal/main amd64 net-tools amd64 1.60+git20180626.aebd88e-1ubuntu1 [196 kB]\n",
      "Get:5 http://nova.clouds.archive.ubuntu.com/ubuntu focal/universe amd64 traceroute amd64 1:2.1.0-2 [45.4 kB]\n",
      "Fetched 336 kB in 0s (839 kB/s)\n",
      "Selecting previously unselected package libsctp1:amd64.\n",
      "(Reading database ... 63512 files and directories currently installed.)\n",
      "Preparing to unpack .../libsctp1_1.0.18+dfsg-1_amd64.deb ...\n",
      "Unpacking libsctp1:amd64 (1.0.18+dfsg-1) ...\n",
      "Selecting previously unselected package libiperf0:amd64.\n",
      "Preparing to unpack .../libiperf0_3.7-3_amd64.deb ...\n",
      "Unpacking libiperf0:amd64 (3.7-3) ...\n",
      "Selecting previously unselected package iperf3.\n",
      "Preparing to unpack .../iperf3_3.7-3_amd64.deb ...\n",
      "Unpacking iperf3 (3.7-3) ...\n",
      "Selecting previously unselected package net-tools.\n",
      "Preparing to unpack .../net-tools_1.60+git20180626.aebd88e-1ubuntu1_amd64.deb ...\n",
      "Unpacking net-tools (1.60+git20180626.aebd88e-1ubuntu1) ...\n",
      "Selecting previously unselected package traceroute.\n",
      "Preparing to unpack .../traceroute_1%3a2.1.0-2_amd64.deb ...\n",
      "Unpacking traceroute (1:2.1.0-2) ...\n",
      "Setting up net-tools (1.60+git20180626.aebd88e-1ubuntu1) ...\n",
      "Setting up traceroute (1:2.1.0-2) ...\n",
      "update-alternatives: using /usr/bin/traceroute.db to provide /usr/bin/traceroute (traceroute) in auto mode\n",
      "update-alternatives: using /usr/bin/lft.db to provide /usr/bin/lft (lft) in auto mode\n",
      "update-alternatives: using /usr/bin/traceproto.db to provide /usr/bin/traceproto (traceproto) in auto mode\n",
      "update-alternatives: using /usr/sbin/tcptraceroute.db to provide /usr/sbin/tcptraceroute (tcptraceroute) in auto mode\n",
      "Setting up libsctp1:amd64 (1.0.18+dfsg-1) ...\n",
      "Setting up libiperf0:amd64 (3.7-3) ...\n",
      "Setting up iperf3 (3.7-3) ...\n",
      "Processing triggers for man-db (2.9.1-1) ...\n",
      "Processing triggers for libc-bin (2.31-0ubuntu9.2) ...\n",
      "\n",
      "\n",
      "WARNING: apt does not have a stable CLI interface. Use with caution in scripts.\n",
      "\n",
      "\n",
      "WARNING: apt does not have a stable CLI interface. Use with caution in scripts.\n",
      "\n",
      "debconf: unable to initialize frontend: Dialog\n",
      "debconf: (Dialog frontend will not work on a dumb terminal, an emacs shell buffer, or without a controlling terminal.)\n",
      "debconf: falling back to frontend: Readline\n",
      "debconf: unable to initialize frontend: Readline\n",
      "debconf: (This frontend requires a controlling tty.)\n",
      "debconf: falling back to frontend: Teletype\n",
      "dpkg-preconfigure: unable to re-open stdin: \n",
      "\n",
      "Get:1 http://security.ubuntu.com/ubuntu focal-security InRelease [114 kB]\n",
      "Hit:2 http://nova.clouds.archive.ubuntu.com/ubuntu focal InRelease\n",
      "Get:3 http://nova.clouds.archive.ubuntu.com/ubuntu focal-updates InRelease [114 kB]\n",
      "Get:4 http://security.ubuntu.com/ubuntu focal-security/main amd64 Packages [1064 kB]\n",
      "Get:5 http://security.ubuntu.com/ubuntu focal-security/main Translation-en [196 kB]\n",
      "Get:6 http://security.ubuntu.com/ubuntu focal-security/main amd64 c-n-f Metadata [9080 B]\n",
      "Get:7 http://security.ubuntu.com/ubuntu focal-security/restricted amd64 Packages [560 kB]\n",
      "Get:8 http://security.ubuntu.com/ubuntu focal-security/restricted Translation-en [80.2 kB]\n",
      "Get:9 http://security.ubuntu.com/ubuntu focal-security/restricted amd64 c-n-f Metadata [528 B]\n",
      "Get:10 http://security.ubuntu.com/ubuntu focal-security/universe amd64 Packages [663 kB]\n",
      "Get:11 http://nova.clouds.archive.ubuntu.com/ubuntu focal-backports InRelease [108 kB]\n",
      "Get:12 http://security.ubuntu.com/ubuntu focal-security/universe Translation-en [111 kB]\n",
      "Get:13 http://security.ubuntu.com/ubuntu focal-security/universe amd64 c-n-f Metadata [12.9 kB]\n",
      "Get:14 http://security.ubuntu.com/ubuntu focal-security/multiverse amd64 Packages [21.9 kB]\n",
      "Get:15 http://security.ubuntu.com/ubuntu focal-security/multiverse Translation-en [4948 B]\n",
      "Get:16 http://security.ubuntu.com/ubuntu focal-security/multiverse amd64 c-n-f Metadata [540 B]\n",
      "Get:17 http://nova.clouds.archive.ubuntu.com/ubuntu focal/universe amd64 Packages [8628 kB]\n",
      "Get:18 http://nova.clouds.archive.ubuntu.com/ubuntu focal/universe Translation-en [5124 kB]\n",
      "Get:19 http://nova.clouds.archive.ubuntu.com/ubuntu focal/universe amd64 c-n-f Metadata [265 kB]\n",
      "Get:20 http://nova.clouds.archive.ubuntu.com/ubuntu focal/multiverse amd64 Packages [144 kB]\n",
      "Get:21 http://nova.clouds.archive.ubuntu.com/ubuntu focal/multiverse Translation-en [104 kB]\n",
      "Get:22 http://nova.clouds.archive.ubuntu.com/ubuntu focal/multiverse amd64 c-n-f Metadata [9136 B]\n",
      "Get:23 http://nova.clouds.archive.ubuntu.com/ubuntu focal-updates/main amd64 Packages [1389 kB]\n",
      "Get:24 http://nova.clouds.archive.ubuntu.com/ubuntu focal-updates/main Translation-en [282 kB]\n",
      "Get:25 http://nova.clouds.archive.ubuntu.com/ubuntu focal-updates/main amd64 c-n-f Metadata [14.6 kB]\n",
      "Get:26 http://nova.clouds.archive.ubuntu.com/ubuntu focal-updates/restricted amd64 Packages [606 kB]\n",
      "Get:27 http://nova.clouds.archive.ubuntu.com/ubuntu focal-updates/restricted Translation-en [86.8 kB]\n",
      "Get:28 http://nova.clouds.archive.ubuntu.com/ubuntu focal-updates/restricted amd64 c-n-f Metadata [528 B]\n",
      "Get:29 http://nova.clouds.archive.ubuntu.com/ubuntu focal-updates/universe amd64 Packages [879 kB]\n",
      "Get:30 http://nova.clouds.archive.ubuntu.com/ubuntu focal-updates/universe Translation-en [190 kB]\n",
      "Get:31 http://nova.clouds.archive.ubuntu.com/ubuntu focal-updates/universe amd64 c-n-f Metadata [19.6 kB]\n",
      "Get:32 http://nova.clouds.archive.ubuntu.com/ubuntu focal-updates/multiverse amd64 Packages [24.8 kB]\n",
      "Get:33 http://nova.clouds.archive.ubuntu.com/ubuntu focal-updates/multiverse Translation-en [6928 B]\n",
      "Get:34 http://nova.clouds.archive.ubuntu.com/ubuntu focal-updates/multiverse amd64 c-n-f Metadata [616 B]\n",
      "Get:35 http://nova.clouds.archive.ubuntu.com/ubuntu focal-backports/main amd64 Packages [41.2 kB]\n",
      "Get:36 http://nova.clouds.archive.ubuntu.com/ubuntu focal-backports/main Translation-en [9732 B]\n",
      "Get:37 http://nova.clouds.archive.ubuntu.com/ubuntu focal-backports/main amd64 c-n-f Metadata [516 B]\n",
      "Get:38 http://nova.clouds.archive.ubuntu.com/ubuntu focal-backports/restricted amd64 c-n-f Metadata [116 B]\n",
      "Get:39 http://nova.clouds.archive.ubuntu.com/ubuntu focal-backports/universe amd64 Packages [18.9 kB]\n",
      "Get:40 http://nova.clouds.archive.ubuntu.com/ubuntu focal-backports/universe Translation-en [7524 B]\n",
      "Get:41 http://nova.clouds.archive.ubuntu.com/ubuntu focal-backports/universe amd64 c-n-f Metadata [644 B]\n",
      "Get:42 http://nova.clouds.archive.ubuntu.com/ubuntu focal-backports/multiverse amd64 c-n-f Metadata [116 B]\n",
      "Fetched 20.9 MB in 5s (4555 kB/s)\n",
      "Reading package lists...\n",
      "Building dependency tree...\n",
      "Reading state information...\n",
      "78 packages can be upgraded. Run 'apt list --upgradable' to see them.\n",
      "Reading package lists...\n",
      "Building dependency tree...\n",
      "Reading state information...\n",
      "The following additional packages will be installed:\n",
      "  libiperf0 libsctp1\n",
      "Suggested packages:\n",
      "  lksctp-tools\n",
      "The following NEW packages will be installed:\n",
      "  iperf3 libiperf0 libsctp1 net-tools traceroute\n",
      "0 upgraded, 5 newly installed, 0 to remove and 78 not upgraded.\n",
      "Need to get 336 kB of archives.\n",
      "After this operation, 1347 kB of additional disk space will be used.\n",
      "Get:1 http://nova.clouds.archive.ubuntu.com/ubuntu focal/main amd64 libsctp1 amd64 1.0.18+dfsg-1 [7876 B]\n",
      "Get:2 http://nova.clouds.archive.ubuntu.com/ubuntu focal/universe amd64 libiperf0 amd64 3.7-3 [72.0 kB]\n",
      "Get:3 http://nova.clouds.archive.ubuntu.com/ubuntu focal/universe amd64 iperf3 amd64 3.7-3 [14.2 kB]\n",
      "Get:4 http://nova.clouds.archive.ubuntu.com/ubuntu focal/main amd64 net-tools amd64 1.60+git20180626.aebd88e-1ubuntu1 [196 kB]\n",
      "Get:5 http://nova.clouds.archive.ubuntu.com/ubuntu focal/universe amd64 traceroute amd64 1:2.1.0-2 [45.4 kB]\n",
      "Fetched 336 kB in 1s (276 kB/s)\n",
      "Selecting previously unselected package libsctp1:amd64.\n",
      "(Reading database ... 63512 files and directories currently installed.)\n",
      "Preparing to unpack .../libsctp1_1.0.18+dfsg-1_amd64.deb ...\n",
      "Unpacking libsctp1:amd64 (1.0.18+dfsg-1) ...\n",
      "Selecting previously unselected package libiperf0:amd64.\n",
      "Preparing to unpack .../libiperf0_3.7-3_amd64.deb ...\n",
      "Unpacking libiperf0:amd64 (3.7-3) ...\n",
      "Selecting previously unselected package iperf3.\n",
      "Preparing to unpack .../iperf3_3.7-3_amd64.deb ...\n",
      "Unpacking iperf3 (3.7-3) ...\n",
      "Selecting previously unselected package net-tools.\n",
      "Preparing to unpack .../net-tools_1.60+git20180626.aebd88e-1ubuntu1_amd64.deb ...\n",
      "Unpacking net-tools (1.60+git20180626.aebd88e-1ubuntu1) ...\n",
      "Selecting previously unselected package traceroute.\n",
      "Preparing to unpack .../traceroute_1%3a2.1.0-2_amd64.deb ...\n",
      "Unpacking traceroute (1:2.1.0-2) ...\n",
      "Setting up net-tools (1.60+git20180626.aebd88e-1ubuntu1) ...\n",
      "Setting up traceroute (1:2.1.0-2) ...\n",
      "update-alternatives: using /usr/bin/traceroute.db to provide /usr/bin/traceroute (traceroute) in auto mode\n",
      "update-alternatives: using /usr/bin/lft.db to provide /usr/bin/lft (lft) in auto mode\n",
      "update-alternatives: using /usr/bin/traceproto.db to provide /usr/bin/traceproto (traceproto) in auto mode\n",
      "update-alternatives: using /usr/sbin/tcptraceroute.db to provide /usr/sbin/tcptraceroute (tcptraceroute) in auto mode\n",
      "Setting up libsctp1:amd64 (1.0.18+dfsg-1) ...\n",
      "Setting up libiperf0:amd64 (3.7-3) ...\n",
      "Setting up iperf3 (3.7-3) ...\n",
      "Processing triggers for man-db (2.9.1-1) ...\n",
      "Processing triggers for libc-bin (2.31-0ubuntu9.2) ...\n",
      "\n",
      "\n",
      "WARNING: apt does not have a stable CLI interface. Use with caution in scripts.\n",
      "\n",
      "\n",
      "WARNING: apt does not have a stable CLI interface. Use with caution in scripts.\n",
      "\n",
      "debconf: unable to initialize frontend: Dialog\n",
      "debconf: (Dialog frontend will not work on a dumb terminal, an emacs shell buffer, or without a controlling terminal.)\n",
      "debconf: falling back to frontend: Readline\n",
      "debconf: unable to initialize frontend: Readline\n",
      "debconf: (This frontend requires a controlling tty.)\n",
      "debconf: falling back to frontend: Teletype\n",
      "dpkg-preconfigure: unable to re-open stdin: \n",
      "\n"
     ]
    }
   ],
   "source": [
    "stdin, stdout, stderr = client1.exec_command('sudo apt update && sudo apt install -y net-tools traceroute iperf3')\n",
    "print(stdout.read().decode(\"utf-8\"))\n",
    "print(stderr.read().decode(\"utf-8\"))\n",
    "stdin, stdout, stderr = client2.exec_command('sudo apt update && sudo apt install -y net-tools traceroute iperf3')\n",
    "print(stdout.read().decode(\"utf-8\"))\n",
    "print(stderr.read().decode(\"utf-8\"))\n",
    "stdin, stdout, stderr = client3.exec_command('sudo apt update && sudo apt install -y net-tools traceroute iperf3')\n",
    "print(stdout.read().decode(\"utf-8\"))\n",
    "print(stderr.read().decode(\"utf-8\"))"
   ]
  },
  {
   "cell_type": "markdown",
   "metadata": {},
   "source": [
    "### Let's look at the available interfaces."
   ]
  },
  {
   "cell_type": "code",
   "execution_count": 53,
   "metadata": {
    "tags": []
   },
   "outputs": [
    {
     "name": "stdout",
     "output_type": "stream",
     "text": [
      "1: lo: <LOOPBACK,UP,LOWER_UP> mtu 65536 qdisc noqueue state UNKNOWN group default qlen 1000\n",
      "    link/loopback 00:00:00:00:00:00 brd 00:00:00:00:00:00\n",
      "    inet 127.0.0.1/8 scope host lo\n",
      "       valid_lft forever preferred_lft forever\n",
      "    inet6 ::1/128 scope host \n",
      "       valid_lft forever preferred_lft forever\n",
      "2: ens3: <BROADCAST,MULTICAST,UP,LOWER_UP> mtu 9000 qdisc fq_codel state UP group default qlen 1000\n",
      "    link/ether fa:16:3e:a3:8d:19 brd ff:ff:ff:ff:ff:ff\n",
      "    inet 10.20.4.32/24 brd 10.20.4.255 scope global dynamic ens3\n",
      "       valid_lft 86091sec preferred_lft 86091sec\n",
      "    inet6 fe80::f816:3eff:fea3:8d19/64 scope link \n",
      "       valid_lft forever preferred_lft forever\n",
      "3: ens7: <BROADCAST,MULTICAST> mtu 1500 qdisc noop state DOWN group default qlen 1000\n",
      "    link/ether 04:3f:72:fe:a6:70 brd ff:ff:ff:ff:ff:ff\n",
      "4: ens8: <BROADCAST,MULTICAST> mtu 1500 qdisc noop state DOWN group default qlen 1000\n",
      "    link/ether 04:3f:72:fe:a6:71 brd ff:ff:ff:ff:ff:ff\n",
      "\n",
      "\n"
     ]
    }
   ],
   "source": [
    "stdin, stdout, stderr = client1.exec_command('ip a')\n",
    "print(stdout.read().decode(\"utf-8\"))\n",
    "print(stderr.read().decode(\"utf-8\"))"
   ]
  },
  {
   "cell_type": "code",
   "execution_count": 54,
   "metadata": {},
   "outputs": [
    {
     "name": "stdout",
     "output_type": "stream",
     "text": [
      "1: lo: <LOOPBACK,UP,LOWER_UP> mtu 65536 qdisc noqueue state UNKNOWN group default qlen 1000\n",
      "    link/loopback 00:00:00:00:00:00 brd 00:00:00:00:00:00\n",
      "    inet 127.0.0.1/8 scope host lo\n",
      "       valid_lft forever preferred_lft forever\n",
      "    inet6 ::1/128 scope host \n",
      "       valid_lft forever preferred_lft forever\n",
      "2: ens3: <BROADCAST,MULTICAST,UP,LOWER_UP> mtu 9000 qdisc fq_codel state UP group default qlen 1000\n",
      "    link/ether fa:16:3e:03:bd:3a brd ff:ff:ff:ff:ff:ff\n",
      "    inet 10.20.4.214/24 brd 10.20.4.255 scope global dynamic ens3\n",
      "       valid_lft 86100sec preferred_lft 86100sec\n",
      "    inet6 fe80::f816:3eff:fe03:bd3a/64 scope link \n",
      "       valid_lft forever preferred_lft forever\n",
      "3: ens7: <BROADCAST,MULTICAST> mtu 1500 qdisc noop state DOWN group default qlen 1000\n",
      "    link/ether 04:3f:72:fe:a6:b8 brd ff:ff:ff:ff:ff:ff\n",
      "4: ens8: <BROADCAST,MULTICAST> mtu 1500 qdisc noop state DOWN group default qlen 1000\n",
      "    link/ether 04:3f:72:fe:a6:b9 brd ff:ff:ff:ff:ff:ff\n",
      "\n",
      "\n"
     ]
    }
   ],
   "source": [
    "stdin, stdout, stderr = client2.exec_command('ip a')\n",
    "print(stdout.read().decode(\"utf-8\"))\n",
    "print(stderr.read().decode(\"utf-8\"))"
   ]
  },
  {
   "cell_type": "code",
   "execution_count": 55,
   "metadata": {},
   "outputs": [
    {
     "name": "stdout",
     "output_type": "stream",
     "text": [
      "1: lo: <LOOPBACK,UP,LOWER_UP> mtu 65536 qdisc noqueue state UNKNOWN group default qlen 1000\n",
      "    link/loopback 00:00:00:00:00:00 brd 00:00:00:00:00:00\n",
      "    inet 127.0.0.1/8 scope host lo\n",
      "       valid_lft forever preferred_lft forever\n",
      "    inet6 ::1/128 scope host \n",
      "       valid_lft forever preferred_lft forever\n",
      "2: ens3: <BROADCAST,MULTICAST,UP,LOWER_UP> mtu 9000 qdisc fq_codel state UP group default qlen 1000\n",
      "    link/ether fa:16:3e:d1:31:c5 brd ff:ff:ff:ff:ff:ff\n",
      "    inet 10.20.4.211/24 brd 10.20.4.255 scope global dynamic ens3\n",
      "       valid_lft 86107sec preferred_lft 86107sec\n",
      "    inet6 2001:1948:417:7:f816:3eff:fed1:31c5/64 scope global dynamic mngtmpaddr noprefixroute \n",
      "       valid_lft 86363sec preferred_lft 14363sec\n",
      "    inet6 fe80::f816:3eff:fed1:31c5/64 scope link \n",
      "       valid_lft forever preferred_lft forever\n",
      "3: ens7: <BROADCAST,MULTICAST> mtu 1500 qdisc noop state DOWN group default qlen 1000\n",
      "    link/ether 04:3f:72:fa:75:88 brd ff:ff:ff:ff:ff:ff\n",
      "4: ens8: <BROADCAST,MULTICAST> mtu 1500 qdisc noop state DOWN group default qlen 1000\n",
      "    link/ether 04:3f:72:fa:75:89 brd ff:ff:ff:ff:ff:ff\n",
      "\n",
      "\n"
     ]
    }
   ],
   "source": [
    "stdin, stdout, stderr = client3.exec_command('ip a')\n",
    "print(stdout.read().decode(\"utf-8\"))\n",
    "print(stderr.read().decode(\"utf-8\"))"
   ]
  },
  {
   "cell_type": "markdown",
   "metadata": {},
   "source": [
    "### All nodes have two network interfaces."
   ]
  },
  {
   "cell_type": "markdown",
   "metadata": {},
   "source": [
    "### Now, we need to remember that we have requested that\n",
    "\n",
    "- `n1`'s first port (`ens8`) and `n2`'s first port (`ens7`) are in the same vlan which is tagged `200`\n",
    "- `n2`'s second port (`ens8`) and `n3`'s first port (`ens7`) are in the same vlan which is tagged `201`"
   ]
  },
  {
   "cell_type": "markdown",
   "metadata": {},
   "source": [
    "<hr>"
   ]
  },
  {
   "cell_type": "markdown",
   "metadata": {},
   "source": [
    "### Now let's configure our interfaces."
   ]
  },
  {
   "cell_type": "markdown",
   "metadata": {},
   "source": [
    "### Let's begin by configuring `n1`'s NIC."
   ]
  },
  {
   "cell_type": "code",
   "execution_count": 56,
   "metadata": {},
   "outputs": [
    {
     "name": "stdout",
     "output_type": "stream",
     "text": [
      "\n",
      "\n"
     ]
    }
   ],
   "source": [
    "stdin, stdout, stderr = client1.exec_command('sudo ip link add link ens7 name ens7.200 type vlan id 200')\n",
    "print(stdout.read().decode(\"utf-8\"))\n",
    "print(stderr.read().decode(\"utf-8\"))"
   ]
  },
  {
   "cell_type": "code",
   "execution_count": 57,
   "metadata": {},
   "outputs": [
    {
     "name": "stdout",
     "output_type": "stream",
     "text": [
      "\n",
      "\n"
     ]
    }
   ],
   "source": [
    "stdin, stdout, stderr = client1.exec_command('sudo ip link set dev ens7 up')\n",
    "print(stdout.read().decode(\"utf-8\"))\n",
    "print(stderr.read().decode(\"utf-8\"))"
   ]
  },
  {
   "cell_type": "code",
   "execution_count": 58,
   "metadata": {},
   "outputs": [
    {
     "name": "stdout",
     "output_type": "stream",
     "text": [
      "\n",
      "\n"
     ]
    }
   ],
   "source": [
    "stdin, stdout, stderr = client1.exec_command('sudo ip link set dev ens7.200 up')\n",
    "print(stdout.read().decode(\"utf-8\"))\n",
    "print(stderr.read().decode(\"utf-8\"))"
   ]
  },
  {
   "cell_type": "code",
   "execution_count": 59,
   "metadata": {},
   "outputs": [
    {
     "name": "stdout",
     "output_type": "stream",
     "text": [
      "\n",
      "\n"
     ]
    }
   ],
   "source": [
    "stdin, stdout, stderr = client1.exec_command('sudo ip addr add 192.168.10.51/24 dev ens7.200')\n",
    "print(stdout.read().decode(\"utf-8\"))\n",
    "print(stderr.read().decode(\"utf-8\"))"
   ]
  },
  {
   "cell_type": "code",
   "execution_count": 60,
   "metadata": {},
   "outputs": [
    {
     "name": "stdout",
     "output_type": "stream",
     "text": [
      "1: lo: <LOOPBACK,UP,LOWER_UP> mtu 65536 qdisc noqueue state UNKNOWN group default qlen 1000\n",
      "    link/loopback 00:00:00:00:00:00 brd 00:00:00:00:00:00\n",
      "    inet 127.0.0.1/8 scope host lo\n",
      "       valid_lft forever preferred_lft forever\n",
      "    inet6 ::1/128 scope host \n",
      "       valid_lft forever preferred_lft forever\n",
      "2: ens3: <BROADCAST,MULTICAST,UP,LOWER_UP> mtu 9000 qdisc fq_codel state UP group default qlen 1000\n",
      "    link/ether fa:16:3e:a3:8d:19 brd ff:ff:ff:ff:ff:ff\n",
      "    inet 10.20.4.32/24 brd 10.20.4.255 scope global dynamic ens3\n",
      "       valid_lft 86057sec preferred_lft 86057sec\n",
      "    inet6 fe80::f816:3eff:fea3:8d19/64 scope link \n",
      "       valid_lft forever preferred_lft forever\n",
      "3: ens7: <BROADCAST,MULTICAST,UP,LOWER_UP> mtu 1500 qdisc mq state UP group default qlen 1000\n",
      "    link/ether 04:3f:72:fe:a6:70 brd ff:ff:ff:ff:ff:ff\n",
      "    inet6 fe80::63f:72ff:fefe:a670/64 scope link \n",
      "       valid_lft forever preferred_lft forever\n",
      "4: ens8: <BROADCAST,MULTICAST> mtu 1500 qdisc noop state DOWN group default qlen 1000\n",
      "    link/ether 04:3f:72:fe:a6:71 brd ff:ff:ff:ff:ff:ff\n",
      "5: ens7.200@ens7: <BROADCAST,MULTICAST,UP,LOWER_UP> mtu 1500 qdisc noqueue state UP group default qlen 1000\n",
      "    link/ether 04:3f:72:fe:a6:70 brd ff:ff:ff:ff:ff:ff\n",
      "    inet 192.168.10.51/24 scope global ens7.200\n",
      "       valid_lft forever preferred_lft forever\n",
      "    inet6 fe80::63f:72ff:fefe:a670/64 scope link \n",
      "       valid_lft forever preferred_lft forever\n",
      "\n",
      "\n"
     ]
    }
   ],
   "source": [
    "stdin, stdout, stderr = client1.exec_command('ip a')\n",
    "print(stdout.read().decode(\"utf-8\"))\n",
    "print(stderr.read().decode(\"utf-8\"))"
   ]
  },
  {
   "cell_type": "markdown",
   "metadata": {},
   "source": [
    "<hr>"
   ]
  },
  {
   "cell_type": "markdown",
   "metadata": {},
   "source": [
    "### Now let's configure `n2`'s NIC.\n",
    "\n",
    "<!-- ### We need to add a new interface that picks traffic tagged `200` (as we specified when we were creating the slice).\n",
    "\n",
    "### We are going to create two \"vlan\" interfaces called `ens7.200` and `ens8.200`. They are going to pick traffic tagged `200` from their corresponding interfaces (`ens7` and `ens8` respectively).\n",
    "\n",
    "### And then we will assign IP addresses to `ens7.200` and `ens8.200`. -->"
   ]
  },
  {
   "cell_type": "code",
   "execution_count": 61,
   "metadata": {},
   "outputs": [
    {
     "name": "stdout",
     "output_type": "stream",
     "text": [
      "\n",
      "\n"
     ]
    }
   ],
   "source": [
    "stdin, stdout, stderr = client2.exec_command('sudo ip link add link ens7 name ens7.200 type vlan id 200')\n",
    "print(stdout.read().decode(\"utf-8\"))\n",
    "print(stderr.read().decode(\"utf-8\"))"
   ]
  },
  {
   "cell_type": "code",
   "execution_count": 62,
   "metadata": {},
   "outputs": [
    {
     "name": "stdout",
     "output_type": "stream",
     "text": [
      "\n",
      "\n"
     ]
    }
   ],
   "source": [
    "stdin, stdout, stderr = client2.exec_command('sudo ip link set dev ens7 up')\n",
    "print(stdout.read().decode(\"utf-8\"))\n",
    "print(stderr.read().decode(\"utf-8\"))"
   ]
  },
  {
   "cell_type": "code",
   "execution_count": 63,
   "metadata": {},
   "outputs": [
    {
     "name": "stdout",
     "output_type": "stream",
     "text": [
      "\n",
      "\n"
     ]
    }
   ],
   "source": [
    "stdin, stdout, stderr = client2.exec_command('sudo ip link set dev ens7.200 up')\n",
    "print(stdout.read().decode(\"utf-8\"))\n",
    "print(stderr.read().decode(\"utf-8\"))"
   ]
  },
  {
   "cell_type": "code",
   "execution_count": 64,
   "metadata": {},
   "outputs": [
    {
     "name": "stdout",
     "output_type": "stream",
     "text": [
      "\n",
      "\n"
     ]
    }
   ],
   "source": [
    "stdin, stdout, stderr = client2.exec_command('sudo ip addr add 192.168.10.52/24 dev ens7.200')\n",
    "print(stdout.read().decode(\"utf-8\"))\n",
    "print(stderr.read().decode(\"utf-8\"))"
   ]
  },
  {
   "cell_type": "code",
   "execution_count": 65,
   "metadata": {},
   "outputs": [
    {
     "name": "stdout",
     "output_type": "stream",
     "text": [
      "1: lo: <LOOPBACK,UP,LOWER_UP> mtu 65536 qdisc noqueue state UNKNOWN group default qlen 1000\n",
      "    link/loopback 00:00:00:00:00:00 brd 00:00:00:00:00:00\n",
      "    inet 127.0.0.1/8 scope host lo\n",
      "       valid_lft forever preferred_lft forever\n",
      "    inet6 ::1/128 scope host \n",
      "       valid_lft forever preferred_lft forever\n",
      "2: ens3: <BROADCAST,MULTICAST,UP,LOWER_UP> mtu 9000 qdisc fq_codel state UP group default qlen 1000\n",
      "    link/ether fa:16:3e:03:bd:3a brd ff:ff:ff:ff:ff:ff\n",
      "    inet 10.20.4.214/24 brd 10.20.4.255 scope global dynamic ens3\n",
      "       valid_lft 86053sec preferred_lft 86053sec\n",
      "    inet6 fe80::f816:3eff:fe03:bd3a/64 scope link \n",
      "       valid_lft forever preferred_lft forever\n",
      "3: ens7: <BROADCAST,MULTICAST,UP,LOWER_UP> mtu 1500 qdisc mq state UP group default qlen 1000\n",
      "    link/ether 04:3f:72:fe:a6:b8 brd ff:ff:ff:ff:ff:ff\n",
      "    inet6 fe80::63f:72ff:fefe:a6b8/64 scope link \n",
      "       valid_lft forever preferred_lft forever\n",
      "4: ens8: <BROADCAST,MULTICAST> mtu 1500 qdisc noop state DOWN group default qlen 1000\n",
      "    link/ether 04:3f:72:fe:a6:b9 brd ff:ff:ff:ff:ff:ff\n",
      "5: ens7.200@ens7: <BROADCAST,MULTICAST,UP,LOWER_UP> mtu 1500 qdisc noqueue state UP group default qlen 1000\n",
      "    link/ether 04:3f:72:fe:a6:b8 brd ff:ff:ff:ff:ff:ff\n",
      "    inet 192.168.10.52/24 scope global ens7.200\n",
      "       valid_lft forever preferred_lft forever\n",
      "    inet6 fe80::63f:72ff:fefe:a6b8/64 scope link \n",
      "       valid_lft forever preferred_lft forever\n",
      "\n",
      "\n"
     ]
    }
   ],
   "source": [
    "stdin, stdout, stderr = client2.exec_command('ip a')\n",
    "print(stdout.read().decode(\"utf-8\"))\n",
    "print(stderr.read().decode(\"utf-8\"))"
   ]
  },
  {
   "cell_type": "markdown",
   "metadata": {},
   "source": [
    "<hr>"
   ]
  },
  {
   "cell_type": "code",
   "execution_count": 66,
   "metadata": {},
   "outputs": [
    {
     "name": "stdout",
     "output_type": "stream",
     "text": [
      "\n",
      "\n"
     ]
    }
   ],
   "source": [
    "stdin, stdout, stderr = client2.exec_command('sudo ip link add link ens8 name ens8.200 type vlan id 200')\n",
    "print(stdout.read().decode(\"utf-8\"))\n",
    "print(stderr.read().decode(\"utf-8\"))"
   ]
  },
  {
   "cell_type": "code",
   "execution_count": 67,
   "metadata": {},
   "outputs": [
    {
     "name": "stdout",
     "output_type": "stream",
     "text": [
      "\n",
      "\n"
     ]
    }
   ],
   "source": [
    "stdin, stdout, stderr = client2.exec_command('sudo ip link set dev ens8 up')\n",
    "print(stdout.read().decode(\"utf-8\"))\n",
    "print(stderr.read().decode(\"utf-8\"))"
   ]
  },
  {
   "cell_type": "code",
   "execution_count": 68,
   "metadata": {},
   "outputs": [
    {
     "name": "stdout",
     "output_type": "stream",
     "text": [
      "\n",
      "\n"
     ]
    }
   ],
   "source": [
    "stdin, stdout, stderr = client2.exec_command('sudo ip link set dev ens8.200 up')\n",
    "print(stdout.read().decode(\"utf-8\"))\n",
    "print(stderr.read().decode(\"utf-8\"))"
   ]
  },
  {
   "cell_type": "code",
   "execution_count": 69,
   "metadata": {},
   "outputs": [
    {
     "name": "stdout",
     "output_type": "stream",
     "text": [
      "\n",
      "\n"
     ]
    }
   ],
   "source": [
    "stdin, stdout, stderr = client2.exec_command('sudo ip addr add 192.168.20.52/24 dev ens8.200')\n",
    "print(stdout.read().decode(\"utf-8\"))\n",
    "print(stderr.read().decode(\"utf-8\"))"
   ]
  },
  {
   "cell_type": "code",
   "execution_count": 70,
   "metadata": {},
   "outputs": [
    {
     "name": "stdout",
     "output_type": "stream",
     "text": [
      "1: lo: <LOOPBACK,UP,LOWER_UP> mtu 65536 qdisc noqueue state UNKNOWN group default qlen 1000\n",
      "    link/loopback 00:00:00:00:00:00 brd 00:00:00:00:00:00\n",
      "    inet 127.0.0.1/8 scope host lo\n",
      "       valid_lft forever preferred_lft forever\n",
      "    inet6 ::1/128 scope host \n",
      "       valid_lft forever preferred_lft forever\n",
      "2: ens3: <BROADCAST,MULTICAST,UP,LOWER_UP> mtu 9000 qdisc fq_codel state UP group default qlen 1000\n",
      "    link/ether fa:16:3e:03:bd:3a brd ff:ff:ff:ff:ff:ff\n",
      "    inet 10.20.4.214/24 brd 10.20.4.255 scope global dynamic ens3\n",
      "       valid_lft 86045sec preferred_lft 86045sec\n",
      "    inet6 fe80::f816:3eff:fe03:bd3a/64 scope link \n",
      "       valid_lft forever preferred_lft forever\n",
      "3: ens7: <BROADCAST,MULTICAST,UP,LOWER_UP> mtu 1500 qdisc mq state UP group default qlen 1000\n",
      "    link/ether 04:3f:72:fe:a6:b8 brd ff:ff:ff:ff:ff:ff\n",
      "    inet6 fe80::63f:72ff:fefe:a6b8/64 scope link \n",
      "       valid_lft forever preferred_lft forever\n",
      "4: ens8: <BROADCAST,MULTICAST,UP,LOWER_UP> mtu 1500 qdisc mq state UP group default qlen 1000\n",
      "    link/ether 04:3f:72:fe:a6:b9 brd ff:ff:ff:ff:ff:ff\n",
      "    inet6 fe80::63f:72ff:fefe:a6b9/64 scope link \n",
      "       valid_lft forever preferred_lft forever\n",
      "5: ens7.200@ens7: <BROADCAST,MULTICAST,UP,LOWER_UP> mtu 1500 qdisc noqueue state UP group default qlen 1000\n",
      "    link/ether 04:3f:72:fe:a6:b8 brd ff:ff:ff:ff:ff:ff\n",
      "    inet 192.168.10.52/24 scope global ens7.200\n",
      "       valid_lft forever preferred_lft forever\n",
      "    inet6 fe80::63f:72ff:fefe:a6b8/64 scope link \n",
      "       valid_lft forever preferred_lft forever\n",
      "6: ens8.200@ens8: <BROADCAST,MULTICAST,UP,LOWER_UP> mtu 1500 qdisc noqueue state UP group default qlen 1000\n",
      "    link/ether 04:3f:72:fe:a6:b9 brd ff:ff:ff:ff:ff:ff\n",
      "    inet 192.168.20.52/24 scope global ens8.200\n",
      "       valid_lft forever preferred_lft forever\n",
      "    inet6 fe80::63f:72ff:fefe:a6b9/64 scope link \n",
      "       valid_lft forever preferred_lft forever\n",
      "\n",
      "\n"
     ]
    }
   ],
   "source": [
    "stdin, stdout, stderr = client2.exec_command('ip a')\n",
    "print(stdout.read().decode(\"utf-8\"))\n",
    "print(stderr.read().decode(\"utf-8\"))"
   ]
  },
  {
   "cell_type": "markdown",
   "metadata": {},
   "source": [
    "<hr>"
   ]
  },
  {
   "cell_type": "markdown",
   "metadata": {},
   "source": [
    "### And finally, let's configure `n3`'s NICs."
   ]
  },
  {
   "cell_type": "code",
   "execution_count": 71,
   "metadata": {},
   "outputs": [
    {
     "name": "stdout",
     "output_type": "stream",
     "text": [
      "\n",
      "\n"
     ]
    }
   ],
   "source": [
    "stdin, stdout, stderr = client3.exec_command('sudo ip link add link ens7 name ens7.200 type vlan id 200')\n",
    "print(stdout.read().decode(\"utf-8\"))\n",
    "print(stderr.read().decode(\"utf-8\"))"
   ]
  },
  {
   "cell_type": "code",
   "execution_count": 72,
   "metadata": {},
   "outputs": [
    {
     "name": "stdout",
     "output_type": "stream",
     "text": [
      "\n",
      "\n"
     ]
    }
   ],
   "source": [
    "stdin, stdout, stderr = client3.exec_command('sudo ip link set dev ens7 up')\n",
    "print(stdout.read().decode(\"utf-8\"))\n",
    "print(stderr.read().decode(\"utf-8\"))"
   ]
  },
  {
   "cell_type": "code",
   "execution_count": 73,
   "metadata": {},
   "outputs": [
    {
     "name": "stdout",
     "output_type": "stream",
     "text": [
      "\n",
      "\n"
     ]
    }
   ],
   "source": [
    "stdin, stdout, stderr = client3.exec_command('sudo ip link set dev ens7.200 up')\n",
    "print(stdout.read().decode(\"utf-8\"))\n",
    "print(stderr.read().decode(\"utf-8\"))"
   ]
  },
  {
   "cell_type": "code",
   "execution_count": 74,
   "metadata": {},
   "outputs": [
    {
     "name": "stdout",
     "output_type": "stream",
     "text": [
      "\n",
      "\n"
     ]
    }
   ],
   "source": [
    "stdin, stdout, stderr = client3.exec_command('sudo ip addr add 192.168.20.53/24 dev ens7.200')\n",
    "print(stdout.read().decode(\"utf-8\"))\n",
    "print(stderr.read().decode(\"utf-8\"))"
   ]
  },
  {
   "cell_type": "code",
   "execution_count": 75,
   "metadata": {},
   "outputs": [
    {
     "name": "stdout",
     "output_type": "stream",
     "text": [
      "1: lo: <LOOPBACK,UP,LOWER_UP> mtu 65536 qdisc noqueue state UNKNOWN group default qlen 1000\n",
      "    link/loopback 00:00:00:00:00:00 brd 00:00:00:00:00:00\n",
      "    inet 127.0.0.1/8 scope host lo\n",
      "       valid_lft forever preferred_lft forever\n",
      "    inet6 ::1/128 scope host \n",
      "       valid_lft forever preferred_lft forever\n",
      "2: ens3: <BROADCAST,MULTICAST,UP,LOWER_UP> mtu 9000 qdisc fq_codel state UP group default qlen 1000\n",
      "    link/ether fa:16:3e:d1:31:c5 brd ff:ff:ff:ff:ff:ff\n",
      "    inet 10.20.4.211/24 brd 10.20.4.255 scope global dynamic ens3\n",
      "       valid_lft 86037sec preferred_lft 86037sec\n",
      "    inet6 2001:1948:417:7:f816:3eff:fed1:31c5/64 scope global dynamic mngtmpaddr noprefixroute \n",
      "       valid_lft 86366sec preferred_lft 14366sec\n",
      "    inet6 fe80::f816:3eff:fed1:31c5/64 scope link \n",
      "       valid_lft forever preferred_lft forever\n",
      "3: ens7: <BROADCAST,MULTICAST,UP,LOWER_UP> mtu 1500 qdisc mq state UP group default qlen 1000\n",
      "    link/ether 04:3f:72:fa:75:88 brd ff:ff:ff:ff:ff:ff\n",
      "    inet6 fe80::63f:72ff:fefa:7588/64 scope link \n",
      "       valid_lft forever preferred_lft forever\n",
      "4: ens8: <BROADCAST,MULTICAST> mtu 1500 qdisc noop state DOWN group default qlen 1000\n",
      "    link/ether 04:3f:72:fa:75:89 brd ff:ff:ff:ff:ff:ff\n",
      "5: ens7.200@ens7: <BROADCAST,MULTICAST,UP,LOWER_UP> mtu 1500 qdisc noqueue state UP group default qlen 1000\n",
      "    link/ether 04:3f:72:fa:75:88 brd ff:ff:ff:ff:ff:ff\n",
      "    inet 192.168.20.53/24 scope global ens7.200\n",
      "       valid_lft forever preferred_lft forever\n",
      "    inet6 fe80::63f:72ff:fefa:7588/64 scope link \n",
      "       valid_lft forever preferred_lft forever\n",
      "\n",
      "\n"
     ]
    }
   ],
   "source": [
    "stdin, stdout, stderr = client3.exec_command('ip a')\n",
    "print(stdout.read().decode(\"utf-8\"))\n",
    "print(stderr.read().decode(\"utf-8\"))"
   ]
  },
  {
   "cell_type": "markdown",
   "metadata": {},
   "source": [
    "<hr>"
   ]
  },
  {
   "cell_type": "markdown",
   "metadata": {},
   "source": [
    "### Now let's ping"
   ]
  },
  {
   "cell_type": "code",
   "execution_count": 76,
   "metadata": {},
   "outputs": [
    {
     "name": "stdout",
     "output_type": "stream",
     "text": [
      "PING 192.168.10.52 (192.168.10.52) 56(84) bytes of data.\n",
      "64 bytes from 192.168.10.52: icmp_seq=1 ttl=64 time=80.6 ms\n",
      "64 bytes from 192.168.10.52: icmp_seq=2 ttl=64 time=40.3 ms\n",
      "64 bytes from 192.168.10.52: icmp_seq=3 ttl=64 time=40.2 ms\n",
      "64 bytes from 192.168.10.52: icmp_seq=4 ttl=64 time=40.3 ms\n",
      "64 bytes from 192.168.10.52: icmp_seq=5 ttl=64 time=40.3 ms\n",
      "\n",
      "--- 192.168.10.52 ping statistics ---\n",
      "5 packets transmitted, 5 received, 0% packet loss, time 4006ms\n",
      "rtt min/avg/max/mdev = 40.243/48.345/80.619/16.136 ms\n",
      "\n",
      "\n"
     ]
    }
   ],
   "source": [
    "stdin, stdout, stderr = client1.exec_command('ping -c 5 192.168.10.52')\n",
    "print(stdout.read().decode(\"utf-8\"))\n",
    "print(stderr.read().decode(\"utf-8\"))"
   ]
  },
  {
   "cell_type": "code",
   "execution_count": 77,
   "metadata": {},
   "outputs": [
    {
     "name": "stdout",
     "output_type": "stream",
     "text": [
      "PING 192.168.20.52 (192.168.20.52) 56(84) bytes of data.\n",
      "\n",
      "--- 192.168.20.52 ping statistics ---\n",
      "5 packets transmitted, 0 received, 100% packet loss, time 4082ms\n",
      "\n",
      "\n",
      "\n"
     ]
    }
   ],
   "source": [
    "stdin, stdout, stderr = client1.exec_command('ping -c 5 192.168.20.52')\n",
    "print(stdout.read().decode(\"utf-8\"))\n",
    "print(stderr.read().decode(\"utf-8\"))"
   ]
  },
  {
   "cell_type": "code",
   "execution_count": 78,
   "metadata": {},
   "outputs": [
    {
     "name": "stdout",
     "output_type": "stream",
     "text": [
      "PING 192.168.20.53 (192.168.20.53) 56(84) bytes of data.\n",
      "\n",
      "--- 192.168.20.53 ping statistics ---\n",
      "5 packets transmitted, 0 received, 100% packet loss, time 4103ms\n",
      "\n",
      "\n",
      "\n"
     ]
    }
   ],
   "source": [
    "stdin, stdout, stderr = client1.exec_command('ping -c 5 192.168.20.53')\n",
    "print(stdout.read().decode(\"utf-8\"))\n",
    "print(stderr.read().decode(\"utf-8\"))"
   ]
  },
  {
   "cell_type": "markdown",
   "metadata": {},
   "source": [
    "### We can see above that client1 is able to talk to client2's first port only."
   ]
  },
  {
   "cell_type": "code",
   "execution_count": 79,
   "metadata": {},
   "outputs": [
    {
     "name": "stdout",
     "output_type": "stream",
     "text": [
      "PING 192.168.10.51 (192.168.10.51) 56(84) bytes of data.\n",
      "64 bytes from 192.168.10.51: icmp_seq=1 ttl=64 time=40.2 ms\n",
      "64 bytes from 192.168.10.51: icmp_seq=2 ttl=64 time=40.2 ms\n",
      "64 bytes from 192.168.10.51: icmp_seq=3 ttl=64 time=40.2 ms\n",
      "64 bytes from 192.168.10.51: icmp_seq=4 ttl=64 time=40.2 ms\n",
      "64 bytes from 192.168.10.51: icmp_seq=5 ttl=64 time=40.3 ms\n",
      "\n",
      "--- 192.168.10.51 ping statistics ---\n",
      "5 packets transmitted, 5 received, 0% packet loss, time 4005ms\n",
      "rtt min/avg/max/mdev = 40.192/40.237/40.273/0.026 ms\n",
      "\n",
      "\n"
     ]
    }
   ],
   "source": [
    "stdin, stdout, stderr = client2.exec_command('ping -c 5 192.168.10.51')\n",
    "print(stdout.read().decode(\"utf-8\"))\n",
    "print(stderr.read().decode(\"utf-8\"))"
   ]
  },
  {
   "cell_type": "code",
   "execution_count": 80,
   "metadata": {},
   "outputs": [
    {
     "name": "stdout",
     "output_type": "stream",
     "text": [
      "PING 192.168.20.53 (192.168.20.53) 56(84) bytes of data.\n",
      "64 bytes from 192.168.20.53: icmp_seq=1 ttl=64 time=74.3 ms\n",
      "64 bytes from 192.168.20.53: icmp_seq=2 ttl=64 time=37.1 ms\n",
      "64 bytes from 192.168.20.53: icmp_seq=3 ttl=64 time=37.1 ms\n",
      "64 bytes from 192.168.20.53: icmp_seq=4 ttl=64 time=37.2 ms\n",
      "64 bytes from 192.168.20.53: icmp_seq=5 ttl=64 time=37.2 ms\n",
      "\n",
      "--- 192.168.20.53 ping statistics ---\n",
      "5 packets transmitted, 5 received, 0% packet loss, time 4005ms\n",
      "rtt min/avg/max/mdev = 37.087/44.563/74.297/14.867 ms\n",
      "\n",
      "\n"
     ]
    }
   ],
   "source": [
    "stdin, stdout, stderr = client2.exec_command('ping -c 5 192.168.20.53')\n",
    "print(stdout.read().decode(\"utf-8\"))\n",
    "print(stderr.read().decode(\"utf-8\"))"
   ]
  },
  {
   "cell_type": "markdown",
   "metadata": {},
   "source": [
    "### We can see above that client2 can talk to client1's port and client3's port."
   ]
  },
  {
   "cell_type": "code",
   "execution_count": 81,
   "metadata": {},
   "outputs": [
    {
     "name": "stdout",
     "output_type": "stream",
     "text": [
      "PING 192.168.20.52 (192.168.20.52) 56(84) bytes of data.\n",
      "64 bytes from 192.168.20.52: icmp_seq=1 ttl=64 time=37.2 ms\n",
      "64 bytes from 192.168.20.52: icmp_seq=2 ttl=64 time=37.1 ms\n",
      "64 bytes from 192.168.20.52: icmp_seq=3 ttl=64 time=37.1 ms\n",
      "64 bytes from 192.168.20.52: icmp_seq=4 ttl=64 time=37.1 ms\n",
      "64 bytes from 192.168.20.52: icmp_seq=5 ttl=64 time=37.3 ms\n",
      "\n",
      "--- 192.168.20.52 ping statistics ---\n",
      "5 packets transmitted, 5 received, 0% packet loss, time 4005ms\n",
      "rtt min/avg/max/mdev = 37.086/37.148/37.262/0.067 ms\n",
      "\n",
      "\n"
     ]
    }
   ],
   "source": [
    "stdin, stdout, stderr = client3.exec_command('ping -c 5 192.168.20.52')\n",
    "print(stdout.read().decode(\"utf-8\"))\n",
    "print(stderr.read().decode(\"utf-8\"))"
   ]
  },
  {
   "cell_type": "code",
   "execution_count": 82,
   "metadata": {},
   "outputs": [
    {
     "name": "stdout",
     "output_type": "stream",
     "text": [
      "PING 192.168.10.52 (192.168.10.52) 56(84) bytes of data.\n",
      "From 10.20.4.211 icmp_seq=1 Destination Host Unreachable\n",
      "From 10.20.4.211 icmp_seq=2 Destination Host Unreachable\n",
      "From 10.20.4.211 icmp_seq=3 Destination Host Unreachable\n",
      "From 10.20.4.211 icmp_seq=4 Destination Host Unreachable\n",
      "From 10.20.4.211 icmp_seq=5 Destination Host Unreachable\n",
      "\n",
      "--- 192.168.10.52 ping statistics ---\n",
      "5 packets transmitted, 0 received, +5 errors, 100% packet loss, time 4052ms\n",
      "pipe 3\n",
      "\n",
      "\n"
     ]
    }
   ],
   "source": [
    "stdin, stdout, stderr = client3.exec_command('ping -c 5 192.168.10.52')\n",
    "print(stdout.read().decode(\"utf-8\"))\n",
    "print(stderr.read().decode(\"utf-8\"))"
   ]
  },
  {
   "cell_type": "code",
   "execution_count": 83,
   "metadata": {},
   "outputs": [
    {
     "name": "stdout",
     "output_type": "stream",
     "text": [
      "PING 192.168.10.51 (192.168.10.51) 56(84) bytes of data.\n",
      "From 10.20.4.211 icmp_seq=1 Destination Host Unreachable\n",
      "From 10.20.4.211 icmp_seq=2 Destination Host Unreachable\n",
      "From 10.20.4.211 icmp_seq=3 Destination Host Unreachable\n",
      "From 10.20.4.211 icmp_seq=4 Destination Host Unreachable\n",
      "From 10.20.4.211 icmp_seq=5 Destination Host Unreachable\n",
      "\n",
      "--- 192.168.10.51 ping statistics ---\n",
      "5 packets transmitted, 0 received, +5 errors, 100% packet loss, time 4094ms\n",
      "pipe 3\n",
      "\n",
      "\n"
     ]
    }
   ],
   "source": [
    "stdin, stdout, stderr = client3.exec_command('ping -c 5 192.168.10.51')\n",
    "print(stdout.read().decode(\"utf-8\"))\n",
    "print(stderr.read().decode(\"utf-8\"))"
   ]
  },
  {
   "cell_type": "markdown",
   "metadata": {},
   "source": [
    "### We can see above that client3 can only talk to client2's second port."
   ]
  },
  {
   "cell_type": "markdown",
   "metadata": {},
   "source": [
    "<hr>"
   ]
  },
  {
   "cell_type": "markdown",
   "metadata": {},
   "source": [
    "### Next, we'll let node 2 act as a router between nodes 1 and 3. This will let nodes 1 and 3 be able to reach each other through node 2."
   ]
  },
  {
   "cell_type": "markdown",
   "metadata": {},
   "source": [
    "### We need to:\n",
    "- let nodes 1 and 3 route packets through the interfaces of the ports that we've already configured.\n",
    "- let node 2 forward packets."
   ]
  },
  {
   "cell_type": "code",
   "execution_count": 84,
   "metadata": {},
   "outputs": [
    {
     "name": "stdout",
     "output_type": "stream",
     "text": [
      "\n",
      "\n"
     ]
    }
   ],
   "source": [
    "stdin, stdout, stderr = client1.exec_command('sudo ip route add 192.168.20.0/24 via 192.168.10.52')\n",
    "print(stdout.read().decode(\"utf-8\"))\n",
    "print(stderr.read().decode(\"utf-8\"))"
   ]
  },
  {
   "cell_type": "code",
   "execution_count": 85,
   "metadata": {},
   "outputs": [
    {
     "name": "stdout",
     "output_type": "stream",
     "text": [
      "\n",
      "\n"
     ]
    }
   ],
   "source": [
    "stdin, stdout, stderr = client3.exec_command('sudo ip route add 192.168.10.0/24 via 192.168.20.52')\n",
    "print(stdout.read().decode(\"utf-8\"))\n",
    "print(stderr.read().decode(\"utf-8\"))"
   ]
  },
  {
   "cell_type": "code",
   "execution_count": 86,
   "metadata": {},
   "outputs": [
    {
     "name": "stdout",
     "output_type": "stream",
     "text": [
      "net.ipv4.ip_forward = 1\n",
      "\n",
      "\n"
     ]
    }
   ],
   "source": [
    "stdin, stdout, stderr = client2.exec_command('sudo sysctl -w net.ipv4.ip_forward=1')\n",
    "print(stdout.read().decode(\"utf-8\"))\n",
    "print(stderr.read().decode(\"utf-8\"))"
   ]
  },
  {
   "cell_type": "markdown",
   "metadata": {},
   "source": [
    "<hr>"
   ]
  },
  {
   "cell_type": "markdown",
   "metadata": {},
   "source": [
    "### Now let's ping again."
   ]
  },
  {
   "cell_type": "code",
   "execution_count": 87,
   "metadata": {},
   "outputs": [
    {
     "name": "stdout",
     "output_type": "stream",
     "text": [
      "PING 192.168.10.52 (192.168.10.52) 56(84) bytes of data.\n",
      "64 bytes from 192.168.10.52: icmp_seq=1 ttl=64 time=40.3 ms\n",
      "64 bytes from 192.168.10.52: icmp_seq=2 ttl=64 time=40.3 ms\n",
      "64 bytes from 192.168.10.52: icmp_seq=3 ttl=64 time=40.2 ms\n",
      "64 bytes from 192.168.10.52: icmp_seq=4 ttl=64 time=40.3 ms\n",
      "64 bytes from 192.168.10.52: icmp_seq=5 ttl=64 time=40.3 ms\n",
      "\n",
      "--- 192.168.10.52 ping statistics ---\n",
      "5 packets transmitted, 5 received, 0% packet loss, time 4005ms\n",
      "rtt min/avg/max/mdev = 40.242/40.275/40.306/0.024 ms\n",
      "\n",
      "\n"
     ]
    }
   ],
   "source": [
    "stdin, stdout, stderr = client1.exec_command('ping -c 5 192.168.10.52')\n",
    "print(stdout.read().decode(\"utf-8\"))\n",
    "print(stderr.read().decode(\"utf-8\"))"
   ]
  },
  {
   "cell_type": "code",
   "execution_count": 88,
   "metadata": {},
   "outputs": [
    {
     "name": "stdout",
     "output_type": "stream",
     "text": [
      "PING 192.168.20.52 (192.168.20.52) 56(84) bytes of data.\n",
      "64 bytes from 192.168.20.52: icmp_seq=1 ttl=64 time=40.3 ms\n",
      "64 bytes from 192.168.20.52: icmp_seq=2 ttl=64 time=40.3 ms\n",
      "64 bytes from 192.168.20.52: icmp_seq=3 ttl=64 time=40.2 ms\n",
      "64 bytes from 192.168.20.52: icmp_seq=4 ttl=64 time=40.3 ms\n",
      "64 bytes from 192.168.20.52: icmp_seq=5 ttl=64 time=40.3 ms\n",
      "\n",
      "--- 192.168.20.52 ping statistics ---\n",
      "5 packets transmitted, 5 received, 0% packet loss, time 4005ms\n",
      "rtt min/avg/max/mdev = 40.238/40.263/40.293/0.017 ms\n",
      "\n",
      "\n"
     ]
    }
   ],
   "source": [
    "stdin, stdout, stderr = client1.exec_command('ping -c 5 192.168.20.52')\n",
    "print(stdout.read().decode(\"utf-8\"))\n",
    "print(stderr.read().decode(\"utf-8\"))"
   ]
  },
  {
   "cell_type": "code",
   "execution_count": 89,
   "metadata": {},
   "outputs": [
    {
     "name": "stdout",
     "output_type": "stream",
     "text": [
      "PING 192.168.20.53 (192.168.20.53) 56(84) bytes of data.\n",
      "64 bytes from 192.168.20.53: icmp_seq=1 ttl=63 time=77.4 ms\n",
      "64 bytes from 192.168.20.53: icmp_seq=2 ttl=63 time=77.3 ms\n",
      "64 bytes from 192.168.20.53: icmp_seq=3 ttl=63 time=77.3 ms\n",
      "64 bytes from 192.168.20.53: icmp_seq=4 ttl=63 time=77.3 ms\n",
      "64 bytes from 192.168.20.53: icmp_seq=5 ttl=63 time=77.3 ms\n",
      "\n",
      "--- 192.168.20.53 ping statistics ---\n",
      "5 packets transmitted, 5 received, 0% packet loss, time 4006ms\n",
      "rtt min/avg/max/mdev = 77.302/77.340/77.416/0.041 ms\n",
      "\n",
      "\n"
     ]
    }
   ],
   "source": [
    "stdin, stdout, stderr = client1.exec_command('ping -c 5 192.168.20.53')\n",
    "print(stdout.read().decode(\"utf-8\"))\n",
    "print(stderr.read().decode(\"utf-8\"))"
   ]
  },
  {
   "cell_type": "markdown",
   "metadata": {},
   "source": [
    "### We can see that all network interfaces are now reachable."
   ]
  },
  {
   "cell_type": "markdown",
   "metadata": {},
   "source": [
    "### Now let's do a traceroute to see the path that the packets take."
   ]
  },
  {
   "cell_type": "code",
   "execution_count": 90,
   "metadata": {},
   "outputs": [
    {
     "name": "stdout",
     "output_type": "stream",
     "text": [
      "traceroute to 192.168.10.52 (192.168.10.52), 30 hops max, 60 byte packets\n",
      " 1  192.168.10.52 (192.168.10.52)  40.247 ms  40.232 ms  40.227 ms\n",
      "\n",
      "\n"
     ]
    }
   ],
   "source": [
    "stdin, stdout, stderr = client1.exec_command('traceroute 192.168.10.52')\n",
    "print(stdout.read().decode(\"utf-8\"))\n",
    "print(stderr.read().decode(\"utf-8\"))"
   ]
  },
  {
   "cell_type": "code",
   "execution_count": 93,
   "metadata": {},
   "outputs": [
    {
     "name": "stdout",
     "output_type": "stream",
     "text": [
      "traceroute to 192.168.20.52 (192.168.20.52), 30 hops max, 60 byte packets\n",
      " 1  192.168.20.52 (192.168.20.52)  40.305 ms * *\n",
      "\n",
      "\n"
     ]
    }
   ],
   "source": [
    "stdin, stdout, stderr = client1.exec_command('traceroute 192.168.20.52')\n",
    "print(stdout.read().decode(\"utf-8\"))\n",
    "print(stderr.read().decode(\"utf-8\"))"
   ]
  },
  {
   "cell_type": "code",
   "execution_count": 94,
   "metadata": {},
   "outputs": [
    {
     "name": "stdout",
     "output_type": "stream",
     "text": [
      "traceroute to 192.168.20.53 (192.168.20.53), 30 hops max, 60 byte packets\n",
      " 1  192.168.10.52 (192.168.10.52)  40.271 ms * *\n",
      " 2  192.168.20.53 (192.168.20.53)  77.316 ms  77.305 ms *\n",
      "\n",
      "\n"
     ]
    }
   ],
   "source": [
    "stdin, stdout, stderr = client1.exec_command('traceroute 192.168.20.53')\n",
    "print(stdout.read().decode(\"utf-8\"))\n",
    "print(stderr.read().decode(\"utf-8\"))"
   ]
  },
  {
   "cell_type": "markdown",
   "metadata": {},
   "source": [
    "### We can see that the two ports of client 2 are directly reachable, as if they are directly connected."
   ]
  },
  {
   "cell_type": "markdown",
   "metadata": {},
   "source": [
    "### And we can see that client 3 is reachable after one hop through client 2."
   ]
  },
  {
   "cell_type": "markdown",
   "metadata": {},
   "source": [
    "### Now let's look at the rest of the clients."
   ]
  },
  {
   "cell_type": "code",
   "execution_count": 95,
   "metadata": {},
   "outputs": [
    {
     "name": "stdout",
     "output_type": "stream",
     "text": [
      "PING 192.168.10.51 (192.168.10.51) 56(84) bytes of data.\n",
      "64 bytes from 192.168.10.51: icmp_seq=1 ttl=64 time=40.3 ms\n",
      "64 bytes from 192.168.10.51: icmp_seq=2 ttl=64 time=40.2 ms\n",
      "64 bytes from 192.168.10.51: icmp_seq=3 ttl=64 time=40.2 ms\n",
      "64 bytes from 192.168.10.51: icmp_seq=4 ttl=64 time=40.2 ms\n",
      "64 bytes from 192.168.10.51: icmp_seq=5 ttl=64 time=40.2 ms\n",
      "\n",
      "--- 192.168.10.51 ping statistics ---\n",
      "5 packets transmitted, 5 received, 0% packet loss, time 4005ms\n",
      "rtt min/avg/max/mdev = 40.196/40.223/40.257/0.021 ms\n",
      "\n",
      "\n"
     ]
    }
   ],
   "source": [
    "stdin, stdout, stderr = client2.exec_command('ping -c 5 192.168.10.51')\n",
    "print(stdout.read().decode(\"utf-8\"))\n",
    "print(stderr.read().decode(\"utf-8\"))"
   ]
  },
  {
   "cell_type": "code",
   "execution_count": 96,
   "metadata": {},
   "outputs": [
    {
     "name": "stdout",
     "output_type": "stream",
     "text": [
      "PING 192.168.20.53 (192.168.20.53) 56(84) bytes of data.\n",
      "64 bytes from 192.168.20.53: icmp_seq=1 ttl=64 time=37.2 ms\n",
      "64 bytes from 192.168.20.53: icmp_seq=2 ttl=64 time=37.2 ms\n",
      "64 bytes from 192.168.20.53: icmp_seq=3 ttl=64 time=37.1 ms\n",
      "64 bytes from 192.168.20.53: icmp_seq=4 ttl=64 time=37.1 ms\n",
      "64 bytes from 192.168.20.53: icmp_seq=5 ttl=64 time=37.1 ms\n",
      "\n",
      "--- 192.168.20.53 ping statistics ---\n",
      "5 packets transmitted, 5 received, 0% packet loss, time 4005ms\n",
      "rtt min/avg/max/mdev = 37.094/37.126/37.187/0.037 ms\n",
      "\n",
      "\n"
     ]
    }
   ],
   "source": [
    "stdin, stdout, stderr = client2.exec_command('ping -c 5 192.168.20.53')\n",
    "print(stdout.read().decode(\"utf-8\"))\n",
    "print(stderr.read().decode(\"utf-8\"))"
   ]
  },
  {
   "cell_type": "markdown",
   "metadata": {},
   "source": [
    "<hr>"
   ]
  },
  {
   "cell_type": "code",
   "execution_count": 97,
   "metadata": {},
   "outputs": [
    {
     "name": "stdout",
     "output_type": "stream",
     "text": [
      "traceroute to 192.168.10.51 (192.168.10.51), 30 hops max, 60 byte packets\n",
      " 1  192.168.10.51 (192.168.10.51)  40.235 ms  40.209 ms  40.198 ms\n",
      "\n",
      "\n"
     ]
    }
   ],
   "source": [
    "stdin, stdout, stderr = client2.exec_command('traceroute 192.168.10.51')\n",
    "print(stdout.read().decode(\"utf-8\"))\n",
    "print(stderr.read().decode(\"utf-8\"))"
   ]
  },
  {
   "cell_type": "code",
   "execution_count": 98,
   "metadata": {},
   "outputs": [
    {
     "name": "stdout",
     "output_type": "stream",
     "text": [
      "traceroute to 192.168.20.53 (192.168.20.53), 30 hops max, 60 byte packets\n",
      " 1  192.168.20.53 (192.168.20.53)  37.104 ms  37.076 ms  37.124 ms\n",
      "\n",
      "\n"
     ]
    }
   ],
   "source": [
    "stdin, stdout, stderr = client2.exec_command('traceroute 192.168.20.53')\n",
    "print(stdout.read().decode(\"utf-8\"))\n",
    "print(stderr.read().decode(\"utf-8\"))"
   ]
  },
  {
   "cell_type": "markdown",
   "metadata": {},
   "source": [
    "<hr>"
   ]
  },
  {
   "cell_type": "code",
   "execution_count": 99,
   "metadata": {},
   "outputs": [
    {
     "name": "stdout",
     "output_type": "stream",
     "text": [
      "PING 192.168.20.52 (192.168.20.52) 56(84) bytes of data.\n",
      "64 bytes from 192.168.20.52: icmp_seq=1 ttl=64 time=37.1 ms\n",
      "64 bytes from 192.168.20.52: icmp_seq=2 ttl=64 time=37.1 ms\n",
      "64 bytes from 192.168.20.52: icmp_seq=3 ttl=64 time=37.1 ms\n",
      "64 bytes from 192.168.20.52: icmp_seq=4 ttl=64 time=37.1 ms\n",
      "64 bytes from 192.168.20.52: icmp_seq=5 ttl=64 time=37.1 ms\n",
      "\n",
      "--- 192.168.20.52 ping statistics ---\n",
      "5 packets transmitted, 5 received, 0% packet loss, time 4005ms\n",
      "rtt min/avg/max/mdev = 37.096/37.119/37.136/0.013 ms\n",
      "\n",
      "\n"
     ]
    }
   ],
   "source": [
    "stdin, stdout, stderr = client3.exec_command('ping -c 5 192.168.20.52')\n",
    "print(stdout.read().decode(\"utf-8\"))\n",
    "print(stderr.read().decode(\"utf-8\"))"
   ]
  },
  {
   "cell_type": "code",
   "execution_count": 100,
   "metadata": {},
   "outputs": [
    {
     "name": "stdout",
     "output_type": "stream",
     "text": [
      "PING 192.168.10.52 (192.168.10.52) 56(84) bytes of data.\n",
      "64 bytes from 192.168.10.52: icmp_seq=1 ttl=64 time=37.1 ms\n",
      "64 bytes from 192.168.10.52: icmp_seq=2 ttl=64 time=37.1 ms\n",
      "64 bytes from 192.168.10.52: icmp_seq=3 ttl=64 time=37.2 ms\n",
      "64 bytes from 192.168.10.52: icmp_seq=4 ttl=64 time=37.1 ms\n",
      "64 bytes from 192.168.10.52: icmp_seq=5 ttl=64 time=37.1 ms\n",
      "\n",
      "--- 192.168.10.52 ping statistics ---\n",
      "5 packets transmitted, 5 received, 0% packet loss, time 4005ms\n",
      "rtt min/avg/max/mdev = 37.056/37.107/37.150/0.036 ms\n",
      "\n",
      "\n"
     ]
    }
   ],
   "source": [
    "stdin, stdout, stderr = client3.exec_command('ping -c 5 192.168.10.52')\n",
    "print(stdout.read().decode(\"utf-8\"))\n",
    "print(stderr.read().decode(\"utf-8\"))"
   ]
  },
  {
   "cell_type": "code",
   "execution_count": 101,
   "metadata": {},
   "outputs": [
    {
     "name": "stdout",
     "output_type": "stream",
     "text": [
      "PING 192.168.10.51 (192.168.10.51) 56(84) bytes of data.\n",
      "64 bytes from 192.168.10.51: icmp_seq=1 ttl=63 time=77.3 ms\n",
      "64 bytes from 192.168.10.51: icmp_seq=2 ttl=63 time=77.4 ms\n",
      "64 bytes from 192.168.10.51: icmp_seq=3 ttl=63 time=77.3 ms\n",
      "64 bytes from 192.168.10.51: icmp_seq=4 ttl=63 time=77.3 ms\n",
      "64 bytes from 192.168.10.51: icmp_seq=5 ttl=63 time=77.3 ms\n",
      "\n",
      "--- 192.168.10.51 ping statistics ---\n",
      "5 packets transmitted, 5 received, 0% packet loss, time 4006ms\n",
      "rtt min/avg/max/mdev = 77.252/77.328/77.399/0.046 ms\n",
      "\n",
      "\n"
     ]
    }
   ],
   "source": [
    "stdin, stdout, stderr = client3.exec_command('ping -c 5 192.168.10.51')\n",
    "print(stdout.read().decode(\"utf-8\"))\n",
    "print(stderr.read().decode(\"utf-8\"))"
   ]
  },
  {
   "cell_type": "code",
   "execution_count": 102,
   "metadata": {},
   "outputs": [
    {
     "name": "stdout",
     "output_type": "stream",
     "text": [
      "traceroute to 192.168.20.52 (192.168.20.52), 30 hops max, 60 byte packets\n",
      " 1  192.168.20.52 (192.168.20.52)  37.111 ms  37.143 ms  37.136 ms\n",
      "\n",
      "\n"
     ]
    }
   ],
   "source": [
    "stdin, stdout, stderr = client3.exec_command('traceroute 192.168.20.52')\n",
    "print(stdout.read().decode(\"utf-8\"))\n",
    "print(stderr.read().decode(\"utf-8\"))"
   ]
  },
  {
   "cell_type": "code",
   "execution_count": 105,
   "metadata": {},
   "outputs": [
    {
     "name": "stdout",
     "output_type": "stream",
     "text": [
      "traceroute to 192.168.10.52 (192.168.10.52), 30 hops max, 60 byte packets\n",
      " 1  192.168.10.52 (192.168.10.52)  37.105 ms  37.097 ms  37.092 ms\n",
      "\n",
      "\n"
     ]
    }
   ],
   "source": [
    "stdin, stdout, stderr = client3.exec_command('traceroute 192.168.10.52')\n",
    "print(stdout.read().decode(\"utf-8\"))\n",
    "print(stderr.read().decode(\"utf-8\"))"
   ]
  },
  {
   "cell_type": "code",
   "execution_count": 106,
   "metadata": {},
   "outputs": [
    {
     "name": "stdout",
     "output_type": "stream",
     "text": [
      "traceroute to 192.168.10.51 (192.168.10.51), 30 hops max, 60 byte packets\n",
      " 1  192.168.20.52 (192.168.20.52)  37.100 ms * *\n",
      " 2  192.168.10.51 (192.168.10.51)  77.289 ms  77.284 ms *\n",
      "\n",
      "\n"
     ]
    }
   ],
   "source": [
    "stdin, stdout, stderr = client3.exec_command('traceroute 192.168.10.51')\n",
    "print(stdout.read().decode(\"utf-8\"))\n",
    "print(stderr.read().decode(\"utf-8\"))"
   ]
  },
  {
   "cell_type": "markdown",
   "metadata": {},
   "source": [
    "<hr>"
   ]
  },
  {
   "cell_type": "markdown",
   "metadata": {},
   "source": [
    "### Now let's do a bandwidth test between client 1 and client 3 (through the router)."
   ]
  },
  {
   "cell_type": "markdown",
   "metadata": {},
   "source": [
    "### Then we can use the code module below."
   ]
  },
  {
   "cell_type": "code",
   "execution_count": 107,
   "metadata": {},
   "outputs": [],
   "source": [
    "import re"
   ]
  },
  {
   "cell_type": "code",
   "execution_count": 108,
   "metadata": {},
   "outputs": [],
   "source": [
    "def bandwidth_test(clientn1, clientn2, ip_of_interface_on_n1, ip_of_interface_on_n2, verbose):\n",
    "    output = \"Information about bandwidth with iperf: \\n\"\n",
    "    stdin, stdout, stderr = clientn1.exec_command('echo \"net.core.rmem_max = 2147483647\\nnet.core.wmem_max = 2147483647\\nnet.ipv4.tcp_rmem = 4096 87380 2147483647\\nnet.ipv4.tcp_wmem = 4096 65536 2147483647\\nnet.ipv4.tcp_congestion_control=htcp\\nnet.ipv4.tcp_mtu_probing=1\\nnet.core.default_qdisc = fq\\n\" | sudo tee -a /etc/sysctl.conf && sudo sysctl -p')\n",
    "    stdin, stdout, stderr = clientn2.exec_command('echo \"net.core.rmem_max = 2147483647\\nnet.core.wmem_max = 2147483647\\nnet.ipv4.tcp_rmem = 4096 87380 2147483647\\nnet.ipv4.tcp_wmem = 4096 65536 2147483647\\nnet.ipv4.tcp_congestion_control=htcp\\nnet.ipv4.tcp_mtu_probing=1\\nnet.core.default_qdisc = fq\\n\" | sudo tee -a /etc/sysctl.conf && sudo sysctl -p')\n",
    "    stdin, stdout, stderr = clientn1.exec_command('iperf3 -s > /dev/null 2>&1 &')\n",
    "    stdin, stdout, stderr = clientn2.exec_command('iperf3 -s > /dev/null 2>&1 &')\n",
    "    stdin, stdout, stderr = clientn2.exec_command('iperf3 -c ' + ip_of_interface_on_n1 + ' -P 32 -w 512M -R')\n",
    "    iperf_string = stdout.read().decode(\"utf-8\")\n",
    "    output += \"n2 to n1:\\n\"\n",
    "    iperf_strings = iperf_string.splitlines()\n",
    "    if(len(iperf_strings) > 3):\n",
    "        output += iperf_string.splitlines()[-4] + \"\\n\"\n",
    "        output += iperf_string.splitlines()[-3] + \"\\n\"\n",
    "    stdin, stdout, stderr = clientn1.exec_command('iperf3 -c ' + ip_of_interface_on_n2 + ' -P 32 -w 512M -R')\n",
    "    iperf_string = stdout.read().decode(\"utf-8\")\n",
    "    # iperf_string2 = re.findall(\"^(.*)\\n^(.*)\\n^(.*)\\n^(.*)$\\z\", iperf_string)\n",
    "    output += \"n1 to n2:\\n\"\n",
    "    iperf_strings = iperf_string.splitlines()\n",
    "    if(len(iperf_strings) > 3):\n",
    "        output += iperf_string.splitlines()[-4] + \"\\n\"\n",
    "        output += iperf_string.splitlines()[-3]\n",
    "        \n",
    "    return {\"Bandwidth\" : output}\n",
    "\n",
    "def latency_test(clientn1, clientn2, ip_of_interface_on_n1, ip_of_interface_on_n2, verbose):\n",
    "    output = \"Information about latency with ping: \\n\"\n",
    "    stdin, stdout, stderr = clientn1.exec_command('ping -c 5 ' + ip_of_interface_on_n2 + ' | grep rtt')\n",
    "    output += stdout.read().decode(\"utf-8\")\n",
    "    stdin, stdout, stderr = clientn2.exec_command('ping -c 5 ' + ip_of_interface_on_n1 + ' | grep rtt')\n",
    "    output += \"\\n\" + stdout.read().decode(\"utf-8\")\n",
    "    \n",
    "    return {\"Latency\" : output}\n",
    "\n",
    "def mtu_test(clientn1, clientn2, ip_of_interface_on_n1, ip_of_interface_on_n2, verbose):\n",
    "    output = \"Information about mtu with ping: \\n\"\n",
    "    ping_packets_count = 3\n",
    "    ping_packet_sizes = [9000, 8950, 8000, 1500, 1450, 1400, 1000, 500, 100, 50]\n",
    "    for ping_packet_size in ping_packet_sizes:\n",
    "        stdin, stdout, stderr = clientn1.exec_command('ping -M do -s ' + str(ping_packet_size) + ' -c ' + str(ping_packets_count) + ' ' + ip_of_interface_on_n2)\n",
    "        ping_string = stdout.read().decode(\"utf-8\")\n",
    "        ping_string = re.findall(\"[0-9] received\", ping_string)\n",
    "        ping_string = re.findall(\"[0-9]\", ping_string[0])\n",
    "        if(int(ping_string[0]) == ping_packets_count):\n",
    "            output += \"Packet size \" + str(ping_packet_size + 8) + \" is enabled.\"\n",
    "            break\n",
    "        else:\n",
    "            if(verbose):\n",
    "                print(\"Packet \" + str(ping_packet_size + 8) + \" too large.\")\n",
    "    for ping_packet_size in ping_packet_sizes:\n",
    "        stdin, stdout, stderr = clientn2.exec_command('ping -M do -s ' + str(ping_packet_size) + ' -c ' + str(ping_packets_count) + ' ' + ip_of_interface_on_n1)\n",
    "        ping_string = stdout.read().decode(\"utf-8\")\n",
    "        ping_string = re.findall(\"[0-9] received\", ping_string)\n",
    "        ping_string = re.findall(\"[0-9]\", ping_string[0])\n",
    "        if(int(ping_string[0]) == ping_packets_count):\n",
    "            output += \"\\n\" + \"Packet size \" + str(ping_packet_size + 8) + \" is enabled.\"\n",
    "            break\n",
    "        else:\n",
    "            if(verbose):\n",
    "                print(\"Packet \" + str(ping_packet_size + 8) + \" too large.\")\n",
    "    \n",
    "    return {\"MTU\" : output}"
   ]
  },
  {
   "cell_type": "code",
   "execution_count": 109,
   "metadata": {},
   "outputs": [
    {
     "data": {
      "text/plain": [
       "['Information about bandwidth with iperf: ',\n",
       " 'n2 to n1:',\n",
       " '[SUM]   0.00-10.08  sec  2.05 GBytes  1.75 Gbits/sec  14440             sender',\n",
       " '[SUM]   0.00-10.00  sec  1.35 GBytes  1.16 Gbits/sec                  receiver',\n",
       " 'n1 to n2:',\n",
       " '[SUM]   0.00-10.08  sec  5.19 GBytes  4.42 Gbits/sec  12887             sender',\n",
       " '[SUM]   0.00-10.00  sec  4.49 GBytes  3.86 Gbits/sec                  receiver']"
      ]
     },
     "execution_count": 109,
     "metadata": {},
     "output_type": "execute_result"
    }
   ],
   "source": [
    "bandwidth_test(client1, client3, \"192.168.10.51\", \"192.168.20.53\", False)['Bandwidth'].splitlines()"
   ]
  },
  {
   "cell_type": "code",
   "execution_count": 110,
   "metadata": {},
   "outputs": [
    {
     "data": {
      "text/plain": [
       "['Information about bandwidth with iperf: ',\n",
       " 'n2 to n1:',\n",
       " '[SUM]   0.00-10.08  sec  2.03 GBytes  1.73 Gbits/sec  10996             sender',\n",
       " '[SUM]   0.00-10.00  sec  1.33 GBytes  1.14 Gbits/sec                  receiver',\n",
       " 'n1 to n2:',\n",
       " '[SUM]   0.00-10.08  sec  6.74 GBytes  5.74 Gbits/sec  27445             sender',\n",
       " '[SUM]   0.00-10.00  sec  6.04 GBytes  5.19 Gbits/sec                  receiver']"
      ]
     },
     "execution_count": 110,
     "metadata": {},
     "output_type": "execute_result"
    }
   ],
   "source": [
    "bandwidth_test(client1, client3, \"192.168.10.51\", \"192.168.20.53\", False)['Bandwidth'].splitlines()"
   ]
  },
  {
   "cell_type": "code",
   "execution_count": 111,
   "metadata": {},
   "outputs": [
    {
     "data": {
      "text/plain": [
       "['Information about bandwidth with iperf: ',\n",
       " 'n2 to n1:',\n",
       " '[SUM]   0.00-10.08  sec  2.23 GBytes  1.90 Gbits/sec  6962             sender',\n",
       " '[SUM]   0.00-10.00  sec  1.86 GBytes  1.60 Gbits/sec                  receiver',\n",
       " 'n1 to n2:',\n",
       " '[SUM]   0.00-10.08  sec  3.75 GBytes  3.19 Gbits/sec  8259             sender',\n",
       " '[SUM]   0.00-10.00  sec  3.05 GBytes  2.62 Gbits/sec                  receiver']"
      ]
     },
     "execution_count": 111,
     "metadata": {},
     "output_type": "execute_result"
    }
   ],
   "source": [
    "bandwidth_test(client1, client3, \"192.168.10.51\", \"192.168.20.53\", False)['Bandwidth'].splitlines()"
   ]
  },
  {
   "cell_type": "code",
   "execution_count": 112,
   "metadata": {},
   "outputs": [
    {
     "data": {
      "text/plain": [
       "['Information about bandwidth with iperf: ',\n",
       " 'n2 to n1:',\n",
       " '[SUM]   0.00-10.08  sec  2.30 GBytes  1.96 Gbits/sec  3689             sender',\n",
       " '[SUM]   0.00-10.00  sec  1.60 GBytes  1.38 Gbits/sec                  receiver',\n",
       " 'n1 to n2:',\n",
       " '[SUM]   0.00-10.08  sec  3.93 GBytes  3.35 Gbits/sec  7940             sender',\n",
       " '[SUM]   0.00-10.00  sec  3.22 GBytes  2.77 Gbits/sec                  receiver']"
      ]
     },
     "execution_count": 112,
     "metadata": {},
     "output_type": "execute_result"
    }
   ],
   "source": [
    "bandwidth_test(client1, client3, \"192.168.10.51\", \"192.168.20.53\", False)['Bandwidth'].splitlines()"
   ]
  },
  {
   "cell_type": "code",
   "execution_count": 113,
   "metadata": {},
   "outputs": [
    {
     "data": {
      "text/plain": [
       "['Information about bandwidth with iperf: ',\n",
       " 'n2 to n1:',\n",
       " '[SUM]   0.00-10.08  sec  2.34 GBytes  2.00 Gbits/sec  4952             sender',\n",
       " '[SUM]   0.00-10.00  sec  1.64 GBytes  1.41 Gbits/sec                  receiver',\n",
       " 'n1 to n2:',\n",
       " '[SUM]   0.00-10.08  sec  5.09 GBytes  4.34 Gbits/sec  6441             sender',\n",
       " '[SUM]   0.00-10.00  sec  4.39 GBytes  3.77 Gbits/sec                  receiver']"
      ]
     },
     "execution_count": 113,
     "metadata": {},
     "output_type": "execute_result"
    }
   ],
   "source": [
    "bandwidth_test(client1, client3, \"192.168.10.51\", \"192.168.20.53\", False)['Bandwidth'].splitlines()"
   ]
  },
  {
   "cell_type": "code",
   "execution_count": 114,
   "metadata": {},
   "outputs": [
    {
     "data": {
      "text/plain": [
       "['Information about bandwidth with iperf: ',\n",
       " 'n2 to n1:',\n",
       " '[SUM]   0.00-10.08  sec  1.54 GBytes  1.32 Gbits/sec  2200             sender',\n",
       " '[SUM]   0.00-10.00  sec  1.19 GBytes  1.02 Gbits/sec                  receiver',\n",
       " 'n1 to n2:',\n",
       " '[SUM]   0.00-10.08  sec  5.09 GBytes  4.34 Gbits/sec  4213             sender',\n",
       " '[SUM]   0.00-10.00  sec  4.39 GBytes  3.77 Gbits/sec                  receiver']"
      ]
     },
     "execution_count": 114,
     "metadata": {},
     "output_type": "execute_result"
    }
   ],
   "source": [
    "bandwidth_test(client1, client3, \"192.168.10.51\", \"192.168.20.53\", False)['Bandwidth'].splitlines()"
   ]
  },
  {
   "cell_type": "code",
   "execution_count": 115,
   "metadata": {},
   "outputs": [
    {
     "data": {
      "text/plain": [
       "['Information about bandwidth with iperf: ',\n",
       " 'n2 to n1:',\n",
       " '[SUM]   0.00-10.08  sec  1.66 GBytes  1.42 Gbits/sec  14852             sender',\n",
       " '[SUM]   0.00-10.00  sec  1.31 GBytes  1.12 Gbits/sec                  receiver',\n",
       " 'n1 to n2:',\n",
       " '[SUM]   0.00-10.08  sec  4.43 GBytes  3.78 Gbits/sec  5110             sender',\n",
       " '[SUM]   0.00-10.00  sec  3.73 GBytes  3.21 Gbits/sec                  receiver']"
      ]
     },
     "execution_count": 115,
     "metadata": {},
     "output_type": "execute_result"
    }
   ],
   "source": [
    "bandwidth_test(client1, client3, \"192.168.10.51\", \"192.168.20.53\", False)['Bandwidth'].splitlines()"
   ]
  },
  {
   "cell_type": "code",
   "execution_count": 116,
   "metadata": {},
   "outputs": [
    {
     "data": {
      "text/plain": [
       "['Information about bandwidth with iperf: ',\n",
       " 'n2 to n1:',\n",
       " '[SUM]   0.00-10.08  sec  2.39 GBytes  2.03 Gbits/sec  4293             sender',\n",
       " '[SUM]   0.00-10.00  sec  1.69 GBytes  1.45 Gbits/sec                  receiver',\n",
       " 'n1 to n2:',\n",
       " '[SUM]   0.00-10.08  sec  3.36 GBytes  2.86 Gbits/sec  7336             sender',\n",
       " '[SUM]   0.00-10.00  sec  2.66 GBytes  2.28 Gbits/sec                  receiver']"
      ]
     },
     "execution_count": 116,
     "metadata": {},
     "output_type": "execute_result"
    }
   ],
   "source": [
    "bandwidth_test(client1, client3, \"192.168.10.51\", \"192.168.20.53\", False)['Bandwidth'].splitlines()"
   ]
  },
  {
   "cell_type": "code",
   "execution_count": 117,
   "metadata": {},
   "outputs": [
    {
     "data": {
      "text/plain": [
       "['Information about bandwidth with iperf: ',\n",
       " 'n2 to n1:',\n",
       " '[SUM]   0.00-10.08  sec  1.99 GBytes  1.70 Gbits/sec  3446             sender',\n",
       " '[SUM]   0.00-10.00  sec  1.29 GBytes  1.11 Gbits/sec                  receiver',\n",
       " 'n1 to n2:',\n",
       " '[SUM]   0.00-10.08  sec  4.72 GBytes  4.02 Gbits/sec  3843             sender',\n",
       " '[SUM]   0.00-10.00  sec  4.02 GBytes  3.45 Gbits/sec                  receiver']"
      ]
     },
     "execution_count": 117,
     "metadata": {},
     "output_type": "execute_result"
    }
   ],
   "source": [
    "bandwidth_test(client1, client3, \"192.168.10.51\", \"192.168.20.53\", False)['Bandwidth'].splitlines()"
   ]
  },
  {
   "cell_type": "code",
   "execution_count": 118,
   "metadata": {},
   "outputs": [
    {
     "data": {
      "text/plain": [
       "['Information about bandwidth with iperf: ',\n",
       " 'n2 to n1:',\n",
       " '[SUM]   0.00-10.08  sec  2.32 GBytes  1.98 Gbits/sec  2675             sender',\n",
       " '[SUM]   0.00-10.00  sec  1.62 GBytes  1.39 Gbits/sec                  receiver',\n",
       " 'n1 to n2:',\n",
       " '[SUM]   0.00-10.08  sec  4.62 GBytes  3.94 Gbits/sec  4403             sender',\n",
       " '[SUM]   0.00-10.00  sec  3.92 GBytes  3.37 Gbits/sec                  receiver']"
      ]
     },
     "execution_count": 118,
     "metadata": {},
     "output_type": "execute_result"
    }
   ],
   "source": [
    "bandwidth_test(client1, client3, \"192.168.10.51\", \"192.168.20.53\", False)['Bandwidth'].splitlines()"
   ]
  },
  {
   "cell_type": "code",
   "execution_count": 119,
   "metadata": {},
   "outputs": [
    {
     "data": {
      "text/plain": [
       "{'Latency': 'Information about latency with ping: \\nrtt min/avg/max/mdev = 77.345/77.397/77.443/0.031 ms\\n\\nrtt min/avg/max/mdev = 77.386/77.424/77.478/0.030 ms\\n'}"
      ]
     },
     "execution_count": 119,
     "metadata": {},
     "output_type": "execute_result"
    }
   ],
   "source": [
    "latency_test(client1, client3, \"192.168.10.51\", \"192.168.20.53\", False)"
   ]
  },
  {
   "cell_type": "code",
   "execution_count": 120,
   "metadata": {},
   "outputs": [
    {
     "data": {
      "text/plain": [
       "{'Latency': 'Information about latency with ping: \\nrtt min/avg/max/mdev = 77.346/77.409/77.463/0.042 ms\\n\\nrtt min/avg/max/mdev = 77.387/77.414/77.443/0.023 ms\\n'}"
      ]
     },
     "execution_count": 120,
     "metadata": {},
     "output_type": "execute_result"
    }
   ],
   "source": [
    "latency_test(client1, client3, \"192.168.10.51\", \"192.168.20.53\", False)"
   ]
  },
  {
   "cell_type": "code",
   "execution_count": 121,
   "metadata": {},
   "outputs": [
    {
     "data": {
      "text/plain": [
       "{'Latency': 'Information about latency with ping: \\nrtt min/avg/max/mdev = 77.355/77.423/77.523/0.059 ms\\n\\nrtt min/avg/max/mdev = 77.332/77.419/77.502/0.068 ms\\n'}"
      ]
     },
     "execution_count": 121,
     "metadata": {},
     "output_type": "execute_result"
    }
   ],
   "source": [
    "latency_test(client1, client3, \"192.168.10.51\", \"192.168.20.53\", False)"
   ]
  },
  {
   "cell_type": "code",
   "execution_count": 122,
   "metadata": {},
   "outputs": [
    {
     "data": {
      "text/plain": [
       "{'Latency': 'Information about latency with ping: \\nrtt min/avg/max/mdev = 77.399/77.437/77.499/0.036 ms\\n\\nrtt min/avg/max/mdev = 77.398/77.461/77.483/0.032 ms\\n'}"
      ]
     },
     "execution_count": 122,
     "metadata": {},
     "output_type": "execute_result"
    }
   ],
   "source": [
    "latency_test(client1, client3, \"192.168.10.51\", \"192.168.20.53\", False)"
   ]
  },
  {
   "cell_type": "code",
   "execution_count": 123,
   "metadata": {},
   "outputs": [
    {
     "data": {
      "text/plain": [
       "{'Latency': 'Information about latency with ping: \\nrtt min/avg/max/mdev = 77.412/77.421/77.440/0.010 ms\\n\\nrtt min/avg/max/mdev = 77.327/77.388/77.432/0.034 ms\\n'}"
      ]
     },
     "execution_count": 123,
     "metadata": {},
     "output_type": "execute_result"
    }
   ],
   "source": [
    "latency_test(client1, client3, \"192.168.10.51\", \"192.168.20.53\", False)"
   ]
  },
  {
   "cell_type": "code",
   "execution_count": 124,
   "metadata": {},
   "outputs": [
    {
     "data": {
      "text/plain": [
       "{'MTU': 'Information about mtu with ping: \\nPacket size 1458 is enabled.\\nPacket size 1458 is enabled.'}"
      ]
     },
     "execution_count": 124,
     "metadata": {},
     "output_type": "execute_result"
    }
   ],
   "source": [
    "mtu_test(client1, client3, \"192.168.10.51\", \"192.168.20.53\", False)"
   ]
  },
  {
   "cell_type": "code",
   "execution_count": 125,
   "metadata": {},
   "outputs": [
    {
     "data": {
      "text/plain": [
       "{'MTU': 'Information about mtu with ping: \\nPacket size 1458 is enabled.\\nPacket size 1458 is enabled.'}"
      ]
     },
     "execution_count": 125,
     "metadata": {},
     "output_type": "execute_result"
    }
   ],
   "source": [
    "mtu_test(client1, client3, \"192.168.10.51\", \"192.168.20.53\", False)"
   ]
  },
  {
   "cell_type": "code",
   "execution_count": 126,
   "metadata": {},
   "outputs": [
    {
     "data": {
      "text/plain": [
       "{'MTU': 'Information about mtu with ping: \\nPacket size 1458 is enabled.\\nPacket size 1458 is enabled.'}"
      ]
     },
     "execution_count": 126,
     "metadata": {},
     "output_type": "execute_result"
    }
   ],
   "source": [
    "mtu_test(client1, client3, \"192.168.10.51\", \"192.168.20.53\", False)"
   ]
  },
  {
   "cell_type": "code",
   "execution_count": 127,
   "metadata": {},
   "outputs": [
    {
     "data": {
      "text/plain": [
       "{'MTU': 'Information about mtu with ping: \\nPacket size 1458 is enabled.\\nPacket size 1458 is enabled.'}"
      ]
     },
     "execution_count": 127,
     "metadata": {},
     "output_type": "execute_result"
    }
   ],
   "source": [
    "mtu_test(client1, client3, \"192.168.10.51\", \"192.168.20.53\", False)"
   ]
  },
  {
   "cell_type": "code",
   "execution_count": 128,
   "metadata": {},
   "outputs": [
    {
     "data": {
      "text/plain": [
       "{'MTU': 'Information about mtu with ping: \\nPacket size 1458 is enabled.\\nPacket size 1458 is enabled.'}"
      ]
     },
     "execution_count": 128,
     "metadata": {},
     "output_type": "execute_result"
    }
   ],
   "source": [
    "mtu_test(client1, client3, \"192.168.10.51\", \"192.168.20.53\", False)"
   ]
  },
  {
   "cell_type": "code",
   "execution_count": 129,
   "metadata": {},
   "outputs": [
    {
     "data": {
      "text/plain": [
       "(<Status.OK: 1>, None)"
      ]
     },
     "execution_count": 129,
     "metadata": {},
     "output_type": "execute_result"
    }
   ],
   "source": [
    "slice_manager.delete(slice_object=slice_object)"
   ]
  }
 ],
 "metadata": {
  "kernelspec": {
   "display_name": "Python 3",
   "language": "python",
   "name": "python3"
  },
  "language_info": {
   "codemirror_mode": {
    "name": "ipython",
    "version": 3
   },
   "file_extension": ".py",
   "mimetype": "text/x-python",
   "name": "python",
   "nbconvert_exporter": "python",
   "pygments_lexer": "ipython3",
   "version": "3.9.2"
  }
 },
 "nbformat": 4,
 "nbformat_minor": 4
}

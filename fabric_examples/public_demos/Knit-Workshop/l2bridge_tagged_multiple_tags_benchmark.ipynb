{
 "cells": [
  {
   "cell_type": "markdown",
   "metadata": {},
   "source": [
    "### This notebook shows how to "
   ]
  },
  {
   "cell_type": "code",
   "execution_count": 1,
   "metadata": {},
   "outputs": [],
   "source": [
    "import os\n",
    "from fabrictestbed.slice_manager import SliceManager, Status\n",
    "import json"
   ]
  },
  {
   "cell_type": "code",
   "execution_count": 2,
   "metadata": {},
   "outputs": [
    {
     "name": "stdout",
     "output_type": "stream",
     "text": [
      "CM Host: cm.fabric-testbed.net Orchestrator Host: orchestrator.fabric-testbed.net\n"
     ]
    }
   ],
   "source": [
    "credmgr_host = os.environ['FABRIC_CREDMGR_HOST']\n",
    "orchestrator_host = os.environ['FABRIC_ORCHESTRATOR_HOST']\n",
    "print(f\"CM Host: {credmgr_host} Orchestrator Host: {orchestrator_host}\")"
   ]
  },
  {
   "cell_type": "markdown",
   "metadata": {},
   "source": [
    "## Create Slice Manager Object\n",
    "Users can request tokens with different Project and Scopes by altering `project_name` and `scope` parameters in the refresh call below."
   ]
  },
  {
   "cell_type": "code",
   "execution_count": 3,
   "metadata": {},
   "outputs": [],
   "source": [
    "slice_manager = SliceManager(oc_host=orchestrator_host, cm_host=credmgr_host, project_name='all', scope='all')\n",
    "\n",
    "# Initialize the slice manager\n",
    "slice_manager.initialize()"
   ]
  },
  {
   "cell_type": "markdown",
   "metadata": {},
   "source": [
    "### Orchestrator API example to query for available resources"
   ]
  },
  {
   "cell_type": "code",
   "execution_count": 4,
   "metadata": {},
   "outputs": [
    {
     "name": "stdout",
     "output_type": "stream",
     "text": [
      "Status: Status.OK\n",
      "Toplogy: NCSA: { cpu: 6/6 , core: 192/192 , ram: 1,536/1,536 G, disk: 60,600/60,600 G, unit: 3/3 }\n",
      "\tComponents:\n",
      "\t\tNVME-P4510:  NVME P4510 { disk: 9,600/9,600 G, unit: 10/10 }\n",
      "\t\tGPU-Tesla T4:  GPU Tesla T4 { unit: 2/2 }\n",
      "\t\tGPU-RTX6000:  GPU RTX6000 { unit: 3/3 }\n",
      "\t\tSmartNIC-ConnectX-5:  SmartNIC ConnectX-5 { unit: 2/2 }\n",
      "\t\tSmartNIC-ConnectX-6:  SmartNIC ConnectX-6 { unit: 2/2 }\n",
      "\t\tSharedNIC-ConnectX-6:  SharedNIC ConnectX-6 { unit: 381/381 }\n",
      "\tSite Interfaces:\n",
      "\t\tNCSA_STAR: TrunkPort { bw: 100/100 Gbps}\n",
      "TACC: { cpu: 10/10 , core: 304/320 , ram: 2,432/2,560 G, disk: 115,600/116,400 G, unit: 5/5 }\n",
      "\tComponents:\n",
      "\t\tSmartNIC-ConnectX-5:  SmartNIC ConnectX-5 { unit: 1/4 }\n",
      "\t\tGPU-RTX6000:  GPU RTX6000 { unit: 6/6 }\n",
      "\t\tGPU-Tesla T4:  GPU Tesla T4 { unit: 4/4 }\n",
      "\t\tNVME-P4510:  NVME P4510 { disk: 15,360/15,360 G, unit: 16/16 }\n",
      "\t\tSharedNIC-ConnectX-6:  SharedNIC ConnectX-6 { unit: 630/635 }\n",
      "\t\tSmartNIC-ConnectX-6:  SmartNIC ConnectX-6 { unit: 2/2 }\n",
      "\tSite Interfaces:\n",
      "\t\tTACC_UTAH: TrunkPort { bw: 100/100 Gbps}\n",
      "\t\tTACC_MAX: TrunkPort { bw: 100/100 Gbps}\n",
      "UTAH: { cpu: 10/10 , core: 320/320 , ram: 2,560/2,560 G, disk: 116,400/116,400 G, unit: 5/5 }\n",
      "\tComponents:\n",
      "\t\tGPU-RTX6000:  GPU RTX6000 { unit: 5/5 }\n",
      "\t\tGPU-Tesla T4:  GPU Tesla T4 { unit: 4/4 }\n",
      "\t\tNVME-P4510:  NVME P4510 { disk: 15,360/15,360 G, unit: 16/16 }\n",
      "\t\tSharedNIC-ConnectX-6:  SharedNIC ConnectX-6 { unit: 635/635 }\n",
      "\t\tSmartNIC-ConnectX-6:  SmartNIC ConnectX-6 { unit: 2/2 }\n",
      "\t\tSmartNIC-ConnectX-5:  SmartNIC ConnectX-5 { unit: 4/4 }\n",
      "\tSite Interfaces:\n",
      "\t\tUTAH_TACC: TrunkPort { bw: 100/100 Gbps}\n",
      "\t\tUTAH_STAR: TrunkPort { bw: 100/100 Gbps}\n",
      "MAX: { cpu: 10/10 , core: 264/320 , ram: 2,296/2,560 G, disk: 115,096/116,400 G, unit: 5/5 }\n",
      "\tComponents:\n",
      "\t\tSharedNIC-ConnectX-6:  SharedNIC ConnectX-6 { unit: 622/635 }\n",
      "\t\tGPU-Tesla T4:  GPU Tesla T4 { unit: 4/4 }\n",
      "\t\tGPU-RTX6000:  GPU RTX6000 { unit: 6/6 }\n",
      "\t\tSmartNIC-ConnectX-5:  SmartNIC ConnectX-5 { unit: 4/4 }\n",
      "\t\tSmartNIC-ConnectX-6:  SmartNIC ConnectX-6 { unit: 2/2 }\n",
      "\t\tNVME-P4510:  NVME P4510 { disk: 9,600/15,360 G, unit: 10/16 }\n",
      "\tSite Interfaces:\n",
      "\t\tMAX_TACC: TrunkPort { bw: 100/100 Gbps}\n",
      "\t\tMAX_STAR: TrunkPort { bw: 100/100 Gbps}\n",
      "SALT\n",
      "\tComponents:\n",
      "\tSite Interfaces:\n",
      "STAR: { cpu: 12/12 , core: 384/384 , ram: 3,072/3,072 G, disk: 121,200/121,200 G, unit: 6/6 }\n",
      "\tComponents:\n",
      "\t\tNVME-P4510:  NVME P4510 { disk: 20,000/20,000 G, unit: 20/20 }\n",
      "\t\tGPU-Tesla T4:  GPU Tesla T4 { unit: 6/6 }\n",
      "\t\tGPU-RTX6000:  GPU RTX6000 { unit: 6/6 }\n",
      "\t\tSmartNIC-ConnectX-5:  SmartNIC ConnectX-5 { unit: 6/6 }\n",
      "\t\tSmartNIC-ConnectX-6:  SmartNIC ConnectX-6 { unit: 2/2 }\n",
      "\t\tSharedNIC-ConnectX-6:  SharedNIC ConnectX-6 { unit: 762/762 }\n",
      "\tSite Interfaces:\n",
      "\t\tSTAR_UTAH: TrunkPort { bw: 100/100 Gbps}\n",
      "\t\tSTAR_MAX: TrunkPort { bw: 100/100 Gbps}\n",
      "\t\tSTAR_NCSA: TrunkPort { bw: 100/100 Gbps}\n",
      "WASH\n",
      "\tComponents:\n",
      "\tSite Interfaces:\n",
      "DALL\n",
      "\tComponents:\n",
      "\tSite Interfaces:\n",
      "MICH\n",
      "\tComponents:\n",
      "\tSite Interfaces:\n",
      "Links:\n",
      "\tport+max-data-sw:HundredGigE0/0/0/22.2051 to port+tacc-data-sw:HundredGigE0/0/0/23.3160[L2Path]: ['TACC_MAX', 'MAX_TACC']\n",
      "\tport+tacc-data-sw:HundredGigE0/0/0/23.3161 to port+utah-data-sw:HundredGigE0/0/0/22.2091[L2Path]: ['UTAH_TACC', 'TACC_UTAH']\n",
      "\tport+star-data-sw:HundredGigE0/0/0/30.3722 to port+utah-data-sw:HundredGigE0/0/0/22.2090[L2Path]: ['STAR_UTAH', 'UTAH_STAR']\n",
      "\tport+max-data-sw:HundredGigE0/0/0/22.2052 to port+star-data-sw:HundredGigE0/0/0/30.3721[L2Path]: ['STAR_MAX', 'MAX_STAR']\n",
      "\tport+ncsa-data-sw:HundredGigE0/0/0/23.3710 to port+star-data-sw:HundredGigE0/0/0/30.3710[L2Path]: ['STAR_NCSA', 'NCSA_STAR']\n"
     ]
    }
   ],
   "source": [
    "status, advertised_topology = slice_manager.resources()\n",
    "\n",
    "print(f\"Status: {status}\")\n",
    "if status == Status.OK:\n",
    "    print(f\"Toplogy: {advertised_topology}\")\n",
    "else:\n",
    "    print(f\"Error: {advertised_topology}\")"
   ]
  },
  {
   "cell_type": "code",
   "execution_count": 5,
   "metadata": {},
   "outputs": [
    {
     "data": {
      "image/png": "[encoded data removed]",
      "text/plain": [
       "<Figure size 432x288 with 1 Axes>"
      ]
     },
     "metadata": {},
     "output_type": "display_data"
    }
   ],
   "source": [
    "if status == Status.OK:\n",
    "    advertised_topology.draw()"
   ]
  },
  {
   "cell_type": "markdown",
   "metadata": {},
   "source": [
    "## Create Slice"
   ]
  },
  {
   "cell_type": "markdown",
   "metadata": {},
   "source": [
    "We will request two nodes. We will attach a smart NIC to one of them, and a shared NIC to the other. Configurations for the NICs are going to be different.\n",
    "\n",
    "The setup is shown below:"
   ]
  },
  {
   "cell_type": "markdown",
   "metadata": {},
   "source": [
    "<img src=\"l2bridge-tagged-multiple-tags.png\">"
   ]
  },
  {
   "cell_type": "code",
   "execution_count": 10,
   "metadata": {},
   "outputs": [
    {
     "name": "stdout",
     "output_type": "stream",
     "text": [
      "Response Status Status.OK\n",
      "Reservations created [{\n",
      "    \"graph_node_id\": \"4bf3b4d4-3857-44b9-ac73-676eab56a20a\",\n",
      "    \"lease_end\": \"2021-12-01 05:05:47\",\n",
      "    \"pending_state\": \"None_\",\n",
      "    \"reservation_id\": \"efeb3ddc-064a-4a17-ad6b-4b77c0a84e39\",\n",
      "    \"reservation_state\": \"Unknown\",\n",
      "    \"slice_id\": \"865a429f-f173-4488-a049-0125a956d970\"\n",
      "}, {\n",
      "    \"graph_node_id\": \"81dc7a6b-82ad-4a43-a00e-a462ac759c78\",\n",
      "    \"lease_end\": \"2021-12-01 05:05:47\",\n",
      "    \"pending_state\": \"None_\",\n",
      "    \"reservation_id\": \"5d8e438e-ba36-4f21-bead-7c301667d9d2\",\n",
      "    \"reservation_state\": \"Unknown\",\n",
      "    \"slice_id\": \"865a429f-f173-4488-a049-0125a956d970\"\n",
      "}, {\n",
      "    \"graph_node_id\": \"d76d56ae-c5c3-42f6-9305-5f190b0dd259\",\n",
      "    \"lease_end\": \"2021-12-01 05:05:47\",\n",
      "    \"pending_state\": \"None_\",\n",
      "    \"reservation_id\": \"696c2f14-f071-4f60-8ff0-25caa572b53d\",\n",
      "    \"reservation_state\": \"Unknown\",\n",
      "    \"slice_id\": \"865a429f-f173-4488-a049-0125a956d970\"\n",
      "}, {\n",
      "    \"graph_node_id\": \"95cd3e14-302c-4a24-adce-937da1b4d6f8\",\n",
      "    \"lease_end\": \"2021-12-01 05:05:47\",\n",
      "    \"pending_state\": \"None_\",\n",
      "    \"reservation_id\": \"e711c826-a717-4517-88bc-8fb4dbc62e11\",\n",
      "    \"reservation_state\": \"Unknown\",\n",
      "    \"slice_id\": \"865a429f-f173-4488-a049-0125a956d970\"\n",
      "}]\n"
     ]
    }
   ],
   "source": [
    "from fabrictestbed.slice_editor import ExperimentTopology, Capacities, ComponentType, ComponentModelType, ServiceType\n",
    "# Create topology\n",
    "t = ExperimentTopology()\n",
    "\n",
    "# Add node\n",
    "n1 = t.add_node(name='n1', site='MAX')\n",
    "\n",
    "# Set capacities\n",
    "cap = Capacities()\n",
    "cap.set_fields(core=2, ram=6, disk=10)\n",
    "\n",
    "# Set Properties\n",
    "n1.set_properties(capacities=cap, image_type='qcow2', image_ref='default_ubuntu_20')\n",
    "\n",
    "# Add PCI devices\n",
    "n1.add_component(ctype=ComponentType.NVME, model='P4510', name='c1')\n",
    "\n",
    "# Add node\n",
    "n2 = t.add_node(name='n2', site='MAX')\n",
    "\n",
    "# Set properties\n",
    "n2.set_properties(capacities=cap, image_type='qcow2', image_ref='default_ubuntu_20')\n",
    "\n",
    "# Add node\n",
    "n3 = t.add_node(name='n3', site='MAX')\n",
    "\n",
    "# Set properties\n",
    "n3.set_properties(capacities=cap, image_type='qcow2', image_ref='default_ubuntu_20')\n",
    "\n",
    "\n",
    "n1.add_component(model_type=ComponentModelType.SmartNIC_ConnectX_6, name='n1-nic1')\n",
    "n2.add_component(model_type=ComponentModelType.SmartNIC_ConnectX_6, name='n2-nic1')\n",
    "n3.add_component(model_type=ComponentModelType.SmartNIC_ConnectX_5, name='n3-nic1')\n",
    "\n",
    "\n",
    "interfaces_list = []\n",
    "# For Tagged Bridge, specify VLAN\n",
    "for i in t.interface_list:\n",
    "#     print(i.name)\n",
    "    include = False\n",
    "    tag = \"\"\n",
    "    if(i.name == 'n1-nic1-p1'):\n",
    "        tag = \"200\"\n",
    "    if(i.name == 'n2-nic1-p1'):\n",
    "        tag = \"200\"\n",
    "    if(i.name == 'n2-nic1-p2'):\n",
    "        tag = \"201\"\n",
    "    if(i.name == 'n3-nic1-p1'):\n",
    "        tag = \"201\"\n",
    "    if(i.name in ['n1-nic1-p1', 'n2-nic1-p1', 'n2-nic1-p2', 'n3-nic1-p1']):\n",
    "        include = True\n",
    "    if_labels = i.get_property(pname=\"labels\")\n",
    "    if_labels.vlan = tag\n",
    "    i.set_properties(labels=if_labels)\n",
    "    \n",
    "    if(include):\n",
    "        interfaces_list.append(i)\n",
    "\n",
    "interfaces_tuple = tuple(interfaces_list)\n",
    "    \n",
    "# L2Bridge Service\n",
    "t.add_network_service(name='bridge1', nstype=ServiceType.L2Bridge, interfaces=interfaces_tuple)\n",
    "\n",
    "# Generate Slice Graph\n",
    "slice_graph = t.serialize()\n",
    "\n",
    "# print(interfaces_tuple)\n",
    "\n",
    "ssh_key = None\n",
    "with open (\"/home/fabric/.ssh/id_rsa.pub\", \"r\") as myfile:\n",
    "    ssh_key=myfile.read()\n",
    "    ssh_key=ssh_key.strip()\n",
    "\n",
    "# Request slice from Orchestrator\n",
    "status, reservations = slice_manager.create(slice_name='Slice-l2bridge-ded-multiple-tags', slice_graph=slice_graph, ssh_key=ssh_key)\n",
    "\n",
    "print(\"Response Status {}\".format(status))\n",
    "if status == Status.OK:\n",
    "    print(\"Reservations created {}\".format(reservations))\n",
    "else:\n",
    "    print(f\"Failure: {reservations}\")"
   ]
  },
  {
   "cell_type": "code",
   "execution_count": 11,
   "metadata": {},
   "outputs": [],
   "source": [
    "# Set the Slice ID from output of the above command\n",
    "slice_id=reservations[0].slice_id"
   ]
  },
  {
   "cell_type": "markdown",
   "metadata": {},
   "source": [
    "## Query Slices"
   ]
  },
  {
   "cell_type": "code",
   "execution_count": 15,
   "metadata": {},
   "outputs": [
    {
     "name": "stdout",
     "output_type": "stream",
     "text": [
      "Response Status Status.OK\n",
      "Slices [{\n",
      "    \"graph_id\": \"f1d68ad0-48ae-4f09-a051-369caed22446\",\n",
      "    \"lease_end\": \"2021-11-21 01:22:55\",\n",
      "    \"slice_id\": \"8ef39ae0-9ccd-40e8-992a-2497b01f5341\",\n",
      "    \"slice_name\": \"Slice-Kubernetes-Hello-World\",\n",
      "    \"slice_state\": \"Dead\"\n",
      "}, {\n",
      "    \"graph_id\": \"44625d85-ad4a-4c80-bb27-c3f810735c06\",\n",
      "    \"lease_end\": \"2021-11-17 07:00:32\",\n",
      "    \"slice_id\": \"7bb8c733-e0f8-4a0b-abaf-4b433ab66167\",\n",
      "    \"slice_name\": \"Slice-Kubernetes-Hello-World\",\n",
      "    \"slice_state\": \"Dead\"\n",
      "}, {\n",
      "    \"graph_id\": \"a161a769-0f89-43b0-bfe2-396c256baa25\",\n",
      "    \"lease_end\": \"2021-11-22 19:23:09\",\n",
      "    \"slice_id\": \"b4f605c8-6974-482d-a7fb-c0c6c3109108\",\n",
      "    \"slice_name\": \"Slice-Kubernetes-Hello-World\",\n",
      "    \"slice_state\": \"Dead\"\n",
      "}, {\n",
      "    \"graph_id\": \"df6b2c6f-e371-442b-a1f5-d18df4534e1d\",\n",
      "    \"lease_end\": \"2021-12-01 05:03:24\",\n",
      "    \"slice_id\": \"274f8cf0-976a-4d12-bf1d-44af0add4173\",\n",
      "    \"slice_name\": \"Slice-l2bridge-ded-multiple-tags\",\n",
      "    \"slice_state\": \"Closing\"\n",
      "}, {\n",
      "    \"graph_id\": \"90fa6b2a-6236-4a4b-a0b3-60bed34c97a2\",\n",
      "    \"lease_end\": \"2021-12-01 05:05:47\",\n",
      "    \"slice_id\": \"865a429f-f173-4488-a049-0125a956d970\",\n",
      "    \"slice_name\": \"Slice-l2bridge-ded-multiple-tags\",\n",
      "    \"slice_state\": \"StableOK\"\n",
      "}]\n"
     ]
    }
   ],
   "source": [
    "status, slices = slice_manager.slices() #(state=\"All\")\n",
    "\n",
    "print(\"Response Status {}\".format(status))\n",
    "if status == Status.OK:\n",
    "    print(\"Slices {}\".format(slices))\n",
    "else:\n",
    "    print(f\"Failure: {slices}\")"
   ]
  },
  {
   "cell_type": "markdown",
   "metadata": {},
   "source": [
    "## Query Slivers"
   ]
  },
  {
   "cell_type": "code",
   "execution_count": 16,
   "metadata": {},
   "outputs": [
    {
     "name": "stdout",
     "output_type": "stream",
     "text": [
      "Response Status Status.OK\n",
      "Slivers [{\n",
      "    \"graph_node_id\": \"95cd3e14-302c-4a24-adce-937da1b4d6f8\",\n",
      "    \"join_state\": \"NoJoin\",\n",
      "    \"lease_end\": \"2021-12-01 05:05:47\",\n",
      "    \"name\": \"bridge1\",\n",
      "    \"notices\": \"Reservation e711c826-a717-4517-88bc-8fb4dbc62e11 (Slice Slice-l2bridge-ded-multiple-tags(865a429f-f173-4488-a049-0125a956d970) Graph Id:90fa6b2a-6236-4a4b-a0b3-60bed34c97a2 Owner:name: orchestrator guid: orchestrator-guid email: minawm@bu.edu State:StableOK ) is in state [Active,None_]\\n\\nLast ticket update: \\nTicket events: \\nLast ticket update: \\nTicket events: \",\n",
      "    \"pending_state\": \"None_\",\n",
      "    \"reservation_id\": \"e711c826-a717-4517-88bc-8fb4dbc62e11\",\n",
      "    \"reservation_state\": \"Active\",\n",
      "    \"resource_type\": \"L2Bridge\",\n",
      "    \"site\": \"MAX\",\n",
      "    \"slice_id\": \"865a429f-f173-4488-a049-0125a956d970\"\n",
      "}, {\n",
      "    \"allocated_capacities\": \"{\\\"core\\\": 2, \\\"disk\\\": 10, \\\"ram\\\": 8}\",\n",
      "    \"allocated_labels\": \"{\\\"instance\\\": \\\"instance-000006e1\\\", \\\"instance_parent\\\": \\\"max-w3.fabric-testbed.net\\\"}\",\n",
      "    \"capacities\": \"{\\\"core\\\": 2, \\\"disk\\\": 10, \\\"ram\\\": 6}\",\n",
      "    \"capacity_hints\": \"{\\\"instance_type\\\": \\\"fabric.c2.m8.d10\\\"}\",\n",
      "    \"graph_node_id\": \"81dc7a6b-82ad-4a43-a00e-a462ac759c78\",\n",
      "    \"join_state\": \"NoJoin\",\n",
      "    \"lease_end\": \"2021-12-01 05:05:47\",\n",
      "    \"management_ip\": \"63.239.135.126\",\n",
      "    \"name\": \"n2\",\n",
      "    \"notices\": \"Reservation 5d8e438e-ba36-4f21-bead-7c301667d9d2 (Slice Slice-l2bridge-ded-multiple-tags(865a429f-f173-4488-a049-0125a956d970) Graph Id:90fa6b2a-6236-4a4b-a0b3-60bed34c97a2 Owner:name: orchestrator guid: orchestrator-guid email: minawm@bu.edu State:StableOK ) is in state [Active,None_]\\n\\nLast ticket update: \\nTicket events: \\nLast ticket update: \\nTicket events: \",\n",
      "    \"pending_state\": \"None_\",\n",
      "    \"reservation_id\": \"5d8e438e-ba36-4f21-bead-7c301667d9d2\",\n",
      "    \"reservation_state\": \"Active\",\n",
      "    \"resource_type\": \"VM\",\n",
      "    \"site\": \"MAX\",\n",
      "    \"slice_id\": \"865a429f-f173-4488-a049-0125a956d970\"\n",
      "}, {\n",
      "    \"allocated_capacities\": \"{\\\"core\\\": 2, \\\"disk\\\": 10, \\\"ram\\\": 8}\",\n",
      "    \"allocated_labels\": \"{\\\"instance\\\": \\\"instance-000006e0\\\", \\\"instance_parent\\\": \\\"max-w5.fabric-testbed.net\\\"}\",\n",
      "    \"capacities\": \"{\\\"core\\\": 2, \\\"disk\\\": 10, \\\"ram\\\": 6}\",\n",
      "    \"capacity_hints\": \"{\\\"instance_type\\\": \\\"fabric.c2.m8.d10\\\"}\",\n",
      "    \"graph_node_id\": \"d76d56ae-c5c3-42f6-9305-5f190b0dd259\",\n",
      "    \"join_state\": \"NoJoin\",\n",
      "    \"lease_end\": \"2021-12-01 05:05:47\",\n",
      "    \"management_ip\": \"63.239.135.106\",\n",
      "    \"name\": \"n3\",\n",
      "    \"notices\": \"Reservation 696c2f14-f071-4f60-8ff0-25caa572b53d (Slice Slice-l2bridge-ded-multiple-tags(865a429f-f173-4488-a049-0125a956d970) Graph Id:90fa6b2a-6236-4a4b-a0b3-60bed34c97a2 Owner:name: orchestrator guid: orchestrator-guid email: minawm@bu.edu State:StableOK ) is in state [Active,None_]\\n\\nLast ticket update: \\nTicket events: \\nLast ticket update: \\nTicket events: \",\n",
      "    \"pending_state\": \"None_\",\n",
      "    \"reservation_id\": \"696c2f14-f071-4f60-8ff0-25caa572b53d\",\n",
      "    \"reservation_state\": \"Active\",\n",
      "    \"resource_type\": \"VM\",\n",
      "    \"site\": \"MAX\",\n",
      "    \"slice_id\": \"865a429f-f173-4488-a049-0125a956d970\"\n",
      "}, {\n",
      "    \"allocated_capacities\": \"{\\\"core\\\": 2, \\\"disk\\\": 10, \\\"ram\\\": 8}\",\n",
      "    \"allocated_labels\": \"{\\\"instance\\\": \\\"instance-000006df\\\", \\\"instance_parent\\\": \\\"max-w3.fabric-testbed.net\\\"}\",\n",
      "    \"capacities\": \"{\\\"core\\\": 2, \\\"disk\\\": 10, \\\"ram\\\": 6}\",\n",
      "    \"capacity_hints\": \"{\\\"instance_type\\\": \\\"fabric.c2.m8.d10\\\"}\",\n",
      "    \"graph_node_id\": \"4bf3b4d4-3857-44b9-ac73-676eab56a20a\",\n",
      "    \"join_state\": \"NoJoin\",\n",
      "    \"lease_end\": \"2021-12-01 05:05:47\",\n",
      "    \"management_ip\": \"63.239.135.96\",\n",
      "    \"name\": \"n1\",\n",
      "    \"notices\": \"Reservation efeb3ddc-064a-4a17-ad6b-4b77c0a84e39 (Slice Slice-l2bridge-ded-multiple-tags(865a429f-f173-4488-a049-0125a956d970) Graph Id:90fa6b2a-6236-4a4b-a0b3-60bed34c97a2 Owner:name: orchestrator guid: orchestrator-guid email: minawm@bu.edu State:StableOK ) is in state [Active,None_]\\n\\nLast ticket update: \\nTicket events: \\nLast ticket update: \\nTicket events: \",\n",
      "    \"pending_state\": \"None_\",\n",
      "    \"reservation_id\": \"efeb3ddc-064a-4a17-ad6b-4b77c0a84e39\",\n",
      "    \"reservation_state\": \"Active\",\n",
      "    \"resource_type\": \"VM\",\n",
      "    \"site\": \"MAX\",\n",
      "    \"slice_id\": \"865a429f-f173-4488-a049-0125a956d970\"\n",
      "}]\n"
     ]
    }
   ],
   "source": [
    "slice_object = list(filter(lambda x: x.slice_id == slice_id, slices))[0]\n",
    "status, slivers = slice_manager.slivers(slice_object=slice_object)\n",
    "\n",
    "print(\"Response Status {}\".format(status))\n",
    "if status == Status.OK:\n",
    "    print(\"Slivers {}\".format(slivers))\n",
    "else:\n",
    "    print(f\"Failure: {slivers}\")"
   ]
  },
  {
   "cell_type": "markdown",
   "metadata": {},
   "source": [
    "### Now let's connect to the nodes with paramiko."
   ]
  },
  {
   "cell_type": "code",
   "execution_count": 17,
   "metadata": {},
   "outputs": [],
   "source": [
    "import paramiko"
   ]
  },
  {
   "cell_type": "code",
   "execution_count": 20,
   "metadata": {},
   "outputs": [
    {
     "data": {
      "text/plain": [
       "'63.239.135.96'"
      ]
     },
     "execution_count": 20,
     "metadata": {},
     "output_type": "execute_result"
    }
   ],
   "source": [
    "client1_ip = list(filter(lambda sliver : sliver.name == \"n1\",slivers))[0].management_ip\n",
    "client1_ip"
   ]
  },
  {
   "cell_type": "code",
   "execution_count": 21,
   "metadata": {},
   "outputs": [
    {
     "data": {
      "text/plain": [
       "'63.239.135.126'"
      ]
     },
     "execution_count": 21,
     "metadata": {},
     "output_type": "execute_result"
    }
   ],
   "source": [
    "client2_ip = list(filter(lambda sliver : sliver.name == \"n2\",slivers))[0].management_ip\n",
    "client2_ip"
   ]
  },
  {
   "cell_type": "code",
   "execution_count": 22,
   "metadata": {},
   "outputs": [
    {
     "data": {
      "text/plain": [
       "'63.239.135.106'"
      ]
     },
     "execution_count": 22,
     "metadata": {},
     "output_type": "execute_result"
    }
   ],
   "source": [
    "client3_ip = list(filter(lambda sliver : sliver.name == \"n3\",slivers))[0].management_ip\n",
    "client3_ip"
   ]
  },
  {
   "cell_type": "code",
   "execution_count": 23,
   "metadata": {},
   "outputs": [
    {
     "data": {
      "text/plain": [
       "<paramiko.client.SSHClient at 0x7f2614777940>"
      ]
     },
     "execution_count": 23,
     "metadata": {},
     "output_type": "execute_result"
    }
   ],
   "source": [
    "key = paramiko.RSAKey.from_private_key_file(\"/home/fabric/.ssh/id_rsa\")\n",
    "client1 = paramiko.SSHClient()\n",
    "client1.load_system_host_keys()\n",
    "client1.set_missing_host_key_policy(paramiko.MissingHostKeyPolicy())\n",
    "\n",
    "client1.set_missing_host_key_policy(paramiko.AutoAddPolicy())\n",
    "client1.connect(client1_ip,username='ubuntu',pkey = key)\n",
    "\n",
    "client1"
   ]
  },
  {
   "cell_type": "code",
   "execution_count": 24,
   "metadata": {},
   "outputs": [
    {
     "name": "stdout",
     "output_type": "stream",
     "text": [
      "Distributor ID:\tUbuntu\n",
      "Description:\tUbuntu 20.04.3 LTS\n",
      "Release:\t20.04\n",
      "Codename:\tfocal\n",
      "\n",
      "No LSB modules are available.\n",
      "\n"
     ]
    }
   ],
   "source": [
    "stdin, stdout, stderr = client1.exec_command('lsb_release -a')\n",
    "print(stdout.read().decode(\"utf-8\"))\n",
    "print(stderr.read().decode(\"utf-8\"))"
   ]
  },
  {
   "cell_type": "code",
   "execution_count": 25,
   "metadata": {},
   "outputs": [
    {
     "data": {
      "text/plain": [
       "<paramiko.client.SSHClient at 0x7f26157e3940>"
      ]
     },
     "execution_count": 25,
     "metadata": {},
     "output_type": "execute_result"
    }
   ],
   "source": [
    "key = paramiko.RSAKey.from_private_key_file(\"/home/fabric/.ssh/id_rsa\")\n",
    "client2 = paramiko.SSHClient()\n",
    "client2.load_system_host_keys()\n",
    "client2.set_missing_host_key_policy(paramiko.MissingHostKeyPolicy())\n",
    "\n",
    "client2.set_missing_host_key_policy(paramiko.AutoAddPolicy())\n",
    "client2.connect(client2_ip,username='ubuntu',pkey = key)\n",
    "\n",
    "client2"
   ]
  },
  {
   "cell_type": "code",
   "execution_count": 26,
   "metadata": {},
   "outputs": [
    {
     "name": "stdout",
     "output_type": "stream",
     "text": [
      "Distributor ID:\tUbuntu\n",
      "Description:\tUbuntu 20.04.3 LTS\n",
      "Release:\t20.04\n",
      "Codename:\tfocal\n",
      "\n",
      "No LSB modules are available.\n",
      "\n"
     ]
    }
   ],
   "source": [
    "stdin, stdout, stderr = client2.exec_command('lsb_release -a')\n",
    "print(stdout.read().decode(\"utf-8\"))\n",
    "print(stderr.read().decode(\"utf-8\"))"
   ]
  },
  {
   "cell_type": "code",
   "execution_count": 27,
   "metadata": {},
   "outputs": [
    {
     "data": {
      "text/plain": [
       "<paramiko.client.SSHClient at 0x7f261473e490>"
      ]
     },
     "execution_count": 27,
     "metadata": {},
     "output_type": "execute_result"
    }
   ],
   "source": [
    "key = paramiko.RSAKey.from_private_key_file(\"/home/fabric/.ssh/id_rsa\")\n",
    "client3 = paramiko.SSHClient()\n",
    "client3.load_system_host_keys()\n",
    "client3.set_missing_host_key_policy(paramiko.MissingHostKeyPolicy())\n",
    "\n",
    "client3.set_missing_host_key_policy(paramiko.AutoAddPolicy())\n",
    "client3.connect(client3_ip,username='ubuntu',pkey = key)\n",
    "\n",
    "client3"
   ]
  },
  {
   "cell_type": "code",
   "execution_count": 28,
   "metadata": {},
   "outputs": [
    {
     "name": "stdout",
     "output_type": "stream",
     "text": [
      "Distributor ID:\tUbuntu\n",
      "Description:\tUbuntu 20.04.3 LTS\n",
      "Release:\t20.04\n",
      "Codename:\tfocal\n",
      "\n",
      "No LSB modules are available.\n",
      "\n"
     ]
    }
   ],
   "source": [
    "stdin, stdout, stderr = client3.exec_command('lsb_release -a')\n",
    "print(stdout.read().decode(\"utf-8\"))\n",
    "print(stderr.read().decode(\"utf-8\"))"
   ]
  },
  {
   "cell_type": "markdown",
   "metadata": {},
   "source": [
    "### Let's try to let the nodes ping each other through their management IPs."
   ]
  },
  {
   "cell_type": "code",
   "execution_count": 29,
   "metadata": {},
   "outputs": [
    {
     "name": "stdout",
     "output_type": "stream",
     "text": [
      "PING 63.239.135.126 (63.239.135.126) 56(84) bytes of data.\n",
      "64 bytes from 63.239.135.126: icmp_seq=1 ttl=63 time=0.390 ms\n",
      "64 bytes from 63.239.135.126: icmp_seq=2 ttl=63 time=0.273 ms\n",
      "64 bytes from 63.239.135.126: icmp_seq=3 ttl=63 time=0.427 ms\n",
      "64 bytes from 63.239.135.126: icmp_seq=4 ttl=63 time=0.342 ms\n",
      "64 bytes from 63.239.135.126: icmp_seq=5 ttl=63 time=0.322 ms\n",
      "\n",
      "--- 63.239.135.126 ping statistics ---\n",
      "5 packets transmitted, 5 received, 0% packet loss, time 4103ms\n",
      "rtt min/avg/max/mdev = 0.273/0.350/0.427/0.053 ms\n",
      "\n",
      "\n"
     ]
    }
   ],
   "source": [
    "stdin, stdout, stderr = client1.exec_command('ping -c 5 ' + client2_ip)\n",
    "print(stdout.read().decode(\"utf-8\"))\n",
    "print(stderr.read().decode(\"utf-8\"))"
   ]
  },
  {
   "cell_type": "code",
   "execution_count": 30,
   "metadata": {},
   "outputs": [
    {
     "name": "stdout",
     "output_type": "stream",
     "text": [
      "PING 63.239.135.106 (63.239.135.106) 56(84) bytes of data.\n",
      "64 bytes from 63.239.135.106: icmp_seq=1 ttl=63 time=0.356 ms\n",
      "64 bytes from 63.239.135.106: icmp_seq=2 ttl=63 time=0.262 ms\n",
      "64 bytes from 63.239.135.106: icmp_seq=3 ttl=63 time=0.358 ms\n",
      "64 bytes from 63.239.135.106: icmp_seq=4 ttl=63 time=0.447 ms\n",
      "64 bytes from 63.239.135.106: icmp_seq=5 ttl=63 time=0.325 ms\n",
      "\n",
      "--- 63.239.135.106 ping statistics ---\n",
      "5 packets transmitted, 5 received, 0% packet loss, time 4076ms\n",
      "rtt min/avg/max/mdev = 0.262/0.349/0.447/0.059 ms\n",
      "\n",
      "\n"
     ]
    }
   ],
   "source": [
    "stdin, stdout, stderr = client1.exec_command('ping -c 5 ' + client3_ip)\n",
    "print(stdout.read().decode(\"utf-8\"))\n",
    "print(stderr.read().decode(\"utf-8\"))"
   ]
  },
  {
   "cell_type": "code",
   "execution_count": 31,
   "metadata": {},
   "outputs": [
    {
     "name": "stdout",
     "output_type": "stream",
     "text": [
      "PING 63.239.135.96 (63.239.135.96) 56(84) bytes of data.\n",
      "64 bytes from 63.239.135.96: icmp_seq=1 ttl=63 time=0.324 ms\n",
      "64 bytes from 63.239.135.96: icmp_seq=2 ttl=63 time=0.329 ms\n",
      "64 bytes from 63.239.135.96: icmp_seq=3 ttl=63 time=0.243 ms\n",
      "64 bytes from 63.239.135.96: icmp_seq=4 ttl=63 time=0.250 ms\n",
      "64 bytes from 63.239.135.96: icmp_seq=5 ttl=63 time=0.248 ms\n",
      "\n",
      "--- 63.239.135.96 ping statistics ---\n",
      "5 packets transmitted, 5 received, 0% packet loss, time 4083ms\n",
      "rtt min/avg/max/mdev = 0.243/0.278/0.329/0.039 ms\n",
      "\n",
      "\n"
     ]
    }
   ],
   "source": [
    "stdin, stdout, stderr = client2.exec_command('ping -c 5 ' + client1_ip)\n",
    "print(stdout.read().decode(\"utf-8\"))\n",
    "print(stderr.read().decode(\"utf-8\"))"
   ]
  },
  {
   "cell_type": "code",
   "execution_count": 32,
   "metadata": {},
   "outputs": [
    {
     "name": "stdout",
     "output_type": "stream",
     "text": [
      "PING 63.239.135.106 (63.239.135.106) 56(84) bytes of data.\n",
      "64 bytes from 63.239.135.106: icmp_seq=1 ttl=63 time=0.314 ms\n",
      "64 bytes from 63.239.135.106: icmp_seq=2 ttl=63 time=0.276 ms\n",
      "64 bytes from 63.239.135.106: icmp_seq=3 ttl=63 time=0.343 ms\n",
      "64 bytes from 63.239.135.106: icmp_seq=4 ttl=63 time=0.308 ms\n",
      "64 bytes from 63.239.135.106: icmp_seq=5 ttl=63 time=0.307 ms\n",
      "\n",
      "--- 63.239.135.106 ping statistics ---\n",
      "5 packets transmitted, 5 received, 0% packet loss, time 4076ms\n",
      "rtt min/avg/max/mdev = 0.276/0.309/0.343/0.021 ms\n",
      "\n",
      "\n"
     ]
    }
   ],
   "source": [
    "stdin, stdout, stderr = client2.exec_command('ping -c 5 ' + client3_ip)\n",
    "print(stdout.read().decode(\"utf-8\"))\n",
    "print(stderr.read().decode(\"utf-8\"))"
   ]
  },
  {
   "cell_type": "code",
   "execution_count": 33,
   "metadata": {},
   "outputs": [
    {
     "name": "stdout",
     "output_type": "stream",
     "text": [
      "PING 63.239.135.96 (63.239.135.96) 56(84) bytes of data.\n",
      "64 bytes from 63.239.135.96: icmp_seq=1 ttl=63 time=0.275 ms\n",
      "64 bytes from 63.239.135.96: icmp_seq=2 ttl=63 time=0.193 ms\n",
      "64 bytes from 63.239.135.96: icmp_seq=3 ttl=63 time=0.205 ms\n",
      "64 bytes from 63.239.135.96: icmp_seq=4 ttl=63 time=0.276 ms\n",
      "64 bytes from 63.239.135.96: icmp_seq=5 ttl=63 time=0.228 ms\n",
      "\n",
      "--- 63.239.135.96 ping statistics ---\n",
      "5 packets transmitted, 5 received, 0% packet loss, time 4079ms\n",
      "rtt min/avg/max/mdev = 0.193/0.235/0.276/0.034 ms\n",
      "\n",
      "\n"
     ]
    }
   ],
   "source": [
    "stdin, stdout, stderr = client3.exec_command('ping -c 5 ' + client1_ip)\n",
    "print(stdout.read().decode(\"utf-8\"))\n",
    "print(stderr.read().decode(\"utf-8\"))"
   ]
  },
  {
   "cell_type": "code",
   "execution_count": 34,
   "metadata": {},
   "outputs": [
    {
     "name": "stdout",
     "output_type": "stream",
     "text": [
      "PING 63.239.135.126 (63.239.135.126) 56(84) bytes of data.\n",
      "64 bytes from 63.239.135.126: icmp_seq=1 ttl=63 time=0.353 ms\n",
      "64 bytes from 63.239.135.126: icmp_seq=2 ttl=63 time=0.349 ms\n",
      "64 bytes from 63.239.135.126: icmp_seq=3 ttl=63 time=0.265 ms\n",
      "64 bytes from 63.239.135.126: icmp_seq=4 ttl=63 time=0.256 ms\n",
      "64 bytes from 63.239.135.126: icmp_seq=5 ttl=63 time=0.294 ms\n",
      "\n",
      "--- 63.239.135.126 ping statistics ---\n",
      "5 packets transmitted, 5 received, 0% packet loss, time 4088ms\n",
      "rtt min/avg/max/mdev = 0.256/0.303/0.353/0.040 ms\n",
      "\n",
      "\n"
     ]
    }
   ],
   "source": [
    "stdin, stdout, stderr = client3.exec_command('ping -c 5 ' + client2_ip)\n",
    "print(stdout.read().decode(\"utf-8\"))\n",
    "print(stderr.read().decode(\"utf-8\"))"
   ]
  },
  {
   "cell_type": "markdown",
   "metadata": {},
   "source": [
    "### We can see that the nodes are able to ping each other. This should be made possible by the control plane.\n",
    "\n",
    "### We want to let the nodes communicate through the bridge that we have requested."
   ]
  },
  {
   "cell_type": "markdown",
   "metadata": {},
   "source": [
    "### To begin with, we will need to use the `route` command. So we need to install `net-tools`."
   ]
  },
  {
   "cell_type": "code",
   "execution_count": 35,
   "metadata": {},
   "outputs": [
    {
     "name": "stdout",
     "output_type": "stream",
     "text": [
      "Hit:1 http://nova.clouds.archive.ubuntu.com/ubuntu focal InRelease\n",
      "Get:2 http://security.ubuntu.com/ubuntu focal-security InRelease [114 kB]\n",
      "Get:3 http://nova.clouds.archive.ubuntu.com/ubuntu focal-updates InRelease [114 kB]\n",
      "Get:4 http://nova.clouds.archive.ubuntu.com/ubuntu focal-backports InRelease [101 kB]\n",
      "Get:5 http://security.ubuntu.com/ubuntu focal-security/main amd64 Packages [1058 kB]\n",
      "Get:6 http://nova.clouds.archive.ubuntu.com/ubuntu focal/universe amd64 Packages [8628 kB]\n",
      "Get:7 http://security.ubuntu.com/ubuntu focal-security/main Translation-en [195 kB]\n",
      "Get:8 http://security.ubuntu.com/ubuntu focal-security/main amd64 c-n-f Metadata [9072 B]\n",
      "Get:9 http://security.ubuntu.com/ubuntu focal-security/restricted amd64 Packages [559 kB]\n",
      "Get:10 http://security.ubuntu.com/ubuntu focal-security/restricted Translation-en [80.1 kB]\n",
      "Get:11 http://security.ubuntu.com/ubuntu focal-security/restricted amd64 c-n-f Metadata [528 B]\n",
      "Get:12 http://security.ubuntu.com/ubuntu focal-security/universe amd64 Packages [663 kB]\n",
      "Get:13 http://security.ubuntu.com/ubuntu focal-security/universe Translation-en [111 kB]\n",
      "Get:14 http://security.ubuntu.com/ubuntu focal-security/universe amd64 c-n-f Metadata [12.9 kB]\n",
      "Get:15 http://security.ubuntu.com/ubuntu focal-security/multiverse amd64 Packages [21.9 kB]\n",
      "Get:16 http://security.ubuntu.com/ubuntu focal-security/multiverse Translation-en [4948 B]\n",
      "Get:17 http://security.ubuntu.com/ubuntu focal-security/multiverse amd64 c-n-f Metadata [540 B]\n",
      "Get:18 http://nova.clouds.archive.ubuntu.com/ubuntu focal/universe Translation-en [5124 kB]\n",
      "Get:19 http://nova.clouds.archive.ubuntu.com/ubuntu focal/universe amd64 c-n-f Metadata [265 kB]\n",
      "Get:20 http://nova.clouds.archive.ubuntu.com/ubuntu focal/multiverse amd64 Packages [144 kB]\n",
      "Get:21 http://nova.clouds.archive.ubuntu.com/ubuntu focal/multiverse Translation-en [104 kB]\n",
      "Get:22 http://nova.clouds.archive.ubuntu.com/ubuntu focal/multiverse amd64 c-n-f Metadata [9136 B]\n",
      "Get:23 http://nova.clouds.archive.ubuntu.com/ubuntu focal-updates/main amd64 Packages [1385 kB]\n",
      "Get:24 http://nova.clouds.archive.ubuntu.com/ubuntu focal-updates/main Translation-en [281 kB]\n",
      "Get:25 http://nova.clouds.archive.ubuntu.com/ubuntu focal-updates/main amd64 c-n-f Metadata [14.6 kB]\n",
      "Get:26 http://nova.clouds.archive.ubuntu.com/ubuntu focal-updates/restricted amd64 Packages [605 kB]\n",
      "Get:27 http://nova.clouds.archive.ubuntu.com/ubuntu focal-updates/restricted Translation-en [86.6 kB]\n",
      "Get:28 http://nova.clouds.archive.ubuntu.com/ubuntu focal-updates/restricted amd64 c-n-f Metadata [528 B]\n",
      "Get:29 http://nova.clouds.archive.ubuntu.com/ubuntu focal-updates/universe amd64 Packages [876 kB]\n",
      "Get:30 http://nova.clouds.archive.ubuntu.com/ubuntu focal-updates/universe Translation-en [190 kB]\n",
      "Get:31 http://nova.clouds.archive.ubuntu.com/ubuntu focal-updates/universe amd64 c-n-f Metadata [19.5 kB]\n",
      "Get:32 http://nova.clouds.archive.ubuntu.com/ubuntu focal-updates/multiverse amd64 Packages [24.8 kB]\n",
      "Get:33 http://nova.clouds.archive.ubuntu.com/ubuntu focal-updates/multiverse Translation-en [6928 B]\n",
      "Get:34 http://nova.clouds.archive.ubuntu.com/ubuntu focal-updates/multiverse amd64 c-n-f Metadata [616 B]\n",
      "Get:35 http://nova.clouds.archive.ubuntu.com/ubuntu focal-backports/main amd64 Packages [2568 B]\n",
      "Get:36 http://nova.clouds.archive.ubuntu.com/ubuntu focal-backports/main Translation-en [1120 B]\n",
      "Get:37 http://nova.clouds.archive.ubuntu.com/ubuntu focal-backports/main amd64 c-n-f Metadata [400 B]\n",
      "Get:38 http://nova.clouds.archive.ubuntu.com/ubuntu focal-backports/restricted amd64 c-n-f Metadata [116 B]\n",
      "Get:39 http://nova.clouds.archive.ubuntu.com/ubuntu focal-backports/universe amd64 Packages [6588 B]\n",
      "Get:40 http://nova.clouds.archive.ubuntu.com/ubuntu focal-backports/universe Translation-en [3292 B]\n",
      "Get:41 http://nova.clouds.archive.ubuntu.com/ubuntu focal-backports/universe amd64 c-n-f Metadata [580 B]\n",
      "Get:42 http://nova.clouds.archive.ubuntu.com/ubuntu focal-backports/multiverse amd64 c-n-f Metadata [116 B]\n",
      "Fetched 20.8 MB in 3s (6170 kB/s)\n",
      "Reading package lists...\n",
      "Building dependency tree...\n",
      "Reading state information...\n",
      "75 packages can be upgraded. Run 'apt list --upgradable' to see them.\n",
      "Reading package lists...\n",
      "Building dependency tree...\n",
      "Reading state information...\n",
      "The following NEW packages will be installed:\n",
      "  net-tools\n",
      "0 upgraded, 1 newly installed, 0 to remove and 75 not upgraded.\n",
      "Need to get 196 kB of archives.\n",
      "After this operation, 864 kB of additional disk space will be used.\n",
      "Get:1 http://nova.clouds.archive.ubuntu.com/ubuntu focal/main amd64 net-tools amd64 1.60+git20180626.aebd88e-1ubuntu1 [196 kB]\n",
      "Fetched 196 kB in 0s (411 kB/s)\n",
      "Selecting previously unselected package net-tools.\n",
      "(Reading database ... 63512 files and directories currently installed.)\n",
      "Preparing to unpack .../net-tools_1.60+git20180626.aebd88e-1ubuntu1_amd64.deb ...\n",
      "Unpacking net-tools (1.60+git20180626.aebd88e-1ubuntu1) ...\n",
      "Setting up net-tools (1.60+git20180626.aebd88e-1ubuntu1) ...\n",
      "Processing triggers for man-db (2.9.1-1) ...\n",
      "\n",
      "\n",
      "WARNING: apt does not have a stable CLI interface. Use with caution in scripts.\n",
      "\n",
      "\n",
      "WARNING: apt does not have a stable CLI interface. Use with caution in scripts.\n",
      "\n",
      "debconf: unable to initialize frontend: Dialog\n",
      "debconf: (Dialog frontend will not work on a dumb terminal, an emacs shell buffer, or without a controlling terminal.)\n",
      "debconf: falling back to frontend: Readline\n",
      "debconf: unable to initialize frontend: Readline\n",
      "debconf: (This frontend requires a controlling tty.)\n",
      "debconf: falling back to frontend: Teletype\n",
      "dpkg-preconfigure: unable to re-open stdin: \n",
      "\n",
      "Hit:1 http://nova.clouds.archive.ubuntu.com/ubuntu focal InRelease\n",
      "Get:2 http://nova.clouds.archive.ubuntu.com/ubuntu focal-updates InRelease [114 kB]\n",
      "Get:3 http://security.ubuntu.com/ubuntu focal-security InRelease [114 kB]\n",
      "Get:4 http://nova.clouds.archive.ubuntu.com/ubuntu focal-backports InRelease [101 kB]\n",
      "Get:5 http://nova.clouds.archive.ubuntu.com/ubuntu focal/universe amd64 Packages [8628 kB]\n",
      "Get:6 http://nova.clouds.archive.ubuntu.com/ubuntu focal/universe Translation-en [5124 kB]\n",
      "Get:7 http://nova.clouds.archive.ubuntu.com/ubuntu focal/universe amd64 c-n-f Metadata [265 kB]\n",
      "Get:8 http://nova.clouds.archive.ubuntu.com/ubuntu focal/multiverse amd64 Packages [144 kB]\n",
      "Get:9 http://nova.clouds.archive.ubuntu.com/ubuntu focal/multiverse Translation-en [104 kB]\n",
      "Get:10 http://nova.clouds.archive.ubuntu.com/ubuntu focal/multiverse amd64 c-n-f Metadata [9136 B]\n",
      "Get:11 http://nova.clouds.archive.ubuntu.com/ubuntu focal-updates/main amd64 Packages [1385 kB]\n",
      "Get:12 http://nova.clouds.archive.ubuntu.com/ubuntu focal-updates/main Translation-en [281 kB]\n",
      "Get:13 http://nova.clouds.archive.ubuntu.com/ubuntu focal-updates/main amd64 c-n-f Metadata [14.6 kB]\n",
      "Get:14 http://nova.clouds.archive.ubuntu.com/ubuntu focal-updates/restricted amd64 Packages [605 kB]\n",
      "Get:15 http://nova.clouds.archive.ubuntu.com/ubuntu focal-updates/restricted Translation-en [86.6 kB]\n",
      "Get:16 http://nova.clouds.archive.ubuntu.com/ubuntu focal-updates/restricted amd64 c-n-f Metadata [528 B]\n",
      "Get:17 http://nova.clouds.archive.ubuntu.com/ubuntu focal-updates/universe amd64 Packages [876 kB]\n",
      "Get:18 http://nova.clouds.archive.ubuntu.com/ubuntu focal-updates/universe Translation-en [190 kB]\n",
      "Get:19 http://security.ubuntu.com/ubuntu focal-security/main amd64 Packages [1058 kB]\n",
      "Get:20 http://nova.clouds.archive.ubuntu.com/ubuntu focal-updates/universe amd64 c-n-f Metadata [19.5 kB]\n",
      "Get:21 http://nova.clouds.archive.ubuntu.com/ubuntu focal-updates/multiverse amd64 Packages [24.8 kB]\n",
      "Get:22 http://nova.clouds.archive.ubuntu.com/ubuntu focal-updates/multiverse Translation-en [6928 B]\n",
      "Get:23 http://nova.clouds.archive.ubuntu.com/ubuntu focal-updates/multiverse amd64 c-n-f Metadata [616 B]\n",
      "Get:24 http://nova.clouds.archive.ubuntu.com/ubuntu focal-backports/main amd64 Packages [2568 B]\n",
      "Get:25 http://security.ubuntu.com/ubuntu focal-security/main Translation-en [195 kB]\n",
      "Get:26 http://security.ubuntu.com/ubuntu focal-security/main amd64 c-n-f Metadata [9072 B]\n",
      "Get:27 http://security.ubuntu.com/ubuntu focal-security/restricted amd64 Packages [559 kB]\n",
      "Get:28 http://security.ubuntu.com/ubuntu focal-security/restricted Translation-en [80.1 kB]\n",
      "Get:29 http://nova.clouds.archive.ubuntu.com/ubuntu focal-backports/main Translation-en [1120 B]\n",
      "Get:30 http://nova.clouds.archive.ubuntu.com/ubuntu focal-backports/main amd64 c-n-f Metadata [400 B]\n",
      "Get:31 http://nova.clouds.archive.ubuntu.com/ubuntu focal-backports/restricted amd64 c-n-f Metadata [116 B]\n",
      "Get:32 http://nova.clouds.archive.ubuntu.com/ubuntu focal-backports/universe amd64 Packages [6588 B]\n",
      "Get:33 http://nova.clouds.archive.ubuntu.com/ubuntu focal-backports/universe Translation-en [3292 B]\n",
      "Get:34 http://nova.clouds.archive.ubuntu.com/ubuntu focal-backports/universe amd64 c-n-f Metadata [580 B]\n",
      "Get:35 http://nova.clouds.archive.ubuntu.com/ubuntu focal-backports/multiverse amd64 c-n-f Metadata [116 B]\n",
      "Get:36 http://security.ubuntu.com/ubuntu focal-security/restricted amd64 c-n-f Metadata [528 B]\n",
      "Get:37 http://security.ubuntu.com/ubuntu focal-security/universe amd64 Packages [663 kB]\n",
      "Get:38 http://security.ubuntu.com/ubuntu focal-security/universe Translation-en [111 kB]\n",
      "Get:39 http://security.ubuntu.com/ubuntu focal-security/universe amd64 c-n-f Metadata [12.9 kB]\n",
      "Get:40 http://security.ubuntu.com/ubuntu focal-security/multiverse amd64 Packages [21.9 kB]\n",
      "Get:41 http://security.ubuntu.com/ubuntu focal-security/multiverse Translation-en [4948 B]\n",
      "Get:42 http://security.ubuntu.com/ubuntu focal-security/multiverse amd64 c-n-f Metadata [540 B]\n",
      "Fetched 20.8 MB in 3s (7484 kB/s)\n",
      "Reading package lists...\n",
      "Building dependency tree...\n",
      "Reading state information...\n",
      "75 packages can be upgraded. Run 'apt list --upgradable' to see them.\n",
      "Reading package lists...\n",
      "Building dependency tree...\n",
      "Reading state information...\n",
      "The following NEW packages will be installed:\n",
      "  net-tools\n",
      "0 upgraded, 1 newly installed, 0 to remove and 75 not upgraded.\n",
      "Need to get 196 kB of archives.\n",
      "After this operation, 864 kB of additional disk space will be used.\n",
      "Get:1 http://nova.clouds.archive.ubuntu.com/ubuntu focal/main amd64 net-tools amd64 1.60+git20180626.aebd88e-1ubuntu1 [196 kB]\n",
      "Fetched 196 kB in 0s (1970 kB/s)\n",
      "Selecting previously unselected package net-tools.\n",
      "(Reading database ... 63512 files and directories currently installed.)\n",
      "Preparing to unpack .../net-tools_1.60+git20180626.aebd88e-1ubuntu1_amd64.deb ...\n",
      "Unpacking net-tools (1.60+git20180626.aebd88e-1ubuntu1) ...\n",
      "Setting up net-tools (1.60+git20180626.aebd88e-1ubuntu1) ...\n",
      "Processing triggers for man-db (2.9.1-1) ...\n",
      "\n",
      "\n",
      "WARNING: apt does not have a stable CLI interface. Use with caution in scripts.\n",
      "\n",
      "\n",
      "WARNING: apt does not have a stable CLI interface. Use with caution in scripts.\n",
      "\n",
      "debconf: unable to initialize frontend: Dialog\n",
      "debconf: (Dialog frontend will not work on a dumb terminal, an emacs shell buffer, or without a controlling terminal.)\n",
      "debconf: falling back to frontend: Readline\n",
      "debconf: unable to initialize frontend: Readline\n",
      "debconf: (This frontend requires a controlling tty.)\n",
      "debconf: falling back to frontend: Teletype\n",
      "dpkg-preconfigure: unable to re-open stdin: \n",
      "\n",
      "Hit:1 http://nova.clouds.archive.ubuntu.com/ubuntu focal InRelease\n",
      "Get:2 http://security.ubuntu.com/ubuntu focal-security InRelease [114 kB]\n",
      "Get:3 http://nova.clouds.archive.ubuntu.com/ubuntu focal-updates InRelease [114 kB]\n",
      "Get:4 http://nova.clouds.archive.ubuntu.com/ubuntu focal-backports InRelease [101 kB]\n",
      "Get:5 http://security.ubuntu.com/ubuntu focal-security/main amd64 Packages [1058 kB]\n",
      "Get:6 http://nova.clouds.archive.ubuntu.com/ubuntu focal/universe amd64 Packages [8628 kB]\n",
      "Get:7 http://security.ubuntu.com/ubuntu focal-security/main Translation-en [195 kB]\n",
      "Get:8 http://security.ubuntu.com/ubuntu focal-security/main amd64 c-n-f Metadata [9072 B]\n",
      "Get:9 http://security.ubuntu.com/ubuntu focal-security/restricted amd64 Packages [559 kB]\n",
      "Get:10 http://security.ubuntu.com/ubuntu focal-security/restricted Translation-en [80.1 kB]\n",
      "Get:11 http://security.ubuntu.com/ubuntu focal-security/restricted amd64 c-n-f Metadata [528 B]\n",
      "Get:12 http://security.ubuntu.com/ubuntu focal-security/universe amd64 Packages [663 kB]\n",
      "Get:13 http://security.ubuntu.com/ubuntu focal-security/universe Translation-en [111 kB]\n",
      "Get:14 http://security.ubuntu.com/ubuntu focal-security/universe amd64 c-n-f Metadata [12.9 kB]\n",
      "Get:15 http://security.ubuntu.com/ubuntu focal-security/multiverse amd64 Packages [21.9 kB]\n",
      "Get:16 http://security.ubuntu.com/ubuntu focal-security/multiverse Translation-en [4948 B]\n",
      "Get:17 http://security.ubuntu.com/ubuntu focal-security/multiverse amd64 c-n-f Metadata [540 B]\n",
      "Get:18 http://nova.clouds.archive.ubuntu.com/ubuntu focal/universe Translation-en [5124 kB]\n",
      "Get:19 http://nova.clouds.archive.ubuntu.com/ubuntu focal/universe amd64 c-n-f Metadata [265 kB]\n",
      "Get:20 http://nova.clouds.archive.ubuntu.com/ubuntu focal/multiverse amd64 Packages [144 kB]\n",
      "Get:21 http://nova.clouds.archive.ubuntu.com/ubuntu focal/multiverse Translation-en [104 kB]\n",
      "Get:22 http://nova.clouds.archive.ubuntu.com/ubuntu focal/multiverse amd64 c-n-f Metadata [9136 B]\n",
      "Get:23 http://nova.clouds.archive.ubuntu.com/ubuntu focal-updates/main amd64 Packages [1385 kB]\n",
      "Get:24 http://nova.clouds.archive.ubuntu.com/ubuntu focal-updates/main Translation-en [281 kB]\n",
      "Get:25 http://nova.clouds.archive.ubuntu.com/ubuntu focal-updates/main amd64 c-n-f Metadata [14.6 kB]\n",
      "Get:26 http://nova.clouds.archive.ubuntu.com/ubuntu focal-updates/restricted amd64 Packages [605 kB]\n",
      "Get:27 http://nova.clouds.archive.ubuntu.com/ubuntu focal-updates/restricted Translation-en [86.6 kB]\n",
      "Get:28 http://nova.clouds.archive.ubuntu.com/ubuntu focal-updates/restricted amd64 c-n-f Metadata [528 B]\n",
      "Get:29 http://nova.clouds.archive.ubuntu.com/ubuntu focal-updates/universe amd64 Packages [876 kB]\n",
      "Get:30 http://nova.clouds.archive.ubuntu.com/ubuntu focal-updates/universe Translation-en [190 kB]\n",
      "Get:31 http://nova.clouds.archive.ubuntu.com/ubuntu focal-updates/universe amd64 c-n-f Metadata [19.5 kB]\n",
      "Get:32 http://nova.clouds.archive.ubuntu.com/ubuntu focal-updates/multiverse amd64 Packages [24.8 kB]\n",
      "Get:33 http://nova.clouds.archive.ubuntu.com/ubuntu focal-updates/multiverse Translation-en [6928 B]\n",
      "Get:34 http://nova.clouds.archive.ubuntu.com/ubuntu focal-updates/multiverse amd64 c-n-f Metadata [616 B]\n",
      "Get:35 http://nova.clouds.archive.ubuntu.com/ubuntu focal-backports/main amd64 Packages [2568 B]\n",
      "Get:36 http://nova.clouds.archive.ubuntu.com/ubuntu focal-backports/main Translation-en [1120 B]\n",
      "Get:37 http://nova.clouds.archive.ubuntu.com/ubuntu focal-backports/main amd64 c-n-f Metadata [400 B]\n",
      "Get:38 http://nova.clouds.archive.ubuntu.com/ubuntu focal-backports/restricted amd64 c-n-f Metadata [116 B]\n",
      "Get:39 http://nova.clouds.archive.ubuntu.com/ubuntu focal-backports/universe amd64 Packages [6588 B]\n",
      "Get:40 http://nova.clouds.archive.ubuntu.com/ubuntu focal-backports/universe Translation-en [3292 B]\n",
      "Get:41 http://nova.clouds.archive.ubuntu.com/ubuntu focal-backports/universe amd64 c-n-f Metadata [580 B]\n",
      "Get:42 http://nova.clouds.archive.ubuntu.com/ubuntu focal-backports/multiverse amd64 c-n-f Metadata [116 B]\n",
      "Fetched 20.8 MB in 4s (5894 kB/s)\n",
      "Reading package lists...\n",
      "Building dependency tree...\n",
      "Reading state information...\n",
      "75 packages can be upgraded. Run 'apt list --upgradable' to see them.\n",
      "Reading package lists...\n",
      "Building dependency tree...\n",
      "Reading state information...\n",
      "The following NEW packages will be installed:\n",
      "  net-tools\n",
      "0 upgraded, 1 newly installed, 0 to remove and 75 not upgraded.\n",
      "Need to get 196 kB of archives.\n",
      "After this operation, 864 kB of additional disk space will be used.\n",
      "Get:1 http://nova.clouds.archive.ubuntu.com/ubuntu focal/main amd64 net-tools amd64 1.60+git20180626.aebd88e-1ubuntu1 [196 kB]\n",
      "Fetched 196 kB in 0s (408 kB/s)\n",
      "Selecting previously unselected package net-tools.\n",
      "(Reading database ... 63512 files and directories currently installed.)\n",
      "Preparing to unpack .../net-tools_1.60+git20180626.aebd88e-1ubuntu1_amd64.deb ...\n",
      "Unpacking net-tools (1.60+git20180626.aebd88e-1ubuntu1) ...\n",
      "Setting up net-tools (1.60+git20180626.aebd88e-1ubuntu1) ...\n",
      "Processing triggers for man-db (2.9.1-1) ...\n",
      "\n",
      "\n",
      "WARNING: apt does not have a stable CLI interface. Use with caution in scripts.\n",
      "\n",
      "\n",
      "WARNING: apt does not have a stable CLI interface. Use with caution in scripts.\n",
      "\n",
      "debconf: unable to initialize frontend: Dialog\n",
      "debconf: (Dialog frontend will not work on a dumb terminal, an emacs shell buffer, or without a controlling terminal.)\n",
      "debconf: falling back to frontend: Readline\n",
      "debconf: unable to initialize frontend: Readline\n",
      "debconf: (This frontend requires a controlling tty.)\n",
      "debconf: falling back to frontend: Teletype\n",
      "dpkg-preconfigure: unable to re-open stdin: \n",
      "\n"
     ]
    }
   ],
   "source": [
    "stdin, stdout, stderr = client1.exec_command('sudo apt update && sudo apt install net-tools')\n",
    "print(stdout.read().decode(\"utf-8\"))\n",
    "print(stderr.read().decode(\"utf-8\"))\n",
    "stdin, stdout, stderr = client2.exec_command('sudo apt update && sudo apt install net-tools')\n",
    "print(stdout.read().decode(\"utf-8\"))\n",
    "print(stderr.read().decode(\"utf-8\"))\n",
    "stdin, stdout, stderr = client3.exec_command('sudo apt update && sudo apt install net-tools')\n",
    "print(stdout.read().decode(\"utf-8\"))\n",
    "print(stderr.read().decode(\"utf-8\"))"
   ]
  },
  {
   "cell_type": "markdown",
   "metadata": {},
   "source": [
    "### Let's also install traceroute"
   ]
  },
  {
   "cell_type": "code",
   "execution_count": 36,
   "metadata": {},
   "outputs": [
    {
     "name": "stdout",
     "output_type": "stream",
     "text": [
      "Reading package lists...\n",
      "Building dependency tree...\n",
      "Reading state information...\n",
      "The following NEW packages will be installed:\n",
      "  traceroute\n",
      "0 upgraded, 1 newly installed, 0 to remove and 75 not upgraded.\n",
      "Need to get 45.4 kB of archives.\n",
      "After this operation, 152 kB of additional disk space will be used.\n",
      "Get:1 http://nova.clouds.archive.ubuntu.com/ubuntu focal/universe amd64 traceroute amd64 1:2.1.0-2 [45.4 kB]\n",
      "Fetched 45.4 kB in 0s (147 kB/s)\n",
      "Selecting previously unselected package traceroute.\n",
      "(Reading database ... 63561 files and directories currently installed.)\n",
      "Preparing to unpack .../traceroute_1%3a2.1.0-2_amd64.deb ...\n",
      "Unpacking traceroute (1:2.1.0-2) ...\n",
      "Setting up traceroute (1:2.1.0-2) ...\n",
      "update-alternatives: using /usr/bin/traceroute.db to provide /usr/bin/traceroute (traceroute) in auto mode\n",
      "update-alternatives: using /usr/bin/lft.db to provide /usr/bin/lft (lft) in auto mode\n",
      "update-alternatives: using /usr/bin/traceproto.db to provide /usr/bin/traceproto (traceproto) in auto mode\n",
      "update-alternatives: using /usr/sbin/tcptraceroute.db to provide /usr/sbin/tcptraceroute (tcptraceroute) in auto mode\n",
      "Processing triggers for man-db (2.9.1-1) ...\n",
      "\n",
      "\n",
      "WARNING: apt does not have a stable CLI interface. Use with caution in scripts.\n",
      "\n",
      "debconf: unable to initialize frontend: Dialog\n",
      "debconf: (Dialog frontend will not work on a dumb terminal, an emacs shell buffer, or without a controlling terminal.)\n",
      "debconf: falling back to frontend: Readline\n",
      "debconf: unable to initialize frontend: Readline\n",
      "debconf: (This frontend requires a controlling tty.)\n",
      "debconf: falling back to frontend: Teletype\n",
      "dpkg-preconfigure: unable to re-open stdin: \n",
      "\n",
      "Reading package lists...\n",
      "Building dependency tree...\n",
      "Reading state information...\n",
      "The following NEW packages will be installed:\n",
      "  traceroute\n",
      "0 upgraded, 1 newly installed, 0 to remove and 75 not upgraded.\n",
      "Need to get 45.4 kB of archives.\n",
      "After this operation, 152 kB of additional disk space will be used.\n",
      "Get:1 http://nova.clouds.archive.ubuntu.com/ubuntu focal/universe amd64 traceroute amd64 1:2.1.0-2 [45.4 kB]\n",
      "Fetched 45.4 kB in 0s (569 kB/s)\n",
      "Selecting previously unselected package traceroute.\n",
      "(Reading database ... 63561 files and directories currently installed.)\n",
      "Preparing to unpack .../traceroute_1%3a2.1.0-2_amd64.deb ...\n",
      "Unpacking traceroute (1:2.1.0-2) ...\n",
      "Setting up traceroute (1:2.1.0-2) ...\n",
      "update-alternatives: using /usr/bin/traceroute.db to provide /usr/bin/traceroute (traceroute) in auto mode\n",
      "update-alternatives: using /usr/bin/lft.db to provide /usr/bin/lft (lft) in auto mode\n",
      "update-alternatives: using /usr/bin/traceproto.db to provide /usr/bin/traceproto (traceproto) in auto mode\n",
      "update-alternatives: using /usr/sbin/tcptraceroute.db to provide /usr/sbin/tcptraceroute (tcptraceroute) in auto mode\n",
      "Processing triggers for man-db (2.9.1-1) ...\n",
      "\n",
      "\n",
      "WARNING: apt does not have a stable CLI interface. Use with caution in scripts.\n",
      "\n",
      "debconf: unable to initialize frontend: Dialog\n",
      "debconf: (Dialog frontend will not work on a dumb terminal, an emacs shell buffer, or without a controlling terminal.)\n",
      "debconf: falling back to frontend: Readline\n",
      "debconf: unable to initialize frontend: Readline\n",
      "debconf: (This frontend requires a controlling tty.)\n",
      "debconf: falling back to frontend: Teletype\n",
      "dpkg-preconfigure: unable to re-open stdin: \n",
      "\n",
      "Reading package lists...\n",
      "Building dependency tree...\n",
      "Reading state information...\n",
      "The following NEW packages will be installed:\n",
      "  traceroute\n",
      "0 upgraded, 1 newly installed, 0 to remove and 75 not upgraded.\n",
      "Need to get 45.4 kB of archives.\n",
      "After this operation, 152 kB of additional disk space will be used.\n",
      "Get:1 http://nova.clouds.archive.ubuntu.com/ubuntu focal/universe amd64 traceroute amd64 1:2.1.0-2 [45.4 kB]\n",
      "Fetched 45.4 kB in 0s (147 kB/s)\n",
      "Selecting previously unselected package traceroute.\n",
      "(Reading database ... 63561 files and directories currently installed.)\n",
      "Preparing to unpack .../traceroute_1%3a2.1.0-2_amd64.deb ...\n",
      "Unpacking traceroute (1:2.1.0-2) ...\n",
      "Setting up traceroute (1:2.1.0-2) ...\n",
      "update-alternatives: using /usr/bin/traceroute.db to provide /usr/bin/traceroute (traceroute) in auto mode\n",
      "update-alternatives: using /usr/bin/lft.db to provide /usr/bin/lft (lft) in auto mode\n",
      "update-alternatives: using /usr/bin/traceproto.db to provide /usr/bin/traceproto (traceproto) in auto mode\n",
      "update-alternatives: using /usr/sbin/tcptraceroute.db to provide /usr/sbin/tcptraceroute (tcptraceroute) in auto mode\n",
      "Processing triggers for man-db (2.9.1-1) ...\n",
      "\n",
      "\n",
      "WARNING: apt does not have a stable CLI interface. Use with caution in scripts.\n",
      "\n",
      "debconf: unable to initialize frontend: Dialog\n",
      "debconf: (Dialog frontend will not work on a dumb terminal, an emacs shell buffer, or without a controlling terminal.)\n",
      "debconf: falling back to frontend: Readline\n",
      "debconf: unable to initialize frontend: Readline\n",
      "debconf: (This frontend requires a controlling tty.)\n",
      "debconf: falling back to frontend: Teletype\n",
      "dpkg-preconfigure: unable to re-open stdin: \n",
      "\n"
     ]
    }
   ],
   "source": [
    "stdin, stdout, stderr = client1.exec_command('sudo apt install traceroute')\n",
    "print(stdout.read().decode(\"utf-8\"))\n",
    "print(stderr.read().decode(\"utf-8\"))\n",
    "stdin, stdout, stderr = client2.exec_command('sudo apt install traceroute')\n",
    "print(stdout.read().decode(\"utf-8\"))\n",
    "print(stderr.read().decode(\"utf-8\"))\n",
    "stdin, stdout, stderr = client3.exec_command('sudo apt install traceroute')\n",
    "print(stdout.read().decode(\"utf-8\"))\n",
    "print(stderr.read().decode(\"utf-8\"))"
   ]
  },
  {
   "cell_type": "markdown",
   "metadata": {},
   "source": [
    "### Let's look at the available interfaces."
   ]
  },
  {
   "cell_type": "code",
   "execution_count": 37,
   "metadata": {
    "tags": []
   },
   "outputs": [
    {
     "name": "stdout",
     "output_type": "stream",
     "text": [
      "1: lo: <LOOPBACK,UP,LOWER_UP> mtu 65536 qdisc noqueue state UNKNOWN group default qlen 1000\n",
      "    link/loopback 00:00:00:00:00:00 brd 00:00:00:00:00:00\n",
      "    inet 127.0.0.1/8 scope host lo\n",
      "       valid_lft forever preferred_lft forever\n",
      "    inet6 ::1/128 scope host \n",
      "       valid_lft forever preferred_lft forever\n",
      "2: ens3: <BROADCAST,MULTICAST,UP,LOWER_UP> mtu 9000 qdisc fq_codel state UP group default qlen 1000\n",
      "    link/ether fa:16:3e:bd:08:d0 brd ff:ff:ff:ff:ff:ff\n",
      "    inet 10.20.4.215/24 brd 10.20.4.255 scope global dynamic ens3\n",
      "       valid_lft 86093sec preferred_lft 86093sec\n",
      "    inet6 fe80::f816:3eff:febd:8d0/64 scope link \n",
      "       valid_lft forever preferred_lft forever\n",
      "3: ens8: <BROADCAST,MULTICAST> mtu 1500 qdisc noop state DOWN group default qlen 1000\n",
      "    link/ether 04:3f:72:fe:a6:70 brd ff:ff:ff:ff:ff:ff\n",
      "4: ens9: <BROADCAST,MULTICAST> mtu 1500 qdisc noop state DOWN group default qlen 1000\n",
      "    link/ether 04:3f:72:fe:a6:71 brd ff:ff:ff:ff:ff:ff\n",
      "\n",
      "\n"
     ]
    }
   ],
   "source": [
    "stdin, stdout, stderr = client1.exec_command('ip a')\n",
    "print(stdout.read().decode(\"utf-8\"))\n",
    "print(stderr.read().decode(\"utf-8\"))"
   ]
  },
  {
   "cell_type": "code",
   "execution_count": 38,
   "metadata": {},
   "outputs": [
    {
     "name": "stdout",
     "output_type": "stream",
     "text": [
      "1: lo: <LOOPBACK,UP,LOWER_UP> mtu 65536 qdisc noqueue state UNKNOWN group default qlen 1000\n",
      "    link/loopback 00:00:00:00:00:00 brd 00:00:00:00:00:00\n",
      "    inet 127.0.0.1/8 scope host lo\n",
      "       valid_lft forever preferred_lft forever\n",
      "    inet6 ::1/128 scope host \n",
      "       valid_lft forever preferred_lft forever\n",
      "2: ens3: <BROADCAST,MULTICAST,UP,LOWER_UP> mtu 9000 qdisc fq_codel state UP group default qlen 1000\n",
      "    link/ether fa:16:3e:c0:52:9a brd ff:ff:ff:ff:ff:ff\n",
      "    inet 10.20.4.137/24 brd 10.20.4.255 scope global dynamic ens3\n",
      "       valid_lft 86090sec preferred_lft 86090sec\n",
      "    inet6 fe80::f816:3eff:fec0:529a/64 scope link \n",
      "       valid_lft forever preferred_lft forever\n",
      "3: ens7: <BROADCAST,MULTICAST> mtu 1500 qdisc noop state DOWN group default qlen 1000\n",
      "    link/ether 04:3f:72:fe:9f:e0 brd ff:ff:ff:ff:ff:ff\n",
      "4: ens8: <BROADCAST,MULTICAST> mtu 1500 qdisc noop state DOWN group default qlen 1000\n",
      "    link/ether 04:3f:72:fe:9f:e1 brd ff:ff:ff:ff:ff:ff\n",
      "\n",
      "\n"
     ]
    }
   ],
   "source": [
    "stdin, stdout, stderr = client2.exec_command('ip a')\n",
    "print(stdout.read().decode(\"utf-8\"))\n",
    "print(stderr.read().decode(\"utf-8\"))"
   ]
  },
  {
   "cell_type": "code",
   "execution_count": 39,
   "metadata": {},
   "outputs": [
    {
     "name": "stdout",
     "output_type": "stream",
     "text": [
      "1: lo: <LOOPBACK,UP,LOWER_UP> mtu 65536 qdisc noqueue state UNKNOWN group default qlen 1000\n",
      "    link/loopback 00:00:00:00:00:00 brd 00:00:00:00:00:00\n",
      "    inet 127.0.0.1/8 scope host lo\n",
      "       valid_lft forever preferred_lft forever\n",
      "    inet6 ::1/128 scope host \n",
      "       valid_lft forever preferred_lft forever\n",
      "2: ens3: <BROADCAST,MULTICAST,UP,LOWER_UP> mtu 9000 qdisc fq_codel state UP group default qlen 1000\n",
      "    link/ether fa:16:3e:c7:39:0c brd ff:ff:ff:ff:ff:ff\n",
      "    inet 10.20.4.119/24 brd 10.20.4.255 scope global dynamic ens3\n",
      "       valid_lft 86089sec preferred_lft 86089sec\n",
      "    inet6 fe80::f816:3eff:fec7:390c/64 scope link \n",
      "       valid_lft forever preferred_lft forever\n",
      "3: ens7: <BROADCAST,MULTICAST> mtu 1500 qdisc noop state DOWN group default qlen 1000\n",
      "    link/ether 04:3f:72:fa:75:5c brd ff:ff:ff:ff:ff:ff\n",
      "4: ens8: <BROADCAST,MULTICAST> mtu 1500 qdisc noop state DOWN group default qlen 1000\n",
      "    link/ether 04:3f:72:fa:75:5d brd ff:ff:ff:ff:ff:ff\n",
      "\n",
      "\n"
     ]
    }
   ],
   "source": [
    "stdin, stdout, stderr = client3.exec_command('ip a')\n",
    "print(stdout.read().decode(\"utf-8\"))\n",
    "print(stderr.read().decode(\"utf-8\"))"
   ]
  },
  {
   "cell_type": "markdown",
   "metadata": {},
   "source": [
    "### All nodes have two network interfaces."
   ]
  },
  {
   "cell_type": "markdown",
   "metadata": {},
   "source": [
    "### Now, we need to remember that we have requested that\n",
    "\n",
    "- `n1`'s first port (`ens8`) and `n2`'s first port (`ens7`) are in the same vlan which is tagged `200`\n",
    "- `n2`'s second port (`ens8`) and `n3`'s first port (`ens7`) are in the same vlan which is tagged `201`"
   ]
  },
  {
   "cell_type": "markdown",
   "metadata": {},
   "source": [
    "<hr>"
   ]
  },
  {
   "cell_type": "markdown",
   "metadata": {},
   "source": [
    "### Now let's configure our interfaces."
   ]
  },
  {
   "cell_type": "markdown",
   "metadata": {},
   "source": [
    "### Let's begin by configuring `n1`'s NIC."
   ]
  },
  {
   "cell_type": "code",
   "execution_count": 40,
   "metadata": {},
   "outputs": [
    {
     "name": "stdout",
     "output_type": "stream",
     "text": [
      "\n",
      "\n"
     ]
    }
   ],
   "source": [
    "stdin, stdout, stderr = client1.exec_command('sudo ip link add link ens8 name ens8.200 type vlan id 200')\n",
    "print(stdout.read().decode(\"utf-8\"))\n",
    "print(stderr.read().decode(\"utf-8\"))"
   ]
  },
  {
   "cell_type": "code",
   "execution_count": 41,
   "metadata": {},
   "outputs": [
    {
     "name": "stdout",
     "output_type": "stream",
     "text": [
      "\n",
      "\n"
     ]
    }
   ],
   "source": [
    "stdin, stdout, stderr = client1.exec_command('sudo ip link set dev ens8 up')\n",
    "print(stdout.read().decode(\"utf-8\"))\n",
    "print(stderr.read().decode(\"utf-8\"))"
   ]
  },
  {
   "cell_type": "code",
   "execution_count": 42,
   "metadata": {},
   "outputs": [
    {
     "name": "stdout",
     "output_type": "stream",
     "text": [
      "\n",
      "\n"
     ]
    }
   ],
   "source": [
    "stdin, stdout, stderr = client1.exec_command('sudo ip link set dev ens8.200 up')\n",
    "print(stdout.read().decode(\"utf-8\"))\n",
    "print(stderr.read().decode(\"utf-8\"))"
   ]
  },
  {
   "cell_type": "code",
   "execution_count": 43,
   "metadata": {},
   "outputs": [
    {
     "name": "stdout",
     "output_type": "stream",
     "text": [
      "\n",
      "\n"
     ]
    }
   ],
   "source": [
    "stdin, stdout, stderr = client1.exec_command('sudo ip addr add 192.168.10.51/24 dev ens8.200')\n",
    "print(stdout.read().decode(\"utf-8\"))\n",
    "print(stderr.read().decode(\"utf-8\"))"
   ]
  },
  {
   "cell_type": "markdown",
   "metadata": {},
   "source": [
    "<hr>"
   ]
  },
  {
   "cell_type": "markdown",
   "metadata": {},
   "source": [
    "### Now let's configure `n2`'s NIC.\n",
    "\n",
    "<!-- ### We need to add a new interface that picks traffic tagged `200` (as we specified when we were creating the slice).\n",
    "\n",
    "### We are going to create two \"vlan\" interfaces called `ens7.200` and `ens8.200`. They are going to pick traffic tagged `200` from their corresponding interfaces (`ens7` and `ens8` respectively).\n",
    "\n",
    "### And then we will assign IP addresses to `ens7.200` and `ens8.200`. -->"
   ]
  },
  {
   "cell_type": "code",
   "execution_count": 44,
   "metadata": {},
   "outputs": [
    {
     "name": "stdout",
     "output_type": "stream",
     "text": [
      "\n",
      "\n"
     ]
    }
   ],
   "source": [
    "stdin, stdout, stderr = client2.exec_command('sudo ip link add link ens7 name ens7.200 type vlan id 200')\n",
    "print(stdout.read().decode(\"utf-8\"))\n",
    "print(stderr.read().decode(\"utf-8\"))"
   ]
  },
  {
   "cell_type": "code",
   "execution_count": 45,
   "metadata": {},
   "outputs": [
    {
     "name": "stdout",
     "output_type": "stream",
     "text": [
      "\n",
      "\n"
     ]
    }
   ],
   "source": [
    "stdin, stdout, stderr = client2.exec_command('sudo ip link set dev ens7 up')\n",
    "print(stdout.read().decode(\"utf-8\"))\n",
    "print(stderr.read().decode(\"utf-8\"))"
   ]
  },
  {
   "cell_type": "code",
   "execution_count": 46,
   "metadata": {},
   "outputs": [
    {
     "name": "stdout",
     "output_type": "stream",
     "text": [
      "\n",
      "\n"
     ]
    }
   ],
   "source": [
    "stdin, stdout, stderr = client2.exec_command('sudo ip link set dev ens7.200 up')\n",
    "print(stdout.read().decode(\"utf-8\"))\n",
    "print(stderr.read().decode(\"utf-8\"))"
   ]
  },
  {
   "cell_type": "code",
   "execution_count": 47,
   "metadata": {},
   "outputs": [
    {
     "name": "stdout",
     "output_type": "stream",
     "text": [
      "\n",
      "\n"
     ]
    }
   ],
   "source": [
    "stdin, stdout, stderr = client2.exec_command('sudo ip addr add 192.168.10.52/24 dev ens7.200')\n",
    "print(stdout.read().decode(\"utf-8\"))\n",
    "print(stderr.read().decode(\"utf-8\"))"
   ]
  },
  {
   "cell_type": "markdown",
   "metadata": {},
   "source": [
    "<hr>"
   ]
  },
  {
   "cell_type": "code",
   "execution_count": 48,
   "metadata": {},
   "outputs": [
    {
     "name": "stdout",
     "output_type": "stream",
     "text": [
      "\n",
      "\n"
     ]
    }
   ],
   "source": [
    "stdin, stdout, stderr = client2.exec_command('sudo ip link add link ens8 name ens8.201 type vlan id 201')\n",
    "print(stdout.read().decode(\"utf-8\"))\n",
    "print(stderr.read().decode(\"utf-8\"))"
   ]
  },
  {
   "cell_type": "code",
   "execution_count": 49,
   "metadata": {},
   "outputs": [
    {
     "name": "stdout",
     "output_type": "stream",
     "text": [
      "\n",
      "\n"
     ]
    }
   ],
   "source": [
    "stdin, stdout, stderr = client2.exec_command('sudo ip link set dev ens8 up')\n",
    "print(stdout.read().decode(\"utf-8\"))\n",
    "print(stderr.read().decode(\"utf-8\"))"
   ]
  },
  {
   "cell_type": "code",
   "execution_count": 50,
   "metadata": {},
   "outputs": [
    {
     "name": "stdout",
     "output_type": "stream",
     "text": [
      "\n",
      "\n"
     ]
    }
   ],
   "source": [
    "stdin, stdout, stderr = client2.exec_command('sudo ip link set dev ens8.201 up')\n",
    "print(stdout.read().decode(\"utf-8\"))\n",
    "print(stderr.read().decode(\"utf-8\"))"
   ]
  },
  {
   "cell_type": "code",
   "execution_count": 51,
   "metadata": {},
   "outputs": [
    {
     "name": "stdout",
     "output_type": "stream",
     "text": [
      "\n",
      "\n"
     ]
    }
   ],
   "source": [
    "stdin, stdout, stderr = client2.exec_command('sudo ip addr add 192.168.20.52/24 dev ens8.201')\n",
    "print(stdout.read().decode(\"utf-8\"))\n",
    "print(stderr.read().decode(\"utf-8\"))"
   ]
  },
  {
   "cell_type": "markdown",
   "metadata": {},
   "source": [
    "<hr>"
   ]
  },
  {
   "cell_type": "markdown",
   "metadata": {},
   "source": [
    "### And finally, let's configure `n3`'s NICs."
   ]
  },
  {
   "cell_type": "code",
   "execution_count": 52,
   "metadata": {},
   "outputs": [
    {
     "name": "stdout",
     "output_type": "stream",
     "text": [
      "\n",
      "\n"
     ]
    }
   ],
   "source": [
    "stdin, stdout, stderr = client3.exec_command('sudo ip link add link ens7 name ens7.201 type vlan id 201')\n",
    "print(stdout.read().decode(\"utf-8\"))\n",
    "print(stderr.read().decode(\"utf-8\"))"
   ]
  },
  {
   "cell_type": "code",
   "execution_count": 53,
   "metadata": {},
   "outputs": [
    {
     "name": "stdout",
     "output_type": "stream",
     "text": [
      "\n",
      "\n"
     ]
    }
   ],
   "source": [
    "stdin, stdout, stderr = client3.exec_command('sudo ip link set dev ens7 up')\n",
    "print(stdout.read().decode(\"utf-8\"))\n",
    "print(stderr.read().decode(\"utf-8\"))"
   ]
  },
  {
   "cell_type": "code",
   "execution_count": 54,
   "metadata": {},
   "outputs": [
    {
     "name": "stdout",
     "output_type": "stream",
     "text": [
      "\n",
      "\n"
     ]
    }
   ],
   "source": [
    "stdin, stdout, stderr = client3.exec_command('sudo ip link set dev ens7.201 up')\n",
    "print(stdout.read().decode(\"utf-8\"))\n",
    "print(stderr.read().decode(\"utf-8\"))"
   ]
  },
  {
   "cell_type": "code",
   "execution_count": 55,
   "metadata": {},
   "outputs": [
    {
     "name": "stdout",
     "output_type": "stream",
     "text": [
      "\n",
      "\n"
     ]
    }
   ],
   "source": [
    "stdin, stdout, stderr = client3.exec_command('sudo ip addr add 192.168.20.53/24 dev ens7.201')\n",
    "print(stdout.read().decode(\"utf-8\"))\n",
    "print(stderr.read().decode(\"utf-8\"))"
   ]
  },
  {
   "cell_type": "markdown",
   "metadata": {},
   "source": [
    "### Next thing to do is add routes.\n",
    "<!-- \n",
    "### For `n1`, we are going to direct traffic going to both `192.168.11.0` and `192.168.12.0` through `ens8` -->"
   ]
  },
  {
   "cell_type": "markdown",
   "metadata": {},
   "source": [
    "### For `n1`"
   ]
  },
  {
   "cell_type": "code",
   "execution_count": 56,
   "metadata": {},
   "outputs": [
    {
     "name": "stdout",
     "output_type": "stream",
     "text": [
      "\n",
      "\n"
     ]
    }
   ],
   "source": [
    "stdin, stdout, stderr = client1.exec_command('sudo route add -net 192.168.10.0/24 dev ens8.200')\n",
    "print(stdout.read().decode(\"utf-8\"))\n",
    "print(stderr.read().decode(\"utf-8\"))"
   ]
  },
  {
   "cell_type": "markdown",
   "metadata": {},
   "source": [
    "### For `n2`\n",
    "\n",
    "<!-- we are going to direct traffic going to `192.168.10.0` through `ens7.200`. -->"
   ]
  },
  {
   "cell_type": "code",
   "execution_count": 57,
   "metadata": {},
   "outputs": [
    {
     "name": "stdout",
     "output_type": "stream",
     "text": [
      "\n",
      "\n"
     ]
    }
   ],
   "source": [
    "stdin, stdout, stderr = client2.exec_command('sudo route add -net 192.168.10.0/24 dev ens7.200')\n",
    "print(stdout.read().decode(\"utf-8\"))\n",
    "print(stderr.read().decode(\"utf-8\"))"
   ]
  },
  {
   "cell_type": "code",
   "execution_count": 58,
   "metadata": {},
   "outputs": [
    {
     "name": "stdout",
     "output_type": "stream",
     "text": [
      "\n",
      "\n"
     ]
    }
   ],
   "source": [
    "stdin, stdout, stderr = client2.exec_command('sudo route add -net 192.168.20.0/24 dev ens8.201')\n",
    "print(stdout.read().decode(\"utf-8\"))\n",
    "print(stderr.read().decode(\"utf-8\"))"
   ]
  },
  {
   "cell_type": "markdown",
   "metadata": {},
   "source": [
    "### For `n3`"
   ]
  },
  {
   "cell_type": "code",
   "execution_count": 59,
   "metadata": {},
   "outputs": [
    {
     "name": "stdout",
     "output_type": "stream",
     "text": [
      "\n",
      "\n"
     ]
    }
   ],
   "source": [
    "stdin, stdout, stderr = client3.exec_command('sudo route add -net 192.168.20.0/24 dev ens7.201')\n",
    "print(stdout.read().decode(\"utf-8\"))\n",
    "print(stderr.read().decode(\"utf-8\"))"
   ]
  },
  {
   "cell_type": "markdown",
   "metadata": {},
   "source": [
    "<hr>"
   ]
  },
  {
   "cell_type": "markdown",
   "metadata": {},
   "source": [
    "### Now let's ping"
   ]
  },
  {
   "cell_type": "code",
   "execution_count": 60,
   "metadata": {},
   "outputs": [
    {
     "name": "stdout",
     "output_type": "stream",
     "text": [
      "PING 192.168.10.52 (192.168.10.52) 56(84) bytes of data.\n",
      "64 bytes from 192.168.10.52: icmp_seq=1 ttl=64 time=0.235 ms\n",
      "64 bytes from 192.168.10.52: icmp_seq=2 ttl=64 time=0.063 ms\n",
      "64 bytes from 192.168.10.52: icmp_seq=3 ttl=64 time=0.064 ms\n",
      "64 bytes from 192.168.10.52: icmp_seq=4 ttl=64 time=0.063 ms\n",
      "64 bytes from 192.168.10.52: icmp_seq=5 ttl=64 time=0.060 ms\n",
      "\n",
      "--- 192.168.10.52 ping statistics ---\n",
      "5 packets transmitted, 5 received, 0% packet loss, time 4100ms\n",
      "rtt min/avg/max/mdev = 0.060/0.097/0.235/0.069 ms\n",
      "\n",
      "\n"
     ]
    }
   ],
   "source": [
    "stdin, stdout, stderr = client1.exec_command('ping -c 5 192.168.10.52')\n",
    "print(stdout.read().decode(\"utf-8\"))\n",
    "print(stderr.read().decode(\"utf-8\"))"
   ]
  },
  {
   "cell_type": "code",
   "execution_count": 61,
   "metadata": {},
   "outputs": [
    {
     "name": "stdout",
     "output_type": "stream",
     "text": [
      "PING 192.168.20.52 (192.168.20.52) 56(84) bytes of data.\n",
      "\n",
      "--- 192.168.20.52 ping statistics ---\n",
      "5 packets transmitted, 0 received, 100% packet loss, time 4088ms\n",
      "\n",
      "\n",
      "\n"
     ]
    }
   ],
   "source": [
    "stdin, stdout, stderr = client1.exec_command('ping -c 5 192.168.20.52')\n",
    "print(stdout.read().decode(\"utf-8\"))\n",
    "print(stderr.read().decode(\"utf-8\"))"
   ]
  },
  {
   "cell_type": "code",
   "execution_count": 62,
   "metadata": {},
   "outputs": [
    {
     "name": "stdout",
     "output_type": "stream",
     "text": [
      "PING 192.168.20.53 (192.168.20.53) 56(84) bytes of data.\n",
      "\n",
      "--- 192.168.20.53 ping statistics ---\n",
      "5 packets transmitted, 0 received, 100% packet loss, time 4093ms\n",
      "\n",
      "\n",
      "\n"
     ]
    }
   ],
   "source": [
    "stdin, stdout, stderr = client1.exec_command('ping -c 5 192.168.20.53')\n",
    "print(stdout.read().decode(\"utf-8\"))\n",
    "print(stderr.read().decode(\"utf-8\"))"
   ]
  },
  {
   "cell_type": "markdown",
   "metadata": {},
   "source": [
    "### We can see above that client1 is able to talk to client2's first port only."
   ]
  },
  {
   "cell_type": "code",
   "execution_count": 63,
   "metadata": {},
   "outputs": [
    {
     "name": "stdout",
     "output_type": "stream",
     "text": [
      "PING 192.168.10.51 (192.168.10.51) 56(84) bytes of data.\n",
      "64 bytes from 192.168.10.51: icmp_seq=1 ttl=64 time=0.111 ms\n",
      "64 bytes from 192.168.10.51: icmp_seq=2 ttl=64 time=0.054 ms\n",
      "64 bytes from 192.168.10.51: icmp_seq=3 ttl=64 time=0.057 ms\n",
      "64 bytes from 192.168.10.51: icmp_seq=4 ttl=64 time=0.052 ms\n",
      "64 bytes from 192.168.10.51: icmp_seq=5 ttl=64 time=0.061 ms\n",
      "\n",
      "--- 192.168.10.51 ping statistics ---\n",
      "5 packets transmitted, 5 received, 0% packet loss, time 4094ms\n",
      "rtt min/avg/max/mdev = 0.052/0.067/0.111/0.022 ms\n",
      "\n",
      "\n"
     ]
    }
   ],
   "source": [
    "stdin, stdout, stderr = client2.exec_command('ping -c 5 192.168.10.51')\n",
    "print(stdout.read().decode(\"utf-8\"))\n",
    "print(stderr.read().decode(\"utf-8\"))"
   ]
  },
  {
   "cell_type": "code",
   "execution_count": 64,
   "metadata": {},
   "outputs": [
    {
     "name": "stdout",
     "output_type": "stream",
     "text": [
      "PING 192.168.20.53 (192.168.20.53) 56(84) bytes of data.\n",
      "64 bytes from 192.168.20.53: icmp_seq=1 ttl=64 time=0.297 ms\n",
      "64 bytes from 192.168.20.53: icmp_seq=2 ttl=64 time=0.079 ms\n",
      "64 bytes from 192.168.20.53: icmp_seq=3 ttl=64 time=0.056 ms\n",
      "64 bytes from 192.168.20.53: icmp_seq=4 ttl=64 time=0.137 ms\n",
      "64 bytes from 192.168.20.53: icmp_seq=5 ttl=64 time=0.138 ms\n",
      "\n",
      "--- 192.168.20.53 ping statistics ---\n",
      "5 packets transmitted, 5 received, 0% packet loss, time 4078ms\n",
      "rtt min/avg/max/mdev = 0.056/0.141/0.297/0.084 ms\n",
      "\n",
      "\n"
     ]
    }
   ],
   "source": [
    "stdin, stdout, stderr = client2.exec_command('ping -c 5 192.168.20.53')\n",
    "print(stdout.read().decode(\"utf-8\"))\n",
    "print(stderr.read().decode(\"utf-8\"))"
   ]
  },
  {
   "cell_type": "markdown",
   "metadata": {},
   "source": [
    "### We can see above that client2 can talk to client1's port and client3's port."
   ]
  },
  {
   "cell_type": "code",
   "execution_count": 65,
   "metadata": {},
   "outputs": [
    {
     "name": "stdout",
     "output_type": "stream",
     "text": [
      "PING 192.168.20.52 (192.168.20.52) 56(84) bytes of data.\n",
      "64 bytes from 192.168.20.52: icmp_seq=1 ttl=64 time=0.174 ms\n",
      "64 bytes from 192.168.20.52: icmp_seq=2 ttl=64 time=0.056 ms\n",
      "64 bytes from 192.168.20.52: icmp_seq=3 ttl=64 time=0.052 ms\n",
      "64 bytes from 192.168.20.52: icmp_seq=4 ttl=64 time=0.050 ms\n",
      "64 bytes from 192.168.20.52: icmp_seq=5 ttl=64 time=0.061 ms\n",
      "\n",
      "--- 192.168.20.52 ping statistics ---\n",
      "5 packets transmitted, 5 received, 0% packet loss, time 4077ms\n",
      "rtt min/avg/max/mdev = 0.050/0.078/0.174/0.047 ms\n",
      "\n",
      "\n"
     ]
    }
   ],
   "source": [
    "stdin, stdout, stderr = client3.exec_command('ping -c 5 192.168.20.52')\n",
    "print(stdout.read().decode(\"utf-8\"))\n",
    "print(stderr.read().decode(\"utf-8\"))"
   ]
  },
  {
   "cell_type": "code",
   "execution_count": 66,
   "metadata": {},
   "outputs": [
    {
     "name": "stdout",
     "output_type": "stream",
     "text": [
      "PING 192.168.10.52 (192.168.10.52) 56(84) bytes of data.\n",
      "\n",
      "--- 192.168.10.52 ping statistics ---\n",
      "5 packets transmitted, 0 received, 100% packet loss, time 4087ms\n",
      "\n",
      "\n",
      "\n"
     ]
    }
   ],
   "source": [
    "stdin, stdout, stderr = client3.exec_command('ping -c 5 192.168.10.52')\n",
    "print(stdout.read().decode(\"utf-8\"))\n",
    "print(stderr.read().decode(\"utf-8\"))"
   ]
  },
  {
   "cell_type": "code",
   "execution_count": 67,
   "metadata": {},
   "outputs": [
    {
     "name": "stdout",
     "output_type": "stream",
     "text": [
      "PING 192.168.10.51 (192.168.10.51) 56(84) bytes of data.\n",
      "\n",
      "--- 192.168.10.51 ping statistics ---\n",
      "5 packets transmitted, 0 received, 100% packet loss, time 4093ms\n",
      "\n",
      "\n",
      "\n"
     ]
    }
   ],
   "source": [
    "stdin, stdout, stderr = client3.exec_command('ping -c 5 192.168.10.51')\n",
    "print(stdout.read().decode(\"utf-8\"))\n",
    "print(stderr.read().decode(\"utf-8\"))"
   ]
  },
  {
   "cell_type": "markdown",
   "metadata": {},
   "source": [
    "### We can see above that client3 can only talk to client2's second port."
   ]
  },
  {
   "cell_type": "markdown",
   "metadata": {},
   "source": [
    "<hr>"
   ]
  },
  {
   "cell_type": "markdown",
   "metadata": {},
   "source": [
    "### Next, we'll let node 2 act as a router between nodes 1 and 3. This will let nodes 1 and 3 be able to reach each other through node 2."
   ]
  },
  {
   "cell_type": "markdown",
   "metadata": {},
   "source": [
    "### We need to:\n",
    "- let nodes 1 and 3 route packets through the interfaces of the ports that we've already configured.\n",
    "- let node 2 forward packets."
   ]
  },
  {
   "cell_type": "code",
   "execution_count": 68,
   "metadata": {},
   "outputs": [
    {
     "name": "stdout",
     "output_type": "stream",
     "text": [
      "\n",
      "\n"
     ]
    }
   ],
   "source": [
    "stdin, stdout, stderr = client1.exec_command('sudo ip route add 192.168.20.0/24 via 192.168.10.52')\n",
    "print(stdout.read().decode(\"utf-8\"))\n",
    "print(stderr.read().decode(\"utf-8\"))"
   ]
  },
  {
   "cell_type": "code",
   "execution_count": 69,
   "metadata": {},
   "outputs": [
    {
     "name": "stdout",
     "output_type": "stream",
     "text": [
      "\n",
      "\n"
     ]
    }
   ],
   "source": [
    "stdin, stdout, stderr = client3.exec_command('sudo ip route add 192.168.10.0/24 via 192.168.20.52')\n",
    "print(stdout.read().decode(\"utf-8\"))\n",
    "print(stderr.read().decode(\"utf-8\"))"
   ]
  },
  {
   "cell_type": "code",
   "execution_count": 70,
   "metadata": {},
   "outputs": [
    {
     "name": "stdout",
     "output_type": "stream",
     "text": [
      "net.ipv4.ip_forward = 1\n",
      "\n",
      "\n"
     ]
    }
   ],
   "source": [
    "stdin, stdout, stderr = client2.exec_command('sudo sysctl -w net.ipv4.ip_forward=1')\n",
    "print(stdout.read().decode(\"utf-8\"))\n",
    "print(stderr.read().decode(\"utf-8\"))"
   ]
  },
  {
   "cell_type": "markdown",
   "metadata": {},
   "source": [
    "<hr>"
   ]
  },
  {
   "cell_type": "markdown",
   "metadata": {},
   "source": [
    "### Now let's ping again."
   ]
  },
  {
   "cell_type": "code",
   "execution_count": 71,
   "metadata": {},
   "outputs": [
    {
     "name": "stdout",
     "output_type": "stream",
     "text": [
      "PING 192.168.10.52 (192.168.10.52) 56(84) bytes of data.\n",
      "64 bytes from 192.168.10.52: icmp_seq=1 ttl=64 time=0.123 ms\n",
      "64 bytes from 192.168.10.52: icmp_seq=2 ttl=64 time=0.073 ms\n",
      "64 bytes from 192.168.10.52: icmp_seq=3 ttl=64 time=0.059 ms\n",
      "64 bytes from 192.168.10.52: icmp_seq=4 ttl=64 time=0.146 ms\n",
      "64 bytes from 192.168.10.52: icmp_seq=5 ttl=64 time=0.094 ms\n",
      "\n",
      "--- 192.168.10.52 ping statistics ---\n",
      "5 packets transmitted, 5 received, 0% packet loss, time 4089ms\n",
      "rtt min/avg/max/mdev = 0.059/0.099/0.146/0.031 ms\n",
      "\n",
      "\n"
     ]
    }
   ],
   "source": [
    "stdin, stdout, stderr = client1.exec_command('ping -c 5 192.168.10.52')\n",
    "print(stdout.read().decode(\"utf-8\"))\n",
    "print(stderr.read().decode(\"utf-8\"))"
   ]
  },
  {
   "cell_type": "code",
   "execution_count": 72,
   "metadata": {},
   "outputs": [
    {
     "name": "stdout",
     "output_type": "stream",
     "text": [
      "PING 192.168.20.52 (192.168.20.52) 56(84) bytes of data.\n",
      "64 bytes from 192.168.20.52: icmp_seq=1 ttl=64 time=0.109 ms\n",
      "64 bytes from 192.168.20.52: icmp_seq=2 ttl=64 time=0.070 ms\n",
      "64 bytes from 192.168.20.52: icmp_seq=3 ttl=64 time=0.063 ms\n",
      "64 bytes from 192.168.20.52: icmp_seq=4 ttl=64 time=0.059 ms\n",
      "64 bytes from 192.168.20.52: icmp_seq=5 ttl=64 time=0.064 ms\n",
      "\n",
      "--- 192.168.20.52 ping statistics ---\n",
      "5 packets transmitted, 5 received, 0% packet loss, time 4074ms\n",
      "rtt min/avg/max/mdev = 0.059/0.073/0.109/0.018 ms\n",
      "\n",
      "\n"
     ]
    }
   ],
   "source": [
    "stdin, stdout, stderr = client1.exec_command('ping -c 5 192.168.20.52')\n",
    "print(stdout.read().decode(\"utf-8\"))\n",
    "print(stderr.read().decode(\"utf-8\"))"
   ]
  },
  {
   "cell_type": "code",
   "execution_count": 73,
   "metadata": {},
   "outputs": [
    {
     "name": "stdout",
     "output_type": "stream",
     "text": [
      "PING 192.168.20.53 (192.168.20.53) 56(84) bytes of data.\n",
      "64 bytes from 192.168.20.53: icmp_seq=1 ttl=63 time=0.212 ms\n",
      "64 bytes from 192.168.20.53: icmp_seq=2 ttl=63 time=0.113 ms\n",
      "64 bytes from 192.168.20.53: icmp_seq=3 ttl=63 time=0.117 ms\n",
      "64 bytes from 192.168.20.53: icmp_seq=4 ttl=63 time=0.127 ms\n",
      "64 bytes from 192.168.20.53: icmp_seq=5 ttl=63 time=0.132 ms\n",
      "\n",
      "--- 192.168.20.53 ping statistics ---\n",
      "5 packets transmitted, 5 received, 0% packet loss, time 4077ms\n",
      "rtt min/avg/max/mdev = 0.113/0.140/0.212/0.036 ms\n",
      "\n",
      "\n"
     ]
    }
   ],
   "source": [
    "stdin, stdout, stderr = client1.exec_command('ping -c 5 192.168.20.53')\n",
    "print(stdout.read().decode(\"utf-8\"))\n",
    "print(stderr.read().decode(\"utf-8\"))"
   ]
  },
  {
   "cell_type": "markdown",
   "metadata": {},
   "source": [
    "### We can see that all network interfaces are now reachable."
   ]
  },
  {
   "cell_type": "markdown",
   "metadata": {},
   "source": [
    "### Now let's do a traceroute to see the path that the packets take."
   ]
  },
  {
   "cell_type": "code",
   "execution_count": 74,
   "metadata": {},
   "outputs": [
    {
     "name": "stdout",
     "output_type": "stream",
     "text": [
      "traceroute to 192.168.10.52 (192.168.10.52), 30 hops max, 60 byte packets\n",
      " 1  192.168.10.52 (192.168.10.52)  0.152 ms  0.096 ms  0.089 ms\n",
      "\n",
      "\n"
     ]
    }
   ],
   "source": [
    "stdin, stdout, stderr = client1.exec_command('traceroute 192.168.10.52')\n",
    "print(stdout.read().decode(\"utf-8\"))\n",
    "print(stderr.read().decode(\"utf-8\"))"
   ]
  },
  {
   "cell_type": "code",
   "execution_count": 75,
   "metadata": {},
   "outputs": [
    {
     "name": "stdout",
     "output_type": "stream",
     "text": [
      "traceroute to 192.168.20.52 (192.168.20.52), 30 hops max, 60 byte packets\n",
      " 1  192.168.20.52 (192.168.20.52)  0.085 ms * *\n",
      "\n",
      "\n"
     ]
    }
   ],
   "source": [
    "stdin, stdout, stderr = client1.exec_command('traceroute 192.168.20.52')\n",
    "print(stdout.read().decode(\"utf-8\"))\n",
    "print(stderr.read().decode(\"utf-8\"))"
   ]
  },
  {
   "cell_type": "code",
   "execution_count": 76,
   "metadata": {},
   "outputs": [
    {
     "name": "stdout",
     "output_type": "stream",
     "text": [
      "traceroute to 192.168.20.53 (192.168.20.53), 30 hops max, 60 byte packets\n",
      " 1  192.168.10.52 (192.168.10.52)  0.097 ms  0.110 ms *\n",
      " 2  192.168.20.53 (192.168.20.53)  0.239 ms  0.201 ms *\n",
      "\n",
      "\n"
     ]
    }
   ],
   "source": [
    "stdin, stdout, stderr = client1.exec_command('traceroute 192.168.20.53')\n",
    "print(stdout.read().decode(\"utf-8\"))\n",
    "print(stderr.read().decode(\"utf-8\"))"
   ]
  },
  {
   "cell_type": "markdown",
   "metadata": {},
   "source": [
    "### We can see that the two ports of client 2 are directly reachable, as if they are directly connected."
   ]
  },
  {
   "cell_type": "markdown",
   "metadata": {},
   "source": [
    "### And we can see that client 3 is reachable after one hop through client 2."
   ]
  },
  {
   "cell_type": "markdown",
   "metadata": {},
   "source": [
    "### Now let's look at the rest of the clients."
   ]
  },
  {
   "cell_type": "code",
   "execution_count": 77,
   "metadata": {},
   "outputs": [
    {
     "name": "stdout",
     "output_type": "stream",
     "text": [
      "PING 192.168.10.51 (192.168.10.51) 56(84) bytes of data.\n",
      "64 bytes from 192.168.10.51: icmp_seq=1 ttl=64 time=0.192 ms\n",
      "64 bytes from 192.168.10.51: icmp_seq=2 ttl=64 time=0.072 ms\n",
      "64 bytes from 192.168.10.51: icmp_seq=3 ttl=64 time=0.048 ms\n",
      "64 bytes from 192.168.10.51: icmp_seq=4 ttl=64 time=0.057 ms\n",
      "64 bytes from 192.168.10.51: icmp_seq=5 ttl=64 time=0.055 ms\n",
      "\n",
      "--- 192.168.10.51 ping statistics ---\n",
      "5 packets transmitted, 5 received, 0% packet loss, time 4102ms\n",
      "rtt min/avg/max/mdev = 0.048/0.084/0.192/0.054 ms\n",
      "\n",
      "\n"
     ]
    }
   ],
   "source": [
    "stdin, stdout, stderr = client2.exec_command('ping -c 5 192.168.10.51')\n",
    "print(stdout.read().decode(\"utf-8\"))\n",
    "print(stderr.read().decode(\"utf-8\"))"
   ]
  },
  {
   "cell_type": "code",
   "execution_count": 78,
   "metadata": {},
   "outputs": [
    {
     "name": "stdout",
     "output_type": "stream",
     "text": [
      "PING 192.168.20.53 (192.168.20.53) 56(84) bytes of data.\n",
      "64 bytes from 192.168.20.53: icmp_seq=1 ttl=64 time=0.123 ms\n",
      "64 bytes from 192.168.20.53: icmp_seq=2 ttl=64 time=0.080 ms\n",
      "64 bytes from 192.168.20.53: icmp_seq=3 ttl=64 time=0.092 ms\n",
      "64 bytes from 192.168.20.53: icmp_seq=4 ttl=64 time=0.092 ms\n",
      "64 bytes from 192.168.20.53: icmp_seq=5 ttl=64 time=0.082 ms\n",
      "\n",
      "--- 192.168.20.53 ping statistics ---\n",
      "5 packets transmitted, 5 received, 0% packet loss, time 4076ms\n",
      "rtt min/avg/max/mdev = 0.080/0.093/0.123/0.015 ms\n",
      "\n",
      "\n"
     ]
    }
   ],
   "source": [
    "stdin, stdout, stderr = client2.exec_command('ping -c 5 192.168.20.53')\n",
    "print(stdout.read().decode(\"utf-8\"))\n",
    "print(stderr.read().decode(\"utf-8\"))"
   ]
  },
  {
   "cell_type": "markdown",
   "metadata": {},
   "source": [
    "<hr>"
   ]
  },
  {
   "cell_type": "code",
   "execution_count": 79,
   "metadata": {},
   "outputs": [
    {
     "name": "stdout",
     "output_type": "stream",
     "text": [
      "traceroute to 192.168.10.51 (192.168.10.51), 30 hops max, 60 byte packets\n",
      " 1  192.168.10.51 (192.168.10.51)  0.077 ms  0.061 ms  0.048 ms\n",
      "\n",
      "\n"
     ]
    }
   ],
   "source": [
    "stdin, stdout, stderr = client2.exec_command('traceroute 192.168.10.51')\n",
    "print(stdout.read().decode(\"utf-8\"))\n",
    "print(stderr.read().decode(\"utf-8\"))"
   ]
  },
  {
   "cell_type": "code",
   "execution_count": 80,
   "metadata": {},
   "outputs": [
    {
     "name": "stdout",
     "output_type": "stream",
     "text": [
      "traceroute to 192.168.20.53 (192.168.20.53), 30 hops max, 60 byte packets\n",
      " 1  * 192.168.20.53 (192.168.20.53)  0.254 ms  0.282 ms\n",
      "\n",
      "\n"
     ]
    }
   ],
   "source": [
    "stdin, stdout, stderr = client2.exec_command('traceroute 192.168.20.53')\n",
    "print(stdout.read().decode(\"utf-8\"))\n",
    "print(stderr.read().decode(\"utf-8\"))"
   ]
  },
  {
   "cell_type": "markdown",
   "metadata": {},
   "source": [
    "<hr>"
   ]
  },
  {
   "cell_type": "code",
   "execution_count": 81,
   "metadata": {},
   "outputs": [
    {
     "name": "stdout",
     "output_type": "stream",
     "text": [
      "PING 192.168.20.52 (192.168.20.52) 56(84) bytes of data.\n",
      "64 bytes from 192.168.20.52: icmp_seq=1 ttl=64 time=0.056 ms\n",
      "64 bytes from 192.168.20.52: icmp_seq=2 ttl=64 time=0.077 ms\n",
      "64 bytes from 192.168.20.52: icmp_seq=3 ttl=64 time=0.081 ms\n",
      "64 bytes from 192.168.20.52: icmp_seq=4 ttl=64 time=0.060 ms\n",
      "64 bytes from 192.168.20.52: icmp_seq=5 ttl=64 time=0.064 ms\n",
      "\n",
      "--- 192.168.20.52 ping statistics ---\n",
      "5 packets transmitted, 5 received, 0% packet loss, time 4075ms\n",
      "rtt min/avg/max/mdev = 0.056/0.067/0.081/0.009 ms\n",
      "\n",
      "\n"
     ]
    }
   ],
   "source": [
    "stdin, stdout, stderr = client3.exec_command('ping -c 5 192.168.20.52')\n",
    "print(stdout.read().decode(\"utf-8\"))\n",
    "print(stderr.read().decode(\"utf-8\"))"
   ]
  },
  {
   "cell_type": "code",
   "execution_count": 82,
   "metadata": {},
   "outputs": [
    {
     "name": "stdout",
     "output_type": "stream",
     "text": [
      "PING 192.168.10.52 (192.168.10.52) 56(84) bytes of data.\n",
      "64 bytes from 192.168.10.52: icmp_seq=1 ttl=64 time=0.077 ms\n",
      "64 bytes from 192.168.10.52: icmp_seq=2 ttl=64 time=0.071 ms\n",
      "64 bytes from 192.168.10.52: icmp_seq=3 ttl=64 time=0.058 ms\n",
      "64 bytes from 192.168.10.52: icmp_seq=4 ttl=64 time=0.051 ms\n",
      "64 bytes from 192.168.10.52: icmp_seq=5 ttl=64 time=0.073 ms\n",
      "\n",
      "--- 192.168.10.52 ping statistics ---\n",
      "5 packets transmitted, 5 received, 0% packet loss, time 4087ms\n",
      "rtt min/avg/max/mdev = 0.051/0.066/0.077/0.009 ms\n",
      "\n",
      "\n"
     ]
    }
   ],
   "source": [
    "stdin, stdout, stderr = client3.exec_command('ping -c 5 192.168.10.52')\n",
    "print(stdout.read().decode(\"utf-8\"))\n",
    "print(stderr.read().decode(\"utf-8\"))"
   ]
  },
  {
   "cell_type": "code",
   "execution_count": 83,
   "metadata": {},
   "outputs": [
    {
     "name": "stdout",
     "output_type": "stream",
     "text": [
      "PING 192.168.10.51 (192.168.10.51) 56(84) bytes of data.\n",
      "64 bytes from 192.168.10.51: icmp_seq=1 ttl=63 time=0.114 ms\n",
      "64 bytes from 192.168.10.51: icmp_seq=2 ttl=63 time=0.111 ms\n",
      "64 bytes from 192.168.10.51: icmp_seq=3 ttl=63 time=0.113 ms\n",
      "64 bytes from 192.168.10.51: icmp_seq=4 ttl=63 time=0.116 ms\n",
      "64 bytes from 192.168.10.51: icmp_seq=5 ttl=63 time=0.115 ms\n",
      "\n",
      "--- 192.168.10.51 ping statistics ---\n",
      "5 packets transmitted, 5 received, 0% packet loss, time 4077ms\n",
      "rtt min/avg/max/mdev = 0.111/0.113/0.116/0.001 ms\n",
      "\n",
      "\n"
     ]
    }
   ],
   "source": [
    "stdin, stdout, stderr = client3.exec_command('ping -c 5 192.168.10.51')\n",
    "print(stdout.read().decode(\"utf-8\"))\n",
    "print(stderr.read().decode(\"utf-8\"))"
   ]
  },
  {
   "cell_type": "code",
   "execution_count": 84,
   "metadata": {},
   "outputs": [
    {
     "name": "stdout",
     "output_type": "stream",
     "text": [
      "traceroute to 192.168.20.52 (192.168.20.52), 30 hops max, 60 byte packets\n",
      " 1  192.168.20.52 (192.168.20.52)  0.059 ms  0.059 ms  0.061 ms\n",
      "\n",
      "\n"
     ]
    }
   ],
   "source": [
    "stdin, stdout, stderr = client3.exec_command('traceroute 192.168.20.52')\n",
    "print(stdout.read().decode(\"utf-8\"))\n",
    "print(stderr.read().decode(\"utf-8\"))"
   ]
  },
  {
   "cell_type": "code",
   "execution_count": 87,
   "metadata": {},
   "outputs": [
    {
     "name": "stdout",
     "output_type": "stream",
     "text": [
      "traceroute to 192.168.10.52 (192.168.10.52), 30 hops max, 60 byte packets\n",
      " 1  192.168.10.52 (192.168.10.52)  0.131 ms  0.107 ms  0.094 ms\n",
      "\n",
      "\n"
     ]
    }
   ],
   "source": [
    "stdin, stdout, stderr = client3.exec_command('traceroute 192.168.10.52')\n",
    "print(stdout.read().decode(\"utf-8\"))\n",
    "print(stderr.read().decode(\"utf-8\"))"
   ]
  },
  {
   "cell_type": "code",
   "execution_count": 89,
   "metadata": {},
   "outputs": [
    {
     "name": "stdout",
     "output_type": "stream",
     "text": [
      "traceroute to 192.168.10.51 (192.168.10.51), 30 hops max, 60 byte packets\n",
      " 1  192.168.20.52 (192.168.20.52)  0.074 ms  0.053 ms *\n",
      " 2  192.168.10.51 (192.168.10.51)  0.106 ms  0.093 ms *\n",
      "\n",
      "\n"
     ]
    }
   ],
   "source": [
    "stdin, stdout, stderr = client3.exec_command('traceroute 192.168.10.51')\n",
    "print(stdout.read().decode(\"utf-8\"))\n",
    "print(stderr.read().decode(\"utf-8\"))"
   ]
  },
  {
   "cell_type": "markdown",
   "metadata": {},
   "source": [
    "<hr>"
   ]
  },
  {
   "cell_type": "markdown",
   "metadata": {},
   "source": [
    "### Now let's do a bandwidth test between client 1 and client 3 (through the router). First we install iperf3."
   ]
  },
  {
   "cell_type": "code",
   "execution_count": 97,
   "metadata": {},
   "outputs": [
    {
     "name": "stdout",
     "output_type": "stream",
     "text": [
      "Reading package lists...\n",
      "Building dependency tree...\n",
      "Reading state information...\n",
      "The following additional packages will be installed:\n",
      "  libiperf0 libsctp1\n",
      "Suggested packages:\n",
      "  lksctp-tools\n",
      "The following NEW packages will be installed:\n",
      "  iperf3 libiperf0 libsctp1\n",
      "0 upgraded, 3 newly installed, 0 to remove and 40 not upgraded.\n",
      "Need to get 94.1 kB of archives.\n",
      "After this operation, 331 kB of additional disk space will be used.\n",
      "Get:1 http://nova.clouds.archive.ubuntu.com/ubuntu focal/main amd64 libsctp1 amd64 1.0.18+dfsg-1 [7876 B]\n",
      "Get:2 http://nova.clouds.archive.ubuntu.com/ubuntu focal/universe amd64 libiperf0 amd64 3.7-3 [72.0 kB]\n",
      "Get:3 http://nova.clouds.archive.ubuntu.com/ubuntu focal/universe amd64 iperf3 amd64 3.7-3 [14.2 kB]\n",
      "Fetched 94.1 kB in 0s (1112 kB/s)\n",
      "Selecting previously unselected package libsctp1:amd64.\n",
      "(Reading database ... 94636 files and directories currently installed.)\n",
      "Preparing to unpack .../libsctp1_1.0.18+dfsg-1_amd64.deb ...\n",
      "Unpacking libsctp1:amd64 (1.0.18+dfsg-1) ...\n",
      "Selecting previously unselected package libiperf0:amd64.\n",
      "Preparing to unpack .../libiperf0_3.7-3_amd64.deb ...\n",
      "Unpacking libiperf0:amd64 (3.7-3) ...\n",
      "Selecting previously unselected package iperf3.\n",
      "Preparing to unpack .../iperf3_3.7-3_amd64.deb ...\n",
      "Unpacking iperf3 (3.7-3) ...\n",
      "Setting up libsctp1:amd64 (1.0.18+dfsg-1) ...\n",
      "Setting up libiperf0:amd64 (3.7-3) ...\n",
      "Setting up iperf3 (3.7-3) ...\n",
      "Processing triggers for man-db (2.9.1-1) ...\n",
      "Processing triggers for libc-bin (2.31-0ubuntu9.2) ...\n",
      "\n",
      "\n",
      "WARNING: apt does not have a stable CLI interface. Use with caution in scripts.\n",
      "\n",
      "debconf: unable to initialize frontend: Dialog\n",
      "debconf: (Dialog frontend will not work on a dumb terminal, an emacs shell buffer, or without a controlling terminal.)\n",
      "debconf: falling back to frontend: Readline\n",
      "debconf: unable to initialize frontend: Readline\n",
      "debconf: (This frontend requires a controlling tty.)\n",
      "debconf: falling back to frontend: Teletype\n",
      "dpkg-preconfigure: unable to re-open stdin: \n",
      "\n",
      "Reading package lists...\n",
      "Building dependency tree...\n",
      "Reading state information...\n",
      "The following additional packages will be installed:\n",
      "  libiperf0 libsctp1\n",
      "Suggested packages:\n",
      "  lksctp-tools\n",
      "The following NEW packages will be installed:\n",
      "  iperf3 libiperf0 libsctp1\n",
      "0 upgraded, 3 newly installed, 0 to remove and 40 not upgraded.\n",
      "Need to get 94.1 kB of archives.\n",
      "After this operation, 331 kB of additional disk space will be used.\n",
      "Get:1 http://nova.clouds.archive.ubuntu.com/ubuntu focal/main amd64 libsctp1 amd64 1.0.18+dfsg-1 [7876 B]\n",
      "Get:2 http://nova.clouds.archive.ubuntu.com/ubuntu focal/universe amd64 libiperf0 amd64 3.7-3 [72.0 kB]\n",
      "Get:3 http://nova.clouds.archive.ubuntu.com/ubuntu focal/universe amd64 iperf3 amd64 3.7-3 [14.2 kB]\n",
      "Fetched 94.1 kB in 0s (1074 kB/s)\n",
      "Selecting previously unselected package libsctp1:amd64.\n",
      "(Reading database ... 94636 files and directories currently installed.)\n",
      "Preparing to unpack .../libsctp1_1.0.18+dfsg-1_amd64.deb ...\n",
      "Unpacking libsctp1:amd64 (1.0.18+dfsg-1) ...\n",
      "Selecting previously unselected package libiperf0:amd64.\n",
      "Preparing to unpack .../libiperf0_3.7-3_amd64.deb ...\n",
      "Unpacking libiperf0:amd64 (3.7-3) ...\n",
      "Selecting previously unselected package iperf3.\n",
      "Preparing to unpack .../iperf3_3.7-3_amd64.deb ...\n",
      "Unpacking iperf3 (3.7-3) ...\n",
      "Setting up libsctp1:amd64 (1.0.18+dfsg-1) ...\n",
      "Setting up libiperf0:amd64 (3.7-3) ...\n",
      "Setting up iperf3 (3.7-3) ...\n",
      "Processing triggers for man-db (2.9.1-1) ...\n",
      "Processing triggers for libc-bin (2.31-0ubuntu9.2) ...\n",
      "\n",
      "\n",
      "WARNING: apt does not have a stable CLI interface. Use with caution in scripts.\n",
      "\n",
      "debconf: unable to initialize frontend: Dialog\n",
      "debconf: (Dialog frontend will not work on a dumb terminal, an emacs shell buffer, or without a controlling terminal.)\n",
      "debconf: falling back to frontend: Readline\n",
      "debconf: unable to initialize frontend: Readline\n",
      "debconf: (This frontend requires a controlling tty.)\n",
      "debconf: falling back to frontend: Teletype\n",
      "dpkg-preconfigure: unable to re-open stdin: \n",
      "\n",
      "Reading package lists...\n",
      "Building dependency tree...\n",
      "Reading state information...\n",
      "The following additional packages will be installed:\n",
      "  libiperf0 libsctp1\n",
      "Suggested packages:\n",
      "  lksctp-tools\n",
      "The following NEW packages will be installed:\n",
      "  iperf3 libiperf0 libsctp1\n",
      "0 upgraded, 3 newly installed, 0 to remove and 40 not upgraded.\n",
      "Need to get 94.1 kB of archives.\n",
      "After this operation, 331 kB of additional disk space will be used.\n",
      "Get:1 http://nova.clouds.archive.ubuntu.com/ubuntu focal/main amd64 libsctp1 amd64 1.0.18+dfsg-1 [7876 B]\n",
      "Get:2 http://nova.clouds.archive.ubuntu.com/ubuntu focal/universe amd64 libiperf0 amd64 3.7-3 [72.0 kB]\n",
      "Get:3 http://nova.clouds.archive.ubuntu.com/ubuntu focal/universe amd64 iperf3 amd64 3.7-3 [14.2 kB]\n",
      "Fetched 94.1 kB in 0s (1091 kB/s)\n",
      "Selecting previously unselected package libsctp1:amd64.\n",
      "(Reading database ... 94636 files and directories currently installed.)\n",
      "Preparing to unpack .../libsctp1_1.0.18+dfsg-1_amd64.deb ...\n",
      "Unpacking libsctp1:amd64 (1.0.18+dfsg-1) ...\n",
      "Selecting previously unselected package libiperf0:amd64.\n",
      "Preparing to unpack .../libiperf0_3.7-3_amd64.deb ...\n",
      "Unpacking libiperf0:amd64 (3.7-3) ...\n",
      "Selecting previously unselected package iperf3.\n",
      "Preparing to unpack .../iperf3_3.7-3_amd64.deb ...\n",
      "Unpacking iperf3 (3.7-3) ...\n",
      "Setting up libsctp1:amd64 (1.0.18+dfsg-1) ...\n",
      "Setting up libiperf0:amd64 (3.7-3) ...\n",
      "Setting up iperf3 (3.7-3) ...\n",
      "Processing triggers for man-db (2.9.1-1) ...\n",
      "Processing triggers for libc-bin (2.31-0ubuntu9.2) ...\n",
      "\n",
      "\n",
      "WARNING: apt does not have a stable CLI interface. Use with caution in scripts.\n",
      "\n",
      "debconf: unable to initialize frontend: Dialog\n",
      "debconf: (Dialog frontend will not work on a dumb terminal, an emacs shell buffer, or without a controlling terminal.)\n",
      "debconf: falling back to frontend: Readline\n",
      "debconf: unable to initialize frontend: Readline\n",
      "debconf: (This frontend requires a controlling tty.)\n",
      "debconf: falling back to frontend: Teletype\n",
      "dpkg-preconfigure: unable to re-open stdin: \n",
      "\n"
     ]
    }
   ],
   "source": [
    "stdin, stdout, stderr = client1.exec_command('sudo apt install -y iperf3')\n",
    "print(stdout.read().decode(\"utf-8\"))\n",
    "print(stderr.read().decode(\"utf-8\"))\n",
    "stdin, stdout, stderr = client2.exec_command('sudo apt install -y iperf3')\n",
    "print(stdout.read().decode(\"utf-8\"))\n",
    "print(stderr.read().decode(\"utf-8\"))\n",
    "stdin, stdout, stderr = client3.exec_command('sudo apt install -y iperf3')\n",
    "print(stdout.read().decode(\"utf-8\"))\n",
    "print(stderr.read().decode(\"utf-8\"))"
   ]
  },
  {
   "cell_type": "markdown",
   "metadata": {},
   "source": [
    "### Then we can use the code module below."
   ]
  },
  {
   "cell_type": "code",
   "execution_count": 101,
   "metadata": {},
   "outputs": [],
   "source": [
    "def bandwidth_test(clientn1, clientn2, ip_of_interface_on_n1, ip_of_interface_on_n2, verbose):\n",
    "    output = \"Information about bandwidth with iperf: \\n\"\n",
    "    stdin, stdout, stderr = clientn1.exec_command('echo \"net.core.rmem_max = 2147483647\\nnet.core.wmem_max = 2147483647\\nnet.ipv4.tcp_rmem = 4096 87380 2147483647\\nnet.ipv4.tcp_wmem = 4096 65536 2147483647\\nnet.ipv4.tcp_congestion_control=htcp\\nnet.ipv4.tcp_mtu_probing=1\\nnet.core.default_qdisc = fq\\n\" | sudo tee -a /etc/sysctl.conf && sudo sysctl -p')\n",
    "    stdin, stdout, stderr = clientn2.exec_command('echo \"net.core.rmem_max = 2147483647\\nnet.core.wmem_max = 2147483647\\nnet.ipv4.tcp_rmem = 4096 87380 2147483647\\nnet.ipv4.tcp_wmem = 4096 65536 2147483647\\nnet.ipv4.tcp_congestion_control=htcp\\nnet.ipv4.tcp_mtu_probing=1\\nnet.core.default_qdisc = fq\\n\" | sudo tee -a /etc/sysctl.conf && sudo sysctl -p')\n",
    "    stdin, stdout, stderr = clientn1.exec_command('iperf3 -s > /dev/null 2>&1 &')\n",
    "    stdin, stdout, stderr = clientn2.exec_command('iperf3 -s > /dev/null 2>&1 &')\n",
    "    stdin, stdout, stderr = clientn2.exec_command('iperf3 -c ' + ip_of_interface_on_n1 + ' -P 32 -w 512M -R')\n",
    "    iperf_string = stdout.read().decode(\"utf-8\")\n",
    "    output += \"n2 to n1:\\n\"\n",
    "    iperf_strings = iperf_string.splitlines()\n",
    "    if(len(iperf_strings) > 3):\n",
    "        output += iperf_string.splitlines()[-4] + \"\\n\"\n",
    "        output += iperf_string.splitlines()[-3] + \"\\n\"\n",
    "    stdin, stdout, stderr = clientn1.exec_command('iperf3 -c ' + ip_of_interface_on_n2 + ' -P 32 -w 512M -R')\n",
    "    iperf_string = stdout.read().decode(\"utf-8\")\n",
    "    # iperf_string2 = re.findall(\"^(.*)\\n^(.*)\\n^(.*)\\n^(.*)$\\z\", iperf_string)\n",
    "    output += \"n1 to n2:\\n\"\n",
    "    iperf_strings = iperf_string.splitlines()\n",
    "    if(len(iperf_strings) > 3):\n",
    "        output += iperf_string.splitlines()[-4] + \"\\n\"\n",
    "        output += iperf_string.splitlines()[-3]\n",
    "        \n",
    "    return {\"Bandwidth\" : output}"
   ]
  },
  {
   "cell_type": "code",
   "execution_count": 105,
   "metadata": {},
   "outputs": [
    {
     "data": {
      "text/plain": [
       "{'Bandwidth': 'Information about bandwidth with iperf: \\nn2 to n1:\\n[SUM]   0.00-10.00  sec  12.6 GBytes  10.8 Gbits/sec  305990             sender\\n[SUM]   0.00-10.00  sec  11.7 GBytes  10.0 Gbits/sec                  receiver\\nn1 to n2:\\n[SUM]   0.00-10.00  sec  11.6 GBytes  9.95 Gbits/sec  268165             sender\\n[SUM]   0.00-10.00  sec  10.4 GBytes  8.96 Gbits/sec                  receiver'}"
      ]
     },
     "execution_count": 105,
     "metadata": {},
     "output_type": "execute_result"
    }
   ],
   "source": [
    "bandwidth_test(client1, client3, \"192.168.10.51\", \"192.168.20.53\", False)"
   ]
  }
 ],
 "metadata": {
  "kernelspec": {
   "display_name": "Python 3",
   "language": "python",
   "name": "python3"
  },
  "language_info": {
   "codemirror_mode": {
    "name": "ipython",
    "version": 3
   },
   "file_extension": ".py",
   "mimetype": "text/x-python",
   "name": "python",
   "nbconvert_exporter": "python",
   "pygments_lexer": "ipython3",
   "version": "3.9.2"
  }
 },
 "nbformat": 4,
 "nbformat_minor": 4
}

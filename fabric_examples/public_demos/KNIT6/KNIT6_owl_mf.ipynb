{
 "cells": [
  {
   "cell_type": "markdown",
   "id": "609be9b3-feee-4a07-8eb6-a088a344567b",
   "metadata": {},
   "source": [
    "# Method2: Run OWL using MF slice with a meas_node"
   ]
  },
  {
   "cell_type": "markdown",
   "id": "ea56d416-080b-49e0-ab2e-af99ff0d8c30",
   "metadata": {},
   "source": [
    "## Prerequisites\n",
    "\n",
    "Create an MF slice with 3 nodes using `KNIT6_prepare_a_slice_via_images.ipynb` and name it **\"MFLibKNIT6\"**"
   ]
  },
  {
   "cell_type": "markdown",
   "id": "b45cd21a-95cb-46e9-86f0-48216b053232",
   "metadata": {},
   "source": [
    "## Imports\n",
    "This series of notebooks all need a common set of imports which are defined in [Common Imports](./KNIT6_common_imports.ipynb)\n",
    "\n",
    "**slice_name** is defined in this step. If you would like to change the slice_name, edit [Common Imports](./KNIT6_common_imports.ipynb)"
   ]
  },
  {
   "cell_type": "code",
   "execution_count": null,
   "id": "44b05b91-54be-436e-8515-a4f0dc255204",
   "metadata": {},
   "outputs": [],
   "source": [
    "%run \"./KNIT6_common_imports.ipynb\""
   ]
  },
  {
   "cell_type": "code",
   "execution_count": null,
   "id": "be80ea43-aa00-4475-b92a-6c673eb5136d",
   "metadata": {},
   "outputs": [],
   "source": [
    "from mflib import owl"
   ]
  },
  {
   "cell_type": "code",
   "execution_count": null,
   "id": "af40ac1a-1d67-4b43-9eac-b6462db54235",
   "metadata": {},
   "outputs": [],
   "source": [
    "from configparser import ConfigParser\n",
    "from pathlib import Path"
   ]
  },
  {
   "cell_type": "markdown",
   "id": "3ca88ae2-8035-452d-83d9-8aeddb08034e",
   "metadata": {},
   "source": [
    "## Identify a slice"
   ]
  },
  {
   "cell_type": "code",
   "execution_count": null,
   "id": "4bdd1183-ef25-491b-8f31-8c2b30692ee3",
   "metadata": {},
   "outputs": [],
   "source": [
    "#slice_name=\"MFLibKNIT6\"\n",
    "\n",
    "try:\n",
    "    slice = fablib.get_slice(name=slice_name)\n",
    "    for node in slice.get_nodes():\n",
    "        print(node) \n",
    "\n",
    "except Exception as e:\n",
    "    print(f\"Exception: {e}\")"
   ]
  },
  {
   "cell_type": "markdown",
   "id": "c765498b-1dcf-437b-b4ac-4fb011c403a6",
   "metadata": {},
   "source": [
    "### Get Nodes"
   ]
  },
  {
   "cell_type": "code",
   "execution_count": null,
   "id": "f424fd18-1e9a-44da-be66-9426b762a88d",
   "metadata": {},
   "outputs": [],
   "source": [
    "node1 = slice.get_node(\"Node1\")\n",
    "node2 = slice.get_node(\"Node2\")\n",
    "node3 = slice.get_node(\"Node3\")\n",
    "nodes = slice.get_nodes()"
   ]
  },
  {
   "cell_type": "markdown",
   "id": "4dde5939-45c5-468b-a865-423bc18da02f",
   "metadata": {},
   "source": [
    "## If MF has not been initialized, run the following cell\n",
    "\n",
    "Among other things, it downloads OWL service scripts to meas_node. As you will see below, those scripts are used to orchestrate OWL measurement sessions on Experimenters' nodes.\n"
   ]
  },
  {
   "cell_type": "code",
   "execution_count": null,
   "id": "eb109199-e17d-45f3-b897-b440f6561e23",
   "metadata": {},
   "outputs": [],
   "source": [
    "mf=MFLib(slice_name)"
   ]
  },
  {
   "cell_type": "markdown",
   "id": "8cedb9a9-b607-42f8-bfb7-c6c782e20d15",
   "metadata": {},
   "source": [
    "## Set up OWL"
   ]
  },
  {
   "cell_type": "markdown",
   "id": "8d64f053-4ddf-42a7-95c0-107e6489d88b",
   "metadata": {},
   "source": [
    "### Create necessary local directories\n",
    "\n",
    "(If there are already directories with the same name, it will print warning)"
   ]
  },
  {
   "cell_type": "code",
   "execution_count": null,
   "id": "c1c5fa47-4f8b-4e1c-85e1-0b4ebb9b9e73",
   "metadata": {},
   "outputs": [],
   "source": [
    "local_owl_dir=f'/home/fabric/work/owl_output/{slice_name}'"
   ]
  },
  {
   "cell_type": "code",
   "execution_count": null,
   "id": "27687f51-2d98-463f-bb88-0c030ad509c0",
   "metadata": {},
   "outputs": [],
   "source": [
    "owl_mf = owl.OwlMf(local_owl_dir = local_owl_dir)"
   ]
  },
  {
   "cell_type": "markdown",
   "id": "68969d04-ac66-4a1d-b743-c13487691274",
   "metadata": {
    "tags": []
   },
   "source": [
    "# Prepare local OWL service files"
   ]
  },
  {
   "cell_type": "markdown",
   "id": "eb2c9a5b-2e75-4932-b260-ed28a6589967",
   "metadata": {},
   "source": [
    "### (optional) Look up experiment IP address(es) and site for each node"
   ]
  },
  {
   "cell_type": "code",
   "execution_count": null,
   "id": "c2f6d9d4-a655-452a-9700-3f9b64284d24",
   "metadata": {},
   "outputs": [],
   "source": [
    "for node in nodes:\n",
    "    print(f\"{node.get_name()}: {owl_mf.list_experiment_ip_addrs(node)} at {node.get_site()}\")"
   ]
  },
  {
   "cell_type": "code",
   "execution_count": null,
   "id": "e57ee9ac-1bbc-4d46-8716-8225633c2863",
   "metadata": {},
   "outputs": [],
   "source": [
    "node1_ip = owl_mf.list_experiment_ip_addrs(node1)[0]\n",
    "node2_ip = owl_mf.list_experiment_ip_addrs(node2)[0]\n",
    "node3_ip = owl_mf.list_experiment_ip_addrs(node3)[0]\n",
    "\n",
    "print(node1_ip, node2_ip, node3_ip)"
   ]
  },
  {
   "cell_type": "markdown",
   "id": "2c1dfa8e-086c-4ea2-a796-49419ff2220e",
   "metadata": {},
   "source": [
    "### Write config and links files locally\n",
    "\n",
    "#### Current options for `owl.conf` :\n",
    "\n",
    "- `send_int (default=0.5)`: interval (sec) at which UDP probe packets are sent. Values smaller than 0.5 may strain the system (we are working on this)\n",
    "- `port (default=5005)`: Leave it as it is unless there is a conflict\n",
    "- `cap_mode (default=\"save\")`: Currently that is the only option\n",
    "- `pcap_int (default=120)`: interval at which a new pcap file will be started (to limit the size of each pcap file)\n"
   ]
  },
  {
   "cell_type": "code",
   "execution_count": null,
   "id": "7e50e333-61d1-4cc7-8f71-09827f8783ea",
   "metadata": {},
   "outputs": [],
   "source": [
    "owl_mf.generate_local_config(send_int=1.0, pcap_int=280)"
   ]
  },
  {
   "cell_type": "markdown",
   "id": "c3145835-30af-40e2-ab53-02ac4ce0fdfc",
   "metadata": {},
   "source": [
    "#### Identify (src_ip, dst_ip) pairs for running OWL and write to `links.json` file"
   ]
  },
  {
   "cell_type": "code",
   "execution_count": null,
   "id": "034fe054-a692-423c-9f79-ad85a9175d13",
   "metadata": {},
   "outputs": [],
   "source": [
    "owl_mf.generate_local_links_file([(node2_ip, node1_ip), \n",
    "                                  (node1_ip, node2_ip), \n",
    "                                  (node3_ip, node2_ip), \n",
    "                                  (node1_ip, node3_ip)])"
   ]
  },
  {
   "cell_type": "markdown",
   "id": "4a2c8b59-8379-462b-b38b-937c8f63f71a",
   "metadata": {},
   "source": [
    "### (Optional) Print local service files to confirm the selection"
   ]
  },
  {
   "cell_type": "code",
   "execution_count": null,
   "id": "1eb5e133-47de-429b-ba58-c6da350d36a4",
   "metadata": {},
   "outputs": [],
   "source": [
    "owl_mf.print_local_service_files()"
   ]
  },
  {
   "cell_type": "markdown",
   "id": "3a347b45-1ad4-4477-a3df-c5929419338e",
   "metadata": {},
   "source": [
    "## (Optional) Check output files from previous runs on all remote nodes"
   ]
  },
  {
   "cell_type": "code",
   "execution_count": null,
   "id": "6c45e54c-2c6f-4797-a29e-8d06cc5cc70c",
   "metadata": {},
   "outputs": [],
   "source": [
    "for node in nodes:\n",
    "    print(f\"\\n{node.get_name()}:\")\n",
    "    owl_mf.list_remote_output(node)"
   ]
  },
  {
   "cell_type": "markdown",
   "id": "4fa37f6c-694a-494c-bc47-be51a6009c11",
   "metadata": {},
   "source": [
    "### Delete if necessary"
   ]
  },
  {
   "cell_type": "code",
   "execution_count": null,
   "id": "6b818548-0b0a-464b-932f-09050da97771",
   "metadata": {},
   "outputs": [],
   "source": [
    "for node in nodes:\n",
    "    print(f\"\\n{node.get_name()}:\")\n",
    "    owl_mf.delete_remote_output(node)"
   ]
  },
  {
   "cell_type": "markdown",
   "id": "eacb0f17-6156-4c8b-b548-b64393cac6ac",
   "metadata": {},
   "source": [
    "# Set up OWL on remote nodes via meas_node"
   ]
  },
  {
   "cell_type": "markdown",
   "id": "2a338faf-b4b1-46bc-a0b2-52fd1a43808f",
   "metadata": {
    "tags": []
   },
   "source": [
    "### MF: Create OWL on the slice \n",
    "\n",
    "#### This command will tell meas_node to ... \n",
    "- Create output and config directories on Exp nodes\n",
    "- Pull OWL image from Docker Hub"
   ]
  },
  {
   "cell_type": "code",
   "execution_count": null,
   "id": "edb11d90-867e-4dc2-aa9c-befb9f745ac0",
   "metadata": {},
   "outputs": [],
   "source": [
    "mf.create(\"owl\")"
   ]
  },
  {
   "cell_type": "markdown",
   "id": "649f37ec-8cc6-4835-a19f-1736875839c9",
   "metadata": {},
   "source": [
    "### MF: Upload the config and links files to the meas_node "
   ]
  },
  {
   "cell_type": "markdown",
   "id": "6f0b99bf-f7d3-4bd0-96da-90100578ce2d",
   "metadata": {},
   "source": [
    "#### Find local service file paths"
   ]
  },
  {
   "cell_type": "code",
   "execution_count": null,
   "id": "8ca8845a-73dd-4632-aeb8-734a447a6232",
   "metadata": {},
   "outputs": [],
   "source": [
    "owl_files = owl_mf.get_local_service_file_paths()\n",
    "print(owl_files)"
   ]
  },
  {
   "cell_type": "markdown",
   "id": "6ae41ac8-3587-4a48-9089-c3bdf44b687b",
   "metadata": {},
   "source": [
    "#### Copy the files to meas_node"
   ]
  },
  {
   "cell_type": "code",
   "execution_count": null,
   "id": "911515bb-e26e-437e-a37f-f3d5e175d1ce",
   "metadata": {},
   "outputs": [],
   "source": [
    "mf.update(service=\"owl\", files=owl_files)"
   ]
  },
  {
   "cell_type": "markdown",
   "id": "55711175-41e7-4f47-99bf-b1831a84f280",
   "metadata": {},
   "source": [
    "#### (optional) Check the meas_node copy looks right"
   ]
  },
  {
   "cell_type": "code",
   "execution_count": null,
   "id": "af6bbb1d-a00b-4ee3-9f4b-d0b8ab858750",
   "metadata": {},
   "outputs": [],
   "source": [
    "mf.info(\"owl\")"
   ]
  },
  {
   "cell_type": "markdown",
   "id": "889b7db7-07bc-41cb-aacd-554d932d96ee",
   "metadata": {},
   "source": [
    "# MF: Start OWL\n",
    "\n",
    "#### Meas_node will \n",
    "- Copy the updated owl.conf and links.json files to all experimenter nodes\n",
    "- Start docker containers on all experimenter nodes"
   ]
  },
  {
   "cell_type": "code",
   "execution_count": null,
   "id": "d433e5fc-3a70-41d5-a42e-cd589871188a",
   "metadata": {},
   "outputs": [],
   "source": [
    "mf.start(services=[\"owl\",])"
   ]
  },
  {
   "cell_type": "markdown",
   "id": "07e7a64f-ae5d-4769-af47-37bbfc883534",
   "metadata": {},
   "source": [
    "# MF: Stop OWL\n",
    "\n",
    "#### Meas_node will \n",
    "- Stop runnning OWL docker containers on all experimenter nodes"
   ]
  },
  {
   "cell_type": "code",
   "execution_count": null,
   "id": "58263b0c-f2cd-4088-820b-1d0a96c60323",
   "metadata": {},
   "outputs": [],
   "source": [
    "mf.stop(services=[\"owl\",])"
   ]
  },
  {
   "cell_type": "markdown",
   "id": "1563f003-6502-473f-9c43-5c3ae1e82257",
   "metadata": {},
   "source": [
    "# Download output\n",
    "\n",
    "- Downloads the generated `*.pcap` files from all nodes to  `<specified owl_dir>/output/<node_name>`"
   ]
  },
  {
   "cell_type": "markdown",
   "id": "364577c3-3869-4cb7-848b-766c1c120016",
   "metadata": {},
   "source": [
    "### (optional) Check if pcap files have been generated"
   ]
  },
  {
   "cell_type": "code",
   "execution_count": null,
   "id": "a258b3e8-dbfc-44b0-bb48-a49e68bbd11e",
   "metadata": {},
   "outputs": [],
   "source": [
    "for node in nodes:\n",
    "    print(f\"\\n{node.get_name()}\")\n",
    "    owl_mf.list_remote_output(node)"
   ]
  },
  {
   "cell_type": "markdown",
   "id": "101f0f9f-e30a-4c82-bc15-c616ed5b3ec8",
   "metadata": {},
   "source": [
    "### Download"
   ]
  },
  {
   "cell_type": "code",
   "execution_count": null,
   "id": "93d70779-06cd-455d-a63f-618c2d7973d6",
   "metadata": {},
   "outputs": [],
   "source": [
    "for node in nodes:\n",
    "    print(f\"\\n{node.get_name()}\")\n",
    "    owl_mf.download_output(node)"
   ]
  },
  {
   "cell_type": "markdown",
   "id": "20491f4f-cf83-467b-8e04-9a73b0dd1852",
   "metadata": {},
   "source": [
    "## ⚠️☠️ Run ONLY IF you want to remove OWL"
   ]
  },
  {
   "cell_type": "code",
   "execution_count": null,
   "id": "ef3c1ad3-d792-4c0e-8861-9c72af2ff3df",
   "metadata": {},
   "outputs": [],
   "source": [
    "#mf.remove(services=[\"owl\",])"
   ]
  }
 ],
 "metadata": {
  "kernelspec": {
   "display_name": "Python 3 (ipykernel)",
   "language": "python",
   "name": "python3"
  },
  "language_info": {
   "codemirror_mode": {
    "name": "ipython",
    "version": 3
   },
   "file_extension": ".py",
   "mimetype": "text/x-python",
   "name": "python",
   "nbconvert_exporter": "python",
   "pygments_lexer": "ipython3",
   "version": "3.9.7"
  }
 },
 "nbformat": 4,
 "nbformat_minor": 5
}

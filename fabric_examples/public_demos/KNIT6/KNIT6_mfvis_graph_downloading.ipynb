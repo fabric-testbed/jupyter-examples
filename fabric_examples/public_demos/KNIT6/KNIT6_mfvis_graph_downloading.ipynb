{
 "cells": [
  {
   "attachments": {},
   "cell_type": "markdown",
   "id": "ad328fe9",
   "metadata": {},
   "source": [
    "# KNIT6\n",
    "#### Measurement Framework Library\n",
    "# MFLib API Examples: Download Grafana Graphs as PNGs"
   ]
  },
  {
   "attachments": {},
   "cell_type": "markdown",
   "id": "2b66f046",
   "metadata": {},
   "source": [
    "This notebook shows how to use MFVis to download Grafana graphs as PNG files.\n",
    "\n",
    "# Prerequisites\n",
    "The slice has to have already been instrumentized. See the [Instrumentize a Slice](./KNIT6_instrumentize_a_slice.ipynb) notebook."
   ]
  },
  {
   "attachments": {},
   "cell_type": "markdown",
   "id": "80eff284",
   "metadata": {},
   "source": [
    "## Imports\n",
    "This series of notebooks all need a common set of imports which are defined in [Common Imports](./KNIT6_common_imports.ipynb)\n",
    "\n",
    "**slice_name** is defined in this step. If you would like to change the slice_name, edit [Common Imports](./KNIT6_common_imports.ipynb)"
   ]
  },
  {
   "cell_type": "code",
   "execution_count": null,
   "id": "0b1d724d",
   "metadata": {},
   "outputs": [],
   "source": [
    "%run \"./KNIT6_common_imports.ipynb\""
   ]
  },
  {
   "cell_type": "markdown",
   "id": "1e3a4c14",
   "metadata": {},
   "source": [
    "## Import mfvis and create new mfvis object with slice name"
   ]
  },
  {
   "cell_type": "code",
   "execution_count": null,
   "id": "fbbe84a2",
   "metadata": {},
   "outputs": [],
   "source": [
    "from mflib.mfvis import MFVis"
   ]
  },
  {
   "cell_type": "markdown",
   "id": "69d41314",
   "metadata": {},
   "source": [
    "Create the new MFVis object by passing in the name of the slice from which you will be getting graphs.\n",
    "This will take a few seconds. \n",
    "Note: If the slice has not been previously initialized and instrumentized then this step will attempt to initialize the slice. That will take ~ 5 minutes. However, as of this writing, if the slice is not instrumentized, instrumentize will not be performed."
   ]
  },
  {
   "cell_type": "code",
   "execution_count": null,
   "id": "af94c90e",
   "metadata": {},
   "outputs": [],
   "source": [
    "mfv = MFVis(slice_name)\n",
    "# Or, optionally, add a specific directory where the downloaded information will be stored. By default this is in the /tmp/mflib directory. \n",
    "#  Change it to a relative directory to this notebook. Then, in JupyterHub, right click on this notebook tab and click \"Show in File Browser\" to easily access the newly created directory.\n",
    "#mfv = MFVis(slice_name, local_storage_directory=\"persistent_local_mflib_storage\")\n"
   ]
  },
  {
   "cell_type": "markdown",
   "id": "879e4cfc-b203-48a4-98cc-069d833bcaba",
   "metadata": {},
   "source": [
    "## Download measurement graphs as .png files\n",
    "Specifing the graph you want to download requires several items.\n",
    "\n",
    "1) The arguments that must be specified include dashboard_name, panel_name, time_filter and node_name.\n",
    "1) Whether the interface_name should be specified is based on dashboard_name. Currently, only 'network-traffic-dashboard' requires interface_name.\n",
    "1) The save_as_filename is optional. The save_as_argument allows the users to define the name of the downloaded .png file. The default file will be in the storage directory of the slice. In either case, the saved filename will be returned.\n",
    "1) The timezone argument allows the users to view and download the graph image using timeseries in their time zone. Default graph time is UTC \n",
    "\n",
    "There are several helper methods to determine the available graphs."
   ]
  },
  {
   "cell_type": "markdown",
   "id": "2fa3122e-8f32-4762-b240-18af29afc445",
   "metadata": {},
   "source": [
    "### Get available information"
   ]
  },
  {
   "cell_type": "code",
   "execution_count": null,
   "id": "55bb1d78-0441-4c1d-b1a7-863d60cf6f1a",
   "metadata": {},
   "outputs": [],
   "source": [
    "print (\"Available dashboards: \"+str(mfv.get_dashboard_names()))\n",
    "print (\"Available time filters: \"+ str(mfv.get_available_time_filter_names()))\n",
    "print (\"Available nodes: \"+ str(mfv.get_available_node_names()))"
   ]
  },
  {
   "cell_type": "markdown",
   "id": "14e970fd-6895-4e33-8966-9053576d9758",
   "metadata": {},
   "source": [
    "#### Get available panel names based on the dashboard name"
   ]
  },
  {
   "cell_type": "code",
   "execution_count": null,
   "id": "5caf7159-f284-40d3-8860-89f5a2a7268b",
   "metadata": {},
   "outputs": [],
   "source": [
    "dashboard='network-traffic-dashboard'\n",
    "print (mfv.get_panel_names(dashboard))"
   ]
  },
  {
   "cell_type": "markdown",
   "id": "10418c96-e6bd-4790-bc89-ac94215bfb8c",
   "metadata": {},
   "source": [
    "#### Get available interface names based on node name"
   ]
  },
  {
   "cell_type": "code",
   "execution_count": null,
   "id": "adc46880-408a-4a50-84fa-a1692662301c",
   "metadata": {},
   "outputs": [],
   "source": [
    "node='Node1'\n",
    "print (mfv.get_interface_names(node)[0])"
   ]
  },
  {
   "cell_type": "markdown",
   "id": "eddc70f7-0769-4a78-bf61-56382a019249",
   "metadata": {},
   "source": [
    "### Example: Specify arguments and download graphs in 'node-exporter-full' dashboard"
   ]
  },
  {
   "cell_type": "markdown",
   "id": "21895c1b",
   "metadata": {},
   "source": [
    "No filename specified."
   ]
  },
  {
   "cell_type": "code",
   "execution_count": null,
   "id": "a12c3f35-6839-4ae3-9682-7189bd8bd343",
   "metadata": {},
   "outputs": [],
   "source": [
    "dashboard1= 'node-exporter-full'\n",
    "panel1='CPU Basic'\n",
    "timefilter1= 'Last 5 minutes'\n",
    "node1='Node1'\n",
    "\n",
    "# Call the API to download the file. \n",
    "# When file name is not specified, the default is /tmp/mflib/<slice_name>/grafana_manager/rendered/{panel_name}.png\n",
    "#  If you specified a local_storage_directory earlier, then the image will be in that directory under <slice_name>/grafana_manager/rendered/{panel_name}.png\n",
    "saved_filename =  mfv.download_graph(dashboard1, panel1, timefilter1, node1) \n",
    "print(saved_filename)"
   ]
  },
  {
   "cell_type": "markdown",
   "id": "7ef4dfc0",
   "metadata": {},
   "source": [
    "Relative filename specified."
   ]
  },
  {
   "cell_type": "code",
   "execution_count": null,
   "id": "9241482e",
   "metadata": {},
   "outputs": [],
   "source": [
    "save_as_filename = \"relative_filename.png\"\n",
    "# Call the API to download the file. \n",
    "# When using a relative file path, the file will be saved in the same directory as this notebook. \n",
    "#   Then, in JupyterHub, right click on this notebook tab and click \"Show in File Browser\" to easily access the newly file.\n",
    "saved_filename =  mfv.download_graph(dashboard1, panel1, timefilter1, node1, save_as_filename=save_as_filename) \n",
    "print(saved_filename)"
   ]
  },
  {
   "cell_type": "markdown",
   "id": "8df2880e",
   "metadata": {},
   "source": [
    "Full path filename specified."
   ]
  },
  {
   "cell_type": "code",
   "execution_count": null,
   "id": "61d59e13",
   "metadata": {},
   "outputs": [],
   "source": [
    "save_as_filename = \"/home/fabric/work/full_path_test.png\"\n",
    "# Call the API to download the file. \n",
    "# When using a full file path, the file will be saved there. \n",
    "saved_filename =  mfv.download_graph(dashboard1, panel1, timefilter1, node1, save_as_filename=save_as_filename) \n",
    "print(saved_filename)"
   ]
  },
  {
   "cell_type": "markdown",
   "id": "28115174-c4ef-4e2b-90bc-29686f216d44",
   "metadata": {},
   "source": [
    "### Example: Specify arguments and download graphs in 'network-traffic-dashboard'"
   ]
  },
  {
   "cell_type": "code",
   "execution_count": null,
   "id": "dbec7eaa-7007-4d7f-a254-173da787ebb5",
   "metadata": {},
   "outputs": [],
   "source": [
    "dashboard2='network-traffic-dashboard'\n",
    "panel2='Network Traffic by Packets'\n",
    "timefilter2= 'Last 15 minutes'\n",
    "node2='Node2'\n",
    "\n",
    "# See available interface names for node2\n",
    "print(mfv.get_interface_names(node2)[0])"
   ]
  },
  {
   "cell_type": "code",
   "execution_count": null,
   "id": "fd31540d-fe5d-4b5a-a5c6-4c52dcba7d44",
   "metadata": {},
   "outputs": [],
   "source": [
    "interface='ens8'\n",
    "saved_filename = mfv.download_graph(dashboard2, panel2, timefilter2, node2,interface_name=interface)\n",
    "print(saved_filename)"
   ]
  },
  {
   "cell_type": "markdown",
   "id": "94598d89",
   "metadata": {},
   "source": [
    "## Setting the Graph's Time Zone \n",
    "All FABRIC racks are set to user UTC time.   \n",
    "If you do not pass the time_zone argument the all graphs will default to UTC.\n",
    "\n",
    "If you would prefer to have a graph labeled with a certain time zone you may add the optional time_zone argument.  \n",
    "There are 3 options for getting the needed time zone string."
   ]
  },
  {
   "cell_type": "markdown",
   "id": "5d47de10-d5a9-4a0c-adc1-1bb182385791",
   "metadata": {},
   "source": [
    "#### Option 1\n",
    "If you know your timezone offset you can just use GMT+/-offset.\n",
    "So, depending on daylight savings time, US Eastern time zone would be GMT-5 (winter) or GMT-4 (summer),\n",
    "US Central time zone wouldb be GMT-6 (winter) or GMT-5 (summer), etc..\n",
    "France would be GMT+1 (winter) GMT+2 (summer).    "
   ]
  },
  {
   "cell_type": "markdown",
   "id": "2defc778",
   "metadata": {},
   "source": [
    "##### Option 2 \n",
    "Find the timezone of your browser."
   ]
  },
  {
   "cell_type": "code",
   "execution_count": null,
   "id": "3e81c437-b8dd-4174-bba5-8ed9397c4cf5",
   "metadata": {},
   "outputs": [],
   "source": [
    "from IPython.display import Javascript\n",
    "Javascript(\"element.append(Intl.DateTimeFormat().resolvedOptions().timeZone);\")"
   ]
  },
  {
   "cell_type": "markdown",
   "id": "b4c3c00e",
   "metadata": {},
   "source": [
    "##### Option 3\n",
    "Find the desired time zone from a list of time zones."
   ]
  },
  {
   "cell_type": "code",
   "execution_count": null,
   "id": "8751b72a",
   "metadata": {},
   "outputs": [],
   "source": [
    "import pytz\n",
    "\n",
    "tzs = pytz.all_timezones\n",
    "print(tzs)\n"
   ]
  },
  {
   "cell_type": "code",
   "execution_count": null,
   "id": "e3aeeab6",
   "metadata": {},
   "outputs": [],
   "source": [
    "# List the possible regions\n",
    "regions = set([z.split(\"/\")[0] for z in tzs ])\n",
    "print(sorted(regions))"
   ]
  },
  {
   "cell_type": "code",
   "execution_count": null,
   "id": "b8df7f2f",
   "metadata": {},
   "outputs": [],
   "source": [
    "# Choose a region\n",
    "region = \"America\"\n",
    "\n",
    "# List possible subregions\n",
    "subregions = set([z.split(\"/\")[1] for z in tzs if f\"{region}\" in z ])\n",
    "print(sorted(subregions))"
   ]
  },
  {
   "cell_type": "code",
   "execution_count": null,
   "id": "8517abc7",
   "metadata": {},
   "outputs": [],
   "source": [
    "\n",
    "# Choose the subregion\n",
    "subregion = \"Chicago\"\n",
    "\n",
    "# Get the timezone string by region & subregion\n",
    "time_zone = [z for z in tzs if f\"{region}/{subregion}\" in z][0]\n",
    "\n",
    "print(time_zone)"
   ]
  },
  {
   "cell_type": "markdown",
   "id": "92ee8745",
   "metadata": {},
   "source": [
    "### Add the time zone to the download graph method."
   ]
  },
  {
   "cell_type": "code",
   "execution_count": null,
   "id": "56decc22-75be-4a8b-9684-3e09740dc70a",
   "metadata": {},
   "outputs": [],
   "source": [
    "# Specify the optional arguments\n",
    "save_as_filename2 = 'new_york_timezone.png'\n",
    "time_zone='America/New_York'\n",
    "saved_filename =  mfv.download_graph(dashboard2, panel2, timefilter2, node2, save_as_filename=save_as_filename2, interface_name=interface, time_zone=time_zone)\n",
    "print(saved_filename)"
   ]
  },
  {
   "cell_type": "markdown",
   "id": "7a3586f6-4580-4157-b58e-32e14a14cd82",
   "metadata": {
    "tags": []
   },
   "source": [
    "# Get graph url\n",
    "You can get the URL for a graph to use anytime while the slice is still up and running.\n",
    "Note that the SSH Tunnel will need to be active when using the URL. See below cell Open SSH Tunnel."
   ]
  },
  {
   "cell_type": "code",
   "execution_count": null,
   "id": "883c3de1",
   "metadata": {},
   "outputs": [],
   "source": [
    "dashboard2='network-traffic-dashboard'\n",
    "panel2='Network Traffic by Packets'\n",
    "timefilter2= 'Last 15 minutes'\n",
    "node2='Node2'\n",
    "\n",
    "# See available interface names for node2\n",
    "print(mfv.get_interface_names(node2)[0])\n"
   ]
  },
  {
   "cell_type": "code",
   "execution_count": null,
   "id": "f70bc9e7",
   "metadata": {},
   "outputs": [],
   "source": [
    "interface='ens8'"
   ]
  },
  {
   "cell_type": "code",
   "execution_count": null,
   "id": "0da21992-54f4-4aa9-b39e-b07987e7c4c1",
   "metadata": {},
   "outputs": [],
   "source": [
    "print(mfv.render_graph_url(dashboard2, panel2, timefilter2, node2,interface_name=interface))"
   ]
  },
  {
   "cell_type": "markdown",
   "id": "5ee7bff4",
   "metadata": {},
   "source": [
    "You may optionally add the time zone."
   ]
  },
  {
   "cell_type": "code",
   "execution_count": null,
   "id": "d33e3f23",
   "metadata": {},
   "outputs": [],
   "source": [
    "print(mfv.render_graph_url(dashboard2, panel2, timefilter2, node2,interface_name=interface, time_zone=time_zone))"
   ]
  },
  {
   "attachments": {},
   "cell_type": "markdown",
   "id": "072b2c00",
   "metadata": {},
   "source": [
    "## Open SSH Tunnel\n",
    "Ensure that the tunnel is open to the Measurement Node running Grafana.\n",
    "If you are running multiple slices you may want to set a custom local port for your slice. You may choose any port you want being sure to avoid common ports.\n",
    "\n",
    "If you have downloaded and extracted the `fabric_ssh_tunnel_tools.tgz` to your local machine open a terminal/command window in that directory and paste the results of `mf.grafana_tunnel` to create the SSH tunnel.  \n",
    "Otherwise you will need to create the tunnel command similar to:\n",
    "`ssh -L <local-port>:localhost:443 -F <fabric-ssh-config-file> -i <your portal_slice_id_rsa-file> <slice-username>@<meas_node-ip>` Note that local port defaults to 10010 for the grafana tunnel.\n",
    "\n",
    "The first time you click on the render_graph_url's you will have to accept the self-signed certificate.  \n",
    "Click on the \"Continue to localhost (unsafe)\" link.\n",
    "This is required because the web server setup is dynamically created in your slice so obtaining a signed certificate is impractical."
   ]
  },
  {
   "cell_type": "code",
   "execution_count": null,
   "id": "1019d71d",
   "metadata": {},
   "outputs": [],
   "source": [
    "#mfv.grafana_tunnel_local_port = 10010\n",
    "mfv.grafana_tunnel"
   ]
  }
 ],
 "metadata": {
  "kernelspec": {
   "display_name": "Python 3 (ipykernel)",
   "language": "python",
   "name": "python3"
  },
  "language_info": {
   "codemirror_mode": {
    "name": "ipython",
    "version": 3
   },
   "file_extension": ".py",
   "mimetype": "text/x-python",
   "name": "python",
   "nbconvert_exporter": "python",
   "pygments_lexer": "ipython3",
   "version": "3.8.10 (default, Nov 14 2022, 12:59:47) \n[GCC 9.4.0]"
  },
  "vscode": {
   "interpreter": {
    "hash": "916dbcbb3f70747c44a77c7bcd40155683ae19c65e1c03b4aa3499c5328201f1"
   }
  }
 },
 "nbformat": 4,
 "nbformat_minor": 5
}

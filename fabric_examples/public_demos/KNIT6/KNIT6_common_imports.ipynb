{
 "cells": [
  {
   "cell_type": "markdown",
   "id": "87b53b3e-b6ef-460c-bdac-0924c8efe611",
   "metadata": {},
   "source": [
    "# MFLIB Slice Imports & Common Variables"
   ]
  },
  {
   "cell_type": "code",
   "execution_count": null,
   "id": "55f15b90-a342-4418-bd03-4ac8a821bfc2",
   "metadata": {},
   "outputs": [],
   "source": [
    "slice_name = \"MyMonitoredSlice\"\n",
    "print(f\"Using slice_name **** {slice_name} ****\")"
   ]
  },
  {
   "cell_type": "markdown",
   "id": "15dd7f4a-7169-4624-ac13-8fbb57634404",
   "metadata": {},
   "source": [
    "# General"
   ]
  },
  {
   "cell_type": "code",
   "execution_count": null,
   "id": "34ad54eb-211a-457c-a5ce-2d2b0d276cc1",
   "metadata": {},
   "outputs": [],
   "source": [
    "import os\n",
    "import json\n",
    "import traceback"
   ]
  },
  {
   "cell_type": "markdown",
   "id": "59e35d86-047d-4037-b6f8-86f0e08a1f3d",
   "metadata": {},
   "source": [
    "# Fablib "
   ]
  },
  {
   "cell_type": "code",
   "execution_count": null,
   "id": "d3effe1d-d601-46f2-92f4-e5d0e4de5a3d",
   "metadata": {},
   "outputs": [],
   "source": [
    "from fabrictestbed_extensions.fablib.fablib import FablibManager as fablib_manager\n",
    "\n",
    "try:\n",
    "    fablib = fablib_manager()                \n",
    "    #fablib.show_config()\n",
    "except Exception as e:\n",
    "    print(f\"Exception: {e}\")\n"
   ]
  },
  {
   "attachments": {},
   "cell_type": "markdown",
   "id": "0c7eeba2-33c7-4e5b-b46f-44c0eaa383cc",
   "metadata": {},
   "source": [
    "## MFLib\n",
    "If you have trouble importing MFLib it may be because:\n",
    "* It has not been installed. Use\n",
    "```\n",
    "pip install --user fabrictestbed-mflib\n",
    "```\n",
    "* After you do the MFLib install, you will have to restart the notebook kernel before the importing of MFLib will work.\n",
    "* When your Jupyter Hub server container is reloaded, the above install will may be removed. If you log out or have to restart the server you will get an import error when trying to import MFLib.\n",
    "\n",
    "\n"
   ]
  },
  {
   "cell_type": "code",
   "execution_count": null,
   "id": "817d1112-e078-4cb5-bd52-4f7545e811e9",
   "metadata": {},
   "outputs": [],
   "source": [
    "#import mflib\n",
    "#print(f\"MFLib version  {mflib.__version__} \" )\n",
    "\n",
    "from mflib.mflib import MFLib"
   ]
  }
 ],
 "metadata": {
  "kernelspec": {
   "display_name": "Python 3 (ipykernel)",
   "language": "python",
   "name": "python3"
  },
  "language_info": {
   "codemirror_mode": {
    "name": "ipython",
    "version": 3
   },
   "file_extension": ".py",
   "mimetype": "text/x-python",
   "name": "python",
   "nbconvert_exporter": "python",
   "pygments_lexer": "ipython3",
   "version": "3.9.7"
  }
 },
 "nbformat": 4,
 "nbformat_minor": 5
}

{
 "cells": [
  {
   "attachments": {},
   "cell_type": "markdown",
   "id": "0c2da6f1",
   "metadata": {},
   "source": [
    "# KNIT6 \n",
    "April 24, 2023\n",
    "#### Advanced Measurement Framework Library\n",
    "\n",
    "The MeasurementFramework Library - MFLib - makes it easy to install an extensive collection of monitoring tools into your Fabric experiment. For in-depth information vist [fabrictestbed-mflib at Read the Docs](https://fabrictestbed-mflib.readthedocs.io/en/latest/README.html)\n",
    "\n",
    "This tutorial creates a small experiment consisting of 3 nodes connected together with a layer 3 network. You will be shown how to create a slice ready to be monitored, how to instrumentize the slice (setup and activate monitoring), how to access and visualize the collected data and how to use advanced timing with PTP and OWL (One Way Latency)"
   ]
  },
  {
   "attachments": {},
   "cell_type": "markdown",
   "id": "40bcc917",
   "metadata": {
    "tags": []
   },
   "source": [
    "\n",
    "## Suggested Order of Tutorial Notebooks\n",
    "\n",
    "#### Setup\n",
    "\n",
    "- [FABRIC Configure](configure.ipynb) This only needs to be done once. If you have previously used FABRIC, you may have to run this again as some features have been added.\n",
    "- [Check MFLib Version/Install](./KNIT6_mflib_version_check.ipynb) Check that MFLib is installed & which version is installed.\n",
    "\n",
    "#### Intro\n",
    "\n",
    "- [Prepare a Slice](./KNIT6_prepare_a_slice_via_images.ipynb): Create a slice using OS disk images ready for instrumentation.\n",
    "- [Instumentize a Slice](./KNIT6_instrumentize_a_slice.ipynb): Instrumentize the slice using MFLib API.\n",
    "- [Prometheus & Grafana in a Slice](./KNIT6_prometheus_grafana.ipynb): Accessing Prometheus metrics with Grafana\n",
    "- [ELK & Kibana in a Slice](./KNIT6_elk_kibana.ipynb) Accessing ELK logs & metrics with Kibana\n",
    "\n",
    "#### More Ways to Use Graphs\n",
    "\n",
    "- [Adding Graphs to Jupyter Notebooks](./KNIT6_mfvis_jupyternotebook_graphs.ipynb): Adding Graphs to Jupyter Notebooks using MFVis API\n",
    "- [Downloading Graphs](./KNIT6_mfvis_graph_downloading.ipynb): Downloading PNG Graphs using MFVis API\n",
    "\n",
    "#### Timing\n",
    "\n",
    "- [Timestamp with MFLib](./KNIT6_mf_timestamp_with_mflib.ipynb) MFLib Timestamp Service Overview\n",
    "- [Stand Alone Timestamp ](./KNIT6_mf_timestamp_standalone.ipynb) Stand Alone Timestamp Service Overview\n",
    "\n",
    "#### OWL (One-way latency) measurement\n",
    "\n",
    "-  [Create a non-MF slice (prep work)](./KNIT6_owl-prep_PTPDocker_slice.ipynb): Create a non-MF slice with Docker and PTP enabled on every node.\n",
    "- [Run OWL on a non-MF slice](./KNIT6_owl_docker.ipynb): Running OWL on a non-MF slice by pulling OWL docker image to each node.\n",
    "- [Run OWL on an MF slice](./KNIT6_owl_mf.ipynb): Running OWL on an MF slice using the measurement node as the orchestrator.\n",
    "- [Analyze OWL output data (non-MF example output)](./KNIT6_owl_data_analysis_docker.ipynb) Analyzing OWL output (pcap files). Edited specifically for the output obtained from the non-MF OWL example above.\n",
    "- [Analyze OWL output data (MF example output)](./KNIT6_owl_data_analysis.ipynb): Analyzing OWL output (pcap files). Edited specifically for the output obtained from the MF OWL example above.\n",
    "\n",
    "#### Clean Up\n",
    "\n",
    "- [Clean up Slice](./KNIT6_clean_up.ipynb) Please run this after you are done with the tutorial to free up resources."
   ]
  }
 ],
 "metadata": {
  "kernelspec": {
   "display_name": "Python 3 (ipykernel)",
   "language": "python",
   "name": "python3"
  },
  "language_info": {
   "codemirror_mode": {
    "name": "ipython",
    "version": 3
   },
   "file_extension": ".py",
   "mimetype": "text/x-python",
   "name": "python",
   "nbconvert_exporter": "python",
   "pygments_lexer": "ipython3",
   "version": "3.9.7"
  },
  "vscode": {
   "interpreter": {
    "hash": "916dbcbb3f70747c44a77c7bcd40155683ae19c65e1c03b4aa3499c5328201f1"
   }
  }
 },
 "nbformat": 4,
 "nbformat_minor": 5
}

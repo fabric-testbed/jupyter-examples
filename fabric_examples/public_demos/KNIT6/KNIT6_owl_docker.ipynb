{
 "cells": [
  {
   "cell_type": "markdown",
   "id": "609be9b3-feee-4a07-8eb6-a088a344567b",
   "metadata": {},
   "source": [
    "# KNIT6 OWL Method1 (Docker containers)\n",
    "\n",
    "This Notebook shows how to run OWL simply by runnign OWL Docker containers without the help of meas_node"
   ]
  },
  {
   "cell_type": "code",
   "execution_count": null,
   "id": "e1088253-9402-4a81-9d90-7f2e33f81c7e",
   "metadata": {},
   "outputs": [],
   "source": [
    "from fabrictestbed_extensions.fablib.fablib import FablibManager as fablib_manager\n",
    "from mflib import owl\n",
    "\n",
    "\n",
    "fablib = fablib_manager()"
   ]
  },
  {
   "cell_type": "markdown",
   "id": "3ca88ae2-8035-452d-83d9-8aeddb08034e",
   "metadata": {},
   "source": [
    "## Identify a slice"
   ]
  },
  {
   "cell_type": "code",
   "execution_count": null,
   "id": "4bdd1183-ef25-491b-8f31-8c2b30692ee3",
   "metadata": {},
   "outputs": [],
   "source": [
    "slice_name= \"KNIT6_plain_slice\"\n",
    "\n",
    "try:\n",
    "    slice = fablib.get_slice(name=slice_name)\n",
    "    for node in slice.get_nodes():\n",
    "        print(f\"{node}\")   \n",
    "except Exception as e:\n",
    "    print(f\"Exception: {e}\")"
   ]
  },
  {
   "cell_type": "code",
   "execution_count": null,
   "id": "f424fd18-1e9a-44da-be66-9426b762a88d",
   "metadata": {},
   "outputs": [],
   "source": [
    "nodes = slice.get_nodes()\n",
    "node1 = slice.get_node(\"Node1\")\n",
    "node2 = slice.get_node(\"Node2\")"
   ]
  },
  {
   "cell_type": "markdown",
   "id": "8cedb9a9-b607-42f8-bfb7-c6c782e20d15",
   "metadata": {},
   "source": [
    "## Set up OWL\n",
    "\n",
    "Args\n",
    "\n",
    "- `local_owl_dir`: Directory where owl output will be downloaded\n",
    "- `remote_out_dirr`: Directory on exp node where `*.pcap` files will be saved during experiments\n",
    "- `image_name (default=\"fabrictestbed/owl:0.1.3\")`: Docker OWL image to pull\n",
    "- `remote_conf_dir (default=None)`: Directory on exp node where `owl.conf` and `links.json` are kept. To use those features, refer to the documetation."
   ]
  },
  {
   "cell_type": "code",
   "execution_count": null,
   "id": "6b88d5c1-a0fc-4266-bdf9-812c1c55c61f",
   "metadata": {},
   "outputs": [],
   "source": [
    "local_owl=f'/home/fabric/work/owl_output/{slice_name}'\n",
    "remote_output='/home/rocky/owl-output' "
   ]
  },
  {
   "cell_type": "code",
   "execution_count": null,
   "id": "87206574-e22a-4f1e-86f6-11bc90364610",
   "metadata": {},
   "outputs": [],
   "source": [
    "owl = owl.OwlDocker(local_owl_dir=local_owl, remote_out_dir=remote_output)"
   ]
  },
  {
   "cell_type": "markdown",
   "id": "eb2c9a5b-2e75-4932-b260-ed28a6589967",
   "metadata": {},
   "source": [
    "## Look up IPs of nodes and decide which IP address to use "
   ]
  },
  {
   "cell_type": "code",
   "execution_count": null,
   "id": "3f636466-9e93-4431-a946-8c2a306b9172",
   "metadata": {},
   "outputs": [],
   "source": [
    "for node in nodes:\n",
    "    print(f\"{node.get_name()}: {owl.list_experiment_ip_addrs(node)} at {node.get_site()}\")"
   ]
  },
  {
   "cell_type": "code",
   "execution_count": null,
   "id": "d8c546eb-786b-4e48-a733-daa2a29cee58",
   "metadata": {
    "tags": []
   },
   "outputs": [],
   "source": [
    "node1_ip = owl.list_experiment_ip_addrs(node1)[0]\n",
    "node2_ip = owl.list_experiment_ip_addrs(node2)[0]\n",
    "\n",
    "print(node1_ip, node2_ip)"
   ]
  },
  {
   "cell_type": "markdown",
   "id": "3a347b45-1ad4-4477-a3df-c5929419338e",
   "metadata": {},
   "source": [
    "## (Optional) Check output files from previous runs"
   ]
  },
  {
   "cell_type": "code",
   "execution_count": null,
   "id": "6c45e54c-2c6f-4797-a29e-8d06cc5cc70c",
   "metadata": {},
   "outputs": [],
   "source": [
    "for node in nodes:\n",
    "    print(f\"\\n{node.get_name()}:\")\n",
    "    owl.list_remote_output(node)"
   ]
  },
  {
   "cell_type": "markdown",
   "id": "4fa37f6c-694a-494c-bc47-be51a6009c11",
   "metadata": {},
   "source": [
    "### Delete if necessary"
   ]
  },
  {
   "cell_type": "code",
   "execution_count": null,
   "id": "6b818548-0b0a-464b-932f-09050da97771",
   "metadata": {},
   "outputs": [],
   "source": [
    "for node in nodes:\n",
    "    owl.delete_remote_output(node)"
   ]
  },
  {
   "cell_type": "markdown",
   "id": "eacb0f17-6156-4c8b-b548-b64393cac6ac",
   "metadata": {},
   "source": [
    "## Set up OWL via Docker Containers"
   ]
  },
  {
   "cell_type": "markdown",
   "id": "de5bbf69-1c64-444d-b7dd-d01a4a29754f",
   "metadata": {},
   "source": [
    "### (Optional) Confirm the node has PTP enalbed and Docker daemon running"
   ]
  },
  {
   "cell_type": "code",
   "execution_count": null,
   "id": "e97c4edc-271b-421f-9da6-6d728043f24c",
   "metadata": {},
   "outputs": [],
   "source": [
    "for node in nodes:\n",
    "    owl.check_node_environment(node)"
   ]
  },
  {
   "cell_type": "markdown",
   "id": "649f37ec-8cc6-4835-a19f-1736875839c9",
   "metadata": {},
   "source": [
    "### Create Necessary directories on EXP nodes"
   ]
  },
  {
   "cell_type": "code",
   "execution_count": null,
   "id": "1ed2d498-0a3c-4c7a-a167-7b81dde48a54",
   "metadata": {},
   "outputs": [],
   "source": [
    "# This will be owl.create_remote_out_dir(node)\n",
    "for node in nodes:\n",
    "    owl.create_remote_out_dir(node)"
   ]
  },
  {
   "cell_type": "markdown",
   "id": "2a338faf-b4b1-46bc-a0b2-52fd1a43808f",
   "metadata": {
    "tags": []
   },
   "source": [
    "## Pull Docker image"
   ]
  },
  {
   "cell_type": "code",
   "execution_count": null,
   "id": "51036856-385f-4a53-9fab-5a5a6dca36a3",
   "metadata": {},
   "outputs": [],
   "source": [
    "for node in nodes:\n",
    "    owl.pull_owl_docker_image(node)"
   ]
  },
  {
   "cell_type": "markdown",
   "id": "889b7db7-07bc-41cb-aacd-554d932d96ee",
   "metadata": {},
   "source": [
    "# Start Sender on Node1!\n",
    "\n",
    "This starts an OWL container and run the sender code on the node.\n",
    "\n",
    "Args:\n",
    "- `src_node`\n",
    "- `dst_ip`: destination IPv4 address (str)\n",
    "- `name (default=\"fabric-owl')`: container name\n",
    "- `frequency (default=0.5)`: interval at which probe packets will be sent\n",
    "- `seq_n (default=1234)`: number at which sequence number should start\n",
    "- `duration (default=180)`: how long (sec) to run OWL\n",
    "- `python_time (defualt=False)`: set to True if prefer to call Python time.time_ns() for timestamping rather than the MF-OWL timestamp code"
   ]
  },
  {
   "cell_type": "code",
   "execution_count": null,
   "id": "76927355-b5f1-4171-8237-c315c692ce3e",
   "metadata": {},
   "outputs": [],
   "source": [
    "owl.start_owl_sender(node1, node2_ip)"
   ]
  },
  {
   "cell_type": "markdown",
   "id": "28344cbf-2d39-4f26-ba8d-5cde926778a1",
   "metadata": {},
   "source": [
    "# Start Capturer on Node2!\n",
    "\n",
    "Likewise, this starts an OWL container and run the capturer code on the destination node \n",
    "\n",
    "Args:\n",
    "- `dst_node`: node on which this should run\n",
    "- `receiving_ip`: destination IPv4 address to be used (str)\n",
    "- `name (default=\"fabric-owl')`: container name\n",
    "- `pcap_time_limit (default=360)`: interval (sec) at which tcpdump starts a new pcap file\n",
    "- `duration (default=180)`: how long (sec) to run OWL"
   ]
  },
  {
   "cell_type": "code",
   "execution_count": null,
   "id": "34d81732-cf18-4a8a-b570-05b7f778efc6",
   "metadata": {},
   "outputs": [],
   "source": [
    "owl.start_owl_receiver(node2, node2_ip)"
   ]
  },
  {
   "cell_type": "markdown",
   "id": "654cbed5-571d-4aa7-9f36-7bd37d023529",
   "metadata": {},
   "source": [
    "### (Optional) Check the container log while OWL is running"
   ]
  },
  {
   "cell_type": "code",
   "execution_count": null,
   "id": "edb8f675-30e6-4276-ac96-da34b23ccb5b",
   "metadata": {},
   "outputs": [],
   "source": [
    "for node in nodes:\n",
    "    owl.get_owl_log(node)"
   ]
  },
  {
   "cell_type": "markdown",
   "id": "07e7a64f-ae5d-4769-af47-37bbfc883534",
   "metadata": {},
   "source": [
    "# Stop Docker containers on both Node1 and Node2"
   ]
  },
  {
   "cell_type": "code",
   "execution_count": null,
   "id": "60cb3eda-43b2-41fb-a1e3-a033e9a0bf91",
   "metadata": {},
   "outputs": [],
   "source": [
    "for node in nodes:\n",
    "    owl.stop_owl_docker(node)"
   ]
  },
  {
   "cell_type": "markdown",
   "id": "1563f003-6502-473f-9c43-5c3ae1e82257",
   "metadata": {},
   "source": [
    "# Download output"
   ]
  },
  {
   "cell_type": "markdown",
   "id": "364577c3-3869-4cb7-848b-766c1c120016",
   "metadata": {},
   "source": [
    "## (Optional) Check if pcap files have been generated"
   ]
  },
  {
   "cell_type": "code",
   "execution_count": null,
   "id": "a258b3e8-dbfc-44b0-bb48-a49e68bbd11e",
   "metadata": {},
   "outputs": [],
   "source": [
    "for node in nodes:\n",
    "    print(f\"\\n****** {node.get_name()} ******\")\n",
    "    owl.list_remote_output(node)"
   ]
  },
  {
   "cell_type": "markdown",
   "id": "aa4b63fd-17df-4ec8-8501-0a4c1f7f1d5a",
   "metadata": {},
   "source": [
    "## download"
   ]
  },
  {
   "cell_type": "code",
   "execution_count": null,
   "id": "93d70779-06cd-455d-a63f-618c2d7973d6",
   "metadata": {},
   "outputs": [],
   "source": [
    "for node in nodes:\n",
    "    owl.download_output(node)"
   ]
  },
  {
   "cell_type": "markdown",
   "id": "20491f4f-cf83-467b-8e04-9a73b0dd1852",
   "metadata": {},
   "source": [
    "## ⚠️☠️ Run ONLY IF you want to remove OWL (containers and images)"
   ]
  },
  {
   "cell_type": "code",
   "execution_count": null,
   "id": "a19cb9dd-687b-4a84-b944-1a0c7121d3b6",
   "metadata": {},
   "outputs": [],
   "source": [
    "# for node in nodes:\n",
    "#     owl.remove_owl_docker_image(node)"
   ]
  },
  {
   "cell_type": "code",
   "execution_count": null,
   "id": "de1ed5de-2500-45e3-91d2-c4241ad6ea15",
   "metadata": {},
   "outputs": [],
   "source": []
  }
 ],
 "metadata": {
  "kernelspec": {
   "display_name": "Python 3 (ipykernel)",
   "language": "python",
   "name": "python3"
  },
  "language_info": {
   "codemirror_mode": {
    "name": "ipython",
    "version": 3
   },
   "file_extension": ".py",
   "mimetype": "text/x-python",
   "name": "python",
   "nbconvert_exporter": "python",
   "pygments_lexer": "ipython3",
   "version": "3.9.7"
  }
 },
 "nbformat": 4,
 "nbformat_minor": 5
}

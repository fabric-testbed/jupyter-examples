{
 "cells": [
  {
   "attachments": {},
   "cell_type": "markdown",
   "metadata": {},
   "source": [
    "# KNIT6\n",
    "\n",
    "## Check Installed Version of MFLib\n",
    "Important - You must restart this notebook kernel if install of MFLib has changed since this notebook was opened.\n",
    "If you need to install MFLib use ```pip install --user fabrictestbed-mflib```"
   ]
  },
  {
   "attachments": {},
   "cell_type": "markdown",
   "metadata": {},
   "source": [
    "Run the following code to check if MFLib is installed and which version is installed."
   ]
  },
  {
   "cell_type": "code",
   "execution_count": null,
   "metadata": {},
   "outputs": [],
   "source": [
    "preferred_version = \"1.0.0\"\n",
    "try:\n",
    "    import mflib\n",
    "    print(f\"{mflib.__version__} mflib Package version \")\n",
    " \n",
    "    if preferred_version <= mflib.__version__:\n",
    "        print(\"Version is OK\")\n",
    "    else:\n",
    "        print(f\"WARNING! Version does not match preferred version of {preferred_version}. Some capabilities/methods may be incompatible with this tutorial.\")\n",
    "except Exception as e:\n",
    "    print(\"Failed to import MFLib. Has MFLib been installed? Has this notebook kernel been restarted since MFLib was installed?\")\n",
    "    print(e)"
   ]
  },
  {
   "attachments": {},
   "cell_type": "markdown",
   "metadata": {},
   "source": [
    "If MFLib is not installed or if MFLib is an older version, uncomment out and run `pip install fabrictestbed-mflib` in the following cell."
   ]
  },
  {
   "cell_type": "code",
   "execution_count": null,
   "metadata": {},
   "outputs": [],
   "source": [
    "%%bash\n",
    "#pip install fabrictestbed-mflib "
   ]
  }
 ],
 "metadata": {
  "kernelspec": {
   "display_name": "Python 3.8.10 64-bit",
   "language": "python",
   "name": "python3"
  },
  "language_info": {
   "name": "python",
   "version": "3.8.10 (default, Nov 14 2022, 12:59:47) \n[GCC 9.4.0]"
  },
  "vscode": {
   "interpreter": {
    "hash": "916dbcbb3f70747c44a77c7bcd40155683ae19c65e1c03b4aa3499c5328201f1"
   }
  }
 },
 "nbformat": 4,
 "nbformat_minor": 2
}

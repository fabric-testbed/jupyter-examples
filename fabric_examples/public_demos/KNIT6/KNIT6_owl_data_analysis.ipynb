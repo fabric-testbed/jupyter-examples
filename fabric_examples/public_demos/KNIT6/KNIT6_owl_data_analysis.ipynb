{
 "cells": [
  {
   "cell_type": "markdown",
   "id": "a057b8cd-52da-42bb-b330-7575ca59b570",
   "metadata": {},
   "source": [
    "# KNIT6 OWL Data Analysis"
   ]
  },
  {
   "cell_type": "markdown",
   "id": "4c5c7d01-2ca7-438e-b398-aa0340e9f378",
   "metadata": {},
   "source": [
    "## Imports\n",
    "This series of notebooks all need a common set of imports which are defined in [Common Imports](./KNIT6_common_imports.ipynb)\n",
    "\n",
    "**slice_name** is defined in this step. If you would like to change the slice_name, edit [Common Imports](./KNIT6_common_imports.ipynb)"
   ]
  },
  {
   "cell_type": "code",
   "execution_count": null,
   "id": "d16091db-70c6-4741-a3da-f067dd8103ee",
   "metadata": {},
   "outputs": [],
   "source": [
    "%run \"./KNIT6_common_imports.ipynb\""
   ]
  },
  {
   "cell_type": "markdown",
   "id": "756a2077-71b2-4765-827b-3d7612a83ca7",
   "metadata": {},
   "source": [
    "# First things first (Install necessary packages)"
   ]
  },
  {
   "cell_type": "markdown",
   "id": "95b6bd08-354a-4c5a-b44b-476aa221c978",
   "metadata": {},
   "source": [
    "### For extracting data from `*.pcap` files"
   ]
  },
  {
   "cell_type": "code",
   "execution_count": null,
   "id": "d6fc70b6-9bbc-4642-bf39-d5aa8fbf8117",
   "metadata": {},
   "outputs": [],
   "source": [
    "!conda install -y -q -c conda-forge scapy"
   ]
  },
  {
   "cell_type": "markdown",
   "id": "3f7e9046-adde-4ecb-af2f-8e8c5a4d8012",
   "metadata": {},
   "source": [
    "### For graphing"
   ]
  },
  {
   "cell_type": "code",
   "execution_count": null,
   "id": "df3ec86f-2ccd-4ea7-956f-36f85eac3f3a",
   "metadata": {},
   "outputs": [],
   "source": [
    "!conda install -y  -c conda-forge -c plotly jupyter-dash"
   ]
  },
  {
   "cell_type": "markdown",
   "id": "82dcb46c-0724-4929-8aa0-0074c55f1d9d",
   "metadata": {},
   "source": [
    "### Boring but necessary imports"
   ]
  },
  {
   "cell_type": "code",
   "execution_count": null,
   "id": "dd3c6d0f-449c-43b1-b489-b0fcced60040",
   "metadata": {},
   "outputs": [],
   "source": [
    "from pathlib import Path\n",
    "from mflib import owl_data\n",
    "\n",
    "import pandas as pd\n",
    "\n",
    "# Critical for showing data inline \n",
    "import plotly.io as pio\n",
    "pio.renderers.default = 'iframe'"
   ]
  },
  {
   "cell_type": "markdown",
   "id": "7de578b2-17a9-460c-a16f-7911b6b22f71",
   "metadata": {},
   "source": [
    "# Input data information \n",
    "\n",
    "- slice name \n",
    "- location of local `*.pcap` files (give root directory path from which a recursive search will run)\n",
    "- csv file (for extracted data)"
   ]
  },
  {
   "cell_type": "code",
   "execution_count": null,
   "id": "de4b9186-351a-450a-8961-1d0b8e013592",
   "metadata": {},
   "outputs": [],
   "source": [
    "from datetime import datetime\n",
    "\n",
    "now = datetime.now()\n",
    "current_time = now.strftime(\"%Y%m%d%H%M\")\n",
    "\n",
    "#slice_name=\"MFLibKNIT6\"\n",
    "root_data_dir = f'/home/fabric/work/owl_output/{slice_name}'\n",
    "csv_path = f'/home/fabric/work/owl_output/{slice_name}_{current_time}.csv'"
   ]
  },
  {
   "cell_type": "markdown",
   "id": "9673b6cd-bbfc-40c9-962f-44d2307347aa",
   "metadata": {},
   "source": [
    "## If csv file does not yet exist and `*.pcap` files need to be parsed, run the following"
   ]
  },
  {
   "cell_type": "markdown",
   "id": "7563b213-4b9b-4e59-8122-f62638e7e867",
   "metadata": {},
   "source": [
    "### List all the .pcap files under the root data dir (recursive search)"
   ]
  },
  {
   "cell_type": "code",
   "execution_count": null,
   "id": "56a4c8ac-63ba-49d4-aef7-6de245689014",
   "metadata": {},
   "outputs": [],
   "source": [
    "pcap_files = owl_data.list_pcap_files(root_data_dir)\n",
    "print(pcap_files)"
   ]
  },
  {
   "cell_type": "markdown",
   "id": "ad12ac0a-9ba7-4581-acc1-88ce0968e33b",
   "metadata": {},
   "source": [
    "### Extract entries from PCAP and add to the csv file\n",
    "\n",
    "Args:\n",
    "\n",
    "- `pcap_files`: list of pcap file paths\n",
    "- `outfile (default=\"out.csv\")`: path to output csv file\n",
    "- `append_csv (default=False)`: if set to True, append to the existing csv file of the same name; if False, it will warn and exit in case there is already a csv file of the same name.\n",
    "- `verbose (default=False)`: if True, it will print out the content of pcap files during the extraction process"
   ]
  },
  {
   "cell_type": "code",
   "execution_count": null,
   "id": "40f1b040-0c71-4337-bb7e-243041189978",
   "metadata": {},
   "outputs": [],
   "source": [
    "owl_data.convert_pcap_to_csv(pcap_files, outfile=csv_path)"
   ]
  },
  {
   "cell_type": "markdown",
   "id": "12f53210-1b6c-4090-9d55-05ac94209645",
   "metadata": {},
   "source": [
    "# Create an analyzer instance\n",
    "\n",
    "It creates a pandas DataFrame from the csv file. Incomplete rows are dropped. \n",
    "\n",
    "The only argument is the path to csv file. CSV file should have 5 columns:\n",
    "- source IP\n",
    "- sent timestamp (epoch time)\n",
    "- destination IP\n",
    "- destinatin timestamp (epoch time)\n",
    "- sequence number\n",
    "- latency\n"
   ]
  },
  {
   "cell_type": "code",
   "execution_count": null,
   "id": "f36b06e9-b8b7-4070-93e6-37559fedb4be",
   "metadata": {},
   "outputs": [],
   "source": [
    "owl_data_analyzer = owl_data.OwlDataAnalyzer(csv_path)"
   ]
  },
  {
   "cell_type": "markdown",
   "id": "15d1edc2-9453-4fae-a563-b7d45628c078",
   "metadata": {},
   "source": [
    "## Get slice data"
   ]
  },
  {
   "cell_type": "code",
   "execution_count": null,
   "id": "f69b1a31-4c2b-44f7-9091-d6bd7e34ab3a",
   "metadata": {},
   "outputs": [],
   "source": [
    "try:\n",
    "    slice = fablib.get_slice(name=slice_name)  \n",
    "except Exception as e:\n",
    "    print(f\"Exception: {e}\")\n",
    "    \n",
    "nodes = slice.get_nodes()\n",
    "# for node in nodes:\n",
    "#     print(node.get_name())\n",
    "    "
   ]
  },
  {
   "cell_type": "markdown",
   "id": "b98ba265-b697-4ef9-898f-e02a51c8fac9",
   "metadata": {},
   "source": [
    "### Print nodes information"
   ]
  },
  {
   "cell_type": "code",
   "execution_count": null,
   "id": "09cd4f40-6105-4265-9bde-6907c84b33cd",
   "metadata": {},
   "outputs": [],
   "source": [
    "sites_df = owl_data_analyzer.find_node_locations(nodes)\n",
    "sites_df"
   ]
  },
  {
   "cell_type": "markdown",
   "id": "3184c174-c52a-49e2-98cd-41cb2313d831",
   "metadata": {},
   "source": [
    "### But it should be prettier ... print a map\n",
    "Try hovering over each point. "
   ]
  },
  {
   "cell_type": "code",
   "execution_count": null,
   "id": "07e0f84a-194f-4715-bc45-d7fed6c95000",
   "metadata": {},
   "outputs": [],
   "source": [
    "owl_data_analyzer.print_map(sites_df)"
   ]
  },
  {
   "cell_type": "markdown",
   "id": "bed6979a-d52e-4e53-9b25-7d46678b9292",
   "metadata": {},
   "source": [
    "# Analyze the latency data"
   ]
  },
  {
   "cell_type": "markdown",
   "id": "141d19a5-8e34-45b2-95ff-3fc20f2aea52",
   "metadata": {},
   "source": [
    "## (optional) Check the content of pandas.Dataframe"
   ]
  },
  {
   "cell_type": "code",
   "execution_count": null,
   "id": "57c085b2-b900-42b9-bc20-493d10911874",
   "metadata": {},
   "outputs": [],
   "source": [
    "df = owl_data_analyzer.get_dataframe()\n",
    "df"
   ]
  },
  {
   "cell_type": "markdown",
   "id": "414cb72d-6b6c-4717-aa04-c9eec4b69348",
   "metadata": {},
   "source": [
    "## Filter by source/destination"
   ]
  },
  {
   "cell_type": "code",
   "execution_count": null,
   "id": "5b3472ab-b8ed-40ef-97c3-f304e2f5eeb1",
   "metadata": {},
   "outputs": [],
   "source": [
    "node_names = [\"Node1\", \"Node2\", \"Node3\"]\n",
    "\n",
    "node1 = slice.get_node(name=\"Node1\")\n",
    "node2 = slice.get_node(name=\"Node2\")\n",
    "node3 = slice.get_node(name=\"Node3\")\n",
    "node1_ip = owl_data_analyzer.list_experiment_ip_addrs(node1)[0]\n",
    "node2_ip = owl_data_analyzer.list_experiment_ip_addrs(node2)[0]\n",
    "node3_ip = owl_data_analyzer.list_experiment_ip_addrs(node3)[0]\n",
    "\n",
    "print(node1_ip, node2_ip, node3_ip)"
   ]
  },
  {
   "cell_type": "markdown",
   "id": "766540af-4ba8-4af6-9bbd-1adbc5d165a1",
   "metadata": {},
   "source": [
    "## Get statistics"
   ]
  },
  {
   "cell_type": "code",
   "execution_count": null,
   "id": "71539d47-009f-4f59-8f4b-5fb0292ebbc5",
   "metadata": {},
   "outputs": [],
   "source": [
    "owl_data_analyzer.summarize_data(src_node=node1, dst_node=node2)"
   ]
  },
  {
   "cell_type": "code",
   "execution_count": null,
   "id": "0beb9d43-a751-4015-868e-2386f7a8c40a",
   "metadata": {},
   "outputs": [],
   "source": [
    "owl_data_analyzer.summarize_data(src_node=node2, dst_node=node1)"
   ]
  },
  {
   "cell_type": "code",
   "execution_count": null,
   "id": "7d7c719b-dbcf-4779-a646-be6a21777da7",
   "metadata": {},
   "outputs": [],
   "source": [
    "owl_data_analyzer.summarize_data(src_node=node3, dst_node=node2)"
   ]
  },
  {
   "cell_type": "code",
   "execution_count": null,
   "id": "4a6f515b-bc32-4711-8324-ce9728a21f84",
   "metadata": {},
   "outputs": [],
   "source": [
    "owl_data_analyzer.summarize_data(src_node=node1, dst_node=node3)"
   ]
  },
  {
   "cell_type": "markdown",
   "id": "610c308d-9b1e-46a8-a3d1-1cff89780234",
   "metadata": {},
   "source": [
    "## Graph the latency over time"
   ]
  },
  {
   "cell_type": "code",
   "execution_count": null,
   "id": "3a04d0df-ce4a-4297-847f-66cc61117db2",
   "metadata": {},
   "outputs": [],
   "source": [
    "owl_data_analyzer.graph_latency_data(node1, node2)"
   ]
  },
  {
   "cell_type": "code",
   "execution_count": null,
   "id": "4e4a1c39-77fc-4c55-ae87-c21f0248fd11",
   "metadata": {},
   "outputs": [],
   "source": [
    "owl_data_analyzer.graph_latency_data(node2, node1)"
   ]
  },
  {
   "cell_type": "code",
   "execution_count": null,
   "id": "dd7a2c35-31ae-41a4-a11c-8ed5061c52f7",
   "metadata": {},
   "outputs": [],
   "source": [
    "owl_data_analyzer.graph_latency_data(node3, node2)"
   ]
  },
  {
   "cell_type": "code",
   "execution_count": null,
   "id": "c99b8b12-ac55-4831-b272-252f6dadd732",
   "metadata": {},
   "outputs": [],
   "source": [
    "owl_data_analyzer.graph_latency_data(node1, node3)"
   ]
  }
 ],
 "metadata": {
  "kernelspec": {
   "display_name": "Python 3 (ipykernel)",
   "language": "python",
   "name": "python3"
  },
  "language_info": {
   "codemirror_mode": {
    "name": "ipython",
    "version": 3
   },
   "file_extension": ".py",
   "mimetype": "text/x-python",
   "name": "python",
   "nbconvert_exporter": "python",
   "pygments_lexer": "ipython3",
   "version": "3.9.7"
  }
 },
 "nbformat": 4,
 "nbformat_minor": 5
}

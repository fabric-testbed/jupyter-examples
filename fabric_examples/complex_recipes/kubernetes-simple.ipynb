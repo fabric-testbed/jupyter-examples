{
 "cells": [
  {
   "cell_type": "markdown",
   "metadata": {},
   "source": [
    "## This notebook shows how to use Orchestrator APIs for user experiments"
   ]
  },
  {
   "cell_type": "code",
   "execution_count": 2,
   "metadata": {},
   "outputs": [],
   "source": [
    "import os\n",
    "from fabrictestbed.slice_manager import SliceManager, Status\n",
    "import json"
   ]
  },
  {
   "cell_type": "code",
   "execution_count": 3,
   "metadata": {},
   "outputs": [
    {
     "name": "stdout",
     "output_type": "stream",
     "text": [
      "CM Host: beta-2.fabric-testbed.net Orchestrator Host: beta-7.fabric-testbed.net\n"
     ]
    }
   ],
   "source": [
    "credmgr_host = os.environ['FABRIC_CREDMGR_HOST']\n",
    "orchestrator_host = os.environ['FABRIC_ORCHESTRATOR_HOST']\n",
    "print(f\"CM Host: {credmgr_host} Orchestrator Host: {orchestrator_host}\")"
   ]
  },
  {
   "cell_type": "code",
   "execution_count": 4,
   "metadata": {},
   "outputs": [],
   "source": [
    "slice_manager = SliceManager(oc_host=orchestrator_host, cm_host=credmgr_host, project_name='all', scope='all')\n",
    "\n",
    "# Initialize the slice manager\n",
    "slice_manager.initialize()"
   ]
  },
  {
   "cell_type": "code",
   "execution_count": 5,
   "metadata": {},
   "outputs": [
    {
     "name": "stdout",
     "output_type": "stream",
     "text": [
      "Status: Status.OK\n",
      "Toplogy: LBNL: { cpu: 6/6 , core: 180/192 , ram: 1,524/1,536 G, disk: 9,580/9,600 G, unit: 3/3 }\n",
      "\tComponents:\n",
      "\t\tNVME-P4510:  NVME P4510 { disk: 9,000/10,000 G, unit: 9/10 }\n",
      "\t\tGPU-RTX6000:  GPU RTX6000 { unit: 2/2 }\n",
      "\t\tGPU-Tesla T4:  GPU Tesla T4 { unit: 4/4 }\n",
      "\t\tSharedNIC-ConnectX-6:  SharedNIC ConnectX-6 { unit: 381/381 }\n",
      "\t\tSmartNIC-ConnectX-6:  SmartNIC ConnectX-6 { unit: 0/2 }\n",
      "\t\tSmartNIC-ConnectX-5:  SmartNIC ConnectX-5 { unit: 2/2 }\n",
      "\tSite Interfaces:\n",
      "UKY: { cpu: 6/6 , core: 190/192 , ram: 1,530/1,536 G, disk: 9,590/9,600 G, unit: 3/3 }\n",
      "\tComponents:\n",
      "\t\tSmartNIC-ConnectX-5:  SmartNIC ConnectX-5 { unit: 2/2 }\n",
      "\t\tGPU-RTX6000:  GPU RTX6000 { unit: 2/2 }\n",
      "\t\tGPU-Tesla T4:  GPU Tesla T4 { unit: 4/4 }\n",
      "\t\tNVME-P4510:  NVME P4510 { disk: 10,000/10,000 G, unit: 10/10 }\n",
      "\t\tSharedNIC-ConnectX-6:  SharedNIC ConnectX-6 { unit: 381/381 }\n",
      "\t\tSmartNIC-ConnectX-6:  SmartNIC ConnectX-6 { unit: 1/2 }\n",
      "\tSite Interfaces:\n",
      "RENC: { cpu: 6/6 , core: 182/192 , ram: 1,510/1,536 G, disk: 14,350/14,400 G, unit: 3/3 }\n",
      "\tComponents:\n",
      "\t\tNVME-P4510:  NVME P4510 { disk: 10,000/10,000 G, unit: 10/10 }\n",
      "\t\tSharedNIC-ConnectX-6:  SharedNIC ConnectX-6 { unit: 381/381 }\n",
      "\t\tGPU-RTX6000:  GPU RTX6000 { unit: 2/2 }\n",
      "\t\tGPU-Tesla T4:  GPU Tesla T4 { unit: 4/4 }\n",
      "\t\tSmartNIC-ConnectX-6:  SmartNIC ConnectX-6 { unit: 0/2 }\n",
      "\t\tSmartNIC-ConnectX-5:  SmartNIC ConnectX-5 { unit: 1/2 }\n",
      "\tSite Interfaces:\n",
      "STAR\n",
      "\tComponents:\n",
      "\tSite Interfaces:\n",
      "Links:\n"
     ]
    }
   ],
   "source": [
    "status, advertised_topology = slice_manager.resources()\n",
    "\n",
    "print(f\"Status: {status}\")\n",
    "if status == Status.OK:\n",
    "    print(f\"Toplogy: {advertised_topology}\")\n",
    "else:\n",
    "    print(f\"Error: {advertised_topology}\")"
   ]
  },
  {
   "cell_type": "code",
   "execution_count": 6,
   "metadata": {},
   "outputs": [
    {
     "data": {
      "image/png": "[encoded data removed]",
      "text/plain": [
       "<Figure size 432x288 with 1 Axes>"
      ]
     },
     "metadata": {},
     "output_type": "display_data"
    }
   ],
   "source": [
    "if status == Status.OK:\n",
    "    advertised_topology.draw()"
   ]
  },
  {
   "cell_type": "markdown",
   "metadata": {},
   "source": [
    "## Create Slice"
   ]
  },
  {
   "cell_type": "code",
   "execution_count": 132,
   "metadata": {},
   "outputs": [
    {
     "name": "stdout",
     "output_type": "stream",
     "text": [
      "Response Status Status.OK\n",
      "Reservations created [{\n",
      "    \"graph_node_id\": \"43000ee2-b25e-434c-aa5a-ac2f1512256c\",\n",
      "    \"lease_end\": \"2021-09-09 03:06:28\",\n",
      "    \"pending_state\": \"None_\",\n",
      "    \"reservation_id\": \"2467ac38-fdd6-4b85-a46d-9c1d8cc969ac\",\n",
      "    \"reservation_state\": \"Unknown\",\n",
      "    \"slice_id\": \"320132c4-7c6e-44ee-a6c3-7e45b529283e\"\n",
      "}, {\n",
      "    \"graph_node_id\": \"10eb36c0-beaa-4656-be50-3ed4c928d3a7\",\n",
      "    \"lease_end\": \"2021-09-09 03:06:28\",\n",
      "    \"pending_state\": \"None_\",\n",
      "    \"reservation_id\": \"7e256e59-27b6-46e1-923c-6c8bd706b081\",\n",
      "    \"reservation_state\": \"Unknown\",\n",
      "    \"slice_id\": \"320132c4-7c6e-44ee-a6c3-7e45b529283e\"\n",
      "}]\n"
     ]
    }
   ],
   "source": [
    "from fabrictestbed.slice_editor import ExperimentTopology, Capacities, ComponentType, ComponentModelType, ServiceType\n",
    "# Create topology\n",
    "t = ExperimentTopology()\n",
    "\n",
    "\n",
    "# Add node\n",
    "n1 = t.add_node(name='master_node', site='RENC')\n",
    "\n",
    "# Set capacities\n",
    "cap = Capacities()\n",
    "cap.set_fields(core=2, ram=4, disk=10)\n",
    "\n",
    "# Set Properties\n",
    "n1.set_properties(capacities=cap, image_type='qcow2', image_ref='default_ubuntu_20')\n",
    "\n",
    "\n",
    "# Add node\n",
    "n2 = t.add_node(name='client_node', site='RENC')\n",
    "\n",
    "# Set properties\n",
    "n2.set_properties(capacities=cap, image_type='qcow2', image_ref='default_ubuntu_20')\n",
    "\n",
    "\n",
    "# Generate Slice Graph\n",
    "slice_graph = t.serialize()\n",
    "\n",
    "ssh_key = None\n",
    "with open (\"/home/fabric/.ssh/id_rsa.pub\", \"r\") as myfile:\n",
    "    ssh_key=myfile.read()\n",
    "    ssh_key=ssh_key.strip()\n",
    "\n",
    "# Request slice from Orchestrator\n",
    "status, reservations = slice_manager.create(slice_name='Slice-Kubernetes-Hello-World', slice_graph=slice_graph, ssh_key=ssh_key)\n",
    "\n",
    "print(\"Response Status {}\".format(status))\n",
    "if status == Status.OK:\n",
    "    print(\"Reservations created {}\".format(reservations))\n",
    "else:\n",
    "    print(f\"Failure: {reservations}\")"
   ]
  },
  {
   "cell_type": "code",
   "execution_count": 133,
   "metadata": {},
   "outputs": [
    {
     "name": "stdout",
     "output_type": "stream",
     "text": [
      "320132c4-7c6e-44ee-a6c3-7e45b529283e\n"
     ]
    }
   ],
   "source": [
    "# Set the Slice ID from output of the above command\n",
    "slice_id=reservations[0].slice_id\n",
    "print(slice_id)"
   ]
  },
  {
   "cell_type": "markdown",
   "metadata": {},
   "source": [
    "## Query Slices"
   ]
  },
  {
   "cell_type": "code",
   "execution_count": 135,
   "metadata": {},
   "outputs": [
    {
     "name": "stdout",
     "output_type": "stream",
     "text": [
      "Response Status Status.OK\n",
      "Slices [{\n",
      "    \"graph_id\": \"c758ff0d-22f6-4195-89fe-500b5e4392bf\",\n",
      "    \"lease_end\": \"2021-09-04 00:13:06\",\n",
      "    \"slice_id\": \"060aa897-aa4b-4d5a-93c6-4403dbdef3af\",\n",
      "    \"slice_name\": \"Slice-l2p2p-ded\",\n",
      "    \"slice_state\": \"Closing\"\n",
      "}, {\n",
      "    \"graph_id\": \"a7926813-a654-4a67-bd97-9870003f9d0a\",\n",
      "    \"lease_end\": \"2021-09-08 20:28:58\",\n",
      "    \"slice_id\": \"886217e4-5533-4053-99c4-a855064cb849\",\n",
      "    \"slice_name\": \"Slice-l2bridge-ded-tag\",\n",
      "    \"slice_state\": \"Closing\"\n",
      "}, {\n",
      "    \"graph_id\": \"20a42635-8ad7-4277-b8c8-04988829b7f4\",\n",
      "    \"lease_end\": \"2021-09-08 20:29:22\",\n",
      "    \"slice_id\": \"9b412865-2083-4d64-8fd2-99f4d46ed8ff\",\n",
      "    \"slice_name\": \"Slice-l2bridge-ded-tag\",\n",
      "    \"slice_state\": \"Closing\"\n",
      "}, {\n",
      "    \"graph_id\": \"343c1157-2d7a-4043-9762-e6ca19596cf2\",\n",
      "    \"lease_end\": \"2021-09-04 00:17:40\",\n",
      "    \"slice_id\": \"eb71d173-0afa-48d0-b048-d5cde51a9e34\",\n",
      "    \"slice_name\": \"Slice-l2p2p-ded\",\n",
      "    \"slice_state\": \"Closing\"\n",
      "}, {\n",
      "    \"graph_id\": \"bbdac2cc-6d88-4595-9146-23bfe1e356c4\",\n",
      "    \"lease_end\": \"2021-09-04 00:20:09\",\n",
      "    \"slice_id\": \"7f6c4a55-09fa-4af6-8843-918d2d9f4e04\",\n",
      "    \"slice_name\": \"Slice-l2p2p-ded\",\n",
      "    \"slice_state\": \"Dead\"\n",
      "}, {\n",
      "    \"graph_id\": \"c7f92e4c-3637-46cc-b81e-33f86c9e7311\",\n",
      "    \"lease_end\": \"2021-09-04 00:33:30\",\n",
      "    \"slice_id\": \"6008f977-bf2a-4003-9a63-5331a8af2f62\",\n",
      "    \"slice_name\": \"Slice-l2p2p-ded\",\n",
      "    \"slice_state\": \"Dead\"\n",
      "}, {\n",
      "    \"graph_id\": \"bb1ff254-c4fc-486d-ac2f-ca72f6e19993\",\n",
      "    \"lease_end\": \"2021-09-05 00:14:05\",\n",
      "    \"slice_id\": \"85833142-b351-4f5f-b777-a34b677a7479\",\n",
      "    \"slice_name\": \"Slice-l2p2p-ded\",\n",
      "    \"slice_state\": \"Dead\"\n",
      "}, {\n",
      "    \"graph_id\": \"cc3f6fe1-9dea-4ac1-a2ae-85004f3ddecd\",\n",
      "    \"lease_end\": \"2021-08-28 22:02:18\",\n",
      "    \"slice_id\": \"645ffe83-4e87-4fa4-8605-2b809c779fe5\",\n",
      "    \"slice_name\": \"Slice-l2p2p-dedicated\",\n",
      "    \"slice_state\": \"Dead\"\n",
      "}, {\n",
      "    \"graph_id\": \"c32ede7a-b8b5-406f-96cc-edadfcea4d45\",\n",
      "    \"lease_end\": \"2021-08-28 22:10:11\",\n",
      "    \"slice_id\": \"2232d9a7-fb83-44e4-9ed4-eab47ede88e5\",\n",
      "    \"slice_name\": \"Slice-l2p2p-dedicated\",\n",
      "    \"slice_state\": \"Closing\"\n",
      "}, {\n",
      "    \"graph_id\": \"ed2e2fed-c4aa-47b5-b758-c299a5f67602\",\n",
      "    \"lease_end\": \"2021-09-06 00:31:39\",\n",
      "    \"slice_id\": \"5986ca9a-731d-4590-8cef-698441c758b6\",\n",
      "    \"slice_name\": \"Slice-l2p2p-ded\",\n",
      "    \"slice_state\": \"Dead\"\n",
      "}, {\n",
      "    \"graph_id\": \"23011fb4-04e5-491c-bf33-bb4281da4a1b\",\n",
      "    \"lease_end\": \"2021-08-28 22:26:59\",\n",
      "    \"slice_id\": \"8842d470-ed65-4be2-83ef-e2c1f266397f\",\n",
      "    \"slice_name\": \"Slice-l2p2p-dedicated-2\",\n",
      "    \"slice_state\": \"Dead\"\n",
      "}, {\n",
      "    \"graph_id\": \"d1dac440-e2c0-41d8-a235-95ed0f8eef1f\",\n",
      "    \"lease_end\": \"2021-09-06 00:40:09\",\n",
      "    \"slice_id\": \"116150b3-f185-412e-bd0b-3e922d06a785\",\n",
      "    \"slice_name\": \"Slice-l2p2p-ded\",\n",
      "    \"slice_state\": \"Dead\"\n",
      "}, {\n",
      "    \"graph_id\": \"e170a7b6-c447-4829-8941-bc765499bc94\",\n",
      "    \"lease_end\": \"2021-08-28 22:18:15\",\n",
      "    \"slice_id\": \"b1c83aba-82c2-42ef-a7d8-487f698a327f\",\n",
      "    \"slice_name\": \"Slice-l2p2p-dedicated-2\",\n",
      "    \"slice_state\": \"Dead\"\n",
      "}, {\n",
      "    \"graph_id\": \"76d47bee-010d-4068-adfc-6ecaa30faeae\",\n",
      "    \"lease_end\": \"2021-08-28 21:39:35\",\n",
      "    \"slice_id\": \"b3f1fb00-4439-42e8-bb6a-539141c856b5\",\n",
      "    \"slice_name\": \"Slice-l2p2p-ded\",\n",
      "    \"slice_state\": \"Dead\"\n",
      "}, {\n",
      "    \"graph_id\": \"31eb3f9a-1534-4a38-b63f-d975d5bfbe92\",\n",
      "    \"lease_end\": \"2021-09-07 20:54:21\",\n",
      "    \"slice_id\": \"845f9e57-5c13-43c7-8880-f832d8d11e15\",\n",
      "    \"slice_name\": \"Slice-sts-ded\",\n",
      "    \"slice_state\": \"Dead\"\n",
      "}, {\n",
      "    \"graph_id\": \"a1da2524-51dc-42eb-a873-909f2ce5cf10\",\n",
      "    \"lease_end\": \"2021-09-07 21:37:52\",\n",
      "    \"slice_id\": \"b51faaa4-7c22-4509-93b2-5a714658b8a8\",\n",
      "    \"slice_name\": \"Slice-sts-ded\",\n",
      "    \"slice_state\": \"Dead\"\n",
      "}, {\n",
      "    \"graph_id\": \"b9a1d3c9-bc9a-4ae5-b5b2-81a9bc8d9070\",\n",
      "    \"lease_end\": \"2021-08-29 23:44:18\",\n",
      "    \"slice_id\": \"4ea551a6-241a-4938-b24f-0dfa7de9afa5\",\n",
      "    \"slice_name\": \"Slice-l2p2p-dedicated-2\",\n",
      "    \"slice_state\": \"Dead\"\n",
      "}, {\n",
      "    \"graph_id\": \"9148ab6b-a73a-43ad-ad77-4e45c436bebf\",\n",
      "    \"lease_end\": \"2021-08-29 23:32:38\",\n",
      "    \"slice_id\": \"8ce5ed68-7f7b-48f0-ad53-138ff827b71c\",\n",
      "    \"slice_name\": \"Slice-l2p2p-ded\",\n",
      "    \"slice_state\": \"Dead\"\n",
      "}, {\n",
      "    \"graph_id\": \"8f24d983-4fb1-40a7-a676-9fe4e1c29346\",\n",
      "    \"lease_end\": \"2021-09-08 20:32:03\",\n",
      "    \"slice_id\": \"39ba50e2-7f47-4202-b674-11472147f822\",\n",
      "    \"slice_name\": \"Slice-l2bridge-ded-tag\",\n",
      "    \"slice_state\": \"Dead\"\n",
      "}, {\n",
      "    \"graph_id\": \"659a415e-cc29-499c-9001-54500c85fee7\",\n",
      "    \"lease_end\": \"2021-09-08 18:37:26\",\n",
      "    \"slice_id\": \"e3e499b2-46ca-4488-972f-169a6d69fd21\",\n",
      "    \"slice_name\": \"Slice-sts-ded\",\n",
      "    \"slice_state\": \"Dead\"\n",
      "}, {\n",
      "    \"graph_id\": \"dec4eeaf-37ce-4745-9f5c-2b8ee9b03840\",\n",
      "    \"lease_end\": \"2021-09-08 18:35:50\",\n",
      "    \"slice_id\": \"7397f8de-e211-4b35-8160-2e79c18da7a6\",\n",
      "    \"slice_name\": \"Slice-sts-ded\",\n",
      "    \"slice_state\": \"Closing\"\n",
      "}, {\n",
      "    \"graph_id\": \"49509914-8a2b-490a-af77-0d42715123f4\",\n",
      "    \"lease_end\": \"2021-09-08 18:51:29\",\n",
      "    \"slice_id\": \"dffa9f3b-0aed-4cb7-87ef-f1b668724e14\",\n",
      "    \"slice_name\": \"Slice-sts-ded\",\n",
      "    \"slice_state\": \"StableOK\"\n",
      "}, {\n",
      "    \"graph_id\": \"db63bc3b-45bb-4e79-ab2b-0d8bbd65588e\",\n",
      "    \"lease_end\": \"2021-09-08 20:35:58\",\n",
      "    \"slice_id\": \"cab2ccd6-3b7e-4e80-8511-3556505039c4\",\n",
      "    \"slice_name\": \"Slice-l2bridge-ded-tag\",\n",
      "    \"slice_state\": \"Dead\"\n",
      "}, {\n",
      "    \"graph_id\": \"a1dd0cb4-8a66-4296-978b-8c82849a60e6\",\n",
      "    \"lease_end\": \"2021-09-08 23:26:12\",\n",
      "    \"slice_id\": \"5d31e4c6-e054-487e-b0b7-e9abdbb0b08e\",\n",
      "    \"slice_name\": \"Slice-Kubernetes-Hello-World\",\n",
      "    \"slice_state\": \"Dead\"\n",
      "}, {\n",
      "    \"graph_id\": \"ae244672-53a5-4b8b-8117-ab4f915914e8\",\n",
      "    \"lease_end\": \"2021-09-09 03:06:28\",\n",
      "    \"slice_id\": \"320132c4-7c6e-44ee-a6c3-7e45b529283e\",\n",
      "    \"slice_name\": \"Slice-Kubernetes-Hello-World\",\n",
      "    \"slice_state\": \"StableOK\"\n",
      "}]\n"
     ]
    }
   ],
   "source": [
    "status, slices = slice_manager.slices()\n",
    "\n",
    "print(\"Response Status {}\".format(status))\n",
    "if status == Status.OK:\n",
    "    print(\"Slices {}\".format(slices))\n",
    "else:\n",
    "    print(f\"Failure: {slices}\")"
   ]
  },
  {
   "cell_type": "markdown",
   "metadata": {},
   "source": [
    "## Query Slivers"
   ]
  },
  {
   "cell_type": "code",
   "execution_count": 136,
   "metadata": {},
   "outputs": [
    {
     "name": "stdout",
     "output_type": "stream",
     "text": [
      "Response Status Status.OK\n",
      "Slivers [{\n",
      "    \"allocated_capacities\": \"{\\\"core\\\": 2, \\\"disk\\\": 10, \\\"ram\\\": 8}\",\n",
      "    \"allocated_labels\": \"{\\\"instance\\\": \\\"instance-00000211\\\", \\\"instance_parent\\\": \\\"renc-w1.fabric-testbed.net\\\"}\",\n",
      "    \"capacities\": \"{\\\"core\\\": 2, \\\"disk\\\": 10, \\\"ram\\\": 4}\",\n",
      "    \"capacity_hints\": \"{\\\"instance_type\\\": \\\"fabric.c2.m8.d10\\\"}\",\n",
      "    \"graph_node_id\": \"43000ee2-b25e-434c-aa5a-ac2f1512256c\",\n",
      "    \"join_state\": \"NoJoin\",\n",
      "    \"lease_end\": \"2021-09-09 03:06:28\",\n",
      "    \"management_ip\": \"152.54.15.37\",\n",
      "    \"name\": \"master_node\",\n",
      "    \"pending_state\": \"None_\",\n",
      "    \"reservation_id\": \"2467ac38-fdd6-4b85-a46d-9c1d8cc969ac\",\n",
      "    \"reservation_state\": \"Active\",\n",
      "    \"resource_type\": \"VM\",\n",
      "    \"site\": \"RENC\",\n",
      "    \"slice_id\": \"320132c4-7c6e-44ee-a6c3-7e45b529283e\"\n",
      "}, {\n",
      "    \"allocated_capacities\": \"{\\\"core\\\": 2, \\\"disk\\\": 10, \\\"ram\\\": 8}\",\n",
      "    \"allocated_labels\": \"{\\\"instance\\\": \\\"instance-00000212\\\", \\\"instance_parent\\\": \\\"renc-w1.fabric-testbed.net\\\"}\",\n",
      "    \"capacities\": \"{\\\"core\\\": 2, \\\"disk\\\": 10, \\\"ram\\\": 4}\",\n",
      "    \"capacity_hints\": \"{\\\"instance_type\\\": \\\"fabric.c2.m8.d10\\\"}\",\n",
      "    \"graph_node_id\": \"10eb36c0-beaa-4656-be50-3ed4c928d3a7\",\n",
      "    \"join_state\": \"NoJoin\",\n",
      "    \"lease_end\": \"2021-09-09 03:06:28\",\n",
      "    \"management_ip\": \"152.54.15.48\",\n",
      "    \"name\": \"client_node\",\n",
      "    \"pending_state\": \"None_\",\n",
      "    \"reservation_id\": \"7e256e59-27b6-46e1-923c-6c8bd706b081\",\n",
      "    \"reservation_state\": \"Active\",\n",
      "    \"resource_type\": \"VM\",\n",
      "    \"site\": \"RENC\",\n",
      "    \"slice_id\": \"320132c4-7c6e-44ee-a6c3-7e45b529283e\"\n",
      "}]\n"
     ]
    }
   ],
   "source": [
    "status, slivers = slice_manager.slivers(slice_id=slice_id)\n",
    "\n",
    "print(\"Response Status {}\".format(status))\n",
    "if status == Status.OK:\n",
    "    print(\"Slivers {}\".format(slivers))\n",
    "else:\n",
    "    print(f\"Failure: {slivers}\")"
   ]
  },
  {
   "cell_type": "markdown",
   "metadata": {},
   "source": [
    "## Sliver Status"
   ]
  },
  {
   "cell_type": "code",
   "execution_count": 137,
   "metadata": {},
   "outputs": [
    {
     "name": "stdout",
     "output_type": "stream",
     "text": [
      "Response Status Status.OK\n",
      "\n",
      "Sliver Status {\n",
      "    \"allocated_capacities\": \"{\\\"core\\\": 2, \\\"disk\\\": 10, \\\"ram\\\": 8}\",\n",
      "    \"allocated_labels\": \"{\\\"instance\\\": \\\"instance-00000211\\\", \\\"instance_parent\\\": \\\"renc-w1.fabric-testbed.net\\\"}\",\n",
      "    \"capacities\": \"{\\\"core\\\": 2, \\\"disk\\\": 10, \\\"ram\\\": 4}\",\n",
      "    \"capacity_hints\": \"{\\\"instance_type\\\": \\\"fabric.c2.m8.d10\\\"}\",\n",
      "    \"graph_node_id\": \"43000ee2-b25e-434c-aa5a-ac2f1512256c\",\n",
      "    \"join_state\": \"NoJoin\",\n",
      "    \"lease_end\": \"2021-09-09 03:06:28\",\n",
      "    \"management_ip\": \"152.54.15.37\",\n",
      "    \"name\": \"master_node\",\n",
      "    \"notices\": \"Reservation 2467ac38-fdd6-4b85-a46d-9c1d8cc969ac (Slice Slice-Kubernetes-Hello-World(320132c4-7c6e-44ee-a6c3-7e45b529283e) Graph Id:ae244672-53a5-4b8b-8117-ab4f915914e8 Owner:name: orchestrator guid: orchestrator-guid email: minawm@bu.edu State:StableOK ) is in state [Active,None_]\\n\\nLast ticket update: \\nTicket events: \\nLast ticket update: \\nTicket events: \",\n",
      "    \"pending_state\": \"None_\",\n",
      "    \"reservation_id\": \"2467ac38-fdd6-4b85-a46d-9c1d8cc969ac\",\n",
      "    \"reservation_state\": \"Active\",\n",
      "    \"resource_type\": \"VM\",\n",
      "    \"site\": \"RENC\",\n",
      "    \"slice_id\": \"320132c4-7c6e-44ee-a6c3-7e45b529283e\"\n",
      "}\n",
      "\n",
      "Response Status Status.OK\n",
      "\n",
      "Sliver Status {\n",
      "    \"allocated_capacities\": \"{\\\"core\\\": 2, \\\"disk\\\": 10, \\\"ram\\\": 8}\",\n",
      "    \"allocated_labels\": \"{\\\"instance\\\": \\\"instance-00000212\\\", \\\"instance_parent\\\": \\\"renc-w1.fabric-testbed.net\\\"}\",\n",
      "    \"capacities\": \"{\\\"core\\\": 2, \\\"disk\\\": 10, \\\"ram\\\": 4}\",\n",
      "    \"capacity_hints\": \"{\\\"instance_type\\\": \\\"fabric.c2.m8.d10\\\"}\",\n",
      "    \"graph_node_id\": \"10eb36c0-beaa-4656-be50-3ed4c928d3a7\",\n",
      "    \"join_state\": \"NoJoin\",\n",
      "    \"lease_end\": \"2021-09-09 03:06:28\",\n",
      "    \"management_ip\": \"152.54.15.48\",\n",
      "    \"name\": \"client_node\",\n",
      "    \"notices\": \"Reservation 7e256e59-27b6-46e1-923c-6c8bd706b081 (Slice Slice-Kubernetes-Hello-World(320132c4-7c6e-44ee-a6c3-7e45b529283e) Graph Id:ae244672-53a5-4b8b-8117-ab4f915914e8 Owner:name: orchestrator guid: orchestrator-guid email: minawm@bu.edu State:StableOK ) is in state [Active,None_]\\n\\nLast ticket update: \\nTicket events: \\nLast ticket update: \\nTicket events: \",\n",
      "    \"pending_state\": \"None_\",\n",
      "    \"reservation_id\": \"7e256e59-27b6-46e1-923c-6c8bd706b081\",\n",
      "    \"reservation_state\": \"Active\",\n",
      "    \"resource_type\": \"VM\",\n",
      "    \"site\": \"RENC\",\n",
      "    \"slice_id\": \"320132c4-7c6e-44ee-a6c3-7e45b529283e\"\n",
      "}\n",
      "\n"
     ]
    }
   ],
   "source": [
    "for s in slivers:\n",
    "    status, sliver_status = slice_manager.sliver_status(slice_id=slice_id, sliver_id=s.reservation_id)\n",
    "\n",
    "    print(\"Response Status {}\".format(status))\n",
    "    if status == Status.OK:\n",
    "        print()\n",
    "        print(\"Sliver Status {}\".format(sliver_status))\n",
    "        print()"
   ]
  },
  {
   "cell_type": "markdown",
   "metadata": {},
   "source": [
    "## Work on the servers starts here."
   ]
  },
  {
   "cell_type": "markdown",
   "metadata": {},
   "source": [
    "### We are going to use paramiko to connect to our servers through ssh."
   ]
  },
  {
   "cell_type": "code",
   "execution_count": 138,
   "metadata": {},
   "outputs": [],
   "source": [
    "import paramiko"
   ]
  },
  {
   "cell_type": "markdown",
   "metadata": {},
   "source": [
    "### We have two servers with two IPs."
   ]
  },
  {
   "cell_type": "code",
   "execution_count": 139,
   "metadata": {},
   "outputs": [
    {
     "data": {
      "text/plain": [
       "'152.54.15.37'"
      ]
     },
     "execution_count": 139,
     "metadata": {},
     "output_type": "execute_result"
    }
   ],
   "source": [
    "master_node_ip = list(filter(lambda sliver : sliver.name == \"master_node\",slivers))[0].management_ip\n",
    "master_node_ip"
   ]
  },
  {
   "cell_type": "code",
   "execution_count": 140,
   "metadata": {},
   "outputs": [
    {
     "data": {
      "text/plain": [
       "'152.54.15.48'"
      ]
     },
     "execution_count": 140,
     "metadata": {},
     "output_type": "execute_result"
    }
   ],
   "source": [
    "client_node_ip = list(filter(lambda sliver : sliver.name == \"client_node\",slivers))[0].management_ip\n",
    "client_node_ip"
   ]
  },
  {
   "cell_type": "markdown",
   "metadata": {},
   "source": [
    "### Below, we connect to our first server."
   ]
  },
  {
   "cell_type": "code",
   "execution_count": 141,
   "metadata": {},
   "outputs": [
    {
     "data": {
      "text/plain": [
       "<paramiko.client.SSHClient at 0x7fd23c7e9790>"
      ]
     },
     "execution_count": 141,
     "metadata": {},
     "output_type": "execute_result"
    }
   ],
   "source": [
    "key = paramiko.RSAKey.from_private_key_file(\"/home/fabric/.ssh/id_rsa\")\n",
    "master_node = paramiko.SSHClient()\n",
    "master_node.load_system_host_keys()\n",
    "master_node.set_missing_host_key_policy(paramiko.MissingHostKeyPolicy())\n",
    "\n",
    "master_node.set_missing_host_key_policy(paramiko.AutoAddPolicy())\n",
    "master_node.connect(master_node_ip,username='ubuntu',pkey = key)\n",
    "\n",
    "master_node"
   ]
  },
  {
   "cell_type": "markdown",
   "metadata": {},
   "source": [
    "### Connection should be established. Let's issue some test commands:"
   ]
  },
  {
   "cell_type": "code",
   "execution_count": 142,
   "metadata": {},
   "outputs": [
    {
     "name": "stdout",
     "output_type": "stream",
     "text": [
      "Distributor ID:\tUbuntu\n",
      "Description:\tUbuntu 20.04.2 LTS\n",
      "Release:\t20.04\n",
      "Codename:\tfocal\n",
      "\n",
      "No LSB modules are available.\n",
      "\n"
     ]
    }
   ],
   "source": [
    "stdin, stdout, stderr = master_node.exec_command('lsb_release -a')\n",
    "print(stdout.read().decode(\"utf-8\"))\n",
    "print(stderr.read().decode(\"utf-8\"))"
   ]
  },
  {
   "cell_type": "code",
   "execution_count": 143,
   "metadata": {},
   "outputs": [
    {
     "name": "stdout",
     "output_type": "stream",
     "text": [
      "1: lo: <LOOPBACK,UP,LOWER_UP> mtu 65536 qdisc noqueue state UNKNOWN group default qlen 1000\n",
      "    link/loopback 00:00:00:00:00:00 brd 00:00:00:00:00:00\n",
      "    inet 127.0.0.1/8 scope host lo\n",
      "       valid_lft forever preferred_lft forever\n",
      "    inet6 ::1/128 scope host \n",
      "       valid_lft forever preferred_lft forever\n",
      "2: ens3: <BROADCAST,MULTICAST,UP,LOWER_UP> mtu 9000 qdisc fq_codel state UP group default qlen 1000\n",
      "    link/ether fa:16:3e:69:e3:ef brd ff:ff:ff:ff:ff:ff\n",
      "    inet 10.20.4.74/24 brd 10.20.4.255 scope global dynamic ens3\n",
      "       valid_lft 86308sec preferred_lft 86308sec\n",
      "    inet6 fe80::f816:3eff:fe69:e3ef/64 scope link \n",
      "       valid_lft forever preferred_lft forever\n",
      "\n",
      "\n"
     ]
    }
   ],
   "source": [
    "stdin, stdout, stderr = master_node.exec_command('ip addr')\n",
    "print(stdout.read().decode(\"utf-8\"))\n",
    "print(stderr.read().decode(\"utf-8\"))"
   ]
  },
  {
   "cell_type": "code",
   "execution_count": 144,
   "metadata": {},
   "outputs": [
    {
     "name": "stdout",
     "output_type": "stream",
     "text": [
      "152.54.15.37\n",
      "  % Total    % Received % Xferd  Average Speed   Time    Time     Time  Current\n",
      "                                 Dload  Upload   Total   Spent    Left  Speed\n",
      "100    12  100    12    0     0    101      0 --:--:-- --:--:-- --:--:--   101\n",
      "\n"
     ]
    }
   ],
   "source": [
    "stdin, stdout, stderr = master_node.exec_command('curl https://ipinfo.io/ip')\n",
    "print(stdout.read().decode(\"utf-8\"))\n",
    "print(stderr.read().decode(\"utf-8\"))"
   ]
  },
  {
   "cell_type": "markdown",
   "metadata": {},
   "source": [
    "### Now we connect to our second server."
   ]
  },
  {
   "cell_type": "code",
   "execution_count": 145,
   "metadata": {},
   "outputs": [
    {
     "data": {
      "text/plain": [
       "<paramiko.client.SSHClient at 0x7fd25415cd90>"
      ]
     },
     "execution_count": 145,
     "metadata": {},
     "output_type": "execute_result"
    }
   ],
   "source": [
    "key = paramiko.RSAKey.from_private_key_file(\"/home/fabric/.ssh/id_rsa\")\n",
    "client_node = paramiko.SSHClient()\n",
    "client_node.load_system_host_keys()\n",
    "client_node.set_missing_host_key_policy(paramiko.MissingHostKeyPolicy())\n",
    "\n",
    "client_node.set_missing_host_key_policy(paramiko.AutoAddPolicy())\n",
    "client_node.connect(client_node_ip,username='ubuntu',pkey = key)\n",
    "\n",
    "client_node"
   ]
  },
  {
   "cell_type": "markdown",
   "metadata": {},
   "source": [
    "### Again, some test commands."
   ]
  },
  {
   "cell_type": "code",
   "execution_count": 146,
   "metadata": {},
   "outputs": [
    {
     "name": "stdout",
     "output_type": "stream",
     "text": [
      "152.54.15.48\n",
      "  % Total    % Received % Xferd  Average Speed   Time    Time     Time  Current\n",
      "                                 Dload  Upload   Total   Spent    Left  Speed\n",
      "100    12  100    12    0     0    200      0 --:--:-- --:--:-- --:--:--   200\n",
      "\n"
     ]
    }
   ],
   "source": [
    "stdin, stdout, stderr = client_node.exec_command('curl https://ipinfo.io/ip')\n",
    "print(stdout.read().decode(\"utf-8\"))\n",
    "print(stderr.read().decode(\"utf-8\"))"
   ]
  },
  {
   "cell_type": "markdown",
   "metadata": {},
   "source": [
    "### Now, let's do a quick ping experiment. Let's let each of the servers ping the other server."
   ]
  },
  {
   "cell_type": "code",
   "execution_count": 147,
   "metadata": {},
   "outputs": [
    {
     "name": "stdout",
     "output_type": "stream",
     "text": [
      "PING 152.54.15.37 (152.54.15.37) 56(84) bytes of data.\n",
      "64 bytes from 152.54.15.37: icmp_seq=1 ttl=63 time=0.394 ms\n",
      "64 bytes from 152.54.15.37: icmp_seq=2 ttl=63 time=0.316 ms\n",
      "64 bytes from 152.54.15.37: icmp_seq=3 ttl=63 time=0.535 ms\n",
      "64 bytes from 152.54.15.37: icmp_seq=4 ttl=63 time=0.205 ms\n",
      "64 bytes from 152.54.15.37: icmp_seq=5 ttl=63 time=0.248 ms\n",
      "64 bytes from 152.54.15.37: icmp_seq=6 ttl=63 time=0.280 ms\n",
      "64 bytes from 152.54.15.37: icmp_seq=7 ttl=63 time=0.300 ms\n",
      "64 bytes from 152.54.15.37: icmp_seq=8 ttl=63 time=0.313 ms\n",
      "64 bytes from 152.54.15.37: icmp_seq=9 ttl=63 time=0.238 ms\n",
      "64 bytes from 152.54.15.37: icmp_seq=10 ttl=63 time=0.265 ms\n",
      "\n",
      "--- 152.54.15.37 ping statistics ---\n",
      "10 packets transmitted, 10 received, 0% packet loss, time 9199ms\n",
      "rtt min/avg/max/mdev = 0.205/0.309/0.535/0.089 ms\n",
      "\n",
      "\n"
     ]
    }
   ],
   "source": [
    "stdin, stdout, stderr = client_node.exec_command('ping -c 10 ' + master_node_ip)\n",
    "print(stdout.read().decode(\"utf-8\"))\n",
    "print(stderr.read().decode(\"utf-8\"))"
   ]
  },
  {
   "cell_type": "code",
   "execution_count": 148,
   "metadata": {},
   "outputs": [
    {
     "name": "stdout",
     "output_type": "stream",
     "text": [
      "PING 152.54.15.48 (152.54.15.48) 56(84) bytes of data.\n",
      "64 bytes from 152.54.15.48: icmp_seq=1 ttl=63 time=0.280 ms\n",
      "64 bytes from 152.54.15.48: icmp_seq=2 ttl=63 time=0.352 ms\n",
      "64 bytes from 152.54.15.48: icmp_seq=3 ttl=63 time=0.269 ms\n",
      "64 bytes from 152.54.15.48: icmp_seq=4 ttl=63 time=0.314 ms\n",
      "64 bytes from 152.54.15.48: icmp_seq=5 ttl=63 time=0.352 ms\n",
      "64 bytes from 152.54.15.48: icmp_seq=6 ttl=63 time=0.264 ms\n",
      "64 bytes from 152.54.15.48: icmp_seq=7 ttl=63 time=0.230 ms\n",
      "64 bytes from 152.54.15.48: icmp_seq=8 ttl=63 time=0.288 ms\n",
      "64 bytes from 152.54.15.48: icmp_seq=9 ttl=63 time=0.257 ms\n",
      "64 bytes from 152.54.15.48: icmp_seq=10 ttl=63 time=0.261 ms\n",
      "\n",
      "--- 152.54.15.48 ping statistics ---\n",
      "10 packets transmitted, 10 received, 0% packet loss, time 9213ms\n",
      "rtt min/avg/max/mdev = 0.230/0.286/0.352/0.038 ms\n",
      "\n",
      "\n"
     ]
    }
   ],
   "source": [
    "stdin, stdout, stderr = master_node.exec_command('ping -c 10 ' + client_node_ip)\n",
    "print(stdout.read().decode(\"utf-8\"))\n",
    "print(stderr.read().decode(\"utf-8\"))"
   ]
  },
  {
   "cell_type": "markdown",
   "metadata": {},
   "source": [
    "### Ping experiment complete. Both nodes can see each other."
   ]
  },
  {
   "cell_type": "markdown",
   "metadata": {},
   "source": [
    "### Now, let's start a Kubernetes cluster on those two nodes."
   ]
  },
  {
   "cell_type": "markdown",
   "metadata": {},
   "source": [
    "We follow the instructions that we have here: https://github.com/apache/openwhisk-deploy-kube/blob/master/docs/k8s-diy-ubuntu.md"
   ]
  },
  {
   "cell_type": "markdown",
   "metadata": {},
   "source": [
    "## Master node setup."
   ]
  },
  {
   "cell_type": "markdown",
   "metadata": {},
   "source": [
    "We now simply follow the instructions on our master node one by one."
   ]
  },
  {
   "cell_type": "code",
   "execution_count": 149,
   "metadata": {},
   "outputs": [
    {
     "name": "stdout",
     "output_type": "stream",
     "text": [
      "Get:1 http://security.ubuntu.com/ubuntu focal-security InRelease [114 kB]\n",
      "Hit:2 http://nova.clouds.archive.ubuntu.com/ubuntu focal InRelease\n",
      "Get:3 http://nova.clouds.archive.ubuntu.com/ubuntu focal-updates InRelease [114 kB]\n",
      "Get:4 http://security.ubuntu.com/ubuntu focal-security/main amd64 Packages [857 kB]\n",
      "Get:5 http://nova.clouds.archive.ubuntu.com/ubuntu focal-backports InRelease [101 kB]\n",
      "Get:6 http://nova.clouds.archive.ubuntu.com/ubuntu focal/universe amd64 Packages [8628 kB]\n",
      "Get:7 http://security.ubuntu.com/ubuntu focal-security/main Translation-en [165 kB]\n",
      "Get:8 http://security.ubuntu.com/ubuntu focal-security/main amd64 c-n-f Metadata [8600 B]\n",
      "Get:9 http://security.ubuntu.com/ubuntu focal-security/restricted amd64 Packages [403 kB]\n",
      "Get:10 http://security.ubuntu.com/ubuntu focal-security/restricted Translation-en [57.7 kB]\n",
      "Get:11 http://security.ubuntu.com/ubuntu focal-security/restricted amd64 c-n-f Metadata [500 B]\n",
      "Get:12 http://security.ubuntu.com/ubuntu focal-security/universe amd64 Packages [638 kB]\n",
      "Get:13 http://security.ubuntu.com/ubuntu focal-security/universe Translation-en [101 kB]\n",
      "Get:14 http://security.ubuntu.com/ubuntu focal-security/universe amd64 c-n-f Metadata [12.3 kB]\n",
      "Get:15 http://security.ubuntu.com/ubuntu focal-security/multiverse amd64 Packages [21.9 kB]\n",
      "Get:16 http://security.ubuntu.com/ubuntu focal-security/multiverse Translation-en [4948 B]\n",
      "Get:17 http://security.ubuntu.com/ubuntu focal-security/multiverse amd64 c-n-f Metadata [540 B]\n",
      "Get:18 http://nova.clouds.archive.ubuntu.com/ubuntu focal/universe Translation-en [5124 kB]\n",
      "Get:19 http://nova.clouds.archive.ubuntu.com/ubuntu focal/universe amd64 c-n-f Metadata [265 kB]\n",
      "Get:20 http://nova.clouds.archive.ubuntu.com/ubuntu focal/multiverse amd64 Packages [144 kB]\n",
      "Get:21 http://nova.clouds.archive.ubuntu.com/ubuntu focal/multiverse Translation-en [104 kB]\n",
      "Get:22 http://nova.clouds.archive.ubuntu.com/ubuntu focal/multiverse amd64 c-n-f Metadata [9136 B]\n",
      "Get:23 http://nova.clouds.archive.ubuntu.com/ubuntu focal-updates/main amd64 Packages [1204 kB]\n",
      "Get:24 http://nova.clouds.archive.ubuntu.com/ubuntu focal-updates/main Translation-en [257 kB]\n",
      "Get:25 http://nova.clouds.archive.ubuntu.com/ubuntu focal-updates/main amd64 c-n-f Metadata [14.1 kB]\n",
      "Get:26 http://nova.clouds.archive.ubuntu.com/ubuntu focal-updates/restricted amd64 Packages [442 kB]\n",
      "Get:27 http://nova.clouds.archive.ubuntu.com/ubuntu focal-updates/restricted Translation-en [63.3 kB]\n",
      "Get:28 http://nova.clouds.archive.ubuntu.com/ubuntu focal-updates/restricted amd64 c-n-f Metadata [500 B]\n",
      "Get:29 http://nova.clouds.archive.ubuntu.com/ubuntu focal-updates/universe amd64 Packages [854 kB]\n",
      "Get:30 http://nova.clouds.archive.ubuntu.com/ubuntu focal-updates/universe Translation-en [181 kB]\n",
      "Get:31 http://nova.clouds.archive.ubuntu.com/ubuntu focal-updates/universe amd64 c-n-f Metadata [18.8 kB]\n",
      "Get:32 http://nova.clouds.archive.ubuntu.com/ubuntu focal-updates/multiverse amd64 Packages [24.6 kB]\n",
      "Get:33 http://nova.clouds.archive.ubuntu.com/ubuntu focal-updates/multiverse Translation-en [6776 B]\n",
      "Get:34 http://nova.clouds.archive.ubuntu.com/ubuntu focal-updates/multiverse amd64 c-n-f Metadata [620 B]\n",
      "Get:35 http://nova.clouds.archive.ubuntu.com/ubuntu focal-backports/main amd64 Packages [2568 B]\n",
      "Get:36 http://nova.clouds.archive.ubuntu.com/ubuntu focal-backports/main Translation-en [1120 B]\n",
      "Get:37 http://nova.clouds.archive.ubuntu.com/ubuntu focal-backports/main amd64 c-n-f Metadata [400 B]\n",
      "Get:38 http://nova.clouds.archive.ubuntu.com/ubuntu focal-backports/restricted amd64 c-n-f Metadata [116 B]\n",
      "Get:39 http://nova.clouds.archive.ubuntu.com/ubuntu focal-backports/universe amd64 Packages [5812 B]\n",
      "Get:40 http://nova.clouds.archive.ubuntu.com/ubuntu focal-backports/universe Translation-en [2068 B]\n",
      "Get:41 http://nova.clouds.archive.ubuntu.com/ubuntu focal-backports/universe amd64 c-n-f Metadata [288 B]\n",
      "Get:42 http://nova.clouds.archive.ubuntu.com/ubuntu focal-backports/multiverse amd64 c-n-f Metadata [116 B]\n",
      "Fetched 20.0 MB in 3s (7209 kB/s)\n",
      "Reading package lists...\n",
      "Building dependency tree...\n",
      "Reading state information...\n",
      "121 packages can be upgraded. Run 'apt list --upgradable' to see them.\n",
      "\n",
      "\n",
      "WARNING: apt does not have a stable CLI interface. Use with caution in scripts.\n",
      "\n",
      "\n"
     ]
    }
   ],
   "source": [
    "stdin, stdout, stderr = master_node.exec_command('sudo apt update')\n",
    "print(stdout.read().decode(\"utf-8\"))\n",
    "print(stderr.read().decode(\"utf-8\"))"
   ]
  },
  {
   "cell_type": "code",
   "execution_count": 150,
   "metadata": {},
   "outputs": [
    {
     "name": "stdout",
     "output_type": "stream",
     "text": [
      "Reading package lists...\n",
      "Building dependency tree...\n",
      "Reading state information...\n",
      "The following additional packages will be installed:\n",
      "  bridge-utils containerd dns-root-data dnsmasq-base libidn11 pigz runc\n",
      "  ubuntu-fan\n",
      "Suggested packages:\n",
      "  ifupdown aufs-tools cgroupfs-mount | cgroup-lite debootstrap docker-doc\n",
      "  rinse zfs-fuse | zfsutils\n",
      "The following NEW packages will be installed:\n",
      "  bridge-utils containerd dns-root-data dnsmasq-base docker.io libidn11 pigz\n",
      "  runc ubuntu-fan\n",
      "0 upgraded, 9 newly installed, 0 to remove and 121 not upgraded.\n",
      "Need to get 74.4 MB of archives.\n",
      "After this operation, 360 MB of additional disk space will be used.\n",
      "Get:1 http://nova.clouds.archive.ubuntu.com/ubuntu focal/universe amd64 pigz amd64 2.4-1 [57.4 kB]\n",
      "Get:2 http://nova.clouds.archive.ubuntu.com/ubuntu focal/main amd64 bridge-utils amd64 1.6-2ubuntu1 [30.5 kB]\n",
      "Get:3 http://nova.clouds.archive.ubuntu.com/ubuntu focal-updates/main amd64 runc amd64 1.0.0~rc95-0ubuntu1~20.04.2 [4087 kB]\n",
      "Get:4 http://nova.clouds.archive.ubuntu.com/ubuntu focal-updates/main amd64 containerd amd64 1.5.2-0ubuntu1~20.04.2 [32.9 MB]\n",
      "Get:5 http://nova.clouds.archive.ubuntu.com/ubuntu focal/main amd64 dns-root-data all 2019052802 [5300 B]\n",
      "Get:6 http://nova.clouds.archive.ubuntu.com/ubuntu focal/main amd64 libidn11 amd64 1.33-2.2ubuntu2 [46.2 kB]\n",
      "Get:7 http://nova.clouds.archive.ubuntu.com/ubuntu focal-updates/main amd64 dnsmasq-base amd64 2.80-1.1ubuntu1.4 [315 kB]\n",
      "Get:8 http://nova.clouds.archive.ubuntu.com/ubuntu focal-updates/universe amd64 docker.io amd64 20.10.7-0ubuntu1~20.04.1 [36.9 MB]\n",
      "Get:9 http://nova.clouds.archive.ubuntu.com/ubuntu focal/main amd64 ubuntu-fan all 0.12.13 [34.5 kB]\n",
      "Fetched 74.4 MB in 1s (88.9 MB/s)\n",
      "Selecting previously unselected package pigz.\n",
      "(Reading database ... 63441 files and directories currently installed.)\n",
      "Preparing to unpack .../0-pigz_2.4-1_amd64.deb ...\n",
      "Unpacking pigz (2.4-1) ...\n",
      "Selecting previously unselected package bridge-utils.\n",
      "Preparing to unpack .../1-bridge-utils_1.6-2ubuntu1_amd64.deb ...\n",
      "Unpacking bridge-utils (1.6-2ubuntu1) ...\n",
      "Selecting previously unselected package runc.\n",
      "Preparing to unpack .../2-runc_1.0.0~rc95-0ubuntu1~20.04.2_amd64.deb ...\n",
      "Unpacking runc (1.0.0~rc95-0ubuntu1~20.04.2) ...\n",
      "Selecting previously unselected package containerd.\n",
      "Preparing to unpack .../3-containerd_1.5.2-0ubuntu1~20.04.2_amd64.deb ...\n",
      "Unpacking containerd (1.5.2-0ubuntu1~20.04.2) ...\n",
      "Selecting previously unselected package dns-root-data.\n",
      "Preparing to unpack .../4-dns-root-data_2019052802_all.deb ...\n",
      "Unpacking dns-root-data (2019052802) ...\n",
      "Selecting previously unselected package libidn11:amd64.\n",
      "Preparing to unpack .../5-libidn11_1.33-2.2ubuntu2_amd64.deb ...\n",
      "Unpacking libidn11:amd64 (1.33-2.2ubuntu2) ...\n",
      "Selecting previously unselected package dnsmasq-base.\n",
      "Preparing to unpack .../6-dnsmasq-base_2.80-1.1ubuntu1.4_amd64.deb ...\n",
      "Unpacking dnsmasq-base (2.80-1.1ubuntu1.4) ...\n",
      "Selecting previously unselected package docker.io.\n",
      "Preparing to unpack .../7-docker.io_20.10.7-0ubuntu1~20.04.1_amd64.deb ...\n",
      "Unpacking docker.io (20.10.7-0ubuntu1~20.04.1) ...\n",
      "Selecting previously unselected package ubuntu-fan.\n",
      "Preparing to unpack .../8-ubuntu-fan_0.12.13_all.deb ...\n",
      "Unpacking ubuntu-fan (0.12.13) ...\n",
      "Setting up runc (1.0.0~rc95-0ubuntu1~20.04.2) ...\n",
      "Setting up dns-root-data (2019052802) ...\n",
      "Setting up libidn11:amd64 (1.33-2.2ubuntu2) ...\n",
      "Setting up bridge-utils (1.6-2ubuntu1) ...\n",
      "debconf: unable to initialize frontend: Dialog\n",
      "debconf: (Dialog frontend will not work on a dumb terminal, an emacs shell buffer, or without a controlling terminal.)\n",
      "debconf: falling back to frontend: Readline\n",
      "Setting up pigz (2.4-1) ...\n",
      "Setting up containerd (1.5.2-0ubuntu1~20.04.2) ...\n",
      "Created symlink /etc/systemd/system/multi-user.target.wants/containerd.service → /lib/systemd/system/containerd.service.\n",
      "Setting up docker.io (20.10.7-0ubuntu1~20.04.1) ...\n",
      "debconf: unable to initialize frontend: Dialog\n",
      "debconf: (Dialog frontend will not work on a dumb terminal, an emacs shell buffer, or without a controlling terminal.)\n",
      "debconf: falling back to frontend: Readline\n",
      "Adding group `docker' (GID 119) ...\n",
      "Done.\n",
      "Created symlink /etc/systemd/system/multi-user.target.wants/docker.service → /lib/systemd/system/docker.service.\n",
      "Created symlink /etc/systemd/system/sockets.target.wants/docker.socket → /lib/systemd/system/docker.socket.\n",
      "Setting up dnsmasq-base (2.80-1.1ubuntu1.4) ...\n",
      "Setting up ubuntu-fan (0.12.13) ...\n",
      "Created symlink /etc/systemd/system/multi-user.target.wants/ubuntu-fan.service → /lib/systemd/system/ubuntu-fan.service.\n",
      "Processing triggers for systemd (245.4-4ubuntu3.5) ...\n",
      "Processing triggers for man-db (2.9.1-1) ...\n",
      "Processing triggers for dbus (1.12.16-2ubuntu2.1) ...\n",
      "Processing triggers for libc-bin (2.31-0ubuntu9.2) ...\n",
      "\n",
      "debconf: unable to initialize frontend: Dialog\n",
      "debconf: (Dialog frontend will not work on a dumb terminal, an emacs shell buffer, or without a controlling terminal.)\n",
      "debconf: falling back to frontend: Readline\n",
      "debconf: unable to initialize frontend: Readline\n",
      "debconf: (This frontend requires a controlling tty.)\n",
      "debconf: falling back to frontend: Teletype\n",
      "dpkg-preconfigure: unable to re-open stdin: \n",
      "\n"
     ]
    }
   ],
   "source": [
    "stdin, stdout, stderr = master_node.exec_command('sudo apt-get install -y docker.io')\n",
    "print(stdout.read().decode(\"utf-8\"))\n",
    "print(stderr.read().decode(\"utf-8\"))"
   ]
  },
  {
   "cell_type": "code",
   "execution_count": 151,
   "metadata": {},
   "outputs": [
    {
     "name": "stdout",
     "output_type": "stream",
     "text": [
      "Hit:1 http://nova.clouds.archive.ubuntu.com/ubuntu focal InRelease\n",
      "Hit:2 http://nova.clouds.archive.ubuntu.com/ubuntu focal-updates InRelease\n",
      "Hit:3 http://nova.clouds.archive.ubuntu.com/ubuntu focal-backports InRelease\n",
      "Hit:4 http://security.ubuntu.com/ubuntu focal-security InRelease\n",
      "Reading package lists...\n",
      "Reading package lists...\n",
      "Building dependency tree...\n",
      "Reading state information...\n",
      "The following additional packages will be installed:\n",
      "  libcurl4\n",
      "The following NEW packages will be installed:\n",
      "  apt-transport-https\n",
      "The following packages will be upgraded:\n",
      "  curl libcurl4\n",
      "2 upgraded, 1 newly installed, 0 to remove and 119 not upgraded.\n",
      "Need to get 400 kB of archives.\n",
      "After this operation, 162 kB of additional disk space will be used.\n",
      "Get:1 http://nova.clouds.archive.ubuntu.com/ubuntu focal-updates/universe amd64 apt-transport-https all 2.0.6 [4680 B]\n",
      "Get:2 http://nova.clouds.archive.ubuntu.com/ubuntu focal-updates/main amd64 curl amd64 7.68.0-1ubuntu2.6 [161 kB]\n",
      "Get:3 http://nova.clouds.archive.ubuntu.com/ubuntu focal-updates/main amd64 libcurl4 amd64 7.68.0-1ubuntu2.6 [234 kB]\n",
      "Fetched 400 kB in 0s (1124 kB/s)\n",
      "Selecting previously unselected package apt-transport-https.\n",
      "(Reading database ... 63795 files and directories currently installed.)\n",
      "Preparing to unpack .../apt-transport-https_2.0.6_all.deb ...\n",
      "Unpacking apt-transport-https (2.0.6) ...\n",
      "Preparing to unpack .../curl_7.68.0-1ubuntu2.6_amd64.deb ...\n",
      "Unpacking curl (7.68.0-1ubuntu2.6) over (7.68.0-1ubuntu2.4) ...\n",
      "Preparing to unpack .../libcurl4_7.68.0-1ubuntu2.6_amd64.deb ...\n",
      "Unpacking libcurl4:amd64 (7.68.0-1ubuntu2.6) over (7.68.0-1ubuntu2.4) ...\n",
      "Setting up apt-transport-https (2.0.6) ...\n",
      "Setting up libcurl4:amd64 (7.68.0-1ubuntu2.6) ...\n",
      "Setting up curl (7.68.0-1ubuntu2.6) ...\n",
      "Processing triggers for man-db (2.9.1-1) ...\n",
      "Processing triggers for libc-bin (2.31-0ubuntu9.2) ...\n",
      "\n",
      "debconf: unable to initialize frontend: Dialog\n",
      "debconf: (Dialog frontend will not work on a dumb terminal, an emacs shell buffer, or without a controlling terminal.)\n",
      "debconf: falling back to frontend: Readline\n",
      "debconf: unable to initialize frontend: Readline\n",
      "debconf: (This frontend requires a controlling tty.)\n",
      "debconf: falling back to frontend: Teletype\n",
      "dpkg-preconfigure: unable to re-open stdin: \n",
      "\n"
     ]
    }
   ],
   "source": [
    "stdin, stdout, stderr = master_node.exec_command('sudo apt-get update && sudo apt-get install -y apt-transport-https curl')\n",
    "print(stdout.read().decode(\"utf-8\"))\n",
    "print(stderr.read().decode(\"utf-8\"))"
   ]
  },
  {
   "cell_type": "code",
   "execution_count": 152,
   "metadata": {},
   "outputs": [
    {
     "name": "stdout",
     "output_type": "stream",
     "text": [
      "OK\n",
      "\n",
      "Warning: apt-key output should not be parsed (stdout is not a terminal)\n",
      "\n"
     ]
    }
   ],
   "source": [
    "stdin, stdout, stderr = master_node.exec_command('curl -s https://packages.cloud.google.com/apt/doc/apt-key.gpg | sudo apt-key add -')\n",
    "print(stdout.read().decode(\"utf-8\"))\n",
    "print(stderr.read().decode(\"utf-8\"))"
   ]
  },
  {
   "cell_type": "code",
   "execution_count": 153,
   "metadata": {},
   "outputs": [
    {
     "name": "stdout",
     "output_type": "stream",
     "text": [
      "deb https://apt.kubernetes.io/ kubernetes-xenial main\n",
      "\n",
      "\n"
     ]
    }
   ],
   "source": [
    "stdin, stdout, stderr = master_node.exec_command('cat <<EOF | sudo tee /etc/apt/sources.list.d/kubernetes.list\\ndeb https://apt.kubernetes.io/ kubernetes-xenial main\\nEOF\\n')\n",
    "print(stdout.read().decode(\"utf-8\"))\n",
    "print(stderr.read().decode(\"utf-8\"))"
   ]
  },
  {
   "cell_type": "code",
   "execution_count": 154,
   "metadata": {},
   "outputs": [
    {
     "name": "stdout",
     "output_type": "stream",
     "text": [
      "deb https://apt.kubernetes.io/ kubernetes-xenial main\n",
      "\n",
      "\n"
     ]
    }
   ],
   "source": [
    "stdin, stdout, stderr = master_node.exec_command('cat /etc/apt/sources.list.d/kubernetes.list')\n",
    "print(stdout.read().decode(\"utf-8\"))\n",
    "print(stderr.read().decode(\"utf-8\"))"
   ]
  },
  {
   "cell_type": "code",
   "execution_count": 155,
   "metadata": {},
   "outputs": [
    {
     "name": "stdout",
     "output_type": "stream",
     "text": [
      "Hit:1 http://nova.clouds.archive.ubuntu.com/ubuntu focal InRelease\n",
      "Hit:2 http://security.ubuntu.com/ubuntu focal-security InRelease\n",
      "Hit:3 http://nova.clouds.archive.ubuntu.com/ubuntu focal-updates InRelease\n",
      "Hit:4 http://nova.clouds.archive.ubuntu.com/ubuntu focal-backports InRelease\n",
      "Get:5 https://packages.cloud.google.com/apt kubernetes-xenial InRelease [9383 B]\n",
      "Get:6 https://packages.cloud.google.com/apt kubernetes-xenial/main amd64 Packages [49.4 kB]\n",
      "Fetched 58.8 kB in 1s (42.7 kB/s)\n",
      "Reading package lists...\n",
      "\n",
      "\n"
     ]
    }
   ],
   "source": [
    "stdin, stdout, stderr = master_node.exec_command('sudo apt-get update')\n",
    "print(stdout.read().decode(\"utf-8\"))\n",
    "print(stderr.read().decode(\"utf-8\"))"
   ]
  },
  {
   "cell_type": "code",
   "execution_count": 156,
   "metadata": {},
   "outputs": [
    {
     "name": "stdout",
     "output_type": "stream",
     "text": [
      "Reading package lists...\n",
      "Building dependency tree...\n",
      "Reading state information...\n",
      "The following additional packages will be installed:\n",
      "  conntrack cri-tools ebtables kubernetes-cni socat\n",
      "Suggested packages:\n",
      "  nftables\n",
      "The following NEW packages will be installed:\n",
      "  conntrack cri-tools ebtables kubeadm kubectl kubelet kubernetes-cni socat\n",
      "0 upgraded, 8 newly installed, 0 to remove and 119 not upgraded.\n",
      "Need to get 73.7 MB of archives.\n",
      "After this operation, 346 MB of additional disk space will be used.\n",
      "Get:1 http://nova.clouds.archive.ubuntu.com/ubuntu focal/main amd64 conntrack amd64 1:1.4.5-2 [30.3 kB]\n",
      "Get:3 http://nova.clouds.archive.ubuntu.com/ubuntu focal/main amd64 ebtables amd64 2.0.11-3build1 [80.3 kB]\n",
      "Get:5 http://nova.clouds.archive.ubuntu.com/ubuntu focal/main amd64 socat amd64 1.7.3.3-2 [323 kB]\n",
      "Get:2 https://packages.cloud.google.com/apt kubernetes-xenial/main amd64 cri-tools amd64 1.13.0-01 [8775 kB]\n",
      "Get:4 https://packages.cloud.google.com/apt kubernetes-xenial/main amd64 kubernetes-cni amd64 0.8.7-00 [25.0 MB]\n",
      "Get:6 https://packages.cloud.google.com/apt kubernetes-xenial/main amd64 kubelet amd64 1.22.1-00 [21.8 MB]\n",
      "Get:7 https://packages.cloud.google.com/apt kubernetes-xenial/main amd64 kubectl amd64 1.22.1-00 [9036 kB]\n",
      "Get:8 https://packages.cloud.google.com/apt kubernetes-xenial/main amd64 kubeadm amd64 1.22.1-00 [8717 kB]\n",
      "Fetched 73.7 MB in 4s (17.2 MB/s)\n",
      "Selecting previously unselected package conntrack.\n",
      "(Reading database ... 63799 files and directories currently installed.)\n",
      "Preparing to unpack .../0-conntrack_1%3a1.4.5-2_amd64.deb ...\n",
      "Unpacking conntrack (1:1.4.5-2) ...\n",
      "Selecting previously unselected package cri-tools.\n",
      "Preparing to unpack .../1-cri-tools_1.13.0-01_amd64.deb ...\n",
      "Unpacking cri-tools (1.13.0-01) ...\n",
      "Selecting previously unselected package ebtables.\n",
      "Preparing to unpack .../2-ebtables_2.0.11-3build1_amd64.deb ...\n",
      "Unpacking ebtables (2.0.11-3build1) ...\n",
      "Selecting previously unselected package kubernetes-cni.\n",
      "Preparing to unpack .../3-kubernetes-cni_0.8.7-00_amd64.deb ...\n",
      "Unpacking kubernetes-cni (0.8.7-00) ...\n",
      "Selecting previously unselected package socat.\n",
      "Preparing to unpack .../4-socat_1.7.3.3-2_amd64.deb ...\n",
      "Unpacking socat (1.7.3.3-2) ...\n",
      "Selecting previously unselected package kubelet.\n",
      "Preparing to unpack .../5-kubelet_1.22.1-00_amd64.deb ...\n",
      "Unpacking kubelet (1.22.1-00) ...\n",
      "Selecting previously unselected package kubectl.\n",
      "Preparing to unpack .../6-kubectl_1.22.1-00_amd64.deb ...\n",
      "Unpacking kubectl (1.22.1-00) ...\n",
      "Selecting previously unselected package kubeadm.\n",
      "Preparing to unpack .../7-kubeadm_1.22.1-00_amd64.deb ...\n",
      "Unpacking kubeadm (1.22.1-00) ...\n",
      "Setting up conntrack (1:1.4.5-2) ...\n",
      "Setting up kubectl (1.22.1-00) ...\n",
      "Setting up ebtables (2.0.11-3build1) ...\n",
      "Setting up socat (1.7.3.3-2) ...\n",
      "Setting up cri-tools (1.13.0-01) ...\n",
      "Setting up kubernetes-cni (0.8.7-00) ...\n",
      "Setting up kubelet (1.22.1-00) ...\n",
      "Created symlink /etc/systemd/system/multi-user.target.wants/kubelet.service → /lib/systemd/system/kubelet.service.\n",
      "Setting up kubeadm (1.22.1-00) ...\n",
      "Processing triggers for man-db (2.9.1-1) ...\n",
      "\n",
      "debconf: unable to initialize frontend: Dialog\n",
      "debconf: (Dialog frontend will not work on a dumb terminal, an emacs shell buffer, or without a controlling terminal.)\n",
      "debconf: falling back to frontend: Readline\n",
      "debconf: unable to initialize frontend: Readline\n",
      "debconf: (This frontend requires a controlling tty.)\n",
      "debconf: falling back to frontend: Teletype\n",
      "dpkg-preconfigure: unable to re-open stdin: \n",
      "\n"
     ]
    }
   ],
   "source": [
    "stdin, stdout, stderr = master_node.exec_command('sudo apt-get install -y kubelet kubeadm kubectl')\n",
    "print(stdout.read().decode(\"utf-8\"))\n",
    "print(stderr.read().decode(\"utf-8\"))"
   ]
  },
  {
   "cell_type": "code",
   "execution_count": 157,
   "metadata": {},
   "outputs": [
    {
     "name": "stdout",
     "output_type": "stream",
     "text": [
      "kubelet set on hold.\n",
      "kubeadm set on hold.\n",
      "kubectl set on hold.\n",
      "\n",
      "\n"
     ]
    }
   ],
   "source": [
    "stdin, stdout, stderr = master_node.exec_command('sudo apt-mark hold kubelet kubeadm kubectl')\n",
    "print(stdout.read().decode(\"utf-8\"))\n",
    "print(stderr.read().decode(\"utf-8\"))"
   ]
  },
  {
   "cell_type": "code",
   "execution_count": 158,
   "metadata": {},
   "outputs": [
    {
     "name": "stdout",
     "output_type": "stream",
     "text": [
      "\n",
      "\n"
     ]
    }
   ],
   "source": [
    "stdin, stdout, stderr = master_node.exec_command('sudo swapoff -a')\n",
    "print(stdout.read().decode(\"utf-8\"))\n",
    "print(stderr.read().decode(\"utf-8\"))"
   ]
  },
  {
   "cell_type": "markdown",
   "metadata": {},
   "source": [
    "### We also need to do some configuration to docker."
   ]
  },
  {
   "cell_type": "code",
   "execution_count": 159,
   "metadata": {},
   "outputs": [
    {
     "name": "stdout",
     "output_type": "stream",
     "text": [
      "{\n",
      "\"exec-opts\": [\"native.cgroupdriver=systemd\"]\n",
      "}\n",
      "\n",
      "\n"
     ]
    }
   ],
   "source": [
    "stdin, stdout, stderr = master_node.exec_command('cat <<EOF | sudo tee /etc/docker/daemon.json\\n{\\n\"exec-opts\": [\"native.cgroupdriver=systemd\"]\\n}\\nEOF\\n')\n",
    "print(stdout.read().decode(\"utf-8\"))\n",
    "print(stderr.read().decode(\"utf-8\"))"
   ]
  },
  {
   "cell_type": "code",
   "execution_count": 160,
   "metadata": {},
   "outputs": [
    {
     "name": "stdout",
     "output_type": "stream",
     "text": [
      "\n",
      "\n"
     ]
    }
   ],
   "source": [
    "stdin, stdout, stderr = master_node.exec_command('sudo systemctl enable docker && sudo systemctl daemon-reload && sudo systemctl restart docker')\n",
    "print(stdout.read().decode(\"utf-8\"))\n",
    "print(stderr.read().decode(\"utf-8\"))"
   ]
  },
  {
   "cell_type": "markdown",
   "metadata": {},
   "source": [
    "### The setup part is complete. Now, we issue the kubeadm init command below:"
   ]
  },
  {
   "cell_type": "code",
   "execution_count": 161,
   "metadata": {},
   "outputs": [
    {
     "name": "stdout",
     "output_type": "stream",
     "text": [
      "[init] Using Kubernetes version: v1.22.1\n",
      "[preflight] Running pre-flight checks\n",
      "[preflight] Pulling images required for setting up a Kubernetes cluster\n",
      "[preflight] This might take a minute or two, depending on the speed of your internet connection\n",
      "[preflight] You can also perform this action in beforehand using 'kubeadm config images pull'\n",
      "[certs] Using certificateDir folder \"/etc/kubernetes/pki\"\n",
      "[certs] Generating \"ca\" certificate and key\n",
      "[certs] Generating \"apiserver\" certificate and key\n",
      "[certs] apiserver serving cert is signed for DNS names [2467ac38-fdd6-4b85-a46d-9c1d8cc969ac-master-node kubernetes kubernetes.default kubernetes.default.svc kubernetes.default.svc.cluster.local] and IPs [10.96.0.1 10.20.4.74]\n",
      "[certs] Generating \"apiserver-kubelet-client\" certificate and key\n",
      "[certs] Generating \"front-proxy-ca\" certificate and key\n",
      "[certs] Generating \"front-proxy-client\" certificate and key\n",
      "[certs] Generating \"etcd/ca\" certificate and key\n",
      "[certs] Generating \"etcd/server\" certificate and key\n",
      "[certs] etcd/server serving cert is signed for DNS names [2467ac38-fdd6-4b85-a46d-9c1d8cc969ac-master-node localhost] and IPs [10.20.4.74 127.0.0.1 ::1]\n",
      "[certs] Generating \"etcd/peer\" certificate and key\n",
      "[certs] etcd/peer serving cert is signed for DNS names [2467ac38-fdd6-4b85-a46d-9c1d8cc969ac-master-node localhost] and IPs [10.20.4.74 127.0.0.1 ::1]\n",
      "[certs] Generating \"etcd/healthcheck-client\" certificate and key\n",
      "[certs] Generating \"apiserver-etcd-client\" certificate and key\n",
      "[certs] Generating \"sa\" key and public key\n",
      "[kubeconfig] Using kubeconfig folder \"/etc/kubernetes\"\n",
      "[kubeconfig] Writing \"admin.conf\" kubeconfig file\n",
      "[kubeconfig] Writing \"kubelet.conf\" kubeconfig file\n",
      "[kubeconfig] Writing \"controller-manager.conf\" kubeconfig file\n",
      "[kubeconfig] Writing \"scheduler.conf\" kubeconfig file\n",
      "[kubelet-start] Writing kubelet environment file with flags to file \"/var/lib/kubelet/kubeadm-flags.env\"\n",
      "[kubelet-start] Writing kubelet configuration to file \"/var/lib/kubelet/config.yaml\"\n",
      "[kubelet-start] Starting the kubelet\n",
      "[control-plane] Using manifest folder \"/etc/kubernetes/manifests\"\n",
      "[control-plane] Creating static Pod manifest for \"kube-apiserver\"\n",
      "[control-plane] Creating static Pod manifest for \"kube-controller-manager\"\n",
      "[control-plane] Creating static Pod manifest for \"kube-scheduler\"\n",
      "[etcd] Creating static Pod manifest for local etcd in \"/etc/kubernetes/manifests\"\n",
      "[wait-control-plane] Waiting for the kubelet to boot up the control plane as static Pods from directory \"/etc/kubernetes/manifests\". This can take up to 4m0s\n",
      "[apiclient] All control plane components are healthy after 8.002322 seconds\n",
      "[upload-config] Storing the configuration used in ConfigMap \"kubeadm-config\" in the \"kube-system\" Namespace\n",
      "[kubelet] Creating a ConfigMap \"kubelet-config-1.22\" in namespace kube-system with the configuration for the kubelets in the cluster\n",
      "[upload-certs] Skipping phase. Please see --upload-certs\n",
      "[mark-control-plane] Marking the node 2467ac38-fdd6-4b85-a46d-9c1d8cc969ac-master-node as control-plane by adding the labels: [node-role.kubernetes.io/master(deprecated) node-role.kubernetes.io/control-plane node.kubernetes.io/exclude-from-external-load-balancers]\n",
      "[mark-control-plane] Marking the node 2467ac38-fdd6-4b85-a46d-9c1d8cc969ac-master-node as control-plane by adding the taints [node-role.kubernetes.io/master:NoSchedule]\n",
      "[bootstrap-token] Using token: mu8vut.axa0qoxg2htq605u\n",
      "[bootstrap-token] Configuring bootstrap tokens, cluster-info ConfigMap, RBAC Roles\n",
      "[bootstrap-token] configured RBAC rules to allow Node Bootstrap tokens to get nodes\n",
      "[bootstrap-token] configured RBAC rules to allow Node Bootstrap tokens to post CSRs in order for nodes to get long term certificate credentials\n",
      "[bootstrap-token] configured RBAC rules to allow the csrapprover controller automatically approve CSRs from a Node Bootstrap Token\n",
      "[bootstrap-token] configured RBAC rules to allow certificate rotation for all node client certificates in the cluster\n",
      "[bootstrap-token] Creating the \"cluster-info\" ConfigMap in the \"kube-public\" namespace\n",
      "[kubelet-finalize] Updating \"/etc/kubernetes/kubelet.conf\" to point to a rotatable kubelet client certificate and key\n",
      "[addons] Applied essential addon: CoreDNS\n",
      "[addons] Applied essential addon: kube-proxy\n",
      "\n",
      "Your Kubernetes control-plane has initialized successfully!\n",
      "\n",
      "To start using your cluster, you need to run the following as a regular user:\n",
      "\n",
      "  mkdir -p $HOME/.kube\n",
      "  sudo cp -i /etc/kubernetes/admin.conf $HOME/.kube/config\n",
      "  sudo chown $(id -u):$(id -g) $HOME/.kube/config\n",
      "\n",
      "Alternatively, if you are the root user, you can run:\n",
      "\n",
      "  export KUBECONFIG=/etc/kubernetes/admin.conf\n",
      "\n",
      "You should now deploy a pod network to the cluster.\n",
      "Run \"kubectl apply -f [podnetwork].yaml\" with one of the options listed at:\n",
      "  https://kubernetes.io/docs/concepts/cluster-administration/addons/\n",
      "\n",
      "Then you can join any number of worker nodes by running the following on each as root:\n",
      "\n",
      "kubeadm join 10.20.4.74:6443 --token mu8vut.axa0qoxg2htq605u \\\n",
      "\t--discovery-token-ca-cert-hash sha256:930292d07bf29b1821b096359b5cdf420cfe9073b61f0cbba4a3f9d4e1fbe76a \n",
      "\n",
      "\n"
     ]
    }
   ],
   "source": [
    "stdin, stdout, stderr = master_node.exec_command('sudo kubeadm init --pod-network-cidr=192.168.0.0/16 --apiserver-advertise-address=0.0.0.0')\n",
    "print(stdout.read().decode(\"utf-8\"))\n",
    "print(stderr.read().decode(\"utf-8\"))"
   ]
  },
  {
   "cell_type": "markdown",
   "metadata": {},
   "source": [
    "### As stated, the initialization was successful. Note that we need to save the join command somewhere, because we will need to use it later at the client."
   ]
  },
  {
   "cell_type": "code",
   "execution_count": 162,
   "metadata": {},
   "outputs": [
    {
     "name": "stdout",
     "output_type": "stream",
     "text": [
      "\n",
      "\n"
     ]
    }
   ],
   "source": [
    "stdin, stdout, stderr = master_node.exec_command('mkdir -p $HOME/.kube')\n",
    "print(stdout.read().decode(\"utf-8\"))\n",
    "print(stderr.read().decode(\"utf-8\"))"
   ]
  },
  {
   "cell_type": "code",
   "execution_count": 163,
   "metadata": {},
   "outputs": [
    {
     "name": "stdout",
     "output_type": "stream",
     "text": [
      "\n",
      "\n"
     ]
    }
   ],
   "source": [
    "stdin, stdout, stderr = master_node.exec_command('sudo cp -i /etc/kubernetes/admin.conf $HOME/.kube/config')\n",
    "print(stdout.read().decode(\"utf-8\"))\n",
    "print(stderr.read().decode(\"utf-8\"))"
   ]
  },
  {
   "cell_type": "code",
   "execution_count": 164,
   "metadata": {},
   "outputs": [
    {
     "name": "stdout",
     "output_type": "stream",
     "text": [
      "\n",
      "\n"
     ]
    }
   ],
   "source": [
    "stdin, stdout, stderr = master_node.exec_command('sudo chown $(id -u):$(id -g) $HOME/.kube/config')\n",
    "print(stdout.read().decode(\"utf-8\"))\n",
    "print(stderr.read().decode(\"utf-8\"))"
   ]
  },
  {
   "cell_type": "code",
   "execution_count": 165,
   "metadata": {},
   "outputs": [
    {
     "name": "stdout",
     "output_type": "stream",
     "text": [
      "configmap/calico-config created\n",
      "customresourcedefinition.apiextensions.k8s.io/bgpconfigurations.crd.projectcalico.org created\n",
      "customresourcedefinition.apiextensions.k8s.io/bgppeers.crd.projectcalico.org created\n",
      "customresourcedefinition.apiextensions.k8s.io/blockaffinities.crd.projectcalico.org created\n",
      "customresourcedefinition.apiextensions.k8s.io/clusterinformations.crd.projectcalico.org created\n",
      "customresourcedefinition.apiextensions.k8s.io/felixconfigurations.crd.projectcalico.org created\n",
      "customresourcedefinition.apiextensions.k8s.io/globalnetworkpolicies.crd.projectcalico.org created\n",
      "customresourcedefinition.apiextensions.k8s.io/globalnetworksets.crd.projectcalico.org created\n",
      "customresourcedefinition.apiextensions.k8s.io/hostendpoints.crd.projectcalico.org created\n",
      "customresourcedefinition.apiextensions.k8s.io/ipamblocks.crd.projectcalico.org created\n",
      "customresourcedefinition.apiextensions.k8s.io/ipamconfigs.crd.projectcalico.org created\n",
      "customresourcedefinition.apiextensions.k8s.io/ipamhandles.crd.projectcalico.org created\n",
      "customresourcedefinition.apiextensions.k8s.io/ippools.crd.projectcalico.org created\n",
      "customresourcedefinition.apiextensions.k8s.io/kubecontrollersconfigurations.crd.projectcalico.org created\n",
      "customresourcedefinition.apiextensions.k8s.io/networkpolicies.crd.projectcalico.org created\n",
      "customresourcedefinition.apiextensions.k8s.io/networksets.crd.projectcalico.org created\n",
      "clusterrole.rbac.authorization.k8s.io/calico-kube-controllers created\n",
      "clusterrolebinding.rbac.authorization.k8s.io/calico-kube-controllers created\n",
      "clusterrole.rbac.authorization.k8s.io/calico-node created\n",
      "clusterrolebinding.rbac.authorization.k8s.io/calico-node created\n",
      "daemonset.apps/calico-node created\n",
      "serviceaccount/calico-node created\n",
      "deployment.apps/calico-kube-controllers created\n",
      "serviceaccount/calico-kube-controllers created\n",
      "poddisruptionbudget.policy/calico-kube-controllers created\n",
      "\n",
      "Warning: policy/v1beta1 PodDisruptionBudget is deprecated in v1.21+, unavailable in v1.25+; use policy/v1 PodDisruptionBudget\n",
      "\n"
     ]
    }
   ],
   "source": [
    "stdin, stdout, stderr = master_node.exec_command('kubectl apply -f https://docs.projectcalico.org/manifests/calico.yaml')\n",
    "print(stdout.read().decode(\"utf-8\"))\n",
    "print(stderr.read().decode(\"utf-8\"))"
   ]
  },
  {
   "cell_type": "code",
   "execution_count": 166,
   "metadata": {},
   "outputs": [
    {
     "name": "stdout",
     "output_type": "stream",
     "text": [
      "NAME                                               STATUS     ROLES                  AGE   VERSION\n",
      "2467ac38-fdd6-4b85-a46d-9c1d8cc969ac-master-node   NotReady   control-plane,master   33s   v1.22.1\n",
      "\n",
      "\n"
     ]
    }
   ],
   "source": [
    "stdin, stdout, stderr = master_node.exec_command('kubectl get nodes')\n",
    "print(stdout.read().decode(\"utf-8\"))\n",
    "print(stderr.read().decode(\"utf-8\"))"
   ]
  },
  {
   "cell_type": "markdown",
   "metadata": {},
   "source": [
    "### We need to wait for just a few more seconds for the STATUS to change to Ready."
   ]
  },
  {
   "cell_type": "code",
   "execution_count": 169,
   "metadata": {},
   "outputs": [
    {
     "name": "stdout",
     "output_type": "stream",
     "text": [
      "NAME                                               STATUS   ROLES                  AGE   VERSION\n",
      "2467ac38-fdd6-4b85-a46d-9c1d8cc969ac-master-node   Ready    control-plane,master   42s   v1.22.1\n",
      "\n",
      "\n"
     ]
    }
   ],
   "source": [
    "stdin, stdout, stderr = master_node.exec_command('kubectl get nodes')\n",
    "print(stdout.read().decode(\"utf-8\"))\n",
    "print(stderr.read().decode(\"utf-8\"))"
   ]
  },
  {
   "cell_type": "markdown",
   "metadata": {},
   "source": [
    "### It is now ready."
   ]
  },
  {
   "cell_type": "markdown",
   "metadata": {},
   "source": [
    "## Client side setup."
   ]
  },
  {
   "cell_type": "markdown",
   "metadata": {},
   "source": [
    "### We are now done with the server. Let's do the client. Remember, we are following the instructions in the link that we have previously mentioned."
   ]
  },
  {
   "cell_type": "code",
   "execution_count": 170,
   "metadata": {},
   "outputs": [
    {
     "name": "stdout",
     "output_type": "stream",
     "text": [
      "Get:1 http://security.ubuntu.com/ubuntu focal-security InRelease [114 kB]\n",
      "Hit:2 http://nova.clouds.archive.ubuntu.com/ubuntu focal InRelease\n",
      "Get:3 http://nova.clouds.archive.ubuntu.com/ubuntu focal-updates InRelease [114 kB]\n",
      "Get:4 http://security.ubuntu.com/ubuntu focal-security/main amd64 Packages [857 kB]\n",
      "Get:5 http://nova.clouds.archive.ubuntu.com/ubuntu focal-backports InRelease [101 kB]\n",
      "Get:6 http://nova.clouds.archive.ubuntu.com/ubuntu focal/universe amd64 Packages [8628 kB]\n",
      "Get:7 http://security.ubuntu.com/ubuntu focal-security/main Translation-en [165 kB]\n",
      "Get:8 http://security.ubuntu.com/ubuntu focal-security/main amd64 c-n-f Metadata [8600 B]\n",
      "Get:9 http://security.ubuntu.com/ubuntu focal-security/restricted amd64 Packages [403 kB]\n",
      "Get:10 http://security.ubuntu.com/ubuntu focal-security/restricted Translation-en [57.7 kB]\n",
      "Get:11 http://security.ubuntu.com/ubuntu focal-security/restricted amd64 c-n-f Metadata [500 B]\n",
      "Get:12 http://security.ubuntu.com/ubuntu focal-security/universe amd64 Packages [638 kB]\n",
      "Get:13 http://security.ubuntu.com/ubuntu focal-security/universe Translation-en [101 kB]\n",
      "Get:14 http://security.ubuntu.com/ubuntu focal-security/universe amd64 c-n-f Metadata [12.3 kB]\n",
      "Get:15 http://security.ubuntu.com/ubuntu focal-security/multiverse amd64 Packages [21.9 kB]\n",
      "Get:16 http://security.ubuntu.com/ubuntu focal-security/multiverse Translation-en [4948 B]\n",
      "Get:17 http://security.ubuntu.com/ubuntu focal-security/multiverse amd64 c-n-f Metadata [540 B]\n",
      "Get:18 http://nova.clouds.archive.ubuntu.com/ubuntu focal/universe Translation-en [5124 kB]\n",
      "Get:19 http://nova.clouds.archive.ubuntu.com/ubuntu focal/universe amd64 c-n-f Metadata [265 kB]\n",
      "Get:20 http://nova.clouds.archive.ubuntu.com/ubuntu focal/multiverse amd64 Packages [144 kB]\n",
      "Get:21 http://nova.clouds.archive.ubuntu.com/ubuntu focal/multiverse Translation-en [104 kB]\n",
      "Get:22 http://nova.clouds.archive.ubuntu.com/ubuntu focal/multiverse amd64 c-n-f Metadata [9136 B]\n",
      "Get:23 http://nova.clouds.archive.ubuntu.com/ubuntu focal-updates/main amd64 Packages [1204 kB]\n",
      "Get:24 http://nova.clouds.archive.ubuntu.com/ubuntu focal-updates/main Translation-en [257 kB]\n",
      "Get:25 http://nova.clouds.archive.ubuntu.com/ubuntu focal-updates/main amd64 c-n-f Metadata [14.1 kB]\n",
      "Get:26 http://nova.clouds.archive.ubuntu.com/ubuntu focal-updates/restricted amd64 Packages [442 kB]\n",
      "Get:27 http://nova.clouds.archive.ubuntu.com/ubuntu focal-updates/restricted Translation-en [63.3 kB]\n",
      "Get:28 http://nova.clouds.archive.ubuntu.com/ubuntu focal-updates/restricted amd64 c-n-f Metadata [500 B]\n",
      "Get:29 http://nova.clouds.archive.ubuntu.com/ubuntu focal-updates/universe amd64 Packages [854 kB]\n",
      "Get:30 http://nova.clouds.archive.ubuntu.com/ubuntu focal-updates/universe Translation-en [181 kB]\n",
      "Get:31 http://nova.clouds.archive.ubuntu.com/ubuntu focal-updates/universe amd64 c-n-f Metadata [18.8 kB]\n",
      "Get:32 http://nova.clouds.archive.ubuntu.com/ubuntu focal-updates/multiverse amd64 Packages [24.6 kB]\n",
      "Get:33 http://nova.clouds.archive.ubuntu.com/ubuntu focal-updates/multiverse Translation-en [6776 B]\n",
      "Get:34 http://nova.clouds.archive.ubuntu.com/ubuntu focal-updates/multiverse amd64 c-n-f Metadata [620 B]\n",
      "Get:35 http://nova.clouds.archive.ubuntu.com/ubuntu focal-backports/main amd64 Packages [2568 B]\n",
      "Get:36 http://nova.clouds.archive.ubuntu.com/ubuntu focal-backports/main Translation-en [1120 B]\n",
      "Get:37 http://nova.clouds.archive.ubuntu.com/ubuntu focal-backports/main amd64 c-n-f Metadata [400 B]\n",
      "Get:38 http://nova.clouds.archive.ubuntu.com/ubuntu focal-backports/restricted amd64 c-n-f Metadata [116 B]\n",
      "Get:39 http://nova.clouds.archive.ubuntu.com/ubuntu focal-backports/universe amd64 Packages [5812 B]\n",
      "Get:40 http://nova.clouds.archive.ubuntu.com/ubuntu focal-backports/universe Translation-en [2068 B]\n",
      "Get:41 http://nova.clouds.archive.ubuntu.com/ubuntu focal-backports/universe amd64 c-n-f Metadata [288 B]\n",
      "Get:42 http://nova.clouds.archive.ubuntu.com/ubuntu focal-backports/multiverse amd64 c-n-f Metadata [116 B]\n",
      "Fetched 20.0 MB in 3s (7155 kB/s)\n",
      "Reading package lists...\n",
      "\n",
      "\n"
     ]
    }
   ],
   "source": [
    "stdin, stdout, stderr = client_node.exec_command('sudo apt-get update')\n",
    "print(stdout.read().decode(\"utf-8\"))\n",
    "print(stderr.read().decode(\"utf-8\"))"
   ]
  },
  {
   "cell_type": "code",
   "execution_count": 171,
   "metadata": {},
   "outputs": [
    {
     "name": "stdout",
     "output_type": "stream",
     "text": [
      "Reading package lists...\n",
      "Building dependency tree...\n",
      "Reading state information...\n",
      "The following additional packages will be installed:\n",
      "  bridge-utils containerd dns-root-data dnsmasq-base libidn11 pigz runc\n",
      "  ubuntu-fan\n",
      "Suggested packages:\n",
      "  ifupdown aufs-tools cgroupfs-mount | cgroup-lite debootstrap docker-doc\n",
      "  rinse zfs-fuse | zfsutils\n",
      "The following NEW packages will be installed:\n",
      "  bridge-utils containerd dns-root-data dnsmasq-base docker.io libidn11 pigz\n",
      "  runc ubuntu-fan\n",
      "0 upgraded, 9 newly installed, 0 to remove and 121 not upgraded.\n",
      "Need to get 74.4 MB of archives.\n",
      "After this operation, 360 MB of additional disk space will be used.\n",
      "Get:1 http://nova.clouds.archive.ubuntu.com/ubuntu focal/universe amd64 pigz amd64 2.4-1 [57.4 kB]\n",
      "Get:2 http://nova.clouds.archive.ubuntu.com/ubuntu focal/main amd64 bridge-utils amd64 1.6-2ubuntu1 [30.5 kB]\n",
      "Get:3 http://nova.clouds.archive.ubuntu.com/ubuntu focal-updates/main amd64 runc amd64 1.0.0~rc95-0ubuntu1~20.04.2 [4087 kB]\n",
      "Get:4 http://nova.clouds.archive.ubuntu.com/ubuntu focal-updates/main amd64 containerd amd64 1.5.2-0ubuntu1~20.04.2 [32.9 MB]\n",
      "Get:5 http://nova.clouds.archive.ubuntu.com/ubuntu focal/main amd64 dns-root-data all 2019052802 [5300 B]\n",
      "Get:6 http://nova.clouds.archive.ubuntu.com/ubuntu focal/main amd64 libidn11 amd64 1.33-2.2ubuntu2 [46.2 kB]\n",
      "Get:7 http://nova.clouds.archive.ubuntu.com/ubuntu focal-updates/main amd64 dnsmasq-base amd64 2.80-1.1ubuntu1.4 [315 kB]\n",
      "Get:8 http://nova.clouds.archive.ubuntu.com/ubuntu focal-updates/universe amd64 docker.io amd64 20.10.7-0ubuntu1~20.04.1 [36.9 MB]\n",
      "Get:9 http://nova.clouds.archive.ubuntu.com/ubuntu focal/main amd64 ubuntu-fan all 0.12.13 [34.5 kB]\n",
      "Fetched 74.4 MB in 3s (24.8 MB/s)\n",
      "Selecting previously unselected package pigz.\n",
      "(Reading database ... 63441 files and directories currently installed.)\n",
      "Preparing to unpack .../0-pigz_2.4-1_amd64.deb ...\n",
      "Unpacking pigz (2.4-1) ...\n",
      "Selecting previously unselected package bridge-utils.\n",
      "Preparing to unpack .../1-bridge-utils_1.6-2ubuntu1_amd64.deb ...\n",
      "Unpacking bridge-utils (1.6-2ubuntu1) ...\n",
      "Selecting previously unselected package runc.\n",
      "Preparing to unpack .../2-runc_1.0.0~rc95-0ubuntu1~20.04.2_amd64.deb ...\n",
      "Unpacking runc (1.0.0~rc95-0ubuntu1~20.04.2) ...\n",
      "Selecting previously unselected package containerd.\n",
      "Preparing to unpack .../3-containerd_1.5.2-0ubuntu1~20.04.2_amd64.deb ...\n",
      "Unpacking containerd (1.5.2-0ubuntu1~20.04.2) ...\n",
      "Selecting previously unselected package dns-root-data.\n",
      "Preparing to unpack .../4-dns-root-data_2019052802_all.deb ...\n",
      "Unpacking dns-root-data (2019052802) ...\n",
      "Selecting previously unselected package libidn11:amd64.\n",
      "Preparing to unpack .../5-libidn11_1.33-2.2ubuntu2_amd64.deb ...\n",
      "Unpacking libidn11:amd64 (1.33-2.2ubuntu2) ...\n",
      "Selecting previously unselected package dnsmasq-base.\n",
      "Preparing to unpack .../6-dnsmasq-base_2.80-1.1ubuntu1.4_amd64.deb ...\n",
      "Unpacking dnsmasq-base (2.80-1.1ubuntu1.4) ...\n",
      "Selecting previously unselected package docker.io.\n",
      "Preparing to unpack .../7-docker.io_20.10.7-0ubuntu1~20.04.1_amd64.deb ...\n",
      "Unpacking docker.io (20.10.7-0ubuntu1~20.04.1) ...\n",
      "Selecting previously unselected package ubuntu-fan.\n",
      "Preparing to unpack .../8-ubuntu-fan_0.12.13_all.deb ...\n",
      "Unpacking ubuntu-fan (0.12.13) ...\n",
      "Setting up runc (1.0.0~rc95-0ubuntu1~20.04.2) ...\n",
      "Setting up dns-root-data (2019052802) ...\n",
      "Setting up libidn11:amd64 (1.33-2.2ubuntu2) ...\n",
      "Setting up bridge-utils (1.6-2ubuntu1) ...\n",
      "debconf: unable to initialize frontend: Dialog\n",
      "debconf: (Dialog frontend will not work on a dumb terminal, an emacs shell buffer, or without a controlling terminal.)\n",
      "debconf: falling back to frontend: Readline\n",
      "Setting up pigz (2.4-1) ...\n",
      "Setting up containerd (1.5.2-0ubuntu1~20.04.2) ...\n",
      "Created symlink /etc/systemd/system/multi-user.target.wants/containerd.service → /lib/systemd/system/containerd.service.\n",
      "Setting up docker.io (20.10.7-0ubuntu1~20.04.1) ...\n",
      "debconf: unable to initialize frontend: Dialog\n",
      "debconf: (Dialog frontend will not work on a dumb terminal, an emacs shell buffer, or without a controlling terminal.)\n",
      "debconf: falling back to frontend: Readline\n",
      "Adding group `docker' (GID 119) ...\n",
      "Done.\n",
      "Created symlink /etc/systemd/system/multi-user.target.wants/docker.service → /lib/systemd/system/docker.service.\n",
      "Created symlink /etc/systemd/system/sockets.target.wants/docker.socket → /lib/systemd/system/docker.socket.\n",
      "Setting up dnsmasq-base (2.80-1.1ubuntu1.4) ...\n",
      "Setting up ubuntu-fan (0.12.13) ...\n",
      "Created symlink /etc/systemd/system/multi-user.target.wants/ubuntu-fan.service → /lib/systemd/system/ubuntu-fan.service.\n",
      "Processing triggers for systemd (245.4-4ubuntu3.5) ...\n",
      "Processing triggers for man-db (2.9.1-1) ...\n",
      "Processing triggers for dbus (1.12.16-2ubuntu2.1) ...\n",
      "Processing triggers for libc-bin (2.31-0ubuntu9.2) ...\n",
      "\n",
      "debconf: unable to initialize frontend: Dialog\n",
      "debconf: (Dialog frontend will not work on a dumb terminal, an emacs shell buffer, or without a controlling terminal.)\n",
      "debconf: falling back to frontend: Readline\n",
      "debconf: unable to initialize frontend: Readline\n",
      "debconf: (This frontend requires a controlling tty.)\n",
      "debconf: falling back to frontend: Teletype\n",
      "dpkg-preconfigure: unable to re-open stdin: \n",
      "\n"
     ]
    }
   ],
   "source": [
    "stdin, stdout, stderr = client_node.exec_command('sudo apt-get install -y docker.io')\n",
    "print(stdout.read().decode(\"utf-8\"))\n",
    "print(stderr.read().decode(\"utf-8\"))"
   ]
  },
  {
   "cell_type": "code",
   "execution_count": 172,
   "metadata": {},
   "outputs": [
    {
     "name": "stdout",
     "output_type": "stream",
     "text": [
      "Hit:1 http://security.ubuntu.com/ubuntu focal-security InRelease\n",
      "Hit:2 http://nova.clouds.archive.ubuntu.com/ubuntu focal InRelease\n",
      "Hit:3 http://nova.clouds.archive.ubuntu.com/ubuntu focal-updates InRelease\n",
      "Hit:4 http://nova.clouds.archive.ubuntu.com/ubuntu focal-backports InRelease\n",
      "Reading package lists...\n",
      "Reading package lists...\n",
      "Building dependency tree...\n",
      "Reading state information...\n",
      "The following additional packages will be installed:\n",
      "  libcurl4\n",
      "The following NEW packages will be installed:\n",
      "  apt-transport-https\n",
      "The following packages will be upgraded:\n",
      "  curl libcurl4\n",
      "2 upgraded, 1 newly installed, 0 to remove and 119 not upgraded.\n",
      "Need to get 400 kB of archives.\n",
      "After this operation, 162 kB of additional disk space will be used.\n",
      "Get:1 http://nova.clouds.archive.ubuntu.com/ubuntu focal-updates/universe amd64 apt-transport-https all 2.0.6 [4680 B]\n",
      "Get:2 http://nova.clouds.archive.ubuntu.com/ubuntu focal-updates/main amd64 curl amd64 7.68.0-1ubuntu2.6 [161 kB]\n",
      "Get:3 http://nova.clouds.archive.ubuntu.com/ubuntu focal-updates/main amd64 libcurl4 amd64 7.68.0-1ubuntu2.6 [234 kB]\n",
      "Fetched 400 kB in 1s (591 kB/s)\n",
      "Selecting previously unselected package apt-transport-https.\n",
      "(Reading database ... 63795 files and directories currently installed.)\n",
      "Preparing to unpack .../apt-transport-https_2.0.6_all.deb ...\n",
      "Unpacking apt-transport-https (2.0.6) ...\n",
      "Preparing to unpack .../curl_7.68.0-1ubuntu2.6_amd64.deb ...\n",
      "Unpacking curl (7.68.0-1ubuntu2.6) over (7.68.0-1ubuntu2.4) ...\n",
      "Preparing to unpack .../libcurl4_7.68.0-1ubuntu2.6_amd64.deb ...\n",
      "Unpacking libcurl4:amd64 (7.68.0-1ubuntu2.6) over (7.68.0-1ubuntu2.4) ...\n",
      "Setting up apt-transport-https (2.0.6) ...\n",
      "Setting up libcurl4:amd64 (7.68.0-1ubuntu2.6) ...\n",
      "Setting up curl (7.68.0-1ubuntu2.6) ...\n",
      "Processing triggers for man-db (2.9.1-1) ...\n",
      "Processing triggers for libc-bin (2.31-0ubuntu9.2) ...\n",
      "\n",
      "debconf: unable to initialize frontend: Dialog\n",
      "debconf: (Dialog frontend will not work on a dumb terminal, an emacs shell buffer, or without a controlling terminal.)\n",
      "debconf: falling back to frontend: Readline\n",
      "debconf: unable to initialize frontend: Readline\n",
      "debconf: (This frontend requires a controlling tty.)\n",
      "debconf: falling back to frontend: Teletype\n",
      "dpkg-preconfigure: unable to re-open stdin: \n",
      "\n"
     ]
    }
   ],
   "source": [
    "stdin, stdout, stderr = client_node.exec_command('sudo apt-get update && sudo apt-get install -y apt-transport-https curl')\n",
    "print(stdout.read().decode(\"utf-8\"))\n",
    "print(stderr.read().decode(\"utf-8\"))"
   ]
  },
  {
   "cell_type": "code",
   "execution_count": 173,
   "metadata": {},
   "outputs": [
    {
     "name": "stdout",
     "output_type": "stream",
     "text": [
      "OK\n",
      "\n",
      "Warning: apt-key output should not be parsed (stdout is not a terminal)\n",
      "\n"
     ]
    }
   ],
   "source": [
    "stdin, stdout, stderr = client_node.exec_command('curl -s https://packages.cloud.google.com/apt/doc/apt-key.gpg | sudo apt-key add -')\n",
    "print(stdout.read().decode(\"utf-8\"))\n",
    "print(stderr.read().decode(\"utf-8\"))"
   ]
  },
  {
   "cell_type": "code",
   "execution_count": 174,
   "metadata": {},
   "outputs": [
    {
     "name": "stdout",
     "output_type": "stream",
     "text": [
      "deb https://apt.kubernetes.io/ kubernetes-xenial main\n",
      "\n",
      "\n"
     ]
    }
   ],
   "source": [
    "stdin, stdout, stderr = client_node.exec_command('cat <<EOF | sudo tee /etc/apt/sources.list.d/kubernetes.list\\ndeb https://apt.kubernetes.io/ kubernetes-xenial main\\nEOF\\n')\n",
    "print(stdout.read().decode(\"utf-8\"))\n",
    "print(stderr.read().decode(\"utf-8\"))"
   ]
  },
  {
   "cell_type": "code",
   "execution_count": 175,
   "metadata": {},
   "outputs": [
    {
     "name": "stdout",
     "output_type": "stream",
     "text": [
      "deb https://apt.kubernetes.io/ kubernetes-xenial main\n",
      "\n",
      "\n"
     ]
    }
   ],
   "source": [
    "stdin, stdout, stderr = client_node.exec_command('cat /etc/apt/sources.list.d/kubernetes.list')\n",
    "print(stdout.read().decode(\"utf-8\"))\n",
    "print(stderr.read().decode(\"utf-8\"))"
   ]
  },
  {
   "cell_type": "code",
   "execution_count": 176,
   "metadata": {},
   "outputs": [
    {
     "name": "stdout",
     "output_type": "stream",
     "text": [
      "Hit:1 http://security.ubuntu.com/ubuntu focal-security InRelease\n",
      "Hit:3 http://nova.clouds.archive.ubuntu.com/ubuntu focal InRelease\n",
      "Hit:4 http://nova.clouds.archive.ubuntu.com/ubuntu focal-updates InRelease\n",
      "Hit:5 http://nova.clouds.archive.ubuntu.com/ubuntu focal-backports InRelease\n",
      "Get:2 https://packages.cloud.google.com/apt kubernetes-xenial InRelease [9383 B]\n",
      "Get:6 https://packages.cloud.google.com/apt kubernetes-xenial/main amd64 Packages [49.4 kB]\n",
      "Fetched 58.8 kB in 1s (48.0 kB/s)\n",
      "Reading package lists...\n",
      "\n",
      "\n"
     ]
    }
   ],
   "source": [
    "stdin, stdout, stderr = client_node.exec_command('sudo apt-get update')\n",
    "print(stdout.read().decode(\"utf-8\"))\n",
    "print(stderr.read().decode(\"utf-8\"))"
   ]
  },
  {
   "cell_type": "code",
   "execution_count": 177,
   "metadata": {},
   "outputs": [
    {
     "name": "stdout",
     "output_type": "stream",
     "text": [
      "Reading package lists...\n",
      "Building dependency tree...\n",
      "Reading state information...\n",
      "The following additional packages will be installed:\n",
      "  conntrack cri-tools ebtables kubernetes-cni socat\n",
      "Suggested packages:\n",
      "  nftables\n",
      "The following NEW packages will be installed:\n",
      "  conntrack cri-tools ebtables kubeadm kubectl kubelet kubernetes-cni socat\n",
      "0 upgraded, 8 newly installed, 0 to remove and 119 not upgraded.\n",
      "Need to get 73.7 MB of archives.\n",
      "After this operation, 346 MB of additional disk space will be used.\n",
      "Get:5 http://nova.clouds.archive.ubuntu.com/ubuntu focal/main amd64 conntrack amd64 1:1.4.5-2 [30.3 kB]\n",
      "Get:7 http://nova.clouds.archive.ubuntu.com/ubuntu focal/main amd64 ebtables amd64 2.0.11-3build1 [80.3 kB]\n",
      "Get:8 http://nova.clouds.archive.ubuntu.com/ubuntu focal/main amd64 socat amd64 1.7.3.3-2 [323 kB]\n",
      "Get:1 https://packages.cloud.google.com/apt kubernetes-xenial/main amd64 cri-tools amd64 1.13.0-01 [8775 kB]\n",
      "Get:2 https://packages.cloud.google.com/apt kubernetes-xenial/main amd64 kubernetes-cni amd64 0.8.7-00 [25.0 MB]\n",
      "Get:3 https://packages.cloud.google.com/apt kubernetes-xenial/main amd64 kubelet amd64 1.22.1-00 [21.8 MB]\n",
      "Get:4 https://packages.cloud.google.com/apt kubernetes-xenial/main amd64 kubectl amd64 1.22.1-00 [9036 kB]\n",
      "Get:6 https://packages.cloud.google.com/apt kubernetes-xenial/main amd64 kubeadm amd64 1.22.1-00 [8717 kB]\n",
      "Fetched 73.7 MB in 4s (16.7 MB/s)\n",
      "Selecting previously unselected package conntrack.\n",
      "(Reading database ... 63799 files and directories currently installed.)\n",
      "Preparing to unpack .../0-conntrack_1%3a1.4.5-2_amd64.deb ...\n",
      "Unpacking conntrack (1:1.4.5-2) ...\n",
      "Selecting previously unselected package cri-tools.\n",
      "Preparing to unpack .../1-cri-tools_1.13.0-01_amd64.deb ...\n",
      "Unpacking cri-tools (1.13.0-01) ...\n",
      "Selecting previously unselected package ebtables.\n",
      "Preparing to unpack .../2-ebtables_2.0.11-3build1_amd64.deb ...\n",
      "Unpacking ebtables (2.0.11-3build1) ...\n",
      "Selecting previously unselected package kubernetes-cni.\n",
      "Preparing to unpack .../3-kubernetes-cni_0.8.7-00_amd64.deb ...\n",
      "Unpacking kubernetes-cni (0.8.7-00) ...\n",
      "Selecting previously unselected package socat.\n",
      "Preparing to unpack .../4-socat_1.7.3.3-2_amd64.deb ...\n",
      "Unpacking socat (1.7.3.3-2) ...\n",
      "Selecting previously unselected package kubelet.\n",
      "Preparing to unpack .../5-kubelet_1.22.1-00_amd64.deb ...\n",
      "Unpacking kubelet (1.22.1-00) ...\n",
      "Selecting previously unselected package kubectl.\n",
      "Preparing to unpack .../6-kubectl_1.22.1-00_amd64.deb ...\n",
      "Unpacking kubectl (1.22.1-00) ...\n",
      "Selecting previously unselected package kubeadm.\n",
      "Preparing to unpack .../7-kubeadm_1.22.1-00_amd64.deb ...\n",
      "Unpacking kubeadm (1.22.1-00) ...\n",
      "Setting up conntrack (1:1.4.5-2) ...\n",
      "Setting up kubectl (1.22.1-00) ...\n",
      "Setting up ebtables (2.0.11-3build1) ...\n",
      "Setting up socat (1.7.3.3-2) ...\n",
      "Setting up cri-tools (1.13.0-01) ...\n",
      "Setting up kubernetes-cni (0.8.7-00) ...\n",
      "Setting up kubelet (1.22.1-00) ...\n",
      "Created symlink /etc/systemd/system/multi-user.target.wants/kubelet.service → /lib/systemd/system/kubelet.service.\n",
      "Setting up kubeadm (1.22.1-00) ...\n",
      "Processing triggers for man-db (2.9.1-1) ...\n",
      "\n",
      "debconf: unable to initialize frontend: Dialog\n",
      "debconf: (Dialog frontend will not work on a dumb terminal, an emacs shell buffer, or without a controlling terminal.)\n",
      "debconf: falling back to frontend: Readline\n",
      "debconf: unable to initialize frontend: Readline\n",
      "debconf: (This frontend requires a controlling tty.)\n",
      "debconf: falling back to frontend: Teletype\n",
      "dpkg-preconfigure: unable to re-open stdin: \n",
      "\n"
     ]
    }
   ],
   "source": [
    "stdin, stdout, stderr = client_node.exec_command('sudo apt-get install -y kubelet kubeadm kubectl')\n",
    "print(stdout.read().decode(\"utf-8\"))\n",
    "print(stderr.read().decode(\"utf-8\"))"
   ]
  },
  {
   "cell_type": "code",
   "execution_count": 178,
   "metadata": {},
   "outputs": [
    {
     "name": "stdout",
     "output_type": "stream",
     "text": [
      "kubelet set on hold.\n",
      "kubeadm set on hold.\n",
      "kubectl set on hold.\n",
      "\n",
      "\n"
     ]
    }
   ],
   "source": [
    "stdin, stdout, stderr = client_node.exec_command('sudo apt-mark hold kubelet kubeadm kubectl')\n",
    "print(stdout.read().decode(\"utf-8\"))\n",
    "print(stderr.read().decode(\"utf-8\"))"
   ]
  },
  {
   "cell_type": "code",
   "execution_count": 179,
   "metadata": {},
   "outputs": [
    {
     "name": "stdout",
     "output_type": "stream",
     "text": [
      "\n",
      "\n"
     ]
    }
   ],
   "source": [
    "stdin, stdout, stderr = client_node.exec_command('sudo swapoff -a')\n",
    "print(stdout.read().decode(\"utf-8\"))\n",
    "print(stderr.read().decode(\"utf-8\"))"
   ]
  },
  {
   "cell_type": "code",
   "execution_count": 180,
   "metadata": {},
   "outputs": [
    {
     "name": "stdout",
     "output_type": "stream",
     "text": [
      "{\n",
      "\"exec-opts\": [\"native.cgroupdriver=systemd\"]\n",
      "}\n",
      "\n",
      "\n"
     ]
    }
   ],
   "source": [
    "stdin, stdout, stderr = client_node.exec_command('cat <<EOF | sudo tee /etc/docker/daemon.json\\n{\\n\"exec-opts\": [\"native.cgroupdriver=systemd\"]\\n}\\nEOF\\n')\n",
    "print(stdout.read().decode(\"utf-8\"))\n",
    "print(stderr.read().decode(\"utf-8\"))"
   ]
  },
  {
   "cell_type": "code",
   "execution_count": 181,
   "metadata": {},
   "outputs": [
    {
     "name": "stdout",
     "output_type": "stream",
     "text": [
      "\n",
      "\n"
     ]
    }
   ],
   "source": [
    "stdin, stdout, stderr = client_node.exec_command('sudo systemctl enable docker && sudo systemctl daemon-reload && sudo systemctl restart docker')\n",
    "print(stdout.read().decode(\"utf-8\"))\n",
    "print(stderr.read().decode(\"utf-8\"))"
   ]
  },
  {
   "cell_type": "markdown",
   "metadata": {},
   "source": [
    "### The setup part is complete. Now we need to do the join command. We do it like this:"
   ]
  },
  {
   "cell_type": "markdown",
   "metadata": {},
   "source": [
    "As a note. When we do \"kubeadm init\" in the server, it prints the join command for us. What we do is that we copy it and paste it in the client. And don't forget to add sudo."
   ]
  },
  {
   "cell_type": "code",
   "execution_count": 182,
   "metadata": {},
   "outputs": [
    {
     "name": "stdout",
     "output_type": "stream",
     "text": [
      "[preflight] Running pre-flight checks\n",
      "[preflight] Reading configuration from the cluster...\n",
      "[preflight] FYI: You can look at this config file with 'kubectl -n kube-system get cm kubeadm-config -o yaml'\n",
      "[kubelet-start] Writing kubelet configuration to file \"/var/lib/kubelet/config.yaml\"\n",
      "[kubelet-start] Writing kubelet environment file with flags to file \"/var/lib/kubelet/kubeadm-flags.env\"\n",
      "[kubelet-start] Starting the kubelet\n",
      "[kubelet-start] Waiting for the kubelet to perform the TLS Bootstrap...\n",
      "\n",
      "This node has joined the cluster:\n",
      "* Certificate signing request was sent to apiserver and a response was received.\n",
      "* The Kubelet was informed of the new secure connection details.\n",
      "\n",
      "Run 'kubectl get nodes' on the control-plane to see this node join the cluster.\n",
      "\n",
      "\n",
      "\n"
     ]
    }
   ],
   "source": [
    "stdin, stdout, stderr = client_node.exec_command('sudo kubeadm join 10.20.4.74:6443 --token mu8vut.axa0qoxg2htq605u --discovery-token-ca-cert-hash sha256:930292d07bf29b1821b096359b5cdf420cfe9073b61f0cbba4a3f9d4e1fbe76a')\n",
    "print(stdout.read().decode(\"utf-8\"))\n",
    "print(stderr.read().decode(\"utf-8\"))"
   ]
  },
  {
   "cell_type": "markdown",
   "metadata": {},
   "source": [
    "### Let's check back at the server."
   ]
  },
  {
   "cell_type": "code",
   "execution_count": 197,
   "metadata": {},
   "outputs": [
    {
     "name": "stdout",
     "output_type": "stream",
     "text": [
      "NAME                                               STATUS   ROLES                  AGE    VERSION\n",
      "2467ac38-fdd6-4b85-a46d-9c1d8cc969ac-master-node   Ready    control-plane,master   5m4s   v1.22.1\n",
      "7e256e59-27b6-46e1-923c-6c8bd706b081-client-node   Ready    <none>                 21s    v1.22.1\n",
      "\n",
      "\n"
     ]
    }
   ],
   "source": [
    "stdin, stdout, stderr = master_node.exec_command('kubectl get nodes')\n",
    "print(stdout.read().decode(\"utf-8\"))\n",
    "print(stderr.read().decode(\"utf-8\"))"
   ]
  },
  {
   "cell_type": "markdown",
   "metadata": {},
   "source": [
    "### We can see that the worker node is connected. Task complete."
   ]
  },
  {
   "cell_type": "markdown",
   "metadata": {},
   "source": [
    "### The next task is to deploy a hello world application."
   ]
  },
  {
   "cell_type": "markdown",
   "metadata": {},
   "source": [
    "First, we pull a hello world image and create a \"deployment\"."
   ]
  },
  {
   "cell_type": "code",
   "execution_count": 198,
   "metadata": {},
   "outputs": [
    {
     "name": "stdout",
     "output_type": "stream",
     "text": [
      "deployment.apps/kubernetes-bootcamp created\n",
      "\n",
      "\n"
     ]
    }
   ],
   "source": [
    "stdin, stdout, stderr = master_node.exec_command('kubectl create deployment kubernetes-bootcamp --image=gcr.io/google-samples/kubernetes-bootcamp:v1')\n",
    "print(stdout.read().decode(\"utf-8\"))\n",
    "print(stderr.read().decode(\"utf-8\"))"
   ]
  },
  {
   "cell_type": "markdown",
   "metadata": {},
   "source": [
    "### Now let's do some status commands. They just show us some information."
   ]
  },
  {
   "cell_type": "code",
   "execution_count": 199,
   "metadata": {},
   "outputs": [
    {
     "name": "stdout",
     "output_type": "stream",
     "text": [
      "NAMESPACE     NAME                                                                       READY   STATUS              RESTARTS   AGE\n",
      "default       kubernetes-bootcamp-57978f5f5d-zrkcm                                       0/1     ContainerCreating   0          7s\n",
      "kube-system   calico-kube-controllers-58497c65d5-mf9cx                                   1/1     Running             0          4m53s\n",
      "kube-system   calico-node-fjx74                                                          1/1     Running             0          38s\n",
      "kube-system   calico-node-twrvd                                                          1/1     Running             0          4m53s\n",
      "kube-system   coredns-78fcd69978-pwrq9                                                   1/1     Running             0          5m5s\n",
      "kube-system   coredns-78fcd69978-sgnzn                                                   1/1     Running             0          5m5s\n",
      "kube-system   etcd-2467ac38-fdd6-4b85-a46d-9c1d8cc969ac-master-node                      1/1     Running             0          5m18s\n",
      "kube-system   kube-apiserver-2467ac38-fdd6-4b85-a46d-9c1d8cc969ac-master-node            1/1     Running             0          5m19s\n",
      "kube-system   kube-controller-manager-2467ac38-fdd6-4b85-a46d-9c1d8cc969ac-master-node   1/1     Running             0          5m18s\n",
      "kube-system   kube-proxy-g4ppb                                                           1/1     Running             0          5m5s\n",
      "kube-system   kube-proxy-kw79l                                                           1/1     Running             0          38s\n",
      "kube-system   kube-scheduler-2467ac38-fdd6-4b85-a46d-9c1d8cc969ac-master-node            1/1     Running             0          5m18s\n",
      "\n",
      "\n"
     ]
    }
   ],
   "source": [
    "stdin, stdout, stderr = master_node.exec_command('kubectl get pods --all-namespaces')\n",
    "print(stdout.read().decode(\"utf-8\"))\n",
    "print(stderr.read().decode(\"utf-8\"))"
   ]
  },
  {
   "cell_type": "markdown",
   "metadata": {},
   "source": [
    "### For the following status command, make sure to use the correct pod name."
   ]
  },
  {
   "cell_type": "code",
   "execution_count": 200,
   "metadata": {},
   "outputs": [
    {
     "name": "stdout",
     "output_type": "stream",
     "text": [
      "Name:         kubernetes-bootcamp-57978f5f5d-zrkcm\n",
      "Namespace:    default\n",
      "Priority:     0\n",
      "Node:         7e256e59-27b6-46e1-923c-6c8bd706b081-client-node/10.20.4.184\n",
      "Start Time:   Wed, 08 Sep 2021 03:19:29 +0000\n",
      "Labels:       app=kubernetes-bootcamp\n",
      "              pod-template-hash=57978f5f5d\n",
      "Annotations:  cni.projectcalico.org/containerID: 071c788966386f7e66a8f5ac87c45d35ba31ec26d772e352f9d54434f84f2990\n",
      "              cni.projectcalico.org/podIP: 192.168.74.193/32\n",
      "              cni.projectcalico.org/podIPs: 192.168.74.193/32\n",
      "Status:       Running\n",
      "IP:           192.168.74.193\n",
      "IPs:\n",
      "  IP:           192.168.74.193\n",
      "Controlled By:  ReplicaSet/kubernetes-bootcamp-57978f5f5d\n",
      "Containers:\n",
      "  kubernetes-bootcamp:\n",
      "    Container ID:   docker://5b87c3b7a30985f14387071e07ee2c41c2d07d6ec30967f119e65e8eac5a5910\n",
      "    Image:          gcr.io/google-samples/kubernetes-bootcamp:v1\n",
      "    Image ID:       docker-pullable://gcr.io/google-samples/kubernetes-bootcamp@sha256:0d6b8ee63bb57c5f5b6156f446b3bc3b3c143d233037f3a2f00e279c8fcc64af\n",
      "    Port:           <none>\n",
      "    Host Port:      <none>\n",
      "    State:          Running\n",
      "      Started:      Wed, 08 Sep 2021 03:19:39 +0000\n",
      "    Ready:          True\n",
      "    Restart Count:  0\n",
      "    Environment:    <none>\n",
      "    Mounts:\n",
      "      /var/run/secrets/kubernetes.io/serviceaccount from kube-api-access-z687j (ro)\n",
      "Conditions:\n",
      "  Type              Status\n",
      "  Initialized       True \n",
      "  Ready             True \n",
      "  ContainersReady   True \n",
      "  PodScheduled      True \n",
      "Volumes:\n",
      "  kube-api-access-z687j:\n",
      "    Type:                    Projected (a volume that contains injected data from multiple sources)\n",
      "    TokenExpirationSeconds:  3607\n",
      "    ConfigMapName:           kube-root-ca.crt\n",
      "    ConfigMapOptional:       <nil>\n",
      "    DownwardAPI:             true\n",
      "QoS Class:                   BestEffort\n",
      "Node-Selectors:              <none>\n",
      "Tolerations:                 node.kubernetes.io/not-ready:NoExecute op=Exists for 300s\n",
      "                             node.kubernetes.io/unreachable:NoExecute op=Exists for 300s\n",
      "Events:\n",
      "  Type    Reason     Age   From               Message\n",
      "  ----    ------     ----  ----               -------\n",
      "  Normal  Scheduled  30s   default-scheduler  Successfully assigned default/kubernetes-bootcamp-57978f5f5d-zrkcm to 7e256e59-27b6-46e1-923c-6c8bd706b081-client-node\n",
      "  Normal  Pulling    29s   kubelet            Pulling image \"gcr.io/google-samples/kubernetes-bootcamp:v1\"\n",
      "  Normal  Pulled     20s   kubelet            Successfully pulled image \"gcr.io/google-samples/kubernetes-bootcamp:v1\" in 8.950959826s\n",
      "  Normal  Created    20s   kubelet            Created container kubernetes-bootcamp\n",
      "  Normal  Started    20s   kubelet            Started container kubernetes-bootcamp\n",
      "\n",
      "\n"
     ]
    }
   ],
   "source": [
    "stdin, stdout, stderr = master_node.exec_command('kubectl describe pod kubernetes-bootcamp-57978f5f5d-zrkcm')\n",
    "print(stdout.read().decode(\"utf-8\"))\n",
    "print(stderr.read().decode(\"utf-8\"))"
   ]
  },
  {
   "cell_type": "markdown",
   "metadata": {},
   "source": [
    "The next thing we need to do is to create what is called a \"service\". We are going to use it to expose the deployment to the outside, through a port, which is 8080. Like this:"
   ]
  },
  {
   "cell_type": "markdown",
   "metadata": {},
   "source": [
    "_Note that the service itself will still need to be exposed. There's another \"expose\" step that we need to make._"
   ]
  },
  {
   "cell_type": "code",
   "execution_count": 201,
   "metadata": {},
   "outputs": [
    {
     "name": "stdout",
     "output_type": "stream",
     "text": [
      "service/kubernetes-bootcamp exposed\n",
      "\n",
      "\n"
     ]
    }
   ],
   "source": [
    "stdin, stdout, stderr = master_node.exec_command('kubectl expose deployment/kubernetes-bootcamp --type=\"ClusterIP\" --port 8080')\n",
    "print(stdout.read().decode(\"utf-8\"))\n",
    "print(stderr.read().decode(\"utf-8\"))"
   ]
  },
  {
   "cell_type": "markdown",
   "metadata": {},
   "source": [
    "### Let's check if the service was created."
   ]
  },
  {
   "cell_type": "code",
   "execution_count": 202,
   "metadata": {},
   "outputs": [
    {
     "name": "stdout",
     "output_type": "stream",
     "text": [
      "NAME                  TYPE        CLUSTER-IP    EXTERNAL-IP   PORT(S)    AGE\n",
      "kubernetes-bootcamp   ClusterIP   10.97.99.47   <none>        8080/TCP   22s\n",
      "\n",
      "\n"
     ]
    }
   ],
   "source": [
    "stdin, stdout, stderr = master_node.exec_command('kubectl get service kubernetes-bootcamp')\n",
    "print(stdout.read().decode(\"utf-8\"))\n",
    "print(stderr.read().decode(\"utf-8\"))"
   ]
  },
  {
   "cell_type": "markdown",
   "metadata": {},
   "source": [
    "### Finally, we need to run a port forwarding command in order to expose the service to the outside."
   ]
  },
  {
   "cell_type": "code",
   "execution_count": 203,
   "metadata": {},
   "outputs": [
    {
     "name": "stdout",
     "output_type": "stream",
     "text": [
      "\n",
      "\n"
     ]
    }
   ],
   "source": [
    "stdin, stdout, stderr = master_node.exec_command('kubectl port-forward --address 0.0.0.0 service/kubernetes-bootcamp 8080:8080 > /dev/null 2>&1 &')\n",
    "print(stdout.read().decode(\"utf-8\"))\n",
    "print(stderr.read().decode(\"utf-8\"))"
   ]
  },
  {
   "cell_type": "markdown",
   "metadata": {},
   "source": [
    "### Now our application should finally be visible. Let's test the deployment on the master machine itself."
   ]
  },
  {
   "cell_type": "code",
   "execution_count": 204,
   "metadata": {},
   "outputs": [
    {
     "name": "stdout",
     "output_type": "stream",
     "text": [
      "Hello Kubernetes bootcamp! | Running on: kubernetes-bootcamp-57978f5f5d-zrkcm | v=1\n",
      "\n",
      "  % Total    % Received % Xferd  Average Speed   Time    Time     Time  Current\n",
      "                                 Dload  Upload   Total   Spent    Left  Speed\n",
      "100    84    0    84    0     0   6000      0 --:--:-- --:--:-- --:--:--  6000\n",
      "\n"
     ]
    }
   ],
   "source": [
    "stdin, stdout, stderr = master_node.exec_command('curl localhost:8080')\n",
    "print(stdout.read().decode(\"utf-8\"))\n",
    "print(stderr.read().decode(\"utf-8\"))"
   ]
  },
  {
   "cell_type": "markdown",
   "metadata": {},
   "source": [
    "It works! Now let's test it remotely, from our notebook."
   ]
  },
  {
   "cell_type": "code",
   "execution_count": 205,
   "metadata": {},
   "outputs": [
    {
     "name": "stdout",
     "output_type": "stream",
     "text": [
      "200\n",
      "b'Hello Kubernetes bootcamp! | Running on: kubernetes-bootcamp-57978f5f5d-zrkcm | v=1\\n'\n"
     ]
    }
   ],
   "source": [
    "import requests\n",
    "\n",
    "x = requests.get('http://' + master_node_ip + ':8080') #, verify=False)\n",
    "print(x.status_code)\n",
    "print(x.content)"
   ]
  },
  {
   "cell_type": "markdown",
   "metadata": {},
   "source": [
    "### We can see above that we can access the application. Experiment complete."
   ]
  },
  {
   "cell_type": "markdown",
   "metadata": {},
   "source": [
    "## Delete Slice"
   ]
  },
  {
   "cell_type": "markdown",
   "metadata": {},
   "source": [
    "You can now delete the slice using the cell below."
   ]
  },
  {
   "cell_type": "code",
   "execution_count": 206,
   "metadata": {},
   "outputs": [
    {
     "name": "stdout",
     "output_type": "stream",
     "text": [
      "Response Status Status.OK\n",
      "Response received None\n"
     ]
    }
   ],
   "source": [
    "status, result = slice_manager.delete(slice_id=slice_id)\n",
    "\n",
    "print(\"Response Status {}\".format(status))\n",
    "print(\"Response received {}\".format(result))"
   ]
  }
 ],
 "metadata": {
  "kernelspec": {
   "display_name": "Python 3",
   "language": "python",
   "name": "python3"
  },
  "language_info": {
   "codemirror_mode": {
    "name": "ipython",
    "version": 3
   },
   "file_extension": ".py",
   "mimetype": "text/x-python",
   "name": "python",
   "nbconvert_exporter": "python",
   "pygments_lexer": "ipython3",
   "version": "3.9.2"
  }
 },
 "nbformat": 4,
 "nbformat_minor": 4
}

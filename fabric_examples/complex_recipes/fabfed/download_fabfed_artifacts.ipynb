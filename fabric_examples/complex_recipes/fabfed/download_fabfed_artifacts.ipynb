{
 "cells": [
  {
   "cell_type": "markdown",
   "id": "9721746f-2fab-472a-918b-3d24ddf456d0",
   "metadata": {},
   "source": [
    "# Fabfed Workflow Tool.\n",
    "\n",
    "The FabFed is a Python library for a cross-testbed federation framework that (1) models the network experiment (or \"slice\") across the FABRIC testbed and federated testbeds and providers, and (2) provides a workflow command line tool to stitch Fabric l2 and l3 networks between the testbeds and providers. Fabfed support the following providers:\n",
    "- Chameleon\n",
    "- Cloudlab\n",
    "- GCP/AWS\n",
    "- Sense\n",
    "\n",
    "Fabfed is published on [pypi](https://github.com/fabric-testbed/fabfed) and the github repo can be found [here](https://github.com/fabric-testbed/fabfed).\n",
    "We recommend downloading the fabfed jupyter example notebooks using the Fabric Artificat Manager. These notebooks will help with the installation and with running basic/advanced stitching workflows.\n",
    "- [Download Fabfed Example Artifact](../../../artifact_manager.ipynb) using the search keyword `fabfed`.\n"
   ]
  }
 ],
 "metadata": {
  "kernelspec": {
   "display_name": "Bash",
   "language": "bash",
   "name": "bash"
  },
  "language_info": {
   "codemirror_mode": "shell",
   "file_extension": ".sh",
   "mimetype": "text/x-sh",
   "name": "bash"
  }
 },
 "nbformat": 4,
 "nbformat_minor": 5
}

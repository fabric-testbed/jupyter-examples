{
 "cells": [
  {
   "cell_type": "markdown",
   "metadata": {},
   "source": [
    "## This notebook shows how to use Orchestrator APIs for user experiments"
   ]
  },
  {
   "cell_type": "code",
   "execution_count": 2,
   "metadata": {},
   "outputs": [],
   "source": [
    "import os\n",
    "from fabrictestbed.slice_manager import SliceManager, Status\n",
    "import json"
   ]
  },
  {
   "cell_type": "code",
   "execution_count": 3,
   "metadata": {},
   "outputs": [
    {
     "name": "stdout",
     "output_type": "stream",
     "text": [
      "CM Host: cm.fabric-testbed.net Orchestrator Host: orchestrator.fabric-testbed.net\n"
     ]
    }
   ],
   "source": [
    "credmgr_host = os.environ['FABRIC_CREDMGR_HOST']\n",
    "orchestrator_host = os.environ['FABRIC_ORCHESTRATOR_HOST']\n",
    "print(f\"CM Host: {credmgr_host} Orchestrator Host: {orchestrator_host}\")"
   ]
  },
  {
   "cell_type": "code",
   "execution_count": 4,
   "metadata": {},
   "outputs": [],
   "source": [
    "slice_manager = SliceManager(oc_host=orchestrator_host, cm_host=credmgr_host, project_name='all', scope='all')\n",
    "\n",
    "# Initialize the slice manager\n",
    "slice_manager.initialize()"
   ]
  },
  {
   "cell_type": "code",
   "execution_count": 5,
   "metadata": {},
   "outputs": [
    {
     "name": "stdout",
     "output_type": "stream",
     "text": [
      "Status: Status.OK\n",
      "Toplogy: NCSA: { cpu: 6/6 , core: 172/192 , ram: 1,448/1,536 G, disk: 60,310/60,600 G, unit: 3/3 }\n",
      "\tComponents:\n",
      "\t\tNVME-P4510:  NVME P4510 { disk: 8,640/9,600 G, unit: 9/10 }\n",
      "\t\tGPU-Tesla T4:  GPU Tesla T4 { unit: 2/2 }\n",
      "\t\tGPU-RTX6000:  GPU RTX6000 { unit: 3/3 }\n",
      "\t\tSmartNIC-ConnectX-5:  SmartNIC ConnectX-5 { unit: 0/2 }\n",
      "\t\tSmartNIC-ConnectX-6:  SmartNIC ConnectX-6 { unit: 2/2 }\n",
      "\t\tSharedNIC-ConnectX-6:  SharedNIC ConnectX-6 { unit: 375/381 }\n",
      "\tSite Interfaces:\n",
      "\t\tNCSA_STAR: TrunkPort { bw: 100/100 Gbps}\n",
      "TACC: { cpu: 10/10 , core: 320/320 , ram: 2,560/2,560 G, disk: 116,400/116,400 G, unit: 5/5 }\n",
      "\tComponents:\n",
      "\t\tSmartNIC-ConnectX-5:  SmartNIC ConnectX-5 { unit: 4/4 }\n",
      "\t\tGPU-RTX6000:  GPU RTX6000 { unit: 6/6 }\n",
      "\t\tGPU-Tesla T4:  GPU Tesla T4 { unit: 4/4 }\n",
      "\t\tNVME-P4510:  NVME P4510 { disk: 15,360/15,360 G, unit: 16/16 }\n",
      "\t\tSharedNIC-ConnectX-6:  SharedNIC ConnectX-6 { unit: 635/635 }\n",
      "\t\tSmartNIC-ConnectX-6:  SmartNIC ConnectX-6 { unit: 2/2 }\n",
      "\tSite Interfaces:\n",
      "\t\tTACC_UTAH: TrunkPort { bw: 100/100 Gbps}\n",
      "\t\tTACC_MAX: TrunkPort { bw: 100/100 Gbps}\n",
      "UTAH: { cpu: 10/10 , core: 320/320 , ram: 2,560/2,560 G, disk: 116,400/116,400 G, unit: 5/5 }\n",
      "\tComponents:\n",
      "\t\tGPU-RTX6000:  GPU RTX6000 { unit: 5/5 }\n",
      "\t\tGPU-Tesla T4:  GPU Tesla T4 { unit: 4/4 }\n",
      "\t\tNVME-P4510:  NVME P4510 { disk: 15,360/15,360 G, unit: 16/16 }\n",
      "\t\tSharedNIC-ConnectX-6:  SharedNIC ConnectX-6 { unit: 635/635 }\n",
      "\t\tSmartNIC-ConnectX-6:  SmartNIC ConnectX-6 { unit: 2/2 }\n",
      "\t\tSmartNIC-ConnectX-5:  SmartNIC ConnectX-5 { unit: 4/4 }\n",
      "\tSite Interfaces:\n",
      "\t\tUTAH_TACC: TrunkPort { bw: 100/100 Gbps}\n",
      "\t\tUTAH_STAR: TrunkPort { bw: 100/100 Gbps}\n",
      "MAX: { cpu: 10/10 , core: 312/320 , ram: 2,520/2,560 G, disk: 116,200/116,400 G, unit: 5/5 }\n",
      "\tComponents:\n",
      "\t\tSharedNIC-ConnectX-6:  SharedNIC ConnectX-6 { unit: 633/635 }\n",
      "\t\tGPU-Tesla T4:  GPU Tesla T4 { unit: 4/4 }\n",
      "\t\tGPU-RTX6000:  GPU RTX6000 { unit: 6/6 }\n",
      "\t\tSmartNIC-ConnectX-5:  SmartNIC ConnectX-5 { unit: 4/4 }\n",
      "\t\tSmartNIC-ConnectX-6:  SmartNIC ConnectX-6 { unit: 2/2 }\n",
      "\t\tNVME-P4510:  NVME P4510 { disk: 14,400/15,360 G, unit: 15/16 }\n",
      "\tSite Interfaces:\n",
      "\t\tMAX_TACC: TrunkPort { bw: 100/100 Gbps}\n",
      "\t\tMAX_STAR: TrunkPort { bw: 100/100 Gbps}\n",
      "SALT\n",
      "\tComponents:\n",
      "\tSite Interfaces:\n",
      "STAR: { cpu: 12/12 , core: 384/384 , ram: 3,072/3,072 G, disk: 121,200/121,200 G, unit: 6/6 }\n",
      "\tComponents:\n",
      "\t\tNVME-P4510:  NVME P4510 { disk: 20,000/20,000 G, unit: 20/20 }\n",
      "\t\tGPU-Tesla T4:  GPU Tesla T4 { unit: 6/6 }\n",
      "\t\tGPU-RTX6000:  GPU RTX6000 { unit: 6/6 }\n",
      "\t\tSmartNIC-ConnectX-5:  SmartNIC ConnectX-5 { unit: 6/6 }\n",
      "\t\tSmartNIC-ConnectX-6:  SmartNIC ConnectX-6 { unit: 2/2 }\n",
      "\t\tSharedNIC-ConnectX-6:  SharedNIC ConnectX-6 { unit: 762/762 }\n",
      "\tSite Interfaces:\n",
      "\t\tSTAR_UTAH: TrunkPort { bw: 100/100 Gbps}\n",
      "\t\tSTAR_MAX: TrunkPort { bw: 100/100 Gbps}\n",
      "\t\tSTAR_NCSA: TrunkPort { bw: 100/100 Gbps}\n",
      "WASH\n",
      "\tComponents:\n",
      "\tSite Interfaces:\n",
      "DALL\n",
      "\tComponents:\n",
      "\tSite Interfaces:\n",
      "MICH\n",
      "\tComponents:\n",
      "\tSite Interfaces:\n",
      "Links:\n",
      "\tport+max-data-sw:HundredGigE0/0/0/22.2051 to port+tacc-data-sw:HundredGigE0/0/0/23.3160[L2Path]: ['TACC_MAX', 'MAX_TACC']\n",
      "\tport+tacc-data-sw:HundredGigE0/0/0/23.3161 to port+utah-data-sw:HundredGigE0/0/0/22.2091[L2Path]: ['UTAH_TACC', 'TACC_UTAH']\n",
      "\tport+star-data-sw:HundredGigE0/0/0/30.3722 to port+utah-data-sw:HundredGigE0/0/0/22.2090[L2Path]: ['STAR_UTAH', 'UTAH_STAR']\n",
      "\tport+max-data-sw:HundredGigE0/0/0/22.2052 to port+star-data-sw:HundredGigE0/0/0/30.3721[L2Path]: ['STAR_MAX', 'MAX_STAR']\n",
      "\tport+ncsa-data-sw:HundredGigE0/0/0/23.3710 to port+star-data-sw:HundredGigE0/0/0/30.3710[L2Path]: ['STAR_NCSA', 'NCSA_STAR']\n"
     ]
    }
   ],
   "source": [
    "status, advertised_topology = slice_manager.resources()\n",
    "\n",
    "print(f\"Status: {status}\")\n",
    "if status == Status.OK:\n",
    "    print(f\"Toplogy: {advertised_topology}\")\n",
    "else:\n",
    "    print(f\"Error: {advertised_topology}\")"
   ]
  },
  {
   "cell_type": "code",
   "execution_count": 6,
   "metadata": {},
   "outputs": [
    {
     "data": {
      "image/png": "[encoded data removed]",
      "text/plain": [
       "<Figure size 432x288 with 1 Axes>"
      ]
     },
     "metadata": {},
     "output_type": "display_data"
    }
   ],
   "source": [
    "if status == Status.OK:\n",
    "    advertised_topology.draw()"
   ]
  },
  {
   "cell_type": "markdown",
   "metadata": {},
   "source": [
    "## Create Slice"
   ]
  },
  {
   "cell_type": "code",
   "execution_count": 8,
   "metadata": {},
   "outputs": [
    {
     "name": "stdout",
     "output_type": "stream",
     "text": [
      "Response Status Status.OK\n",
      "Reservations created [{\n",
      "    \"graph_node_id\": \"82a16173-b871-4705-8e15-154ca5aa3526\",\n",
      "    \"lease_end\": \"2021-11-22 19:23:09\",\n",
      "    \"pending_state\": \"None_\",\n",
      "    \"reservation_id\": \"6d14288f-a57c-4b7f-9c56-1d8be60e4d71\",\n",
      "    \"reservation_state\": \"Unknown\",\n",
      "    \"slice_id\": \"b4f605c8-6974-482d-a7fb-c0c6c3109108\"\n",
      "}, {\n",
      "    \"graph_node_id\": \"7b60a476-fcc6-40ee-9780-8c0d3a185736\",\n",
      "    \"lease_end\": \"2021-11-22 19:23:09\",\n",
      "    \"pending_state\": \"None_\",\n",
      "    \"reservation_id\": \"ff62edac-e82a-41f4-93a1-8e150d9d4e96\",\n",
      "    \"reservation_state\": \"Unknown\",\n",
      "    \"slice_id\": \"b4f605c8-6974-482d-a7fb-c0c6c3109108\"\n",
      "}]\n"
     ]
    }
   ],
   "source": [
    "from fabrictestbed.slice_editor import ExperimentTopology, Capacities, ComponentType, ComponentModelType, ServiceType\n",
    "# Create topology\n",
    "t = ExperimentTopology()\n",
    "\n",
    "\n",
    "# Add node\n",
    "n1 = t.add_node(name='master_node', site='MAX')\n",
    "\n",
    "# Set capacities\n",
    "cap = Capacities()\n",
    "cap.set_fields(core=2, ram=4, disk=10)\n",
    "\n",
    "# Set Properties\n",
    "n1.set_properties(capacities=cap, image_type='qcow2', image_ref='default_ubuntu_20')\n",
    "\n",
    "\n",
    "# Add node\n",
    "n2 = t.add_node(name='client_node', site='MAX')\n",
    "\n",
    "# Set properties\n",
    "n2.set_properties(capacities=cap, image_type='qcow2', image_ref='default_ubuntu_20')\n",
    "\n",
    "\n",
    "# Generate Slice Graph\n",
    "slice_graph = t.serialize()\n",
    "\n",
    "ssh_key = None\n",
    "with open (\"/home/fabric/.ssh/id_rsa.pub\", \"r\") as myfile:\n",
    "    ssh_key=myfile.read()\n",
    "    ssh_key=ssh_key.strip()\n",
    "\n",
    "# Request slice from Orchestrator\n",
    "status, reservations = slice_manager.create(slice_name='Slice-Kubernetes-Hello-World', slice_graph=slice_graph, ssh_key=ssh_key)\n",
    "\n",
    "print(\"Response Status {}\".format(status))\n",
    "if status == Status.OK:\n",
    "    print(\"Reservations created {}\".format(reservations))\n",
    "else:\n",
    "    print(f\"Failure: {reservations}\")"
   ]
  },
  {
   "cell_type": "code",
   "execution_count": 12,
   "metadata": {},
   "outputs": [
    {
     "name": "stdout",
     "output_type": "stream",
     "text": [
      "b4f605c8-6974-482d-a7fb-c0c6c3109108\n"
     ]
    }
   ],
   "source": [
    "# Set the Slice ID from output of the above command\n",
    "slice_id=reservations[0].slice_id\n",
    "print(slice_id)"
   ]
  },
  {
   "cell_type": "markdown",
   "metadata": {},
   "source": [
    "## Query Slices"
   ]
  },
  {
   "cell_type": "code",
   "execution_count": 13,
   "metadata": {},
   "outputs": [
    {
     "name": "stdout",
     "output_type": "stream",
     "text": [
      "Response Status Status.OK\n",
      "Slices [{\n",
      "    \"graph_id\": \"f1d68ad0-48ae-4f09-a051-369caed22446\",\n",
      "    \"lease_end\": \"2021-11-21 01:22:55\",\n",
      "    \"slice_id\": \"8ef39ae0-9ccd-40e8-992a-2497b01f5341\",\n",
      "    \"slice_name\": \"Slice-Kubernetes-Hello-World\",\n",
      "    \"slice_state\": \"Dead\"\n",
      "}, {\n",
      "    \"graph_id\": \"44625d85-ad4a-4c80-bb27-c3f810735c06\",\n",
      "    \"lease_end\": \"2021-11-17 07:00:32\",\n",
      "    \"slice_id\": \"7bb8c733-e0f8-4a0b-abaf-4b433ab66167\",\n",
      "    \"slice_name\": \"Slice-Kubernetes-Hello-World\",\n",
      "    \"slice_state\": \"Dead\"\n",
      "}, {\n",
      "    \"graph_id\": \"a161a769-0f89-43b0-bfe2-396c256baa25\",\n",
      "    \"lease_end\": \"2021-11-22 19:23:09\",\n",
      "    \"slice_id\": \"b4f605c8-6974-482d-a7fb-c0c6c3109108\",\n",
      "    \"slice_name\": \"Slice-Kubernetes-Hello-World\",\n",
      "    \"slice_state\": \"StableOK\"\n",
      "}]\n"
     ]
    }
   ],
   "source": [
    "status, slices = slice_manager.slices()\n",
    "\n",
    "print(\"Response Status {}\".format(status))\n",
    "if status == Status.OK:\n",
    "    print(\"Slices {}\".format(slices))\n",
    "else:\n",
    "    print(f\"Failure: {slices}\")"
   ]
  },
  {
   "cell_type": "markdown",
   "metadata": {},
   "source": [
    "## Query Slivers"
   ]
  },
  {
   "cell_type": "code",
   "execution_count": 14,
   "metadata": {},
   "outputs": [
    {
     "name": "stdout",
     "output_type": "stream",
     "text": [
      "Response Status Status.OK\n",
      "Slivers [{\n",
      "    \"allocated_capacities\": \"{\\\"core\\\": 2, \\\"disk\\\": 10, \\\"ram\\\": 8}\",\n",
      "    \"allocated_labels\": \"{\\\"instance\\\": \\\"instance-000006aa\\\", \\\"instance_parent\\\": \\\"max-w4.fabric-testbed.net\\\"}\",\n",
      "    \"capacities\": \"{\\\"core\\\": 2, \\\"disk\\\": 10, \\\"ram\\\": 4}\",\n",
      "    \"capacity_hints\": \"{\\\"instance_type\\\": \\\"fabric.c2.m8.d10\\\"}\",\n",
      "    \"graph_node_id\": \"82a16173-b871-4705-8e15-154ca5aa3526\",\n",
      "    \"join_state\": \"NoJoin\",\n",
      "    \"lease_end\": \"2021-11-22 19:23:09\",\n",
      "    \"management_ip\": \"63.239.135.120\",\n",
      "    \"name\": \"master_node\",\n",
      "    \"notices\": \"Reservation 6d14288f-a57c-4b7f-9c56-1d8be60e4d71 (Slice Slice-Kubernetes-Hello-World(b4f605c8-6974-482d-a7fb-c0c6c3109108) Graph Id:a161a769-0f89-43b0-bfe2-396c256baa25 Owner:name: orchestrator guid: orchestrator-guid email: minawm@bu.edu State:StableOK ) is in state [Active,None_]\\n\\nLast ticket update: \\nTicket events: \\nLast ticket update: \\nTicket events: \",\n",
      "    \"pending_state\": \"None_\",\n",
      "    \"reservation_id\": \"6d14288f-a57c-4b7f-9c56-1d8be60e4d71\",\n",
      "    \"reservation_state\": \"Active\",\n",
      "    \"resource_type\": \"VM\",\n",
      "    \"site\": \"MAX\",\n",
      "    \"slice_id\": \"b4f605c8-6974-482d-a7fb-c0c6c3109108\"\n",
      "}, {\n",
      "    \"allocated_capacities\": \"{\\\"core\\\": 2, \\\"disk\\\": 10, \\\"ram\\\": 8}\",\n",
      "    \"allocated_labels\": \"{\\\"instance\\\": \\\"instance-000006ab\\\", \\\"instance_parent\\\": \\\"max-w4.fabric-testbed.net\\\"}\",\n",
      "    \"capacities\": \"{\\\"core\\\": 2, \\\"disk\\\": 10, \\\"ram\\\": 4}\",\n",
      "    \"capacity_hints\": \"{\\\"instance_type\\\": \\\"fabric.c2.m8.d10\\\"}\",\n",
      "    \"graph_node_id\": \"7b60a476-fcc6-40ee-9780-8c0d3a185736\",\n",
      "    \"join_state\": \"NoJoin\",\n",
      "    \"lease_end\": \"2021-11-22 19:23:09\",\n",
      "    \"management_ip\": \"63.239.135.114\",\n",
      "    \"name\": \"client_node\",\n",
      "    \"notices\": \"Reservation ff62edac-e82a-41f4-93a1-8e150d9d4e96 (Slice Slice-Kubernetes-Hello-World(b4f605c8-6974-482d-a7fb-c0c6c3109108) Graph Id:a161a769-0f89-43b0-bfe2-396c256baa25 Owner:name: orchestrator guid: orchestrator-guid email: minawm@bu.edu State:StableOK ) is in state [Active,None_]\\n\\nLast ticket update: \\nTicket events: \\nLast ticket update: \\nTicket events: \",\n",
      "    \"pending_state\": \"None_\",\n",
      "    \"reservation_id\": \"ff62edac-e82a-41f4-93a1-8e150d9d4e96\",\n",
      "    \"reservation_state\": \"Active\",\n",
      "    \"resource_type\": \"VM\",\n",
      "    \"site\": \"MAX\",\n",
      "    \"slice_id\": \"b4f605c8-6974-482d-a7fb-c0c6c3109108\"\n",
      "}]\n"
     ]
    }
   ],
   "source": [
    "slice_object = list(filter(lambda x: x.slice_id == slice_id, slices))[0]\n",
    "status, slivers = slice_manager.slivers(slice_object=slice_object)\n",
    "\n",
    "print(\"Response Status {}\".format(status))\n",
    "if status == Status.OK:\n",
    "    print(\"Slivers {}\".format(slivers))\n",
    "else:\n",
    "    print(f\"Failure: {slivers}\")"
   ]
  },
  {
   "cell_type": "markdown",
   "metadata": {},
   "source": [
    "## Sliver Status"
   ]
  },
  {
   "cell_type": "code",
   "execution_count": 15,
   "metadata": {},
   "outputs": [
    {
     "name": "stdout",
     "output_type": "stream",
     "text": [
      "Response Status Status.OK\n",
      "\n",
      "Sliver Status {\n",
      "    \"allocated_capacities\": \"{\\\"core\\\": 2, \\\"disk\\\": 10, \\\"ram\\\": 8}\",\n",
      "    \"allocated_labels\": \"{\\\"instance\\\": \\\"instance-000006aa\\\", \\\"instance_parent\\\": \\\"max-w4.fabric-testbed.net\\\"}\",\n",
      "    \"capacities\": \"{\\\"core\\\": 2, \\\"disk\\\": 10, \\\"ram\\\": 4}\",\n",
      "    \"capacity_hints\": \"{\\\"instance_type\\\": \\\"fabric.c2.m8.d10\\\"}\",\n",
      "    \"graph_node_id\": \"82a16173-b871-4705-8e15-154ca5aa3526\",\n",
      "    \"join_state\": \"NoJoin\",\n",
      "    \"lease_end\": \"2021-11-22 19:23:09\",\n",
      "    \"management_ip\": \"63.239.135.120\",\n",
      "    \"name\": \"master_node\",\n",
      "    \"notices\": \"Reservation 6d14288f-a57c-4b7f-9c56-1d8be60e4d71 (Slice Slice-Kubernetes-Hello-World(b4f605c8-6974-482d-a7fb-c0c6c3109108) Graph Id:a161a769-0f89-43b0-bfe2-396c256baa25 Owner:name: orchestrator guid: orchestrator-guid email: minawm@bu.edu State:StableOK ) is in state [Active,None_]\\n\\nLast ticket update: \\nTicket events: \\nLast ticket update: \\nTicket events: \",\n",
      "    \"pending_state\": \"None_\",\n",
      "    \"reservation_id\": \"6d14288f-a57c-4b7f-9c56-1d8be60e4d71\",\n",
      "    \"reservation_state\": \"Active\",\n",
      "    \"resource_type\": \"VM\",\n",
      "    \"site\": \"MAX\",\n",
      "    \"slice_id\": \"b4f605c8-6974-482d-a7fb-c0c6c3109108\"\n",
      "}\n",
      "\n",
      "Response Status Status.OK\n",
      "\n",
      "Sliver Status {\n",
      "    \"allocated_capacities\": \"{\\\"core\\\": 2, \\\"disk\\\": 10, \\\"ram\\\": 8}\",\n",
      "    \"allocated_labels\": \"{\\\"instance\\\": \\\"instance-000006ab\\\", \\\"instance_parent\\\": \\\"max-w4.fabric-testbed.net\\\"}\",\n",
      "    \"capacities\": \"{\\\"core\\\": 2, \\\"disk\\\": 10, \\\"ram\\\": 4}\",\n",
      "    \"capacity_hints\": \"{\\\"instance_type\\\": \\\"fabric.c2.m8.d10\\\"}\",\n",
      "    \"graph_node_id\": \"7b60a476-fcc6-40ee-9780-8c0d3a185736\",\n",
      "    \"join_state\": \"NoJoin\",\n",
      "    \"lease_end\": \"2021-11-22 19:23:09\",\n",
      "    \"management_ip\": \"63.239.135.114\",\n",
      "    \"name\": \"client_node\",\n",
      "    \"notices\": \"Reservation ff62edac-e82a-41f4-93a1-8e150d9d4e96 (Slice Slice-Kubernetes-Hello-World(b4f605c8-6974-482d-a7fb-c0c6c3109108) Graph Id:a161a769-0f89-43b0-bfe2-396c256baa25 Owner:name: orchestrator guid: orchestrator-guid email: minawm@bu.edu State:StableOK ) is in state [Active,None_]\\n\\nLast ticket update: \\nTicket events: \\nLast ticket update: \\nTicket events: \",\n",
      "    \"pending_state\": \"None_\",\n",
      "    \"reservation_id\": \"ff62edac-e82a-41f4-93a1-8e150d9d4e96\",\n",
      "    \"reservation_state\": \"Active\",\n",
      "    \"resource_type\": \"VM\",\n",
      "    \"site\": \"MAX\",\n",
      "    \"slice_id\": \"b4f605c8-6974-482d-a7fb-c0c6c3109108\"\n",
      "}\n",
      "\n"
     ]
    }
   ],
   "source": [
    "for s in slivers:\n",
    "    status, sliver_status = slice_manager.sliver_status(sliver=s)\n",
    "\n",
    "    print(\"Response Status {}\".format(status))\n",
    "    if status == Status.OK:\n",
    "        print()\n",
    "        print(\"Sliver Status {}\".format(sliver_status))\n",
    "        print()"
   ]
  },
  {
   "cell_type": "markdown",
   "metadata": {},
   "source": [
    "## Work on the servers starts here."
   ]
  },
  {
   "cell_type": "markdown",
   "metadata": {},
   "source": [
    "### We are going to use paramiko to connect to our servers through ssh."
   ]
  },
  {
   "cell_type": "code",
   "execution_count": 16,
   "metadata": {},
   "outputs": [],
   "source": [
    "import paramiko"
   ]
  },
  {
   "cell_type": "markdown",
   "metadata": {},
   "source": [
    "### We have two servers with two IPs."
   ]
  },
  {
   "cell_type": "code",
   "execution_count": 17,
   "metadata": {},
   "outputs": [
    {
     "data": {
      "text/plain": [
       "'63.239.135.120'"
      ]
     },
     "execution_count": 17,
     "metadata": {},
     "output_type": "execute_result"
    }
   ],
   "source": [
    "master_node_ip = list(filter(lambda sliver : sliver.name == \"master_node\",slivers))[0].management_ip\n",
    "master_node_ip"
   ]
  },
  {
   "cell_type": "code",
   "execution_count": 18,
   "metadata": {},
   "outputs": [
    {
     "data": {
      "text/plain": [
       "'63.239.135.114'"
      ]
     },
     "execution_count": 18,
     "metadata": {},
     "output_type": "execute_result"
    }
   ],
   "source": [
    "client_node_ip = list(filter(lambda sliver : sliver.name == \"client_node\",slivers))[0].management_ip\n",
    "client_node_ip"
   ]
  },
  {
   "cell_type": "markdown",
   "metadata": {},
   "source": [
    "### Below, we connect to some nodes."
   ]
  },
  {
   "cell_type": "code",
   "execution_count": 19,
   "metadata": {},
   "outputs": [
    {
     "data": {
      "text/plain": [
       "<paramiko.client.SSHClient at 0x7fa87728e700>"
      ]
     },
     "execution_count": 19,
     "metadata": {},
     "output_type": "execute_result"
    }
   ],
   "source": [
    "key = paramiko.RSAKey.from_private_key_file(\"/home/fabric/.ssh/id_rsa\")\n",
    "master_node = paramiko.SSHClient()\n",
    "master_node.load_system_host_keys()\n",
    "master_node.set_missing_host_key_policy(paramiko.MissingHostKeyPolicy())\n",
    "\n",
    "master_node.set_missing_host_key_policy(paramiko.AutoAddPolicy())\n",
    "master_node.connect(master_node_ip,username='ubuntu',pkey = key)\n",
    "\n",
    "master_node"
   ]
  },
  {
   "cell_type": "code",
   "execution_count": 20,
   "metadata": {},
   "outputs": [
    {
     "data": {
      "text/plain": [
       "<paramiko.client.SSHClient at 0x7fa835ff63a0>"
      ]
     },
     "execution_count": 20,
     "metadata": {},
     "output_type": "execute_result"
    }
   ],
   "source": [
    "key = paramiko.RSAKey.from_private_key_file(\"/home/fabric/.ssh/id_rsa\")\n",
    "client_node = paramiko.SSHClient()\n",
    "client_node.load_system_host_keys()\n",
    "client_node.set_missing_host_key_policy(paramiko.MissingHostKeyPolicy())\n",
    "\n",
    "client_node.set_missing_host_key_policy(paramiko.AutoAddPolicy())\n",
    "client_node.connect(client_node_ip,username='ubuntu',pkey = key)\n",
    "\n",
    "client_node"
   ]
  },
  {
   "cell_type": "markdown",
   "metadata": {},
   "source": [
    "### Connection should be established. Let's issue some test commands:"
   ]
  },
  {
   "cell_type": "code",
   "execution_count": 21,
   "metadata": {},
   "outputs": [
    {
     "name": "stdout",
     "output_type": "stream",
     "text": [
      "Distributor ID:\tUbuntu\n",
      "Description:\tUbuntu 20.04.3 LTS\n",
      "Release:\t20.04\n",
      "Codename:\tfocal\n",
      "\n",
      "No LSB modules are available.\n",
      "\n"
     ]
    }
   ],
   "source": [
    "stdin, stdout, stderr = master_node.exec_command('lsb_release -a')\n",
    "print(stdout.read().decode(\"utf-8\"))\n",
    "print(stderr.read().decode(\"utf-8\"))"
   ]
  },
  {
   "cell_type": "code",
   "execution_count": 22,
   "metadata": {},
   "outputs": [
    {
     "name": "stdout",
     "output_type": "stream",
     "text": [
      "1: lo: <LOOPBACK,UP,LOWER_UP> mtu 65536 qdisc noqueue state UNKNOWN group default qlen 1000\n",
      "    link/loopback 00:00:00:00:00:00 brd 00:00:00:00:00:00\n",
      "    inet 127.0.0.1/8 scope host lo\n",
      "       valid_lft forever preferred_lft forever\n",
      "    inet6 ::1/128 scope host \n",
      "       valid_lft forever preferred_lft forever\n",
      "2: ens3: <BROADCAST,MULTICAST,UP,LOWER_UP> mtu 9000 qdisc fq_codel state UP group default qlen 1000\n",
      "    link/ether fa:16:3e:a4:2c:ba brd ff:ff:ff:ff:ff:ff\n",
      "    inet 10.20.4.174/24 brd 10.20.4.255 scope global dynamic ens3\n",
      "       valid_lft 86252sec preferred_lft 86252sec\n",
      "    inet6 fe80::f816:3eff:fea4:2cba/64 scope link \n",
      "       valid_lft forever preferred_lft forever\n",
      "\n",
      "\n"
     ]
    }
   ],
   "source": [
    "stdin, stdout, stderr = master_node.exec_command('ip addr')\n",
    "print(stdout.read().decode(\"utf-8\"))\n",
    "print(stderr.read().decode(\"utf-8\"))"
   ]
  },
  {
   "cell_type": "code",
   "execution_count": 23,
   "metadata": {},
   "outputs": [
    {
     "name": "stdout",
     "output_type": "stream",
     "text": [
      "63.239.135.120\n",
      "  % Total    % Received % Xferd  Average Speed   Time    Time     Time  Current\n",
      "                                 Dload  Upload   Total   Spent    Left  Speed\n",
      "100    14  100    14    0     0     90      0 --:--:-- --:--:-- --:--:--    90\n",
      "\n"
     ]
    }
   ],
   "source": [
    "stdin, stdout, stderr = master_node.exec_command('curl https://ipinfo.io/ip')\n",
    "print(stdout.read().decode(\"utf-8\"))\n",
    "print(stderr.read().decode(\"utf-8\"))"
   ]
  },
  {
   "cell_type": "markdown",
   "metadata": {},
   "source": [
    "### Now, let's do a quick ping experiment. Let's let each of the servers ping the other server."
   ]
  },
  {
   "cell_type": "code",
   "execution_count": 24,
   "metadata": {},
   "outputs": [
    {
     "name": "stdout",
     "output_type": "stream",
     "text": [
      "PING 63.239.135.120 (63.239.135.120) 56(84) bytes of data.\n",
      "64 bytes from 63.239.135.120: icmp_seq=1 ttl=63 time=0.487 ms\n",
      "64 bytes from 63.239.135.120: icmp_seq=2 ttl=63 time=0.558 ms\n",
      "64 bytes from 63.239.135.120: icmp_seq=3 ttl=63 time=0.399 ms\n",
      "64 bytes from 63.239.135.120: icmp_seq=4 ttl=63 time=0.383 ms\n",
      "64 bytes from 63.239.135.120: icmp_seq=5 ttl=63 time=0.345 ms\n",
      "64 bytes from 63.239.135.120: icmp_seq=6 ttl=63 time=0.336 ms\n",
      "64 bytes from 63.239.135.120: icmp_seq=7 ttl=63 time=0.303 ms\n",
      "64 bytes from 63.239.135.120: icmp_seq=8 ttl=63 time=0.305 ms\n",
      "64 bytes from 63.239.135.120: icmp_seq=9 ttl=63 time=0.348 ms\n",
      "64 bytes from 63.239.135.120: icmp_seq=10 ttl=63 time=0.350 ms\n",
      "\n",
      "--- 63.239.135.120 ping statistics ---\n",
      "10 packets transmitted, 10 received, 0% packet loss, time 9211ms\n",
      "rtt min/avg/max/mdev = 0.303/0.381/0.558/0.077 ms\n",
      "\n",
      "\n"
     ]
    }
   ],
   "source": [
    "stdin, stdout, stderr = client_node.exec_command('ping -c 10 ' + master_node_ip)\n",
    "print(stdout.read().decode(\"utf-8\"))\n",
    "print(stderr.read().decode(\"utf-8\"))"
   ]
  },
  {
   "cell_type": "code",
   "execution_count": 25,
   "metadata": {},
   "outputs": [
    {
     "name": "stdout",
     "output_type": "stream",
     "text": [
      "PING 63.239.135.114 (63.239.135.114) 56(84) bytes of data.\n",
      "64 bytes from 63.239.135.114: icmp_seq=1 ttl=63 time=0.201 ms\n",
      "64 bytes from 63.239.135.114: icmp_seq=2 ttl=63 time=0.375 ms\n",
      "64 bytes from 63.239.135.114: icmp_seq=3 ttl=63 time=0.277 ms\n",
      "64 bytes from 63.239.135.114: icmp_seq=4 ttl=63 time=0.273 ms\n",
      "64 bytes from 63.239.135.114: icmp_seq=5 ttl=63 time=0.286 ms\n",
      "64 bytes from 63.239.135.114: icmp_seq=6 ttl=63 time=0.269 ms\n",
      "64 bytes from 63.239.135.114: icmp_seq=7 ttl=63 time=0.238 ms\n",
      "64 bytes from 63.239.135.114: icmp_seq=8 ttl=63 time=0.258 ms\n",
      "64 bytes from 63.239.135.114: icmp_seq=9 ttl=63 time=0.320 ms\n",
      "64 bytes from 63.239.135.114: icmp_seq=10 ttl=63 time=0.261 ms\n",
      "\n",
      "--- 63.239.135.114 ping statistics ---\n",
      "10 packets transmitted, 10 received, 0% packet loss, time 9195ms\n",
      "rtt min/avg/max/mdev = 0.201/0.275/0.375/0.044 ms\n",
      "\n",
      "\n"
     ]
    }
   ],
   "source": [
    "stdin, stdout, stderr = master_node.exec_command('ping -c 10 ' + client_node_ip)\n",
    "print(stdout.read().decode(\"utf-8\"))\n",
    "print(stderr.read().decode(\"utf-8\"))"
   ]
  },
  {
   "cell_type": "markdown",
   "metadata": {},
   "source": [
    "### Ping experiment complete. Both nodes can see each other."
   ]
  },
  {
   "cell_type": "markdown",
   "metadata": {},
   "source": [
    "### Now, let's start a Kubernetes cluster on those two nodes."
   ]
  },
  {
   "cell_type": "markdown",
   "metadata": {},
   "source": [
    "We follow the instructions that we have here: https://github.com/apache/openwhisk-deploy-kube/blob/master/docs/k8s-diy-ubuntu.md"
   ]
  },
  {
   "cell_type": "markdown",
   "metadata": {},
   "source": [
    "## Master node setup."
   ]
  },
  {
   "cell_type": "markdown",
   "metadata": {},
   "source": [
    "We now simply follow the instructions on our master node one by one."
   ]
  },
  {
   "cell_type": "code",
   "execution_count": 26,
   "metadata": {},
   "outputs": [
    {
     "name": "stdout",
     "output_type": "stream",
     "text": [
      "Hit:1 http://nova.clouds.archive.ubuntu.com/ubuntu focal InRelease\n",
      "Get:2 http://security.ubuntu.com/ubuntu focal-security InRelease [114 kB]\n",
      "Get:3 http://nova.clouds.archive.ubuntu.com/ubuntu focal-updates InRelease [114 kB]\n",
      "Get:4 http://nova.clouds.archive.ubuntu.com/ubuntu focal-backports InRelease [101 kB]\n",
      "Get:5 http://security.ubuntu.com/ubuntu focal-security/main amd64 Packages [987 kB]\n",
      "Get:6 http://nova.clouds.archive.ubuntu.com/ubuntu focal/universe amd64 Packages [8628 kB]\n",
      "Get:7 http://security.ubuntu.com/ubuntu focal-security/main Translation-en [184 kB]\n",
      "Get:8 http://security.ubuntu.com/ubuntu focal-security/main amd64 c-n-f Metadata [8880 B]\n",
      "Get:9 http://security.ubuntu.com/ubuntu focal-security/restricted amd64 Packages [526 kB]\n",
      "Get:10 http://security.ubuntu.com/ubuntu focal-security/restricted Translation-en [75.4 kB]\n",
      "Get:11 http://security.ubuntu.com/ubuntu focal-security/restricted amd64 c-n-f Metadata [528 B]\n",
      "Get:12 http://security.ubuntu.com/ubuntu focal-security/universe amd64 Packages [653 kB]\n",
      "Get:13 http://security.ubuntu.com/ubuntu focal-security/universe Translation-en [107 kB]\n",
      "Get:14 http://security.ubuntu.com/ubuntu focal-security/universe amd64 c-n-f Metadata [12.9 kB]\n",
      "Get:15 http://security.ubuntu.com/ubuntu focal-security/multiverse amd64 Packages [21.9 kB]\n",
      "Get:16 http://security.ubuntu.com/ubuntu focal-security/multiverse Translation-en [4948 B]\n",
      "Get:17 http://security.ubuntu.com/ubuntu focal-security/multiverse amd64 c-n-f Metadata [540 B]\n",
      "Get:18 http://nova.clouds.archive.ubuntu.com/ubuntu focal/universe Translation-en [5124 kB]\n",
      "Get:19 http://nova.clouds.archive.ubuntu.com/ubuntu focal/universe amd64 c-n-f Metadata [265 kB]\n",
      "Get:20 http://nova.clouds.archive.ubuntu.com/ubuntu focal/multiverse amd64 Packages [144 kB]\n",
      "Get:21 http://nova.clouds.archive.ubuntu.com/ubuntu focal/multiverse Translation-en [104 kB]\n",
      "Get:22 http://nova.clouds.archive.ubuntu.com/ubuntu focal/multiverse amd64 c-n-f Metadata [9136 B]\n",
      "Get:23 http://nova.clouds.archive.ubuntu.com/ubuntu focal-updates/main amd64 Packages [1344 kB]\n",
      "Get:24 http://nova.clouds.archive.ubuntu.com/ubuntu focal-updates/main Translation-en [276 kB]\n",
      "Get:25 http://nova.clouds.archive.ubuntu.com/ubuntu focal-updates/main amd64 c-n-f Metadata [14.5 kB]\n",
      "Get:26 http://nova.clouds.archive.ubuntu.com/ubuntu focal-updates/restricted amd64 Packages [569 kB]\n",
      "Get:27 http://nova.clouds.archive.ubuntu.com/ubuntu focal-updates/restricted Translation-en [81.6 kB]\n",
      "Get:28 http://nova.clouds.archive.ubuntu.com/ubuntu focal-updates/restricted amd64 c-n-f Metadata [528 B]\n",
      "Get:29 http://nova.clouds.archive.ubuntu.com/ubuntu focal-updates/universe amd64 Packages [876 kB]\n",
      "Get:30 http://nova.clouds.archive.ubuntu.com/ubuntu focal-updates/universe Translation-en [190 kB]\n",
      "Get:31 http://nova.clouds.archive.ubuntu.com/ubuntu focal-updates/universe amd64 c-n-f Metadata [19.5 kB]\n",
      "Get:32 http://nova.clouds.archive.ubuntu.com/ubuntu focal-updates/multiverse amd64 Packages [24.5 kB]\n",
      "Get:33 http://nova.clouds.archive.ubuntu.com/ubuntu focal-updates/multiverse Translation-en [6856 B]\n",
      "Get:34 http://nova.clouds.archive.ubuntu.com/ubuntu focal-updates/multiverse amd64 c-n-f Metadata [616 B]\n",
      "Get:35 http://nova.clouds.archive.ubuntu.com/ubuntu focal-backports/main amd64 Packages [2568 B]\n",
      "Get:36 http://nova.clouds.archive.ubuntu.com/ubuntu focal-backports/main Translation-en [1120 B]\n",
      "Get:37 http://nova.clouds.archive.ubuntu.com/ubuntu focal-backports/main amd64 c-n-f Metadata [400 B]\n",
      "Get:38 http://nova.clouds.archive.ubuntu.com/ubuntu focal-backports/restricted amd64 c-n-f Metadata [116 B]\n",
      "Get:39 http://nova.clouds.archive.ubuntu.com/ubuntu focal-backports/universe amd64 Packages [6588 B]\n",
      "Get:40 http://nova.clouds.archive.ubuntu.com/ubuntu focal-backports/universe Translation-en [3292 B]\n",
      "Get:41 http://nova.clouds.archive.ubuntu.com/ubuntu focal-backports/universe amd64 c-n-f Metadata [580 B]\n",
      "Get:42 http://nova.clouds.archive.ubuntu.com/ubuntu focal-backports/multiverse amd64 c-n-f Metadata [116 B]\n",
      "Fetched 20.6 MB in 3s (6037 kB/s)\n",
      "Reading package lists...\n",
      "Building dependency tree...\n",
      "Reading state information...\n",
      "73 packages can be upgraded. Run 'apt list --upgradable' to see them.\n",
      "\n",
      "\n",
      "WARNING: apt does not have a stable CLI interface. Use with caution in scripts.\n",
      "\n",
      "\n"
     ]
    }
   ],
   "source": [
    "stdin, stdout, stderr = master_node.exec_command('sudo apt update')\n",
    "print(stdout.read().decode(\"utf-8\"))\n",
    "print(stderr.read().decode(\"utf-8\"))"
   ]
  },
  {
   "cell_type": "code",
   "execution_count": 27,
   "metadata": {},
   "outputs": [
    {
     "name": "stdout",
     "output_type": "stream",
     "text": [
      "Reading package lists...\n",
      "Building dependency tree...\n",
      "Reading state information...\n",
      "The following additional packages will be installed:\n",
      "  bridge-utils containerd dns-root-data dnsmasq-base libidn11 pigz runc\n",
      "  ubuntu-fan\n",
      "Suggested packages:\n",
      "  ifupdown aufs-tools cgroupfs-mount | cgroup-lite debootstrap docker-doc\n",
      "  rinse zfs-fuse | zfsutils\n",
      "The following NEW packages will be installed:\n",
      "  bridge-utils containerd dns-root-data dnsmasq-base docker.io libidn11 pigz\n",
      "  runc ubuntu-fan\n",
      "0 upgraded, 9 newly installed, 0 to remove and 73 not upgraded.\n",
      "Need to get 74.5 MB of archives.\n",
      "After this operation, 361 MB of additional disk space will be used.\n",
      "Get:1 http://nova.clouds.archive.ubuntu.com/ubuntu focal/universe amd64 pigz amd64 2.4-1 [57.4 kB]\n",
      "Get:2 http://nova.clouds.archive.ubuntu.com/ubuntu focal/main amd64 bridge-utils amd64 1.6-2ubuntu1 [30.5 kB]\n",
      "Get:3 http://nova.clouds.archive.ubuntu.com/ubuntu focal-updates/main amd64 runc amd64 1.0.1-0ubuntu2~20.04.1 [4155 kB]\n",
      "Get:4 http://nova.clouds.archive.ubuntu.com/ubuntu focal-updates/main amd64 containerd amd64 1.5.5-0ubuntu3~20.04.1 [33.0 MB]\n",
      "Get:5 http://nova.clouds.archive.ubuntu.com/ubuntu focal/main amd64 dns-root-data all 2019052802 [5300 B]\n",
      "Get:6 http://nova.clouds.archive.ubuntu.com/ubuntu focal/main amd64 libidn11 amd64 1.33-2.2ubuntu2 [46.2 kB]\n",
      "Get:7 http://nova.clouds.archive.ubuntu.com/ubuntu focal-updates/main amd64 dnsmasq-base amd64 2.80-1.1ubuntu1.4 [315 kB]\n",
      "Get:8 http://nova.clouds.archive.ubuntu.com/ubuntu focal-updates/universe amd64 docker.io amd64 20.10.7-0ubuntu5~20.04.2 [36.9 MB]\n",
      "Get:9 http://nova.clouds.archive.ubuntu.com/ubuntu focal/main amd64 ubuntu-fan all 0.12.13 [34.5 kB]\n",
      "Fetched 74.5 MB in 3s (27.3 MB/s)\n",
      "Selecting previously unselected package pigz.\n",
      "(Reading database ... 63512 files and directories currently installed.)\n",
      "Preparing to unpack .../0-pigz_2.4-1_amd64.deb ...\n",
      "Unpacking pigz (2.4-1) ...\n",
      "Selecting previously unselected package bridge-utils.\n",
      "Preparing to unpack .../1-bridge-utils_1.6-2ubuntu1_amd64.deb ...\n",
      "Unpacking bridge-utils (1.6-2ubuntu1) ...\n",
      "Selecting previously unselected package runc.\n",
      "Preparing to unpack .../2-runc_1.0.1-0ubuntu2~20.04.1_amd64.deb ...\n",
      "Unpacking runc (1.0.1-0ubuntu2~20.04.1) ...\n",
      "Selecting previously unselected package containerd.\n",
      "Preparing to unpack .../3-containerd_1.5.5-0ubuntu3~20.04.1_amd64.deb ...\n",
      "Unpacking containerd (1.5.5-0ubuntu3~20.04.1) ...\n",
      "Selecting previously unselected package dns-root-data.\n",
      "Preparing to unpack .../4-dns-root-data_2019052802_all.deb ...\n",
      "Unpacking dns-root-data (2019052802) ...\n",
      "Selecting previously unselected package libidn11:amd64.\n",
      "Preparing to unpack .../5-libidn11_1.33-2.2ubuntu2_amd64.deb ...\n",
      "Unpacking libidn11:amd64 (1.33-2.2ubuntu2) ...\n",
      "Selecting previously unselected package dnsmasq-base.\n",
      "Preparing to unpack .../6-dnsmasq-base_2.80-1.1ubuntu1.4_amd64.deb ...\n",
      "Unpacking dnsmasq-base (2.80-1.1ubuntu1.4) ...\n",
      "Selecting previously unselected package docker.io.\n",
      "Preparing to unpack .../7-docker.io_20.10.7-0ubuntu5~20.04.2_amd64.deb ...\n",
      "Unpacking docker.io (20.10.7-0ubuntu5~20.04.2) ...\n",
      "Selecting previously unselected package ubuntu-fan.\n",
      "Preparing to unpack .../8-ubuntu-fan_0.12.13_all.deb ...\n",
      "Unpacking ubuntu-fan (0.12.13) ...\n",
      "Setting up runc (1.0.1-0ubuntu2~20.04.1) ...\n",
      "Setting up dns-root-data (2019052802) ...\n",
      "Setting up libidn11:amd64 (1.33-2.2ubuntu2) ...\n",
      "Setting up bridge-utils (1.6-2ubuntu1) ...\n",
      "debconf: unable to initialize frontend: Dialog\n",
      "debconf: (Dialog frontend will not work on a dumb terminal, an emacs shell buffer, or without a controlling terminal.)\n",
      "debconf: falling back to frontend: Readline\n",
      "Setting up pigz (2.4-1) ...\n",
      "Setting up containerd (1.5.5-0ubuntu3~20.04.1) ...\n",
      "Created symlink /etc/systemd/system/multi-user.target.wants/containerd.service → /lib/systemd/system/containerd.service.\n",
      "Setting up docker.io (20.10.7-0ubuntu5~20.04.2) ...\n",
      "debconf: unable to initialize frontend: Dialog\n",
      "debconf: (Dialog frontend will not work on a dumb terminal, an emacs shell buffer, or without a controlling terminal.)\n",
      "debconf: falling back to frontend: Readline\n",
      "Adding group `docker' (GID 119) ...\n",
      "Done.\n",
      "Created symlink /etc/systemd/system/multi-user.target.wants/docker.service → /lib/systemd/system/docker.service.\n",
      "Created symlink /etc/systemd/system/sockets.target.wants/docker.socket → /lib/systemd/system/docker.socket.\n",
      "Setting up dnsmasq-base (2.80-1.1ubuntu1.4) ...\n",
      "Setting up ubuntu-fan (0.12.13) ...\n",
      "Created symlink /etc/systemd/system/multi-user.target.wants/ubuntu-fan.service → /lib/systemd/system/ubuntu-fan.service.\n",
      "Processing triggers for systemd (245.4-4ubuntu3.11) ...\n",
      "Processing triggers for man-db (2.9.1-1) ...\n",
      "Processing triggers for dbus (1.12.16-2ubuntu2.1) ...\n",
      "Processing triggers for libc-bin (2.31-0ubuntu9.2) ...\n",
      "\n",
      "debconf: unable to initialize frontend: Dialog\n",
      "debconf: (Dialog frontend will not work on a dumb terminal, an emacs shell buffer, or without a controlling terminal.)\n",
      "debconf: falling back to frontend: Readline\n",
      "debconf: unable to initialize frontend: Readline\n",
      "debconf: (This frontend requires a controlling tty.)\n",
      "debconf: falling back to frontend: Teletype\n",
      "dpkg-preconfigure: unable to re-open stdin: \n",
      "\n"
     ]
    }
   ],
   "source": [
    "stdin, stdout, stderr = master_node.exec_command('sudo apt-get install -y docker.io')\n",
    "print(stdout.read().decode(\"utf-8\"))\n",
    "print(stderr.read().decode(\"utf-8\"))"
   ]
  },
  {
   "cell_type": "code",
   "execution_count": 28,
   "metadata": {},
   "outputs": [
    {
     "name": "stdout",
     "output_type": "stream",
     "text": [
      "Hit:1 http://nova.clouds.archive.ubuntu.com/ubuntu focal InRelease\n",
      "Hit:2 http://security.ubuntu.com/ubuntu focal-security InRelease\n",
      "Hit:3 http://nova.clouds.archive.ubuntu.com/ubuntu focal-updates InRelease\n",
      "Hit:4 http://nova.clouds.archive.ubuntu.com/ubuntu focal-backports InRelease\n",
      "Reading package lists...\n",
      "Reading package lists...\n",
      "Building dependency tree...\n",
      "Reading state information...\n",
      "The following additional packages will be installed:\n",
      "  libcurl4\n",
      "The following NEW packages will be installed:\n",
      "  apt-transport-https\n",
      "The following packages will be upgraded:\n",
      "  curl libcurl4\n",
      "2 upgraded, 1 newly installed, 0 to remove and 71 not upgraded.\n",
      "Need to get 400 kB of archives.\n",
      "After this operation, 164 kB of additional disk space will be used.\n",
      "Get:1 http://nova.clouds.archive.ubuntu.com/ubuntu focal-updates/universe amd64 apt-transport-https all 2.0.6 [4680 B]\n",
      "Get:2 http://nova.clouds.archive.ubuntu.com/ubuntu focal-updates/main amd64 curl amd64 7.68.0-1ubuntu2.7 [161 kB]\n",
      "Get:3 http://nova.clouds.archive.ubuntu.com/ubuntu focal-updates/main amd64 libcurl4 amd64 7.68.0-1ubuntu2.7 [234 kB]\n",
      "Fetched 400 kB in 1s (623 kB/s)\n",
      "Selecting previously unselected package apt-transport-https.\n",
      "(Reading database ... 63866 files and directories currently installed.)\n",
      "Preparing to unpack .../apt-transport-https_2.0.6_all.deb ...\n",
      "Unpacking apt-transport-https (2.0.6) ...\n",
      "Preparing to unpack .../curl_7.68.0-1ubuntu2.7_amd64.deb ...\n",
      "Unpacking curl (7.68.0-1ubuntu2.7) over (7.68.0-1ubuntu2.6) ...\n",
      "Preparing to unpack .../libcurl4_7.68.0-1ubuntu2.7_amd64.deb ...\n",
      "Unpacking libcurl4:amd64 (7.68.0-1ubuntu2.7) over (7.68.0-1ubuntu2.6) ...\n",
      "Setting up apt-transport-https (2.0.6) ...\n",
      "Setting up libcurl4:amd64 (7.68.0-1ubuntu2.7) ...\n",
      "Setting up curl (7.68.0-1ubuntu2.7) ...\n",
      "Processing triggers for man-db (2.9.1-1) ...\n",
      "Processing triggers for libc-bin (2.31-0ubuntu9.2) ...\n",
      "\n",
      "debconf: unable to initialize frontend: Dialog\n",
      "debconf: (Dialog frontend will not work on a dumb terminal, an emacs shell buffer, or without a controlling terminal.)\n",
      "debconf: falling back to frontend: Readline\n",
      "debconf: unable to initialize frontend: Readline\n",
      "debconf: (This frontend requires a controlling tty.)\n",
      "debconf: falling back to frontend: Teletype\n",
      "dpkg-preconfigure: unable to re-open stdin: \n",
      "\n"
     ]
    }
   ],
   "source": [
    "stdin, stdout, stderr = master_node.exec_command('sudo apt-get update && sudo apt-get install -y apt-transport-https curl')\n",
    "print(stdout.read().decode(\"utf-8\"))\n",
    "print(stderr.read().decode(\"utf-8\"))"
   ]
  },
  {
   "cell_type": "code",
   "execution_count": 29,
   "metadata": {},
   "outputs": [
    {
     "name": "stdout",
     "output_type": "stream",
     "text": [
      "OK\n",
      "\n",
      "Warning: apt-key output should not be parsed (stdout is not a terminal)\n",
      "\n"
     ]
    }
   ],
   "source": [
    "stdin, stdout, stderr = master_node.exec_command('curl -s https://packages.cloud.google.com/apt/doc/apt-key.gpg | sudo apt-key add -')\n",
    "print(stdout.read().decode(\"utf-8\"))\n",
    "print(stderr.read().decode(\"utf-8\"))"
   ]
  },
  {
   "cell_type": "code",
   "execution_count": 30,
   "metadata": {},
   "outputs": [
    {
     "name": "stdout",
     "output_type": "stream",
     "text": [
      "deb https://apt.kubernetes.io/ kubernetes-xenial main\n",
      "\n",
      "\n"
     ]
    }
   ],
   "source": [
    "stdin, stdout, stderr = master_node.exec_command('cat <<EOF | sudo tee /etc/apt/sources.list.d/kubernetes.list\\ndeb https://apt.kubernetes.io/ kubernetes-xenial main\\nEOF\\n')\n",
    "print(stdout.read().decode(\"utf-8\"))\n",
    "print(stderr.read().decode(\"utf-8\"))"
   ]
  },
  {
   "cell_type": "code",
   "execution_count": 31,
   "metadata": {},
   "outputs": [
    {
     "name": "stdout",
     "output_type": "stream",
     "text": [
      "deb https://apt.kubernetes.io/ kubernetes-xenial main\n",
      "\n",
      "\n"
     ]
    }
   ],
   "source": [
    "stdin, stdout, stderr = master_node.exec_command('cat /etc/apt/sources.list.d/kubernetes.list')\n",
    "print(stdout.read().decode(\"utf-8\"))\n",
    "print(stderr.read().decode(\"utf-8\"))"
   ]
  },
  {
   "cell_type": "code",
   "execution_count": 32,
   "metadata": {},
   "outputs": [
    {
     "name": "stdout",
     "output_type": "stream",
     "text": [
      "Hit:1 http://nova.clouds.archive.ubuntu.com/ubuntu focal InRelease\n",
      "Hit:2 http://security.ubuntu.com/ubuntu focal-security InRelease\n",
      "Hit:3 http://nova.clouds.archive.ubuntu.com/ubuntu focal-updates InRelease\n",
      "Hit:4 http://nova.clouds.archive.ubuntu.com/ubuntu focal-backports InRelease\n",
      "Get:5 https://packages.cloud.google.com/apt kubernetes-xenial InRelease [9383 B]\n",
      "Get:6 https://packages.cloud.google.com/apt kubernetes-xenial/main amd64 Packages [51.6 kB]\n",
      "Fetched 61.0 kB in 2s (37.8 kB/s)\n",
      "Reading package lists...\n",
      "\n",
      "\n"
     ]
    }
   ],
   "source": [
    "stdin, stdout, stderr = master_node.exec_command('sudo apt-get update')\n",
    "print(stdout.read().decode(\"utf-8\"))\n",
    "print(stderr.read().decode(\"utf-8\"))"
   ]
  },
  {
   "cell_type": "code",
   "execution_count": 33,
   "metadata": {},
   "outputs": [
    {
     "name": "stdout",
     "output_type": "stream",
     "text": [
      "Reading package lists...\n",
      "Building dependency tree...\n",
      "Reading state information...\n",
      "The following additional packages will be installed:\n",
      "  conntrack cri-tools ebtables kubernetes-cni socat\n",
      "Suggested packages:\n",
      "  nftables\n",
      "The following NEW packages will be installed:\n",
      "  conntrack cri-tools ebtables kubeadm kubectl kubelet kubernetes-cni socat\n",
      "0 upgraded, 8 newly installed, 0 to remove and 71 not upgraded.\n",
      "Need to get 70.9 MB of archives.\n",
      "After this operation, 297 MB of additional disk space will be used.\n",
      "Get:5 http://nova.clouds.archive.ubuntu.com/ubuntu focal/main amd64 conntrack amd64 1:1.4.5-2 [30.3 kB]\n",
      "Get:7 http://nova.clouds.archive.ubuntu.com/ubuntu focal/main amd64 ebtables amd64 2.0.11-3build1 [80.3 kB]\n",
      "Get:8 http://nova.clouds.archive.ubuntu.com/ubuntu focal/main amd64 socat amd64 1.7.3.3-2 [323 kB]\n",
      "Get:1 https://packages.cloud.google.com/apt kubernetes-xenial/main amd64 cri-tools amd64 1.19.0-00 [11.2 MB]\n",
      "Get:2 https://packages.cloud.google.com/apt kubernetes-xenial/main amd64 kubernetes-cni amd64 0.8.7-00 [25.0 MB]\n",
      "Get:3 https://packages.cloud.google.com/apt kubernetes-xenial/main amd64 kubelet amd64 1.19.0-00 [18.2 MB]\n",
      "Get:4 https://packages.cloud.google.com/apt kubernetes-xenial/main amd64 kubectl amd64 1.19.0-00 [8349 kB]\n",
      "Get:6 https://packages.cloud.google.com/apt kubernetes-xenial/main amd64 kubeadm amd64 1.19.0-00 [7759 kB]\n",
      "Fetched 70.9 MB in 4s (17.9 MB/s)\n",
      "Selecting previously unselected package conntrack.\n",
      "(Reading database ... 63870 files and directories currently installed.)\n",
      "Preparing to unpack .../0-conntrack_1%3a1.4.5-2_amd64.deb ...\n",
      "Unpacking conntrack (1:1.4.5-2) ...\n",
      "Selecting previously unselected package cri-tools.\n",
      "Preparing to unpack .../1-cri-tools_1.19.0-00_amd64.deb ...\n",
      "Unpacking cri-tools (1.19.0-00) ...\n",
      "Selecting previously unselected package ebtables.\n",
      "Preparing to unpack .../2-ebtables_2.0.11-3build1_amd64.deb ...\n",
      "Unpacking ebtables (2.0.11-3build1) ...\n",
      "Selecting previously unselected package kubernetes-cni.\n",
      "Preparing to unpack .../3-kubernetes-cni_0.8.7-00_amd64.deb ...\n",
      "Unpacking kubernetes-cni (0.8.7-00) ...\n",
      "Selecting previously unselected package socat.\n",
      "Preparing to unpack .../4-socat_1.7.3.3-2_amd64.deb ...\n",
      "Unpacking socat (1.7.3.3-2) ...\n",
      "Selecting previously unselected package kubelet.\n",
      "Preparing to unpack .../5-kubelet_1.19.0-00_amd64.deb ...\n",
      "Unpacking kubelet (1.19.0-00) ...\n",
      "Selecting previously unselected package kubectl.\n",
      "Preparing to unpack .../6-kubectl_1.19.0-00_amd64.deb ...\n",
      "Unpacking kubectl (1.19.0-00) ...\n",
      "Selecting previously unselected package kubeadm.\n",
      "Preparing to unpack .../7-kubeadm_1.19.0-00_amd64.deb ...\n",
      "Unpacking kubeadm (1.19.0-00) ...\n",
      "Setting up conntrack (1:1.4.5-2) ...\n",
      "Setting up kubectl (1.19.0-00) ...\n",
      "Setting up ebtables (2.0.11-3build1) ...\n",
      "Setting up socat (1.7.3.3-2) ...\n",
      "Setting up cri-tools (1.19.0-00) ...\n",
      "Setting up kubernetes-cni (0.8.7-00) ...\n",
      "Setting up kubelet (1.19.0-00) ...\n",
      "Created symlink /etc/systemd/system/multi-user.target.wants/kubelet.service → /lib/systemd/system/kubelet.service.\n",
      "Setting up kubeadm (1.19.0-00) ...\n",
      "Processing triggers for man-db (2.9.1-1) ...\n",
      "\n",
      "debconf: unable to initialize frontend: Dialog\n",
      "debconf: (Dialog frontend will not work on a dumb terminal, an emacs shell buffer, or without a controlling terminal.)\n",
      "debconf: falling back to frontend: Readline\n",
      "debconf: unable to initialize frontend: Readline\n",
      "debconf: (This frontend requires a controlling tty.)\n",
      "debconf: falling back to frontend: Teletype\n",
      "dpkg-preconfigure: unable to re-open stdin: \n",
      "\n"
     ]
    }
   ],
   "source": [
    "stdin, stdout, stderr = master_node.exec_command('sudo apt-get install -y kubelet=1.19.0-00 kubeadm=1.19.0-00 kubectl=1.19.0-00')\n",
    "print(stdout.read().decode(\"utf-8\"))\n",
    "print(stderr.read().decode(\"utf-8\"))"
   ]
  },
  {
   "cell_type": "code",
   "execution_count": 34,
   "metadata": {},
   "outputs": [
    {
     "name": "stdout",
     "output_type": "stream",
     "text": [
      "kubelet set on hold.\n",
      "kubeadm set on hold.\n",
      "kubectl set on hold.\n",
      "\n",
      "\n"
     ]
    }
   ],
   "source": [
    "stdin, stdout, stderr = master_node.exec_command('sudo apt-mark hold kubelet kubeadm kubectl')\n",
    "print(stdout.read().decode(\"utf-8\"))\n",
    "print(stderr.read().decode(\"utf-8\"))"
   ]
  },
  {
   "cell_type": "code",
   "execution_count": 35,
   "metadata": {},
   "outputs": [
    {
     "name": "stdout",
     "output_type": "stream",
     "text": [
      "\n",
      "\n"
     ]
    }
   ],
   "source": [
    "stdin, stdout, stderr = master_node.exec_command('sudo swapoff -a')\n",
    "print(stdout.read().decode(\"utf-8\"))\n",
    "print(stderr.read().decode(\"utf-8\"))"
   ]
  },
  {
   "cell_type": "markdown",
   "metadata": {},
   "source": [
    "### The setup part is complete. Now, we issue the kubeadm init command below:"
   ]
  },
  {
   "cell_type": "code",
   "execution_count": 36,
   "metadata": {},
   "outputs": [
    {
     "name": "stdout",
     "output_type": "stream",
     "text": [
      "[init] Using Kubernetes version: v1.19.16\n",
      "[preflight] Running pre-flight checks\n",
      "[preflight] Pulling images required for setting up a Kubernetes cluster\n",
      "[preflight] This might take a minute or two, depending on the speed of your internet connection\n",
      "[preflight] You can also perform this action in beforehand using 'kubeadm config images pull'\n",
      "[certs] Using certificateDir folder \"/etc/kubernetes/pki\"\n",
      "[certs] Generating \"ca\" certificate and key\n",
      "[certs] Generating \"apiserver\" certificate and key\n",
      "[certs] apiserver serving cert is signed for DNS names [6d14288f-a57c-4b7f-9c56-1d8be60e4d71-master-node kubernetes kubernetes.default kubernetes.default.svc kubernetes.default.svc.cluster.local] and IPs [10.96.0.1 10.20.4.174 63.239.135.120]\n",
      "[certs] Generating \"apiserver-kubelet-client\" certificate and key\n",
      "[certs] Generating \"front-proxy-ca\" certificate and key\n",
      "[certs] Generating \"front-proxy-client\" certificate and key\n",
      "[certs] Generating \"etcd/ca\" certificate and key\n",
      "[certs] Generating \"etcd/server\" certificate and key\n",
      "[certs] etcd/server serving cert is signed for DNS names [6d14288f-a57c-4b7f-9c56-1d8be60e4d71-master-node localhost] and IPs [10.20.4.174 127.0.0.1 ::1]\n",
      "[certs] Generating \"etcd/peer\" certificate and key\n",
      "[certs] etcd/peer serving cert is signed for DNS names [6d14288f-a57c-4b7f-9c56-1d8be60e4d71-master-node localhost] and IPs [10.20.4.174 127.0.0.1 ::1]\n",
      "[certs] Generating \"etcd/healthcheck-client\" certificate and key\n",
      "[certs] Generating \"apiserver-etcd-client\" certificate and key\n",
      "[certs] Generating \"sa\" key and public key\n",
      "[kubeconfig] Using kubeconfig folder \"/etc/kubernetes\"\n",
      "[kubeconfig] Writing \"admin.conf\" kubeconfig file\n",
      "[kubeconfig] Writing \"kubelet.conf\" kubeconfig file\n",
      "[kubeconfig] Writing \"controller-manager.conf\" kubeconfig file\n",
      "[kubeconfig] Writing \"scheduler.conf\" kubeconfig file\n",
      "[kubelet-start] Writing kubelet environment file with flags to file \"/var/lib/kubelet/kubeadm-flags.env\"\n",
      "[kubelet-start] Writing kubelet configuration to file \"/var/lib/kubelet/config.yaml\"\n",
      "[kubelet-start] Starting the kubelet\n",
      "[control-plane] Using manifest folder \"/etc/kubernetes/manifests\"\n",
      "[control-plane] Creating static Pod manifest for \"kube-apiserver\"\n",
      "[control-plane] Creating static Pod manifest for \"kube-controller-manager\"\n",
      "[control-plane] Creating static Pod manifest for \"kube-scheduler\"\n",
      "[etcd] Creating static Pod manifest for local etcd in \"/etc/kubernetes/manifests\"\n",
      "[wait-control-plane] Waiting for the kubelet to boot up the control plane as static Pods from directory \"/etc/kubernetes/manifests\". This can take up to 4m0s\n",
      "[apiclient] All control plane components are healthy after 16.002930 seconds\n",
      "[upload-config] Storing the configuration used in ConfigMap \"kubeadm-config\" in the \"kube-system\" Namespace\n",
      "[kubelet] Creating a ConfigMap \"kubelet-config-1.19\" in namespace kube-system with the configuration for the kubelets in the cluster\n",
      "[upload-certs] Skipping phase. Please see --upload-certs\n",
      "[mark-control-plane] Marking the node 6d14288f-a57c-4b7f-9c56-1d8be60e4d71-master-node as control-plane by adding the label \"node-role.kubernetes.io/master=''\"\n",
      "[mark-control-plane] Marking the node 6d14288f-a57c-4b7f-9c56-1d8be60e4d71-master-node as control-plane by adding the taints [node-role.kubernetes.io/master:NoSchedule]\n",
      "[bootstrap-token] Using token: nhdhga.zib7pwcaiio87i71\n",
      "[bootstrap-token] Configuring bootstrap tokens, cluster-info ConfigMap, RBAC Roles\n",
      "[bootstrap-token] configured RBAC rules to allow Node Bootstrap tokens to get nodes\n",
      "[bootstrap-token] configured RBAC rules to allow Node Bootstrap tokens to post CSRs in order for nodes to get long term certificate credentials\n",
      "[bootstrap-token] configured RBAC rules to allow the csrapprover controller automatically approve CSRs from a Node Bootstrap Token\n",
      "[bootstrap-token] configured RBAC rules to allow certificate rotation for all node client certificates in the cluster\n",
      "[bootstrap-token] Creating the \"cluster-info\" ConfigMap in the \"kube-public\" namespace\n",
      "[kubelet-finalize] Updating \"/etc/kubernetes/kubelet.conf\" to point to a rotatable kubelet client certificate and key\n",
      "[addons] Applied essential addon: CoreDNS\n",
      "[addons] Applied essential addon: kube-proxy\n",
      "\n",
      "Your Kubernetes control-plane has initialized successfully!\n",
      "\n",
      "To start using your cluster, you need to run the following as a regular user:\n",
      "\n",
      "  mkdir -p $HOME/.kube\n",
      "  sudo cp -i /etc/kubernetes/admin.conf $HOME/.kube/config\n",
      "  sudo chown $(id -u):$(id -g) $HOME/.kube/config\n",
      "\n",
      "You should now deploy a pod network to the cluster.\n",
      "Run \"kubectl apply -f [podnetwork].yaml\" with one of the options listed at:\n",
      "  https://kubernetes.io/docs/concepts/cluster-administration/addons/\n",
      "\n",
      "You can now join any number of control-plane nodes by copying certificate authorities\n",
      "and service account keys on each node and then running the following as root:\n",
      "\n",
      "  kubeadm join 63.239.135.120:6443 --token nhdhga.zib7pwcaiio87i71 \\\n",
      "    --discovery-token-ca-cert-hash sha256:68f445d2c73ce211505ed76998aa300f6d73fac06284b5aee68077d7868df413 \\\n",
      "    --control-plane \n",
      "\n",
      "Then you can join any number of worker nodes by running the following on each as root:\n",
      "\n",
      "kubeadm join 63.239.135.120:6443 --token nhdhga.zib7pwcaiio87i71 \\\n",
      "    --discovery-token-ca-cert-hash sha256:68f445d2c73ce211505ed76998aa300f6d73fac06284b5aee68077d7868df413 \n",
      "\n",
      "I1121 19:29:23.905005    5302 version.go:252] remote version is much newer: v1.22.4; falling back to: stable-1.19\n",
      "W1121 19:29:24.349681    5302 configset.go:348] WARNING: kubeadm cannot validate component configs for API groups [kubelet.config.k8s.io kubeproxy.config.k8s.io]\n",
      "\t[WARNING IsDockerSystemdCheck]: detected \"cgroupfs\" as the Docker cgroup driver. The recommended driver is \"systemd\". Please follow the guide at https://kubernetes.io/docs/setup/cri/\n",
      "\t[WARNING SystemVerification]: this Docker version is not on the list of validated versions: 20.10.7. Latest validated version: 19.03\n",
      "\n"
     ]
    }
   ],
   "source": [
    "stdin, stdout, stderr = master_node.exec_command('sudo kubeadm init --pod-network-cidr=192.168.0.0/16 --apiserver-advertise-address=0.0.0.0 --control-plane-endpoint=' + master_node_ip)\n",
    "print(stdout.read().decode(\"utf-8\"))\n",
    "print(stderr.read().decode(\"utf-8\"))"
   ]
  },
  {
   "cell_type": "markdown",
   "metadata": {},
   "source": [
    "### As stated, the initialization was successful. Note that we need to save the join command somewhere, because we will need to use it later at the client."
   ]
  },
  {
   "cell_type": "code",
   "execution_count": 37,
   "metadata": {},
   "outputs": [
    {
     "name": "stdout",
     "output_type": "stream",
     "text": [
      "\n",
      "\n"
     ]
    }
   ],
   "source": [
    "stdin, stdout, stderr = master_node.exec_command('mkdir -p $HOME/.kube')\n",
    "print(stdout.read().decode(\"utf-8\"))\n",
    "print(stderr.read().decode(\"utf-8\"))"
   ]
  },
  {
   "cell_type": "code",
   "execution_count": 38,
   "metadata": {},
   "outputs": [
    {
     "name": "stdout",
     "output_type": "stream",
     "text": [
      "\n",
      "\n"
     ]
    }
   ],
   "source": [
    "stdin, stdout, stderr = master_node.exec_command('sudo cp -i /etc/kubernetes/admin.conf $HOME/.kube/config')\n",
    "print(stdout.read().decode(\"utf-8\"))\n",
    "print(stderr.read().decode(\"utf-8\"))"
   ]
  },
  {
   "cell_type": "code",
   "execution_count": 39,
   "metadata": {},
   "outputs": [
    {
     "name": "stdout",
     "output_type": "stream",
     "text": [
      "\n",
      "\n"
     ]
    }
   ],
   "source": [
    "stdin, stdout, stderr = master_node.exec_command('sudo chown $(id -u):$(id -g) $HOME/.kube/config')\n",
    "print(stdout.read().decode(\"utf-8\"))\n",
    "print(stderr.read().decode(\"utf-8\"))"
   ]
  },
  {
   "cell_type": "code",
   "execution_count": 40,
   "metadata": {},
   "outputs": [
    {
     "name": "stdout",
     "output_type": "stream",
     "text": [
      "configmap/calico-config created\n",
      "customresourcedefinition.apiextensions.k8s.io/bgpconfigurations.crd.projectcalico.org created\n",
      "customresourcedefinition.apiextensions.k8s.io/bgppeers.crd.projectcalico.org created\n",
      "customresourcedefinition.apiextensions.k8s.io/blockaffinities.crd.projectcalico.org created\n",
      "customresourcedefinition.apiextensions.k8s.io/caliconodestatuses.crd.projectcalico.org created\n",
      "customresourcedefinition.apiextensions.k8s.io/clusterinformations.crd.projectcalico.org created\n",
      "customresourcedefinition.apiextensions.k8s.io/felixconfigurations.crd.projectcalico.org created\n",
      "customresourcedefinition.apiextensions.k8s.io/globalnetworkpolicies.crd.projectcalico.org created\n",
      "customresourcedefinition.apiextensions.k8s.io/globalnetworksets.crd.projectcalico.org created\n",
      "customresourcedefinition.apiextensions.k8s.io/hostendpoints.crd.projectcalico.org created\n",
      "customresourcedefinition.apiextensions.k8s.io/ipamblocks.crd.projectcalico.org created\n",
      "customresourcedefinition.apiextensions.k8s.io/ipamconfigs.crd.projectcalico.org created\n",
      "customresourcedefinition.apiextensions.k8s.io/ipamhandles.crd.projectcalico.org created\n",
      "customresourcedefinition.apiextensions.k8s.io/ippools.crd.projectcalico.org created\n",
      "customresourcedefinition.apiextensions.k8s.io/ipreservations.crd.projectcalico.org created\n",
      "customresourcedefinition.apiextensions.k8s.io/kubecontrollersconfigurations.crd.projectcalico.org created\n",
      "customresourcedefinition.apiextensions.k8s.io/networkpolicies.crd.projectcalico.org created\n",
      "customresourcedefinition.apiextensions.k8s.io/networksets.crd.projectcalico.org created\n",
      "clusterrole.rbac.authorization.k8s.io/calico-kube-controllers created\n",
      "clusterrolebinding.rbac.authorization.k8s.io/calico-kube-controllers created\n",
      "clusterrole.rbac.authorization.k8s.io/calico-node created\n",
      "clusterrolebinding.rbac.authorization.k8s.io/calico-node created\n",
      "daemonset.apps/calico-node created\n",
      "serviceaccount/calico-node created\n",
      "deployment.apps/calico-kube-controllers created\n",
      "serviceaccount/calico-kube-controllers created\n",
      "poddisruptionbudget.policy/calico-kube-controllers created\n",
      "\n",
      "\n"
     ]
    }
   ],
   "source": [
    "stdin, stdout, stderr = master_node.exec_command('kubectl apply -f https://docs.projectcalico.org/manifests/calico.yaml')\n",
    "print(stdout.read().decode(\"utf-8\"))\n",
    "print(stderr.read().decode(\"utf-8\"))"
   ]
  },
  {
   "cell_type": "code",
   "execution_count": 43,
   "metadata": {},
   "outputs": [
    {
     "name": "stdout",
     "output_type": "stream",
     "text": [
      "NAME                                               STATUS   ROLES    AGE     VERSION\n",
      "6d14288f-a57c-4b7f-9c56-1d8be60e4d71-master-node   Ready    master   7m35s   v1.19.0\n",
      "\n",
      "\n"
     ]
    }
   ],
   "source": [
    "stdin, stdout, stderr = master_node.exec_command('kubectl get nodes')\n",
    "print(stdout.read().decode(\"utf-8\"))\n",
    "print(stderr.read().decode(\"utf-8\"))"
   ]
  },
  {
   "cell_type": "markdown",
   "metadata": {},
   "source": [
    "## Client side setup."
   ]
  },
  {
   "cell_type": "markdown",
   "metadata": {},
   "source": [
    "### We are now done with the server. Let's do the client. Remember, we are following the instructions in the link that we have previously mentioned."
   ]
  },
  {
   "cell_type": "code",
   "execution_count": 44,
   "metadata": {},
   "outputs": [
    {
     "name": "stdout",
     "output_type": "stream",
     "text": [
      "Hit:1 http://nova.clouds.archive.ubuntu.com/ubuntu focal InRelease\n",
      "Get:2 http://nova.clouds.archive.ubuntu.com/ubuntu focal-updates InRelease [114 kB]\n",
      "Get:3 http://nova.clouds.archive.ubuntu.com/ubuntu focal-backports InRelease [101 kB]\n",
      "Get:4 http://security.ubuntu.com/ubuntu focal-security InRelease [114 kB]\n",
      "Get:5 http://nova.clouds.archive.ubuntu.com/ubuntu focal/universe amd64 Packages [8628 kB]\n",
      "Get:6 http://nova.clouds.archive.ubuntu.com/ubuntu focal/universe Translation-en [5124 kB]\n",
      "Get:7 http://nova.clouds.archive.ubuntu.com/ubuntu focal/universe amd64 c-n-f Metadata [265 kB]\n",
      "Get:8 http://nova.clouds.archive.ubuntu.com/ubuntu focal/multiverse amd64 Packages [144 kB]\n",
      "Get:9 http://nova.clouds.archive.ubuntu.com/ubuntu focal/multiverse Translation-en [104 kB]\n",
      "Get:10 http://nova.clouds.archive.ubuntu.com/ubuntu focal/multiverse amd64 c-n-f Metadata [9136 B]\n",
      "Get:11 http://nova.clouds.archive.ubuntu.com/ubuntu focal-updates/main amd64 Packages [1344 kB]\n",
      "Get:12 http://nova.clouds.archive.ubuntu.com/ubuntu focal-updates/main Translation-en [276 kB]\n",
      "Get:13 http://nova.clouds.archive.ubuntu.com/ubuntu focal-updates/main amd64 c-n-f Metadata [14.5 kB]\n",
      "Get:14 http://nova.clouds.archive.ubuntu.com/ubuntu focal-updates/restricted amd64 Packages [569 kB]\n",
      "Get:15 http://nova.clouds.archive.ubuntu.com/ubuntu focal-updates/restricted Translation-en [81.6 kB]\n",
      "Get:16 http://nova.clouds.archive.ubuntu.com/ubuntu focal-updates/restricted amd64 c-n-f Metadata [528 B]\n",
      "Get:17 http://nova.clouds.archive.ubuntu.com/ubuntu focal-updates/universe amd64 Packages [876 kB]\n",
      "Get:18 http://nova.clouds.archive.ubuntu.com/ubuntu focal-updates/universe Translation-en [190 kB]\n",
      "Get:19 http://nova.clouds.archive.ubuntu.com/ubuntu focal-updates/universe amd64 c-n-f Metadata [19.5 kB]\n",
      "Get:20 http://nova.clouds.archive.ubuntu.com/ubuntu focal-updates/multiverse amd64 Packages [24.5 kB]\n",
      "Get:21 http://nova.clouds.archive.ubuntu.com/ubuntu focal-updates/multiverse Translation-en [6856 B]\n",
      "Get:22 http://nova.clouds.archive.ubuntu.com/ubuntu focal-updates/multiverse amd64 c-n-f Metadata [616 B]\n",
      "Get:23 http://nova.clouds.archive.ubuntu.com/ubuntu focal-backports/main amd64 Packages [2568 B]\n",
      "Get:24 http://nova.clouds.archive.ubuntu.com/ubuntu focal-backports/main Translation-en [1120 B]\n",
      "Get:25 http://nova.clouds.archive.ubuntu.com/ubuntu focal-backports/main amd64 c-n-f Metadata [400 B]\n",
      "Get:26 http://nova.clouds.archive.ubuntu.com/ubuntu focal-backports/restricted amd64 c-n-f Metadata [116 B]\n",
      "Get:27 http://nova.clouds.archive.ubuntu.com/ubuntu focal-backports/universe amd64 Packages [6588 B]\n",
      "Get:28 http://nova.clouds.archive.ubuntu.com/ubuntu focal-backports/universe Translation-en [3292 B]\n",
      "Get:29 http://nova.clouds.archive.ubuntu.com/ubuntu focal-backports/universe amd64 c-n-f Metadata [580 B]\n",
      "Get:30 http://nova.clouds.archive.ubuntu.com/ubuntu focal-backports/multiverse amd64 c-n-f Metadata [116 B]\n",
      "Get:31 http://security.ubuntu.com/ubuntu focal-security/main amd64 Packages [987 kB]\n",
      "Get:32 http://security.ubuntu.com/ubuntu focal-security/main Translation-en [184 kB]\n",
      "Get:33 http://security.ubuntu.com/ubuntu focal-security/main amd64 c-n-f Metadata [8880 B]\n",
      "Get:34 http://security.ubuntu.com/ubuntu focal-security/restricted amd64 Packages [526 kB]\n",
      "Get:35 http://security.ubuntu.com/ubuntu focal-security/restricted Translation-en [75.4 kB]\n",
      "Get:36 http://security.ubuntu.com/ubuntu focal-security/restricted amd64 c-n-f Metadata [528 B]\n",
      "Get:37 http://security.ubuntu.com/ubuntu focal-security/universe amd64 Packages [653 kB]\n",
      "Get:38 http://security.ubuntu.com/ubuntu focal-security/universe Translation-en [107 kB]\n",
      "Get:39 http://security.ubuntu.com/ubuntu focal-security/universe amd64 c-n-f Metadata [12.9 kB]\n",
      "Get:40 http://security.ubuntu.com/ubuntu focal-security/multiverse amd64 Packages [21.9 kB]\n",
      "Get:41 http://security.ubuntu.com/ubuntu focal-security/multiverse Translation-en [4948 B]\n",
      "Get:42 http://security.ubuntu.com/ubuntu focal-security/multiverse amd64 c-n-f Metadata [540 B]\n",
      "Fetched 20.6 MB in 3s (7161 kB/s)\n",
      "Reading package lists...\n",
      "\n",
      "\n"
     ]
    }
   ],
   "source": [
    "stdin, stdout, stderr = client_node.exec_command('sudo apt-get update')\n",
    "print(stdout.read().decode(\"utf-8\"))\n",
    "print(stderr.read().decode(\"utf-8\"))"
   ]
  },
  {
   "cell_type": "code",
   "execution_count": 45,
   "metadata": {},
   "outputs": [
    {
     "name": "stdout",
     "output_type": "stream",
     "text": [
      "Reading package lists...\n",
      "Building dependency tree...\n",
      "Reading state information...\n",
      "The following additional packages will be installed:\n",
      "  bridge-utils containerd dns-root-data dnsmasq-base libidn11 pigz runc\n",
      "  ubuntu-fan\n",
      "Suggested packages:\n",
      "  ifupdown aufs-tools cgroupfs-mount | cgroup-lite debootstrap docker-doc\n",
      "  rinse zfs-fuse | zfsutils\n",
      "The following NEW packages will be installed:\n",
      "  bridge-utils containerd dns-root-data dnsmasq-base docker.io libidn11 pigz\n",
      "  runc ubuntu-fan\n",
      "0 upgraded, 9 newly installed, 0 to remove and 73 not upgraded.\n",
      "Need to get 74.5 MB of archives.\n",
      "After this operation, 361 MB of additional disk space will be used.\n",
      "Get:1 http://nova.clouds.archive.ubuntu.com/ubuntu focal/universe amd64 pigz amd64 2.4-1 [57.4 kB]\n",
      "Get:2 http://nova.clouds.archive.ubuntu.com/ubuntu focal/main amd64 bridge-utils amd64 1.6-2ubuntu1 [30.5 kB]\n",
      "Get:3 http://nova.clouds.archive.ubuntu.com/ubuntu focal-updates/main amd64 runc amd64 1.0.1-0ubuntu2~20.04.1 [4155 kB]\n",
      "Get:4 http://nova.clouds.archive.ubuntu.com/ubuntu focal-updates/main amd64 containerd amd64 1.5.5-0ubuntu3~20.04.1 [33.0 MB]\n",
      "Get:5 http://nova.clouds.archive.ubuntu.com/ubuntu focal/main amd64 dns-root-data all 2019052802 [5300 B]\n",
      "Get:6 http://nova.clouds.archive.ubuntu.com/ubuntu focal/main amd64 libidn11 amd64 1.33-2.2ubuntu2 [46.2 kB]\n",
      "Get:7 http://nova.clouds.archive.ubuntu.com/ubuntu focal-updates/main amd64 dnsmasq-base amd64 2.80-1.1ubuntu1.4 [315 kB]\n",
      "Get:8 http://nova.clouds.archive.ubuntu.com/ubuntu focal-updates/universe amd64 docker.io amd64 20.10.7-0ubuntu5~20.04.2 [36.9 MB]\n",
      "Get:9 http://nova.clouds.archive.ubuntu.com/ubuntu focal/main amd64 ubuntu-fan all 0.12.13 [34.5 kB]\n",
      "Fetched 74.5 MB in 1s (95.0 MB/s)\n",
      "Selecting previously unselected package pigz.\n",
      "(Reading database ... 63512 files and directories currently installed.)\n",
      "Preparing to unpack .../0-pigz_2.4-1_amd64.deb ...\n",
      "Unpacking pigz (2.4-1) ...\n",
      "Selecting previously unselected package bridge-utils.\n",
      "Preparing to unpack .../1-bridge-utils_1.6-2ubuntu1_amd64.deb ...\n",
      "Unpacking bridge-utils (1.6-2ubuntu1) ...\n",
      "Selecting previously unselected package runc.\n",
      "Preparing to unpack .../2-runc_1.0.1-0ubuntu2~20.04.1_amd64.deb ...\n",
      "Unpacking runc (1.0.1-0ubuntu2~20.04.1) ...\n",
      "Selecting previously unselected package containerd.\n",
      "Preparing to unpack .../3-containerd_1.5.5-0ubuntu3~20.04.1_amd64.deb ...\n",
      "Unpacking containerd (1.5.5-0ubuntu3~20.04.1) ...\n",
      "Selecting previously unselected package dns-root-data.\n",
      "Preparing to unpack .../4-dns-root-data_2019052802_all.deb ...\n",
      "Unpacking dns-root-data (2019052802) ...\n",
      "Selecting previously unselected package libidn11:amd64.\n",
      "Preparing to unpack .../5-libidn11_1.33-2.2ubuntu2_amd64.deb ...\n",
      "Unpacking libidn11:amd64 (1.33-2.2ubuntu2) ...\n",
      "Selecting previously unselected package dnsmasq-base.\n",
      "Preparing to unpack .../6-dnsmasq-base_2.80-1.1ubuntu1.4_amd64.deb ...\n",
      "Unpacking dnsmasq-base (2.80-1.1ubuntu1.4) ...\n",
      "Selecting previously unselected package docker.io.\n",
      "Preparing to unpack .../7-docker.io_20.10.7-0ubuntu5~20.04.2_amd64.deb ...\n",
      "Unpacking docker.io (20.10.7-0ubuntu5~20.04.2) ...\n",
      "Selecting previously unselected package ubuntu-fan.\n",
      "Preparing to unpack .../8-ubuntu-fan_0.12.13_all.deb ...\n",
      "Unpacking ubuntu-fan (0.12.13) ...\n",
      "Setting up runc (1.0.1-0ubuntu2~20.04.1) ...\n",
      "Setting up dns-root-data (2019052802) ...\n",
      "Setting up libidn11:amd64 (1.33-2.2ubuntu2) ...\n",
      "Setting up bridge-utils (1.6-2ubuntu1) ...\n",
      "debconf: unable to initialize frontend: Dialog\n",
      "debconf: (Dialog frontend will not work on a dumb terminal, an emacs shell buffer, or without a controlling terminal.)\n",
      "debconf: falling back to frontend: Readline\n",
      "Setting up pigz (2.4-1) ...\n",
      "Setting up containerd (1.5.5-0ubuntu3~20.04.1) ...\n",
      "Created symlink /etc/systemd/system/multi-user.target.wants/containerd.service → /lib/systemd/system/containerd.service.\n",
      "Setting up docker.io (20.10.7-0ubuntu5~20.04.2) ...\n",
      "debconf: unable to initialize frontend: Dialog\n",
      "debconf: (Dialog frontend will not work on a dumb terminal, an emacs shell buffer, or without a controlling terminal.)\n",
      "debconf: falling back to frontend: Readline\n",
      "Adding group `docker' (GID 119) ...\n",
      "Done.\n",
      "Created symlink /etc/systemd/system/multi-user.target.wants/docker.service → /lib/systemd/system/docker.service.\n",
      "Created symlink /etc/systemd/system/sockets.target.wants/docker.socket → /lib/systemd/system/docker.socket.\n",
      "Setting up dnsmasq-base (2.80-1.1ubuntu1.4) ...\n",
      "Setting up ubuntu-fan (0.12.13) ...\n",
      "Created symlink /etc/systemd/system/multi-user.target.wants/ubuntu-fan.service → /lib/systemd/system/ubuntu-fan.service.\n",
      "Processing triggers for systemd (245.4-4ubuntu3.11) ...\n",
      "Processing triggers for man-db (2.9.1-1) ...\n",
      "Processing triggers for dbus (1.12.16-2ubuntu2.1) ...\n",
      "Processing triggers for libc-bin (2.31-0ubuntu9.2) ...\n",
      "\n",
      "debconf: unable to initialize frontend: Dialog\n",
      "debconf: (Dialog frontend will not work on a dumb terminal, an emacs shell buffer, or without a controlling terminal.)\n",
      "debconf: falling back to frontend: Readline\n",
      "debconf: unable to initialize frontend: Readline\n",
      "debconf: (This frontend requires a controlling tty.)\n",
      "debconf: falling back to frontend: Teletype\n",
      "dpkg-preconfigure: unable to re-open stdin: \n",
      "\n"
     ]
    }
   ],
   "source": [
    "stdin, stdout, stderr = client_node.exec_command('sudo apt-get install -y docker.io')\n",
    "print(stdout.read().decode(\"utf-8\"))\n",
    "print(stderr.read().decode(\"utf-8\"))"
   ]
  },
  {
   "cell_type": "code",
   "execution_count": 46,
   "metadata": {},
   "outputs": [
    {
     "name": "stdout",
     "output_type": "stream",
     "text": [
      "Hit:1 http://nova.clouds.archive.ubuntu.com/ubuntu focal InRelease\n",
      "Hit:2 http://nova.clouds.archive.ubuntu.com/ubuntu focal-updates InRelease\n",
      "Hit:3 http://nova.clouds.archive.ubuntu.com/ubuntu focal-backports InRelease\n",
      "Hit:4 http://security.ubuntu.com/ubuntu focal-security InRelease\n",
      "Reading package lists...\n",
      "Reading package lists...\n",
      "Building dependency tree...\n",
      "Reading state information...\n",
      "The following additional packages will be installed:\n",
      "  libcurl4\n",
      "The following NEW packages will be installed:\n",
      "  apt-transport-https\n",
      "The following packages will be upgraded:\n",
      "  curl libcurl4\n",
      "2 upgraded, 1 newly installed, 0 to remove and 71 not upgraded.\n",
      "Need to get 400 kB of archives.\n",
      "After this operation, 164 kB of additional disk space will be used.\n",
      "Get:1 http://nova.clouds.archive.ubuntu.com/ubuntu focal-updates/universe amd64 apt-transport-https all 2.0.6 [4680 B]\n",
      "Get:2 http://nova.clouds.archive.ubuntu.com/ubuntu focal-updates/main amd64 curl amd64 7.68.0-1ubuntu2.7 [161 kB]\n",
      "Get:3 http://nova.clouds.archive.ubuntu.com/ubuntu focal-updates/main amd64 libcurl4 amd64 7.68.0-1ubuntu2.7 [234 kB]\n",
      "Fetched 400 kB in 0s (3346 kB/s)\n",
      "Selecting previously unselected package apt-transport-https.\n",
      "(Reading database ... 63866 files and directories currently installed.)\n",
      "Preparing to unpack .../apt-transport-https_2.0.6_all.deb ...\n",
      "Unpacking apt-transport-https (2.0.6) ...\n",
      "Preparing to unpack .../curl_7.68.0-1ubuntu2.7_amd64.deb ...\n",
      "Unpacking curl (7.68.0-1ubuntu2.7) over (7.68.0-1ubuntu2.6) ...\n",
      "Preparing to unpack .../libcurl4_7.68.0-1ubuntu2.7_amd64.deb ...\n",
      "Unpacking libcurl4:amd64 (7.68.0-1ubuntu2.7) over (7.68.0-1ubuntu2.6) ...\n",
      "Setting up apt-transport-https (2.0.6) ...\n",
      "Setting up libcurl4:amd64 (7.68.0-1ubuntu2.7) ...\n",
      "Setting up curl (7.68.0-1ubuntu2.7) ...\n",
      "Processing triggers for man-db (2.9.1-1) ...\n",
      "Processing triggers for libc-bin (2.31-0ubuntu9.2) ...\n",
      "\n",
      "debconf: unable to initialize frontend: Dialog\n",
      "debconf: (Dialog frontend will not work on a dumb terminal, an emacs shell buffer, or without a controlling terminal.)\n",
      "debconf: falling back to frontend: Readline\n",
      "debconf: unable to initialize frontend: Readline\n",
      "debconf: (This frontend requires a controlling tty.)\n",
      "debconf: falling back to frontend: Teletype\n",
      "dpkg-preconfigure: unable to re-open stdin: \n",
      "\n"
     ]
    }
   ],
   "source": [
    "stdin, stdout, stderr = client_node.exec_command('sudo apt-get update && sudo apt-get install -y apt-transport-https curl')\n",
    "print(stdout.read().decode(\"utf-8\"))\n",
    "print(stderr.read().decode(\"utf-8\"))"
   ]
  },
  {
   "cell_type": "code",
   "execution_count": 47,
   "metadata": {},
   "outputs": [
    {
     "name": "stdout",
     "output_type": "stream",
     "text": [
      "OK\n",
      "\n",
      "Warning: apt-key output should not be parsed (stdout is not a terminal)\n",
      "\n"
     ]
    }
   ],
   "source": [
    "stdin, stdout, stderr = client_node.exec_command('curl -s https://packages.cloud.google.com/apt/doc/apt-key.gpg | sudo apt-key add -')\n",
    "print(stdout.read().decode(\"utf-8\"))\n",
    "print(stderr.read().decode(\"utf-8\"))"
   ]
  },
  {
   "cell_type": "code",
   "execution_count": 48,
   "metadata": {},
   "outputs": [
    {
     "name": "stdout",
     "output_type": "stream",
     "text": [
      "deb https://apt.kubernetes.io/ kubernetes-xenial main\n",
      "\n",
      "\n"
     ]
    }
   ],
   "source": [
    "stdin, stdout, stderr = client_node.exec_command('cat <<EOF | sudo tee /etc/apt/sources.list.d/kubernetes.list\\ndeb https://apt.kubernetes.io/ kubernetes-xenial main\\nEOF\\n')\n",
    "print(stdout.read().decode(\"utf-8\"))\n",
    "print(stderr.read().decode(\"utf-8\"))"
   ]
  },
  {
   "cell_type": "code",
   "execution_count": 49,
   "metadata": {},
   "outputs": [
    {
     "name": "stdout",
     "output_type": "stream",
     "text": [
      "deb https://apt.kubernetes.io/ kubernetes-xenial main\n",
      "\n",
      "\n"
     ]
    }
   ],
   "source": [
    "stdin, stdout, stderr = client_node.exec_command('cat /etc/apt/sources.list.d/kubernetes.list')\n",
    "print(stdout.read().decode(\"utf-8\"))\n",
    "print(stderr.read().decode(\"utf-8\"))"
   ]
  },
  {
   "cell_type": "code",
   "execution_count": 50,
   "metadata": {},
   "outputs": [
    {
     "name": "stdout",
     "output_type": "stream",
     "text": [
      "Hit:1 http://nova.clouds.archive.ubuntu.com/ubuntu focal InRelease\n",
      "Hit:2 http://nova.clouds.archive.ubuntu.com/ubuntu focal-updates InRelease\n",
      "Hit:3 http://nova.clouds.archive.ubuntu.com/ubuntu focal-backports InRelease\n",
      "Hit:5 http://security.ubuntu.com/ubuntu focal-security InRelease\n",
      "Get:4 https://packages.cloud.google.com/apt kubernetes-xenial InRelease [9383 B]\n",
      "Get:6 https://packages.cloud.google.com/apt kubernetes-xenial/main amd64 Packages [51.6 kB]\n",
      "Fetched 61.0 kB in 1s (46.8 kB/s)\n",
      "Reading package lists...\n",
      "\n",
      "\n"
     ]
    }
   ],
   "source": [
    "stdin, stdout, stderr = client_node.exec_command('sudo apt-get update')\n",
    "print(stdout.read().decode(\"utf-8\"))\n",
    "print(stderr.read().decode(\"utf-8\"))"
   ]
  },
  {
   "cell_type": "code",
   "execution_count": 51,
   "metadata": {},
   "outputs": [
    {
     "name": "stdout",
     "output_type": "stream",
     "text": [
      "Reading package lists...\n",
      "Building dependency tree...\n",
      "Reading state information...\n",
      "The following additional packages will be installed:\n",
      "  conntrack cri-tools ebtables kubernetes-cni socat\n",
      "Suggested packages:\n",
      "  nftables\n",
      "The following NEW packages will be installed:\n",
      "  conntrack cri-tools ebtables kubeadm kubectl kubelet kubernetes-cni socat\n",
      "0 upgraded, 8 newly installed, 0 to remove and 71 not upgraded.\n",
      "Need to get 70.9 MB of archives.\n",
      "After this operation, 297 MB of additional disk space will be used.\n",
      "Get:1 http://nova.clouds.archive.ubuntu.com/ubuntu focal/main amd64 conntrack amd64 1:1.4.5-2 [30.3 kB]\n",
      "Get:2 http://nova.clouds.archive.ubuntu.com/ubuntu focal/main amd64 ebtables amd64 2.0.11-3build1 [80.3 kB]\n",
      "Get:4 http://nova.clouds.archive.ubuntu.com/ubuntu focal/main amd64 socat amd64 1.7.3.3-2 [323 kB]\n",
      "Get:3 https://packages.cloud.google.com/apt kubernetes-xenial/main amd64 cri-tools amd64 1.19.0-00 [11.2 MB]\n",
      "Get:5 https://packages.cloud.google.com/apt kubernetes-xenial/main amd64 kubernetes-cni amd64 0.8.7-00 [25.0 MB]\n",
      "Get:6 https://packages.cloud.google.com/apt kubernetes-xenial/main amd64 kubelet amd64 1.19.0-00 [18.2 MB]\n",
      "Get:7 https://packages.cloud.google.com/apt kubernetes-xenial/main amd64 kubectl amd64 1.19.0-00 [8349 kB]\n",
      "Get:8 https://packages.cloud.google.com/apt kubernetes-xenial/main amd64 kubeadm amd64 1.19.0-00 [7759 kB]\n",
      "Fetched 70.9 MB in 3s (21.0 MB/s)\n",
      "Selecting previously unselected package conntrack.\n",
      "(Reading database ... 63870 files and directories currently installed.)\n",
      "Preparing to unpack .../0-conntrack_1%3a1.4.5-2_amd64.deb ...\n",
      "Unpacking conntrack (1:1.4.5-2) ...\n",
      "Selecting previously unselected package cri-tools.\n",
      "Preparing to unpack .../1-cri-tools_1.19.0-00_amd64.deb ...\n",
      "Unpacking cri-tools (1.19.0-00) ...\n",
      "Selecting previously unselected package ebtables.\n",
      "Preparing to unpack .../2-ebtables_2.0.11-3build1_amd64.deb ...\n",
      "Unpacking ebtables (2.0.11-3build1) ...\n",
      "Selecting previously unselected package kubernetes-cni.\n",
      "Preparing to unpack .../3-kubernetes-cni_0.8.7-00_amd64.deb ...\n",
      "Unpacking kubernetes-cni (0.8.7-00) ...\n",
      "Selecting previously unselected package socat.\n",
      "Preparing to unpack .../4-socat_1.7.3.3-2_amd64.deb ...\n",
      "Unpacking socat (1.7.3.3-2) ...\n",
      "Selecting previously unselected package kubelet.\n",
      "Preparing to unpack .../5-kubelet_1.19.0-00_amd64.deb ...\n",
      "Unpacking kubelet (1.19.0-00) ...\n",
      "Selecting previously unselected package kubectl.\n",
      "Preparing to unpack .../6-kubectl_1.19.0-00_amd64.deb ...\n",
      "Unpacking kubectl (1.19.0-00) ...\n",
      "Selecting previously unselected package kubeadm.\n",
      "Preparing to unpack .../7-kubeadm_1.19.0-00_amd64.deb ...\n",
      "Unpacking kubeadm (1.19.0-00) ...\n",
      "Setting up conntrack (1:1.4.5-2) ...\n",
      "Setting up kubectl (1.19.0-00) ...\n",
      "Setting up ebtables (2.0.11-3build1) ...\n",
      "Setting up socat (1.7.3.3-2) ...\n",
      "Setting up cri-tools (1.19.0-00) ...\n",
      "Setting up kubernetes-cni (0.8.7-00) ...\n",
      "Setting up kubelet (1.19.0-00) ...\n",
      "Created symlink /etc/systemd/system/multi-user.target.wants/kubelet.service → /lib/systemd/system/kubelet.service.\n",
      "Setting up kubeadm (1.19.0-00) ...\n",
      "Processing triggers for man-db (2.9.1-1) ...\n",
      "\n",
      "debconf: unable to initialize frontend: Dialog\n",
      "debconf: (Dialog frontend will not work on a dumb terminal, an emacs shell buffer, or without a controlling terminal.)\n",
      "debconf: falling back to frontend: Readline\n",
      "debconf: unable to initialize frontend: Readline\n",
      "debconf: (This frontend requires a controlling tty.)\n",
      "debconf: falling back to frontend: Teletype\n",
      "dpkg-preconfigure: unable to re-open stdin: \n",
      "\n"
     ]
    }
   ],
   "source": [
    "stdin, stdout, stderr = client_node.exec_command('sudo apt-get install -y kubelet=1.19.0-00 kubeadm=1.19.0-00 kubectl=1.19.0-00')\n",
    "print(stdout.read().decode(\"utf-8\"))\n",
    "print(stderr.read().decode(\"utf-8\"))"
   ]
  },
  {
   "cell_type": "code",
   "execution_count": 52,
   "metadata": {},
   "outputs": [
    {
     "name": "stdout",
     "output_type": "stream",
     "text": [
      "kubelet set on hold.\n",
      "kubeadm set on hold.\n",
      "kubectl set on hold.\n",
      "\n",
      "\n"
     ]
    }
   ],
   "source": [
    "stdin, stdout, stderr = client_node.exec_command('sudo apt-mark hold kubelet kubeadm kubectl')\n",
    "print(stdout.read().decode(\"utf-8\"))\n",
    "print(stderr.read().decode(\"utf-8\"))"
   ]
  },
  {
   "cell_type": "code",
   "execution_count": 53,
   "metadata": {},
   "outputs": [
    {
     "name": "stdout",
     "output_type": "stream",
     "text": [
      "\n",
      "\n"
     ]
    }
   ],
   "source": [
    "stdin, stdout, stderr = client_node.exec_command('sudo swapoff -a')\n",
    "print(stdout.read().decode(\"utf-8\"))\n",
    "print(stderr.read().decode(\"utf-8\"))"
   ]
  },
  {
   "cell_type": "markdown",
   "metadata": {},
   "source": [
    "### The setup part is complete. Now we need to do the join command. We do it like this:"
   ]
  },
  {
   "cell_type": "markdown",
   "metadata": {},
   "source": [
    "As a note. When we do \"kubeadm init\" in the server, it prints the join command for us. What we do is that we copy it and paste it in the client. And don't forget to add sudo."
   ]
  },
  {
   "cell_type": "code",
   "execution_count": 54,
   "metadata": {},
   "outputs": [
    {
     "name": "stdout",
     "output_type": "stream",
     "text": [
      "[preflight] Running pre-flight checks\n",
      "[preflight] Reading configuration from the cluster...\n",
      "[preflight] FYI: You can look at this config file with 'kubectl -n kube-system get cm kubeadm-config -oyaml'\n",
      "[kubelet-start] Writing kubelet configuration to file \"/var/lib/kubelet/config.yaml\"\n",
      "[kubelet-start] Writing kubelet environment file with flags to file \"/var/lib/kubelet/kubeadm-flags.env\"\n",
      "[kubelet-start] Starting the kubelet\n",
      "[kubelet-start] Waiting for the kubelet to perform the TLS Bootstrap...\n",
      "\n",
      "This node has joined the cluster:\n",
      "* Certificate signing request was sent to apiserver and a response was received.\n",
      "* The Kubelet was informed of the new secure connection details.\n",
      "\n",
      "Run 'kubectl get nodes' on the control-plane to see this node join the cluster.\n",
      "\n",
      "\n",
      "\t[WARNING IsDockerSystemdCheck]: detected \"cgroupfs\" as the Docker cgroup driver. The recommended driver is \"systemd\". Please follow the guide at https://kubernetes.io/docs/setup/cri/\n",
      "\t[WARNING SystemVerification]: this Docker version is not on the list of validated versions: 20.10.7. Latest validated version: 19.03\n",
      "\n"
     ]
    }
   ],
   "source": [
    "stdin, stdout, stderr = client_node.exec_command('sudo kubeadm join 63.239.135.120:6443 --token nhdhga.zib7pwcaiio87i71 --discovery-token-ca-cert-hash sha256:68f445d2c73ce211505ed76998aa300f6d73fac06284b5aee68077d7868df413')\n",
    "print(stdout.read().decode(\"utf-8\"))\n",
    "print(stderr.read().decode(\"utf-8\"))"
   ]
  },
  {
   "cell_type": "markdown",
   "metadata": {},
   "source": [
    "### Let's check back at the server."
   ]
  },
  {
   "cell_type": "code",
   "execution_count": 56,
   "metadata": {},
   "outputs": [
    {
     "name": "stdout",
     "output_type": "stream",
     "text": [
      "NAME                                               STATUS   ROLES    AGE   VERSION\n",
      "6d14288f-a57c-4b7f-9c56-1d8be60e4d71-master-node   Ready    master   10m   v1.19.0\n",
      "ff62edac-e82a-41f4-93a1-8e150d9d4e96-client-node   Ready    <none>   44s   v1.19.0\n",
      "\n",
      "\n"
     ]
    }
   ],
   "source": [
    "stdin, stdout, stderr = master_node.exec_command('kubectl get nodes')\n",
    "print(stdout.read().decode(\"utf-8\"))\n",
    "print(stderr.read().decode(\"utf-8\"))"
   ]
  },
  {
   "cell_type": "markdown",
   "metadata": {},
   "source": [
    "### We can see that the worker node is connected. Task complete."
   ]
  },
  {
   "cell_type": "markdown",
   "metadata": {},
   "source": [
    "### In the next steps we set up slate."
   ]
  },
  {
   "cell_type": "code",
   "execution_count": 57,
   "metadata": {},
   "outputs": [
    {
     "name": "stdout",
     "output_type": "stream",
     "text": [
      "\n",
      "\n"
     ]
    }
   ],
   "source": [
    "stdin, stdout, stderr = master_node.exec_command(\"\"\"echo '#!/bin/sh\\nmkdir -p -m 0700 \"$HOME/.slate\"\\nif [ \"$?\" -ne 0 ] ; then\\n\techo \"Not able to create $HOME/.slate\" 1>&2\\n\texit 1\\nfi\\n\\necho \"c5oJVWkNJLoZ5Qezh2UNQE\" > \"$HOME/.slate/token\"\\nif [ \"$?\" -ne 0 ] ; then\\n\techo \"Not able to write token data to $HOME/.slate/token\" 1>&2\\n\texit 1\\nfi\\nchmod 600 \"$HOME/.slate/token\"\\necho \\'https://api.slateci.io:443\\' > ~/.slate/endpoint\\necho \"SLATE access token successfully stored\"\\n' > slatescript.sh\"\"\")\n",
    "print(stdout.read().decode(\"utf-8\"))\n",
    "print(stderr.read().decode(\"utf-8\"))"
   ]
  },
  {
   "cell_type": "code",
   "execution_count": 58,
   "metadata": {},
   "outputs": [
    {
     "name": "stdout",
     "output_type": "stream",
     "text": [
      "\n",
      "\n"
     ]
    }
   ],
   "source": [
    "stdin, stdout, stderr = master_node.exec_command('chmod +x ./slatescript.sh')\n",
    "print(stdout.read().decode(\"utf-8\"))\n",
    "print(stderr.read().decode(\"utf-8\"))"
   ]
  },
  {
   "cell_type": "code",
   "execution_count": 59,
   "metadata": {},
   "outputs": [
    {
     "name": "stdout",
     "output_type": "stream",
     "text": [
      "SLATE access token successfully stored\n",
      "\n",
      "\n"
     ]
    }
   ],
   "source": [
    "stdin, stdout, stderr = master_node.exec_command('./slatescript.sh')\n",
    "print(stdout.read().decode(\"utf-8\"))\n",
    "print(stderr.read().decode(\"utf-8\"))"
   ]
  },
  {
   "cell_type": "code",
   "execution_count": 60,
   "metadata": {},
   "outputs": [
    {
     "name": "stdout",
     "output_type": "stream",
     "text": [
      "\n",
      "  % Total    % Received % Xferd  Average Speed   Time    Time     Time  Current\n",
      "                                 Dload  Upload   Total   Spent    Left  Speed\n",
      "100 1896k  100 1896k    0     0  3598k      0 --:--:-- --:--:-- --:--:-- 3591k\n",
      "\n"
     ]
    }
   ],
   "source": [
    "stdin, stdout, stderr = master_node.exec_command('curl -LO https://jenkins.slateci.io/artifacts/client/slate-linux.tar.gz')\n",
    "print(stdout.read().decode(\"utf-8\"))\n",
    "print(stderr.read().decode(\"utf-8\"))"
   ]
  },
  {
   "cell_type": "code",
   "execution_count": 61,
   "metadata": {},
   "outputs": [
    {
     "name": "stdout",
     "output_type": "stream",
     "text": [
      "\n",
      "\n"
     ]
    }
   ],
   "source": [
    "stdin, stdout, stderr = master_node.exec_command('tar xzf slate-linux.tar.gz')\n",
    "print(stdout.read().decode(\"utf-8\"))\n",
    "print(stderr.read().decode(\"utf-8\"))"
   ]
  },
  {
   "cell_type": "code",
   "execution_count": 62,
   "metadata": {},
   "outputs": [
    {
     "name": "stdout",
     "output_type": "stream",
     "text": [
      "\n",
      "\n"
     ]
    }
   ],
   "source": [
    "stdin, stdout, stderr = master_node.exec_command('sudo mv slate /usr/local/bin')\n",
    "print(stdout.read().decode(\"utf-8\"))\n",
    "print(stderr.read().decode(\"utf-8\"))"
   ]
  },
  {
   "cell_type": "code",
   "execution_count": 63,
   "metadata": {},
   "outputs": [
    {
     "name": "stdout",
     "output_type": "stream",
     "text": [
      "Name               Admin        ID\n",
      "Fabric-UC          ssl          cluster_kX2kBShHJZU\n",
      "Rice-CRC-OCI       rice-crc     cluster_wRzlo7q62VM\n",
      "check-mk-test      cmk-um       cluster_QJaTB3nj5a8\n",
      "chtc-tiger         chtc-osg     cluster_BhJeF1PCuro\n",
      "clemson-aci        clemson-aci  cluster_btEVWqfo5R4\n",
      "cluster1           g1           cluster_XgYfXrecuX8\n",
      "cluster2           g1           cluster_XdX7679ReD8\n",
      "frontera           tacc-admin   cluster_xyOjLBH8YFg\n",
      "gpn-beocat         gpn-poc      cluster_YRl0CqESiJU\n",
      "gpn-poc-onenet     gpn-poc      cluster_HuMFzohYwDA\n",
      "gpn-poc-test       gpn-poc      cluster_jx9sSpVedOI\n",
      "iu-osiris          osiris       cluster_biECfbqdj9g\n",
      "mwt2-iu            mwt2         cluster_WMaDQIPYI2s\n",
      "mwt2-iu-test       atlas-squid  cluster_mvO9QzLUj94\n",
      "net2               net2         cluster_Z-gQFi1-O1Y\n",
      "nmsu               nmsu         cluster_u5P6TmKkOU0\n",
      "notredame          ndcms        cluster_ojX0uEdg9tc\n",
      "osg-gatech-dev     gatech-dev   cluster_W_LeACXrMC8\n",
      "prague-xcache      atlas-xcache cluster_hTUJr76Nvg0\n",
      "rice-crc-rapid     rice-crc     cluster_fEJXCAn_tnQ\n",
      "spt-npx            spt          cluster_z0Ui4YRQ6Uk\n",
      "swt2-cpb           swt2-cpb     cluster_u9iI0_EYe3o\n",
      "t3colorado         t3colorado   cluster_xYxCGxfGmMI\n",
      "test-cluster-js    slate-dev    cluster_CwicVu9MixA\n",
      "uchicago-af        atlas-af-ops cluster_pK-rwKJ9gr8\n",
      "uchicago-prod      slate-dev    cluster_yZroQR5mfBk\n",
      "uchicago-river-dev ssl          cluster_iovOU3q89zc\n",
      "uchicago-river-v2  ssl          cluster_iL8D7abxCM8\n",
      "umich-prod         slate-dev    cluster_WRb0f8mH9ak\n",
      "uutah-prod         slate-dev    cluster_omwbRNbKRKE\n",
      "\n",
      "\n"
     ]
    }
   ],
   "source": [
    "stdin, stdout, stderr = master_node.exec_command('slate cluster list')\n",
    "print(stdout.read().decode(\"utf-8\"))\n",
    "print(stderr.read().decode(\"utf-8\"))"
   ]
  },
  {
   "cell_type": "code",
   "execution_count": 64,
   "metadata": {},
   "outputs": [
    {
     "name": "stdout",
     "output_type": "stream",
     "text": [
      "namespace/metallb-system created\n",
      "\n",
      "\n"
     ]
    }
   ],
   "source": [
    "stdin, stdout, stderr = master_node.exec_command('kubectl create -f https://raw.githubusercontent.com/metallb/metallb/v0.10.2/manifests/namespace.yaml')\n",
    "print(stdout.read().decode(\"utf-8\"))\n",
    "print(stderr.read().decode(\"utf-8\"))"
   ]
  },
  {
   "cell_type": "code",
   "execution_count": 65,
   "metadata": {},
   "outputs": [
    {
     "name": "stdout",
     "output_type": "stream",
     "text": [
      "podsecuritypolicy.policy/controller created\n",
      "podsecuritypolicy.policy/speaker created\n",
      "serviceaccount/controller created\n",
      "serviceaccount/speaker created\n",
      "clusterrole.rbac.authorization.k8s.io/metallb-system:controller created\n",
      "clusterrole.rbac.authorization.k8s.io/metallb-system:speaker created\n",
      "role.rbac.authorization.k8s.io/config-watcher created\n",
      "role.rbac.authorization.k8s.io/pod-lister created\n",
      "role.rbac.authorization.k8s.io/controller created\n",
      "clusterrolebinding.rbac.authorization.k8s.io/metallb-system:controller created\n",
      "clusterrolebinding.rbac.authorization.k8s.io/metallb-system:speaker created\n",
      "rolebinding.rbac.authorization.k8s.io/config-watcher created\n",
      "rolebinding.rbac.authorization.k8s.io/pod-lister created\n",
      "rolebinding.rbac.authorization.k8s.io/controller created\n",
      "daemonset.apps/speaker created\n",
      "deployment.apps/controller created\n",
      "\n",
      "\n"
     ]
    }
   ],
   "source": [
    "stdin, stdout, stderr = master_node.exec_command('kubectl create -f https://raw.githubusercontent.com/metallb/metallb/v0.10.2/manifests/metallb.yaml')\n",
    "print(stdout.read().decode(\"utf-8\"))\n",
    "print(stderr.read().decode(\"utf-8\"))"
   ]
  },
  {
   "cell_type": "code",
   "execution_count": 66,
   "metadata": {},
   "outputs": [
    {
     "name": "stdout",
     "output_type": "stream",
     "text": [
      "\n",
      "\n"
     ]
    }
   ],
   "source": [
    "stdin, stdout, stderr = master_node.exec_command('cat <<EOF > metallb-config.yaml\\napiVersion: v1\\nkind: ConfigMap\\nmetadata:\\n  namespace: metallb-system\\n  name: config\\ndata:\\n  config: |\\n    address-pools:\\n    - name: default\\n      protocol: layer2\\n      addresses:\\n      - 10.20.4.0-10.20.5.0\\nEOF')\n",
    "print(stdout.read().decode(\"utf-8\"))\n",
    "print(stderr.read().decode(\"utf-8\"))"
   ]
  },
  {
   "cell_type": "code",
   "execution_count": 67,
   "metadata": {},
   "outputs": [
    {
     "name": "stdout",
     "output_type": "stream",
     "text": [
      "configmap/config created\n",
      "\n",
      "\n"
     ]
    }
   ],
   "source": [
    "stdin, stdout, stderr = master_node.exec_command('kubectl apply -f metallb-config.yaml')\n",
    "print(stdout.read().decode(\"utf-8\"))\n",
    "print(stderr.read().decode(\"utf-8\"))"
   ]
  },
  {
   "cell_type": "code",
   "execution_count": 68,
   "metadata": {},
   "outputs": [
    {
     "name": "stdout",
     "output_type": "stream",
     "text": [
      "Checking NRP-controller status...\n",
      "It appears that the nrp-controller is not deployed on this cluster.\n",
      "\n",
      "The nrp-controller is a utility which allows SLATE to operate with\n",
      "reduced privileges in your Kubernetes cluster. It grants SLATE access to a\n",
      "single initial namespace of your choosing and a mechanism to create additional\n",
      "namespaces, without granting it any access to namespaces it has not created.\n",
      "This means that you can be certain that SLATE will not interfere with other\n",
      "uses of your cluster.\n",
      "See https://gitlab.com/ucsd-prp/nrp-controller for more information on the\n",
      "controller software and \n",
      "https://raw.githubusercontent.com/slateci/slate-client-server/master/resources/federation-deployment.yaml for the\n",
      "deployment definition used to install it.\n",
      "\n",
      "This component is needed for SLATE to use this cluster.\n",
      "Do you want to install it now? [y]/n: assuming yes\n",
      "Applying https://raw.githubusercontent.com/slateci/slate-client-server/master/resources/federation-deployment.yaml\n",
      "Waiting for the NRP Controller to become active...\n",
      " NRP Controller is active\n",
      "Ensuring that Custom Resource Definitions are active...\n",
      " CRDs are active\n",
      "Checking for federation ClusterRole...\n",
      "It appears that the federation-cluster ClusterRole is not deployed on this cluster.\n",
      "\n",
      "This is a ClusterRole used by the nrp-controller to grant SLATE access\n",
      "to only its own namespaces. You can view its definition at\n",
      "https://raw.githubusercontent.com/slateci/slate-client-server/master/resources/federation-role.yaml.\n",
      "\n",
      "This component is needed for SLATE to use this cluster.\n",
      "Do you want to install it now? [y]/n: assuming yes\n",
      "Applying https://raw.githubusercontent.com/slateci/slate-client-server/master/resources/federation-role.yaml\n",
      "SLATE should be granted access using a ServiceAccount created with a Cluster\n",
      "object by the nrp-controller. Do you want to create such a ServiceAccount\n",
      "automatically now? [y]/n: assuming yes\n",
      "Please enter the name you would like to give the ServiceAccount and core\n",
      "SLATE namespace. The default is 'slate-system': assuming slate-system\n",
      "Creating Cluster 'slate-system'...\n",
      "Waiting for namespace slate-system to become ready...\n",
      "Locating ServiceAccount credentials...\n",
      "Extracting CA data...\n",
      "Determining server address...\n",
      "Extracting ServiceAccount token...\n",
      " Done generating config with limited privileges\n",
      "Checking for a LoadBalancer...\n",
      " Found MetalLB\n",
      "Checking for a SLATE ingress controller...\n",
      "SLATE requires an ingress controller to support user-friendly DNS names for HTTP\n",
      "services. SLATE's controller uses a customized ingress class so that it should\n",
      "not conflict with other controllers.\n",
      "Do you want to install the ingress controller now? [y]/n: assuming yes\n",
      "Finding the LoadBalancer address assigned to the ingress controller...\n",
      " Ingress controller address: 10.20.4.0\n",
      "Sending config to SLATE server...\n",
      "Successfully created cluster cluster3 with ID cluster_iqLa5Ov8oZE\n",
      "Services using Ingress on this cluster can be assigned subdomains within the cluster3.slateci.net domain.\n",
      "\n",
      "\n",
      "\n"
     ]
    }
   ],
   "source": [
    "stdin, stdout, stderr = master_node.exec_command('slate cluster create cluster3 --group g1 --org org1 -y')\n",
    "print(stdout.read().decode(\"utf-8\"))\n",
    "print(stderr.read().decode(\"utf-8\"))"
   ]
  },
  {
   "cell_type": "markdown",
   "metadata": {},
   "source": [
    "### Now let's install a slate app."
   ]
  },
  {
   "cell_type": "code",
   "execution_count": 69,
   "metadata": {},
   "outputs": [
    {
     "name": "stdout",
     "output_type": "stream",
     "text": [
      "Name                App Version                  Chart Version Description\n",
      "cms-xcache          4.11                         1.0.1         XCache is a xrootd based caching service for k8s\n",
      "condor-worker       8.6.14                       0.9.15        HTCondor distributed high-throughput computing system\n",
      "faucet              1.9.9                        1.2.1         Faucet OpenFlow SDN Controller\n",
      "globus-connect-v4   4.0.59                       0.7.4         Globus Connect data transfer service\n",
      "grafana             6.0.2                        1.14.11       The leading tool for querying and visualizing time series and metrics.\n",
      "gridftp             6.0                          0.4.7         Globus GridFTP data management system\n",
      "grnoc-telegraf      1.17.0                       0.7.0         Deploys an SNMP monitoring service and pushes metrics to a GRNOC TSDS using Telegraf.\n",
      "mariadb             10.3.22                      5.1.3         Fast, reliable, scalable, and easy to use open-source relational database system. MariaDB Server is intended for mission-critical, heavy-load production systems as well as for embedding into mass-deployed software. Highly available MariaDB cluster.\n",
      "minio               RELEASE.2020-09-10T22-02-45Z 2.6.2         MinIO is a high performance distributed object storage server, designed for large-scale private cloud infrastructure.\n",
      "nginx               1.15.9                       1.2.0         A simple nginx deployment which serves a static page\n",
      "osg-frontier-squid  4.13-1.1                     1.7.6         A Helm chart for configuration and deployment of the Open Science Grid's Frontier Squid application.\n",
      "osg-hosted-ce       5.1.2                        3.13.2        OSG Hosted Compute Element\n",
      "perfsonar-testpoint 4.3.4                        1.3.0         Perfsonar Testpoint Deployment\n",
      "stashcache          v4.12.0-rc2                  0.1.19        StashCache is an XRootD-based caching service\n",
      "xcache              5.3.2                        0.7.0         XCache is a xrootd based caching service for k8s\n",
      "\n",
      "\n"
     ]
    }
   ],
   "source": [
    "stdin, stdout, stderr = master_node.exec_command('slate app list')\n",
    "print(stdout.read().decode(\"utf-8\"))\n",
    "print(stderr.read().decode(\"utf-8\"))"
   ]
  },
  {
   "cell_type": "code",
   "execution_count": 70,
   "metadata": {},
   "outputs": [
    {
     "name": "stdout",
     "output_type": "stream",
     "text": [
      "\n",
      "\n"
     ]
    }
   ],
   "source": [
    "stdin, stdout, stderr = master_node.exec_command('slate app get-conf nginx > my-nginx-settings.yaml')\n",
    "print(stdout.read().decode(\"utf-8\"))\n",
    "print(stderr.read().decode(\"utf-8\"))"
   ]
  },
  {
   "cell_type": "code",
   "execution_count": 72,
   "metadata": {},
   "outputs": [
    {
     "name": "stdout",
     "output_type": "stream",
     "text": [
      "Successfully installed application nginx as instance nginx-default with ID instance_66Az96m7ugs\n",
      "\n",
      "\n"
     ]
    }
   ],
   "source": [
    "stdin, stdout, stderr = master_node.exec_command('slate app install nginx --group g1 --cluster cluster3 --conf my-nginx-settings.yaml')\n",
    "print(stdout.read().decode(\"utf-8\"))\n",
    "print(stderr.read().decode(\"utf-8\"))"
   ]
  },
  {
   "cell_type": "code",
   "execution_count": 73,
   "metadata": {},
   "outputs": [
    {
     "name": "stdout",
     "output_type": "stream",
     "text": [
      "Name          Cluster  ID\n",
      "nginx-default cluster3 instance_66Az96m7ugs\n",
      "nginx-default cluster2 instance_2x-7hFAbIgs\n",
      "\n",
      "\n"
     ]
    }
   ],
   "source": [
    "stdin, stdout, stderr = master_node.exec_command('slate instance list --group g1')\n",
    "print(stdout.read().decode(\"utf-8\"))\n",
    "print(stderr.read().decode(\"utf-8\"))"
   ]
  },
  {
   "cell_type": "code",
   "execution_count": 74,
   "metadata": {},
   "outputs": [
    {
     "name": "stdout",
     "output_type": "stream",
     "text": [
      "Name          Started App Version Chart Version Group Cluster  ID\n",
      "nginx-default 2021-Nov-21 19:42:27.561842 UTC 1.15.9      nginx-1.2.0   g1    cluster3 instance_66Az96m7ugs\n",
      "\n",
      "Services:\n",
      "Name          Cluster IP     External IP Ports        URL\n",
      "nginx-default 10.110.182.207 10.20.4.141 80:32188/TCP http://hello.cluster3.slateci.net/\n",
      "\n",
      "Pods:\n",
      "  nginx-default-6484d8fd4c-rnj4d\n",
      "    Status: Running\n",
      "    Created: 2021-11-21T19:42:31Z\n",
      "    Host: ff62edac-e82a-41f4-93a1-8e150d9d4e96-client-node\n",
      "    Host IP: 10.20.4.141\n",
      "\n",
      "                    Conditions: [2021-11-21T19:42:31Z] Initialized\n",
      "\n",
      "                                [2021-11-21T19:42:31Z] PodScheduled\n",
      "\n",
      "                                [2021-11-21T19:42:35Z] Ready\n",
      "\n",
      "                                [2021-11-21T19:42:35Z] ContainersReady\n",
      "\n",
      "                Events: [2021-11-21T19:42:31Z] Scheduled: Successfully assigned slate-group-g1/nginx-default-6484d8fd4c-rnj4d to ff62edac-e82a-41f4-93a1-8e150d9d4e96-client-node\n",
      "\n",
      "                        [2021-11-21T19:42:32Z] Pulling: Pulling image \"nginx:1.15.9\"\n",
      "\n",
      "                        [2021-11-21T19:42:34Z] Pulled: Successfully pulled image \"nginx:1.15.9\" in 2.50200025s\n",
      "\n",
      "                        [2021-11-21T19:42:34Z] Created: Created container nginx\n",
      "\n",
      "                        [2021-11-21T19:42:34Z] Started: Started container nginx\n",
      "    Containers:\n",
      "      nginx\n",
      "        State: running since 2021-11-21T19:42:34Z\n",
      "        Ready: true\n",
      "        Restarts: 0\n",
      "        Image: nginx:1.15.9\n",
      "        ImageID: 98efe605f61725fd817ea69521b0eeb32bef007af0e3d0aeb6258c6e6fe7fc1a\n",
      "\n",
      "Configuration:\n",
      "Data: !<!> \"<html>\\n<body>\\n<h1>Hello world!</h1>\\n</body>\\n</html>\"\n",
      "NetworkPolicy:\n",
      "  AllowedCIDRs:\n",
      "    - 0.0.0.0/0\n",
      "  Enabled: false\n",
      "Instance: default\n",
      "Ingress:\n",
      "  Class: slate\n",
      "  Subdomain: hello\n",
      "  Enabled: true\n",
      "\n",
      "\n"
     ]
    }
   ],
   "source": [
    "stdin, stdout, stderr = master_node.exec_command('slate instance info instance_66Az96m7ugs')\n",
    "print(stdout.read().decode(\"utf-8\"))\n",
    "print(stderr.read().decode(\"utf-8\"))"
   ]
  },
  {
   "cell_type": "markdown",
   "metadata": {},
   "source": [
    "### Now let's access our application."
   ]
  },
  {
   "cell_type": "code",
   "execution_count": 86,
   "metadata": {},
   "outputs": [
    {
     "name": "stdout",
     "output_type": "stream",
     "text": [
      "<html>\n",
      "<body>\n",
      "<h1>Hello world!</h1>\n",
      "</body>\n",
      "</html>\n",
      "  % Total    % Received % Xferd  Average Speed   Time    Time     Time  Current\n",
      "                                 Dload  Upload   Total   Spent    Left  Speed\n",
      "100    51  100    51    0     0  51000      0 --:--:-- --:--:-- --:--:-- 51000\n",
      "\n"
     ]
    }
   ],
   "source": [
    "stdin, stdout, stderr = master_node.exec_command('curl 10.110.182.207')\n",
    "print(stdout.read().decode(\"utf-8\"))\n",
    "print(stderr.read().decode(\"utf-8\"))"
   ]
  },
  {
   "cell_type": "code",
   "execution_count": 87,
   "metadata": {},
   "outputs": [
    {
     "name": "stdout",
     "output_type": "stream",
     "text": [
      "<html>\n",
      "<body>\n",
      "<h1>Hello world!</h1>\n",
      "</body>\n",
      "</html>\n",
      "  % Total    % Received % Xferd  Average Speed   Time    Time     Time  Current\n",
      "                                 Dload  Upload   Total   Spent    Left  Speed\n",
      "100    51  100    51    0     0  51000      0 --:--:-- --:--:-- --:--:-- 51000\n",
      "\n"
     ]
    }
   ],
   "source": [
    "stdin, stdout, stderr = master_node.exec_command('curl ' + master_node_ip + ':32188')\n",
    "print(stdout.read().decode(\"utf-8\"))\n",
    "print(stderr.read().decode(\"utf-8\"))"
   ]
  },
  {
   "cell_type": "code",
   "execution_count": 88,
   "metadata": {},
   "outputs": [
    {
     "name": "stdout",
     "output_type": "stream",
     "text": [
      "200\n",
      "b'<html>\\n<body>\\n<h1>Hello world!</h1>\\n</body>\\n</html>'\n"
     ]
    }
   ],
   "source": [
    "import requests\n",
    "\n",
    "x = requests.get('http://' + master_node_ip + ':32188')\n",
    "print(x.status_code)\n",
    "print(x.content)"
   ]
  },
  {
   "cell_type": "markdown",
   "metadata": {},
   "source": [
    "## Delete Slice"
   ]
  },
  {
   "cell_type": "markdown",
   "metadata": {},
   "source": [
    "You can now delete the slice using the cell below."
   ]
  },
  {
   "cell_type": "code",
   "execution_count": 7,
   "metadata": {},
   "outputs": [
    {
     "name": "stdout",
     "output_type": "stream",
     "text": [
      "Response Status Status.OK\n",
      "Response received None\n"
     ]
    }
   ],
   "source": [
    "status, result = slice_manager.delete(slice_object=slice_object)\n",
    "\n",
    "print(\"Response Status {}\".format(status))\n",
    "print(\"Response received {}\".format(result))"
   ]
  }
 ],
 "metadata": {
  "kernelspec": {
   "display_name": "Python 3",
   "language": "python",
   "name": "python3"
  },
  "language_info": {
   "codemirror_mode": {
    "name": "ipython",
    "version": 3
   },
   "file_extension": ".py",
   "mimetype": "text/x-python",
   "name": "python",
   "nbconvert_exporter": "python",
   "pygments_lexer": "ipython3",
   "version": "3.9.2"
  }
 },
 "nbformat": 4,
 "nbformat_minor": 4
}

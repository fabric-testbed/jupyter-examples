{
 "cells": [
  {
   "cell_type": "markdown",
   "metadata": {},
   "source": [
    "# Interconnecting an OVS Network with an LLM via FabNet \n",
    "\n",
    "This notebook demonstrates how to set up and connect an Open vSwitch (OVS) network across multiple FABRIC sites, enabling communication with an LLM running in a different slice over FabNet.  \n",
    "\n",
    "### Background: OVS  \n",
    "\n",
    "Open vSwitch ([OVS](https://www.openvswitch.org/)) is an open-source, multi-layer virtual switch designed for virtualized environments. It plays a key role in many software-defined networking (SDN) and virtualization platforms.  \n",
    "\n",
    "### Target FABRIC Topology  \n",
    "\n",
    "In this setup, three OVS bridges are deployed across three different FABRIC sites, forming a ring topology. Each bridge is connected to a VM at the same site, and both the bridge and the VM are linked to the FABNetv4 network.  \n",
    "\n",
    "We then demonstrate traffic flow between the three VMs and run network tests—including `ping`, `iperf`, `traceroute`, and `mtr`. The test results are forwarded to an LLM running on a separate FABRIC slice connected to FabNetv4, and the LLM generates responses based on the analysis.  \n",
    "\n",
    "A high-level view of the topology is illustrated below.  \n",
    "\n",
    "<img src=\"./figs/openvswitch.png\" width=\"70%\"><br>  \n",
    "\n",
    "### Host Placement Considerations  \n",
    "\n",
    "Due to NVIDIA/Mellanox constraints, when using `NIC_Basic` for an OVS bridge experiment, it is recommended to deploy the bridge VM on a separate host from the VMs connected to the bridge.  \n",
    "\n",
    "However, this restriction does not apply to `NIC_ConnectX_5` and `NIC_ConnectX_6` configurations."
   ]
  },
  {
   "cell_type": "markdown",
   "metadata": {},
   "source": [
    "## Import the FABlib Library"
   ]
  },
  {
   "cell_type": "code",
   "execution_count": null,
   "metadata": {
    "tags": []
   },
   "outputs": [],
   "source": [
    "from ipaddress import ip_address, IPv4Address, IPv4Network\n",
    "import ipaddress\n",
    "from fabrictestbed_extensions.fablib.fablib import FablibManager as fablib_manager\n",
    "\n",
    "\n",
    "fablib = fablib_manager()\n",
    "fablib.show_config();"
   ]
  },
  {
   "cell_type": "markdown",
   "metadata": {},
   "source": [
    "## Create the Experiment Slice\n",
    "\n",
    "### General Configuration\n",
    "\n",
    "Set the name of the slice, the sites to use, and the number of additional (non-router) nodes to add to each site."
   ]
  },
  {
   "cell_type": "code",
   "execution_count": null,
   "metadata": {},
   "outputs": [],
   "source": [
    "slice_name= \"MySlice-openvswitch\"\n",
    "\n",
    "host_column_name = \"hosts\"\n",
    "ram_column_name = \"ram_available\"\n",
    "disk_column_name = \"disk_available\"\n",
    "core_column_name = \"cores_available\"\n",
    "sites = [site1, site2, site3] = fablib.get_random_sites(count=3, \n",
    "                                                        filter_function=lambda x: x[host_column_name] > 1 and \n",
    "                                                        x[core_column_name] > 8 and \n",
    "                                                        x[ram_column_name] > 16 and\n",
    "                                                        x[disk_column_name] > 100, \n",
    "                                                        avoid=[\"NEWY\", \"BRIST\", \"MICH\", \"HAWI\", \"RUTG\"])\n",
    "print(f\"Sites: {sites}\")\n",
    "\n",
    "site_node_count = 3\n",
    "bridge_name_prefix = \"bridge\""
   ]
  },
  {
   "cell_type": "markdown",
   "metadata": {},
   "source": [
    "### Create Slice"
   ]
  },
  {
   "cell_type": "code",
   "execution_count": null,
   "metadata": {},
   "outputs": [],
   "source": [
    "slice = fablib.new_slice(name=slice_name)\n",
    "default_image= 'default_ubuntu_22'"
   ]
  },
  {
   "cell_type": "code",
   "execution_count": null,
   "metadata": {},
   "outputs": [],
   "source": [
    "from ipaddress import IPv4Network\n",
    "\n",
    "l2_subnet = IPv4Network(\"10.10.10.0/24\")\n",
    "available_ips = list(l2_subnet)[1:]"
   ]
  },
  {
   "cell_type": "markdown",
   "metadata": {},
   "source": [
    "### Add Bridge1\n",
    "\n",
    "Because of constraints imposed by NVIDIA/Mellanox, when utilizing `NIC_Basic` for an OVS bridge experiment, it is advisable to deploy the VM responsible for running the bridge on a separate host from the VMs linked to the bridge.\n",
    "\n",
    "`bridge1` in the example below is requested on host `{site1.lower()}-w1.fabric-testbed.net`"
   ]
  },
  {
   "cell_type": "code",
   "execution_count": null,
   "metadata": {},
   "outputs": [],
   "source": [
    "bridge1 = slice.add_node(name=f\"{bridge_name_prefix}-1\", site=site1, cores=4, ram=8, disk=50, image=default_image, host=f\"{site1.lower()}-w1.fabric-testbed.net\")\n",
    "bridge1_nic1 = bridge1.add_component(model='NIC_Basic', name='nic_local_1')\n",
    "bridge1_nic2 = bridge1.add_component(model='NIC_Basic', name='nic_local_2')\n",
    "bridge1_nic3 = bridge1.add_component(model='NIC_Basic', name='nic_local_3')\n",
    "bridge1.add_post_boot_execute('yes | sudo apt-get -y update && sudo apt-get upgrade -y') \n",
    "bridge1.add_post_boot_execute('yes | sudo apt-get -y install openvswitch-switch openvswitch-common')\n",
    "bridge1.add_post_boot_execute('sudo apt-get -y install net-tools traceroute')\n"
   ]
  },
  {
   "cell_type": "markdown",
   "metadata": {},
   "source": [
    "## Add Bridge2\n",
    "Because of constraints imposed by NVIDIA/Mellanox, when utilizing `NIC_Basic` for an OVS bridge experiment, it is advisable to deploy the VM responsible for running the bridge on a separate host from the VMs linked to the bridge.\n",
    "\n",
    "`bridge2` in the example below is requested on host `{site2.lower()}-w1.fabric-testbed.net`"
   ]
  },
  {
   "cell_type": "code",
   "execution_count": null,
   "metadata": {},
   "outputs": [],
   "source": [
    "bridge2 = slice.add_node(name=f\"{bridge_name_prefix}-2\", site=site2, cores=4, ram=8, disk=50, image=default_image, host=f\"{site2.lower()}-w1.fabric-testbed.net\")\n",
    "bridge2_nic1 = bridge2.add_component(model='NIC_Basic', name='nic_local_1')\n",
    "bridge2_nic2 = bridge2.add_component(model='NIC_Basic', name='nic_local_2')\n",
    "bridge2_nic3 = bridge2.add_component(model='NIC_Basic', name='nic_local_3')\n",
    "bridge2.add_post_boot_execute('yes | sudo apt-get -y update && sudo apt-get upgrade -y') \n",
    "bridge2.add_post_boot_execute('yes | sudo apt-get -y install openvswitch-switch openvswitch-common')\n",
    "bridge2.add_post_boot_execute('sudo apt-get -y install net-tools traceroute')"
   ]
  },
  {
   "cell_type": "markdown",
   "metadata": {},
   "source": [
    "### Add Bridge3\n",
    "Because of constraints imposed by NVIDIA/Mellanox, when utilizing `NIC_Basic` for an OVS bridge experiment, it is advisable to deploy the VM responsible for running the bridge on a separate host from the VMs linked to the bridge.\n",
    "\n",
    "`bridge3` in the example below is requested on host `{site3.lower()}-w1.fabric-testbed.net`"
   ]
  },
  {
   "cell_type": "code",
   "execution_count": null,
   "metadata": {},
   "outputs": [],
   "source": [
    "bridge3 = slice.add_node(name=f\"{bridge_name_prefix}-3\", site=site3, cores=4, ram=8, disk=50, image=default_image, host=f\"{site3.lower()}-w1.fabric-testbed.net\")\n",
    "bridge3_nic1 = bridge3.add_component(model='NIC_Basic', name='nic_local_1')\n",
    "bridge3_nic2 = bridge3.add_component(model='NIC_Basic', name='nic_local_2')\n",
    "bridge3_nic3 = bridge3.add_component(model='NIC_Basic', name='nic_local_3')\n",
    "bridge3.add_post_boot_execute('yes | sudo apt-get -y update && sudo apt-get upgrade -y') \n",
    "bridge3.add_post_boot_execute('yes | sudo apt-get -y install openvswitch-switch openvswitch-common')\n",
    "bridge3.add_post_boot_execute('sudo apt-get -y install net-tools traceroute')"
   ]
  },
  {
   "cell_type": "markdown",
   "metadata": {},
   "source": [
    "### Add Host Nodes\n",
    "\n",
    "Host nodes are required to be located on a host other than `bridge1`, `bridge2` and `bridge4`, specifically on `{site{x}.lower()}-w2.fabric-testbed.net`. These nodes can be distributed across any other host, or all hosted on the same host, provided it is not the `bridge1`, `bridge2` or `bridge3` host."
   ]
  },
  {
   "cell_type": "code",
   "execution_count": null,
   "metadata": {},
   "outputs": [],
   "source": [
    "for node_num in range(1, site_node_count + 1):\n",
    "    site = sites[node_num -1]\n",
    "    idx = node_num-1\n",
    "    \n",
    "    print(f\"Adding nodes to {site}\")\n",
    "    node_name = f\"{site.lower()}\"\n",
    "    bridge_name = f\"{bridge_name_prefix}-{node_num}\"\n",
    "\n",
    "    net1 = slice.add_l2network(name=f\"{node_name}_l2\", subnet=l2_subnet)\n",
    "\n",
    "    node = slice.add_node(name=node_name, site=site, cores=4, ram=8, disk=50, image=default_image, host=f\"{site.lower()}-w2.fabric-testbed.net\")\n",
    "    iface1 = node.add_component(model='NIC_Basic', name='nic_l2').get_interfaces()[0]    \n",
    "    iface1.set_mode(\"config\")  \n",
    "    net1.add_interface(iface1)\n",
    "    iface1.set_ip_addr(available_ips[idx])\n",
    "    \n",
    "    bridge_node = slice.get_node(name=bridge_name)\n",
    "    bridge_ifc = bridge_node.get_component(name='nic_local_1').get_interfaces()[0]\n",
    "    bridge_ifc.set_mode(\"config\")  \n",
    "    net1.add_interface(bridge_ifc)\n",
    "    bridge_ifc.set_ip_addr(available_ips[idx + 1])\n",
    "\n",
    "\n",
    "    iface2 = node.add_component(model='NIC_Basic', name='nic_l3').get_interfaces()[0]    \n",
    "    iface2.set_mode(\"auto\")\n",
    "    net2 = slice.add_l3network(name=f\"{node_name}_l3\")\n",
    "    net2.add_interface(iface2)\n",
    "\n",
    "    bridge_nic_l3_ifc = bridge_node.add_component(model='NIC_Basic', name='nic_l3').get_interfaces()[0]\n",
    "    bridge_nic_l3_ifc.set_mode(\"auto\")\n",
    "    net2.add_interface(bridge_nic_l3_ifc)\n",
    "\n",
    "\n",
    "    node.add_post_boot_execute(\"sudo apt-get -y install net-tools traceroute\")\n",
    "    node.add_post_boot_execute(\"curl https://downloads.es.net/pub/iperf/iperf-3.13-mt1.tar.gz > iperf-3.13-mt1.tar.gz\")\n",
    "    node.add_post_boot_execute(\"tar -zxvf iperf-3.13-mt1.tar.gz\")\n",
    "    node.add_post_boot_execute(\"sudo DEBIAN_FRONTEND=noninteractive apt update -q -y\")\n",
    "    node.add_post_boot_execute(\"sudo DEBIAN_FRONTEND=noninteractive apt install -q -y build-essential\")\n",
    "    node.add_post_boot_execute(\"cd iperf-3.13-mt1/; sudo DEBIAN_FRONTEND=noninteractive  ./configure; sudo DEBIAN_FRONTEND=noninteractive make; sudo DEBIAN_FRONTEND=noninteractive make install\")\n",
    "    node.add_post_boot_execute(\"echo 'export LD_LIBRARY_PATH=$LD_LIBRARY_PATH:/usr/local/lib' >> ~/.bashrc\")\n",
    "    "
   ]
  },
  {
   "cell_type": "markdown",
   "metadata": {},
   "source": [
    "### Connect the Bridges"
   ]
  },
  {
   "cell_type": "code",
   "execution_count": null,
   "metadata": {},
   "outputs": [],
   "source": [
    "net_br1_br2 = slice.add_l2network(name=\"br1_br2\")\n",
    "net_br1_br2.add_interface(bridge1_nic2.get_interfaces()[0])\n",
    "net_br1_br2.add_interface(bridge2_nic2.get_interfaces()[0])\n",
    "\n",
    "net_br1_br3 = slice.add_l2network(name=\"br1_br3\")\n",
    "net_br1_br3.add_interface(bridge1_nic3.get_interfaces()[0])\n",
    "net_br1_br3.add_interface(bridge3_nic2.get_interfaces()[0])\n",
    "\n",
    "net_br2_br3 = slice.add_l2network(name=\"br2_br3\")\n",
    "net_br2_br3.add_interface(bridge2_nic3.get_interfaces()[0])\n",
    "net_br2_br3.add_interface(bridge3_nic3.get_interfaces()[0])"
   ]
  },
  {
   "cell_type": "markdown",
   "metadata": {},
   "source": [
    "### Submit the Slice Request\n",
    "\n",
    "<img src=\"./figs/openvswitch-single.png\" width=\"60%\"><br>\n",
    "\n",
    "Now that the slice request is complete, you can submit it.\n"
   ]
  },
  {
   "cell_type": "code",
   "execution_count": null,
   "metadata": {},
   "outputs": [],
   "source": [
    "slice.submit();"
   ]
  },
  {
   "cell_type": "markdown",
   "metadata": {
    "tags": []
   },
   "source": [
    "### Create a new bridge, enable the spanning tree protocol on necessary interfaces"
   ]
  },
  {
   "cell_type": "code",
   "execution_count": null,
   "metadata": {},
   "outputs": [],
   "source": [
    "try:\n",
    "    for node in slice.get_nodes():\n",
    "        if node.get_name().startswith(\"bridge\"):\n",
    "            stdout, stderr = node.execute('sudo ovs-vsctl add-br br0')\n",
    "            for interface in node.get_interfaces():\n",
    "                stdout, stderr = node.execute(f'sudo ovs-vsctl add-port br0 {interface.get_physical_os_interface_name()}')\n",
    "                #Remove IP addresses for all interfaces\n",
    "                stdout, stderr = node.execute(f'sudo ifconfig {interface.get_physical_os_interface_name()} 0')\n",
    "    \n",
    "            #bring the bridge up\n",
    "            stdout, stderr = node.execute('sudo ifconfig br0 up')\n",
    "    print(\"Done\")\n",
    "except Exception as e:\n",
    "    print(f\"Exception: {e}\")"
   ]
  },
  {
   "cell_type": "markdown",
   "metadata": {},
   "source": [
    "### Enable Spanning tree and confirm"
   ]
  },
  {
   "cell_type": "code",
   "execution_count": null,
   "metadata": {},
   "outputs": [],
   "source": [
    "for node in slice.get_nodes():\n",
    "    if node.get_name().startswith(\"bridge\"):\n",
    "        stdout, stderr = node.execute('sudo ovs-vsctl set bridge br0 stp_enable=true')"
   ]
  },
  {
   "cell_type": "code",
   "execution_count": null,
   "metadata": {},
   "outputs": [],
   "source": [
    "for node in slice.get_nodes():\n",
    "    if node.get_name().startswith(\"bridge\"):\n",
    "        stdout, stderr = node.execute('sudo ovs-appctl stp/show')\n",
    "        print(\"XXXXXXXXXXXXXXXXXXXXXXXXXXXXXXXXXXXXXXXXXXXXXXXXXXXXXXXXXXXXXXXXXXXXXXXXXXXXXXXXXXXXXXXXXXXXXXXXXXXXXXXXX\")\n",
    "        print()"
   ]
  },
  {
   "cell_type": "markdown",
   "metadata": {},
   "source": [
    "## Verify connectivity between host nodes"
   ]
  },
  {
   "cell_type": "code",
   "execution_count": null,
   "metadata": {},
   "outputs": [],
   "source": [
    "host1 = slice.get_node(name=f'{site1.lower()}')\n",
    "host2 = slice.get_node(name=f'{site2.lower()}')\n",
    "host3 = slice.get_node(name=f'{site3.lower()}')"
   ]
  },
  {
   "cell_type": "code",
   "execution_count": null,
   "metadata": {
    "tags": []
   },
   "outputs": [],
   "source": [
    "# Ping test\n",
    "host2_ip_addr = host2.get_interface(network_name=f\"{host2.get_name()}_l2\").get_ip_addr()\n",
    "host3_ip_addr = host3.get_interface(network_name=f\"{host3.get_name()}_l2\").get_ip_addr()\n",
    "stdout, stderr = host1.execute(f'ping {host2_ip_addr} -c 5')\n",
    "\n",
    "# Ping test\n",
    "stdout, stderr = host1.execute(f'ping {host3_ip_addr} -c 5')"
   ]
  },
  {
   "cell_type": "markdown",
   "metadata": {},
   "source": [
    "## Enable Access in all nodes to access other Notes Across FABRIC Internet(FabNet)\n",
    "\n",
    "Configure all the nodes in the slice connected to FabNetv4 to be accessible from any VM running across FABRIC on FabNetV4 by setting up the necessary routes.\n"
   ]
  },
  {
   "cell_type": "code",
   "execution_count": null,
   "metadata": {},
   "outputs": [],
   "source": [
    "slice = fablib.get_slice(slice_name)\n",
    "for n in slice.get_nodes():\n",
    "    network_name = f\"{n.get_site().lower()}_l3\"\n",
    "    fabnet_network = slice.get_network(network_name)\n",
    "\n",
    "    n.add_route(subnet=fablib.FABNETV4_SUBNET, next_hop=fabnet_network.get_gateway())\n",
    "    n.config_routes()\n",
    "\n",
    "    stdout, stderr = n.execute(\"sudo ip route list\")\n",
    "    print(\"XXXXXXXXXXXXXXXXXXXXXXXXXXXXXXXXXXXXXXXXXXXXXXXXXXXXXXXXXXXXXXXXXXXXXXXXXXXXXXXXXXXXXXXXXXXXXXXXXXXXXXXXX\")\n",
    "    print()"
   ]
  },
  {
   "cell_type": "markdown",
   "metadata": {},
   "source": [
    "## Ollama Node Configuration in a Separate Slice\n",
    "\n",
    "Please update the **IP address, model in use, and port number** for the Ollama node operating in a different slice and connected to **FabNetV4**. This LLM will be utilized to analyze test results from hosts connected to the **OVS Bridges** in the current slice."
   ]
  },
  {
   "cell_type": "code",
   "execution_count": null,
   "metadata": {},
   "outputs": [],
   "source": [
    "ollama_fabnet_ip_addr = \"10.139.129.2\"\n",
    "ollama_model = \"deepseek-r1:7b\"\n",
    "ollama_port = \"11434\""
   ]
  },
  {
   "cell_type": "markdown",
   "metadata": {},
   "source": [
    "## Execute Tests\n",
    "\n",
    "We will now conduct a series of tests between `host1`, `host2`, and `host3`, which are interconnected through a ring of **OVS switches**. The test results will be sent to the **LLM**, running in a different slice, for analysis."
   ]
  },
  {
   "cell_type": "markdown",
   "metadata": {},
   "source": [
    "### Upload test scripts"
   ]
  },
  {
   "cell_type": "code",
   "execution_count": null,
   "metadata": {},
   "outputs": [],
   "source": [
    "host1.upload_directory(\"./tools\", \".\")"
   ]
  },
  {
   "cell_type": "markdown",
   "metadata": {},
   "source": [
    "### Execute Ping Tests\n",
    "\n",
    "Perform **ping tests** from `host1` to both `host2` and `host3`. Forward the output to the **LLM** for comparative analysis."
   ]
  },
  {
   "cell_type": "code",
   "execution_count": null,
   "metadata": {},
   "outputs": [],
   "source": [
    "print(f\"Running ping test SRC: {host1.get_name()} DEST: {host2.get_name()}, {host3.get_name()}\")\n",
    "\n",
    "stdout, stderr = host1.execute(f'python3 tools/net_llm_tester.py --test_type ping --dest_ips {host2_ip_addr} {host3_ip_addr} --ollama_model {ollama_model} --ollama_host {ollama_fabnet_ip_addr}  --ollama_port {ollama_port}')"
   ]
  },
  {
   "cell_type": "markdown",
   "metadata": {},
   "source": [
    "### Execute MTR Tests  \n",
    "\n",
    "Run **MTR (My Traceroute) tests** from `host1` to both `host2` and `host3`. Send the output to the **LLM** for comparative analysis."
   ]
  },
  {
   "cell_type": "code",
   "execution_count": null,
   "metadata": {},
   "outputs": [],
   "source": [
    "print(f\"Running mtr test SRC: {host1.get_name()} DEST: {host2.get_name()}, {host3.get_name()}\")\n",
    "\n",
    "stdout, stderr = host1.execute(f'python3 tools/net_llm_tester.py --test_type mtr --dest_ips {host2_ip_addr} {host3_ip_addr} --ollama_model {ollama_model} --ollama_host {ollama_fabnet_ip_addr}  --ollama_port {ollama_port}')"
   ]
  },
  {
   "cell_type": "markdown",
   "metadata": {},
   "source": [
    "### Execute Traceroute Tests  \n",
    "\n",
    "Run **traceroute** from `host1` to both `host2` and `host3`. Forward the results to the **LLM** for comparative analysis."
   ]
  },
  {
   "cell_type": "code",
   "execution_count": null,
   "metadata": {},
   "outputs": [],
   "source": [
    "print(f\"Running traceroute test SRC: {host1.get_name()} DEST: {host2.get_name()}, {host3.get_name()}\")\n",
    "\n",
    "stdout, stderr = host1.execute(f'python3 tools/net_llm_tester.py --test_type traceroute --dest_ips {host2_ip_addr} {host3_ip_addr} --ollama_model {ollama_model} --ollama_host {ollama_fabnet_ip_addr}  --ollama_port {ollama_port}')"
   ]
  },
  {
   "cell_type": "markdown",
   "metadata": {},
   "source": [
    "### Execute iPerf3 Tests  \n",
    "\n",
    "Start **iPerf3** in **server mode** on `host2` and in **client mode** on `host1`. Send the output to the **LLM** for analysis."
   ]
  },
  {
   "cell_type": "code",
   "execution_count": null,
   "metadata": {},
   "outputs": [],
   "source": [
    "print(f\"Starting iperf3 in server mode on {host2.get_name()}\")\n",
    "host2.execute_thread(\"export LD_LIBRARY_PATH=$LD_LIBRARY_PATH:/usr/local/lib && iperf3 -s -1\")"
   ]
  },
  {
   "cell_type": "code",
   "execution_count": null,
   "metadata": {},
   "outputs": [],
   "source": [
    "print(f\"Running iperf3 test Client: {host1.get_name()} Server: {host2.get_name()}\")\n",
    "stdout, stderr = host1.execute(f'python3 tools/net_llm_tester.py --test_type iperf --dest_ips {host2_ip_addr} --ollama_model {ollama_model} --ollama_host {ollama_fabnet_ip_addr}  --ollama_port {ollama_port}')"
   ]
  },
  {
   "cell_type": "markdown",
   "metadata": {},
   "source": [
    "### Delete the slice"
   ]
  },
  {
   "cell_type": "code",
   "execution_count": null,
   "metadata": {},
   "outputs": [],
   "source": [
    "slice.delete()"
   ]
  },
  {
   "cell_type": "code",
   "execution_count": null,
   "metadata": {},
   "outputs": [],
   "source": []
  }
 ],
 "metadata": {
  "kernelspec": {
   "display_name": "Python 3 (ipykernel)",
   "language": "python",
   "name": "python3"
  },
  "language_info": {
   "codemirror_mode": {
    "name": "ipython",
    "version": 3
   },
   "file_extension": ".py",
   "mimetype": "text/x-python",
   "name": "python",
   "nbconvert_exporter": "python",
   "pygments_lexer": "ipython3",
   "version": "3.11.9"
  }
 },
 "nbformat": 4,
 "nbformat_minor": 4
}

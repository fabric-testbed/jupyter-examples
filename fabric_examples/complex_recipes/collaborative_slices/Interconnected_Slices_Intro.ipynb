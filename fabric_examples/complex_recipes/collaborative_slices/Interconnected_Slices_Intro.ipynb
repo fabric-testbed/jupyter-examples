{
 "cells": [
  {
   "cell_type": "markdown",
   "metadata": {},
   "source": [
    "# Interconnected Slices: Connecting Ollama and Open vSwitch\n",
    "\n",
    "This notebook provides an overview of how we will deploy and connect two slices:\n",
    "\n",
    "- **Ollama Slice**: A node running Ollama with an LLM model to process queries.\n",
    "- **Open vSwitch Slice**: A node configured with Open vSwitch to manage network communication.\n",
    "\n",
    "We will set up both slices, connect both slice to FabNet, and verify connectivity."
   ]
  },
  {
   "cell_type": "markdown",
   "metadata": {},
   "source": [
    "## Step 1: Launching the Slices\n",
    "\n",
    "Each slice will be deployed on a separate node within the FABRIC testbed. We will:\n",
    "\n",
    "1. Identify suitable FABRIC sites with available resources.\n",
    "2. Configure the Ollama node with a GPU and deploy LLM services.\n",
    "3. Configure the Open vSwitch node to manage network connectivity.\n",
    "4. Connect each slice to FabNetv4 or FabNetv6.\n"
   ]
  },
  {
   "cell_type": "markdown",
   "metadata": {},
   "source": [
    "## Step 2: Notebook Links\n",
    "\n",
    "Use the links below to navigate to the respective notebooks for each slice:\n",
    "\n",
    "- [Ollama Notebook](ollama/ollama.ipynb): Deploy and manage the LLM model.\n",
    "- [Open vSwitch Notebook](openvswitch/openvswitch.ipynb): Configure and test the network connectivity.\n"
   ]
  },
  {
   "cell_type": "markdown",
   "metadata": {},
   "source": [
    "## Step 3: Verifying the Setup\n",
    "\n",
    "Once both slices are running and connected to FabNet:\n",
    "\n",
    "- Ensure the **Ollama container** is up and running.\n",
    "- Check the **Open vSwitch configuration** to confirm proper packet forwarding.\n",
    "- Retrieve the **FabNet IP address** of the Ollama node.\n",
    "- Send test queries from the Open vSwitch slice to the Ollama service.\n",
    "\n",
    "After verification, we will have a functional multi-slice setup with a connected AI processing and networking layer."
   ]
  },
  {
   "cell_type": "code",
   "execution_count": null,
   "metadata": {},
   "outputs": [],
   "source": []
  }
 ],
 "metadata": {
  "kernelspec": {
   "display_name": "Python 3 (ipykernel)",
   "language": "python",
   "name": "python3"
  },
  "language_info": {
   "codemirror_mode": {
    "name": "ipython",
    "version": 3
   },
   "file_extension": ".py",
   "mimetype": "text/x-python",
   "name": "python",
   "nbconvert_exporter": "python",
   "pygments_lexer": "ipython3",
   "version": "3.11.9"
  }
 },
 "nbformat": 4,
 "nbformat_minor": 4
}

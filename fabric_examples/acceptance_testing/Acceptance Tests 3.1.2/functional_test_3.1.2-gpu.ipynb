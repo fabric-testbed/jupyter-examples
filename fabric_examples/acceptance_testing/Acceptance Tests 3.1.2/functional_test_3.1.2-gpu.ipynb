{
 "cells": [
  {
   "cell_type": "markdown",
   "metadata": {},
   "source": [
    "# Functional Test 3.1.2 - GPUs\n",
    "\n",
    "This Jupyter notebook will allow you to create VMs on different sites and worker nodes consistent with requirements for test 3.1.2 for testing GPU attachment.\n",
    "\n",
    "## Step 1:  Configure the Environment\n",
    "\n",
    "Before running this notebook, you will need to configure your environment using the [Configure Environment](../../fablib_api/configure_environment/configure_environment.ipynb) notebook. Please stop here, open and run that notebook, then return to this notebook.\n",
    "\n",
    "**This only needs to be done once.**"
   ]
  },
  {
   "cell_type": "markdown",
   "metadata": {},
   "source": [
    "## Step 2: Import the FABlib Library"
   ]
  },
  {
   "cell_type": "code",
   "execution_count": null,
   "metadata": {},
   "outputs": [],
   "source": [
    "from fabrictestbed_extensions.fablib.fablib import FablibManager as fablib_manager\n",
    "\n",
    "fablib = fablib_manager()\n",
    "                     \n",
    "fablib.show_config();"
   ]
  },
  {
   "cell_type": "markdown",
   "metadata": {},
   "source": [
    "## Step 3 Check your existing slices\n",
    "\n",
    "Since testing can get confusing, check what slices you actually have. It may print nothing if you have no active slices."
   ]
  },
  {
   "cell_type": "code",
   "execution_count": null,
   "metadata": {},
   "outputs": [],
   "source": [
    "try:\n",
    "    for slice in fablib.get_slices():\n",
    "        print(f\"{slice}\")\n",
    "except Exception as e:\n",
    "    print(f\"Exception: {e}\")"
   ]
  },
  {
   "cell_type": "markdown",
   "metadata": {},
   "source": [
    "## Step 4: Create the test Slice\n",
    "\n",
    "This creates a VM with a GPU attached on a specific worker at a specific site. Depending on which worker you are using different types or no GPUs may be available. If you are unsure, the generated ads for each site ([in JSON format](https://github.com/fabric-testbed/aggregate-ads/tree/main/JSON)) can help. \n",
    "\n",
    "**You should try different nodes and different GPU types**\n",
    "\n",
    "**The code to create the slice will auto-refresh until the slice is created or it fails**"
   ]
  },
  {
   "cell_type": "code",
   "execution_count": null,
   "metadata": {},
   "outputs": [],
   "source": [
    "from datetime import datetime\n",
    "from dateutil import tz\n",
    "\n",
    "name='Node1'\n",
    "gpu_name='gpu1'\n",
    "site='CERN'\n",
    "# since all workers have a standard naming scheme, you can just change the worker\n",
    "# to move from worker to worker\n",
    "worker=f'{site.lower()}-w6.fabric-testbed.net'\n",
    "cores=10\n",
    "ram=20\n",
    "disk=50\n",
    "slice_name=f\"Slice Test 3.1.2-GPU {site} on {worker} on {datetime.now()}\""
   ]
  },
  {
   "cell_type": "code",
   "execution_count": null,
   "metadata": {},
   "outputs": [],
   "source": [
    "try:\n",
    "    #Create Slice\n",
    "    print(f'Creating slice {slice_name}')\n",
    "    slice = fablib.new_slice(name=slice_name)\n",
    "\n",
    "    # Add node\n",
    "    node = slice.add_node(name=name, site=site, host=worker, cores=cores, ram=ram, disk=disk, image='default_ubuntu_22')\n",
    "    \n",
    "    # Add a GPU by type - be sure to select the righ kind for that worker\n",
    "    # you can also add multiple GPUs at once if the node has several by\n",
    "    # adding more add_component() statements.\n",
    "    #node.add_component(model='GPU_TeslaT4', name=gpu_name)\n",
    "    #node.add_component(model='GPU_A40', name=gpu_name)\n",
    "    #node.add_component(model='GPU_A30', name=gpu_name)\n",
    "    #node.add_component(model='GPU_RTX6000', name=gpu_name)\n",
    "    node.add_component(model='GPU_A30', name=gpu_name)\n",
    "\n",
    "    #Submit Slice Request\n",
    "    slice.submit()\n",
    "except Exception as e:\n",
    "    print(f\"Exception: {e}\")"
   ]
  },
  {
   "cell_type": "markdown",
   "metadata": {},
   "source": [
    "## Step 5: Observe the Slice's Attributes\n",
    "\n",
    "### Print the slice "
   ]
  },
  {
   "cell_type": "code",
   "execution_count": null,
   "metadata": {},
   "outputs": [],
   "source": [
    "try:\n",
    "    slice = fablib.get_slice(name=slice_name)\n",
    "    print(f\"{slice}\")\n",
    "except Exception as e:\n",
    "    print(f\"Exception: {e}\")"
   ]
  },
  {
   "cell_type": "markdown",
   "metadata": {},
   "source": [
    "### Print the node\n",
    "\n",
    "Each node in the slice has a set of get functions that return the node's attributes. Use the returned `SSH Command` string to check the node. You can do it from a Bash launched inside the Jupyter container.\n"
   ]
  },
  {
   "cell_type": "code",
   "execution_count": null,
   "metadata": {},
   "outputs": [],
   "source": [
    "try:\n",
    "    node = slice.get_node(name) \n",
    "    print(f\"{node}\")\n",
    "  \n",
    "    gpu1 = node.get_component(gpu_name)\n",
    "    print(f\"{gpu1}\")\n",
    "    \n",
    "except Exception as e:\n",
    "    print(f\"Exception: {e}\")"
   ]
  },
  {
   "cell_type": "markdown",
   "metadata": {},
   "source": [
    "### GPU PCI Device\n",
    "\n",
    "Run the command <code>lspci</code> to see your GPU PCI device(s). This is the raw GPU PCI device that is not yet configured for use.  You can use the GPUs as you would any GPUs.\n",
    "\n",
    "View node1's GPU"
   ]
  },
  {
   "cell_type": "code",
   "execution_count": null,
   "metadata": {},
   "outputs": [],
   "source": [
    "command = \"sudo apt-get install -y pciutils && lspci | grep 'NVIDIA|3D controller'\"\n",
    "\n",
    "stdout, stderr = node.execute(command)"
   ]
  },
  {
   "cell_type": "markdown",
   "metadata": {},
   "source": [
    "## Step 6: Install Nvidia Drivers\n",
    "\n",
    "Now, let's run the following commands to install the latest CUDA driver and the CUDA libraries and compiler."
   ]
  },
  {
   "cell_type": "markdown",
   "metadata": {},
   "source": [
    "Now install NVIDIA drivers (may take a long time, be prepared to wait)."
   ]
  },
  {
   "cell_type": "code",
   "execution_count": null,
   "metadata": {},
   "outputs": [],
   "source": [
    "distro='ubuntu2204'\n",
    "version='12.6'\n",
    "architecture='x86_64'\n",
    "\n",
    "# install prerequisites\n",
    "commands = [\n",
    "    'sudo apt-get -q update',\n",
    "    'sudo apt-get -q install -y linux-headers-$(uname -r) gcc',\n",
    "]\n",
    "\n",
    "print(\"Installing Prerequisites...\")\n",
    "for command in commands:\n",
    "    print(f\"++++ {command}\")\n",
    "    stdout, stderr = node.execute(command)\n",
    "\n",
    "print(f\"Installing CUDA {version}\")\n",
    "commands = [\n",
    "    f'wget https://developer.download.nvidia.com/compute/cuda/repos/{distro}/{architecture}/cuda-keyring_1.1-1_all.deb',\n",
    "    f'sudo dpkg -i cuda-keyring_1.1-1_all.deb',\n",
    "    f'sudo apt-get -q update',\n",
    "    f'sudo apt-get -q install -y cuda-{version.replace(\".\", \"-\")}'\n",
    "]\n",
    "print(\"Installing CUDA...\")\n",
    "for command in commands:\n",
    "    print(f\"++++ {command}\")\n",
    "    stdout, stderr = node.execute(command)\n",
    "    \n",
    "print(\"Done installing CUDA\")"
   ]
  },
  {
   "cell_type": "markdown",
   "metadata": {},
   "source": [
    "And once CUDA is installed, reboot the machine."
   ]
  },
  {
   "cell_type": "code",
   "execution_count": null,
   "metadata": {},
   "outputs": [],
   "source": [
    "reboot = 'sudo reboot'\n",
    "try:\n",
    "    print(reboot)\n",
    "    node.execute(reboot)\n",
    "    \n",
    "    slice.wait_ssh(timeout=360,interval=10,progress=True)\n",
    "\n",
    "    print(\"Now testing SSH abilites to reconnect...\",end=\"\")\n",
    "    slice.update()\n",
    "    slice.test_ssh()\n",
    "    print(\"Reconnected!\")\n",
    "\n",
    "except Exception as e:\n",
    "    print(f\"Fail: {e}\")"
   ]
  },
  {
   "cell_type": "markdown",
   "metadata": {},
   "source": [
    "## Step 7: Testing the GPU and CUDA Installation\n",
    "\n",
    "Verify that the Nvidia drivers recognize the GPU by running `nvidia-smi`. It will print out a table with information about GPU vitals. "
   ]
  },
  {
   "cell_type": "code",
   "execution_count": null,
   "metadata": {},
   "outputs": [],
   "source": [
    "try:\n",
    "    stdout, stderr = node.execute(\"nvidia-smi\")\n",
    "    #print(f\"stdout: {stdout}\")\n",
    "except Exception as e:\n",
    "    print(f\"Exception: {e}\")"
   ]
  },
  {
   "cell_type": "markdown",
   "metadata": {},
   "source": [
    "## Step 8: Cleanup Your Slice"
   ]
  },
  {
   "cell_type": "code",
   "execution_count": null,
   "metadata": {},
   "outputs": [],
   "source": [
    "try:\n",
    "    slice = fablib.get_slice(name=slice_name)\n",
    "    slice.delete()\n",
    "except Exception as e:\n",
    "    print(f\"Exception: {e}\")"
   ]
  },
  {
   "cell_type": "code",
   "execution_count": null,
   "metadata": {},
   "outputs": [],
   "source": []
  }
 ],
 "metadata": {
  "kernelspec": {
   "display_name": "Python 3 (ipykernel)",
   "language": "python",
   "name": "python3"
  },
  "language_info": {
   "codemirror_mode": {
    "name": "ipython",
    "version": 3
   },
   "file_extension": ".py",
   "mimetype": "text/x-python",
   "name": "python",
   "nbconvert_exporter": "python",
   "pygments_lexer": "ipython3",
   "version": "3.11.9"
  }
 },
 "nbformat": 4,
 "nbformat_minor": 4
}

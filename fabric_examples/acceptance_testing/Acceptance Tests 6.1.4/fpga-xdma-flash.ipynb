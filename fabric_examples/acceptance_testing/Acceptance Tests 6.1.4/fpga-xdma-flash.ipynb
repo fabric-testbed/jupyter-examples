{
 "cells": [
  {
   "cell_type": "markdown",
   "metadata": {
    "tags": []
   },
   "source": [
    "# Functional Test 6.1.4 - Flash XDMA shell into an FPGA persistent flash or RAM and validate\n",
    "\n",
    "This Jupyter notebook will allow you to flash the FPGA based on XDMA shell (TBD info/link). If the persistent flash is used, the end result is an FPGA that even after a cold reboot of the server retains its programming with a standard [Xilinx XDMA shell](https://github.com/Xilinx/dma_ip_drivers/tree/master/XDMA). If the program is flashed into RAM, a warm reboot of the server will activate it. \n",
    "\n",
    "It is assumed you are operating as part of the FABRIC Maintenance project and have access to the persistent volume named `fpga-tools` created on EDC where releavent tools are downloaded.\n",
    "\n",
    "Preparation of the FPGA for XDMA shell experiments follow the steps below:\n",
    "Also read [FIP-1522](https://fabric-testbed.atlassian.net/browse/FIP-1522?focusedCommentId=25987)\n",
    "\n",
    "1. Create a slice, reset the FPGA with the revert_to_golden.mcs - delete the slice\n",
    "\n",
    "   - Use the notebook and procedure in 6.1.3, use the revert_to_golden.mcs file to program the FPGA\n",
    "   - Relevant information can be found on Xilinx KnowledgeBase article [71757 - Alveo Data Center Accelerator Card - Reverting Card to Factory image](https://adaptivesupport.amd.com/s/article/71757?language=en_US) \n",
    "\n",
    "2. Cold-reboot the server\n",
    "\n",
    "3. Create a slice, install XRT and deployment target platform - flash the FPGA\n",
    "\n",
    "   - Xilinx Runtime (XRT) xrt_202310.2.15.225_22.04-amd64-xrt.deb\n",
    "   - Deployment Target Platform (Packages in xilinx-u280-gen3x16-xdma_2023.2_2023_1014_0238-all.deb.tar.gz)\n",
    "   - Flash the FPGA (/opt/xilinx/xrt/bin/xbmgmt program --base -d 1f:00.0)\n",
    "\n",
    "5. Delete the slice\n",
    "\n",
    "6. Cold-reboot the server\n",
    "\n",
    "7. Create a slice, install XRT, and run the application\n",
    "\n"
   ]
  },
  {
   "cell_type": "markdown",
   "metadata": {},
   "source": [
    "## Step 0: Re-create a VM attached to fpga-tools volume on EDC\n",
    "\n",
    "In order to have access to necessary tools execute the notebook to [re-create a Storage VM attached](../../fablib_api/fabric_fpgas/fpga_tools_storage.ipynb) to the `fpga-tools` persistent storage. You must execute it as a member of FABRIC Staff project. "
   ]
  },
  {
   "cell_type": "markdown",
   "metadata": {},
   "source": [
    "## Step 1: Identify and isolate the worker node\n",
    "\n",
    "Unless the whole site is already in maintenance, using administrator tools identify the worker node with FPGA and put it in maintenance making sure it does not have experimenter VMs on it. You can check the [aggregate ads in JSON](https://github.com/fabric-testbed/aggregate-ads/tree/main/JSON) to make sure you are targeting the right worker."
   ]
  },
  {
   "cell_type": "markdown",
   "metadata": {
    "tags": []
   },
   "source": [
    "## Step 2: Provision a VM on the desired worker with attached FPGA and FABNetv4 connection\n",
    "\n",
    "Create a slice with a VM attached to the FPGA on the desired site and a FABNetv4 interface to reach the Storage VM in Step 0."
   ]
  },
  {
   "cell_type": "markdown",
   "metadata": {},
   "source": [
    "### Initialize fablib and variables"
   ]
  },
  {
   "cell_type": "code",
   "execution_count": null,
   "metadata": {},
   "outputs": [],
   "source": [
    "# Initialize FABlib\n",
    "\n",
    "from fabrictestbed_extensions.fablib.fablib import FablibManager as fablib_manager\n",
    "\n",
    "fablib = fablib_manager()\n",
    "                     \n",
    "fablib.show_config();"
   ]
  },
  {
   "cell_type": "markdown",
   "metadata": {},
   "source": [
    "Define slice parameters - re-execute as needed to run any of the steps in this notebook."
   ]
  },
  {
   "cell_type": "code",
   "execution_count": 75,
   "metadata": {},
   "outputs": [],
   "source": [
    "# user artifact should be deposited Storage VM into /mnt/fpga_tools/static/artifacts/<owner username>/<version> since names of artifacts may be similar or same.\n",
    "artifact_owner_username = 'han_zha'\n",
    "artifact_version = 'v3'\n",
    "\n",
    "# edit the name of the user-provided artifact and labtools and DPDK docker images stored in Storage VM as needed\n",
    "\n",
    "artifact = 'hello_world'\n",
    "artifact_xclbin = 'vadd.xclbin'\n",
    "\n",
    "artifact_golden = 'revert_to_golden.mcs'\n",
    "\n",
    "\n",
    "# Xilinx xrt package in Storage VM\n",
    "xrt_package = 'xrt/xrt_202310.2.15.225_22.04-amd64-xrt.deb'\n",
    "\n",
    "\n",
    "# Xilinx deployment target package in Storage VM\n",
    "deployment_tgt_package = 'alveo-packages/xilinx-u280-gen3x16-xdma_2023.2_2023_1014_0238-all.deb.tar.gz'\n",
    "\n",
    "# Xilinx xbflash2 package in Storage VM\n",
    "xbflash2_package = 'alveo-packages/xrt_202210.2.13.466_20.04-amd64-xbflash2.deb'\n",
    "\n",
    "\n",
    "# FABNetv4 of storage VM - consult the Storage VM slice for this FABNetv4 IP address\n",
    "storage_vm_ip = \"10.132.136.2\"\n",
    "# username and password used in storage VM\n",
    "nginx_user = \"fpga_tools\"\n",
    "nginx_password = \"secret-password\"\n",
    "\n",
    "#\n",
    "# should not need to edit below\n",
    "FPGA_CHOICE='FPGA_Xilinx_U280'\n",
    "\n",
    "\n",
    "# don't edit - convert from FPGA type to a resource column name\n",
    "# to use in filter lambda function below\n",
    "choice_to_column = {\n",
    "    \"FPGA_Xilinx_U280\": \"fpga_u280_available\",\n",
    "}\n",
    "\n",
    "column_name = choice_to_column.get(FPGA_CHOICE, \"Unknown\")\n",
    "\n",
    "fpga_bdf = \"0000:1f:00.0\"\n",
    "\n",
    "#fablib.get_image_names()"
   ]
  },
  {
   "cell_type": "code",
   "execution_count": 76,
   "metadata": {},
   "outputs": [
    {
     "name": "stdout",
     "output_type": "stream",
     "text": [
      "Will create slice \"Persistent slice with FPGA_Xilinx_U280 on MICH\"\n"
     ]
    }
   ],
   "source": [
    "# setup site name\n",
    "site='MICH'\n",
    "node_name='fpga-node'\n",
    "\n",
    "# name the slice and the node \n",
    "slice_name=f'Persistent slice with {FPGA_CHOICE} on {site}'\n",
    "print(f'Will create slice \"{slice_name}\"')"
   ]
  },
  {
   "cell_type": "markdown",
   "metadata": {},
   "source": [
    "### Create a new slice \n",
    "\n",
    "Create a slice with FPGA component on selected site and access to FABNetv4 network.\n",
    "\n",
    "__NOTE:__ It is important to use a Docker-enabled image so that Docker can properly build docker images on IPv6-enabled sites."
   ]
  },
  {
   "cell_type": "code",
   "execution_count": null,
   "metadata": {},
   "outputs": [],
   "source": [
    "# Create Slice. Note that by default submit() call will poll for 360 seconds every 10-20 seconds\n",
    "# waiting for slice to come up. Normal expected time is around 2 minutes. \n",
    "slice = fablib.new_slice(name=slice_name)\n",
    "image = 'default_ubuntu_22'\n",
    "###image = 'docker_ubuntu_20'\n",
    "\n",
    "# Add node with a 200G drive and 8 of CPU cores using Ubuntu 20 image\n",
    "node = slice.add_node(name=node_name, site=site, cores=8, disk=200, image=image)\n",
    "node.add_component(model=FPGA_CHOICE, name='fpga1')\n",
    "# be sure to add FABNetv4 so we can communicate with the slice that has the tools\n",
    "node.add_fabnet()\n",
    "\n",
    "# use the postboot script from docker examples\n",
    "node.add_post_boot_upload_directory('../../fablib_api/docker_containers/node_tools','.')\n",
    "node.add_post_boot_execute('node_tools/enable_docker.sh {{ _self_.image }} ')\n",
    "node.add_post_boot_upload_directory('node_config','.')\n",
    "node.add_post_boot_execute(f'chmod a+x node_config/ipv6-and-docker-plugins.sh && node_config/ipv6-and-docker-plugins.sh')\n",
    "\n",
    "# Submit Slice Request\n",
    "slice.submit();"
   ]
  },
  {
   "cell_type": "markdown",
   "metadata": {},
   "source": [
    "Add storage VM into /etc/hosts for convenience. __Consult the storage slice for the FABNetv4 IPv4 address of that VM.__"
   ]
  },
  {
   "cell_type": "code",
   "execution_count": null,
   "metadata": {},
   "outputs": [],
   "source": [
    "slice = fablib.get_slice(slice_name)\n",
    "node = slice.get_node(name=node_name)   \n",
    "\n",
    "commands = list()\n",
    "commands.append(f\"echo {storage_vm_ip} fpga-tools-host | sudo tee -a /etc/hosts\")\n",
    "commands.append(f\"echo 127.0.0.1 {node_name} | sudo tee -a /etc/hosts\")\n",
    "\n",
    "for command in commands:\n",
    "    stdout, stderr = node.execute(command)"
   ]
  },
  {
   "cell_type": "markdown",
   "metadata": {},
   "source": [
    "## Step 3: Inspect the slice\n",
    "Note that nat64 configuration is done at boot time."
   ]
  },
  {
   "cell_type": "code",
   "execution_count": null,
   "metadata": {
    "scrolled": true
   },
   "outputs": [],
   "source": [
    "slice = fablib.get_slice(slice_name)\n",
    "\n",
    "node = slice.get_node(name=node_name)              \n",
    "\n",
    "node_addr = node.get_interface(network_name=f'FABNET_IPv4_{node.get_site()}').get_ip_addr()\n",
    "\n",
    "slice.show()\n",
    "slice.list_nodes()\n",
    "slice.list_networks()\n",
    "print(f'Node FABNetV4 IP Address is {node_addr}')"
   ]
  },
  {
   "cell_type": "markdown",
   "metadata": {
    "tags": []
   },
   "source": [
    "## Step 4: Fetch Tools\n",
    "\n"
   ]
  },
  {
   "cell_type": "markdown",
   "metadata": {
    "tags": []
   },
   "source": [
    "### 4.1 Artifacts"
   ]
  },
  {
   "cell_type": "code",
   "execution_count": null,
   "metadata": {},
   "outputs": [],
   "source": [
    "bitfile_location = '~/fpga-bitfile'\n",
    "\n",
    "commands = [f'[ ! -d {bitfile_location} ] && mkdir -p {bitfile_location}',\n",
    "            f'curl -k -u {nginx_user}:{nginx_password} https://fpga-tools-host/fpga-tools/artifacts/{artifact_owner_username}/{artifact_version}/{artifact}  > {bitfile_location}/{artifact}',\n",
    "            f'curl -k -u {nginx_user}:{nginx_password} https://fpga-tools-host/fpga-tools/artifacts/{artifact_owner_username}/{artifact_version}/{artifact_xclbin}  > {bitfile_location}/{artifact_xclbin}',\n",
    "            f'curl -k -u {nginx_user}:{nginx_password} https://fpga-tools-host/fpga-tools/xrt/{artifact_golden}  > {bitfile_location}/{artifact_golden}']\n",
    "\n",
    "\n",
    "for command in commands:\n",
    "   print(f'--- Node {node_name}: Executing command: {command}')\n",
    "   stdout, stderr = node.execute(command)\n",
    "print('--- Done')"
   ]
  },
  {
   "cell_type": "markdown",
   "metadata": {},
   "source": [
    "### 4.2 Alveo Packages\n",
    "https://www.xilinx.com/support/download/index.html/content/xilinx/en/downloadNav/alveo/u280.html\n",
    "\n",
    "1. Xilinx Runtime\n",
    "\n",
    "   The Xilinx runtime (XRT) is a low level communication layer (APIs and drivers) between the host and the card.\n",
    "   - [xrt_202320.2.16.204_20.04-amd64-xrt.deb](https://www.xilinx.com/bin/public/openDownload?filename=xrt_202320.2.16.204_20.04-amd64-xrt.deb)\n",
    "\n",
    " \n",
    "2. Deployment Target Platform\n",
    "\n",
    "   The deployment target platform is the communication layer physically implemented and flashed into the card.\n",
    "   - [xilinx-u280-gen3x16-xdma_2023.2_2023_1014_0238-all.deb.tar.gz](https://www.xilinx.com/bin/public/openDownload?filename=xilinx-u280-gen3x16-xdma_2023.2_2023_1014_0238-all.deb.tar.gz)\n"
   ]
  },
  {
   "cell_type": "markdown",
   "metadata": {},
   "source": [
    "#### 4.2.1 Download - Xilinx Runtime, Deployment Target Platform, xbflash2"
   ]
  },
  {
   "cell_type": "code",
   "execution_count": null,
   "metadata": {},
   "outputs": [],
   "source": [
    "import os.path\n",
    "\n",
    "tools_location = '~/xilinx-labtools/alveo-packages'\n",
    "\n",
    "commands = list()\n",
    "commands.append(f'[ ! -d {tools_location} ] && mkdir -p {tools_location}')\n",
    "commands.append(f'curl -k -u {nginx_user}:{nginx_password} https://fpga-tools-host/fpga-tools/{xbflash2_package}  > {tools_location}/{os.path.basename(xbflash2_package)}')\n",
    "commands.append(f'curl -k -u {nginx_user}:{nginx_password} https://fpga-tools-host/fpga-tools/{xrt_package}  > {tools_location}/{os.path.basename(xrt_package)}')\n",
    "commands.append(f'curl -k -u {nginx_user}:{nginx_password} https://fpga-tools-host/fpga-tools/{deployment_tgt_package}  > {tools_location}/{os.path.basename(deployment_tgt_package)}')\n",
    "\n",
    "for command in commands:\n",
    "   print(f'--- Node {node_name}: Executing command: {command}')\n",
    "   stdout, stderr = node.execute(command)\n",
    "print('--- Done')"
   ]
  },
  {
   "cell_type": "markdown",
   "metadata": {},
   "source": [
    "#### 4.2.2 Install - xbflash2 -> (Not Tested)"
   ]
  },
  {
   "cell_type": "code",
   "execution_count": 2,
   "metadata": {},
   "outputs": [],
   "source": [
    "#tools_location = '~/xilinx-labtools/alveo-packages'\n",
    "\n",
    "#commands = list()\n",
    "#commands.append(f'sudo apt-get install -y {tools_location}/xrt_202210.2.13.466_20.04-amd64-xbflash2.deb &> /tmp/fpga-apt-xbflash2.log')\n",
    "\n",
    "#for command in commands:\n",
    "#   print(f'--- Node {node_name}: Executing command: {command}')\n",
    "#   stdout, stderr = node.execute(command)\n",
    "#print('--- Done')"
   ]
  },
  {
   "cell_type": "markdown",
   "metadata": {},
   "source": [
    "#### 4.2.3 Install - Xilinx Runtime"
   ]
  },
  {
   "cell_type": "code",
   "execution_count": null,
   "metadata": {},
   "outputs": [],
   "source": [
    "import os.path\n",
    "\n",
    "tools_location = '~/xilinx-labtools/alveo-packages'\n",
    "\n",
    "commands = list()\n",
    "commands.append(f'(sudo apt -y update) &> /tmp/fpga-apt-update.log')\n",
    "commands.append(f'cd {tools_location} && sudo apt install -y ./{os.path.basename(xrt_package)} &> /tmp/fpga-apt-xrt.log')\n",
    "\n",
    "\n",
    "for command in commands:\n",
    "   print(f'--- Node {node_name}: Executing command: {command}')\n",
    "   stdout, stderr = node.execute(command)\n",
    "print('--- Done')"
   ]
  },
  {
   "cell_type": "markdown",
   "metadata": {},
   "source": [
    "#### 4.2.4 Install - Deployment Target Platform "
   ]
  },
  {
   "cell_type": "code",
   "execution_count": null,
   "metadata": {},
   "outputs": [],
   "source": [
    "import os.path\n",
    "\n",
    "tools_location = '~/xilinx-labtools/alveo-packages'\n",
    "\n",
    "commands = list()\n",
    "commands.append(f'(sudo apt -y update) &> /tmp/fpga-apt-update.log')\n",
    "commands.append(f'[ ! -d {tools_location}/xrt_platform ] && mkdir -p {tools_location}/xrt_platform')\n",
    "commands.append(f'sudo tar -zxvf {tools_location}/{os.path.basename(deployment_tgt_package)} -C {tools_location}/xrt_platform')\n",
    "commands.append(f'cd {tools_location}/xrt_platform && sudo apt-get install -y ./*.deb &> /tmp/fpga-apt-xrt-deployment.log')\n",
    "\n",
    "\n",
    "for command in commands:\n",
    "   print(f'--- Node {node_name}: Executing command: {command}')\n",
    "   stdout, stderr = node.execute(command)\n",
    "print('--- Done')\n"
   ]
  },
  {
   "cell_type": "markdown",
   "metadata": {},
   "source": [
    "## Step 5: Flash the Card "
   ]
  },
  {
   "cell_type": "markdown",
   "metadata": {},
   "source": [
    "<div class=\"alert alert-block alert-info\">\n",
    "<b>Pre-requisite:</b> FPGA is already flashed with the golden image (revert_to_golden.mcs) and the server is cold-rebooted  \n",
    "</div>"
   ]
  },
  {
   "cell_type": "markdown",
   "metadata": {},
   "source": [
    "<div class=\"alert alert-block alert-info\">\n",
    "<b>Stage-1:</b> Execute 5.1 > delete slice > cold-reboot the server\n",
    "</div>"
   ]
  },
  {
   "cell_type": "markdown",
   "metadata": {},
   "source": [
    "<div class=\"alert alert-block alert-info\">\n",
    "<b>Stage-2:</b> After cold-rebooting the server, create a slice > Execute 5.2 > Execute 5.3\n",
    "</div>"
   ]
  },
  {
   "cell_type": "markdown",
   "metadata": {},
   "source": [
    "### 5.1 Program the base partition with [xbmgmt](https://xilinx.github.io/XRT/master/html/xbmgmt.html#xbmgmt-program)"
   ]
  },
  {
   "cell_type": "code",
   "execution_count": null,
   "metadata": {},
   "outputs": [],
   "source": [
    "import os.path\n",
    "\n",
    "tools_location = '~/xilinx-labtools/alveo-packages'\n",
    "\n",
    "commands = list()\n",
    "commands.append(f'source /opt/xilinx/xrt/setup.sh && sudo /opt/xilinx/xrt/bin/xbmgmt program --base -d 1f:00.0')\n",
    "\n",
    "\n",
    "for command in commands:\n",
    "   print(f'--- Node {node_name}: Executing command: {command}')\n",
    "   stdout, stderr = node.execute(command)\n",
    "print('--- Done')\n"
   ]
  },
  {
   "cell_type": "markdown",
   "metadata": {},
   "source": [
    "<div class=\"alert alert-block alert-success\">\n",
    "<b>5.1 Desired Output</b> We should see an output similar to the following\n",
    "</div>\n",
    "\n",
    "```\n",
    "root@fpga-node:~# sudo /opt/xilinx/xrt/bin/xbmgmt program --base -d 1f:00.0\n",
    "----------------------------------------------------\n",
    "Device : [0000:1f:00.0]\n",
    "\n",
    "Current Configuration\n",
    "  Platform             : xilinx_u280_GOLDEN_8\n",
    "  SC Version           : INACTIVE\n",
    "  Platform ID          : N/A\n",
    "\n",
    "\n",
    "Incoming Configuration\n",
    "  Deployment File      : partition.xsabin\n",
    "  Deployment Directory : /lib/firmware/xilinx/283bab8f654d8674968f4da57f7fa5d7\n",
    "  Size                 : 135,050,024 bytes\n",
    "  Timestamp            : Sat Feb 22 04:42:05 2025\n",
    "\n",
    "  Platform             : xilinx_u280_gen3x16_xdma_base_1\n",
    "  SC Version           : 4.3.28\n",
    "  Platform UUID        : 283BAB8F-654D-8674-968F-4DA57F7FA5D7\n",
    "----------------------------------------------------\n",
    "Actions to perform:\n",
    "  [0000:1f:00.0] : Program base (FLASH) image\n",
    "----------------------------------------------------\n",
    "Are you sure you wish to proceed? [Y/n]: Y\n",
    "\n",
    "[0000:1f:00.0] : Updating base (e.g., shell) flash image...\n",
    "Bitstream guard installed on flash @0x1002000\n",
    "Persisted 716128 bytes of meta data to flash 0 @0x7f51274\n",
    "Extracting bitstream from MCS data:\n",
    "...............................................\n",
    "Extracted 48844316 bytes from bitstream @0x1002000\n",
    "Writing bitstream to flash 0:\n",
    "...............................................\n",
    "Bitstream guard removed from flash\n",
    "INFO     : Base flash image has been programmed successfully.\n",
    "----------------------------------------------------\n",
    "Report\n",
    "  [0000:1f:00.0] : Factory or Recovery image detected. Reflash the device after the reboot to update the SC firmware.\n",
    "  [0000:1f:00.0] : Successfully flashed the base (e.g., shell) image\n",
    "\n",
    "Device flashed successfully.\n",
    "****************************************************\n",
    "Cold reboot machine to load the new image on device.\n",
    "****************************************************\n",
    "```"
   ]
  },
  {
   "cell_type": "markdown",
   "metadata": {},
   "source": [
    "### 5.2 Check the FPGA"
   ]
  },
  {
   "cell_type": "code",
   "execution_count": null,
   "metadata": {},
   "outputs": [],
   "source": [
    "commands = list()\n",
    "\n",
    "commands.append(f'sudo lsmod | grep xocl')\n",
    "commands.append(f'sudo lsmod | grep xcl')\n",
    "commands.append(f'sudo /opt/xilinx/xrt/bin/xbmgmt examine')\n",
    "commands.append(f'sudo /opt/xilinx/xrt/bin/xbmgmt examine -r platform --device 0000:1f:00.0')\n",
    "\n",
    "for command in commands:\n",
    "   print(f'--- Node {node_name}: Executing command: {command}')\n",
    "   stdout, stderr = node.execute(command)\n",
    "print('--- Done')"
   ]
  },
  {
   "cell_type": "markdown",
   "metadata": {},
   "source": [
    "<div class=\"alert alert-block alert-success\">\n",
    "<b>5.2 Desired Output</b> We should see an output similar to the following\n",
    "</div>\n",
    "\n",
    "```\n",
    "--- Node fpga-node: Executing command: sudo lsmod | grep xocl\n",
    "xocl                 1945600  0\n",
    "libcrc32c              16384  8 nf_conntrack,nf_nat,xclmgmt,xocl,openvswitch,btrfs,nf_tables,raid456\n",
    "drm                   622592  4 drm_kms_helper,xocl,virtio_gpu\n",
    "--- Node fpga-node: Executing command: sudo lsmod | grep xcl\n",
    "xclmgmt              1126400  0\n",
    "libcrc32c              16384  8 nf_conntrack,nf_nat,xclmgmt,xocl,openvswitch,btrfs,nf_tables,raid456\n",
    "--- Node fpga-node: Executing command: sudo /opt/xilinx/xrt/bin/xbmgmt examine\n",
    "System Configuration\n",
    "  OS Name              : Linux\n",
    "  Release              : 5.15.0-127-generic\n",
    "  Version              : #137-Ubuntu SMP Fri Nov 8 15:21:01 UTC 2024\n",
    "  Machine              : x86_64\n",
    "  CPU Cores            : 8\n",
    "  Memory               : 7936 MB\n",
    "  Distribution         : Ubuntu 22.04.5 LTS\n",
    "  GLIBC                : 2.35\n",
    "  Model                : OpenStack Compute\n",
    "\n",
    "XRT\n",
    "  Version              : 2.15.225\n",
    "  Branch               : 2023.1\n",
    "  Hash                 : adf27adb3cfadc6e4c41d6db814159f1329b24f3\n",
    "  Hash Date            : 2023-05-03 10:13:19\n",
    "  XOCL                 : 2.15.225, adf27adb3cfadc6e4c41d6db814159f1329b24f3\n",
    "  XCLMGMT              : 2.15.225, adf27adb3cfadc6e4c41d6db814159f1329b24f3\n",
    "\n",
    "Devices present\n",
    "BDF             :  Shell                            Platform UUID                         Device ID        Device Ready*\n",
    "--------------------------------------------------------------------------------------------------------------------------\n",
    "[0000:1f:00.0]  :  xilinx_u280_gen3x16_xdma_base_1  283BAB8F-654D-8674-968F-4DA57F7FA5D7  mgmt(inst=7936)  Yes\n",
    "\n",
    "\n",
    "* Devices that are not ready will have reduced functionality when using XRT tools\n",
    "--- Node fpga-node: Executing command: sudo /opt/xilinx/xrt/bin/xbmgmt examine -r platform --device 0000:1f:00.0\n",
    "\n",
    "-------------------------------------------------\n",
    "[0000:1f:00.0] : xilinx_u280_gen3x16_xdma_base_1\n",
    "-------------------------------------------------\n",
    "Flash properties\n",
    "  Type                 : spi\n",
    "  Serial Number        : 21770329D011\n",
    "\n",
    "Device properties\n",
    "  Type                 : u280\n",
    "  Name                 : ALVEO U280 PQ\n",
    "  Config Mode          : 0x7\n",
    "  Max Power            : 225W\n",
    "\n",
    "Flashable partitions running on FPGA\n",
    "  Platform             : xilinx_u280_gen3x16_xdma_base_1\n",
    "  SC Version           : 4.3.28\n",
    "  Platform UUID        : 283BAB8F-654D-8674-968F-4DA57F7FA5D7\n",
    "  Interface UUID       : FB2B2C5A-19ED-6359-3FEA-95F51FBC8EB9\n",
    "\n",
    "Flashable partitions installed in system\n",
    "  <none found>\n",
    "\n",
    "\n",
    "  Mac Address          : 00:0A:35:0E:26:30\n",
    "                       : 00:0A:35:0E:26:31\n",
    "\n",
    "WARNING  : No shell is installed on the system.\n",
    "\n",
    "--- Done\n",
    "```"
   ]
  },
  {
   "cell_type": "markdown",
   "metadata": {},
   "source": [
    "### 5.3 Run Test Application"
   ]
  },
  {
   "cell_type": "code",
   "execution_count": null,
   "metadata": {},
   "outputs": [],
   "source": [
    "bitfile_location = '~/fpga-bitfile'\n",
    "\n",
    "commands = list()\n",
    "\n",
    "commands.append(f'cd {bitfile_location} && chmod +x {artifact}')\n",
    "commands.append(f'')\n",
    "commands.append(f'source /opt/xilinx/xrt/setup.sh && {bitfile_location}/hello_world {bitfile_location}/vadd.xclbin')\n",
    "\n",
    "for command in commands:\n",
    "   print(f'--- Node {node_name}: Executing command: {command}')\n",
    "   stdout, stderr = node.execute(command)\n",
    "print('--- Done')"
   ]
  },
  {
   "cell_type": "markdown",
   "metadata": {},
   "source": [
    "<div class=\"alert alert-block alert-success\">\n",
    "<b>5.3 Desired Output</b> We should see an output similar to the following\n",
    "</div>\n",
    "\n",
    "```\n",
    "--- Node fpga-node: Executing command: cd ~/fpga-bitfile && chmod +x hello_world\n",
    "--- Node fpga-node: Executing command:\n",
    "--- Node fpga-node: Executing command: source /opt/xilinx/xrt/setup.sh && ~/fpga-bitfile/hello_world ~/fpga-bitfile/vadd.xclbin\n",
    "Autocomplete enabled for the xbutil command\n",
    "Autocomplete enabled for the xbmgmt command\n",
    "XILINX_XRT        : /opt/xilinx/xrt\n",
    "PATH              : /opt/xilinx/xrt/bin:/usr/local/sbin:/usr/local/bin:/usr/sbin:/usr/bin:/sbin:/bin:/usr/games:/usr/local/games:/snap/bin\n",
    "LD_LIBRARY_PATH   : /opt/xilinx/xrt/lib\n",
    "PYTHONPATH        : /opt/xilinx/xrt/python\n",
    "Found Platform\n",
    "Platform Name: Xilinx\n",
    "INFO: Reading /home/ubuntu/fpga-bitfile/vadd.xclbin\n",
    "Loading: '/home/ubuntu/fpga-bitfile/vadd.xclbin'\n",
    "Trying to program device[0]: xilinx_u280_gen3x16_xdma_base_1\n",
    "Device[0]: program successful!\n",
    "TEST PASSED\n",
    "--- Done\n",
    "```"
   ]
  },
  {
   "cell_type": "markdown",
   "metadata": {},
   "source": [
    "## Step 6: Extend Slice"
   ]
  },
  {
   "cell_type": "markdown",
   "metadata": {},
   "source": [
    "Get slice details and extend the slice. This cell is optional and can be executed as-needed."
   ]
  },
  {
   "cell_type": "code",
   "execution_count": null,
   "metadata": {},
   "outputs": [],
   "source": [
    "slice = fablib.get_slice(name=slice_name)\n",
    "slice.show();"
   ]
  },
  {
   "cell_type": "markdown",
   "metadata": {},
   "source": [
    "Renew by 14 days"
   ]
  },
  {
   "cell_type": "code",
   "execution_count": null,
   "metadata": {},
   "outputs": [],
   "source": [
    "from datetime import datetime\n",
    "from datetime import timezone\n",
    "from datetime import timedelta\n",
    "\n",
    "# Set end host to now plus 14 days\n",
    "end_date = (datetime.now(timezone.utc) + timedelta(days=14)).strftime(\"%Y-%m-%d %H:%M:%S %z\")\n",
    "\n",
    "try:\n",
    "    slice = fablib.get_slice(name=slice_name)\n",
    "\n",
    "    slice.renew(end_date)\n",
    "except Exception as e:\n",
    "    print(f\"Exception: {e}\")"
   ]
  },
  {
   "cell_type": "markdown",
   "metadata": {},
   "source": [
    "## Step 7: Delete the slice\n",
    "\n",
    "Delete the slice after completing the programming."
   ]
  },
  {
   "cell_type": "code",
   "execution_count": null,
   "metadata": {},
   "outputs": [],
   "source": [
    "try:\n",
    "    slice = fablib.get_slice(name=slice_name)\n",
    "    slice.delete()\n",
    "except Exception as e:\n",
    "    print(f\"Exception: {e}\")"
   ]
  }
 ],
 "metadata": {
  "kernelspec": {
   "display_name": "Python 3 (ipykernel)",
   "language": "python",
   "name": "python3"
  },
  "language_info": {
   "codemirror_mode": {
    "name": "ipython",
    "version": 3
   },
   "file_extension": ".py",
   "mimetype": "text/x-python",
   "name": "python",
   "nbconvert_exporter": "python",
   "pygments_lexer": "ipython3",
   "version": "3.11.9"
  }
 },
 "nbformat": 4,
 "nbformat_minor": 4
}

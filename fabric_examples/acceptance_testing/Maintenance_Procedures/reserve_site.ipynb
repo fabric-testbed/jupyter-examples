{
 "cells": [
  {
   "cell_type": "markdown",
   "metadata": {
    "tags": []
   },
   "source": [
    "# Reserve a Site\n",
    "This Jupyter notebook provides a step-by-step guide to reserving an entire site for a specified period in the near future. This capability is particularly useful for scheduling maintenance activities, ensuring that resources at the selected site are fully reserved and unavailable for other tasks during the designated time window. By following this notebook, you will learn how to set up and submit a reservation request that blocks all resources at a site, effectively securing it for maintenance or other exclusive activities."
   ]
  },
  {
   "cell_type": "markdown",
   "metadata": {
    "tags": []
   },
   "source": [
    "## Step 2: Import the FABlib Library"
   ]
  },
  {
   "cell_type": "code",
   "execution_count": null,
   "metadata": {
    "tags": []
   },
   "outputs": [],
   "source": [
    "from fabrictestbed_extensions.fablib.fablib import FablibManager as fablib_manager\n",
    "\n",
    "fablib = fablib_manager()\n",
    "\n",
    "fablib.show_config();\n"
   ]
  },
  {
   "cell_type": "markdown",
   "metadata": {},
   "source": [
    "## Step 3: Set the parameters"
   ]
  },
  {
   "cell_type": "code",
   "execution_count": null,
   "metadata": {},
   "outputs": [],
   "source": [
    "site_name = \"MAX\"\n",
    "slice_name = f\"ReserveSite-{site_name}\""
   ]
  },
  {
   "cell_type": "markdown",
   "metadata": {},
   "source": [
    "### Define the Time Duration\n",
    "Define the duration over which resource availability will be evaluated. This duration represents the continuous period of time for which resources must be available to meet the reservation requirements. For example, in the following code snippet, a 6-hour reservation window is specified, meaning the system will search within the given `start` and `end` time range to identify a contiguous 6-hour block where resources are available for the requested slice."
   ]
  },
  {
   "cell_type": "code",
   "execution_count": null,
   "metadata": {},
   "outputs": [],
   "source": [
    "from datetime import datetime\n",
    "from datetime import timezone\n",
    "from datetime import timedelta\n",
    "\n",
    "start = (datetime.now(timezone.utc) + timedelta(days=180))\n",
    "end = start + timedelta(days=15)\n",
    "lease_in_hours = 48"
   ]
  },
  {
   "cell_type": "markdown",
   "metadata": {
    "tags": []
   },
   "source": [
    "#### Step 4: Query for Available Testbed Resources and Settings\n",
    "\n",
    "This optional command queries the FABRIC services to find the available resources. It may be useful for finding a site with available capacity."
   ]
  },
  {
   "cell_type": "code",
   "execution_count": null,
   "metadata": {},
   "outputs": [],
   "source": [
    "fablib.list_sites();"
   ]
  },
  {
   "cell_type": "markdown",
   "metadata": {
    "tags": []
   },
   "source": [
    "## Step 5: Create the Experiment Slice\n",
    "\n",
    "Each site can consist of multiple hosts, each with its own resource capacity. In the following process, a node is created for each host, requesting CPU cores up to the maximum capacity that each host can provide. After configuring the slice with the necessary resources, you must submit a request to schedule and instantiate the slice within the defined time range (`start` to `end`). If resources are not available within this interval, you may need to adjust the `start` and `end` times to find an available window.\n",
    "\n",
    "By default, the `submit` function will hold execution until the node is fully provisioned, showing real-time updates on the progress of your slice as it’s being built. This feedback allows you to monitor the slice creation process step-by-step."
   ]
  },
  {
   "cell_type": "code",
   "execution_count": null,
   "metadata": {
    "tags": []
   },
   "outputs": [],
   "source": [
    "# Get the information for the specified site\n",
    "site = fablib.resources.get_site(site_name)\n",
    "\n",
    "# Create a new slice with the specified name\n",
    "slice = fablib.new_slice(name=slice_name)\n",
    "\n",
    "# Add a node for each host at the site, requesting all available cores on each host\n",
    "idx = 0\n",
    "for h in site.get_hosts().values():\n",
    "    max_cores = h.get_core_capacity()\n",
    "    # Add a node to the slice with the host's maximum core capacity\n",
    "    node = slice.add_node(name=f\"{site_name}-{idx}\", host=h.get_name(), cores=max_cores/2, site=site_name)\n",
    "    idx += 1  # Increment index for unique node naming\n",
    "    # Add a node to the slice with the host's maximum core capacity\n",
    "    node = slice.add_node(name=f\"{site_name}-{idx}\", host=h.get_name(), cores=max_cores/2, site=site_name)\n",
    "    idx += 1  # Increment index for unique node naming\n",
    "\n",
    "# Submit the slice request, specifying the start and end times for the lease\n",
    "slice.submit(lease_start_time=start, lease_end_time=end, lease_in_hours=lease_in_hours)"
   ]
  },
  {
   "cell_type": "markdown",
   "metadata": {},
   "source": [
    "## Step 5: Observe the Slice's Attributes\n",
    "\n",
    "### Show the slice attributes "
   ]
  },
  {
   "cell_type": "code",
   "execution_count": null,
   "metadata": {
    "tags": []
   },
   "outputs": [],
   "source": [
    "slice.show();"
   ]
  },
  {
   "cell_type": "markdown",
   "metadata": {
    "tags": []
   },
   "source": [
    "### List the nodes\n"
   ]
  },
  {
   "cell_type": "code",
   "execution_count": null,
   "metadata": {
    "tags": []
   },
   "outputs": [],
   "source": [
    "slice.list_nodes();"
   ]
  },
  {
   "cell_type": "markdown",
   "metadata": {
    "tags": []
   },
   "source": [
    "## Step 7: Delete the Slice\n",
    "\n",
    "Please delete your slice when you are done with your experiment."
   ]
  },
  {
   "cell_type": "code",
   "execution_count": null,
   "metadata": {
    "tags": []
   },
   "outputs": [],
   "source": [
    "slice.delete()"
   ]
  },
  {
   "cell_type": "code",
   "execution_count": null,
   "metadata": {},
   "outputs": [],
   "source": []
  }
 ],
 "metadata": {
  "kernelspec": {
   "display_name": "Python 3 (ipykernel)",
   "language": "python",
   "name": "python3"
  },
  "language_info": {
   "codemirror_mode": {
    "name": "ipython",
    "version": 3
   },
   "file_extension": ".py",
   "mimetype": "text/x-python",
   "name": "python",
   "nbconvert_exporter": "python",
   "pygments_lexer": "ipython3",
   "version": "3.11.9"
  }
 },
 "nbformat": 4,
 "nbformat_minor": 4
}

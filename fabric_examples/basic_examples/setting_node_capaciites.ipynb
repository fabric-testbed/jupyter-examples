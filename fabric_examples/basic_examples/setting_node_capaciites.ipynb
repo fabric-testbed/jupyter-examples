{
 "cells": [
  {
   "cell_type": "markdown",
   "metadata": {},
   "source": [
    "# Setting Node Capacities\n",
    "\n",
    "Capacities of a FABRIC node are basic characteristics of the virtual machine including number of compute core, amount of memory, and amount of local disk.  This notebook will demonstrate the options for setting these node capciites.\n",
    "\n",
    "## Configure the Environment"
   ]
  },
  {
   "cell_type": "code",
   "execution_count": null,
   "metadata": {},
   "outputs": [],
   "source": [
    "import os\n",
    "from fabrictestbed.slice_manager import SliceManager, Status, SliceState\n",
    "import json"
   ]
  },
  {
   "cell_type": "code",
   "execution_count": null,
   "metadata": {},
   "outputs": [],
   "source": [
    "ssh_key_file_priv=os.environ['HOME']+\"/.ssh/id_rsa\"\n",
    "ssh_key_file_pub=os.environ['HOME']+\"/.ssh/id_rsa.pub\"\n",
    "\n",
    "ssh_key_pub = None\n",
    "with open (ssh_key_file_pub, \"r\") as myfile:\n",
    "    ssh_key_pub=myfile.read()\n",
    "    ssh_key_pub=ssh_key_pub.strip()"
   ]
  },
  {
   "cell_type": "code",
   "execution_count": null,
   "metadata": {},
   "outputs": [],
   "source": [
    "credmgr_host = os.environ['FABRIC_CREDMGR_HOST']\n",
    "print(f\"FABRIC Credential Manager   : {credmgr_host}\")\n",
    "\n",
    "orchestrator_host = os.environ['FABRIC_ORCHESTRATOR_HOST']\n",
    "print(f\"FABRIC Orchestrator         : {orchestrator_host}\")"
   ]
  },
  {
   "cell_type": "markdown",
   "metadata": {},
   "source": [
    "## Create Slice Manager Object"
   ]
  },
  {
   "cell_type": "code",
   "execution_count": null,
   "metadata": {},
   "outputs": [],
   "source": [
    "slice_manager = SliceManager(oc_host=orchestrator_host, \n",
    "                             cm_host=credmgr_host ,\n",
    "                             project_name='all', \n",
    "                             scope='all')\n",
    "\n",
    "# Initialize the slice manager\n",
    "slice_manager.initialize()"
   ]
  },
  {
   "cell_type": "markdown",
   "metadata": {
    "tags": []
   },
   "source": [
    "## Configure Slice Parameters\n",
    "\n"
   ]
  },
  {
   "cell_type": "code",
   "execution_count": null,
   "metadata": {},
   "outputs": [],
   "source": [
    "slice_name='MySlice'\n",
    "node_name='node1'\n",
    "site='MAX'\n",
    "image_name='default_centos_8'\n",
    "image_type='qcow2'"
   ]
  },
  {
   "cell_type": "markdown",
   "metadata": {},
   "source": [
    "## Setting Capacities\n",
    "\n",
    "We are going to be creating slices that contain one node each.\n",
    "\n",
    "We need to specify the resources (number of cores, amount of ram and amount of disk space) that we want to allocate to our node.\n",
    "\n",
    "We can do that in two ways:\n",
    " - Using Capacities()\n",
    " - Using capacity hints."
   ]
  },
  {
   "cell_type": "markdown",
   "metadata": {},
   "source": [
    "## Example 1: Exact Capacities\n",
    "\n",
    "Let's create our first slice that contains one node. We will use `Capacities()` to specify the resources that we want to allocate.\n",
    "\n",
    "The line `cap.set_fields(core=2, ram=8, disk=10)` specifies that we want to reserve a node with 2 cores, 8GB of RAM and 10GB of disk."
   ]
  },
  {
   "cell_type": "code",
   "execution_count": null,
   "metadata": {},
   "outputs": [],
   "source": [
    "from fabrictestbed.slice_editor import ExperimentTopology, Capacities, ComponentType\n",
    "# Create topology\n",
    "t = ExperimentTopology()\n",
    "\n",
    "# Add node\n",
    "n1 = t.add_node(name=node_name, site=site)\n",
    "\n",
    "# Set capacities\n",
    "cap = Capacities()\n",
    "cap.set_fields(core=2, ram=8, disk=10)\n",
    "\n",
    "# Set Properties\n",
    "n1.set_properties(capacities=cap, image_type=image_type, image_ref=image_name)\n",
    "\n",
    "# Generate Slice Graph\n",
    "slice_graph = t.serialize()\n",
    "\n",
    "# Request slice from Orchestrator\n",
    "return_status, slice_reservations = slice_manager.create(slice_name=slice_name, slice_graph=slice_graph, ssh_key=ssh_key_pub)\n",
    "\n",
    "if return_status == Status.OK:\n",
    "    slice_id = slice_reservations[0].get_slice_id()\n",
    "    print(\"Submitted slice creation request. Slice ID: {}\".format(slice_id))\n",
    "else:\n",
    "    print(f\"Failure: {slice_reservations}\")"
   ]
  },
  {
   "cell_type": "markdown",
   "metadata": {},
   "source": [
    "Get the slice and topology"
   ]
  },
  {
   "cell_type": "code",
   "execution_count": null,
   "metadata": {},
   "outputs": [],
   "source": [
    "import time\n",
    "def wait_for_slice(slice,timeout=180,interval=10,progress=False):\n",
    "    timeout_start = time.time()\n",
    "\n",
    "    if progress: print(\"Waiting for slice .\", end = '')\n",
    "    while time.time() < timeout_start + timeout:\n",
    "        return_status, slices = slice_manager.slices(excludes=[SliceState.Dead])\n",
    "\n",
    "        if return_status == Status.OK:\n",
    "            slice = list(filter(lambda x: x.slice_name == slice_name, slices))[0]\n",
    "            if slice.slice_state == \"StableOK\":\n",
    "                if progress: print(\" Slice state: {}\".format(slice.slice_state))\n",
    "                return slice\n",
    "            if slice.slice_state == \"Closing\" or slice.slice_state == \"Dead\":\n",
    "                if progress: print(\" Slice state: {}\".format(slice.slice_state))\n",
    "                return slice    \n",
    "        else:\n",
    "            print(f\"Failure: {slices}\")\n",
    "        \n",
    "        if progress: print(\".\", end = '')\n",
    "        time.sleep(interval)\n",
    "    \n",
    "    if time.time() >= timeout_start + timeout:\n",
    "        if progress: print(\" Timeout exceeded ({} sec). Slice: {} ({})\".format(timeout,slice.slice_name,slice.slice_state))\n",
    "        return slice    \n",
    "\n",
    "\n",
    "\n",
    "return_status, slices = slice_manager.slices(excludes=[SliceState.Dead,SliceState.Closing])\n",
    "\n",
    "if return_status == Status.OK:\n",
    "    slice = list(filter(lambda x: x.slice_name == slice_name, slices))[0]\n",
    "    slice = wait_for_slice(slice, progress=True)\n",
    "    return_status, experiment_topology = slice_manager.get_slice_topology(slice_object=slice)\n"
   ]
  },
  {
   "cell_type": "markdown",
   "metadata": {},
   "source": [
    "Print the allocated capacities"
   ]
  },
  {
   "cell_type": "code",
   "execution_count": null,
   "metadata": {},
   "outputs": [],
   "source": [
    "for node_name, node in experiment_topology.nodes.items():\n",
    "    print(\"Node {}:  \".format(node.name))\n",
    "    print(\"   Cores             : {}\".format(node.get_property(pname='capacity_allocations').core))\n",
    "    print(\"   RAM               : {}\".format(node.get_property(pname='capacity_allocations').ram))\n",
    "    print(\"   Disk              : {}\".format(node.get_property(pname='capacity_allocations').disk))"
   ]
  },
  {
   "cell_type": "markdown",
   "metadata": {},
   "source": [
    "It says that our node has 2 cores, 8GB of RAM and 10GB of disk space, which is what we requested.\n",
    "\n",
    "Now let's delete the slice."
   ]
  },
  {
   "cell_type": "code",
   "execution_count": null,
   "metadata": {},
   "outputs": [],
   "source": [
    "return_status, result = slice_manager.delete(slice_object=slice)\n",
    "print(\"Response Status {}\".format(return_status))"
   ]
  },
  {
   "cell_type": "markdown",
   "metadata": {},
   "source": [
    "## Example 2: Rounded Capacities\n",
    "\n",
    "Now let's try something else. Let's try to request 2 cores, 8GB of RAM, and 50GB of disk space.\n",
    "\n",
    "Again, we are going to use `cap.set_fields(core=2, ram=8, disk=50)`."
   ]
  },
  {
   "cell_type": "code",
   "execution_count": null,
   "metadata": {},
   "outputs": [],
   "source": [
    "from fabrictestbed.slice_editor import ExperimentTopology, Capacities, ComponentType\n",
    "# Create topology\n",
    "t = ExperimentTopology()\n",
    "\n",
    "# Add node\n",
    "n1 = t.add_node(name=node_name, site=site)\n",
    "\n",
    "# Set capacities\n",
    "cap = Capacities()\n",
    "cap.set_fields(core=2, ram=8, disk=50)\n",
    "\n",
    "# Set Properties\n",
    "n1.set_properties(capacities=cap, image_type=image_type, image_ref=image_name)\n",
    "\n",
    "# Generate Slice Graph\n",
    "slice_graph = t.serialize()\n",
    "\n",
    "# Request slice from Orchestrator\n",
    "return_status, slice_reservations = slice_manager.create(slice_name=slice_name, slice_graph=slice_graph, ssh_key=ssh_key_pub)\n",
    "\n",
    "if return_status == Status.OK:\n",
    "    slice_id = slice_reservations[0].get_slice_id()\n",
    "    print(\"Submitted slice creation request. Slice ID: {}\".format(slice_id))\n",
    "else:\n",
    "    print(f\"Failure: {slice_reservations}\")"
   ]
  },
  {
   "cell_type": "markdown",
   "metadata": {},
   "source": [
    "Get the slice and topology"
   ]
  },
  {
   "cell_type": "code",
   "execution_count": null,
   "metadata": {},
   "outputs": [],
   "source": [
    "return_status, slices = slice_manager.slices(excludes=[SliceState.Dead,SliceState.Closing])\n",
    "\n",
    "if return_status == Status.OK:\n",
    "    slice = list(filter(lambda x: x.slice_name == slice_name, slices))[0]\n",
    "    slice = wait_for_slice(slice, progress=True)\n",
    "    return_status, experiment_topology = slice_manager.get_slice_topology(slice_object=slice)\n"
   ]
  },
  {
   "cell_type": "markdown",
   "metadata": {},
   "source": [
    "Print the allocated capacities"
   ]
  },
  {
   "cell_type": "code",
   "execution_count": null,
   "metadata": {},
   "outputs": [],
   "source": [
    "for node_name, node in experiment_topology.nodes.items():\n",
    "    print(\"Node {}:  \".format(node.name))\n",
    "    print(\"   Cores             : {}\".format(node.get_property(pname='capacity_allocations').core))\n",
    "    print(\"   RAM               : {}\".format(node.get_property(pname='capacity_allocations').ram))\n",
    "    print(\"   Disk              : {}\".format(node.get_property(pname='capacity_allocations').disk))"
   ]
  },
  {
   "cell_type": "markdown",
   "metadata": {},
   "source": [
    "We can see that we were allocated 2 cores, 8GB of ram, but 100GB of disk space instead of 50GB.\n",
    "\n",
    "The reason for this is that we have discrete \"capacity hints\". The node can only be an instance of one of those capacity hints.\n",
    "\n",
    "See the very last cell in this notebook for the complete list of available capacity hints.\n",
    "\n",
    "This is an exerpt of the available capacity hints. Full list available [here](https://github.com/fabric-testbed/InformationModel/blob/master/fim/slivers/data/instance_sizes.json).\n",
    "\n",
    "    \"fabric.c16.m64.d10\": {\"core\":16, \"ram\":64, \"disk\": 10},\n",
    "    \"fabric.c32.m128.d10\": {\"core\":32, \"ram\":128, \"disk\": 10},\n",
    "    \"fabric.c1.m4.d100\": {\"core\":1, \"ram\":4, \"disk\": 100},\n",
    "    \"fabric.c2.m8.d100\": {\"core\":2, \"ram\":8, \"disk\": 100},\n",
    "    \"fabric.c4.m16.d100\": {\"core\":4, \"ram\":16, \"disk\": 100},\n",
    "\n",
    "We can see that the disk space can only be 10GB or 100GB. So when we requested 50GB, it was rounded up to 100GB."
   ]
  },
  {
   "cell_type": "markdown",
   "metadata": {},
   "source": [
    "### Now let's delete the slice."
   ]
  },
  {
   "cell_type": "code",
   "execution_count": null,
   "metadata": {},
   "outputs": [],
   "source": [
    "return_status, result = slice_manager.delete(slice_object=slice)\n",
    "\n",
    "print(\"Response Status {}\".format(return_status))"
   ]
  },
  {
   "cell_type": "markdown",
   "metadata": {},
   "source": [
    "## Example 3: Capacity Hints\n",
    "\n",
    "Finally, we can directly set the resources that we need using a \"capacity hint\" string. _Please see the very last cell in this notebook for the complete list of available capacity hints._\n",
    "\n",
    "We can set the needed resources like so:\n",
    "\n",
    "`capacity_hints=CapacityHints().set_fields(instance_type='fabric.c2.m8.d10')`.\n",
    "\n",
    "This would reserve a node with 2 processor cores, 8GB of memory and 10GB of disk space.\n",
    " - The number next to the `c` is the number of cores.\n",
    " - The number next to the `m` is the amount of memory in GB.\n",
    " - The number next to the `d` is the amount of disk space in GB.\n",
    "\n",
    "We can pick any capacity hint string from the list."
   ]
  },
  {
   "cell_type": "code",
   "execution_count": null,
   "metadata": {},
   "outputs": [],
   "source": [
    "from fabrictestbed.slice_editor import ExperimentTopology, Capacities, ComponentType, CapacityHints\n",
    "# Create topology\n",
    "t = ExperimentTopology()\n",
    "\n",
    "# Add node\n",
    "n1 = t.add_node(name=node_name, site=site)\n",
    "\n",
    "# Set capacities\n",
    "cap = Capacities()\n",
    "cap.set_fields(core=2, ram=8, disk=50)\n",
    "\n",
    "# Set Properties\n",
    "n1.set_properties(capacities=cap, image_type=image_type, image_ref=image_name)\n",
    "\n",
    "# Set Properties\n",
    "n1.set_properties(capacity_hints=CapacityHints().set_fields(instance_type='fabric.c2.m8.d10'),\n",
    "                  image_type=image_type, \n",
    "                  image_ref=image_name)\n",
    "\n",
    "\n",
    "# Generate Slice Graph\n",
    "slice_graph = t.serialize()\n",
    "\n",
    "# Request slice from Orchestrator\n",
    "return_status, slice_reservations = slice_manager.create(slice_name=slice_name, slice_graph=slice_graph, ssh_key=ssh_key_pub)\n",
    "\n",
    "if return_status == Status.OK:\n",
    "    slice_id = slice_reservations[0].get_slice_id()\n",
    "    print(\"Submitted slice creation request. Slice ID: {}\".format(slice_id))\n",
    "else:\n",
    "    print(f\"Failure: {slice_reservations}\")"
   ]
  },
  {
   "cell_type": "markdown",
   "metadata": {},
   "source": [
    "Get the slice and topology"
   ]
  },
  {
   "cell_type": "code",
   "execution_count": null,
   "metadata": {},
   "outputs": [],
   "source": [
    "return_status, slices = slice_manager.slices(excludes=[SliceState.Dead,SliceState.Closing])\n",
    "\n",
    "if return_status == Status.OK:\n",
    "    slice = list(filter(lambda x: x.slice_name == slice_name, slices))[0]\n",
    "    return_status, experiment_topology = slice_manager.get_slice_topology(slice_object=slice)\n",
    "    slice = wait_for_slice(slice, progress=True)"
   ]
  },
  {
   "cell_type": "markdown",
   "metadata": {},
   "source": [
    "Print the allocated capacities"
   ]
  },
  {
   "cell_type": "code",
   "execution_count": null,
   "metadata": {},
   "outputs": [],
   "source": [
    "for node_name, node in experiment_topology.nodes.items():\n",
    "    print(\"Node {}:  \".format(node.name))\n",
    "    print(\"   Cores             : {}\".format(node.get_property(pname='capacity_allocations').core))\n",
    "    print(\"   RAM               : {}\".format(node.get_property(pname='capacity_allocations').ram))\n",
    "    print(\"   Disk              : {}\".format(node.get_property(pname='capacity_allocations').disk))"
   ]
  },
  {
   "cell_type": "markdown",
   "metadata": {},
   "source": [
    "We can see that we got the resources that we requested."
   ]
  },
  {
   "cell_type": "markdown",
   "metadata": {},
   "source": [
    "Now let's delete the slice."
   ]
  },
  {
   "cell_type": "code",
   "execution_count": null,
   "metadata": {},
   "outputs": [],
   "source": [
    "return_status, result = slice_manager.delete(slice_object=slice)\n",
    "\n",
    "print(\"Response Status {}\".format(return_status))\n",
    "print(\"Response received {}\".format(result))"
   ]
  },
  {
   "cell_type": "markdown",
   "metadata": {},
   "source": [
    "## Capacity hints (and their descriptions) below. \n",
    "\n",
    "Full list available [here](https://github.com/fabric-testbed/InformationModel/blob/master/fim/slivers/data/instance_sizes.json)."
   ]
  },
  {
   "cell_type": "markdown",
   "metadata": {},
   "source": [
    "    {\n",
    "      \"fabric.c1.m4.d10\": {\"core\":1, \"ram\":4, \"disk\": 10},\n",
    "      \"fabric.c2.m8.d10\": {\"core\":2, \"ram\":8, \"disk\": 10},\n",
    "      \"fabric.c4.m16.d10\": {\"core\":4, \"ram\":16, \"disk\": 10},\n",
    "      \"fabric.c8.m32.d10\": {\"core\":8, \"ram\":32, \"disk\": 10},\n",
    "      \"fabric.c16.m64.d10\": {\"core\":16, \"ram\":64, \"disk\": 10},\n",
    "      \"fabric.c32.m128.d10\": {\"core\":32, \"ram\":128, \"disk\": 10},\n",
    "      \"fabric.c1.m4.d100\": {\"core\":1, \"ram\":4, \"disk\": 100},\n",
    "      \"fabric.c2.m8.d100\": {\"core\":2, \"ram\":8, \"disk\": 100},\n",
    "      \"fabric.c4.m16.d100\": {\"core\":4, \"ram\":16, \"disk\": 100},\n",
    "      \"fabric.c8.m32.d100\": {\"core\":8, \"ram\":32, \"disk\": 100},\n",
    "      \"fabric.c16.m64.d100\": {\"core\":16, \"ram\":64, \"disk\": 100},\n",
    "      \"fabric.c32.m128.d100\": {\"core\":32, \"ram\":128, \"disk\": 100},\n",
    "      \"fabric.c1.m4.d500\": {\"core\":1, \"ram\":4, \"disk\": 500},\n",
    "      \"fabric.c2.m8.d500\": {\"core\":2, \"ram\":8, \"disk\": 500},\n",
    "      \"fabric.c4.m16.d500\": {\"core\":4, \"ram\":16, \"disk\": 500},\n",
    "      \"fabric.c8.m32.d500\": {\"core\":8, \"ram\":32, \"disk\": 500},\n",
    "      \"fabric.c16.m64.d500\": {\"core\":16, \"ram\":64, \"disk\": 500},\n",
    "      \"fabric.c32.m128.d500\": {\"core\":32, \"ram\":128, \"disk\": 500},\n",
    "      \"fabric.c1.m4.d2000\": {\"core\":1, \"ram\":4, \"disk\": 2000},\n",
    "      \"fabric.c2.m8.d2000\": {\"core\":2, \"ram\":8, \"disk\": 2000},\n",
    "      \"fabric.c4.m16.d2000\": {\"core\":4, \"ram\":16, \"disk\": 2000},\n",
    "      \"fabric.c8.m32.d2000\": {\"core\":8, \"ram\":32, \"disk\": 2000},\n",
    "      \"fabric.c16.m64.d2000\": {\"core\":16, \"ram\":64, \"disk\": 2000},\n",
    "      \"fabric.c32.m128.d2000\": {\"core\":32, \"ram\":128, \"disk\": 2000},\n",
    "      \"fabric.c64.m384.d4000\": {\"core\":64, \"ram\":384, \"disk\": 4000}\n",
    "    }"
   ]
  },
  {
   "cell_type": "code",
   "execution_count": null,
   "metadata": {},
   "outputs": [],
   "source": []
  }
 ],
 "metadata": {
  "kernelspec": {
   "display_name": "Python 3 (ipykernel)",
   "language": "python",
   "name": "python3"
  },
  "language_info": {
   "codemirror_mode": {
    "name": "ipython",
    "version": 3
   },
   "file_extension": ".py",
   "mimetype": "text/x-python",
   "name": "python",
   "nbconvert_exporter": "python",
   "pygments_lexer": "ipython3",
   "version": "3.9.2"
  }
 },
 "nbformat": 4,
 "nbformat_minor": 4
}

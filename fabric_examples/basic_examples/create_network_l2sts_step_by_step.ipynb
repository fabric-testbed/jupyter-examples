{
 "cells": [
  {
   "cell_type": "markdown",
   "metadata": {},
   "source": [
    "## This notebook shows how to use Orchestrator APIs for user experiments"
   ]
  },
  {
   "cell_type": "code",
   "execution_count": 1,
   "metadata": {},
   "outputs": [],
   "source": [
    "import os\n",
    "from fabrictestbed.slice_manager import SliceManager, Status\n",
    "import json"
   ]
  },
  {
   "cell_type": "code",
   "execution_count": 2,
   "metadata": {},
   "outputs": [],
   "source": [
    "ssh_key_file_priv=os.environ['HOME']+\"/.ssh/id_rsa\"\n",
    "ssh_key_file_pub=os.environ['HOME']+\"/.ssh/id_rsa.pub\"\n",
    "\n",
    "ssh_key_pub = None\n",
    "with open (ssh_key_file_pub, \"r\") as myfile:\n",
    "    ssh_key_pub=myfile.read()\n",
    "    ssh_key_pub=ssh_key_pub.strip()"
   ]
  },
  {
   "cell_type": "code",
   "execution_count": 3,
   "metadata": {},
   "outputs": [
    {
     "name": "stdout",
     "output_type": "stream",
     "text": [
      "CM Host: beta-2.fabric-testbed.net Orchestrator Host: beta-7.fabric-testbed.net\n"
     ]
    }
   ],
   "source": [
    "credmgr_host = os.environ['FABRIC_CREDMGR_HOST']\n",
    "orchestrator_host = os.environ['FABRIC_ORCHESTRATOR_HOST']\n",
    "print(f\"CM Host: {credmgr_host} Orchestrator Host: {orchestrator_host}\")"
   ]
  },
  {
   "cell_type": "markdown",
   "metadata": {},
   "source": [
    "## Create Slice Manager Object\n",
    "Users can request tokens with different Project and Scopes by altering `project_name` and `scope` parameters in the refresh call below."
   ]
  },
  {
   "cell_type": "code",
   "execution_count": 4,
   "metadata": {},
   "outputs": [],
   "source": [
    "slice_manager = SliceManager(oc_host=orchestrator_host, cm_host=credmgr_host, project_name='all', scope='all')\n",
    "\n",
    "# Initialize the slice manager\n",
    "slice_manager.initialize()"
   ]
  },
  {
   "cell_type": "markdown",
   "metadata": {},
   "source": [
    "### Orchestrator API example to query for available resources"
   ]
  },
  {
   "cell_type": "code",
   "execution_count": 38,
   "metadata": {},
   "outputs": [
    {
     "name": "stdout",
     "output_type": "stream",
     "text": [
      "Status: Status.OK\n",
      "Toplogy: LBNL\n",
      "\tComponents:\n",
      "\t\tNVME-P4510:  NVME P4510 { disk: 10,000/10,000 G, unit: 10/10 }\n",
      "\t\tGPU-RTX6000:  GPU RTX6000 { unit: 2/2 }\n",
      "\t\tGPU-Tesla T4:  GPU Tesla T4 { unit: 4/4 }\n",
      "\t\tSharedNIC-ConnectX-6:  SharedNIC ConnectX-6 { unit: 381/381 }\n",
      "\t\tSmartNIC-ConnectX-6:  SmartNIC ConnectX-6 { unit: 2/2 }\n",
      "\t\tSmartNIC-ConnectX-5:  SmartNIC ConnectX-5 { unit: 2/2 }\n",
      "\tSite Interfaces:\n",
      "UKY\n",
      "\tComponents:\n",
      "\t\tGPU-Tesla T4:  GPU Tesla T4 { unit: 4/4 }\n",
      "\t\tNVME-P4510:  NVME P4510 { disk: 10,000/10,000 G, unit: 10/10 }\n",
      "\t\tSharedNIC-ConnectX-6:  SharedNIC ConnectX-6 { unit: 381/381 }\n",
      "\t\tSmartNIC-ConnectX-6:  SmartNIC ConnectX-6 { unit: 2/2 }\n",
      "\t\tSmartNIC-ConnectX-5:  SmartNIC ConnectX-5 { unit: 2/2 }\n",
      "\t\tGPU-RTX6000:  GPU RTX6000 { unit: 2/2 }\n",
      "\tSite Interfaces:\n",
      "RENC\n",
      "\tComponents:\n",
      "\t\tNVME-P4510:  NVME P4510 { disk: 10,000/10,000 G, unit: 10/10 }\n",
      "\t\tSharedNIC-ConnectX-6:  SharedNIC ConnectX-6 { unit: 381/381 }\n",
      "\t\tGPU-RTX6000:  GPU RTX6000 { unit: 2/2 }\n",
      "\t\tGPU-Tesla T4:  GPU Tesla T4 { unit: 4/4 }\n",
      "\t\tSmartNIC-ConnectX-6:  SmartNIC ConnectX-6 { unit: 2/2 }\n",
      "\t\tSmartNIC-ConnectX-5:  SmartNIC ConnectX-5 { unit: 2/2 }\n",
      "\tSite Interfaces:\n",
      "STAR\n",
      "\tComponents:\n",
      "\tSite Interfaces:\n",
      "Links:\n"
     ]
    }
   ],
   "source": [
    "status, advertised_topology = slice_manager.resources()\n",
    "\n",
    "print(f\"Status: {status}\")\n",
    "if status == Status.OK:\n",
    "    print(f\"Toplogy: {advertised_topology}\")\n",
    "else:\n",
    "    print(f\"Error: {advertised_topology}\")"
   ]
  },
  {
   "cell_type": "code",
   "execution_count": 6,
   "metadata": {},
   "outputs": [
    {
     "data": {
      "image/png": "[encoded data removed]",
      "text/plain": [
       "<Figure size 432x288 with 1 Axes>"
      ]
     },
     "metadata": {},
     "output_type": "display_data"
    }
   ],
   "source": [
    "if status == Status.OK:\n",
    "    advertised_topology.draw()"
   ]
  },
  {
   "cell_type": "markdown",
   "metadata": {},
   "source": [
    "## Create Slice\n",
    "\n",
    "In Release 1.0, user is expected to assign the IP addresses manually. Please use the example comands indicated below:\n",
    "\n",
    "### Run on Node N1\n",
    "```\n",
    "ip addr add 192.168.10.51/24 dev eth1\n",
    "```\n",
    "### Run on Node N2\n",
    "```\n",
    "ip addr add 192.168.10.52/24 dev eth1\n",
    "```\n",
    "### Run on Node N3\n",
    "```\n",
    "ip addr add 192.168.10.53/24 dev eth1\n",
    "```"
   ]
  },
  {
   "cell_type": "code",
   "execution_count": 43,
   "metadata": {},
   "outputs": [
    {
     "name": "stdout",
     "output_type": "stream",
     "text": [
      "Response Status Status.OK\n",
      "Reservations created [{\n",
      "    \"graph_node_id\": \"25d5a305-24e4-4fe5-885c-4337d37cd3fe\",\n",
      "    \"lease_end\": \"2021-09-08 18:51:29\",\n",
      "    \"pending_state\": \"None_\",\n",
      "    \"reservation_id\": \"755dbded-edeb-45ed-bb20-a4b83df6854c\",\n",
      "    \"reservation_state\": \"Unknown\",\n",
      "    \"slice_id\": \"dffa9f3b-0aed-4cb7-87ef-f1b668724e14\"\n",
      "}, {\n",
      "    \"graph_node_id\": \"4bff59db-a4dc-4dbe-8203-46b6a72113c2\",\n",
      "    \"lease_end\": \"2021-09-08 18:51:29\",\n",
      "    \"pending_state\": \"None_\",\n",
      "    \"reservation_id\": \"0bd9ca6d-742f-4d99-84a8-0d16268006b6\",\n",
      "    \"reservation_state\": \"Unknown\",\n",
      "    \"slice_id\": \"dffa9f3b-0aed-4cb7-87ef-f1b668724e14\"\n",
      "}, {\n",
      "    \"graph_node_id\": \"0f02a8e2-d1c5-4a89-840e-07e3f92fd8b6\",\n",
      "    \"lease_end\": \"2021-09-08 18:51:29\",\n",
      "    \"pending_state\": \"None_\",\n",
      "    \"reservation_id\": \"642d2da4-e59c-4520-8ed9-b53dc83040f2\",\n",
      "    \"reservation_state\": \"Unknown\",\n",
      "    \"slice_id\": \"dffa9f3b-0aed-4cb7-87ef-f1b668724e14\"\n",
      "}, {\n",
      "    \"graph_node_id\": \"f062beee-731a-477a-9086-b7dc8f41e637\",\n",
      "    \"lease_end\": \"2021-09-08 18:51:29\",\n",
      "    \"pending_state\": \"None_\",\n",
      "    \"reservation_id\": \"a5d7135d-ba38-4f88-8477-e5b5a47d1adf\",\n",
      "    \"reservation_state\": \"Unknown\",\n",
      "    \"slice_id\": \"dffa9f3b-0aed-4cb7-87ef-f1b668724e14\"\n",
      "}]\n"
     ]
    }
   ],
   "source": [
    "from fabrictestbed.slice_editor import ExperimentTopology, Capacities, ComponentType, ComponentModelType, ServiceType\n",
    "# Create topology\n",
    "t = ExperimentTopology()\n",
    "\n",
    "# Add node\n",
    "n1 = t.add_node(name='n1', site='UKY')\n",
    "\n",
    "# Set capacities\n",
    "cap = Capacities()\n",
    "cap.set_fields(core=2, ram=6, disk=10)\n",
    "\n",
    "# Set Properties\n",
    "n1.set_properties(capacities=cap, image_type='qcow2', image_ref='default_ubuntu_20')\n",
    "\n",
    "# Add node\n",
    "n2 = t.add_node(name='n2', site='RENC')\n",
    "\n",
    "# Set properties\n",
    "n2.set_properties(capacities=cap, image_type='qcow2', image_ref='default_ubuntu_20')\n",
    "\n",
    "\n",
    "# Add node\n",
    "n3 = t.add_node(name='n3', site='RENC')\n",
    "\n",
    "# Set properties\n",
    "n3.set_properties(capacities=cap, image_type='qcow2', image_ref='default_ubuntu_20')\n",
    "\n",
    "# Shared Cards\n",
    "n1.add_component(model_type=ComponentModelType.SmartNIC_ConnectX_6, name='n1-nic1')\n",
    "n2.add_component(model_type=ComponentModelType.SmartNIC_ConnectX_6, name='n2-nic1')\n",
    "n3.add_component(model_type=ComponentModelType.SmartNIC_ConnectX_6, name='n3-nic1')\n",
    "\n",
    "# L2STS Service\n",
    "t.add_network_service(name='sts1', nstype=ServiceType.L2STS,\n",
    "                      interfaces=[n1.interface_list[0], n2.interface_list[0], n3.interface_list[0]])\n",
    "\n",
    "# Generate Slice Graph\n",
    "slice_graph = t.serialize()\n",
    "\n",
    "# Request slice from Orchestrator\n",
    "status, reservations = slice_manager.create(slice_name='Slice-sts-ded', slice_graph=slice_graph, ssh_key=ssh_key_pub)\n",
    "\n",
    "print(\"Response Status {}\".format(status))\n",
    "if status == Status.OK:\n",
    "    print(\"Reservations created {}\".format(reservations))\n",
    "else:\n",
    "    print(f\"Failure: {reservations}\")"
   ]
  },
  {
   "cell_type": "code",
   "execution_count": 44,
   "metadata": {},
   "outputs": [
    {
     "name": "stdout",
     "output_type": "stream",
     "text": [
      "dffa9f3b-0aed-4cb7-87ef-f1b668724e14\n"
     ]
    }
   ],
   "source": [
    "# Set the Slice ID from output of the above command\n",
    "slice_id=reservations[0].slice_id\n",
    "print(slice_id)"
   ]
  },
  {
   "cell_type": "markdown",
   "metadata": {},
   "source": [
    "## Query Slices"
   ]
  },
  {
   "cell_type": "code",
   "execution_count": 46,
   "metadata": {},
   "outputs": [
    {
     "name": "stdout",
     "output_type": "stream",
     "text": [
      "Response Status Status.OK\n",
      "Slices [{\n",
      "    \"graph_id\": \"c758ff0d-22f6-4195-89fe-500b5e4392bf\",\n",
      "    \"lease_end\": \"2021-09-04 00:13:06\",\n",
      "    \"slice_id\": \"060aa897-aa4b-4d5a-93c6-4403dbdef3af\",\n",
      "    \"slice_name\": \"Slice-l2p2p-ded\",\n",
      "    \"slice_state\": \"Closing\"\n",
      "}, {\n",
      "    \"graph_id\": \"343c1157-2d7a-4043-9762-e6ca19596cf2\",\n",
      "    \"lease_end\": \"2021-09-04 00:17:40\",\n",
      "    \"slice_id\": \"eb71d173-0afa-48d0-b048-d5cde51a9e34\",\n",
      "    \"slice_name\": \"Slice-l2p2p-ded\",\n",
      "    \"slice_state\": \"Closing\"\n",
      "}, {\n",
      "    \"graph_id\": \"bbdac2cc-6d88-4595-9146-23bfe1e356c4\",\n",
      "    \"lease_end\": \"2021-09-04 00:20:09\",\n",
      "    \"slice_id\": \"7f6c4a55-09fa-4af6-8843-918d2d9f4e04\",\n",
      "    \"slice_name\": \"Slice-l2p2p-ded\",\n",
      "    \"slice_state\": \"Dead\"\n",
      "}, {\n",
      "    \"graph_id\": \"c7f92e4c-3637-46cc-b81e-33f86c9e7311\",\n",
      "    \"lease_end\": \"2021-09-04 00:33:30\",\n",
      "    \"slice_id\": \"6008f977-bf2a-4003-9a63-5331a8af2f62\",\n",
      "    \"slice_name\": \"Slice-l2p2p-ded\",\n",
      "    \"slice_state\": \"Dead\"\n",
      "}, {\n",
      "    \"graph_id\": \"bb1ff254-c4fc-486d-ac2f-ca72f6e19993\",\n",
      "    \"lease_end\": \"2021-09-05 00:14:05\",\n",
      "    \"slice_id\": \"85833142-b351-4f5f-b777-a34b677a7479\",\n",
      "    \"slice_name\": \"Slice-l2p2p-ded\",\n",
      "    \"slice_state\": \"Dead\"\n",
      "}, {\n",
      "    \"graph_id\": \"cc3f6fe1-9dea-4ac1-a2ae-85004f3ddecd\",\n",
      "    \"lease_end\": \"2021-08-28 22:02:18\",\n",
      "    \"slice_id\": \"645ffe83-4e87-4fa4-8605-2b809c779fe5\",\n",
      "    \"slice_name\": \"Slice-l2p2p-dedicated\",\n",
      "    \"slice_state\": \"Dead\"\n",
      "}, {\n",
      "    \"graph_id\": \"c32ede7a-b8b5-406f-96cc-edadfcea4d45\",\n",
      "    \"lease_end\": \"2021-08-28 22:10:11\",\n",
      "    \"slice_id\": \"2232d9a7-fb83-44e4-9ed4-eab47ede88e5\",\n",
      "    \"slice_name\": \"Slice-l2p2p-dedicated\",\n",
      "    \"slice_state\": \"Closing\"\n",
      "}, {\n",
      "    \"graph_id\": \"ed2e2fed-c4aa-47b5-b758-c299a5f67602\",\n",
      "    \"lease_end\": \"2021-09-06 00:31:39\",\n",
      "    \"slice_id\": \"5986ca9a-731d-4590-8cef-698441c758b6\",\n",
      "    \"slice_name\": \"Slice-l2p2p-ded\",\n",
      "    \"slice_state\": \"Dead\"\n",
      "}, {\n",
      "    \"graph_id\": \"23011fb4-04e5-491c-bf33-bb4281da4a1b\",\n",
      "    \"lease_end\": \"2021-08-28 22:26:59\",\n",
      "    \"slice_id\": \"8842d470-ed65-4be2-83ef-e2c1f266397f\",\n",
      "    \"slice_name\": \"Slice-l2p2p-dedicated-2\",\n",
      "    \"slice_state\": \"Dead\"\n",
      "}, {\n",
      "    \"graph_id\": \"d1dac440-e2c0-41d8-a235-95ed0f8eef1f\",\n",
      "    \"lease_end\": \"2021-09-06 00:40:09\",\n",
      "    \"slice_id\": \"116150b3-f185-412e-bd0b-3e922d06a785\",\n",
      "    \"slice_name\": \"Slice-l2p2p-ded\",\n",
      "    \"slice_state\": \"Dead\"\n",
      "}, {\n",
      "    \"graph_id\": \"e170a7b6-c447-4829-8941-bc765499bc94\",\n",
      "    \"lease_end\": \"2021-08-28 22:18:15\",\n",
      "    \"slice_id\": \"b1c83aba-82c2-42ef-a7d8-487f698a327f\",\n",
      "    \"slice_name\": \"Slice-l2p2p-dedicated-2\",\n",
      "    \"slice_state\": \"Dead\"\n",
      "}, {\n",
      "    \"graph_id\": \"76d47bee-010d-4068-adfc-6ecaa30faeae\",\n",
      "    \"lease_end\": \"2021-08-28 21:39:35\",\n",
      "    \"slice_id\": \"b3f1fb00-4439-42e8-bb6a-539141c856b5\",\n",
      "    \"slice_name\": \"Slice-l2p2p-ded\",\n",
      "    \"slice_state\": \"Dead\"\n",
      "}, {\n",
      "    \"graph_id\": \"31eb3f9a-1534-4a38-b63f-d975d5bfbe92\",\n",
      "    \"lease_end\": \"2021-09-07 20:54:21\",\n",
      "    \"slice_id\": \"845f9e57-5c13-43c7-8880-f832d8d11e15\",\n",
      "    \"slice_name\": \"Slice-sts-ded\",\n",
      "    \"slice_state\": \"Dead\"\n",
      "}, {\n",
      "    \"graph_id\": \"a1da2524-51dc-42eb-a873-909f2ce5cf10\",\n",
      "    \"lease_end\": \"2021-09-07 21:37:52\",\n",
      "    \"slice_id\": \"b51faaa4-7c22-4509-93b2-5a714658b8a8\",\n",
      "    \"slice_name\": \"Slice-sts-ded\",\n",
      "    \"slice_state\": \"Dead\"\n",
      "}, {\n",
      "    \"graph_id\": \"b9a1d3c9-bc9a-4ae5-b5b2-81a9bc8d9070\",\n",
      "    \"lease_end\": \"2021-08-29 23:44:18\",\n",
      "    \"slice_id\": \"4ea551a6-241a-4938-b24f-0dfa7de9afa5\",\n",
      "    \"slice_name\": \"Slice-l2p2p-dedicated-2\",\n",
      "    \"slice_state\": \"Dead\"\n",
      "}, {\n",
      "    \"graph_id\": \"9148ab6b-a73a-43ad-ad77-4e45c436bebf\",\n",
      "    \"lease_end\": \"2021-08-29 23:32:38\",\n",
      "    \"slice_id\": \"8ce5ed68-7f7b-48f0-ad53-138ff827b71c\",\n",
      "    \"slice_name\": \"Slice-l2p2p-ded\",\n",
      "    \"slice_state\": \"Dead\"\n",
      "}, {\n",
      "    \"graph_id\": \"659a415e-cc29-499c-9001-54500c85fee7\",\n",
      "    \"lease_end\": \"2021-09-08 18:37:26\",\n",
      "    \"slice_id\": \"e3e499b2-46ca-4488-972f-169a6d69fd21\",\n",
      "    \"slice_name\": \"Slice-sts-ded\",\n",
      "    \"slice_state\": \"Dead\"\n",
      "}, {\n",
      "    \"graph_id\": \"dec4eeaf-37ce-4745-9f5c-2b8ee9b03840\",\n",
      "    \"lease_end\": \"2021-09-08 18:35:50\",\n",
      "    \"slice_id\": \"7397f8de-e211-4b35-8160-2e79c18da7a6\",\n",
      "    \"slice_name\": \"Slice-sts-ded\",\n",
      "    \"slice_state\": \"Closing\"\n",
      "}, {\n",
      "    \"graph_id\": \"49509914-8a2b-490a-af77-0d42715123f4\",\n",
      "    \"lease_end\": \"2021-09-08 18:51:29\",\n",
      "    \"slice_id\": \"dffa9f3b-0aed-4cb7-87ef-f1b668724e14\",\n",
      "    \"slice_name\": \"Slice-sts-ded\",\n",
      "    \"slice_state\": \"StableOK\"\n",
      "}]\n"
     ]
    }
   ],
   "source": [
    "status, slices = slice_manager.slices()\n",
    "\n",
    "print(\"Response Status {}\".format(status))\n",
    "if status == Status.OK:\n",
    "    print(\"Slices {}\".format(slices))\n",
    "else:\n",
    "    print(f\"Failure: {slices}\")"
   ]
  },
  {
   "cell_type": "markdown",
   "metadata": {},
   "source": [
    "## Query Slivers"
   ]
  },
  {
   "cell_type": "code",
   "execution_count": 47,
   "metadata": {},
   "outputs": [
    {
     "name": "stdout",
     "output_type": "stream",
     "text": [
      "Response Status Status.OK\n",
      "Slivers [{\n",
      "    \"allocated_capacities\": \"{\\\"core\\\": 2, \\\"disk\\\": 10, \\\"ram\\\": 8}\",\n",
      "    \"allocated_labels\": \"{\\\"instance\\\": \\\"instance-00000206\\\", \\\"instance_parent\\\": \\\"renc-w2.fabric-testbed.net\\\"}\",\n",
      "    \"capacities\": \"{\\\"core\\\": 2, \\\"disk\\\": 10, \\\"ram\\\": 6}\",\n",
      "    \"capacity_hints\": \"{\\\"instance_type\\\": \\\"fabric.c2.m8.d10\\\"}\",\n",
      "    \"graph_node_id\": \"0f02a8e2-d1c5-4a89-840e-07e3f92fd8b6\",\n",
      "    \"join_state\": \"NoJoin\",\n",
      "    \"lease_end\": \"2021-09-08 18:51:29\",\n",
      "    \"management_ip\": \"152.54.15.47\",\n",
      "    \"name\": \"n3\",\n",
      "    \"pending_state\": \"None_\",\n",
      "    \"reservation_id\": \"642d2da4-e59c-4520-8ed9-b53dc83040f2\",\n",
      "    \"reservation_state\": \"Active\",\n",
      "    \"resource_type\": \"VM\",\n",
      "    \"site\": \"RENC\",\n",
      "    \"slice_id\": \"dffa9f3b-0aed-4cb7-87ef-f1b668724e14\"\n",
      "}, {\n",
      "    \"graph_node_id\": \"f062beee-731a-477a-9086-b7dc8f41e637\",\n",
      "    \"join_state\": \"NoJoin\",\n",
      "    \"lease_end\": \"2021-09-08 18:51:29\",\n",
      "    \"name\": \"sts1\",\n",
      "    \"pending_state\": \"None_\",\n",
      "    \"reservation_id\": \"a5d7135d-ba38-4f88-8477-e5b5a47d1adf\",\n",
      "    \"reservation_state\": \"Active\",\n",
      "    \"resource_type\": \"L2STS\",\n",
      "    \"slice_id\": \"dffa9f3b-0aed-4cb7-87ef-f1b668724e14\"\n",
      "}, {\n",
      "    \"allocated_capacities\": \"{\\\"core\\\": 2, \\\"disk\\\": 10, \\\"ram\\\": 8}\",\n",
      "    \"allocated_labels\": \"{\\\"instance\\\": \\\"instance-00000321\\\", \\\"instance_parent\\\": \\\"uky-w2.fabric-testbed.net\\\"}\",\n",
      "    \"capacities\": \"{\\\"core\\\": 2, \\\"disk\\\": 10, \\\"ram\\\": 6}\",\n",
      "    \"capacity_hints\": \"{\\\"instance_type\\\": \\\"fabric.c2.m8.d10\\\"}\",\n",
      "    \"graph_node_id\": \"25d5a305-24e4-4fe5-885c-4337d37cd3fe\",\n",
      "    \"join_state\": \"NoJoin\",\n",
      "    \"lease_end\": \"2021-09-08 18:51:29\",\n",
      "    \"management_ip\": \"128.163.179.29\",\n",
      "    \"name\": \"n1\",\n",
      "    \"pending_state\": \"None_\",\n",
      "    \"reservation_id\": \"755dbded-edeb-45ed-bb20-a4b83df6854c\",\n",
      "    \"reservation_state\": \"Active\",\n",
      "    \"resource_type\": \"VM\",\n",
      "    \"site\": \"UKY\",\n",
      "    \"slice_id\": \"dffa9f3b-0aed-4cb7-87ef-f1b668724e14\"\n",
      "}, {\n",
      "    \"allocated_capacities\": \"{\\\"core\\\": 2, \\\"disk\\\": 10, \\\"ram\\\": 8}\",\n",
      "    \"allocated_labels\": \"{\\\"instance\\\": \\\"instance-00000205\\\", \\\"instance_parent\\\": \\\"renc-w2.fabric-testbed.net\\\"}\",\n",
      "    \"capacities\": \"{\\\"core\\\": 2, \\\"disk\\\": 10, \\\"ram\\\": 6}\",\n",
      "    \"capacity_hints\": \"{\\\"instance_type\\\": \\\"fabric.c2.m8.d10\\\"}\",\n",
      "    \"graph_node_id\": \"4bff59db-a4dc-4dbe-8203-46b6a72113c2\",\n",
      "    \"join_state\": \"NoJoin\",\n",
      "    \"lease_end\": \"2021-09-08 18:51:29\",\n",
      "    \"management_ip\": \"152.54.15.47\",\n",
      "    \"name\": \"n2\",\n",
      "    \"pending_state\": \"None_\",\n",
      "    \"reservation_id\": \"0bd9ca6d-742f-4d99-84a8-0d16268006b6\",\n",
      "    \"reservation_state\": \"Active\",\n",
      "    \"resource_type\": \"VM\",\n",
      "    \"site\": \"RENC\",\n",
      "    \"slice_id\": \"dffa9f3b-0aed-4cb7-87ef-f1b668724e14\"\n",
      "}]\n"
     ]
    }
   ],
   "source": [
    "status, slivers = slice_manager.slivers(slice_id=slice_id)\n",
    "\n",
    "print(\"Response Status {}\".format(status))\n",
    "if status == Status.OK:\n",
    "    print(\"Slivers {}\".format(slivers))\n",
    "else:\n",
    "    print(f\"Failure: {slivers}\")"
   ]
  },
  {
   "cell_type": "markdown",
   "metadata": {},
   "source": [
    "## Sliver Status"
   ]
  },
  {
   "cell_type": "code",
   "execution_count": 34,
   "metadata": {},
   "outputs": [
    {
     "name": "stdout",
     "output_type": "stream",
     "text": [
      "Response Status Status.OK\n",
      "\n",
      "Sliver Status {\n",
      "    \"allocated_capacities\": \"{\\\"core\\\": 2, \\\"disk\\\": 10, \\\"ram\\\": 8}\",\n",
      "    \"allocated_labels\": \"{\\\"instance_parent\\\": \\\"renc-w2.fabric-testbed.net\\\"}\",\n",
      "    \"capacities\": \"{\\\"core\\\": 2, \\\"disk\\\": 10, \\\"ram\\\": 6}\",\n",
      "    \"capacity_hints\": \"{\\\"instance_type\\\": \\\"fabric.c2.m8.d10\\\"}\",\n",
      "    \"graph_node_id\": \"972f6745-6b80-4a5a-a942-33121a3d1040\",\n",
      "    \"join_state\": \"NoJoin\",\n",
      "    \"lease_end\": \"2021-09-08 18:37:26\",\n",
      "    \"name\": \"n2\",\n",
      "    \"notices\": \"Reservation 7b6766a0-a359-4d73-a39a-44876b99ac8d (Slice Slice-sts-ded(e3e499b2-46ca-4488-972f-169a6d69fd21) Graph Id:659a415e-cc29-499c-9001-54500c85fee7 Owner:name: orchestrator guid: orchestrator-guid email: minawm@bu.edu State:StableOK ) is in state [Closed,None_]\\n\\nLast ticket update: \\nTicket events: \\nLast ticket update: all units failed priming: Exception during create for unit: 7b6766a0-a359-4d73-a39a-44876b99ac8d Playbook has failed tasks: Timeout waiting for the floating IP to be attached.\\nTicket events: \",\n",
      "    \"pending_state\": \"None_\",\n",
      "    \"reservation_id\": \"7b6766a0-a359-4d73-a39a-44876b99ac8d\",\n",
      "    \"reservation_state\": \"Closed\",\n",
      "    \"resource_type\": \"VM\",\n",
      "    \"site\": \"RENC\",\n",
      "    \"slice_id\": \"e3e499b2-46ca-4488-972f-169a6d69fd21\"\n",
      "}\n",
      "\n",
      "Response Status Status.OK\n",
      "\n",
      "Sliver Status {\n",
      "    \"graph_node_id\": \"17174986-ef1f-4bbf-bfff-c374493cf0a9\",\n",
      "    \"join_state\": \"NoJoin\",\n",
      "    \"lease_end\": \"2021-09-08 18:37:26\",\n",
      "    \"name\": \"sts1\",\n",
      "    \"notices\": \"Reservation 6eeba545-8bac-4f19-9ecb-c63c8bc66535 (Slice Slice-sts-ded(e3e499b2-46ca-4488-972f-169a6d69fd21) Graph Id:659a415e-cc29-499c-9001-54500c85fee7 Owner:name: orchestrator guid: orchestrator-guid email: minawm@bu.edu State:StableOK ) is in state [Closed,None_]\\n\\nLast ticket update: TicketReviewPolicy: Closing reservation due to failure in slice\\nTicket events: \\nNone\\n\\nLast ticket update: \",\n",
      "    \"pending_state\": \"None_\",\n",
      "    \"reservation_id\": \"6eeba545-8bac-4f19-9ecb-c63c8bc66535\",\n",
      "    \"reservation_state\": \"Closed\",\n",
      "    \"resource_type\": \"L2STS\",\n",
      "    \"slice_id\": \"e3e499b2-46ca-4488-972f-169a6d69fd21\"\n",
      "}\n",
      "\n",
      "Response Status Status.OK\n",
      "\n",
      "Sliver Status {\n",
      "    \"allocated_capacities\": \"{\\\"core\\\": 2, \\\"disk\\\": 10, \\\"ram\\\": 8}\",\n",
      "    \"allocated_labels\": \"{\\\"instance\\\": \\\"instance-00000320\\\", \\\"instance_parent\\\": \\\"uky-w2.fabric-testbed.net\\\"}\",\n",
      "    \"capacities\": \"{\\\"core\\\": 2, \\\"disk\\\": 10, \\\"ram\\\": 6}\",\n",
      "    \"capacity_hints\": \"{\\\"instance_type\\\": \\\"fabric.c2.m8.d10\\\"}\",\n",
      "    \"graph_node_id\": \"069ddc57-ec93-469b-a8fe-1431891d9c98\",\n",
      "    \"join_state\": \"NoJoin\",\n",
      "    \"lease_end\": \"2021-09-08 18:37:26\",\n",
      "    \"management_ip\": \"128.163.179.40\",\n",
      "    \"name\": \"n1\",\n",
      "    \"notices\": \"Reservation a708e380-f364-4107-96e0-7e660ef1cb49 (Slice Slice-sts-ded(e3e499b2-46ca-4488-972f-169a6d69fd21) Graph Id:659a415e-cc29-499c-9001-54500c85fee7 Owner:name: orchestrator guid: orchestrator-guid email: minawm@bu.edu State:StableOK ) is in state [Active,None_]\\n\\nLast ticket update: \\nTicket events: \\nLast ticket update: \\nTicket events: \",\n",
      "    \"pending_state\": \"None_\",\n",
      "    \"reservation_id\": \"a708e380-f364-4107-96e0-7e660ef1cb49\",\n",
      "    \"reservation_state\": \"Active\",\n",
      "    \"resource_type\": \"VM\",\n",
      "    \"site\": \"UKY\",\n",
      "    \"slice_id\": \"e3e499b2-46ca-4488-972f-169a6d69fd21\"\n",
      "}\n",
      "\n",
      "Response Status Status.OK\n",
      "\n",
      "Sliver Status {\n",
      "    \"allocated_capacities\": \"{\\\"core\\\": 2, \\\"disk\\\": 10, \\\"ram\\\": 8}\",\n",
      "    \"allocated_labels\": \"{\\\"instance\\\": \\\"instance-00000203\\\", \\\"instance_parent\\\": \\\"renc-w2.fabric-testbed.net\\\"}\",\n",
      "    \"capacities\": \"{\\\"core\\\": 2, \\\"disk\\\": 10, \\\"ram\\\": 6}\",\n",
      "    \"capacity_hints\": \"{\\\"instance_type\\\": \\\"fabric.c2.m8.d10\\\"}\",\n",
      "    \"graph_node_id\": \"119f6f49-c7f6-4712-b243-ce66155b07ae\",\n",
      "    \"join_state\": \"NoJoin\",\n",
      "    \"lease_end\": \"2021-09-08 18:37:26\",\n",
      "    \"management_ip\": \"152.54.15.37\",\n",
      "    \"name\": \"n3\",\n",
      "    \"notices\": \"Reservation d53bdc8b-ba81-4ac4-b5b7-f417c017bff2 (Slice Slice-sts-ded(e3e499b2-46ca-4488-972f-169a6d69fd21) Graph Id:659a415e-cc29-499c-9001-54500c85fee7 Owner:name: orchestrator guid: orchestrator-guid email: minawm@bu.edu State:StableOK ) is in state [Active,None_]\\n\\nLast ticket update: \\nTicket events: \\nLast ticket update: \\nTicket events: \",\n",
      "    \"pending_state\": \"None_\",\n",
      "    \"reservation_id\": \"d53bdc8b-ba81-4ac4-b5b7-f417c017bff2\",\n",
      "    \"reservation_state\": \"Active\",\n",
      "    \"resource_type\": \"VM\",\n",
      "    \"site\": \"RENC\",\n",
      "    \"slice_id\": \"e3e499b2-46ca-4488-972f-169a6d69fd21\"\n",
      "}\n",
      "\n"
     ]
    }
   ],
   "source": [
    "for s in slivers:\n",
    "    status, sliver_status = slice_manager.sliver_status(slice_id=slice_id, sliver_id=s.reservation_id)\n",
    "\n",
    "    print(\"Response Status {}\".format(status))\n",
    "    if status == Status.OK:\n",
    "        print()\n",
    "        print(\"Sliver Status {}\".format(sliver_status))\n",
    "        print()"
   ]
  },
  {
   "cell_type": "markdown",
   "metadata": {},
   "source": [
    "### Now let's connect to the nodes."
   ]
  },
  {
   "cell_type": "code",
   "execution_count": 48,
   "metadata": {},
   "outputs": [],
   "source": [
    "import paramiko"
   ]
  },
  {
   "cell_type": "code",
   "execution_count": 49,
   "metadata": {},
   "outputs": [
    {
     "data": {
      "text/plain": [
       "'128.163.179.29'"
      ]
     },
     "execution_count": 49,
     "metadata": {},
     "output_type": "execute_result"
    }
   ],
   "source": [
    "n1_ip = list(filter(lambda sliver : sliver.name == \"n1\",slivers))[0].management_ip\n",
    "n1_ip"
   ]
  },
  {
   "cell_type": "code",
   "execution_count": 50,
   "metadata": {},
   "outputs": [
    {
     "data": {
      "text/plain": [
       "'152.54.15.47'"
      ]
     },
     "execution_count": 50,
     "metadata": {},
     "output_type": "execute_result"
    }
   ],
   "source": [
    "n2_ip = list(filter(lambda sliver : sliver.name == \"n2\",slivers))[0].management_ip\n",
    "n2_ip"
   ]
  },
  {
   "cell_type": "code",
   "execution_count": 51,
   "metadata": {},
   "outputs": [
    {
     "data": {
      "text/plain": [
       "'152.54.15.47'"
      ]
     },
     "execution_count": 51,
     "metadata": {},
     "output_type": "execute_result"
    }
   ],
   "source": [
    "n3_ip = list(filter(lambda sliver : sliver.name == \"n3\",slivers))[0].management_ip\n",
    "n3_ip"
   ]
  },
  {
   "cell_type": "code",
   "execution_count": 52,
   "metadata": {},
   "outputs": [
    {
     "data": {
      "text/plain": [
       "<paramiko.client.SSHClient at 0x7fc2842a5700>"
      ]
     },
     "execution_count": 52,
     "metadata": {},
     "output_type": "execute_result"
    }
   ],
   "source": [
    "key = paramiko.RSAKey.from_private_key_file(\"/home/fabric/.ssh/id_rsa\")\n",
    "clientn1 = paramiko.SSHClient()\n",
    "clientn1.load_system_host_keys()\n",
    "clientn1.set_missing_host_key_policy(paramiko.MissingHostKeyPolicy())\n",
    "\n",
    "clientn1.set_missing_host_key_policy(paramiko.AutoAddPolicy())\n",
    "clientn1.connect(n1_ip,username='ubuntu',pkey = key)\n",
    "\n",
    "clientn1"
   ]
  },
  {
   "cell_type": "code",
   "execution_count": 53,
   "metadata": {},
   "outputs": [
    {
     "data": {
      "text/plain": [
       "<paramiko.client.SSHClient at 0x7fc284220fd0>"
      ]
     },
     "execution_count": 53,
     "metadata": {},
     "output_type": "execute_result"
    }
   ],
   "source": [
    "key = paramiko.RSAKey.from_private_key_file(\"/home/fabric/.ssh/id_rsa\")\n",
    "clientn2 = paramiko.SSHClient()\n",
    "clientn2.load_system_host_keys()\n",
    "clientn2.set_missing_host_key_policy(paramiko.MissingHostKeyPolicy())\n",
    "\n",
    "clientn2.set_missing_host_key_policy(paramiko.AutoAddPolicy())\n",
    "clientn2.connect(n2_ip,username='ubuntu',pkey = key)\n",
    "\n",
    "clientn2"
   ]
  },
  {
   "cell_type": "code",
   "execution_count": 54,
   "metadata": {},
   "outputs": [
    {
     "data": {
      "text/plain": [
       "<paramiko.client.SSHClient at 0x7fc2841bca30>"
      ]
     },
     "execution_count": 54,
     "metadata": {},
     "output_type": "execute_result"
    }
   ],
   "source": [
    "key = paramiko.RSAKey.from_private_key_file(\"/home/fabric/.ssh/id_rsa\")\n",
    "clientn3 = paramiko.SSHClient()\n",
    "clientn3.load_system_host_keys()\n",
    "clientn3.set_missing_host_key_policy(paramiko.MissingHostKeyPolicy())\n",
    "\n",
    "clientn3.set_missing_host_key_policy(paramiko.AutoAddPolicy())\n",
    "clientn3.connect(n3_ip,username='ubuntu',pkey = key)\n",
    "\n",
    "clientn3"
   ]
  },
  {
   "cell_type": "markdown",
   "metadata": {},
   "source": [
    "### First, let's look at our network interfaces."
   ]
  },
  {
   "cell_type": "code",
   "execution_count": 58,
   "metadata": {},
   "outputs": [
    {
     "name": "stdout",
     "output_type": "stream",
     "text": [
      "1: lo: <LOOPBACK,UP,LOWER_UP> mtu 65536 qdisc noqueue state UNKNOWN group default qlen 1000\n",
      "    link/loopback 00:00:00:00:00:00 brd 00:00:00:00:00:00\n",
      "    inet 127.0.0.1/8 scope host lo\n",
      "       valid_lft forever preferred_lft forever\n",
      "    inet6 ::1/128 scope host \n",
      "       valid_lft forever preferred_lft forever\n",
      "2: ens3: <BROADCAST,MULTICAST,UP,LOWER_UP> mtu 9000 qdisc fq_codel state UP group default qlen 1000\n",
      "    link/ether fa:16:3e:ed:7a:89 brd ff:ff:ff:ff:ff:ff\n",
      "    inet 10.20.4.108/24 brd 10.20.4.255 scope global dynamic ens3\n",
      "       valid_lft 86098sec preferred_lft 86098sec\n",
      "    inet6 fe80::f816:3eff:feed:7a89/64 scope link \n",
      "       valid_lft forever preferred_lft forever\n",
      "3: ens7: <BROADCAST,MULTICAST> mtu 1500 qdisc noop state DOWN group default qlen 1000\n",
      "    link/ether 0c:42:a1:ea:c7:50 brd ff:ff:ff:ff:ff:ff\n",
      "    inet 192.168.10.51/24 scope global ens7\n",
      "       valid_lft forever preferred_lft forever\n",
      "4: ens8: <BROADCAST,MULTICAST> mtu 1500 qdisc noop state DOWN group default qlen 1000\n",
      "    link/ether 0c:42:a1:ea:c7:51 brd ff:ff:ff:ff:ff:ff\n",
      "\n",
      "\n"
     ]
    }
   ],
   "source": [
    "stdin, stdout, stderr = clientn1.exec_command('ip a')\n",
    "print(stdout.read().decode(\"utf-8\"))\n",
    "print(stderr.read().decode(\"utf-8\"))"
   ]
  },
  {
   "cell_type": "code",
   "execution_count": 59,
   "metadata": {},
   "outputs": [
    {
     "name": "stdout",
     "output_type": "stream",
     "text": [
      "1: lo: <LOOPBACK,UP,LOWER_UP> mtu 65536 qdisc noqueue state UNKNOWN group default qlen 1000\n",
      "    link/loopback 00:00:00:00:00:00 brd 00:00:00:00:00:00\n",
      "    inet 127.0.0.1/8 scope host lo\n",
      "       valid_lft forever preferred_lft forever\n",
      "    inet6 ::1/128 scope host \n",
      "       valid_lft forever preferred_lft forever\n",
      "2: ens3: <BROADCAST,MULTICAST,UP,LOWER_UP> mtu 9000 qdisc fq_codel state UP group default qlen 1000\n",
      "    link/ether fa:16:3e:2d:ba:57 brd ff:ff:ff:ff:ff:ff\n",
      "    inet 10.20.4.30/24 brd 10.20.4.255 scope global dynamic ens3\n",
      "       valid_lft 86089sec preferred_lft 86089sec\n",
      "    inet6 fe80::f816:3eff:fe2d:ba57/64 scope link \n",
      "       valid_lft forever preferred_lft forever\n",
      "3: ens7: <BROADCAST,MULTICAST> mtu 1500 qdisc noop state DOWN group default qlen 1000\n",
      "    link/ether 04:3f:72:b7:15:74 brd ff:ff:ff:ff:ff:ff\n",
      "4: ens8: <BROADCAST,MULTICAST> mtu 1500 qdisc noop state DOWN group default qlen 1000\n",
      "    link/ether 04:3f:72:b7:15:75 brd ff:ff:ff:ff:ff:ff\n",
      "\n",
      "\n"
     ]
    }
   ],
   "source": [
    "stdin, stdout, stderr = clientn2.exec_command('ip a')\n",
    "print(stdout.read().decode(\"utf-8\"))\n",
    "print(stderr.read().decode(\"utf-8\"))"
   ]
  },
  {
   "cell_type": "code",
   "execution_count": 56,
   "metadata": {},
   "outputs": [
    {
     "name": "stdout",
     "output_type": "stream",
     "text": [
      "1: lo: <LOOPBACK,UP,LOWER_UP> mtu 65536 qdisc noqueue state UNKNOWN group default qlen 1000\n",
      "    link/loopback 00:00:00:00:00:00 brd 00:00:00:00:00:00\n",
      "    inet 127.0.0.1/8 scope host lo\n",
      "       valid_lft forever preferred_lft forever\n",
      "    inet6 ::1/128 scope host \n",
      "       valid_lft forever preferred_lft forever\n",
      "2: ens3: <BROADCAST,MULTICAST,UP,LOWER_UP> mtu 9000 qdisc fq_codel state UP group default qlen 1000\n",
      "    link/ether fa:16:3e:2d:ba:57 brd ff:ff:ff:ff:ff:ff\n",
      "    inet 10.20.4.30/24 brd 10.20.4.255 scope global dynamic ens3\n",
      "       valid_lft 86103sec preferred_lft 86103sec\n",
      "    inet6 fe80::f816:3eff:fe2d:ba57/64 scope link \n",
      "       valid_lft forever preferred_lft forever\n",
      "3: ens7: <BROADCAST,MULTICAST> mtu 1500 qdisc noop state DOWN group default qlen 1000\n",
      "    link/ether 04:3f:72:b7:15:74 brd ff:ff:ff:ff:ff:ff\n",
      "4: ens8: <BROADCAST,MULTICAST> mtu 1500 qdisc noop state DOWN group default qlen 1000\n",
      "    link/ether 04:3f:72:b7:15:75 brd ff:ff:ff:ff:ff:ff\n",
      "\n",
      "\n"
     ]
    }
   ],
   "source": [
    "stdin, stdout, stderr = clientn3.exec_command('ip a')\n",
    "print(stdout.read().decode(\"utf-8\"))\n",
    "print(stderr.read().decode(\"utf-8\"))"
   ]
  },
  {
   "cell_type": "markdown",
   "metadata": {},
   "source": [
    "### Now we just issue the commands that assign IP addresses to the interfaces. And we also need to activate the interfaces."
   ]
  },
  {
   "cell_type": "code",
   "execution_count": 57,
   "metadata": {},
   "outputs": [
    {
     "name": "stdout",
     "output_type": "stream",
     "text": [
      "\n",
      "\n"
     ]
    }
   ],
   "source": [
    "stdin, stdout, stderr = clientn1.exec_command('sudo ip addr add 192.168.10.51/24 dev ens7')\n",
    "print(stdout.read().decode(\"utf-8\"))\n",
    "print(stderr.read().decode(\"utf-8\"))"
   ]
  },
  {
   "cell_type": "code",
   "execution_count": 61,
   "metadata": {},
   "outputs": [
    {
     "name": "stdout",
     "output_type": "stream",
     "text": [
      "\n",
      "\n"
     ]
    }
   ],
   "source": [
    "stdin, stdout, stderr = clientn1.exec_command('sudo ip link set ens7 up')\n",
    "print(stdout.read().decode(\"utf-8\"))\n",
    "print(stderr.read().decode(\"utf-8\"))"
   ]
  },
  {
   "cell_type": "markdown",
   "metadata": {},
   "source": [
    "<hr>"
   ]
  },
  {
   "cell_type": "code",
   "execution_count": 62,
   "metadata": {},
   "outputs": [
    {
     "name": "stdout",
     "output_type": "stream",
     "text": [
      "\n",
      "\n"
     ]
    }
   ],
   "source": [
    "stdin, stdout, stderr = clientn2.exec_command('sudo ip addr add 192.168.10.52/24 dev ens7')\n",
    "print(stdout.read().decode(\"utf-8\"))\n",
    "print(stderr.read().decode(\"utf-8\"))"
   ]
  },
  {
   "cell_type": "code",
   "execution_count": 63,
   "metadata": {},
   "outputs": [
    {
     "name": "stdout",
     "output_type": "stream",
     "text": [
      "\n",
      "\n"
     ]
    }
   ],
   "source": [
    "stdin, stdout, stderr = clientn2.exec_command('sudo ip link set ens7 up')\n",
    "print(stdout.read().decode(\"utf-8\"))\n",
    "print(stderr.read().decode(\"utf-8\"))"
   ]
  },
  {
   "cell_type": "markdown",
   "metadata": {},
   "source": [
    "<hr>"
   ]
  },
  {
   "cell_type": "code",
   "execution_count": 64,
   "metadata": {},
   "outputs": [
    {
     "name": "stdout",
     "output_type": "stream",
     "text": [
      "\n",
      "\n"
     ]
    }
   ],
   "source": [
    "stdin, stdout, stderr = clientn3.exec_command('sudo ip addr add 192.168.10.53/24 dev ens7')\n",
    "print(stdout.read().decode(\"utf-8\"))\n",
    "print(stderr.read().decode(\"utf-8\"))"
   ]
  },
  {
   "cell_type": "code",
   "execution_count": 65,
   "metadata": {},
   "outputs": [
    {
     "name": "stdout",
     "output_type": "stream",
     "text": [
      "\n",
      "\n"
     ]
    }
   ],
   "source": [
    "stdin, stdout, stderr = clientn3.exec_command('sudo ip link set ens7 up')\n",
    "print(stdout.read().decode(\"utf-8\"))\n",
    "print(stderr.read().decode(\"utf-8\"))"
   ]
  },
  {
   "cell_type": "markdown",
   "metadata": {},
   "source": [
    "### Now let's take another look at the network interfaces."
   ]
  },
  {
   "cell_type": "code",
   "execution_count": 66,
   "metadata": {},
   "outputs": [
    {
     "name": "stdout",
     "output_type": "stream",
     "text": [
      "1: lo: <LOOPBACK,UP,LOWER_UP> mtu 65536 qdisc noqueue state UNKNOWN group default qlen 1000\n",
      "    link/loopback 00:00:00:00:00:00 brd 00:00:00:00:00:00\n",
      "    inet 127.0.0.1/8 scope host lo\n",
      "       valid_lft forever preferred_lft forever\n",
      "    inet6 ::1/128 scope host \n",
      "       valid_lft forever preferred_lft forever\n",
      "2: ens3: <BROADCAST,MULTICAST,UP,LOWER_UP> mtu 9000 qdisc fq_codel state UP group default qlen 1000\n",
      "    link/ether fa:16:3e:ed:7a:89 brd ff:ff:ff:ff:ff:ff\n",
      "    inet 10.20.4.108/24 brd 10.20.4.255 scope global dynamic ens3\n",
      "       valid_lft 85990sec preferred_lft 85990sec\n",
      "    inet6 fe80::f816:3eff:feed:7a89/64 scope link \n",
      "       valid_lft forever preferred_lft forever\n",
      "3: ens7: <BROADCAST,MULTICAST,UP,LOWER_UP> mtu 1500 qdisc mq state UP group default qlen 1000\n",
      "    link/ether 0c:42:a1:ea:c7:50 brd ff:ff:ff:ff:ff:ff\n",
      "    inet 192.168.10.51/24 scope global ens7\n",
      "       valid_lft forever preferred_lft forever\n",
      "    inet6 fe80::e42:a1ff:feea:c750/64 scope link \n",
      "       valid_lft forever preferred_lft forever\n",
      "4: ens8: <BROADCAST,MULTICAST> mtu 1500 qdisc noop state DOWN group default qlen 1000\n",
      "    link/ether 0c:42:a1:ea:c7:51 brd ff:ff:ff:ff:ff:ff\n",
      "\n",
      "\n"
     ]
    }
   ],
   "source": [
    "stdin, stdout, stderr = clientn1.exec_command('ip a')\n",
    "print(stdout.read().decode(\"utf-8\"))\n",
    "print(stderr.read().decode(\"utf-8\"))"
   ]
  },
  {
   "cell_type": "code",
   "execution_count": 67,
   "metadata": {},
   "outputs": [
    {
     "name": "stdout",
     "output_type": "stream",
     "text": [
      "1: lo: <LOOPBACK,UP,LOWER_UP> mtu 65536 qdisc noqueue state UNKNOWN group default qlen 1000\n",
      "    link/loopback 00:00:00:00:00:00 brd 00:00:00:00:00:00\n",
      "    inet 127.0.0.1/8 scope host lo\n",
      "       valid_lft forever preferred_lft forever\n",
      "    inet6 ::1/128 scope host \n",
      "       valid_lft forever preferred_lft forever\n",
      "2: ens3: <BROADCAST,MULTICAST,UP,LOWER_UP> mtu 9000 qdisc fq_codel state UP group default qlen 1000\n",
      "    link/ether fa:16:3e:2d:ba:57 brd ff:ff:ff:ff:ff:ff\n",
      "    inet 10.20.4.30/24 brd 10.20.4.255 scope global dynamic ens3\n",
      "       valid_lft 85980sec preferred_lft 85980sec\n",
      "    inet6 fe80::f816:3eff:fe2d:ba57/64 scope link \n",
      "       valid_lft forever preferred_lft forever\n",
      "3: ens7: <BROADCAST,MULTICAST,UP,LOWER_UP> mtu 1500 qdisc mq state UP group default qlen 1000\n",
      "    link/ether 04:3f:72:b7:15:74 brd ff:ff:ff:ff:ff:ff\n",
      "    inet 192.168.10.52/24 scope global ens7\n",
      "       valid_lft forever preferred_lft forever\n",
      "    inet 192.168.10.53/24 scope global secondary ens7\n",
      "       valid_lft forever preferred_lft forever\n",
      "    inet6 fe80::63f:72ff:feb7:1574/64 scope link \n",
      "       valid_lft forever preferred_lft forever\n",
      "4: ens8: <BROADCAST,MULTICAST> mtu 1500 qdisc noop state DOWN group default qlen 1000\n",
      "    link/ether 04:3f:72:b7:15:75 brd ff:ff:ff:ff:ff:ff\n",
      "\n",
      "\n"
     ]
    }
   ],
   "source": [
    "stdin, stdout, stderr = clientn2.exec_command('ip a')\n",
    "print(stdout.read().decode(\"utf-8\"))\n",
    "print(stderr.read().decode(\"utf-8\"))"
   ]
  },
  {
   "cell_type": "code",
   "execution_count": 68,
   "metadata": {},
   "outputs": [
    {
     "name": "stdout",
     "output_type": "stream",
     "text": [
      "1: lo: <LOOPBACK,UP,LOWER_UP> mtu 65536 qdisc noqueue state UNKNOWN group default qlen 1000\n",
      "    link/loopback 00:00:00:00:00:00 brd 00:00:00:00:00:00\n",
      "    inet 127.0.0.1/8 scope host lo\n",
      "       valid_lft forever preferred_lft forever\n",
      "    inet6 ::1/128 scope host \n",
      "       valid_lft forever preferred_lft forever\n",
      "2: ens3: <BROADCAST,MULTICAST,UP,LOWER_UP> mtu 9000 qdisc fq_codel state UP group default qlen 1000\n",
      "    link/ether fa:16:3e:2d:ba:57 brd ff:ff:ff:ff:ff:ff\n",
      "    inet 10.20.4.30/24 brd 10.20.4.255 scope global dynamic ens3\n",
      "       valid_lft 85973sec preferred_lft 85973sec\n",
      "    inet6 fe80::f816:3eff:fe2d:ba57/64 scope link \n",
      "       valid_lft forever preferred_lft forever\n",
      "3: ens7: <BROADCAST,MULTICAST,UP,LOWER_UP> mtu 1500 qdisc mq state UP group default qlen 1000\n",
      "    link/ether 04:3f:72:b7:15:74 brd ff:ff:ff:ff:ff:ff\n",
      "    inet 192.168.10.52/24 scope global ens7\n",
      "       valid_lft forever preferred_lft forever\n",
      "    inet 192.168.10.53/24 scope global secondary ens7\n",
      "       valid_lft forever preferred_lft forever\n",
      "    inet6 fe80::63f:72ff:feb7:1574/64 scope link \n",
      "       valid_lft forever preferred_lft forever\n",
      "4: ens8: <BROADCAST,MULTICAST> mtu 1500 qdisc noop state DOWN group default qlen 1000\n",
      "    link/ether 04:3f:72:b7:15:75 brd ff:ff:ff:ff:ff:ff\n",
      "\n",
      "\n"
     ]
    }
   ],
   "source": [
    "stdin, stdout, stderr = clientn3.exec_command('ip a')\n",
    "print(stdout.read().decode(\"utf-8\"))\n",
    "print(stderr.read().decode(\"utf-8\"))"
   ]
  },
  {
   "cell_type": "markdown",
   "metadata": {},
   "source": [
    "### We can see that the IP addresses have been assigned, and that the interfaces are up and ready."
   ]
  },
  {
   "cell_type": "markdown",
   "metadata": {},
   "source": [
    "### Now let's ping."
   ]
  },
  {
   "cell_type": "code",
   "execution_count": 69,
   "metadata": {},
   "outputs": [
    {
     "name": "stdout",
     "output_type": "stream",
     "text": [
      "PING 192.168.10.52 (192.168.10.52) 56(84) bytes of data.\n",
      "64 bytes from 192.168.10.52: icmp_seq=1 ttl=64 time=43.5 ms\n",
      "64 bytes from 192.168.10.52: icmp_seq=2 ttl=64 time=21.7 ms\n",
      "64 bytes from 192.168.10.52: icmp_seq=3 ttl=64 time=21.6 ms\n",
      "64 bytes from 192.168.10.52: icmp_seq=4 ttl=64 time=21.7 ms\n",
      "64 bytes from 192.168.10.52: icmp_seq=5 ttl=64 time=21.6 ms\n",
      "\n",
      "--- 192.168.10.52 ping statistics ---\n",
      "5 packets transmitted, 5 received, 0% packet loss, time 4007ms\n",
      "rtt min/avg/max/mdev = 21.614/26.023/43.524/8.750 ms\n",
      "\n",
      "\n"
     ]
    }
   ],
   "source": [
    "stdin, stdout, stderr = clientn1.exec_command('ping -c 5 192.168.10.52')\n",
    "print(stdout.read().decode(\"utf-8\"))\n",
    "print(stderr.read().decode(\"utf-8\"))"
   ]
  },
  {
   "cell_type": "code",
   "execution_count": 70,
   "metadata": {},
   "outputs": [
    {
     "name": "stdout",
     "output_type": "stream",
     "text": [
      "PING 192.168.10.53 (192.168.10.53) 56(84) bytes of data.\n",
      "64 bytes from 192.168.10.53: icmp_seq=1 ttl=64 time=43.4 ms\n",
      "64 bytes from 192.168.10.53: icmp_seq=2 ttl=64 time=21.7 ms\n",
      "64 bytes from 192.168.10.53: icmp_seq=3 ttl=64 time=21.6 ms\n",
      "64 bytes from 192.168.10.53: icmp_seq=4 ttl=64 time=21.6 ms\n",
      "64 bytes from 192.168.10.53: icmp_seq=5 ttl=64 time=21.6 ms\n",
      "\n",
      "--- 192.168.10.53 ping statistics ---\n",
      "5 packets transmitted, 5 received, 0% packet loss, time 4007ms\n",
      "rtt min/avg/max/mdev = 21.624/25.988/43.395/8.703 ms\n",
      "\n",
      "\n"
     ]
    }
   ],
   "source": [
    "stdin, stdout, stderr = clientn1.exec_command('ping -c 5 192.168.10.53')\n",
    "print(stdout.read().decode(\"utf-8\"))\n",
    "print(stderr.read().decode(\"utf-8\"))"
   ]
  },
  {
   "cell_type": "code",
   "execution_count": 71,
   "metadata": {},
   "outputs": [
    {
     "name": "stdout",
     "output_type": "stream",
     "text": [
      "PING 192.168.10.51 (192.168.10.51) 56(84) bytes of data.\n",
      "64 bytes from 192.168.10.51: icmp_seq=1 ttl=64 time=21.7 ms\n",
      "64 bytes from 192.168.10.51: icmp_seq=2 ttl=64 time=21.6 ms\n",
      "64 bytes from 192.168.10.51: icmp_seq=3 ttl=64 time=21.6 ms\n",
      "64 bytes from 192.168.10.51: icmp_seq=4 ttl=64 time=21.6 ms\n",
      "64 bytes from 192.168.10.51: icmp_seq=5 ttl=64 time=21.6 ms\n",
      "\n",
      "--- 192.168.10.51 ping statistics ---\n",
      "5 packets transmitted, 5 received, 0% packet loss, time 4007ms\n",
      "rtt min/avg/max/mdev = 21.622/21.652/21.741/0.044 ms\n",
      "\n",
      "\n"
     ]
    }
   ],
   "source": [
    "stdin, stdout, stderr = clientn2.exec_command('ping -c 5 192.168.10.51')\n",
    "print(stdout.read().decode(\"utf-8\"))\n",
    "print(stderr.read().decode(\"utf-8\"))"
   ]
  },
  {
   "cell_type": "code",
   "execution_count": 72,
   "metadata": {},
   "outputs": [
    {
     "name": "stdout",
     "output_type": "stream",
     "text": [
      "PING 192.168.10.53 (192.168.10.53) 56(84) bytes of data.\n",
      "64 bytes from 192.168.10.53: icmp_seq=1 ttl=64 time=0.011 ms\n",
      "64 bytes from 192.168.10.53: icmp_seq=2 ttl=64 time=0.009 ms\n",
      "64 bytes from 192.168.10.53: icmp_seq=3 ttl=64 time=0.031 ms\n",
      "64 bytes from 192.168.10.53: icmp_seq=4 ttl=64 time=0.008 ms\n",
      "64 bytes from 192.168.10.53: icmp_seq=5 ttl=64 time=0.011 ms\n",
      "\n",
      "--- 192.168.10.53 ping statistics ---\n",
      "5 packets transmitted, 5 received, 0% packet loss, time 4099ms\n",
      "rtt min/avg/max/mdev = 0.008/0.014/0.031/0.008 ms\n",
      "\n",
      "\n"
     ]
    }
   ],
   "source": [
    "stdin, stdout, stderr = clientn2.exec_command('ping -c 5 192.168.10.53')\n",
    "print(stdout.read().decode(\"utf-8\"))\n",
    "print(stderr.read().decode(\"utf-8\"))"
   ]
  },
  {
   "cell_type": "code",
   "execution_count": 73,
   "metadata": {},
   "outputs": [
    {
     "name": "stdout",
     "output_type": "stream",
     "text": [
      "PING 192.168.10.51 (192.168.10.51) 56(84) bytes of data.\n",
      "64 bytes from 192.168.10.51: icmp_seq=1 ttl=64 time=21.6 ms\n",
      "64 bytes from 192.168.10.51: icmp_seq=2 ttl=64 time=21.6 ms\n",
      "64 bytes from 192.168.10.51: icmp_seq=3 ttl=64 time=21.6 ms\n",
      "64 bytes from 192.168.10.51: icmp_seq=4 ttl=64 time=21.7 ms\n",
      "64 bytes from 192.168.10.51: icmp_seq=5 ttl=64 time=21.6 ms\n",
      "\n",
      "--- 192.168.10.51 ping statistics ---\n",
      "5 packets transmitted, 5 received, 0% packet loss, time 4007ms\n",
      "rtt min/avg/max/mdev = 21.628/21.646/21.711/0.032 ms\n",
      "\n",
      "\n"
     ]
    }
   ],
   "source": [
    "stdin, stdout, stderr = clientn3.exec_command('ping -c 5 192.168.10.51')\n",
    "print(stdout.read().decode(\"utf-8\"))\n",
    "print(stderr.read().decode(\"utf-8\"))"
   ]
  },
  {
   "cell_type": "code",
   "execution_count": 74,
   "metadata": {},
   "outputs": [
    {
     "name": "stdout",
     "output_type": "stream",
     "text": [
      "PING 192.168.10.52 (192.168.10.52) 56(84) bytes of data.\n",
      "64 bytes from 192.168.10.52: icmp_seq=1 ttl=64 time=0.011 ms\n",
      "64 bytes from 192.168.10.52: icmp_seq=2 ttl=64 time=0.012 ms\n",
      "64 bytes from 192.168.10.52: icmp_seq=3 ttl=64 time=0.006 ms\n",
      "64 bytes from 192.168.10.52: icmp_seq=4 ttl=64 time=0.007 ms\n",
      "64 bytes from 192.168.10.52: icmp_seq=5 ttl=64 time=0.014 ms\n",
      "\n",
      "--- 192.168.10.52 ping statistics ---\n",
      "5 packets transmitted, 5 received, 0% packet loss, time 4099ms\n",
      "rtt min/avg/max/mdev = 0.006/0.010/0.014/0.003 ms\n",
      "\n",
      "\n"
     ]
    }
   ],
   "source": [
    "stdin, stdout, stderr = clientn3.exec_command('ping -c 5 192.168.10.52')\n",
    "print(stdout.read().decode(\"utf-8\"))\n",
    "print(stderr.read().decode(\"utf-8\"))"
   ]
  },
  {
   "cell_type": "markdown",
   "metadata": {},
   "source": [
    "### We can see from the pings above that each node can see the other two nodes. Experiment complete."
   ]
  },
  {
   "cell_type": "markdown",
   "metadata": {},
   "source": [
    "### Finally, you can delete the slice with the following cell."
   ]
  },
  {
   "cell_type": "code",
   "execution_count": 57,
   "metadata": {},
   "outputs": [
    {
     "name": "stdout",
     "output_type": "stream",
     "text": [
      "Response Status Status.OK\n",
      "Response received None\n"
     ]
    }
   ],
   "source": [
    "status, result = slice_manager.delete(slice_id=slice_id)\n",
    "\n",
    "print(\"Response Status {}\".format(status))\n",
    "print(\"Response received {}\".format(result))"
   ]
  }
 ],
 "metadata": {
  "kernelspec": {
   "display_name": "Python 3",
   "language": "python",
   "name": "python3"
  },
  "language_info": {
   "codemirror_mode": {
    "name": "ipython",
    "version": 3
   },
   "file_extension": ".py",
   "mimetype": "text/x-python",
   "name": "python",
   "nbconvert_exporter": "python",
   "pygments_lexer": "ipython3",
   "version": "3.9.2"
  }
 },
 "nbformat": 4,
 "nbformat_minor": 4
}

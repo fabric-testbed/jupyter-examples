{
 "cells": [
  {
   "cell_type": "markdown",
   "metadata": {},
   "source": [
    "### This notebook shows how to "
   ]
  },
  {
   "cell_type": "code",
   "execution_count": 68,
   "metadata": {},
   "outputs": [],
   "source": [
    "import os\n",
    "from fabrictestbed.slice_manager import SliceManager, Status\n",
    "import json"
   ]
  },
  {
   "cell_type": "code",
   "execution_count": 69,
   "metadata": {},
   "outputs": [
    {
     "name": "stdout",
     "output_type": "stream",
     "text": [
      "CM Host: beta-2.fabric-testbed.net Orchestrator Host: beta-7.fabric-testbed.net\n"
     ]
    }
   ],
   "source": [
    "credmgr_host = os.environ['FABRIC_CREDMGR_HOST']\n",
    "orchestrator_host = os.environ['FABRIC_ORCHESTRATOR_HOST']\n",
    "print(f\"CM Host: {credmgr_host} Orchestrator Host: {orchestrator_host}\")"
   ]
  },
  {
   "cell_type": "markdown",
   "metadata": {},
   "source": [
    "## Create Slice Manager Object\n",
    "Users can request tokens with different Project and Scopes by altering `project_name` and `scope` parameters in the refresh call below."
   ]
  },
  {
   "cell_type": "code",
   "execution_count": 70,
   "metadata": {},
   "outputs": [],
   "source": [
    "slice_manager = SliceManager(oc_host=orchestrator_host, cm_host=credmgr_host, project_name='all', scope='all')\n",
    "\n",
    "# Initialize the slice manager\n",
    "slice_manager.initialize()"
   ]
  },
  {
   "cell_type": "markdown",
   "metadata": {},
   "source": [
    "### Orchestrator API example to query for available resources"
   ]
  },
  {
   "cell_type": "code",
   "execution_count": 71,
   "metadata": {},
   "outputs": [
    {
     "name": "stdout",
     "output_type": "stream",
     "text": [
      "Status: Status.OK\n",
      "Toplogy: UKY: { cpu: 6/6 , core: 184/192 , ram: 1,512/1,536 G, disk: 9,560/9,600 G, unit: 3/3 }\n",
      "\tComponents:\n",
      "\t\tSmartNIC-ConnectX-5:  SmartNIC ConnectX-5 { unit: 2/2 }\n",
      "\t\tGPU-RTX6000:  GPU RTX6000 { unit: 2/2 }\n",
      "\t\tGPU-Tesla T4:  GPU Tesla T4 { unit: 4/4 }\n",
      "\t\tNVME-P4510:  NVME P4510 { disk: 8,000/10,000 G, unit: 8/10 }\n",
      "\t\tSharedNIC-ConnectX-6:  SharedNIC ConnectX-6 { unit: 379/381 }\n",
      "\t\tSmartNIC-ConnectX-6:  SmartNIC ConnectX-6 { unit: 0/2 }\n",
      "\tSite Interfaces:\n",
      "\t\tUKY_LBNL: TrunkPort { bw: 100/100 Gbps}\n",
      "RENC\n",
      "\tComponents:\n",
      "\tSite Interfaces:\n",
      "STAR\n",
      "\tComponents:\n",
      "\tSite Interfaces:\n",
      "LBNL: { cpu: 6/6 , core: 184/192 , ram: 1,512/1,536 G, disk: 9,560/9,600 G, unit: 3/3 }\n",
      "\tComponents:\n",
      "\t\tSharedNIC-ConnectX-6:  SharedNIC ConnectX-6 { unit: 379/381 }\n",
      "\t\tNVME-P4510:  NVME P4510 { disk: 9,000/10,000 G, unit: 9/10 }\n",
      "\t\tGPU-RTX6000:  GPU RTX6000 { unit: 2/2 }\n",
      "\t\tGPU-Tesla T4:  GPU Tesla T4 { unit: 4/4 }\n",
      "\t\tSmartNIC-ConnectX-6:  SmartNIC ConnectX-6 { unit: 1/2 }\n",
      "\t\tSmartNIC-ConnectX-5:  SmartNIC ConnectX-5 { unit: 1/2 }\n",
      "\tSite Interfaces:\n",
      "\t\tLBNL_UKY: TrunkPort { bw: 10/10 Gbps}\n",
      "Links:\n",
      "\tport+lbnl-data-sw:TenGigE0/0/0/6/0.2400-link[L2Path]: ['UKY_LBNL', 'LBNL_UKY']\n"
     ]
    }
   ],
   "source": [
    "status, advertised_topology = slice_manager.resources()\n",
    "\n",
    "print(f\"Status: {status}\")\n",
    "if status == Status.OK:\n",
    "    print(f\"Toplogy: {advertised_topology}\")\n",
    "else:\n",
    "    print(f\"Error: {advertised_topology}\")"
   ]
  },
  {
   "cell_type": "code",
   "execution_count": 72,
   "metadata": {},
   "outputs": [
    {
     "data": {
      "image/png": "[encoded data removed]",
      "text/plain": [
       "<Figure size 432x288 with 1 Axes>"
      ]
     },
     "metadata": {},
     "output_type": "display_data"
    }
   ],
   "source": [
    "if status == Status.OK:\n",
    "    advertised_topology.draw()"
   ]
  },
  {
   "cell_type": "markdown",
   "metadata": {},
   "source": [
    "## Create Slice"
   ]
  },
  {
   "cell_type": "markdown",
   "metadata": {},
   "source": [
    "We will request two nodes. We will attach a smart NIC to one of them, and a shared NIC to the other. Configurations for the NICs are going to be different.\n",
    "\n",
    "The setup is shown below:"
   ]
  },
  {
   "cell_type": "markdown",
   "metadata": {},
   "source": [
    "<img src=\"./l2bridge-tagged.png\">"
   ]
  },
  {
   "cell_type": "code",
   "execution_count": 73,
   "metadata": {},
   "outputs": [
    {
     "name": "stdout",
     "output_type": "stream",
     "text": [
      "Response Status Status.OK\n",
      "Reservations created [{\n",
      "    \"graph_node_id\": \"c600a4f9-8afe-44f5-ac20-1e963c8be97b\",\n",
      "    \"lease_end\": \"2021-08-10 20:23:48\",\n",
      "    \"pending_state\": \"None_\",\n",
      "    \"reservation_id\": \"77376013-08b4-4381-87e7-d4ae6c492b47\",\n",
      "    \"reservation_state\": \"Unknown\",\n",
      "    \"slice_id\": \"7b0bc119-59cf-4c8d-ac07-87411b49a8db\"\n",
      "}, {\n",
      "    \"graph_node_id\": \"5ef4d8bd-8a5e-454c-9a8b-c0458ea43dde\",\n",
      "    \"lease_end\": \"2021-08-10 20:23:48\",\n",
      "    \"pending_state\": \"None_\",\n",
      "    \"reservation_id\": \"88747d5e-c20c-4bb6-871c-4a8fc63f5623\",\n",
      "    \"reservation_state\": \"Unknown\",\n",
      "    \"slice_id\": \"7b0bc119-59cf-4c8d-ac07-87411b49a8db\"\n",
      "}, {\n",
      "    \"graph_node_id\": \"bdc3698c-4fac-4c15-8627-ad32b77c350b\",\n",
      "    \"lease_end\": \"2021-08-10 20:23:48\",\n",
      "    \"pending_state\": \"None_\",\n",
      "    \"reservation_id\": \"bb848bf0-b112-437d-aaf4-a53fb6035ed7\",\n",
      "    \"reservation_state\": \"Unknown\",\n",
      "    \"slice_id\": \"7b0bc119-59cf-4c8d-ac07-87411b49a8db\"\n",
      "}]\n"
     ]
    }
   ],
   "source": [
    "from fabrictestbed.slice_editor import ExperimentTopology, Capacities, ComponentType, ComponentModelType, ServiceType\n",
    "# Create topology\n",
    "t = ExperimentTopology()\n",
    "\n",
    "# Add node\n",
    "n1 = t.add_node(name='n1', site='LBNL')\n",
    "\n",
    "# Set capacities\n",
    "cap = Capacities()\n",
    "cap.set_fields(core=2, ram=6, disk=10)\n",
    "\n",
    "# Set Properties\n",
    "n1.set_properties(capacities=cap, image_type='qcow2', image_ref='default_ubuntu_20')\n",
    "\n",
    "# Add PCI devices\n",
    "n1.add_component(ctype=ComponentType.NVME, model='P4510', name='c1')\n",
    "\n",
    "# Add node\n",
    "n2 = t.add_node(name='n2', site='LBNL')\n",
    "\n",
    "# Set properties\n",
    "n2.set_properties(capacities=cap, image_type='qcow2', image_ref='default_ubuntu_20')\n",
    "\n",
    "\n",
    "# Dedicated Cardsn1.add_component(model_type=ComponentModelType.SmartNIC_ConnectX_6, name='n1-nic1')\n",
    "n1.add_component(model_type=ComponentModelType.SharedNIC_ConnectX_6, name='n1-nic1')\n",
    "n2.add_component(model_type=ComponentModelType.SmartNIC_ConnectX_5, name='n2-nic1')\n",
    "\n",
    "\n",
    "# For Tagged Bridge, specify VLAN\n",
    "for i in t.interface_list:\n",
    "    if_labels = i.get_property(pname=\"labels\")\n",
    "    if_labels.vlan = \"200\"\n",
    "    i.set_properties(labels=if_labels)\n",
    "\n",
    "# L2Bridge Service\n",
    "t.add_network_service(name='bridge1', nstype=ServiceType.L2Bridge, interfaces=t.interface_list)\n",
    "\n",
    "# Generate Slice Graph\n",
    "slice_graph = t.serialize()\n",
    "\n",
    "ssh_key = None\n",
    "with open (\"/home/fabric/.ssh/id_rsa.pub\", \"r\") as myfile:\n",
    "    ssh_key=myfile.read()\n",
    "    ssh_key=ssh_key.strip()\n",
    "\n",
    "# Request slice from Orchestrator\n",
    "status, reservations = slice_manager.create(slice_name='Slice-l2bridge-ded-tag2', slice_graph=slice_graph, ssh_key=ssh_key)\n",
    "\n",
    "print(\"Response Status {}\".format(status))\n",
    "if status == Status.OK:\n",
    "    print(\"Reservations created {}\".format(reservations))\n",
    "else:\n",
    "    print(f\"Failure: {reservations}\")"
   ]
  },
  {
   "cell_type": "code",
   "execution_count": 74,
   "metadata": {},
   "outputs": [],
   "source": [
    "# Set the Slice ID from output of the above command\n",
    "slice_id=reservations[0].slice_id"
   ]
  },
  {
   "cell_type": "markdown",
   "metadata": {},
   "source": [
    "## Query Slices"
   ]
  },
  {
   "cell_type": "code",
   "execution_count": 77,
   "metadata": {},
   "outputs": [
    {
     "name": "stdout",
     "output_type": "stream",
     "text": [
      "Response Status Status.OK\n",
      "Slices [{\n",
      "    \"graph_id\": \"c80811fd-4b16-452b-b529-abb85f47b59d\",\n",
      "    \"lease_end\": \"2021-08-10 20:23:48\",\n",
      "    \"slice_id\": \"7b0bc119-59cf-4c8d-ac07-87411b49a8db\",\n",
      "    \"slice_name\": \"Slice-l2bridge-ded-tag2\",\n",
      "    \"slice_state\": \"StableOK\"\n",
      "}]\n"
     ]
    }
   ],
   "source": [
    "status, slices = slice_manager.slices() #(state=\"All\")\n",
    "\n",
    "print(\"Response Status {}\".format(status))\n",
    "if status == Status.OK:\n",
    "    print(\"Slices {}\".format(slices))\n",
    "else:\n",
    "    print(f\"Failure: {slices}\")"
   ]
  },
  {
   "cell_type": "markdown",
   "metadata": {},
   "source": [
    "## Query Slivers"
   ]
  },
  {
   "cell_type": "code",
   "execution_count": 78,
   "metadata": {},
   "outputs": [
    {
     "name": "stdout",
     "output_type": "stream",
     "text": [
      "Response Status Status.OK\n",
      "Slivers [{\n",
      "    \"allocated_capacities\": \"{\\\"core\\\": 2, \\\"disk\\\": 10, \\\"ram\\\": 8}\",\n",
      "    \"allocated_labels\": \"{\\\"instance\\\": \\\"instance-000000ef\\\", \\\"instance_parent\\\": \\\"lbnl-w2.fabric-testbed.net\\\"}\",\n",
      "    \"capacities\": \"{\\\"core\\\": 2, \\\"disk\\\": 10, \\\"ram\\\": 6}\",\n",
      "    \"capacity_hints\": \"{\\\"instance_type\\\": \\\"fabric.c2.m8.d10\\\"}\",\n",
      "    \"graph_node_id\": \"c600a4f9-8afe-44f5-ac20-1e963c8be97b\",\n",
      "    \"join_state\": \"NoJoin\",\n",
      "    \"lease_end\": \"2021-08-10 20:23:48\",\n",
      "    \"management_ip\": \"198.129.61.43\",\n",
      "    \"name\": \"n1\",\n",
      "    \"pending_state\": \"None_\",\n",
      "    \"reservation_id\": \"77376013-08b4-4381-87e7-d4ae6c492b47\",\n",
      "    \"reservation_state\": \"Active\",\n",
      "    \"resource_type\": \"VM\",\n",
      "    \"site\": \"LBNL\",\n",
      "    \"slice_id\": \"7b0bc119-59cf-4c8d-ac07-87411b49a8db\"\n",
      "}, {\n",
      "    \"allocated_capacities\": \"{\\\"core\\\": 2, \\\"disk\\\": 10, \\\"ram\\\": 8}\",\n",
      "    \"allocated_labels\": \"{\\\"instance\\\": \\\"instance-000000ee\\\", \\\"instance_parent\\\": \\\"lbnl-w3.fabric-testbed.net\\\"}\",\n",
      "    \"capacities\": \"{\\\"core\\\": 2, \\\"disk\\\": 10, \\\"ram\\\": 6}\",\n",
      "    \"capacity_hints\": \"{\\\"instance_type\\\": \\\"fabric.c2.m8.d10\\\"}\",\n",
      "    \"graph_node_id\": \"5ef4d8bd-8a5e-454c-9a8b-c0458ea43dde\",\n",
      "    \"join_state\": \"NoJoin\",\n",
      "    \"lease_end\": \"2021-08-10 20:23:48\",\n",
      "    \"management_ip\": \"198.129.61.38\",\n",
      "    \"name\": \"n2\",\n",
      "    \"pending_state\": \"None_\",\n",
      "    \"reservation_id\": \"88747d5e-c20c-4bb6-871c-4a8fc63f5623\",\n",
      "    \"reservation_state\": \"Active\",\n",
      "    \"resource_type\": \"VM\",\n",
      "    \"site\": \"LBNL\",\n",
      "    \"slice_id\": \"7b0bc119-59cf-4c8d-ac07-87411b49a8db\"\n",
      "}, {\n",
      "    \"graph_node_id\": \"bdc3698c-4fac-4c15-8627-ad32b77c350b\",\n",
      "    \"join_state\": \"NoJoin\",\n",
      "    \"lease_end\": \"2021-08-10 20:23:48\",\n",
      "    \"name\": \"bridge1\",\n",
      "    \"pending_state\": \"None_\",\n",
      "    \"reservation_id\": \"bb848bf0-b112-437d-aaf4-a53fb6035ed7\",\n",
      "    \"reservation_state\": \"Active\",\n",
      "    \"resource_type\": \"L2Bridge\",\n",
      "    \"site\": \"LBNL\",\n",
      "    \"slice_id\": \"7b0bc119-59cf-4c8d-ac07-87411b49a8db\"\n",
      "}]\n"
     ]
    }
   ],
   "source": [
    "status, slivers = slice_manager.slivers(slice_id=slice_id)\n",
    "\n",
    "print(\"Response Status {}\".format(status))\n",
    "if status == Status.OK:\n",
    "    print(\"Slivers {}\".format(slivers))\n",
    "else:\n",
    "    print(f\"Failure: {slivers}\")"
   ]
  },
  {
   "cell_type": "markdown",
   "metadata": {},
   "source": [
    "### Now let's connect to the nodes with paramiko."
   ]
  },
  {
   "cell_type": "code",
   "execution_count": 79,
   "metadata": {},
   "outputs": [],
   "source": [
    "import paramiko"
   ]
  },
  {
   "cell_type": "code",
   "execution_count": 82,
   "metadata": {},
   "outputs": [
    {
     "data": {
      "text/plain": [
       "'198.129.61.43'"
      ]
     },
     "execution_count": 82,
     "metadata": {},
     "output_type": "execute_result"
    }
   ],
   "source": [
    "slivers[0].management_ip"
   ]
  },
  {
   "cell_type": "code",
   "execution_count": 81,
   "metadata": {},
   "outputs": [
    {
     "data": {
      "text/plain": [
       "'198.129.61.38'"
      ]
     },
     "execution_count": 81,
     "metadata": {},
     "output_type": "execute_result"
    }
   ],
   "source": [
    "slivers[1].management_ip"
   ]
  },
  {
   "cell_type": "code",
   "execution_count": 86,
   "metadata": {},
   "outputs": [
    {
     "data": {
      "text/plain": [
       "<paramiko.client.SSHClient at 0x7fad25a828e0>"
      ]
     },
     "execution_count": 86,
     "metadata": {},
     "output_type": "execute_result"
    }
   ],
   "source": [
    "key = paramiko.RSAKey.from_private_key_file(\"/home/fabric/.ssh/id_rsa\")\n",
    "client1 = paramiko.SSHClient()\n",
    "client1.load_system_host_keys()\n",
    "client1.set_missing_host_key_policy(paramiko.MissingHostKeyPolicy())\n",
    "\n",
    "client1.set_missing_host_key_policy(paramiko.AutoAddPolicy())\n",
    "client1.connect(slivers[0].management_ip,username='ubuntu',pkey = key)\n",
    "\n",
    "client1"
   ]
  },
  {
   "cell_type": "code",
   "execution_count": 87,
   "metadata": {},
   "outputs": [
    {
     "name": "stdout",
     "output_type": "stream",
     "text": [
      "Distributor ID:\tUbuntu\n",
      "Description:\tUbuntu 20.04.2 LTS\n",
      "Release:\t20.04\n",
      "Codename:\tfocal\n",
      "\n",
      "No LSB modules are available.\n",
      "\n"
     ]
    }
   ],
   "source": [
    "stdin, stdout, stderr = client1.exec_command('lsb_release -a')\n",
    "print(stdout.read().decode(\"utf-8\"))\n",
    "print(stderr.read().decode(\"utf-8\"))"
   ]
  },
  {
   "cell_type": "code",
   "execution_count": 88,
   "metadata": {},
   "outputs": [
    {
     "data": {
      "text/plain": [
       "<paramiko.client.SSHClient at 0x7fad25a70be0>"
      ]
     },
     "execution_count": 88,
     "metadata": {},
     "output_type": "execute_result"
    }
   ],
   "source": [
    "key = paramiko.RSAKey.from_private_key_file(\"/home/fabric/.ssh/id_rsa\")\n",
    "client2 = paramiko.SSHClient()\n",
    "client2.load_system_host_keys()\n",
    "client2.set_missing_host_key_policy(paramiko.MissingHostKeyPolicy())\n",
    "\n",
    "client2.set_missing_host_key_policy(paramiko.AutoAddPolicy())\n",
    "client2.connect(slivers[1].management_ip,username='ubuntu',pkey = key)\n",
    "\n",
    "client2"
   ]
  },
  {
   "cell_type": "code",
   "execution_count": 89,
   "metadata": {},
   "outputs": [
    {
     "name": "stdout",
     "output_type": "stream",
     "text": [
      "Distributor ID:\tUbuntu\n",
      "Description:\tUbuntu 20.04.2 LTS\n",
      "Release:\t20.04\n",
      "Codename:\tfocal\n",
      "\n",
      "No LSB modules are available.\n",
      "\n"
     ]
    }
   ],
   "source": [
    "stdin, stdout, stderr = client2.exec_command('lsb_release -a')\n",
    "print(stdout.read().decode(\"utf-8\"))\n",
    "print(stderr.read().decode(\"utf-8\"))"
   ]
  },
  {
   "cell_type": "markdown",
   "metadata": {},
   "source": [
    "### Let's try to let the nodes ping each other through their management IPs."
   ]
  },
  {
   "cell_type": "code",
   "execution_count": 91,
   "metadata": {},
   "outputs": [
    {
     "name": "stdout",
     "output_type": "stream",
     "text": [
      "PING 198.129.61.38 (198.129.61.38) 56(84) bytes of data.\n",
      "64 bytes from 198.129.61.38: icmp_seq=1 ttl=63 time=0.848 ms\n",
      "64 bytes from 198.129.61.38: icmp_seq=2 ttl=63 time=0.360 ms\n",
      "64 bytes from 198.129.61.38: icmp_seq=3 ttl=63 time=0.320 ms\n",
      "64 bytes from 198.129.61.38: icmp_seq=4 ttl=63 time=0.292 ms\n",
      "64 bytes from 198.129.61.38: icmp_seq=5 ttl=63 time=0.339 ms\n",
      "\n",
      "--- 198.129.61.38 ping statistics ---\n",
      "5 packets transmitted, 5 received, 0% packet loss, time 4086ms\n",
      "rtt min/avg/max/mdev = 0.292/0.431/0.848/0.209 ms\n",
      "\n",
      "\n"
     ]
    }
   ],
   "source": [
    "stdin, stdout, stderr = client1.exec_command('ping -c 5 ' + slivers[1].management_ip)\n",
    "print(stdout.read().decode(\"utf-8\"))\n",
    "print(stderr.read().decode(\"utf-8\"))"
   ]
  },
  {
   "cell_type": "code",
   "execution_count": 92,
   "metadata": {},
   "outputs": [
    {
     "name": "stdout",
     "output_type": "stream",
     "text": [
      "PING 198.129.61.43 (198.129.61.43) 56(84) bytes of data.\n",
      "64 bytes from 198.129.61.43: icmp_seq=1 ttl=63 time=0.207 ms\n",
      "64 bytes from 198.129.61.43: icmp_seq=2 ttl=63 time=0.287 ms\n",
      "64 bytes from 198.129.61.43: icmp_seq=3 ttl=63 time=0.286 ms\n",
      "64 bytes from 198.129.61.43: icmp_seq=4 ttl=63 time=0.273 ms\n",
      "64 bytes from 198.129.61.43: icmp_seq=5 ttl=63 time=0.238 ms\n",
      "\n",
      "--- 198.129.61.43 ping statistics ---\n",
      "5 packets transmitted, 5 received, 0% packet loss, time 4097ms\n",
      "rtt min/avg/max/mdev = 0.207/0.258/0.287/0.031 ms\n",
      "\n",
      "\n"
     ]
    }
   ],
   "source": [
    "stdin, stdout, stderr = client2.exec_command('ping -c 5 ' + slivers[0].management_ip)\n",
    "print(stdout.read().decode(\"utf-8\"))\n",
    "print(stderr.read().decode(\"utf-8\"))"
   ]
  },
  {
   "cell_type": "markdown",
   "metadata": {},
   "source": [
    "### We can see that both nodes are able to ping each other. This should be made possible by the control plane.\n",
    "\n",
    "### We want to let the nodes communicate through the bridge that we have requested."
   ]
  },
  {
   "cell_type": "markdown",
   "metadata": {},
   "source": [
    "### To begin with, we will need to use the `route` command. So we need to install `net-tools`."
   ]
  },
  {
   "cell_type": "code",
   "execution_count": 93,
   "metadata": {},
   "outputs": [
    {
     "name": "stdout",
     "output_type": "stream",
     "text": [
      "Get:1 http://security.ubuntu.com/ubuntu focal-security InRelease [114 kB]\n",
      "Hit:2 http://nova.clouds.archive.ubuntu.com/ubuntu focal InRelease\n",
      "Get:3 http://nova.clouds.archive.ubuntu.com/ubuntu focal-updates InRelease [114 kB]\n",
      "Get:4 http://security.ubuntu.com/ubuntu focal-security/main amd64 Packages [792 kB]\n",
      "Get:5 http://security.ubuntu.com/ubuntu focal-security/main Translation-en [156 kB]\n",
      "Get:6 http://security.ubuntu.com/ubuntu focal-security/main amd64 c-n-f Metadata [8408 B]\n",
      "Get:7 http://security.ubuntu.com/ubuntu focal-security/restricted amd64 Packages [330 kB]\n",
      "Get:8 http://security.ubuntu.com/ubuntu focal-security/restricted Translation-en [47.6 kB]\n",
      "Get:9 http://security.ubuntu.com/ubuntu focal-security/restricted amd64 c-n-f Metadata [460 B]\n",
      "Get:10 http://security.ubuntu.com/ubuntu focal-security/universe amd64 Packages [635 kB]\n",
      "Get:11 http://security.ubuntu.com/ubuntu focal-security/universe Translation-en [98.5 kB]\n",
      "Get:12 http://security.ubuntu.com/ubuntu focal-security/universe amd64 c-n-f Metadata [12.0 kB]\n",
      "Get:13 http://security.ubuntu.com/ubuntu focal-security/multiverse amd64 Packages [22.3 kB]\n",
      "Get:14 http://security.ubuntu.com/ubuntu focal-security/multiverse Translation-en [5072 B]\n",
      "Get:15 http://security.ubuntu.com/ubuntu focal-security/multiverse amd64 c-n-f Metadata [568 B]\n",
      "Get:16 http://nova.clouds.archive.ubuntu.com/ubuntu focal-backports InRelease [101 kB]\n",
      "Get:17 http://nova.clouds.archive.ubuntu.com/ubuntu focal/universe amd64 Packages [8628 kB]\n",
      "Get:18 http://nova.clouds.archive.ubuntu.com/ubuntu focal/universe Translation-en [5124 kB]\n",
      "Get:19 http://nova.clouds.archive.ubuntu.com/ubuntu focal/universe amd64 c-n-f Metadata [265 kB]\n",
      "Get:20 http://nova.clouds.archive.ubuntu.com/ubuntu focal/multiverse amd64 Packages [144 kB]\n",
      "Get:21 http://nova.clouds.archive.ubuntu.com/ubuntu focal/multiverse Translation-en [104 kB]\n",
      "Get:22 http://nova.clouds.archive.ubuntu.com/ubuntu focal/multiverse amd64 c-n-f Metadata [9136 B]\n",
      "Get:23 http://nova.clouds.archive.ubuntu.com/ubuntu focal-updates/main amd64 Packages [1134 kB]\n",
      "Get:24 http://nova.clouds.archive.ubuntu.com/ubuntu focal-updates/main Translation-en [247 kB]\n",
      "Get:25 http://nova.clouds.archive.ubuntu.com/ubuntu focal-updates/main amd64 c-n-f Metadata [13.9 kB]\n",
      "Get:26 http://nova.clouds.archive.ubuntu.com/ubuntu focal-updates/restricted amd64 Packages [367 kB]\n",
      "Get:27 http://nova.clouds.archive.ubuntu.com/ubuntu focal-updates/restricted Translation-en [52.9 kB]\n",
      "Get:28 http://nova.clouds.archive.ubuntu.com/ubuntu focal-updates/restricted amd64 c-n-f Metadata [456 B]\n",
      "Get:29 http://nova.clouds.archive.ubuntu.com/ubuntu focal-updates/universe amd64 Packages [844 kB]\n",
      "Get:30 http://nova.clouds.archive.ubuntu.com/ubuntu focal-updates/universe Translation-en [177 kB]\n",
      "Get:31 http://nova.clouds.archive.ubuntu.com/ubuntu focal-updates/universe amd64 c-n-f Metadata [18.4 kB]\n",
      "Get:32 http://nova.clouds.archive.ubuntu.com/ubuntu focal-updates/multiverse amd64 Packages [28.7 kB]\n",
      "Get:33 http://nova.clouds.archive.ubuntu.com/ubuntu focal-updates/multiverse Translation-en [7092 B]\n",
      "Get:34 http://nova.clouds.archive.ubuntu.com/ubuntu focal-updates/multiverse amd64 c-n-f Metadata [680 B]\n",
      "Get:35 http://nova.clouds.archive.ubuntu.com/ubuntu focal-backports/main amd64 Packages [2568 B]\n",
      "Get:36 http://nova.clouds.archive.ubuntu.com/ubuntu focal-backports/main Translation-en [1120 B]\n",
      "Get:37 http://nova.clouds.archive.ubuntu.com/ubuntu focal-backports/main amd64 c-n-f Metadata [400 B]\n",
      "Get:38 http://nova.clouds.archive.ubuntu.com/ubuntu focal-backports/restricted amd64 c-n-f Metadata [116 B]\n",
      "Get:39 http://nova.clouds.archive.ubuntu.com/ubuntu focal-backports/universe amd64 Packages [5800 B]\n",
      "Get:40 http://nova.clouds.archive.ubuntu.com/ubuntu focal-backports/universe Translation-en [2068 B]\n",
      "Get:41 http://nova.clouds.archive.ubuntu.com/ubuntu focal-backports/universe amd64 c-n-f Metadata [288 B]\n",
      "Get:42 http://nova.clouds.archive.ubuntu.com/ubuntu focal-backports/multiverse amd64 c-n-f Metadata [116 B]\n",
      "Fetched 19.6 MB in 5s (4317 kB/s)\n",
      "Reading package lists...\n",
      "Building dependency tree...\n",
      "Reading state information...\n",
      "35 packages can be upgraded. Run 'apt list --upgradable' to see them.\n",
      "Reading package lists...\n",
      "Building dependency tree...\n",
      "Reading state information...\n",
      "The following NEW packages will be installed:\n",
      "  net-tools\n",
      "0 upgraded, 1 newly installed, 0 to remove and 35 not upgraded.\n",
      "Need to get 196 kB of archives.\n",
      "After this operation, 864 kB of additional disk space will be used.\n",
      "Get:1 http://nova.clouds.archive.ubuntu.com/ubuntu focal/main amd64 net-tools amd64 1.60+git20180626.aebd88e-1ubuntu1 [196 kB]\n",
      "Fetched 196 kB in 0s (398 kB/s)\n",
      "Selecting previously unselected package net-tools.\n",
      "(Reading database ... 63527 files and directories currently installed.)\n",
      "Preparing to unpack .../net-tools_1.60+git20180626.aebd88e-1ubuntu1_amd64.deb ...\n",
      "Unpacking net-tools (1.60+git20180626.aebd88e-1ubuntu1) ...\n",
      "Setting up net-tools (1.60+git20180626.aebd88e-1ubuntu1) ...\n",
      "Processing triggers for man-db (2.9.1-1) ...\n",
      "\n",
      "\n",
      "WARNING: apt does not have a stable CLI interface. Use with caution in scripts.\n",
      "\n",
      "\n",
      "WARNING: apt does not have a stable CLI interface. Use with caution in scripts.\n",
      "\n",
      "debconf: unable to initialize frontend: Dialog\n",
      "debconf: (Dialog frontend will not work on a dumb terminal, an emacs shell buffer, or without a controlling terminal.)\n",
      "debconf: falling back to frontend: Readline\n",
      "debconf: unable to initialize frontend: Readline\n",
      "debconf: (This frontend requires a controlling tty.)\n",
      "debconf: falling back to frontend: Teletype\n",
      "dpkg-preconfigure: unable to re-open stdin: \n",
      "\n",
      "Get:1 http://security.ubuntu.com/ubuntu focal-security InRelease [114 kB]\n",
      "Hit:2 http://nova.clouds.archive.ubuntu.com/ubuntu focal InRelease\n",
      "Get:3 http://nova.clouds.archive.ubuntu.com/ubuntu focal-updates InRelease [114 kB]\n",
      "Get:4 http://security.ubuntu.com/ubuntu focal-security/main amd64 Packages [792 kB]\n",
      "Get:5 http://nova.clouds.archive.ubuntu.com/ubuntu focal-backports InRelease [101 kB]\n",
      "Get:6 http://nova.clouds.archive.ubuntu.com/ubuntu focal/universe amd64 Packages [8628 kB]\n",
      "Get:7 http://security.ubuntu.com/ubuntu focal-security/main Translation-en [156 kB]\n",
      "Get:8 http://security.ubuntu.com/ubuntu focal-security/main amd64 c-n-f Metadata [8408 B]\n",
      "Get:9 http://security.ubuntu.com/ubuntu focal-security/restricted amd64 Packages [330 kB]\n",
      "Get:10 http://security.ubuntu.com/ubuntu focal-security/restricted Translation-en [47.6 kB]\n",
      "Get:11 http://security.ubuntu.com/ubuntu focal-security/restricted amd64 c-n-f Metadata [460 B]\n",
      "Get:12 http://security.ubuntu.com/ubuntu focal-security/universe amd64 Packages [635 kB]\n",
      "Get:13 http://security.ubuntu.com/ubuntu focal-security/universe Translation-en [98.5 kB]\n",
      "Get:14 http://security.ubuntu.com/ubuntu focal-security/universe amd64 c-n-f Metadata [12.0 kB]\n",
      "Get:15 http://security.ubuntu.com/ubuntu focal-security/multiverse amd64 Packages [22.3 kB]\n",
      "Get:16 http://security.ubuntu.com/ubuntu focal-security/multiverse Translation-en [5072 B]\n",
      "Get:17 http://security.ubuntu.com/ubuntu focal-security/multiverse amd64 c-n-f Metadata [568 B]\n",
      "Get:18 http://nova.clouds.archive.ubuntu.com/ubuntu focal/universe Translation-en [5124 kB]\n",
      "Get:19 http://nova.clouds.archive.ubuntu.com/ubuntu focal/universe amd64 c-n-f Metadata [265 kB]\n",
      "Get:20 http://nova.clouds.archive.ubuntu.com/ubuntu focal/multiverse amd64 Packages [144 kB]\n",
      "Get:21 http://nova.clouds.archive.ubuntu.com/ubuntu focal/multiverse Translation-en [104 kB]\n",
      "Get:22 http://nova.clouds.archive.ubuntu.com/ubuntu focal/multiverse amd64 c-n-f Metadata [9136 B]\n",
      "Get:23 http://nova.clouds.archive.ubuntu.com/ubuntu focal-updates/main amd64 Packages [1134 kB]\n",
      "Get:24 http://nova.clouds.archive.ubuntu.com/ubuntu focal-updates/main Translation-en [247 kB]\n",
      "Get:25 http://nova.clouds.archive.ubuntu.com/ubuntu focal-updates/main amd64 c-n-f Metadata [13.9 kB]\n",
      "Get:26 http://nova.clouds.archive.ubuntu.com/ubuntu focal-updates/restricted amd64 Packages [367 kB]\n",
      "Get:27 http://nova.clouds.archive.ubuntu.com/ubuntu focal-updates/restricted Translation-en [52.9 kB]\n",
      "Get:28 http://nova.clouds.archive.ubuntu.com/ubuntu focal-updates/restricted amd64 c-n-f Metadata [456 B]\n",
      "Get:29 http://nova.clouds.archive.ubuntu.com/ubuntu focal-updates/universe amd64 Packages [844 kB]\n",
      "Get:30 http://nova.clouds.archive.ubuntu.com/ubuntu focal-updates/universe Translation-en [177 kB]\n",
      "Get:31 http://nova.clouds.archive.ubuntu.com/ubuntu focal-updates/universe amd64 c-n-f Metadata [18.4 kB]\n",
      "Get:32 http://nova.clouds.archive.ubuntu.com/ubuntu focal-updates/multiverse amd64 Packages [28.7 kB]\n",
      "Get:33 http://nova.clouds.archive.ubuntu.com/ubuntu focal-updates/multiverse Translation-en [7092 B]\n",
      "Get:34 http://nova.clouds.archive.ubuntu.com/ubuntu focal-updates/multiverse amd64 c-n-f Metadata [680 B]\n",
      "Get:35 http://nova.clouds.archive.ubuntu.com/ubuntu focal-backports/main amd64 Packages [2568 B]\n",
      "Get:36 http://nova.clouds.archive.ubuntu.com/ubuntu focal-backports/main Translation-en [1120 B]\n",
      "Get:37 http://nova.clouds.archive.ubuntu.com/ubuntu focal-backports/main amd64 c-n-f Metadata [400 B]\n",
      "Get:38 http://nova.clouds.archive.ubuntu.com/ubuntu focal-backports/restricted amd64 c-n-f Metadata [116 B]\n",
      "Get:39 http://nova.clouds.archive.ubuntu.com/ubuntu focal-backports/universe amd64 Packages [5800 B]\n",
      "Get:40 http://nova.clouds.archive.ubuntu.com/ubuntu focal-backports/universe Translation-en [2068 B]\n",
      "Get:41 http://nova.clouds.archive.ubuntu.com/ubuntu focal-backports/universe amd64 c-n-f Metadata [288 B]\n",
      "Get:42 http://nova.clouds.archive.ubuntu.com/ubuntu focal-backports/multiverse amd64 c-n-f Metadata [116 B]\n",
      "Fetched 19.6 MB in 3s (5652 kB/s)\n",
      "Reading package lists...\n",
      "Building dependency tree...\n",
      "Reading state information...\n",
      "35 packages can be upgraded. Run 'apt list --upgradable' to see them.\n",
      "Reading package lists...\n",
      "Building dependency tree...\n",
      "Reading state information...\n",
      "The following NEW packages will be installed:\n",
      "  net-tools\n",
      "0 upgraded, 1 newly installed, 0 to remove and 35 not upgraded.\n",
      "Need to get 196 kB of archives.\n",
      "After this operation, 864 kB of additional disk space will be used.\n",
      "Get:1 http://nova.clouds.archive.ubuntu.com/ubuntu focal/main amd64 net-tools amd64 1.60+git20180626.aebd88e-1ubuntu1 [196 kB]\n",
      "Fetched 196 kB in 1s (218 kB/s)\n",
      "Selecting previously unselected package net-tools.\n",
      "(Reading database ... 63527 files and directories currently installed.)\n",
      "Preparing to unpack .../net-tools_1.60+git20180626.aebd88e-1ubuntu1_amd64.deb ...\n",
      "Unpacking net-tools (1.60+git20180626.aebd88e-1ubuntu1) ...\n",
      "Setting up net-tools (1.60+git20180626.aebd88e-1ubuntu1) ...\n",
      "Processing triggers for man-db (2.9.1-1) ...\n",
      "\n",
      "\n",
      "WARNING: apt does not have a stable CLI interface. Use with caution in scripts.\n",
      "\n",
      "\n",
      "WARNING: apt does not have a stable CLI interface. Use with caution in scripts.\n",
      "\n",
      "debconf: unable to initialize frontend: Dialog\n",
      "debconf: (Dialog frontend will not work on a dumb terminal, an emacs shell buffer, or without a controlling terminal.)\n",
      "debconf: falling back to frontend: Readline\n",
      "debconf: unable to initialize frontend: Readline\n",
      "debconf: (This frontend requires a controlling tty.)\n",
      "debconf: falling back to frontend: Teletype\n",
      "dpkg-preconfigure: unable to re-open stdin: \n",
      "\n"
     ]
    }
   ],
   "source": [
    "stdin, stdout, stderr = client1.exec_command('sudo apt update && sudo apt install net-tools')\n",
    "print(stdout.read().decode(\"utf-8\"))\n",
    "print(stderr.read().decode(\"utf-8\"))\n",
    "stdin, stdout, stderr = client2.exec_command('sudo apt update && sudo apt install net-tools')\n",
    "print(stdout.read().decode(\"utf-8\"))\n",
    "print(stderr.read().decode(\"utf-8\"))"
   ]
  },
  {
   "cell_type": "markdown",
   "metadata": {},
   "source": [
    "### Let's see what interfaces we have."
   ]
  },
  {
   "cell_type": "code",
   "execution_count": 94,
   "metadata": {
    "tags": []
   },
   "outputs": [
    {
     "name": "stdout",
     "output_type": "stream",
     "text": [
      "1: lo: <LOOPBACK,UP,LOWER_UP> mtu 65536 qdisc noqueue state UNKNOWN group default qlen 1000\n",
      "    link/loopback 00:00:00:00:00:00 brd 00:00:00:00:00:00\n",
      "    inet 127.0.0.1/8 scope host lo\n",
      "       valid_lft forever preferred_lft forever\n",
      "    inet6 ::1/128 scope host \n",
      "       valid_lft forever preferred_lft forever\n",
      "2: ens3: <BROADCAST,MULTICAST,UP,LOWER_UP> mtu 9000 qdisc fq_codel state UP group default qlen 1000\n",
      "    link/ether fa:16:3e:02:33:cf brd ff:ff:ff:ff:ff:ff\n",
      "    inet 10.20.4.88/24 brd 10.20.4.255 scope global dynamic ens3\n",
      "       valid_lft 85778sec preferred_lft 85778sec\n",
      "    inet6 fe80::f816:3eff:fe02:33cf/64 scope link \n",
      "       valid_lft forever preferred_lft forever\n",
      "3: ens8: <BROADCAST,MULTICAST> mtu 1500 qdisc noop state DOWN group default qlen 1000\n",
      "    link/ether 36:84:ba:31:0e:88 brd ff:ff:ff:ff:ff:ff\n",
      "\n",
      "\n"
     ]
    }
   ],
   "source": [
    "stdin, stdout, stderr = client1.exec_command('ip a')\n",
    "print(stdout.read().decode(\"utf-8\"))\n",
    "print(stderr.read().decode(\"utf-8\"))"
   ]
  },
  {
   "cell_type": "markdown",
   "metadata": {},
   "source": [
    "### Node `n1` has only one interface (`ens8`), because we have requested a shared NIC."
   ]
  },
  {
   "cell_type": "code",
   "execution_count": 95,
   "metadata": {},
   "outputs": [
    {
     "name": "stdout",
     "output_type": "stream",
     "text": [
      "1: lo: <LOOPBACK,UP,LOWER_UP> mtu 65536 qdisc noqueue state UNKNOWN group default qlen 1000\n",
      "    link/loopback 00:00:00:00:00:00 brd 00:00:00:00:00:00\n",
      "    inet 127.0.0.1/8 scope host lo\n",
      "       valid_lft forever preferred_lft forever\n",
      "    inet6 ::1/128 scope host \n",
      "       valid_lft forever preferred_lft forever\n",
      "2: ens3: <BROADCAST,MULTICAST,UP,LOWER_UP> mtu 9000 qdisc fq_codel state UP group default qlen 1000\n",
      "    link/ether fa:16:3e:5c:d6:f3 brd ff:ff:ff:ff:ff:ff\n",
      "    inet 10.20.4.110/24 brd 10.20.4.255 scope global dynamic ens3\n",
      "       valid_lft 85772sec preferred_lft 85772sec\n",
      "    inet6 fe80::f816:3eff:fe5c:d6f3/64 scope link \n",
      "       valid_lft forever preferred_lft forever\n",
      "3: ens7: <BROADCAST,MULTICAST> mtu 1500 qdisc noop state DOWN group default qlen 1000\n",
      "    link/ether 0c:42:a1:91:75:0e brd ff:ff:ff:ff:ff:ff\n",
      "4: ens8: <BROADCAST,MULTICAST> mtu 1500 qdisc noop state DOWN group default qlen 1000\n",
      "    link/ether 0c:42:a1:91:75:0f brd ff:ff:ff:ff:ff:ff\n",
      "\n",
      "\n"
     ]
    }
   ],
   "source": [
    "stdin, stdout, stderr = client2.exec_command('ip a')\n",
    "print(stdout.read().decode(\"utf-8\"))\n",
    "print(stderr.read().decode(\"utf-8\"))"
   ]
  },
  {
   "cell_type": "markdown",
   "metadata": {},
   "source": [
    "### Node `n2` has two interfaces (`ens7` and `ens8`)."
   ]
  },
  {
   "cell_type": "markdown",
   "metadata": {},
   "source": [
    "<hr>"
   ]
  },
  {
   "cell_type": "markdown",
   "metadata": {},
   "source": [
    "### Now let's configure our interfaces."
   ]
  },
  {
   "cell_type": "markdown",
   "metadata": {},
   "source": [
    "### Let's begin by configuring `n1`'s NIC.\n",
    "\n",
    "### For a shared NIC, we don't need to worry about the tags. We can directly assign an IP address to the interface."
   ]
  },
  {
   "cell_type": "code",
   "execution_count": 97,
   "metadata": {},
   "outputs": [
    {
     "name": "stdout",
     "output_type": "stream",
     "text": [
      "\n",
      "\n"
     ]
    }
   ],
   "source": [
    "stdin, stdout, stderr = client1.exec_command('sudo ip addr add 192.168.10.51/24 dev ens8')\n",
    "print(stdout.read().decode(\"utf-8\"))\n",
    "print(stderr.read().decode(\"utf-8\"))"
   ]
  },
  {
   "cell_type": "code",
   "execution_count": 98,
   "metadata": {},
   "outputs": [
    {
     "name": "stdout",
     "output_type": "stream",
     "text": [
      "\n",
      "\n"
     ]
    }
   ],
   "source": [
    "stdin, stdout, stderr = client1.exec_command('sudo ip link set dev ens8 up')\n",
    "print(stdout.read().decode(\"utf-8\"))\n",
    "print(stderr.read().decode(\"utf-8\"))"
   ]
  },
  {
   "cell_type": "markdown",
   "metadata": {},
   "source": [
    "<hr>"
   ]
  },
  {
   "cell_type": "markdown",
   "metadata": {},
   "source": [
    "### Now let's configure `n2`'s NIC.\n",
    "\n",
    "### We need to add a new interface that picks traffic tagged `200` (as we specified when we were creating the slice).\n",
    "\n",
    "### We are going to create two \"vlan\" interfaces called `ens7.200` and `ens8.200`. They are going to pick traffic tagged `200` from their corresponding interfaces (`ens7` and `ens8` respectively).\n",
    "\n",
    "### And then we will assign IP addresses to `ens7.200` and `ens8.200`."
   ]
  },
  {
   "cell_type": "code",
   "execution_count": 99,
   "metadata": {},
   "outputs": [
    {
     "name": "stdout",
     "output_type": "stream",
     "text": [
      "\n",
      "\n"
     ]
    }
   ],
   "source": [
    "stdin, stdout, stderr = client2.exec_command('sudo ip link add link ens7 name ens7.200 type vlan id 200')\n",
    "print(stdout.read().decode(\"utf-8\"))\n",
    "print(stderr.read().decode(\"utf-8\"))"
   ]
  },
  {
   "cell_type": "code",
   "execution_count": 100,
   "metadata": {},
   "outputs": [
    {
     "name": "stdout",
     "output_type": "stream",
     "text": [
      "\n",
      "\n"
     ]
    }
   ],
   "source": [
    "stdin, stdout, stderr = client2.exec_command('sudo ip link set dev ens7 up')\n",
    "print(stdout.read().decode(\"utf-8\"))\n",
    "print(stderr.read().decode(\"utf-8\"))"
   ]
  },
  {
   "cell_type": "code",
   "execution_count": 101,
   "metadata": {},
   "outputs": [
    {
     "name": "stdout",
     "output_type": "stream",
     "text": [
      "\n",
      "\n"
     ]
    }
   ],
   "source": [
    "stdin, stdout, stderr = client2.exec_command('sudo ip link set dev ens7.200 up')\n",
    "print(stdout.read().decode(\"utf-8\"))\n",
    "print(stderr.read().decode(\"utf-8\"))"
   ]
  },
  {
   "cell_type": "code",
   "execution_count": 102,
   "metadata": {},
   "outputs": [
    {
     "name": "stdout",
     "output_type": "stream",
     "text": [
      "\n",
      "\n"
     ]
    }
   ],
   "source": [
    "stdin, stdout, stderr = client2.exec_command('sudo ip addr add 192.168.21.51/24 dev ens7.200')\n",
    "print(stdout.read().decode(\"utf-8\"))\n",
    "print(stderr.read().decode(\"utf-8\"))"
   ]
  },
  {
   "cell_type": "markdown",
   "metadata": {},
   "source": [
    "<hr>"
   ]
  },
  {
   "cell_type": "code",
   "execution_count": 103,
   "metadata": {},
   "outputs": [
    {
     "name": "stdout",
     "output_type": "stream",
     "text": [
      "\n",
      "\n"
     ]
    }
   ],
   "source": [
    "stdin, stdout, stderr = client2.exec_command('sudo ip link add link ens8 name ens8.200 type vlan id 200')\n",
    "print(stdout.read().decode(\"utf-8\"))\n",
    "print(stderr.read().decode(\"utf-8\"))"
   ]
  },
  {
   "cell_type": "code",
   "execution_count": 104,
   "metadata": {},
   "outputs": [
    {
     "name": "stdout",
     "output_type": "stream",
     "text": [
      "\n",
      "\n"
     ]
    }
   ],
   "source": [
    "stdin, stdout, stderr = client2.exec_command('sudo ip link set dev ens8 up')\n",
    "print(stdout.read().decode(\"utf-8\"))\n",
    "print(stderr.read().decode(\"utf-8\"))"
   ]
  },
  {
   "cell_type": "code",
   "execution_count": 105,
   "metadata": {},
   "outputs": [
    {
     "name": "stdout",
     "output_type": "stream",
     "text": [
      "\n",
      "\n"
     ]
    }
   ],
   "source": [
    "stdin, stdout, stderr = client2.exec_command('sudo ip link set dev ens8.200 up')\n",
    "print(stdout.read().decode(\"utf-8\"))\n",
    "print(stderr.read().decode(\"utf-8\"))"
   ]
  },
  {
   "cell_type": "code",
   "execution_count": 106,
   "metadata": {},
   "outputs": [
    {
     "name": "stdout",
     "output_type": "stream",
     "text": [
      "\n",
      "\n"
     ]
    }
   ],
   "source": [
    "stdin, stdout, stderr = client2.exec_command('sudo ip addr add 192.168.22.51/24 dev ens8.200')\n",
    "print(stdout.read().decode(\"utf-8\"))\n",
    "print(stderr.read().decode(\"utf-8\"))"
   ]
  },
  {
   "cell_type": "markdown",
   "metadata": {},
   "source": [
    "<hr>"
   ]
  },
  {
   "cell_type": "markdown",
   "metadata": {},
   "source": [
    "### Next thing to do is add routes.\n",
    "\n",
    "### For `n1`, we are going to direct traffic going to both `192.168.11.0` and `192.168.12.0` through `ens8`"
   ]
  },
  {
   "cell_type": "code",
   "execution_count": 120,
   "metadata": {},
   "outputs": [
    {
     "name": "stdout",
     "output_type": "stream",
     "text": [
      "\n",
      "\n"
     ]
    }
   ],
   "source": [
    "stdin, stdout, stderr = client1.exec_command('sudo route add -net 192.168.21.0/24 dev ens8')\n",
    "print(stdout.read().decode(\"utf-8\"))\n",
    "print(stderr.read().decode(\"utf-8\"))"
   ]
  },
  {
   "cell_type": "code",
   "execution_count": 121,
   "metadata": {},
   "outputs": [
    {
     "name": "stdout",
     "output_type": "stream",
     "text": [
      "\n",
      "\n"
     ]
    }
   ],
   "source": [
    "stdin, stdout, stderr = client1.exec_command('sudo route add -net 192.168.22.0/24 dev ens8')\n",
    "print(stdout.read().decode(\"utf-8\"))\n",
    "print(stderr.read().decode(\"utf-8\"))"
   ]
  },
  {
   "cell_type": "markdown",
   "metadata": {},
   "source": [
    "### For `n2`, we are going to direct traffic going to `192.168.10.0` through `ens7.200`."
   ]
  },
  {
   "cell_type": "code",
   "execution_count": 110,
   "metadata": {},
   "outputs": [
    {
     "name": "stdout",
     "output_type": "stream",
     "text": [
      "\n",
      "\n"
     ]
    }
   ],
   "source": [
    "stdin, stdout, stderr = client2.exec_command('sudo route add -net 192.168.10.0/24 dev ens7.200')\n",
    "print(stdout.read().decode(\"utf-8\"))\n",
    "print(stderr.read().decode(\"utf-8\"))"
   ]
  },
  {
   "cell_type": "markdown",
   "metadata": {},
   "source": [
    "<hr>"
   ]
  },
  {
   "cell_type": "markdown",
   "metadata": {},
   "source": [
    "### Now let's ping"
   ]
  },
  {
   "cell_type": "code",
   "execution_count": 122,
   "metadata": {},
   "outputs": [
    {
     "name": "stdout",
     "output_type": "stream",
     "text": [
      "PING 192.168.21.51 (192.168.21.51) 56(84) bytes of data.\n",
      "64 bytes from 192.168.21.51: icmp_seq=1 ttl=64 time=0.163 ms\n",
      "64 bytes from 192.168.21.51: icmp_seq=2 ttl=64 time=0.140 ms\n",
      "64 bytes from 192.168.21.51: icmp_seq=3 ttl=64 time=0.064 ms\n",
      "64 bytes from 192.168.21.51: icmp_seq=4 ttl=64 time=0.065 ms\n",
      "64 bytes from 192.168.21.51: icmp_seq=5 ttl=64 time=0.070 ms\n",
      "\n",
      "--- 192.168.21.51 ping statistics ---\n",
      "5 packets transmitted, 5 received, 0% packet loss, time 4076ms\n",
      "rtt min/avg/max/mdev = 0.064/0.100/0.163/0.042 ms\n",
      "\n",
      "\n"
     ]
    }
   ],
   "source": [
    "stdin, stdout, stderr = client1.exec_command('ping -c 5 192.168.21.51')\n",
    "print(stdout.read().decode(\"utf-8\"))\n",
    "print(stderr.read().decode(\"utf-8\"))"
   ]
  },
  {
   "cell_type": "code",
   "execution_count": 123,
   "metadata": {},
   "outputs": [
    {
     "name": "stdout",
     "output_type": "stream",
     "text": [
      "PING 192.168.22.51 (192.168.22.51) 56(84) bytes of data.\n",
      "64 bytes from 192.168.22.51: icmp_seq=1 ttl=64 time=0.140 ms\n",
      "64 bytes from 192.168.22.51: icmp_seq=2 ttl=64 time=0.053 ms\n",
      "64 bytes from 192.168.22.51: icmp_seq=3 ttl=64 time=0.054 ms\n",
      "64 bytes from 192.168.22.51: icmp_seq=4 ttl=64 time=0.070 ms\n",
      "64 bytes from 192.168.22.51: icmp_seq=5 ttl=64 time=0.079 ms\n",
      "\n",
      "--- 192.168.22.51 ping statistics ---\n",
      "5 packets transmitted, 5 received, 0% packet loss, time 4098ms\n",
      "rtt min/avg/max/mdev = 0.053/0.079/0.140/0.031 ms\n",
      "\n",
      "\n"
     ]
    }
   ],
   "source": [
    "stdin, stdout, stderr = client1.exec_command('ping -c 5 192.168.22.51')\n",
    "print(stdout.read().decode(\"utf-8\"))\n",
    "print(stderr.read().decode(\"utf-8\"))"
   ]
  },
  {
   "cell_type": "code",
   "execution_count": 125,
   "metadata": {},
   "outputs": [
    {
     "name": "stdout",
     "output_type": "stream",
     "text": [
      "PING 192.168.10.51 (192.168.10.51) 56(84) bytes of data.\n",
      "64 bytes from 192.168.10.51: icmp_seq=1 ttl=64 time=0.118 ms\n",
      "64 bytes from 192.168.10.51: icmp_seq=2 ttl=64 time=0.078 ms\n",
      "64 bytes from 192.168.10.51: icmp_seq=3 ttl=64 time=0.081 ms\n",
      "64 bytes from 192.168.10.51: icmp_seq=4 ttl=64 time=0.070 ms\n",
      "64 bytes from 192.168.10.51: icmp_seq=5 ttl=64 time=0.058 ms\n",
      "\n",
      "--- 192.168.10.51 ping statistics ---\n",
      "5 packets transmitted, 5 received, 0% packet loss, time 4085ms\n",
      "rtt min/avg/max/mdev = 0.058/0.081/0.118/0.020 ms\n",
      "\n",
      "\n"
     ]
    }
   ],
   "source": [
    "stdin, stdout, stderr = client2.exec_command('ping -c 5 192.168.10.51')\n",
    "print(stdout.read().decode(\"utf-8\"))\n",
    "print(stderr.read().decode(\"utf-8\"))"
   ]
  },
  {
   "cell_type": "markdown",
   "metadata": {},
   "source": [
    "### We can see that the interfaces are able to communicate to each other."
   ]
  },
  {
   "cell_type": "markdown",
   "metadata": {},
   "source": [
    "<hr>"
   ]
  },
  {
   "cell_type": "code",
   "execution_count": 126,
   "metadata": {},
   "outputs": [
    {
     "name": "stdout",
     "output_type": "stream",
     "text": [
      "1: lo: <LOOPBACK,UP,LOWER_UP> mtu 65536 qdisc noqueue state UNKNOWN group default qlen 1000\n",
      "    link/loopback 00:00:00:00:00:00 brd 00:00:00:00:00:00\n",
      "    inet 127.0.0.1/8 scope host lo\n",
      "       valid_lft forever preferred_lft forever\n",
      "    inet6 ::1/128 scope host \n",
      "       valid_lft forever preferred_lft forever\n",
      "2: ens3: <BROADCAST,MULTICAST,UP,LOWER_UP> mtu 9000 qdisc fq_codel state UP group default qlen 1000\n",
      "    link/ether fa:16:3e:02:33:cf brd ff:ff:ff:ff:ff:ff\n",
      "    inet 10.20.4.88/24 brd 10.20.4.255 scope global dynamic ens3\n",
      "       valid_lft 84478sec preferred_lft 84478sec\n",
      "    inet6 fe80::f816:3eff:fe02:33cf/64 scope link \n",
      "       valid_lft forever preferred_lft forever\n",
      "3: ens8: <BROADCAST,MULTICAST,UP,LOWER_UP> mtu 1500 qdisc mq state UP group default qlen 1000\n",
      "    link/ether 36:84:ba:31:0e:88 brd ff:ff:ff:ff:ff:ff\n",
      "    inet 192.168.10.51/24 scope global ens8\n",
      "       valid_lft forever preferred_lft forever\n",
      "    inet6 fe80::3484:baff:fe31:e88/64 scope link \n",
      "       valid_lft forever preferred_lft forever\n",
      "Kernel IP routing table\n",
      "Destination     Gateway         Genmask         Flags Metric Ref    Use Iface\n",
      "0.0.0.0         10.20.4.1       0.0.0.0         UG    100    0        0 ens3\n",
      "10.20.4.0       0.0.0.0         255.255.255.0   U     0      0        0 ens3\n",
      "169.254.169.254 10.20.4.1       255.255.255.255 UGH   100    0        0 ens3\n",
      "192.168.10.0    0.0.0.0         255.255.255.0   U     0      0        0 ens8\n",
      "192.168.21.0    0.0.0.0         255.255.255.0   U     0      0        0 ens8\n",
      "192.168.22.0    0.0.0.0         255.255.255.0   U     0      0        0 ens8\n",
      "\n",
      "\n"
     ]
    }
   ],
   "source": [
    "stdin, stdout, stderr = client1.exec_command('ip a && route -n')\n",
    "print(stdout.read().decode(\"utf-8\"))\n",
    "print(stderr.read().decode(\"utf-8\"))"
   ]
  },
  {
   "cell_type": "code",
   "execution_count": 127,
   "metadata": {},
   "outputs": [
    {
     "name": "stdout",
     "output_type": "stream",
     "text": [
      "1: lo: <LOOPBACK,UP,LOWER_UP> mtu 65536 qdisc noqueue state UNKNOWN group default qlen 1000\n",
      "    link/loopback 00:00:00:00:00:00 brd 00:00:00:00:00:00\n",
      "    inet 127.0.0.1/8 scope host lo\n",
      "       valid_lft forever preferred_lft forever\n",
      "    inet6 ::1/128 scope host \n",
      "       valid_lft forever preferred_lft forever\n",
      "2: ens3: <BROADCAST,MULTICAST,UP,LOWER_UP> mtu 9000 qdisc fq_codel state UP group default qlen 1000\n",
      "    link/ether fa:16:3e:5c:d6:f3 brd ff:ff:ff:ff:ff:ff\n",
      "    inet 10.20.4.110/24 brd 10.20.4.255 scope global dynamic ens3\n",
      "       valid_lft 84471sec preferred_lft 84471sec\n",
      "    inet6 fe80::f816:3eff:fe5c:d6f3/64 scope link \n",
      "       valid_lft forever preferred_lft forever\n",
      "3: ens7: <BROADCAST,MULTICAST,UP,LOWER_UP> mtu 1500 qdisc mq state UP group default qlen 1000\n",
      "    link/ether 0c:42:a1:91:75:0e brd ff:ff:ff:ff:ff:ff\n",
      "    inet6 fe80::e42:a1ff:fe91:750e/64 scope link \n",
      "       valid_lft forever preferred_lft forever\n",
      "4: ens8: <BROADCAST,MULTICAST,UP,LOWER_UP> mtu 1500 qdisc mq state UP group default qlen 1000\n",
      "    link/ether 0c:42:a1:91:75:0f brd ff:ff:ff:ff:ff:ff\n",
      "    inet6 fe80::e42:a1ff:fe91:750f/64 scope link \n",
      "       valid_lft forever preferred_lft forever\n",
      "5: ens7.200@ens7: <BROADCAST,MULTICAST,UP,LOWER_UP> mtu 1500 qdisc noqueue state UP group default qlen 1000\n",
      "    link/ether 0c:42:a1:91:75:0e brd ff:ff:ff:ff:ff:ff\n",
      "    inet 192.168.21.51/24 scope global ens7.200\n",
      "       valid_lft forever preferred_lft forever\n",
      "    inet6 fe80::e42:a1ff:fe91:750e/64 scope link \n",
      "       valid_lft forever preferred_lft forever\n",
      "6: ens8.200@ens8: <BROADCAST,MULTICAST,UP,LOWER_UP> mtu 1500 qdisc noqueue state UP group default qlen 1000\n",
      "    link/ether 0c:42:a1:91:75:0f brd ff:ff:ff:ff:ff:ff\n",
      "    inet 192.168.22.51/24 scope global ens8.200\n",
      "       valid_lft forever preferred_lft forever\n",
      "    inet6 fe80::e42:a1ff:fe91:750f/64 scope link \n",
      "       valid_lft forever preferred_lft forever\n",
      "Kernel IP routing table\n",
      "Destination     Gateway         Genmask         Flags Metric Ref    Use Iface\n",
      "0.0.0.0         10.20.4.1       0.0.0.0         UG    100    0        0 ens3\n",
      "10.20.4.0       0.0.0.0         255.255.255.0   U     0      0        0 ens3\n",
      "169.254.169.254 10.20.4.1       255.255.255.255 UGH   100    0        0 ens3\n",
      "192.168.10.0    0.0.0.0         255.255.255.0   U     0      0        0 ens7.200\n",
      "192.168.21.0    0.0.0.0         255.255.255.0   U     0      0        0 ens7.200\n",
      "192.168.22.0    0.0.0.0         255.255.255.0   U     0      0        0 ens8.200\n",
      "\n",
      "\n"
     ]
    }
   ],
   "source": [
    "stdin, stdout, stderr = client2.exec_command('ip a && route -n')\n",
    "print(stdout.read().decode(\"utf-8\"))\n",
    "print(stderr.read().decode(\"utf-8\"))"
   ]
  }
 ],
 "metadata": {
  "kernelspec": {
   "display_name": "Python 3",
   "language": "python",
   "name": "python3"
  },
  "language_info": {
   "codemirror_mode": {
    "name": "ipython",
    "version": 3
   },
   "file_extension": ".py",
   "mimetype": "text/x-python",
   "name": "python",
   "nbconvert_exporter": "python",
   "pygments_lexer": "ipython3",
   "version": "3.9.2"
  }
 },
 "nbformat": 4,
 "nbformat_minor": 4
}

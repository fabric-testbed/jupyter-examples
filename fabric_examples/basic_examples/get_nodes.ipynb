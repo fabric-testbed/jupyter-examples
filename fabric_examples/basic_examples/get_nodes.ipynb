{
 "cells": [
  {
   "cell_type": "markdown",
   "id": "60e3fd3a-d102-4626-9849-755cfdd24948",
   "metadata": {},
   "source": [
    "# FABRIC API: Get Nodes from an Existing Slice\n"
   ]
  },
  {
   "cell_type": "markdown",
   "id": "39d63200-f6fe-420a-977c-04ad25186f65",
   "metadata": {},
   "source": [
    "## Configure the environment"
   ]
  },
  {
   "cell_type": "code",
   "execution_count": null,
   "id": "bdd5a874",
   "metadata": {},
   "outputs": [],
   "source": [
    "import os\n",
    "from fabrictestbed.slice_manager import SliceManager, Status, SliceState\n",
    "import json"
   ]
  },
  {
   "cell_type": "code",
   "execution_count": null,
   "id": "4f28a966-d33c-4cd5-a7a6-80c546cc2010",
   "metadata": {},
   "outputs": [],
   "source": [
    "credmgr_host = os.environ['FABRIC_CREDMGR_HOST']\n",
    "print(f\"FABRIC Credential Manager   : {credmgr_host}\")\n",
    "\n",
    "orchestrator_host = os.environ['FABRIC_ORCHESTRATOR_HOST']\n",
    "print(f\"FABRIC Orchestrator         : {orchestrator_host}\")"
   ]
  },
  {
   "cell_type": "markdown",
   "id": "f44435c0-eef3-4a0d-a0f4-b97470ceccfd",
   "metadata": {},
   "source": [
    "## Create slice manager object"
   ]
  },
  {
   "cell_type": "code",
   "execution_count": null,
   "id": "50dc65b2-0166-4eb1-a7e5-7e5d63ab29d4",
   "metadata": {},
   "outputs": [],
   "source": [
    "slice_manager = SliceManager(oc_host=orchestrator_host, cm_host=credmgr_host, project_name='all', scope='all')\n",
    "\n",
    "# Initialize the slice manager\n",
    "slice_manager.initialize()"
   ]
  },
  {
   "cell_type": "markdown",
   "id": "880fc5a7-711a-4dfb-b7d8-568d4c6f3899",
   "metadata": {},
   "source": [
    "## Configure Slice Parameters\n",
    "\n"
   ]
  },
  {
   "cell_type": "code",
   "execution_count": null,
   "id": "7289b48f-5717-412f-a791-7bb481a500d3",
   "metadata": {},
   "outputs": [],
   "source": [
    "slice_name='MySlice'"
   ]
  },
  {
   "cell_type": "markdown",
   "id": "dd4dee7e-3088-41e5-9c53-f0eacd68c38b",
   "metadata": {
    "tags": []
   },
   "source": [
    "## Query Slices\n",
    "\n",
    "You can get a list of all your slices from the slice manager. If this is your first slice, it should return only one slice.\n",
    "\n",
    "Note that the status returned by the call to slices indicates the success or failure of the call to the FABRIC control framework. The status is not the status of the slices.  The status of each slice is included in the list of slices."
   ]
  },
  {
   "cell_type": "code",
   "execution_count": null,
   "id": "3477b109-0ba2-4bca-97ed-96d412ed8164",
   "metadata": {},
   "outputs": [],
   "source": [
    "return_status, slices = slice_manager.slices(excludes=[SliceState.Dead,SliceState.Closing])\n",
    "\n",
    "if return_status == Status.OK:\n",
    "    for slice in slices:\n",
    "        print(\"{}:\".format(slice.slice_name))\n",
    "        print(\"   ID         : {}\".format(slice.slice_id))\n",
    "        print(\"   State      : {}\".format(slice.slice_state))\n",
    "        print(\"   Lease End  : {}\".format(slice.lease_end))\n",
    "        print()\n",
    "else:\n",
    "    print(f\"Failure: {slices}\")"
   ]
  },
  {
   "cell_type": "markdown",
   "id": "2a651ab0-7523-4a27-ae44-6adcfd36e293",
   "metadata": {
    "tags": []
   },
   "source": [
    "## Get the Slice\n",
    "\n",
    "You slice is in the list of all your slices. You can loop through the list of slices to get the slice. Python has a standard tool to filter lists. Try using a lambda function to filter out your slice using its name."
   ]
  },
  {
   "cell_type": "code",
   "execution_count": null,
   "id": "0bbcccd0-3958-4ea1-b625-46625dd3d650",
   "metadata": {},
   "outputs": [],
   "source": [
    "slice = list(filter(lambda x: x.slice_name == slice_name, slices))[0]\n",
    "\n",
    "print(\"Slice Name : {}\".format(slice.slice_name))\n",
    "print(\"ID         : {}\".format(slice.slice_id))\n",
    "print(\"State      : {}\".format(slice.slice_state))\n",
    "print(\"Lease End  : {}\".format(slice.lease_end))"
   ]
  },
  {
   "cell_type": "markdown",
   "id": "733edb5c-6029-4661-9a4f-a3136d62bf13",
   "metadata": {
    "tags": []
   },
   "source": [
    "## Get the Slice Topology"
   ]
  },
  {
   "cell_type": "code",
   "execution_count": null,
   "id": "393ed9b4-98a9-4295-b479-caac22386eed",
   "metadata": {},
   "outputs": [],
   "source": [
    "return_status, experiment_topology = slice_manager.get_slice_topology(slice_object=slice)"
   ]
  },
  {
   "cell_type": "markdown",
   "id": "4773d193-d958-41a4-9c3c-137e57e37cc5",
   "metadata": {},
   "source": [
    "## Get each Node\n",
    "\n",
    "You can get the nodes from the topology. Each node has various properties."
   ]
  },
  {
   "cell_type": "code",
   "execution_count": null,
   "id": "22cf5bc4-30fa-4d4d-99da-1bd3e24c2cfe",
   "metadata": {},
   "outputs": [],
   "source": [
    "for node_name, node in experiment_topology.nodes.items():\n",
    "    print(\"Node:\")\n",
    "    print(\"   Name              : {}\".format(node.name))\n",
    "    print(\"   Cores             : {}\".format(node.get_property(pname='capacity_allocations').core))\n",
    "    print(\"   RAM               : {}\".format(node.get_property(pname='capacity_allocations').ram))\n",
    "    print(\"   Disk              : {}\".format(node.get_property(pname='capacity_allocations').disk))\n",
    "    print(\"   Image             : {}\".format(node.get_property(pname='image_ref')))\n",
    "    print(\"   Image Type        : {}\".format(node.get_property(pname='image_type')))\n",
    "    print(\"   Host              : {}\".format(node.get_property(pname='label_allocations').instance_parent))\n",
    "    print(\"   Site              : {}\".format(node.get_property(pname='site')))\n",
    "    print(\"   Management IP     : {}\".format(node.get_property(pname='management_ip')))\n",
    "    print(\"   Reservation ID    : {}\".format(node.get_property(pname='reservation_info').reservation_id))\n",
    "    print(\"   Reservation State : {}\".format(node.get_property(pname='reservation_info').reservation_state))\n",
    "    print(\"   Components        : {}\".format(node.components))\n",
    "    print(\"   Interfaces        : {}\".format(node.interfaces))\n",
    "    print()    "
   ]
  },
  {
   "cell_type": "code",
   "execution_count": null,
   "id": "a34fd45a-c8c1-478e-9559-befbe5df7ddf",
   "metadata": {},
   "outputs": [],
   "source": []
  }
 ],
 "metadata": {
  "kernelspec": {
   "display_name": "Python 3 (ipykernel)",
   "language": "python",
   "name": "python3"
  },
  "language_info": {
   "codemirror_mode": {
    "name": "ipython",
    "version": 3
   },
   "file_extension": ".py",
   "mimetype": "text/x-python",
   "name": "python",
   "nbconvert_exporter": "python",
   "pygments_lexer": "ipython3",
   "version": "3.9.2"
  }
 },
 "nbformat": 4,
 "nbformat_minor": 5
}

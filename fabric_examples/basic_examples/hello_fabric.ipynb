{
 "cells": [
  {
   "cell_type": "markdown",
   "metadata": {},
   "source": [
    "# Hello, FABRIC: Create your first FABRIC slice\n",
    "\n",
    "\n",
    "## Configure the Environment\n",
    "\n",
    "### Create the FABRIC Proxies\n",
    "\n",
    "The FABRIC API is used via proxy objects that manage connections to the control framework. \n"
   ]
  },
  {
   "cell_type": "code",
   "execution_count": null,
   "metadata": {},
   "outputs": [],
   "source": [
    "import os\n",
    "from fabrictestbed.slice_manager import SliceManager, Status, SliceState\n",
    "import json"
   ]
  },
  {
   "cell_type": "code",
   "execution_count": null,
   "metadata": {},
   "outputs": [],
   "source": [
    "ssh_key_file_priv=os.environ['HOME']+\"/.ssh/id_rsa\"\n",
    "ssh_key_file_pub=os.environ['HOME']+\"/.ssh/id_rsa.pub\"\n",
    "\n",
    "ssh_key_pub = None\n",
    "with open (ssh_key_file_pub, \"r\") as myfile:\n",
    "    ssh_key_pub=myfile.read()\n",
    "    ssh_key_pub=ssh_key_pub.strip()"
   ]
  },
  {
   "cell_type": "code",
   "execution_count": null,
   "metadata": {},
   "outputs": [],
   "source": [
    "credmgr_host = os.environ['FABRIC_CREDMGR_HOST']\n",
    "print(f\"FABRIC Credential Manager   : {credmgr_host}\")\n",
    "\n",
    "orchestrator_host = os.environ['FABRIC_ORCHESTRATOR_HOST']\n",
    "print(f\"FABRIC Orchestrator         : {orchestrator_host}\")"
   ]
  },
  {
   "cell_type": "markdown",
   "metadata": {},
   "source": [
    "## Create Slice Manager Object\n",
    "Users can request tokens with different Project and Scopes by altering `project_name` and `scope` parameters in the refresh call below."
   ]
  },
  {
   "cell_type": "code",
   "execution_count": null,
   "metadata": {},
   "outputs": [],
   "source": [
    "slice_manager = SliceManager(oc_host=orchestrator_host, \n",
    "                             cm_host=credmgr_host ,\n",
    "                             project_name='all', \n",
    "                             scope='all')\n",
    "\n",
    "# Initialize the slice manager\n",
    "slice_manager.initialize()"
   ]
  },
  {
   "cell_type": "markdown",
   "metadata": {},
   "source": [
    "### Orchestrator API example to query for available resources"
   ]
  },
  {
   "cell_type": "code",
   "execution_count": null,
   "metadata": {},
   "outputs": [],
   "source": [
    "return_status, advertised_topology = slice_manager.resources()\n",
    "\n",
    "if return_status == Status.OK:\n",
    "    print(f\"Toplogy: {advertised_topology}\")\n",
    "else:\n",
    "    print(f\"Error: {advertised_topology}\")"
   ]
  },
  {
   "cell_type": "code",
   "execution_count": null,
   "metadata": {},
   "outputs": [],
   "source": [
    "if return_status == Status.OK:\n",
    "    advertised_topology.draw()"
   ]
  },
  {
   "cell_type": "markdown",
   "metadata": {
    "tags": []
   },
   "source": [
    "## Configure Slice Parameters\n",
    "\n"
   ]
  },
  {
   "cell_type": "code",
   "execution_count": null,
   "metadata": {},
   "outputs": [],
   "source": [
    "slice_name = 'MySlice'\n",
    "site = 'RENC'\n",
    "node_name = 'Node1'\n",
    "image = 'default_centos_8'\n",
    "image_type = 'qcow2'\n",
    "cores = 2\n",
    "ram = 2\n",
    "disk = 2"
   ]
  },
  {
   "cell_type": "markdown",
   "metadata": {
    "tags": []
   },
   "source": [
    "## Create Slice\n",
    "\n",
    "Creates a single node with basic compute capabilities.\n",
    "\n",
    "<img src=\"./figs/SingleNode.png\" width=\"40%\"><br>\n"
   ]
  },
  {
   "cell_type": "code",
   "execution_count": null,
   "metadata": {},
   "outputs": [],
   "source": [
    "from fabrictestbed.slice_editor import ExperimentTopology, Capacities, ComponentType, ComponentModelType, ServiceType\n",
    "# Create topology\n",
    "experiment = ExperimentTopology()\n",
    "\n",
    "# Add node\n",
    "node = experiment.add_node(name=node_name, site=site)\n",
    "\n",
    "# Set capacities\n",
    "cap = Capacities()\n",
    "cap.set_fields(core=cores, ram=ram, disk=disk)\n",
    "\n",
    "# Set Properties\n",
    "node.set_properties(capacities=cap, image_type=image_type, image_ref=image)\n",
    "\n",
    "# Generate Slice Graph\n",
    "slice_graph = experiment.serialize()\n",
    "\n",
    "# Request slice from Orchestrator\n",
    "return_status, slice_reservations = slice_manager.create(slice_name=slice_name, slice_graph=slice_graph, ssh_key=ssh_key_pub)\n",
    "\n",
    "if return_status == Status.OK:\n",
    "    slice_id = slice_reservations[0].get_slice_id()\n",
    "    print(\"Submitted slice creation request. Slice ID: {}\".format(slice_id))\n",
    "else:\n",
    "    print(f\"Failure: {slice_reservations}\")"
   ]
  },
  {
   "cell_type": "markdown",
   "metadata": {
    "tags": []
   },
   "source": [
    "## Query Slices\n",
    "\n",
    "You can get a list of all your slices from the slice manager. If this is your first slice, it should return only one slice.\n",
    "\n",
    "Note that the status returned by the call to slices indicates the success or failure of the call to the FABRIC control framework. The status is not the status of the slices.  The status of each slice is included in the list of slices."
   ]
  },
  {
   "cell_type": "code",
   "execution_count": null,
   "metadata": {},
   "outputs": [],
   "source": [
    "return_status, slices = slice_manager.slices(excludes=[SliceState.Dead])\n",
    "\n",
    "if return_status == Status.OK:\n",
    "    for slice in slices:\n",
    "        print(\"{}:\".format(slice.slice_name))\n",
    "        print(\"   ID         : {}\".format(slice.slice_id))\n",
    "        print(\"   State      : {}\".format(slice.slice_state))\n",
    "        print(\"   Lease End  : {}\".format(slice.lease_end))\n",
    "        print()\n",
    "else:\n",
    "    print(f\"Failure: {slices}\")"
   ]
  },
  {
   "cell_type": "markdown",
   "metadata": {},
   "source": [
    "## Get the New Slice\n",
    "\n",
    "You new slice is in the list of all your slices. You can loop through the list of slices to get the new slice. Python has a standard tool to filter lists. Try using a lambda function to filter out your slice using its name."
   ]
  },
  {
   "cell_type": "code",
   "execution_count": null,
   "metadata": {},
   "outputs": [],
   "source": [
    "slice = list(filter(lambda x: x.slice_name == slice_name, slices))[0]\n",
    "\n",
    "print(\"Slice Name : {}\".format(slice.slice_name))\n",
    "print(\"ID         : {}\".format(slice.slice_id))\n",
    "print(\"State      : {}\".format(slice.slice_state))\n",
    "print(\"Lease End  : {}\".format(slice.lease_end))"
   ]
  },
  {
   "cell_type": "markdown",
   "metadata": {},
   "source": [
    "## Wait for the Slice to Build"
   ]
  },
  {
   "cell_type": "code",
   "execution_count": null,
   "metadata": {},
   "outputs": [],
   "source": [
    "import time\n",
    "def wait_for_slice(slice,timeout=180,interval=10,progress=False):\n",
    "    timeout_start = time.time()\n",
    "\n",
    "    if progress: print(\"Waiting for slice .\", end = '')\n",
    "    while time.time() < timeout_start + timeout:\n",
    "        return_status, slices = slice_manager.slices(excludes=[SliceState.Dead,SliceState.Closing])\n",
    "\n",
    "        if return_status == Status.OK:\n",
    "            slice = list(filter(lambda x: x.slice_name == slice_name, slices))[0]\n",
    "            if slice.slice_state == \"StableOK\":\n",
    "                if progress: print(\" Slice state: {}\".format(slice.slice_state))\n",
    "                return slice\n",
    "            if slice.slice_state == \"Closing\" or slice.slice_state == \"Dead\":\n",
    "                if progress: print(\" Slice state: {}\".format(slice.slice_state))\n",
    "                return slice    \n",
    "        else:\n",
    "            print(f\"Failure: {slices}\")\n",
    "        \n",
    "        if progress: print(\".\", end = '')\n",
    "        time.sleep(interval)\n",
    "    \n",
    "    if time.time() >= timeout_start + timeout:\n",
    "        if progress: print(\" Timeout exceeded ({} sec). Slice: {} ({})\".format(timeout,slice.slice_name,slice.slice_state))\n",
    "        return slice    \n",
    "\n",
    "            \n",
    "            \n",
    "slice = wait_for_slice(slice, progress=True)\n",
    "print()\n",
    "\n",
    "print(\"Slice Name : {}\".format(slice.slice_name))\n",
    "print(\"ID         : {}\".format(slice.slice_id))\n",
    "print(\"State      : {}\".format(slice.slice_state))\n",
    "print(\"Lease End  : {}\".format(slice.lease_end))"
   ]
  },
  {
   "cell_type": "markdown",
   "metadata": {
    "tags": []
   },
   "source": [
    "## Get the Slice Topology"
   ]
  },
  {
   "cell_type": "code",
   "execution_count": null,
   "metadata": {},
   "outputs": [],
   "source": [
    "return_status, experiment_topology = slice_manager.get_slice_topology(slice_object=slice)\n",
    "\n",
    "for node_name, node in experiment_topology.nodes.items():\n",
    "    print(\"Node:\")\n",
    "    print(\"   Name              : {}\".format(node.name))\n",
    "    print(\"   Cores             : {}\".format(node.get_property(pname='capacity_allocations').core))\n",
    "    print(\"   RAM               : {}\".format(node.get_property(pname='capacity_allocations').ram))\n",
    "    print(\"   Disk              : {}\".format(node.get_property(pname='capacity_allocations').disk))\n",
    "    print(\"   Image             : {}\".format(node.image_ref))\n",
    "    print(\"   Image Type        : {}\".format(node.image_type))\n",
    "    print(\"   Host              : {}\".format(node.get_property(pname='label_allocations').instance_parent))\n",
    "    print(\"   Site              : {}\".format(node.site))\n",
    "    print(\"   Management IP     : {}\".format(node.management_ip))\n",
    "    print(\"   Reservation ID    : {}\".format(node.get_property(pname='reservation_info').reservation_id))\n",
    "    print(\"   Reservation State : {}\".format(node.get_property(pname='reservation_info').reservation_state))\n",
    "    print(\"   Components        : {}\".format(node.components))\n",
    "    print(\"   Interfaces        : {}\".format(node.interfaces))\n",
    "    print()    \n"
   ]
  },
  {
   "cell_type": "markdown",
   "metadata": {},
   "source": [
    "## Log into the nodes"
   ]
  },
  {
   "cell_type": "code",
   "execution_count": null,
   "metadata": {},
   "outputs": [],
   "source": [
    "script= '#!/bin/bash  \\n' \\\n",
    "        'echo Hello, FABRIC from node `hostname -s`   \\n'"
   ]
  },
  {
   "cell_type": "code",
   "execution_count": null,
   "metadata": {},
   "outputs": [],
   "source": [
    "import paramiko \n",
    "\n",
    "key = paramiko.RSAKey.from_private_key_file(ssh_key_file_priv)\n",
    "client = paramiko.SSHClient()\n",
    "client.load_system_host_keys()\n",
    "client.set_missing_host_key_policy(paramiko.MissingHostKeyPolicy())\n",
    "client.set_missing_host_key_policy(paramiko.AutoAddPolicy())\n",
    "\n",
    "for node_name, node in experiment_topology.nodes.items():\n",
    "    management_ip = str(node.get_property(pname='management_ip'))\n",
    "    print(\"Node {0} IP {1}\".format(node_name, management_ip))\n",
    "    \n",
    "    client.connect(management_ip,username='centos',pkey = key)\n",
    "\n",
    "    stdin, stdout, stderr = client.exec_command('echo \\\"' + script + '\\\" > script.sh; chmod +x script.sh; sudo ./script.sh')\n",
    "    print ('')\n",
    "    print (str(stdout.read(),'utf-8').replace('\\\\n','\\n'))\n",
    "\n",
    "    client.close()"
   ]
  },
  {
   "cell_type": "markdown",
   "metadata": {
    "tags": []
   },
   "source": [
    "## Delete Slice"
   ]
  },
  {
   "cell_type": "code",
   "execution_count": null,
   "metadata": {},
   "outputs": [],
   "source": [
    "return_status, result = slice_manager.delete(slice_object=slice)\n",
    "\n",
    "print(\"Response Status {}\".format(return_status))\n",
    "print(\"Response received {}\".format(result))"
   ]
  },
  {
   "cell_type": "code",
   "execution_count": null,
   "metadata": {},
   "outputs": [],
   "source": []
  }
 ],
 "metadata": {
  "kernelspec": {
   "display_name": "Python 3 (ipykernel)",
   "language": "python",
   "name": "python3"
  },
  "language_info": {
   "codemirror_mode": {
    "name": "ipython",
    "version": 3
   },
   "file_extension": ".py",
   "mimetype": "text/x-python",
   "name": "python",
   "nbconvert_exporter": "python",
   "pygments_lexer": "ipython3",
   "version": "3.9.7"
  }
 },
 "nbformat": 4,
 "nbformat_minor": 4
}

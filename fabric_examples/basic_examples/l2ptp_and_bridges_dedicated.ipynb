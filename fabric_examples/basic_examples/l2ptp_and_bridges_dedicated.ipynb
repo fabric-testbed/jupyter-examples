{
 "cells": [
  {
   "cell_type": "markdown",
   "metadata": {},
   "source": [
    "## In this notebook, we are going to set up a point to point link between two sites, and set up bridges that are inside the sites.\n",
    "\n",
    "## We are going to let a node in one site ping the node in the other site through the bridges and the ptp link.\n",
    "\n",
    "The path is first going to go from the origin node through the local bridge in the local site, then through the ptp link, then through the remote bridge in the remote site, then to the destination node."
   ]
  },
  {
   "cell_type": "code",
   "execution_count": 9,
   "metadata": {},
   "outputs": [],
   "source": [
    "import os\n",
    "from fabrictestbed.slice_manager import SliceManager, Status\n",
    "import json"
   ]
  },
  {
   "cell_type": "code",
   "execution_count": 10,
   "metadata": {},
   "outputs": [
    {
     "name": "stdout",
     "output_type": "stream",
     "text": [
      "CM Host: beta-2.fabric-testbed.net Orchestrator Host: beta-7.fabric-testbed.net\n"
     ]
    }
   ],
   "source": [
    "credmgr_host = os.environ['FABRIC_CREDMGR_HOST']\n",
    "orchestrator_host = os.environ['FABRIC_ORCHESTRATOR_HOST']\n",
    "print(f\"CM Host: {credmgr_host} Orchestrator Host: {orchestrator_host}\")"
   ]
  },
  {
   "cell_type": "code",
   "execution_count": 11,
   "metadata": {},
   "outputs": [],
   "source": [
    "slice_manager = SliceManager(oc_host=orchestrator_host, cm_host=credmgr_host, project_name='all', scope='all')\n",
    "\n",
    "# Initialize the slice manager\n",
    "slice_manager.initialize()"
   ]
  },
  {
   "cell_type": "code",
   "execution_count": 30,
   "metadata": {},
   "outputs": [
    {
     "name": "stdout",
     "output_type": "stream",
     "text": [
      "Status: Status.OK\n",
      "Toplogy: LBNL: { cpu: 6/6 , core: 188/192 , ram: 1,524/1,536 G, disk: 9,580/9,600 G, unit: 3/3 }\n",
      "\tComponents:\n",
      "\t\tNVME-P4510:  NVME P4510 { disk: 10,000/10,000 G, unit: 10/10 }\n",
      "\t\tGPU-RTX6000:  GPU RTX6000 { unit: 2/2 }\n",
      "\t\tGPU-Tesla T4:  GPU Tesla T4 { unit: 4/4 }\n",
      "\t\tSharedNIC-ConnectX-6:  SharedNIC ConnectX-6 { unit: 379/381 }\n",
      "\t\tSmartNIC-ConnectX-6:  SmartNIC ConnectX-6 { unit: 2/2 }\n",
      "\t\tSmartNIC-ConnectX-5:  SmartNIC ConnectX-5 { unit: 2/2 }\n",
      "\tSite Interfaces:\n",
      "UKY: { cpu: 6/6 , core: 190/192 , ram: 1,530/1,536 G, disk: 9,590/9,600 G, unit: 3/3 }\n",
      "\tComponents:\n",
      "\t\tSmartNIC-ConnectX-6:  SmartNIC ConnectX-6 { unit: 2/2 }\n",
      "\t\tSmartNIC-ConnectX-5:  SmartNIC ConnectX-5 { unit: 2/2 }\n",
      "\t\tGPU-RTX6000:  GPU RTX6000 { unit: 2/2 }\n",
      "\t\tGPU-Tesla T4:  GPU Tesla T4 { unit: 4/4 }\n",
      "\t\tNVME-P4510:  NVME P4510 { disk: 9,000/10,000 G, unit: 9/10 }\n",
      "\t\tSharedNIC-ConnectX-6:  SharedNIC ConnectX-6 { unit: 380/381 }\n",
      "\tSite Interfaces:\n",
      "RENC\n",
      "\tComponents:\n",
      "\t\tNVME-P4510:  NVME P4510 { disk: 10,000/10,000 G, unit: 10/10 }\n",
      "\t\tSharedNIC-ConnectX-6:  SharedNIC ConnectX-6 { unit: 381/381 }\n",
      "\t\tGPU-RTX6000:  GPU RTX6000 { unit: 2/2 }\n",
      "\t\tGPU-Tesla T4:  GPU Tesla T4 { unit: 4/4 }\n",
      "\t\tSmartNIC-ConnectX-6:  SmartNIC ConnectX-6 { unit: 2/2 }\n",
      "\t\tSmartNIC-ConnectX-5:  SmartNIC ConnectX-5 { unit: 2/2 }\n",
      "\tSite Interfaces:\n",
      "STAR\n",
      "\tComponents:\n",
      "\tSite Interfaces:\n",
      "Links:\n"
     ]
    }
   ],
   "source": [
    "status, advertised_topology = slice_manager.resources()\n",
    "\n",
    "print(f\"Status: {status}\")\n",
    "if status == Status.OK:\n",
    "    print(f\"Toplogy: {advertised_topology}\")\n",
    "else:\n",
    "    print(f\"Error: {advertised_topology}\")"
   ]
  },
  {
   "cell_type": "code",
   "execution_count": 13,
   "metadata": {},
   "outputs": [
    {
     "data": {
      "image/png": "[encoded data removed]",
      "text/plain": [
       "<Figure size 432x288 with 1 Axes>"
      ]
     },
     "metadata": {},
     "output_type": "display_data"
    }
   ],
   "source": [
    "if status == Status.OK:\n",
    "    advertised_topology.draw()"
   ]
  },
  {
   "cell_type": "markdown",
   "metadata": {},
   "source": [
    "### You can take a look below at the configuration that we are going to request."
   ]
  },
  {
   "cell_type": "code",
   "execution_count": 31,
   "metadata": {},
   "outputs": [
    {
     "name": "stdout",
     "output_type": "stream",
     "text": [
      "Response Status Status.OK\n",
      "Reservations created [{\n",
      "    \"graph_node_id\": \"9e1656f4-91db-4463-891f-8b12af4fd4b1\",\n",
      "    \"lease_end\": \"2021-09-06 00:40:09\",\n",
      "    \"pending_state\": \"None_\",\n",
      "    \"reservation_id\": \"127d202f-e785-41c0-ba87-6495b7eb1493\",\n",
      "    \"reservation_state\": \"Unknown\",\n",
      "    \"slice_id\": \"116150b3-f185-412e-bd0b-3e922d06a785\"\n",
      "}, {\n",
      "    \"graph_node_id\": \"8b445611-63e2-4330-80df-0b1fd61fa4a7\",\n",
      "    \"lease_end\": \"2021-09-06 00:40:09\",\n",
      "    \"pending_state\": \"None_\",\n",
      "    \"reservation_id\": \"f5ba3a55-43bf-4e77-8416-0c7c6809bd16\",\n",
      "    \"reservation_state\": \"Unknown\",\n",
      "    \"slice_id\": \"116150b3-f185-412e-bd0b-3e922d06a785\"\n",
      "}, {\n",
      "    \"graph_node_id\": \"e32812c5-c663-4ed3-8d9a-667b5d8a8980\",\n",
      "    \"lease_end\": \"2021-09-06 00:40:09\",\n",
      "    \"pending_state\": \"None_\",\n",
      "    \"reservation_id\": \"8d4cc800-239e-4751-b492-af10f4992c29\",\n",
      "    \"reservation_state\": \"Unknown\",\n",
      "    \"slice_id\": \"116150b3-f185-412e-bd0b-3e922d06a785\"\n",
      "}, {\n",
      "    \"graph_node_id\": \"7421d22f-dfb7-4153-97ef-178e1bd0766a\",\n",
      "    \"lease_end\": \"2021-09-06 00:40:09\",\n",
      "    \"pending_state\": \"None_\",\n",
      "    \"reservation_id\": \"118c5d3c-e07d-4d0f-887b-7d6ccac8352d\",\n",
      "    \"reservation_state\": \"Unknown\",\n",
      "    \"slice_id\": \"116150b3-f185-412e-bd0b-3e922d06a785\"\n",
      "}, {\n",
      "    \"graph_node_id\": \"09160e58-968b-4baf-8b8d-707274615b46\",\n",
      "    \"lease_end\": \"2021-09-06 00:40:09\",\n",
      "    \"pending_state\": \"None_\",\n",
      "    \"reservation_id\": \"137643f1-d16d-45bb-a6b0-c2a71d5e4097\",\n",
      "    \"reservation_state\": \"Unknown\",\n",
      "    \"slice_id\": \"116150b3-f185-412e-bd0b-3e922d06a785\"\n",
      "}, {\n",
      "    \"graph_node_id\": \"14029984-5848-46ec-9541-d0c58e4b03be\",\n",
      "    \"lease_end\": \"2021-09-06 00:40:09\",\n",
      "    \"pending_state\": \"None_\",\n",
      "    \"reservation_id\": \"c445606c-d4b0-4345-8927-8ec44b966c96\",\n",
      "    \"reservation_state\": \"Unknown\",\n",
      "    \"slice_id\": \"116150b3-f185-412e-bd0b-3e922d06a785\"\n",
      "}, {\n",
      "    \"graph_node_id\": \"27666bd0-3f4f-4ac2-8518-89d9510d0ddf\",\n",
      "    \"lease_end\": \"2021-09-06 00:40:09\",\n",
      "    \"pending_state\": \"None_\",\n",
      "    \"reservation_id\": \"6e81b46e-323c-4451-8591-900748424f1a\",\n",
      "    \"reservation_state\": \"Unknown\",\n",
      "    \"slice_id\": \"116150b3-f185-412e-bd0b-3e922d06a785\"\n",
      "}]\n"
     ]
    }
   ],
   "source": [
    "from fabrictestbed.slice_editor import ExperimentTopology, Capacities, ComponentType, ComponentModelType, ServiceType\n",
    "# Create topology\n",
    "t = ExperimentTopology()\n",
    "\n",
    "# Set capacities\n",
    "cap = Capacities()\n",
    "cap.set_fields(core=2, ram=6, disk=10)\n",
    "\n",
    "# Add node\n",
    "n1 = t.add_node(name='n1', site='UKY')\n",
    "# Set Properties\n",
    "n1.set_properties(capacities=cap, image_type='qcow2', image_ref='default_ubuntu_20')\n",
    "\n",
    "# Add node\n",
    "nr1 = t.add_node(name='nr1', site='UKY')\n",
    "# Set Properties\n",
    "nr1.set_properties(capacities=cap, image_type='qcow2', image_ref='default_ubuntu_20')\n",
    "\n",
    "\n",
    "# Add node\n",
    "n2 = t.add_node(name='n2', site='LBNL')\n",
    "# Set properties\n",
    "n2.set_properties(capacities=cap, image_type='qcow2', image_ref='default_ubuntu_20')\n",
    "\n",
    "# Add node\n",
    "nr2 = t.add_node(name='nr2', site='LBNL')\n",
    "# Set properties\n",
    "nr2.set_properties(capacities=cap, image_type='qcow2', image_ref='default_ubuntu_20')\n",
    "\n",
    "# Shared Cards\n",
    "n1.add_component(model_type=ComponentModelType.SmartNIC_ConnectX_6, name='n1-nic1')\n",
    "nr1.add_component(model_type=ComponentModelType.SmartNIC_ConnectX_6, name='nr1-nic1')\n",
    "n2.add_component(model_type=ComponentModelType.SmartNIC_ConnectX_6, name='n2-nic1')\n",
    "nr2.add_component(model_type=ComponentModelType.SmartNIC_ConnectX_6, name='nr2-nic1')\n",
    "\n",
    "\n",
    "# L2PTP Service\n",
    "t.add_network_service(name='ptp1', nstype=ServiceType.L2PTP, interfaces=[nr1.interface_list[0], nr2.interface_list[0]])\n",
    "\n",
    "# L2Bridge Service\n",
    "t.add_network_service(name='bridge1', nstype=ServiceType.L2Bridge, interfaces=[n1.interface_list[0], nr1.interface_list[1]])\n",
    "# L2Bridge Service\n",
    "t.add_network_service(name='bridge2', nstype=ServiceType.L2Bridge, interfaces=[n2.interface_list[0], nr2.interface_list[1]])\n",
    "\n",
    "\n",
    "# Specify VLAN\n",
    "if_labels = nr1.interface_list[0].get_property(pname=\"labels\")\n",
    "if_labels.vlan = \"200\"\n",
    "nr1.interface_list[0].set_properties(labels=if_labels)\n",
    "\n",
    "if_labels = nr2.interface_list[0].get_property(pname=\"labels\")\n",
    "if_labels.vlan = \"200\"\n",
    "nr2.interface_list[0].set_properties(labels=if_labels)\n",
    "\n",
    "\n",
    "# Generate Slice Graph\n",
    "slice_graph = t.serialize()\n",
    "\n",
    "t.interface_list\n",
    "\n",
    "ssh_key = None\n",
    "with open (\"/home/fabric/.ssh/id_rsa.pub\", \"r\") as myfile:\n",
    "    ssh_key=myfile.read()\n",
    "    ssh_key=ssh_key.strip()\n",
    "\n",
    "# Request slice from Orchestrator\n",
    "status, reservations = slice_manager.create(slice_name='Slice-l2p2p-ded', slice_graph=slice_graph, ssh_key=ssh_key)\n",
    "\n",
    "print(\"Response Status {}\".format(status))\n",
    "if status == Status.OK:\n",
    "    print(\"Reservations created {}\".format(reservations))\n",
    "else:\n",
    "    print(f\"Failure: {reservations}\")"
   ]
  },
  {
   "cell_type": "markdown",
   "metadata": {},
   "source": [
    "### Below is the configuration in image form."
   ]
  },
  {
   "cell_type": "markdown",
   "metadata": {},
   "source": [
    "<img src=\"FABRIC experiment ptp link and two bridges.png\">"
   ]
  },
  {
   "cell_type": "markdown",
   "metadata": {},
   "source": [
    "### Let's take a look at the interfaces that we have."
   ]
  },
  {
   "cell_type": "code",
   "execution_count": 32,
   "metadata": {},
   "outputs": [
    {
     "data": {
      "text/plain": [
       "({'capacities': '{ bw: 100 Gbps, unit: 1 }', 'labels': '{ local_name: p1}', 'name': 'n1-nic1-p1', 'type': 'DedicatedPort'},\n",
       " {'capacities': '{ bw: 100 Gbps, unit: 1 }', 'labels': '{ local_name: p2}', 'name': 'n1-nic1-p2', 'type': 'DedicatedPort'},\n",
       " {'capacities': '{ bw: 100 Gbps, unit: 1 }', 'labels': '{ vlan: 200, local_name: p1}', 'name': 'nr1-nic1-p1', 'type': 'DedicatedPort'},\n",
       " {'capacities': '{ bw: 100 Gbps, unit: 1 }', 'labels': '{ local_name: p2}', 'name': 'nr1-nic1-p2', 'type': 'DedicatedPort'},\n",
       " {'capacities': '{ bw: 100 Gbps, unit: 1 }', 'labels': '{ local_name: p1}', 'name': 'n2-nic1-p1', 'type': 'DedicatedPort'},\n",
       " {'capacities': '{ bw: 100 Gbps, unit: 1 }', 'labels': '{ local_name: p2}', 'name': 'n2-nic1-p2', 'type': 'DedicatedPort'},\n",
       " {'capacities': '{ bw: 100 Gbps, unit: 1 }', 'labels': '{ vlan: 200, local_name: p1}', 'name': 'nr2-nic1-p1', 'type': 'DedicatedPort'},\n",
       " {'capacities': '{ bw: 100 Gbps, unit: 1 }', 'labels': '{ local_name: p2}', 'name': 'nr2-nic1-p2', 'type': 'DedicatedPort'})"
      ]
     },
     "execution_count": 32,
     "metadata": {},
     "output_type": "execute_result"
    }
   ],
   "source": [
    "t.interface_list"
   ]
  },
  {
   "cell_type": "code",
   "execution_count": 33,
   "metadata": {},
   "outputs": [
    {
     "data": {
      "text/plain": [
       "{'capacities': '{ bw: 100 Gbps, unit: 1 }', 'labels': '{ vlan: 200, local_name: p1}', 'name': 'nr1-nic1-p1', 'type': 'DedicatedPort'}"
      ]
     },
     "execution_count": 33,
     "metadata": {},
     "output_type": "execute_result"
    }
   ],
   "source": [
    "nr1.interface_list[0]"
   ]
  },
  {
   "cell_type": "code",
   "execution_count": 34,
   "metadata": {},
   "outputs": [
    {
     "data": {
      "text/plain": [
       "{'capacities': '{ bw: 100 Gbps, unit: 1 }', 'labels': '{ vlan: 200, local_name: p1}', 'name': 'nr2-nic1-p1', 'type': 'DedicatedPort'}"
      ]
     },
     "execution_count": 34,
     "metadata": {},
     "output_type": "execute_result"
    }
   ],
   "source": [
    "nr2.interface_list[0]"
   ]
  },
  {
   "cell_type": "code",
   "execution_count": 35,
   "metadata": {},
   "outputs": [],
   "source": [
    "# Set the Slice ID from output of the above command\n",
    "slice_id=reservations[0].slice_id"
   ]
  },
  {
   "cell_type": "markdown",
   "metadata": {},
   "source": [
    "## Query Slivers"
   ]
  },
  {
   "cell_type": "code",
   "execution_count": 37,
   "metadata": {},
   "outputs": [
    {
     "name": "stdout",
     "output_type": "stream",
     "text": [
      "Response Status Status.OK\n",
      "Slivers [{\n",
      "    \"allocated_capacities\": \"{\\\"core\\\": 2, \\\"disk\\\": 10, \\\"ram\\\": 8}\",\n",
      "    \"allocated_labels\": \"{\\\"instance\\\": \\\"instance-000001af\\\", \\\"instance_parent\\\": \\\"lbnl-w2.fabric-testbed.net\\\"}\",\n",
      "    \"capacities\": \"{\\\"core\\\": 2, \\\"disk\\\": 10, \\\"ram\\\": 6}\",\n",
      "    \"capacity_hints\": \"{\\\"instance_type\\\": \\\"fabric.c2.m8.d10\\\"}\",\n",
      "    \"graph_node_id\": \"7421d22f-dfb7-4153-97ef-178e1bd0766a\",\n",
      "    \"join_state\": \"NoJoin\",\n",
      "    \"lease_end\": \"2021-09-06 00:40:09\",\n",
      "    \"management_ip\": \"198.129.61.53\",\n",
      "    \"name\": \"nr2\",\n",
      "    \"pending_state\": \"None_\",\n",
      "    \"reservation_id\": \"118c5d3c-e07d-4d0f-887b-7d6ccac8352d\",\n",
      "    \"reservation_state\": \"Active\",\n",
      "    \"resource_type\": \"VM\",\n",
      "    \"site\": \"LBNL\",\n",
      "    \"slice_id\": \"116150b3-f185-412e-bd0b-3e922d06a785\"\n",
      "}, {\n",
      "    \"allocated_capacities\": \"{\\\"core\\\": 2, \\\"disk\\\": 10, \\\"ram\\\": 8}\",\n",
      "    \"allocated_labels\": \"{\\\"instance\\\": \\\"instance-0000031b\\\", \\\"instance_parent\\\": \\\"uky-w2.fabric-testbed.net\\\"}\",\n",
      "    \"capacities\": \"{\\\"core\\\": 2, \\\"disk\\\": 10, \\\"ram\\\": 6}\",\n",
      "    \"capacity_hints\": \"{\\\"instance_type\\\": \\\"fabric.c2.m8.d10\\\"}\",\n",
      "    \"graph_node_id\": \"9e1656f4-91db-4463-891f-8b12af4fd4b1\",\n",
      "    \"join_state\": \"NoJoin\",\n",
      "    \"lease_end\": \"2021-09-06 00:40:09\",\n",
      "    \"management_ip\": \"128.163.179.59\",\n",
      "    \"name\": \"n1\",\n",
      "    \"pending_state\": \"None_\",\n",
      "    \"reservation_id\": \"127d202f-e785-41c0-ba87-6495b7eb1493\",\n",
      "    \"reservation_state\": \"Active\",\n",
      "    \"resource_type\": \"VM\",\n",
      "    \"site\": \"UKY\",\n",
      "    \"slice_id\": \"116150b3-f185-412e-bd0b-3e922d06a785\"\n",
      "}, {\n",
      "    \"graph_node_id\": \"14029984-5848-46ec-9541-d0c58e4b03be\",\n",
      "    \"join_state\": \"NoJoin\",\n",
      "    \"lease_end\": \"2021-09-06 00:40:09\",\n",
      "    \"name\": \"bridge1\",\n",
      "    \"pending_state\": \"None_\",\n",
      "    \"reservation_id\": \"c445606c-d4b0-4345-8927-8ec44b966c96\",\n",
      "    \"reservation_state\": \"Active\",\n",
      "    \"resource_type\": \"L2Bridge\",\n",
      "    \"site\": \"UKY\",\n",
      "    \"slice_id\": \"116150b3-f185-412e-bd0b-3e922d06a785\"\n",
      "}, {\n",
      "    \"graph_node_id\": \"09160e58-968b-4baf-8b8d-707274615b46\",\n",
      "    \"join_state\": \"NoJoin\",\n",
      "    \"lease_end\": \"2021-09-06 00:40:09\",\n",
      "    \"name\": \"ptp1\",\n",
      "    \"pending_state\": \"None_\",\n",
      "    \"reservation_id\": \"137643f1-d16d-45bb-a6b0-c2a71d5e4097\",\n",
      "    \"reservation_state\": \"Active\",\n",
      "    \"resource_type\": \"L2PTP\",\n",
      "    \"slice_id\": \"116150b3-f185-412e-bd0b-3e922d06a785\"\n",
      "}, {\n",
      "    \"allocated_capacities\": \"{\\\"core\\\": 2, \\\"disk\\\": 10, \\\"ram\\\": 8}\",\n",
      "    \"allocated_labels\": \"{\\\"instance\\\": \\\"instance-000001ae\\\", \\\"instance_parent\\\": \\\"lbnl-w2.fabric-testbed.net\\\"}\",\n",
      "    \"capacities\": \"{\\\"core\\\": 2, \\\"disk\\\": 10, \\\"ram\\\": 6}\",\n",
      "    \"capacity_hints\": \"{\\\"instance_type\\\": \\\"fabric.c2.m8.d10\\\"}\",\n",
      "    \"graph_node_id\": \"e32812c5-c663-4ed3-8d9a-667b5d8a8980\",\n",
      "    \"join_state\": \"NoJoin\",\n",
      "    \"lease_end\": \"2021-09-06 00:40:09\",\n",
      "    \"management_ip\": \"198.129.61.54\",\n",
      "    \"name\": \"n2\",\n",
      "    \"pending_state\": \"None_\",\n",
      "    \"reservation_id\": \"8d4cc800-239e-4751-b492-af10f4992c29\",\n",
      "    \"reservation_state\": \"Active\",\n",
      "    \"resource_type\": \"VM\",\n",
      "    \"site\": \"LBNL\",\n",
      "    \"slice_id\": \"116150b3-f185-412e-bd0b-3e922d06a785\"\n",
      "}, {\n",
      "    \"allocated_capacities\": \"{\\\"core\\\": 2, \\\"disk\\\": 10, \\\"ram\\\": 8}\",\n",
      "    \"allocated_labels\": \"{\\\"instance\\\": \\\"instance-0000031a\\\", \\\"instance_parent\\\": \\\"uky-w2.fabric-testbed.net\\\"}\",\n",
      "    \"capacities\": \"{\\\"core\\\": 2, \\\"disk\\\": 10, \\\"ram\\\": 6}\",\n",
      "    \"capacity_hints\": \"{\\\"instance_type\\\": \\\"fabric.c2.m8.d10\\\"}\",\n",
      "    \"graph_node_id\": \"8b445611-63e2-4330-80df-0b1fd61fa4a7\",\n",
      "    \"join_state\": \"NoJoin\",\n",
      "    \"lease_end\": \"2021-09-06 00:40:09\",\n",
      "    \"management_ip\": \"128.163.179.23\",\n",
      "    \"name\": \"nr1\",\n",
      "    \"pending_state\": \"None_\",\n",
      "    \"reservation_id\": \"f5ba3a55-43bf-4e77-8416-0c7c6809bd16\",\n",
      "    \"reservation_state\": \"Active\",\n",
      "    \"resource_type\": \"VM\",\n",
      "    \"site\": \"UKY\",\n",
      "    \"slice_id\": \"116150b3-f185-412e-bd0b-3e922d06a785\"\n",
      "}, {\n",
      "    \"graph_node_id\": \"27666bd0-3f4f-4ac2-8518-89d9510d0ddf\",\n",
      "    \"join_state\": \"NoJoin\",\n",
      "    \"lease_end\": \"2021-09-06 00:40:09\",\n",
      "    \"name\": \"bridge2\",\n",
      "    \"pending_state\": \"None_\",\n",
      "    \"reservation_id\": \"6e81b46e-323c-4451-8591-900748424f1a\",\n",
      "    \"reservation_state\": \"Active\",\n",
      "    \"resource_type\": \"L2Bridge\",\n",
      "    \"site\": \"LBNL\",\n",
      "    \"slice_id\": \"116150b3-f185-412e-bd0b-3e922d06a785\"\n",
      "}]\n"
     ]
    }
   ],
   "source": [
    "status, slivers = slice_manager.slivers(slice_id=slice_id)\n",
    "\n",
    "print(\"Response Status {}\".format(status))\n",
    "if status == Status.OK:\n",
    "    print(\"Slivers {}\".format(slivers))\n",
    "else:\n",
    "    print(f\"Failure: {slivers}\")"
   ]
  },
  {
   "cell_type": "markdown",
   "metadata": {},
   "source": [
    "## Sliver Status"
   ]
  },
  {
   "cell_type": "code",
   "execution_count": 39,
   "metadata": {},
   "outputs": [
    {
     "name": "stdout",
     "output_type": "stream",
     "text": [
      "Response Status Status.OK\n",
      "\n",
      "Sliver Status {\n",
      "    \"allocated_capacities\": \"{\\\"core\\\": 2, \\\"disk\\\": 10, \\\"ram\\\": 8}\",\n",
      "    \"allocated_labels\": \"{\\\"instance\\\": \\\"instance-000001af\\\", \\\"instance_parent\\\": \\\"lbnl-w2.fabric-testbed.net\\\"}\",\n",
      "    \"capacities\": \"{\\\"core\\\": 2, \\\"disk\\\": 10, \\\"ram\\\": 6}\",\n",
      "    \"capacity_hints\": \"{\\\"instance_type\\\": \\\"fabric.c2.m8.d10\\\"}\",\n",
      "    \"graph_node_id\": \"7421d22f-dfb7-4153-97ef-178e1bd0766a\",\n",
      "    \"join_state\": \"NoJoin\",\n",
      "    \"lease_end\": \"2021-09-06 00:40:09\",\n",
      "    \"management_ip\": \"198.129.61.53\",\n",
      "    \"name\": \"nr2\",\n",
      "    \"notices\": \"Reservation 118c5d3c-e07d-4d0f-887b-7d6ccac8352d (Slice Slice-l2p2p-ded(116150b3-f185-412e-bd0b-3e922d06a785) Graph Id:d1dac440-e2c0-41d8-a235-95ed0f8eef1f Owner:name: orchestrator guid: orchestrator-guid email: minawm@bu.edu State:StableOK ) is in state [Active,None_]\\n\\nLast ticket update: \\nTicket events: \\nLast ticket update: \\nTicket events: \",\n",
      "    \"pending_state\": \"None_\",\n",
      "    \"reservation_id\": \"118c5d3c-e07d-4d0f-887b-7d6ccac8352d\",\n",
      "    \"reservation_state\": \"Active\",\n",
      "    \"resource_type\": \"VM\",\n",
      "    \"site\": \"LBNL\",\n",
      "    \"slice_id\": \"116150b3-f185-412e-bd0b-3e922d06a785\"\n",
      "}\n",
      "\n",
      "Response Status Status.OK\n",
      "\n",
      "Sliver Status {\n",
      "    \"allocated_capacities\": \"{\\\"core\\\": 2, \\\"disk\\\": 10, \\\"ram\\\": 8}\",\n",
      "    \"allocated_labels\": \"{\\\"instance\\\": \\\"instance-0000031b\\\", \\\"instance_parent\\\": \\\"uky-w2.fabric-testbed.net\\\"}\",\n",
      "    \"capacities\": \"{\\\"core\\\": 2, \\\"disk\\\": 10, \\\"ram\\\": 6}\",\n",
      "    \"capacity_hints\": \"{\\\"instance_type\\\": \\\"fabric.c2.m8.d10\\\"}\",\n",
      "    \"graph_node_id\": \"9e1656f4-91db-4463-891f-8b12af4fd4b1\",\n",
      "    \"join_state\": \"NoJoin\",\n",
      "    \"lease_end\": \"2021-09-06 00:40:09\",\n",
      "    \"management_ip\": \"128.163.179.59\",\n",
      "    \"name\": \"n1\",\n",
      "    \"notices\": \"Reservation 127d202f-e785-41c0-ba87-6495b7eb1493 (Slice Slice-l2p2p-ded(116150b3-f185-412e-bd0b-3e922d06a785) Graph Id:d1dac440-e2c0-41d8-a235-95ed0f8eef1f Owner:name: orchestrator guid: orchestrator-guid email: minawm@bu.edu State:StableOK ) is in state [Active,None_]\\n\\nLast ticket update: \\nTicket events: \\nLast ticket update: \\nTicket events: \",\n",
      "    \"pending_state\": \"None_\",\n",
      "    \"reservation_id\": \"127d202f-e785-41c0-ba87-6495b7eb1493\",\n",
      "    \"reservation_state\": \"Active\",\n",
      "    \"resource_type\": \"VM\",\n",
      "    \"site\": \"UKY\",\n",
      "    \"slice_id\": \"116150b3-f185-412e-bd0b-3e922d06a785\"\n",
      "}\n",
      "\n",
      "Response Status Status.OK\n",
      "\n",
      "Sliver Status {\n",
      "    \"graph_node_id\": \"14029984-5848-46ec-9541-d0c58e4b03be\",\n",
      "    \"join_state\": \"NoJoin\",\n",
      "    \"lease_end\": \"2021-09-06 00:40:09\",\n",
      "    \"name\": \"bridge1\",\n",
      "    \"notices\": \"Reservation c445606c-d4b0-4345-8927-8ec44b966c96 (Slice Slice-l2p2p-ded(116150b3-f185-412e-bd0b-3e922d06a785) Graph Id:d1dac440-e2c0-41d8-a235-95ed0f8eef1f Owner:name: orchestrator guid: orchestrator-guid email: minawm@bu.edu State:StableOK ) is in state [Active,None_]\\n\\nLast ticket update: \\nTicket events: \\nLast ticket update: \\nTicket events: \",\n",
      "    \"pending_state\": \"None_\",\n",
      "    \"reservation_id\": \"c445606c-d4b0-4345-8927-8ec44b966c96\",\n",
      "    \"reservation_state\": \"Active\",\n",
      "    \"resource_type\": \"L2Bridge\",\n",
      "    \"site\": \"UKY\",\n",
      "    \"slice_id\": \"116150b3-f185-412e-bd0b-3e922d06a785\"\n",
      "}\n",
      "\n",
      "Response Status Status.OK\n",
      "\n",
      "Sliver Status {\n",
      "    \"graph_node_id\": \"09160e58-968b-4baf-8b8d-707274615b46\",\n",
      "    \"join_state\": \"NoJoin\",\n",
      "    \"lease_end\": \"2021-09-06 00:40:09\",\n",
      "    \"name\": \"ptp1\",\n",
      "    \"notices\": \"Reservation 137643f1-d16d-45bb-a6b0-c2a71d5e4097 (Slice Slice-l2p2p-ded(116150b3-f185-412e-bd0b-3e922d06a785) Graph Id:d1dac440-e2c0-41d8-a235-95ed0f8eef1f Owner:name: orchestrator guid: orchestrator-guid email: minawm@bu.edu State:StableOK ) is in state [Active,None_]\\n\\nLast ticket update: \\nTicket events: \\nLast ticket update: \\nTicket events: \",\n",
      "    \"pending_state\": \"None_\",\n",
      "    \"reservation_id\": \"137643f1-d16d-45bb-a6b0-c2a71d5e4097\",\n",
      "    \"reservation_state\": \"Active\",\n",
      "    \"resource_type\": \"L2PTP\",\n",
      "    \"slice_id\": \"116150b3-f185-412e-bd0b-3e922d06a785\"\n",
      "}\n",
      "\n",
      "Response Status Status.OK\n",
      "\n",
      "Sliver Status {\n",
      "    \"allocated_capacities\": \"{\\\"core\\\": 2, \\\"disk\\\": 10, \\\"ram\\\": 8}\",\n",
      "    \"allocated_labels\": \"{\\\"instance\\\": \\\"instance-000001ae\\\", \\\"instance_parent\\\": \\\"lbnl-w2.fabric-testbed.net\\\"}\",\n",
      "    \"capacities\": \"{\\\"core\\\": 2, \\\"disk\\\": 10, \\\"ram\\\": 6}\",\n",
      "    \"capacity_hints\": \"{\\\"instance_type\\\": \\\"fabric.c2.m8.d10\\\"}\",\n",
      "    \"graph_node_id\": \"e32812c5-c663-4ed3-8d9a-667b5d8a8980\",\n",
      "    \"join_state\": \"NoJoin\",\n",
      "    \"lease_end\": \"2021-09-06 00:40:09\",\n",
      "    \"management_ip\": \"198.129.61.54\",\n",
      "    \"name\": \"n2\",\n",
      "    \"notices\": \"Reservation 8d4cc800-239e-4751-b492-af10f4992c29 (Slice Slice-l2p2p-ded(116150b3-f185-412e-bd0b-3e922d06a785) Graph Id:d1dac440-e2c0-41d8-a235-95ed0f8eef1f Owner:name: orchestrator guid: orchestrator-guid email: minawm@bu.edu State:StableOK ) is in state [Active,None_]\\n\\nLast ticket update: \\nTicket events: \\nLast ticket update: \\nTicket events: \",\n",
      "    \"pending_state\": \"None_\",\n",
      "    \"reservation_id\": \"8d4cc800-239e-4751-b492-af10f4992c29\",\n",
      "    \"reservation_state\": \"Active\",\n",
      "    \"resource_type\": \"VM\",\n",
      "    \"site\": \"LBNL\",\n",
      "    \"slice_id\": \"116150b3-f185-412e-bd0b-3e922d06a785\"\n",
      "}\n",
      "\n",
      "Response Status Status.OK\n",
      "\n",
      "Sliver Status {\n",
      "    \"allocated_capacities\": \"{\\\"core\\\": 2, \\\"disk\\\": 10, \\\"ram\\\": 8}\",\n",
      "    \"allocated_labels\": \"{\\\"instance\\\": \\\"instance-0000031a\\\", \\\"instance_parent\\\": \\\"uky-w2.fabric-testbed.net\\\"}\",\n",
      "    \"capacities\": \"{\\\"core\\\": 2, \\\"disk\\\": 10, \\\"ram\\\": 6}\",\n",
      "    \"capacity_hints\": \"{\\\"instance_type\\\": \\\"fabric.c2.m8.d10\\\"}\",\n",
      "    \"graph_node_id\": \"8b445611-63e2-4330-80df-0b1fd61fa4a7\",\n",
      "    \"join_state\": \"NoJoin\",\n",
      "    \"lease_end\": \"2021-09-06 00:40:09\",\n",
      "    \"management_ip\": \"128.163.179.23\",\n",
      "    \"name\": \"nr1\",\n",
      "    \"notices\": \"Reservation f5ba3a55-43bf-4e77-8416-0c7c6809bd16 (Slice Slice-l2p2p-ded(116150b3-f185-412e-bd0b-3e922d06a785) Graph Id:d1dac440-e2c0-41d8-a235-95ed0f8eef1f Owner:name: orchestrator guid: orchestrator-guid email: minawm@bu.edu State:StableOK ) is in state [Active,None_]\\n\\nLast ticket update: \\nTicket events: \\nLast ticket update: \\nTicket events: \",\n",
      "    \"pending_state\": \"None_\",\n",
      "    \"reservation_id\": \"f5ba3a55-43bf-4e77-8416-0c7c6809bd16\",\n",
      "    \"reservation_state\": \"Active\",\n",
      "    \"resource_type\": \"VM\",\n",
      "    \"site\": \"UKY\",\n",
      "    \"slice_id\": \"116150b3-f185-412e-bd0b-3e922d06a785\"\n",
      "}\n",
      "\n",
      "Response Status Status.OK\n",
      "\n",
      "Sliver Status {\n",
      "    \"graph_node_id\": \"27666bd0-3f4f-4ac2-8518-89d9510d0ddf\",\n",
      "    \"join_state\": \"NoJoin\",\n",
      "    \"lease_end\": \"2021-09-06 00:40:09\",\n",
      "    \"name\": \"bridge2\",\n",
      "    \"notices\": \"Reservation 6e81b46e-323c-4451-8591-900748424f1a (Slice Slice-l2p2p-ded(116150b3-f185-412e-bd0b-3e922d06a785) Graph Id:d1dac440-e2c0-41d8-a235-95ed0f8eef1f Owner:name: orchestrator guid: orchestrator-guid email: minawm@bu.edu State:StableOK ) is in state [Active,None_]\\n\\nLast ticket update: \\nTicket events: \\nLast ticket update: \\nTicket events: \",\n",
      "    \"pending_state\": \"None_\",\n",
      "    \"reservation_id\": \"6e81b46e-323c-4451-8591-900748424f1a\",\n",
      "    \"reservation_state\": \"Active\",\n",
      "    \"resource_type\": \"L2Bridge\",\n",
      "    \"site\": \"LBNL\",\n",
      "    \"slice_id\": \"116150b3-f185-412e-bd0b-3e922d06a785\"\n",
      "}\n",
      "\n"
     ]
    }
   ],
   "source": [
    "for s in slivers:\n",
    "    status, sliver_status = slice_manager.sliver_status(slice_id=slice_id, sliver_id=s.reservation_id)\n",
    "\n",
    "    print(\"Response Status {}\".format(status))\n",
    "    if status == Status.OK:\n",
    "        print()\n",
    "        print(\"Sliver Status {}\".format(sliver_status))\n",
    "        print()"
   ]
  },
  {
   "cell_type": "markdown",
   "metadata": {},
   "source": [
    "### Now let's connect to the nodes."
   ]
  },
  {
   "cell_type": "code",
   "execution_count": 40,
   "metadata": {},
   "outputs": [],
   "source": [
    "import paramiko"
   ]
  },
  {
   "cell_type": "code",
   "execution_count": 41,
   "metadata": {},
   "outputs": [
    {
     "data": {
      "text/plain": [
       "'128.163.179.59'"
      ]
     },
     "execution_count": 41,
     "metadata": {},
     "output_type": "execute_result"
    }
   ],
   "source": [
    "n1_ip = list(filter(lambda sliver : sliver.name == \"n1\",slivers))[0].management_ip\n",
    "n1_ip"
   ]
  },
  {
   "cell_type": "code",
   "execution_count": 42,
   "metadata": {},
   "outputs": [
    {
     "data": {
      "text/plain": [
       "'128.163.179.23'"
      ]
     },
     "execution_count": 42,
     "metadata": {},
     "output_type": "execute_result"
    }
   ],
   "source": [
    "nr1_ip = list(filter(lambda sliver : sliver.name == \"nr1\",slivers))[0].management_ip\n",
    "nr1_ip"
   ]
  },
  {
   "cell_type": "code",
   "execution_count": 43,
   "metadata": {},
   "outputs": [
    {
     "data": {
      "text/plain": [
       "'198.129.61.54'"
      ]
     },
     "execution_count": 43,
     "metadata": {},
     "output_type": "execute_result"
    }
   ],
   "source": [
    "n2_ip = list(filter(lambda sliver : sliver.name == \"n2\",slivers))[0].management_ip\n",
    "n2_ip"
   ]
  },
  {
   "cell_type": "code",
   "execution_count": 44,
   "metadata": {},
   "outputs": [
    {
     "data": {
      "text/plain": [
       "'198.129.61.53'"
      ]
     },
     "execution_count": 44,
     "metadata": {},
     "output_type": "execute_result"
    }
   ],
   "source": [
    "nr2_ip = list(filter(lambda sliver : sliver.name == \"nr2\",slivers))[0].management_ip\n",
    "nr2_ip"
   ]
  },
  {
   "cell_type": "code",
   "execution_count": 45,
   "metadata": {},
   "outputs": [
    {
     "data": {
      "text/plain": [
       "<paramiko.client.SSHClient at 0x7fc6081111f0>"
      ]
     },
     "execution_count": 45,
     "metadata": {},
     "output_type": "execute_result"
    }
   ],
   "source": [
    "key = paramiko.RSAKey.from_private_key_file(\"/home/fabric/.ssh/id_rsa\")\n",
    "clientn1 = paramiko.SSHClient()\n",
    "clientn1.load_system_host_keys()\n",
    "clientn1.set_missing_host_key_policy(paramiko.MissingHostKeyPolicy())\n",
    "\n",
    "clientn1.set_missing_host_key_policy(paramiko.AutoAddPolicy())\n",
    "clientn1.connect(n1_ip,username='ubuntu',pkey = key)\n",
    "\n",
    "clientn1"
   ]
  },
  {
   "cell_type": "code",
   "execution_count": 46,
   "metadata": {},
   "outputs": [
    {
     "data": {
      "text/plain": [
       "<paramiko.client.SSHClient at 0x7fc60813ef70>"
      ]
     },
     "execution_count": 46,
     "metadata": {},
     "output_type": "execute_result"
    }
   ],
   "source": [
    "key = paramiko.RSAKey.from_private_key_file(\"/home/fabric/.ssh/id_rsa\")\n",
    "clientnr1 = paramiko.SSHClient()\n",
    "clientnr1.load_system_host_keys()\n",
    "clientnr1.set_missing_host_key_policy(paramiko.MissingHostKeyPolicy())\n",
    "\n",
    "clientnr1.set_missing_host_key_policy(paramiko.AutoAddPolicy())\n",
    "clientnr1.connect(nr1_ip,username='ubuntu',pkey = key)\n",
    "\n",
    "clientnr1"
   ]
  },
  {
   "cell_type": "code",
   "execution_count": 47,
   "metadata": {},
   "outputs": [
    {
     "data": {
      "text/plain": [
       "<paramiko.client.SSHClient at 0x7fc608111790>"
      ]
     },
     "execution_count": 47,
     "metadata": {},
     "output_type": "execute_result"
    }
   ],
   "source": [
    "key = paramiko.RSAKey.from_private_key_file(\"/home/fabric/.ssh/id_rsa\")\n",
    "clientn2 = paramiko.SSHClient()\n",
    "clientn2.load_system_host_keys()\n",
    "clientn2.set_missing_host_key_policy(paramiko.MissingHostKeyPolicy())\n",
    "\n",
    "clientn2.set_missing_host_key_policy(paramiko.AutoAddPolicy())\n",
    "clientn2.connect(n2_ip,username='ubuntu',pkey = key)\n",
    "\n",
    "clientn2"
   ]
  },
  {
   "cell_type": "code",
   "execution_count": 48,
   "metadata": {},
   "outputs": [
    {
     "data": {
      "text/plain": [
       "<paramiko.client.SSHClient at 0x7fc630a55550>"
      ]
     },
     "execution_count": 48,
     "metadata": {},
     "output_type": "execute_result"
    }
   ],
   "source": [
    "key = paramiko.RSAKey.from_private_key_file(\"/home/fabric/.ssh/id_rsa\")\n",
    "clientnr2 = paramiko.SSHClient()\n",
    "clientnr2.load_system_host_keys()\n",
    "clientnr2.set_missing_host_key_policy(paramiko.MissingHostKeyPolicy())\n",
    "\n",
    "clientnr2.set_missing_host_key_policy(paramiko.AutoAddPolicy())\n",
    "clientnr2.connect(nr2_ip,username='ubuntu',pkey = key)\n",
    "\n",
    "clientnr2"
   ]
  },
  {
   "cell_type": "markdown",
   "metadata": {},
   "source": [
    "### First, let's install some tools that we will need."
   ]
  },
  {
   "cell_type": "code",
   "execution_count": 49,
   "metadata": {},
   "outputs": [
    {
     "name": "stdout",
     "output_type": "stream",
     "text": [
      "Get:1 http://security.ubuntu.com/ubuntu focal-security InRelease [114 kB]\n",
      "Hit:2 http://nova.clouds.archive.ubuntu.com/ubuntu focal InRelease\n",
      "Get:3 http://security.ubuntu.com/ubuntu focal-security/main amd64 Packages [830 kB]\n",
      "Get:4 http://nova.clouds.archive.ubuntu.com/ubuntu focal-updates InRelease [114 kB]\n",
      "Get:5 http://nova.clouds.archive.ubuntu.com/ubuntu focal-backports InRelease [101 kB]\n",
      "Get:6 http://security.ubuntu.com/ubuntu focal-security/main Translation-en [162 kB]\n",
      "Get:7 http://security.ubuntu.com/ubuntu focal-security/main amd64 c-n-f Metadata [8604 B]\n",
      "Get:8 http://security.ubuntu.com/ubuntu focal-security/restricted amd64 Packages [374 kB]\n",
      "Get:9 http://security.ubuntu.com/ubuntu focal-security/restricted Translation-en [53.7 kB]\n",
      "Get:10 http://security.ubuntu.com/ubuntu focal-security/restricted amd64 c-n-f Metadata [500 B]\n",
      "Get:11 http://security.ubuntu.com/ubuntu focal-security/universe amd64 Packages [638 kB]\n",
      "Get:12 http://security.ubuntu.com/ubuntu focal-security/universe Translation-en [101 kB]\n",
      "Get:13 http://security.ubuntu.com/ubuntu focal-security/universe amd64 c-n-f Metadata [12.3 kB]\n",
      "Get:14 http://security.ubuntu.com/ubuntu focal-security/multiverse amd64 Packages [21.9 kB]\n",
      "Get:15 http://security.ubuntu.com/ubuntu focal-security/multiverse Translation-en [4948 B]\n",
      "Get:16 http://security.ubuntu.com/ubuntu focal-security/multiverse amd64 c-n-f Metadata [540 B]\n",
      "Get:17 http://nova.clouds.archive.ubuntu.com/ubuntu focal/universe amd64 Packages [8628 kB]\n",
      "Get:18 http://nova.clouds.archive.ubuntu.com/ubuntu focal/universe Translation-en [5124 kB]\n",
      "Get:19 http://nova.clouds.archive.ubuntu.com/ubuntu focal/universe amd64 c-n-f Metadata [265 kB]\n",
      "Get:20 http://nova.clouds.archive.ubuntu.com/ubuntu focal/multiverse amd64 Packages [144 kB]\n",
      "Get:21 http://nova.clouds.archive.ubuntu.com/ubuntu focal/multiverse Translation-en [104 kB]\n",
      "Get:22 http://nova.clouds.archive.ubuntu.com/ubuntu focal/multiverse amd64 c-n-f Metadata [9136 B]\n",
      "Get:23 http://nova.clouds.archive.ubuntu.com/ubuntu focal-updates/main amd64 Packages [1175 kB]\n",
      "Get:24 http://nova.clouds.archive.ubuntu.com/ubuntu focal-updates/main Translation-en [254 kB]\n",
      "Get:25 http://nova.clouds.archive.ubuntu.com/ubuntu focal-updates/main amd64 c-n-f Metadata [14.1 kB]\n",
      "Get:26 http://nova.clouds.archive.ubuntu.com/ubuntu focal-updates/restricted amd64 Packages [411 kB]\n",
      "Get:27 http://nova.clouds.archive.ubuntu.com/ubuntu focal-updates/restricted Translation-en [58.8 kB]\n",
      "Get:28 http://nova.clouds.archive.ubuntu.com/ubuntu focal-updates/restricted amd64 c-n-f Metadata [500 B]\n",
      "Get:29 http://nova.clouds.archive.ubuntu.com/ubuntu focal-updates/universe amd64 Packages [853 kB]\n",
      "Get:30 http://nova.clouds.archive.ubuntu.com/ubuntu focal-updates/universe Translation-en [181 kB]\n",
      "Get:31 http://nova.clouds.archive.ubuntu.com/ubuntu focal-updates/universe amd64 c-n-f Metadata [18.8 kB]\n",
      "Get:32 http://nova.clouds.archive.ubuntu.com/ubuntu focal-updates/multiverse amd64 Packages [24.6 kB]\n",
      "Get:33 http://nova.clouds.archive.ubuntu.com/ubuntu focal-updates/multiverse Translation-en [6776 B]\n",
      "Get:34 http://nova.clouds.archive.ubuntu.com/ubuntu focal-updates/multiverse amd64 c-n-f Metadata [620 B]\n",
      "Get:35 http://nova.clouds.archive.ubuntu.com/ubuntu focal-backports/main amd64 Packages [2568 B]\n",
      "Get:36 http://nova.clouds.archive.ubuntu.com/ubuntu focal-backports/main Translation-en [1120 B]\n",
      "Get:37 http://nova.clouds.archive.ubuntu.com/ubuntu focal-backports/main amd64 c-n-f Metadata [400 B]\n",
      "Get:38 http://nova.clouds.archive.ubuntu.com/ubuntu focal-backports/restricted amd64 c-n-f Metadata [116 B]\n",
      "Get:39 http://nova.clouds.archive.ubuntu.com/ubuntu focal-backports/universe amd64 Packages [5812 B]\n",
      "Get:40 http://nova.clouds.archive.ubuntu.com/ubuntu focal-backports/universe Translation-en [2068 B]\n",
      "Get:41 http://nova.clouds.archive.ubuntu.com/ubuntu focal-backports/universe amd64 c-n-f Metadata [288 B]\n",
      "Get:42 http://nova.clouds.archive.ubuntu.com/ubuntu focal-backports/multiverse amd64 c-n-f Metadata [116 B]\n",
      "Fetched 19.8 MB in 3s (6873 kB/s)\n",
      "Reading package lists...\n",
      "Building dependency tree...\n",
      "Reading state information...\n",
      "121 packages can be upgraded. Run 'apt list --upgradable' to see them.\n",
      "Reading package lists...\n",
      "Building dependency tree...\n",
      "Reading state information...\n",
      "The following NEW packages will be installed:\n",
      "  net-tools\n",
      "0 upgraded, 1 newly installed, 0 to remove and 121 not upgraded.\n",
      "Need to get 196 kB of archives.\n",
      "After this operation, 864 kB of additional disk space will be used.\n",
      "Get:1 http://nova.clouds.archive.ubuntu.com/ubuntu focal/main amd64 net-tools amd64 1.60+git20180626.aebd88e-1ubuntu1 [196 kB]\n",
      "Fetched 196 kB in 1s (321 kB/s)\n",
      "Selecting previously unselected package net-tools.\n",
      "(Reading database ... 63441 files and directories currently installed.)\n",
      "Preparing to unpack .../net-tools_1.60+git20180626.aebd88e-1ubuntu1_amd64.deb ...\n",
      "Unpacking net-tools (1.60+git20180626.aebd88e-1ubuntu1) ...\n",
      "Setting up net-tools (1.60+git20180626.aebd88e-1ubuntu1) ...\n",
      "Processing triggers for man-db (2.9.1-1) ...\n",
      "Reading package lists...\n",
      "Building dependency tree...\n",
      "Reading state information...\n",
      "The following NEW packages will be installed:\n",
      "  traceroute\n",
      "0 upgraded, 1 newly installed, 0 to remove and 121 not upgraded.\n",
      "Need to get 45.4 kB of archives.\n",
      "After this operation, 152 kB of additional disk space will be used.\n",
      "Get:1 http://nova.clouds.archive.ubuntu.com/ubuntu focal/universe amd64 traceroute amd64 1:2.1.0-2 [45.4 kB]\n",
      "Fetched 45.4 kB in 0s (119 kB/s)\n",
      "Selecting previously unselected package traceroute.\n",
      "(Reading database ... 63490 files and directories currently installed.)\n",
      "Preparing to unpack .../traceroute_1%3a2.1.0-2_amd64.deb ...\n",
      "Unpacking traceroute (1:2.1.0-2) ...\n",
      "Setting up traceroute (1:2.1.0-2) ...\n",
      "update-alternatives: using /usr/bin/traceroute.db to provide /usr/bin/traceroute (traceroute) in auto mode\n",
      "update-alternatives: using /usr/bin/lft.db to provide /usr/bin/lft (lft) in auto mode\n",
      "update-alternatives: using /usr/bin/traceproto.db to provide /usr/bin/traceproto (traceproto) in auto mode\n",
      "update-alternatives: using /usr/sbin/tcptraceroute.db to provide /usr/sbin/tcptraceroute (tcptraceroute) in auto mode\n",
      "Processing triggers for man-db (2.9.1-1) ...\n",
      "\n",
      "\n",
      "WARNING: apt does not have a stable CLI interface. Use with caution in scripts.\n",
      "\n",
      "\n",
      "WARNING: apt does not have a stable CLI interface. Use with caution in scripts.\n",
      "\n",
      "debconf: unable to initialize frontend: Dialog\n",
      "debconf: (Dialog frontend will not work on a dumb terminal, an emacs shell buffer, or without a controlling terminal.)\n",
      "debconf: falling back to frontend: Readline\n",
      "debconf: unable to initialize frontend: Readline\n",
      "debconf: (This frontend requires a controlling tty.)\n",
      "debconf: falling back to frontend: Teletype\n",
      "dpkg-preconfigure: unable to re-open stdin: \n",
      "\n",
      "WARNING: apt does not have a stable CLI interface. Use with caution in scripts.\n",
      "\n",
      "debconf: unable to initialize frontend: Dialog\n",
      "debconf: (Dialog frontend will not work on a dumb terminal, an emacs shell buffer, or without a controlling terminal.)\n",
      "debconf: falling back to frontend: Readline\n",
      "debconf: unable to initialize frontend: Readline\n",
      "debconf: (This frontend requires a controlling tty.)\n",
      "debconf: falling back to frontend: Teletype\n",
      "dpkg-preconfigure: unable to re-open stdin: \n",
      "\n",
      "Get:1 http://security.ubuntu.com/ubuntu focal-security InRelease [114 kB]\n",
      "Hit:2 http://nova.clouds.archive.ubuntu.com/ubuntu focal InRelease\n",
      "Get:3 http://nova.clouds.archive.ubuntu.com/ubuntu focal-updates InRelease [114 kB]\n",
      "Get:4 http://security.ubuntu.com/ubuntu focal-security/main amd64 Packages [830 kB]\n",
      "Get:5 http://security.ubuntu.com/ubuntu focal-security/main Translation-en [162 kB]\n",
      "Get:6 http://security.ubuntu.com/ubuntu focal-security/main amd64 c-n-f Metadata [8604 B]\n",
      "Get:7 http://security.ubuntu.com/ubuntu focal-security/restricted amd64 Packages [374 kB]\n",
      "Get:8 http://security.ubuntu.com/ubuntu focal-security/restricted Translation-en [53.7 kB]\n",
      "Get:9 http://security.ubuntu.com/ubuntu focal-security/restricted amd64 c-n-f Metadata [500 B]\n",
      "Get:10 http://security.ubuntu.com/ubuntu focal-security/universe amd64 Packages [638 kB]\n",
      "Get:11 http://security.ubuntu.com/ubuntu focal-security/universe Translation-en [101 kB]\n",
      "Get:12 http://security.ubuntu.com/ubuntu focal-security/universe amd64 c-n-f Metadata [12.3 kB]\n",
      "Get:13 http://security.ubuntu.com/ubuntu focal-security/multiverse amd64 Packages [21.9 kB]\n",
      "Get:14 http://security.ubuntu.com/ubuntu focal-security/multiverse Translation-en [4948 B]\n",
      "Get:15 http://security.ubuntu.com/ubuntu focal-security/multiverse amd64 c-n-f Metadata [540 B]\n",
      "Get:16 http://nova.clouds.archive.ubuntu.com/ubuntu focal-backports InRelease [101 kB]\n",
      "Get:17 http://nova.clouds.archive.ubuntu.com/ubuntu focal/universe amd64 Packages [8628 kB]\n",
      "Get:18 http://nova.clouds.archive.ubuntu.com/ubuntu focal/universe Translation-en [5124 kB]\n",
      "Get:19 http://nova.clouds.archive.ubuntu.com/ubuntu focal/universe amd64 c-n-f Metadata [265 kB]\n",
      "Get:20 http://nova.clouds.archive.ubuntu.com/ubuntu focal/multiverse amd64 Packages [144 kB]\n",
      "Get:21 http://nova.clouds.archive.ubuntu.com/ubuntu focal/multiverse Translation-en [104 kB]\n",
      "Get:22 http://nova.clouds.archive.ubuntu.com/ubuntu focal/multiverse amd64 c-n-f Metadata [9136 B]\n",
      "Get:23 http://nova.clouds.archive.ubuntu.com/ubuntu focal-updates/main amd64 Packages [1175 kB]\n",
      "Get:24 http://nova.clouds.archive.ubuntu.com/ubuntu focal-updates/main Translation-en [254 kB]\n",
      "Get:25 http://nova.clouds.archive.ubuntu.com/ubuntu focal-updates/main amd64 c-n-f Metadata [14.1 kB]\n",
      "Get:26 http://nova.clouds.archive.ubuntu.com/ubuntu focal-updates/restricted amd64 Packages [411 kB]\n",
      "Get:27 http://nova.clouds.archive.ubuntu.com/ubuntu focal-updates/restricted Translation-en [58.8 kB]\n",
      "Get:28 http://nova.clouds.archive.ubuntu.com/ubuntu focal-updates/restricted amd64 c-n-f Metadata [500 B]\n",
      "Get:29 http://nova.clouds.archive.ubuntu.com/ubuntu focal-updates/universe amd64 Packages [853 kB]\n",
      "Get:30 http://nova.clouds.archive.ubuntu.com/ubuntu focal-updates/universe Translation-en [181 kB]\n",
      "Get:31 http://nova.clouds.archive.ubuntu.com/ubuntu focal-updates/universe amd64 c-n-f Metadata [18.8 kB]\n",
      "Get:32 http://nova.clouds.archive.ubuntu.com/ubuntu focal-updates/multiverse amd64 Packages [24.6 kB]\n",
      "Get:33 http://nova.clouds.archive.ubuntu.com/ubuntu focal-updates/multiverse Translation-en [6776 B]\n",
      "Get:34 http://nova.clouds.archive.ubuntu.com/ubuntu focal-updates/multiverse amd64 c-n-f Metadata [620 B]\n",
      "Get:35 http://nova.clouds.archive.ubuntu.com/ubuntu focal-backports/main amd64 Packages [2568 B]\n",
      "Get:36 http://nova.clouds.archive.ubuntu.com/ubuntu focal-backports/main Translation-en [1120 B]\n",
      "Get:37 http://nova.clouds.archive.ubuntu.com/ubuntu focal-backports/main amd64 c-n-f Metadata [400 B]\n",
      "Get:38 http://nova.clouds.archive.ubuntu.com/ubuntu focal-backports/restricted amd64 c-n-f Metadata [116 B]\n",
      "Get:39 http://nova.clouds.archive.ubuntu.com/ubuntu focal-backports/universe amd64 Packages [5812 B]\n",
      "Get:40 http://nova.clouds.archive.ubuntu.com/ubuntu focal-backports/universe Translation-en [2068 B]\n",
      "Get:41 http://nova.clouds.archive.ubuntu.com/ubuntu focal-backports/universe amd64 c-n-f Metadata [288 B]\n",
      "Get:42 http://nova.clouds.archive.ubuntu.com/ubuntu focal-backports/multiverse amd64 c-n-f Metadata [116 B]\n",
      "Fetched 19.8 MB in 5s (4200 kB/s)\n",
      "Reading package lists...\n",
      "Building dependency tree...\n",
      "Reading state information...\n",
      "53 packages can be upgraded. Run 'apt list --upgradable' to see them.\n",
      "Reading package lists...\n",
      "Building dependency tree...\n",
      "Reading state information...\n",
      "The following NEW packages will be installed:\n",
      "  net-tools\n",
      "0 upgraded, 1 newly installed, 0 to remove and 53 not upgraded.\n",
      "Need to get 196 kB of archives.\n",
      "After this operation, 864 kB of additional disk space will be used.\n",
      "Get:1 http://nova.clouds.archive.ubuntu.com/ubuntu focal/main amd64 net-tools amd64 1.60+git20180626.aebd88e-1ubuntu1 [196 kB]\n",
      "Fetched 196 kB in 1s (217 kB/s)\n",
      "Selecting previously unselected package net-tools.\n",
      "(Reading database ... 63527 files and directories currently installed.)\n",
      "Preparing to unpack .../net-tools_1.60+git20180626.aebd88e-1ubuntu1_amd64.deb ...\n",
      "Unpacking net-tools (1.60+git20180626.aebd88e-1ubuntu1) ...\n",
      "Setting up net-tools (1.60+git20180626.aebd88e-1ubuntu1) ...\n",
      "Processing triggers for man-db (2.9.1-1) ...\n",
      "Reading package lists...\n",
      "Building dependency tree...\n",
      "Reading state information...\n",
      "The following NEW packages will be installed:\n",
      "  traceroute\n",
      "0 upgraded, 1 newly installed, 0 to remove and 53 not upgraded.\n",
      "Need to get 45.4 kB of archives.\n",
      "After this operation, 152 kB of additional disk space will be used.\n",
      "Get:1 http://nova.clouds.archive.ubuntu.com/ubuntu focal/universe amd64 traceroute amd64 1:2.1.0-2 [45.4 kB]\n",
      "Fetched 45.4 kB in 1s (74.7 kB/s)\n",
      "Selecting previously unselected package traceroute.\n",
      "(Reading database ... 63576 files and directories currently installed.)\n",
      "Preparing to unpack .../traceroute_1%3a2.1.0-2_amd64.deb ...\n",
      "Unpacking traceroute (1:2.1.0-2) ...\n",
      "Setting up traceroute (1:2.1.0-2) ...\n",
      "update-alternatives: using /usr/bin/traceroute.db to provide /usr/bin/traceroute (traceroute) in auto mode\n",
      "update-alternatives: using /usr/bin/lft.db to provide /usr/bin/lft (lft) in auto mode\n",
      "update-alternatives: using /usr/bin/traceproto.db to provide /usr/bin/traceproto (traceproto) in auto mode\n",
      "update-alternatives: using /usr/sbin/tcptraceroute.db to provide /usr/sbin/tcptraceroute (tcptraceroute) in auto mode\n",
      "Processing triggers for man-db (2.9.1-1) ...\n",
      "\n",
      "\n",
      "WARNING: apt does not have a stable CLI interface. Use with caution in scripts.\n",
      "\n",
      "\n",
      "WARNING: apt does not have a stable CLI interface. Use with caution in scripts.\n",
      "\n",
      "debconf: unable to initialize frontend: Dialog\n",
      "debconf: (Dialog frontend will not work on a dumb terminal, an emacs shell buffer, or without a controlling terminal.)\n",
      "debconf: falling back to frontend: Readline\n",
      "debconf: unable to initialize frontend: Readline\n",
      "debconf: (This frontend requires a controlling tty.)\n",
      "debconf: falling back to frontend: Teletype\n",
      "dpkg-preconfigure: unable to re-open stdin: \n",
      "\n",
      "WARNING: apt does not have a stable CLI interface. Use with caution in scripts.\n",
      "\n",
      "debconf: unable to initialize frontend: Dialog\n",
      "debconf: (Dialog frontend will not work on a dumb terminal, an emacs shell buffer, or without a controlling terminal.)\n",
      "debconf: falling back to frontend: Readline\n",
      "debconf: unable to initialize frontend: Readline\n",
      "debconf: (This frontend requires a controlling tty.)\n",
      "debconf: falling back to frontend: Teletype\n",
      "dpkg-preconfigure: unable to re-open stdin: \n",
      "\n",
      "Get:1 http://security.ubuntu.com/ubuntu focal-security InRelease [114 kB]\n",
      "Hit:2 http://nova.clouds.archive.ubuntu.com/ubuntu focal InRelease\n",
      "Get:3 http://security.ubuntu.com/ubuntu focal-security/main amd64 Packages [830 kB]\n",
      "Get:4 http://nova.clouds.archive.ubuntu.com/ubuntu focal-updates InRelease [114 kB]\n",
      "Get:5 http://security.ubuntu.com/ubuntu focal-security/main Translation-en [162 kB]\n",
      "Get:6 http://security.ubuntu.com/ubuntu focal-security/main amd64 c-n-f Metadata [8604 B]\n",
      "Get:7 http://security.ubuntu.com/ubuntu focal-security/restricted amd64 Packages [374 kB]\n",
      "Get:8 http://security.ubuntu.com/ubuntu focal-security/restricted Translation-en [53.7 kB]\n",
      "Get:9 http://security.ubuntu.com/ubuntu focal-security/restricted amd64 c-n-f Metadata [500 B]\n",
      "Get:10 http://security.ubuntu.com/ubuntu focal-security/universe amd64 Packages [638 kB]\n",
      "Get:11 http://security.ubuntu.com/ubuntu focal-security/universe Translation-en [101 kB]\n",
      "Get:12 http://security.ubuntu.com/ubuntu focal-security/universe amd64 c-n-f Metadata [12.3 kB]\n",
      "Get:13 http://security.ubuntu.com/ubuntu focal-security/multiverse amd64 Packages [21.9 kB]\n",
      "Get:14 http://security.ubuntu.com/ubuntu focal-security/multiverse Translation-en [4948 B]\n",
      "Get:15 http://security.ubuntu.com/ubuntu focal-security/multiverse amd64 c-n-f Metadata [540 B]\n",
      "Get:16 http://nova.clouds.archive.ubuntu.com/ubuntu focal-backports InRelease [101 kB]\n",
      "Get:17 http://nova.clouds.archive.ubuntu.com/ubuntu focal/universe amd64 Packages [8628 kB]\n",
      "Get:18 http://nova.clouds.archive.ubuntu.com/ubuntu focal/universe Translation-en [5124 kB]\n",
      "Get:19 http://nova.clouds.archive.ubuntu.com/ubuntu focal/universe amd64 c-n-f Metadata [265 kB]\n",
      "Get:20 http://nova.clouds.archive.ubuntu.com/ubuntu focal/multiverse amd64 Packages [144 kB]\n",
      "Get:21 http://nova.clouds.archive.ubuntu.com/ubuntu focal/multiverse Translation-en [104 kB]\n",
      "Get:22 http://nova.clouds.archive.ubuntu.com/ubuntu focal/multiverse amd64 c-n-f Metadata [9136 B]\n",
      "Get:23 http://nova.clouds.archive.ubuntu.com/ubuntu focal-updates/main amd64 Packages [1175 kB]\n",
      "Get:24 http://nova.clouds.archive.ubuntu.com/ubuntu focal-updates/main Translation-en [254 kB]\n",
      "Get:25 http://nova.clouds.archive.ubuntu.com/ubuntu focal-updates/main amd64 c-n-f Metadata [14.1 kB]\n",
      "Get:26 http://nova.clouds.archive.ubuntu.com/ubuntu focal-updates/restricted amd64 Packages [411 kB]\n",
      "Get:27 http://nova.clouds.archive.ubuntu.com/ubuntu focal-updates/restricted Translation-en [58.8 kB]\n",
      "Get:28 http://nova.clouds.archive.ubuntu.com/ubuntu focal-updates/restricted amd64 c-n-f Metadata [500 B]\n",
      "Get:29 http://nova.clouds.archive.ubuntu.com/ubuntu focal-updates/universe amd64 Packages [853 kB]\n",
      "Get:30 http://nova.clouds.archive.ubuntu.com/ubuntu focal-updates/universe Translation-en [181 kB]\n",
      "Get:31 http://nova.clouds.archive.ubuntu.com/ubuntu focal-updates/universe amd64 c-n-f Metadata [18.8 kB]\n",
      "Get:32 http://nova.clouds.archive.ubuntu.com/ubuntu focal-updates/multiverse amd64 Packages [24.6 kB]\n",
      "Get:33 http://nova.clouds.archive.ubuntu.com/ubuntu focal-updates/multiverse Translation-en [6776 B]\n",
      "Get:34 http://nova.clouds.archive.ubuntu.com/ubuntu focal-updates/multiverse amd64 c-n-f Metadata [620 B]\n",
      "Get:35 http://nova.clouds.archive.ubuntu.com/ubuntu focal-backports/main amd64 Packages [2568 B]\n",
      "Get:36 http://nova.clouds.archive.ubuntu.com/ubuntu focal-backports/main Translation-en [1120 B]\n",
      "Get:37 http://nova.clouds.archive.ubuntu.com/ubuntu focal-backports/main amd64 c-n-f Metadata [400 B]\n",
      "Get:38 http://nova.clouds.archive.ubuntu.com/ubuntu focal-backports/restricted amd64 c-n-f Metadata [116 B]\n",
      "Get:39 http://nova.clouds.archive.ubuntu.com/ubuntu focal-backports/universe amd64 Packages [5812 B]\n",
      "Get:40 http://nova.clouds.archive.ubuntu.com/ubuntu focal-backports/universe Translation-en [2068 B]\n",
      "Get:41 http://nova.clouds.archive.ubuntu.com/ubuntu focal-backports/universe amd64 c-n-f Metadata [288 B]\n",
      "Get:42 http://nova.clouds.archive.ubuntu.com/ubuntu focal-backports/multiverse amd64 c-n-f Metadata [116 B]\n",
      "Fetched 19.8 MB in 4s (5558 kB/s)\n",
      "Reading package lists...\n",
      "Building dependency tree...\n",
      "Reading state information...\n",
      "121 packages can be upgraded. Run 'apt list --upgradable' to see them.\n",
      "Reading package lists...\n",
      "Building dependency tree...\n",
      "Reading state information...\n",
      "The following NEW packages will be installed:\n",
      "  net-tools\n",
      "0 upgraded, 1 newly installed, 0 to remove and 121 not upgraded.\n",
      "Need to get 196 kB of archives.\n",
      "After this operation, 864 kB of additional disk space will be used.\n",
      "Get:1 http://nova.clouds.archive.ubuntu.com/ubuntu focal/main amd64 net-tools amd64 1.60+git20180626.aebd88e-1ubuntu1 [196 kB]\n",
      "Fetched 196 kB in 0s (880 kB/s)\n",
      "Selecting previously unselected package net-tools.\n",
      "(Reading database ... 63441 files and directories currently installed.)\n",
      "Preparing to unpack .../net-tools_1.60+git20180626.aebd88e-1ubuntu1_amd64.deb ...\n",
      "Unpacking net-tools (1.60+git20180626.aebd88e-1ubuntu1) ...\n",
      "Setting up net-tools (1.60+git20180626.aebd88e-1ubuntu1) ...\n",
      "Processing triggers for man-db (2.9.1-1) ...\n",
      "Reading package lists...\n",
      "Building dependency tree...\n",
      "Reading state information...\n",
      "The following NEW packages will be installed:\n",
      "  traceroute\n",
      "0 upgraded, 1 newly installed, 0 to remove and 121 not upgraded.\n",
      "Need to get 45.4 kB of archives.\n",
      "After this operation, 152 kB of additional disk space will be used.\n",
      "Get:1 http://nova.clouds.archive.ubuntu.com/ubuntu focal/universe amd64 traceroute amd64 1:2.1.0-2 [45.4 kB]\n",
      "Fetched 45.4 kB in 0s (311 kB/s)\n",
      "Selecting previously unselected package traceroute.\n",
      "(Reading database ... 63490 files and directories currently installed.)\n",
      "Preparing to unpack .../traceroute_1%3a2.1.0-2_amd64.deb ...\n",
      "Unpacking traceroute (1:2.1.0-2) ...\n",
      "Setting up traceroute (1:2.1.0-2) ...\n",
      "update-alternatives: using /usr/bin/traceroute.db to provide /usr/bin/traceroute (traceroute) in auto mode\n",
      "update-alternatives: using /usr/bin/lft.db to provide /usr/bin/lft (lft) in auto mode\n",
      "update-alternatives: using /usr/bin/traceproto.db to provide /usr/bin/traceproto (traceproto) in auto mode\n",
      "update-alternatives: using /usr/sbin/tcptraceroute.db to provide /usr/sbin/tcptraceroute (tcptraceroute) in auto mode\n",
      "Processing triggers for man-db (2.9.1-1) ...\n",
      "\n",
      "\n",
      "WARNING: apt does not have a stable CLI interface. Use with caution in scripts.\n",
      "\n",
      "\n",
      "WARNING: apt does not have a stable CLI interface. Use with caution in scripts.\n",
      "\n",
      "debconf: unable to initialize frontend: Dialog\n",
      "debconf: (Dialog frontend will not work on a dumb terminal, an emacs shell buffer, or without a controlling terminal.)\n",
      "debconf: falling back to frontend: Readline\n",
      "debconf: unable to initialize frontend: Readline\n",
      "debconf: (This frontend requires a controlling tty.)\n",
      "debconf: falling back to frontend: Teletype\n",
      "dpkg-preconfigure: unable to re-open stdin: \n",
      "\n",
      "WARNING: apt does not have a stable CLI interface. Use with caution in scripts.\n",
      "\n",
      "debconf: unable to initialize frontend: Dialog\n",
      "debconf: (Dialog frontend will not work on a dumb terminal, an emacs shell buffer, or without a controlling terminal.)\n",
      "debconf: falling back to frontend: Readline\n",
      "debconf: unable to initialize frontend: Readline\n",
      "debconf: (This frontend requires a controlling tty.)\n",
      "debconf: falling back to frontend: Teletype\n",
      "dpkg-preconfigure: unable to re-open stdin: \n",
      "\n",
      "Get:1 http://security.ubuntu.com/ubuntu focal-security InRelease [114 kB]\n",
      "Hit:2 http://nova.clouds.archive.ubuntu.com/ubuntu focal InRelease\n",
      "Get:3 http://nova.clouds.archive.ubuntu.com/ubuntu focal-updates InRelease [114 kB]\n",
      "Get:4 http://security.ubuntu.com/ubuntu focal-security/main amd64 Packages [830 kB]\n",
      "Get:5 http://security.ubuntu.com/ubuntu focal-security/main Translation-en [162 kB]\n",
      "Get:6 http://security.ubuntu.com/ubuntu focal-security/main amd64 c-n-f Metadata [8604 B]\n",
      "Get:7 http://security.ubuntu.com/ubuntu focal-security/restricted amd64 Packages [374 kB]\n",
      "Get:8 http://security.ubuntu.com/ubuntu focal-security/restricted Translation-en [53.7 kB]\n",
      "Get:9 http://security.ubuntu.com/ubuntu focal-security/restricted amd64 c-n-f Metadata [500 B]\n",
      "Get:10 http://security.ubuntu.com/ubuntu focal-security/universe amd64 Packages [638 kB]\n",
      "Get:11 http://nova.clouds.archive.ubuntu.com/ubuntu focal-backports InRelease [101 kB]\n",
      "Get:12 http://security.ubuntu.com/ubuntu focal-security/universe Translation-en [101 kB]\n",
      "Get:13 http://security.ubuntu.com/ubuntu focal-security/universe amd64 c-n-f Metadata [12.3 kB]\n",
      "Get:14 http://security.ubuntu.com/ubuntu focal-security/multiverse amd64 Packages [21.9 kB]\n",
      "Get:15 http://security.ubuntu.com/ubuntu focal-security/multiverse Translation-en [4948 B]\n",
      "Get:16 http://security.ubuntu.com/ubuntu focal-security/multiverse amd64 c-n-f Metadata [540 B]\n",
      "Get:17 http://nova.clouds.archive.ubuntu.com/ubuntu focal/universe amd64 Packages [8628 kB]\n",
      "Get:18 http://nova.clouds.archive.ubuntu.com/ubuntu focal/universe Translation-en [5124 kB]\n",
      "Get:19 http://nova.clouds.archive.ubuntu.com/ubuntu focal/universe amd64 c-n-f Metadata [265 kB]\n",
      "Get:20 http://nova.clouds.archive.ubuntu.com/ubuntu focal/multiverse amd64 Packages [144 kB]\n",
      "Get:21 http://nova.clouds.archive.ubuntu.com/ubuntu focal/multiverse Translation-en [104 kB]\n",
      "Get:22 http://nova.clouds.archive.ubuntu.com/ubuntu focal/multiverse amd64 c-n-f Metadata [9136 B]\n",
      "Get:23 http://nova.clouds.archive.ubuntu.com/ubuntu focal-updates/main amd64 Packages [1175 kB]\n",
      "Get:24 http://nova.clouds.archive.ubuntu.com/ubuntu focal-updates/main Translation-en [254 kB]\n",
      "Get:25 http://nova.clouds.archive.ubuntu.com/ubuntu focal-updates/main amd64 c-n-f Metadata [14.1 kB]\n",
      "Get:26 http://nova.clouds.archive.ubuntu.com/ubuntu focal-updates/restricted amd64 Packages [411 kB]\n",
      "Get:27 http://nova.clouds.archive.ubuntu.com/ubuntu focal-updates/restricted Translation-en [58.8 kB]\n",
      "Get:28 http://nova.clouds.archive.ubuntu.com/ubuntu focal-updates/restricted amd64 c-n-f Metadata [500 B]\n",
      "Get:29 http://nova.clouds.archive.ubuntu.com/ubuntu focal-updates/universe amd64 Packages [853 kB]\n",
      "Get:30 http://nova.clouds.archive.ubuntu.com/ubuntu focal-updates/universe Translation-en [181 kB]\n",
      "Get:31 http://nova.clouds.archive.ubuntu.com/ubuntu focal-updates/universe amd64 c-n-f Metadata [18.8 kB]\n",
      "Get:32 http://nova.clouds.archive.ubuntu.com/ubuntu focal-updates/multiverse amd64 Packages [24.6 kB]\n",
      "Get:33 http://nova.clouds.archive.ubuntu.com/ubuntu focal-updates/multiverse Translation-en [6776 B]\n",
      "Get:34 http://nova.clouds.archive.ubuntu.com/ubuntu focal-updates/multiverse amd64 c-n-f Metadata [620 B]\n",
      "Get:35 http://nova.clouds.archive.ubuntu.com/ubuntu focal-backports/main amd64 Packages [2568 B]\n",
      "Get:36 http://nova.clouds.archive.ubuntu.com/ubuntu focal-backports/main Translation-en [1120 B]\n",
      "Get:37 http://nova.clouds.archive.ubuntu.com/ubuntu focal-backports/main amd64 c-n-f Metadata [400 B]\n",
      "Get:38 http://nova.clouds.archive.ubuntu.com/ubuntu focal-backports/restricted amd64 c-n-f Metadata [116 B]\n",
      "Get:39 http://nova.clouds.archive.ubuntu.com/ubuntu focal-backports/universe amd64 Packages [5812 B]\n",
      "Get:40 http://nova.clouds.archive.ubuntu.com/ubuntu focal-backports/universe Translation-en [2068 B]\n",
      "Get:41 http://nova.clouds.archive.ubuntu.com/ubuntu focal-backports/universe amd64 c-n-f Metadata [288 B]\n",
      "Get:42 http://nova.clouds.archive.ubuntu.com/ubuntu focal-backports/multiverse amd64 c-n-f Metadata [116 B]\n",
      "Fetched 19.8 MB in 4s (4694 kB/s)\n",
      "Reading package lists...\n",
      "Building dependency tree...\n",
      "Reading state information...\n",
      "53 packages can be upgraded. Run 'apt list --upgradable' to see them.\n",
      "Reading package lists...\n",
      "Building dependency tree...\n",
      "Reading state information...\n",
      "The following NEW packages will be installed:\n",
      "  net-tools\n",
      "0 upgraded, 1 newly installed, 0 to remove and 53 not upgraded.\n",
      "Need to get 196 kB of archives.\n",
      "After this operation, 864 kB of additional disk space will be used.\n",
      "Get:1 http://nova.clouds.archive.ubuntu.com/ubuntu focal/main amd64 net-tools amd64 1.60+git20180626.aebd88e-1ubuntu1 [196 kB]\n",
      "Fetched 196 kB in 1s (386 kB/s)\n",
      "Selecting previously unselected package net-tools.\n",
      "(Reading database ... 63527 files and directories currently installed.)\n",
      "Preparing to unpack .../net-tools_1.60+git20180626.aebd88e-1ubuntu1_amd64.deb ...\n",
      "Unpacking net-tools (1.60+git20180626.aebd88e-1ubuntu1) ...\n",
      "Setting up net-tools (1.60+git20180626.aebd88e-1ubuntu1) ...\n",
      "Processing triggers for man-db (2.9.1-1) ...\n",
      "Reading package lists...\n",
      "Building dependency tree...\n",
      "Reading state information...\n",
      "The following NEW packages will be installed:\n",
      "  traceroute\n",
      "0 upgraded, 1 newly installed, 0 to remove and 53 not upgraded.\n",
      "Need to get 45.4 kB of archives.\n",
      "After this operation, 152 kB of additional disk space will be used.\n",
      "Get:1 http://nova.clouds.archive.ubuntu.com/ubuntu focal/universe amd64 traceroute amd64 1:2.1.0-2 [45.4 kB]\n",
      "Fetched 45.4 kB in 0s (131 kB/s)\n",
      "Selecting previously unselected package traceroute.\n",
      "(Reading database ... 63576 files and directories currently installed.)\n",
      "Preparing to unpack .../traceroute_1%3a2.1.0-2_amd64.deb ...\n",
      "Unpacking traceroute (1:2.1.0-2) ...\n",
      "Setting up traceroute (1:2.1.0-2) ...\n",
      "update-alternatives: using /usr/bin/traceroute.db to provide /usr/bin/traceroute (traceroute) in auto mode\n",
      "update-alternatives: using /usr/bin/lft.db to provide /usr/bin/lft (lft) in auto mode\n",
      "update-alternatives: using /usr/bin/traceproto.db to provide /usr/bin/traceproto (traceproto) in auto mode\n",
      "update-alternatives: using /usr/sbin/tcptraceroute.db to provide /usr/sbin/tcptraceroute (tcptraceroute) in auto mode\n",
      "Processing triggers for man-db (2.9.1-1) ...\n",
      "\n",
      "\n",
      "WARNING: apt does not have a stable CLI interface. Use with caution in scripts.\n",
      "\n",
      "\n",
      "WARNING: apt does not have a stable CLI interface. Use with caution in scripts.\n",
      "\n",
      "debconf: unable to initialize frontend: Dialog\n",
      "debconf: (Dialog frontend will not work on a dumb terminal, an emacs shell buffer, or without a controlling terminal.)\n",
      "debconf: falling back to frontend: Readline\n",
      "debconf: unable to initialize frontend: Readline\n",
      "debconf: (This frontend requires a controlling tty.)\n",
      "debconf: falling back to frontend: Teletype\n",
      "dpkg-preconfigure: unable to re-open stdin: \n",
      "\n",
      "WARNING: apt does not have a stable CLI interface. Use with caution in scripts.\n",
      "\n",
      "debconf: unable to initialize frontend: Dialog\n",
      "debconf: (Dialog frontend will not work on a dumb terminal, an emacs shell buffer, or without a controlling terminal.)\n",
      "debconf: falling back to frontend: Readline\n",
      "debconf: unable to initialize frontend: Readline\n",
      "debconf: (This frontend requires a controlling tty.)\n",
      "debconf: falling back to frontend: Teletype\n",
      "dpkg-preconfigure: unable to re-open stdin: \n",
      "\n"
     ]
    }
   ],
   "source": [
    "stdin, stdout, stderr = clientnr1.exec_command('sudo apt update && sudo apt install net-tools && sudo apt install traceroute')\n",
    "print(stdout.read().decode(\"utf-8\"))\n",
    "print(stderr.read().decode(\"utf-8\"))\n",
    "stdin, stdout, stderr = clientnr2.exec_command('sudo apt update && sudo apt install net-tools && sudo apt install traceroute')\n",
    "print(stdout.read().decode(\"utf-8\"))\n",
    "print(stderr.read().decode(\"utf-8\"))\n",
    "stdin, stdout, stderr = clientn1.exec_command('sudo apt update && sudo apt install net-tools && sudo apt install traceroute')\n",
    "print(stdout.read().decode(\"utf-8\"))\n",
    "print(stderr.read().decode(\"utf-8\"))\n",
    "stdin, stdout, stderr = clientn2.exec_command('sudo apt update && sudo apt install net-tools && sudo apt install traceroute')\n",
    "print(stdout.read().decode(\"utf-8\"))\n",
    "print(stderr.read().decode(\"utf-8\"))"
   ]
  },
  {
   "cell_type": "markdown",
   "metadata": {},
   "source": [
    "### Now, our task is to configure the ptp link and the bridges."
   ]
  },
  {
   "cell_type": "markdown",
   "metadata": {},
   "source": [
    "### Let's first configure the ptp link. Let's look at the interfaces of `nr1` and `nr2`."
   ]
  },
  {
   "cell_type": "code",
   "execution_count": 50,
   "metadata": {},
   "outputs": [
    {
     "name": "stdout",
     "output_type": "stream",
     "text": [
      "1: lo: <LOOPBACK,UP,LOWER_UP> mtu 65536 qdisc noqueue state UNKNOWN group default qlen 1000\n",
      "    link/loopback 00:00:00:00:00:00 brd 00:00:00:00:00:00\n",
      "    inet 127.0.0.1/8 scope host lo\n",
      "       valid_lft forever preferred_lft forever\n",
      "    inet6 ::1/128 scope host \n",
      "       valid_lft forever preferred_lft forever\n",
      "2: ens3: <BROADCAST,MULTICAST,UP,LOWER_UP> mtu 9000 qdisc fq_codel state UP group default qlen 1000\n",
      "    link/ether fa:16:3e:3a:01:2c brd ff:ff:ff:ff:ff:ff\n",
      "    inet 10.20.4.232/24 brd 10.20.4.255 scope global dynamic ens3\n",
      "       valid_lft 86171sec preferred_lft 86171sec\n",
      "    inet6 fe80::f816:3eff:fe3a:12c/64 scope link \n",
      "       valid_lft forever preferred_lft forever\n",
      "3: ens7: <BROADCAST,MULTICAST> mtu 1500 qdisc noop state DOWN group default qlen 1000\n",
      "    link/ether 0c:42:a1:78:f8:04 brd ff:ff:ff:ff:ff:ff\n",
      "4: ens8: <BROADCAST,MULTICAST> mtu 1500 qdisc noop state DOWN group default qlen 1000\n",
      "    link/ether 0c:42:a1:78:f8:05 brd ff:ff:ff:ff:ff:ff\n",
      "\n",
      "\n"
     ]
    }
   ],
   "source": [
    "stdin, stdout, stderr = clientnr1.exec_command('ip a')\n",
    "print(stdout.read().decode(\"utf-8\"))\n",
    "print(stderr.read().decode(\"utf-8\"))"
   ]
  },
  {
   "cell_type": "code",
   "execution_count": 51,
   "metadata": {},
   "outputs": [
    {
     "name": "stdout",
     "output_type": "stream",
     "text": [
      "1: lo: <LOOPBACK,UP,LOWER_UP> mtu 65536 qdisc noqueue state UNKNOWN group default qlen 1000\n",
      "    link/loopback 00:00:00:00:00:00 brd 00:00:00:00:00:00\n",
      "    inet 127.0.0.1/8 scope host lo\n",
      "       valid_lft forever preferred_lft forever\n",
      "    inet6 ::1/128 scope host \n",
      "       valid_lft forever preferred_lft forever\n",
      "2: ens3: <BROADCAST,MULTICAST,UP,LOWER_UP> mtu 9000 qdisc fq_codel state UP group default qlen 1000\n",
      "    link/ether fa:16:3e:3d:83:b4 brd ff:ff:ff:ff:ff:ff\n",
      "    inet 10.20.4.78/24 brd 10.20.4.255 scope global dynamic ens3\n",
      "       valid_lft 86174sec preferred_lft 86174sec\n",
      "    inet6 fe80::f816:3eff:fe3d:83b4/64 scope link \n",
      "       valid_lft forever preferred_lft forever\n",
      "3: ens7: <BROADCAST,MULTICAST> mtu 1500 qdisc noop state DOWN group default qlen 1000\n",
      "    link/ether 04:3f:72:b7:18:ac brd ff:ff:ff:ff:ff:ff\n",
      "4: ens8: <BROADCAST,MULTICAST> mtu 1500 qdisc noop state DOWN group default qlen 1000\n",
      "    link/ether 04:3f:72:b7:18:ad brd ff:ff:ff:ff:ff:ff\n",
      "\n",
      "\n"
     ]
    }
   ],
   "source": [
    "stdin, stdout, stderr = clientnr2.exec_command('ip a')\n",
    "print(stdout.read().decode(\"utf-8\"))\n",
    "print(stderr.read().decode(\"utf-8\"))"
   ]
  },
  {
   "cell_type": "markdown",
   "metadata": {},
   "source": [
    "### We have specified that we want the ptp link to connect the first port of `nr1`'s NIC (which is `ens7`) to the first port of `nr2`'s NIC (which is also `ens7`)."
   ]
  },
  {
   "cell_type": "markdown",
   "metadata": {},
   "source": [
    "To configure the bridge, we need to work with tags. And to do that, we need to create a new interface (an example name that we will use: `ens7.200`) and activate it and activate it, along with its base interface."
   ]
  },
  {
   "cell_type": "markdown",
   "metadata": {},
   "source": [
    "### First, let's configure `nr1`'s side of the bridge. See the commands below."
   ]
  },
  {
   "cell_type": "code",
   "execution_count": 52,
   "metadata": {},
   "outputs": [
    {
     "name": "stdout",
     "output_type": "stream",
     "text": [
      "\n",
      "\n"
     ]
    }
   ],
   "source": [
    "stdin, stdout, stderr = clientnr1.exec_command('sudo ip link add link ens7 name ens7.200 type vlan id 200')\n",
    "print(stdout.read().decode(\"utf-8\"))\n",
    "print(stderr.read().decode(\"utf-8\"))"
   ]
  },
  {
   "cell_type": "code",
   "execution_count": 53,
   "metadata": {},
   "outputs": [
    {
     "name": "stdout",
     "output_type": "stream",
     "text": [
      "\n",
      "\n"
     ]
    }
   ],
   "source": [
    "stdin, stdout, stderr = clientnr1.exec_command('sudo ip link set dev ens7 up')\n",
    "print(stdout.read().decode(\"utf-8\"))\n",
    "print(stderr.read().decode(\"utf-8\"))"
   ]
  },
  {
   "cell_type": "code",
   "execution_count": 54,
   "metadata": {},
   "outputs": [
    {
     "name": "stdout",
     "output_type": "stream",
     "text": [
      "\n",
      "\n"
     ]
    }
   ],
   "source": [
    "stdin, stdout, stderr = clientnr1.exec_command('sudo ip link set dev ens7.200 up')\n",
    "print(stdout.read().decode(\"utf-8\"))\n",
    "print(stderr.read().decode(\"utf-8\"))"
   ]
  },
  {
   "cell_type": "code",
   "execution_count": 55,
   "metadata": {},
   "outputs": [
    {
     "name": "stdout",
     "output_type": "stream",
     "text": [
      "\n",
      "\n"
     ]
    }
   ],
   "source": [
    "stdin, stdout, stderr = clientnr1.exec_command('sudo ip addr add 192.168.10.51/24 dev ens7.200')\n",
    "print(stdout.read().decode(\"utf-8\"))\n",
    "print(stderr.read().decode(\"utf-8\"))"
   ]
  },
  {
   "cell_type": "markdown",
   "metadata": {},
   "source": [
    "<hr>"
   ]
  },
  {
   "cell_type": "markdown",
   "metadata": {},
   "source": [
    "### Now, let's configure `nr2`'s side of the bridge. See the commands below."
   ]
  },
  {
   "cell_type": "code",
   "execution_count": 56,
   "metadata": {},
   "outputs": [
    {
     "name": "stdout",
     "output_type": "stream",
     "text": [
      "\n",
      "\n"
     ]
    }
   ],
   "source": [
    "stdin, stdout, stderr = clientnr2.exec_command('sudo ip link add link ens7 name ens7.200 type vlan id 200')\n",
    "print(stdout.read().decode(\"utf-8\"))\n",
    "print(stderr.read().decode(\"utf-8\"))"
   ]
  },
  {
   "cell_type": "code",
   "execution_count": 57,
   "metadata": {},
   "outputs": [
    {
     "name": "stdout",
     "output_type": "stream",
     "text": [
      "\n",
      "\n"
     ]
    }
   ],
   "source": [
    "stdin, stdout, stderr = clientnr2.exec_command('sudo ip link set dev ens7 up')\n",
    "print(stdout.read().decode(\"utf-8\"))\n",
    "print(stderr.read().decode(\"utf-8\"))"
   ]
  },
  {
   "cell_type": "code",
   "execution_count": 58,
   "metadata": {},
   "outputs": [
    {
     "name": "stdout",
     "output_type": "stream",
     "text": [
      "\n",
      "\n"
     ]
    }
   ],
   "source": [
    "stdin, stdout, stderr = clientnr2.exec_command('sudo ip link set dev ens7.200 up')\n",
    "print(stdout.read().decode(\"utf-8\"))\n",
    "print(stderr.read().decode(\"utf-8\"))"
   ]
  },
  {
   "cell_type": "code",
   "execution_count": 59,
   "metadata": {},
   "outputs": [
    {
     "name": "stdout",
     "output_type": "stream",
     "text": [
      "\n",
      "\n"
     ]
    }
   ],
   "source": [
    "stdin, stdout, stderr = clientnr2.exec_command('sudo ip addr add 192.168.10.52/24 dev ens7.200')\n",
    "print(stdout.read().decode(\"utf-8\"))\n",
    "print(stderr.read().decode(\"utf-8\"))"
   ]
  },
  {
   "cell_type": "markdown",
   "metadata": {},
   "source": [
    "<hr>"
   ]
  },
  {
   "cell_type": "markdown",
   "metadata": {},
   "source": [
    "### Now the p2p link should be working. Let's ping."
   ]
  },
  {
   "cell_type": "code",
   "execution_count": 60,
   "metadata": {},
   "outputs": [
    {
     "name": "stdout",
     "output_type": "stream",
     "text": [
      "PING 192.168.10.52 (192.168.10.52) 56(84) bytes of data.\n",
      "64 bytes from 192.168.10.52: icmp_seq=1 ttl=64 time=113 ms\n",
      "64 bytes from 192.168.10.52: icmp_seq=2 ttl=64 time=56.3 ms\n",
      "64 bytes from 192.168.10.52: icmp_seq=3 ttl=64 time=56.3 ms\n",
      "64 bytes from 192.168.10.52: icmp_seq=4 ttl=64 time=56.3 ms\n",
      "64 bytes from 192.168.10.52: icmp_seq=5 ttl=64 time=56.3 ms\n",
      "\n",
      "--- 192.168.10.52 ping statistics ---\n",
      "5 packets transmitted, 5 received, 0% packet loss, time 4005ms\n",
      "rtt min/avg/max/mdev = 56.331/67.638/112.847/22.604 ms\n",
      "\n",
      "\n"
     ]
    }
   ],
   "source": [
    "stdin, stdout, stderr = clientnr1.exec_command('ping -c 5 192.168.10.52')\n",
    "print(stdout.read().decode(\"utf-8\"))\n",
    "print(stderr.read().decode(\"utf-8\"))"
   ]
  },
  {
   "cell_type": "code",
   "execution_count": 61,
   "metadata": {},
   "outputs": [
    {
     "name": "stdout",
     "output_type": "stream",
     "text": [
      "PING 192.168.10.51 (192.168.10.51) 56(84) bytes of data.\n",
      "64 bytes from 192.168.10.51: icmp_seq=1 ttl=64 time=56.5 ms\n",
      "64 bytes from 192.168.10.51: icmp_seq=2 ttl=64 time=56.3 ms\n",
      "64 bytes from 192.168.10.51: icmp_seq=3 ttl=64 time=56.3 ms\n",
      "64 bytes from 192.168.10.51: icmp_seq=4 ttl=64 time=56.3 ms\n",
      "64 bytes from 192.168.10.51: icmp_seq=5 ttl=64 time=56.3 ms\n",
      "\n",
      "--- 192.168.10.51 ping statistics ---\n",
      "5 packets transmitted, 5 received, 0% packet loss, time 4006ms\n",
      "rtt min/avg/max/mdev = 56.315/56.363/56.505/0.071 ms\n",
      "\n",
      "\n"
     ]
    }
   ],
   "source": [
    "stdin, stdout, stderr = clientnr2.exec_command('ping -c 5 192.168.10.51')\n",
    "print(stdout.read().decode(\"utf-8\"))\n",
    "print(stderr.read().decode(\"utf-8\"))"
   ]
  },
  {
   "cell_type": "markdown",
   "metadata": {},
   "source": [
    "### We can see that the p2p link is working. We have finished setting up the p2p link between `nr1` and `nr2`."
   ]
  },
  {
   "cell_type": "markdown",
   "metadata": {},
   "source": [
    "## Now let's configure the bridges. We have a bridge between `n1` and `nr1`, and a bridge between `n2` and `nr2`."
   ]
  },
  {
   "cell_type": "markdown",
   "metadata": {},
   "source": [
    "### We have specified that we want a bridge to connect the first port of `n1` (which is `ens7`) to the second port of `nr1` (which is `ens8`).\n",
    "\n",
    "### And we have specified that we want a bridge to connect the first port of `n2` (which is `ens7`) to the second port of `nr2` (which is `ens8`)."
   ]
  },
  {
   "cell_type": "markdown",
   "metadata": {},
   "source": [
    "### For every interface on the two ends of the bridge, we need add an IP address, and activate the interface.\n",
    "\n",
    "So for example, we add the IP address `192.168.11.53` to the interface `ens7` on `n1` by issuing the command: `sudo ip addr add 192.168.11.53/24 dev ens7`.\n",
    "\n",
    "And we activate the interface `ens7` by issuing the command `sudo ip link set dev ens7 up`."
   ]
  },
  {
   "cell_type": "code",
   "execution_count": 62,
   "metadata": {},
   "outputs": [
    {
     "name": "stdout",
     "output_type": "stream",
     "text": [
      "\n",
      "\n"
     ]
    }
   ],
   "source": [
    "stdin, stdout, stderr = clientn1.exec_command('sudo ip addr add 192.168.11.53/24 dev ens7')\n",
    "print(stdout.read().decode(\"utf-8\"))\n",
    "print(stderr.read().decode(\"utf-8\"))"
   ]
  },
  {
   "cell_type": "code",
   "execution_count": 63,
   "metadata": {},
   "outputs": [
    {
     "name": "stdout",
     "output_type": "stream",
     "text": [
      "\n",
      "\n"
     ]
    }
   ],
   "source": [
    "stdin, stdout, stderr = clientn1.exec_command('sudo ip link set dev ens7 up')\n",
    "print(stdout.read().decode(\"utf-8\"))\n",
    "print(stderr.read().decode(\"utf-8\"))"
   ]
  },
  {
   "cell_type": "markdown",
   "metadata": {},
   "source": [
    "<hr>"
   ]
  },
  {
   "cell_type": "code",
   "execution_count": 64,
   "metadata": {},
   "outputs": [
    {
     "name": "stdout",
     "output_type": "stream",
     "text": [
      "\n",
      "\n"
     ]
    }
   ],
   "source": [
    "stdin, stdout, stderr = clientnr1.exec_command('sudo ip addr add 192.168.11.51/24 dev ens8')\n",
    "print(stdout.read().decode(\"utf-8\"))\n",
    "print(stderr.read().decode(\"utf-8\"))"
   ]
  },
  {
   "cell_type": "code",
   "execution_count": 65,
   "metadata": {},
   "outputs": [
    {
     "name": "stdout",
     "output_type": "stream",
     "text": [
      "\n",
      "\n"
     ]
    }
   ],
   "source": [
    "stdin, stdout, stderr = clientnr1.exec_command('sudo ip link set dev ens8 up')\n",
    "print(stdout.read().decode(\"utf-8\"))\n",
    "print(stderr.read().decode(\"utf-8\"))"
   ]
  },
  {
   "cell_type": "markdown",
   "metadata": {},
   "source": [
    "### Now let's ping."
   ]
  },
  {
   "cell_type": "code",
   "execution_count": 66,
   "metadata": {},
   "outputs": [
    {
     "name": "stdout",
     "output_type": "stream",
     "text": [
      "PING 192.168.11.51 (192.168.11.51) 56(84) bytes of data.\n",
      "64 bytes from 192.168.11.51: icmp_seq=1 ttl=64 time=0.500 ms\n",
      "64 bytes from 192.168.11.51: icmp_seq=2 ttl=64 time=0.065 ms\n",
      "64 bytes from 192.168.11.51: icmp_seq=3 ttl=64 time=0.067 ms\n",
      "64 bytes from 192.168.11.51: icmp_seq=4 ttl=64 time=0.100 ms\n",
      "64 bytes from 192.168.11.51: icmp_seq=5 ttl=64 time=0.064 ms\n",
      "\n",
      "--- 192.168.11.51 ping statistics ---\n",
      "5 packets transmitted, 5 received, 0% packet loss, time 4082ms\n",
      "rtt min/avg/max/mdev = 0.064/0.159/0.500/0.170 ms\n",
      "\n",
      "\n"
     ]
    }
   ],
   "source": [
    "stdin, stdout, stderr = clientn1.exec_command('ping -c 5 192.168.11.51')\n",
    "print(stdout.read().decode(\"utf-8\"))\n",
    "print(stderr.read().decode(\"utf-8\"))"
   ]
  },
  {
   "cell_type": "code",
   "execution_count": 67,
   "metadata": {},
   "outputs": [
    {
     "name": "stdout",
     "output_type": "stream",
     "text": [
      "PING 192.168.11.53 (192.168.11.53) 56(84) bytes of data.\n",
      "64 bytes from 192.168.11.53: icmp_seq=1 ttl=64 time=0.146 ms\n",
      "64 bytes from 192.168.11.53: icmp_seq=2 ttl=64 time=0.100 ms\n",
      "64 bytes from 192.168.11.53: icmp_seq=3 ttl=64 time=0.077 ms\n",
      "64 bytes from 192.168.11.53: icmp_seq=4 ttl=64 time=0.059 ms\n",
      "64 bytes from 192.168.11.53: icmp_seq=5 ttl=64 time=0.055 ms\n",
      "\n",
      "--- 192.168.11.53 ping statistics ---\n",
      "5 packets transmitted, 5 received, 0% packet loss, time 4101ms\n",
      "rtt min/avg/max/mdev = 0.055/0.087/0.146/0.033 ms\n",
      "\n",
      "\n"
     ]
    }
   ],
   "source": [
    "stdin, stdout, stderr = clientnr1.exec_command('ping -c 5 192.168.11.53')\n",
    "print(stdout.read().decode(\"utf-8\"))\n",
    "print(stderr.read().decode(\"utf-8\"))"
   ]
  },
  {
   "cell_type": "markdown",
   "metadata": {},
   "source": [
    "### We can see that the two nodes can ping each other. The link between `n1` and `nr1` is set."
   ]
  },
  {
   "cell_type": "markdown",
   "metadata": {},
   "source": [
    "### Now let's do the same thing for `n2` and `nr2`."
   ]
  },
  {
   "cell_type": "code",
   "execution_count": 68,
   "metadata": {},
   "outputs": [
    {
     "name": "stdout",
     "output_type": "stream",
     "text": [
      "\n",
      "\n"
     ]
    }
   ],
   "source": [
    "stdin, stdout, stderr = clientn2.exec_command('sudo ip addr add 192.168.12.54/24 dev ens7')\n",
    "print(stdout.read().decode(\"utf-8\"))\n",
    "print(stderr.read().decode(\"utf-8\"))"
   ]
  },
  {
   "cell_type": "code",
   "execution_count": 69,
   "metadata": {},
   "outputs": [
    {
     "name": "stdout",
     "output_type": "stream",
     "text": [
      "\n",
      "\n"
     ]
    }
   ],
   "source": [
    "stdin, stdout, stderr = clientn2.exec_command('sudo ip link set dev ens7 up')\n",
    "print(stdout.read().decode(\"utf-8\"))\n",
    "print(stderr.read().decode(\"utf-8\"))"
   ]
  },
  {
   "cell_type": "markdown",
   "metadata": {},
   "source": [
    "<hr>"
   ]
  },
  {
   "cell_type": "code",
   "execution_count": 70,
   "metadata": {},
   "outputs": [
    {
     "name": "stdout",
     "output_type": "stream",
     "text": [
      "\n",
      "\n"
     ]
    }
   ],
   "source": [
    "stdin, stdout, stderr = clientnr2.exec_command('sudo ip addr add 192.168.12.52/24 dev ens8')\n",
    "print(stdout.read().decode(\"utf-8\"))\n",
    "print(stderr.read().decode(\"utf-8\"))"
   ]
  },
  {
   "cell_type": "code",
   "execution_count": 71,
   "metadata": {},
   "outputs": [
    {
     "name": "stdout",
     "output_type": "stream",
     "text": [
      "\n",
      "\n"
     ]
    }
   ],
   "source": [
    "stdin, stdout, stderr = clientnr2.exec_command('sudo ip link set dev ens8 up')\n",
    "print(stdout.read().decode(\"utf-8\"))\n",
    "print(stderr.read().decode(\"utf-8\"))"
   ]
  },
  {
   "cell_type": "markdown",
   "metadata": {},
   "source": [
    "### Now let's ping."
   ]
  },
  {
   "cell_type": "code",
   "execution_count": 72,
   "metadata": {},
   "outputs": [
    {
     "name": "stdout",
     "output_type": "stream",
     "text": [
      "PING 192.168.12.52 (192.168.12.52) 56(84) bytes of data.\n",
      "64 bytes from 192.168.12.52: icmp_seq=1 ttl=64 time=0.265 ms\n",
      "64 bytes from 192.168.12.52: icmp_seq=2 ttl=64 time=0.084 ms\n",
      "64 bytes from 192.168.12.52: icmp_seq=3 ttl=64 time=0.074 ms\n",
      "64 bytes from 192.168.12.52: icmp_seq=4 ttl=64 time=0.075 ms\n",
      "64 bytes from 192.168.12.52: icmp_seq=5 ttl=64 time=0.082 ms\n",
      "\n",
      "--- 192.168.12.52 ping statistics ---\n",
      "5 packets transmitted, 5 received, 0% packet loss, time 4083ms\n",
      "rtt min/avg/max/mdev = 0.074/0.116/0.265/0.074 ms\n",
      "\n",
      "\n"
     ]
    }
   ],
   "source": [
    "stdin, stdout, stderr = clientn2.exec_command('ping -c 5 192.168.12.52')\n",
    "print(stdout.read().decode(\"utf-8\"))\n",
    "print(stderr.read().decode(\"utf-8\"))"
   ]
  },
  {
   "cell_type": "code",
   "execution_count": 73,
   "metadata": {},
   "outputs": [
    {
     "name": "stdout",
     "output_type": "stream",
     "text": [
      "PING 192.168.12.54 (192.168.12.54) 56(84) bytes of data.\n",
      "64 bytes from 192.168.12.54: icmp_seq=1 ttl=64 time=0.067 ms\n",
      "64 bytes from 192.168.12.54: icmp_seq=2 ttl=64 time=0.049 ms\n",
      "64 bytes from 192.168.12.54: icmp_seq=3 ttl=64 time=0.059 ms\n",
      "64 bytes from 192.168.12.54: icmp_seq=4 ttl=64 time=0.066 ms\n",
      "64 bytes from 192.168.12.54: icmp_seq=5 ttl=64 time=0.083 ms\n",
      "\n",
      "--- 192.168.12.54 ping statistics ---\n",
      "5 packets transmitted, 5 received, 0% packet loss, time 4077ms\n",
      "rtt min/avg/max/mdev = 0.049/0.064/0.083/0.011 ms\n",
      "\n",
      "\n"
     ]
    }
   ],
   "source": [
    "stdin, stdout, stderr = clientnr2.exec_command('ping -c 5 192.168.12.54')\n",
    "print(stdout.read().decode(\"utf-8\"))\n",
    "print(stderr.read().decode(\"utf-8\"))"
   ]
  },
  {
   "cell_type": "markdown",
   "metadata": {},
   "source": [
    "### The link between `n2` and `nr2` is set."
   ]
  },
  {
   "cell_type": "markdown",
   "metadata": {},
   "source": [
    "## We have set up each of the links that are between each two nodes. Now we want `n1` and `n2` to be able to reach each other through `nr1` and `nr2`."
   ]
  },
  {
   "cell_type": "markdown",
   "metadata": {},
   "source": [
    "First, we need to let `nr1` and `nr2` forward packets. We can do that by issuing the command\n",
    "\n",
    "`sudo sysctl -w net.ipv4.ip_forward=1`."
   ]
  },
  {
   "cell_type": "code",
   "execution_count": 94,
   "metadata": {},
   "outputs": [
    {
     "name": "stdout",
     "output_type": "stream",
     "text": [
      "net.ipv4.ip_forward = 1\n",
      "\n",
      "\n"
     ]
    }
   ],
   "source": [
    "stdin, stdout, stderr = clientnr1.exec_command('sudo sysctl -w net.ipv4.ip_forward=1')\n",
    "print(stdout.read().decode(\"utf-8\"))\n",
    "print(stderr.read().decode(\"utf-8\"))"
   ]
  },
  {
   "cell_type": "code",
   "execution_count": 77,
   "metadata": {},
   "outputs": [
    {
     "name": "stdout",
     "output_type": "stream",
     "text": [
      "net.ipv4.ip_forward = 1\n",
      "\n",
      "\n"
     ]
    }
   ],
   "source": [
    "stdin, stdout, stderr = clientnr2.exec_command('sudo sysctl -w net.ipv4.ip_forward=1')\n",
    "print(stdout.read().decode(\"utf-8\"))\n",
    "print(stderr.read().decode(\"utf-8\"))"
   ]
  },
  {
   "cell_type": "markdown",
   "metadata": {},
   "source": [
    "### Next, we need to setup the routes."
   ]
  },
  {
   "cell_type": "code",
   "execution_count": 78,
   "metadata": {},
   "outputs": [
    {
     "name": "stdout",
     "output_type": "stream",
     "text": [
      "\n",
      "\n"
     ]
    }
   ],
   "source": [
    "stdin, stdout, stderr = clientn1.exec_command('sudo ip route add 192.168.12.0/24 via 192.168.11.51')\n",
    "print(stdout.read().decode(\"utf-8\"))\n",
    "print(stderr.read().decode(\"utf-8\"))"
   ]
  },
  {
   "cell_type": "code",
   "execution_count": 79,
   "metadata": {},
   "outputs": [
    {
     "name": "stdout",
     "output_type": "stream",
     "text": [
      "\n",
      "\n"
     ]
    }
   ],
   "source": [
    "stdin, stdout, stderr = clientn2.exec_command('sudo ip route add 192.168.11.0/24 via 192.168.12.52')\n",
    "print(stdout.read().decode(\"utf-8\"))\n",
    "print(stderr.read().decode(\"utf-8\"))"
   ]
  },
  {
   "cell_type": "code",
   "execution_count": 109,
   "metadata": {},
   "outputs": [
    {
     "name": "stdout",
     "output_type": "stream",
     "text": [
      "\n",
      "\n"
     ]
    }
   ],
   "source": [
    "stdin, stdout, stderr = clientnr1.exec_command('sudo ip route add 192.168.12.0/24 via 192.168.10.52')\n",
    "print(stdout.read().decode(\"utf-8\"))\n",
    "print(stderr.read().decode(\"utf-8\"))"
   ]
  },
  {
   "cell_type": "code",
   "execution_count": 110,
   "metadata": {},
   "outputs": [
    {
     "name": "stdout",
     "output_type": "stream",
     "text": [
      "\n",
      "\n"
     ]
    }
   ],
   "source": [
    "stdin, stdout, stderr = clientnr2.exec_command('sudo ip route add 192.168.11.0/24 via 192.168.10.51')\n",
    "print(stdout.read().decode(\"utf-8\"))\n",
    "print(stderr.read().decode(\"utf-8\"))"
   ]
  },
  {
   "cell_type": "markdown",
   "metadata": {},
   "source": [
    "### Now let's ping."
   ]
  },
  {
   "cell_type": "code",
   "execution_count": 111,
   "metadata": {},
   "outputs": [
    {
     "name": "stdout",
     "output_type": "stream",
     "text": [
      "PING 192.168.12.54 (192.168.12.54) 56(84) bytes of data.\n",
      "64 bytes from 192.168.12.54: icmp_seq=1 ttl=62 time=56.6 ms\n",
      "64 bytes from 192.168.12.54: icmp_seq=2 ttl=62 time=56.4 ms\n",
      "64 bytes from 192.168.12.54: icmp_seq=3 ttl=62 time=56.4 ms\n",
      "64 bytes from 192.168.12.54: icmp_seq=4 ttl=62 time=56.5 ms\n",
      "64 bytes from 192.168.12.54: icmp_seq=5 ttl=62 time=56.5 ms\n",
      "\n",
      "--- 192.168.12.54 ping statistics ---\n",
      "5 packets transmitted, 5 received, 0% packet loss, time 4006ms\n",
      "rtt min/avg/max/mdev = 56.418/56.460/56.550/0.047 ms\n",
      "\n",
      "\n"
     ]
    }
   ],
   "source": [
    "stdin, stdout, stderr = clientn1.exec_command('ping -c 5 192.168.12.54')\n",
    "print(stdout.read().decode(\"utf-8\"))\n",
    "print(stderr.read().decode(\"utf-8\"))"
   ]
  },
  {
   "cell_type": "code",
   "execution_count": 112,
   "metadata": {},
   "outputs": [
    {
     "name": "stdout",
     "output_type": "stream",
     "text": [
      "PING 192.168.11.53 (192.168.11.53) 56(84) bytes of data.\n",
      "64 bytes from 192.168.11.53: icmp_seq=1 ttl=62 time=56.4 ms\n",
      "64 bytes from 192.168.11.53: icmp_seq=2 ttl=62 time=56.4 ms\n",
      "64 bytes from 192.168.11.53: icmp_seq=3 ttl=62 time=56.4 ms\n",
      "64 bytes from 192.168.11.53: icmp_seq=4 ttl=62 time=56.4 ms\n",
      "64 bytes from 192.168.11.53: icmp_seq=5 ttl=62 time=56.4 ms\n",
      "\n",
      "--- 192.168.11.53 ping statistics ---\n",
      "5 packets transmitted, 5 received, 0% packet loss, time 4006ms\n",
      "rtt min/avg/max/mdev = 56.418/56.430/56.447/0.009 ms\n",
      "\n",
      "\n"
     ]
    }
   ],
   "source": [
    "stdin, stdout, stderr = clientn2.exec_command('ping -c 5 192.168.11.53')\n",
    "print(stdout.read().decode(\"utf-8\"))\n",
    "print(stderr.read().decode(\"utf-8\"))"
   ]
  },
  {
   "cell_type": "markdown",
   "metadata": {},
   "source": [
    "### We can see that `n1` and `n2` can reach each other."
   ]
  },
  {
   "cell_type": "markdown",
   "metadata": {},
   "source": [
    "### Now let's traceroute."
   ]
  },
  {
   "cell_type": "code",
   "execution_count": 113,
   "metadata": {},
   "outputs": [
    {
     "name": "stdout",
     "output_type": "stream",
     "text": [
      "traceroute to 192.168.12.54 (192.168.12.54), 30 hops max, 60 byte packets\n",
      " 1  192.168.11.51 (192.168.11.51)  0.120 ms  0.103 ms  0.098 ms\n",
      " 2  192.168.10.52 (192.168.10.52)  56.377 ms  56.372 ms  56.367 ms\n",
      " 3  192.168.12.54 (192.168.12.54)  56.453 ms  56.405 ms  56.400 ms\n",
      "\n",
      "\n"
     ]
    }
   ],
   "source": [
    "stdin, stdout, stderr = clientn1.exec_command('traceroute 192.168.12.54')\n",
    "print(stdout.read().decode(\"utf-8\"))\n",
    "print(stderr.read().decode(\"utf-8\"))"
   ]
  },
  {
   "cell_type": "code",
   "execution_count": 114,
   "metadata": {},
   "outputs": [
    {
     "name": "stdout",
     "output_type": "stream",
     "text": [
      "traceroute to 192.168.11.53 (192.168.11.53), 30 hops max, 60 byte packets\n",
      " 1  192.168.12.52 (192.168.12.52)  0.052 ms  0.052 ms  0.035 ms\n",
      " 2  192.168.10.51 (192.168.10.51)  56.365 ms  56.358 ms  56.352 ms\n",
      " 3  192.168.11.53 (192.168.11.53)  56.395 ms  56.408 ms  56.382 ms\n",
      "\n",
      "\n"
     ]
    }
   ],
   "source": [
    "stdin, stdout, stderr = clientn2.exec_command('traceroute 192.168.11.53')\n",
    "print(stdout.read().decode(\"utf-8\"))\n",
    "print(stderr.read().decode(\"utf-8\"))"
   ]
  },
  {
   "cell_type": "markdown",
   "metadata": {},
   "source": [
    "### You can see the hops.\n",
    "\n",
    "For `n1` to reach `n2`, it first passes by `nr1` (which is `192.168.11.51`), then it passes by `nr2` (which is `192.168.10.52`), and finally it reaches `n2` (which is `192.168.12.54`).\n",
    "\n",
    "For `n2` to reach `n1`, it first passes by `nr2` (which is `192.168.12.52`), then it passes by `nr1` (which is `192.168.10.51`), and finally it reaches `n1` (which is `192.168.11.53`)."
   ]
  },
  {
   "cell_type": "markdown",
   "metadata": {},
   "source": [
    "### Finally, you can delete the slice using the cell below."
   ]
  },
  {
   "cell_type": "code",
   "execution_count": null,
   "metadata": {},
   "outputs": [],
   "source": [
    "status, result = slice_manager.delete(slice_id=slice_id)\n",
    "\n",
    "print(\"Response Status {}\".format(status))\n",
    "print(\"Response received {}\".format(result))"
   ]
  }
 ],
 "metadata": {
  "kernelspec": {
   "display_name": "Python 3",
   "language": "python",
   "name": "python3"
  },
  "language_info": {
   "codemirror_mode": {
    "name": "ipython",
    "version": 3
   },
   "file_extension": ".py",
   "mimetype": "text/x-python",
   "name": "python",
   "nbconvert_exporter": "python",
   "pygments_lexer": "ipython3",
   "version": "3.9.2"
  }
 },
 "nbformat": 4,
 "nbformat_minor": 4
}

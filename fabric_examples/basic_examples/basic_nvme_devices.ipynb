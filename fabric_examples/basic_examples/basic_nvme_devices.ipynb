{
 "cells": [
  {
   "cell_type": "markdown",
   "metadata": {
    "tags": []
   },
   "source": [
    "#  Using FABRIC NVMe Devices\n",
    "\n",
    "Your compute nodes can include fast NVMe storage devices. These devices are made available as FABRIC components and can be added to your nodes like any other component.\n",
    "\n",
    "This example notebook will demonstrate how to reserve and use FABRIC NVMe storage. \n",
    "\n",
    "\n",
    "## Configure the Environment"
   ]
  },
  {
   "cell_type": "code",
   "execution_count": null,
   "metadata": {},
   "outputs": [],
   "source": [
    "import os\n",
    "from fabrictestbed.slice_manager import SliceManager, Status, SliceState\n",
    "import json"
   ]
  },
  {
   "cell_type": "code",
   "execution_count": null,
   "metadata": {},
   "outputs": [],
   "source": [
    "bastion_public_addr = 'bastion-1.fabric-testbed.net'\n",
    "bastion_private_ipv4_addr = '192.168.11.226'\n",
    "bastion_private_ipv6_addr = '2600:2701:5000:a902::c'\n",
    "\n",
    "bastion_username = '<your bastion username>'\n",
    "\n",
    "bastion_key_filename = os.environ['HOME'] + \"/.ssh/id_rsa_fabric\"\n",
    "\n",
    "ssh_key_file_priv=os.environ['HOME']+\"/.ssh/id_rsa\"\n",
    "ssh_key_file_pub=os.environ['HOME']+\"/.ssh/id_rsa.pub\"\n",
    "\n",
    "ssh_key_pub = None\n",
    "with open (ssh_key_file_pub, \"r\") as myfile:\n",
    "    ssh_key_pub=myfile.read()\n",
    "    ssh_key_pub=ssh_key_pub.strip()\n"
   ]
  },
  {
   "cell_type": "code",
   "execution_count": null,
   "metadata": {},
   "outputs": [],
   "source": [
    "credmgr_host = os.environ['FABRIC_CREDMGR_HOST']\n",
    "print(f\"FABRIC Credential Manager   : {credmgr_host}\")\n",
    "\n",
    "orchestrator_host = os.environ['FABRIC_ORCHESTRATOR_HOST']\n",
    "print(f\"FABRIC Orchestrator         : {orchestrator_host}\")"
   ]
  },
  {
   "cell_type": "markdown",
   "metadata": {},
   "source": [
    "## Create Slice Manager Object\n",
    "Users can request tokens with different Project and Scopes by altering `project_name` and `scope` parameters in the refresh call below."
   ]
  },
  {
   "cell_type": "code",
   "execution_count": null,
   "metadata": {},
   "outputs": [],
   "source": [
    "slice_manager = SliceManager(oc_host=orchestrator_host, \n",
    "                             cm_host=credmgr_host ,\n",
    "                             project_name='all', \n",
    "                             scope='all')\n",
    "\n",
    "# Initialize the slice manager\n",
    "slice_manager.initialize()"
   ]
  },
  {
   "cell_type": "markdown",
   "metadata": {},
   "source": [
    "## Create a Node\n",
    "\n",
    "The cell below creates a slice that contains a single node with a 1TB NVMe device. \n",
    "\n",
    "\n",
    "### Set the Slice Name and FABRIC Site"
   ]
  },
  {
   "cell_type": "code",
   "execution_count": null,
   "metadata": {},
   "outputs": [],
   "source": [
    "from fabrictestbed.slice_editor import ComponentModelType\n",
    "\n",
    "slice_name=\"MySliceNVME2\"\n",
    "site_name=\"MAX\"\n",
    "node_name='Node1'\n",
    "username='centos'\n",
    "image = 'default_centos_8'\n",
    "image_type = 'qcow2'\n",
    "cores = 2\n",
    "ram = 16\n",
    "disk = 100\n",
    "\n",
    "nvme_name='nvme1'\n",
    "nvme_model_type = ComponentModelType.NVME_P4510"
   ]
  },
  {
   "cell_type": "code",
   "execution_count": null,
   "metadata": {},
   "outputs": [],
   "source": [
    "from fabrictestbed.slice_editor import ExperimentTopology, Capacities \n",
    "# Create topology\n",
    "t = ExperimentTopology()\n",
    "\n",
    "# Add node\n",
    "n1 = t.add_node(name=node_name, site=site_name)\n",
    "\n",
    "# Set capacities\n",
    "cap = Capacities()\n",
    "cap.set_fields(core=cores, ram=ram, disk=disk)\n",
    "\n",
    "# Set Properties\n",
    "n1.set_properties(capacities=cap, image_type=image_type, image_ref=image)\n",
    "\n",
    "# Add the PCI NVMe device\n",
    "n1.add_component(model_type=nvme_model_type, name=nvme_name)\n",
    "\n",
    "# Generate Slice Graph\n",
    "slice_graph = t.serialize()\n",
    "\n",
    "# Request slice from Orchestrator\n",
    "return_status, slice_reservations = slice_manager.create(slice_name=slice_name, \n",
    "                                            slice_graph=slice_graph, \n",
    "                                            ssh_key=ssh_key_pub)\n",
    "\n",
    "if return_status == Status.OK:\n",
    "    slice_id = slice_reservations[0].get_slice_id()\n",
    "    print(\"Submitted slice creation request. Slice ID: {}\".format(slice_id))\n",
    "else:\n",
    "    print(f\"Failure: {slice_reservations}\")"
   ]
  },
  {
   "cell_type": "markdown",
   "metadata": {},
   "source": [
    "## Get the Slice"
   ]
  },
  {
   "cell_type": "code",
   "execution_count": null,
   "metadata": {
    "tags": []
   },
   "outputs": [],
   "source": [
    "import time\n",
    "def wait_for_slice(slice,timeout=180,interval=10,progress=False):\n",
    "    timeout_start = time.time()\n",
    "\n",
    "    if progress: print(\"Waiting for slice .\", end = '')\n",
    "    while time.time() < timeout_start + timeout:\n",
    "        return_status, slices = slice_manager.slices(excludes=[SliceState.Dead,SliceState.Closing])\n",
    "\n",
    "        if return_status == Status.OK:\n",
    "            slice = list(filter(lambda x: x.slice_name == slice_name, slices))[0]\n",
    "            if slice.slice_state == \"StableOK\":\n",
    "                if progress: print(\" Slice state: {}\".format(slice.slice_state))\n",
    "                return slice\n",
    "            if slice.slice_state == \"Closing\" or slice.slice_state == \"Dead\":\n",
    "                if progress: print(\" Slice state: {}\".format(slice.slice_state))\n",
    "                return slice    \n",
    "        else:\n",
    "            print(f\"Failure: {slices}\")\n",
    "        \n",
    "        if progress: print(\".\", end = '')\n",
    "        time.sleep(interval)\n",
    "    \n",
    "    if time.time() >= timeout_start + timeout:\n",
    "        if progress: print(\" Timeout exceeded ({} sec). Slice: {} ({})\".format(timeout,slice.slice_name,slice.slice_state))\n",
    "        return slice    \n",
    "\n",
    "\n",
    "return_status, slices = slice_manager.slices(excludes=[SliceState.Dead,SliceState.Closing])\n",
    "\n",
    "if return_status == Status.OK:\n",
    "    slice = list(filter(lambda x: x.slice_name == slice_name, slices))[0]\n",
    "    slice = wait_for_slice(slice, progress=True)\n",
    "\n",
    "print()\n",
    "print(\"Slice Name : {}\".format(slice.slice_name))\n",
    "print(\"ID         : {}\".format(slice.slice_id))\n",
    "print(\"State      : {}\".format(slice.slice_state))\n",
    "print(\"Lease End  : {}\".format(slice.lease_end))"
   ]
  },
  {
   "cell_type": "markdown",
   "metadata": {
    "tags": []
   },
   "source": [
    "## Get the Node\n",
    "\n",
    "Retrieve the node information and save the management IP address.\n"
   ]
  },
  {
   "cell_type": "code",
   "execution_count": null,
   "metadata": {},
   "outputs": [],
   "source": [
    "return_status, experiment_topology = slice_manager.get_slice_topology(slice_object=slice)\n",
    "\n",
    "node = experiment_topology.nodes[node_name]\n",
    "\n",
    "management_ip = str(node.get_property(pname='management_ip'))\n",
    "print(\"Node Name        : {}\".format(node.name))\n",
    "print(\"Management IP    : {}\".format(management_ip))\n",
    "print()\n",
    "\n",
    "nvme1 = node.components[nvme_name]\n",
    "print(\"NVMe Name        : {}\".format(nvme1.name))\n",
    "print(\"Details          : {}\".format(nvme1.details))\n",
    "print(\"Disk (G)         : {}\".format(nvme1.get_property(pname='capacity_allocations').disk))\n",
    "print(\"Units            : {}\".format(nvme1.get_property(pname='capacity_allocations').unit))\n",
    "print(\"Model            : {}\".format(nvme1.model))\n",
    "print(\"Type             : {}\".format(nvme1.get_property(pname='type')))\n"
   ]
  },
  {
   "cell_type": "markdown",
   "metadata": {
    "tags": []
   },
   "source": [
    "## Setup SSH Connection for Commands\n",
    "\n",
    "Setup <code>paramiko</code> to send commands to the node using <code>ssh</code>."
   ]
  },
  {
   "cell_type": "code",
   "execution_count": null,
   "metadata": {},
   "outputs": [],
   "source": [
    "from ipaddress import ip_address, IPv4Address\n",
    "def validIPAddress(IP: str) -> str:\n",
    "    try:\n",
    "        return \"IPv4\" if type(ip_address(IP)) is IPv4Address else \"IPv6\"\n",
    "    except ValueError:\n",
    "        return \"Invalid\"\n",
    "\n",
    "import paramiko\n",
    "management_ip = str(node.get_property(pname='management_ip'))\n",
    "print(\"Node {0} IP {1}\".format(node_name, management_ip))\n",
    "\n",
    "key = paramiko.RSAKey.from_private_key_file(ssh_key_file_priv)\n",
    "\n",
    "bastion=paramiko.SSHClient()\n",
    "bastion.set_missing_host_key_policy(paramiko.AutoAddPolicy())\n",
    "bastion.connect(bastion_public_addr, username=bastion_username, key_filename=bastion_key_filename)\n",
    "\n",
    "\n",
    "bastion_transport = bastion.get_transport()\n",
    "if validIPAddress(management_ip) == 'IPv4':\n",
    "    src_addr = (bastion_private_ipv4_addr, 22)\n",
    "elif validIPAddress(management_ip) == 'IPv6':\n",
    "    src_addr = (bastion_private_ipv6_addr, 22)\n",
    "else:\n",
    "    print('Management IP Invalid: {}'.format(management_ip))\n",
    "\n",
    "dest_addr = (management_ip, 22)\n",
    "bastion_channel = bastion_transport.open_channel(\"direct-tcpip\", dest_addr, src_addr)\n",
    "\n",
    "\n",
    "client = paramiko.SSHClient()\n",
    "client.load_system_host_keys()\n",
    "client.set_missing_host_key_policy(paramiko.MissingHostKeyPolicy())\n",
    "client.set_missing_host_key_policy(paramiko.AutoAddPolicy())\n",
    "\n",
    "client.connect(management_ip,username=username,pkey = key, sock=bastion_channel)\n"
   ]
  },
  {
   "cell_type": "markdown",
   "metadata": {},
   "source": [
    "## Configure the NVMe PCI Device\n",
    "\n",
    "NVMe storage is provided as bare PCI block devices and will likely need to be partitioned and formated before use.\n",
    "\n",
    "Run the command <code>lspci</code> to see your NVMe PCI device. This is the raw NVMe PCI device that is not yet formated or mounted."
   ]
  },
  {
   "cell_type": "code",
   "execution_count": null,
   "metadata": {},
   "outputs": [],
   "source": [
    "stdin, stdout, stderr = client.exec_command('lspci | grep NVMe')\n",
    "\n",
    "print (str(stdout.read(),'utf-8').replace('\\\\n','\\n'))"
   ]
  },
  {
   "cell_type": "markdown",
   "metadata": {},
   "source": [
    "Run <code>fdisk</code> to see the NVMe block device. This device is not yet formated. We will partition and format this device later."
   ]
  },
  {
   "cell_type": "code",
   "execution_count": null,
   "metadata": {},
   "outputs": [],
   "source": [
    "stdin, stdout, stderr = client.exec_command('sudo fdisk -l /dev/nvme*')\n",
    "\n",
    "print (str(stdout.read(),'utf-8').replace('\\\\n','\\n'))"
   ]
  },
  {
   "cell_type": "markdown",
   "metadata": {},
   "source": [
    "Find the NVMe block device."
   ]
  },
  {
   "cell_type": "code",
   "execution_count": null,
   "metadata": {},
   "outputs": [],
   "source": [
    "stdin, stdout, stderr = client.exec_command('sudo fdisk -l /dev/nvme*')\n",
    "\n",
    "print (str(stdout.read(),'utf-8').replace('\\\\n','\\n'))"
   ]
  },
  {
   "cell_type": "markdown",
   "metadata": {},
   "source": [
    "There are no partitions or files systems on this device. First, let's partition the disk."
   ]
  },
  {
   "cell_type": "code",
   "execution_count": null,
   "metadata": {},
   "outputs": [],
   "source": [
    "stdin, stdout, stderr = client.exec_command('sudo parted -s /dev/nvme0n1 mklabel gpt')\n",
    "print(stdout.read().decode(\"utf-8\"))\n",
    "print(stderr.read().decode(\"utf-8\"))"
   ]
  },
  {
   "cell_type": "markdown",
   "metadata": {},
   "source": [
    "We can check that it has been created using the command below."
   ]
  },
  {
   "cell_type": "code",
   "execution_count": null,
   "metadata": {},
   "outputs": [],
   "source": [
    "stdin, stdout, stderr = client.exec_command('sudo parted -s /dev/nvme0n1 print')\n",
    "print(stdout.read().decode(\"utf-8\"))\n",
    "print(stderr.read().decode(\"utf-8\"))"
   ]
  },
  {
   "cell_type": "markdown",
   "metadata": {},
   "source": [
    "Next, let's print the free space in the NVMe drive in megabytes."
   ]
  },
  {
   "cell_type": "code",
   "execution_count": null,
   "metadata": {},
   "outputs": [],
   "source": [
    "stdin, stdout, stderr = client.exec_command('sudo parted -s /dev/nvme0n1 print unit MB print free')\n",
    "print(stdout.read().decode(\"utf-8\"))\n",
    "print(stderr.read().decode(\"utf-8\"))"
   ]
  },
  {
   "cell_type": "markdown",
   "metadata": {},
   "source": [
    "We can see that the disk is 1GB. Next, let's create a partition that uses up this entire space."
   ]
  },
  {
   "cell_type": "code",
   "execution_count": null,
   "metadata": {},
   "outputs": [],
   "source": [
    "stdin, stdout, stderr = client.exec_command('sudo parted -s --align optimal /dev/nvme0n1 mkpart primary ext4 0% 960197MB')\n",
    "print(stdout.read().decode(\"utf-8\"))\n",
    "print(stderr.read().decode(\"utf-8\"))"
   ]
  },
  {
   "cell_type": "markdown",
   "metadata": {},
   "source": [
    "Let's examine the partitions one more time to see the partition we created."
   ]
  },
  {
   "cell_type": "code",
   "execution_count": null,
   "metadata": {},
   "outputs": [],
   "source": [
    "stdin, stdout, stderr = client.exec_command('lsblk /dev/nvme0n1')\n",
    "print(stdout.read().decode(\"utf-8\"))\n",
    "print(stderr.read().decode(\"utf-8\"))"
   ]
  },
  {
   "cell_type": "markdown",
   "metadata": {},
   "source": [
    "Now, let's format the disk with a `ext4` file system."
   ]
  },
  {
   "cell_type": "code",
   "execution_count": null,
   "metadata": {},
   "outputs": [],
   "source": [
    "stdin, stdout, stderr = client.exec_command('sudo mkfs.ext4 /dev/nvme0n1p1')\n",
    "print(stdout.read().decode(\"utf-8\"))\n",
    "print(stderr.read().decode(\"utf-8\"))"
   ]
  },
  {
   "cell_type": "markdown",
   "metadata": {},
   "source": [
    "Next, we need to mount the file system. "
   ]
  },
  {
   "cell_type": "code",
   "execution_count": null,
   "metadata": {},
   "outputs": [],
   "source": [
    "stdin, stdout, stderr = client.exec_command('sudo mkdir /mnt/nvme_mount && sudo mount /dev/nvme0n1p1 /mnt/nvme_mount')\n",
    "print(stdout.read().decode(\"utf-8\"))\n",
    "print(stderr.read().decode(\"utf-8\"))"
   ]
  },
  {
   "cell_type": "markdown",
   "metadata": {},
   "source": [
    "Confirm that the file system is mounted and the correct size."
   ]
  },
  {
   "cell_type": "code",
   "execution_count": null,
   "metadata": {},
   "outputs": [],
   "source": [
    "stdin, stdout, stderr = client.exec_command('df -h /mnt/nvme_mount')\n",
    "print(stdout.read().decode(\"utf-8\"))\n",
    "print(stderr.read().decode(\"utf-8\"))"
   ]
  },
  {
   "cell_type": "markdown",
   "metadata": {},
   "source": [
    "Now we can use the file system mounted at `/mnt/nvme_mount`\n"
   ]
  },
  {
   "cell_type": "markdown",
   "metadata": {},
   "source": [
    "## Cleanup Your Experiment"
   ]
  },
  {
   "cell_type": "code",
   "execution_count": null,
   "metadata": {},
   "outputs": [],
   "source": [
    "return_status, result = slice_manager.delete(slice_object=slice)\n",
    "\n",
    "print(\"Response Status {}\".format(return_status))\n",
    "print(\"Response received {}\".format(result))"
   ]
  },
  {
   "cell_type": "code",
   "execution_count": null,
   "metadata": {},
   "outputs": [],
   "source": []
  }
 ],
 "metadata": {
  "kernelspec": {
   "display_name": "Python 3 (ipykernel)",
   "language": "python",
   "name": "python3"
  },
  "language_info": {
   "codemirror_mode": {
    "name": "ipython",
    "version": 3
   },
   "file_extension": ".py",
   "mimetype": "text/x-python",
   "name": "python",
   "nbconvert_exporter": "python",
   "pygments_lexer": "ipython3",
   "version": "3.9.2"
  }
 },
 "nbformat": 4,
 "nbformat_minor": 4
}

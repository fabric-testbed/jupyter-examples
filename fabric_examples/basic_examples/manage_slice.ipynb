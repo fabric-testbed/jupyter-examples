{
 "cells": [
  {
   "cell_type": "markdown",
   "id": "60e3fd3a-d102-4626-9849-755cfdd24948",
   "metadata": {},
   "source": [
    "# This notebook shows how to manage slices"
   ]
  },
  {
   "cell_type": "markdown",
   "id": "39d63200-f6fe-420a-977c-04ad25186f65",
   "metadata": {},
   "source": [
    "## Configure the environment"
   ]
  },
  {
   "cell_type": "code",
   "execution_count": null,
   "id": "4f28a966-d33c-4cd5-a7a6-80c546cc2010",
   "metadata": {},
   "outputs": [],
   "source": [
    "import os\n",
    "from fabrictestbed.slice_manager import SliceManager, Status\n",
    "import json\n",
    "\n",
    "credmgr_host = os.environ['FABRIC_CREDMGR_HOST']\n",
    "orchestrator_host = os.environ['FABRIC_ORCHESTRATOR_HOST']\n",
    "print(f\"CM Host: {credmgr_host} Orchestrator Host: {orchestrator_host}\")\n",
    "\n",
    "not_found=False\n",
    "fabric_refresh_token=None\n",
    "%store -r fabric_refresh_token\n",
    "\n",
    "if fabric_refresh_token is None:\n",
    "    fabric_refresh_token=os.environ['CILOGON_REFRESH_TOKEN']\n",
    "    %store fabric_refresh_token\n",
    "print(\"Fabric Refresh Token {}\".format(fabric_refresh_token))\n",
    "print(\"CILOGON_REFRESH_TOKEN environment variable: {}\".format(os.environ['CILOGON_REFRESH_TOKEN']))"
   ]
  },
  {
   "cell_type": "markdown",
   "id": "f44435c0-eef3-4a0d-a0f4-b97470ceccfd",
   "metadata": {},
   "source": [
    "## Create slice manager object"
   ]
  },
  {
   "cell_type": "code",
   "execution_count": null,
   "id": "50dc65b2-0166-4eb1-a7e5-7e5d63ab29d4",
   "metadata": {},
   "outputs": [],
   "source": [
    "slice_manager = SliceManager(oc_host=orchestrator_host, cm_host=credmgr_host,refresh_token=fabric_refresh_token, project_name='all', scope='all')"
   ]
  },
  {
   "cell_type": "markdown",
   "id": "742b8a58-cc9a-4a50-815e-c9211a036836",
   "metadata": {},
   "source": [
    "## Refresh the ID Token"
   ]
  },
  {
   "cell_type": "code",
   "execution_count": null,
   "id": "29f20151-6e31-47ae-9cb0-3984e3be117d",
   "metadata": {},
   "outputs": [],
   "source": [
    "try:\n",
    "    id_token, refresh_token = slice_manager.refresh_tokens()\n",
    "except Exception as e:\n",
    "    print(\"Exception occurred while getting tokens:{}\".format(e))\n",
    "\n",
    "fabric_refresh_token=slice_manager.get_refresh_token()\n",
    "print(\"New Refresh Token: {}\".format(fabric_refresh_token))\n",
    "print(\"Stored new Refresh Token\")\n",
    "%store fabric_refresh_token"
   ]
  },
  {
   "cell_type": "markdown",
   "id": "bf35cb83-46a4-4842-9a38-3884ff9b742c",
   "metadata": {},
   "source": [
    "## Create Basic Slice"
   ]
  },
  {
   "cell_type": "code",
   "execution_count": null,
   "id": "4b49296e-503d-4f44-a571-981d5efac4ad",
   "metadata": {},
   "outputs": [],
   "source": [
    "from fabrictestbed.slice_editor import ExperimentTopology, Capacities, ComponentType\n",
    "# Create topology\n",
    "t = ExperimentTopology()\n",
    "\n",
    "# Add node\n",
    "n1 = t.add_node(name='Node', site='LBNL')\n",
    "\n",
    "# Set capacities\n",
    "cap = Capacities()\n",
    "cap.set_fields(core=2, ram=16, disk=100)\n",
    "\n",
    "# Set Properties\n",
    "n1.set_properties(capacities=cap, image_type='qcow2', image_ref='default_centos_8')\n",
    "\n",
    "# Generate Slice Graph\n",
    "slice_graph = t.serialize()\n",
    "\n",
    "ssh_key = None\n",
    "with open (\"/home/fabric/.ssh/id_rsa.pub\", \"r\") as myfile:\n",
    "    ssh_key=myfile.read()\n",
    "    ssh_key=ssh_key.strip()\n",
    "\n",
    "# Request slice from Orchestrator\n",
    "status, reservations = slice_manager.create(slice_name='ExampleSlice', slice_graph=slice_graph, ssh_key=ssh_key)\n",
    "\n",
    "print(\"Response Status {}\".format(reservations))\n",
    "if status == Status.OK:\n",
    "    print(\"Reservations created {}\".format(reservations))"
   ]
  },
  {
   "cell_type": "markdown",
   "id": "6fb75c5d-2352-402d-81b4-d4f2d3c76603",
   "metadata": {},
   "source": [
    "## Query existing Slices"
   ]
  },
  {
   "cell_type": "code",
   "execution_count": null,
   "id": "f4fdb285-9af4-4992-ac71-2db3007d5aec",
   "metadata": {},
   "outputs": [],
   "source": [
    "status, slices = slice_manager.slices()\n",
    "\n",
    "print(\"Response Status {}\".format(status))\n",
    "if status == Status.OK:\n",
    "    print(\"Slices {}\".format(slices))"
   ]
  },
  {
   "cell_type": "markdown",
   "id": "4a680116-85fc-451d-9d28-3b33f3df2469",
   "metadata": {},
   "source": [
    "## Retrieve Slice ID and Sliver ID"
   ]
  },
  {
   "cell_type": "code",
   "execution_count": null,
   "id": "9512499e-123e-4eb8-887a-e8f1e9dd6d8c",
   "metadata": {},
   "outputs": [],
   "source": [
    "#Name of slice to be renewed\n",
    "TargetSliceName = \"ExampleSlice\"\n",
    "TargetNode = \"Node\"\n",
    "\n",
    "#Search for Slice ID from Slice Name\n",
    "slice_id = list(filter(lambda slices: slices.slice_name == TargetSliceName, slices))[0].slice_id\n",
    "\n",
    "#Search Slice for Target Sliver ID\n",
    "status, slivers = slice_manager.slivers(slice_id=slice_id)\n",
    "sliver_id = list(filter(lambda slivers: slivers.name == TargetNode, slivers))[0].reservation_id"
   ]
  },
  {
   "cell_type": "markdown",
   "id": "67626aed-22a8-41f0-aa7b-2f7cf50da1ae",
   "metadata": {},
   "source": [
    "## Query Slice Status"
   ]
  },
  {
   "cell_type": "code",
   "execution_count": null,
   "id": "150b1ff4-4c8c-4832-91a4-eaa4a99e3c0e",
   "metadata": {},
   "outputs": [],
   "source": [
    "status, slivers = slice_manager.slivers(slice_id=slice_id)\n",
    "\n",
    "print(\"Response Status {}\".format(status))\n",
    "if status == Status.OK:\n",
    "    print(\"Slivers {}\".format(slivers))"
   ]
  },
  {
   "cell_type": "markdown",
   "id": "439b3734-06e3-47a4-8bc4-98bf40c439d6",
   "metadata": {},
   "source": [
    "## Query Sliver Status"
   ]
  },
  {
   "cell_type": "code",
   "execution_count": null,
   "id": "0d27c947-9bbf-4b72-80f8-cc07987d47ef",
   "metadata": {},
   "outputs": [],
   "source": [
    "status, sliver = slice_manager.slivers(slice_id=slice_id, sliver_id=sliver_id)\n",
    "\n",
    "print(\"Response Status {}\".format(status))\n",
    "if status == Status.OK:\n",
    "    print(\"Sliver {}\".format(sliver))"
   ]
  },
  {
   "cell_type": "markdown",
   "id": "d852df40-46e0-487a-ac7c-1e802c48c548",
   "metadata": {},
   "source": [
    "## Delete Slice"
   ]
  },
  {
   "cell_type": "code",
   "execution_count": null,
   "id": "a3a30bad-c968-4ddd-9fb1-998caba9360e",
   "metadata": {},
   "outputs": [],
   "source": [
    "status, result = slice_manager.delete(slice_id=slice_id)\n",
    "\n",
    "print(\"Response Status {}\".format(result))"
   ]
  },
  {
   "cell_type": "code",
   "execution_count": null,
   "id": "30131fe5-63dc-4c52-a512-3be477150453",
   "metadata": {},
   "outputs": [],
   "source": []
  }
 ],
 "metadata": {
  "kernelspec": {
   "display_name": "Python 3",
   "language": "python",
   "name": "python3"
  },
  "language_info": {
   "codemirror_mode": {
    "name": "ipython",
    "version": 3
   },
   "file_extension": ".py",
   "mimetype": "text/x-python",
   "name": "python",
   "nbconvert_exporter": "python",
   "pygments_lexer": "ipython3",
   "version": "3.8.8"
  }
 },
 "nbformat": 4,
 "nbformat_minor": 5
}

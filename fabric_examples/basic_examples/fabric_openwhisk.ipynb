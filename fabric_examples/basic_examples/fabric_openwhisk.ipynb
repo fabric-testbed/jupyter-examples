{
 "cells": [
  {
   "cell_type": "code",
   "execution_count": 85,
   "metadata": {},
   "outputs": [],
   "source": [
    "import os\n",
    "from fabrictestbed.slice_manager import SliceManager, Status, SliceState\n",
    "import json"
   ]
  },
  {
   "cell_type": "code",
   "execution_count": 86,
   "metadata": {},
   "outputs": [],
   "source": [
    "bastion_public_addr = 'bastion-1.fabric-testbed.net'\n",
    "bastion_private_ipv4_addr = '192.168.11.226'\n",
    "bastion_private_ipv6_addr = '2600:2701:5000:a902::c'\n",
    "\n",
    "bastion_username = 'minawm_0041350787'\n",
    "\n",
    "bastion_key_filename = os.environ['HOME'] + \"/work/mina_bastion_key\" #\"/.ssh/id_rsa_fabric\"\n",
    "\n",
    "ssh_key_file_priv=os.environ['HOME']+\"/.ssh/id_rsa\"\n",
    "ssh_key_file_pub=os.environ['HOME']+\"/.ssh/id_rsa.pub\"\n",
    "\n",
    "ssh_key_pub = None\n",
    "with open (ssh_key_file_pub, \"r\") as myfile:\n",
    "    ssh_key_pub=myfile.read()\n",
    "    ssh_key_pub=ssh_key_pub.strip()"
   ]
  },
  {
   "cell_type": "code",
   "execution_count": 87,
   "metadata": {},
   "outputs": [
    {
     "name": "stdout",
     "output_type": "stream",
     "text": [
      "FABRIC Credential Manager   : cm.fabric-testbed.net\n",
      "FABRIC Orchestrator         : orchestrator.fabric-testbed.net\n"
     ]
    }
   ],
   "source": [
    "credmgr_host = os.environ['FABRIC_CREDMGR_HOST']\n",
    "print(f\"FABRIC Credential Manager   : {credmgr_host}\")\n",
    "\n",
    "orchestrator_host = os.environ['FABRIC_ORCHESTRATOR_HOST']\n",
    "print(f\"FABRIC Orchestrator         : {orchestrator_host}\")"
   ]
  },
  {
   "cell_type": "markdown",
   "metadata": {},
   "source": [
    "## Create Slice Manager Object\n",
    "Users can request tokens with different Project and Scopes by altering `project_name` and `scope` parameters in the refresh call below."
   ]
  },
  {
   "cell_type": "code",
   "execution_count": 88,
   "metadata": {},
   "outputs": [],
   "source": [
    "slice_manager = SliceManager(oc_host=orchestrator_host, \n",
    "                             cm_host=credmgr_host ,\n",
    "                             project_name='all', \n",
    "                             scope='all')\n",
    "\n",
    "# Initialize the slice manager\n",
    "slice_manager.initialize()"
   ]
  },
  {
   "cell_type": "markdown",
   "metadata": {},
   "source": [
    "### Orchestrator API example to query for available resources"
   ]
  },
  {
   "cell_type": "code",
   "execution_count": 89,
   "metadata": {},
   "outputs": [
    {
     "name": "stdout",
     "output_type": "stream",
     "text": [
      "Status: Status.OK\n",
      "Toplogy: NCSA: { cpu: 6/6 , core: 180/192 , ram: 1,476/1,536 G, disk: 60,300/60,600 G, unit: 3/3 }\n",
      "\tComponents:\n",
      "\t\tNVME-P4510:  NVME P4510 { disk: 8,640/9,600 G, unit: 9/10 }\n",
      "\t\tGPU-Tesla T4:  GPU Tesla T4 { unit: 2/2 }\n",
      "\t\tGPU-RTX6000:  GPU RTX6000 { unit: 3/3 }\n",
      "\t\tSmartNIC-ConnectX-5:  SmartNIC ConnectX-5 { unit: 2/2 }\n",
      "\t\tSmartNIC-ConnectX-6:  SmartNIC ConnectX-6 { unit: 2/2 }\n",
      "\t\tSharedNIC-ConnectX-6:  SharedNIC ConnectX-6 { unit: 378/381 }\n",
      "\tSite Interfaces:\n",
      "\t\tNCSA_STAR: TrunkPort { bw: 100/100 Gbps}\n",
      "TACC: { cpu: 10/10 , core: 316/320 , ram: 2,544/2,560 G, disk: 116,380/116,400 G, unit: 5/5 }\n",
      "\tComponents:\n",
      "\t\tSmartNIC-ConnectX-6:  SmartNIC ConnectX-6 { unit: 2/2 }\n",
      "\t\tSmartNIC-ConnectX-5:  SmartNIC ConnectX-5 { unit: 2/4 }\n",
      "\t\tGPU-RTX6000:  GPU RTX6000 { unit: 6/6 }\n",
      "\t\tGPU-Tesla T4:  GPU Tesla T4 { unit: 4/4 }\n",
      "\t\tNVME-P4510:  NVME P4510 { disk: 15,360/15,360 G, unit: 16/16 }\n",
      "\t\tSharedNIC-ConnectX-6:  SharedNIC ConnectX-6 { unit: 635/635 }\n",
      "\tSite Interfaces:\n",
      "\t\tTACC_UTAH: TrunkPort { bw: 100/100 Gbps}\n",
      "\t\tTACC_MAX: TrunkPort { bw: 100/100 Gbps}\n",
      "UTAH: { cpu: 10/10 , core: 320/320 , ram: 2,560/2,560 G, disk: 116,400/116,400 G, unit: 5/5 }\n",
      "\tComponents:\n",
      "\t\tGPU-RTX6000:  GPU RTX6000 { unit: 5/5 }\n",
      "\t\tGPU-Tesla T4:  GPU Tesla T4 { unit: 4/4 }\n",
      "\t\tNVME-P4510:  NVME P4510 { disk: 15,360/15,360 G, unit: 16/16 }\n",
      "\t\tSharedNIC-ConnectX-6:  SharedNIC ConnectX-6 { unit: 635/635 }\n",
      "\t\tSmartNIC-ConnectX-6:  SmartNIC ConnectX-6 { unit: 2/2 }\n",
      "\t\tSmartNIC-ConnectX-5:  SmartNIC ConnectX-5 { unit: 4/4 }\n",
      "\tSite Interfaces:\n",
      "\t\tUTAH_STAR: TrunkPort { bw: 100/100 Gbps}\n",
      "\t\tUTAH_TACC: TrunkPort { bw: 100/100 Gbps}\n",
      "MAX: { cpu: 10/10 , core: 310/320 , ram: 2,512/2,560 G, disk: 116,190/116,400 G, unit: 5/5 }\n",
      "\tComponents:\n",
      "\t\tNVME-P4510:  NVME P4510 { disk: 14,400/15,360 G, unit: 15/16 }\n",
      "\t\tSharedNIC-ConnectX-6:  SharedNIC ConnectX-6 { unit: 633/635 }\n",
      "\t\tGPU-Tesla T4:  GPU Tesla T4 { unit: 4/4 }\n",
      "\t\tGPU-RTX6000:  GPU RTX6000 { unit: 6/6 }\n",
      "\t\tSmartNIC-ConnectX-5:  SmartNIC ConnectX-5 { unit: 4/4 }\n",
      "\t\tSmartNIC-ConnectX-6:  SmartNIC ConnectX-6 { unit: 2/2 }\n",
      "\tSite Interfaces:\n",
      "\t\tMAX_TACC: TrunkPort { bw: 100/100 Gbps}\n",
      "\t\tMAX_STAR: TrunkPort { bw: 100/100 Gbps}\n",
      "SALT\n",
      "\tComponents:\n",
      "\tSite Interfaces:\n",
      "STAR: { cpu: 12/12 , core: 380/384 , ram: 3,052/3,072 G, disk: 121,100/121,200 G, unit: 6/6 }\n",
      "\tComponents:\n",
      "\t\tNVME-P4510:  NVME P4510 { disk: 20,000/20,000 G, unit: 20/20 }\n",
      "\t\tGPU-Tesla T4:  GPU Tesla T4 { unit: 6/6 }\n",
      "\t\tGPU-RTX6000:  GPU RTX6000 { unit: 6/6 }\n",
      "\t\tSmartNIC-ConnectX-5:  SmartNIC ConnectX-5 { unit: 6/6 }\n",
      "\t\tSmartNIC-ConnectX-6:  SmartNIC ConnectX-6 { unit: 2/2 }\n",
      "\t\tSharedNIC-ConnectX-6:  SharedNIC ConnectX-6 { unit: 761/762 }\n",
      "\tSite Interfaces:\n",
      "\t\tSTAR_UTAH: TrunkPort { bw: 100/100 Gbps}\n",
      "\t\tSTAR_MAX: TrunkPort { bw: 100/100 Gbps}\n",
      "\t\tSTAR_NCSA: TrunkPort { bw: 100/100 Gbps}\n",
      "WASH\n",
      "\tComponents:\n",
      "\tSite Interfaces:\n",
      "DALL\n",
      "\tComponents:\n",
      "\tSite Interfaces:\n",
      "MICH\n",
      "\tComponents:\n",
      "\tSite Interfaces:\n",
      "Links:\n",
      "\tport+max-data-sw:HundredGigE0/0/0/22.2051 to port+tacc-data-sw:HundredGigE0/0/0/23.3160[L2Path]: ['TACC_MAX', 'MAX_TACC']\n",
      "\tport+tacc-data-sw:HundredGigE0/0/0/23.3161 to port+utah-data-sw:HundredGigE0/0/0/22.2091[L2Path]: ['UTAH_TACC', 'TACC_UTAH']\n",
      "\tport+star-data-sw:HundredGigE0/0/0/30.3722 to port+utah-data-sw:HundredGigE0/0/0/22.2090[L2Path]: ['UTAH_STAR', 'STAR_UTAH']\n",
      "\tport+max-data-sw:HundredGigE0/0/0/22.2052 to port+star-data-sw:HundredGigE0/0/0/30.3721[L2Path]: ['STAR_MAX', 'MAX_STAR']\n",
      "\tport+ncsa-data-sw:HundredGigE0/0/0/23.3710 to port+star-data-sw:HundredGigE0/0/0/30.3710[L2Path]: ['STAR_NCSA', 'NCSA_STAR']\n"
     ]
    }
   ],
   "source": [
    "status, advertised_topology = slice_manager.resources()\n",
    "\n",
    "print(f\"Status: {status}\")\n",
    "if status == Status.OK:\n",
    "    print(f\"Toplogy: {advertised_topology}\")\n",
    "else:\n",
    "    print(f\"Error: {advertised_topology}\")"
   ]
  },
  {
   "cell_type": "code",
   "execution_count": 90,
   "metadata": {},
   "outputs": [
    {
     "data": {
      "image/png": "[encoded data removed]",
      "text/plain": [
       "<Figure size 432x288 with 1 Axes>"
      ]
     },
     "metadata": {},
     "output_type": "display_data"
    }
   ],
   "source": [
    "if status == Status.OK:\n",
    "    advertised_topology.draw()"
   ]
  },
  {
   "cell_type": "markdown",
   "metadata": {
    "tags": []
   },
   "source": [
    "## Create Slice\n",
    "In Release 1.0, user is expected to create tagged interface and assign the IP addresses manually. Please use the example comands indicated below:"
   ]
  },
  {
   "cell_type": "markdown",
   "metadata": {
    "tags": []
   },
   "source": [
    "## Configure Slice Parameters\n",
    "\n"
   ]
  },
  {
   "cell_type": "code",
   "execution_count": 91,
   "metadata": {},
   "outputs": [],
   "source": [
    "slice_name = 'MySlice1'\n",
    "site = 'MAX'\n",
    "node1_name = 'Node1'\n",
    "username='ubuntu'\n",
    "image = 'default_ubuntu_20'\n",
    "image_type = 'qcow2'\n",
    "cores = 2\n",
    "ram = 8\n",
    "disk = 10"
   ]
  },
  {
   "cell_type": "code",
   "execution_count": 92,
   "metadata": {},
   "outputs": [
    {
     "name": "stdout",
     "output_type": "stream",
     "text": [
      "Submitted slice creation request. Slice ID: f274e680-c7e4-4629-8b06-0d0f1d1b26a6\n"
     ]
    }
   ],
   "source": [
    "from fabrictestbed.slice_editor import ExperimentTopology, Capacities, ComponentType, ComponentModelType, ServiceType\n",
    "# Create topology\n",
    "t = ExperimentTopology()\n",
    "\n",
    "# Add node\n",
    "n1 = t.add_node(name=node1_name, site=site)\n",
    "\n",
    "# Set capacities\n",
    "cap = Capacities()\n",
    "cap.set_fields(core=cores, ram=ram, disk=disk)\n",
    "\n",
    "# Set Properties\n",
    "n1.set_properties(capacities=cap, image_type=image_type, image_ref=image)\n",
    "\n",
    "# Generate Slice Graph\n",
    "slice_graph = t.serialize()\n",
    "\n",
    "# Request slice from Orchestrator\n",
    "return_status, slice_reservations = slice_manager.create(slice_name=slice_name, \n",
    "                                            slice_graph=slice_graph, \n",
    "                                            ssh_key=ssh_key_pub)\n",
    "\n",
    "if return_status == Status.OK:\n",
    "    slice_id = slice_reservations[0].get_slice_id()\n",
    "    print(\"Submitted slice creation request. Slice ID: {}\".format(slice_id))\n",
    "else:\n",
    "    print(f\"Failure: {slice_reservations}\")"
   ]
  },
  {
   "cell_type": "markdown",
   "metadata": {
    "tags": []
   },
   "source": [
    "## Get the Slice"
   ]
  },
  {
   "cell_type": "code",
   "execution_count": 93,
   "metadata": {
    "tags": []
   },
   "outputs": [
    {
     "name": "stdout",
     "output_type": "stream",
     "text": [
      "Waiting for slice ....... Slice state: StableOK\n",
      "\n",
      "Slice Name : MySlice1\n",
      "ID         : f274e680-c7e4-4629-8b06-0d0f1d1b26a6\n",
      "State      : StableOK\n",
      "Lease End  : 2021-12-29 07:13:46\n"
     ]
    }
   ],
   "source": [
    "import time\n",
    "def wait_for_slice(slice,timeout=180,interval=10,progress=False):\n",
    "    timeout_start = time.time()\n",
    "\n",
    "    if progress: print(\"Waiting for slice .\", end = '')\n",
    "    while time.time() < timeout_start + timeout:\n",
    "        return_status, slices = slice_manager.slices(excludes=[SliceState.Dead,SliceState.Closing])\n",
    "\n",
    "        if return_status == Status.OK:\n",
    "            slice = list(filter(lambda x: x.slice_name == slice_name, slices))[0]\n",
    "            if slice.slice_state == \"StableOK\":\n",
    "                if progress: print(\" Slice state: {}\".format(slice.slice_state))\n",
    "                return slice\n",
    "            if slice.slice_state == \"Closing\" or slice.slice_state == \"Dead\":\n",
    "                if progress: print(\" Slice state: {}\".format(slice.slice_state))\n",
    "                return slice    \n",
    "        else:\n",
    "            print(f\"Failure: {slices}\")\n",
    "        \n",
    "        if progress: print(\".\", end = '')\n",
    "        time.sleep(interval)\n",
    "    \n",
    "    if time.time() >= timeout_start + timeout:\n",
    "        if progress: print(\" Timeout exceeded ({} sec). Slice: {} ({})\".format(timeout,slice.slice_name,slice.slice_state))\n",
    "        return slice    \n",
    "\n",
    "\n",
    "return_status, slices = slice_manager.slices(excludes=[SliceState.Dead,SliceState.Closing])\n",
    "\n",
    "if return_status == Status.OK:\n",
    "    slice = list(filter(lambda x: x.slice_name == slice_name, slices))[0]\n",
    "    slice = wait_for_slice(slice, progress=True)\n",
    "\n",
    "print()\n",
    "print(\"Slice Name : {}\".format(slice.slice_name))\n",
    "print(\"ID         : {}\".format(slice.slice_id))\n",
    "print(\"State      : {}\".format(slice.slice_state))\n",
    "print(\"Lease End  : {}\".format(slice.lease_end))"
   ]
  },
  {
   "cell_type": "markdown",
   "metadata": {
    "tags": []
   },
   "source": [
    "## Get the Nodes\n",
    "\n",
    "Retrieve the node information and save the management IP address.\n"
   ]
  },
  {
   "cell_type": "markdown",
   "metadata": {},
   "source": [
    "### Get the Topology"
   ]
  },
  {
   "cell_type": "code",
   "execution_count": 94,
   "metadata": {},
   "outputs": [],
   "source": [
    "return_status, experiment_topology = slice_manager.get_slice_topology(slice_object=slice)"
   ]
  },
  {
   "cell_type": "code",
   "execution_count": 95,
   "metadata": {},
   "outputs": [
    {
     "name": "stdout",
     "output_type": "stream",
     "text": [
      "Node Name        : Node1\n",
      "Management IP    : 63.239.135.89\n",
      "\n"
     ]
    }
   ],
   "source": [
    "node1 = experiment_topology.nodes[node1_name]\n",
    "\n",
    "management_ip_node1 = str(node1.get_property(pname='management_ip'))\n",
    "print(\"Node Name        : {}\".format(node1.name))\n",
    "print(\"Management IP    : {}\".format(management_ip_node1))\n",
    "print()\n"
   ]
  },
  {
   "cell_type": "code",
   "execution_count": 98,
   "metadata": {},
   "outputs": [],
   "source": [
    "from ipaddress import ip_address, IPv4Address\n",
    "def validIPAddress(IP: str) -> str:\n",
    "    try:\n",
    "        return \"IPv4\" if type(ip_address(IP)) is IPv4Address else \"IPv6\"\n",
    "    except ValueError:\n",
    "        return \"Invalid\"\n",
    "\n",
    "import paramiko\n",
    "management_ip = management_ip_node1\n",
    "\n",
    "key = paramiko.RSAKey.from_private_key_file(ssh_key_file_priv)\n",
    "\n",
    "bastion=paramiko.SSHClient()\n",
    "bastion.set_missing_host_key_policy(paramiko.AutoAddPolicy())\n",
    "bastion.connect(bastion_public_addr, username=bastion_username, key_filename=bastion_key_filename)\n",
    "\n",
    "\n",
    "bastion_transport = bastion.get_transport()\n",
    "if validIPAddress(management_ip) == 'IPv4':\n",
    "    src_addr = (bastion_private_ipv4_addr, 22)\n",
    "elif validIPAddress(management_ip) == 'IPv6':\n",
    "    src_addr = (bastion_private_ipv6_addr, 22)\n",
    "else:\n",
    "    print('Management IP Invalid: {}'.format(management_ip))\n",
    "\n",
    "dest_addr = (management_ip, 22)\n",
    "bastion_channel = bastion_transport.open_channel(\"direct-tcpip\", dest_addr, src_addr)\n",
    "\n",
    "\n",
    "client = paramiko.SSHClient()\n",
    "client.load_system_host_keys()\n",
    "client.set_missing_host_key_policy(paramiko.MissingHostKeyPolicy())\n",
    "client.set_missing_host_key_policy(paramiko.AutoAddPolicy())\n",
    "\n",
    "client.connect(management_ip,username=username,pkey = key, sock=bastion_channel)"
   ]
  },
  {
   "cell_type": "markdown",
   "metadata": {},
   "source": [
    "## Below is openwhisk and openwhisk cli installation"
   ]
  },
  {
   "cell_type": "code",
   "execution_count": 107,
   "metadata": {},
   "outputs": [
    {
     "name": "stdout",
     "output_type": "stream",
     "text": [
      "Hit:1 http://nova.clouds.archive.ubuntu.com/ubuntu focal InRelease\n",
      "Hit:2 http://nova.clouds.archive.ubuntu.com/ubuntu focal-updates InRelease\n",
      "Hit:3 http://nova.clouds.archive.ubuntu.com/ubuntu focal-backports InRelease\n",
      "Hit:4 https://download.docker.com/linux/ubuntu focal InRelease\n",
      "Hit:5 http://security.ubuntu.com/ubuntu focal-security InRelease\n",
      "Reading package lists...\n",
      "Building dependency tree...\n",
      "Reading state information...\n",
      "79 packages can be upgraded. Run 'apt list --upgradable' to see them.\n",
      "Reading package lists...\n",
      "Building dependency tree...\n",
      "Reading state information...\n",
      "default-jdk is already the newest version (2:1.11-72).\n",
      "default-jre is already the newest version (2:1.11-72).\n",
      "0 upgraded, 0 newly installed, 0 to remove and 79 not upgraded.\n",
      "\n",
      "Reading package lists...\n",
      "Building dependency tree...\n",
      "Reading state information...\n",
      "nodejs is already the newest version (10.19.0~dfsg-3ubuntu1).\n",
      "0 upgraded, 0 newly installed, 0 to remove and 79 not upgraded.\n",
      "\n",
      "Reading package lists...\n",
      "Building dependency tree...\n",
      "Reading state information...\n",
      "npm is already the newest version (6.14.4+ds-1ubuntu2).\n",
      "0 upgraded, 0 newly installed, 0 to remove and 79 not upgraded.\n",
      "\n",
      "\n",
      "\n",
      "Hit:1 http://nova.clouds.archive.ubuntu.com/ubuntu focal InRelease\n",
      "Hit:2 http://nova.clouds.archive.ubuntu.com/ubuntu focal-updates InRelease\n",
      "Hit:3 http://nova.clouds.archive.ubuntu.com/ubuntu focal-backports InRelease\n",
      "Hit:4 https://download.docker.com/linux/ubuntu focal InRelease\n",
      "Hit:5 http://security.ubuntu.com/ubuntu focal-security InRelease\n",
      "Reading package lists...\n",
      "Building dependency tree...\n",
      "Reading state information...\n",
      "79 packages can be upgraded. Run 'apt list --upgradable' to see them.\n",
      "Reading package lists...\n",
      "Building dependency tree...\n",
      "Reading state information...\n",
      "containerd.io is already the newest version (1.4.12-1).\n",
      "docker-ce-cli is already the newest version (5:20.10.12~3-0~ubuntu-focal).\n",
      "docker-ce is already the newest version (5:20.10.12~3-0~ubuntu-focal).\n",
      "0 upgraded, 0 newly installed, 0 to remove and 79 not upgraded.\n",
      "\n",
      "\n",
      "\n",
      "==> Checking for `sudo` access (which may request your password)...\n",
      "==> This script will install:\n",
      "/home/linuxbrew/.linuxbrew/bin/brew\n",
      "/home/linuxbrew/.linuxbrew/share/doc/homebrew\n",
      "/home/linuxbrew/.linuxbrew/share/man/man1/brew.1\n",
      "/home/linuxbrew/.linuxbrew/share/zsh/site-functions/_brew\n",
      "/home/linuxbrew/.linuxbrew/etc/bash_completion.d/brew\n",
      "/home/linuxbrew/.linuxbrew/Homebrew\n",
      "==> The following new directories will be created:\n",
      "/home/linuxbrew/.linuxbrew/bin\n",
      "/home/linuxbrew/.linuxbrew/etc\n",
      "/home/linuxbrew/.linuxbrew/include\n",
      "/home/linuxbrew/.linuxbrew/lib\n",
      "/home/linuxbrew/.linuxbrew/sbin\n",
      "/home/linuxbrew/.linuxbrew/share\n",
      "/home/linuxbrew/.linuxbrew/var\n",
      "/home/linuxbrew/.linuxbrew/opt\n",
      "/home/linuxbrew/.linuxbrew/share/zsh\n",
      "/home/linuxbrew/.linuxbrew/share/zsh/site-functions\n",
      "/home/linuxbrew/.linuxbrew/var/homebrew\n",
      "/home/linuxbrew/.linuxbrew/var/homebrew/linked\n",
      "/home/linuxbrew/.linuxbrew/Cellar\n",
      "/home/linuxbrew/.linuxbrew/Caskroom\n",
      "/home/linuxbrew/.linuxbrew/Frameworks\n",
      "==> /usr/bin/sudo /bin/mkdir -p /home/linuxbrew/.linuxbrew\n",
      "==> /usr/bin/sudo /bin/chown ubuntu:ubuntu /home/linuxbrew/.linuxbrew\n",
      "==> /usr/bin/sudo /bin/mkdir -p /home/linuxbrew/.linuxbrew/bin /home/linuxbrew/.linuxbrew/etc /home/linuxbrew/.linuxbrew/include /home/linuxbrew/.linuxbrew/lib /home/linuxbrew/.linuxbrew/sbin /home/linuxbrew/.linuxbrew/share /home/linuxbrew/.linuxbrew/var /home/linuxbrew/.linuxbrew/opt /home/linuxbrew/.linuxbrew/share/zsh /home/linuxbrew/.linuxbrew/share/zsh/site-functions /home/linuxbrew/.linuxbrew/var/homebrew /home/linuxbrew/.linuxbrew/var/homebrew/linked /home/linuxbrew/.linuxbrew/Cellar /home/linuxbrew/.linuxbrew/Caskroom /home/linuxbrew/.linuxbrew/Frameworks\n",
      "==> /usr/bin/sudo /bin/chmod ug=rwx /home/linuxbrew/.linuxbrew/bin /home/linuxbrew/.linuxbrew/etc /home/linuxbrew/.linuxbrew/include /home/linuxbrew/.linuxbrew/lib /home/linuxbrew/.linuxbrew/sbin /home/linuxbrew/.linuxbrew/share /home/linuxbrew/.linuxbrew/var /home/linuxbrew/.linuxbrew/opt /home/linuxbrew/.linuxbrew/share/zsh /home/linuxbrew/.linuxbrew/share/zsh/site-functions /home/linuxbrew/.linuxbrew/var/homebrew /home/linuxbrew/.linuxbrew/var/homebrew/linked /home/linuxbrew/.linuxbrew/Cellar /home/linuxbrew/.linuxbrew/Caskroom /home/linuxbrew/.linuxbrew/Frameworks\n",
      "==> /usr/bin/sudo /bin/chmod go-w /home/linuxbrew/.linuxbrew/share/zsh /home/linuxbrew/.linuxbrew/share/zsh/site-functions\n",
      "==> /usr/bin/sudo /bin/chown ubuntu /home/linuxbrew/.linuxbrew/bin /home/linuxbrew/.linuxbrew/etc /home/linuxbrew/.linuxbrew/include /home/linuxbrew/.linuxbrew/lib /home/linuxbrew/.linuxbrew/sbin /home/linuxbrew/.linuxbrew/share /home/linuxbrew/.linuxbrew/var /home/linuxbrew/.linuxbrew/opt /home/linuxbrew/.linuxbrew/share/zsh /home/linuxbrew/.linuxbrew/share/zsh/site-functions /home/linuxbrew/.linuxbrew/var/homebrew /home/linuxbrew/.linuxbrew/var/homebrew/linked /home/linuxbrew/.linuxbrew/Cellar /home/linuxbrew/.linuxbrew/Caskroom /home/linuxbrew/.linuxbrew/Frameworks\n",
      "==> /usr/bin/sudo /bin/chgrp ubuntu /home/linuxbrew/.linuxbrew/bin /home/linuxbrew/.linuxbrew/etc /home/linuxbrew/.linuxbrew/include /home/linuxbrew/.linuxbrew/lib /home/linuxbrew/.linuxbrew/sbin /home/linuxbrew/.linuxbrew/share /home/linuxbrew/.linuxbrew/var /home/linuxbrew/.linuxbrew/opt /home/linuxbrew/.linuxbrew/share/zsh /home/linuxbrew/.linuxbrew/share/zsh/site-functions /home/linuxbrew/.linuxbrew/var/homebrew /home/linuxbrew/.linuxbrew/var/homebrew/linked /home/linuxbrew/.linuxbrew/Cellar /home/linuxbrew/.linuxbrew/Caskroom /home/linuxbrew/.linuxbrew/Frameworks\n",
      "==> /usr/bin/sudo /bin/mkdir -p /home/linuxbrew/.linuxbrew/Homebrew\n",
      "==> /usr/bin/sudo /bin/chown -R ubuntu:ubuntu /home/linuxbrew/.linuxbrew/Homebrew\n",
      "==> Downloading and installing Homebrew...\n",
      "HEAD is now at 435e22d18 Merge pull request #12637 from Homebrew/dependabot/bundler/Library/Homebrew/rubocop-rails-2.13.0\n",
      "==> Tapping homebrew/core\n",
      "HEAD is now at a72ca7f033e dosbox-staging: update 0.78.0 bottle.\n",
      "Warning: /home/linuxbrew/.linuxbrew/bin is not in your PATH.\n",
      "  Instructions on how to configure your shell for Homebrew\n",
      "  can be found in the 'Next steps' section below.\n",
      "==> Installation successful!\n",
      "\n",
      "==> Homebrew has enabled anonymous aggregate formulae and cask analytics.\n",
      "Read the analytics documentation (and how to opt-out) here:\n",
      "  https://docs.brew.sh/Analytics\n",
      "No analytics data has been sent yet (nor will any be during this install run).\n",
      "\n",
      "==> Homebrew is run entirely by unpaid volunteers. Please consider donating:\n",
      "  https://github.com/Homebrew/brew#donations\n",
      "\n",
      "==> Next steps:\n",
      "- Run these two commands in your terminal to add Homebrew to your PATH:\n",
      "    echo 'eval \"$(/home/linuxbrew/.linuxbrew/bin/brew shellenv)\"' >> /home/ubuntu/.profile\n",
      "    eval \"$(/home/linuxbrew/.linuxbrew/bin/brew shellenv)\"\n",
      "- Install Homebrew's dependencies if you have sudo access:\n",
      "    sudo apt-get install build-essential\n",
      "  For more information, see:\n",
      "    https://docs.brew.sh/Homebrew-on-Linux\n",
      "- We recommend that you install GCC:\n",
      "    brew install gcc\n",
      "- Run brew help to get started\n",
      "- Further documentation:\n",
      "    https://docs.brew.sh\n",
      "\n",
      "\n",
      "\n",
      "\n",
      "==> Downloading https://ghcr.io/v2/homebrew/core/wsk/manifests/1.2.0\n",
      "==> Downloading https://ghcr.io/v2/homebrew/core/wsk/blobs/sha256:7425098df98b8d73d3aa6f4d205fd0327c01a7f5e76fabe4cefe46a940f52deb\n",
      "==> Downloading from https://pkg-containers.githubusercontent.com/ghcr1/blobs/sha256:7425098df98b8d73d3aa6f4d205fd0327c01a7f5e76fabe4cefe46a940f52deb?se=2021-12-28T07%3A30%3A00Z&sig=zqQ%2FDFgQI9bRALa6c4%2BTAsyWb00SAfafTcjXuzmXD10%3D&sp=r&spr=https&sr=b&sv=2019-12-12\n",
      "==> Pouring wsk--1.2.0.x86_64_linux.bottle.tar.gz\n",
      "🍺  /home/linuxbrew/.linuxbrew/Cellar/wsk/1.2.0: 7 files, 12.2MB\n",
      "==> Running `brew cleanup wsk`...\n",
      "Disable this behaviour by setting HOMEBREW_NO_INSTALL_CLEANUP.\n",
      "Hide these hints with HOMEBREW_NO_ENV_HINTS (see `man brew`).\n",
      "\n",
      "ok: whisk API host set to http://172.17.0.1:3233\n",
      "\n",
      "ok: whisk auth set. Run 'wsk property get --auth' to see the new value.\n",
      "\n"
     ]
    }
   ],
   "source": [
    "stdin, stdout, stderr = client.exec_command('sudo apt update && sudo apt install -y default-jre default-jdk')\n",
    "print (str(stdout.read(),'utf-8').replace('\\\\n','\\n'))\n",
    "stdin, stdout, stderr = client.exec_command('sudo apt install -y nodejs')\n",
    "print (str(stdout.read(),'utf-8').replace('\\\\n','\\n'))\n",
    "stdin, stdout, stderr = client.exec_command('sudo apt install -y npm')\n",
    "print (str(stdout.read(),'utf-8').replace('\\\\n','\\n'))\n",
    "stdin, stdout, stderr = client.exec_command('curl -fsSL https://download.docker.com/linux/ubuntu/gpg | sudo gpg --dearmor -o /usr/share/keyrings/docker-archive-keyring.gpg')\n",
    "print (str(stdout.read(),'utf-8').replace('\\\\n','\\n'))\n",
    "stdin, stdout, stderr = client.exec_command('echo   \"deb [arch=$(dpkg --print-architecture) signed-by=/usr/share/keyrings/docker-archive-keyring.gpg] https://download.docker.com/linux/ubuntu $(lsb_release -cs) stable\" | sudo tee /etc/apt/sources.list.d/docker.list > /dev/null')\n",
    "print (str(stdout.read(),'utf-8').replace('\\\\n','\\n'))\n",
    "stdin, stdout, stderr = client.exec_command('sudo apt update && sudo apt install -y docker-ce docker-ce-cli containerd.io')\n",
    "print (str(stdout.read(),'utf-8').replace('\\\\n','\\n'))\n",
    "stdin, stdout, stderr = client.exec_command('git clone https://github.com/apache/openwhisk.git')\n",
    "print (str(stdout.read(),'utf-8').replace('\\\\n','\\n'))\n",
    "stdin, stdout, stderr = client.exec_command('tmux new-session -d -s \"s1\" \"cd openwhisk/ && sudo ./gradlew core:standalone:bootRun\"')\n",
    "print (str(stdout.read(),'utf-8').replace('\\\\n','\\n'))\n",
    "# The above command takes a while to finish. But it will run in the background.\n",
    "stdin, stdout, stderr = client.exec_command('/bin/bash -c \"$(curl -fsSL https://raw.githubusercontent.com/Homebrew/install/HEAD/install.sh)\"')\n",
    "print (str(stdout.read(),'utf-8').replace('\\\\n','\\n'))\n",
    "stdin, stdout, stderr = client.exec_command('echo \\'eval \"$(/home/linuxbrew/.linuxbrew/bin/brew shellenv)\"\\' >> /home/ubuntu/.profile')\n",
    "print (str(stdout.read(),'utf-8').replace('\\\\n','\\n'))\n",
    "stdin, stdout, stderr = client.exec_command('eval \"$(/home/linuxbrew/.linuxbrew/bin/brew shellenv)\"')\n",
    "print (str(stdout.read(),'utf-8').replace('\\\\n','\\n'))\n",
    "stdin, stdout, stderr = client.exec_command('/home/linuxbrew/.linuxbrew/bin/brew install wsk')\n",
    "print (str(stdout.read(),'utf-8').replace('\\\\n','\\n'))\n",
    "stdin, stdout, stderr = client.exec_command('/home/linuxbrew/.linuxbrew/bin/wsk property set --apihost http://172.17.0.1:3233')\n",
    "print (str(stdout.read(),'utf-8').replace('\\\\n','\\n'))\n",
    "stdin, stdout, stderr = client.exec_command('/home/linuxbrew/.linuxbrew/bin/wsk -i property set --auth 23bc46b1-71f6-4ed5-8c54-816aa4f8c502:123zO3xZCLrMN6v2BKK1dXYFpXlPkccOFqm12CdAsMgRU4VrNZ9lyGVCGuMDGIwP')\n",
    "print (str(stdout.read(),'utf-8').replace('\\\\n','\\n'))"
   ]
  },
  {
   "cell_type": "markdown",
   "metadata": {},
   "source": [
    "## Then, we can create an action like below."
   ]
  },
  {
   "cell_type": "code",
   "execution_count": 108,
   "metadata": {},
   "outputs": [
    {
     "name": "stdout",
     "output_type": "stream",
     "text": [
      "\n"
     ]
    }
   ],
   "source": [
    "stdin, stdout, stderr = client.exec_command('echo \"def main(dict1):\\n  return {\\'key1\\':\\'Hello World!\\'}\" > action1.py')\n",
    "print (str(stdout.read(),'utf-8').replace('\\\\n','\\n'))"
   ]
  },
  {
   "cell_type": "code",
   "execution_count": 109,
   "metadata": {},
   "outputs": [
    {
     "name": "stdout",
     "output_type": "stream",
     "text": [
      "ok: created action action1\n",
      "\n",
      "\n"
     ]
    }
   ],
   "source": [
    "stdin, stdout, stderr = client.exec_command('/home/linuxbrew/.linuxbrew/bin/wsk action create action1 action1.py')\n",
    "print (str(stdout.read(),'utf-8').replace('\\\\n','\\n'))\n",
    "print (str(stderr.read(),'utf-8').replace('\\\\n','\\n'))"
   ]
  },
  {
   "cell_type": "markdown",
   "metadata": {},
   "source": [
    "## And then, below, we invoke the action we've created."
   ]
  },
  {
   "cell_type": "code",
   "execution_count": 110,
   "metadata": {},
   "outputs": [
    {
     "name": "stdout",
     "output_type": "stream",
     "text": [
      "{\n",
      "    \"key1\": \"Hello World!\"\n",
      "}\n",
      "\n"
     ]
    }
   ],
   "source": [
    "stdin, stdout, stderr = client.exec_command('/home/linuxbrew/.linuxbrew/bin/wsk action invoke action1 --result')\n",
    "print (str(stdout.read(),'utf-8').replace('\\\\n','\\n'))"
   ]
  },
  {
   "cell_type": "markdown",
   "metadata": {},
   "source": [
    "## Delete Slice"
   ]
  },
  {
   "cell_type": "code",
   "execution_count": 111,
   "metadata": {},
   "outputs": [
    {
     "name": "stdout",
     "output_type": "stream",
     "text": [
      "Response Status Status.OK\n",
      "Response received None\n"
     ]
    }
   ],
   "source": [
    "return_status, result = slice_manager.delete(slice_object=slice)\n",
    "\n",
    "print(\"Response Status {}\".format(return_status))\n",
    "print(\"Response received {}\".format(result))"
   ]
  }
 ],
 "metadata": {
  "kernelspec": {
   "display_name": "Python 3",
   "language": "python",
   "name": "python3"
  },
  "language_info": {
   "codemirror_mode": {
    "name": "ipython",
    "version": 3
   },
   "file_extension": ".py",
   "mimetype": "text/x-python",
   "name": "python",
   "nbconvert_exporter": "python",
   "pygments_lexer": "ipython3",
   "version": "3.9.2"
  }
 },
 "nbformat": 4,
 "nbformat_minor": 4
}

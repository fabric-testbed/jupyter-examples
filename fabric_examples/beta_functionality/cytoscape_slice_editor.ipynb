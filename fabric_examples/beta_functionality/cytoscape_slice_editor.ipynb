{
 "cells": [
  {
   "cell_type": "markdown",
   "id": "b3609a15-84fc-454d-897b-446f7499c98b",
   "metadata": {},
   "source": [
    "## Visual Slice Editor\n",
    "\n",
    "https://ipyleaflet.readthedocs.io/en/latest/api_reference/marker.html\n",
    "\n",
    "\n",
    "https://ipywidgets.readthedocs.io/en/7.6.2/examples/Widget%20List.html#Selection-widgets\n",
    "\n",
    "## Install\n",
    "\n",
    "Run the following in a terminal:\n",
    "\n",
    "git clone https://github.com/fabric-testbed/fabrictestbed-extensions.git\n",
    "\n",
    "cd fabrictestbed-extensions\n",
    "\n",
    "pip install . --user \n",
    "\n",
    "## Run"
   ]
  },
  {
   "cell_type": "code",
   "execution_count": null,
   "id": "d806db8f-14f0-4fbb-8489-7eea9f685b9f",
   "metadata": {},
   "outputs": [],
   "source": [
    "from fabrictestbed_extensions.editors.cytoscape_topology_editor import CytoscapeTopologyEditor\n",
    "\n",
    "\n",
    "from IPython.display import display\n",
    "\n",
    "CytoscapeTopologyEditor().start()\n",
    "#out, cyto = CytoscapeTopologyEditor().start()\n",
    "#display(cyto)\n",
    "#display(out)"
   ]
  },
  {
   "cell_type": "code",
   "execution_count": null,
   "id": "4089d67b-1813-4522-b908-d60f1f8263a1",
   "metadata": {},
   "outputs": [],
   "source": [
    "display(cyto)\n",
    "display(out)"
   ]
  },
  {
   "cell_type": "code",
   "execution_count": null,
   "id": "9a078ac0-ec04-497c-9964-fa1f207540c1",
   "metadata": {},
   "outputs": [],
   "source": []
  }
 ],
 "metadata": {
  "kernelspec": {
   "display_name": "Python 3 (ipykernel)",
   "language": "python",
   "name": "python3"
  },
  "language_info": {
   "codemirror_mode": {
    "name": "ipython",
    "version": 3
   },
   "file_extension": ".py",
   "mimetype": "text/x-python",
   "name": "python",
   "nbconvert_exporter": "python",
   "pygments_lexer": "ipython3",
   "version": "3.9.2"
  }
 },
 "nbformat": 4,
 "nbformat_minor": 5
}

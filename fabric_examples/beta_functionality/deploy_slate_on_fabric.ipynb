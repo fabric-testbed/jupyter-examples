{
 "cells": [
  {
   "cell_type": "markdown",
   "metadata": {},
   "source": [
    "## This notebook shows how to use Orchestrator APIs for user experiments"
   ]
  },
  {
   "cell_type": "code",
   "execution_count": 1,
   "metadata": {},
   "outputs": [],
   "source": [
    "import os\n",
    "from fabrictestbed.slice_manager import SliceManager, Status\n",
    "import json"
   ]
  },
  {
   "cell_type": "code",
   "execution_count": 2,
   "metadata": {},
   "outputs": [
    {
     "name": "stdout",
     "output_type": "stream",
     "text": [
      "CM Host: cm.fabric-testbed.net Orchestrator Host: orchestrator.fabric-testbed.net\n"
     ]
    }
   ],
   "source": [
    "credmgr_host = os.environ['FABRIC_CREDMGR_HOST']\n",
    "orchestrator_host = os.environ['FABRIC_ORCHESTRATOR_HOST']\n",
    "print(f\"CM Host: {credmgr_host} Orchestrator Host: {orchestrator_host}\")"
   ]
  },
  {
   "cell_type": "code",
   "execution_count": 3,
   "metadata": {},
   "outputs": [],
   "source": [
    "slice_manager = SliceManager(oc_host=orchestrator_host, cm_host=credmgr_host, project_name='all', scope='all')\n",
    "\n",
    "# Initialize the slice manager\n",
    "slice_manager.initialize()"
   ]
  },
  {
   "cell_type": "code",
   "execution_count": 4,
   "metadata": {},
   "outputs": [
    {
     "name": "stdout",
     "output_type": "stream",
     "text": [
      "Status: Status.OK\n",
      "Toplogy: TACC: { cpu: 10/10 , core: 320/320 , ram: 2,560/2,560 G, disk: 116,400/116,400 G, unit: 5/5 }\n",
      "\tComponents:\n",
      "\t\tSmartNIC-ConnectX-6:  SmartNIC ConnectX-6 { unit: 2/2 }\n",
      "\t\tSmartNIC-ConnectX-5:  SmartNIC ConnectX-5 { unit: 4/4 }\n",
      "\t\tNVME-P4510:  NVME P4510 { disk: 15,360/15,360 G, unit: 16/16 }\n",
      "\t\tSharedNIC-ConnectX-6:  SharedNIC ConnectX-6 { unit: 635/635 }\n",
      "\t\tGPU-Tesla T4:  GPU Tesla T4 { unit: 4/4 }\n",
      "\t\tGPU-RTX6000:  GPU RTX6000 { unit: 6/6 }\n",
      "\tSite Interfaces:\n",
      "\t\tTACC_UTAH: TrunkPort { bw: 100/100 Gbps}\n",
      "\t\tTACC_MAX: TrunkPort { bw: 100/100 Gbps}\n",
      "NCSA: { cpu: 6/6 , core: 192/192 , ram: 1,536/1,536 G, disk: 60,600/60,600 G, unit: 3/3 }\n",
      "\tComponents:\n",
      "\t\tSharedNIC-ConnectX-6:  SharedNIC ConnectX-6 { unit: 381/381 }\n",
      "\t\tNVME-P4510:  NVME P4510 { disk: 9,600/9,600 G, unit: 10/10 }\n",
      "\t\tSmartNIC-ConnectX-5:  SmartNIC ConnectX-5 { unit: 2/2 }\n",
      "\t\tSmartNIC-ConnectX-6:  SmartNIC ConnectX-6 { unit: 2/2 }\n",
      "\t\tGPU-Tesla T4:  GPU Tesla T4 { unit: 2/2 }\n",
      "\t\tGPU-RTX6000:  GPU RTX6000 { unit: 3/3 }\n",
      "\tSite Interfaces:\n",
      "\t\tNCSA_STAR: TrunkPort { bw: 100/100 Gbps}\n",
      "DALL\n",
      "\tComponents:\n",
      "\tSite Interfaces:\n",
      "UTAH: { cpu: 10/10 , core: 320/320 , ram: 2,560/2,560 G, disk: 116,400/116,400 G, unit: 5/5 }\n",
      "\tComponents:\n",
      "\t\tGPU-Tesla T4:  GPU Tesla T4 { unit: 4/4 }\n",
      "\t\tGPU-RTX6000:  GPU RTX6000 { unit: 5/5 }\n",
      "\t\tSharedNIC-ConnectX-6:  SharedNIC ConnectX-6 { unit: 635/635 }\n",
      "\t\tNVME-P4510:  NVME P4510 { disk: 15,360/15,360 G, unit: 16/16 }\n",
      "\t\tSmartNIC-ConnectX-5:  SmartNIC ConnectX-5 { unit: 4/4 }\n",
      "\t\tSmartNIC-ConnectX-6:  SmartNIC ConnectX-6 { unit: 2/2 }\n",
      "\tSite Interfaces:\n",
      "\t\tUTAH_STAR: TrunkPort { bw: 100/100 Gbps}\n",
      "\t\tUTAH_TACC: TrunkPort { bw: 100/100 Gbps}\n",
      "MAX: { cpu: 10/10 , core: 268/320 , ram: 2,360/2,560 G, disk: 116,140/116,400 G, unit: 5/5 }\n",
      "\tComponents:\n",
      "\t\tSharedNIC-ConnectX-6:  SharedNIC ConnectX-6 { unit: 631/635 }\n",
      "\t\tGPU-Tesla T4:  GPU Tesla T4 { unit: 4/4 }\n",
      "\t\tGPU-RTX6000:  GPU RTX6000 { unit: 6/6 }\n",
      "\t\tNVME-P4510:  NVME P4510 { disk: 15,360/15,360 G, unit: 16/16 }\n",
      "\t\tSmartNIC-ConnectX-6:  SmartNIC ConnectX-6 { unit: 1/2 }\n",
      "\t\tSmartNIC-ConnectX-5:  SmartNIC ConnectX-5 { unit: 2/4 }\n",
      "\tSite Interfaces:\n",
      "\t\tMAX_TACC: TrunkPort { bw: 100/100 Gbps}\n",
      "\t\tMAX_STAR: TrunkPort { bw: 100/100 Gbps}\n",
      "MICH: { cpu: 6/6 , core: 192/192 , ram: 1,536/1,536 G, disk: 60,600/60,600 G, unit: 3/3 }\n",
      "\tComponents:\n",
      "\t\tNVME-P4510:  NVME P4510 { disk: 9,600/9,600 G, unit: 10/10 }\n",
      "\t\tGPU-Tesla T4:  GPU Tesla T4 { unit: 2/2 }\n",
      "\t\tGPU-RTX6000:  GPU RTX6000 { unit: 3/3 }\n",
      "\t\tSharedNIC-ConnectX-6:  SharedNIC ConnectX-6 { unit: 381/381 }\n",
      "\t\tSmartNIC-ConnectX-5:  SmartNIC ConnectX-5 { unit: 2/2 }\n",
      "\t\tSmartNIC-ConnectX-6:  SmartNIC ConnectX-6 { unit: 2/2 }\n",
      "\tSite Interfaces:\n",
      "SALT\n",
      "\tComponents:\n",
      "\tSite Interfaces:\n",
      "STAR: { cpu: 12/12 , core: 352/384 , ram: 2,944/3,072 G, disk: 121,100/121,200 G, unit: 6/6 }\n",
      "\tComponents:\n",
      "\t\tGPU-RTX6000:  GPU RTX6000 { unit: 6/6 }\n",
      "\t\tSmartNIC-ConnectX-5:  SmartNIC ConnectX-5 { unit: 6/6 }\n",
      "\t\tSmartNIC-ConnectX-6:  SmartNIC ConnectX-6 { unit: 1/2 }\n",
      "\t\tNVME-P4510:  NVME P4510 { disk: 20,000/20,000 G, unit: 20/20 }\n",
      "\t\tSharedNIC-ConnectX-6:  SharedNIC ConnectX-6 { unit: 762/762 }\n",
      "\t\tGPU-Tesla T4:  GPU Tesla T4 { unit: 6/6 }\n",
      "\tSite Interfaces:\n",
      "\t\tSTAR_UTAH: TrunkPort { bw: 100/100 Gbps}\n",
      "\t\tSTAR_MAX: TrunkPort { bw: 100/100 Gbps}\n",
      "\t\tSTAR_NCSA: TrunkPort { bw: 100/100 Gbps}\n",
      "WASH\n",
      "\tComponents:\n",
      "\tSite Interfaces:\n",
      "Links:\n",
      "\tport+max-data-sw:HundredGigE0/0/0/22.2051 to port+tacc-data-sw:HundredGigE0/0/0/23.3160[L2Path]: ['MAX_TACC', 'TACC_MAX']\n",
      "\tport+max-data-sw:HundredGigE0/0/0/22.2052 to port+star-data-sw:HundredGigE0/0/0/30.3721[L2Path]: ['STAR_MAX', 'MAX_STAR']\n",
      "\tport+ncsa-data-sw:HundredGigE0/0/0/23.3710 to port+star-data-sw:HundredGigE0/0/0/30.3710[L2Path]: ['STAR_NCSA', 'NCSA_STAR']\n",
      "\tport+star-data-sw:HundredGigE0/0/0/30.3722 to port+utah-data-sw:HundredGigE0/0/0/22.2090[L2Path]: ['UTAH_STAR', 'STAR_UTAH']\n",
      "\tport+tacc-data-sw:HundredGigE0/0/0/23.3161 to port+utah-data-sw:HundredGigE0/0/0/22.2091[L2Path]: ['UTAH_TACC', 'TACC_UTAH']\n"
     ]
    }
   ],
   "source": [
    "status, advertised_topology = slice_manager.resources()\n",
    "\n",
    "print(f\"Status: {status}\")\n",
    "if status == Status.OK:\n",
    "    print(f\"Toplogy: {advertised_topology}\")\n",
    "else:\n",
    "    print(f\"Error: {advertised_topology}\")"
   ]
  },
  {
   "cell_type": "code",
   "execution_count": 5,
   "metadata": {},
   "outputs": [
    {
     "data": {
      "image/png": "[encoded data removed]",
      "text/plain": [
       "<Figure size 432x288 with 1 Axes>"
      ]
     },
     "metadata": {},
     "output_type": "display_data"
    }
   ],
   "source": [
    "if status == Status.OK:\n",
    "    advertised_topology.draw()"
   ]
  },
  {
   "cell_type": "markdown",
   "metadata": {},
   "source": [
    "## Create Slice"
   ]
  },
  {
   "cell_type": "code",
   "execution_count": 9,
   "metadata": {},
   "outputs": [
    {
     "name": "stdout",
     "output_type": "stream",
     "text": [
      "Response Status Status.OK\n",
      "Reservations created [{\n",
      "    \"graph_node_id\": \"a7dcc307-7713-4883-9008-37fa95fc6307\",\n",
      "    \"lease_end\": \"2021-11-04 03:22:32\",\n",
      "    \"pending_state\": \"None_\",\n",
      "    \"reservation_id\": \"b759e74b-6b6a-4594-9673-af6af5ecc8cd\",\n",
      "    \"reservation_state\": \"Unknown\",\n",
      "    \"slice_id\": \"fef82abf-d47d-4749-a09d-e25d8c0199b9\"\n",
      "}, {\n",
      "    \"graph_node_id\": \"a9a5eb1d-18d2-4d32-a70f-9c95507f6330\",\n",
      "    \"lease_end\": \"2021-11-04 03:22:32\",\n",
      "    \"pending_state\": \"None_\",\n",
      "    \"reservation_id\": \"3929b10c-48ef-4a92-bcd9-65518889f539\",\n",
      "    \"reservation_state\": \"Unknown\",\n",
      "    \"slice_id\": \"fef82abf-d47d-4749-a09d-e25d8c0199b9\"\n",
      "}, {\n",
      "    \"graph_node_id\": \"07f96276-ee5b-439b-92cc-bdc7023f9ccb\",\n",
      "    \"lease_end\": \"2021-11-04 03:22:32\",\n",
      "    \"pending_state\": \"None_\",\n",
      "    \"reservation_id\": \"47f000b9-0dc5-434c-9433-860ac241db6c\",\n",
      "    \"reservation_state\": \"Unknown\",\n",
      "    \"slice_id\": \"fef82abf-d47d-4749-a09d-e25d8c0199b9\"\n",
      "}]\n"
     ]
    }
   ],
   "source": [
    "from fabrictestbed.slice_editor import ExperimentTopology, Capacities, ComponentType, ComponentModelType, ServiceType\n",
    "# Create topology\n",
    "t = ExperimentTopology()\n",
    "\n",
    "\n",
    "# Add node\n",
    "n1 = t.add_node(name='master_node', site='MAX')\n",
    "\n",
    "# Set capacities\n",
    "cap = Capacities()\n",
    "cap.set_fields(core=2, ram=4, disk=10)\n",
    "\n",
    "# Set Properties\n",
    "n1.set_properties(capacities=cap, image_type='qcow2', image_ref='default_ubuntu_20')\n",
    "\n",
    "\n",
    "# Add node\n",
    "n2 = t.add_node(name='client_node', site='MAX')\n",
    "\n",
    "# Set properties\n",
    "n2.set_properties(capacities=cap, image_type='qcow2', image_ref='default_ubuntu_20')\n",
    "\n",
    "\n",
    "# Add node\n",
    "n3 = t.add_node(name='master_node_2', site='MAX')\n",
    "\n",
    "# Set properties\n",
    "n3.set_properties(capacities=cap, image_type='qcow2', image_ref='default_ubuntu_20')\n",
    "\n",
    "\n",
    "# Generate Slice Graph\n",
    "slice_graph = t.serialize()\n",
    "\n",
    "ssh_key = None\n",
    "with open (\"/home/fabric/.ssh/id_rsa.pub\", \"r\") as myfile:\n",
    "    ssh_key=myfile.read()\n",
    "    ssh_key=ssh_key.strip()\n",
    "\n",
    "# Request slice from Orchestrator\n",
    "status, reservations = slice_manager.create(slice_name='Slice-Kubernetes-Hello-World', slice_graph=slice_graph, ssh_key=ssh_key)\n",
    "\n",
    "print(\"Response Status {}\".format(status))\n",
    "if status == Status.OK:\n",
    "    print(\"Reservations created {}\".format(reservations))\n",
    "else:\n",
    "    print(f\"Failure: {reservations}\")"
   ]
  },
  {
   "cell_type": "code",
   "execution_count": 10,
   "metadata": {},
   "outputs": [
    {
     "name": "stdout",
     "output_type": "stream",
     "text": [
      "fef82abf-d47d-4749-a09d-e25d8c0199b9\n"
     ]
    }
   ],
   "source": [
    "# Set the Slice ID from output of the above command\n",
    "slice_id=reservations[0].slice_id\n",
    "print(slice_id)"
   ]
  },
  {
   "cell_type": "markdown",
   "metadata": {},
   "source": [
    "## Query Slices"
   ]
  },
  {
   "cell_type": "code",
   "execution_count": 12,
   "metadata": {},
   "outputs": [
    {
     "name": "stdout",
     "output_type": "stream",
     "text": [
      "Response Status Status.OK\n",
      "Slices [{\n",
      "    \"graph_id\": \"e02ad13c-dba9-47c4-9826-09aeeb072e0f\",\n",
      "    \"lease_end\": \"2021-11-04 02:39:26\",\n",
      "    \"slice_id\": \"a0e8e3db-aa36-461c-b1c9-9585effebcb6\",\n",
      "    \"slice_name\": \"Slice-Kubernetes-Hello-World\",\n",
      "    \"slice_state\": \"Dead\"\n",
      "}, {\n",
      "    \"graph_id\": \"aafd2ca1-30d4-4291-b699-bc564a4e55ee\",\n",
      "    \"lease_end\": \"2021-11-04 03:22:01\",\n",
      "    \"slice_id\": \"902fe61f-ebcc-4119-a201-a2171751d213\",\n",
      "    \"slice_name\": \"Slice-Kubernetes-Hello-World\",\n",
      "    \"slice_state\": \"Closing\"\n",
      "}, {\n",
      "    \"graph_id\": \"76b61aab-99ec-4fbe-9a20-afbda0115c69\",\n",
      "    \"lease_end\": \"2021-11-04 03:22:32\",\n",
      "    \"slice_id\": \"fef82abf-d47d-4749-a09d-e25d8c0199b9\",\n",
      "    \"slice_name\": \"Slice-Kubernetes-Hello-World\",\n",
      "    \"slice_state\": \"StableOK\"\n",
      "}]\n"
     ]
    }
   ],
   "source": [
    "status, slices = slice_manager.slices()\n",
    "\n",
    "print(\"Response Status {}\".format(status))\n",
    "if status == Status.OK:\n",
    "    print(\"Slices {}\".format(slices))\n",
    "else:\n",
    "    print(f\"Failure: {slices}\")"
   ]
  },
  {
   "cell_type": "markdown",
   "metadata": {},
   "source": [
    "## Query Slivers"
   ]
  },
  {
   "cell_type": "code",
   "execution_count": 13,
   "metadata": {},
   "outputs": [
    {
     "name": "stdout",
     "output_type": "stream",
     "text": [
      "Response Status Status.OK\n",
      "Slivers [{\n",
      "    \"allocated_capacities\": \"{\\\"core\\\": 2, \\\"disk\\\": 10, \\\"ram\\\": 8}\",\n",
      "    \"allocated_labels\": \"{\\\"instance\\\": \\\"instance-0000051b\\\", \\\"instance_parent\\\": \\\"max-w3.fabric-testbed.net\\\"}\",\n",
      "    \"capacities\": \"{\\\"core\\\": 2, \\\"disk\\\": 10, \\\"ram\\\": 4}\",\n",
      "    \"capacity_hints\": \"{\\\"instance_type\\\": \\\"fabric.c2.m8.d10\\\"}\",\n",
      "    \"graph_node_id\": \"a7dcc307-7713-4883-9008-37fa95fc6307\",\n",
      "    \"join_state\": \"NoJoin\",\n",
      "    \"lease_end\": \"2021-11-04 03:22:32\",\n",
      "    \"management_ip\": \"63.239.135.117\",\n",
      "    \"name\": \"master_node\",\n",
      "    \"notices\": \"Reservation b759e74b-6b6a-4594-9673-af6af5ecc8cd (Slice Slice-Kubernetes-Hello-World(fef82abf-d47d-4749-a09d-e25d8c0199b9) Graph Id:76b61aab-99ec-4fbe-9a20-afbda0115c69 Owner:name: orchestrator guid: orchestrator-guid email: minawm@bu.edu State:StableOK ) is in state [Active,None_]\\n\\nLast ticket update: \\nTicket events: \\nLast ticket update: \\nTicket events: \",\n",
      "    \"pending_state\": \"None_\",\n",
      "    \"reservation_id\": \"b759e74b-6b6a-4594-9673-af6af5ecc8cd\",\n",
      "    \"reservation_state\": \"Active\",\n",
      "    \"resource_type\": \"VM\",\n",
      "    \"site\": \"MAX\",\n",
      "    \"slice_id\": \"fef82abf-d47d-4749-a09d-e25d8c0199b9\"\n",
      "}, {\n",
      "    \"allocated_capacities\": \"{\\\"core\\\": 2, \\\"disk\\\": 10, \\\"ram\\\": 8}\",\n",
      "    \"allocated_labels\": \"{\\\"instance\\\": \\\"instance-0000051d\\\", \\\"instance_parent\\\": \\\"max-w3.fabric-testbed.net\\\"}\",\n",
      "    \"capacities\": \"{\\\"core\\\": 2, \\\"disk\\\": 10, \\\"ram\\\": 4}\",\n",
      "    \"capacity_hints\": \"{\\\"instance_type\\\": \\\"fabric.c2.m8.d10\\\"}\",\n",
      "    \"graph_node_id\": \"a9a5eb1d-18d2-4d32-a70f-9c95507f6330\",\n",
      "    \"join_state\": \"NoJoin\",\n",
      "    \"lease_end\": \"2021-11-04 03:22:32\",\n",
      "    \"management_ip\": \"63.239.135.112\",\n",
      "    \"name\": \"client_node\",\n",
      "    \"notices\": \"Reservation 3929b10c-48ef-4a92-bcd9-65518889f539 (Slice Slice-Kubernetes-Hello-World(fef82abf-d47d-4749-a09d-e25d8c0199b9) Graph Id:76b61aab-99ec-4fbe-9a20-afbda0115c69 Owner:name: orchestrator guid: orchestrator-guid email: minawm@bu.edu State:StableOK ) is in state [Active,None_]\\n\\nLast ticket update: \\nTicket events: \\nLast ticket update: \\nTicket events: \",\n",
      "    \"pending_state\": \"None_\",\n",
      "    \"reservation_id\": \"3929b10c-48ef-4a92-bcd9-65518889f539\",\n",
      "    \"reservation_state\": \"Active\",\n",
      "    \"resource_type\": \"VM\",\n",
      "    \"site\": \"MAX\",\n",
      "    \"slice_id\": \"fef82abf-d47d-4749-a09d-e25d8c0199b9\"\n",
      "}, {\n",
      "    \"allocated_capacities\": \"{\\\"core\\\": 2, \\\"disk\\\": 10, \\\"ram\\\": 8}\",\n",
      "    \"allocated_labels\": \"{\\\"instance\\\": \\\"instance-0000051c\\\", \\\"instance_parent\\\": \\\"max-w3.fabric-testbed.net\\\"}\",\n",
      "    \"capacities\": \"{\\\"core\\\": 2, \\\"disk\\\": 10, \\\"ram\\\": 4}\",\n",
      "    \"capacity_hints\": \"{\\\"instance_type\\\": \\\"fabric.c2.m8.d10\\\"}\",\n",
      "    \"graph_node_id\": \"07f96276-ee5b-439b-92cc-bdc7023f9ccb\",\n",
      "    \"join_state\": \"NoJoin\",\n",
      "    \"lease_end\": \"2021-11-04 03:22:32\",\n",
      "    \"management_ip\": \"63.239.135.115\",\n",
      "    \"name\": \"master_node_2\",\n",
      "    \"notices\": \"Reservation 47f000b9-0dc5-434c-9433-860ac241db6c (Slice Slice-Kubernetes-Hello-World(fef82abf-d47d-4749-a09d-e25d8c0199b9) Graph Id:76b61aab-99ec-4fbe-9a20-afbda0115c69 Owner:name: orchestrator guid: orchestrator-guid email: minawm@bu.edu State:StableOK ) is in state [Active,None_]\\n\\nLast ticket update: \\nTicket events: \\nLast ticket update: \\nTicket events: \",\n",
      "    \"pending_state\": \"None_\",\n",
      "    \"reservation_id\": \"47f000b9-0dc5-434c-9433-860ac241db6c\",\n",
      "    \"reservation_state\": \"Active\",\n",
      "    \"resource_type\": \"VM\",\n",
      "    \"site\": \"MAX\",\n",
      "    \"slice_id\": \"fef82abf-d47d-4749-a09d-e25d8c0199b9\"\n",
      "}]\n"
     ]
    }
   ],
   "source": [
    "slice_object = list(filter(lambda x: x.slice_id == slice_id, slices))[0]\n",
    "status, slivers = slice_manager.slivers(slice_object=slice_object)\n",
    "\n",
    "print(\"Response Status {}\".format(status))\n",
    "if status == Status.OK:\n",
    "    print(\"Slivers {}\".format(slivers))\n",
    "else:\n",
    "    print(f\"Failure: {slivers}\")"
   ]
  },
  {
   "cell_type": "markdown",
   "metadata": {},
   "source": [
    "## Sliver Status"
   ]
  },
  {
   "cell_type": "code",
   "execution_count": 14,
   "metadata": {},
   "outputs": [
    {
     "name": "stdout",
     "output_type": "stream",
     "text": [
      "Response Status Status.OK\n",
      "\n",
      "Sliver Status {\n",
      "    \"allocated_capacities\": \"{\\\"core\\\": 2, \\\"disk\\\": 10, \\\"ram\\\": 8}\",\n",
      "    \"allocated_labels\": \"{\\\"instance\\\": \\\"instance-0000051b\\\", \\\"instance_parent\\\": \\\"max-w3.fabric-testbed.net\\\"}\",\n",
      "    \"capacities\": \"{\\\"core\\\": 2, \\\"disk\\\": 10, \\\"ram\\\": 4}\",\n",
      "    \"capacity_hints\": \"{\\\"instance_type\\\": \\\"fabric.c2.m8.d10\\\"}\",\n",
      "    \"graph_node_id\": \"a7dcc307-7713-4883-9008-37fa95fc6307\",\n",
      "    \"join_state\": \"NoJoin\",\n",
      "    \"lease_end\": \"2021-11-04 03:22:32\",\n",
      "    \"management_ip\": \"63.239.135.117\",\n",
      "    \"name\": \"master_node\",\n",
      "    \"notices\": \"Reservation b759e74b-6b6a-4594-9673-af6af5ecc8cd (Slice Slice-Kubernetes-Hello-World(fef82abf-d47d-4749-a09d-e25d8c0199b9) Graph Id:76b61aab-99ec-4fbe-9a20-afbda0115c69 Owner:name: orchestrator guid: orchestrator-guid email: minawm@bu.edu State:StableOK ) is in state [Active,None_]\\n\\nLast ticket update: \\nTicket events: \\nLast ticket update: \\nTicket events: \",\n",
      "    \"pending_state\": \"None_\",\n",
      "    \"reservation_id\": \"b759e74b-6b6a-4594-9673-af6af5ecc8cd\",\n",
      "    \"reservation_state\": \"Active\",\n",
      "    \"resource_type\": \"VM\",\n",
      "    \"site\": \"MAX\",\n",
      "    \"slice_id\": \"fef82abf-d47d-4749-a09d-e25d8c0199b9\"\n",
      "}\n",
      "\n",
      "Response Status Status.OK\n",
      "\n",
      "Sliver Status {\n",
      "    \"allocated_capacities\": \"{\\\"core\\\": 2, \\\"disk\\\": 10, \\\"ram\\\": 8}\",\n",
      "    \"allocated_labels\": \"{\\\"instance\\\": \\\"instance-0000051d\\\", \\\"instance_parent\\\": \\\"max-w3.fabric-testbed.net\\\"}\",\n",
      "    \"capacities\": \"{\\\"core\\\": 2, \\\"disk\\\": 10, \\\"ram\\\": 4}\",\n",
      "    \"capacity_hints\": \"{\\\"instance_type\\\": \\\"fabric.c2.m8.d10\\\"}\",\n",
      "    \"graph_node_id\": \"a9a5eb1d-18d2-4d32-a70f-9c95507f6330\",\n",
      "    \"join_state\": \"NoJoin\",\n",
      "    \"lease_end\": \"2021-11-04 03:22:32\",\n",
      "    \"management_ip\": \"63.239.135.112\",\n",
      "    \"name\": \"client_node\",\n",
      "    \"notices\": \"Reservation 3929b10c-48ef-4a92-bcd9-65518889f539 (Slice Slice-Kubernetes-Hello-World(fef82abf-d47d-4749-a09d-e25d8c0199b9) Graph Id:76b61aab-99ec-4fbe-9a20-afbda0115c69 Owner:name: orchestrator guid: orchestrator-guid email: minawm@bu.edu State:StableOK ) is in state [Active,None_]\\n\\nLast ticket update: \\nTicket events: \\nLast ticket update: \\nTicket events: \",\n",
      "    \"pending_state\": \"None_\",\n",
      "    \"reservation_id\": \"3929b10c-48ef-4a92-bcd9-65518889f539\",\n",
      "    \"reservation_state\": \"Active\",\n",
      "    \"resource_type\": \"VM\",\n",
      "    \"site\": \"MAX\",\n",
      "    \"slice_id\": \"fef82abf-d47d-4749-a09d-e25d8c0199b9\"\n",
      "}\n",
      "\n",
      "Response Status Status.OK\n",
      "\n",
      "Sliver Status {\n",
      "    \"allocated_capacities\": \"{\\\"core\\\": 2, \\\"disk\\\": 10, \\\"ram\\\": 8}\",\n",
      "    \"allocated_labels\": \"{\\\"instance\\\": \\\"instance-0000051c\\\", \\\"instance_parent\\\": \\\"max-w3.fabric-testbed.net\\\"}\",\n",
      "    \"capacities\": \"{\\\"core\\\": 2, \\\"disk\\\": 10, \\\"ram\\\": 4}\",\n",
      "    \"capacity_hints\": \"{\\\"instance_type\\\": \\\"fabric.c2.m8.d10\\\"}\",\n",
      "    \"graph_node_id\": \"07f96276-ee5b-439b-92cc-bdc7023f9ccb\",\n",
      "    \"join_state\": \"NoJoin\",\n",
      "    \"lease_end\": \"2021-11-04 03:22:32\",\n",
      "    \"management_ip\": \"63.239.135.115\",\n",
      "    \"name\": \"master_node_2\",\n",
      "    \"notices\": \"Reservation 47f000b9-0dc5-434c-9433-860ac241db6c (Slice Slice-Kubernetes-Hello-World(fef82abf-d47d-4749-a09d-e25d8c0199b9) Graph Id:76b61aab-99ec-4fbe-9a20-afbda0115c69 Owner:name: orchestrator guid: orchestrator-guid email: minawm@bu.edu State:StableOK ) is in state [Active,None_]\\n\\nLast ticket update: \\nTicket events: \\nLast ticket update: \\nTicket events: \",\n",
      "    \"pending_state\": \"None_\",\n",
      "    \"reservation_id\": \"47f000b9-0dc5-434c-9433-860ac241db6c\",\n",
      "    \"reservation_state\": \"Active\",\n",
      "    \"resource_type\": \"VM\",\n",
      "    \"site\": \"MAX\",\n",
      "    \"slice_id\": \"fef82abf-d47d-4749-a09d-e25d8c0199b9\"\n",
      "}\n",
      "\n"
     ]
    }
   ],
   "source": [
    "for s in slivers:\n",
    "    status, sliver_status = slice_manager.sliver_status(sliver=s)\n",
    "\n",
    "    print(\"Response Status {}\".format(status))\n",
    "    if status == Status.OK:\n",
    "        print()\n",
    "        print(\"Sliver Status {}\".format(sliver_status))\n",
    "        print()"
   ]
  },
  {
   "cell_type": "markdown",
   "metadata": {},
   "source": [
    "## Work on the servers starts here."
   ]
  },
  {
   "cell_type": "markdown",
   "metadata": {},
   "source": [
    "### We are going to use paramiko to connect to our servers through ssh."
   ]
  },
  {
   "cell_type": "code",
   "execution_count": 15,
   "metadata": {},
   "outputs": [],
   "source": [
    "import paramiko"
   ]
  },
  {
   "cell_type": "markdown",
   "metadata": {},
   "source": [
    "### We have two servers with two IPs."
   ]
  },
  {
   "cell_type": "code",
   "execution_count": 16,
   "metadata": {},
   "outputs": [
    {
     "data": {
      "text/plain": [
       "'63.239.135.117'"
      ]
     },
     "execution_count": 16,
     "metadata": {},
     "output_type": "execute_result"
    }
   ],
   "source": [
    "master_node_ip = list(filter(lambda sliver : sliver.name == \"master_node\",slivers))[0].management_ip\n",
    "master_node_ip"
   ]
  },
  {
   "cell_type": "code",
   "execution_count": 17,
   "metadata": {},
   "outputs": [
    {
     "data": {
      "text/plain": [
       "'63.239.135.115'"
      ]
     },
     "execution_count": 17,
     "metadata": {},
     "output_type": "execute_result"
    }
   ],
   "source": [
    "master_node_2_ip = list(filter(lambda sliver : sliver.name == \"master_node_2\",slivers))[0].management_ip\n",
    "master_node_2_ip"
   ]
  },
  {
   "cell_type": "code",
   "execution_count": 18,
   "metadata": {},
   "outputs": [
    {
     "data": {
      "text/plain": [
       "'63.239.135.112'"
      ]
     },
     "execution_count": 18,
     "metadata": {},
     "output_type": "execute_result"
    }
   ],
   "source": [
    "client_node_ip = list(filter(lambda sliver : sliver.name == \"client_node\",slivers))[0].management_ip\n",
    "client_node_ip"
   ]
  },
  {
   "cell_type": "markdown",
   "metadata": {},
   "source": [
    "### Below, we connect to some nodes."
   ]
  },
  {
   "cell_type": "code",
   "execution_count": 19,
   "metadata": {},
   "outputs": [
    {
     "data": {
      "text/plain": [
       "<paramiko.client.SSHClient at 0x7f475462ec40>"
      ]
     },
     "execution_count": 19,
     "metadata": {},
     "output_type": "execute_result"
    }
   ],
   "source": [
    "key = paramiko.RSAKey.from_private_key_file(\"/home/fabric/.ssh/id_rsa\")\n",
    "master_node = paramiko.SSHClient()\n",
    "master_node.load_system_host_keys()\n",
    "master_node.set_missing_host_key_policy(paramiko.MissingHostKeyPolicy())\n",
    "\n",
    "master_node.set_missing_host_key_policy(paramiko.AutoAddPolicy())\n",
    "master_node.connect(master_node_ip,username='ubuntu',pkey = key)\n",
    "\n",
    "master_node"
   ]
  },
  {
   "cell_type": "code",
   "execution_count": 20,
   "metadata": {},
   "outputs": [
    {
     "data": {
      "text/plain": [
       "<paramiko.client.SSHClient at 0x7f477c7b5a30>"
      ]
     },
     "execution_count": 20,
     "metadata": {},
     "output_type": "execute_result"
    }
   ],
   "source": [
    "key = paramiko.RSAKey.from_private_key_file(\"/home/fabric/.ssh/id_rsa\")\n",
    "master_node_2 = paramiko.SSHClient()\n",
    "master_node_2.load_system_host_keys()\n",
    "master_node_2.set_missing_host_key_policy(paramiko.MissingHostKeyPolicy())\n",
    "\n",
    "master_node_2.set_missing_host_key_policy(paramiko.AutoAddPolicy())\n",
    "master_node_2.connect(master_node_2_ip,username='ubuntu',pkey = key)\n",
    "\n",
    "master_node_2"
   ]
  },
  {
   "cell_type": "code",
   "execution_count": 24,
   "metadata": {},
   "outputs": [
    {
     "data": {
      "text/plain": [
       "<paramiko.client.SSHClient at 0x7f475680b6d0>"
      ]
     },
     "execution_count": 24,
     "metadata": {},
     "output_type": "execute_result"
    }
   ],
   "source": [
    "key = paramiko.RSAKey.from_private_key_file(\"/home/fabric/.ssh/id_rsa\")\n",
    "client_node = paramiko.SSHClient()\n",
    "client_node.load_system_host_keys()\n",
    "client_node.set_missing_host_key_policy(paramiko.MissingHostKeyPolicy())\n",
    "\n",
    "client_node.set_missing_host_key_policy(paramiko.AutoAddPolicy())\n",
    "client_node.connect(client_node_ip,username='ubuntu',pkey = key)\n",
    "\n",
    "client_node"
   ]
  },
  {
   "cell_type": "markdown",
   "metadata": {},
   "source": [
    "### Connection should be established. Let's issue some test commands:"
   ]
  },
  {
   "cell_type": "code",
   "execution_count": 21,
   "metadata": {},
   "outputs": [
    {
     "name": "stdout",
     "output_type": "stream",
     "text": [
      "Distributor ID:\tUbuntu\n",
      "Description:\tUbuntu 20.04.3 LTS\n",
      "Release:\t20.04\n",
      "Codename:\tfocal\n",
      "\n",
      "No LSB modules are available.\n",
      "\n"
     ]
    }
   ],
   "source": [
    "stdin, stdout, stderr = master_node.exec_command('lsb_release -a')\n",
    "print(stdout.read().decode(\"utf-8\"))\n",
    "print(stderr.read().decode(\"utf-8\"))"
   ]
  },
  {
   "cell_type": "code",
   "execution_count": 22,
   "metadata": {},
   "outputs": [
    {
     "name": "stdout",
     "output_type": "stream",
     "text": [
      "1: lo: <LOOPBACK,UP,LOWER_UP> mtu 65536 qdisc noqueue state UNKNOWN group default qlen 1000\n",
      "    link/loopback 00:00:00:00:00:00 brd 00:00:00:00:00:00\n",
      "    inet 127.0.0.1/8 scope host lo\n",
      "       valid_lft forever preferred_lft forever\n",
      "    inet6 ::1/128 scope host \n",
      "       valid_lft forever preferred_lft forever\n",
      "2: ens3: <BROADCAST,MULTICAST,UP,LOWER_UP> mtu 9000 qdisc fq_codel state UP group default qlen 1000\n",
      "    link/ether fa:16:3e:7c:b2:f2 brd ff:ff:ff:ff:ff:ff\n",
      "    inet 10.20.4.122/24 brd 10.20.4.255 scope global dynamic ens3\n",
      "       valid_lft 86246sec preferred_lft 86246sec\n",
      "    inet6 fe80::f816:3eff:fe7c:b2f2/64 scope link \n",
      "       valid_lft forever preferred_lft forever\n",
      "\n",
      "\n"
     ]
    }
   ],
   "source": [
    "stdin, stdout, stderr = master_node.exec_command('ip addr')\n",
    "print(stdout.read().decode(\"utf-8\"))\n",
    "print(stderr.read().decode(\"utf-8\"))"
   ]
  },
  {
   "cell_type": "code",
   "execution_count": 23,
   "metadata": {},
   "outputs": [
    {
     "name": "stdout",
     "output_type": "stream",
     "text": [
      "63.239.135.117\n",
      "  % Total    % Received % Xferd  Average Speed   Time    Time     Time  Current\n",
      "                                 Dload  Upload   Total   Spent    Left  Speed\n",
      "100    14  100    14    0     0    145      0 --:--:-- --:--:-- --:--:--   145\n",
      "\n"
     ]
    }
   ],
   "source": [
    "stdin, stdout, stderr = master_node.exec_command('curl https://ipinfo.io/ip')\n",
    "print(stdout.read().decode(\"utf-8\"))\n",
    "print(stderr.read().decode(\"utf-8\"))"
   ]
  },
  {
   "cell_type": "markdown",
   "metadata": {},
   "source": [
    "### Now, let's do a quick ping experiment. Let's let each of the servers ping the other server."
   ]
  },
  {
   "cell_type": "code",
   "execution_count": 25,
   "metadata": {},
   "outputs": [
    {
     "name": "stdout",
     "output_type": "stream",
     "text": [
      "PING 63.239.135.117 (63.239.135.117) 56(84) bytes of data.\n",
      "64 bytes from 63.239.135.117: icmp_seq=1 ttl=63 time=0.907 ms\n",
      "64 bytes from 63.239.135.117: icmp_seq=2 ttl=63 time=0.551 ms\n",
      "64 bytes from 63.239.135.117: icmp_seq=3 ttl=63 time=0.553 ms\n",
      "64 bytes from 63.239.135.117: icmp_seq=4 ttl=63 time=0.450 ms\n",
      "64 bytes from 63.239.135.117: icmp_seq=5 ttl=63 time=0.466 ms\n",
      "64 bytes from 63.239.135.117: icmp_seq=6 ttl=63 time=0.488 ms\n",
      "64 bytes from 63.239.135.117: icmp_seq=7 ttl=63 time=0.317 ms\n",
      "64 bytes from 63.239.135.117: icmp_seq=8 ttl=63 time=0.479 ms\n",
      "64 bytes from 63.239.135.117: icmp_seq=9 ttl=63 time=0.309 ms\n",
      "64 bytes from 63.239.135.117: icmp_seq=10 ttl=63 time=0.342 ms\n",
      "\n",
      "--- 63.239.135.117 ping statistics ---\n",
      "10 packets transmitted, 10 received, 0% packet loss, time 9195ms\n",
      "rtt min/avg/max/mdev = 0.309/0.486/0.907/0.163 ms\n",
      "\n",
      "\n"
     ]
    }
   ],
   "source": [
    "stdin, stdout, stderr = client_node.exec_command('ping -c 10 ' + master_node_ip)\n",
    "print(stdout.read().decode(\"utf-8\"))\n",
    "print(stderr.read().decode(\"utf-8\"))"
   ]
  },
  {
   "cell_type": "code",
   "execution_count": 26,
   "metadata": {},
   "outputs": [
    {
     "name": "stdout",
     "output_type": "stream",
     "text": [
      "PING 63.239.135.112 (63.239.135.112) 56(84) bytes of data.\n",
      "64 bytes from 63.239.135.112: icmp_seq=1 ttl=63 time=0.501 ms\n",
      "64 bytes from 63.239.135.112: icmp_seq=2 ttl=63 time=0.395 ms\n",
      "64 bytes from 63.239.135.112: icmp_seq=3 ttl=63 time=0.392 ms\n",
      "64 bytes from 63.239.135.112: icmp_seq=4 ttl=63 time=0.358 ms\n",
      "64 bytes from 63.239.135.112: icmp_seq=5 ttl=63 time=0.320 ms\n",
      "64 bytes from 63.239.135.112: icmp_seq=6 ttl=63 time=0.420 ms\n",
      "64 bytes from 63.239.135.112: icmp_seq=7 ttl=63 time=0.409 ms\n",
      "64 bytes from 63.239.135.112: icmp_seq=8 ttl=63 time=0.385 ms\n",
      "64 bytes from 63.239.135.112: icmp_seq=9 ttl=63 time=0.424 ms\n",
      "64 bytes from 63.239.135.112: icmp_seq=10 ttl=63 time=0.460 ms\n",
      "\n",
      "--- 63.239.135.112 ping statistics ---\n",
      "10 packets transmitted, 10 received, 0% packet loss, time 9198ms\n",
      "rtt min/avg/max/mdev = 0.320/0.406/0.501/0.047 ms\n",
      "\n",
      "\n"
     ]
    }
   ],
   "source": [
    "stdin, stdout, stderr = master_node.exec_command('ping -c 10 ' + client_node_ip)\n",
    "print(stdout.read().decode(\"utf-8\"))\n",
    "print(stderr.read().decode(\"utf-8\"))"
   ]
  },
  {
   "cell_type": "markdown",
   "metadata": {},
   "source": [
    "### Ping experiment complete. Both nodes can see each other."
   ]
  },
  {
   "cell_type": "markdown",
   "metadata": {},
   "source": [
    "### Now, let's start a Kubernetes cluster on those two nodes."
   ]
  },
  {
   "cell_type": "markdown",
   "metadata": {},
   "source": [
    "We follow the instructions that we have here: https://github.com/apache/openwhisk-deploy-kube/blob/master/docs/k8s-diy-ubuntu.md"
   ]
  },
  {
   "cell_type": "markdown",
   "metadata": {},
   "source": [
    "## Master node setup."
   ]
  },
  {
   "cell_type": "markdown",
   "metadata": {},
   "source": [
    "We now simply follow the instructions on our master node one by one."
   ]
  },
  {
   "cell_type": "code",
   "execution_count": 27,
   "metadata": {},
   "outputs": [
    {
     "name": "stdout",
     "output_type": "stream",
     "text": [
      "Get:1 http://security.ubuntu.com/ubuntu focal-security InRelease [114 kB]\n",
      "Get:2 http://security.ubuntu.com/ubuntu focal-security/main amd64 Packages [949 kB]\n",
      "Get:3 http://security.ubuntu.com/ubuntu focal-security/main Translation-en [178 kB]\n",
      "Get:4 http://security.ubuntu.com/ubuntu focal-security/main amd64 c-n-f Metadata [8844 B]\n",
      "Get:5 http://security.ubuntu.com/ubuntu focal-security/restricted amd64 Packages [483 kB]\n",
      "Get:6 http://security.ubuntu.com/ubuntu focal-security/restricted Translation-en [69.2 kB]\n",
      "Get:7 http://security.ubuntu.com/ubuntu focal-security/restricted amd64 c-n-f Metadata [508 B]\n",
      "Get:8 http://security.ubuntu.com/ubuntu focal-security/universe amd64 Packages [647 kB]\n",
      "Get:9 http://security.ubuntu.com/ubuntu focal-security/universe Translation-en [106 kB]\n",
      "Get:10 http://security.ubuntu.com/ubuntu focal-security/universe amd64 c-n-f Metadata [12.8 kB]\n",
      "Get:11 http://security.ubuntu.com/ubuntu focal-security/multiverse amd64 Packages [21.9 kB]\n",
      "Get:12 http://security.ubuntu.com/ubuntu focal-security/multiverse Translation-en [4948 B]\n",
      "Get:13 http://security.ubuntu.com/ubuntu focal-security/multiverse amd64 c-n-f Metadata [540 B]\n",
      "Hit:14 http://nova.clouds.archive.ubuntu.com/ubuntu focal InRelease\n",
      "Get:15 http://nova.clouds.archive.ubuntu.com/ubuntu focal-updates InRelease [114 kB]\n",
      "Get:16 http://nova.clouds.archive.ubuntu.com/ubuntu focal-backports InRelease [101 kB]\n",
      "Get:17 http://nova.clouds.archive.ubuntu.com/ubuntu focal/universe amd64 Packages [8628 kB]\n",
      "Get:18 http://nova.clouds.archive.ubuntu.com/ubuntu focal/universe Translation-en [5124 kB]\n",
      "Get:19 http://nova.clouds.archive.ubuntu.com/ubuntu focal/universe amd64 c-n-f Metadata [265 kB]\n",
      "Get:20 http://nova.clouds.archive.ubuntu.com/ubuntu focal/multiverse amd64 Packages [144 kB]\n",
      "Get:21 http://nova.clouds.archive.ubuntu.com/ubuntu focal/multiverse Translation-en [104 kB]\n",
      "Get:22 http://nova.clouds.archive.ubuntu.com/ubuntu focal/multiverse amd64 c-n-f Metadata [9136 B]\n",
      "Get:23 http://nova.clouds.archive.ubuntu.com/ubuntu focal-updates/main amd64 Packages [1302 kB]\n",
      "Get:24 http://nova.clouds.archive.ubuntu.com/ubuntu focal-updates/main Translation-en [270 kB]\n",
      "Get:25 http://nova.clouds.archive.ubuntu.com/ubuntu focal-updates/main amd64 c-n-f Metadata [14.4 kB]\n",
      "Get:26 http://nova.clouds.archive.ubuntu.com/ubuntu focal-updates/restricted amd64 Packages [524 kB]\n",
      "Get:27 http://nova.clouds.archive.ubuntu.com/ubuntu focal-updates/restricted Translation-en [75.0 kB]\n",
      "Get:28 http://nova.clouds.archive.ubuntu.com/ubuntu focal-updates/restricted amd64 c-n-f Metadata [504 B]\n",
      "Get:29 http://nova.clouds.archive.ubuntu.com/ubuntu focal-updates/universe amd64 Packages [867 kB]\n",
      "Get:30 http://nova.clouds.archive.ubuntu.com/ubuntu focal-updates/universe Translation-en [187 kB]\n",
      "Get:31 http://nova.clouds.archive.ubuntu.com/ubuntu focal-updates/universe amd64 c-n-f Metadata [19.4 kB]\n",
      "Get:32 http://nova.clouds.archive.ubuntu.com/ubuntu focal-updates/multiverse amd64 Packages [24.6 kB]\n",
      "Get:33 http://nova.clouds.archive.ubuntu.com/ubuntu focal-updates/multiverse Translation-en [6856 B]\n",
      "Get:34 http://nova.clouds.archive.ubuntu.com/ubuntu focal-updates/multiverse amd64 c-n-f Metadata [620 B]\n",
      "Get:35 http://nova.clouds.archive.ubuntu.com/ubuntu focal-backports/main amd64 Packages [2568 B]\n",
      "Get:36 http://nova.clouds.archive.ubuntu.com/ubuntu focal-backports/main Translation-en [1120 B]\n",
      "Get:37 http://nova.clouds.archive.ubuntu.com/ubuntu focal-backports/main amd64 c-n-f Metadata [400 B]\n",
      "Get:38 http://nova.clouds.archive.ubuntu.com/ubuntu focal-backports/restricted amd64 c-n-f Metadata [116 B]\n",
      "Get:39 http://nova.clouds.archive.ubuntu.com/ubuntu focal-backports/universe amd64 Packages [5800 B]\n",
      "Get:40 http://nova.clouds.archive.ubuntu.com/ubuntu focal-backports/universe Translation-en [2068 B]\n",
      "Get:41 http://nova.clouds.archive.ubuntu.com/ubuntu focal-backports/universe amd64 c-n-f Metadata [276 B]\n",
      "Get:42 http://nova.clouds.archive.ubuntu.com/ubuntu focal-backports/multiverse amd64 c-n-f Metadata [116 B]\n",
      "Fetched 20.4 MB in 3s (5942 kB/s)\n",
      "Reading package lists...\n",
      "Building dependency tree...\n",
      "Reading state information...\n",
      "58 packages can be upgraded. Run 'apt list --upgradable' to see them.\n",
      "\n",
      "\n",
      "WARNING: apt does not have a stable CLI interface. Use with caution in scripts.\n",
      "\n",
      "\n"
     ]
    }
   ],
   "source": [
    "stdin, stdout, stderr = master_node.exec_command('sudo apt update')\n",
    "print(stdout.read().decode(\"utf-8\"))\n",
    "print(stderr.read().decode(\"utf-8\"))"
   ]
  },
  {
   "cell_type": "code",
   "execution_count": 28,
   "metadata": {},
   "outputs": [
    {
     "name": "stdout",
     "output_type": "stream",
     "text": [
      "Reading package lists...\n",
      "Building dependency tree...\n",
      "Reading state information...\n",
      "The following additional packages will be installed:\n",
      "  bridge-utils containerd dns-root-data dnsmasq-base libidn11 pigz runc\n",
      "  ubuntu-fan\n",
      "Suggested packages:\n",
      "  ifupdown aufs-tools cgroupfs-mount | cgroup-lite debootstrap docker-doc\n",
      "  rinse zfs-fuse | zfsutils\n",
      "The following NEW packages will be installed:\n",
      "  bridge-utils containerd dns-root-data dnsmasq-base docker.io libidn11 pigz\n",
      "  runc ubuntu-fan\n",
      "0 upgraded, 9 newly installed, 0 to remove and 58 not upgraded.\n",
      "Need to get 74.3 MB of archives.\n",
      "After this operation, 360 MB of additional disk space will be used.\n",
      "Get:1 http://nova.clouds.archive.ubuntu.com/ubuntu focal/universe amd64 pigz amd64 2.4-1 [57.4 kB]\n",
      "Get:2 http://nova.clouds.archive.ubuntu.com/ubuntu focal/main amd64 bridge-utils amd64 1.6-2ubuntu1 [30.5 kB]\n",
      "Get:3 http://nova.clouds.archive.ubuntu.com/ubuntu focal-updates/main amd64 runc amd64 1.0.0~rc95-0ubuntu1~20.04.2 [4087 kB]\n",
      "Get:4 http://nova.clouds.archive.ubuntu.com/ubuntu focal-updates/main amd64 containerd amd64 1.5.2-0ubuntu1~20.04.3 [32.9 MB]\n",
      "Get:5 http://nova.clouds.archive.ubuntu.com/ubuntu focal/main amd64 dns-root-data all 2019052802 [5300 B]\n",
      "Get:6 http://nova.clouds.archive.ubuntu.com/ubuntu focal/main amd64 libidn11 amd64 1.33-2.2ubuntu2 [46.2 kB]\n",
      "Get:7 http://nova.clouds.archive.ubuntu.com/ubuntu focal-updates/main amd64 dnsmasq-base amd64 2.80-1.1ubuntu1.4 [315 kB]\n",
      "Get:8 http://nova.clouds.archive.ubuntu.com/ubuntu focal-updates/universe amd64 docker.io amd64 20.10.7-0ubuntu1~20.04.2 [36.9 MB]\n",
      "Get:9 http://nova.clouds.archive.ubuntu.com/ubuntu focal/main amd64 ubuntu-fan all 0.12.13 [34.5 kB]\n",
      "Fetched 74.3 MB in 1s (97.7 MB/s)\n",
      "Selecting previously unselected package pigz.\n",
      "(Reading database ... 63512 files and directories currently installed.)\n",
      "Preparing to unpack .../0-pigz_2.4-1_amd64.deb ...\n",
      "Unpacking pigz (2.4-1) ...\n",
      "Selecting previously unselected package bridge-utils.\n",
      "Preparing to unpack .../1-bridge-utils_1.6-2ubuntu1_amd64.deb ...\n",
      "Unpacking bridge-utils (1.6-2ubuntu1) ...\n",
      "Selecting previously unselected package runc.\n",
      "Preparing to unpack .../2-runc_1.0.0~rc95-0ubuntu1~20.04.2_amd64.deb ...\n",
      "Unpacking runc (1.0.0~rc95-0ubuntu1~20.04.2) ...\n",
      "Selecting previously unselected package containerd.\n",
      "Preparing to unpack .../3-containerd_1.5.2-0ubuntu1~20.04.3_amd64.deb ...\n",
      "Unpacking containerd (1.5.2-0ubuntu1~20.04.3) ...\n",
      "Selecting previously unselected package dns-root-data.\n",
      "Preparing to unpack .../4-dns-root-data_2019052802_all.deb ...\n",
      "Unpacking dns-root-data (2019052802) ...\n",
      "Selecting previously unselected package libidn11:amd64.\n",
      "Preparing to unpack .../5-libidn11_1.33-2.2ubuntu2_amd64.deb ...\n",
      "Unpacking libidn11:amd64 (1.33-2.2ubuntu2) ...\n",
      "Selecting previously unselected package dnsmasq-base.\n",
      "Preparing to unpack .../6-dnsmasq-base_2.80-1.1ubuntu1.4_amd64.deb ...\n",
      "Unpacking dnsmasq-base (2.80-1.1ubuntu1.4) ...\n",
      "Selecting previously unselected package docker.io.\n",
      "Preparing to unpack .../7-docker.io_20.10.7-0ubuntu1~20.04.2_amd64.deb ...\n",
      "Unpacking docker.io (20.10.7-0ubuntu1~20.04.2) ...\n",
      "Selecting previously unselected package ubuntu-fan.\n",
      "Preparing to unpack .../8-ubuntu-fan_0.12.13_all.deb ...\n",
      "Unpacking ubuntu-fan (0.12.13) ...\n",
      "Setting up runc (1.0.0~rc95-0ubuntu1~20.04.2) ...\n",
      "Setting up dns-root-data (2019052802) ...\n",
      "Setting up libidn11:amd64 (1.33-2.2ubuntu2) ...\n",
      "Setting up bridge-utils (1.6-2ubuntu1) ...\n",
      "debconf: unable to initialize frontend: Dialog\n",
      "debconf: (Dialog frontend will not work on a dumb terminal, an emacs shell buffer, or without a controlling terminal.)\n",
      "debconf: falling back to frontend: Readline\n",
      "Setting up pigz (2.4-1) ...\n",
      "Setting up containerd (1.5.2-0ubuntu1~20.04.3) ...\n",
      "Created symlink /etc/systemd/system/multi-user.target.wants/containerd.service → /lib/systemd/system/containerd.service.\n",
      "Setting up docker.io (20.10.7-0ubuntu1~20.04.2) ...\n",
      "debconf: unable to initialize frontend: Dialog\n",
      "debconf: (Dialog frontend will not work on a dumb terminal, an emacs shell buffer, or without a controlling terminal.)\n",
      "debconf: falling back to frontend: Readline\n",
      "Adding group `docker' (GID 119) ...\n",
      "Done.\n",
      "Created symlink /etc/systemd/system/multi-user.target.wants/docker.service → /lib/systemd/system/docker.service.\n",
      "Created symlink /etc/systemd/system/sockets.target.wants/docker.socket → /lib/systemd/system/docker.socket.\n",
      "Setting up dnsmasq-base (2.80-1.1ubuntu1.4) ...\n",
      "Setting up ubuntu-fan (0.12.13) ...\n",
      "Created symlink /etc/systemd/system/multi-user.target.wants/ubuntu-fan.service → /lib/systemd/system/ubuntu-fan.service.\n",
      "Processing triggers for systemd (245.4-4ubuntu3.11) ...\n",
      "Processing triggers for man-db (2.9.1-1) ...\n",
      "Processing triggers for dbus (1.12.16-2ubuntu2.1) ...\n",
      "Processing triggers for libc-bin (2.31-0ubuntu9.2) ...\n",
      "\n",
      "debconf: unable to initialize frontend: Dialog\n",
      "debconf: (Dialog frontend will not work on a dumb terminal, an emacs shell buffer, or without a controlling terminal.)\n",
      "debconf: falling back to frontend: Readline\n",
      "debconf: unable to initialize frontend: Readline\n",
      "debconf: (This frontend requires a controlling tty.)\n",
      "debconf: falling back to frontend: Teletype\n",
      "dpkg-preconfigure: unable to re-open stdin: \n",
      "\n"
     ]
    }
   ],
   "source": [
    "stdin, stdout, stderr = master_node.exec_command('sudo apt-get install -y docker.io')\n",
    "print(stdout.read().decode(\"utf-8\"))\n",
    "print(stderr.read().decode(\"utf-8\"))"
   ]
  },
  {
   "cell_type": "code",
   "execution_count": 29,
   "metadata": {},
   "outputs": [
    {
     "name": "stdout",
     "output_type": "stream",
     "text": [
      "Hit:1 http://nova.clouds.archive.ubuntu.com/ubuntu focal InRelease\n",
      "Hit:2 http://security.ubuntu.com/ubuntu focal-security InRelease\n",
      "Hit:3 http://nova.clouds.archive.ubuntu.com/ubuntu focal-updates InRelease\n",
      "Hit:4 http://nova.clouds.archive.ubuntu.com/ubuntu focal-backports InRelease\n",
      "Reading package lists...\n",
      "Reading package lists...\n",
      "Building dependency tree...\n",
      "Reading state information...\n",
      "The following additional packages will be installed:\n",
      "  libcurl4\n",
      "The following NEW packages will be installed:\n",
      "  apt-transport-https\n",
      "The following packages will be upgraded:\n",
      "  curl libcurl4\n",
      "2 upgraded, 1 newly installed, 0 to remove and 56 not upgraded.\n",
      "Need to get 400 kB of archives.\n",
      "After this operation, 164 kB of additional disk space will be used.\n",
      "Get:1 http://nova.clouds.archive.ubuntu.com/ubuntu focal-updates/universe amd64 apt-transport-https all 2.0.6 [4680 B]\n",
      "Get:2 http://nova.clouds.archive.ubuntu.com/ubuntu focal-updates/main amd64 curl amd64 7.68.0-1ubuntu2.7 [161 kB]\n",
      "Get:3 http://nova.clouds.archive.ubuntu.com/ubuntu focal-updates/main amd64 libcurl4 amd64 7.68.0-1ubuntu2.7 [234 kB]\n",
      "Fetched 400 kB in 0s (3578 kB/s)\n",
      "Selecting previously unselected package apt-transport-https.\n",
      "(Reading database ... 63866 files and directories currently installed.)\n",
      "Preparing to unpack .../apt-transport-https_2.0.6_all.deb ...\n",
      "Unpacking apt-transport-https (2.0.6) ...\n",
      "Preparing to unpack .../curl_7.68.0-1ubuntu2.7_amd64.deb ...\n",
      "Unpacking curl (7.68.0-1ubuntu2.7) over (7.68.0-1ubuntu2.6) ...\n",
      "Preparing to unpack .../libcurl4_7.68.0-1ubuntu2.7_amd64.deb ...\n",
      "Unpacking libcurl4:amd64 (7.68.0-1ubuntu2.7) over (7.68.0-1ubuntu2.6) ...\n",
      "Setting up apt-transport-https (2.0.6) ...\n",
      "Setting up libcurl4:amd64 (7.68.0-1ubuntu2.7) ...\n",
      "Setting up curl (7.68.0-1ubuntu2.7) ...\n",
      "Processing triggers for man-db (2.9.1-1) ...\n",
      "Processing triggers for libc-bin (2.31-0ubuntu9.2) ...\n",
      "\n",
      "debconf: unable to initialize frontend: Dialog\n",
      "debconf: (Dialog frontend will not work on a dumb terminal, an emacs shell buffer, or without a controlling terminal.)\n",
      "debconf: falling back to frontend: Readline\n",
      "debconf: unable to initialize frontend: Readline\n",
      "debconf: (This frontend requires a controlling tty.)\n",
      "debconf: falling back to frontend: Teletype\n",
      "dpkg-preconfigure: unable to re-open stdin: \n",
      "\n"
     ]
    }
   ],
   "source": [
    "stdin, stdout, stderr = master_node.exec_command('sudo apt-get update && sudo apt-get install -y apt-transport-https curl')\n",
    "print(stdout.read().decode(\"utf-8\"))\n",
    "print(stderr.read().decode(\"utf-8\"))"
   ]
  },
  {
   "cell_type": "code",
   "execution_count": 30,
   "metadata": {},
   "outputs": [
    {
     "name": "stdout",
     "output_type": "stream",
     "text": [
      "OK\n",
      "\n",
      "Warning: apt-key output should not be parsed (stdout is not a terminal)\n",
      "\n"
     ]
    }
   ],
   "source": [
    "stdin, stdout, stderr = master_node.exec_command('curl -s https://packages.cloud.google.com/apt/doc/apt-key.gpg | sudo apt-key add -')\n",
    "print(stdout.read().decode(\"utf-8\"))\n",
    "print(stderr.read().decode(\"utf-8\"))"
   ]
  },
  {
   "cell_type": "code",
   "execution_count": 31,
   "metadata": {},
   "outputs": [
    {
     "name": "stdout",
     "output_type": "stream",
     "text": [
      "deb https://apt.kubernetes.io/ kubernetes-xenial main\n",
      "\n",
      "\n"
     ]
    }
   ],
   "source": [
    "stdin, stdout, stderr = master_node.exec_command('cat <<EOF | sudo tee /etc/apt/sources.list.d/kubernetes.list\\ndeb https://apt.kubernetes.io/ kubernetes-xenial main\\nEOF\\n')\n",
    "print(stdout.read().decode(\"utf-8\"))\n",
    "print(stderr.read().decode(\"utf-8\"))"
   ]
  },
  {
   "cell_type": "code",
   "execution_count": 32,
   "metadata": {},
   "outputs": [
    {
     "name": "stdout",
     "output_type": "stream",
     "text": [
      "deb https://apt.kubernetes.io/ kubernetes-xenial main\n",
      "\n",
      "\n"
     ]
    }
   ],
   "source": [
    "stdin, stdout, stderr = master_node.exec_command('cat /etc/apt/sources.list.d/kubernetes.list')\n",
    "print(stdout.read().decode(\"utf-8\"))\n",
    "print(stderr.read().decode(\"utf-8\"))"
   ]
  },
  {
   "cell_type": "code",
   "execution_count": 33,
   "metadata": {},
   "outputs": [
    {
     "name": "stdout",
     "output_type": "stream",
     "text": [
      "Hit:1 http://nova.clouds.archive.ubuntu.com/ubuntu focal InRelease\n",
      "Hit:2 http://security.ubuntu.com/ubuntu focal-security InRelease\n",
      "Hit:3 http://nova.clouds.archive.ubuntu.com/ubuntu focal-updates InRelease\n",
      "Hit:4 http://nova.clouds.archive.ubuntu.com/ubuntu focal-backports InRelease\n",
      "Get:5 https://packages.cloud.google.com/apt kubernetes-xenial InRelease [9383 B]\n",
      "Get:6 https://packages.cloud.google.com/apt kubernetes-xenial/main amd64 Packages [50.9 kB]\n",
      "Fetched 60.3 kB in 1s (69.1 kB/s)\n",
      "Reading package lists...\n",
      "\n",
      "\n"
     ]
    }
   ],
   "source": [
    "stdin, stdout, stderr = master_node.exec_command('sudo apt-get update')\n",
    "print(stdout.read().decode(\"utf-8\"))\n",
    "print(stderr.read().decode(\"utf-8\"))"
   ]
  },
  {
   "cell_type": "code",
   "execution_count": 34,
   "metadata": {},
   "outputs": [
    {
     "name": "stdout",
     "output_type": "stream",
     "text": [
      "Reading package lists...\n",
      "Building dependency tree...\n",
      "Reading state information...\n",
      "The following additional packages will be installed:\n",
      "  cri-tools ebtables socat\n",
      "The following NEW packages will be installed:\n",
      "  cri-tools ebtables kubeadm kubectl kubelet kubernetes-cni socat\n",
      "0 upgraded, 7 newly installed, 0 to remove and 56 not upgraded.\n",
      "Need to get 59.5 MB of archives.\n",
      "After this operation, 354 MB of additional disk space will be used.\n",
      "Get:6 http://nova.clouds.archive.ubuntu.com/ubuntu focal/main amd64 ebtables amd64 2.0.11-3build1 [80.3 kB]\n",
      "Get:7 http://nova.clouds.archive.ubuntu.com/ubuntu focal/main amd64 socat amd64 1.7.3.3-2 [323 kB]\n",
      "Get:1 https://packages.cloud.google.com/apt kubernetes-xenial/main amd64 cri-tools amd64 1.19.0-00 [11.2 MB]\n",
      "Get:2 https://packages.cloud.google.com/apt kubernetes-xenial/main amd64 kubernetes-cni amd64 0.6.0-00 [5910 kB]\n",
      "Get:3 https://packages.cloud.google.com/apt kubernetes-xenial/main amd64 kubelet amd64 1.11.2-00 [23.2 MB]\n",
      "Get:4 https://packages.cloud.google.com/apt kubernetes-xenial/main amd64 kubectl amd64 1.11.2-00 [9394 kB]\n",
      "Get:5 https://packages.cloud.google.com/apt kubernetes-xenial/main amd64 kubeadm amd64 1.11.2-00 [9420 kB]\n",
      "Fetched 59.5 MB in 4s (13.3 MB/s)\n",
      "Selecting previously unselected package cri-tools.\n",
      "(Reading database ... 63870 files and directories currently installed.)\n",
      "Preparing to unpack .../0-cri-tools_1.19.0-00_amd64.deb ...\n",
      "Unpacking cri-tools (1.19.0-00) ...\n",
      "Selecting previously unselected package ebtables.\n",
      "Preparing to unpack .../1-ebtables_2.0.11-3build1_amd64.deb ...\n",
      "Unpacking ebtables (2.0.11-3build1) ...\n",
      "Selecting previously unselected package kubernetes-cni.\n",
      "Preparing to unpack .../2-kubernetes-cni_0.6.0-00_amd64.deb ...\n",
      "Unpacking kubernetes-cni (0.6.0-00) ...\n",
      "Selecting previously unselected package socat.\n",
      "Preparing to unpack .../3-socat_1.7.3.3-2_amd64.deb ...\n",
      "Unpacking socat (1.7.3.3-2) ...\n",
      "Selecting previously unselected package kubelet.\n",
      "Preparing to unpack .../4-kubelet_1.11.2-00_amd64.deb ...\n",
      "Unpacking kubelet (1.11.2-00) ...\n",
      "Selecting previously unselected package kubectl.\n",
      "Preparing to unpack .../5-kubectl_1.11.2-00_amd64.deb ...\n",
      "Unpacking kubectl (1.11.2-00) ...\n",
      "Selecting previously unselected package kubeadm.\n",
      "Preparing to unpack .../6-kubeadm_1.11.2-00_amd64.deb ...\n",
      "Unpacking kubeadm (1.11.2-00) ...\n",
      "Setting up kubectl (1.11.2-00) ...\n",
      "Setting up ebtables (2.0.11-3build1) ...\n",
      "Setting up socat (1.7.3.3-2) ...\n",
      "Setting up cri-tools (1.19.0-00) ...\n",
      "Setting up kubernetes-cni (0.6.0-00) ...\n",
      "Setting up kubelet (1.11.2-00) ...\n",
      "Created symlink /etc/systemd/system/multi-user.target.wants/kubelet.service → /lib/systemd/system/kubelet.service.\n",
      "Setting up kubeadm (1.11.2-00) ...\n",
      "Processing triggers for man-db (2.9.1-1) ...\n",
      "\n",
      "debconf: unable to initialize frontend: Dialog\n",
      "debconf: (Dialog frontend will not work on a dumb terminal, an emacs shell buffer, or without a controlling terminal.)\n",
      "debconf: falling back to frontend: Readline\n",
      "debconf: unable to initialize frontend: Readline\n",
      "debconf: (This frontend requires a controlling tty.)\n",
      "debconf: falling back to frontend: Teletype\n",
      "dpkg-preconfigure: unable to re-open stdin: \n",
      "\n"
     ]
    }
   ],
   "source": [
    "stdin, stdout, stderr = master_node.exec_command('sudo apt-get install -y kubernetes-cni=0.6.0-00 kubelet=1.11.2-00 kubeadm=1.11.2-00 kubectl=1.11.2-00')\n",
    "print(stdout.read().decode(\"utf-8\"))\n",
    "print(stderr.read().decode(\"utf-8\"))"
   ]
  },
  {
   "cell_type": "code",
   "execution_count": 35,
   "metadata": {},
   "outputs": [
    {
     "name": "stdout",
     "output_type": "stream",
     "text": [
      "kubelet set on hold.\n",
      "kubeadm set on hold.\n",
      "kubectl set on hold.\n",
      "\n",
      "\n"
     ]
    }
   ],
   "source": [
    "stdin, stdout, stderr = master_node.exec_command('sudo apt-mark hold kubelet kubeadm kubectl')\n",
    "print(stdout.read().decode(\"utf-8\"))\n",
    "print(stderr.read().decode(\"utf-8\"))"
   ]
  },
  {
   "cell_type": "code",
   "execution_count": 36,
   "metadata": {},
   "outputs": [
    {
     "name": "stdout",
     "output_type": "stream",
     "text": [
      "\n",
      "\n"
     ]
    }
   ],
   "source": [
    "stdin, stdout, stderr = master_node.exec_command('sudo swapoff -a')\n",
    "print(stdout.read().decode(\"utf-8\"))\n",
    "print(stderr.read().decode(\"utf-8\"))"
   ]
  },
  {
   "cell_type": "markdown",
   "metadata": {},
   "source": [
    "Skip the two cells below."
   ]
  },
  {
   "cell_type": "code",
   "execution_count": 37,
   "metadata": {},
   "outputs": [],
   "source": [
    "# stdin, stdout, stderr = master_node.exec_command('cat <<EOF | sudo tee /etc/docker/daemon.json\\n{\\n\"exec-opts\": [\"native.cgroupdriver=systemd\"]\\n}\\nEOF\\n')\n",
    "# print(stdout.read().decode(\"utf-8\"))\n",
    "# print(stderr.read().decode(\"utf-8\"))"
   ]
  },
  {
   "cell_type": "code",
   "execution_count": 38,
   "metadata": {},
   "outputs": [],
   "source": [
    "# stdin, stdout, stderr = master_node.exec_command('sudo systemctl enable docker && sudo systemctl daemon-reload && sudo systemctl restart docker')\n",
    "# print(stdout.read().decode(\"utf-8\"))\n",
    "# print(stderr.read().decode(\"utf-8\"))"
   ]
  },
  {
   "cell_type": "markdown",
   "metadata": {},
   "source": [
    "### The setup part is complete. Now, we issue the kubeadm init command below:"
   ]
  },
  {
   "cell_type": "code",
   "execution_count": 39,
   "metadata": {},
   "outputs": [
    {
     "name": "stdout",
     "output_type": "stream",
     "text": [
      "[init] using Kubernetes version: v1.11.10\n",
      "[preflight] running pre-flight checks\n",
      "[preflight] The system verification failed. Printing the output from the verification:\n",
      "\u001b[0;37mKERNEL_VERSION\u001b[0m: \u001b[0;32m5.4.0-84-generic\u001b[0m\n",
      "\u001b[0;37mCONFIG_NAMESPACES\u001b[0m: \u001b[0;32menabled\u001b[0m\n",
      "\u001b[0;37mCONFIG_NET_NS\u001b[0m: \u001b[0;32menabled\u001b[0m\n",
      "\u001b[0;37mCONFIG_PID_NS\u001b[0m: \u001b[0;32menabled\u001b[0m\n",
      "\u001b[0;37mCONFIG_IPC_NS\u001b[0m: \u001b[0;32menabled\u001b[0m\n",
      "\u001b[0;37mCONFIG_UTS_NS\u001b[0m: \u001b[0;32menabled\u001b[0m\n",
      "\u001b[0;37mCONFIG_CGROUPS\u001b[0m: \u001b[0;32menabled\u001b[0m\n",
      "\u001b[0;37mCONFIG_CGROUP_CPUACCT\u001b[0m: \u001b[0;32menabled\u001b[0m\n",
      "\u001b[0;37mCONFIG_CGROUP_DEVICE\u001b[0m: \u001b[0;32menabled\u001b[0m\n",
      "\u001b[0;37mCONFIG_CGROUP_FREEZER\u001b[0m: \u001b[0;32menabled\u001b[0m\n",
      "\u001b[0;37mCONFIG_CGROUP_SCHED\u001b[0m: \u001b[0;32menabled\u001b[0m\n",
      "\u001b[0;37mCONFIG_CPUSETS\u001b[0m: \u001b[0;32menabled\u001b[0m\n",
      "\u001b[0;37mCONFIG_MEMCG\u001b[0m: \u001b[0;32menabled\u001b[0m\n",
      "\u001b[0;37mCONFIG_INET\u001b[0m: \u001b[0;32menabled\u001b[0m\n",
      "\u001b[0;37mCONFIG_EXT4_FS\u001b[0m: \u001b[0;32menabled\u001b[0m\n",
      "\u001b[0;37mCONFIG_PROC_FS\u001b[0m: \u001b[0;32menabled\u001b[0m\n",
      "\u001b[0;37mCONFIG_NETFILTER_XT_TARGET_REDIRECT\u001b[0m: \u001b[0;32menabled (as module)\u001b[0m\n",
      "\u001b[0;37mCONFIG_NETFILTER_XT_MATCH_COMMENT\u001b[0m: \u001b[0;32menabled (as module)\u001b[0m\n",
      "\u001b[0;37mCONFIG_OVERLAY_FS\u001b[0m: \u001b[0;32menabled (as module)\u001b[0m\n",
      "\u001b[0;37mCONFIG_AUFS_FS\u001b[0m: \u001b[0;32menabled (as module)\u001b[0m\n",
      "\u001b[0;37mCONFIG_BLK_DEV_DM\u001b[0m: \u001b[0;32menabled\u001b[0m\n",
      "\u001b[0;37mDOCKER_VERSION\u001b[0m: \u001b[0;31m20.10.7\u001b[0m\n",
      "\u001b[0;37mOS\u001b[0m: \u001b[0;32mLinux\u001b[0m\n",
      "\u001b[0;37mCGROUPS_CPU\u001b[0m: \u001b[0;32menabled\u001b[0m\n",
      "\u001b[0;37mCGROUPS_CPUACCT\u001b[0m: \u001b[0;32menabled\u001b[0m\n",
      "\u001b[0;37mCGROUPS_CPUSET\u001b[0m: \u001b[0;32menabled\u001b[0m\n",
      "\u001b[0;37mCGROUPS_DEVICES\u001b[0m: \u001b[0;32menabled\u001b[0m\n",
      "\u001b[0;37mCGROUPS_FREEZER\u001b[0m: \u001b[0;32menabled\u001b[0m\n",
      "\u001b[0;37mCGROUPS_MEMORY\u001b[0m: \u001b[0;32menabled\u001b[0m\n",
      "[preflight/images] Pulling images required for setting up a Kubernetes cluster\n",
      "[preflight/images] This might take a minute or two, depending on the speed of your internet connection\n",
      "[preflight/images] You can also perform this action in beforehand using 'kubeadm config images pull'\n",
      "[kubelet] Writing kubelet environment file with flags to file \"/var/lib/kubelet/kubeadm-flags.env\"\n",
      "[kubelet] Writing kubelet configuration to file \"/var/lib/kubelet/config.yaml\"\n",
      "[preflight] Activating the kubelet service\n",
      "[certificates] Generated ca certificate and key.\n",
      "[certificates] Generated apiserver certificate and key.\n",
      "[certificates] apiserver serving cert is signed for DNS names [b759e74b-6b6a-4594-9673-af6af5ecc8cd-master-node kubernetes kubernetes.default kubernetes.default.svc kubernetes.default.svc.cluster.local] and IPs [10.96.0.1 10.20.4.122]\n",
      "[certificates] Generated apiserver-kubelet-client certificate and key.\n",
      "[certificates] Generated sa key and public key.\n",
      "[certificates] Generated front-proxy-ca certificate and key.\n",
      "[certificates] Generated front-proxy-client certificate and key.\n",
      "[certificates] Generated etcd/ca certificate and key.\n",
      "[certificates] Generated etcd/server certificate and key.\n",
      "[certificates] etcd/server serving cert is signed for DNS names [b759e74b-6b6a-4594-9673-af6af5ecc8cd-master-node localhost] and IPs [127.0.0.1 ::1]\n",
      "[certificates] Generated etcd/peer certificate and key.\n",
      "[certificates] etcd/peer serving cert is signed for DNS names [b759e74b-6b6a-4594-9673-af6af5ecc8cd-master-node localhost] and IPs [10.20.4.122 127.0.0.1 ::1]\n",
      "[certificates] Generated etcd/healthcheck-client certificate and key.\n",
      "[certificates] Generated apiserver-etcd-client certificate and key.\n",
      "[certificates] valid certificates and keys now exist in \"/etc/kubernetes/pki\"\n",
      "[kubeconfig] Wrote KubeConfig file to disk: \"/etc/kubernetes/admin.conf\"\n",
      "[kubeconfig] Wrote KubeConfig file to disk: \"/etc/kubernetes/kubelet.conf\"\n",
      "[kubeconfig] Wrote KubeConfig file to disk: \"/etc/kubernetes/controller-manager.conf\"\n",
      "[kubeconfig] Wrote KubeConfig file to disk: \"/etc/kubernetes/scheduler.conf\"\n",
      "[controlplane] wrote Static Pod manifest for component kube-apiserver to \"/etc/kubernetes/manifests/kube-apiserver.yaml\"\n",
      "[controlplane] wrote Static Pod manifest for component kube-controller-manager to \"/etc/kubernetes/manifests/kube-controller-manager.yaml\"\n",
      "[controlplane] wrote Static Pod manifest for component kube-scheduler to \"/etc/kubernetes/manifests/kube-scheduler.yaml\"\n",
      "[etcd] Wrote Static Pod manifest for a local etcd instance to \"/etc/kubernetes/manifests/etcd.yaml\"\n",
      "[init] waiting for the kubelet to boot up the control plane as Static Pods from directory \"/etc/kubernetes/manifests\" \n",
      "[init] this might take a minute or longer if the control plane images have to be pulled\n",
      "[apiclient] All control plane components are healthy after 38.501532 seconds\n",
      "[uploadconfig] storing the configuration used in ConfigMap \"kubeadm-config\" in the \"kube-system\" Namespace\n",
      "[kubelet] Creating a ConfigMap \"kubelet-config-1.11\" in namespace kube-system with the configuration for the kubelets in the cluster\n",
      "[markmaster] Marking the node b759e74b-6b6a-4594-9673-af6af5ecc8cd-master-node as master by adding the label \"node-role.kubernetes.io/master=''\"\n",
      "[markmaster] Marking the node b759e74b-6b6a-4594-9673-af6af5ecc8cd-master-node as master by adding the taints [node-role.kubernetes.io/master:NoSchedule]\n",
      "[patchnode] Uploading the CRI Socket information \"/var/run/dockershim.sock\" to the Node API object \"b759e74b-6b6a-4594-9673-af6af5ecc8cd-master-node\" as an annotation\n",
      "[bootstraptoken] using token: v0nrdc.1gvehv8yl1qlrpl9\n",
      "[bootstraptoken] configured RBAC rules to allow Node Bootstrap tokens to post CSRs in order for nodes to get long term certificate credentials\n",
      "[bootstraptoken] configured RBAC rules to allow the csrapprover controller automatically approve CSRs from a Node Bootstrap Token\n",
      "[bootstraptoken] configured RBAC rules to allow certificate rotation for all node client certificates in the cluster\n",
      "[bootstraptoken] creating the \"cluster-info\" ConfigMap in the \"kube-public\" namespace\n",
      "[addons] Applied essential addon: CoreDNS\n",
      "[addons] Applied essential addon: kube-proxy\n",
      "\n",
      "Your Kubernetes master has initialized successfully!\n",
      "\n",
      "To start using your cluster, you need to run the following as a regular user:\n",
      "\n",
      "  mkdir -p $HOME/.kube\n",
      "  sudo cp -i /etc/kubernetes/admin.conf $HOME/.kube/config\n",
      "  sudo chown $(id -u):$(id -g) $HOME/.kube/config\n",
      "\n",
      "You should now deploy a pod network to the cluster.\n",
      "Run \"kubectl apply -f [podnetwork].yaml\" with one of the options listed at:\n",
      "  https://kubernetes.io/docs/concepts/cluster-administration/addons/\n",
      "\n",
      "You can now join any number of machines by running the following on each node\n",
      "as root:\n",
      "\n",
      "  kubeadm join 10.20.4.122:6443 --token v0nrdc.1gvehv8yl1qlrpl9 --discovery-token-ca-cert-hash sha256:45f74d91f462dff12711fe05d3d91fb48fe86b7fa73fde5f49f3656f7873b58b\n",
      "\n",
      "\n",
      "I1103 03:29:57.436538    5533 kernel_validator.go:81] Validating kernel version\n",
      "I1103 03:29:57.436690    5533 kernel_validator.go:96] Validating kernel config\n",
      "\t[WARNING SystemVerification]: unsupported docker version: 20.10.7\n",
      "\n"
     ]
    }
   ],
   "source": [
    "stdin, stdout, stderr = master_node.exec_command('sudo kubeadm init --pod-network-cidr=192.168.0.0/16 --apiserver-advertise-address=0.0.0.0 --ignore-preflight-errors=SystemVerification')\n",
    "print(stdout.read().decode(\"utf-8\"))\n",
    "print(stderr.read().decode(\"utf-8\"))"
   ]
  },
  {
   "cell_type": "markdown",
   "metadata": {},
   "source": [
    "### As stated, the initialization was successful. Note that we need to save the join command somewhere, because we will need to use it later at the client."
   ]
  },
  {
   "cell_type": "code",
   "execution_count": 40,
   "metadata": {},
   "outputs": [
    {
     "name": "stdout",
     "output_type": "stream",
     "text": [
      "\n",
      "\n"
     ]
    }
   ],
   "source": [
    "stdin, stdout, stderr = master_node.exec_command('mkdir -p $HOME/.kube')\n",
    "print(stdout.read().decode(\"utf-8\"))\n",
    "print(stderr.read().decode(\"utf-8\"))"
   ]
  },
  {
   "cell_type": "code",
   "execution_count": 41,
   "metadata": {},
   "outputs": [
    {
     "name": "stdout",
     "output_type": "stream",
     "text": [
      "\n",
      "\n"
     ]
    }
   ],
   "source": [
    "stdin, stdout, stderr = master_node.exec_command('sudo cp -i /etc/kubernetes/admin.conf $HOME/.kube/config')\n",
    "print(stdout.read().decode(\"utf-8\"))\n",
    "print(stderr.read().decode(\"utf-8\"))"
   ]
  },
  {
   "cell_type": "code",
   "execution_count": 42,
   "metadata": {},
   "outputs": [
    {
     "name": "stdout",
     "output_type": "stream",
     "text": [
      "\n",
      "\n"
     ]
    }
   ],
   "source": [
    "stdin, stdout, stderr = master_node.exec_command('sudo chown $(id -u):$(id -g) $HOME/.kube/config')\n",
    "print(stdout.read().decode(\"utf-8\"))\n",
    "print(stderr.read().decode(\"utf-8\"))"
   ]
  },
  {
   "cell_type": "code",
   "execution_count": 44,
   "metadata": {},
   "outputs": [
    {
     "name": "stdout",
     "output_type": "stream",
     "text": [
      "configmap/calico-config created\n",
      "customresourcedefinition.apiextensions.k8s.io/felixconfigurations.crd.projectcalico.org created\n",
      "customresourcedefinition.apiextensions.k8s.io/ipamblocks.crd.projectcalico.org created\n",
      "customresourcedefinition.apiextensions.k8s.io/blockaffinities.crd.projectcalico.org created\n",
      "customresourcedefinition.apiextensions.k8s.io/ipamhandles.crd.projectcalico.org created\n",
      "customresourcedefinition.apiextensions.k8s.io/ipamconfigs.crd.projectcalico.org created\n",
      "customresourcedefinition.apiextensions.k8s.io/bgppeers.crd.projectcalico.org created\n",
      "customresourcedefinition.apiextensions.k8s.io/bgpconfigurations.crd.projectcalico.org created\n",
      "customresourcedefinition.apiextensions.k8s.io/ippools.crd.projectcalico.org created\n",
      "customresourcedefinition.apiextensions.k8s.io/hostendpoints.crd.projectcalico.org created\n",
      "customresourcedefinition.apiextensions.k8s.io/clusterinformations.crd.projectcalico.org created\n",
      "customresourcedefinition.apiextensions.k8s.io/globalnetworkpolicies.crd.projectcalico.org created\n",
      "customresourcedefinition.apiextensions.k8s.io/globalnetworksets.crd.projectcalico.org created\n",
      "customresourcedefinition.apiextensions.k8s.io/networkpolicies.crd.projectcalico.org created\n",
      "customresourcedefinition.apiextensions.k8s.io/networksets.crd.projectcalico.org created\n",
      "clusterrole.rbac.authorization.k8s.io/calico-kube-controllers created\n",
      "clusterrolebinding.rbac.authorization.k8s.io/calico-kube-controllers created\n",
      "clusterrole.rbac.authorization.k8s.io/calico-node created\n",
      "clusterrolebinding.rbac.authorization.k8s.io/calico-node created\n",
      "daemonset.apps/calico-node created\n",
      "serviceaccount/calico-node created\n",
      "deployment.apps/calico-kube-controllers created\n",
      "serviceaccount/calico-kube-controllers created\n",
      "\n",
      "\n"
     ]
    }
   ],
   "source": [
    "stdin, stdout, stderr = master_node.exec_command('kubectl apply -f https://docs.projectcalico.org/archive/v3.9/manifests/calico.yaml')\n",
    "print(stdout.read().decode(\"utf-8\"))\n",
    "print(stderr.read().decode(\"utf-8\"))"
   ]
  },
  {
   "cell_type": "code",
   "execution_count": 45,
   "metadata": {},
   "outputs": [
    {
     "name": "stdout",
     "output_type": "stream",
     "text": [
      "NAME                                               STATUS    ROLES     AGE       VERSION\n",
      "b759e74b-6b6a-4594-9673-af6af5ecc8cd-master-node   Ready     master    1m        v1.11.2\n",
      "\n",
      "\n"
     ]
    }
   ],
   "source": [
    "stdin, stdout, stderr = master_node.exec_command('kubectl get nodes')\n",
    "print(stdout.read().decode(\"utf-8\"))\n",
    "print(stderr.read().decode(\"utf-8\"))"
   ]
  },
  {
   "cell_type": "markdown",
   "metadata": {},
   "source": [
    "### It is now ready."
   ]
  },
  {
   "cell_type": "markdown",
   "metadata": {},
   "source": [
    "## Client side setup."
   ]
  },
  {
   "cell_type": "markdown",
   "metadata": {},
   "source": [
    "### We are now done with the server. Let's do the client. Remember, we are following the instructions in the link that we have previously mentioned."
   ]
  },
  {
   "cell_type": "code",
   "execution_count": 46,
   "metadata": {},
   "outputs": [
    {
     "name": "stdout",
     "output_type": "stream",
     "text": [
      "Get:1 http://security.ubuntu.com/ubuntu focal-security InRelease [114 kB]\n",
      "Hit:2 http://nova.clouds.archive.ubuntu.com/ubuntu focal InRelease\n",
      "Get:3 http://nova.clouds.archive.ubuntu.com/ubuntu focal-updates InRelease [114 kB]\n",
      "Get:4 http://security.ubuntu.com/ubuntu focal-security/main amd64 Packages [949 kB]\n",
      "Get:5 http://security.ubuntu.com/ubuntu focal-security/main Translation-en [178 kB]\n",
      "Get:6 http://security.ubuntu.com/ubuntu focal-security/main amd64 c-n-f Metadata [8844 B]\n",
      "Get:7 http://security.ubuntu.com/ubuntu focal-security/restricted amd64 Packages [483 kB]\n",
      "Get:8 http://security.ubuntu.com/ubuntu focal-security/restricted Translation-en [69.2 kB]\n",
      "Get:9 http://security.ubuntu.com/ubuntu focal-security/restricted amd64 c-n-f Metadata [508 B]\n",
      "Get:10 http://security.ubuntu.com/ubuntu focal-security/universe amd64 Packages [647 kB]\n",
      "Get:11 http://security.ubuntu.com/ubuntu focal-security/universe Translation-en [106 kB]\n",
      "Get:12 http://security.ubuntu.com/ubuntu focal-security/universe amd64 c-n-f Metadata [12.8 kB]\n",
      "Get:13 http://security.ubuntu.com/ubuntu focal-security/multiverse amd64 Packages [21.9 kB]\n",
      "Get:14 http://security.ubuntu.com/ubuntu focal-security/multiverse Translation-en [4948 B]\n",
      "Get:15 http://security.ubuntu.com/ubuntu focal-security/multiverse amd64 c-n-f Metadata [540 B]\n",
      "Get:16 http://nova.clouds.archive.ubuntu.com/ubuntu focal-backports InRelease [101 kB]\n",
      "Get:17 http://nova.clouds.archive.ubuntu.com/ubuntu focal/universe amd64 Packages [8628 kB]\n",
      "Get:18 http://nova.clouds.archive.ubuntu.com/ubuntu focal/universe Translation-en [5124 kB]\n",
      "Get:19 http://nova.clouds.archive.ubuntu.com/ubuntu focal/universe amd64 c-n-f Metadata [265 kB]\n",
      "Get:20 http://nova.clouds.archive.ubuntu.com/ubuntu focal/multiverse amd64 Packages [144 kB]\n",
      "Get:21 http://nova.clouds.archive.ubuntu.com/ubuntu focal/multiverse Translation-en [104 kB]\n",
      "Get:22 http://nova.clouds.archive.ubuntu.com/ubuntu focal/multiverse amd64 c-n-f Metadata [9136 B]\n",
      "Get:23 http://nova.clouds.archive.ubuntu.com/ubuntu focal-updates/main amd64 Packages [1302 kB]\n",
      "Get:24 http://nova.clouds.archive.ubuntu.com/ubuntu focal-updates/main Translation-en [270 kB]\n",
      "Get:25 http://nova.clouds.archive.ubuntu.com/ubuntu focal-updates/main amd64 c-n-f Metadata [14.4 kB]\n",
      "Get:26 http://nova.clouds.archive.ubuntu.com/ubuntu focal-updates/restricted amd64 Packages [524 kB]\n",
      "Get:27 http://nova.clouds.archive.ubuntu.com/ubuntu focal-updates/restricted Translation-en [75.0 kB]\n",
      "Get:28 http://nova.clouds.archive.ubuntu.com/ubuntu focal-updates/restricted amd64 c-n-f Metadata [504 B]\n",
      "Get:29 http://nova.clouds.archive.ubuntu.com/ubuntu focal-updates/universe amd64 Packages [867 kB]\n",
      "Get:30 http://nova.clouds.archive.ubuntu.com/ubuntu focal-updates/universe Translation-en [187 kB]\n",
      "Get:31 http://nova.clouds.archive.ubuntu.com/ubuntu focal-updates/universe amd64 c-n-f Metadata [19.4 kB]\n",
      "Get:32 http://nova.clouds.archive.ubuntu.com/ubuntu focal-updates/multiverse amd64 Packages [24.6 kB]\n",
      "Get:33 http://nova.clouds.archive.ubuntu.com/ubuntu focal-updates/multiverse Translation-en [6856 B]\n",
      "Get:34 http://nova.clouds.archive.ubuntu.com/ubuntu focal-updates/multiverse amd64 c-n-f Metadata [620 B]\n",
      "Get:35 http://nova.clouds.archive.ubuntu.com/ubuntu focal-backports/main amd64 Packages [2568 B]\n",
      "Get:36 http://nova.clouds.archive.ubuntu.com/ubuntu focal-backports/main Translation-en [1120 B]\n",
      "Get:37 http://nova.clouds.archive.ubuntu.com/ubuntu focal-backports/main amd64 c-n-f Metadata [400 B]\n",
      "Get:38 http://nova.clouds.archive.ubuntu.com/ubuntu focal-backports/restricted amd64 c-n-f Metadata [116 B]\n",
      "Get:39 http://nova.clouds.archive.ubuntu.com/ubuntu focal-backports/universe amd64 Packages [5800 B]\n",
      "Get:40 http://nova.clouds.archive.ubuntu.com/ubuntu focal-backports/universe Translation-en [2068 B]\n",
      "Get:41 http://nova.clouds.archive.ubuntu.com/ubuntu focal-backports/universe amd64 c-n-f Metadata [276 B]\n",
      "Get:42 http://nova.clouds.archive.ubuntu.com/ubuntu focal-backports/multiverse amd64 c-n-f Metadata [116 B]\n",
      "Fetched 20.4 MB in 4s (5270 kB/s)\n",
      "Reading package lists...\n",
      "\n",
      "\n"
     ]
    }
   ],
   "source": [
    "stdin, stdout, stderr = client_node.exec_command('sudo apt-get update')\n",
    "print(stdout.read().decode(\"utf-8\"))\n",
    "print(stderr.read().decode(\"utf-8\"))"
   ]
  },
  {
   "cell_type": "code",
   "execution_count": 47,
   "metadata": {},
   "outputs": [
    {
     "name": "stdout",
     "output_type": "stream",
     "text": [
      "Reading package lists...\n",
      "Building dependency tree...\n",
      "Reading state information...\n",
      "The following additional packages will be installed:\n",
      "  bridge-utils containerd dns-root-data dnsmasq-base libidn11 pigz runc\n",
      "  ubuntu-fan\n",
      "Suggested packages:\n",
      "  ifupdown aufs-tools cgroupfs-mount | cgroup-lite debootstrap docker-doc\n",
      "  rinse zfs-fuse | zfsutils\n",
      "The following NEW packages will be installed:\n",
      "  bridge-utils containerd dns-root-data dnsmasq-base docker.io libidn11 pigz\n",
      "  runc ubuntu-fan\n",
      "0 upgraded, 9 newly installed, 0 to remove and 58 not upgraded.\n",
      "Need to get 74.3 MB of archives.\n",
      "After this operation, 360 MB of additional disk space will be used.\n",
      "Get:1 http://nova.clouds.archive.ubuntu.com/ubuntu focal/universe amd64 pigz amd64 2.4-1 [57.4 kB]\n",
      "Get:2 http://nova.clouds.archive.ubuntu.com/ubuntu focal/main amd64 bridge-utils amd64 1.6-2ubuntu1 [30.5 kB]\n",
      "Get:3 http://nova.clouds.archive.ubuntu.com/ubuntu focal-updates/main amd64 runc amd64 1.0.0~rc95-0ubuntu1~20.04.2 [4087 kB]\n",
      "Get:4 http://nova.clouds.archive.ubuntu.com/ubuntu focal-updates/main amd64 containerd amd64 1.5.2-0ubuntu1~20.04.3 [32.9 MB]\n",
      "Get:5 http://nova.clouds.archive.ubuntu.com/ubuntu focal/main amd64 dns-root-data all 2019052802 [5300 B]\n",
      "Get:6 http://nova.clouds.archive.ubuntu.com/ubuntu focal/main amd64 libidn11 amd64 1.33-2.2ubuntu2 [46.2 kB]\n",
      "Get:7 http://nova.clouds.archive.ubuntu.com/ubuntu focal-updates/main amd64 dnsmasq-base amd64 2.80-1.1ubuntu1.4 [315 kB]\n",
      "Get:8 http://nova.clouds.archive.ubuntu.com/ubuntu focal-updates/universe amd64 docker.io amd64 20.10.7-0ubuntu1~20.04.2 [36.9 MB]\n",
      "Get:9 http://nova.clouds.archive.ubuntu.com/ubuntu focal/main amd64 ubuntu-fan all 0.12.13 [34.5 kB]\n",
      "Fetched 74.3 MB in 1s (97.6 MB/s)\n",
      "Selecting previously unselected package pigz.\n",
      "(Reading database ... 63512 files and directories currently installed.)\n",
      "Preparing to unpack .../0-pigz_2.4-1_amd64.deb ...\n",
      "Unpacking pigz (2.4-1) ...\n",
      "Selecting previously unselected package bridge-utils.\n",
      "Preparing to unpack .../1-bridge-utils_1.6-2ubuntu1_amd64.deb ...\n",
      "Unpacking bridge-utils (1.6-2ubuntu1) ...\n",
      "Selecting previously unselected package runc.\n",
      "Preparing to unpack .../2-runc_1.0.0~rc95-0ubuntu1~20.04.2_amd64.deb ...\n",
      "Unpacking runc (1.0.0~rc95-0ubuntu1~20.04.2) ...\n",
      "Selecting previously unselected package containerd.\n",
      "Preparing to unpack .../3-containerd_1.5.2-0ubuntu1~20.04.3_amd64.deb ...\n",
      "Unpacking containerd (1.5.2-0ubuntu1~20.04.3) ...\n",
      "Selecting previously unselected package dns-root-data.\n",
      "Preparing to unpack .../4-dns-root-data_2019052802_all.deb ...\n",
      "Unpacking dns-root-data (2019052802) ...\n",
      "Selecting previously unselected package libidn11:amd64.\n",
      "Preparing to unpack .../5-libidn11_1.33-2.2ubuntu2_amd64.deb ...\n",
      "Unpacking libidn11:amd64 (1.33-2.2ubuntu2) ...\n",
      "Selecting previously unselected package dnsmasq-base.\n",
      "Preparing to unpack .../6-dnsmasq-base_2.80-1.1ubuntu1.4_amd64.deb ...\n",
      "Unpacking dnsmasq-base (2.80-1.1ubuntu1.4) ...\n",
      "Selecting previously unselected package docker.io.\n",
      "Preparing to unpack .../7-docker.io_20.10.7-0ubuntu1~20.04.2_amd64.deb ...\n",
      "Unpacking docker.io (20.10.7-0ubuntu1~20.04.2) ...\n",
      "Selecting previously unselected package ubuntu-fan.\n",
      "Preparing to unpack .../8-ubuntu-fan_0.12.13_all.deb ...\n",
      "Unpacking ubuntu-fan (0.12.13) ...\n",
      "Setting up runc (1.0.0~rc95-0ubuntu1~20.04.2) ...\n",
      "Setting up dns-root-data (2019052802) ...\n",
      "Setting up libidn11:amd64 (1.33-2.2ubuntu2) ...\n",
      "Setting up bridge-utils (1.6-2ubuntu1) ...\n",
      "debconf: unable to initialize frontend: Dialog\n",
      "debconf: (Dialog frontend will not work on a dumb terminal, an emacs shell buffer, or without a controlling terminal.)\n",
      "debconf: falling back to frontend: Readline\n",
      "Setting up pigz (2.4-1) ...\n",
      "Setting up containerd (1.5.2-0ubuntu1~20.04.3) ...\n",
      "Created symlink /etc/systemd/system/multi-user.target.wants/containerd.service → /lib/systemd/system/containerd.service.\n",
      "Setting up docker.io (20.10.7-0ubuntu1~20.04.2) ...\n",
      "debconf: unable to initialize frontend: Dialog\n",
      "debconf: (Dialog frontend will not work on a dumb terminal, an emacs shell buffer, or without a controlling terminal.)\n",
      "debconf: falling back to frontend: Readline\n",
      "Adding group `docker' (GID 119) ...\n",
      "Done.\n",
      "Created symlink /etc/systemd/system/multi-user.target.wants/docker.service → /lib/systemd/system/docker.service.\n",
      "Created symlink /etc/systemd/system/sockets.target.wants/docker.socket → /lib/systemd/system/docker.socket.\n",
      "Setting up dnsmasq-base (2.80-1.1ubuntu1.4) ...\n",
      "Setting up ubuntu-fan (0.12.13) ...\n",
      "Created symlink /etc/systemd/system/multi-user.target.wants/ubuntu-fan.service → /lib/systemd/system/ubuntu-fan.service.\n",
      "Processing triggers for systemd (245.4-4ubuntu3.11) ...\n",
      "Processing triggers for man-db (2.9.1-1) ...\n",
      "Processing triggers for dbus (1.12.16-2ubuntu2.1) ...\n",
      "Processing triggers for libc-bin (2.31-0ubuntu9.2) ...\n",
      "\n",
      "debconf: unable to initialize frontend: Dialog\n",
      "debconf: (Dialog frontend will not work on a dumb terminal, an emacs shell buffer, or without a controlling terminal.)\n",
      "debconf: falling back to frontend: Readline\n",
      "debconf: unable to initialize frontend: Readline\n",
      "debconf: (This frontend requires a controlling tty.)\n",
      "debconf: falling back to frontend: Teletype\n",
      "dpkg-preconfigure: unable to re-open stdin: \n",
      "\n"
     ]
    }
   ],
   "source": [
    "stdin, stdout, stderr = client_node.exec_command('sudo apt-get install -y docker.io')\n",
    "print(stdout.read().decode(\"utf-8\"))\n",
    "print(stderr.read().decode(\"utf-8\"))"
   ]
  },
  {
   "cell_type": "code",
   "execution_count": 48,
   "metadata": {},
   "outputs": [
    {
     "name": "stdout",
     "output_type": "stream",
     "text": [
      "Hit:1 http://nova.clouds.archive.ubuntu.com/ubuntu focal InRelease\n",
      "Hit:2 http://security.ubuntu.com/ubuntu focal-security InRelease\n",
      "Hit:3 http://nova.clouds.archive.ubuntu.com/ubuntu focal-updates InRelease\n",
      "Hit:4 http://nova.clouds.archive.ubuntu.com/ubuntu focal-backports InRelease\n",
      "Reading package lists...\n",
      "Reading package lists...\n",
      "Building dependency tree...\n",
      "Reading state information...\n",
      "The following additional packages will be installed:\n",
      "  libcurl4\n",
      "The following NEW packages will be installed:\n",
      "  apt-transport-https\n",
      "The following packages will be upgraded:\n",
      "  curl libcurl4\n",
      "2 upgraded, 1 newly installed, 0 to remove and 56 not upgraded.\n",
      "Need to get 400 kB of archives.\n",
      "After this operation, 164 kB of additional disk space will be used.\n",
      "Get:1 http://nova.clouds.archive.ubuntu.com/ubuntu focal-updates/universe amd64 apt-transport-https all 2.0.6 [4680 B]\n",
      "Get:2 http://nova.clouds.archive.ubuntu.com/ubuntu focal-updates/main amd64 curl amd64 7.68.0-1ubuntu2.7 [161 kB]\n",
      "Get:3 http://nova.clouds.archive.ubuntu.com/ubuntu focal-updates/main amd64 libcurl4 amd64 7.68.0-1ubuntu2.7 [234 kB]\n",
      "Fetched 400 kB in 0s (3401 kB/s)\n",
      "Selecting previously unselected package apt-transport-https.\n",
      "(Reading database ... 63866 files and directories currently installed.)\n",
      "Preparing to unpack .../apt-transport-https_2.0.6_all.deb ...\n",
      "Unpacking apt-transport-https (2.0.6) ...\n",
      "Preparing to unpack .../curl_7.68.0-1ubuntu2.7_amd64.deb ...\n",
      "Unpacking curl (7.68.0-1ubuntu2.7) over (7.68.0-1ubuntu2.6) ...\n",
      "Preparing to unpack .../libcurl4_7.68.0-1ubuntu2.7_amd64.deb ...\n",
      "Unpacking libcurl4:amd64 (7.68.0-1ubuntu2.7) over (7.68.0-1ubuntu2.6) ...\n",
      "Setting up apt-transport-https (2.0.6) ...\n",
      "Setting up libcurl4:amd64 (7.68.0-1ubuntu2.7) ...\n",
      "Setting up curl (7.68.0-1ubuntu2.7) ...\n",
      "Processing triggers for man-db (2.9.1-1) ...\n",
      "Processing triggers for libc-bin (2.31-0ubuntu9.2) ...\n",
      "\n",
      "debconf: unable to initialize frontend: Dialog\n",
      "debconf: (Dialog frontend will not work on a dumb terminal, an emacs shell buffer, or without a controlling terminal.)\n",
      "debconf: falling back to frontend: Readline\n",
      "debconf: unable to initialize frontend: Readline\n",
      "debconf: (This frontend requires a controlling tty.)\n",
      "debconf: falling back to frontend: Teletype\n",
      "dpkg-preconfigure: unable to re-open stdin: \n",
      "\n"
     ]
    }
   ],
   "source": [
    "stdin, stdout, stderr = client_node.exec_command('sudo apt-get update && sudo apt-get install -y apt-transport-https curl')\n",
    "print(stdout.read().decode(\"utf-8\"))\n",
    "print(stderr.read().decode(\"utf-8\"))"
   ]
  },
  {
   "cell_type": "code",
   "execution_count": 49,
   "metadata": {},
   "outputs": [
    {
     "name": "stdout",
     "output_type": "stream",
     "text": [
      "OK\n",
      "\n",
      "Warning: apt-key output should not be parsed (stdout is not a terminal)\n",
      "\n"
     ]
    }
   ],
   "source": [
    "stdin, stdout, stderr = client_node.exec_command('curl -s https://packages.cloud.google.com/apt/doc/apt-key.gpg | sudo apt-key add -')\n",
    "print(stdout.read().decode(\"utf-8\"))\n",
    "print(stderr.read().decode(\"utf-8\"))"
   ]
  },
  {
   "cell_type": "code",
   "execution_count": 50,
   "metadata": {},
   "outputs": [
    {
     "name": "stdout",
     "output_type": "stream",
     "text": [
      "deb https://apt.kubernetes.io/ kubernetes-xenial main\n",
      "\n",
      "\n"
     ]
    }
   ],
   "source": [
    "stdin, stdout, stderr = client_node.exec_command('cat <<EOF | sudo tee /etc/apt/sources.list.d/kubernetes.list\\ndeb https://apt.kubernetes.io/ kubernetes-xenial main\\nEOF\\n')\n",
    "print(stdout.read().decode(\"utf-8\"))\n",
    "print(stderr.read().decode(\"utf-8\"))"
   ]
  },
  {
   "cell_type": "code",
   "execution_count": 51,
   "metadata": {},
   "outputs": [
    {
     "name": "stdout",
     "output_type": "stream",
     "text": [
      "deb https://apt.kubernetes.io/ kubernetes-xenial main\n",
      "\n",
      "\n"
     ]
    }
   ],
   "source": [
    "stdin, stdout, stderr = client_node.exec_command('cat /etc/apt/sources.list.d/kubernetes.list')\n",
    "print(stdout.read().decode(\"utf-8\"))\n",
    "print(stderr.read().decode(\"utf-8\"))"
   ]
  },
  {
   "cell_type": "code",
   "execution_count": 52,
   "metadata": {},
   "outputs": [
    {
     "name": "stdout",
     "output_type": "stream",
     "text": [
      "Hit:1 http://nova.clouds.archive.ubuntu.com/ubuntu focal InRelease\n",
      "Hit:2 http://security.ubuntu.com/ubuntu focal-security InRelease\n",
      "Hit:3 http://nova.clouds.archive.ubuntu.com/ubuntu focal-updates InRelease\n",
      "Hit:4 http://nova.clouds.archive.ubuntu.com/ubuntu focal-backports InRelease\n",
      "Get:5 https://packages.cloud.google.com/apt kubernetes-xenial InRelease [9383 B]\n",
      "Get:6 https://packages.cloud.google.com/apt kubernetes-xenial/main amd64 Packages [50.9 kB]\n",
      "Fetched 60.3 kB in 1s (77.0 kB/s)\n",
      "Reading package lists...\n",
      "\n",
      "\n"
     ]
    }
   ],
   "source": [
    "stdin, stdout, stderr = client_node.exec_command('sudo apt-get update')\n",
    "print(stdout.read().decode(\"utf-8\"))\n",
    "print(stderr.read().decode(\"utf-8\"))"
   ]
  },
  {
   "cell_type": "code",
   "execution_count": 53,
   "metadata": {},
   "outputs": [
    {
     "name": "stdout",
     "output_type": "stream",
     "text": [
      "Reading package lists...\n",
      "Building dependency tree...\n",
      "Reading state information...\n",
      "The following additional packages will be installed:\n",
      "  cri-tools ebtables socat\n",
      "The following NEW packages will be installed:\n",
      "  cri-tools ebtables kubeadm kubectl kubelet kubernetes-cni socat\n",
      "0 upgraded, 7 newly installed, 0 to remove and 56 not upgraded.\n",
      "Need to get 59.5 MB of archives.\n",
      "After this operation, 354 MB of additional disk space will be used.\n",
      "Get:1 https://packages.cloud.google.com/apt kubernetes-xenial/main amd64 cri-tools amd64 1.19.0-00 [11.2 MB]\n",
      "Get:6 http://nova.clouds.archive.ubuntu.com/ubuntu focal/main amd64 ebtables amd64 2.0.11-3build1 [80.3 kB]\n",
      "Get:7 http://nova.clouds.archive.ubuntu.com/ubuntu focal/main amd64 socat amd64 1.7.3.3-2 [323 kB]\n",
      "Get:2 https://packages.cloud.google.com/apt kubernetes-xenial/main amd64 kubernetes-cni amd64 0.6.0-00 [5910 kB]\n",
      "Get:3 https://packages.cloud.google.com/apt kubernetes-xenial/main amd64 kubelet amd64 1.11.2-00 [23.2 MB]\n",
      "Get:4 https://packages.cloud.google.com/apt kubernetes-xenial/main amd64 kubectl amd64 1.11.2-00 [9394 kB]\n",
      "Get:5 https://packages.cloud.google.com/apt kubernetes-xenial/main amd64 kubeadm amd64 1.11.2-00 [9420 kB]\n",
      "Fetched 59.5 MB in 2s (29.2 MB/s)\n",
      "Selecting previously unselected package cri-tools.\n",
      "(Reading database ... 63870 files and directories currently installed.)\n",
      "Preparing to unpack .../0-cri-tools_1.19.0-00_amd64.deb ...\n",
      "Unpacking cri-tools (1.19.0-00) ...\n",
      "Selecting previously unselected package ebtables.\n",
      "Preparing to unpack .../1-ebtables_2.0.11-3build1_amd64.deb ...\n",
      "Unpacking ebtables (2.0.11-3build1) ...\n",
      "Selecting previously unselected package kubernetes-cni.\n",
      "Preparing to unpack .../2-kubernetes-cni_0.6.0-00_amd64.deb ...\n",
      "Unpacking kubernetes-cni (0.6.0-00) ...\n",
      "Selecting previously unselected package socat.\n",
      "Preparing to unpack .../3-socat_1.7.3.3-2_amd64.deb ...\n",
      "Unpacking socat (1.7.3.3-2) ...\n",
      "Selecting previously unselected package kubelet.\n",
      "Preparing to unpack .../4-kubelet_1.11.2-00_amd64.deb ...\n",
      "Unpacking kubelet (1.11.2-00) ...\n",
      "Selecting previously unselected package kubectl.\n",
      "Preparing to unpack .../5-kubectl_1.11.2-00_amd64.deb ...\n",
      "Unpacking kubectl (1.11.2-00) ...\n",
      "Selecting previously unselected package kubeadm.\n",
      "Preparing to unpack .../6-kubeadm_1.11.2-00_amd64.deb ...\n",
      "Unpacking kubeadm (1.11.2-00) ...\n",
      "Setting up kubectl (1.11.2-00) ...\n",
      "Setting up ebtables (2.0.11-3build1) ...\n",
      "Setting up socat (1.7.3.3-2) ...\n",
      "Setting up cri-tools (1.19.0-00) ...\n",
      "Setting up kubernetes-cni (0.6.0-00) ...\n",
      "Setting up kubelet (1.11.2-00) ...\n",
      "Created symlink /etc/systemd/system/multi-user.target.wants/kubelet.service → /lib/systemd/system/kubelet.service.\n",
      "Setting up kubeadm (1.11.2-00) ...\n",
      "Processing triggers for man-db (2.9.1-1) ...\n",
      "\n",
      "debconf: unable to initialize frontend: Dialog\n",
      "debconf: (Dialog frontend will not work on a dumb terminal, an emacs shell buffer, or without a controlling terminal.)\n",
      "debconf: falling back to frontend: Readline\n",
      "debconf: unable to initialize frontend: Readline\n",
      "debconf: (This frontend requires a controlling tty.)\n",
      "debconf: falling back to frontend: Teletype\n",
      "dpkg-preconfigure: unable to re-open stdin: \n",
      "\n"
     ]
    }
   ],
   "source": [
    "stdin, stdout, stderr = client_node.exec_command('sudo apt-get install -y kubernetes-cni=0.6.0-00 kubelet=1.11.2-00 kubeadm=1.11.2-00 kubectl=1.11.2-00')\n",
    "print(stdout.read().decode(\"utf-8\"))\n",
    "print(stderr.read().decode(\"utf-8\"))"
   ]
  },
  {
   "cell_type": "code",
   "execution_count": 54,
   "metadata": {},
   "outputs": [
    {
     "name": "stdout",
     "output_type": "stream",
     "text": [
      "kubelet set on hold.\n",
      "kubeadm set on hold.\n",
      "kubectl set on hold.\n",
      "\n",
      "\n"
     ]
    }
   ],
   "source": [
    "stdin, stdout, stderr = client_node.exec_command('sudo apt-mark hold kubelet kubeadm kubectl')\n",
    "print(stdout.read().decode(\"utf-8\"))\n",
    "print(stderr.read().decode(\"utf-8\"))"
   ]
  },
  {
   "cell_type": "code",
   "execution_count": 55,
   "metadata": {},
   "outputs": [
    {
     "name": "stdout",
     "output_type": "stream",
     "text": [
      "\n",
      "\n"
     ]
    }
   ],
   "source": [
    "stdin, stdout, stderr = client_node.exec_command('sudo swapoff -a')\n",
    "print(stdout.read().decode(\"utf-8\"))\n",
    "print(stderr.read().decode(\"utf-8\"))"
   ]
  },
  {
   "cell_type": "code",
   "execution_count": 56,
   "metadata": {},
   "outputs": [],
   "source": [
    "# stdin, stdout, stderr = client_node.exec_command('cat <<EOF | sudo tee /etc/docker/daemon.json\\n{\\n\"exec-opts\": [\"native.cgroupdriver=systemd\"]\\n}\\nEOF\\n')\n",
    "# print(stdout.read().decode(\"utf-8\"))\n",
    "# print(stderr.read().decode(\"utf-8\"))"
   ]
  },
  {
   "cell_type": "code",
   "execution_count": 57,
   "metadata": {},
   "outputs": [],
   "source": [
    "# stdin, stdout, stderr = client_node.exec_command('sudo systemctl enable docker && sudo systemctl daemon-reload && sudo systemctl restart docker')\n",
    "# print(stdout.read().decode(\"utf-8\"))\n",
    "# print(stderr.read().decode(\"utf-8\"))"
   ]
  },
  {
   "cell_type": "markdown",
   "metadata": {},
   "source": [
    "### The setup part is complete. Now we need to do the join command. We do it like this:"
   ]
  },
  {
   "cell_type": "markdown",
   "metadata": {},
   "source": [
    "As a note. When we do \"kubeadm init\" in the server, it prints the join command for us. What we do is that we copy it and paste it in the client. And don't forget to add sudo."
   ]
  },
  {
   "cell_type": "code",
   "execution_count": 59,
   "metadata": {},
   "outputs": [
    {
     "name": "stdout",
     "output_type": "stream",
     "text": [
      "[preflight] running pre-flight checks\n",
      "[preflight] The system verification failed. Printing the output from the verification:\n",
      "\u001b[0;37mKERNEL_VERSION\u001b[0m: \u001b[0;32m5.4.0-84-generic\u001b[0m\n",
      "\u001b[0;37mCONFIG_NAMESPACES\u001b[0m: \u001b[0;32menabled\u001b[0m\n",
      "\u001b[0;37mCONFIG_NET_NS\u001b[0m: \u001b[0;32menabled\u001b[0m\n",
      "\u001b[0;37mCONFIG_PID_NS\u001b[0m: \u001b[0;32menabled\u001b[0m\n",
      "\u001b[0;37mCONFIG_IPC_NS\u001b[0m: \u001b[0;32menabled\u001b[0m\n",
      "\u001b[0;37mCONFIG_UTS_NS\u001b[0m: \u001b[0;32menabled\u001b[0m\n",
      "\u001b[0;37mCONFIG_CGROUPS\u001b[0m: \u001b[0;32menabled\u001b[0m\n",
      "\u001b[0;37mCONFIG_CGROUP_CPUACCT\u001b[0m: \u001b[0;32menabled\u001b[0m\n",
      "\u001b[0;37mCONFIG_CGROUP_DEVICE\u001b[0m: \u001b[0;32menabled\u001b[0m\n",
      "\u001b[0;37mCONFIG_CGROUP_FREEZER\u001b[0m: \u001b[0;32menabled\u001b[0m\n",
      "\u001b[0;37mCONFIG_CGROUP_SCHED\u001b[0m: \u001b[0;32menabled\u001b[0m\n",
      "\u001b[0;37mCONFIG_CPUSETS\u001b[0m: \u001b[0;32menabled\u001b[0m\n",
      "\u001b[0;37mCONFIG_MEMCG\u001b[0m: \u001b[0;32menabled\u001b[0m\n",
      "\u001b[0;37mCONFIG_INET\u001b[0m: \u001b[0;32menabled\u001b[0m\n",
      "\u001b[0;37mCONFIG_EXT4_FS\u001b[0m: \u001b[0;32menabled\u001b[0m\n",
      "\u001b[0;37mCONFIG_PROC_FS\u001b[0m: \u001b[0;32menabled\u001b[0m\n",
      "\u001b[0;37mCONFIG_NETFILTER_XT_TARGET_REDIRECT\u001b[0m: \u001b[0;32menabled (as module)\u001b[0m\n",
      "\u001b[0;37mCONFIG_NETFILTER_XT_MATCH_COMMENT\u001b[0m: \u001b[0;32menabled (as module)\u001b[0m\n",
      "\u001b[0;37mCONFIG_OVERLAY_FS\u001b[0m: \u001b[0;32menabled (as module)\u001b[0m\n",
      "\u001b[0;37mCONFIG_AUFS_FS\u001b[0m: \u001b[0;32menabled (as module)\u001b[0m\n",
      "\u001b[0;37mCONFIG_BLK_DEV_DM\u001b[0m: \u001b[0;32menabled\u001b[0m\n",
      "\u001b[0;37mDOCKER_VERSION\u001b[0m: \u001b[0;31m20.10.7\u001b[0m\n",
      "\u001b[0;37mOS\u001b[0m: \u001b[0;32mLinux\u001b[0m\n",
      "\u001b[0;37mCGROUPS_CPU\u001b[0m: \u001b[0;32menabled\u001b[0m\n",
      "\u001b[0;37mCGROUPS_CPUACCT\u001b[0m: \u001b[0;32menabled\u001b[0m\n",
      "\u001b[0;37mCGROUPS_CPUSET\u001b[0m: \u001b[0;32menabled\u001b[0m\n",
      "\u001b[0;37mCGROUPS_DEVICES\u001b[0m: \u001b[0;32menabled\u001b[0m\n",
      "\u001b[0;37mCGROUPS_FREEZER\u001b[0m: \u001b[0;32menabled\u001b[0m\n",
      "\u001b[0;37mCGROUPS_MEMORY\u001b[0m: \u001b[0;32menabled\u001b[0m\n",
      "[discovery] Trying to connect to API Server \"10.20.4.122:6443\"\n",
      "[discovery] Created cluster-info discovery client, requesting info from \"https://10.20.4.122:6443\"\n",
      "[discovery] Requesting info from \"https://10.20.4.122:6443\" again to validate TLS against the pinned public key\n",
      "[discovery] Cluster info signature and contents are valid and TLS certificate validates against pinned roots, will use API Server \"10.20.4.122:6443\"\n",
      "[discovery] Successfully established connection with API Server \"10.20.4.122:6443\"\n",
      "[kubelet] Downloading configuration for the kubelet from the \"kubelet-config-1.11\" ConfigMap in the kube-system namespace\n",
      "[kubelet] Writing kubelet configuration to file \"/var/lib/kubelet/config.yaml\"\n",
      "[kubelet] Writing kubelet environment file with flags to file \"/var/lib/kubelet/kubeadm-flags.env\"\n",
      "[preflight] Activating the kubelet service\n",
      "[tlsbootstrap] Waiting for the kubelet to perform the TLS Bootstrap...\n",
      "[patchnode] Uploading the CRI Socket information \"/var/run/dockershim.sock\" to the Node API object \"3929b10c-48ef-4a92-bcd9-65518889f539-client-node\" as an annotation\n",
      "\n",
      "This node has joined the cluster:\n",
      "* Certificate signing request was sent to master and a response\n",
      "  was received.\n",
      "* The Kubelet was informed of the new secure connection details.\n",
      "\n",
      "Run 'kubectl get nodes' on the master to see this node join the cluster.\n",
      "\n",
      "\t[WARNING RequiredIPVSKernelModulesAvailable]: the IPVS proxier will not be used, because the following required kernel modules are not loaded: [nf_conntrack_ipv4 ip_vs ip_vs_rr ip_vs_wrr ip_vs_sh] or no builtin kernel ipvs support: map[ip_vs:{} ip_vs_rr:{} ip_vs_wrr:{} ip_vs_sh:{} nf_conntrack_ipv4:{}]\n",
      "you can solve this problem with following methods:\n",
      " 1. Run 'modprobe -- ' to load missing kernel modules;\n",
      "2. Provide the missing builtin kernel ipvs support\n",
      "\n",
      "I1103 03:36:33.317871    5723 kernel_validator.go:81] Validating kernel version\n",
      "I1103 03:36:33.317921    5723 kernel_validator.go:96] Validating kernel config\n",
      "\t[WARNING SystemVerification]: unsupported docker version: 20.10.7\n",
      "\n"
     ]
    }
   ],
   "source": [
    "stdin, stdout, stderr = client_node.exec_command('sudo kubeadm join 10.20.4.122:6443 --token v0nrdc.1gvehv8yl1qlrpl9 --discovery-token-ca-cert-hash sha256:45f74d91f462dff12711fe05d3d91fb48fe86b7fa73fde5f49f3656f7873b58b --ignore-preflight-errors=SystemVerification')\n",
    "print(stdout.read().decode(\"utf-8\"))\n",
    "print(stderr.read().decode(\"utf-8\"))"
   ]
  },
  {
   "cell_type": "markdown",
   "metadata": {},
   "source": [
    "### Let's check back at the server."
   ]
  },
  {
   "cell_type": "code",
   "execution_count": 61,
   "metadata": {},
   "outputs": [
    {
     "name": "stdout",
     "output_type": "stream",
     "text": [
      "NAME                                               STATUS    ROLES     AGE       VERSION\n",
      "3929b10c-48ef-4a92-bcd9-65518889f539-client-node   Ready     <none>    25s       v1.11.2\n",
      "b759e74b-6b6a-4594-9673-af6af5ecc8cd-master-node   Ready     master    6m        v1.11.2\n",
      "\n",
      "\n"
     ]
    }
   ],
   "source": [
    "stdin, stdout, stderr = master_node.exec_command('kubectl get nodes')\n",
    "print(stdout.read().decode(\"utf-8\"))\n",
    "print(stderr.read().decode(\"utf-8\"))"
   ]
  },
  {
   "cell_type": "markdown",
   "metadata": {},
   "source": [
    "### We can see that the worker node is connected. Task complete."
   ]
  },
  {
   "cell_type": "markdown",
   "metadata": {},
   "source": [
    "### Now we set up slate."
   ]
  },
  {
   "cell_type": "code",
   "execution_count": 62,
   "metadata": {},
   "outputs": [
    {
     "name": "stdout",
     "output_type": "stream",
     "text": [
      "\n",
      "\n"
     ]
    }
   ],
   "source": [
    "stdin, stdout, stderr = master_node.exec_command(\"\"\"echo '#!/bin/sh\\nmkdir -p -m 0700 \"$HOME/.slate\"\\nif [ \"$?\" -ne 0 ] ; then\\n\techo \"Not able to create $HOME/.slate\" 1>&2\\n\texit 1\\nfi\\n\\necho \"c5oJVWkNJLoZ5Qezh2UNQE\" > \"$HOME/.slate/token\"\\nif [ \"$?\" -ne 0 ] ; then\\n\techo \"Not able to write token data to $HOME/.slate/token\" 1>&2\\n\texit 1\\nfi\\nchmod 600 \"$HOME/.slate/token\"\\necho \\'https://api.slateci.io:443\\' > ~/.slate/endpoint\\necho \"SLATE access token successfully stored\"\\n' > slatescript.sh\"\"\")\n",
    "print(stdout.read().decode(\"utf-8\"))\n",
    "print(stderr.read().decode(\"utf-8\"))"
   ]
  },
  {
   "cell_type": "code",
   "execution_count": 63,
   "metadata": {},
   "outputs": [
    {
     "name": "stdout",
     "output_type": "stream",
     "text": [
      "\n",
      "\n"
     ]
    }
   ],
   "source": [
    "stdin, stdout, stderr = master_node.exec_command('chmod +x ./slatescript.sh')\n",
    "print(stdout.read().decode(\"utf-8\"))\n",
    "print(stderr.read().decode(\"utf-8\"))"
   ]
  },
  {
   "cell_type": "code",
   "execution_count": 64,
   "metadata": {},
   "outputs": [
    {
     "name": "stdout",
     "output_type": "stream",
     "text": [
      "SLATE access token successfully stored\n",
      "\n",
      "\n"
     ]
    }
   ],
   "source": [
    "stdin, stdout, stderr = master_node.exec_command('./slatescript.sh')\n",
    "print(stdout.read().decode(\"utf-8\"))\n",
    "print(stderr.read().decode(\"utf-8\"))"
   ]
  },
  {
   "cell_type": "code",
   "execution_count": 65,
   "metadata": {},
   "outputs": [
    {
     "name": "stdout",
     "output_type": "stream",
     "text": [
      "\n",
      "  % Total    % Received % Xferd  Average Speed   Time    Time     Time  Current\n",
      "                                 Dload  Upload   Total   Spent    Left  Speed\n",
      "100 1896k  100 1896k    0     0  4951k      0 --:--:-- --:--:-- --:--:-- 4951k\n",
      "\n"
     ]
    }
   ],
   "source": [
    "stdin, stdout, stderr = master_node.exec_command('curl -LO https://jenkins.slateci.io/artifacts/client/slate-linux.tar.gz')\n",
    "print(stdout.read().decode(\"utf-8\"))\n",
    "print(stderr.read().decode(\"utf-8\"))"
   ]
  },
  {
   "cell_type": "code",
   "execution_count": 66,
   "metadata": {},
   "outputs": [
    {
     "name": "stdout",
     "output_type": "stream",
     "text": [
      "\n",
      "\n"
     ]
    }
   ],
   "source": [
    "stdin, stdout, stderr = master_node.exec_command('tar xzf slate-linux.tar.gz')\n",
    "print(stdout.read().decode(\"utf-8\"))\n",
    "print(stderr.read().decode(\"utf-8\"))"
   ]
  },
  {
   "cell_type": "code",
   "execution_count": 67,
   "metadata": {},
   "outputs": [
    {
     "name": "stdout",
     "output_type": "stream",
     "text": [
      "\n",
      "\n"
     ]
    }
   ],
   "source": [
    "stdin, stdout, stderr = master_node.exec_command('sudo mv slate /usr/local/bin')\n",
    "print(stdout.read().decode(\"utf-8\"))\n",
    "print(stderr.read().decode(\"utf-8\"))"
   ]
  },
  {
   "cell_type": "code",
   "execution_count": 68,
   "metadata": {},
   "outputs": [
    {
     "name": "stdout",
     "output_type": "stream",
     "text": [
      "Name               Admin        ID\n",
      "Rice-CRC-OCI       rice-crc     cluster_wRzlo7q62VM\n",
      "check-mk-test      cmk-um       cluster_QJaTB3nj5a8\n",
      "chtc-tiger         chtc-osg     cluster_BhJeF1PCuro\n",
      "clemson-aci        clemson-aci  cluster_btEVWqfo5R4\n",
      "frontera           tacc-admin   cluster_xyOjLBH8YFg\n",
      "gpn-beocat         gpn-poc      cluster_YRl0CqESiJU\n",
      "gpn-poc-onenet     gpn-poc      cluster_HuMFzohYwDA\n",
      "gpn-poc-test       gpn-poc      cluster_jx9sSpVedOI\n",
      "iu-osiris          osiris       cluster_biECfbqdj9g\n",
      "mwt2-iu            mwt2         cluster_WMaDQIPYI2s\n",
      "mwt2-iu-test       atlas-squid  cluster_mvO9QzLUj94\n",
      "net2               net2         cluster_Z-gQFi1-O1Y\n",
      "nmsu               nmsu         cluster_u5P6TmKkOU0\n",
      "notredame          ndcms        cluster_ojX0uEdg9tc\n",
      "osg-gatech-dev     gatech-dev   cluster_W_LeACXrMC8\n",
      "prague-xcache      atlas-xcache cluster_hTUJr76Nvg0\n",
      "rice-crc-rapid     rice-crc     cluster_JMlHCEMKwmE\n",
      "spt-npx            spt          cluster_z0Ui4YRQ6Uk\n",
      "swt2-cpb           swt2-cpb     cluster_u9iI0_EYe3o\n",
      "t3colorado         t3colorado   cluster_xYxCGxfGmMI\n",
      "test-cluster-js    slate-dev    cluster_CwicVu9MixA\n",
      "uchicago-af        atlas-af-ops cluster_pK-rwKJ9gr8\n",
      "uchicago-prod      slate-dev    cluster_yZroQR5mfBk\n",
      "uchicago-river-dev ssl          cluster_iovOU3q89zc\n",
      "uchicago-river-v2  ssl          cluster_iL8D7abxCM8\n",
      "umich-prod         slate-dev    cluster_WRb0f8mH9ak\n",
      "uutah-prod         slate-dev    cluster_omwbRNbKRKE\n",
      "\n",
      "\n"
     ]
    }
   ],
   "source": [
    "stdin, stdout, stderr = master_node.exec_command('slate cluster list')\n",
    "print(stdout.read().decode(\"utf-8\"))\n",
    "print(stderr.read().decode(\"utf-8\"))"
   ]
  },
  {
   "cell_type": "code",
   "execution_count": 69,
   "metadata": {},
   "outputs": [
    {
     "ename": "KeyboardInterrupt",
     "evalue": "",
     "output_type": "error",
     "traceback": [
      "\u001b[0;31m---------------------------------------------------------------------------\u001b[0m",
      "\u001b[0;31mKeyboardInterrupt\u001b[0m                         Traceback (most recent call last)",
      "\u001b[0;32m<ipython-input-69-71afee7e8d86>\u001b[0m in \u001b[0;36m<module>\u001b[0;34m\u001b[0m\n\u001b[1;32m      1\u001b[0m \u001b[0mstdin\u001b[0m\u001b[0;34m,\u001b[0m \u001b[0mstdout\u001b[0m\u001b[0;34m,\u001b[0m \u001b[0mstderr\u001b[0m \u001b[0;34m=\u001b[0m \u001b[0mmaster_node\u001b[0m\u001b[0;34m.\u001b[0m\u001b[0mexec_command\u001b[0m\u001b[0;34m(\u001b[0m\u001b[0;34m'slate cluster create cluster1 --group g1 --org org1 -y'\u001b[0m\u001b[0;34m)\u001b[0m\u001b[0;34m\u001b[0m\u001b[0;34m\u001b[0m\u001b[0m\n\u001b[0;32m----> 2\u001b[0;31m \u001b[0mprint\u001b[0m\u001b[0;34m(\u001b[0m\u001b[0mstdout\u001b[0m\u001b[0;34m.\u001b[0m\u001b[0mread\u001b[0m\u001b[0;34m(\u001b[0m\u001b[0;34m)\u001b[0m\u001b[0;34m.\u001b[0m\u001b[0mdecode\u001b[0m\u001b[0;34m(\u001b[0m\u001b[0;34m\"utf-8\"\u001b[0m\u001b[0;34m)\u001b[0m\u001b[0;34m)\u001b[0m\u001b[0;34m\u001b[0m\u001b[0;34m\u001b[0m\u001b[0m\n\u001b[0m\u001b[1;32m      3\u001b[0m \u001b[0mprint\u001b[0m\u001b[0;34m(\u001b[0m\u001b[0mstderr\u001b[0m\u001b[0;34m.\u001b[0m\u001b[0mread\u001b[0m\u001b[0;34m(\u001b[0m\u001b[0;34m)\u001b[0m\u001b[0;34m.\u001b[0m\u001b[0mdecode\u001b[0m\u001b[0;34m(\u001b[0m\u001b[0;34m\"utf-8\"\u001b[0m\u001b[0;34m)\u001b[0m\u001b[0;34m)\u001b[0m\u001b[0;34m\u001b[0m\u001b[0;34m\u001b[0m\u001b[0m\n",
      "\u001b[0;32m/opt/conda/lib/python3.9/site-packages/paramiko/file.py\u001b[0m in \u001b[0;36mread\u001b[0;34m(self, size)\u001b[0m\n\u001b[1;32m    198\u001b[0m             \u001b[0;32mwhile\u001b[0m \u001b[0;32mTrue\u001b[0m\u001b[0;34m:\u001b[0m\u001b[0;34m\u001b[0m\u001b[0;34m\u001b[0m\u001b[0m\n\u001b[1;32m    199\u001b[0m                 \u001b[0;32mtry\u001b[0m\u001b[0;34m:\u001b[0m\u001b[0;34m\u001b[0m\u001b[0;34m\u001b[0m\u001b[0m\n\u001b[0;32m--> 200\u001b[0;31m                     \u001b[0mnew_data\u001b[0m \u001b[0;34m=\u001b[0m \u001b[0mself\u001b[0m\u001b[0;34m.\u001b[0m\u001b[0m_read\u001b[0m\u001b[0;34m(\u001b[0m\u001b[0mself\u001b[0m\u001b[0;34m.\u001b[0m\u001b[0m_DEFAULT_BUFSIZE\u001b[0m\u001b[0;34m)\u001b[0m\u001b[0;34m\u001b[0m\u001b[0;34m\u001b[0m\u001b[0m\n\u001b[0m\u001b[1;32m    201\u001b[0m                 \u001b[0;32mexcept\u001b[0m \u001b[0mEOFError\u001b[0m\u001b[0;34m:\u001b[0m\u001b[0;34m\u001b[0m\u001b[0;34m\u001b[0m\u001b[0m\n\u001b[1;32m    202\u001b[0m                     \u001b[0mnew_data\u001b[0m \u001b[0;34m=\u001b[0m \u001b[0;32mNone\u001b[0m\u001b[0;34m\u001b[0m\u001b[0;34m\u001b[0m\u001b[0m\n",
      "\u001b[0;32m/opt/conda/lib/python3.9/site-packages/paramiko/channel.py\u001b[0m in \u001b[0;36m_read\u001b[0;34m(self, size)\u001b[0m\n\u001b[1;32m   1359\u001b[0m \u001b[0;34m\u001b[0m\u001b[0m\n\u001b[1;32m   1360\u001b[0m     \u001b[0;32mdef\u001b[0m \u001b[0m_read\u001b[0m\u001b[0;34m(\u001b[0m\u001b[0mself\u001b[0m\u001b[0;34m,\u001b[0m \u001b[0msize\u001b[0m\u001b[0;34m)\u001b[0m\u001b[0;34m:\u001b[0m\u001b[0;34m\u001b[0m\u001b[0;34m\u001b[0m\u001b[0m\n\u001b[0;32m-> 1361\u001b[0;31m         \u001b[0;32mreturn\u001b[0m \u001b[0mself\u001b[0m\u001b[0;34m.\u001b[0m\u001b[0mchannel\u001b[0m\u001b[0;34m.\u001b[0m\u001b[0mrecv\u001b[0m\u001b[0;34m(\u001b[0m\u001b[0msize\u001b[0m\u001b[0;34m)\u001b[0m\u001b[0;34m\u001b[0m\u001b[0;34m\u001b[0m\u001b[0m\n\u001b[0m\u001b[1;32m   1362\u001b[0m \u001b[0;34m\u001b[0m\u001b[0m\n\u001b[1;32m   1363\u001b[0m     \u001b[0;32mdef\u001b[0m \u001b[0m_write\u001b[0m\u001b[0;34m(\u001b[0m\u001b[0mself\u001b[0m\u001b[0;34m,\u001b[0m \u001b[0mdata\u001b[0m\u001b[0;34m)\u001b[0m\u001b[0;34m:\u001b[0m\u001b[0;34m\u001b[0m\u001b[0;34m\u001b[0m\u001b[0m\n",
      "\u001b[0;32m/opt/conda/lib/python3.9/site-packages/paramiko/channel.py\u001b[0m in \u001b[0;36mrecv\u001b[0;34m(self, nbytes)\u001b[0m\n\u001b[1;32m    697\u001b[0m         \"\"\"\n\u001b[1;32m    698\u001b[0m         \u001b[0;32mtry\u001b[0m\u001b[0;34m:\u001b[0m\u001b[0;34m\u001b[0m\u001b[0;34m\u001b[0m\u001b[0m\n\u001b[0;32m--> 699\u001b[0;31m             \u001b[0mout\u001b[0m \u001b[0;34m=\u001b[0m \u001b[0mself\u001b[0m\u001b[0;34m.\u001b[0m\u001b[0min_buffer\u001b[0m\u001b[0;34m.\u001b[0m\u001b[0mread\u001b[0m\u001b[0;34m(\u001b[0m\u001b[0mnbytes\u001b[0m\u001b[0;34m,\u001b[0m \u001b[0mself\u001b[0m\u001b[0;34m.\u001b[0m\u001b[0mtimeout\u001b[0m\u001b[0;34m)\u001b[0m\u001b[0;34m\u001b[0m\u001b[0;34m\u001b[0m\u001b[0m\n\u001b[0m\u001b[1;32m    700\u001b[0m         \u001b[0;32mexcept\u001b[0m \u001b[0mPipeTimeout\u001b[0m\u001b[0;34m:\u001b[0m\u001b[0;34m\u001b[0m\u001b[0;34m\u001b[0m\u001b[0m\n\u001b[1;32m    701\u001b[0m             \u001b[0;32mraise\u001b[0m \u001b[0msocket\u001b[0m\u001b[0;34m.\u001b[0m\u001b[0mtimeout\u001b[0m\u001b[0;34m(\u001b[0m\u001b[0;34m)\u001b[0m\u001b[0;34m\u001b[0m\u001b[0;34m\u001b[0m\u001b[0m\n",
      "\u001b[0;32m/opt/conda/lib/python3.9/site-packages/paramiko/buffered_pipe.py\u001b[0m in \u001b[0;36mread\u001b[0;34m(self, nbytes, timeout)\u001b[0m\n\u001b[1;32m    158\u001b[0m                 \u001b[0;32mwhile\u001b[0m \u001b[0;34m(\u001b[0m\u001b[0mlen\u001b[0m\u001b[0;34m(\u001b[0m\u001b[0mself\u001b[0m\u001b[0;34m.\u001b[0m\u001b[0m_buffer\u001b[0m\u001b[0;34m)\u001b[0m \u001b[0;34m==\u001b[0m \u001b[0;36m0\u001b[0m\u001b[0;34m)\u001b[0m \u001b[0;32mand\u001b[0m \u001b[0;32mnot\u001b[0m \u001b[0mself\u001b[0m\u001b[0;34m.\u001b[0m\u001b[0m_closed\u001b[0m\u001b[0;34m:\u001b[0m\u001b[0;34m\u001b[0m\u001b[0;34m\u001b[0m\u001b[0m\n\u001b[1;32m    159\u001b[0m                     \u001b[0mthen\u001b[0m \u001b[0;34m=\u001b[0m \u001b[0mtime\u001b[0m\u001b[0;34m.\u001b[0m\u001b[0mtime\u001b[0m\u001b[0;34m(\u001b[0m\u001b[0;34m)\u001b[0m\u001b[0;34m\u001b[0m\u001b[0;34m\u001b[0m\u001b[0m\n\u001b[0;32m--> 160\u001b[0;31m                     \u001b[0mself\u001b[0m\u001b[0;34m.\u001b[0m\u001b[0m_cv\u001b[0m\u001b[0;34m.\u001b[0m\u001b[0mwait\u001b[0m\u001b[0;34m(\u001b[0m\u001b[0mtimeout\u001b[0m\u001b[0;34m)\u001b[0m\u001b[0;34m\u001b[0m\u001b[0;34m\u001b[0m\u001b[0m\n\u001b[0m\u001b[1;32m    161\u001b[0m                     \u001b[0;32mif\u001b[0m \u001b[0mtimeout\u001b[0m \u001b[0;32mis\u001b[0m \u001b[0;32mnot\u001b[0m \u001b[0;32mNone\u001b[0m\u001b[0;34m:\u001b[0m\u001b[0;34m\u001b[0m\u001b[0;34m\u001b[0m\u001b[0m\n\u001b[1;32m    162\u001b[0m                         \u001b[0mtimeout\u001b[0m \u001b[0;34m-=\u001b[0m \u001b[0mtime\u001b[0m\u001b[0;34m.\u001b[0m\u001b[0mtime\u001b[0m\u001b[0;34m(\u001b[0m\u001b[0;34m)\u001b[0m \u001b[0;34m-\u001b[0m \u001b[0mthen\u001b[0m\u001b[0;34m\u001b[0m\u001b[0;34m\u001b[0m\u001b[0m\n",
      "\u001b[0;32m/opt/conda/lib/python3.9/threading.py\u001b[0m in \u001b[0;36mwait\u001b[0;34m(self, timeout)\u001b[0m\n\u001b[1;32m    310\u001b[0m         \u001b[0;32mtry\u001b[0m\u001b[0;34m:\u001b[0m    \u001b[0;31m# restore state no matter what (e.g., KeyboardInterrupt)\u001b[0m\u001b[0;34m\u001b[0m\u001b[0;34m\u001b[0m\u001b[0m\n\u001b[1;32m    311\u001b[0m             \u001b[0;32mif\u001b[0m \u001b[0mtimeout\u001b[0m \u001b[0;32mis\u001b[0m \u001b[0;32mNone\u001b[0m\u001b[0;34m:\u001b[0m\u001b[0;34m\u001b[0m\u001b[0;34m\u001b[0m\u001b[0m\n\u001b[0;32m--> 312\u001b[0;31m                 \u001b[0mwaiter\u001b[0m\u001b[0;34m.\u001b[0m\u001b[0macquire\u001b[0m\u001b[0;34m(\u001b[0m\u001b[0;34m)\u001b[0m\u001b[0;34m\u001b[0m\u001b[0;34m\u001b[0m\u001b[0m\n\u001b[0m\u001b[1;32m    313\u001b[0m                 \u001b[0mgotit\u001b[0m \u001b[0;34m=\u001b[0m \u001b[0;32mTrue\u001b[0m\u001b[0;34m\u001b[0m\u001b[0;34m\u001b[0m\u001b[0m\n\u001b[1;32m    314\u001b[0m             \u001b[0;32melse\u001b[0m\u001b[0;34m:\u001b[0m\u001b[0;34m\u001b[0m\u001b[0;34m\u001b[0m\u001b[0m\n",
      "\u001b[0;31mKeyboardInterrupt\u001b[0m: "
     ]
    }
   ],
   "source": [
    "stdin, stdout, stderr = master_node.exec_command('slate cluster create cluster1 --group g1 --org org1 -y')\n",
    "print(stdout.read().decode(\"utf-8\"))\n",
    "print(stderr.read().decode(\"utf-8\"))"
   ]
  },
  {
   "cell_type": "code",
   "execution_count": null,
   "metadata": {},
   "outputs": [],
   "source": []
  },
  {
   "cell_type": "code",
   "execution_count": null,
   "metadata": {},
   "outputs": [],
   "source": []
  },
  {
   "cell_type": "code",
   "execution_count": null,
   "metadata": {},
   "outputs": [],
   "source": []
  },
  {
   "cell_type": "code",
   "execution_count": null,
   "metadata": {},
   "outputs": [],
   "source": []
  },
  {
   "cell_type": "code",
   "execution_count": null,
   "metadata": {},
   "outputs": [],
   "source": []
  },
  {
   "cell_type": "code",
   "execution_count": null,
   "metadata": {},
   "outputs": [],
   "source": []
  },
  {
   "cell_type": "code",
   "execution_count": null,
   "metadata": {},
   "outputs": [],
   "source": []
  },
  {
   "cell_type": "markdown",
   "metadata": {},
   "source": [
    "## Delete Slice"
   ]
  },
  {
   "cell_type": "markdown",
   "metadata": {},
   "source": [
    "You can now delete the slice using the cell below."
   ]
  },
  {
   "cell_type": "code",
   "execution_count": 206,
   "metadata": {},
   "outputs": [
    {
     "name": "stdout",
     "output_type": "stream",
     "text": [
      "Response Status Status.OK\n",
      "Response received None\n"
     ]
    }
   ],
   "source": [
    "status, result = slice_manager.delete(slice_id=slice_id)\n",
    "\n",
    "print(\"Response Status {}\".format(status))\n",
    "print(\"Response received {}\".format(result))"
   ]
  }
 ],
 "metadata": {
  "kernelspec": {
   "display_name": "Python 3",
   "language": "python",
   "name": "python3"
  },
  "language_info": {
   "codemirror_mode": {
    "name": "ipython",
    "version": 3
   },
   "file_extension": ".py",
   "mimetype": "text/x-python",
   "name": "python",
   "nbconvert_exporter": "python",
   "pygments_lexer": "ipython3",
   "version": "3.9.2"
  }
 },
 "nbformat": 4,
 "nbformat_minor": 4
}

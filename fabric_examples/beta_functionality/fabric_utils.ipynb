{
 "cells": [
  {
   "cell_type": "code",
   "execution_count": null,
   "id": "7e67715d-98eb-4fda-bfa6-f46033c97076",
   "metadata": {},
   "outputs": [],
   "source": [
    "from fabrictestbed_extensions.utils.testbed import Testbed \n",
    "from fabrictestbed_extensions.utils.slice import SliceUtils"
   ]
  },
  {
   "cell_type": "markdown",
   "id": "b7d6a999-83f6-43e7-bce2-24b9ae1de365",
   "metadata": {},
   "source": [
    "### Get Advertised Topology"
   ]
  },
  {
   "cell_type": "code",
   "execution_count": null,
   "id": "a80cd849-ee88-4348-86e6-cc1d9dac3a5f",
   "metadata": {},
   "outputs": [],
   "source": [
    "from fabrictestbed_extensions.utils.testbed import Testbed\n",
    "try:\n",
    "    print(Testbed.get_advertised_topology())\n",
    "except Exception as e:\n",
    "    print (e)"
   ]
  },
  {
   "cell_type": "markdown",
   "id": "563d5d73-ba33-4c4e-8015-4f82bab69778",
   "metadata": {},
   "source": [
    "### Get Site Advertised Topology"
   ]
  },
  {
   "cell_type": "code",
   "execution_count": null,
   "id": "f868c6a6-6ed4-40d0-be9d-61481f2f1a68",
   "metadata": {},
   "outputs": [],
   "source": [
    "from fabrictestbed_extensions.utils.testbed import Testbed\n",
    "site = None\n",
    "try:\n",
    "    site = Testbed.get_site_advertisment('STAR')\n",
    "except Exception as e:\n",
    "    print (e)\n",
    "    \n",
    "node = site\n",
    "print(\"Site: {}\".format(site))\n",
    "print(\"      name             : {}\".format(component.get_property(pname='name')))\n",
    "print(\"      type             : {}\".format(component.get_property(pname='type')))\n",
    "print(\"      cpu              : {}\".format(component.get_property(pname='capacities').cpu))\n",
    "print(\"      core             : {}\".format(component.get_property(pname='capacities').core))\n",
    "print(\"      ram              : {}\".format(component.get_property(pname='capacities').ram))\n",
    "print(\"      disk             : {}\".format(component.get_property(pname='capacities').disk))\n",
    "print(\"      unit             : {}\".format(component.get_property(pname='capacities').unit))\n",
    "print(\"      capacity_allocations : {}\".format(component.get_property(pname='capacity_allocations')  ))\n",
    "\n",
    "print(\"   Components        :\")\n",
    "for component_name, component in node.components.items():\n",
    "    print(\"      component             : {}\".format(component))\n",
    "    print(\"      Name             : {}\".format(component.name))\n",
    "    print(\"      Unit             : {}\".format(component.get_property(pname='capacities').unit))\n",
    "    print(\"      Model            : {}\".format(component.model))\n",
    "    print(\"      Type             : {}\".format(component.type))\n",
    "print(\"   Interfaces        : {}\".format(node.interfaces))\n",
    "print()    "
   ]
  },
  {
   "cell_type": "markdown",
   "id": "4121d39d-1c4d-4755-ab2a-3412e8331451",
   "metadata": {
    "tags": []
   },
   "source": [
    "### Delete All Slices"
   ]
  },
  {
   "cell_type": "code",
   "execution_count": null,
   "id": "4dff1e52-4d09-4fc7-b813-6662fa2f3ea2",
   "metadata": {},
   "outputs": [],
   "source": [
    "from fabrictestbed_extensions.utils.slice import SliceUtils\n",
    "try:\n",
    "    SliceUtils.delete_all()\n",
    "except Exception as e:\n",
    "    print (e)"
   ]
  },
  {
   "cell_type": "markdown",
   "id": "b92ed72e-3b63-43a9-8b19-9fedc222fe2f",
   "metadata": {
    "tags": []
   },
   "source": [
    "### Delete All with Substring"
   ]
  },
  {
   "cell_type": "code",
   "execution_count": null,
   "id": "94bf468c-b628-4f66-91c5-bbd9908f7f0a",
   "metadata": {},
   "outputs": [],
   "source": [
    "from fabrictestbed_extensions.utils.slice import SliceUtils\n",
    "try:\n",
    "    SliceUtils.delete_all_with_substring(\"Test-3_1_2_700\")\n",
    "except Exception as e:\n",
    "    print (e)"
   ]
  },
  {
   "cell_type": "markdown",
   "id": "52195c2d-6fc8-4326-9ab1-7dff2b1bfa66",
   "metadata": {
    "tags": []
   },
   "source": [
    "### Delete Slice"
   ]
  },
  {
   "cell_type": "code",
   "execution_count": null,
   "id": "912f0294-a680-4158-bbd5-7879ce51a0c6",
   "metadata": {},
   "outputs": [],
   "source": [
    "from fabrictestbed_extensions.utils.slice import SliceUtils\n",
    "slice_id = None\n",
    "slice_name = \"Test-3_1_2-a-3-GPU_Tesla_T4-TACC\"\n",
    "try:\n",
    "    SliceUtils.delete_slice(slice_name=slice_name, slice_id=slice_id)\n",
    "except Exception as e:\n",
    "    print (e)"
   ]
  },
  {
   "cell_type": "markdown",
   "id": "89a4fdc2-77ce-4e88-b206-abea5ce125d6",
   "metadata": {
    "tags": []
   },
   "source": [
    "### Get All Slices"
   ]
  },
  {
   "cell_type": "code",
   "execution_count": null,
   "id": "c3d1f061-5c1b-4a67-9525-343caa481ed1",
   "metadata": {},
   "outputs": [],
   "source": [
    "from fabrictestbed_extensions.utils.slice import SliceUtils\n",
    "try:\n",
    "    SliceUtils.list_all_slices()\n",
    "except Exception as e:\n",
    "    print (e)"
   ]
  },
  {
   "cell_type": "markdown",
   "id": "760d7a56-9ea6-4ae9-abaa-932b3f8af500",
   "metadata": {
    "tags": []
   },
   "source": [
    "### Get Slice Error (by ID only)"
   ]
  },
  {
   "cell_type": "code",
   "execution_count": null,
   "id": "04e86d37-b548-424a-a45d-362077d3b22f",
   "metadata": {},
   "outputs": [],
   "source": [
    "\n",
    "\n",
    "from fabrictestbed_extensions.utils.slice import SliceUtils\n",
    "\n",
    "slice_id = \"406915cf-1043-4fd5-93e6-9f63fdcbe6de\"\n",
    "try:\n",
    "    for notice in SliceUtils.get_slice_error(slice_id):\n",
    "        print(\"Slice notice: \\n{}\".format(str(notice)))\n",
    "    \n",
    "except Exception as e:\n",
    "    print (e)"
   ]
  },
  {
   "cell_type": "markdown",
   "id": "e52bc19d-f427-4536-83ba-dd0d40855387",
   "metadata": {
    "tags": []
   },
   "source": [
    "### Get Slice by Name\n",
    "\n",
    "Gets and slice by name but does not return \"Closing\" or \"Dead\" slices."
   ]
  },
  {
   "cell_type": "code",
   "execution_count": null,
   "id": "00477e0b-a32b-4273-98f0-1d23874a607c",
   "metadata": {},
   "outputs": [],
   "source": [
    "from fabrictestbed_extensions.utils.slice import SliceUtils\n",
    "try:\n",
    "    slice = SliceUtils.get_slice(slice_name='Test-3.1.2-a-2-GPU_RTX6000-UTAH')\n",
    "except Exception as e:\n",
    "    print (e)\n",
    "    \n",
    "print(slice)"
   ]
  },
  {
   "cell_type": "markdown",
   "id": "0a6b84c8-436b-451c-96e7-2e6b56229f62",
   "metadata": {
    "tags": []
   },
   "source": [
    "### Get Slice by Slice_ID\n",
    "\n",
    "Gets and slice by id but does not return \"Closing\" or \"Dead\" slices."
   ]
  },
  {
   "cell_type": "code",
   "execution_count": null,
   "id": "c782370d-9b55-474c-af78-31cba46c310a",
   "metadata": {},
   "outputs": [],
   "source": [
    "from fabrictestbed_extensions.utils.slice import SliceUtils\n",
    "try:\n",
    "    slice = SliceUtils.get_slice(slice_id=\"2af0810e-648d-48dc-90e6-67e5aed2a475\")\n",
    "except Exception as e:\n",
    "    print (e)\n",
    "    \n",
    "print(slice)"
   ]
  },
  {
   "cell_type": "markdown",
   "id": "4cf7920c-1825-4f12-944c-b732f084162a",
   "metadata": {},
   "source": [
    "### Wait for Slice"
   ]
  },
  {
   "cell_type": "code",
   "execution_count": null,
   "id": "793de057-a758-4583-a3e3-50ca45aa5c98",
   "metadata": {},
   "outputs": [],
   "source": [
    "from fabrictestbed_extensions.utils.slice import SliceUtils\n",
    "try:\n",
    "    SliceUtils.wait_for_slice(slice_name='HF_STAR',slice_id=None,timeout=360,interval=10,progress=True)\n",
    "except Exception as e:\n",
    "    print (e)"
   ]
  },
  {
   "cell_type": "markdown",
   "id": "2cd8c364-d62e-4248-87a4-d5a2a6815c76",
   "metadata": {},
   "source": [
    "### Exceute Script on Node"
   ]
  },
  {
   "cell_type": "code",
   "execution_count": null,
   "id": "a46875bd-5066-4c70-a23d-7ec43d187bc8",
   "metadata": {},
   "outputs": [],
   "source": [
    "from fabrictestbed_extensions.utils.node import NodeUtils\n",
    "\n",
    "script= '#!/bin/bash  \\n' \\\n",
    "        'echo Hello, FABRIC from node `hostname -s`   \\n'\n",
    "\n",
    "try:\n",
    "    SliceUtils.execute_script('centos', node, script)\n",
    "except Exception as e:\n",
    "    print (e)"
   ]
  },
  {
   "cell_type": "code",
   "execution_count": null,
   "id": "55f3b771-d829-4fac-82d2-fa7fd3ff229b",
   "metadata": {},
   "outputs": [],
   "source": []
  }
 ],
 "metadata": {
  "kernelspec": {
   "display_name": "Python 3 (ipykernel)",
   "language": "python",
   "name": "python3"
  },
  "language_info": {
   "codemirror_mode": {
    "name": "ipython",
    "version": 3
   },
   "file_extension": ".py",
   "mimetype": "text/x-python",
   "name": "python",
   "nbconvert_exporter": "python",
   "pygments_lexer": "ipython3",
   "version": "3.9.2"
  }
 },
 "nbformat": 4,
 "nbformat_minor": 5
}

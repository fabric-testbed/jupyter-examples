{
 "cells": [
  {
   "cell_type": "markdown",
   "id": "c2a36b94-1015-4f4d-9d63-73e77651dab8",
   "metadata": {},
   "source": [
    "# Ping Tutorial\n",
    "<i>Adapted for use with FABRIC from [WebServerExample](https://groups.geni.net/geni/wiki/WebServerExample)\n",
    "    \n",
    "In this tutorial you will learn:\n",
    "* How to build a functional web server\n",
    "* The basics of distributed programming\n",
    "* Client/Server structures\n",
    "* Issues in building high performance servers\n",
    "\n",
    "    \n",
    "<b> Prerequisites  \n",
    "    \n",
    "* You need to have your FABRIC bastion host key pair set up to do this tutorial. If you have not already set this up, follow steps 1-3 at https://learn.fabric-testbed.net/knowledge-base/logging-into-fabric-vms/.\n",
    "* You are comfortable using ssh and executing basic commands using a UNIX shell. [Tips about how to login to hosts.](https://learn.fabric-testbed.net/knowledge-base/logging-into-fabric-vms/)\n",
    "* You are comfortable with coding in C or C++\n",
    "  "
   ]
  },
  {
   "cell_type": "markdown",
   "id": "addae7e3-4a6d-43cd-bf2f-c9496cec7227",
   "metadata": {},
   "source": [
    "## 1. Design the Experiment\n",
    "In this section, be careful to do the instructions listed with **\"Do this\"**, as well as running the code blocks."
   ]
  },
  {
   "cell_type": "markdown",
   "id": "f2d7b4c1-57bf-4d4d-a54c-39bc997dfab5",
   "metadata": {},
   "source": [
    "### 1.1 Reserve three virtual machines at any aggregate"
   ]
  },
  {
   "cell_type": "markdown",
   "id": "382c1f4a-0bc8-4bc8-93fe-1b21e8a97a28",
   "metadata": {},
   "source": [
    "\n",
    "<b>Do this:</b>\n",
    "    Set bastion_username to your username in the block below.\n"
   ]
  },
  {
   "cell_type": "code",
   "execution_count": null,
   "id": "710c3163-cba1-421a-9145-185133b4e442",
   "metadata": {},
   "outputs": [],
   "source": [
    "import os\n",
    "# Bastion IPs\n",
    "os.environ['FABRIC_BASTION_HOST'] = 'bastion-1.fabric-testbed.net'\n",
    "\n",
    "# Set your Bastion username and private key\n",
    "os.environ['FABRIC_BASTION_USERNAME']=<INSERT_YOUR_FABRIC_USERNAME>\n",
    "os.environ['FABRIC_BASTION_KEY_LOCATION']=os.environ['HOME']+<INSERT_YOUR_BASTION_KEY>\n",
    "\n",
    "# Set the keypair FABRIC will install in your slice.\n",
    "os.environ['FABRIC_SLICE_PRIVATE_KEY_FILE']=os.environ['HOME']+'/.ssh/id_rsa'\n",
    "os.environ['FABRIC_SLICE_PUBLIC_KEY_FILE']=os.environ['HOME']+'/.ssh/id_rsa.pub'"
   ]
  },
  {
   "cell_type": "markdown",
   "id": "21bab0ff-a61a-4d9e-aba0-329752dbcad7",
   "metadata": {},
   "source": [
    "#### Import the Fabric API"
   ]
  },
  {
   "cell_type": "code",
   "execution_count": null,
   "id": "2f37ef66-6f99-494d-b3b9-11d4ba92efe7",
   "metadata": {},
   "outputs": [],
   "source": [
    "import json\n",
    "import traceback\n",
    "from fabrictestbed_extensions.fablib.fablib import fablib"
   ]
  },
  {
   "cell_type": "markdown",
   "id": "c520bd12-9611-4c2b-bf52-ff332023d298",
   "metadata": {},
   "source": [
    "#### Create slice"
   ]
  },
  {
   "cell_type": "code",
   "execution_count": null,
   "id": "255e7617-e61f-4b7f-8ea3-ac1d10447b24",
   "metadata": {},
   "outputs": [],
   "source": [
    "slice_name = 'MyWebServerSlice'\n",
    "site = 'MAX'\n",
    "\n",
    "server_name = 'server'\n",
    "node_1_name = 'node1'\n",
    "node_2_name = 'node2'\n",
    "\n",
    "network_service_name1='bridge1'\n",
    "network_service_name2='bridge2'\n",
    "\n",
    "server_nic1_name = 'server-nic1'\n",
    "server_nic2_name = 'server-nic2'\n",
    "node1_nic_name = 'node1-nic1'\n",
    "node2_nic_name = 'node2-nic1'\n",
    "\n",
    "image = 'default_ubuntu_20'\n",
    "image_type = 'qcow2'\n",
    "cores = 2\n",
    "ram = 8\n",
    "disk = 10"
   ]
  },
  {
   "cell_type": "code",
   "execution_count": null,
   "id": "30ea058e-8e73-46f8-8d64-bbc3156db636",
   "metadata": {},
   "outputs": [],
   "source": [
    "try:\n",
    "    #Create Slice\n",
    "    slice = fablib.new_slice(slice_name)\n",
    "    \n",
    "    # Add node\n",
    "    server = slice.add_node(name=server_name, site=site)\n",
    "    server.set_capacities(cores=8, ram=16, disk=32)\n",
    "    server.set_image(image)\n",
    "    ifaces1 = server.add_component(model='NIC_Basic', name=server_nic1_name).get_interfaces()[0] \n",
    "    ifaces2 = server.add_component(model='NIC_Basic', name=server_nic2_name).get_interfaces()[0] \n",
    "    \n",
    "    # Add node\n",
    "    node1 = slice.add_node(name=node_1_name, site=site)\n",
    "    node1.set_capacities(cores=cores, ram=ram, disk=disk)\n",
    "    node1.set_image(image)\n",
    "    ifacen1 = node1.add_component(model='NIC_Basic', name=node1_nic_name).get_interfaces()[0] \n",
    "    \n",
    "    # Add node\n",
    "    node2 = slice.add_node(name=node_2_name, site=site)\n",
    "    node2.set_capacities(cores=cores, ram=ram, disk=disk)\n",
    "    node2.set_image(image)\n",
    "    ifacen2 = node2.add_component(model='NIC_Basic', name=node2_nic_name).get_interfaces()[0] \n",
    "    \n",
    "    # Network\n",
    "    net1 = slice.add_l2network(name=network_service_name1, interfaces=[ifaces1, ifacen1])\n",
    "    net2 = slice.add_l2network(name=network_service_name2, interfaces=[ifaces2, ifacen2])\n",
    "\n",
    "    #Submit Slice Request\n",
    "    slice.submit()\n",
    "except Exception as e:\n",
    "    print(f\"Slice Failed: {e}\")"
   ]
  },
  {
   "cell_type": "markdown",
   "id": "ee3b05ee-9d5e-4a81-b1e6-665eeec7f65e",
   "metadata": {},
   "source": [
    "#### Get the slice"
   ]
  },
  {
   "cell_type": "code",
   "execution_count": null,
   "id": "d20a3b7e-9d6a-4f06-a037-1ac19dc0767f",
   "metadata": {},
   "outputs": [],
   "source": [
    "try:\n",
    "    slice = fablib.get_slice(slice_name)\n",
    "    print(f\"Slice: {slice.get_name()}, {slice.get_state()}\")\n",
    "except Exception as e:\n",
    "    print(f\"Get Slices Fail: {e}\")"
   ]
  },
  {
   "cell_type": "markdown",
   "id": "c8b31292-b1be-4011-aab2-3b4b3a767d31",
   "metadata": {},
   "source": [
    "### 1.2 Configure the Nodes"
   ]
  },
  {
   "cell_type": "markdown",
   "id": "137966a5-f12b-459a-93c0-5ec378803eb3",
   "metadata": {},
   "source": [
    "#### Get the topology"
   ]
  },
  {
   "cell_type": "code",
   "execution_count": null,
   "id": "13e0fcb4-4c19-4691-bcc5-b8b04ea5ce31",
   "metadata": {},
   "outputs": [],
   "source": [
    "try:\n",
    "    slice = fablib.get_slice(slice_name)\n",
    "    for node in slice.get_nodes():\n",
    "        print(\"Node:\")\n",
    "        print(f\"   Name              : {node.get_name()}\")\n",
    "        print(f\"   Host              : {node.get_host()}\")\n",
    "        print(f\"   Site              : {node.get_site()}\")\n",
    "        print(f\"   Management IP     : {node.get_management_ip()}\")\n",
    "        print(f\"   Reservation ID    : {node.get_reservation_id()}\")\n",
    "        print(f\"   Reservation State : {node.get_reservation_state()}\")\n",
    "        print(f\"   Interfaces        : {node.get_interfaces()}\")\n",
    "        print(f\"   SSH Command       : {node.get_ssh_command()}\")\n",
    "        print()                \n",
    "except Exception as e:\n",
    "    print(f\"Fail: {e}\")"
   ]
  },
  {
   "cell_type": "markdown",
   "id": "4b2ed0a7-6111-4b21-93a4-851298889ee7",
   "metadata": {},
   "source": [
    "#### Choose data interface IP addresses"
   ]
  },
  {
   "cell_type": "code",
   "execution_count": null,
   "id": "f6c08f68-887f-4d82-9b13-c4c12c9d60ef",
   "metadata": {},
   "outputs": [],
   "source": [
    "server_ip1 = '10.20.30.40'\n",
    "server_ip2 = '10.20.30.41'\n",
    "node1_ip = '10.20.30.42'\n",
    "node2_ip = '10.20.30.43'"
   ]
  },
  {
   "cell_type": "markdown",
   "id": "d6efbec6-077a-443c-970d-c900781eb4df",
   "metadata": {},
   "source": [
    "#### Configure server node"
   ]
  },
  {
   "cell_type": "code",
   "execution_count": null,
   "id": "e6d7dfab-cfed-45ab-847d-24fdaeb54ddf",
   "metadata": {},
   "outputs": [],
   "source": [
    "try:\n",
    "    server = slice.get_node(name=server_name)        \n",
    "    ifaces1 = server.get_interface(network_name=network_service_name1)  \n",
    "    ifaces1.set_ip(ip=server_ip1, cidr=\"24\")\n",
    "    \n",
    "    ifaces2 = server.get_interface(network_name=network_service_name2)  \n",
    "    ifaces2.set_ip(ip=server_ip2, cidr=\"24\")\n",
    "    stdout, stderr = server.execute(f'ip addr show {ifaces1.get_os_interface()}')\n",
    "    print (stdout)\n",
    "    stdout, stderr = server.execute(f'ip addr show {ifaces2.get_os_interface()}')\n",
    "    print (stdout)\n",
    "    \n",
    "    server.execute(\"wget https://github.com/GENI-NSF/geni-tutorials/raw/master/WebServer/webexample.tar.gz\")\n",
    "    server.execute(\"tar xvfz webexample.tar.gz\")\n",
    "    server.execute(\"sudo ./webexample/websrv_init.sh\")\n",
    "    server.execute(\"sudo cp webexample/website/* /var/www/\")\n",
    "    \n",
    "except Exception as e:\n",
    "    print(f\"Error: {e}\")"
   ]
  },
  {
   "cell_type": "markdown",
   "id": "d268fedb-ce54-4bc5-86f9-a3516aa2012e",
   "metadata": {},
   "source": [
    "#### Configure nodes"
   ]
  },
  {
   "cell_type": "code",
   "execution_count": null,
   "id": "a208f382-4396-410e-b845-ceab6cf912c3",
   "metadata": {},
   "outputs": [],
   "source": [
    "try:\n",
    "    node1 = slice.get_node(name=node_1_name)        \n",
    "    ifacen1 = node1.get_interface(network_name=network_service_name1)  \n",
    "    ifacen1.set_ip(ip=node1_ip, cidr=\"24\")\n",
    "    \n",
    "    stdout, stderr = node1.execute(f'ip addr show {ifacen1.get_os_interface()}')\n",
    "    print (stdout)\n",
    "    \n",
    "    node1.execute(\"wget https://github.com/GENI-NSF/geni-tutorials/raw/master/WebServer/webexample.tar.gz\")\n",
    "    node1.execute(\"tar xvfz webexample.tar.gz\")\n",
    "    node1.execute(\"sudo .webexample/webcl_init.sh\")\n",
    "except Exception as e:\n",
    "    print(f\"Error: {e}\")\n",
    "    \n",
    "try:\n",
    "    node2 = slice.get_node(name=node_2_name)        \n",
    "    ifacen2 = node2.get_interface(network_name=network_service_name2)  \n",
    "    ifacen2.set_ip(ip=node2_ip, cidr=\"24\")\n",
    "    \n",
    "    stdout, stderr = node2.execute(f'ip addr show {ifacen2.get_os_interface()}')\n",
    "    print (stdout)\n",
    "    \n",
    "    node2.execute(\"wget https://github.com/GENI-NSF/geni-tutorials/raw/master/WebServer/webexample.tar.gz\")\n",
    "    node2.execute(\"tar xvfz webexample.tar.gz\")\n",
    "    node2.execute(\"sudo .webexample/webcl_init.sh\")\n",
    "except Exception as e:\n",
    "    print(f\"Error: {e}\")"
   ]
  },
  {
   "cell_type": "markdown",
   "id": "00a26233-0f49-45d9-81e7-9d36fd9a4f96",
   "metadata": {},
   "source": [
    "### 1.3 Get the ssh command"
   ]
  },
  {
   "cell_type": "markdown",
   "id": "303ad5de-8cf0-4d8c-b75f-b4c79716c327",
   "metadata": {},
   "source": [
    "Add bastion ssh configuration to .ssh/config if it's not already added."
   ]
  },
  {
   "cell_type": "code",
   "execution_count": null,
   "id": "a41dc5e9-8c9f-4dce-bc07-ee97d1e61266",
   "metadata": {},
   "outputs": [],
   "source": [
    "try:\n",
    "    slice = fablib.get_slice(slice_name)\n",
    "    for node in slice.get_nodes():\n",
    "        print(\"Node:\")\n",
    "        print(f\"   Name              : {node.get_name()}\")\n",
    "        print(f\"   SSH Command       : {node.get_ssh_command()}\")\n",
    "        print()                \n",
    "except Exception as e:\n",
    "    print(f\"Fail: {e}\")"
   ]
  },
  {
   "cell_type": "markdown",
   "id": "0a3d4407-391d-463a-ab31-218ce915b8bc",
   "metadata": {},
   "source": [
    "## 2. Execute the experiment"
   ]
  },
  {
   "cell_type": "markdown",
   "id": "5b39f476-06c1-4e1a-b6c9-58509ae6f015",
   "metadata": {},
   "source": [
    "From here on you will be working directly from the terminal."
   ]
  },
  {
   "cell_type": "markdown",
   "id": "863d2662-85f8-408d-a35e-75a3f50ac55b",
   "metadata": {},
   "source": [
    "### 2.1 Open terminal windows\n",
    "Open a terminal window by clicking the blue \"+\" to open the launcher, selecting \"Terminal,\" and repeating.\n",
    "\n",
    "### 2.2 Start and stop the web server\n",
    "In the original setup of your sliver there a webserver already installed and running on the \"Server\" host. As you implement your own webserver you might need to stop or start the installed webserver.\n",
    "* To Stop the webserver run:\n",
    "```\n",
    "    sudo service apache2 stop\n",
    "```\n",
    "* To Start the webserver run:\n",
    "```\n",
    "    sudo service apache2 start\n",
    "```\n",
    "### 2.3 Command Line Web Transfers\n",
    "Instead of using a web browser, you can also use command line tools for web transfers. To do this, follow these steps:\n",
    "* Log in to Client1\n",
    "* You can download the web page using this command, in this example, the address for the server will be the IP address:\n",
    "```\n",
    "    wget 10.20.30.40\n",
    "```\n",
    "* The above command only downloads the index.html file from the webserver. As we are going to see later a web page may include other web pages or objects such as images, videos etc. In order to force wget to download all dependencies of a page use the following options:\n",
    "```\n",
    "    wget -m -p 10.20.30.40\n",
    "```\n",
    "* This will produce a '10.20.30.40', server, with the following data structure. Run:\n",
    "```\n",
    "    ls 10.20.30.40\n",
    "```\n",
    "### 2.4 Build your own Server\n",
    "* At a high level, a web server listens for connections on a socket (bound to a specific port on a host machine). Clients connect to this socket and use a simple text-based protocol to retrieve files from the server. For example, you might try the following command on Client1:\n",
    "```\n",
    "    % telnet server 80 \n",
    "    GET /index.html HTTP/1.0\n",
    "```\n",
    "(Type two carriage returns after the \"GET\" command). This will return to you (on the command line) the HTML representing the \"front page\" of the web server that is running on the Server host.)\n",
    "\n",
    "In our setup we are using the [Apache web server](https://httpd.apache.org/). The default document root for Apache on a host running Ubuntu is under /var/www.\n",
    "* Login to the Server host and run:\n",
    "```\n",
    "    ls /var/www/\n",
    "```\n",
    "This should give you a similar structure to the directory structure you got when you downloaded the whole site with wget on the previous steps."
   ]
  },
  {
   "cell_type": "markdown",
   "id": "cade6b81-7ed9-4ff0-864c-6d260a078116",
   "metadata": {},
   "source": [
    "## 3. Finish!\n",
    "Delete your slice"
   ]
  },
  {
   "cell_type": "code",
   "execution_count": null,
   "id": "89e1b372-5c4f-4e32-bbcc-508fac34caff",
   "metadata": {},
   "outputs": [],
   "source": [
    "try:\n",
    "    slice = fablib.get_slice(slice_name)\n",
    "    slice.delete()\n",
    "except Exception as e:\n",
    "    print(f\"Fail: {e}\")"
   ]
  }
 ],
 "metadata": {
  "kernelspec": {
   "display_name": "Python 3 (ipykernel)",
   "language": "python",
   "name": "python3"
  },
  "language_info": {
   "codemirror_mode": {
    "name": "ipython",
    "version": 3
   },
   "file_extension": ".py",
   "mimetype": "text/x-python",
   "name": "python",
   "nbconvert_exporter": "python",
   "pygments_lexer": "ipython3",
   "version": "3.9.2"
  }
 },
 "nbformat": 4,
 "nbformat_minor": 5
}

{
 "cells": [
  {
   "cell_type": "markdown",
   "id": "9c47a4bf-4e14-4c82-aeb0-2736d2aff631",
   "metadata": {},
   "source": [
    "# Ping Tutorial\n",
    "<i>Adapted for use with FABRIC from [Layer2Ping](https://groups.geni.net/geni/wiki/Tutorials/Layer2Ping/Procedure)  and [Lab Zero: A First Experiment Using GENI](https://groups.geni.net/geni/wiki/GENIExperimenter/Tutorials/jacks/GettingStarted_PartI/Procedure).\n",
    "    \n",
    "<img src=\"https://groups.geni.net/geni/attachment/wiki/GEC17Agenda/GettingStartedWithGENI_I/Graphics/2vmvlan_overview.png?format=raw\" ><br>\n",
    "In this tutorial you will learn:\n",
    "* How to create a FABRIC slice and connect to nodes using SSH\n",
    "* How to create a Layer 2 connection between nodes\n",
    "    \n",
    "<b> Prerequisites  \n",
    "    \n",
    "You need to have your FABRIC bastion host key pair set up to do this tutorial. If you have not already set this up, follow steps 1-3 at https://learn.fabric-testbed.net/knowledge-base/logging-into-fabric-vms/.\n",
    "  "
   ]
  },
  {
   "cell_type": "markdown",
   "id": "ee7f0a07-256e-449d-bfbe-054d83270fc7",
   "metadata": {},
   "source": [
    "## 1. Design the Experiment\n",
    "In this section, be careful to do the instructions listed with **\"Do this\"**, as well as running the code blocks."
   ]
  },
  {
   "cell_type": "markdown",
   "id": "e3843230-2448-4bce-8ce7-e49e8a629782",
   "metadata": {},
   "source": [
    "### 1.1 Reserve two virtual machines at one aggregate"
   ]
  },
  {
   "cell_type": "markdown",
   "id": "037f2913-8715-4657-8c54-f6e81e7da277",
   "metadata": {},
   "source": [
    "\n",
    "<b>Do this:</b>\n",
    "    Set bastion_username to your username in the block below.\n"
   ]
  },
  {
   "cell_type": "code",
   "execution_count": null,
   "id": "2f9b0404-9158-4625-bb5f-18ca78b0ac00",
   "metadata": {},
   "outputs": [],
   "source": [
    "import os\n",
    "# Bastion IPs\n",
    "os.environ['FABRIC_BASTION_HOST'] = 'bastion-1.fabric-testbed.net'\n",
    "\n",
    "# Set your Bastion username and private key\n",
    "os.environ['FABRIC_BASTION_USERNAME']=<INSERT_YOUR_FABRIC_USERNAME>\n",
    "os.environ['FABRIC_BASTION_KEY_LOCATION']=os.environ['HOME']+<INSERT_YOUR_BASTION_KEY>\n",
    "\n",
    "# Set the keypair FABRIC will install in your slice.\n",
    "os.environ['FABRIC_SLICE_PRIVATE_KEY_FILE']=os.environ['HOME']+'/.ssh/id_rsa'\n",
    "os.environ['FABRIC_SLICE_PUBLIC_KEY_FILE']=os.environ['HOME']+'/.ssh/id_rsa.pub'"
   ]
  },
  {
   "cell_type": "markdown",
   "id": "65d42166-f76d-4e5b-964e-8952a8af8bf1",
   "metadata": {},
   "source": [
    "#### Import the Fabric API"
   ]
  },
  {
   "cell_type": "code",
   "execution_count": null,
   "id": "5f67087e-f813-4e03-9672-76f92b58c1e3",
   "metadata": {},
   "outputs": [],
   "source": [
    "import json\n",
    "import traceback\n",
    "from fabrictestbed_extensions.fablib.fablib import fablib"
   ]
  },
  {
   "cell_type": "markdown",
   "id": "aa43eae9-8282-43b6-b172-14a866656d84",
   "metadata": {},
   "source": [
    "#### Create slice"
   ]
  },
  {
   "cell_type": "code",
   "execution_count": null,
   "id": "b4ad40f6-993a-4d21-8c89-a1c1779dd035",
   "metadata": {},
   "outputs": [],
   "source": [
    "slice_name = 'MyLayer2PingSlice'\n",
    "site = 'MAX'\n",
    "\n",
    "client_name = 'client'\n",
    "server_name = 'server'\n",
    "\n",
    "network_service_name='bridge1'\n",
    "\n",
    "nic1_name = 'client-nic1'\n",
    "nic2_name = 'server-nic1'\n",
    "\n",
    "image = 'default_ubuntu_20'\n",
    "image_type = 'qcow2'\n",
    "cores = 2\n",
    "ram = 8\n",
    "disk = 10"
   ]
  },
  {
   "cell_type": "code",
   "execution_count": null,
   "id": "82f9518c-706b-4c5c-942f-b844773ce4b8",
   "metadata": {},
   "outputs": [],
   "source": [
    "try:\n",
    "    #Create Slice\n",
    "    slice = fablib.new_slice(slice_name)\n",
    "\n",
    "    # Add node\n",
    "    client = slice.add_node(name=client_name, site=site)\n",
    "    client.set_capacities(cores=cores, ram=ram, disk=disk)\n",
    "    client.set_image(image)\n",
    "    iface1 = client.add_component(model='NIC_Basic', name=nic1_name).get_interfaces()[0]\n",
    "    \n",
    "    # Add node\n",
    "    server = slice.add_node(name=server_name, site=site)\n",
    "    server.set_capacities(cores=cores, ram=ram, disk=disk)\n",
    "    server.set_image(image)\n",
    "    iface2 = server.add_component(model='NIC_Basic', name=nic2_name).get_interfaces()[0] \n",
    "    \n",
    "    # Network\n",
    "    net1 = slice.add_l2network(name=network_service_name, interfaces=[iface1, iface2])\n",
    "\n",
    "    #Submit Slice Request\n",
    "    slice.submit(wait_progress=True)\n",
    "except Exception as e:\n",
    "    print(f\"Slice Failed: {e}\")"
   ]
  },
  {
   "cell_type": "markdown",
   "id": "c7e847e6-6e4b-42fb-8aee-1af8821d91aa",
   "metadata": {},
   "source": [
    "#### Get the slice"
   ]
  },
  {
   "cell_type": "code",
   "execution_count": null,
   "id": "697c2b62-0af2-4de4-a988-be3362124995",
   "metadata": {},
   "outputs": [],
   "source": [
    "try:\n",
    "    slice = fablib.get_slice(slice_name)\n",
    "    print(f\"Slice: {slice.get_name()}, {slice.get_state()}\")\n",
    "except Exception as e:\n",
    "    print(f\"Get Slices Fail: {e}\")"
   ]
  },
  {
   "cell_type": "markdown",
   "id": "7e999e45-c813-4b66-969c-57eee4e83317",
   "metadata": {},
   "source": [
    "### 1.2 Configure the Nodes"
   ]
  },
  {
   "cell_type": "markdown",
   "id": "e987ea12-1292-47c4-8961-73b9a797af5c",
   "metadata": {},
   "source": [
    "#### Get the topology"
   ]
  },
  {
   "cell_type": "code",
   "execution_count": null,
   "id": "a34e6700-21e5-4f09-a2d1-fc0b93a0e307",
   "metadata": {},
   "outputs": [],
   "source": [
    "try:\n",
    "    slice = fablib.get_slice(slice_name)\n",
    "    for node in slice.get_nodes():\n",
    "        print(\"Node:\")\n",
    "        print(f\"   Name              : {node.get_name()}\")\n",
    "        print(f\"   Host              : {node.get_host()}\")\n",
    "        print(f\"   Site              : {node.get_site()}\")\n",
    "        print(f\"   Management IP     : {node.get_management_ip()}\")\n",
    "        print(f\"   Reservation ID    : {node.get_reservation_id()}\")\n",
    "        print(f\"   Reservation State : {node.get_reservation_state()}\")\n",
    "        print(f\"   Interfaces        : {node.get_interfaces()}\")\n",
    "        print(f\"   SSH Command       : {node.get_ssh_command()}\")\n",
    "        print()                \n",
    "except Exception as e:\n",
    "    print(f\"Fail: {e}\")"
   ]
  },
  {
   "cell_type": "markdown",
   "id": "acb3ecaf-4320-467a-84a4-0b81c6d9a9a3",
   "metadata": {},
   "source": [
    "#### Choose data interface IP addresses"
   ]
  },
  {
   "cell_type": "code",
   "execution_count": null,
   "id": "949d0883-1a18-4d99-9ef8-f3162f8613d3",
   "metadata": {},
   "outputs": [],
   "source": [
    "client_ip = '10.20.30.40'\n",
    "server_ip = '10.20.30.41'"
   ]
  },
  {
   "cell_type": "markdown",
   "id": "3ef04d79-0f34-4b77-acde-ebbedc19f115",
   "metadata": {},
   "source": [
    "#### Configure client node"
   ]
  },
  {
   "cell_type": "code",
   "execution_count": null,
   "id": "02af5db5-5fd7-4f87-9a35-79e1d0fdf120",
   "metadata": {},
   "outputs": [],
   "source": [
    "try:\n",
    "    client = slice.get_node(name=client_name)        \n",
    "    iface1 = client.get_interface(network_name=network_service_name)  \n",
    "    iface1.set_ip(ip=client_ip, cidr=\"24\")\n",
    "    \n",
    "    stdout, stderr = client.execute(f'ip addr show {iface1.get_os_interface()}')\n",
    "    print (stdout)\n",
    "except Exception as e:\n",
    "    print(f\"Error: {e}\")"
   ]
  },
  {
   "cell_type": "markdown",
   "id": "0d270fc7-4053-4d89-89bf-e2a71bc736df",
   "metadata": {},
   "source": [
    "#### Configure server node"
   ]
  },
  {
   "cell_type": "code",
   "execution_count": null,
   "id": "cdefb69a-a5ce-442c-b86e-dadf9dca1714",
   "metadata": {},
   "outputs": [],
   "source": [
    "try:\n",
    "    server = slice.get_node(name=server_name)        \n",
    "    iface2 = server.get_interface(network_name=network_service_name)  \n",
    "    iface2.set_ip(ip=server_ip, cidr=\"24\")\n",
    "    \n",
    "    stdout, stderr = server.execute(f'ip addr show {iface2.get_os_interface()}')\n",
    "    print (stdout)\n",
    "except Exception as e:\n",
    "    print(f\"Error: {e}\")"
   ]
  },
  {
   "cell_type": "markdown",
   "id": "b5c3daa2-d5c1-4ba3-8861-d036176d6a18",
   "metadata": {},
   "source": [
    "### 1.3 Get the ssh command"
   ]
  },
  {
   "cell_type": "markdown",
   "id": "cca5f8c6-3138-4b3c-b4f8-ee6b96501562",
   "metadata": {},
   "source": [
    "Add bastion ssh configuration to .ssh/config if it's not already added."
   ]
  },
  {
   "cell_type": "code",
   "execution_count": null,
   "id": "20af1cee-5227-40f6-9d72-f48dde4e782a",
   "metadata": {},
   "outputs": [],
   "source": [
    "try:\n",
    "    slice = fablib.get_slice(slice_name)\n",
    "    for node in slice.get_nodes():\n",
    "        print(\"Node:\")\n",
    "        print(f\"   Name              : {node.get_name()}\")\n",
    "        print(f\"   SSH Command       : {node.get_ssh_command()}\")\n",
    "        print()                \n",
    "except Exception as e:\n",
    "    print(f\"Fail: {e}\")"
   ]
  },
  {
   "cell_type": "markdown",
   "id": "8344908c-ad85-4420-9eac-5fe1d6db7945",
   "metadata": {},
   "source": [
    "## 2. Execute the experiment"
   ]
  },
  {
   "cell_type": "markdown",
   "id": "9257e481-142e-49e0-b45a-846e7f74d91d",
   "metadata": {},
   "source": [
    "From here on you will be working directly from the terminal.\n",
    "### 2.1 Open terminal windows\n",
    "Open two terminal windows by clicking the blue \"+\" to open the launcher, selecting \"Terminal,\" and repeating.\n",
    "### 2.2 SSH to nodes\n",
    "Use the ssh commands from the last code block to login to the server in one terminal and the client in the other terminal.\n",
    "### 2.3 Check IP address\n",
    "In each terminal, type `ip addr show`. You should see at least two interfaces:\n",
    "* The control interface. This is the interface you use to access the node, e.g. by ssh. The control interface is mainly used for control traffic (likely something like 10.20.4.18 on ens3).\n",
    " * The data interface. This is the interface that is used for sending experimental traffic and connects to the other nodes of your experiment through FABRIC. The links between these interfaces are the ones that allow you to run non-IP experiments. The data interface is the one that has an IP address and mask that match what you configured before you reserved your resources (10.20.30.40 for the client and 10.20.30.41 for the server, both on ens7).   \n",
    " \n",
    "Write down the ip address and name for the control and data interfaces on each node.  \n",
    "\n",
    "### 2.4 Verify you can connect between nodes\n",
    " We will use ping to do this.  \n",
    "    In the server terminal, type `ping -c 3 10.20.30.40`  \n",
    "    In the client terminal, type `ping -c 3 10.20.30.41`  \n",
    "If the pings succeed you know you have IP connectivity between the two nodes.  \n",
    "\n",
    "### 2.5 Install necessary software\n",
    "Run the below commands on both nodes\n",
    "\n",
    "        sudo apt-get update\n",
    "        sudo apt-get install iperf  \n",
    "        sudo apt-get install gcc\n",
    "        sudo apt-get install make\n",
    "\n",
    "### 2.6 Measure the bandwidth\n",
    "\n",
    "* Start an iperf server on the server node:\n",
    "        iperf -s\n",
    "\n",
    "\n",
    "* Run an iperf client via the data interface:\n",
    "        iperf -c <server data IP addr>  \n",
    "    \n",
    "    \n",
    "    * What is the bandwidth of this link? Why?  \n",
    "\n",
    "* Run an iperf client via the control plane:\n",
    "        iperf -c <server control IP addr>  \n",
    "\n",
    "    * What is the bandwidth of this link? Why?  \n",
    "\n",
    "* Type Ctrl+C on the server node to stop the iperf server. \n",
    "\n",
    "### 2.7 Download and install PingPlus on the server and client nodes\n",
    "We will download and install a program that does Layer 2 pings on the server and client nodes. Do this on both nodes:  \n",
    "\n",
    "``` \n",
    "wget https://github.com/GENI-NSF/geni-tutorials/raw/master/PingPlus/pingPlus-0.2.tar.gz  \n",
    "tar xvfz pingPlus-0.2.tar.gz\n",
    "```\n",
    "``` \n",
    "wget https://github.com/smoser82/geni-tutorials/raw/main/pingPlus-0.2.1.tar.gz\n",
    "tar xvfz pingPlus-0.2.1.tar.gz\n",
    "```\n",
    "You should see a directory called pingPlus-0.2. This directory has the source code for pingPlus.  \n",
    "### 2.8 Compile pingPlus\n",
    "Compile pingPlus on both nodes:\n",
    "\n",
    "```\n",
    "cd pingPlus-0.2  \n",
    "make  \n",
    "```\n",
    "    \n",
    "### 2.9 Turn off IP on the data interface\n",
    "We now turn off IP on the data interface. Be very careful to not turn off IP on any of the other interfaces as this will make your node unreachable.\n",
    "```\n",
    "sudo apt install net-tools\n",
    "sudo /sbin/ifconfig <data_interface_name> 0.0.0.0 \n",
    "```\n",
    "    \n",
    "### 2.10 Run pingPlus \n",
    "\n",
    "In the server terminal, run:\n",
    "\n",
    "`./pingPlusListener 10002`\n",
    "\n",
    "The 10002 is the value we'll use for the type field in the header of the Ethernet frames we send and receive. The above command tells the server to look for Ethernet packets of this type. (In this exercise you can use almost any value for this type field.)\n",
    "\n",
    "In the client terinal, run:\n",
    "\n",
    "`./pingPlus <server_data_interface_hardware_addr> <client_data_interface_name> 10002`\n",
    "\n",
    "This tells the client to send an Ethernet frame with destination address set to the server's data interface MAC address and with the type field set to 10002. This frame will be sent out of the specified interface on the client.\n",
    "\n",
    "The client prints out the contents of the data field of the frame it sent to the server and the contents of the data field in the frame it got back from the server.\n",
    "\n",
    "In the server terminal, kill the pingPlusListener by typing Ctrl+C.\n",
    "    \n",
    "### 2.11 Examine the pingPlus program\n",
    "\n",
    "Open up an editor (vi or emacs) to view pingPlus.c. All the interesting stuff happens starting line 110 of this file:\n",
    "\n",
    "* Open a Layer 2 socket (lines 110 - 115)\n",
    "* Bind the socket to the specified interface (lines 117 - 125)\n",
    "* In a buffer compose the contents of the data portion of the Ethernet frame to be sent to the server. In our case the data portion has the format \"RQ:<randomNumber>+<randomNumber>\" (line 134)\n",
    "* Send the packet. The send is successful if the return from sendPacket matches the number of bytes sent. The sendPacket function is implemented in the file packetFunctions.c in this directory. This function sets the appropriate header fields in the ethernet frame before sending it.\n",
    "* Wait for the server to respond (line 145). The receivePacket function is implemented in file packetFunctions.c. \n",
    "\n",
    "### 2.12 Modify pingPlus to measure round-trip delays\n",
    "\n",
    "You should by now have a feel for how Layer 2 sockets work. You can now modify ping2Plus to measure round-trip delays similar to the Layer 3 ping. You will want to:\n",
    "\n",
    "* get the current time before you send the packet using\n",
    "* get the current time when you get a response from the server. \n",
    "\n",
    "### 2.13 (Optional) Get a solution to the exercise\n",
    "\n",
    "To see a solution to this exercise, create a new directory and dowload the solution to that directory:\n",
    "\n",
    "```\n",
    "cd \n",
    "wget https://github.com/GENI-NSF/geni-tutorials/raw/master/PingPlus/pingPlus_v3.tar.gz         \n",
    "tar xvfz pingPlus_v3.tar.gz\n",
    "cd pingPlus_v3\n",
    "```\n",
    "\n",
    "The file pingPlus.c in this directory will have the solution. The statements that do the timing measurement are around lines 151 and 175.\n"
   ]
  },
  {
   "cell_type": "markdown",
   "id": "566ac028-2d95-403c-861c-9cad63e7e148",
   "metadata": {},
   "source": [
    "## 3. Finish!"
   ]
  },
  {
   "cell_type": "markdown",
   "id": "51cd4d9f-dad4-4e53-8737-828048684fa8",
   "metadata": {},
   "source": [
    "Delete your slice"
   ]
  },
  {
   "cell_type": "code",
   "execution_count": null,
   "id": "c8cc6a73-b1d0-463b-a77b-2324ea4298c5",
   "metadata": {},
   "outputs": [],
   "source": [
    "try:\n",
    "    slice = fablib.get_slice(slice_name)\n",
    "    slice.delete()\n",
    "except Exception as e:\n",
    "    print(f\"Fail: {e}\")"
   ]
  }
 ],
 "metadata": {
  "kernelspec": {
   "display_name": "Python 3 (ipykernel)",
   "language": "python",
   "name": "python3"
  },
  "language_info": {
   "codemirror_mode": {
    "name": "ipython",
    "version": 3
   },
   "file_extension": ".py",
   "mimetype": "text/x-python",
   "name": "python",
   "nbconvert_exporter": "python",
   "pygments_lexer": "ipython3",
   "version": "3.9.2"
  }
 },
 "nbformat": 4,
 "nbformat_minor": 5
}

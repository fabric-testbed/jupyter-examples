{
 "cells": [
  {
   "cell_type": "markdown",
   "id": "cc4488c2-e9d4-46ad-8e31-6d481cbdbe7e",
   "metadata": {},
   "source": [
    "# Test Notebook to play with and learn the API"
   ]
  },
  {
   "cell_type": "code",
   "execution_count": 1,
   "id": "ffa5192b-b745-477b-8656-d7da6c734058",
   "metadata": {},
   "outputs": [
    {
     "name": "stdout",
     "output_type": "stream",
     "text": [
      "no stored variable or alias fabric_refresh_token\n",
      "Stored 'fabric_refresh_token' (str)\n",
      "Refresh Token: NB2HI4DTHIXS6Y3JNRXWO33OFZXXEZZPN5QXK5DIGIXTKOLEMM3DIYZWGQZWGNDEHBRTKMLFMM4DKNBRMY4TOMZXGQYTSNZ7OR4XAZJ5OJSWM4TFONUFI33LMVXCM5DTHUYTMMRSGM3TINBRHAYDQMBGOZSXE43JN5XD25RSFYYCM3DJMZSXI2LNMU6TQNRUGAYDAMBQ\n",
      "Refresh Token Issued at 2021-05-30 15:37:21.856739\n",
      "NB2HI4DTHIXS6Y3JNRXWO33OFZXXEZZPN5QXK5DIGIXTKOLEMM3DIYZWGQZWGNDEHBRTKMLFMM4DKNBRMY4TOMZXGQYTSNZ7OR4XAZJ5OJSWM4TFONUFI33LMVXCM5DTHUYTMMRSGM3TINBRHAYDQMBGOZSXE43JN5XD25RSFYYCM3DJMZSXI2LNMU6TQNRUGAYDAMBQ\n"
     ]
    }
   ],
   "source": [
    "import os\n",
    "from datetime import datetime\n",
    "\n",
    "fabric_refresh_token = None\n",
    "%store -r fabric_refresh_token\n",
    "if fabric_refresh_token is None:\n",
    "    fabric_refresh_token=os.environ['CILOGON_REFRESH_TOKEN']\n",
    "    %store fabric_refresh_token\n",
    "    \n",
    "print(\"Refresh Token: {}\".format(fabric_refresh_token))\n",
    "now = datetime.now()\n",
    "print(\"Refresh Token Issued at {}\".format(now))\n",
    "print(os.environ['CILOGON_REFRESH_TOKEN'])"
   ]
  },
  {
   "cell_type": "code",
   "execution_count": 2,
   "id": "29af251e-42ca-418d-9858-a9ca8935cb05",
   "metadata": {},
   "outputs": [
    {
     "name": "stdout",
     "output_type": "stream",
     "text": [
      "CM Host: beta-2.fabric-testbed.net Orchestrator Host: beta-7.fabric-testbed.net\n"
     ]
    }
   ],
   "source": [
    "import os\n",
    "import json\n",
    "\n",
    "from fabrictestbed.slice_manager import SliceManager, Status\n",
    "\n",
    "credmgr_host = os.environ['FABRIC_CREDMGR_HOST']\n",
    "orchestrator_host = os.environ['FABRIC_ORCHESTRATOR_HOST']\n",
    "print(f\"CM Host: {credmgr_host} Orchestrator Host: {orchestrator_host}\")\n",
    "      \n",
    "# Create Slice Manager\n",
    "slice_manager = SliceManager(oc_host=orchestrator_host, cm_host=credmgr_host, \n",
    "                             refresh_token=fabric_refresh_token, project_name='all', scope='all')\n",
    "\n",
    "#Configure SSH Key\n",
    "ssh_key = None\n",
    "with open (\"/home/fabric/.ssh/id_rsa.pub\", \"r\") as myfile:\n",
    "    ssh_key=myfile.read().strip()\n",
    "    \n",
    "#print(ssh_key)"
   ]
  },
  {
   "cell_type": "code",
   "execution_count": 5,
   "id": "b0b8d197-7cdc-4f27-91dc-9368e80fb3a0",
   "metadata": {},
   "outputs": [
    {
     "name": "stdout",
     "output_type": "stream",
     "text": [
      "\n",
      "New Refresh Token: NB2HI4DTHIXS6Y3JNRXWO33OFZXXEZZPN5QXK5DIGIXTGZTEGY3DAYRQGI2DKOBYGU2DEOBSMYYTKYRSGIYTAZRQHAZTINB7OR4XAZJ5OJSWM4TFONUFI33LMVXCM5DTHUYTMMRSGM4TIMBQGY2DENRGOZSXE43JN5XD25RSFYYCM3DJMZSXI2LNMU6TQNRUGAYDAMBQ\n",
      "New ID Token: eyJ0eXAiOiJKV1QiLCJhbGciOiJSUzI1NiIsImtpZCI6ImI0MTUxNjcyMTExOTFlMmUwNWIyMmI1NGIxZDNiNzY2N2U3NjRhNzQ3NzIyMTg1ZTcyMmU1MmUxNDZmZTQzYWEifQ.eyJlbWFpbCI6ImxvY2tlakBidS5lZHUiLCJjZXJ0X3N1YmplY3RfZG4iOiIvREM9b3JnL0RDPWNpbG9nb24vQz1VUy9PPUJvc3RvbiBVbml2ZXJzaXR5L0NOPUpvc2VwaCBSeWFuIExvY2tlIEI0NjEzMTg5NyIsImlkcCI6Imh0dHBzOi8vc2hpYi5idS5lZHUvaWRwL3NoaWJib2xldGgiLCJpZHBfbmFtZSI6IkJvc3RvbiBVbml2ZXJzaXR5IiwiZXBwbiI6ImxvY2tlakBidS5lZHUiLCJlcHRpZCI6Imh0dHBzOi8vc2hpYi5idS5lZHUvaWRwL3NoaWJib2xldGghaHR0cHM6Ly9jaWxvZ29uLm9yZy9zaGliYm9sZXRoITh0QSszdTRNYitoMGNMbEV0a1JIVXNUOHBYQT0iLCJhZmZpbGlhdGlvbiI6InN0dWRlbnRAYnUuZWR1O21lbWJlckBidS5lZHUiLCJuYW1lIjoiSm9zZXBoIFJ5YW4gTG9ja2UiLCJhY3IiOiJodHRwczovL3NoaWIuYnUuZWR1L3NpbmdsZSIsImVudGl0bGVtZW50IjoiaHR0cDovL2lhbS5idS5lZHUvcmVnL2NvbGxlZ2UvcGRwO2h0dHA6Ly9pYW0uYnUuZWR1L3JlZy9jb2xsZWdlL2VuZztodHRwOi8vaWFtLmJ1LmVkdS9pZGluZm8vNTAiLCJpc3MiOiJodHRwczovL2NpbG9nb24ub3JnIiwic3ViIjoiaHR0cDovL2NpbG9nb24ub3JnL3NlcnZlckIvdXNlcnMvNDYxMzE4OTciLCJhdWQiOiJjaWxvZ29uOi9jbGllbnRfaWQvMWYxMWY4MjllYzFmNGYyMjMzNThmNDNiMmM2MDdiODQiLCJ0b2tlbl9pZCI6Imh0dHBzOi8vY2lsb2dvbi5vcmcvb2F1dGgyL2lkVG9rZW4vMTllN2EyMjE1YjM1MjI3ODhmYjhiYjM3YTRhNWRiMjgvMTYyMjM3NDQxNzg0NCIsImF1dGhfdGltZSI6MTYyMjM3NDQwMywiZXhwIjoxNjIyMzk3NjM4LCJpYXQiOjE2MjIzOTQwMzgsInByb2plY3RzIjp7IlN0dWRlbnQgVGVzdGluZyI6WyJzdHVkZW50cyIsInRlc3RpbmciXX0sInJvbGVzIjpbImZhYnJpYy1hY3RpdmUtdXNlcnMiLCJlM2Q1ZDM3Mi03YjMwLTQ2YTUtOWI1OS0zOWExZWM0MDY2MGUtcG0iXSwic2NvcGUiOiJhbGwifQ.doAD8sawpGwuLxo1-C-kw5M_yaSISr-RciAoEIIBegUeLHxMNV8JTivbOO_A7wmai8W4jByk9A4kOvMHuG2cFEM3kKYexcZKIF2owkO8ALPfFPXhU7bw7UWP0gSjJfS3rELCgIvgMW5zcA26K1oc7ZuKZpEN4h0LqMmLr4ZlW55pBz2zJrdaN14kOYF74PQZ6IgRklPKhbYaBiAW1_xKS2Oi00T11fo-zWdtrnXnZcbTqGUw_YQNAk6P9xCm-BYCOOr5chWnfa-6LK_LnV9ykvhnDQeVBTNPECPueEGMc2zNX9HPqvYS2I8BmxhFCJaxe7GtQBquuMvcRWVng3GZ32Rse8O5Fft2XNq8_j07JibnR8bIuifjIkmx6dRAVvRWWqgBSDJlvm4mDtCXneP3M-iHTDNDrsg3ALFrLm2zupDMJxtKsjkC4r-yDh__VsSRW5WPVizm6WemCJokGZaHro56esLFIgbrkottn_l-aL-2u1U9npuAOe625G5twVmq1R1074Yk0oNcDFgF_61AVEsAZKQq6KpQ8hM61s12lINaLSnoDaMJA2wduIlyKcZgMy3e4PF7dSVwEpjKQc4eC3DkEd7yXYoN8-GtWLLzz4WSc_JPpcqtMLixoWiziL-D_PfiZ1U_QELQ9v12ypfcP-R35brBK8Bu7JPTVo2GkB4\n",
      "\n",
      "Stored new Refresh Token\n",
      "Stored 'fabric_refresh_token' (str)\n",
      "\n"
     ]
    }
   ],
   "source": [
    "try:\n",
    "    id_token, refresh_token = slice_manager.refresh_tokens()\n",
    "except Exception as e:\n",
    "    print(\"Exception occured while getting tokens:{}\".format(e))\n",
    "    \n",
    "fabric_refresh_token=slice_manager.get_refresh_token()\n",
    "fabric_id_token=slice_manager.get_id_token()\n",
    "\n",
    "print()\n",
    "print(\"New Refresh Token: {}\".format(fabric_refresh_token))\n",
    "print(\"New ID Token: {}\".format(fabric_id_token))\n",
    "print()\n",
    "print(\"Stored new Refresh Token\")\n",
    "%store fabric_refresh_token\n",
    "print()\n"
   ]
  },
  {
   "cell_type": "code",
   "execution_count": 15,
   "id": "602e4400-6f44-4f63-aa94-1480bf13acb5",
   "metadata": {},
   "outputs": [
    {
     "name": "stdout",
     "output_type": "stream",
     "text": [
      "Status: Status.FAILURE\n",
      "Topology: (504)\n",
      "Reason: Gateway Time-out\n",
      "HTTP response headers: HTTPHeaderDict({'Server': 'nginx/1.19.8', 'Date': 'Sun, 30 May 2021 17:35:33 GMT', 'Content-Type': 'text/html', 'Content-Length': '167', 'Connection': 'keep-alive'})\n",
      "HTTP response body: <html>\n",
      "<head><title>504 Gateway Time-out</title></head>\n",
      "<body>\n",
      "<center><h1>504 Gateway Time-out</h1></center>\n",
      "<hr><center>nginx/1.19.8</center>\n",
      "</body>\n",
      "</html>\n",
      "\n",
      "\n"
     ]
    }
   ],
   "source": [
    "status, advertised_topology = slice_manager.resources()\n",
    "\n",
    "print(f\"Status: {status}\")\n",
    "print(f\"Topology: {advertised_topology}\")\n",
    "#advertised_topology.draw()"
   ]
  },
  {
   "cell_type": "markdown",
   "id": "225fa8cd-2a1b-4127-9298-094c094b8803",
   "metadata": {},
   "source": [
    "### Slice Request"
   ]
  },
  {
   "cell_type": "code",
   "execution_count": 13,
   "id": "abfbb25d-2f9f-4bc9-8010-70b41250dd99",
   "metadata": {},
   "outputs": [
    {
     "data": {
      "image/png": "[encoded data removed]",
      "text/plain": [
       "<Figure size 432x288 with 1 Axes>"
      ]
     },
     "metadata": {},
     "output_type": "display_data"
    }
   ],
   "source": [
    "from fabrictestbed.slice_editor import ExperimentTopology, Capacities, ComponentType, LinkType, Layer\n",
    "\n",
    "experiment = ExperimentTopology()\n",
    "\n",
    "slice_name=\"JacksTestSlice2\"\n",
    "\n",
    "node1 = experiment.add_node(name='RENC', site='RENC')\n",
    "\n",
    "node1_capacity = Capacities()\n",
    "node1_capacity.set_fields(core=2, ram=32, disk=256)\n",
    "node1.set_properties(capacities=node1_capacity, image_type='qcow2', image_ref='default_ubuntu_20')\n",
    "\n",
    "node1_nvme = node1.add_component(ctype=ComponentType.NVME, model='P4510', name='n1_nvme')\n",
    "node1_gpu = node1.add_component(ctype=ComponentType.GPU, model='Tesla T4', name='n1_gpu')\n",
    "node1_nic = node1.add_component(ctype=ComponentType.SharedNIC, model='ConnectX-6', name='n1_nic')\n",
    "\n",
    "node2 = experiment.add_node(name='LBNL', site='LBNL')\n",
    "\n",
    "node2_capacity = Capacities()\n",
    "node2_capacity.set_fields(core=2, ram=16, disk=256)\n",
    "node2.set_properties(capacities=node2_capacity, image_type='qcow2', image_ref='default_ubuntu_20')\n",
    "\n",
    "node2_nvme = node2.add_component(ctype=ComponentType.NVME, model='P4510', name='n2_nvme')\n",
    "node2_gpu = node2.add_component(ctype=ComponentType.GPU, model='Tesla T4', name='n2_gpu')\n",
    "node2_nic = node2.add_component(ctype=ComponentType.SharedNIC, model='ConnectX-6', name='n2_nic')\n",
    "\n",
    "experiment.draw()"
   ]
  },
  {
   "cell_type": "code",
   "execution_count": 14,
   "id": "b41b3056-8193-422f-8f31-4d6c60b27daf",
   "metadata": {},
   "outputs": [
    {
     "name": "stdout",
     "output_type": "stream",
     "text": [
      "Request Status.FAILURE\n"
     ]
    },
    {
     "ename": "TypeError",
     "evalue": "'ApiException' object is not subscriptable",
     "output_type": "error",
     "traceback": [
      "\u001b[0;31m---------------------------------------------------------------------------\u001b[0m",
      "\u001b[0;31mTypeError\u001b[0m                                 Traceback (most recent call last)",
      "\u001b[0;32m<ipython-input-14-958a024d87c4>\u001b[0m in \u001b[0;36m<module>\u001b[0;34m\u001b[0m\n\u001b[1;32m      5\u001b[0m \u001b[0;31m#print(reservations)\u001b[0m\u001b[0;34m\u001b[0m\u001b[0;34m\u001b[0m\u001b[0;34m\u001b[0m\u001b[0m\n\u001b[1;32m      6\u001b[0m \u001b[0mprint\u001b[0m\u001b[0;34m(\u001b[0m\u001b[0;34m\"Request {}\"\u001b[0m\u001b[0;34m.\u001b[0m\u001b[0mformat\u001b[0m\u001b[0;34m(\u001b[0m\u001b[0mstatus\u001b[0m\u001b[0;34m)\u001b[0m\u001b[0;34m)\u001b[0m\u001b[0;34m\u001b[0m\u001b[0;34m\u001b[0m\u001b[0m\n\u001b[0;32m----> 7\u001b[0;31m \u001b[0mslice_id\u001b[0m\u001b[0;34m=\u001b[0m\u001b[0mreservations\u001b[0m\u001b[0;34m[\u001b[0m\u001b[0;36m0\u001b[0m\u001b[0;34m]\u001b[0m\u001b[0;34m.\u001b[0m\u001b[0mslice_id\u001b[0m\u001b[0;34m\u001b[0m\u001b[0;34m\u001b[0m\u001b[0m\n\u001b[0m\u001b[1;32m      8\u001b[0m \u001b[0;34m\u001b[0m\u001b[0m\n\u001b[1;32m      9\u001b[0m \u001b[0mprint\u001b[0m\u001b[0;34m(\u001b[0m\u001b[0;34m\"Reservations: {}\"\u001b[0m\u001b[0;34m.\u001b[0m\u001b[0mformat\u001b[0m\u001b[0;34m(\u001b[0m\u001b[0mreservations\u001b[0m\u001b[0;34m)\u001b[0m\u001b[0;34m)\u001b[0m\u001b[0;34m\u001b[0m\u001b[0;34m\u001b[0m\u001b[0m\n",
      "\u001b[0;31mTypeError\u001b[0m: 'ApiException' object is not subscriptable"
     ]
    }
   ],
   "source": [
    "slice_graph = experiment.serialize()\n",
    "\n",
    "status, reservations = slice_manager.create(slice_name=slice_name, slice_graph=slice_graph, ssh_key=ssh_key)\n",
    "#print(status)\n",
    "#print(reservations)\n",
    "print(\"Request {}\".format(status))\n",
    "slice_id=reservations[0].slice_id\n",
    "\n",
    "print(\"Reservations: {}\".format(reservations))\n",
    "print(\"Slice ID: {}\".format(slice_id))"
   ]
  },
  {
   "cell_type": "code",
   "execution_count": null,
   "id": "64f18612-4242-43a1-aefc-2159a62ef20d",
   "metadata": {},
   "outputs": [],
   "source": [
    "import time\n",
    "\n",
    "slice_state=None\n",
    "while slice_state != 'StableOK':\n",
    "    status, slice_status = slice_manager.slice_status(slice_id=slice_id)\n",
    "    slice_state = slice_status.slice_state\n",
    "    print(\"Response Status {}\".format(status))\n",
    "    print(\"Slice State: {}\".format(slices[0].slice_state))\n",
    "    time.sleep(20)\n",
    "    \n",
    "print(\"Response Status {}\".format(status))\n",
    "print(\"Slice Status {}\".format(slice_status))"
   ]
  },
  {
   "cell_type": "code",
   "execution_count": null,
   "id": "514db269-8ce1-485f-b7a9-b82c59d99b97",
   "metadata": {},
   "outputs": [],
   "source": [
    "status, slivers = slice_manager.slivers(slice_id=slice_id)\n",
    "\n",
    "print(\"Response Status {}\".format(status))\n",
    "print(\"Slivers {}\".format(reservations))"
   ]
  },
  {
   "cell_type": "code",
   "execution_count": null,
   "id": "a38c11da-51cb-4a40-b3a8-0d9d7220af3c",
   "metadata": {},
   "outputs": [],
   "source": [
    "status, result = slice_manager.delete(slice_id=slice_id)\n",
    "\n",
    "print(\"Response Status {}\".format(status))\n",
    "print(\"Response received {}\".format(result))"
   ]
  },
  {
   "cell_type": "code",
   "execution_count": null,
   "id": "e249c9f2-774d-4c90-a993-ab41b2933368",
   "metadata": {},
   "outputs": [],
   "source": []
  }
 ],
 "metadata": {
  "kernelspec": {
   "display_name": "Python 3",
   "language": "python",
   "name": "python3"
  },
  "language_info": {
   "codemirror_mode": {
    "name": "ipython",
    "version": 3
   },
   "file_extension": ".py",
   "mimetype": "text/x-python",
   "name": "python",
   "nbconvert_exporter": "python",
   "pygments_lexer": "ipython3",
   "version": "3.8.8"
  }
 },
 "nbformat": 4,
 "nbformat_minor": 5
}

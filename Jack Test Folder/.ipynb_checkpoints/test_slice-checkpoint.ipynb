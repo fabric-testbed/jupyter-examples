{
 "cells": [
  {
   "cell_type": "raw",
   "id": "fb0457b4-192a-4114-961d-12189093dc54",
   "metadata": {},
   "source": [
    "# Test Notebook to play with and learn the API"
   ]
  },
  {
   "cell_type": "code",
   "execution_count": 19,
   "id": "ffa5192b-b745-477b-8656-d7da6c734058",
   "metadata": {},
   "outputs": [
    {
     "name": "stdout",
     "output_type": "stream",
     "text": [
      "Refresh Token: NB2HI4DTHIXS6Y3JNRXWO33OFZXXEZZPN5QXK5DIGIXTGYJQMY3DMZTFGYYTMZJWHFRTMYTBGE4TENTGMRQTKZLDMEYTSNB7OR4XAZJ5OJSWM4TFONUFI33LMVXCM5DTHUYTMMRSGIYTCOBXGMYDCNJGOZSXE43JN5XD25RSFYYCM3DJMZSXI2LNMU6TQNRUGAYDAMBQ\n",
      "Refresh Token Issued at 2021-05-28 15:10:21.036352\n"
     ]
    }
   ],
   "source": [
    "import os\n",
    "from datetime import datetime\n",
    "\n",
    "fabric_refresh_token = None\n",
    "%store -r fabric_refresh_token\n",
    "if fabric_refresh_token is None:\n",
    "    fabric_refresh_token=os.environ['CILOGON_REFRESH_TOKEN']\n",
    "    %store fabric_refresh_token\n",
    "    \n",
    "print(\"Refresh Token: {}\".format(fabric_refresh_token))\n",
    "now = datetime.now()\n",
    "#refresh_time = \n",
    "print(\"Refresh Token Issued at {}\".format(now))"
   ]
  },
  {
   "cell_type": "code",
   "execution_count": 26,
   "id": "29af251e-42ca-418d-9858-a9ca8935cb05",
   "metadata": {},
   "outputs": [
    {
     "name": "stdout",
     "output_type": "stream",
     "text": [
      "CM Host: beta-2.fabric-testbed.net Orchestrator Host: beta-7.fabric-testbed.net\n",
      "ssh-rsa AAAAB3NzaC1yc2EAAAADAQABAAABAQC4pRBdorJBqr9l2SRjFpQMfCJghyk7K14gEHh8o0uptUMQzuQHSCAz7XPWUkZ/T5oJFRg+fVZ4rCxAMM9QPCGjyMTpB3+fVKbWzFKRyN5Ab92OpmNvnjA9AoYEpZ3TsXfrvuSZl9zZOkCLLp81js76lp8M3/ZMLVPtp7T0tIc/9iaMR9jEQa5D3ctnlDNjgoZqby1vflOzh0kOZGC9r1jH2Z+VBGoaJB6mbBklfe4I9XZVZQxVvTIVPCqvUt4hpDNgH8WR3D7hPWWOFvBuVFkFtJ2gSwEKPnZsnzCZGLvIImqpEIOD6T86ejgJhCs4ikNzr7ddK1Far5/pwhT9Ze0h fabric@761249932ef5\n"
     ]
    }
   ],
   "source": [
    "import os\n",
    "import json\n",
    "\n",
    "from fabrictestbed.slice_manager import SliceManager, Status\n",
    "\n",
    "credmgr_host = os.environ['FABRIC_CREDMGR_HOST']\n",
    "orchestrator_host = os.environ['FABRIC_ORCHESTRATOR_HOST']\n",
    "print(f\"CM Host: {credmgr_host} Orchestrator Host: {orchestrator_host}\")\n",
    "      \n",
    "# Create Slice Manger\n",
    "# Create Slice Manager\n",
    "slice_manager = SliceManager(oc_host=orchestrator_host, cm_host=credmgr_host, \n",
    "                             refresh_token=fabric_refresh_token, project_name='all', scope='all')\n",
    "\n",
    "#Configure SSH Key\n",
    "ssh_key = None\n",
    "with open (\"/home/fabric/.ssh/id_rsa.pub\", \"r\") as myfile:\n",
    "    ssh_key=myfile.read().strip()\n",
    "    \n",
    "print(ssh_key)"
   ]
  },
  {
   "cell_type": "code",
   "execution_count": 84,
   "id": "b0b8d197-7cdc-4f27-91dc-9368e80fb3a0",
   "metadata": {},
   "outputs": [
    {
     "name": "stdout",
     "output_type": "stream",
     "text": [
      "\n",
      "New Refresh Token: NB2HI4DTHIXS6Y3JNRXWO33OFZXXEZZPN5QXK5DIGIXTGNJWGE2DOYTEMFRTQYLGHFSTAODCGRSWKNZRHFSWKYJUME2DGOB7OR4XAZJ5OJSWM4TFONUFI33LMVXCM5DTHUYTMMRSGIZTMMZVGEZTIMJGOZSXE43JN5XD25RSFYYCM3DJMZSXI2LNMU6TQNRUGAYDAMBQ\n",
      "\n",
      "Stored new Refresh Token\n",
      "Stored 'fabric_refresh_token' (str)\n",
      "\n"
     ]
    }
   ],
   "source": [
    "try:\n",
    "    id_token, refresh_token = slice_manager.refresh_tokens()\n",
    "except Exception as e:\n",
    "    print(\"Exception occured while getting tokens:{}\".format(e))\n",
    "    \n",
    "fabric_refresh_token=slice_manager.get_refresh_token()\n",
    "print()\n",
    "print(\"New Refresh Token: {}\".format(fabric_refresh_token))\n",
    "print()\n",
    "print(\"Stored new Refresh Token\")\n",
    "%store fabric_refresh_token\n",
    "print()\n"
   ]
  },
  {
   "cell_type": "code",
   "execution_count": null,
   "id": "602e4400-6f44-4f63-aa94-1480bf13acb5",
   "metadata": {},
   "outputs": [],
   "source": [
    "status, advertised_topology = slice_manager.resources()\n",
    "\n",
    "print(f\"Status: {status}\")\n",
    "print(f\"Topology: {advertised_topology}\")\n",
    "advertised_topology.draw()"
   ]
  },
  {
   "cell_type": "markdown",
   "id": "225fa8cd-2a1b-4127-9298-094c094b8803",
   "metadata": {},
   "source": [
    "### Slice Request"
   ]
  },
  {
   "cell_type": "code",
   "execution_count": 85,
   "id": "abfbb25d-2f9f-4bc9-8010-70b41250dd99",
   "metadata": {},
   "outputs": [
    {
     "data": {
      "image/png": "[encoded data removed]",
      "text/plain": [
       "<Figure size 432x288 with 1 Axes>"
      ]
     },
     "metadata": {},
     "output_type": "display_data"
    }
   ],
   "source": [
    "from fabrictestbed.slice_editor import ExperimentTopology, Capacities, ComponentType, LinkType, Layer\n",
    "\n",
    "experiment = ExperimentTopology()\n",
    "\n",
    "slice_name=\"JacksTestSlice2\"\n",
    "\n",
    "node1 = experiment.add_node(name='RENC', site='RENC')\n",
    "\n",
    "node1_capacity = Capacities()\n",
    "node1_capacity.set_fields(core=2, ram=32, disk=256)\n",
    "node1.set_properties(capacities=node1_capacity, image_type='qcow2', image_ref='default_ubuntu_20')\n",
    "\n",
    "node1_nvme = node1.add_component(ctype=ComponentType.NVME, model='P4510', name='n1_nvme')\n",
    "node1_gpu = node1.add_component(ctype=ComponentType.GPU, model='Tesla T4', name='n1_gpu')\n",
    "node1_nic = node1.add_component(ctype=ComponentType.SharedNIC, model='ConnectX-6', name='n1_nic')\n",
    "\n",
    "experiment.draw()\n"
   ]
  },
  {
   "cell_type": "code",
   "execution_count": 64,
   "id": "b41b3056-8193-422f-8f31-4d6c60b27daf",
   "metadata": {},
   "outputs": [
    {
     "name": "stdout",
     "output_type": "stream",
     "text": [
      "Request Status.OK\n",
      "Reservations: [{\n",
      "    \"graph_node_id\": \"5e384f1b-68da-4482-b5be-c6c89eb3a527\",\n",
      "    \"join_state\": \"None_\",\n",
      "    \"lease_end\": \"2021-05-29 17:51:23\",\n",
      "    \"reservation_id\": \"5cc30515-fb92-47c8-8efc-cda5bb330b14\",\n",
      "    \"reservation_state\": \"Unknown\",\n",
      "    \"resource_type\": \"VM\",\n",
      "    \"slice_id\": \"afc52ca7-16c8-4287-a133-6f28b9386343\"\n",
      "}]\n",
      "Slice ID: afc52ca7-16c8-4287-a133-6f28b9386343\n"
     ]
    }
   ],
   "source": [
    "slice_graph = experiment.serialize()\n",
    "\n",
    "status, reservations = slice_manager.create(slice_name=slice_name, slice_graph=slice_graph, ssh_key=ssh_key)\n",
    "#print(status)\n",
    "#print(reservations)\n",
    "print(\"Request {}\".format(status))\n",
    "slice_id=reservations[0].slice_id\n",
    "\n",
    "print(\"Reservations: {}\".format(reservations))\n",
    "print(\"Slice ID: {}\".format(slice_id))"
   ]
  },
  {
   "cell_type": "code",
   "execution_count": 71,
   "id": "64f18612-4242-43a1-aefc-2159a62ef20d",
   "metadata": {},
   "outputs": [
    {
     "name": "stdout",
     "output_type": "stream",
     "text": [
      "Response Status Status.OK\n"
     ]
    },
    {
     "ename": "NameError",
     "evalue": "name 'slices' is not defined",
     "output_type": "error",
     "traceback": [
      "\u001b[0;31m---------------------------------------------------------------------------\u001b[0m",
      "\u001b[0;31mNameError\u001b[0m                                 Traceback (most recent call last)",
      "\u001b[0;32m<ipython-input-71-18eafb5f7aa3>\u001b[0m in \u001b[0;36m<module>\u001b[0;34m\u001b[0m\n\u001b[1;32m      6\u001b[0m     \u001b[0mslice_state\u001b[0m \u001b[0;34m=\u001b[0m \u001b[0mslice_status\u001b[0m\u001b[0;34m.\u001b[0m\u001b[0mslice_state\u001b[0m\u001b[0;34m\u001b[0m\u001b[0;34m\u001b[0m\u001b[0m\n\u001b[1;32m      7\u001b[0m     \u001b[0mprint\u001b[0m\u001b[0;34m(\u001b[0m\u001b[0;34m\"Response Status {}\"\u001b[0m\u001b[0;34m.\u001b[0m\u001b[0mformat\u001b[0m\u001b[0;34m(\u001b[0m\u001b[0mstatus\u001b[0m\u001b[0;34m)\u001b[0m\u001b[0;34m)\u001b[0m\u001b[0;34m\u001b[0m\u001b[0;34m\u001b[0m\u001b[0m\n\u001b[0;32m----> 8\u001b[0;31m     \u001b[0mprint\u001b[0m\u001b[0;34m(\u001b[0m\u001b[0;34m\"Slice State: {}\"\u001b[0m\u001b[0;34m.\u001b[0m\u001b[0mformat\u001b[0m\u001b[0;34m(\u001b[0m\u001b[0mslices\u001b[0m\u001b[0;34m[\u001b[0m\u001b[0;36m0\u001b[0m\u001b[0;34m]\u001b[0m\u001b[0;34m.\u001b[0m\u001b[0mslice_state\u001b[0m\u001b[0;34m)\u001b[0m\u001b[0;34m)\u001b[0m\u001b[0;34m\u001b[0m\u001b[0;34m\u001b[0m\u001b[0m\n\u001b[0m\u001b[1;32m      9\u001b[0m     \u001b[0mtime\u001b[0m\u001b[0;34m.\u001b[0m\u001b[0msleep\u001b[0m\u001b[0;34m(\u001b[0m\u001b[0;36m20\u001b[0m\u001b[0;34m)\u001b[0m\u001b[0;34m\u001b[0m\u001b[0;34m\u001b[0m\u001b[0m\n\u001b[1;32m     10\u001b[0m \u001b[0;34m\u001b[0m\u001b[0m\n",
      "\u001b[0;31mNameError\u001b[0m: name 'slices' is not defined"
     ]
    }
   ],
   "source": [
    "import time\n",
    "\n",
    "slice_state=None\n",
    "while slice_state != 'StableOK':\n",
    "    status, slice_status = slice_manager.slice_status(slice_id=slice_id)\n",
    "    slice_state = slice_status.slice_state\n",
    "    print(\"Response Status {}\".format(status))\n",
    "    print(\"Slice State: {}\".format(slices[0].slice_state))\n",
    "    time.sleep(20)\n",
    "    \n",
    "print(\"Response Status {}\".format(status))\n",
    "print(\"Slice Status {}\".format(slice_status))"
   ]
  },
  {
   "cell_type": "code",
   "execution_count": 72,
   "id": "514db269-8ce1-485f-b7a9-b82c59d99b97",
   "metadata": {},
   "outputs": [
    {
     "name": "stdout",
     "output_type": "stream",
     "text": [
      "Response Status Status.FAILURE\n",
      "Slivers [{\n",
      "    \"graph_node_id\": \"5e384f1b-68da-4482-b5be-c6c89eb3a527\",\n",
      "    \"join_state\": \"None_\",\n",
      "    \"lease_end\": \"2021-05-29 17:51:23\",\n",
      "    \"reservation_id\": \"5cc30515-fb92-47c8-8efc-cda5bb330b14\",\n",
      "    \"reservation_state\": \"Unknown\",\n",
      "    \"resource_type\": \"VM\",\n",
      "    \"slice_id\": \"afc52ca7-16c8-4287-a133-6f28b9386343\"\n",
      "}]\n"
     ]
    }
   ],
   "source": [
    "status, slivers = slice_manager.slivers(slice_id=slice_id)\n",
    "\n",
    "print(\"Response Status {}\".format(status))\n",
    "print(\"Slivers {}\".format(reservations))"
   ]
  },
  {
   "cell_type": "code",
   "execution_count": 79,
   "id": "a38c11da-51cb-4a40-b3a8-0d9d7220af3c",
   "metadata": {},
   "outputs": [
    {
     "name": "stdout",
     "output_type": "stream",
     "text": [
      "Response Status Status.FAILURE\n",
      "Response received (400)\n",
      "Reason: BAD REQUEST\n",
      "HTTP response headers: HTTPHeaderDict({'Server': 'nginx/1.19.8', 'Date': 'Fri, 28 May 2021 18:13:48 GMT', 'Content-Type': 'application/json', 'Content-Length': '61', 'Connection': 'keep-alive'})\n",
      "HTTP response body: \"Slice# afc52ca7-16c8-4287-a133-6f28b9386343 already closed\"\n",
      "\n",
      "\n"
     ]
    }
   ],
   "source": [
    "status, result = slice_manager.delete(slice_id=slice_id)\n",
    "\n",
    "print(\"Response Status {}\".format(status))\n",
    "print(\"Response received {}\".format(result))"
   ]
  },
  {
   "cell_type": "code",
   "execution_count": null,
   "id": "e249c9f2-774d-4c90-a993-ab41b2933368",
   "metadata": {},
   "outputs": [],
   "source": []
  }
 ],
 "metadata": {
  "kernelspec": {
   "display_name": "Python 3",
   "language": "python",
   "name": "python3"
  },
  "language_info": {
   "codemirror_mode": {
    "name": "ipython",
    "version": 3
   },
   "file_extension": ".py",
   "mimetype": "text/x-python",
   "name": "python",
   "nbconvert_exporter": "python",
   "pygments_lexer": "ipython3",
   "version": "3.8.8"
  }
 },
 "nbformat": 4,
 "nbformat_minor": 5
}

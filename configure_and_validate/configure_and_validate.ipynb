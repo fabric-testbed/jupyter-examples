{
 "cells": [
  {
   "cell_type": "markdown",
   "id": "3745d3e5-6de8-45ec-afbf-638374fdedaf",
   "metadata": {},
   "source": [
    "# Setup configuration for Using Fabric Testbed via FABlib API\n",
    "\n",
    "The following notebook can be used to configure your Jupyter environment.  The product of running this notebook are the following:\n",
    "\n",
    "- `fabric_rc`:  File used to configure a FABlib application.  \n",
    "- `fabric_bastion_key`: Fabric Bastion key pair. In order to minimize security incidents on FABRIC, access to VMs and other resources administered by users is controlled using a bastion host. You will need to set up an ssh keypair that will be used to jump through the bastion host to your VMs and other resources. This keypair is unique to you and is only used to set up ssh proxy connections through the bastion host to your FABRIC resources. More information about how to access your experiment through the bastion host can be found [here](https://learn.fabric-testbed.net/knowledge-base/logging-into-fabric-vms/).\n",
    "- `slice_key` and `slice_key.pub`: Sliver Key pair.\n",
    "- `ssh_config`: File used to ssh from from a terminal to FABRIC VM by jumping through the FABRIC bastion host. "
   ]
  },
  {
   "cell_type": "markdown",
   "id": "efca2b2e-126c-4a56-81d5-45ef0d366aa1",
   "metadata": {},
   "source": [
    "## Set Project ID and generate the configuration\n",
    "\n",
    "Edit the following cell by entering your Project ID for the FABRIC Project to use in your Jupyter container.  \n",
    "\n",
    "- The Project ID can be from any of your projects. The ID can be found in the 'Basic Info' tab for each of the [projects](https://portal.fabric-testbed.net/experiments#projects) in the FABRIC portal."
   ]
  },
  {
   "cell_type": "code",
   "execution_count": null,
   "id": "69aa80a0-a2e0-4eb4-8c8a-23cb6c62cd52",
   "metadata": {},
   "outputs": [],
   "source": [
    "from fabrictestbed_extensions.fablib.fablib import FablibManager as fablib_manager\n",
    "\n",
    "# Update this line to specify your project id\n",
    "project_id = \"REPLACE_WITH_YOUR_PROJECT_ID\"\n",
    "\n",
    "# Uncomment the line below if using 'FABRIC Tutorials' Project\n",
    "#project_id=\"a7818636-1fa1-4e77-bb03-d171598b0862\"\n",
    "\n",
    "fablib = fablib_manager(project_id=project_id, validate_config=False)\n"
   ]
  },
  {
   "cell_type": "markdown",
   "id": "3dce313e-0780-4029-a50e-949d9bc5ed23",
   "metadata": {},
   "source": [
    "## Display the configuration"
   ]
  },
  {
   "cell_type": "code",
   "execution_count": null,
   "id": "45cf14f1-56b3-42fe-9478-c7c030dd2128",
   "metadata": {},
   "outputs": [],
   "source": [
    "fablib.show_config();"
   ]
  },
  {
   "cell_type": "markdown",
   "id": "f6baa932-cb76-41be-9d20-192644d63dd9",
   "metadata": {},
   "source": [
    "## Validate the configuration;\n",
    "- Checks the validity of the bastion keys and regenerates them if they are expired\n",
    "- Generates Sliver keys if they do not exist already"
   ]
  },
  {
   "cell_type": "code",
   "execution_count": null,
   "id": "dd09a88f-3d1a-4dad-a6d2-20fa36ab428a",
   "metadata": {},
   "outputs": [],
   "source": [
    "fablib.verify_and_configure()"
   ]
  },
  {
   "cell_type": "markdown",
   "id": "736cadce-ec85-4513-83aa-93f61f0b04c1",
   "metadata": {},
   "source": [
    "## Save the configuration for subsequent use"
   ]
  },
  {
   "cell_type": "code",
   "execution_count": null,
   "id": "e8d59d65-440a-47a9-bdd0-6427c7fcc8f2",
   "metadata": {},
   "outputs": [],
   "source": [
    "fablib.save_config()"
   ]
  },
  {
   "cell_type": "code",
   "execution_count": null,
   "id": "2b8c20bb-e51a-45be-a0a0-ea35f7f55059",
   "metadata": {},
   "outputs": [],
   "source": []
  }
 ],
 "metadata": {
  "kernelspec": {
   "display_name": "Python 3 (ipykernel)",
   "language": "python",
   "name": "python3"
  },
  "language_info": {
   "codemirror_mode": {
    "name": "ipython",
    "version": 3
   },
   "file_extension": ".py",
   "mimetype": "text/x-python",
   "name": "python",
   "nbconvert_exporter": "python",
   "pygments_lexer": "ipython3",
   "version": "3.10.6"
  }
 },
 "nbformat": 4,
 "nbformat_minor": 5
}
